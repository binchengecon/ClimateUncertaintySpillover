{
 "cells": [
  {
   "cell_type": "markdown",
   "id": "blank-hours",
   "metadata": {},
   "source": [
    "# 8 Uncertainty Decomposition\n",
    "\n",
    "This notebook presents compuations in section 8 of the paper.\n",
    "\n",
    "To check the previous section:\n",
    "\n",
    "[Section 7: Sensitivity](sec7_Sensitivity.ipynb)"
   ]
  }
 ],
 "metadata": {
  "kernelspec": {
   "display_name": "ry38",
   "language": "python",
   "name": "ry38"
  },
  "language_info": {
   "codemirror_mode": {
    "name": "ipython",
    "version": 3
   },
   "file_extension": ".py",
   "mimetype": "text/x-python",
   "name": "python",
   "nbconvert_exporter": "python",
   "pygments_lexer": "ipython3",
   "version": "3.8.7"
  }
 },
 "nbformat": 4,
 "nbformat_minor": 5
}
