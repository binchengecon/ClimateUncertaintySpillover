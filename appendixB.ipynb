version https://git-lfs.github.com/spec/v1
oid sha256:9859d16ced364ce1fdeed0ce31359c64c26d2034b4ba1cece6d5ebd0d2a49bcf
size 7649
