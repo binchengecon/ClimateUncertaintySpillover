{
 "cells": [
  {
   "cell_type": "markdown",
   "id": "threatened-sunset",
   "metadata": {},
   "source": [
    "# 7 Sensitivity \n",
    "\n",
    "This notebook presents computations in section 7 of th paper.\n",
    "\n",
    "To check the previous section:\n",
    "\n",
    "[Section 6: A climate component of a social planner's decision problem](sec6_DecisionProblem.ipynb)\n",
    "\n",
    "\n",
    "texts in section 7\n",
    "\n",
    "\n",
    "In this section, we focus on brownian misspecification and jump misspecification.\n",
    "Therefore, in the following analysis and computations, uncertainty parameter for ambiguity aversion, $\\xi_a$ is set to $\\infty$. \n",
    "\n",
    "## 7.1 Robust perspective"
   ]
  }
 ],
 "metadata": {
  "kernelspec": {
   "display_name": "ry38",
   "language": "python",
   "name": "ry38"
  },
  "language_info": {
   "codemirror_mode": {
    "name": "ipython",
    "version": 3
   },
   "file_extension": ".py",
   "mimetype": "text/x-python",
   "name": "python",
   "nbconvert_exporter": "python",
   "pygments_lexer": "ipython3",
   "version": "3.8.7"
  }
 },
 "nbformat": 4,
 "nbformat_minor": 5
}
