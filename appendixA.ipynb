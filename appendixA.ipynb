version https://git-lfs.github.com/spec/v1
oid sha256:5b52620d999b9b4826befbd6dee7091bca47c510a73ba8b1266df2ecd23beed8
size 4341
