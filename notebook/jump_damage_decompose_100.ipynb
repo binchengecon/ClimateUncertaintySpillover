{
 "cells": [
  {
   "cell_type": "markdown",
   "id": "steady-syracuse",
   "metadata": {},
   "source": [
    "<table style=\"float:left; border:none\">\n",
    "   <tr style=\"border:none\">\n",
    "       <td style=\"border:none\">\n",
    "           <a href=\"https://bokeh.org/\">     \n",
    "           </a>    \n",
    "       </td>\n",
    "       <td style=\"border:none\">\n",
    "           <h1>Uncertainty Spillover</h1>\n",
    "       </td>\n",
    "   </tr>\n",
    "</table>\n",
    "\n",
    "<div style=\"float:right;\"><h2>05. Jump damage</h2></div>"
   ]
  },
  {
   "cell_type": "code",
   "execution_count": 1,
   "id": "drawn-government",
   "metadata": {
    "code_folding": []
   },
   "outputs": [],
   "source": [
    "# packages\n",
    "import numpy as np\n",
    "import pandas as pd\n",
    "import os\n",
    "import sys\n",
    "sys.path.append(os.path.dirname(os.getcwd()) + '/source')\n",
    "import pickle\n",
    "from solver_1d import false_transient_one_iteration_python\n",
    "from supportfunctions import PDESolver_2d, finiteDiff\n",
    "from numba import njit\n",
    "from scipy.sparse import csc_matrix\n",
    "from scipy.sparse.linalg import bicg\n",
    "from derivative import derivatives_2d, derivative_1d\n",
    "import SolveLinSys\n",
    "import time\n",
    "from solver_ode import solve_ode, solve_ode_one\n",
    "from solver_jump import approach_one_100, solve_smooth_unreveal, generate_weight, solve_smooth_100\n",
    "from scipy import interpolate\n",
    "import matplotlib.pyplot as plt\n",
    "import matplotlib as mpl\n",
    "mpl.rcParams['axes.spines.right'] = False\n",
    "mpl.rcParams['axes.spines.top'] = False\n",
    "mpl.rcParams[\"lines.linewidth\"] = 2.5\n",
    "mpl.rcParams[\"legend.frameon\"] = False"
   ]
  },
  {
   "cell_type": "code",
   "execution_count": 3,
   "id": "embedded-providence",
   "metadata": {
    "code_folding": []
   },
   "outputs": [],
   "source": [
    "# parameters\n",
    "δ = 0.01\n",
    "η = 0.032\n",
    "μ = 1.86/1000\n",
    "θ_list = pd.read_csv(\"../data/model144.csv\", header=None)[0].to_numpy()\n",
    "θ_list = θ_list/1000\n",
    "σy = 1.2*μ\n",
    "ς = 0.1\n",
    "# damage function\n",
    "# ȳ = 1.9\n",
    "γ1 = 0.00017675\n",
    "γ2 = 2*0.0022\n",
    "# γ3_list = np.array([0, 2*0.0197, 2*0.3853])\n",
    "γ3_list = np.linspace(0,1/3, 40)\n",
    "# y grid\n",
    "numy_bar = 100\n",
    "y_min = 1e-10\n",
    "y_max = 4\n",
    "# hy = (ȳ - y_min)/numy_bar\n",
    "hy=0.02\n",
    "y_grid = np.arange(y_min, y_max+hy, hy)"
   ]
  },
  {
   "cell_type": "code",
   "execution_count": 4,
   "id": "polyphonic-ecuador",
   "metadata": {
    "code_folding": []
   },
   "outputs": [],
   "source": [
    "# capital parameters\n",
    "invkap = 0.09\n",
    "α = 0.115\n",
    "αₖ = - 0.043\n",
    "σₖ = 0.0085\n",
    "κ = 6.667\n",
    "k0 = 80/α"
   ]
  },
  {
   "cell_type": "code",
   "execution_count": 5,
   "id": "optical-brief",
   "metadata": {},
   "outputs": [],
   "source": [
    "n_temp = 16\n",
    "n_carb = 9\n",
    "n_θ = len(θ_list)\n",
    "θ_mat = θ_list.reshape(n_temp, n_carb)\n",
    "θtemp_list = np.average(θ_mat, axis=1)\n",
    "θcarb_list = np.average(θ_mat, axis=0)"
   ]
  },
  {
   "cell_type": "markdown",
   "id": "fatty-brain",
   "metadata": {},
   "source": [
    "# Jump model of damages\n",
    "Intensity function:\n",
    "$$\n",
    "\\mathcal{I}(y) = \\begin{cases}\n",
    "(\\frac{1}{\\sqrt{2\\pi} \\varsigma})\\exp\\left[- \\frac{(y - \\bar y)^2}{2\\varsigma^2}\\right], \\quad y \\leqslant \\bar y\\\\\n",
    "(\\frac{1}{\\sqrt{2\\pi}\\varsigma}), \\quad y > \\bar y\n",
    "\\end{cases}\n",
    "$$\n",
    "\n",
    "HJB\n",
    "$$\n",
    "\\begin{aligned}\n",
    "0 = \\max_{\\tilde e} \\min_{\\pi^d} &- \\delta \\phi(y) + \\eta \\log\\tilde e \\\\\n",
    "    & +  \\frac{d\\phi}{dy}\\sum_i \\pi_i^a\\theta_i \\tilde e  + \\frac{1}{2} \\frac{d^2 \\phi}{dy^2}(\\tilde e)^2 |\\sigma_y|^2 + \\frac{1}{2} \\frac{(\\eta - 1)}{\\delta} \\gamma_2 (\\tilde e)^2 |\\sigma_y|^2\\\\\n",
    "& + \\frac{(\\eta -1)}{\\delta}(\\gamma_1 + \\gamma_2 y) \\tilde e \\sum_i \\pi_i^a\\theta_i + \\mathcal{I}(y)\\sum_j \\pi^d_j \\left[\\phi_j(y) - \\phi(y) \\right] \\\\\n",
    "&  + \\textbf{relative entropy}\n",
    "\\end{aligned}\n",
    "$$\n",
    "## Approach one:\n",
    "$$\n",
    "\\begin{aligned}\n",
    "0 = \\max_{\\tilde e} \\min_{g_j} &- \\delta \\phi(y) +  \\eta \\log\\tilde e + \\frac{1}{2} \\frac{d^2 \\phi}{dy^2}(\\tilde e)^2 |\\sigma_y|^2  + \\frac{\\xi_m}{2} h'h\\\\\n",
    "& + [ \\frac{d\\phi}{dy}    + \\frac{(\\eta -1)}{\\delta}(\\gamma_1 + \\gamma_2 y)]\\cdot \\tilde e \\sigma_y h +\\frac{1}{2}\\frac{ (\\eta - 1)}{\\delta} \\gamma_2 (\\tilde e)^2 |\\sigma_y|^2\\\\\n",
    "& + \\sum_i \\pi_i^c \\frac{d\\phi}{dy} \\theta_i \\tilde e  + \\sum_i \\pi_i^c \\frac{(\\eta -1)}{\\delta}(\\gamma_1 + \\gamma_2 y) \\tilde e \\theta_i + \\xi_a \\sum_i \\hat\\pi^c_i(\\log \\pi^c_i - \\log \\hat\\pi^c_i)\\\\\n",
    "&  + \\mathcal{I}(y)\\sum_j\\hat\\pi_j^d g_j\\left[\\phi_j(y) - \\phi(y) \\right]  + \\xi_m \\mathcal{I}(y) \\sum_j \\hat\\pi_j^d [1 - g_j + g_j \\log g_j]\n",
    "\\end{aligned}\n",
    "$$\n",
    "The optimal $g_j$:\n",
    "$$\n",
    "g_j^* = \\exp\\{\\frac{1}{\\xi_m}\\left( \\phi(y) - \\phi_j(y)\\right)\\}\n",
    "$$\n",
    "Plug back in\n",
    "$$\n",
    "\\begin{aligned}\n",
    "0 = \\max_{\\tilde e} \\min_{g_j} &- \\delta \\phi(y) + \\eta \\log\\tilde e + \\frac{1}{2} \\frac{d^2 \\phi}{dy^2}(\\tilde e)^2 |\\sigma_y|^2 + \\frac{1}{2}\\frac{(\\eta -1)}{\\delta}\\gamma_2(\\tilde e)^2 |\\sigma_y|^2\\\\\n",
    "& + \\sum_i \\pi_i^c \\left[\\frac{d\\phi}{dy}  + \\frac{(\\eta -1)}{\\delta}(\\gamma_1 + \\gamma_2 y)\\right] \\tilde e \\theta_i + \\xi_a \\sum_i \\hat\\pi^c_i(\\log \\pi^c_i - \\log \\hat\\pi^c_i) \\\\\n",
    "&  +  \\xi_m \\mathcal{I}(y) \\sum_j \\hat\\pi_j^d [1 - g_j^* ]\n",
    "\\end{aligned}\n",
    "$$\n",
    "Intensity altered to be $\\iota^*(y) \\mathcal{I} (y)$ where:\n",
    "$$\n",
    "\\iota^*(y)  = \\sum_j \\hat\\pi_j g_j^* \n",
    "$$\n",
    "Distorted probability:\n",
    "$$\n",
    "\\pi^*_j  = \\frac{\\exp\\left(-\\frac{1}{\\xi_m} [\\phi_j(y) - \\phi(y)] \\right) \\hat\\pi_j}{\\iota^*(y)}\n",
    "$$"
   ]
  },
  {
   "cell_type": "code",
   "execution_count": 8,
   "id": "scientific-merit",
   "metadata": {
    "code_folding": []
   },
   "outputs": [],
   "source": [
    "def simulate_jump(y_grid, solu, ME,  θ_list, y_start=1, T=100, dt=1):\n",
    "    ems = solu[\"ems\"]\n",
    "    πᶜ = solu[\"πc\"]\n",
    "    πᵈ = solu[\"πd\"]\n",
    "    ι = solu[\"ι\"]\n",
    "    h = solu[\"h\"]\n",
    "    periods = int(T/dt)\n",
    "    et = np.zeros(periods)\n",
    "    yt = np.zeros(periods)\n",
    "    πᶜt = np.zeros((periods, len(θ_list)))\n",
    "    πᵈt = np.zeros((periods, len(πᵈ)))\n",
    "    ιt = np.zeros(periods)\n",
    "    ht = np.zeros(periods)\n",
    "    if ME is not None:\n",
    "        me_t = np.zeros(periods)\n",
    "    # interpolate\n",
    "    get_πᵈ = interpolate.interp1d(y_grid, πᵈ)\n",
    "    get_πᶜ = interpolate.interp1d(y_grid, πᶜ)\n",
    "#     y = np.mean(θ_list)*290\n",
    "    y = y_start\n",
    "    for t in range(periods):\n",
    "        if y > np.max(y_grid):\n",
    "            break\n",
    "        else:\n",
    "            ems_point = np.interp(y, y_grid, ems)\n",
    "            πᵈ_list = get_πᵈ(y)\n",
    "            πᶜ_list = get_πᶜ(y)\n",
    "            ι_point = np.interp(y, y_grid, ι)\n",
    "            h_point = np.interp(y, y_grid, h)\n",
    "            if ME is not None:\n",
    "                me_point = np.interp(y, y_grid, ME)\n",
    "                me_t[t] = me_point\n",
    "            et[t] = ems_point\n",
    "            πᵈt[t] = πᵈ_list\n",
    "            πᶜt[t] = πᶜ_list\n",
    "            ιt[t] = ι_point\n",
    "            ht[t] = h_point\n",
    "            yt[t] = y\n",
    "            dy = ems_point*np.mean(θ_list)*dt\n",
    "            y = dy + y\n",
    "    if ME is not None:\n",
    "        return yt, et, πᵈt, πᶜt, ιt, ht, me_t\n",
    "    else:\n",
    "        return yt, et, πᵈt, πᶜt, ιt, ht"
   ]
  },
  {
   "cell_type": "code",
   "execution_count": 75,
   "id": "quality-pound",
   "metadata": {
    "code_folding": []
   },
   "outputs": [],
   "source": [
    "def simulate_jump_tilt(y_grid, solu, ME,  θ_list, y_start=1, T=100, dt=1):\n",
    "    ems = solu[\"ems\"]\n",
    "    πᶜ = solu[\"πc\"]\n",
    "    πᵈ = solu[\"πd\"]\n",
    "    ι = solu[\"ι\"]\n",
    "    h = solu[\"h\"]\n",
    "    periods = int(T/dt)\n",
    "    et = np.zeros(periods)\n",
    "    yt = np.zeros(periods)\n",
    "    πᶜt = np.zeros((periods, len(θ_list)))\n",
    "    πᵈt = np.zeros((periods, len(πᵈ)))\n",
    "    ιt = np.zeros(periods)\n",
    "    ht = np.zeros(periods)\n",
    "    if ME is not None:\n",
    "        me_t = np.zeros(periods)\n",
    "    # interpolate\n",
    "    get_πᵈ = interpolate.interp1d(y_grid, πᵈ)\n",
    "    get_πᶜ = interpolate.interp1d(y_grid, πᶜ)\n",
    "#     y = np.mean(θ_list)*290\n",
    "    y = y_start\n",
    "    for t in range(periods):\n",
    "        if y > np.max(y_grid):\n",
    "            break\n",
    "        else:\n",
    "            ems_point = np.interp(y, y_grid, ems)\n",
    "            πᵈ_list = get_πᵈ(y)\n",
    "            πᶜ_list = get_πᶜ(y)\n",
    "            ι_point = np.interp(y, y_grid, ι)\n",
    "            h_point = np.interp(y, y_grid, h)\n",
    "            if ME is not None:\n",
    "                me_point = np.interp(y, y_grid, ME)\n",
    "                me_t[t] = me_point\n",
    "            et[t] = ems_point\n",
    "            πᵈt[t] = πᵈ_list\n",
    "            πᶜt[t] = πᶜ_list\n",
    "            ιt[t] = ι_point\n",
    "            ht[t] = h_point\n",
    "            yt[t] = y\n",
    "            dy = ems_point*(θ_list@π)*dt\n",
    "            y = dy + y\n",
    "    if ME is not None:\n",
    "        return yt, et, πᵈt, πᶜt, ιt, ht, me_t\n",
    "    else:\n",
    "        return yt, et, πᵈt, πᶜt, ιt, ht"
   ]
  },
  {
   "cell_type": "code",
   "execution_count": 76,
   "id": "korean-dover",
   "metadata": {
    "code_folding": []
   },
   "outputs": [],
   "source": [
    "def plot_solu(ht, πᵈt, ϕ_list, solu, args):\n",
    "    ϕ = solu['φ']\n",
    "    ξa, ξw, ξp, numy_bar, dmg_weight = args\n",
    "    fig, (ax1, ax2, ax3) = plt.subplots(1,3, figsize=(18,4))\n",
    "    fig.suptitle(r'$\\xi_a = {}, \\quad  \\xi_w =1/{}, \\quad \\xi_p = 1/{} $'.format(ξa, int(1/ξw), int(1/ξp)))\n",
    "    ax1.plot(ht)\n",
    "    ax1.set_ylim(bottom=0, top=0.3)\n",
    "    ax1.set_xlim(left=0)\n",
    "    ax1.set_xlabel('years')\n",
    "    ax1.set_ylabel('h')\n",
    "    if np.count_nonzero(dmg_weight) > 2:\n",
    "        ax2.plot(πᵈt[:,-1][πᵈt[:,-1]>0], label=\"extreme damage\")\n",
    "    ax2.plot(πᵈt[:,1][πᵈt[:,1]>0], label=\"high damage\")\n",
    "    ax2.plot(πᵈt[:,0][πᵈt[:,0]>0], label=\"low damage\")\n",
    "    # ax2.plot(πᵈt[:,2], label=\"extreme\")\n",
    "    ax2.set_ylim(bottom=0, top=1)\n",
    "    ax2.set_xlim(left=0)\n",
    "    ax2.legend()\n",
    "    ax2.set_xlabel('years')\n",
    "    ax2.set_ylabel('πᵈ')\n",
    "    # plot 3\n",
    "    ϕ_bound = np.average(np.exp(-1/ξp*ϕ_list), axis=0, weights=dmg_weight)\n",
    "    ϕ_bound = -ξp*np.log(ϕ_bound)\n",
    "    ax3.plot(y_grid[:numy_bar+1], ϕ, label='prior to jump')\n",
    "    ax3.plot(y_grid[numy_bar:], ϕ_list[0][numy_bar:], linestyle=\"--\", color=\"black\", label=\"post jump, low damage\")\n",
    "    ax3.plot(y_grid[numy_bar:], ϕ_bound[numy_bar:], label=\"post jump, certainty equivalent\")\n",
    "    ax3.plot(y_grid[numy_bar:], ϕ_list[1][numy_bar:], linestyle=\"-.\", color=\"black\", label=\"post jump, high damage\")\n",
    "    if np.count_nonzero(dmg_weight) > 2:\n",
    "        ax3.plot(y_grid[numy_bar:], ϕ_list[-1][numy_bar:], linestyle=\":\", color=\"black\", label=\"post jump, extreme damage\")\n",
    "    ax3.vlines(x=2, ymin=-11, ymax=5, linestyle=\"dashed\", color=\"black\")\n",
    "    # ax3.xlim(0,4)\n",
    "    # ax3.ylim(-0.02, 0.05)\n",
    "    ax3.set_ylabel('$\\phi$')\n",
    "    ax3.set_xlabel('y')\n",
    "    ax3.set_xlim(left=0)\n",
    "    ax3.legend()\n",
    "    # ax3.set_title(r'$\\xi_a = 1,000, \\quad  \\xi_w =1/400, \\quad \\xi_p = 1/400 \\times 5 $')\n",
    "    # plt.savefig(\"phi_x1.pdf\", facecolor=\"w\", edgecolor='w', bbox_inches=\"tight\") "
   ]
  },
  {
   "cell_type": "code",
   "execution_count": 12,
   "id": "comprehensive-pulse",
   "metadata": {
    "scrolled": true
   },
   "outputs": [
    {
     "name": "stdout",
     "output_type": "stream",
     "text": [
      "episode: 1446,\t ode error: 4.766030818886824e-05,\t ft error: 9.928482036514197e-09\n",
      "episode: 1272,\t ode error: 7.915105440386289e-05,\t ft error: 9.966588443433011e-09\n",
      "episode: 1457,\t ode error: 0.00018429095293008568,\t ft error: 9.909177145495107e-09\n",
      "episode: 1490,\t ode error: 0.00019815335997144107,\t ft error: 9.992025207239408e-09\n",
      "episode: 1509,\t ode error: 0.00021796625178196333,\t ft error: 9.957859425924198e-09\n",
      "episode: 1522,\t ode error: 0.00024275610854227608,\t ft error: 9.957604518717744e-09\n",
      "episode: 1532,\t ode error: 0.00026758571268117176,\t ft error: 9.907617393167811e-09\n",
      "episode: 1539,\t ode error: 0.0002889866753282566,\t ft error: 9.937338507626237e-09\n",
      "episode: 1545,\t ode error: 0.0003073799019349399,\t ft error: 9.92346516071052e-09\n",
      "episode: 1550,\t ode error: 0.00032309968574260883,\t ft error: 9.911278020524605e-09\n",
      "episode: 1554,\t ode error: 0.0003365312663378764,\t ft error: 9.928490918298394e-09\n",
      "episode: 1557,\t ode error: 0.00034811859972209286,\t ft error: 9.999014949357843e-09\n",
      "episode: 1561,\t ode error: 0.00035831249045891606,\t ft error: 9.937279443761327e-09\n",
      "episode: 1564,\t ode error: 0.00036751439933103286,\t ft error: 9.947242141095103e-09\n",
      "episode: 1567,\t ode error: 0.00037604543984846514,\t ft error: 9.93566739992957e-09\n",
      "episode: 1570,\t ode error: 0.00038414067186414574,\t ft error: 9.903638797936765e-09\n",
      "episode: 1572,\t ode error: 0.0003919601616648623,\t ft error: 9.95101334666515e-09\n",
      "episode: 1574,\t ode error: 0.00039960642304969624,\t ft error: 9.983370574673245e-09\n",
      "episode: 1577,\t ode error: 0.00040714109694583306,\t ft error: 9.902503705916388e-09\n",
      "episode: 1579,\t ode error: 0.0004145983940225702,\t ft error: 9.907012987753205e-09\n",
      "episode: 1580,\t ode error: 0.00042199552369978285,\t ft error: 9.99653693156688e-09\n",
      "episode: 1582,\t ode error: 0.00042933955316273864,\t ft error: 9.976550252588368e-09\n",
      "episode: 1584,\t ode error: 0.00043663148306823454,\t ft error: 9.94686555344515e-09\n",
      "episode: 1586,\t ode error: 0.00044386937514687835,\t ft error: 9.908164066985137e-09\n",
      "episode: 1587,\t ode error: 0.00045104988659532344,\t ft error: 9.9590407032224e-09\n",
      "episode: 1589,\t ode error: 0.00045816956937136735,\t ft error: 9.90456960892061e-09\n",
      "episode: 1590,\t ode error: 0.000465224846200922,\t ft error: 9.940976930522538e-09\n",
      "episode: 1591,\t ode error: 0.00047221284027223684,\t ft error: 9.971258485563794e-09\n",
      "episode: 1592,\t ode error: 0.0004791311547927696,\t ft error: 9.996274918933068e-09\n",
      "episode: 1594,\t ode error: 0.0004859780527755875,\t ft error: 9.917139109916207e-09\n",
      "episode: 1595,\t ode error: 0.0004927521042573067,\t ft error: 9.93158355555579e-09\n",
      "episode: 1596,\t ode error: 0.0004994526081024686,\t ft error: 9.94153648292695e-09\n",
      "episode: 1597,\t ode error: 0.000506079210738121,\t ft error: 9.946552914641416e-09\n",
      "episode: 1598,\t ode error: 0.0005126319189220803,\t ft error: 9.948230683676229e-09\n",
      "episode: 1599,\t ode error: 0.0005191110423915617,\t ft error: 9.946975687569193e-09\n",
      "episode: 1600,\t ode error: 0.0005255171397043033,\t ft error: 9.941578227312675e-09\n",
      "episode: 1601,\t ode error: 0.0005318509682366197,\t ft error: 9.932744404750338e-09\n",
      "episode: 1602,\t ode error: 0.0005381134447230186,\t ft error: 9.92133664112771e-09\n",
      "episode: 1603,\t ode error: 0.0005443056114256654,\t ft error: 9.90741177986365e-09\n",
      "episode: 1603,\t ode error: 0.0005504285281570098,\t ft error: 9.989069127414041e-09\n",
      "episode: 354,\t ode error: 0.000854102175814532,\t ft error: 9.781432552813385e-09\n",
      "episode: 256,\t ode error: 0.0006865214347334739,\t ft error: 9.408474355154794e-08\n",
      "episode: 2000,\t ode error: 5.60618093491394e-05,\t ft error: 3.5483877253383866e-05\n",
      "episode: 1293,\t ode error: 7.689880882911365e-05,\t ft error: 9.944924328486593e-09\n",
      "episode: 2000,\t ode error: 0.00021941683336784007,\t ft error: 2.440862686103884e-05\n",
      "episode: 2000,\t ode error: 0.0002369195787971165,\t ft error: 4.220074877814284e-05\n",
      "episode: 1508,\t ode error: 0.0002732768582078618,\t ft error: 9.965131164690888e-09\n",
      "episode: 1519,\t ode error: 0.00025078704105958166,\t ft error: 9.924018939955204e-09\n",
      "episode: 1528,\t ode error: 0.00027579385573620746,\t ft error: 9.999316930020541e-09\n",
      "episode: 1536,\t ode error: 0.00029778895990498905,\t ft error: 9.935541722683183e-09\n",
      "episode: 1542,\t ode error: 0.000317484096791866,\t ft error: 9.946100387736578e-09\n",
      "episode: 1547,\t ode error: 0.0003353755759866253,\t ft error: 9.958556201894453e-09\n",
      "episode: 1551,\t ode error: 0.0003518327115682174,\t ft error: 9.999951533501417e-09\n",
      "episode: 1555,\t ode error: 0.0003671400983893819,\t ft error: 9.987905613684234e-09\n",
      "episode: 1559,\t ode error: 0.00038151964635353003,\t ft error: 9.935348543876898e-09\n",
      "episode: 1562,\t ode error: 0.00039514431580277634,\t ft error: 9.947909163088298e-09\n",
      "episode: 1565,\t ode error: 0.0004081483694628775,\t ft error: 9.93317961217599e-09\n",
      "episode: 1567,\t ode error: 0.0004206351126860679,\t ft error: 9.993597949176092e-09\n",
      "episode: 1570,\t ode error: 0.00043268402074954707,\t ft error: 9.936405476196342e-09\n",
      "episode: 1572,\t ode error: 0.00044435571009524,\t ft error: 9.960351654569877e-09\n",
      "episode: 1574,\t ode error: 0.0004556969801562151,\t ft error: 9.969193470737991e-09\n",
      "episode: 1576,\t ode error: 0.00046674399853212367,\t ft error: 9.965007485845945e-09\n",
      "episode: 1578,\t ode error: 0.0004775250788466717,\t ft error: 9.94825821720724e-09\n",
      "episode: 1580,\t ode error: 0.0004880627120414163,\t ft error: 9.92284387990594e-09\n",
      "episode: 1581,\t ode error: 0.0004983749951650296,\t ft error: 9.985215321250962e-09\n",
      "episode: 1583,\t ode error: 0.0005084770636421161,\t ft error: 9.94067406168142e-09\n",
      "episode: 1584,\t ode error: 0.0005183813338472086,\t ft error: 9.99064297957375e-09\n",
      "episode: 1586,\t ode error: 0.0005280987362374749,\t ft error: 9.927798139131028e-09\n",
      "episode: 1587,\t ode error: 0.0005376385003353981,\t ft error: 9.96043070244923e-09\n",
      "episode: 1588,\t ode error: 0.0005480416036698459,\t ft error: 9.987288329682542e-09\n",
      "episode: 1590,\t ode error: 0.000558568481344307,\t ft error: 9.910380072142289e-09\n",
      "episode: 1591,\t ode error: 0.0005689050258525681,\t ft error: 9.926653277148034e-09\n",
      "episode: 1593,\t ode error: 0.000672236868958509,\t ft error: 9.96185001156391e-09\n",
      "episode: 1593,\t ode error: 0.0006792288700388088,\t ft error: 9.934137956690847e-09\n",
      "episode: 1593,\t ode error: 0.0006861095976345571,\t ft error: 9.986616866797249e-09\n",
      "episode: 1594,\t ode error: 0.0006928904054714184,\t ft error: 9.959396862768699e-09\n",
      "episode: 1595,\t ode error: 0.0006995804195778603,\t ft error: 9.93987470110369e-09\n",
      "episode: 1596,\t ode error: 0.0007061872071322355,\t ft error: 9.923483368368125e-09\n",
      "episode: 1597,\t ode error: 0.0007127170132995124,\t ft error: 9.906115039370889e-09\n",
      "episode: 1597,\t ode error: 0.0007199139375777784,\t ft error: 9.987343396744564e-09\n",
      "episode: 1598,\t ode error: 0.0007275558692242112,\t ft error: 9.968937675353118e-09\n",
      "episode: 1599,\t ode error: 0.0007351157629437999,\t ft error: 9.949386203800259e-09\n",
      "episode: 395,\t ode error: 0.0010030758587471558,\t ft error: 9.908210252262961e-09\n",
      "episode: 269,\t ode error: 0.0008753432979446939,\t ft error: 9.918840238043458e-08\n"
     ]
    }
   ],
   "source": [
    "ξa = 0.01\n",
    "ξw = 100_000\n",
    "ξp = 2\n",
    "dmg_weight = np.ones(len(γ3_list))/len(γ3_list)\n",
    "\n",
    "solu_dict = dict()\n",
    "simul_dict = dict()\n",
    "for y_bar in [1.6, 1.9]:\n",
    "    numy_bar = 100\n",
    "    y_min = 0\n",
    "    y_max = 4\n",
    "    hy = (y_bar - y_min)/(numy_bar-1)\n",
    "    y_grid = np.arange(y_min, y_max+hy, hy)\n",
    "    args = (δ, η, θ_list, γ1, γ2, γ3_list, y_bar, dmg_weight, ς, ξp, ξa, ξw, σy)\n",
    "    solu, ϕ_list, π_list = approach_one_100(y_grid, numy_bar, args, report_π=True, ϵ=1, max_iter=2000)\n",
    "    ems_star = solu['ems']\n",
    "    me,  ratio = solve_baseline(y_grid, numy_bar, ems_star, solu, ϕ_list, args)\n",
    "    simul = simulate_jump(y_grid[:numy_bar+1], solu, me, θ_list,y_start=1.1)\n",
    "    solu_dict[y_bar] = solu\n",
    "    simul_dict[y_bar] = simul"
   ]
  },
  {
   "cell_type": "code",
   "execution_count": 13,
   "id": "desperate-cabin",
   "metadata": {},
   "outputs": [
    {
     "data": {
      "text/plain": [
       "Text(0.5, 1.0, '$N_t$')"
      ]
     },
     "execution_count": 13,
     "metadata": {},
     "output_type": "execute_result"
    },
    {
     "data": {
      "image/png": "[encoded data removed]",
      "text/plain": [
       "<Figure size 864x288 with 2 Axes>"
      ]
     },
     "metadata": {
      "needs_background": "light"
     },
     "output_type": "display_data"
    }
   ],
   "source": [
    "plt.figure(figsize=(12,4))\n",
    "plt.subplot(121)\n",
    "for y_bar in [1.9, 1.6]:\n",
    "    et = simul_dict[y_bar][1]\n",
    "    plt.plot(et, label=\"{}\".format(y_bar))\n",
    "    \n",
    "plt.xlim(0, 80)\n",
    "plt.xlabel(\"Years\")\n",
    "plt.legend()\n",
    "plt.title(\"$Emission$\")\n",
    "\n",
    "plt.subplot(122)\n",
    "for y_bar in [1.9, 1.6]:\n",
    "    yt = simul_dict[y_bar][0]\n",
    "    logNt = γ1*yt + γ2/2*yt**2\n",
    "    plt.plot(np.exp(logNt), label=\"{}\".format(y_bar))\n",
    "    \n",
    "plt.xlim(0, 80)\n",
    "plt.xlabel(\"Years\")\n",
    "plt.legend()\n",
    "plt.title(\"$N_t$\")"
   ]
  },
  {
   "cell_type": "code",
   "execution_count": null,
   "id": "greatest-democrat",
   "metadata": {},
   "outputs": [],
   "source": [
    "for y_bar in [1.6, 1.9]:\n",
    "    numy_bar = 100\n",
    "    y_min = 0\n",
    "    y_max = 4\n",
    "    hy = (y_bar - y_min)/(numy_bar-1)\n",
    "    y_grid = np.arange(y_min, y_max+hy, hy)\n",
    "    args = (δ, η, θ_list, γ1, γ2, γ3_list, y_bar, dmg_weight, ς, ξp, ξa, ξw, σy)\n",
    "    solu, ϕ_list, π_list = approach_one_100(y_grid, numy_bar, args, report_π=True)\n",
    "    ems_star = solu['ems']\n",
    "    me,  ratio = solve_baseline(y_grid, numy_bar, ems_star, solu, ϕ_list, args)\n",
    "    yt, et, πᵈt, πᶜt, ιt, ht, me_t = simulate_jump(y_grid[:numy_bar+1], solu, me, θ_list,y_start=1.1)\n",
    "    solu_dict[y_bar] = solu\n",
    "    ems_dict[y_bar] = et\n",
    "    y_dict[y_bar] = yt\n",
    "    me_dict[y_bar] = me_t\n",
    "    πd_dict[y_bar] = πᵈt"
   ]
  },
  {
   "cell_type": "code",
   "execution_count": 14,
   "id": "oriental-modem",
   "metadata": {},
   "outputs": [
    {
     "ename": "NameError",
     "evalue": "name 'ems_dict' is not defined",
     "output_type": "error",
     "traceback": [
      "\u001b[0;31m---------------------------------------------------------------------------\u001b[0m",
      "\u001b[0;31mNameError\u001b[0m                                 Traceback (most recent call last)",
      "\u001b[0;32m<ipython-input-14-11401b277db8>\u001b[0m in \u001b[0;36m<module>\u001b[0;34m\u001b[0m\n\u001b[0;32m----> 1\u001b[0;31m \u001b[0mplt\u001b[0m\u001b[0;34m.\u001b[0m\u001b[0mplot\u001b[0m\u001b[0;34m(\u001b[0m\u001b[0mems_dict\u001b[0m\u001b[0;34m[\u001b[0m\u001b[0;36m1.9\u001b[0m\u001b[0;34m]\u001b[0m\u001b[0;34m,\u001b[0m \u001b[0mlabel\u001b[0m\u001b[0;34m=\u001b[0m\u001b[0;34m\"ȳ = 1.9\"\u001b[0m\u001b[0;34m)\u001b[0m\u001b[0;34m\u001b[0m\u001b[0;34m\u001b[0m\u001b[0m\n\u001b[0m\u001b[1;32m      2\u001b[0m \u001b[0mplt\u001b[0m\u001b[0;34m.\u001b[0m\u001b[0mplot\u001b[0m\u001b[0;34m(\u001b[0m\u001b[0mems_dict\u001b[0m\u001b[0;34m[\u001b[0m\u001b[0;36m1.6\u001b[0m\u001b[0;34m]\u001b[0m\u001b[0;34m,\u001b[0m \u001b[0mlabel\u001b[0m\u001b[0;34m=\u001b[0m\u001b[0;34m\"ȳ = 1.6\"\u001b[0m\u001b[0;34m)\u001b[0m\u001b[0;34m\u001b[0m\u001b[0;34m\u001b[0m\u001b[0m\n\u001b[1;32m      3\u001b[0m \u001b[0;31m# plt.plot(ems_dict[2], label=\"ȳ = 2\")\u001b[0m\u001b[0;34m\u001b[0m\u001b[0;34m\u001b[0m\u001b[0;34m\u001b[0m\u001b[0m\n\u001b[1;32m      4\u001b[0m \u001b[0mplt\u001b[0m\u001b[0;34m.\u001b[0m\u001b[0mxlim\u001b[0m\u001b[0;34m(\u001b[0m\u001b[0;36m0\u001b[0m\u001b[0;34m,\u001b[0m \u001b[0;36m70\u001b[0m\u001b[0;34m)\u001b[0m\u001b[0;34m\u001b[0m\u001b[0;34m\u001b[0m\u001b[0m\n\u001b[1;32m      5\u001b[0m \u001b[0mplt\u001b[0m\u001b[0;34m.\u001b[0m\u001b[0mlegend\u001b[0m\u001b[0;34m(\u001b[0m\u001b[0;34m)\u001b[0m\u001b[0;34m\u001b[0m\u001b[0;34m\u001b[0m\u001b[0m\n",
      "\u001b[0;31mNameError\u001b[0m: name 'ems_dict' is not defined"
     ]
    }
   ],
   "source": [
    "plt.plot(simul_dict[1.9][1], label=\"ȳ = 1.9\")\n",
    "plt.plot(ems_dict[1.6], label=\"ȳ = 1.6\")\n",
    "# plt.plot(ems_dict[2], label=\"ȳ = 2\")\n",
    "plt.xlim(0, 70)\n",
    "plt.legend()\n",
    "plt.xlabel(\"Years\")\n",
    "plt.title(\"Emission\")\n",
    "# plt.savefig(\"ems_1_6_1_9.png\", facecolor='w', edgecolor='w', dpi=400)"
   ]
  },
  {
   "cell_type": "code",
   "execution_count": 15,
   "id": "civic-offense",
   "metadata": {
    "scrolled": true
   },
   "outputs": [
    {
     "data": {
      "text/plain": [
       "0.16239316239316237"
      ]
     },
     "execution_count": 15,
     "metadata": {},
     "output_type": "execute_result"
    }
   ],
   "source": [
    "γ3_list[19]"
   ]
  },
  {
   "cell_type": "code",
   "execution_count": 148,
   "id": "reflected-congo",
   "metadata": {},
   "outputs": [
    {
     "data": {
      "image/png": "[encoded data removed]",
      "text/plain": [
       "<Figure size 1152x360 with 2 Axes>"
      ]
     },
     "metadata": {},
     "output_type": "display_data"
    }
   ],
   "source": [
    "plt.subplots(figsize=(16,5))\n",
    "plt.subplot(121)\n",
    "plt.plot(πd_dict[1.6][:,-1], label=\"$\\gamma_3 = 0.33$\")\n",
    "plt.plot(πd_dict[1.6][:, 20-1], label=\"$\\gamma_3 = 0.16$\")\n",
    "plt.plot(πd_dict[1.6][:, 0], label=\"$\\gamma_3 = 0$\")\n",
    "\n",
    "# plt.plot(πd_dict[1.6], label=\"ȳ = 1.6\")\n",
    "# plt.plot(ems_dict[2], label=\"ȳ = 2\")\n",
    "plt.xlim(0, 70)\n",
    "plt.ylim(0, 0.04)\n",
    "plt.legend()\n",
    "plt.xlabel(\"Years\")\n",
    "plt.title(\"Distorted probabilities, ȳ = 1.6\")\n",
    "\n",
    "plt.subplot(122)\n",
    "\n",
    "\n",
    "plt.plot(πd_dict[1.9][:,-1], label=\"$\\gamma_3 = 0.33$\")\n",
    "plt.plot(πd_dict[1.9][:, 20-1], label=\"$\\gamma_3 = 0.16$\")\n",
    "plt.plot(πd_dict[1.9][:, 0], label=\"$\\gamma_3 = 0$\")\n",
    "\n",
    "# plt.plot(πd_dict[1.6], label=\"ȳ = 1.6\")\n",
    "# plt.plot(ems_dict[2], label=\"ȳ = 2\")\n",
    "plt.xlim(0, 70)\n",
    "plt.ylim(0, 0.04)\n",
    "plt.legend(loc=2)\n",
    "plt.xlabel(\"Years\")\n",
    "plt.title(\"Distorted probabilities, ȳ = 1.9\")\n",
    "\n",
    "# plt.savefig(\"distorted_prob.png\", facecolor='w', edgecolor='w', dpi=400)"
   ]
  },
  {
   "cell_type": "code",
   "execution_count": 168,
   "id": "funky-hamilton",
   "metadata": {
    "scrolled": true
   },
   "outputs": [
    {
     "data": {
      "text/plain": [
       "array([0.01048975, 0.01325745, 0.01500245, 0.01634158, 0.01747257,\n",
       "       0.01843351, 0.019286  , 0.02003074, 0.0207295 , 0.0213758 ,\n",
       "       0.02197906, 0.02254239, 0.02303853, 0.02353652, 0.02400936,\n",
       "       0.02445975, 0.02488996, 0.02530193, 0.02569733, 0.02607764,\n",
       "       0.02644416, 0.02679802, 0.02714023, 0.02747167, 0.02779314,\n",
       "       0.02810532, 0.02840884, 0.02870424, 0.02899204, 0.02927267,\n",
       "       0.02954655, 0.02981404, 0.0300755 , 0.03033121, 0.03058149,\n",
       "       0.03082657, 0.03106672, 0.03130215, 0.03153308, 0.03184054])"
      ]
     },
     "execution_count": 168,
     "metadata": {},
     "output_type": "execute_result"
    }
   ],
   "source": [
    "πd_dict[1.6][70]"
   ]
  },
  {
   "cell_type": "code",
   "execution_count": 28,
   "id": "ordered-swiss",
   "metadata": {},
   "outputs": [
    {
     "data": {
      "text/plain": [
       "Text(0.5, 1.0, 'Distorted probabilities, ȳ = 1.9, year 70')"
      ]
     },
     "execution_count": 28,
     "metadata": {},
     "output_type": "execute_result"
    },
    {
     "data": {
      "image/png": "[encoded data removed]",
      "text/plain": [
       "<Figure size 1152x360 with 2 Axes>"
      ]
     },
     "metadata": {
      "needs_background": "light"
     },
     "output_type": "display_data"
    }
   ],
   "source": [
    "plt.subplots(figsize=(16,5))\n",
    "plt.subplot(121)\n",
    "plt.hist(γ3_list, weights=simul_dict[1.6][2][70], bins=20, ec=\"gray\", alpha=0.5)\n",
    "# plt.plot(πd_dict[1.6][:, 20-1], label=\"$\\gamma_3 = 0.16$\")\n",
    "# plt.plot(πd_dict[1.6][:, 0], label=\"$\\gamma_3 = 0$\")\n",
    "\n",
    "# plt.plot(πd_dict[1.6], label=\"ȳ = 1.6\")\n",
    "# plt.plot(ems_dict[2], label=\"ȳ = 2\")\n",
    "# plt.xlim(0, 70)\n",
    "# plt.ylim(0, 0.085)\n",
    "# plt.legend()\n",
    "plt.xlabel(\"$\\gamma_3$\")\n",
    "plt.title(\"Distorted probabilities, ȳ = 1.6, year 70\")\n",
    "\n",
    "plt.subplot(122)\n",
    "\n",
    "\n",
    "plt.hist(γ3_list, weights=simul_dict[1.9][2][70], bins=20, ec=\"gray\", alpha=0.5)\n",
    "# plt.plot(πd_dict[1.9][:, 20-1], label=\"$\\gamma_3 = 0.16$\")\n",
    "# plt.plot(πd_dict[1.9][:, 0], label=\"$\\gamma_3 = 0$\")\n",
    "\n",
    "# plt.plot(πd_dict[1.6], label=\"ȳ = 1.6\")\n",
    "# plt.plot(ems_dict[2], label=\"ȳ = 2\")\n",
    "# plt.xlim(0, 70)\n",
    "plt.ylim(0, 0.085)\n",
    "# plt.legend(loc=2)\n",
    "plt.xlabel(\"$\\gamma_3$\")\n",
    "plt.title(\"Distorted probabilities, ȳ = 1.9, year 70\")\n",
    "\n",
    "# plt.savefig(\"distorted_prob_hist.png\", facecolor='w', edgecolor='w', dpi=400)"
   ]
  },
  {
   "cell_type": "code",
   "execution_count": 175,
   "id": "burning-annotation",
   "metadata": {},
   "outputs": [
    {
     "data": {
      "text/plain": [
       "Text(0.5, 1.0, 'Emission')"
      ]
     },
     "execution_count": 175,
     "metadata": {},
     "output_type": "execute_result"
    },
    {
     "data": {
      "image/png": "[encoded data removed]",
      "text/plain": [
       "<Figure size 432x288 with 1 Axes>"
      ]
     },
     "metadata": {},
     "output_type": "display_data"
    }
   ],
   "source": [
    "logN1 = γ1*y_dict[1.9] + γ2/2*y_dict[1.9]**2\n",
    "logN2 = γ1*y_dict[1.6] + γ2/2*y_dict[1.6]**2\n",
    "\n",
    "plt.plot(np.exp(logN1), label=\"ȳ = 1.9\")\n",
    "plt.plot(np.exp(logN2), label=\"ȳ = 1.6\")\n",
    "# plt.plot(y_dict[1.6], label=\"ȳ = 2\")\n",
    "plt.xlim(0, 70)\n",
    "plt.legend()\n",
    "plt.xlabel(\"Years\")\n",
    "plt.title(\"Emission\")\n",
    "# plt.savefig(\"ems_1_6_1_9.png\", facecolor='w', edgecolor='w', dpi=400)"
   ]
  },
  {
   "cell_type": "code",
   "execution_count": 37,
   "id": "optical-cassette",
   "metadata": {},
   "outputs": [
    {
     "data": {
      "text/plain": [
       "[<matplotlib.lines.Line2D at 0x7f4840b01100>]"
      ]
     },
     "execution_count": 37,
     "metadata": {},
     "output_type": "execute_result"
    },
    {
     "data": {
      "image/png": "[encoded data removed]",
      "text/plain": [
       "<Figure size 432x288 with 1 Axes>"
      ]
     },
     "metadata": {
      "needs_background": "light"
     },
     "output_type": "display_data"
    }
   ],
   "source": [
    "plt.plot(et)"
   ]
  },
  {
   "cell_type": "code",
   "execution_count": 50,
   "id": "acquired-median",
   "metadata": {},
   "outputs": [
    {
     "data": {
      "text/plain": [
       "877.3525703416739"
      ]
     },
     "execution_count": 50,
     "metadata": {},
     "output_type": "execute_result"
    }
   ],
   "source": [
    "scc[70]"
   ]
  },
  {
   "cell_type": "code",
   "execution_count": 51,
   "id": "scheduled-boulder",
   "metadata": {
    "code_folding": []
   },
   "outputs": [
    {
     "data": {
      "text/plain": [
       "<matplotlib.legend.Legend at 0x7f483ea56790>"
      ]
     },
     "execution_count": 51,
     "metadata": {},
     "output_type": "execute_result"
    },
    {
     "data": {
      "image/png": "[encoded data removed]",
      "text/plain": [
       "<Figure size 576x360 with 1 Axes>"
      ]
     },
     "metadata": {
      "needs_background": "light"
     },
     "output_type": "display_data"
    }
   ],
   "source": [
    "# 1.9\n",
    "logkt = simulate_logkapital(invkap, αₖ,  σₖ, κ, k0,)\n",
    "MCt = (1 - η)/((α - invkap)*np.exp(logkt))\n",
    "\n",
    "et = simul_dict[1.6][1]\n",
    "me = simul_dict[1.6][-1]\n",
    "fig = plt.figure(figsize=(8,5))\n",
    "scc = η/et[et > 0]/MCt[et>0]*1000\n",
    "scc0 = me[et>0]/MCt[et>0]*1000 \n",
    "plt.plot(scc, color=\"rebeccapurple\", label=\"Total\")\n",
    "\n",
    "plt.plot(scc -scc0, color=\"rebeccapurple\", linestyle=\"dashed\", label=\"Uncertainty\")\n",
    "plt.fill_between(np.arange(0, len(et[et>0])), np.zeros_like(scc), \n",
    "                 scc-scc0, color='rebeccapurple', alpha=.4)\n",
    "plt.xlim(0,70)\n",
    "plt.ylim(0,900)\n",
    "plt.xlabel(\"Years\")\n",
    "plt.ylabel(\"SCC ($/tC)\")\n",
    "plt.legend(loc=2)\n",
    "# plt.savefig(\"../figures/20_damages/scc_1_6.pdf\", dpi=500)"
   ]
  },
  {
   "cell_type": "code",
   "execution_count": 45,
   "id": "successful-accommodation",
   "metadata": {
    "scrolled": false
   },
   "outputs": [
    {
     "data": {
      "text/plain": [
       "array([0.13400775, 0.13414922, 0.13426185, 0.13441591, 0.13452205,\n",
       "       0.13468656, 0.1347878 , 0.13496061, 0.13505871, 0.13523577,\n",
       "       0.13533455, 0.13551475, 0.13561529, 0.13579974, 0.13590109,\n",
       "       0.13608485, 0.13619232, 0.13637302, 0.1364896 , 0.13666479,\n",
       "       0.1367938 , 0.13696095, 0.13710609, 0.13726256, 0.13742796,\n",
       "       0.137571  , 0.13776123, 0.137888  , 0.13809792, 0.13821565,\n",
       "       0.13840674, 0.13855649, 0.13872568, 0.13891356, 0.13905761,\n",
       "       0.13928458, 0.13940591, 0.139605  , 0.13977457, 0.13994225,\n",
       "       0.14016828, 0.14030077, 0.14051668, 0.14068579, 0.14086344,\n",
       "       0.14110336, 0.14123857, 0.14145738, 0.14164881, 0.14182181,\n",
       "       0.14207774, 0.14222449, 0.14243112, 0.14267415, 0.1428265 ,\n",
       "       0.14306253, 0.14327364, 0.14345146, 0.1437126 , 0.14389776,\n",
       "       0.14409655, 0.14437839, 0.14454449, 0.14475958, 0.1450576 ,\n",
       "       0.14521249, 0.14543908, 0.14574855, 0.14590128, 0.14613429,\n",
       "       0.14645027, 0.14661119, 0.14684529, 0.14716256, 0.14734384,\n",
       "       0.14757356, 0.14788681, 0.14810322, 0.14832385, 0.14862849,\n",
       "       0.14889799, 0.14910694, 0.14940053, 0.14974245, 0.14993107,\n",
       "       0.15020511, 0.1505627 , 0.15075253, 0.15093284, 0.15119775,\n",
       "       0.15142361, 0.15133828, 0.1513386 , 0.15142278, 0.15141455,\n",
       "       0.15139993, 0.1514694 , 0.15162116, 0.15255753, 0.15358782])"
      ]
     },
     "execution_count": 45,
     "metadata": {},
     "output_type": "execute_result"
    }
   ],
   "source": [
    "(scc -scc0)/scc"
   ]
  },
  {
   "cell_type": "code",
   "execution_count": 111,
   "id": "pending-holiday",
   "metadata": {
    "code_folding": []
   },
   "outputs": [
    {
     "data": {
      "text/plain": [
       "<matplotlib.legend.Legend at 0x7fe12571c7f0>"
      ]
     },
     "execution_count": 111,
     "metadata": {},
     "output_type": "execute_result"
    },
    {
     "data": {
      "image/png": "[encoded data removed]",
      "text/plain": [
       "<Figure size 576x360 with 1 Axes>"
      ]
     },
     "metadata": {},
     "output_type": "display_data"
    }
   ],
   "source": [
    "# 2\n",
    "logkt = simulate_logkapital(invkap, αₖ,  σₖ, κ, k0,)\n",
    "MCt = (1 - η)/((α - invkap)*np.exp(logkt))\n",
    "\n",
    "\n",
    "fig = plt.figure(figsize=(8,5))\n",
    "scc = η/ems_dict[2][ems_dict[2] > 0]/MCt*1000\n",
    "scc0 = me_dict[2]/MCt*1000 \n",
    "plt.plot(scc, color=\"rebeccapurple\", label=\"Total\")\n",
    "\n",
    "plt.plot(scc -scc0, color=\"rebeccapurple\", linestyle=\"dashed\", label=\"Uncertainty\")\n",
    "plt.fill_between(np.arange(0, 100, 1), np.zeros_like(scc), \n",
    "                 scc-scc0, color='rebeccapurple', alpha=.4)\n",
    "plt.xlim(0,70)\n",
    "plt.ylim(0,900)\n",
    "plt.xlabel(\"Years\")\n",
    "plt.ylabel(\"SCC ($/tC)\")\n",
    "plt.legend(loc=2)\n",
    "# plt.savefig(\"scc_1_9.png\", dpi=500)"
   ]
  },
  {
   "cell_type": "code",
   "execution_count": 92,
   "id": "sufficient-listing",
   "metadata": {
    "code_folding": []
   },
   "outputs": [
    {
     "data": {
      "image/png": "[encoded data removed]",
      "text/plain": [
       "<Figure size 576x360 with 1 Axes>"
      ]
     },
     "metadata": {},
     "output_type": "display_data"
    }
   ],
   "source": [
    "logkt = simulate_logkapital(invkap, αₖ,  σₖ, κ, k0,)\n",
    "MCt = (1 - η)/((α - invkap)*np.exp(logkt))\n",
    "\n",
    "\n",
    "fig = plt.figure(figsize=(8,5))\n",
    "scc = η/ems_dict[1.6][ems_dict[1.6] > 0]/MCt[ems_dict[1.6] > 0]*1000\n",
    "scc0 = me_dict[1.6][ems_dict[1.6] > 0]/MCt[ems_dict[1.6] > 0]*1000 \n",
    "plt.plot(scc, color=\"rebeccapurple\", label=\"Total\")\n",
    "\n",
    "plt.plot(scc -scc0, color=\"rebeccapurple\", linestyle=\"dashed\", label=\"Uncertainty\")\n",
    "plt.fill_between(np.arange(0, len(scc)), np.zeros_like(scc), \n",
    "                 scc-scc0, color='rebeccapurple', alpha=.4)\n",
    "plt.xlim(0,70)\n",
    "plt.ylim(0, 900)\n",
    "plt.xlabel(\"Years\")\n",
    "plt.ylabel(\"SCC ($/tC)\")\n",
    "plt.legend(loc=2)\n",
    "# plt.savefig(\"scc_1_6.png\", dpi=500)"
   ]
  },
  {
   "cell_type": "code",
   "execution_count": 38,
   "id": "fallen-freeze",
   "metadata": {},
   "outputs": [
    {
     "data": {
      "text/plain": [
       "[<matplotlib.lines.Line2D at 0x7fe128123550>]"
      ]
     },
     "execution_count": 38,
     "metadata": {},
     "output_type": "execute_result"
    },
    {
     "data": {
      "image/png": "[encoded data removed]",
      "text/plain": [
       "<Figure size 432x288 with 1 Axes>"
      ]
     },
     "metadata": {
      "needs_background": "light"
     },
     "output_type": "display_data"
    }
   ],
   "source": [
    "plt.plot(yt)"
   ]
  },
  {
   "cell_type": "code",
   "execution_count": 10,
   "id": "developmental-morocco",
   "metadata": {},
   "outputs": [],
   "source": [
    "def solve_baseline(y_grid, numy_bar, ems_star, solu, ϕ_list, args, ϵ=1, tol=1e-7, max_iter=10_000):\n",
    "    \"\"\"\n",
    "    compute jump model with ambiguity over climate models\n",
    "    \"\"\"\n",
    "    δ, η, θ_list, γ1, γ2, γ3_list, ȳ, dmg_weight, ς, ξp, ξa, ξw, σy = args\n",
    "#     ems_star = solu['ems']\n",
    "    # solve for HJB with jump function\n",
    "    y_grid_cap = y_grid[:numy_bar+1]\n",
    "    dy = y_grid_cap[1] - y_grid_cap[0]\n",
    "    dΛ = γ1 + γ2*y_grid_cap\n",
    "    ddΛ = γ2\n",
    "    πᶜo = np.ones((len(θ_list), len(y_grid_cap)))/len(θ_list)\n",
    "    θ = θ_list@πᶜo \n",
    "    A = -δ*np.ones(y_grid_cap.shape)\n",
    "    B = θ*ems_star\n",
    "    C = σy**2*ems_star**2/2\n",
    "    D = η*np.log(ems_star) + (η-1)/δ*dΛ*ems_star*θ + (η-1)/δ*ddΛ*ems_star**2*σy**2/2\n",
    "    ϕ_bound = np.average(ϕ_list, axis=0, weights=dmg_weight)[:numy_bar+1]\n",
    "    ϕ = ϕ_bound\n",
    "    episode = 0\n",
    "    lhs_error = 1\n",
    "    while lhs_error > tol and episode < max_iter:\n",
    "        ϕ_old = ϕ.copy()\n",
    "        dϕdy = derivative_1d(ϕ, 1, dy, \"up\")\n",
    "        dϕdyy = derivative_1d(ϕ, 2, dy, \"up\")\n",
    "        # solver\n",
    "        ϕ_new = solve_ode(A, B, C, D, y_grid_cap, ϕ, ϵ, (True, ϕ_bound[numy_bar]))\n",
    "        rhs = -δ*ϕ_new + B*dϕdy + C*dϕdyy + D\n",
    "        rhs_error = np.max(abs(rhs))\n",
    "        lhs_error = np.max(abs((ϕ_new - ϕ_old)/ϵ))\n",
    "        ϕ = ϕ_new\n",
    "        episode += 1\n",
    "    print(\"episode: {},\\t ode error: {},\\t ft error: {}\".format(episode, rhs_error, lhs_error))\n",
    "\n",
    "#     dϕdy = derivative_1d(ϕ, 1, dy, \"center\")\n",
    "#     dϕdyy = derivative_1d(ϕ, 2, dy, \"center\")\n",
    "    \n",
    "    ME = -(dϕdy+(η-1)/δ*dΛ)*θ - (dϕdyy+(η-1)/δ*ddΛ)*σy**2*ems_star\n",
    "    ratio = ME/(η/ems_star)\n",
    "\n",
    "    return ME, ratio"
   ]
  },
  {
   "cell_type": "code",
   "execution_count": null,
   "id": "frank-stadium",
   "metadata": {},
   "outputs": [],
   "source": [
    "ems_star = solu_dict[1.6]"
   ]
  },
  {
   "cell_type": "code",
   "execution_count": null,
   "id": "bored-diagram",
   "metadata": {},
   "outputs": [],
   "source": [
    "y_bar = 1.9\n",
    "numy_bar = 100\n",
    "y_min = 1e-10\n",
    "y_max = 4\n",
    "hy = (y_bar - y_min)/numy_bar\n",
    "y_grid = np.arange(y_min, y_max+hy, hy)\n",
    "args = (δ, η, θ_list, γ1, γ2, γ3_list, y_bar, dmg_weight, ς, ξp, ξa, ξw, σy)\n",
    "solu, ϕ_list, π_list = approach_one_100(y_grid, numy_bar, args, report_π=True)\n",
    "yt, et, πᵈt, πᶜt, ιt, ht = simulate_jump(y_grid[:numy_bar+1], solu_dict[1.9], None, θ_list,y_start=1.1)"
   ]
  },
  {
   "cell_type": "code",
   "execution_count": null,
   "id": "anticipated-collaboration",
   "metadata": {},
   "outputs": [],
   "source": [
    "fig,ax3 = plt.subplots()\n",
    "ϕ = solu[\"φ\"]\n",
    "ϕ_bound = np.average(np.exp(-1/ξp*ϕ_list), axis=0, weights=dmg_weight)\n",
    "ϕ_bound = -ξp*np.log(ϕ_bound)\n",
    "ax3.plot(y_grid[:numy_bar+1], ϕ, label='prior to jump')\n",
    "ax3.plot(y_grid[numy_bar:], ϕ_list[0][numy_bar:], linestyle=\"--\", color=\"black\", label=\"post jump, low damage\")\n",
    "ax3.plot(y_grid[numy_bar:], ϕ_bound[numy_bar:], label=\"post jump, certainty equivalent\")\n",
    "ax3.plot(y_grid[numy_bar:], ϕ_list[1][numy_bar:], linestyle=\"-.\", color=\"black\", label=\"post jump, high damage\")\n",
    "if np.count_nonzero(dmg_weight) > 2:\n",
    "    ax3.plot(y_grid[numy_bar:], ϕ_list[-1][numy_bar:], linestyle=\":\", color=\"black\", label=\"post jump, extreme damage\")\n",
    "ax3.vlines(x=y_bar, ymin=-11, ymax=5, linestyle=\"dashed\", color=\"black\")\n",
    "# ax3.xlim(0,4)\n",
    "# ax3.ylim(-0.02, 0.05)\n",
    "ax3.set_ylabel('$\\phi(y)$')\n",
    "ax3.set_xlabel('y')\n",
    "ax3.set_xlim(left=0)\n",
    "ax3.legend(loc=(1,0.5))"
   ]
  },
  {
   "cell_type": "code",
   "execution_count": null,
   "id": "decent-halifax",
   "metadata": {},
   "outputs": [],
   "source": [
    "plt.plot(solu['πd'].T)\n",
    "plt.ylim(0,1)"
   ]
  },
  {
   "cell_type": "code",
   "execution_count": null,
   "id": "minus-norfolk",
   "metadata": {
    "code_folding": [
     0
    ]
   },
   "outputs": [],
   "source": [
    "# histogram 10, 50, 90\n",
    "from matplotlib.ticker import MaxNLocator\n",
    "fig,ax2 = plt.subplots(1, 1,figsize=(6,5))\n",
    "# ax1.hist(θ_list*1000, weights=πt_avg[10]*np.exp(-10*δ), density=True, bins=15, color='lightskyblue', ec=\"grey\", alpha=0.8)\n",
    "# ax1.set_xlabel('Climate sensitivity', fontsize=13)\n",
    "# ax1.set_ylabel('Distorted density (year 10)', fontsize=13)\n",
    "\n",
    "# ax1.hist(θ_list*1000, density=True, bins=15, color=\"salmon\", ec=\"grey\", alpha=0.6)\n",
    "# ax1.set_xlabel('Climate sensitivity', fontsize=13)\n",
    "# ax1.set_ylabel('Distorted density (year 10)', fontsize=13)\n",
    "bins = np.linspace(0, 3, 21)\n",
    "\n",
    "ax2.hist(θ_list*1000, bins=bins, color='tab:red', histtype='bar', ec='gray', alpha=.5, density=True)\n",
    "ax2.hist(θ_list*1000, weights=πᶜt[50]*np.exp(-δ*50), bins=bins, color='tab:blue', histtype='bar', ec='gray', alpha=.5, density=True)\n",
    "ax2.set_xlabel('Climate sensitivity', fontsize=13)\n",
    "ax2.set_ylabel('Density', fontsize=13)\n",
    "# ax2.set_title('Mean difference: {:.2f} '.format( (θ_list@πᶜt[50]-np.mean(θ_list) + σy*ht[50])*1000 ) )\n",
    "ax2.set_ylim(0,1.5)\n",
    "ax2.set_xticks(np.arange(0,3+0.5, 0.5))\n",
    "ax2.set_xlim(0.8, 3)\n",
    "# ax2.hist(θ_list*1000, weights=πᶜt[50]*np.exp(-50*δ), density=True, bins=np.linspace(1,3,14), color=\"tab:blue\", ec=\"grey\", alpha=0.5)\n",
    "# ax2.set_xlabel('Climate sensitivity', fontsize=13)\n",
    "# ax2.set_ylabel('Distorted density (year 50)', fontsize=13)\n",
    "# ax2.xaxis.set_major_locator(MaxNLocator(integer=True))\n",
    "# ax2.hist(θ_list*1000, density=True, bins=np.linspace(1,3,14), color=\"tab:red\", ec=\"grey\", alpha=0.5)\n",
    "# ax2.set_xlabel('Climate sensitivity', fontsize=13)\n",
    "# ax2.set_ylabel('Distorted density (year 50)', fontsize=13)\n",
    "\n",
    "\n",
    "\n",
    "# ax3.hist(θ_list*1000, weights=πt_avg[90]*np.exp(-90*δ), density=True, bins=15, color=\"lightskyblue\", ec=\"grey\", alpha=0.6)\n",
    "# ax3.set_xlabel('Climate sensitivity', fontsize=13)\n",
    "# ax3.set_ylabel('Distorted density (year 90)', fontsize=13)\n",
    "\n",
    "# ax3.hist(θ_list*1000, density=True, bins=15, color=\"salmon\", ec=\"grey\", alpha=0.6)\n",
    "# ax3.set_xlabel('Climate sensitivity', fontsize=13)\n",
    "# ax3.set_ylabel('Distorted density (year 90)', fontsize=13)\n",
    "\n",
    "# plt.savefig('./paper_plots/histogram_worstcase.pdf')"
   ]
  },
  {
   "cell_type": "code",
   "execution_count": null,
   "id": "appreciated-homeless",
   "metadata": {
    "code_folding": [
     0
    ]
   },
   "outputs": [],
   "source": [
    "# histogram θ_list\n",
    "fig,ax2 = plt.subplots(1, 1,figsize=(6,5))\n",
    "# ax1.hist(θ_list*1000, weights=πt_avg[10]*np.exp(-10*δ), density=True, bins=15, color='lightskyblue', ec=\"grey\", alpha=0.8)\n",
    "# ax1.set_xlabel('Climate sensitivity', fontsize=13)\n",
    "# ax1.set_ylabel('Distorted density (year 10)', fontsize=13)\n",
    "\n",
    "# ax1.hist(θ_list*1000, density=True, bins=15, color=\"salmon\", ec=\"grey\", alpha=0.6)\n",
    "# ax1.set_xlabel('Climate sensitivity', fontsize=13)\n",
    "# ax1.set_ylabel('Distorted density (year 10)', fontsize=13)\n",
    "bins = np.linspace(0, 3, 21)\n",
    "\n",
    "ax2.hist(θ_list*1000, bins=bins, color='tab:red', histtype='bar', ec='gray', alpha=.6, density=True)\n",
    "# ax2.hist(θ_list*1000, weights=πᶜt[50], bins=bins, color='tab:blue', histtype='bar', ec='darkgray', alpha=.5, density=True)\n",
    "ax2.set_xlabel('Climate sensitivity', fontsize=13)\n",
    "ax2.set_ylabel('Density', fontsize=13)\n",
    "# ax2.set_title('Mean difference: {:.2f} '.format( (θ_list@πᶜt[50]-np.mean(θ_list) + σy*ht[50])*1000 ) )\n",
    "ax2.set_ylim(0,1.5)\n",
    "ax2.set_xticks(np.arange(0,3+0.5, 0.5))\n",
    "ax2.set_xlim(0.8, 3)\n",
    "\n",
    "# plt.savefig('./paper_plots/histogram.pdf')"
   ]
  },
  {
   "cell_type": "code",
   "execution_count": 30,
   "id": "senior-cable",
   "metadata": {
    "code_folding": []
   },
   "outputs": [],
   "source": [
    "# simulate\n",
    "def simulate_logkapital(invkap, αₖ,  σₖ, κ, k0, T=100, dt=1):\n",
    "    periods = int(T/dt)\n",
    "    Kt = np.zeros(periods)\n",
    "    i = invkap\n",
    "     # log capital\n",
    "    Kt[0] = np.log(k0)\n",
    "    k = np.log(k0)\n",
    "    for t in range(periods-1):\n",
    "        k +=   (αₖ + i - κ/2*i**2 - .5*σₖ**2)*dt\n",
    "        Kt[t+1] = k\n",
    "    return Kt\n",
    "def simulate_scc(invkap, αₖ,  σₖ, κ, k0, MEt, T=100, dt=1):\n",
    "    Kt = simulate_logkapital(invkap, αₖ, σₖ, κ,  k0)\n",
    "    MCt = (1-η)/((α - invkap)*np.exp(Kt))\n",
    "    SCCt = MEt/MCt*1000\n",
    "    return SCCt"
   ]
  },
  {
   "cell_type": "code",
   "execution_count": null,
   "id": "concerned-flashing",
   "metadata": {},
   "outputs": [],
   "source": [
    "MEt = η/et\n",
    "SCCt = simulate_scc(invkap, αₖ,  σₖ, κ, k0, MEt)\n",
    "plt.plot(SCCt, label=\"ȳ = 1.9\")\n",
    "\n",
    "me_t = η/ems_dict[2]\n",
    "scc = simulate_scc(invkap, αₖ,  σₖ, κ, k0, me_t)\n",
    "plt.plot(scc, label='ȳ = 2')\n",
    "plt.legend(title='$Y_0 = 1.1$')"
   ]
  },
  {
   "cell_type": "code",
   "execution_count": null,
   "id": "patent-holocaust",
   "metadata": {},
   "outputs": [],
   "source": [
    "ξa = 1/10_000*100\n",
    "ξw = 1000*100\n",
    "ξp = 1/20*100\n",
    "args_unreveal = (δ, η, θ_list, σy, γ1, γ2, γ3_list, ȳ, ξa, ξw)\n",
    "ϕ_unreveal, ems_unreveal, π_unreveal = solve_smooth_unreveal(y_grid, args_unreveal, \n",
    "                                                             max_iter=5000, tol=1e-7, ϵ=2,)"
   ]
  },
  {
   "cell_type": "code",
   "execution_count": null,
   "id": "nasty-phase",
   "metadata": {
    "code_folding": []
   },
   "outputs": [],
   "source": [
    "def simulate_unreveal(y_grid, ems, π, me, θ_list, y_start=1, T=100, dt=1):\n",
    "    periods = int(T/dt)\n",
    "    et = np.zeros(periods)\n",
    "    yt = np.zeros(periods)\n",
    "    πt = np.zeros((periods, len(π)))\n",
    "    me_t = np.zeros(periods)\n",
    "    get_π = interpolate.interp1d(y_grid, π)\n",
    "#     y = np.mean(θ_list)*290\n",
    "    y = y_start\n",
    "    for t in range(periods):\n",
    "        if y > np.max(y_grid):\n",
    "            break\n",
    "        else:\n",
    "            ems_point = np.interp(y, y_grid, ems)\n",
    "            π_list = get_π(y)\n",
    "            if me is not None:\n",
    "                me_point = np.interp(y, y_grid, me)\n",
    "                me_t[t] = me_point\n",
    "            et[t] = ems_point\n",
    "            πt[t] = π_list\n",
    "            \n",
    "            yt[t] = y\n",
    "            dy = ems_point*np.mean(θ_list)*dt\n",
    "            y = dy + y\n",
    "    \n",
    "    return yt, et, πt, me_t"
   ]
  },
  {
   "cell_type": "code",
   "execution_count": null,
   "id": "falling-portsmouth",
   "metadata": {},
   "outputs": [],
   "source": [
    "logKt = simulate_logkapital(invkap, αₖ,  σₖ, κ, k0,)"
   ]
  },
  {
   "cell_type": "code",
   "execution_count": null,
   "id": "differential-credits",
   "metadata": {},
   "outputs": [],
   "source": [
    "yt_unreveal, et_unreveal, πt_unreveal, _ = simulate_unreveal(y_grid, ems_unreveal, π_unreveal, None, θ_list, T=200)"
   ]
  },
  {
   "cell_type": "code",
   "execution_count": null,
   "id": "rough-trustee",
   "metadata": {},
   "outputs": [],
   "source": [
    "plt.plot(et[et>0], label=\"with threshold\")\n",
    "plt.plot(et_unreveal[:100], label=\"without threshold\")\n",
    "plt.ylim(0,11)\n",
    "plt.legend(frameon=False)\n",
    "plt.xlabel(\"years\")\n",
    "plt.ylabel(\"Emission\")\n",
    "plt.title(\"Emission trajectories \\n $\\\\xi_a = 0.01, ξ_p = 5$ for with threshold\\n $ξ = 0.01$ for without threshold\")\n",
    "# plt.savefig(\"./paper_plots/ems_nojumpcompare.png\", dpi=500, facecolor=\"w\", edgecolor=\"w\", bbox_inches=\"tight\")"
   ]
  },
  {
   "cell_type": "code",
   "execution_count": null,
   "id": "joined-subsection",
   "metadata": {},
   "outputs": [],
   "source": [
    "plt.plot(yt[yt>0], label=\"with threshold\")\n",
    "plt.plot(yt_unreveal[yt_unreveal<=2], label=\"without threshold\")\n",
    "plt.ylim(0)\n",
    "plt.legend(frameon=False)\n",
    "plt.xlabel(\"years\")\n",
    "plt.ylabel(\"$y_t$\")\n",
    "plt.title(\"$Y_t$ trajectories \\n $\\\\xi_a = 0.01, ξ_p = 5$ for with threshold\\n $ξ = 0.01$ for without threshold\")\n",
    "# plt.savefig(\"./paper_plots/ems_nojumpcompare.png\", dpi=500, facecolor=\"w\", edgecolor=\"w\", bbox_inches=\"tight\")"
   ]
  },
  {
   "cell_type": "code",
   "execution_count": null,
   "id": "funny-level",
   "metadata": {},
   "outputs": [],
   "source": [
    "SCCt_unreveal = η*(α - invkap)*np.exp(logKt)/(1-η)/et_unreveal[:100]*1000\n",
    "plt.plot(SCCt, label=\"with threshold\")\n",
    "plt.plot(SCCt_unreveal, label=\"without threshold\")\n",
    "plt.ylim(0,1700)\n",
    "handles, labels = plt.gca().get_legend_handles_labels()\n",
    "order = [1,0]\n",
    "plt.legend([handles[idx] for idx in order],[labels[idx] for idx in order], frameon=False)\n",
    "# plt.legend(frameon=False)\n",
    "plt.xlabel(\"years\")\n",
    "plt.ylabel(\"SCC\")\n",
    "plt.title(\"SCC \\n $\\\\xi_a = 0.01, ξ_p = 5$ for with threshold\\n $ξ = 0.01$ for without threshold\")\n",
    "# plt.savefig(\"./paper_plots/scc_nojumpcompare.png\", dpi=500, facecolor=\"w\", edgecolor=\"w\", bbox_inches=\"tight\")"
   ]
  },
  {
   "cell_type": "code",
   "execution_count": null,
   "id": "light-convention",
   "metadata": {
    "scrolled": false
   },
   "outputs": [],
   "source": [
    "ξa = 1000*100\n",
    "ξw = 1000*100\n",
    "ξp = 1000*100\n",
    "dmg_weight = np.array([1/3, 1/3, 1/3])\n",
    "args = (δ, η, θ_list, γ1, γ2, γ3_list, ȳ, dmg_weight, ς, ξp, ξa, ξw, σy)\n",
    "solu, ϕ_list = approach_one_100(y_grid, numy_bar, args,)\n",
    "yt_base, et_base, πᵈt, πᶜt, ιt, ht = simulate_jump(y_grid[:numy_bar+1], solu, None, θ_list)"
   ]
  },
  {
   "cell_type": "code",
   "execution_count": null,
   "id": "honey-voltage",
   "metadata": {},
   "outputs": [],
   "source": [
    "plt.plot(et_base[et_base>0])"
   ]
  },
  {
   "cell_type": "code",
   "execution_count": null,
   "id": "progressive-secretary",
   "metadata": {},
   "outputs": [],
   "source": [
    "ξa = 1000*100\n",
    "args_unreveal = (δ, η, θ_list, σy, γ1, γ2, γ3_list, ȳ, ξa, ξw)\n",
    "ϕ_unreveal_base, ems_unreveal_base, π_unreveal_base = solve_smooth_unreveal(y_grid, args_unreveal, \n",
    "                                                             max_iter=5000, tol=1e-7, ϵ=2,)"
   ]
  },
  {
   "cell_type": "code",
   "execution_count": null,
   "id": "immediate-there",
   "metadata": {},
   "outputs": [],
   "source": [
    "yt_unreveal_base, et_unreveal_base, πt_unreveal_base, _ = simulate_unreveal(y_grid, ems_unreveal_base, π_unreveal_base, None, θ_list, T=200)"
   ]
  },
  {
   "cell_type": "code",
   "execution_count": null,
   "id": "passing-forge",
   "metadata": {
    "scrolled": false
   },
   "outputs": [],
   "source": [
    "plt.plot(et_base, label=\"with jump\")\n",
    "plt.plot(et_unreveal_base[:100], label=\"without jump\")\n",
    "plt.ylim(0,11)\n",
    "plt.legend(frameon=False)\n",
    "plt.xlabel(\"years\")\n",
    "plt.ylabel(\"Emission\")\n",
    "plt.title(\"Emission trajectories \\n $ξ_a = \\infty, ξ_p = \\infty$ for with jump\\n $ξ =\\infty$ for without jump\")\n",
    "# plt.savefig(\"./paper_plots/ems_nojumpcompare_base.png\", dpi=500, facecolor=\"w\", edgecolor=\"w\", bbox_inches=\"tight\")"
   ]
  },
  {
   "cell_type": "code",
   "execution_count": null,
   "id": "boxed-saver",
   "metadata": {},
   "outputs": [],
   "source": [
    "SCCt_base = η*(α - invkap)*np.exp(logKt)/(1-η)/et_base*1000\n",
    "SCCt_unreveal_base = η*(α - invkap)*np.exp(logKt)/(1-η)/et_unreveal_base[:100]*1000\n",
    "plt.plot(SCCt_base, label=\"with jump\")\n",
    "plt.plot(SCCt_unreveal_base, label=\"without jump\")\n",
    "plt.ylim(0,1400)\n",
    "handles, labels = plt.gca().get_legend_handles_labels()\n",
    "order = [1,0]\n",
    "plt.legend([handles[idx] for idx in order],[labels[idx] for idx in order], frameon=False)\n",
    "# plt.legend(frameon=False)\n",
    "plt.xlabel(\"years\")\n",
    "plt.ylabel(\"SCC\")\n",
    "plt.title(\"SCC \\n $ξ_a = \\infty, ξ_p = \\infty$ for with jump\\n $ξ = \\infty$ for without jump\")\n",
    "# plt.savefig(\"./paper_plots/scc_nojumpcompare_base.png\", dpi=500, facecolor=\"w\", edgecolor=\"w\", bbox_inches=\"tight\")"
   ]
  },
  {
   "cell_type": "code",
   "execution_count": null,
   "id": "placed-prague",
   "metadata": {},
   "outputs": [],
   "source": [
    "n_climate = len(θ_list)\n",
    "n_dmg = len(γ3_list)\n",
    "πc_dict = dict()\n",
    "for year in [10,50,90, -1]:\n",
    "    πc_dict[year] = np.sum(πt_unreveal[year].reshape(n_climate, n_dmg), axis=1)"
   ]
  },
  {
   "cell_type": "code",
   "execution_count": null,
   "id": "professional-palestine",
   "metadata": {},
   "outputs": [],
   "source": [
    "fig, (ax1, ax2, ax3) = plt.subplots(1,3, figsize=(18,4))\n",
    "axes = [ax1, ax2, ax3]\n",
    "bins=np.linspace(1,3,15)\n",
    "ax1.set_title(\"Year 10\")\n",
    "ax1.hist(θ_list*1000, density=True, bins=bins, alpha=0.5, ec=\"gray\", color=\"tab:red\" )\n",
    "ax1.hist(θ_list*1000, weights=πc_dict[10], bins=bins, density=True, alpha=0.5, ec=\"gray\", color=\"tab:blue\")\n",
    "\n",
    "ax2.set_title(\"Year 50\")\n",
    "ax2.hist(θ_list*1000, density=True, bins=bins, alpha=0.5, ec=\"gray\",color=\"tab:red\" )\n",
    "ax2.hist(θ_list*1000, weights=πc_dict[50]*np.exp(-50*δ), bins=bins, density=True, alpha=0.5, ec=\"gray\",color=\"tab:blue\")\n",
    "\n",
    "ax3.set_title(\"Year 90\")\n",
    "ax3.hist(θ_list*1000, density=True, bins=bins, alpha=0.5, ec=\"gray\", color=\"tab:red\" )\n",
    "ax3.hist(θ_list*1000, weights=πc_dict[90]*np.exp(-90*δ), bins=bins, density=True, alpha=0.5, ec=\"gray\", color=\"tab:blue\")\n",
    "\n",
    "fig.tight_layout()\n",
    "# fig.savefig(\"./paper_plots/hist_time.png\", facecolor=\"w\",dpi=500)"
   ]
  },
  {
   "cell_type": "code",
   "execution_count": null,
   "id": "turned-finger",
   "metadata": {},
   "outputs": [],
   "source": [
    "πd_list = np.zeros((200,3))\n",
    "for year in range(200):\n",
    "    πd_list[year] = np.sum(πt_unreveal[year].reshape(n_climate, n_dmg), axis=0)"
   ]
  },
  {
   "cell_type": "markdown",
   "id": "yellow-moral",
   "metadata": {},
   "source": [
    "# Decompose  for no jump version"
   ]
  },
  {
   "cell_type": "code",
   "execution_count": null,
   "id": "common-rental",
   "metadata": {
    "code_folding": [
     0
    ]
   },
   "outputs": [],
   "source": [
    "def solve_smooth_unreveal_decompose(y_grid, ems_star, args, max_iter, tol, ϵ,):\n",
    "    \"\"\"\n",
    "    solve for step one, ϕⱼ for individual damage function\n",
    "    \n",
    "    Parameter\n",
    "    ---\n",
    "    args: δ, η, θ_list, σy, γ1, γ2, γ3, ȳ, ξa, ξw\n",
    "    \"\"\"\n",
    "    δ, η, θ_list, σy, γ1, γ2, γ3_list, ȳ, ξa, ξw = args\n",
    "    params = list()\n",
    "    for θ_i in θ_list:\n",
    "        for γ3 in γ3_list:\n",
    "            params.append([θ_i, γ3])\n",
    "    params = np.array(params)\n",
    "    θ_long = params[:,0]\n",
    "    γ3_long = params[:,1]\n",
    "    args_weight = (δ, η, γ1, γ2, ȳ, σy, ξa)\n",
    "    dy = y_grid[1] - y_grid[0]\n",
    "    n_y = len(y_grid)\n",
    "#     dΛ = γ1 + γ2*y_grid + γ3*(y_grid-ȳ)*(y_grid>ȳ)\n",
    "#     ddΛ = γ2 + γ3*(y_grid>ȳ)\n",
    "    ϕ = - η*y_grid**2\n",
    "    ems = η\n",
    "    ems_old = ems\n",
    "    πo = np.ones((len(params), n_y))/len(params)\n",
    "    lhs_error = 1\n",
    "    episode = 0\n",
    "    while lhs_error > tol and episode < max_iter:\n",
    "        ϕ_old = ϕ.copy()\n",
    "        dϕdy = derivative_1d(ϕ, 1, dy, \"up\")\n",
    "        dϕdyy = derivative_1d(ϕ, 2, dy, \"up\")\n",
    "#         temp1 = dϕdy + (η-1)/δ*dΛ\n",
    "#         temp2 = dϕdyy + (de)\n",
    "        # update belief\n",
    "        weight = generate_weight(params, ems_star, dϕdy, y_grid, args_weight)\n",
    "        π = πo*np.exp(weight)\n",
    "        π[π <= 1e-15] = 1e-15\n",
    "        π = π/np.sum(π, axis=0)\n",
    "        # update control\n",
    "#         temp = dϕdy + (η-1)/δ*(γ1 + γ2*y_grid)\n",
    "#         ddΛ = γ2 + γ3_long@π*(y_grid>ȳ)\n",
    "#         a = (dϕdyy  + (η-1)/δ*ddΛ)*σy**2\n",
    "#         b = (θ_long@π)*temp + (η-1)/δ*((θ_long*γ3_long)@π)*(y_grid - ȳ)*(y_grid>ȳ)\n",
    "#         c = η\n",
    "#         Δ = b**2 - 4*a*c\n",
    "#         Δ[Δ < 0] = 0\n",
    "#         root1 = (-b - np.sqrt(Δ))/(2*a)\n",
    "#         root2 = (-b + np.sqrt(Δ))/(2*a)\n",
    "#         if root1.all() > 0:\n",
    "#             ems_new = root1\n",
    "#         else:\n",
    "#             ems_new = root2\n",
    "#         ems_new[ems_new < 1e-15] = 1e-15\n",
    "#         ems = ems_new*0.5 + ems_old*0.5\n",
    "        # solve for ode\n",
    "        dmg_drift = θ_long@π*(γ1 + γ2*y_grid)*ems_star + (θ_long*γ3_long)@π*(y_grid-ȳ)*(y_grid>ȳ)*ems_star\\\n",
    "        + 1/2*(γ3_long@π)*(y_grid>ȳ)*σy**2*ems_star**2 + 1/2*γ2*σy**2*ems_star**2\n",
    "        A = - δ*np.ones(y_grid.shape)\n",
    "        B = (θ_long@π)*ems_star\n",
    "#         C = np.zeros(y_grid.shape)\n",
    "        C = ems_star**2*σy**2/2\n",
    "        D = η*np.log(ems_star) + ξa*np.sum(π*(np.log(π) - np.log(πo)), axis=0)\\\n",
    "            + (η-1)/δ*dmg_drift\n",
    "#         - 1/(2*ξw)*temp**2*ems**2*σy**2\\\n",
    "#         + 1/2*(η-1)/δ*ddΛ*ems**2*σy**2\n",
    "        ϕ_new = solve_ode(A, B, C, D, y_grid, ϕ, ϵ, (False, 0))\n",
    "        rhs = -δ*ϕ_new + B*dϕdy + C*dϕdyy + D\n",
    "        rhs_error = np.max(abs(rhs))\n",
    "        lhs_error = np.max(abs((ϕ_new - ϕ_old)/ϵ))\n",
    "        ϕ = ϕ_new\n",
    "#         ems_old = ems\n",
    "        episode += 1\n",
    "    print(\"episode: {},\\t ode error: {},\\t ft error: {}\".format(episode, rhs_error, lhs_error))\n",
    "    me = - θ_long@π*(dϕdy + (η-1)/δ*(γ1 + γ2*y_grid)) - (η-1)/δ*(θ_long*γ3_long)@π*(y_grid-ȳ)*(y_grid>ȳ) \\\n",
    "        - (η-1)/δ*(γ3_long@π)*(y_grid>ȳ)*σy**2*ems_star - (η-1)/δ*γ2*σy**2*ems_star - dϕdyy*σy**2*ems_star\n",
    "#     h = - temp*ems*σy/ξw\n",
    "    return ϕ, ems, π, me"
   ]
  },
  {
   "cell_type": "code",
   "execution_count": null,
   "id": "respiratory-workplace",
   "metadata": {},
   "outputs": [],
   "source": [
    "ξa = 1/100\n",
    "args_unreveal = (δ, η, θ_list, σy, γ1, γ2, γ3_list, ȳ, ξa, ξw)\n",
    "ϕ_test, ems_test, π_test, me_unreveal = solve_smooth_unreveal_decompose(y_grid, ems_unreveal, args_unreveal, \n",
    "                                                             max_iter=5000, tol=1e-7, ϵ=2,)"
   ]
  },
  {
   "cell_type": "code",
   "execution_count": null,
   "id": "aggressive-beaver",
   "metadata": {},
   "outputs": [],
   "source": [
    "ems_10 = 10*np.ones(ems_unreveal.shape)"
   ]
  },
  {
   "cell_type": "code",
   "execution_count": null,
   "id": "amazing-patio",
   "metadata": {},
   "outputs": [],
   "source": [
    "ems = ems_unreveal\n",
    "# ems = ems_10"
   ]
  },
  {
   "cell_type": "code",
   "execution_count": null,
   "id": "higher-nebraska",
   "metadata": {},
   "outputs": [],
   "source": [
    "# base\n",
    "ξa = 1000*100\n",
    "args_unreveal = (δ, η, θ_list, σy, γ1, γ2, γ3_list, ȳ, ξa, ξw)\n",
    "ϕ_b, ems_b, π_b, me_b = solve_smooth_unreveal_decompose(y_grid, ems, args_unreveal, \n",
    "                                                             max_iter=5000, tol=1e-7, ϵ=2,)"
   ]
  },
  {
   "cell_type": "code",
   "execution_count": null,
   "id": "negative-declaration",
   "metadata": {},
   "outputs": [],
   "source": [
    "# dmamage \n",
    "ξa = 1/100\n",
    "args_unreveal = (δ, η, [np.average(θ_list)], σy, γ1, γ2, γ3_list, ȳ, ξa, ξw)\n",
    "ϕ_dmg, ems_dmg, π_dmg, me_dmg = solve_smooth_unreveal_decompose(y_grid, ems, args_unreveal, \n",
    "                                                             max_iter=5000, tol=1e-7, ϵ=2,)"
   ]
  },
  {
   "cell_type": "code",
   "execution_count": null,
   "id": "vanilla-occasions",
   "metadata": {},
   "outputs": [],
   "source": [
    "# temp\n",
    "ξa = 1/100\n",
    "args_unreveal = (δ, η, θtemp_list, σy, γ1, γ2, [np.average(γ3_list)], ȳ, ξa, ξw)\n",
    "ϕ_temp, ems_temp, π_temp, me_temp = solve_smooth_unreveal_decompose(y_grid, ems, args_unreveal, \n",
    "                                                             max_iter=5000, tol=1e-7, ϵ=2,)"
   ]
  },
  {
   "cell_type": "code",
   "execution_count": null,
   "id": "forward-values",
   "metadata": {},
   "outputs": [],
   "source": [
    "# carb\n",
    "ξa = 1/100\n",
    "args_unreveal = (δ, η, θcarb_list, σy, γ1, γ2, [np.average(γ3_list)], ȳ, ξa, ξw)\n",
    "ϕ_carb, ems_carb, π_carb, me_carb = solve_smooth_unreveal_decompose(y_grid, ems, args_unreveal, \n",
    "                                                             max_iter=5000, tol=1e-7, ϵ=2,)"
   ]
  },
  {
   "cell_type": "code",
   "execution_count": null,
   "id": "christian-prayer",
   "metadata": {},
   "outputs": [],
   "source": [
    "# total\n",
    "ξa = 1/100\n",
    "args_unreveal = (δ, η, θ_list, σy, γ1, γ2, γ3_list, ȳ, ξa, ξw)\n",
    "ϕ_total, ems_total, π_total, me_total = solve_smooth_unreveal_decompose(y_grid, ems, args_unreveal, \n",
    "                                                             max_iter=5000, tol=1e-7, ϵ=2,)"
   ]
  },
  {
   "cell_type": "code",
   "execution_count": null,
   "id": "junior-wright",
   "metadata": {},
   "outputs": [],
   "source": [
    "yt_b, et_b, πt_b, met_b = simulate_unreveal(y_grid, ems, π_b, me_b, θ_list, T=200)\n",
    "yt_dmg, et_dmg, πt_dmg, met_dmg = simulate_unreveal(y_grid, ems, π_dmg, me_dmg, θ_list, T=200)\n",
    "yt_temp, et_temp, πt_temp, met_temp = simulate_unreveal(y_grid, ems, π_temp, me_temp, θ_list, T=200)\n",
    "yt_carb, et_carb, πt_carb, met_carb = simulate_unreveal(y_grid, ems, π_carb, me_carb, θ_list, T=200)\n",
    "yt_total, et_total, πt_total, met_total = simulate_unreveal(y_grid, ems, π_total, me_total, θ_list, T=200)"
   ]
  },
  {
   "cell_type": "code",
   "execution_count": null,
   "id": "seven-spirituality",
   "metadata": {
    "scrolled": true
   },
   "outputs": [],
   "source": [
    "plt.plot(np.log(met_total/met_b)*100, label=\"total\")\n",
    "plt.plot(np.log(met_dmg/met_b)*100, label=\"damage\")\n",
    "plt.plot(np.log(met_temp/met_b)*100, label=\"temperature\")\n",
    "plt.plot(np.log(met_carb/met_b)*100, label=\"carbon\")\n",
    "plt.ylim(0)\n",
    "plt.xlabel(\"Years\")\n",
    "plt.legend(frameon=False)\n",
    "plt.title(\"$\\\\log \\\\frac{ME}{ME_{base}} \\\\times 100$\")\n",
    "plt.tight_layout()\n",
    "# plt.savefig(\"./paper_plots/decomp_1type_21.png\", dpi=500, facecolor=\"w\")"
   ]
  },
  {
   "cell_type": "code",
   "execution_count": null,
   "id": "viral-belle",
   "metadata": {
    "scrolled": true
   },
   "outputs": [],
   "source": [
    "plt.plot(y_grid, np.log(me_total/me_b)*100, label=\"total uncertainty\")\n",
    "plt.plot(y_grid, np.log(me_temp/me_b)*100, label=\"temperature\")\n",
    "plt.plot(y_grid, np.log(me_carb/me_b)*100, label=\"carbon\")\n",
    "plt.plot(y_grid, np.log(me_dmg/me_b)*100, label=\"damge\")\n",
    "plt.xlabel(\"y\")\n",
    "plt.legend(frameon=False)\n",
    "plt.title(\"$\\\\log \\\\frac{ME}{ME_{base}} \\\\times 100$\")"
   ]
  },
  {
   "cell_type": "code",
   "execution_count": null,
   "id": "signed-impossible",
   "metadata": {},
   "outputs": [],
   "source": [
    "# dmamage and temp\n",
    "ξa = 1/100\n",
    "args_unreveal = (δ, η, θtemp_list, σy, γ1, γ2, γ3_list, ȳ, ξa, ξw)\n",
    "ϕ_tempdmg, ems_tempdmg, π_tempdmg, me_tempdmg = solve_smooth_unreveal_decompose(y_grid, ems, \n",
    "                                                                                args_unreveal, \n",
    "                                                             max_iter=5000, tol=1e-7, ϵ=2,)"
   ]
  },
  {
   "cell_type": "code",
   "execution_count": null,
   "id": "republican-palace",
   "metadata": {
    "scrolled": true
   },
   "outputs": [],
   "source": [
    "# dmamage and carb\n",
    "ξa = 1/100\n",
    "args_unreveal = (δ, η, θcarb_list, σy, γ1, γ2, γ3_list, ȳ, ξa, ξw)\n",
    "ϕ_carbdmg, ems_carbdmg, π_carbdmg, me_carbdmg = solve_smooth_unreveal_decompose(y_grid, ems, \n",
    "                                                                                args_unreveal, \n",
    "                                                             max_iter=5000, tol=1e-7, ϵ=2,)"
   ]
  },
  {
   "cell_type": "code",
   "execution_count": null,
   "id": "concrete-royalty",
   "metadata": {},
   "outputs": [],
   "source": [
    "# temp and carb\n",
    "ξa = 1/100\n",
    "args_unreveal = (δ, η, θ_list, σy, γ1, γ2, [np.average(γ3_list)], ȳ, ξa, ξw)\n",
    "ϕ_tempcarb, ems_tempcarb, π_tempcarb, me_tempcarb = solve_smooth_unreveal_decompose(y_grid, ems, \n",
    "                                                                                    args_unreveal, \n",
    "                                                             max_iter=5000, tol=1e-7, ϵ=2,)"
   ]
  },
  {
   "cell_type": "code",
   "execution_count": null,
   "id": "expressed-reliance",
   "metadata": {},
   "outputs": [],
   "source": [
    "yt_carbdmg, et_carbdmg, πt_carbdmg, met_carbdmg = simulate_unreveal(y_grid, ems, π_carbdmg, me_carbdmg, θ_list, T=200)\n",
    "yt_tempcarb, et_tempcarb, πt_tempcarb, met_tempcarb = simulate_unreveal(y_grid, ems, π_tempcarb, me_tempcarb, θ_list, T=200)\n",
    "yt_tempdmg, et_tempdmg, πt_tempdmg, met_tempdmg = simulate_unreveal(y_grid, ems, π_tempdmg, me_tempdmg, θ_list, T=200)"
   ]
  },
  {
   "cell_type": "code",
   "execution_count": null,
   "id": "worst-browser",
   "metadata": {},
   "outputs": [],
   "source": [
    "plt.plot(np.log(met_total/met_b)*100, label=\"total\")\n",
    "plt.plot(np.log(met_tempdmg/met_b)*100, label=\"temperature and damage\")\n",
    "plt.plot(np.log(met_carbdmg/met_b)*100, label=\"carbon and damage\")\n",
    "plt.plot(np.log(met_tempcarb/met_b)*100, label=\"temperature and carbon\")\n",
    "# plt.plot(np.log(met_tempcarb/met_b)*100, label=\"temperature and carbon\"))\n",
    "plt.ylim(0)\n",
    "plt.xlabel(\"Years\")\n",
    "plt.legend(frameon=False)\n",
    "plt.title(\"$\\\\log \\\\frac{ME}{ME_{base}} \\\\times 100$\")\n",
    "plt.tight_layout()\n",
    "# plt.savefig(\"./paper_plots/decomp_2type_21.png\", facecolor=\"w\", dpi=500)"
   ]
  },
  {
   "cell_type": "code",
   "execution_count": null,
   "id": "adolescent-jaguar",
   "metadata": {
    "scrolled": true
   },
   "outputs": [],
   "source": [
    "plt.plot(y_grid, np.log(me_total/me_b)*100, label=\"total uncertainty\")\n",
    "plt.plot(y_grid, np.log(me_tempdmg/me_b)*100, label=\"temperature and damage\")\n",
    "plt.plot(y_grid, np.log(me_carbdmg/me_b)*100, label=\"carbon and damage\")\n",
    "plt.plot(y_grid, np.log(me_tempcarb/me_b)*100, label=\"temperature and carbon\")\n",
    "plt.xlabel(\"y\")\n",
    "plt.ylim(0)\n",
    "plt.legend(frameon=False)\n",
    "plt.title(\"$\\\\log \\\\frac{ME}{ME_{base}} \\\\times 100$\")"
   ]
  },
  {
   "cell_type": "markdown",
   "id": "voluntary-denmark",
   "metadata": {},
   "source": [
    "# SCC uncertainty decomposition: pre jump\n",
    "\n",
    "First order condition for $\\tilde e$\n",
    "\n",
    "$$\n",
    "    \\left( \\frac{d^2\\phi(y)}{dy^2} + \\frac{(\\eta-1)}{\\delta}\\cdot\\gamma_2  \\right)|\\sigma_y|^2\\tilde e + \\sum_j \\pi^c_j \\left[\\frac{d\\phi(y)}{dy} + \\frac{(\\eta - 1)}{\\delta}(\\gamma_1 + \\gamma_2 y)\\right]\\theta_j  + \\frac{\\eta}{\\tilde e} = 0 \\tag{$\\ast$}\n",
    "$$\n",
    "\n",
    "Call solution $\\tilde e^* $. Now solve:\n",
    "$$\n",
    "\\begin{aligned}\n",
    "0 =  & - \\delta \\color{red}{\\phi(y)}+ \\eta \\log\\tilde e^* + \\frac{1}{2} \\color{red}{ \\frac{d^2 \\phi}{dy^2}}\\cdot(\\tilde e^*)^2 |\\sigma_y|^2 + \\frac{1}{2}\\frac{(\\eta -1)}{\\delta}\\gamma_2(\\tilde e^*)^2 |\\sigma_y|^2\\\\\n",
    "& + \\left[\\color{red}{\\frac{d\\phi}{dy}}  + \\frac{(\\eta -1)}{\\delta}(\\gamma_1 + \\gamma_2 y)\\right] \\tilde e^* \\sum_i \\pi_i^c \\theta_i\n",
    "\\end{aligned}\n",
    "$$"
   ]
  },
  {
   "cell_type": "code",
   "execution_count": null,
   "id": "based-victorian",
   "metadata": {
    "code_folding": [
     0
    ]
   },
   "outputs": [],
   "source": [
    "def plot_together(et, θ_list, ht, πᶜt, πᵈt, MEt, dmg_weight):\n",
    "    y_grid_cap = y_grid[:numy_bar+1]\n",
    "    πᶜo = πᶜo = np.ones(len(θ_list))/len(θ_list)\n",
    "    # plot\n",
    "    fig,((ax1, ax2), (ax3, ax4)) = plt.subplots(2,2, figsize=(12,8))\n",
    "    fig.tight_layout(pad=5)\n",
    "    # plot 1\n",
    "    if np.count_nonzero(dmg_weight) > 2:\n",
    "        ax1.plot(πᵈt[:,-1], label=\"extreme damage\", color=\"C2\")\n",
    "    ax1.plot(πᵈt[:,1], label=\"high damage\", color=\"C3\")\n",
    "    ax1.plot(πᵈt[:,0], label=\"low\", color=\"C0\")\n",
    "    ax1.legend(frameon=False)\n",
    "    ax1.set_xlabel('Years')\n",
    "    ax1.set_ylim(0,1)\n",
    "    ax1.set_xlim(left=0)\n",
    "    ax1.set_title('distorted probability of damage')\n",
    "    # plot 2\n",
    "    bins = np.linspace(1,3,14)\n",
    "    ax2.hist(θ_list*1000, density=True, color='tab:red', bins=bins, histtype='bar', ec='gray', alpha=.5, )\n",
    "    ax2.hist((θ_list+σy*ht[49])*1000, weights=πᶜt[49], density=True, color='tab:blue',bins=bins, histtype='bar', ec='gray', alpha=.5,)\n",
    "    ax2.set_title('mean difference: {:.4f}'.format((θ_list@(πᶜt[49]-πᶜo)+σy*ht[49])*1000))\n",
    "    ax2.set_xlabel('Climate sensitivity, year 50')\n",
    "    ax2.set_xlim(0.8,3)\n",
    "    # plot 3\n",
    "    ax3.plot(et[et_base>0],label='distorted', color=\"C3\")\n",
    "    ax3.plot(et_base[et_base>0], label=\"baseline\", color=\"C0\")\n",
    "    ax3.legend(frameon=False)\n",
    "    ax3.set_xlabel('Years')\n",
    "    ax3.set_ylim(bottom=0)\n",
    "    ax3.set_xlim(left=0)\n",
    "    ax3.set_title('emission')\n",
    "    # plot 4\n",
    "    SCCt_base, _ = simulate_scc(invkap, αₖ,  σₖ, κ, k0, MEt)\n",
    "    SCCt_distorted, _ = simulate_scc(invkap, αₖ,  σₖ, κ, k0, δ*η/et)\n",
    "#     ax4.plot((δ*η/et[et>0])/MC[et>0]*1000, label=\"total\", color=\"C3\")\n",
    "    ax4.plot(SCCt_distorted, label=\"total\", color=\"C3\")\n",
    "#     ax4.plot((ME/MC)[et>0]*1000, label=\"baseline\", color=\"C0\")\n",
    "    ax4.plot(SCCt_distorted - SCCt_base, label=\"baseline\", color=\"C0\")\n",
    "    ax4.legend(frameon=False)\n",
    "    ax4.set_xlabel('Years')\n",
    "    ax4.set_ylim(bottom=0)\n",
    "    ax4.set_xlim(left=0)\n",
    "    ax4.set_title('social cost of carbon')\n",
    "    \n",
    "    return fig, ((ax1, ax2), (ax3, ax4))"
   ]
  },
  {
   "cell_type": "code",
   "execution_count": null,
   "id": "smoking-colonial",
   "metadata": {
    "code_folding": [
     0
    ]
   },
   "outputs": [],
   "source": [
    "def simulate_jump_ems(y_grid, solu, ME,  θ_list, T=100, dt=1):\n",
    "    ems = solu[\"ems\"]\n",
    "    πᶜ = solu[\"πc\"]\n",
    "    πᵈ = solu[\"πd\"]\n",
    "    ι = solu[\"ι\"]\n",
    "    h = solu[\"h\"]\n",
    "    periods = int(T/dt)\n",
    "    et = np.zeros(periods)\n",
    "    yt = np.zeros(periods)\n",
    "    πᶜt = np.zeros((periods, len(θ_list)))\n",
    "    πᵈt = np.zeros((periods, len(πᵈ)))\n",
    "    ιt = np.zeros(periods)\n",
    "    ht = np.zeros(periods)\n",
    "    if ME is not None:\n",
    "        me_t = np.zeros(periods)\n",
    "    # interpolate\n",
    "    get_πᵈ = interpolate.interp1d(y_grid, πᵈ)\n",
    "    get_πᶜ = interpolate.interp1d(y_grid, πᶜ)\n",
    "#     y = np.mean(θ_list)*290\n",
    "    y=1\n",
    "    for t in range(periods):\n",
    "        if y > np.max(y_grid):\n",
    "            break\n",
    "        else:\n",
    "            ems_point = np.interp(y, y_grid, ems)\n",
    "            πᵈ_list = get_πᵈ(y)\n",
    "            πᶜ_list = get_πᶜ(y)\n",
    "            ι_point = np.interp(y, y_grid, ι)\n",
    "            h_point = np.interp(y, y_grid, h)\n",
    "            if ME is not None:\n",
    "                me_point = np.interp(y, y_grid, ME)\n",
    "                me_t[t] = me_point\n",
    "            et[t] = ems_point\n",
    "            πᵈt[t] = πᵈ_list\n",
    "            πᶜt[t] = πᶜ_list\n",
    "            ιt[t] = ι_point\n",
    "            ht[t] = h_point\n",
    "            yt[t] = y\n",
    "            dy = ems_point*(θ_list@πᶜ_list + σy*h_point)*dt\n",
    "            y = dy + y\n",
    "    if ME is not None:\n",
    "        return yt, et, πᵈt, πᶜt, ιt, ht, me_t\n",
    "    else:\n",
    "        return yt, et, πᵈt, πᶜt, ιt, ht"
   ]
  },
  {
   "cell_type": "code",
   "execution_count": null,
   "id": "freelance-brush",
   "metadata": {
    "scrolled": true
   },
   "outputs": [],
   "source": [
    "ȳ = 1.9\n",
    "\n",
    "ξa = 100000\n",
    "ξw = 100000\n",
    "ξp = 100000\n",
    "dmg_weight = np.array([1/3, 1/3, 1/3])\n",
    "args = (δ, η, θ_list, γ1, γ2, γ3_list, ȳ, dmg_weight, ς, ξp, ξa, ξw, σy)\n",
    "solu, ϕ_list = approach_one_100(y_grid, numy_bar, args, ϵ=3, max_iter=5000)\n",
    "yt_bb, et_bb, πᵈt, πᶜt, ιt, ht = simulate_jump(y_grid[:numy_bar+1], solu, None, θ_list, y_start=1.1)\n",
    "yt_bbw, et_bbw, πᵈt, πᶜt, ιt, ht = simulate_jump_ems(y_grid[:numy_bar+1], solu, None, θ_list)"
   ]
  },
  {
   "cell_type": "code",
   "execution_count": null,
   "id": "automated-display",
   "metadata": {},
   "outputs": [],
   "source": [
    "plt.plot(et_bb)"
   ]
  },
  {
   "cell_type": "code",
   "execution_count": null,
   "id": "proof-tradition",
   "metadata": {},
   "outputs": [],
   "source": [
    "ξa = 100000\n",
    "ξw = 0.3\n",
    "ξp = 5\n",
    "dmg_weight = np.array([1/3, 1/3, 1/3])\n",
    "args = (δ, η, θ_list, γ1, γ2, γ3_list, ȳ, dmg_weight, ς, ξp, ξa, ξw, σy)\n",
    "solu, ϕ_list = approach_one_100(y_grid, numy_bar, args, max_iter=5_000)\n",
    "yt_3, et_3, πᵈt, πᶜt_3, ιt, ht_3 = simulate_jump(y_grid[:numy_bar+1], solu, None, θ_list, y_start=1.1)\n",
    "yt_3w, et_3w, πᵈt, πᶜt_3, ιt, ht_3w = simulate_jump_ems(y_grid[:numy_bar+1], solu, None, θ_list)"
   ]
  },
  {
   "cell_type": "code",
   "execution_count": null,
   "id": "comprehensive-legend",
   "metadata": {},
   "outputs": [],
   "source": [
    "# adding equal version 1 \n",
    "ξa = 100000\n",
    "ξw = 0.3\n",
    "ξp = 0.3\n",
    "dmg_weight = np.array([1/3, 1/3, 1/3])\n",
    "args = (δ, η, θ_list, γ1, γ2, γ3_list, ȳ, dmg_weight, ς, ξp, ξa, ξw, σy)\n",
    "solu, ϕ_list = approach_one_100(y_grid, numy_bar, args, ϵ=2, max_iter=5_000)\n",
    "yt_e1, et_e1, πᵈt, πᶜt, ιt, ht_e1 = simulate_jump(y_grid[:numy_bar+1], solu, None, θ_list, y_start=1.1)\n",
    "yt_e1w, et_e1w, πᵈt, πᶜt, ιt, ht_e1w = simulate_jump_ems(y_grid[:numy_bar+1], solu, None, θ_list)"
   ]
  },
  {
   "cell_type": "code",
   "execution_count": null,
   "id": "dirty-serum",
   "metadata": {},
   "outputs": [],
   "source": [
    "# adding equal version 2\n",
    "ξa = 1000*100\n",
    "ξw = 1/20*100\n",
    "ξp = 1/20*100\n",
    "dmg_weight = np.array([1/3, 1/3, 1/3])\n",
    "args = (δ, η, θ_list, γ1, γ2, γ3_list, ȳ, dmg_weight, ς, ξp, ξa, ξw, σy)\n",
    "solu, ϕ_list = approach_one_100(y_grid, numy_bar, args, ϵ=2, max_iter=5_000)\n",
    "yt_e2, et_e2, πᵈt, πᶜt, ιt, ht_e2 = simulate_jump(y_grid[:numy_bar+1], solu, None, θ_list, y_start=1.1)\n",
    "yt_e2w, et_e2w, πᵈt, πᶜt, ιt, ht_e2w = simulate_jump_ems(y_grid[:numy_bar+1], solu, None, θ_list)"
   ]
  },
  {
   "cell_type": "code",
   "execution_count": null,
   "id": "consecutive-louisiana",
   "metadata": {
    "code_folding": []
   },
   "outputs": [],
   "source": [
    "#\n",
    "years = np.arange(0,100)\n",
    "fig = plt.figure(figsize=(8,5))\n",
    "plt.plot(years[et_bb>0], et_bb[et_bb>0], label=\"baseline\", color=\"tab:red\")\n",
    "plt.plot(years[et_bb>0], et_e2[et_bb>0], label=\"$ξ_b = ξ_p = 5$\", color=\"darkorange\")\n",
    "# plt.plot(et_brownian, label=\"brownian robust, jump robust\", color=\"tab:blue\")\n",
    "# plt.plot(et_smooth, label=\"smooth ambiguity, jump robust\", color=\"darkgreen\")\n",
    "plt.plot(years[et_bb>0], et_3[et_bb>0], label=\"$ξ_b =0.3,  ξ_p = 5$\", color=\"darkgreen\")\n",
    "plt.plot(years[et_bb>0], et_e1[et_bb>0], label=\"$ξ_b = ξ_p = 0.3$\" , color=\"navy\")\n",
    "\n",
    "# plt.plot(et, label=\"with drift term + jump robust\")\n",
    "plt.legend(frameon=False, loc=3)\n",
    "plt.ylim(0,10)\n",
    "# plt.xlim(right=95)\n",
    "# plt.xticks(np.arange(0, 91, 10))\n",
    "plt.ylabel('Emissions', fontsize=13)\n",
    "plt.xlabel('Years', fontsize=13)\n",
    "# plt.savefig(\"./paper_plots/emission_three.pdf\")\n",
    "# plt.savefig(\"./paper_plots/emission_five.png\", facecolor=\"w\", edgecolor=\"w\", bbox_inches=\"tight\")"
   ]
  },
  {
   "cell_type": "code",
   "execution_count": null,
   "id": "thousand-suite",
   "metadata": {
    "code_folding": [],
    "scrolled": false
   },
   "outputs": [],
   "source": [
    "#\n",
    "fig = plt.figure(figsize=(8,5))\n",
    "x_max = np.max(np.where(et_bb>0))\n",
    "C0 = (α - invkap)/α*80\n",
    "plt.plot(years, np.log(1000) + np.log(C0)  - (yt_e1*γ1 + γ2/2*yt_e1**2) -np.log(et_e1) + np.log(η) - np.log(1- η), label=\"$ξ_b = ξ_p = 0.3$\", color=\"navy\")\n",
    "plt.plot(years, np.log(1000) + np.log(C0)  - (yt_3*γ1 + γ2/2*yt_3**2) -np.log(et_3) + np.log(η) - np.log(1- η), label=\"$ξ_b =0.3, ξ_p = 5$\", color=\"darkgreen\")\n",
    "# plt.plot( np.log(1000) - np.log(et) + np.log(η) - np.log(1 -η), label=\"with drift term + jump robust\")\n",
    "plt.plot(years, np.log(1000) + np.log(C0)  - (yt_e2*γ1 + γ2/2*yt_e2**2) -np.log(et_e2) + np.log(η) - np.log(1- η), label=\"$ξ_b = ξ_p = 5$\", color=\"darkorange\")\n",
    "plt.plot(years, np.log(1000) + np.log(C0)  - (yt_bb*γ1 + γ2/2*yt_bb**2) -np.log(et_bb) + np.log(η) - np.log(1- η), label=\"baseline\", color=\"tab:red\")\n",
    "handles, labels = plt.gca().get_legend_handles_labels()\n",
    "order = [0,1,2,3]\n",
    "plt.legend([handles[idx] for idx in order],[labels[idx] for idx in order], frameon=False)\n",
    "# plt.legend(frameon=False)\n",
    "# plt.ylim(0)\n",
    "# plt.xticks(np.arange(0,91,10))\n",
    "plt.xlim(right=x_max)\n",
    "plt.ylabel('$\\log SCC_t$', fontsize=13)\n",
    "plt.xlabel('Years', fontsize=13)\n",
    "# plt.title('$ \\log(1000) -\\log{\\mathcal{E}_t} + \\log \\eta  - \\log (1 - \\eta)$')\n",
    "# plt.savefig(\"./paper_plots/logscc.pdf\")\n",
    "# plt.savefig(\"./paper_plots/logscc_five.png\", facecolor=\"w\", edgecolor=\"w\", bbox_inches=\"tight\")"
   ]
  },
  {
   "cell_type": "code",
   "execution_count": null,
   "id": "broadband-township",
   "metadata": {
    "scrolled": false
   },
   "outputs": [],
   "source": [
    "me = η/et_bb[et_bb>0]\n",
    "et_base = et_bb\n",
    "fig, ((ax1, ax2), (ax3, ax4)) = plot_together(et,  θ_list, ht, πᶜt, πᵈt, me, dmg_weight)\n",
    "fig.suptitle(\"$ξ_a = 1/100,\\ ξ_w = 1/3.4,\\ ξ_p =  5$\")\n",
    "# plt.savefig('15_600_1.pdf')\n",
    "plt.show()"
   ]
  }
 ],
 "metadata": {
  "kernelspec": {
   "display_name": "ry38",
   "language": "python",
   "name": "ry38"
  },
  "language_info": {
   "codemirror_mode": {
    "name": "ipython",
    "version": 3
   },
   "file_extension": ".py",
   "mimetype": "text/x-python",
   "name": "python",
   "nbconvert_exporter": "python",
   "pygments_lexer": "ipython3",
   "version": "3.8.7"
  }
 },
 "nbformat": 4,
 "nbformat_minor": 5
}
