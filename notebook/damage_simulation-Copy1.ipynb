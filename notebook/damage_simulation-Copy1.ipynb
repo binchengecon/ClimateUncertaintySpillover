{
 "cells": [
  {
   "cell_type": "code",
   "execution_count": 1,
   "metadata": {},
   "outputs": [],
   "source": [
    "import numpy as np\n",
    "import pickle\n",
    "import os, sys\n",
    "sys.path.append(os.path.dirname(os.getcwd()) + '/source')\n",
    "import sympy\n",
    "\n",
    "import matplotlib.pyplot as plt\n",
    "import matplotlib as mpl\n",
    "\n",
    "from numba import njit\n",
    "\n",
    "mpl.rcParams['font.size'] = 20\n",
    "# mpl.rcParams['figure.figsize'] = (12, 8)\n",
    "mpl.rcParams['figure.facecolor'] = 'white'\n",
    "mpl.rcParams['figure.autolayout'] = True\n",
    "np.random.seed(0)"
   ]
  },
  {
   "cell_type": "code",
   "execution_count": 2,
   "metadata": {},
   "outputs": [],
   "source": [
    "def get_quantile(simulation, quantileList=[.1, .33, .5, .67, .9]):\n",
    "    quantileDict = dict()\n",
    "    for quantile in quantileList:\n",
    "        quantileDict[quantile] = np.quantile(simulation, quantile, axis=0)\n",
    "        \n",
    "    return quantileDict"
   ]
  },
  {
   "cell_type": "code",
   "execution_count": 3,
   "metadata": {},
   "outputs": [],
   "source": [
    "def plot_quantile(quantDict, quantileList = [.1, .33, .5, .67, .9]):\n",
    "    for quantile in reversed(quantileList):\n",
    "        plt.plot(quantDict[quantile], label=\"{} quantile\".format(quantile))\n",
    "    plt.legend()"
   ]
  },
  {
   "cell_type": "code",
   "execution_count": 4,
   "metadata": {},
   "outputs": [],
   "source": [
    "@njit\n",
    "def simulate_ye(Ys, e, z, T=102, dt=1):\n",
    "    \"\"\"e, y for each value of z_2\"\"\"\n",
    "    numz, = z.shape\n",
    "    periods = int(T/dt)\n",
    "    et = np.zeros((numz, periods))\n",
    "    yt = np.zeros((numz, periods))\n",
    "    yt[:, 0]= 870-580\n",
    "    for i in range(numz):\n",
    "        y = yt[i,0]\n",
    "        for t in range(periods):\n",
    "            loc = (np.abs(Y - y)).argmin()\n",
    "            et[i, t] =  e[i, loc]\n",
    "            y = y + et[i, t]*dt\n",
    "            yt[i, t] = y\n",
    "    return et, yt"
   ]
  },
  {
   "cell_type": "code",
   "execution_count": 5,
   "metadata": {},
   "outputs": [],
   "source": [
    "def simulate_z(dW, z0, alpha_z, beta_z, sigma_z, Ht=0, dt=1):\n",
    "    _, path, time = dW.shape\n",
    "    zt = np.zeros((path, time))\n",
    "    zt[:, 0] = z0\n",
    "    z = z0\n",
    "    for t in range(time-1):\n",
    "        dz = (alpha_z - beta_z*z)*dt+ np.dot(sigma_z*np.sqrt(dt), Ht + dW[:, :, t])\n",
    "        z = dz + z\n",
    "        zt[:,t+1] = z\n",
    "    return zt"
   ]
  },
  {
   "cell_type": "code",
   "execution_count": 6,
   "metadata": {},
   "outputs": [],
   "source": [
    "@njit\n",
    "def simulate_z2(dW2, z0, rho=.9, mu_2=1.86/1000, sigma_2=np.sqrt((.21/1000)**2*2*.9/(1.86/1000)), T=102, dt=1):\n",
    "    path, _ = dW2.shape\n",
    "    periods = int(T/dt)\n",
    "    zt = np.zeros((path, periods))\n",
    "    zt[:,0] = z0\n",
    "    path, time = dW2.shape\n",
    "    for p in range(path):\n",
    "        z = zt[p,0]\n",
    "        for t in range(periods-1):\n",
    "            dz = -rho*(z-mu_2)*dt + np.sqrt(z)*sigma_2*np.sqrt(dt)*dW2[p,t] \n",
    "            z = z + dz\n",
    "            zt[p, t+1] = z\n",
    "    return zt"
   ]
  },
  {
   "cell_type": "code",
   "execution_count": 7,
   "metadata": {},
   "outputs": [],
   "source": [
    "@njit\n",
    "def simulate_logkapital( invkap, dW2, zt, alpha_k, beta, sigma_k, kappa, k0, Ht=0, T=102,dt=1):\n",
    "    _, path, time = dW.shape\n",
    "    periods = int(T/dt)\n",
    "    Kt = np.zeros((path, periods))\n",
    "    i = invkap\n",
    "     # log capital\n",
    "    Kt[:, 0] = np.log(k0)\n",
    "    k = np.log(k0)*np.ones(path)\n",
    "    for t in range(periods-1):\n",
    "        k +=   (alpha_k + beta*zt[:,t] + i - kappa/2*i**2 - .5*sigma_k[0]**2)*dt + np.dot(sigma_k*np.sqrt(dt), Ht + dW2[:, :, t])\n",
    "        Kt[:,t+1] = k\n",
    "\n",
    "    return Kt"
   ]
  },
  {
   "cell_type": "code",
   "execution_count": 8,
   "metadata": {},
   "outputs": [],
   "source": [
    "def simulate_logn_withdrift(ems, lambda_u, sigma_n, dW, H):\n",
    "    _, path, time = dW.shape\n",
    "    lognt = np.zeros((path, time))\n",
    "    \n",
    "    for T in range(time):\n",
    "        log_n = np.zeros(path)\n",
    "        for t in range(1, T+1):\n",
    "            log_n += lambda_u[t] * ems[T-t] * (1+ np.dot(sigma_n, H[T-t] + dW[:, : ,T-t]) )\n",
    "        lognt[:, T] = log_n\n",
    "    return lognt"
   ]
  },
  {
   "cell_type": "code",
   "execution_count": 9,
   "metadata": {},
   "outputs": [],
   "source": [
    "@njit\n",
    "def simulateLogDamage(zt, z_grid, yt, et, dW2, z0, y0=290, T=102, dt=1, \n",
    "                      rho=.9, mu_2=1.86/1000, sigma_2=.21/1000, gamma_1 = 0.00018, gamma_2=.0022, gamma_2_plus=0):\n",
    "    path, time = dW2.shape\n",
    "    periods = int(T/dt)\n",
    "    yz = np.zeros((path, periods))\n",
    "    y = y0\n",
    "    zt[:,0] = z0\n",
    "    for p in range(path):\n",
    "        loc = (np.abs(z_grid - zt[p,0])).argmin()\n",
    "        y_traj = yt[loc]\n",
    "        yz[p, 0] = zt[p, 0]*y_traj[0]\n",
    "        for t in range(periods-1):\n",
    "            dyz = (zt[p, t]*et[p, t] + y_traj[t]*(-rho*(zt[p, t] - mu_2)) )*dt + y_traj[t]*sigma_2*np.sqrt(dt)*dW2[p,t]\n",
    "            yz[p, t+1] = yz[p, t] + dyz\n",
    "    \n",
    "    return gamma_1*yz + gamma_2*yz**2 + gamma_2_plus*yz**2*(yz>=2)"
   ]
  },
  {
   "cell_type": "code",
   "execution_count": 10,
   "metadata": {},
   "outputs": [],
   "source": [
    "def simulate_scc(invkap, Kt, et, lognt, alpha, delta, eta):\n",
    "    path, time = Kt.shape\n",
    "    scct = np.zeros((path, time))\n",
    "    inv = invkap\n",
    "    for p in range(path):\n",
    "        scct[p] = eta*(alpha - inv)*np.exp(Kt[p])/((1 - eta)*et*np.exp(lognt[p]))*1000\n",
    "    return scct"
   ]
  },
  {
   "cell_type": "code",
   "execution_count": 11,
   "metadata": {},
   "outputs": [],
   "source": [
    "def simulateLogConsumption(zt, dW, alpha_c, beta_c, sigma_c, dt = 1):\n",
    "    _, path, time = dW.shape\n",
    "    logct = np.zeros((path, time))\n",
    "#     logct[:,0] = beta_c*zt[:,0]\n",
    "    logc = beta_c*zt[:,0]\n",
    "    for t in range(time-1):\n",
    "        logc += alpha_c + beta_c*zt[:,t] + np.dot(sigma_c,dW[:,:,t])\n",
    "        logct[:, t+1] = logc\n",
    "    return logct"
   ]
  },
  {
   "cell_type": "code",
   "execution_count": 12,
   "metadata": {},
   "outputs": [],
   "source": [
    "# Model parameters\n",
    "δ = 0.01\n",
    "η = 0.032\n",
    "median = 1.75/1000\n",
    "h_hat = 0.2\n",
    "σ_n = 1.2\n",
    "γ_low = 0.012\n",
    "γ_high = 0.024\n",
    "ξ = 8*δ*η"
   ]
  },
  {
   "cell_type": "code",
   "execution_count": 13,
   "metadata": {},
   "outputs": [
    {
     "data": {
      "text/plain": [
       "0.00256"
      ]
     },
     "execution_count": 13,
     "metadata": {},
     "output_type": "execute_result"
    }
   ],
   "source": [
    "ξ"
   ]
  },
  {
   "cell_type": "code",
   "execution_count": 14,
   "metadata": {},
   "outputs": [],
   "source": [
    "γ_base = 0.018"
   ]
  },
  {
   "cell_type": "code",
   "execution_count": 15,
   "metadata": {},
   "outputs": [],
   "source": [
    "with open(\"../data/pulse_experiment\", \"rb\") as f:\n",
    "    λ_u = pickle.load(f)\n",
    "\n",
    "λ_u = np.mean(λ_u, axis=0)"
   ]
  },
  {
   "cell_type": "code",
   "execution_count": 16,
   "metadata": {},
   "outputs": [],
   "source": [
    "with open(\"../data/base_8\", \"rb\") as f:\n",
    "    base_8 = pickle.load(f)"
   ]
  },
  {
   "cell_type": "code",
   "execution_count": 17,
   "metadata": {},
   "outputs": [],
   "source": [
    "e_base = base_8[\"e_base1\"]\n",
    "# e_base05 = base_8[\"e_base05\"]\n",
    "\n",
    "λ_base = λ_u*γ_base\n",
    "# sigma_n = 1.2, xi = 0.00256\n",
    "e_base_102 = e_base[:102]\n",
    "# e_base05_102 = e_base05[:102]"
   ]
  },
  {
   "cell_type": "code",
   "execution_count": 18,
   "metadata": {},
   "outputs": [],
   "source": [
    "h_hat_base = e_base*median*γ_base*σ_n/ξ"
   ]
  },
  {
   "cell_type": "code",
   "execution_count": 19,
   "metadata": {},
   "outputs": [
    {
     "data": {
      "text/plain": [
       "[<matplotlib.lines.Line2D at 0x7fc1d0bc3430>]"
      ]
     },
     "execution_count": 19,
     "metadata": {},
     "output_type": "execute_result"
    },
    {
     "data": {
      "image/png": "[encoded data removed]",
      "text/plain": [
       "<Figure size 432x288 with 1 Axes>"
      ]
     },
     "metadata": {},
     "output_type": "display_data"
    }
   ],
   "source": [
    "plt.plot(h_hat_base)"
   ]
  },
  {
   "cell_type": "code",
   "execution_count": 20,
   "metadata": {},
   "outputs": [
    {
     "data": {
      "image/png": "[encoded data removed]",
      "text/plain": [
       "<Figure size 432x288 with 1 Axes>"
      ]
     },
     "metadata": {},
     "output_type": "display_data"
    }
   ],
   "source": [
    "plt.plot(e_base[:101])\n",
    "plt.ylabel('emission')\n",
    "plt.xlabel('years')\n",
    "plt.title('emission trajectory, wrestling')\n",
    "# plt.savefig(\"../figures/emssion.png\")"
   ]
  },
  {
   "cell_type": "markdown",
   "metadata": {},
   "source": [
    "### SCC simulation\n",
    "$X_t = (\\log K_t, Z_t, \\log N_t)'$ \n",
    "\n",
    "\\begin{equation}\n",
    "\\begin{aligned}\n",
    "    - \\frac{\\delta}{\\alpha - i/k} + 1 - \\kappa (i/k) = 0 \n",
    "\\end{aligned}\n",
    "\\end{equation}\n",
    "All annual data:\n",
    "$$\n",
    "\\alpha = .115, \\quad \\delta = .008, \\quad \\kappa = 6.67, \\quad \\text{and}\\quad i/k = .09\n",
    "$$\n",
    "\n",
    "\n",
    "\n",
    "\n",
    "SCC is computed according to:\n",
    "$$\n",
    "    SCC_t = \\frac{\\eta[\\alpha - i/k] K_t}{ ( 1 - \\eta) E_t N_t}\n",
    "$$\n",
    "Or another version, no damage in the denominator:\n",
    "$$\n",
    "    SCC_t = \\frac{\\eta[\\alpha - i/k] K_t}{ ( 1 - \\eta) E_t }\n",
    "$$\n",
    "\n",
    "\n",
    "where\n",
    "$$\n",
    "  d\\log{K_t} = [\\mu_k(Z_t) + i/k - \\frac{\\kappa}{2}(i/k)^2 - \\frac{|\\sigma_k|^2}{2}]dt + \\sigma_k(Z_t)dW_t  \n",
    "$$\n",
    "Where initial value:\n",
    "$$\n",
    "    C_0 + I_0 = 80 \\text{ and } \\log{K_0} = 80/\\alpha \n",
    "$$\n",
    "\n",
    "\n",
    "$$\n",
    "    \\mu_k(z) = - .046 + .04 \\cdot z\n",
    "$$\n",
    "\n",
    "$$\n",
    "\\sigma_k(z)' = (.0095, 0, 0) \n",
    "$$\n",
    "\n",
    "$Z_t$ process:\n",
    "$$\n",
    "dZ_t = \\mu_z(Z_t) dt + \\sigma_z(Z_t) dW_t\n",
    "$$\n",
    "Where\n",
    "$$\n",
    "\\mu_z(z) = - .056z\n",
    "$$\n",
    "\n",
    "$$\n",
    "\\sigma_z(z)' = (.022, .05, 0) \n",
    "$$\n",
    "\n",
    "$\\log{N_t}$ process, exponential linear:\n",
    "$$\n",
    "dlogN_t^1 = \\iota' Y_t\n",
    "$$\n",
    "and\n",
    "$$\n",
    "dY_t = \\Lambda Y_t dt + \\Theta (E_t + E_t \\sigma_n dW)\n",
    "$$\n",
    "\n",
    "$$\n",
    "\\sigma_n(z) = \\lambda E \\sigma_n\n",
    "$$"
   ]
  },
  {
   "cell_type": "code",
   "execution_count": 21,
   "metadata": {},
   "outputs": [],
   "source": [
    "# set time\n",
    "T  = 102\n",
    "size = 500_000"
   ]
  },
  {
   "cell_type": "code",
   "execution_count": 22,
   "metadata": {},
   "outputs": [],
   "source": [
    "dW = np.random.normal(0,1, (2, size, T))"
   ]
  },
  {
   "cell_type": "code",
   "execution_count": 23,
   "metadata": {},
   "outputs": [],
   "source": [
    "α = 0.115\n",
    "η = .032\n",
    "δ = .01\n",
    "invkap = .09\n",
    "κ = (1 - δ/(.115 - .09))/.115\n",
    "αz = 0\n",
    "βz = .056\n",
    "αc0 = 0.00484*4\n",
    "αc1 = 0.01*4\n",
    "αz = 0.014*4\n",
    "σc = np.array([0.00477*2, 0])\n",
    "σz = np.array([.022, .05])"
   ]
  },
  {
   "cell_type": "code",
   "execution_count": 30,
   "metadata": {},
   "outputs": [
    {
     "data": {
      "text/plain": [
       "(9.10116e-05, 0.002984)"
      ]
     },
     "execution_count": 30,
     "metadata": {},
     "output_type": "execute_result"
    }
   ],
   "source": [
    "var_c = np.dot(σc,σc)\n",
    "var_z = np.dot(σz,σz)\n",
    "var_c, var_z"
   ]
  },
  {
   "cell_type": "markdown",
   "metadata": {},
   "source": [
    "For value function:\n",
    "\n",
    "$$\n",
    "    V = v_c \\log{c} + v_z z + v_0\n",
    "$$\n",
    "\n",
    "$$\n",
    "\\begin{aligned}\n",
    "v_c =& 96.8\\\\\n",
    "v_z =& 58.667\n",
    "\\end{aligned}\n",
    "$$\n",
    "\n",
    "$$\n",
    "\\begin{aligned}\n",
    "    h =& - \\frac{v_z \\sigma_z + v_c \\sigma_c }{\\xi_b} \\\\\n",
    "      =& - \\frac{1}{5}\\left[58.67 \\begin{bmatrix} .022\\\\ 0.05 \\end{bmatrix}  + 96.8 \\begin{bmatrix} 0.00954\\\\0\\end{bmatrix}\\right] \\\\\n",
    "          =& \\begin{bmatrix} - 0.443 \\\\ - 0.587 \\end{bmatrix}\n",
    "\\end{aligned}\n",
    "$$"
   ]
  },
  {
   "cell_type": "code",
   "execution_count": 26,
   "metadata": {},
   "outputs": [
    {
     "data": {
      "text/plain": [
       "(96.8, 58.666666666666664)"
      ]
     },
     "execution_count": 26,
     "metadata": {},
     "output_type": "execute_result"
    }
   ],
   "source": [
    "vc = (1 - η)/δ\n",
    "vz = vc*αc1/(δ + αz)\n",
    "vc, vz"
   ]
  },
  {
   "cell_type": "code",
   "execution_count": 27,
   "metadata": {},
   "outputs": [
    {
     "data": {
      "text/plain": [
       "array([-0.44282773, -0.58666667])"
      ]
     },
     "execution_count": 27,
     "metadata": {},
     "output_type": "execute_result"
    }
   ],
   "source": [
    "ξb = 5\n",
    "h = -1/ξb*(vc*σc + vz*σz)\n",
    "h"
   ]
  },
  {
   "cell_type": "code",
   "execution_count": 33,
   "metadata": {},
   "outputs": [
    {
     "data": {
      "text/plain": [
       "(array([0.      , 0.054626]), array([0.00873211, 0.00384213]))"
      ]
     },
     "execution_count": 33,
     "metadata": {},
     "output_type": "execute_result"
    }
   ],
   "source": [
    "cov_cz = σc@σz\n",
    "σz_new = np.array([0, np.sqrt(var_z)])\n",
    "σc_new = np.array([np.sqrt(var_c -   (cov_cz/σz_new[1])**2), cov_cz/σz_new[1]])\n",
    "σz_new, σc_new"
   ]
  },
  {
   "cell_type": "code",
   "execution_count": 34,
   "metadata": {},
   "outputs": [
    {
     "data": {
      "text/plain": [
       "array([-0.16905356, -0.71532865])"
      ]
     },
     "execution_count": 34,
     "metadata": {},
     "output_type": "execute_result"
    }
   ],
   "source": [
    "ξb = 5\n",
    "h = -1/ξb*(vc*σc_new + vz*σz_new)\n",
    "h"
   ]
  },
  {
   "cell_type": "code",
   "execution_count": 35,
   "metadata": {},
   "outputs": [
    {
     "data": {
      "text/plain": [
       "0.06753427239836444"
      ]
     },
     "execution_count": 35,
     "metadata": {},
     "output_type": "execute_result"
    }
   ],
   "source": [
    "h@h/8"
   ]
  },
  {
   "cell_type": "code",
   "execution_count": 36,
   "metadata": {},
   "outputs": [
    {
     "data": {
      "text/plain": [
       "10.263635868781968"
      ]
     },
     "execution_count": 36,
     "metadata": {},
     "output_type": "execute_result"
    }
   ],
   "source": [
    "np.log(2)/(h@h/8)"
   ]
  },
  {
   "cell_type": "code",
   "execution_count": null,
   "metadata": {},
   "outputs": [],
   "source": [
    "alpha_k = -0.04600704891304346\n",
    "beta = .04\n",
    "sigma_k = np.array([.0095, 0, 0])\n",
    "k0 = 80/alpha"
   ]
  },
  {
   "cell_type": "code",
   "execution_count": null,
   "metadata": {},
   "outputs": [],
   "source": [
    "logKt = simulate_logkapital(invkap, dW, zt, alpha_k, beta, sigma_k, kappa, k0, dt=1/2)\n",
    "sigma_n = np.array([0, 0, 1.2])\n",
    "log_nt = simulate_logn_withdrift(etHigh_median, λ_base/1000, sigma_n, dW, np.zeros(size))"
   ]
  },
  {
   "cell_type": "code",
   "execution_count": null,
   "metadata": {},
   "outputs": [],
   "source": [
    "logKt.shape"
   ]
  },
  {
   "cell_type": "code",
   "execution_count": null,
   "metadata": {},
   "outputs": [],
   "source": [
    "scc_base = simulate_scc(invkap, logKt, etHigh_median, np.zeros(logKt.shape), alpha, delta, eta )"
   ]
  },
  {
   "cell_type": "code",
   "execution_count": null,
   "metadata": {},
   "outputs": [],
   "source": [
    "logkDictOriginal = get_quantile(logKt)\n",
    "lognDictOriginal = get_quantile(log_nt)"
   ]
  },
  {
   "cell_type": "code",
   "execution_count": null,
   "metadata": {},
   "outputs": [],
   "source": [
    "sccQuantOriginal = get_quantile(scc_base)"
   ]
  },
  {
   "cell_type": "code",
   "execution_count": null,
   "metadata": {
    "code_folding": [],
    "scrolled": false
   },
   "outputs": [],
   "source": [
    "# actual value\n",
    "fig = plt.figure(figsize = (24, 20))\n",
    "mpl.rcParams['lines.linewidth'] = 2\n",
    "plt.subplot(331)\n",
    "plot_quantile(logkDictOriginal)\n",
    "# plt.xlabel(\"years\")\n",
    "plt.xlim(0,200)\n",
    "# plt.ylabel(r\"$\\log{K_t} - \\log(80/\\alpha)$\", rotation=0, labelpad=80)\n",
    "plt.title(\"log capital\")\n",
    "# plt.savefig(\"logk_quantile.png\")\n",
    "plt.subplot(332)\n",
    "plot_quantile(lognDictOriginal)\n",
    "# plt.xlabel(\"years\")\n",
    "plt.xlim(0,200)\n",
    "# plt.ylabel(\"$\\log{N_t}$ \\n (scaled by 100)\", rotation=0, labelpad=80)\n",
    "plt.title(\"log damage\")\n",
    "# plt.savefig(\"logn_quantile.png\")\n",
    "plt.subplot(333)\n",
    "plt.plot(np.log(etHigh_median))\n",
    "# plt.xlabel(\"years\")\n",
    "plt.xlim(0,200)\n",
    "# plt.ylabel(\"log emission\", rotation=0, labelpad=80)\n",
    "plt.title(\"log emission\")\n",
    "\n",
    "plt.subplot(3,3,(4,9))\n",
    "plot_quantile(sccQuantOriginal)\n",
    "plt.xlabel(\"years\")\n",
    "plt.xlim(0,200)\n",
    "# plt.ylabel(r\"\\log SCC - \\log SCC_0\", rotation=0, labelpad=30)\n",
    "plt.title(\"$ \\log SCC = logK_t - \\log N_t - \\log E_t + constant$\")\n",
    "# plt.savefig(\"../figures/scc_original.png\")"
   ]
  },
  {
   "cell_type": "code",
   "execution_count": null,
   "metadata": {},
   "outputs": [],
   "source": [
    "(1/7 - .115)/7 + np.sqrt((delta - .115)/7 + (1/7 + .115)**2/4)"
   ]
  },
  {
   "cell_type": "code",
   "execution_count": null,
   "metadata": {},
   "outputs": [],
   "source": [
    "scc_median = get_quantile(scc_base, quantileList=[.5])"
   ]
  },
  {
   "cell_type": "code",
   "execution_count": null,
   "metadata": {},
   "outputs": [],
   "source": [
    "scc_rfs = pickle.load(open('../data/rfsSCC', \"rb\"))"
   ]
  },
  {
   "cell_type": "code",
   "execution_count": null,
   "metadata": {
    "code_folding": []
   },
   "outputs": [],
   "source": [
    "import plotly\n",
    "from plotly.subplots import make_subplots\n",
    "import plotly.graph_objs as go\n",
    "# plt.plot(scc_median[.5])\n",
    "fig = make_subplots(1,1)\n",
    "fig.add_trace(go.Scatter(x = np.arange(0,20+1/2, 1/2), y = scc_median[.5],\n",
    "                   name = 'median SCC , wrestling', line = dict(color = '#1f77b4', dash = 'solid', width = 3),\\\n",
    "                       showlegend = True) )\n",
    "fig.add_trace(go.Scatter(x = np.arange(0,20+1/4,1/4), y = scc_rfs,\n",
    "                   name = 'SCC, RFS', line = dict(color = 'red', dash = 'dot', width = 3),\\\n",
    "                          showlegend = True))\n",
    "\n",
    "fig.update_layout(legend=dict(\n",
    "    yanchor=\"top\",\n",
    "    y=0.99,\n",
    "    xanchor=\"left\",\n",
    "    x=0.01,\n",
    "    font=dict(size = 18),\n",
    "),\n",
    "    plot_bgcolor =\"white\"\n",
    ")\n",
    "\n",
    "fig.update_xaxes(showline=True, linewidth=2, linecolor='black', title=\"years\")\n",
    "fig.update_yaxes(showline=True, linewidth=2, linecolor='black', title=\"SCC\")\n",
    "\n",
    "fig.update_layout(\n",
    "    autosize=False,\n",
    "    width=700,\n",
    "    height=600,\n",
    "    margin=dict(\n",
    "        l=50,\n",
    "        r=50,\n",
    "        b=100,\n",
    "        t=100,\n",
    "        pad=4\n",
    "    ),\n",
    ")\n",
    "\n",
    "\n",
    "fig.show()"
   ]
  },
  {
   "cell_type": "code",
   "execution_count": null,
   "metadata": {},
   "outputs": [],
   "source": [
    "e_rfs = pickle.load(open('../data/rfsEmission', \"rb\"))"
   ]
  },
  {
   "cell_type": "code",
   "execution_count": null,
   "metadata": {},
   "outputs": [],
   "source": [
    "years = [i*4 for i in range(100)]"
   ]
  },
  {
   "cell_type": "code",
   "execution_count": null,
   "metadata": {},
   "outputs": [],
   "source": [
    "e_rfs[years].shape"
   ]
  },
  {
   "cell_type": "code",
   "execution_count": null,
   "metadata": {
    "code_folding": []
   },
   "outputs": [],
   "source": [
    "import plotly\n",
    "from plotly.subplots import make_subplots\n",
    "import plotly.graph_objs as go\n",
    "# plt.plot(scc_median[.5])\n",
    "fig = make_subplots(1,1)\n",
    "\n",
    "fig.add_trace(go.Scatter(x = np.arange(0,20+1/4,1/4), y = e_rfs,\n",
    "                   name = 'emission, RFS', line = dict(color = 'red', dash = 'dot', width = 3),\\\n",
    "                          showlegend = True))\n",
    "fig.add_trace(go.Scatter(x = np.arange(0,20 + 1/2, 1/2), y = etHigh_median,\n",
    "                   name = 'emission high , wrestling', line = dict(color = '#1c1c1c', dash = 'solid', width = 3),\\\n",
    "                       showlegend = True) )\n",
    "# fig.add_trace(go.Scatter(x = np.arange(0,101), y = e_low,\n",
    "#                    name = 'emission , wrestling', line = dict(color = '#1f77b4', dash = 'solid', width = 3),\\\n",
    "#                        showlegend = True) )\n",
    "fig.update_layout(legend=dict(\n",
    "    yanchor=\"top\",\n",
    "    y=0.99,\n",
    "    xanchor=\"left\",\n",
    "    x=0.6,\n",
    "    font=dict(size = 18),\n",
    "),\n",
    "    plot_bgcolor =\"white\"\n",
    ")\n",
    "\n",
    "fig.update_xaxes(showline=True, linewidth=2, linecolor='black', title=\"years\")\n",
    "fig.update_yaxes(showline=True, linewidth=2, linecolor='black', title=\"emission\")\n",
    "\n",
    "fig.update_layout(\n",
    "    autosize=False,\n",
    "    width=700,\n",
    "    height=600,\n",
    "    margin=dict(\n",
    "        l=50,\n",
    "        r=50,\n",
    "        b=100,\n",
    "        t=100,\n",
    "        pad=4\n",
    "    ),\n",
    ")\n",
    "\n",
    "\n",
    "fig.show()"
   ]
  },
  {
   "cell_type": "code",
   "execution_count": null,
   "metadata": {},
   "outputs": [],
   "source": [
    "damage_rfs = pickle.load(open(\"../data/rfsDamage\", \"rb\"))"
   ]
  },
  {
   "cell_type": "code",
   "execution_count": null,
   "metadata": {
    "code_folding": []
   },
   "outputs": [],
   "source": [
    "import plotly\n",
    "from plotly.subplots import make_subplots\n",
    "import plotly.graph_objs as go\n",
    "# plt.plot(scc_median[.5])\n",
    "fig = make_subplots(1,1)\n",
    "\n",
    "\n",
    "fig.add_trace(go.Scatter(x = np.arange(0,101), y = NtQuant[.5],\n",
    "                   name = r\"$ \\text{median } N_t,\\text{ wrestling }$\", line = dict(color = '#1f77b4', dash = 'solid', width = 3),\\\n",
    "                       showlegend = True) )\n",
    "\n",
    "fig.add_trace(go.Scatter(x = np.arange(0,100+1/4,1/4), y = np.exp(damage_rfs),\n",
    "                   name = r\"$N_t, RFS$\", line = dict(color = 'red', dash = 'dot', width = 3),\\\n",
    "                          showlegend = True))\n",
    "\n",
    "fig.update_layout(legend=dict(\n",
    "    yanchor=\"top\",\n",
    "    y=0.99,\n",
    "    xanchor=\"left\",\n",
    "    x=0.00,\n",
    "    font=dict(size = 12),\n",
    "    itemwidth=50\n",
    "),\n",
    "    plot_bgcolor =\"white\"\n",
    ")\n",
    "\n",
    "fig.update_xaxes(showline=True, linewidth=2, linecolor='black', title=\"years\")\n",
    "fig.update_yaxes(showline=True, linewidth=2, linecolor='black', title=\"$N_t$\")\n",
    "\n",
    "fig.update_layout(\n",
    "    autosize=False,\n",
    "    width=700,\n",
    "    height=600,\n",
    "    margin=dict(\n",
    "        l=50,\n",
    "        r=50,\n",
    "        b=100,\n",
    "        t=100,\n",
    "        pad=4\n",
    "    ),\n",
    ")\n",
    "\n",
    "\n",
    "fig.show()"
   ]
  },
  {
   "cell_type": "code",
   "execution_count": null,
   "metadata": {},
   "outputs": [],
   "source": [
    "np.log(eta/(1 - eta)*(.2 - .125))"
   ]
  },
  {
   "cell_type": "code",
   "execution_count": null,
   "metadata": {},
   "outputs": [],
   "source": [
    "sccQuantOriginal[.5][-1]"
   ]
  },
  {
   "cell_type": "code",
   "execution_count": null,
   "metadata": {},
   "outputs": [],
   "source": [
    "logkDictOriginal[.5][101], np.log(e_base_102[101])"
   ]
  },
  {
   "cell_type": "code",
   "execution_count": null,
   "metadata": {},
   "outputs": [],
   "source": [
    "np.log(1000) + np.log(eta/(1 - eta)*(.2 - .125))"
   ]
  },
  {
   "cell_type": "code",
   "execution_count": null,
   "metadata": {},
   "outputs": [],
   "source": [
    "sccQuantOriginal[.5][-1],sccQuantOriginal[.5][0]"
   ]
  },
  {
   "cell_type": "code",
   "execution_count": null,
   "metadata": {},
   "outputs": [],
   "source": [
    "logkDict = get_quantile(logKt*100 - np.log(k0)*100)\n",
    "lognDict = get_quantile(log_nt*100)\n",
    "scc_diff = np.zeros((size, T))\n",
    "for t in range(T):\n",
    "    scc_diff[:,t] = scc_base[:,t]/scc_base[:,0]\n",
    "sccQuant = get_quantile(np.log(scc_diff)*100)"
   ]
  },
  {
   "cell_type": "code",
   "execution_count": null,
   "metadata": {
    "code_folding": [],
    "scrolled": false
   },
   "outputs": [],
   "source": [
    "# for decompose\n",
    "fig = plt.figure(figsize = (24, 20))\n",
    "mpl.rcParams['lines.linewidth'] = 2\n",
    "plt.subplot(331)\n",
    "plot_quantile(logkDict)\n",
    "# plt.xlabel(\"years\")\n",
    "plt.xlim(0,100)\n",
    "# plt.ylabel(r\"$\\log{K_t} - \\log(80/\\alpha)$\", rotation=0, labelpad=80)\n",
    "plt.title(\"$\\log{K_t} - \\log{K_0}  $ \\n (scaled by 100)\")\n",
    "# plt.savefig(\"logk_quantile.png\")\n",
    "plt.subplot(332)\n",
    "plot_quantile(lognDict)\n",
    "# plt.xlabel(\"years\")\n",
    "plt.xlim(0,100)\n",
    "# plt.ylabel(\"$\\log{N_t}$ \\n (scaled by 100)\", rotation=0, labelpad=80)\n",
    "plt.title(\"log damage \\n (scaled by 100)\")\n",
    "# plt.savefig(\"logn_quantile.png\")\n",
    "plt.subplot(333)\n",
    "plt.plot((np.log(e_base_102) - np.log(e_base_102[0]))*100)\n",
    "# plt.xlabel(\"years\")\n",
    "plt.xlim(0,100)\n",
    "# plt.ylabel(\"log emission\", rotation=0, labelpad=80)\n",
    "plt.title(\"log emission: $\\log e - \\log e_0$ \\n (scaled by 100)\")\n",
    "\n",
    "plt.subplot(3,3,(4,9))\n",
    "plot_quantile(sccQuant)\n",
    "plt.xlabel(\"years\")\n",
    "plt.xlim(0,100)\n",
    "# plt.ylabel(r\"\\log SCC - \\log SCC_0\", rotation=0, labelpad=30)\n",
    "plt.title(\"$\\log SCC - \\log SCC_0$ \\n (scaled by 100)\")\n",
    "plt.savefig(\"../figures/scc_component.png\")"
   ]
  },
  {
   "cell_type": "code",
   "execution_count": null,
   "metadata": {},
   "outputs": [],
   "source": [
    "np.exp(lognDictOriginal[.5])"
   ]
  },
  {
   "cell_type": "markdown",
   "metadata": {},
   "source": [
    "# tenuous belief check\n",
    "\n",
    "$\\hat \\alpha_k = -.05 $  and $.01\\hat \\sigma_k = .0095$\n",
    "\n",
    "$ \\hat\\alpha_c = .02$  and $\\hat \\beta_c = .04 $\n",
    "\n",
    "$\\hat\\alpha = 0 $ and $\\hat\\beta_z = .056$\n",
    "\n",
    "and compute coefficient for consumption:\n",
    "$$\n",
    "\\begin{aligned}\n",
    "    \\hat \\alpha_c &= 100(i^* - \\frac{\\kappa}{2} (i^*)^2) + \\alpha_k - \\frac{(.01\\sigma_k)^2}{2} \\\\\n",
    "                  &\\approx 100\\times.02\n",
    "\\end{aligned}\n",
    "$$\n",
    "\n",
    "The consumption process:\n",
    "$$\n",
    "dlogC_t = (\\alpha_c + \\beta_c z)dt + \\sigma_c dWt\n",
    "$$\n",
    "\n",
    "The Z process:\n",
    "$$\n",
    "dZ_t = (\\alpha_z - \\beta_z Z)dt + \\sigma_z dW_t\n",
    "$$\n",
    "\n",
    "with  $\\sigma = \\begin{bmatrix} \\sigma_c' \\\\ \\sigma_z'\\end{bmatrix} = \\begin{bmatrix} .0095, & 0\\\\\n",
    "                                .022, & .05\\end{bmatrix}$"
   ]
  },
  {
   "cell_type": "code",
   "execution_count": 22,
   "metadata": {},
   "outputs": [],
   "source": [
    "# alpha_c = .484*4*0.01\n",
    "# beta_c = .04\n",
    "T = 102\n",
    "size = 100_000\n",
    "dW = np.random.normal(0,1,size=(3, size, T))"
   ]
  },
  {
   "cell_type": "code",
   "execution_count": 23,
   "metadata": {},
   "outputs": [
    {
     "data": {
      "text/plain": [
       "0.1655607044403692"
      ]
     },
     "execution_count": 23,
     "metadata": {},
     "output_type": "execute_result"
    }
   ],
   "source": [
    "sig_z = np.sqrt((.022**2 + .05**2)/(1 - (1 - .056)**2))\n",
    "sig_z"
   ]
  },
  {
   "cell_type": "code",
   "execution_count": 24,
   "metadata": {},
   "outputs": [],
   "source": [
    "Z0 = np.random.normal(0, sig_z, size=(size))"
   ]
  },
  {
   "cell_type": "code",
   "execution_count": null,
   "metadata": {},
   "outputs": [],
   "source": [
    "dW = np.random.normal(0,1,size=(3, size, 100*11))\n",
    "sigma_z = np.array([.022, .05, 0])/np.sqrt(100)\n",
    "Zt = simulate_z(dW, Z0, 0, .056/100, sigma_z)"
   ]
  },
  {
   "cell_type": "code",
   "execution_count": null,
   "metadata": {
    "scrolled": false
   },
   "outputs": [],
   "source": [
    "plt.hist(Zt[:,0], bins=200, density=True)\n",
    "plt.show()"
   ]
  },
  {
   "cell_type": "code",
   "execution_count": null,
   "metadata": {},
   "outputs": [],
   "source": [
    "np.std(Zt[:,0])"
   ]
  },
  {
   "cell_type": "code",
   "execution_count": null,
   "metadata": {},
   "outputs": [],
   "source": [
    "ZtQuant = get_quantile(Zt, quantileList=[.1, .9])"
   ]
  },
  {
   "cell_type": "code",
   "execution_count": null,
   "metadata": {},
   "outputs": [],
   "source": [
    "fig = plt.figure(figsize=(5,4))\n",
    "plt.plot(ZtQuant[.1])\n",
    "plt.plot(ZtQuant[.9])"
   ]
  },
  {
   "cell_type": "code",
   "execution_count": null,
   "metadata": {},
   "outputs": [],
   "source": [
    "sigma_c = np.array([.477*2/100, 0, 0])"
   ]
  },
  {
   "cell_type": "code",
   "execution_count": null,
   "metadata": {},
   "outputs": [],
   "source": [
    "dW = np.random.normal(0,1,size=(3, size, 100*11))\n",
    "sigma_c = np.array([.95, 0, 0])/np.sqrt(100)\n",
    "logCt = simulateLogConsumption(Zt, dW, 2/100, 4/100, sigma_c)"
   ]
  },
  {
   "cell_type": "code",
   "execution_count": null,
   "metadata": {},
   "outputs": [],
   "source": [
    "for i in range(40):\n",
    "    plt.plot(logCt[i])"
   ]
  },
  {
   "cell_type": "code",
   "execution_count": null,
   "metadata": {},
   "outputs": [],
   "source": [
    "Zt[0,:3]"
   ]
  },
  {
   "cell_type": "code",
   "execution_count": null,
   "metadata": {},
   "outputs": [],
   "source": [
    "sigma_z = np.array([.022, .05, 0])\n",
    "np.dot(sigma_z, dW[:, 0, :3])"
   ]
  },
  {
   "cell_type": "code",
   "execution_count": null,
   "metadata": {},
   "outputs": [],
   "source": [
    "logCtQuantile = get_quantile(logCt, quantileList=[.1, .9])"
   ]
  },
  {
   "cell_type": "code",
   "execution_count": null,
   "metadata": {},
   "outputs": [],
   "source": [
    "for quantile in [.9, .1]:\n",
    "    plt.plot(logCtQuantile[quantile], label=\"{} quantile\".format(quantile) , linestyle=\"dashed\", linewidth=3)\n",
    "\n",
    "plt.fill_between(x=np.arange(0,11*100), y1=logCtQuantile[.1], y2=logCtQuantile[.9], color=\"gray\", alpha=.5)\n",
    "plt.legend()\n",
    "plt.xlabel('years')\n",
    "plt.ylabel('$\\logC_1 - \\logC_0$ \\n(scaled by 100)', rotation=0, labelpad=75)\n",
    "plt.ylim(-5,30)\n",
    "plt.xlim(0,10*100)\n",
    "plt.xticks(np.arange(0,11*100, 100), [i for i in range(11)])\n",
    "# plt.savefig(\"consumption_growth10.png\")\n",
    "plt.show()"
   ]
  },
  {
   "cell_type": "code",
   "execution_count": null,
   "metadata": {},
   "outputs": [],
   "source": [
    "import pandas as pd"
   ]
  },
  {
   "cell_type": "code",
   "execution_count": null,
   "metadata": {},
   "outputs": [],
   "source": [
    "arry = np.array([logCtQuantile[.1][:11],logCtQuantile[.9][:11]])"
   ]
  },
  {
   "cell_type": "code",
   "execution_count": null,
   "metadata": {},
   "outputs": [],
   "source": [
    "print('quantiles for logCt')\n",
    "pd.DataFrame(arry, index=[\".1 quantile\", \".9 quantile\"]).round(2)"
   ]
  },
  {
   "cell_type": "code",
   "execution_count": null,
   "metadata": {},
   "outputs": [],
   "source": [
    "zarray = np.array([ZtQuant[.1], ZtQuant[.9]])"
   ]
  },
  {
   "cell_type": "code",
   "execution_count": null,
   "metadata": {},
   "outputs": [],
   "source": [
    "print('quantiles for z')\n",
    "pd.DataFrame(zarray[:,:11], index=[\".1 quantile\", \".9 quantile\"]).round(2)"
   ]
  },
  {
   "cell_type": "code",
   "execution_count": null,
   "metadata": {},
   "outputs": [],
   "source": [
    "arry10 = np.array([logCtQuantile[.1][-11:],logCtQuantile[.9][-11:]])"
   ]
  },
  {
   "cell_type": "code",
   "execution_count": null,
   "metadata": {},
   "outputs": [],
   "source": [
    "(pd.DataFrame(arry10)).round(2)"
   ]
  },
  {
   "cell_type": "markdown",
   "metadata": {},
   "source": [
    "# Quarterly simulation"
   ]
  },
  {
   "cell_type": "code",
   "execution_count": null,
   "metadata": {},
   "outputs": [],
   "source": [
    "alpha_c = .484\n",
    "alpha_c\n",
    "dWW = np.random.normal(0, 1, size = (2, 2_000_000, 42))"
   ]
  },
  {
   "cell_type": "code",
   "execution_count": null,
   "metadata": {},
   "outputs": [],
   "source": [
    "np.sqrt((.011**2 + .025**2)/(1 - (1-0.014)**2))"
   ]
  },
  {
   "cell_type": "code",
   "execution_count": null,
   "metadata": {},
   "outputs": [],
   "source": [
    "sigma_zz = np.array([.011, .025])\n",
    "ZZ0 = np.random.normal(0, .163, size=(2_000_000))\n",
    "ZZt = simulate_z(dWW, ZZ0, 0, .014, sigma_zz)"
   ]
  },
  {
   "cell_type": "code",
   "execution_count": null,
   "metadata": {},
   "outputs": [],
   "source": [
    "ZZtQuant = get_quantile(ZZt, quantileList=[.1,.9])"
   ]
  },
  {
   "cell_type": "code",
   "execution_count": null,
   "metadata": {},
   "outputs": [],
   "source": [
    "plt.figure(figsize=(5,4))\n",
    "plt.plot(ZZtQuant[.1])\n",
    "plt.plot(ZZtQuant[.9])"
   ]
  },
  {
   "cell_type": "code",
   "execution_count": null,
   "metadata": {},
   "outputs": [],
   "source": [
    "sigma_c = np.array([.477, 0])\n",
    "alpha_c =.484\n",
    "logCCt = simulateLogConsumption(ZZt, dWW, .484, 1, sigma_c, dt = 1/4)\n",
    "\n",
    "logCCtQuantile = get_quantile(logCCt, quantileList=[.1, .9])"
   ]
  },
  {
   "cell_type": "code",
   "execution_count": null,
   "metadata": {},
   "outputs": [],
   "source": [
    "logCCt[:,0]"
   ]
  },
  {
   "cell_type": "code",
   "execution_count": null,
   "metadata": {},
   "outputs": [],
   "source": [
    "logCCt.shape"
   ]
  },
  {
   "cell_type": "code",
   "execution_count": null,
   "metadata": {},
   "outputs": [],
   "source": [
    "for quantile in [.9, .1]:\n",
    "    plt.plot(logCCtQuantile[quantile][:5], label=\"{} quantile\".format(quantile) , color=\"black\", linestyle=\"dashed\", linewidth=3)\n",
    "\n",
    "plt.fill_between(x=np.arange(0,5), y1=logCCtQuantile[.1][:5], y2=logCCtQuantile[.9][:5], color=\"gray\", alpha=.5)\n",
    "# plt.legend()\n",
    "plt.xlabel('Quarters')\n",
    "plt.ylabel('$\\logC_1 - \\logC_0$ \\n(scaled by 100)', rotation=0, labelpad=75)\n",
    "# plt.ylim(-5,30)\n",
    "# plt.xlim(0,40)\n",
    "# plt.savefig('consumption_growth010.png')"
   ]
  },
  {
   "cell_type": "code",
   "execution_count": null,
   "metadata": {},
   "outputs": [],
   "source": [
    "for quantile in [.9, .1]:\n",
    "    plt.plot(logCCtQuantile[quantile], label=\"{} quantile\".format(quantile) , color=\"black\", linestyle=\"dashed\", linewidth=2)\n",
    "\n",
    "plt.fill_between(x=np.arange(0,42), y1=logCCtQuantile[.1], y2=logCCtQuantile[.9], color=\"gray\", alpha=.5)\n",
    "# plt.legend()\n",
    "plt.xlabel('Quarters')\n",
    "plt.ylabel('$\\logC_1 - \\logC_0$ \\n(scaled by 100)', rotation=0, labelpad=75)\n",
    "plt.ylim(-5,30)\n",
    "plt.xlim(0,40)\n",
    "# plt.savefig('consumption_quarter.png')"
   ]
  },
  {
   "cell_type": "code",
   "execution_count": null,
   "metadata": {},
   "outputs": [],
   "source": [
    "years = np.array([i*4 for i in range(10+1)])\n",
    "years"
   ]
  },
  {
   "cell_type": "code",
   "execution_count": null,
   "metadata": {},
   "outputs": [],
   "source": [
    "print('logCt quantiles for 10 years, quarterly simulation')\n",
    "pd.DataFrame([logCCtQuantile[.1][years], logCCtQuantile[.9][years]], index=['.1 quantile', '.9 quantile']).round(2)"
   ]
  },
  {
   "cell_type": "code",
   "execution_count": null,
   "metadata": {},
   "outputs": [],
   "source": [
    "print('logCt quantiles for first 4 quarters')\n",
    "pd.DataFrame([logCCtQuantile[.1][:5], logCCtQuantile[.9][:5]], index=['.1 quantile', '.9 quantile'], \n",
    "             columns=[\"0\", 'quarter 1', 'quarter 2', 'quarter 3 ', 'quarter 4' ]).round(3)"
   ]
  },
  {
   "cell_type": "code",
   "execution_count": null,
   "metadata": {},
   "outputs": [],
   "source": [
    "ZZtQuant = get_quantile(ZZt, quantileList=[.1,.9])"
   ]
  },
  {
   "cell_type": "code",
   "execution_count": null,
   "metadata": {},
   "outputs": [],
   "source": [
    "print('z quantiles for 10 years, , quarterly simulation')\n",
    "pd.DataFrame([ZZtQuant[.1][years], ZZtQuant[.9][years ]], index=['.1 quantile', '.9 quantile']).round(2)"
   ]
  },
  {
   "cell_type": "code",
   "execution_count": null,
   "metadata": {},
   "outputs": [],
   "source": [
    "for quantile in [.9, .1]:\n",
    "    plt.plot(logCCtQuantile[quantile][:10], label=\"{} quantile\".format(quantile) , linestyle=\"dashed\", linewidth=4)\n",
    "\n",
    "plt.fill_between(x=np.arange(0,10), y1=logCCtQuantile[.1][:10], y2=logCCtQuantile[.9][:10], color=\"gray\", alpha=.5)\n",
    "plt.legend()\n",
    "plt.xlabel('years')\n",
    "plt.ylabel('$\\logC_1 - \\logC_0$ \\n(scaled by 100)', rotation=0, labelpad=75)\n",
    "# plt.savefig('consumption_growth0100.png')"
   ]
  },
  {
   "cell_type": "markdown",
   "metadata": {},
   "source": [
    "# Compute implied distortion for logk, z and n\n",
    "$$\n",
    "\\sigma_k' h^* = - \\frac{v_k \\sigma_k'\\sigma_k + \\frac{d \\psi (z)}{dz} \\cdot \\sigma_k' \\sigma_z}{\\xi_m}\n",
    "$$\n",
    "where\n",
    "$$\n",
    "v_k = 1 - \\eta\n",
    "$$\n",
    "\n",
    "Extract k, y and min-max problem:\n",
    "$$\n",
    "\\delta \\phi(r) + \\delta \\psi(z) =  \\delta[(1 - \\eta) \\log{(\\alpha - i^*)} + \\eta \\log{e^*} - \\iota_1 z] - \\frac{\\xi_m}{2} (h^*)'h^* + v_k(\\mu_k(z) + i^* - \\frac{\\kappa}{2}(i^*)^2 - \\sigma_k^2/2 ) + v_y'\\Theta e^* - \\frac{d\\phi}{dr}e^* + \\frac{d\\psi}{dz}\\mu_z(z) + \\frac{1}{2}trace(\\sigma_z' \\frac{d^2 \\psi}{dz^2} \\sigma_z) \n",
    "$$\n",
    "\n",
    "set\n",
    "$$\n",
    "\\tau_1 = - v_y'\\Theta = median * \\gamma_{base}\n",
    "$$\n",
    "\n",
    "In equilibrium $e^*$ satisfies:\n",
    "$$\n",
    "- \\tau_1 e^*  - \\frac{d\\phi}{dr}e^* =   \\tau_2 (e^*)^2 - \\delta \\eta \n",
    "$$\n",
    "\n",
    "The ODE:\n",
    "$$\n",
    "\\delta \\psi(z) =   - \\frac{\\frac{d\\psi}{dz} v_k (\\sigma_k'\\sigma_z + \\sigma_z'\\sigma_k ) + (\\frac{d\\psi}{dz})^2 \\sigma_z'\\sigma_z }{2\\xi_m} + \\frac{d\\psi}{dz} \\mu_z(z)  + \\frac{1} {2}\\frac{d^2 \\psi}{dz^2}\\sigma_z' \\sigma_z + \\delta[(1 - \\eta) \\log{(\\alpha - i^*)}  - \\iota_1 z]  + v_k(\\mu_k(z) + i^* - \\frac{\\kappa}{2}(i^*)^2 - \\sigma_k^2/2 )\n",
    "$$\n",
    "\n",
    "Temporarily set $\\iota_2 = 0$\n",
    "\n",
    "The $\\psi(z)$ is linear in $z$:\n",
    "$$\n",
    "\\psi(z) = v_z z + v_0\n",
    "$$"
   ]
  },
  {
   "cell_type": "markdown",
   "metadata": {},
   "source": [
    "If we know that $\\psi(z) = v_z\\cdot z + v_0$\n",
    "\n",
    "coefficient of z should be 0:\n",
    "\n",
    "$$\n",
    " - \\delta v_z z  +  v_k\\cdot (\\beta_k - \\iota_2) z + v_z\\cdot(- \\beta_z z) = 0 \n",
    "$$\n",
    "\n",
    "$$\n",
    "- \\delta v_z z - .056 v_z z  + .01 (1 - \\eta)z = 0\n",
    "$$\n",
    "\n",
    "$$\n",
    "\\begin{aligned}\n",
    " v_z = \\frac{.04(1 - \\eta)}{\\delta + .056}\n",
    "\\end{aligned}\n",
    "$$\n",
    "Thus\n",
    "$$\n",
    "v_z = \\frac{ -\\delta \\iota_2  + v_k \\beta_k}{\\delta + \\kappa} = (1 - .032)\\cdot .04 /(.008 + .056)\n",
    "$$"
   ]
  },
  {
   "cell_type": "code",
   "execution_count": null,
   "metadata": {},
   "outputs": [],
   "source": [
    "sigma_k = np.array([.0095, 0, 0])\n",
    "sigma_z = np.array([.022, .05, 0])\n",
    "\n",
    "xi_m = .00256\n",
    "i = .125\n",
    "alpha = .2\n",
    "eta = .032\n",
    "delta = .008"
   ]
  },
  {
   "cell_type": "code",
   "execution_count": null,
   "metadata": {},
   "outputs": [],
   "source": [
    "alpha_z = 0.\n",
    "beta_z = .056\n",
    "sigma_z = np.array([.022, .05, 0])"
   ]
  },
  {
   "cell_type": "code",
   "execution_count": null,
   "metadata": {},
   "outputs": [],
   "source": [
    "alpha_k = -.05\n",
    "beta_k = .04\n",
    "kappa = 7\n",
    "k0 = 80/alpha\n",
    "sigma_k = np.array([.0095, 0, 0])"
   ]
  },
  {
   "cell_type": "code",
   "execution_count": null,
   "metadata": {},
   "outputs": [],
   "source": [
    "v_z = beta_k*(1 - eta)/(delta + beta_z)\n",
    "v_k = 1 - eta\n",
    "v_z, v_k"
   ]
  },
  {
   "cell_type": "code",
   "execution_count": null,
   "metadata": {},
   "outputs": [],
   "source": [
    "y = (v_k*sigma_k + v_z*sigma_z)"
   ]
  },
  {
   "cell_type": "code",
   "execution_count": null,
   "metadata": {},
   "outputs": [],
   "source": [
    "xi = np.sqrt(np.sum(y**2/2)/(.1**2/2 ))\n",
    "xi"
   ]
  },
  {
   "cell_type": "code",
   "execution_count": null,
   "metadata": {},
   "outputs": [],
   "source": [
    "h_raw = - (v_k*sigma_k + v_z*sigma_z)/xi_m\n",
    "h_raw                                                                     "
   ]
  },
  {
   "cell_type": "code",
   "execution_count": null,
   "metadata": {},
   "outputs": [],
   "source": [
    "h_capital = np.dot(sigma_k, h_raw)\n",
    "h_capital"
   ]
  },
  {
   "cell_type": "code",
   "execution_count": null,
   "metadata": {},
   "outputs": [],
   "source": [
    "h_z = np.dot(sigma_z, h_raw)\n",
    "h_z/0.056"
   ]
  },
  {
   "cell_type": "code",
   "execution_count": null,
   "metadata": {},
   "outputs": [],
   "source": [
    "x = np.zeros((size,3))\n",
    "x[:] = h_raw"
   ]
  },
  {
   "cell_type": "code",
   "execution_count": null,
   "metadata": {},
   "outputs": [],
   "source": [
    "sigma_z"
   ]
  },
  {
   "cell_type": "code",
   "execution_count": null,
   "metadata": {},
   "outputs": [],
   "source": [
    "dW = np.random.normal(0,1,size = (3, 100_000, 102))\n",
    "sig_z = np.sqrt((.022**2+ .05**2)/(1 - (1-.056)**2))\n",
    "print(sig_z)\n",
    "z0 = np.random.normal(h_z/.056, sig_z, size=(size))\n",
    "Z_d = simulate_z(dW, z0, 0, 0.056, sigma_z, x.T)\n",
    "ZtQuant_d = get_quantile(Z_d, quantileList=[.1, .9])"
   ]
  },
  {
   "cell_type": "code",
   "execution_count": null,
   "metadata": {},
   "outputs": [],
   "source": [
    "plot_quantile(ZtQuant_d, quantileList=[.1, .9])"
   ]
  },
  {
   "cell_type": "code",
   "execution_count": null,
   "metadata": {},
   "outputs": [],
   "source": [
    "logK_d = simulate_logkapital(.125, dW, Z_d, alpha_k, beta_k, sigma_k, kappa, k0, x.T)\n",
    "logKQuant_d = get_quantile(logK_d)"
   ]
  },
  {
   "cell_type": "code",
   "execution_count": null,
   "metadata": {},
   "outputs": [],
   "source": [
    "plot_quantile(logKQuant_d)\n",
    "plt.xlabel(\"years\")\n",
    "plt.ylabel(r'$\\log{K_t}$', rotation=0, labelpad=30)\n",
    "# plt.title('SCC, no damage')"
   ]
  },
  {
   "cell_type": "code",
   "execution_count": null,
   "metadata": {},
   "outputs": [],
   "source": [
    "sigma_c = np.array([.477, 0, 0])"
   ]
  },
  {
   "cell_type": "code",
   "execution_count": null,
   "metadata": {},
   "outputs": [],
   "source": [
    "logC = simulateLogConsumption(Z_d, dW, 2, 4, sigma_c, dt = 1)\n",
    "logCQuant = get_quantile(logC)"
   ]
  },
  {
   "cell_type": "code",
   "execution_count": null,
   "metadata": {},
   "outputs": [],
   "source": [
    "plot_quantile(logCQuant)"
   ]
  },
  {
   "cell_type": "code",
   "execution_count": null,
   "metadata": {},
   "outputs": [],
   "source": [
    "sigma_n = np.array([0, 0, 1.2])\n",
    "log_n = simulate_logn_withdrift(e_base_102, λ_base/1000, sigma_n, dW, h_hat_base)"
   ]
  },
  {
   "cell_type": "code",
   "execution_count": null,
   "metadata": {},
   "outputs": [],
   "source": [
    "log_n_quantile = get_quantile(log_n)"
   ]
  },
  {
   "cell_type": "code",
   "execution_count": null,
   "metadata": {},
   "outputs": [],
   "source": [
    "plot_quantile(log_n_quantile)\n",
    "plt.show()"
   ]
  },
  {
   "cell_type": "code",
   "execution_count": null,
   "metadata": {},
   "outputs": [],
   "source": [
    "SCC = simulate_scc(invkap, logK_d, e_base_102, log_n, alpha, delta, eta )\n",
    "SCCQuant = get_quantile(SCC)"
   ]
  },
  {
   "cell_type": "code",
   "execution_count": null,
   "metadata": {},
   "outputs": [],
   "source": [
    "mpl.rcParams['lines.linewidth'] = 3\n",
    "\n",
    "fig = plt.figure(figsize = (26,26))\n",
    "# plt.subplots_adjust(wspace= 0.25, hspace= 0.25)\n",
    "plt.suptitle(\"With drift distortion\", fontsize=40)\n",
    "sub1 = fig.add_subplot(5,3,1) # two rows, two columns, fist cell\n",
    "plot_quantile(ZtQuant_d, quantileList=[.1, .9])\n",
    "plt.title('z')\n",
    "\n",
    "sub1 = fig.add_subplot(5,3,2)\n",
    "plot_quantile(logKQuant_d)\n",
    "plt.title('$\\logK_t$')\n",
    "sub1 = fig.add_subplot(5,3,3)\n",
    "plot_quantile(log_n_quantile)\n",
    "plt.title('$\\logN_t$')\n",
    "\n",
    "sub2 = fig.add_subplot(5,3,(4,9))\n",
    "plot_quantile(SCCQuant)\n",
    "plt.title('$SCC1$, (without $N_t*$ in the denominator)')\n",
    "\n",
    "# sub2 = fig.add_subplot(5,3,(10,15))\n",
    "# plot_quantile(SCC2Quant)\n",
    "# plt.title('$SCC2$, (with $N_t*$ in the denominator)')\n",
    "# plt.xlabel('years')\n",
    "# # plt.savefig('With_distortion.png')"
   ]
  }
 ],
 "metadata": {
  "kernelspec": {
   "display_name": "ry38",
   "language": "python",
   "name": "ry38"
  },
  "language_info": {
   "codemirror_mode": {
    "name": "ipython",
    "version": 3
   },
   "file_extension": ".py",
   "mimetype": "text/x-python",
   "name": "python",
   "nbconvert_exporter": "python",
   "pygments_lexer": "ipython3",
   "version": "3.8.7"
  },
  "latex_envs": {
   "LaTeX_envs_menu_present": true,
   "autoclose": false,
   "autocomplete": true,
   "bibliofile": "biblio.bib",
   "cite_by": "apalike",
   "current_citInitial": 1,
   "eqLabelWithNumbers": true,
   "eqNumInitial": 1,
   "hotkeys": {
    "equation": "Ctrl-E",
    "itemize": "Ctrl-I"
   },
   "labels_anchors": false,
   "latex_user_defs": false,
   "report_style_numbering": false,
   "user_envs_cfg": false
  }
 },
 "nbformat": 4,
 "nbformat_minor": 4
}
