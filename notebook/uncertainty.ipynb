{
 "cells": [
  {
   "cell_type": "code",
   "execution_count": 1,
   "metadata": {},
   "outputs": [],
   "source": [
    "import os, sys\n",
    "sys.path.append(os.path.dirname(os.getcwd()) + '/source')\n",
    "\n",
    "from experiment import solve_value_function, solve_alternative_ME\n",
    "from model import ode_y, ode_y_jump_approach_one_boundary, uncertainty_decomposition\n",
    "from simulation import simulation\n",
    "from utilities import find_nearest_value\n",
    "from numba import njit\n",
    "import numpy as np\n",
    "import pandas as pd\n",
    "import matplotlib.pyplot as plt\n",
    "import matplotlib as mpl\n",
    "mpl.rcParams['axes.spines.right'] = False\n",
    "mpl.rcParams['axes.spines.top'] = False"
   ]
  },
  {
   "cell_type": "code",
   "execution_count": 2,
   "metadata": {},
   "outputs": [],
   "source": [
    "damage_setting={'γ_2p': np.array([0, .0197*2, .3853*2]),\n",
    "                'πd_o': np.array([1./3, 1./3, 1./3])}"
   ]
  },
  {
   "cell_type": "code",
   "execution_count": 3,
   "metadata": {},
   "outputs": [],
   "source": [
    "# Simulate capital process\n",
    "# Capital and z parameters\n",
    "α_k = -0.043\n",
    "β_k = 0.04\n",
    "σ_k = np.array([0.477*2, 0])/100.\n",
    "β_z = 0.014*4\n",
    "σ_z = np.array([0.011*2, 0.025*2])\n",
    "α = 0.115\n",
    "ioverk = 0.09\n",
    "κ = 6.667\n",
    "\n",
    "\n",
    "@njit(parallel=True)\n",
    "def simulate_capital(α_k, β_k, σ_k, β_z, σ_z, ioverk, κ, Ws, k_start, N=100_000, T=100, dt=1.):\n",
    "    var_z = dt*σ_z@σ_z/(1-(1-β_z*dt)**2)\n",
    "    std_z = np.sqrt(var_z)\n",
    "\n",
    "    time_periods = int(T/dt)\n",
    "    z_path = np.zeros((N, time_periods+1))\n",
    "    k_path = np.zeros((N, time_periods+1))\n",
    "    for i in range(N):\n",
    "        z0 = np.random.normal(0.,std_z)\n",
    "        k0 = k_start\n",
    "        z_path[i, 0] = z0\n",
    "        k_path[i, 0] = k0\n",
    "        for j in range(1, time_periods+1):\n",
    "            k1 = k0 + (α_k + β_k*z0 + ioverk - κ/2.*ioverk**2 - σ_k@σ_k/2.)*dt + σ_k@Ws[i, j]*np.sqrt(dt)\n",
    "            z1 = (1.-β_z*dt)*z0 + σ_z@Ws[i, j]*np.sqrt(dt)\n",
    "            k_path[i, j] = k1\n",
    "            z_path[i, j] = z1\n",
    "            k0 = k1\n",
    "            z0 = z1\n",
    "    return k_path\n",
    "\n",
    "T = 100\n",
    "N = 1_000_000\n",
    "dt = 1.\n",
    "k_start = np.log(80/α)\n",
    "η = .032\n",
    "Ws = np.random.multivariate_normal(np.zeros(2), np.eye(2), (N, int(T/dt)))\n",
    "logk_path = simulate_capital(α_k, β_k, σ_k, β_z, σ_z, ioverk, κ, Ws, k_start, N=N, T=T, dt=dt)\n",
    "Kt = np.percentile(np.exp(logk_path), 50, axis=0)"
   ]
  },
  {
   "cell_type": "markdown",
   "metadata": {},
   "source": [
    "## SCC and Uncertainty"
   ]
  },
  {
   "cell_type": "code",
   "execution_count": 15,
   "metadata": {},
   "outputs": [
    {
     "name": "stdout",
     "output_type": "stream",
     "text": [
      "Converged. Total iteration 5000: LHS Error: 4.395115867072974e-06; RHS Error 0.00011317162210058851\n",
      "Converged. Total iteration 5000: LHS Error: 1.396205537904649e-05; RHS Error 0.00038757291308351427\n",
      "Converged. Total iteration 1744: LHS Error: 8.599419354382575e-09; RHS Error 0.0019939664876559198\n",
      "Converged. Total iteration 5000: LHS Error: 8.336377047157838e-06; RHS Error 0.00016717706447612335\n",
      "Converged. Total iteration 5000: LHS Error: 8.530287774677348e-06; RHS Error 0.0003863459401368674\n",
      "Converged. Total iteration 332: LHS Error: 9.381663446106359e-09; RHS Error 0.001993763567258915\n",
      "Converged. Total iteration 5000: LHS Error: 6.599459865430646e-06; RHS Error 0.0007168974346243688\n",
      "Converged. Total iteration 10000: LHS Error: 3.620975853202424e-06; RHS Error 0.0003714038610260102\n"
     ]
    }
   ],
   "source": [
    "ξ_w = .3\n",
    "ξ_p = 5.\n",
    "ξ_a = 100000.\n",
    "\n",
    "ϵ = 5.\n",
    "η = .032\n",
    "δ = .01\n",
    "\n",
    "θ = pd.read_csv('../data/model144.csv', header=None).to_numpy()[:, 0]/1000.\n",
    "πc_o = np.ones_like(θ)/len(θ)\n",
    "\n",
    "σ_y = 1.2*np.mean(θ)\n",
    "y_bar = 2.\n",
    "γ_1 = 1.7675/10000\n",
    "γ_2 = .0022*2\n",
    "γ_2p = damage_setting['γ_2p']\n",
    "πd_o = damage_setting['πd_o']\n",
    "\n",
    "y_step = .02\n",
    "y_grid_long = np.arange(0., 4., y_step)\n",
    "y_grid_short = np.arange(0., 2+y_step, y_step)\n",
    "n_bar = find_nearest_value(y_grid_long, y_bar) + 1\n",
    "\n",
    "# Uncertainty decomposition\n",
    "n_temp = 16\n",
    "n_carb = 9\n",
    "θ_reshape = θ.reshape(n_temp, n_carb)\n",
    "θ_temp = np.mean(θ_reshape, axis=1)\n",
    "θ_carb = np.mean(θ_reshape, axis=0)\n",
    "πc_o_temp = np.ones_like(θ_temp)/len(θ_temp)\n",
    "πc_o_carb = np.ones_like(θ_carb)/len(θ_carb)\n",
    "\n",
    "# Prepare ϕ_i (carbon + temperature)\n",
    "ϕ_list = []\n",
    "for γ_2p_i in γ_2p:\n",
    "    model_paras = (η, δ, θ, πc_o, σ_y, ξ_w, ξ_a, γ_1, γ_2, γ_2p_i, y_bar) \n",
    "    model_res = ode_y(y_grid_long, model_paras, v0=None, ϵ=ϵ,\n",
    "                       tol=1e-8, max_iter=5_000, print_all=False)\n",
    "    ϕ_list.append(model_res['v0'])\n",
    "\n",
    "ϕ_list_short = []\n",
    "for ϕ_i in ϕ_list:\n",
    "    temp = ϕ_i[:n_bar]\n",
    "    ϕ_list_short.append(temp)\n",
    "ϕ_i_carb_temp = np.array(ϕ_list_short)\n",
    "\n",
    "# Prepare ϕ_i (baseline)\n",
    "ϕ_list = []\n",
    "for γ_2p_i in γ_2p:\n",
    "    model_paras = (η, δ, θ, πc_o, σ_y, ξ_w, 1000., γ_1, γ_2, γ_2p_i, y_bar) \n",
    "    model_res = ode_y(y_grid_long, model_paras, v0=None, ϵ=ϵ,\n",
    "                       tol=1e-8, max_iter=5_000, print_all=False)\n",
    "    ϕ_list.append(model_res['v0'])\n",
    "\n",
    "ϕ_list_short = []\n",
    "for ϕ_i in ϕ_list:\n",
    "    temp = ϕ_i[:n_bar]\n",
    "    ϕ_list_short.append(temp)\n",
    "ϕ_i_baseline = np.array(ϕ_list_short)\n",
    "\n",
    "# Compute ϕ\n",
    "ς = .25\n",
    "model_paras = (η, δ, θ, πc_o, σ_y, ξ_w, ξ_p, ξ_a, ς, γ_1, γ_2, y_bar, ϕ_i_carb_temp, πd_o)\n",
    "model_res = ode_y_jump_approach_one_boundary(y_grid_short, model_paras, \n",
    "                                             v0=np.average(ϕ_i_carb_temp, weights=πd_o, axis=0),\n",
    "                                             ϵ=ϵ, tol=1e-8, max_iter=5_000, print_all=False)\n",
    "\n",
    "ME_total = η/model_res['e_tilde']\n",
    "\n",
    "# Solve baseline\n",
    "model_paras_new = (η, δ, θ, πc_o, σ_y, ξ_w, ξ_p, ξ_a, γ_1, γ_2, ϕ_i_baseline, πd_o)\n",
    "model_res_new = uncertainty_decomposition(y_grid_short, model_paras_new,\n",
    "                                          e_tilde=model_res['e_tilde'], \n",
    "                                          h=np.zeros_like(model_res['h']),\n",
    "                                          πc=np.ones_like(model_res['πc'])/len(θ),\n",
    "                                          bc=np.average(ϕ_i_baseline, weights=πd_o, axis=0)[-1],\n",
    "                                          v0=None, ϵ=ϵ, tol=1e-8, max_iter=10_000, print_all=False)  \n",
    "ME_baseline = model_res_new['ME']"
   ]
  },
  {
   "cell_type": "code",
   "execution_count": 16,
   "metadata": {},
   "outputs": [],
   "source": [
    "def simulation_me(y_grid, e_grid, ratio_grid, θ=1.86/1000., y_start=.5394, T=50):\n",
    "    Et = np.zeros(T+1)\n",
    "    yt = np.zeros(T+1)\n",
    "    ratio_t = np.zeros(T+1)\n",
    "    for i in range(T+1):\n",
    "        Et[i] = np.interp(y_start, y_grid, e_grid)\n",
    "        ratio_t[i] = np.interp(y_start, y_grid, ratio_grid)\n",
    "        yt[i] = y_start\n",
    "        y_start = y_start + Et[i]*θ\n",
    "    return Et, yt, ratio_t\n",
    "\n",
    "et, yt, ht, gt = simulation(model_res['y_grid'], model_res['e_tilde'], model_res['h'], model_res['g'],\n",
    "                            θ=np.mean(model_res['θ']), y_start=1.1, T=80)\n",
    "\n",
    "_, _, ratio_t = simulation_me(y_grid_short, model_res['e_tilde'], \n",
    "                                      ME_baseline/ME_total, θ=np.mean(θ), y_start=1.1, T=80)"
   ]
  },
  {
   "cell_type": "code",
   "execution_count": 17,
   "metadata": {},
   "outputs": [
    {
     "data": {
      "image/png": "[encoded data removed]",
      "text/plain": [
       "<Figure size 576x360 with 1 Axes>"
      ]
     },
     "metadata": {
      "needs_background": "light"
     },
     "output_type": "display_data"
    }
   ],
   "source": [
    "SCCt_all = η*(0.025)*Kt[:81]/((1.-η)*et) * 1000\n",
    "SCCt_baseline = SCCt_all * ratio_t\n",
    "SCCt_uncertainty = SCCt_all - SCCt_baseline\n",
    "\n",
    "plt.figure(figsize=(8, 5))\n",
    "plt.plot(SCCt_all, color='rebeccapurple', label='Total', linewidth=2.5)\n",
    "plt.plot(SCCt_uncertainty, color='rebeccapurple', label='Uncertainty', linestyle='dashed', linewidth=2.5)\n",
    "plt.fill_between(np.arange(0, 81, 1), np.zeros_like(SCCt_uncertainty), \n",
    "                 SCCt_uncertainty, color='rebeccapurple', alpha=.4)\n",
    "plt.ylim(0, 1000)\n",
    "plt.xlim(0, 80)\n",
    "plt.xlabel('Years', fontsize=13)\n",
    "plt.ylabel('SCC ($/tC)', fontsize=13)\n",
    "plt.legend(frameon=False, loc='upper left')\n",
    "plt.savefig('../plots/scc.pdf')"
   ]
  },
  {
   "cell_type": "code",
   "execution_count": 18,
   "metadata": {},
   "outputs": [
    {
     "data": {
      "text/plain": [
       "array([ 91.68648963,  94.18585555,  96.75246565,  99.38826507,\n",
       "       102.0976161 , 104.8805615 , 107.73405864, 110.66625682,\n",
       "       113.67486913, 116.77123458, 119.95091891, 123.21497228,\n",
       "       126.56871702, 130.00228493, 133.54230926, 137.17101325,\n",
       "       140.89762291, 144.73005832, 148.68453713, 152.73293194,\n",
       "       156.88501395, 161.14953735, 165.52336622, 170.0400497 ,\n",
       "       174.67152538, 179.41159616, 184.29218576, 189.30777273,\n",
       "       194.45693855, 199.75210834, 205.20308537, 210.79114521,\n",
       "       216.50894415, 222.38255181, 228.43190488, 234.64029812,\n",
       "       241.00444597, 247.56968327, 254.36254755, 261.28762011,\n",
       "       268.41991287, 275.7047971 , 283.22652517, 290.94520996,\n",
       "       298.85546617, 307.00094974, 315.39683319, 323.97117332,\n",
       "       332.81433224, 341.86627091, 351.14329366, 360.68356083,\n",
       "       370.47636141, 380.44690471, 390.81807159, 401.44060664,\n",
       "       412.31239577, 423.4630966 , 434.91920412, 446.83569563,\n",
       "       458.99432045, 471.51259824, 484.40368461, 497.61989173,\n",
       "       511.24207909, 525.24759547, 539.49420164, 554.20833217,\n",
       "       569.3330828 , 584.77813852, 600.77369525, 617.15356173,\n",
       "       633.98931401, 651.36168702, 669.10657065, 687.42987974,\n",
       "       706.19846571, 725.52124034, 745.42303722, 765.79679644,\n",
       "       786.77558226])"
      ]
     },
     "execution_count": 18,
     "metadata": {},
     "output_type": "execute_result"
    }
   ],
   "source": [
    "SCCt_all"
   ]
  },
  {
   "cell_type": "code",
   "execution_count": 19,
   "metadata": {},
   "outputs": [
    {
     "data": {
      "text/plain": [
       "array([ 16.49618172,  17.00306436,  17.52522253,  18.06386783,\n",
       "        18.61971152,  19.19277078,  19.78331814,  20.39193984,\n",
       "        21.01999984,  21.66817183,  22.33715067,  23.02643399,\n",
       "        23.7378221 ,  24.46951012,  25.2265962 ,  26.00654289,\n",
       "        26.81046559,  27.64142942,  28.5012346 ,  29.38678403,\n",
       "        30.29796979,  31.23942934,  32.20800231,  33.2137732 ,\n",
       "        34.24827163,  35.31422312,  36.41460785,  37.55242224,\n",
       "        38.72416768,  39.93609978,  41.18744694,  42.47763819,\n",
       "        43.80322136,  45.17178756,  46.58660498,  48.0453934 ,\n",
       "        49.54837115,  51.1038852 ,  52.72082921,  54.37571094,\n",
       "        56.09013759,  57.84718929,  59.67053441,  61.54807927,\n",
       "        63.48305579,  65.48474647,  67.55602256,  69.69140379,\n",
       "        71.89856332,  74.18483345,  76.53867833,  78.97679334,\n",
       "        81.5001174 ,  84.08053618,  86.7861422 ,  89.56689432,\n",
       "        92.43033666,  95.38301214,  98.42564708, 101.60195656,\n",
       "       104.85573905, 108.21208485, 111.67423665, 115.234857  ,\n",
       "       118.90496819, 122.6867473 , 126.5539836 , 130.57810964,\n",
       "       134.72574847, 139.01256021, 143.50219171, 148.11576846,\n",
       "       152.91785329, 157.90524694, 163.0201738 , 168.3211289 ,\n",
       "       173.77119424, 179.39758909, 185.21798142, 191.19780942,\n",
       "       197.37670044])"
      ]
     },
     "execution_count": 19,
     "metadata": {},
     "output_type": "execute_result"
    }
   ],
   "source": [
    "SCCt_uncertainty"
   ]
  },
  {
   "cell_type": "code",
   "execution_count": 20,
   "metadata": {},
   "outputs": [
    {
     "data": {
      "text/plain": [
       "array([0.82008056, 0.81947327, 0.81886537, 0.81824949, 0.81762834,\n",
       "       0.81700355, 0.81636895, 0.8157348 , 0.81508666, 0.81443913,\n",
       "       0.81378091, 0.81311984, 0.81245111, 0.81177631, 0.8110966 ,\n",
       "       0.81040788, 0.80971669, 0.8090139 , 0.8083107 , 0.80759366,\n",
       "       0.80687786, 0.80614633, 0.80541719, 0.80467088, 0.80392756,\n",
       "       0.80316644, 0.80240829, 0.80163296, 0.80085993, 0.8000717 ,\n",
       "       0.79928447, 0.79848471, 0.79768401, 0.79687351, 0.79605911,\n",
       "       0.7952381 , 0.79440889, 0.79357777, 0.79273352, 0.79189327,\n",
       "       0.79103585, 0.79018432, 0.78931869, 0.78845474, 0.78757941,\n",
       "       0.7866953 , 0.78580627, 0.78488394, 0.78396795, 0.78300043,\n",
       "       0.78203007, 0.78103578, 0.78001264, 0.77899535, 0.77793723,\n",
       "       0.77688631, 0.7758245 , 0.77475484, 0.77369211, 0.77261898,\n",
       "       0.7715533 , 0.77050012, 0.76946039, 0.76842795, 0.76741944,\n",
       "       0.76642112, 0.76542105, 0.76438804, 0.76336216, 0.76228154,\n",
       "       0.76113769, 0.76000176, 0.75880058, 0.7575767 , 0.75636142,\n",
       "       0.75514429, 0.75393434, 0.75273282, 0.75152635, 0.75032827,\n",
       "       0.74913215])"
      ]
     },
     "execution_count": 20,
     "metadata": {},
     "output_type": "execute_result"
    }
   ],
   "source": [
    "ratio_t"
   ]
  }
 ],
 "metadata": {
  "kernelspec": {
   "display_name": "Python 3",
   "language": "python",
   "name": "python3"
  },
  "language_info": {
   "codemirror_mode": {
    "name": "ipython",
    "version": 3
   },
   "file_extension": ".py",
   "mimetype": "text/x-python",
   "name": "python",
   "nbconvert_exporter": "python",
   "pygments_lexer": "ipython3",
   "version": "3.8.5"
  }
 },
 "nbformat": 4,
 "nbformat_minor": 4
}
