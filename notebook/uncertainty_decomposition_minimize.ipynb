{
 "cells": [
  {
   "cell_type": "code",
   "execution_count": 1,
   "metadata": {},
   "outputs": [],
   "source": [
    "import os, sys\n",
    "sys.path.append(os.path.dirname(os.getcwd()) + '/source')\n",
    "\n",
    "import numpy as np\n",
    "import pandas as pd\n",
    "import matplotlib.pyplot as plt\n",
    "from model import ode_y, ode_y_jump_approach_one, ode_y_jump_approach_one_boundary\n",
    "from model import solve_with_emission_boundary\n",
    "from utilities import find_nearest_value\n",
    "from numba import njit\n",
    "\n",
    "import matplotlib as mpl\n",
    "\n",
    "mpl.rcParams['axes.spines.right'] = False\n",
    "mpl.rcParams['axes.spines.top'] = False"
   ]
  },
  {
   "cell_type": "markdown",
   "metadata": {},
   "source": [
    "**ODE for y on (0, 2)**:\n",
    "\\begin{align*}\n",
    "0 = \\max_{\\tilde{e}} \\min_h &  -\\delta \\phi(y) + \\delta \\eta \\log \\tilde{e} \\\\\n",
    "&+ \\frac{d\\phi(y)}{dy}\\tilde{e}(\\sum_{i=1}^n \\pi_i^c \\theta_i\\ + \\sigma_y \\cdot h) + \\frac{1}{2} \\frac{d^2 \\phi(y)}{(d y)^2}|\\sigma_y|^2(\\tilde{e})^2\\\\\n",
    "&+ (\\eta-1)(\\gamma_1 + \\gamma_2 y)\\tilde{e}(\\sum_{i=1}^n \\pi_i^c \\theta_i\\ + \\sigma_y \\cdot h)\\\\\n",
    "& + (\\eta-1)\\left[\\frac{1}{2}\\left(\\gamma_2 + \\gamma_2^+\\boldsymbol{1}_{y\\geq \\bar{y}}\\right)\\right]|\\sigma_y|^2(\\tilde{e})^2\\\\\n",
    "& +\\frac{\\xi_{1,m}}{2}h^\\prime h + \\xi_a\\sum_{i=1}^{n} \\pi_i^c(\\log \\pi_i^c - \\log \\hat{\\pi}_i^c)\\\\\n",
    "\\end{align*}\n",
    "\n",
    "\n",
    "#### 1. minimize over $h$:\n",
    "\n",
    "The FOC of $h$ gives:\n",
    "$$\n",
    "h^* = -\\frac{\\left(\\frac{d\\phi(y)}{dy} + (\\eta-1)(\\gamma_1 + \\gamma_2 y )\\right)\\tilde{e}\\sigma_y}{\\xi_{1,m}}\n",
    "$$\n",
    "\n",
    "\n",
    "Substitute $h$ with $h^*$ in the ODE:\n",
    "\n",
    "\\begin{align*}\n",
    "0 = \\max_{\\tilde{e}} & -\\delta \\phi(y) + \\delta \\eta \\log \\tilde{e} \\\\\n",
    "& + G(y)\\tilde{e}\\sum_{i=1}^n \\pi^c_i\\theta_i + \\frac{1}{2} \\left(F(y)-\\frac{G^2(y)}{\\xi_{1,m}}\\right)|\\sigma_y|^2(\\tilde{e})^2\\\\\n",
    "&+ \\xi_a\\sum_{i=1}^{n} \\pi_i^c(\\log \\pi_i^c - \\log \\hat{\\pi}_i^c)\\\\\n",
    "\\end{align*}\n",
    "\n",
    "where $G(y):=\\frac{d\\phi(y)}{dy} + (\\eta-1)(\\gamma_1 + \\gamma_2 y)$, $F(y):=\\frac{d^2 \\phi(y)}{(d y)^2} + (\\eta-1)\\left(\\gamma_2 + \\gamma_2^+\\boldsymbol{1}_{y\\geq \\bar{y}}\\right)$.\n",
    "\n",
    "#### 2. minimize over $\\pi^c$:\n",
    "The FOC of $\\pi^c_i$ gives:\n",
    "$$\n",
    "\\pi_i^c \\propto \\exp \\left[-\\frac{1}{\\xi_a}G(y)\\tilde{e}\\theta_i\\right]\\hat{\\pi}^c_i\n",
    "$$\n",
    "\n",
    "#### 3. minimize over $g$:\n",
    "Change the boundary condition for the value matching problem."
   ]
  },
  {
   "cell_type": "code",
   "execution_count": 8,
   "metadata": {},
   "outputs": [
    {
     "name": "stdout",
     "output_type": "stream",
     "text": [
      "Converged. Total iteration 2008: LHS Error: 9.951456658718882e-09; RHS Error 1.558926224864629e-06\n",
      "Converged. Total iteration 2070: LHS Error: 9.953578891663817e-09; RHS Error 9.18789030479681e-06\n",
      "Converged. Total iteration 2309: LHS Error: 9.986955012974974e-09; RHS Error 4.142700982269299e-05\n",
      "Converged. Total iteration 758: LHS Error: 9.969626096895112e-10; RHS Error 1.6183270788362454e-05\n"
     ]
    }
   ],
   "source": [
    "ξ_1m = 1000.\n",
    "# ξ_2m = 1./400 * 5\n",
    "ξ_2m = 1./20\n",
    "# ξ_2m = 1000.\n",
    "ξ_a = 1./10000\n",
    "\n",
    "η = .032\n",
    "δ = .01\n",
    "\n",
    "θ = pd.read_csv('../data/model144.csv', header=None).to_numpy()[:, 0]/1000.\n",
    "πc_o = np.ones_like(θ)/len(θ)\n",
    "σ_y = 1.2*1.86/1000\n",
    "\n",
    "y_bar = 2.\n",
    "γ_1 = 1.7675/10000\n",
    "γ_2 = .0022*2\n",
    "# γ_2p = np.array([0, .0197*2])\n",
    "# γ_2p = np.array([0, .3853*2])\n",
    "# πd_o = np.array([.5, .5])\n",
    "γ_2p = np.array([0, .0197*2, .3853*2])\n",
    "πd_o = np.array([1./3, 1./3, 1./3])\n",
    "\n",
    "y_step = .04\n",
    "y_grid_long = np.arange(0., 4., y_step)\n",
    "y_grid_short = np.arange(0., 2+y_step, y_step)\n",
    "n_bar = find_nearest_value(y_grid_long, y_bar) + 1\n",
    "\n",
    "# Prepare ϕ\n",
    "ϕ_list = []\n",
    "for γ_2p_i in γ_2p:\n",
    "    model_paras = (η, δ, θ, πc_o, σ_y, ξ_1m, ξ_a, γ_1, γ_2, γ_2p_i, y_bar) \n",
    "    model_res = ode_y(y_grid_long, model_paras, v0=None, ϵ=.5,\n",
    "                       tol=1e-8, max_iter=10_000, print_all=False)\n",
    "    ϕ_list.append(model_res['v0'])\n",
    "\n",
    "ϕ_list_short = []\n",
    "for ϕ_i in ϕ_list:\n",
    "    temp = ϕ_i[:n_bar]\n",
    "    ϕ_list_short.append(temp)\n",
    "ϕ_i = np.array(ϕ_list_short)\n",
    "\n",
    "# Compute ϕ\n",
    "ς = .25\n",
    "model_paras = (η, δ, θ, πc_o, σ_y, ξ_1m, ξ_2m, ξ_a, ς, γ_1, γ_2, y_bar, ϕ_i, πd_o)\n",
    "model_res = ode_y_jump_approach_one_boundary(y_grid_short, model_paras, v0=np.average(ϕ_i, weights=πd_o, axis=0),\n",
    "                                                    ϵ=.5, tol=1e-9, max_iter=10000, print_all=False)"
   ]
  },
  {
   "cell_type": "code",
   "execution_count": 9,
   "metadata": {},
   "outputs": [
    {
     "name": "stdout",
     "output_type": "stream",
     "text": [
      "Solved. PDE error: 8.232379678023666e-06\n"
     ]
    }
   ],
   "source": [
    "e_tilde = model_res['e_tilde']\n",
    "\n",
    "# Compute marginal values for emission (under distorted probabilities)\n",
    "ME_distorted = δ*η/e_tilde\n",
    "\n",
    "# Compute marginal values for emission (under baseline probabilities)\n",
    "model_paras_new = (η, δ, θ, πc_o, σ_y, γ_1, γ_2, ϕ_i, πd_o, e_tilde)\n",
    "model_res_new = solve_with_emission_boundary(y_grid_short, model_paras_new)\n",
    "\n",
    "ME_baseline = model_res_new['ME']"
   ]
  },
  {
   "cell_type": "code",
   "execution_count": 10,
   "metadata": {},
   "outputs": [
    {
     "data": {
      "image/png": "[encoded data removed]",
      "text/plain": [
       "<Figure size 864x288 with 2 Axes>"
      ]
     },
     "metadata": {
      "needs_background": "light"
     },
     "output_type": "display_data"
    }
   ],
   "source": [
    "fig, (ax1, ax2) = plt.subplots(1, 2,figsize=(12,4))\n",
    "ax1.plot(y_grid_short, ME_baseline/ME_distorted, color='C3', linewidth=2.)\n",
    "ax1.set_xlabel(r'$y$', fontsize=13)\n",
    "ax1.set_title('ratio')\n",
    "ax1.set_ylim(0, 1)\n",
    "\n",
    "ax2.plot(y_grid_short, -np.log(ME_baseline/ME_distorted)*100, color='C3', linewidth=2.)\n",
    "ax2.set_xlabel(r'$y$', fontsize=13)\n",
    "ax2.set_ylim(0, 80)\n",
    "ax2.set_title('log difference * 100 * -1')\n",
    "\n",
    "fig.savefig('fig_ambiguity_damage_averse.pdf')"
   ]
  },
  {
   "cell_type": "code",
   "execution_count": null,
   "metadata": {},
   "outputs": [],
   "source": []
  },
  {
   "cell_type": "code",
   "execution_count": null,
   "metadata": {},
   "outputs": [],
   "source": []
  }
 ],
 "metadata": {
  "kernelspec": {
   "display_name": "Python 3",
   "language": "python",
   "name": "python3"
  },
  "language_info": {
   "codemirror_mode": {
    "name": "ipython",
    "version": 3
   },
   "file_extension": ".py",
   "mimetype": "text/x-python",
   "name": "python",
   "nbconvert_exporter": "python",
   "pygments_lexer": "ipython3",
   "version": "3.8.5"
  }
 },
 "nbformat": 4,
 "nbformat_minor": 4
}
