{
 "cells": [
  {
   "cell_type": "code",
   "execution_count": 1,
   "metadata": {},
   "outputs": [],
   "source": [
    "import os, sys\n",
    "sys.path.append(os.path.dirname(os.getcwd()) + '/source')\n",
    "\n",
    "from model import ode_y, ode_y_parallel\n",
    "from utilities import find_nearest_value, compute_derivatives\n",
    "from solver import false_transient_one_iteration_python\n",
    "from numba import njit\n",
    "import numpy as np\n",
    "import pandas as pd\n",
    "import matplotlib.pyplot as plt\n",
    "import matplotlib as mpl\n",
    "mpl.rcParams['axes.spines.right'] = False\n",
    "mpl.rcParams['axes.spines.top'] = False"
   ]
  },
  {
   "cell_type": "code",
   "execution_count": 2,
   "metadata": {},
   "outputs": [],
   "source": [
    "def simulation(y_grid, e_grid, h_grid, g_grid, θ=1.86/1000.,\n",
    "               y_start=.5394, T=100, dt=1):\n",
    "    Et = np.zeros(int(T/dt)+1)\n",
    "    yt = np.zeros(int(T/dt)+1)\n",
    "    ht = np.zeros(int(T/dt)+1)\n",
    "    gt = np.zeros((len(g_grid), int(T/dt)+1))\n",
    "    for i in range(int(T/dt)+1):\n",
    "        Et[i] = np.interp(y_start, y_grid, e_grid)\n",
    "        ht[i] = np.interp(y_start, y_grid, h_grid)\n",
    "        for n in range(gt.shape[0]):\n",
    "            gt[n, i] = np.interp(y_start, y_grid, g_grid[n])\n",
    "        yt[i] = y_start\n",
    "        y_start = y_start + Et[i]*θ*dt\n",
    "    return Et, yt, ht, gt"
   ]
  },
  {
   "cell_type": "markdown",
   "metadata": {},
   "source": [
    "## Solve HJB"
   ]
  },
  {
   "cell_type": "code",
   "execution_count": 50,
   "metadata": {},
   "outputs": [],
   "source": [
    "# Intensity parameter\n",
    "τ = .25\n",
    "\n",
    "r1 = 19.5001\n",
    "r0 = .4\n",
    "\n",
    "# Robustness parameters\n",
    "ξ_b = 100000.\n",
    "ξ_p = 100000.\n",
    "ξ_a = 100000.\n",
    "\n",
    "n_model = 40\n",
    "damage_setting={'γ_2p': np.linspace(0, 1./3, n_model),\n",
    "                'πd_o': np.ones(n_model)/n_model}\n",
    "\n",
    "# Model parameters\n",
    "η = .032\n",
    "δ = .01\n",
    "\n",
    "θ = pd.read_csv('../data/model144.csv', header=None).to_numpy()[:, 0]/1000.\n",
    "πc_o = np.ones_like(θ)/len(θ)\n",
    "σ_y = 1.2*np.mean(θ) * 0\n",
    "\n",
    "γ_1 = 1.7675/10000\n",
    "γ_2 = .0022*2\n",
    "γ_2p = damage_setting['γ_2p']\n",
    "πd_o = damage_setting['πd_o']\n",
    "\n",
    "y_bar_upper = 2.0\n",
    "y_bar_lower = 1.5\n",
    "\n",
    "# Grid setting\n",
    "ϵ = 2.\n",
    "y_step = .02\n",
    "y_grid_long = np.arange(0., y_bar_upper*2+y_step, y_step)\n",
    "y_grid_short = np.arange(0., y_bar_upper+y_step, y_step)\n",
    "y_bar_lower_loc = find_nearest_value(y_grid_short, y_bar_lower)\n",
    "y_bar_upper_loc = find_nearest_value(y_grid_long, y_bar_upper)\n",
    "y_grid_tilde = y_grid_short[y_bar_lower_loc: y_bar_upper_loc+1]"
   ]
  },
  {
   "cell_type": "code",
   "execution_count": 4,
   "metadata": {},
   "outputs": [
    {
     "name": "stdout",
     "output_type": "stream",
     "text": [
      "-----Solving model 0-----\n",
      "-----Solving model 1-----\n",
      "-----Solving model 2-----\n",
      "-----Solving model 3-----\n",
      "-----Solving model 4-----\n",
      "-----Solving model 5-----\n",
      "-----Solving model 6-----\n",
      "-----Solving model 7-----\n",
      "-----Solving model 8-----\n",
      "-----Solving model 9-----\n",
      "-----Solving model 10-----\n",
      "-----Solving model 11-----\n",
      "-----Solving model 12-----\n",
      "-----Solving model 13-----\n",
      "-----Solving model 14-----\n",
      "-----Solving model 15-----\n",
      "-----Solving model 16-----\n",
      "-----Solving model 17-----\n",
      "-----Solving model 18-----\n",
      "-----Solving model 19-----\n",
      "-----Solving model 20-----\n",
      "-----Solving model 21-----\n",
      "-----Solving model 22-----\n",
      "-----Solving model 23-----\n",
      "-----Solving model 24-----\n",
      "-----Solving model 25-----\n",
      "-----Solving model 26-----\n",
      "-----Solving model 27-----\n",
      "-----Solving model 28-----\n",
      "-----Solving model 29-----\n",
      "-----Solving model 30-----\n",
      "-----Solving model 31-----\n",
      "-----Solving model 32-----\n",
      "-----Solving model 33-----\n",
      "-----Solving model 34-----\n",
      "-----Solving model 35-----\n",
      "-----Solving model 36-----\n",
      "-----Solving model 37-----\n",
      "-----Solving model 38-----\n",
      "-----Solving model 39-----\n"
     ]
    }
   ],
   "source": [
    "# Parallelly solve ODE\n",
    "model_args_list = []\n",
    "model_list = []\n",
    "\n",
    "for i in range(n_model):\n",
    "    temp_list = []\n",
    "    for y_jump in y_grid_tilde:\n",
    "        temp = (η, δ, θ, πc_o, σ_y, ξ_b, ξ_a, γ_1, γ_2, γ_2p[i], y_jump)\n",
    "        temp_list.append((y_grid_long, temp, None, ϵ, 1e-8, 2000, False))\n",
    "    model_args_list.append(temp_list)\n",
    "\n",
    "for i in range(n_model):\n",
    "    print('-----Solving model ' + str(i) + '-----')\n",
    "    temp_res = ode_y_parallel(model_args_list[i])\n",
    "    model_list.append(temp_res)"
   ]
  },
  {
   "cell_type": "code",
   "execution_count": 52,
   "metadata": {},
   "outputs": [],
   "source": [
    "# Prepare ϕ_m\n",
    "ϕ_m = np.zeros((n_model, len(y_grid_short)))\n",
    "e_m = np.zeros((n_model, len(y_grid_short)))\n",
    "for i in range(len(y_grid_tilde)):\n",
    "    for j in range(n_model):\n",
    "        ϕ_m[j, y_bar_lower_loc+i] = model_list[j][i]['v0'][y_bar_lower_loc+i]\n",
    "        e_m[j, y_bar_lower_loc+i] = model_list[j][i]['e_tilde'][y_bar_lower_loc+i]\n",
    "\n",
    "# Prepare v_guess\n",
    "# v_guess = np.average(np.array([model_list[0][-1]['v0'][:y_bar_upper_loc+1],\n",
    "#                                model_list[-1][-1]['v0'][:y_bar_upper_loc+1]]),\n",
    "#                      weights=np.array([0.5, 0.5]), axis=0)\n",
    "v_guess = np.average(np.array([model_list[i][-1]['v0'][:y_bar_upper_loc+1] for i in range(len(model_list))]),\n",
    "                     weights=np.ones(len(model_list))/len(model_list), axis=0)"
   ]
  },
  {
   "cell_type": "code",
   "execution_count": 53,
   "metadata": {},
   "outputs": [],
   "source": [
    "def ode_y_jump_intensity_approach(y_grid, model_paras=(), v0=None, ϵ=.5, tol=1e-8,\n",
    "                                     max_iter=10_000, print_all=True):\n",
    "    η, δ, θ, πc_o, σ_y, ξ_1m, ξ_2m, ξ_a, γ_1, γ_2, y_bar_lower, y_bar_upper, ϕ_i, πd_o, r0, r1, τ = model_paras\n",
    "    Δ_y = y_grid[1] - y_grid[0]\n",
    "\n",
    "    if v0 is None:\n",
    "        v0 = - η * (y_grid + y_grid**2)\n",
    "\n",
    "    d_Λ = γ_1 + γ_2*y_grid\n",
    "    dd_Λ = γ_2\n",
    "\n",
    "    πd = np.ones((len(πd_o), len(y_grid)))\n",
    "    for i in range(πd.shape[0]):\n",
    "        πd[i] = πd_o[i]\n",
    "    πd_o = πd\n",
    "\n",
    "    πc = np.ones((len(πc_o), len(y_grid)))\n",
    "    θ_reshape = np.ones_like(πc)\n",
    "    for i in range(πc.shape[0]):\n",
    "        πc[i] = πc_o[i]\n",
    "        θ_reshape[i] = θ[i]\n",
    "    πc_o = πc.copy()\n",
    "    θ = θ_reshape\n",
    "\n",
    "#     intensity = - r0 * (np.exp(- r1 / 2. * (y_grid-y_bar_lower)**2) - 1.) * (y_grid >= y_bar_lower)\\\n",
    "#                 + 0 * (y_grid < y_bar_lower)\n",
    "\n",
    "#     intensity = 0.75 * (y_grid - 1.5) * (y_grid > 1.5) + 300 * (y_grid - 1.9)**2 * (y_grid > 1.9)\n",
    "\n",
    "    r1_test = 5.\n",
    "    r0_test = 1.\n",
    "    intensity = r0_test * (np.exp(r1_test / 2. * (y_grid-y_bar_lower)**2) - 1.) * (y_grid >= y_bar_lower)\\\n",
    "                + 0 * (y_grid < y_bar_lower)\n",
    "\n",
    "    bc = -ξ_2m * np.log(np.sum(πd_o[:, -1] * np.exp(-1./ξ_2m * ϕ_i[:, -1])))\n",
    "\n",
    "    e_tilde = 0.\n",
    "    \n",
    "    count = 0\n",
    "    error = 1.\n",
    "\n",
    "    while error > tol and count < max_iter:\n",
    "        v_old = v0.copy()\n",
    "        e_tilde_old = e_tilde\n",
    "\n",
    "        v0_dy = compute_derivatives(v0, 1, Δ_y, central_diff=False)\n",
    "        v0_dyy = compute_derivatives(v0, 2, Δ_y)\n",
    "\n",
    "        G = v0_dy + (η-1)/δ*d_Λ\n",
    "\n",
    "        if σ_y == 0:\n",
    "            e_tilde = -η/(G*np.sum(πc*θ, axis=0))\n",
    "        else:\n",
    "            temp = σ_y**2*(v0_dyy+(η-1.)/δ*dd_Λ-G**2/ξ_1m)\n",
    "            root = np.sum(πc*θ, axis=0)**2*G**2 - 4*η*temp\n",
    "            root[root<0] = 0.\n",
    "            e_tilde = (-G*np.sum(πc*θ, axis=0) - np.sqrt(root)) / (2*temp)\n",
    "\n",
    "        e_tilde[e_tilde<=0] = 1e-16\n",
    "        e_tilde = e_tilde *.5 + e_tilde_old*.5\n",
    " \n",
    "        log_πc_ratio = -G*e_tilde*θ/ξ_a\n",
    "        πc_ratio = log_πc_ratio - np.max(log_πc_ratio, axis=0)\n",
    "        πc = np.exp(πc_ratio) * πc_o\n",
    "        πc = πc/np.sum(πc, axis=0)\n",
    "        πc[πc<=0] = 1e-16        \n",
    "        c_entropy = np.sum(πc*(np.log(πc)-np.log(πc_o)), axis=0)\n",
    "\n",
    "#         g = np.exp(1. / ξ_2m * (v0 - ϕ_i))\n",
    "\n",
    "#         A = np.ones_like(y_grid)*(-δ)\n",
    "#         B = e_tilde * np.sum(πc*θ, axis=0)\n",
    "#         C = .5 * σ_y**2 * e_tilde**2\n",
    "#         D = η*np.log(e_tilde) - C*G**2/ξ_1m + (η-1)/δ*d_Λ*e_tilde*np.sum(πc*θ, axis=0)\\\n",
    "#             + .5*(η-1)/δ*dd_Λ*σ_y**2*e_tilde**2 + ξ_a*c_entropy\\\n",
    "#             - ξ_2m * intensity * (np.sum(πd_o * np.exp(-1./ξ_2m*ϕ_i), axis=0)- np.exp(-1./ξ_2m * v0)) \\\n",
    "#                 / np.exp(-1./ξ_2m * v0)\n",
    "\n",
    "\n",
    "#         g = np.exp(1. / ξ_2m * (v0 - ϕ_i))\n",
    "\n",
    "#         A = np.ones_like(y_grid)*(-δ)\n",
    "#         B = e_tilde * np.sum(πc*θ, axis=0)\n",
    "#         C = .5 * σ_y**2 * e_tilde**2\n",
    "#         D = η*np.log(e_tilde) - C*G**2/ξ_1m + (η-1)/δ*d_Λ*e_tilde*np.sum(πc*θ, axis=0)\\\n",
    "#             + .5*(η-1)/δ*dd_Λ*σ_y**2*e_tilde**2 + ξ_a*c_entropy\\\n",
    "#             + intensity * np.sum(g * πd_o * (ϕ_m - v0), axis=0)\\\n",
    "#             + ξ_2m * intensity * np.sum(πd_o * (1 - g + g * np.log(g)), axis=0)\n",
    "\n",
    "\n",
    "        g = np.exp(1. / ξ_2m * (v0 - ϕ_i))\n",
    "\n",
    "        A = np.ones_like(y_grid)*(-δ) - intensity * np.sum(πd_o * g, axis=0)\n",
    "        B = e_tilde * np.sum(πc*θ, axis=0)\n",
    "        C = .5 * σ_y**2 * e_tilde**2\n",
    "        D = η*np.log(e_tilde) - C*G**2/ξ_1m + (η-1)/δ*d_Λ*e_tilde*np.sum(πc*θ, axis=0)\\\n",
    "            + .5*(η-1)/δ*dd_Λ*σ_y**2*e_tilde**2 + ξ_a*c_entropy\\\n",
    "            + ξ_2m * intensity * np.sum(πd_o * (1 - g + g * np.log(g)), axis=0)\\\n",
    "            + intensity * np.sum(πd_o * g * ϕ_i, axis=0)\n",
    "\n",
    "        v0 = false_transient_one_iteration_python(A, B, C, D, v0, ε, Δ_y, (0, bc), (False, True))\n",
    "\n",
    "        rhs_error = A*v0 + B*v0_dy + C*v0_dyy + D\n",
    "        rhs_error = np.max(abs(rhs_error))\n",
    "        lhs_error = np.max(abs((v0 - v_old)/ϵ))\n",
    "        error = lhs_error\n",
    "        count += 1\n",
    "        if print_all:\n",
    "            print(\"Iteration %s: LHS Error: %s; RHS Error %s\" % (count, lhs_error, rhs_error))\n",
    "\n",
    "    h = -(v0_dy+(η-1)/δ*d_Λ)*e_tilde*σ_y/ξ_1m\n",
    "    πd = g / np.sum(πd_o * g, axis=0) * πd_o\n",
    "    \n",
    "    \n",
    "    print(\"Converged. Total iteration %s: LHS Error: %s; RHS Error %s\" % (count, lhs_error, rhs_error))     \n",
    "    res = {'v0': v0,\n",
    "           'v0_dy': v0_dy,\n",
    "           'v0_dyy': v0_dyy,\n",
    "           'e_tilde': e_tilde,\n",
    "           'y_grid': y_grid,\n",
    "           'intensity': intensity,\n",
    "           'πc': πc,\n",
    "           'πd': πd,\n",
    "           'g': g,\n",
    "           'h': h,\n",
    "           'θ': θ[:, 0],\n",
    "           'σ_y': σ_y}\n",
    "    return res"
   ]
  },
  {
   "cell_type": "code",
   "execution_count": 54,
   "metadata": {},
   "outputs": [
    {
     "name": "stdout",
     "output_type": "stream",
     "text": [
      "Iteration 1: LHS Error: 22.69935230326167; RHS Error 14.698261890785426\n",
      "Iteration 2: LHS Error: 8.62015712957793; RHS Error 43.214049741321396\n",
      "Iteration 3: LHS Error: 6.470675853742591; RHS Error 42.79420214285408\n",
      "Iteration 4: LHS Error: 4.894653652685598; RHS Error 31.91088670571091\n",
      "Iteration 5: LHS Error: 3.6673473193850654; RHS Error 21.203233636039204\n",
      "Iteration 6: LHS Error: 2.7112417637113566; RHS Error 13.243855422785574\n",
      "Iteration 7: LHS Error: 1.9791618625981329; RHS Error 7.97095003873235\n",
      "Iteration 8: LHS Error: 1.4291496578442562; RHS Error 4.688894893414417\n",
      "Iteration 9: LHS Error: 1.0235662398343592; RHS Error 2.72298157183168\n",
      "Iteration 10: LHS Error: 0.9176514583960511; RHS Error 1.5739654788234072\n",
      "Iteration 11: LHS Error: 0.619511493170184; RHS Error 1.050146751207084\n",
      "Iteration 12: LHS Error: 0.7154367921570035; RHS Error 0.9887337702740375\n",
      "Iteration 13: LHS Error: 0.6420157600939369; RHS Error 0.9345863039034659\n",
      "Iteration 14: LHS Error: 1.419018030253664; RHS Error 0.8868896736493791\n",
      "Iteration 15: LHS Error: 0.7554661550705326; RHS Error 0.8451028748776417\n",
      "Iteration 16: LHS Error: 0.47700913978140846; RHS Error 0.8087938505326007\n",
      "Iteration 17: LHS Error: 0.46920366307510974; RHS Error 0.7775627270492312\n",
      "Iteration 18: LHS Error: 0.46020206296654464; RHS Error 0.7509613478492339\n",
      "Iteration 19: LHS Error: 0.4516003569116549; RHS Error 0.7287158944795323\n",
      "Iteration 20: LHS Error: 0.44293154469190554; RHS Error 0.7104918590576261\n",
      "Iteration 21: LHS Error: 0.4341422643341595; RHS Error 0.6959580780664664\n",
      "Iteration 22: LHS Error: 0.4259770449396818; RHS Error 0.6848659040177308\n",
      "Iteration 23: LHS Error: 0.41760139787088235; RHS Error 0.6769031633196478\n",
      "Iteration 24: LHS Error: 0.5941169501851817; RHS Error 0.6718019973834912\n",
      "Iteration 25: LHS Error: 0.42585663848417354; RHS Error 1.1612344235926364\n",
      "Iteration 26: LHS Error: 1.3595472214065367; RHS Error 0.7507075726029909\n",
      "Iteration 27: LHS Error: 0.6631879419180997; RHS Error 0.6715393395901139\n",
      "Iteration 28: LHS Error: 0.38563398566276597; RHS Error 0.6758361324971548\n",
      "Iteration 29: LHS Error: 0.36840162383516173; RHS Error 2.0648365555737938\n",
      "Iteration 30: LHS Error: 0.42675366127352454; RHS Error 0.8188612433061848\n",
      "Iteration 31: LHS Error: 0.35308876656976906; RHS Error 1.2708078270758434\n",
      "Iteration 32: LHS Error: 0.5150204259804418; RHS Error 0.8952565579524714\n",
      "Iteration 33: LHS Error: 0.3394148156543295; RHS Error 0.722859514477018\n",
      "Iteration 34: LHS Error: 0.3496212190394239; RHS Error 0.7388569772978006\n",
      "Iteration 35: LHS Error: 0.3680680768069884; RHS Error 0.7610376728806869\n",
      "Iteration 36: LHS Error: 0.3863829148645834; RHS Error 0.7832183608600947\n",
      "Iteration 37: LHS Error: 0.43911590072845463; RHS Error 0.8053990166474669\n",
      "Iteration 38: LHS Error: 0.38592293734163263; RHS Error 0.827579620599753\n",
      "Iteration 39: LHS Error: 0.39409343313433354; RHS Error 0.8497601176889997\n",
      "Iteration 40: LHS Error: 0.4021421796181528; RHS Error 0.8719404033495122\n",
      "Iteration 41: LHS Error: 0.4096749356875158; RHS Error 0.8941202593811857\n",
      "Iteration 42: LHS Error: 1.5224838576073552; RHS Error 0.9162992678864235\n",
      "Iteration 43: LHS Error: 0.4242535424227718; RHS Error 1.7556944174591262\n",
      "Iteration 44: LHS Error: 1.3567092552399416; RHS Error 1.0583228300626066\n",
      "Iteration 45: LHS Error: 0.7041634360714575; RHS Error 2.6028264827262335\n",
      "Iteration 46: LHS Error: 0.44410678283794525; RHS Error 1.0049711331891409\n",
      "Iteration 47: LHS Error: 0.45092791393273757; RHS Error 1.0270975720802464\n",
      "Iteration 48: LHS Error: 0.45638040425216175; RHS Error 1.0491699848114513\n",
      "Iteration 49: LHS Error: 0.4620980421237171; RHS Error 1.0711352147228488\n",
      "Iteration 50: LHS Error: 0.46715186234733963; RHS Error 1.0928892648664061\n",
      "Iteration 51: LHS Error: 0.47171706030877303; RHS Error 1.1142333548439185\n",
      "Iteration 52: LHS Error: 4.147061650881241; RHS Error 1.1348037165088345\n",
      "Iteration 53: LHS Error: 1.5347291589774912; RHS Error 4.237280641671016\n",
      "Iteration 54: LHS Error: 0.47655623633976063; RHS Error 3.928575374720382\n",
      "Iteration 55: LHS Error: 0.5892242067968283; RHS Error 1.9302563042997465\n",
      "Iteration 56: LHS Error: 0.9103529565152026; RHS Error 1.3273899134267249\n",
      "Iteration 57: LHS Error: 0.45546948700030043; RHS Error 1.482364012916917\n",
      "Iteration 58: LHS Error: 0.4429631924593629; RHS Error 1.2424453394309847\n",
      "Iteration 59: LHS Error: 0.4297311990336965; RHS Error 1.2601947464902685\n",
      "Iteration 60: LHS Error: 0.4218588156049137; RHS Error 1.2765220359068024\n",
      "Iteration 61: LHS Error: 0.40224128402923043; RHS Error 1.2915125487253256\n",
      "Iteration 62: LHS Error: 0.4282463026438421; RHS Error 1.3052641379923822\n",
      "Iteration 63: LHS Error: 0.3754193312216003; RHS Error 1.3177225115549216\n",
      "Iteration 64: LHS Error: 0.5322914065131226; RHS Error 1.3293339840860612\n",
      "Iteration 65: LHS Error: 0.3503137319445031; RHS Error 1.5050847264228924\n",
      "Iteration 66: LHS Error: 0.5064776464003149; RHS Error 1.3493698156788385\n",
      "Iteration 67: LHS Error: 0.32697753804238516; RHS Error 1.3580700553204454\n",
      "Iteration 68: LHS Error: 0.3158911586005999; RHS Error 1.3661384771259844\n",
      "Iteration 69: LHS Error: 0.3050471977577658; RHS Error 1.3734186014898973\n",
      "Iteration 70: LHS Error: 0.4069873524839025; RHS Error 1.3801335809427764\n",
      "Iteration 71: LHS Error: 0.42804580740783926; RHS Error 1.3862179828452659\n",
      "Iteration 72: LHS Error: 0.2748265806836443; RHS Error 1.391849079993487\n",
      "Iteration 73: LHS Error: 0.26542428505412374; RHS Error 1.3968862409177059\n",
      "Iteration 74: LHS Error: 0.2563830759597465; RHS Error 1.4016345380049433\n",
      "Iteration 75: LHS Error: 0.4821326636521768; RHS Error 1.4058262382453608\n",
      "Iteration 76: LHS Error: 0.5094866544968166; RHS Error 1.409786426549546\n",
      "Iteration 77: LHS Error: 0.45360747068325047; RHS Error 1.4132830674833632\n",
      "Iteration 78: LHS Error: 0.2465726154227852; RHS Error 3.919517000284003\n",
      "Iteration 79: LHS Error: 0.9207963683288112; RHS Error 2.422815444244591\n",
      "Iteration 80: LHS Error: 0.25993670762700205; RHS Error 2.391767430259392\n",
      "Iteration 81: LHS Error: 0.35709693730571956; RHS Error 1.42471488711498\n",
      "Iteration 82: LHS Error: 0.28642704898548743; RHS Error 1.427086391205972\n",
      "Iteration 83: LHS Error: 0.5053466609046229; RHS Error 1.429082699755786\n",
      "Iteration 84: LHS Error: 0.46070075161145496; RHS Error 1.4310550567339755\n",
      "Iteration 85: LHS Error: 0.28747594715439106; RHS Error 1.432702022040415\n",
      "Iteration 86: LHS Error: 0.3106170577395275; RHS Error 1.434384736180109\n",
      "Iteration 87: LHS Error: 1.1823260688414763; RHS Error 1.4357285763997496\n",
      "Iteration 88: LHS Error: 0.584743576291519; RHS Error 1.43718923003487\n",
      "Iteration 89: LHS Error: 0.3049103081315927; RHS Error 1.4382237847132264\n",
      "Iteration 90: LHS Error: 0.2052856424530427; RHS Error 1.4395423766171747\n",
      "Iteration 91: LHS Error: 0.2532804119759646; RHS Error 1.4402992651474467\n",
      "Iteration 92: LHS Error: 0.18241847248517473; RHS Error 1.4415154985574186\n",
      "Iteration 93: LHS Error: 0.22805606461652062; RHS Error 1.4420426895876677\n",
      "Iteration 94: LHS Error: 0.7034569854925392; RHS Error 1.4431614591444002\n",
      "Iteration 95: LHS Error: 0.24996033498911796; RHS Error 47.22354304714317\n",
      "Iteration 96: LHS Error: 0.23045078594884671; RHS Error 7.122289475381784\n",
      "Iteration 97: LHS Error: 0.49998376521476473; RHS Error 56.15733758195862\n",
      "Iteration 98: LHS Error: 0.2515885474711643; RHS Error 82.8089478909594\n",
      "Iteration 99: LHS Error: 0.24191231603685281; RHS Error 2.1626721847851336\n",
      "Iteration 100: LHS Error: 0.4326409193334957; RHS Error 1.4466716640628696\n",
      "Iteration 101: LHS Error: 0.17616599841254477; RHS Error 1.4464855970188597\n",
      "Iteration 102: LHS Error: 0.25059098624932297; RHS Error 1.4475124820369474\n",
      "Iteration 103: LHS Error: 0.1732822862455592; RHS Error 1.447145597879751\n",
      "Iteration 104: LHS Error: 3.8017936512871486; RHS Error 1.4482315490346784\n",
      "Iteration 105: LHS Error: 1.4567903241648352; RHS Error 1.4477115401201848\n",
      "Iteration 106: LHS Error: 0.4775068961561857; RHS Error 1.4488382180796864\n",
      "Iteration 107: LHS Error: 0.21453232260168864; RHS Error 1.4481542511358185\n",
      "Iteration 108: LHS Error: 0.2521610334796254; RHS Error 1.4493786269832596\n",
      "Iteration 109: LHS Error: 0.6908343865758182; RHS Error 1.4484677277349043\n",
      "Iteration 110: LHS Error: 0.27779707088298267; RHS Error 1.449852104103274\n",
      "Iteration 111: LHS Error: 0.5372914296125177; RHS Error 1.448705172638093\n",
      "Iteration 112: LHS Error: 0.2529404526960555; RHS Error 1.4502756178207308\n",
      "Iteration 113: LHS Error: 0.32952390035700585; RHS Error 1.4488735970823055\n",
      "Iteration 114: LHS Error: 0.2659197203725867; RHS Error 1.4506869508394766\n",
      "Iteration 115: LHS Error: 0.271703199265648; RHS Error 1.448977379550591\n",
      "Iteration 116: LHS Error: 0.947726731147057; RHS Error 1.4510757504213714\n",
      "Iteration 117: LHS Error: 0.5356933642105659; RHS Error 1.449003662453206\n",
      "Iteration 118: LHS Error: 0.3292579768030457; RHS Error 1.4514483503316844\n",
      "Iteration 119: LHS Error: 0.21605770800999125; RHS Error 1.4489628406380668\n"
     ]
    },
    {
     "name": "stdout",
     "output_type": "stream",
     "text": [
      "Iteration 120: LHS Error: 0.2655616751414138; RHS Error 1.4518274149263979\n",
      "Iteration 121: LHS Error: 0.18320870675518286; RHS Error 1.4488437335911757\n",
      "Iteration 122: LHS Error: 0.17920322128441857; RHS Error 1.452282025301444\n",
      "Iteration 123: LHS Error: 0.3418844788578337; RHS Error 1.4485953824145896\n",
      "Iteration 124: LHS Error: 0.40895656370594935; RHS Error 1.4528140018160598\n",
      "Iteration 125: LHS Error: 0.152260832157336; RHS Error 2.487764139406834\n",
      "Iteration 126: LHS Error: 0.14633797305998453; RHS Error 1.4533451132988477\n",
      "Iteration 127: LHS Error: 0.25692966457703825; RHS Error 1.447922115828089\n",
      "Iteration 128: LHS Error: 0.17519450542110082; RHS Error 1.4538903031823247\n",
      "Iteration 129: LHS Error: 0.19662007147226657; RHS Error 1.4475103552590347\n",
      "Iteration 130: LHS Error: 0.15430674158324909; RHS Error 1.4544971354618348\n",
      "Iteration 131: LHS Error: 0.3840432600068877; RHS Error 1.446974660675871\n",
      "Iteration 132: LHS Error: 0.16782669137751594; RHS Error 1.45518822285538\n",
      "Iteration 133: LHS Error: 0.1531692889158558; RHS Error 1.4463556660245116\n",
      "Iteration 134: LHS Error: 0.16721394950461566; RHS Error 1.4559374372860476\n",
      "Iteration 135: LHS Error: 0.3222819811425426; RHS Error 1.4457139225305715\n",
      "Iteration 136: LHS Error: 0.1966672535920555; RHS Error 1.4566493333794153\n",
      "Iteration 137: LHS Error: 0.1916137616934961; RHS Error 1.4450788218927477\n",
      "Iteration 138: LHS Error: 0.2090320731303752; RHS Error 1.457420046973551\n",
      "Iteration 139: LHS Error: 0.21117800319372293; RHS Error 1.4443604826817256\n",
      "Iteration 140: LHS Error: 0.2739554104816966; RHS Error 1.458198997866008\n",
      "Iteration 141: LHS Error: 0.22865307192069295; RHS Error 1.4436984734361795\n",
      "Iteration 142: LHS Error: 0.3082378205693437; RHS Error 1.4588188383247014\n",
      "Iteration 143: LHS Error: 0.243916007713338; RHS Error 1.4431782116755247\n",
      "Iteration 144: LHS Error: 0.9413428838803739; RHS Error 1.4593232744843234\n",
      "Iteration 145: LHS Error: 0.5442998532666117; RHS Error 1.442746358630912\n",
      "Iteration 146: LHS Error: 0.34355744502326147; RHS Error 1.4596804955570521\n",
      "Iteration 147: LHS Error: 0.23226582864581857; RHS Error 1.4424710059991979\n",
      "Iteration 148: LHS Error: 0.20645465767458226; RHS Error 1.459885250090204\n",
      "Iteration 149: LHS Error: 0.21467295599923686; RHS Error 1.4423429468164333\n",
      "Iteration 150: LHS Error: 0.2027448837038608; RHS Error 1.4599850020747556\n",
      "Iteration 151: LHS Error: 0.2459115317772147; RHS Error 1.442277824273574\n",
      "Iteration 152: LHS Error: 0.17954438059354727; RHS Error 1.4600655207742808\n",
      "Iteration 153: LHS Error: 0.17826102796813048; RHS Error 1.4422011745761185\n",
      "Iteration 154: LHS Error: 0.1860302944257044; RHS Error 1.4601547761449165\n",
      "Iteration 155: LHS Error: 0.17070122090213236; RHS Error 1.4421468691060604\n",
      "Iteration 156: LHS Error: 3.4083739653033334; RHS Error 1.4601826489420364\n",
      "Iteration 157: LHS Error: 1.361759679605555; RHS Error 1.442142299594588\n",
      "Iteration 158: LHS Error: 0.48590865480133516; RHS Error 1.4601930020121023\n",
      "Iteration 159: LHS Error: 0.12562961158918684; RHS Error 1.442125705765894\n",
      "Iteration 160: LHS Error: 0.1253497057855948; RHS Error 1.4602086888671069\n",
      "Iteration 161: LHS Error: 0.23312680896514326; RHS Error 1.4421629085520837\n",
      "Iteration 162: LHS Error: 0.1792850389915941; RHS Error 1.460155399414592\n",
      "Iteration 163: LHS Error: 0.18216212098579376; RHS Error 1.4422342695352497\n",
      "Iteration 164: LHS Error: 0.1756249921195021; RHS Error 1.4601763482115842\n",
      "Iteration 165: LHS Error: 0.18478740839734442; RHS Error 1.4421767489639663\n",
      "Iteration 166: LHS Error: 0.20982095291075997; RHS Error 1.4602378159721028\n",
      "Iteration 167: LHS Error: 0.3100917446533149; RHS Error 1.4421233550712813\n",
      "Iteration 168: LHS Error: 0.21449195182696457; RHS Error 6.541452517153924\n",
      "Iteration 169: LHS Error: 0.22322923776416204; RHS Error 4.783846450084714\n",
      "Iteration 170: LHS Error: 0.23130361373197417; RHS Error 3.278797985759516\n",
      "Iteration 171: LHS Error: 6.751523536939198; RHS Error 2.1922993466174403\n",
      "Iteration 172: LHS Error: 1.6051380127443036; RHS Error 6.969085711998784\n",
      "Iteration 173: LHS Error: 0.47061232957747023; RHS Error 4.236768191993716\n",
      "Iteration 174: LHS Error: 0.25804737623764584; RHS Error 2.1514038837325846\n",
      "Iteration 175: LHS Error: 0.27742536556389563; RHS Error 1.4420978713265553\n",
      "Iteration 176: LHS Error: 0.2966130600238932; RHS Error 1.4602564240339122\n",
      "Iteration 177: LHS Error: 0.31565233330583276; RHS Error 1.4421273827836054\n",
      "Iteration 178: LHS Error: 0.33448359704798136; RHS Error 1.4602617010984622\n",
      "Iteration 179: LHS Error: 0.35317274989295644; RHS Error 1.4421292278626339\n",
      "Iteration 180: LHS Error: 0.3716264826370912; RHS Error 1.460275619451083\n",
      "Iteration 181: LHS Error: 0.38988022982111303; RHS Error 1.4421191325136569\n",
      "Iteration 182: LHS Error: 0.4079200508286256; RHS Error 1.4602934671796965\n",
      "Iteration 183: LHS Error: 0.4258330775342989; RHS Error 1.4421454040531245\n",
      "Iteration 184: LHS Error: 0.44371112412917757; RHS Error 1.460270188418362\n",
      "Iteration 185: LHS Error: 0.46124987826757735; RHS Error 1.4421653282796887\n",
      "Iteration 186: LHS Error: 0.4786417852189917; RHS Error 1.4602446834508689\n",
      "Iteration 187: LHS Error: 0.49572240376087073; RHS Error 1.4421799811080325\n",
      "Iteration 188: LHS Error: 0.5128850334939923; RHS Error 1.4602194729454978\n",
      "Iteration 189: LHS Error: 0.5297939773381053; RHS Error 1.4422095165880318\n",
      "Iteration 190: LHS Error: 0.5465493786898872; RHS Error 1.460177339649891\n",
      "Iteration 191: LHS Error: 0.5630127393452256; RHS Error 1.4422053195538542\n",
      "Iteration 192: LHS Error: 0.5793780013705572; RHS Error 1.4601921127351076\n",
      "Iteration 193: LHS Error: 0.5956393676933889; RHS Error 1.4421503947267076\n",
      "Iteration 194: LHS Error: 0.6116365854698209; RHS Error 1.460291289173667\n",
      "Iteration 195: LHS Error: 0.6275483845261896; RHS Error 1.442058329931797\n",
      "Iteration 196: LHS Error: 0.6434032576348265; RHS Error 1.4603495120763872\n",
      "Iteration 197: LHS Error: 0.658883228903937; RHS Error 1.4419857699300156\n",
      "Iteration 198: LHS Error: 0.6742872990423141; RHS Error 1.4604029013491064\n",
      "Iteration 199: LHS Error: 0.6895775084826887; RHS Error 1.4419709469131248\n",
      "Iteration 200: LHS Error: 0.7047681754938395; RHS Error 1.4603902230224863\n",
      "Converged. Total iteration 200: LHS Error: 0.7047681754938395; RHS Error 1.4603902230224863\n"
     ]
    }
   ],
   "source": [
    "model_paras = (η, δ, θ, πc_o, σ_y, ξ_b, ξ_p, ξ_a, γ_1, γ_2, y_bar_lower, y_bar_upper, ϕ_m, πd_o, r0, r1, τ)\n",
    "model_res = ode_y_jump_intensity_approach(y_grid_short, model_paras=model_paras, v0=v_guess, ϵ=1,\n",
    "                                          tol=1e-8, max_iter=200, print_all=True)"
   ]
  },
  {
   "cell_type": "code",
   "execution_count": 55,
   "metadata": {},
   "outputs": [
    {
     "data": {
      "text/plain": [
       "[<matplotlib.lines.Line2D at 0x7f7f3bc70f40>]"
      ]
     },
     "execution_count": 55,
     "metadata": {},
     "output_type": "execute_result"
    },
    {
     "data": {
      "image/png": "[encoded data removed]",
      "text/plain": [
       "<Figure size 432x288 with 1 Axes>"
      ]
     },
     "metadata": {
      "needs_background": "light"
     },
     "output_type": "display_data"
    }
   ],
   "source": [
    "plt.plot(y_grid_short, model_res['v0'])"
   ]
  },
  {
   "cell_type": "code",
   "execution_count": 16,
   "metadata": {},
   "outputs": [
    {
     "data": {
      "text/plain": [
       "[<matplotlib.lines.Line2D at 0x7f7f3c02ab20>]"
      ]
     },
     "execution_count": 16,
     "metadata": {},
     "output_type": "execute_result"
    },
    {
     "data": {
      "image/png": "[encoded data removed]",
      "text/plain": [
       "<Figure size 432x288 with 1 Axes>"
      ]
     },
     "metadata": {
      "needs_background": "light"
     },
     "output_type": "display_data"
    }
   ],
   "source": [
    "plt.plot(y_grid_short, model_res['v0_dy'])"
   ]
  },
  {
   "cell_type": "code",
   "execution_count": 17,
   "metadata": {},
   "outputs": [
    {
     "data": {
      "text/plain": [
       "[<matplotlib.lines.Line2D at 0x7f7f3be3ac10>]"
      ]
     },
     "execution_count": 17,
     "metadata": {},
     "output_type": "execute_result"
    },
    {
     "data": {
      "image/png": "[encoded data removed]",
      "text/plain": [
       "<Figure size 432x288 with 1 Axes>"
      ]
     },
     "metadata": {
      "needs_background": "light"
     },
     "output_type": "display_data"
    }
   ],
   "source": [
    "plt.plot(model_res['v0_dyy'])"
   ]
  },
  {
   "cell_type": "code",
   "execution_count": 11,
   "metadata": {},
   "outputs": [
    {
     "data": {
      "text/plain": [
       "[<matplotlib.lines.Line2D at 0x7f7f3bbca9d0>]"
      ]
     },
     "execution_count": 11,
     "metadata": {},
     "output_type": "execute_result"
    },
    {
     "data": {
      "image/png": "[encoded data removed]",
      "text/plain": [
       "<Figure size 432x288 with 1 Axes>"
      ]
     },
     "metadata": {
      "needs_background": "light"
     },
     "output_type": "display_data"
    }
   ],
   "source": [
    "plt.plot(model_res['e_tilde'])"
   ]
  },
  {
   "cell_type": "code",
   "execution_count": null,
   "metadata": {},
   "outputs": [],
   "source": []
  },
  {
   "cell_type": "code",
   "execution_count": null,
   "metadata": {},
   "outputs": [],
   "source": []
  },
  {
   "cell_type": "code",
   "execution_count": 44,
   "metadata": {},
   "outputs": [],
   "source": [
    "intensity_previous = - r0 * (np.exp(- r1 / 2. * (y_grid_short-y_bar_lower)**2) - 1.) * (y_grid_short >= y_bar_lower)\\\n",
    "                + 0 * (y_grid_short < y_bar_lower)"
   ]
  },
  {
   "cell_type": "code",
   "execution_count": 46,
   "metadata": {},
   "outputs": [],
   "source": [
    "intensity_new = 0.75 * (y_grid_short - 1.5) * (y_grid_short > 1.5) + 300 * (y_grid_short - 1.9)**2 * (y_grid_short > 1.9)"
   ]
  },
  {
   "cell_type": "code",
   "execution_count": 60,
   "metadata": {},
   "outputs": [],
   "source": [
    "r1_test = 19.5\n",
    "intensity_fun = (np.exp(r1_test / 2. * (y_grid_short-y_bar_lower)**2) - 1.) * (y_grid_short >= y_bar_lower)\\\n",
    "                + 0 * (y_grid_short < y_bar_lower)\n",
    "r1_test = 5.\n",
    "intensity_fun_new = (np.exp(r1_test / 2. * (y_grid_short-y_bar_lower)**2) - 1.) * (y_grid_short >= y_bar_lower)\\\n",
    "                + 0 * (y_grid_short < y_bar_lower)"
   ]
  },
  {
   "cell_type": "code",
   "execution_count": 62,
   "metadata": {},
   "outputs": [
    {
     "data": {
      "text/plain": [
       "<matplotlib.legend.Legend at 0x7f8509959850>"
      ]
     },
     "execution_count": 62,
     "metadata": {},
     "output_type": "execute_result"
    },
    {
     "data": {
      "image/png": "[encoded data removed]",
      "text/plain": [
       "<Figure size 432x288 with 1 Axes>"
      ]
     },
     "metadata": {
      "needs_background": "light"
     },
     "output_type": "display_data"
    }
   ],
   "source": [
    "plt.plot(y_grid_short, intensity_fun, label='r1=19.5')\n",
    "plt.plot(y_grid_short, intensity_fun_new, label='r1=5.')\n",
    "plt.legend()"
   ]
  },
  {
   "cell_type": "code",
   "execution_count": 65,
   "metadata": {},
   "outputs": [
    {
     "data": {
      "text/plain": [
       "0.4918246976412708"
      ]
     },
     "execution_count": 65,
     "metadata": {},
     "output_type": "execute_result"
    }
   ],
   "source": [
    "intensity_fun_new[95]"
   ]
  },
  {
   "cell_type": "code",
   "execution_count": 67,
   "metadata": {},
   "outputs": [
    {
     "data": {
      "text/plain": [
       "0.8682459574322223"
      ]
     },
     "execution_count": 67,
     "metadata": {},
     "output_type": "execute_result"
    }
   ],
   "source": [
    "intensity_fun_new[-1]"
   ]
  },
  {
   "cell_type": "code",
   "execution_count": 47,
   "metadata": {},
   "outputs": [
    {
     "data": {
      "text/plain": [
       "[<matplotlib.lines.Line2D at 0x7f852b9f21f0>]"
      ]
     },
     "execution_count": 47,
     "metadata": {},
     "output_type": "execute_result"
    },
    {
     "data": {
      "image/png": "[encoded data removed]",
      "text/plain": [
       "<Figure size 432x288 with 1 Axes>"
      ]
     },
     "metadata": {
      "needs_background": "light"
     },
     "output_type": "display_data"
    }
   ],
   "source": [
    "plt.plot(y_grid_short, intensity_previous)\n",
    "plt.plot(y_grid_short, intensity_new)"
   ]
  },
  {
   "cell_type": "code",
   "execution_count": 35,
   "metadata": {},
   "outputs": [
    {
     "data": {
      "text/plain": [
       "[<matplotlib.lines.Line2D at 0x7f84d8073ee0>]"
      ]
     },
     "execution_count": 35,
     "metadata": {},
     "output_type": "execute_result"
    },
    {
     "data": {
      "image/png": "[encoded data removed]",
      "text/plain": [
       "<Figure size 432x288 with 1 Axes>"
      ]
     },
     "metadata": {
      "needs_background": "light"
     },
     "output_type": "display_data"
    }
   ],
   "source": [
    "plt.plot(y_grid_short, model_res['e_tilde'])"
   ]
  },
  {
   "cell_type": "code",
   "execution_count": 36,
   "metadata": {},
   "outputs": [
    {
     "data": {
      "text/plain": [
       "[<matplotlib.lines.Line2D at 0x7f8518f643d0>]"
      ]
     },
     "execution_count": 36,
     "metadata": {},
     "output_type": "execute_result"
    },
    {
     "data": {
      "image/png": "[encoded data removed]",
      "text/plain": [
       "<Figure size 432x288 with 1 Axes>"
      ]
     },
     "metadata": {
      "needs_background": "light"
     },
     "output_type": "display_data"
    }
   ],
   "source": [
    "plt.plot(y_grid_short, model_res['v0'])"
   ]
  },
  {
   "cell_type": "code",
   "execution_count": 39,
   "metadata": {},
   "outputs": [],
   "source": [
    "Δ_y = y_grid_short[1] - y_grid_short[0]\n",
    "v0_dy_central = compute_derivatives(model_res['v0'], 1, Δ_y, central_diff=True)"
   ]
  },
  {
   "cell_type": "code",
   "execution_count": 40,
   "metadata": {},
   "outputs": [
    {
     "data": {
      "text/plain": [
       "[<matplotlib.lines.Line2D at 0x7f852b9b7760>]"
      ]
     },
     "execution_count": 40,
     "metadata": {},
     "output_type": "execute_result"
    },
    {
     "data": {
      "image/png": "[encoded data removed]",
      "text/plain": [
       "<Figure size 432x288 with 1 Axes>"
      ]
     },
     "metadata": {
      "needs_background": "light"
     },
     "output_type": "display_data"
    }
   ],
   "source": [
    "plt.plot(y_grid_short, v0_dy_central)"
   ]
  },
  {
   "cell_type": "code",
   "execution_count": 37,
   "metadata": {},
   "outputs": [
    {
     "data": {
      "text/plain": [
       "[<matplotlib.lines.Line2D at 0x7f8518f6ea60>]"
      ]
     },
     "execution_count": 37,
     "metadata": {},
     "output_type": "execute_result"
    },
    {
     "data": {
      "image/png": "[encoded data removed]",
      "text/plain": [
       "<Figure size 432x288 with 1 Axes>"
      ]
     },
     "metadata": {
      "needs_background": "light"
     },
     "output_type": "display_data"
    }
   ],
   "source": [
    "plt.plot(y_grid_short, model_res['v0_dy'])"
   ]
  },
  {
   "cell_type": "code",
   "execution_count": 38,
   "metadata": {},
   "outputs": [
    {
     "data": {
      "text/plain": [
       "[<matplotlib.lines.Line2D at 0x7f852bf16ca0>]"
      ]
     },
     "execution_count": 38,
     "metadata": {},
     "output_type": "execute_result"
    },
    {
     "data": {
      "image/png": "[encoded data removed]",
      "text/plain": [
       "<Figure size 432x288 with 1 Axes>"
      ]
     },
     "metadata": {
      "needs_background": "light"
     },
     "output_type": "display_data"
    }
   ],
   "source": [
    "plt.plot(y_grid_short, model_res['v0_dyy'])"
   ]
  },
  {
   "cell_type": "code",
   "execution_count": null,
   "metadata": {},
   "outputs": [],
   "source": []
  },
  {
   "cell_type": "code",
   "execution_count": null,
   "metadata": {},
   "outputs": [],
   "source": []
  },
  {
   "cell_type": "markdown",
   "metadata": {},
   "source": [
    "## Simulation"
   ]
  },
  {
   "cell_type": "code",
   "execution_count": 27,
   "metadata": {},
   "outputs": [],
   "source": [
    "e_grid_no_jump = model_res['e_tilde']\n",
    "e_grid_jump_list = []\n",
    "for i in range(n_model):\n",
    "    temp = np.array([model['e_tilde'] for model in model_list[i]])\n",
    "    e_grid_jump_list.append(temp)\n",
    "e_grid_jump = np.array(e_grid_jump_list)"
   ]
  },
  {
   "cell_type": "code",
   "execution_count": 28,
   "metadata": {},
   "outputs": [],
   "source": [
    "def simulation_prob(y_grid_short, y_grid_long, y_grid_tilde, e_grid_no_jump, e_grid_jump,\n",
    "                        θ, y0, y_bar_lower, y_bar_upper, r0, r1, τ, damage_prob, γ_2p, n_model, T=100):\n",
    "    \"\"\"\n",
    "    y_grid : (N,) ndarray\n",
    "    e_grid_no_jump : (N,) ndarray\n",
    "    e_grid_jump : (n_model, M, N) ndarray\n",
    "        e.g., e_grid[0, i], e_grid[1, i] and e_grid[2, i] are the emissions conditional\n",
    "            on low, high and extreme damages when jump occurrs at y_grid_tilde[i].\n",
    "    \"\"\"\n",
    "    et_paths = []\n",
    "    yt_paths = []\n",
    "    γ2pt_paths = []\n",
    "    paths_prob = []\n",
    "\n",
    "    yt_pre_jump = np.zeros(int(T/τ)+1)\n",
    "    et_pre_jump = np.zeros(int(T/τ)+1)\n",
    "    γ2pt_pre_jump = np.ones(int(T/τ)+1) * (-1) # -1 if γ_2p is not revealed        \n",
    "    t_count = 0\n",
    "\n",
    "    # path piror to y_bar_lower\n",
    "    while y0 <= y_bar_lower:\n",
    "        et_pre_jump[t_count] = np.interp(y0, y_grid_short, e_grid_no_jump)\n",
    "        yt_pre_jump[t_count] = y0\n",
    "        y0 = y0 + et_pre_jump[t_count] * θ * τ\n",
    "        t_count += 1\n",
    "\n",
    "    # add n_model paths at every time point\n",
    "    no_jump_prob = 1.\n",
    "    for t in range(t_count, int(T/τ)+1):\n",
    "        if y0 < y_bar_upper:\n",
    "            intensity = 0.75 * (y0 - 1.5) * (y0 > 1.5) + 300 * (y0 - 1.9)**2 * (y0 > 1.9)\n",
    "            jump_prob = τ * intensity\n",
    "            for i in range(n_model):\n",
    "                # compute unconditional prob\n",
    "                jump_prob_to_i = damage_prob[i] * jump_prob * no_jump_prob\n",
    "                paths_prob.append(jump_prob_to_i)\n",
    "                # compute path\n",
    "                yt = yt_pre_jump.copy()\n",
    "                et = et_pre_jump.copy()\n",
    "                γ2pt = γ2pt_pre_jump.copy()\n",
    "                for j in range(t_count, t):\n",
    "                    yt[j] = yt[j-1] + et[j-1] * θ * τ\n",
    "                    et[j] = np.interp(yt[j], y_grid_short, e_grid_no_jump)\n",
    "                jump_loc = find_nearest_value(y_grid_tilde, yt[t_count]+et[t_count]*θ*τ)\n",
    "                e_grid_realized = e_grid_jump[i, jump_loc]\n",
    "                for j in range(t, int(T/τ)+1):\n",
    "                    γ2pt[j] = γ_2p[i]\n",
    "                    yt[j] = yt[j-1] + et[j-1] * θ * τ\n",
    "                    et[j] = np.interp(yt[j], y_grid_long, e_grid_realized)\n",
    "                et_paths.append(et)\n",
    "                yt_paths.append(yt)\n",
    "                γ2pt_paths.append(γ2pt)\n",
    "            no_jump_prob *= (1.-jump_prob)\n",
    "        e_no_jump = np.interp(y0, y_grid_short, e_grid_no_jump)\n",
    "        y0 = y0 + e_no_jump * θ * τ\n",
    "\n",
    "    return np.array(et_paths), np.array(yt_paths), np.array(γ2pt_paths), np.array(paths_prob)"
   ]
  },
  {
   "cell_type": "code",
   "execution_count": 29,
   "metadata": {},
   "outputs": [],
   "source": [
    "et_paths, yt_paths, γ2pt_paths, paths_prob = simulation_prob(y_grid_short, y_grid_long, y_grid_tilde, e_grid_no_jump, e_grid_jump,\n",
    "                           np.mean(model_res['θ']), y0=1.1, y_bar_lower=y_bar_lower, y_bar_upper=y_bar_upper, r0=r0,\n",
    "                           r1=r1, τ=τ, damage_prob=damage_setting['πd_o'], γ_2p=damage_setting['γ_2p'], n_model=n_model, T=120)"
   ]
  },
  {
   "cell_type": "code",
   "execution_count": 30,
   "metadata": {},
   "outputs": [],
   "source": [
    "# et_paths_1, yt_paths_1, γ2pt_paths_1, paths_prob_1 = simulation_prob(y_grid_short, y_grid_long, y_grid_tilde, e_grid_no_jump, e_grid_jump,\n",
    "#                            np.mean(model_res['θ']), y0=1.1, y_bar_lower=y_bar_lower, y_bar_upper=y_bar_upper, r0=r0,\n",
    "#                            r1=r1, τ=1., damage_prob=damage_setting['πd_o'], γ_2p=damage_setting['γ_2p'], n_model=n_model, T=120)"
   ]
  },
  {
   "cell_type": "code",
   "execution_count": 31,
   "metadata": {},
   "outputs": [],
   "source": [
    "et_no_jump, yt_no_jump, _, _ = simulation(model_res['y_grid'], model_res['e_tilde'], model_res['h'], model_res['g'],\n",
    "                            θ=np.mean(model_res['θ']), y_start=1.1, T=T, dt=τ)"
   ]
  },
  {
   "cell_type": "code",
   "execution_count": 66,
   "metadata": {},
   "outputs": [
    {
     "data": {
      "text/plain": [
       "array([1.1       , 1.10229607, 1.10458799, 1.10687577, 1.1091594 ,\n",
       "       1.11143891, 1.11371429, 1.11598556, 1.11825272, 1.12051578,\n",
       "       1.12277475, 1.12502963, 1.12728044, 1.12952717, 1.13176985,\n",
       "       1.13400847, 1.13624304, 1.13847358, 1.14070008, 1.14292255,\n",
       "       1.14514101, 1.14735546, 1.1495659 , 1.15177235, 1.15397482,\n",
       "       1.1561733 , 1.1583678 , 1.16055834, 1.16274493, 1.16492756,\n",
       "       1.16710624, 1.16928099, 1.17145181, 1.1736187 , 1.17578168,\n",
       "       1.17794075, 1.18009592, 1.18224719, 1.18439457, 1.18653808,\n",
       "       1.18867771, 1.19081347, 1.19294538, 1.19507343, 1.19719764,\n",
       "       1.199318  , 1.20143454, 1.20354725, 1.20565614, 1.20776123,\n",
       "       1.2098625 , 1.21195998, 1.21405367, 1.21614358, 1.21822971,\n",
       "       1.22031207, 1.22239067, 1.2244655 , 1.22653659, 1.22860394,\n",
       "       1.23066755, 1.23272743, 1.23478358, 1.23683602, 1.23888475,\n",
       "       1.24092978, 1.24297111, 1.24500875, 1.24704271, 1.24907299,\n",
       "       1.2510996 , 1.25312254, 1.25514183, 1.25715747, 1.25916946,\n",
       "       1.26117782, 1.26318254, 1.26518364, 1.26718112, 1.26917499,\n",
       "       1.27116525, 1.27315192, 1.27513499, 1.27711447, 1.27909037,\n",
       "       1.28106271, 1.28303147, 1.28499667, 1.28695832, 1.28891641,\n",
       "       1.29087097, 1.29282199, 1.29476948, 1.29671344, 1.29865389,\n",
       "       1.30059083, 1.30252426, 1.30445419, 1.30638063, 1.30830359,\n",
       "       1.31022306, 1.31213906, 1.31405158, 1.31596065, 1.31786626,\n",
       "       1.31976843, 1.32166714, 1.32356242, 1.32545427, 1.32734269,\n",
       "       1.32922769, 1.33110928, 1.33298746, 1.33486223, 1.33673361,\n",
       "       1.33860161, 1.34046621, 1.34232744, 1.3441853 , 1.34603979,\n",
       "       1.34789092, 1.34973869, 1.35158311, 1.35342419, 1.35526194,\n",
       "       1.35709635, 1.35892744, 1.3607552 , 1.36257966, 1.3644008 ,\n",
       "       1.36621864, 1.36803319, 1.36984444, 1.3716524 , 1.37345709,\n",
       "       1.3752585 , 1.37705665, 1.37885153, 1.38064315, 1.38243153,\n",
       "       1.38421665, 1.38599854, 1.38777719, 1.38955261, 1.3913248 ,\n",
       "       1.39309378, 1.39485954, 1.3966221 , 1.39838145, 1.40013761,\n",
       "       1.40189059, 1.40364037, 1.40538697, 1.4071304 , 1.40887065,\n",
       "       1.41060775, 1.41234168, 1.41407246, 1.41580009, 1.41752458,\n",
       "       1.41924594, 1.42096416, 1.42267926, 1.42439124, 1.4261001 ,\n",
       "       1.42780585, 1.42950849, 1.43120804, 1.43290448, 1.43459784,\n",
       "       1.43628812, 1.43797532, 1.43965945, 1.44134051, 1.44301851,\n",
       "       1.44469345, 1.44636533, 1.44803417, 1.44969997, 1.45136273,\n",
       "       1.45302246, 1.45467917, 1.45633285, 1.45798352, 1.45963118,\n",
       "       1.46127584, 1.4629175 , 1.46455617, 1.46619184, 1.46782453,\n",
       "       1.46945424, 1.47108098, 1.47270475, 1.47432555, 1.4759434 ,\n",
       "       1.4775583 , 1.47917025, 1.48077926, 1.48238533, 1.48398847,\n",
       "       1.48558868, 1.48718597, 1.48878035, 1.49037181, 1.49196036,\n",
       "       1.49354602, 1.49512878, 1.49670864, 1.49828563, 1.49985973,\n",
       "       1.50143096, 1.50300046, 1.50456835, 1.50613462, 1.50769929,\n",
       "       1.50926234, 1.51082379, 1.51238364, 1.51394188, 1.51549852,\n",
       "       1.51705356, 1.518607  , 1.52015885, 1.52170955, 1.52326308,\n",
       "       1.52481943, 1.52637862, 1.52794065, 1.52950552, 1.53107324,\n",
       "       1.53264382, 1.53421725, 1.53579356, 1.53737273, 1.53895478,\n",
       "       1.5405397 , 1.54212964, 1.5437287 , 1.54533695, 1.54695444,\n",
       "       1.54858122, 1.55021735, 1.55186287, 1.55351785, 1.55518233,\n",
       "       1.55685637, 1.55854003, 1.56023337, 1.56193719, 1.56365639,\n",
       "       1.56539111, 1.56714149, 1.56890766, 1.57068977, 1.57248797,\n",
       "       1.5743024 , 1.5761332 , 1.57798053, 1.57984453, 1.58172536,\n",
       "       1.58362747, 1.58555149, 1.58749768, 1.5894663 , 1.59145761,\n",
       "       1.59347186, 1.59550931, 1.59757025, 1.59965493, 1.60176363,\n",
       "       1.60389982, 1.6060645 , 1.60825804, 1.61048082, 1.61273324,\n",
       "       1.6150157 , 1.61732858, 1.61967231, 1.62204728, 1.62445639,\n",
       "       1.62690053, 1.6293802 , 1.63189593, 1.63444823, 1.63703764,\n",
       "       1.6396647 , 1.64232995, 1.64503543, 1.64778197, 1.65057017,\n",
       "       1.65340069, 1.65627415, 1.65919121, 1.66215254, 1.66515898,\n",
       "       1.66821129, 1.67131019, 1.67445636, 1.67765055, 1.68089347,\n",
       "       1.68418545, 1.68752605, 1.690916  , 1.69435603, 1.69784687,\n",
       "       1.70138928, 1.7049829 , 1.70862671, 1.7123214 , 1.71606769,\n",
       "       1.7198663 , 1.72371795, 1.72761853, 1.73156847, 1.73556841,\n",
       "       1.73961897, 1.7437208 , 1.74786687, 1.75205685, 1.75629122,\n",
       "       1.76057044, 1.76489356, 1.76925163, 1.77364495, 1.7780738 ,\n",
       "       1.78253846, 1.78703437, 1.79155804, 1.79610966, 1.80068938,\n",
       "       1.80529569, 1.80991911, 1.8145597 , 1.81921753, 1.82389266,\n",
       "       1.82857242, 1.83325426, 1.83793817, 1.84262417, 1.84730298,\n",
       "       1.85196737, 1.85661737, 1.86125303, 1.86586974, 1.87045508,\n",
       "       1.87500927, 1.8795325 , 1.88402499, 1.88847029, 1.89286697,\n",
       "       1.89721555, 1.90151657, 1.90576361, 1.90994473, 1.91406098,\n",
       "       1.91811334, 1.92210282, 1.92601998, 1.92985693, 1.93361534,\n",
       "       1.9372968 , 1.94090289, 1.94443059, 1.94786823, 1.95121813])"
      ]
     },
     "execution_count": 66,
     "metadata": {},
     "output_type": "execute_result"
    }
   ],
   "source": [
    "yt_no_jump"
   ]
  },
  {
   "cell_type": "code",
   "execution_count": 32,
   "metadata": {},
   "outputs": [
    {
     "data": {
      "text/plain": [
       "Text(0.5, 0, 'Years')"
      ]
     },
     "execution_count": 32,
     "metadata": {},
     "output_type": "execute_result"
    },
    {
     "data": {
      "image/png": "[encoded data removed]",
      "text/plain": [
       "<Figure size 432x288 with 1 Axes>"
      ]
     },
     "metadata": {
      "needs_background": "light"
     },
     "output_type": "display_data"
    }
   ],
   "source": [
    "T = 91\n",
    "time_periods = np.arange(0, T+τ, τ)\n",
    "plt.plot(time_periods, et_paths[0][:int(T/τ)+1], color='darkorange', linewidth='2', label=r'$\\gamma_3 = 0$, jump on y=1.5')\n",
    "plt.plot(time_periods, et_paths[n_model-1][:int(T/τ)+1], color='darkgreen', linewidth='2', label=r'$\\gamma_3 = \\frac{1}{3}$, jump on y=1.5')\n",
    "plt.plot(time_periods, et_no_jump, color='black', linewidth='2', label='no jump trajectory')\n",
    "plt.legend()\n",
    "plt.title('Figure 1: Emssion trajectory')\n",
    "plt.xlabel('Years')\n",
    "# plt.savefig('fig_1.pdf')"
   ]
  },
  {
   "cell_type": "code",
   "execution_count": null,
   "metadata": {},
   "outputs": [],
   "source": []
  },
  {
   "cell_type": "code",
   "execution_count": null,
   "metadata": {},
   "outputs": [],
   "source": [
    "plt.plot(model_res['y_grid'], e_grid_no_jump)"
   ]
  },
  {
   "cell_type": "code",
   "execution_count": null,
   "metadata": {},
   "outputs": [],
   "source": [
    "plt.plot(model_res['y_grid'], np.average(np.exp(-1./ξ_p*ϕ_m), weights=πd_o, axis=0))"
   ]
  },
  {
   "cell_type": "code",
   "execution_count": null,
   "metadata": {},
   "outputs": [],
   "source": [
    "# Compute no jump probability\n",
    "no_jump_prob = np.ones_like(yt_no_jump)\n",
    "for t in range(no_jump_prob.shape[0]):\n",
    "    y = yt_no_jump[t]\n",
    "    if y > y_bar_lower:\n",
    "#         intensity = - r0 * (np.exp(- r1 / 2. * (y-y_bar_lower)**2) - 1.)\n",
    "        intensity = 0.75 * (y - 1.5) * (y > 1.5)\\\n",
    "                    + 300 * (y - 1.9)**2 * (y > 1.9)\n",
    "        no_jump_prob[t] = (1 - intensity*τ) * no_jump_prob[t-1]"
   ]
  },
  {
   "cell_type": "code",
   "execution_count": null,
   "metadata": {
    "scrolled": true
   },
   "outputs": [],
   "source": [
    "fig, (ax1, ax2) = plt.subplots(1, 2, figsize=(12,4))\n",
    "ax1.plot(time_periods, yt_no_jump, linewidth=2.)\n",
    "ax1.plot(time_periods, np.ones_like(yt_no_jump)*1.5, linestyle='dashed', color='black', linewidth=2)\n",
    "ax1.set_xlabel('Years', fontsize=13)\n",
    "ax1.set_title(r'Temperature anomaly')\n",
    "ax1.set_ylim(1, 2)\n",
    "\n",
    "ax2.plot(time_periods, no_jump_prob, linewidth=2.)\n",
    "ax2.set_xlabel('Years', fontsize=13)\n",
    "ax2.set_title(r'No jump probability')\n",
    "ax2.set_ylim(0, 1.05)\n",
    "\n",
    "fig.suptitle('Figure 2')\n",
    "\n",
    "fig.savefig('fig_2.pdf')"
   ]
  },
  {
   "cell_type": "code",
   "execution_count": null,
   "metadata": {},
   "outputs": [],
   "source": [
    "yt_no_jump[int(54/0.25)]"
   ]
  },
  {
   "cell_type": "code",
   "execution_count": null,
   "metadata": {},
   "outputs": [],
   "source": [
    "# Implied distorted probabilities\n",
    "yt_loc = find_nearest_value(model_res['y_grid'], yt_no_jump[int(T/τ)])\n",
    "\n",
    "Gt_m = model_res['g'][:, yt_loc]\n",
    "πd = Gt_m*πd_o / np.sum(Gt_m*πd_o)\n",
    "plt.hist(γ_2p, weights=πd, bins=20)\n",
    "plt.xlabel(r'$\\gamma_3$')\n",
    "plt.title(r'Figure 1: Histogram of $\\gamma_3$, weighted by distorted probabilities (Year ' + str(T) + ')')\n",
    "# plt.savefig('fig_1.pdf')"
   ]
  },
  {
   "cell_type": "code",
   "execution_count": null,
   "metadata": {},
   "outputs": [],
   "source": [
    "np.unique(et_paths[:, int(T/τ)]).shape"
   ]
  },
  {
   "cell_type": "code",
   "execution_count": null,
   "metadata": {
    "scrolled": false
   },
   "outputs": [],
   "source": [
    "fig, (ax1, ax2) = plt.subplots(1, 2, figsize=(12,4))\n",
    "\n",
    "ax1.hist(et_paths[:, int(T/τ)], weights=paths_prob, bins=50)\n",
    "ax1.set_title('Histogram of emission, Year '+str(T))\n",
    "\n",
    "ax2.hist(yt_paths[:, int(T/τ)], weights=paths_prob, bins=50)\n",
    "ax2.set_title('Histogram of temperature anomaly, Year '+str(T))\n",
    "\n",
    "fig.suptitle(r'Figure 3: $\\tau=0.25$')\n",
    "fig.savefig('fig_3.pdf')"
   ]
  },
  {
   "cell_type": "code",
   "execution_count": null,
   "metadata": {},
   "outputs": [],
   "source": [
    "fig, (ax1, ax2) = plt.subplots(1, 2, figsize=(12,4))\n",
    "\n",
    "ax1.hist(et_paths_1[:, int(T/1.)], weights=paths_prob_1, bins=50)\n",
    "ax1.set_title('Histogram of emission, Year '+str(T))\n",
    "\n",
    "ax2.hist(yt_paths_1[:, int(T/1.)], weights=paths_prob_1, bins=50)\n",
    "ax2.set_title('Histogram of temperature anomaly, Year '+str(T))\n",
    "\n",
    "fig.suptitle(r'Figure 4: $\\tau=1$')\n",
    "fig.savefig('fig_4.pdf')"
   ]
  }
 ],
 "metadata": {
  "kernelspec": {
   "display_name": "Python 3",
   "language": "python",
   "name": "python3"
  },
  "language_info": {
   "codemirror_mode": {
    "name": "ipython",
    "version": 3
   },
   "file_extension": ".py",
   "mimetype": "text/x-python",
   "name": "python",
   "nbconvert_exporter": "python",
   "pygments_lexer": "ipython3",
   "version": "3.8.5"
  }
 },
 "nbformat": 4,
 "nbformat_minor": 4
}
