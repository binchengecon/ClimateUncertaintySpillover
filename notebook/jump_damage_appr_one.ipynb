{
 "cells": [
  {
   "cell_type": "code",
   "execution_count": 1,
   "id": "personal-times",
   "metadata": {
    "code_folding": []
   },
   "outputs": [],
   "source": [
    "# packages\n",
    "import numpy as np\n",
    "import pandas as pd\n",
    "import os\n",
    "import sys\n",
    "sys.path.append(os.path.dirname(os.getcwd()) + '/source')\n",
    "import pickle\n",
    "from solver_1d import false_transient_one_iteration_python\n",
    "from supportfunctions import PDESolver_2d, finiteDiff\n",
    "from numba import njit\n",
    "from scipy.sparse import csc_matrix\n",
    "from scipy.sparse.linalg import bicg\n",
    "from derivative import derivatives_2d, derivative_1d\n",
    "import SolveLinSys\n",
    "import time\n",
    "from solver_ode import solve_ode, solve_ode_one\n",
    "from solver_jump import approach_one\n",
    "from scipy import interpolate\n",
    "import matplotlib.pyplot as plt\n",
    "import matplotlib as mpl\n",
    "mpl.rcParams['axes.spines.right'] = False\n",
    "mpl.rcParams['axes.spines.top'] = False"
   ]
  },
  {
   "cell_type": "code",
   "execution_count": 2,
   "id": "freelance-allowance",
   "metadata": {
    "code_folding": []
   },
   "outputs": [],
   "source": [
    "# parameters\n",
    "δ = 0.01\n",
    "η = 0.032\n",
    "ξₐ = 1/4000\n",
    "μ = 1.86/1000\n",
    "θ_list = pd.read_csv(\"../data/model144.csv\", header=None)[0].to_numpy()\n",
    "θ_list = θ_list/1000\n",
    "σy = 1.2*μ\n",
    "# damage function\n",
    "ȳ = 2\n",
    "γ1 = 0.00017675\n",
    "γ2 = 2*0.0022\n",
    "γ3_list = np.array([0, 2*0.0197, 2*0.3853])\n",
    "# y grid\n",
    "numy_bar = 100\n",
    "y_min = 0\n",
    "y_max = 4\n",
    "hy = (ȳ - y_min)/numy_bar\n",
    "y_grid = np.arange(y_min, y_max+hy, hy)"
   ]
  },
  {
   "cell_type": "code",
   "execution_count": 3,
   "id": "peripheral-authorization",
   "metadata": {},
   "outputs": [],
   "source": [
    "n_temp = 16\n",
    "n_carb = 9\n",
    "n_θ = len(θ_list)\n",
    "θtemp_list = list()\n",
    "for i in range(n_temp):\n",
    "    same_temp = θ_list[i*n_carb:i*n_carb+n_carb+1]\n",
    "    θtemp_list.append(np.average(same_temp))\n",
    "θtemp_list = np.array(θtemp_list)\n",
    "θcarb_list = list()\n",
    "for i in range(n_carb):\n",
    "    idx_carb = np.arange(i, n_θ+i, n_carb)\n",
    "    same_carb = θ_list[idx_carb]\n",
    "    θcarb_list.append(np.average(same_carb))\n",
    "θcarb_list = np.array(θcarb_list)"
   ]
  },
  {
   "cell_type": "markdown",
   "id": "gothic-rapid",
   "metadata": {},
   "source": [
    "# Jump model of damages\n",
    "Intensity function:\n",
    "$$\n",
    "\\mathcal{I}(y) = \\begin{cases}\n",
    "(\\frac{1}{\\sqrt{2\\pi} \\varsigma})\\exp\\left[- \\frac{(y - \\bar y)^2}{2\\varsigma^2}\\right], \\quad y \\leqslant \\bar y\\\\\n",
    "(\\frac{1}{\\sqrt{2\\pi}\\varsigma}), \\quad y > \\bar y\n",
    "\\end{cases}\n",
    "$$\n",
    "\n",
    "HJB\n",
    "$$\n",
    "\\begin{aligned}\n",
    "0 = \\max_{\\tilde e} \\min_{\\pi^d} &- \\delta \\phi(y) + \\delta\\eta \\log\\tilde e \\\\\n",
    "    & +  \\frac{d\\phi}{dy} \\theta \\tilde e  + \\frac{1}{2} \\frac{d^2 \\phi}{dy^2}(\\tilde e)^2 |\\sigma_y|^2 + \\frac{1}{2} (\\eta - 1) \\gamma_2 (\\tilde e)^2 |\\sigma_y|^2\\\\\n",
    "& + (\\eta -1)(\\gamma_1 + \\gamma_2 y) \\tilde e \\theta + \\mathcal{I}(y)\\sum_j \\pi^d_j \\left[\\phi_j(y) - \\phi(y) \\right] \\\\\n",
    "&  + \\textbf{relative entropy}\n",
    "\\end{aligned}\n",
    "$$\n",
    "## Approach one:\n",
    "$$\n",
    "\\begin{aligned}\n",
    "0 = \\max_{\\tilde e} \\min_{g_j} &- \\delta \\phi(y) + \\delta\\eta \\log\\tilde e + \\frac{1}{2} \\frac{d^2 \\phi}{dy^2}(\\tilde e)^2 |\\sigma_y|^2  + \\frac{\\xi_m}{2} h'h\\\\\n",
    "& + [ \\frac{d\\phi}{dy}    + (\\eta -1)(\\gamma_1 + \\gamma_2 y)]\\cdot \\tilde e \\sigma_y h +\\frac{1}{2} (\\eta - 1) \\gamma_2 (\\tilde e)^2 |\\sigma_y|^2\\\\\n",
    "& + \\sum_i \\pi_i^c \\frac{d\\phi}{dy} \\theta_i \\tilde e  + \\sum_i \\pi_i^c (\\eta -1)(\\gamma_1 + \\gamma_2 y) \\tilde e \\theta_i + \\xi_a \\sum_i \\hat\\pi^c_i(\\log \\pi^c_i - \\log \\hat\\pi^c_i)\\\\\n",
    "&  + \\mathcal{I}(y)\\sum_j\\hat\\pi_j^d g_j\\left[\\phi_j(y) - \\phi(y) \\right]  + \\xi_m \\mathcal{I}(y) \\sum_j \\hat\\pi_j^d [1 - g_j + g_j \\log g_j]\n",
    "\\end{aligned}\n",
    "$$\n",
    "The optimal $g_j$:\n",
    "$$\n",
    "g_j^* = \\exp\\{\\frac{1}{\\xi_m}\\left( \\phi(y) - \\phi_j(y)\\right)\\}\n",
    "$$\n",
    "Plug back in\n",
    "$$\n",
    "\\begin{aligned}\n",
    "0 = \\max_{\\tilde e} \\min_{g_j} &- \\delta \\phi(y) + \\delta\\eta \\log\\tilde e + \\frac{1}{2} \\frac{d^2 \\phi}{dy^2}(\\tilde e)^2 |\\sigma_y|^2 + \\frac{1}{2}(\\eta -1)\\gamma_2(\\tilde e)^2 |\\sigma_y|^2\\\\\n",
    "& + \\sum_i \\pi_i^c \\left[\\frac{d\\phi}{dy}  + (\\eta -1)(\\gamma_1 + \\gamma_2 y)\\right] \\tilde e \\theta_i + \\xi_a \\sum_i \\hat\\pi^c_i(\\log \\pi^c_i - \\log \\hat\\pi^c_i) \\\\\n",
    "&  +  \\xi_m \\mathcal{I}(y) \\sum_j \\hat\\pi_j^d [1 - g_j^* ]\n",
    "\\end{aligned}\n",
    "$$\n",
    "Intensity altered to be $\\iota^*(y) \\mathcal{I} (y)$ where:\n",
    "$$\n",
    "\\iota^*(y)  = \\sum_j \\hat\\pi_j g_j^* \n",
    "$$\n",
    "Distorted probability:\n",
    "$$\n",
    "\\pi^*_j  = \\frac{\\exp\\left(-\\frac{1}{\\xi_m} [\\phi_j(y) - \\phi(y)] \\right) \\hat\\pi_j}{\\iota^*(y)}\n",
    "$$"
   ]
  },
  {
   "cell_type": "code",
   "execution_count": 4,
   "id": "prescription-shipping",
   "metadata": {
    "code_folding": []
   },
   "outputs": [],
   "source": [
    "def simulate_jump(y_grid, solu, ME,  θ_list, T=100, dt=1):\n",
    "    ems = solu[\"ems\"]\n",
    "    πᶜ = solu[\"πc\"]\n",
    "    πᵈ = solu[\"πd\"]\n",
    "    ι = solu[\"ι\"]\n",
    "    h = solu[\"h\"]\n",
    "    periods = int(T/dt)\n",
    "    et = np.zeros(periods)\n",
    "    yt = np.zeros(periods)\n",
    "    πᶜt = np.zeros((periods, len(θ_list)))\n",
    "    πᵈt = np.zeros((periods, len(πᵈ)))\n",
    "    ιt = np.zeros(periods)\n",
    "    ht = np.zeros(periods)\n",
    "    if ME:\n",
    "        me_t = np.zeros(periods)\n",
    "    # interpolate\n",
    "    get_πᵈ = interpolate.interp1d(y_grid, πᵈ)\n",
    "    get_πᶜ = interpolate.interp1d(y_grid, πᶜ)\n",
    "    y = np.mean(θ_list)*290\n",
    "    for t in range(periods):\n",
    "        if y > np.max(y_grid):\n",
    "            break\n",
    "        else:\n",
    "            ems_point = np.interp(y, y_grid, ems)\n",
    "            πᵈ_list = get_πᵈ(y)\n",
    "            πᶜ_list = get_πᶜ(y)\n",
    "            ι_point = np.interp(y, y_grid, ι)\n",
    "            h_point = np.interp(y, y_grid, h)\n",
    "            if ME:\n",
    "                me_point = np.interp(y, y_grid, ME)\n",
    "                me_t[t] = me_point\n",
    "            et[t] = ems_point\n",
    "            πᵈt[t] = πᵈ_list\n",
    "            πᶜt[t] = πᶜ_list\n",
    "            ιt[t] = ι_point\n",
    "            ht[t] = h_point\n",
    "            yt[t] = y\n",
    "            dy = ems_point*np.mean(θ_list)*dt\n",
    "            y = dy + y\n",
    "    if ME:\n",
    "        return yt, et, πᵈt, πᶜt, ιt, ht, me_t\n",
    "    else:\n",
    "        return yt, et, πᵈt, πᶜt, ιt, ht"
   ]
  },
  {
   "cell_type": "code",
   "execution_count": 6,
   "id": "painful-airplane",
   "metadata": {},
   "outputs": [
    {
     "name": "stdout",
     "output_type": "stream",
     "text": [
      "episode: 10000,\t ode error: 2.9836257780052828e-06,\t ft error: 9.19829728727543e-07\n",
      "episode: 3460,\t ode error: 3.1596681112508137e-06,\t ft error: 9.997680877615878e-09\n",
      "episode: 3849,\t ode error: 1.0980857351476427e-05,\t ft error: 9.972572351246711e-09\n",
      "episode: 990,\t ode error: 1.1747612404004076e-05,\t ft error: 9.993295010946035e-09\n"
     ]
    }
   ],
   "source": [
    "# ξₘ is 1000, no ambiguity over damage\n",
    "ς = 0.1\n",
    "ξa = 1/10_000\n",
    "ξw = 1000\n",
    "ξp = 1/20\n",
    "dmg_weight = np.array([1/3, 1/3, 1/3])\n",
    "args = (δ, η, θ_list, γ1, γ2, γ3_list, ȳ, dmg_weight, ς, ξp, ξa, ξw, σy)\n",
    "solu, ϕ_list = approach_one(y_grid, numy_bar, args,)"
   ]
  },
  {
   "cell_type": "code",
   "execution_count": 7,
   "id": "bulgarian-yemen",
   "metadata": {
    "scrolled": true
   },
   "outputs": [],
   "source": [
    "yt, et, πᵈt, πᶜt, ιt, ht = simulate_jump(y_grid[:numy_bar+1], solu, None, θ_list)"
   ]
  },
  {
   "cell_type": "code",
   "execution_count": 8,
   "id": "thorough-seating",
   "metadata": {},
   "outputs": [
    {
     "data": {
      "text/plain": [
       "(100, 144)"
      ]
     },
     "execution_count": 8,
     "metadata": {},
     "output_type": "execute_result"
    }
   ],
   "source": [
    "πᶜt.shape"
   ]
  },
  {
   "cell_type": "code",
   "execution_count": 15,
   "id": "supposed-navigation",
   "metadata": {},
   "outputs": [
    {
     "data": {
      "text/plain": [
       "(array([0.09106753, 0.10786794, 0.17278886, 0.28061183, 0.38512831,\n",
       "        0.54520328, 0.40026035, 0.81470183, 1.3327409 , 0.65694886,\n",
       "        0.97674451, 0.63172409, 0.53331851, 0.70731586, 0.72538728]),\n",
       " array([1.0154    , 1.13499133, 1.25458267, 1.374174  , 1.49376533,\n",
       "        1.61335667, 1.732948  , 1.85253933, 1.97213067, 2.091722  ,\n",
       "        2.21131333, 2.33090467, 2.450496  , 2.57008733, 2.68967867,\n",
       "        2.80927   ]),\n",
       " <BarContainer object of 15 artists>)"
      ]
     },
     "execution_count": 15,
     "metadata": {},
     "output_type": "execute_result"
    },
    {
     "data": {
      "image/png": "[encoded data removed]",
      "text/plain": [
       "<Figure size 432x288 with 1 Axes>"
      ]
     },
     "metadata": {
      "needs_background": "light"
     },
     "output_type": "display_data"
    }
   ],
   "source": [
    "plt.hist(θ_list*1000, weights=πᶜt[-1], density=True, color='tab:red', bins=15, histtype='bar', ec='gray', alpha=.5,)"
   ]
  },
  {
   "cell_type": "code",
   "execution_count": 21,
   "id": "invisible-variation",
   "metadata": {},
   "outputs": [
    {
     "data": {
      "text/plain": [
       "(0.0, 103.95)"
      ]
     },
     "execution_count": 21,
     "metadata": {},
     "output_type": "execute_result"
    },
    {
     "data": {
      "image/png": "[encoded data removed]",
      "text/plain": [
       "<Figure size 432x288 with 1 Axes>"
      ]
     },
     "metadata": {
      "needs_background": "light"
     },
     "output_type": "display_data"
    }
   ],
   "source": [
    "plt.plot(πᵈt[:,0], label=\"low\")\n",
    "plt.plot(πᵈt[:,1], label=\"high\")\n",
    "plt.plot(πᵈt[:,2], label=\"extreme\")\n",
    "plt.legend()\n",
    "plt.ylim(0,1)\n",
    "plt.xlim(left=0)"
   ]
  },
  {
   "cell_type": "code",
   "execution_count": 19,
   "id": "worth-michigan",
   "metadata": {
    "code_folding": [
     0
    ]
   },
   "outputs": [],
   "source": [
    "def plot_solu(ht, πᵈt, ϕ_list, solu, args):\n",
    "    ϕ = solu['φ']\n",
    "    ξa, ξw, ξp, numy_bar = args\n",
    "    fig, (ax1, ax2, ax3) = plt.subplots(1,3, figsize=(18,4))\n",
    "    fig.suptitle(r'$\\xi_a = {}, \\quad  \\xi_w =1/{}, \\quad \\xi_p = 1/{} $'.format(ξa, int(1/ξw), int(1/ξp)))\n",
    "    ax1.plot(ht)\n",
    "    ax1.set_ylim(bottom=0, top=0.3)\n",
    "    ax1.set_xlim(left=0)\n",
    "    ax1.set_xlabel('years')\n",
    "    ax1.set_ylabel('h')\n",
    "    ax2.plot(πᵈt[:,1][πᵈt[:,1]>0], label=\"high damage\")\n",
    "    ax2.plot(πᵈt[:,0][πᵈt[:,0]>0], label=\"low damage\")\n",
    "    # ax2.plot(πᵈt[:,2], label=\"extreme\")\n",
    "    ax2.set_ylim(bottom=0)\n",
    "    ax2.set_xlim(left=0)\n",
    "    ax2.legend()\n",
    "    ax2.set_xlabel('years')\n",
    "    ax2.set_ylabel('πᵈ')\n",
    "    ϕ_bound = np.average(np.exp(-1/ξp*ϕ_list), axis=0, weights=dmg_weight)\n",
    "    ϕ_bound = -ξp*np.log(ϕ_bound)\n",
    "    ax3.plot(y_grid[:numy_bar+1], ϕ, label='prior to jump')\n",
    "    ax3.plot(y_grid[numy_bar:], ϕ_list[0][numy_bar:], linestyle=\"--\", color=\"black\", label=\"post jump, low damage\")\n",
    "    ax3.plot(y_grid[numy_bar:], ϕ_bound[numy_bar:], label=\"post jump, certainty equivalent\")\n",
    "    ax3.plot(y_grid[numy_bar:], ϕ_list[1][numy_bar:], linestyle=\"-.\", color=\"black\", label=\"post jump, high damage\")\n",
    "    # ax3.plot(y_grid[numy_bar:], ϕ_list[2][numy_bar:], linestyle=\":\", color=\"black\")\n",
    "    ax3.vlines(x=2, ymin=-0.11, ymax=0.05, linestyle=\"dashed\", color=\"black\")\n",
    "    # ax3.xlim(0,4)\n",
    "    # ax3.ylim(-0.02, 0.05)\n",
    "    ax3.set_ylabel('$\\phi$')\n",
    "    ax3.set_xlabel('y')\n",
    "    ax3.set_xlim(left=0)\n",
    "    ax3.legend()\n",
    "    # ax3.set_title(r'$\\xi_a = 1,000, \\quad  \\xi_w =1/400, \\quad \\xi_p = 1/400 \\times 5 $')\n",
    "    # plt.savefig(\"phi_x1.pdf\", facecolor=\"w\", edgecolor='w', bbox_inches=\"tight\") "
   ]
  },
  {
   "cell_type": "code",
   "execution_count": 20,
   "id": "graphic-johnson",
   "metadata": {
    "scrolled": true
   },
   "outputs": [
    {
     "data": {
      "image/png": "[encoded data removed]",
      "text/plain": [
       "<Figure size 1296x288 with 3 Axes>"
      ]
     },
     "metadata": {
      "needs_background": "light"
     },
     "output_type": "display_data"
    }
   ],
   "source": [
    "args_plot = (ξa, ξw, ξp, numy_bar)\n",
    "plot_solu(ht, πᵈt, ϕ_list, solu, args_plot)"
   ]
  },
  {
   "cell_type": "code",
   "execution_count": null,
   "id": "suitable-observer",
   "metadata": {},
   "outputs": [],
   "source": [
    "ξₐ = 1000\n",
    "ξ = 1/400\n",
    "ξₘ = 10*ξ\n",
    "dmg_weight = np.array([0.5, 0.5, 0.])\n",
    "args = (δ, η, θ_list, γ1, γ2, γ3_list, dmg_weight, ς, ξₘ, ξₐ, ξ, σy)\n",
    "ϕ_avg, ems_avg, πᶜ_avg, ι_avg, πᵈ_avg, h_avg, ϕ_avg_list = approach_one(y_grid, numy_bar, args,)\n",
    "\n",
    "yt_avg, et_avg, πᵈt_avg, πᶜt_avg, ιt_avg, ht_avg = simulate_jump(y_grid[:numy_bar+1], ems_avg, πᶜ_avg, πᵈ_avg, ι_avg, h_avg, θ_list)"
   ]
  },
  {
   "cell_type": "code",
   "execution_count": null,
   "id": "undefined-opinion",
   "metadata": {
    "scrolled": false
   },
   "outputs": [],
   "source": [
    "ξₘ = 10*ξ\n",
    "fig, (ax1, ax2, ax3) = plt.subplots(1,3, figsize=(18,4))\n",
    "fig.suptitle(r'$\\xi_a = 1,000, \\quad  \\xi_w =1/400, \\quad \\xi_p = 10\\ \\xi_w $')\n",
    "ax1.plot(ht_avg[ht_avg>0])\n",
    "ax1.set_ylim(bottom=0, top=0.15)\n",
    "ax1.set_xlim(left=0)\n",
    "ax1.set_xlabel('years')\n",
    "ax1.set_ylabel('h')\n",
    "ax2.plot(πᵈt_avg[:,1][πᵈt_avg[:,1]>0], label=\"high damage\")\n",
    "ax2.plot(πᵈt_avg[:,0][πᵈt_avg[:,0]>0], label=\"low damage\")\n",
    "# ax2.plot(πᵈt[:,2], label=\"extreme\")\n",
    "ax2.set_ylim(bottom=0, top=1)\n",
    "ax2.set_xlim(left=0)\n",
    "ax2.legend()\n",
    "ax2.set_xlabel('years')\n",
    "ax2.set_ylabel('πᵈ')\n",
    "ϕ_bound = np.average(np.exp(-1/ξₘ*ϕ_avg_list), axis=0, weights=dmg_weight)\n",
    "# ϕ_bound = np.average(ϕ_avg_list, axis=0, weights=dmg_weight)\n",
    "ϕ_bound = -ξₘ*np.log(ϕ_bound)\n",
    "ax3.plot(y_grid[:numy_bar+1], ϕ_avg, label=\"prior to jump\")\n",
    "ax3.plot(y_grid[numy_bar:], ϕ_avg_list[0][numy_bar:], linestyle=\"--\", color=\"black\", label=\"post jump, low damage\")\n",
    "ax3.plot(y_grid[numy_bar:], ϕ_bound[numy_bar:], label=\"post jump, certainty equivalent\")\n",
    "ax3.plot(y_grid[numy_bar:], ϕ_avg_list[1][numy_bar:], linestyle=\"-.\", color=\"black\", label=\"post jump, high damage\")\n",
    "# ax3.plot(y_grid[numy_bar:], ϕ_list[2][numy_bar:], linestyle=\":\", color=\"black\")\n",
    "ax3.vlines(x=2, ymin=-0.11, ymax=0.05, linestyle=\"dashed\", color=\"black\")\n",
    "# ax3.xlim(0,4)\n",
    "# ax3.ylim(-0.02, 0.05)\n",
    "ax3.set_ylabel('$\\phi$')\n",
    "ax3.set_xlabel('y')\n",
    "ax3.set_xlim(left=0)\n",
    "ax3.legend()\n",
    "# plt.savefig(\"phi_x10.pdf\", facecolor=\"w\", edgecolor='w', bbox_inches=\"tight\")"
   ]
  },
  {
   "cell_type": "code",
   "execution_count": null,
   "id": "absolute-warrior",
   "metadata": {},
   "outputs": [],
   "source": [
    "ξₐ = 1000\n",
    "ξ = 1/400\n",
    "ξₘ = 5*ξ\n",
    "dmg_weight = np.array([0.5, 0.5, 0.])\n",
    "args = (δ, η, θ_list, γ1, γ2, γ3_list, dmg_weight, ς, ξₘ, ξₐ, ξ, σy)\n",
    "ϕ_5, ems_5, πᶜ_5, ι_5, πᵈ_5, h_5, ϕ_5_list = approach_one(y_grid, numy_bar, args,)\n",
    "yt_5, et_5, πᵈt_5, πᶜt_5, ιt_5, ht_5 = simulate_jump(y_grid[:numy_bar+1], ems_5, πᶜ_5, πᵈ_5, ι_5, h_5, θ_list)"
   ]
  },
  {
   "cell_type": "code",
   "execution_count": null,
   "id": "painful-notion",
   "metadata": {},
   "outputs": [],
   "source": [
    "ξₘ = 5*ξ\n",
    "fig, (ax1, ax2, ax3) = plt.subplots(1,3, figsize=(18,4))\n",
    "fig.suptitle(r'$\\xi_a = 1,000, \\quad  \\xi_w =1/400, \\quad \\xi_p =  5\\ \\xi_w $')\n",
    "ax1.plot(ht_5)\n",
    "ax1.set_ylim(bottom=0, top=0.15)\n",
    "ax1.set_xlim(left=0)\n",
    "ax1.set_xlabel('years')\n",
    "ax1.set_ylabel('h')\n",
    "ax2.plot(πᵈt_5[:,1][πᵈt_5[:,1]>0], label=\"high damage\")\n",
    "ax2.plot(πᵈt_5[:,0][πᵈt_5[:,0]>0], label=\"low damage\")\n",
    "# ax2.plot(πᵈt[:,2], label=\"extreme\")\n",
    "ax2.set_ylim(bottom=0,top=1)\n",
    "ax2.set_xlim(left=0)\n",
    "ax2.legend()\n",
    "ax2.set_xlabel('years')\n",
    "ax2.set_ylabel('πᵈ')\n",
    "ϕ_bound = np.average(np.exp(-1/ξₘ*ϕ_5_list), axis=0, weights=dmg_weight)\n",
    "# ϕ_bound = np.average(ϕ_avg_list, axis=0, weights=dmg_weight)\n",
    "ϕ_bound = -ξₘ*np.log(ϕ_bound)\n",
    "ax3.plot(y_grid[:numy_bar+1], ϕ_5, label='prior to jump')\n",
    "ax3.plot(y_grid[numy_bar:], ϕ_5_list[0][numy_bar:], linestyle=\"--\", color=\"black\", label=\"post jump, low damage\")\n",
    "ax3.plot(y_grid[numy_bar:], ϕ_bound[numy_bar:], label=\"post jump, certainty equivalent\")\n",
    "ax3.plot(y_grid[numy_bar:], ϕ_5_list[1][numy_bar:], linestyle=\"-.\", color=\"black\", label=\"post jump, high damage\")\n",
    "# ax3.plot(y_grid[numy_bar:], ϕ_list[2][numy_bar:], linestyle=\":\", color=\"black\")\n",
    "ax3.vlines(x=2, ymin=-0.11, ymax=0.05, linestyle=\"dashed\", color=\"black\")\n",
    "# ax3.xlim(0,4)\n",
    "# ax3.ylim(-0.02, 0.05)\n",
    "ax3.set_ylabel('$\\phi$')\n",
    "ax3.set_xlabel('y')\n",
    "ax3.set_xlim(left=0)\n",
    "ax3.legend()\n",
    "# ax3.set_title(r'$\\xi_a = 1,000, \\quad  \\xi_w =1/400, \\quad \\xi_p = 1/400 \\times 5 $')\n",
    "# plt.savefig(\"phi_x5.pdf\", facecolor=\"w\", edgecolor='w', bbox_inches=\"tight\")"
   ]
  },
  {
   "cell_type": "code",
   "execution_count": null,
   "id": "retired-anger",
   "metadata": {},
   "outputs": [],
   "source": [
    "ξₐ = 1000\n",
    "ξ = 1/400\n",
    "ξₘ = 1000\n",
    "dmg_weight = np.array([0.5, 0.5, 0.])\n",
    "args = (δ, η, θ_list, γ1, γ2, γ3_list, dmg_weight, ς, ξₘ, ξₐ, ξ, σy)\n",
    "ϕ_n, ems_n, πᶜ_n, ι_n, πᵈ_n, h_n, ϕ_n_list = approach_one(y_grid, numy_bar, args,)\n",
    "yt_n, et_n, πᵈt_n, πᶜt_n, ιt_n, ht_n = simulate_jump(y_grid[:numy_bar+1], ems_n, πᶜ_n, πᵈ_n, ι_n, h_n, θ_list)"
   ]
  },
  {
   "cell_type": "code",
   "execution_count": null,
   "id": "incoming-public",
   "metadata": {},
   "outputs": [],
   "source": [
    "ξₘ = 1000\n",
    "fig, (ax1, ax2, ax3) = plt.subplots(1,3, figsize=(18,4))\n",
    "fig.suptitle(r'$\\xi_a = 1,000, \\quad  \\xi_w =1/400, \\quad \\xi_p =  1000$')\n",
    "ax1.plot(ht_n[ht_n>0])\n",
    "ax1.set_ylim(bottom=0, top=0.15)\n",
    "ax1.set_xlim(left=0)\n",
    "ax1.set_xlabel('years')\n",
    "ax1.set_ylabel('h')\n",
    "ax2.plot(πᵈt_n[:,1][πᵈt_n[:,1]>0], label=\"high damage\")\n",
    "ax2.plot(πᵈt_n[:,0][πᵈt_n[:,0]>0], label=\"low damage\")\n",
    "# ax2.plot(πᵈt[:,2], label=\"extreme\")\n",
    "ax2.set_ylim(bottom=0, top=1)\n",
    "ax2.set_xlim(left=0)\n",
    "ax2.legend()\n",
    "ax2.set_xlabel('years')\n",
    "ax2.set_ylabel('πᵈ')\n",
    "ϕ_bound = np.average(np.exp(-1/ξₘ*ϕ_n_list), axis=0, weights=dmg_weight)\n",
    "# ϕ_bound = np.average(ϕ_avg_list, axis=0, weights=dmg_weight)\n",
    "ϕ_bound = -ξₘ*np.log(ϕ_bound)\n",
    "ax3.plot(y_grid[:numy_bar+1], ϕ_n, label='prior to jump')\n",
    "ax3.plot(y_grid[numy_bar:], ϕ_n_list[0][numy_bar:], linestyle=\"--\", color=\"black\", label=\"post jump, low damage\")\n",
    "ax3.plot(y_grid[numy_bar:], ϕ_bound[numy_bar:], label=\"post jump, certainty equivalent\")\n",
    "ax3.plot(y_grid[numy_bar:], ϕ_n_list[1][numy_bar:], linestyle=\"-.\", color=\"black\", label=\"post jump, high damage\")\n",
    "# ax3.plot(y_grid[numy_bar:], ϕ_list[2][numy_bar:], linestyle=\":\", color=\"black\")\n",
    "ax3.vlines(x=2, ymin=-0.11, ymax=0.05, linestyle=\"dashed\", color=\"black\")\n",
    "# ax3.xlim(0,4)\n",
    "# ax3.ylim(-0.02, 0.05)\n",
    "ax3.set_ylabel('$\\phi$')\n",
    "ax3.set_xlabel('y')\n",
    "ax3.set_xlim(left=0)\n",
    "ax3.legend()\n",
    "# ax3.set_title(r'$\\xi_a = 1,000, \\quad  \\xi_w =1/400, \\quad \\xi_p = 1/400 \\times 5 $')\n",
    "plt.savefig(\"phi_n.pdf\", facecolor=\"w\", edgecolor='w', bbox_inches=\"tight\")"
   ]
  },
  {
   "cell_type": "code",
   "execution_count": null,
   "id": "opponent-paris",
   "metadata": {},
   "outputs": [],
   "source": [
    "# simulate\n",
    "def simulate_logkapital(invkap, αₖ,  σₖ, κ, k0, T=100, dt=1):\n",
    "    periods = int(T/dt)\n",
    "    Kt = np.zeros(periods)\n",
    "    i = invkap\n",
    "     # log capital\n",
    "    Kt[0] = np.log(k0)\n",
    "    k = np.log(k0)\n",
    "    for t in range(periods-1):\n",
    "        k +=   (αₖ + i - κ/2*i**2 - .5*σₖ**2)*dt\n",
    "        Kt[t+1] = k\n",
    "    return Kt"
   ]
  },
  {
   "cell_type": "code",
   "execution_count": null,
   "id": "infectious-middle",
   "metadata": {},
   "outputs": [],
   "source": [
    "invkap = 0.09\n",
    "α = 0.115\n",
    "αₖ = - 0.043\n",
    "σₖ = 0.0085\n",
    "κ = 6.667\n",
    "k0 = 80/α"
   ]
  },
  {
   "cell_type": "code",
   "execution_count": null,
   "id": "wooden-profit",
   "metadata": {},
   "outputs": [],
   "source": [
    "Kt = simulate_logkapital(invkap, αₖ, σₖ, κ,  k0)"
   ]
  },
  {
   "cell_type": "code",
   "execution_count": null,
   "id": "exceptional-routine",
   "metadata": {},
   "outputs": [],
   "source": [
    "MC = δ*(1-η)/((α - invkap)*np.exp(Kt))"
   ]
  },
  {
   "cell_type": "code",
   "execution_count": null,
   "id": "analyzed-wilderness",
   "metadata": {},
   "outputs": [],
   "source": [
    "scc = η*(α - invkap)*np.exp(Kt)/(1-η)/et*1000\n",
    "scc_10 = η*(α - invkap)*np.exp(Kt)/(1-η)/et_avg*1000\n",
    "scc_5 = η*(α - invkap)*np.exp(Kt)/(1-η)/et_5*1000\n",
    "scc_n = η*(α - invkap)*np.exp(Kt[et_n>0])/(1-η)/et_n[et_n>0]*1000"
   ]
  },
  {
   "cell_type": "code",
   "execution_count": null,
   "id": "postal-syndication",
   "metadata": {
    "scrolled": false
   },
   "outputs": [],
   "source": [
    "colors = ['royalblue', 'red', 'forestgreen', 'darkorange']\n",
    "fig, (ax1, ax2) = plt.subplots(1,2, figsize=(12,4))\n",
    "ax1.plot(et_n[et_n > 0], label=\"$\\\\xi_p = 1000$\", color=colors[0])\n",
    "ax1.plot(et_avg, label=\"$\\\\xi_p = 10\\ \\\\xi_w$\", color=colors[1])\n",
    "ax1.plot(et_5, label=\"$\\\\xi_p = 5 \\ \\\\xi_w$\", color=colors[2])\n",
    "ax1.plot(et, label=\"$\\\\xi_p =  \\\\xi_w $\", color=colors[3])\n",
    "ax1.legend()\n",
    "ax1.set_xlim(left=0)\n",
    "ax1.set_ylim(bottom=0, top=12)\n",
    "ax1.set_ylabel('$\\\\tilde e$')\n",
    "ax1.set_xlabel('years')\n",
    "# subplot 2\n",
    "ax2.plot(scc, label=\"$\\\\xi_p = \\\\xi_w$\", color=colors[3])\n",
    "ax2.plot(scc_5, label=\"$\\\\xi_p = 5\\ \\\\xi_w $\", color=colors[2])\n",
    "ax2.plot(scc_10, label='$\\\\xi_p = 10\\ \\\\xi_w$', color=colors[1])\n",
    "ax2.plot(scc_n, label=\"$\\\\xi_p = 1000$\", color=colors[0])\n",
    "ax2.legend()\n",
    "ax2.set_ylim(bottom=0)\n",
    "ax2.set_xlim(left=0)\n",
    "ax2.set_ylabel('SCC')\n",
    "ax2.set_xlabel('years')\n",
    "# plt.savefig(\"scc.pdf\")"
   ]
  },
  {
   "cell_type": "markdown",
   "id": "affected-papua",
   "metadata": {},
   "source": [
    "# partition: carbon and temp"
   ]
  },
  {
   "cell_type": "code",
   "execution_count": null,
   "id": "stable-batch",
   "metadata": {},
   "outputs": [],
   "source": [
    "ξₐ = 1/4_000\n",
    "dmg_weight = np.array([0.475, 0.475, 0.05])\n",
    "args = (δ, η, θtemp_list, γ1, γ2, γ3_list, dmg_weight, ς, ξₘ, ξₐ, ξ, σy)\n",
    "ϕ_temp, ems_temp, πᶜ_temp, ι_temp, πᵈ_temp, h_temp, ϕ_temp_list = approach_one(y_grid, numy_bar, args, tol=2e-6)"
   ]
  },
  {
   "cell_type": "code",
   "execution_count": null,
   "id": "becoming-receipt",
   "metadata": {},
   "outputs": [],
   "source": [
    "ϕ_bound = np.average(np.exp(-1/ξₘ*ϕ_temp_list), axis=0, weights=dmg_weight)\n",
    "ϕ_bound = -ξₘ*np.log(ϕ_bound)\n",
    "plt.plot(y_grid[:numy_bar+1], ϕ_temp)\n",
    "plt.plot(y_grid[numy_bar:], ϕ_bound[numy_bar:])"
   ]
  },
  {
   "cell_type": "code",
   "execution_count": null,
   "id": "conscious-coaching",
   "metadata": {},
   "outputs": [],
   "source": [
    "yt_temp, et_temp, πᵈt_temp, πᶜt_temp, ιt_temp, ht_temp = simulate_jump(y_grid[:numy_bar+1], ems_temp, πᶜ_temp, πᵈ_temp, ι_temp, h_temp, θtemp_list)"
   ]
  },
  {
   "cell_type": "code",
   "execution_count": null,
   "id": "sustainable-climb",
   "metadata": {},
   "outputs": [],
   "source": [
    "ξₐ = 1/4_000\n",
    "dmg_weight = np.array([0.475, 0.475, 0.05])\n",
    "args = (δ, η, θcarb_list, γ1, γ2, γ3_list, dmg_weight, ς, ξₘ, ξₐ, ξ, σy)\n",
    "ϕ_carb, ems_carb, πᶜ_carb, ι_carb, πᵈ_carb, h_carb, ϕ_carb_list = solve_jump(y_grid, numy_bar, args, tol=2e-6)"
   ]
  },
  {
   "cell_type": "code",
   "execution_count": null,
   "id": "announced-throw",
   "metadata": {},
   "outputs": [],
   "source": [
    "ϕ_bound = np.average(np.exp(-1/ξₘ*ϕ_carb_list), axis=0, weights=dmg_weight)\n",
    "ϕ_bound = -ξₘ*np.log(ϕ_bound)\n",
    "plt.plot(y_grid[:numy_bar+1], ϕ_carb)\n",
    "plt.plot(y_grid[numy_bar:], ϕ_bound[numy_bar:])"
   ]
  },
  {
   "cell_type": "code",
   "execution_count": null,
   "id": "affiliated-reminder",
   "metadata": {},
   "outputs": [],
   "source": [
    "yt_carb, et_carb, πᵈt_carb, πᶜt_carb, ιt_carb, ht_carb = simulate_jump(y_grid[:numy_bar+1], ems_carb, πᶜ_carb, πᵈ_carb, ι_carb, h_carb,  θcarb_list)"
   ]
  },
  {
   "cell_type": "code",
   "execution_count": null,
   "id": "thermal-pitch",
   "metadata": {},
   "outputs": [],
   "source": [
    "plt.plot(ht[ht>0], label=\"neutral\")\n",
    "plt.plot(ht_carb[ht_carb>0], label = \"carbon\")\n",
    "plt.plot(ht_temp[ht_temp>0], label = \"temperature\")\n",
    "plt.plot(ht_avg[ht_avg>0], label = \"climate\")\n",
    "plt.legend()\n",
    "plt.ylabel('h')\n",
    "plt.xlabel('years')\n",
    "# plt.ylim(0,0.0035)"
   ]
  },
  {
   "cell_type": "code",
   "execution_count": null,
   "id": "numerous-hunger",
   "metadata": {},
   "outputs": [],
   "source": [
    "plt.plot(yt[yt>0],label=\"no ambiguity over climate models\")\n",
    "# plt.plot(yt_carb[yt_carb>0],label=\"ambiguity over carbon models\")\n",
    "# plt.plot(yt_temp[yt_temp>0],label=\"ambiguity over temperature models\")\n",
    "plt.plot(yt_avg[yt_avg>0],label=\"ambiguity over 144 climate models\")\n",
    "plt.legend()"
   ]
  },
  {
   "cell_type": "code",
   "execution_count": null,
   "id": "laughing-ozone",
   "metadata": {},
   "outputs": [],
   "source": [
    "plt.plot(et[et>0], label=\"ambiguity neutral\")\n",
    "# plt.plot(et_carb[et_carb>0], label=\"ambiguity over carbon models\")\n",
    "# plt.plot(et_temp[et_temp>0], label=\"ambiguity over temperature models\")\n",
    "plt.plot(et_avg[et_avg>0], label=\"ambiguity over climate models\")\n",
    "plt.legend(frameon=False)\n",
    "plt.ylabel(\"$\\\\tilde e$\")\n",
    "plt.xlabel('Years')\n",
    "plt.ylim(bottom=0)\n",
    "plt.xlim(0,100)\n",
    "# plt.savefig(\"../figures/ems_partition_damage.png\", facecolor='w', edgecolor='w',bbox_inches=\"tight\")"
   ]
  },
  {
   "cell_type": "markdown",
   "id": "generous-monte",
   "metadata": {},
   "source": [
    "# SCC uncertainty decomposition\n",
    "First order condition for $\\tilde e$\n",
    "\n",
    "$$\n",
    "    \\left( \\frac{d^2\\phi(y)}{dy^2} + (\\eta-1)(\\gamma_2 + \\gamma_3\\mathcal{I}\\{y>\\bar y\\}) \\right)|\\sigma_y|^2\\tilde e + \\sum_j \\pi^c_j \\left[\\frac{d\\phi(y)}{dy} + (\\eta - 1)(\\gamma_1 + \\gamma_2 y)\\right]\\theta_j  + \\frac{\\delta\\eta}{\\tilde e} = 0 \\tag{$\\ast$}\n",
    "$$\n",
    "\n",
    "Call solution $\\tilde e^* $. Now solve:\n",
    "$$\n",
    "\\begin{aligned}\n",
    "0 =  &- \\delta \\phi(y) + \\delta\\eta \\log\\tilde e^* + \\frac{1}{2} \\frac{d^2 \\phi}{dy^2}(\\tilde e^*)^2 |\\sigma_y|^2 + \\frac{1}{2}(\\eta -1)\\gamma_2(\\tilde e^*)^2 |\\sigma_y|^2\\\\\n",
    "& + \\sum_i \\pi_i^c \\left[\\frac{d\\phi}{dy}  + (\\eta -1)(\\gamma_1 + \\gamma_2 y)\\right] \\tilde e^* \\theta_i\n",
    "\\end{aligned}\n",
    "$$"
   ]
  },
  {
   "cell_type": "code",
   "execution_count": null,
   "id": "strong-consortium",
   "metadata": {},
   "outputs": [],
   "source": [
    "# solve for decompose\n",
    "def solve_decompose(y_grid, numy_bar, ems_star, ϕ_list, args, ϵ=0.3, tol=1e-8, max_iter=10_000):\n",
    "    \"\"\"compute jump model with ambiguity over climate models\n",
    "    \"\"\"\n",
    "    δ, η, θ_list, γ1, γ2, γ3_list, dmg_weight, ς, ξₘ, ξₐ, ξ, σy = args\n",
    "    # solve for HJB with jump function\n",
    "    ems_star = ems_star[:numy_bar+1]\n",
    "    y_grid_cap = y_grid[:numy_bar+1]\n",
    "    dy = y_grid_cap[1] - y_grid_cap[0]\n",
    "    dΛ = γ1 + γ2*y_grid_cap\n",
    "    ddΛ = γ2\n",
    "    πᶜo = np.ones((len(θ_list), len(y_grid_cap)))/len(θ_list)\n",
    "    θ = θ_list@πᶜo \n",
    "    A = np.ones_like(y_grid_cap)*(-δ)\n",
    "    B = θ*ems_star\n",
    "    C = .5*σy**2*ems_star**2\n",
    "    D = δ*η*np.log(ems_star) + (η-1)*dΛ*ems_star*θ + .5*(η-1)*ddΛ*σy**2*ems_star**2\n",
    "    bc = np.average(ϕ_list, axis=0, weights=dmg_weight)\n",
    "    ϕ = bc[:numy_bar+1]\n",
    "    episode = 0\n",
    "    lhs_error = 1\n",
    "    while lhs_error > tol and episode < max_iter:\n",
    "        ϕ_old = ϕ.copy()\n",
    "        dϕdy = derivative_1d(ϕ, 1, dy, True)\n",
    "        dϕdyy = derivative_1d(ϕ, 2, dy, True)\n",
    "        # solver\n",
    "        ϕ_new = solve_ode(A, B, C, D, y_grid_cap, ϕ, ϵ, (True, bc[numy_bar]))\n",
    "        rhs = -δ*ϕ_new + B*dϕdy + C*dϕdyy + D\n",
    "        rhs_error = np.max(abs(rhs))\n",
    "        lhs_error = np.max(abs((ϕ_new - ϕ_old)/ϵ))\n",
    "        ϕ = ϕ_new\n",
    "        episode += 1\n",
    "        print(\"episode: {},\\t ode error: {},\\t ft error: {}\".format(episode, rhs_error, lhs_error))\n",
    "\n",
    "    v0_dy = compute_derivatives(ϕ, 1, dy, central_diff=False)\n",
    "    v0_dyy = compute_derivatives(ϕ, 2, dy)\n",
    "\n",
    "    error = np.max(abs(A*ϕ + B*v0_dy + C*v0_dyy + D))\n",
    "    \n",
    "    ME = -(v0_dy+(η-1)*dΛ)*θ - (v0_dyy+(η-1)*ddΛ)*σy**2*ems_star\n",
    "    ratio = ME/(δ*η/ems_star)\n",
    "\n",
    "    print(\"Solved. PDE error: %s\" % (error))  \n",
    "    return ME, ratio"
   ]
  },
  {
   "cell_type": "code",
   "execution_count": null,
   "id": "lucky-abuse",
   "metadata": {},
   "outputs": [],
   "source": [
    "ς = 0.1\n",
    "ξₐ = 1000\n",
    "ξ = 1000\n",
    "ξₘ = 1/80\n",
    "dmg_weight = np.array([0.5, 0.5, 0])\n",
    "args = (δ, η, θ_list, γ1, γ2, γ3_list, dmg_weight, ς, ξₘ, ξₐ, ξ, σy)\n",
    "ϕ_5, ems_5, πᶜ_5, ι_5, πᵈ_5, h_5, ϕ_5_list = approach_one(y_grid, numy_bar, args, max_iter=5_000)\n",
    "ME5, ratio = solve_decompose(y_grid, numy_bar, ems_5, ϕ_5_list, args)\n",
    "yt, et, πᵈt, πᶜt, ιt, ht = simulate_jump(y_grid[:numy_bar+1], ems, πᶜ, πᵈ, ι, h, θ_list)"
   ]
  },
  {
   "cell_type": "code",
   "execution_count": null,
   "id": "simplified-attitude",
   "metadata": {},
   "outputs": [],
   "source": [
    "plt.plot(-np.log(ME5/(δ*η/ems_5))*100)\n",
    "plt.ylim(bottom=0)\n",
    "yt, et, πᵈt, πᶜt, ιt, ht = simulate_jump(y_grid[:numy_bar+1], ems, πᶜ, πᵈ, ι, h, θ_list)"
   ]
  },
  {
   "cell_type": "code",
   "execution_count": null,
   "id": "skilled-africa",
   "metadata": {},
   "outputs": [],
   "source": [
    "plt.plot(ratio)\n",
    "plt.ylim(0,1)"
   ]
  },
  {
   "cell_type": "code",
   "execution_count": null,
   "id": "literary-intellectual",
   "metadata": {},
   "outputs": [],
   "source": [
    "plt.hist(ht)\n",
    "plt.ylim(0, 0.3)"
   ]
  },
  {
   "cell_type": "code",
   "execution_count": null,
   "id": "greater-fairy",
   "metadata": {},
   "outputs": [],
   "source": [
    "def plot_together(et, ratio, θ_list, ht, πᶜt, πᵈt, ME):\n",
    "    y_grid_cap = y_grid[:numy_bar+1]\n",
    "    πᶜo = πᶜo = np.ones(len(θ_list))/len(θ_list)\n",
    "    fig,((ax1, ax2), (ax3, ax4)) = plt.subplots(2,2, figsize=(12,8))\n",
    "    fig.tight_layout(pad=5)\n",
    "    ax1.plot(πᵈt[:,1], label=\"high damage\", color=\"C3\")\n",
    "    ax1.plot(πᵈt[:,0], label=\"low\", color=\"C0\")\n",
    "    ax1.legend()\n",
    "    ax1.set_xlabel('Years')\n",
    "    ax1.set_ylim(0,1)\n",
    "    ax1.set_xlim(left=0)\n",
    "    ax1.set_title('distorted probability of damage')\n",
    "    ax2.hist(θ_list*1000, density=True, color='tab:red', bins=15, histtype='bar', ec='gray', alpha=.5, )\n",
    "    ax2.hist((θ_list+σy*ht[49])*1000, weights=πᶜt[49], density=True, color='tab:blue',bins=15, histtype='bar', ec='gray', alpha=.5,)\n",
    "    ax2.set_title('mean difference: ' + str((θ_list@(πᶜt[49]-πᶜo)+σy*ht[49])*1000))\n",
    "    ax2.set_xlabel('Climate sensitivity, year 50')\n",
    "    ax3.plot(et[et_base>0],label='distorted', color=\"C3\")\n",
    "    ax3.plot(et_base[et_base>0], label=\"baseline\", color=\"C0\")\n",
    "    ax3.legend()\n",
    "    ax3.set_xlabel('Years')\n",
    "    ax3.set_ylim(bottom=0)\n",
    "    ax3.set_xlim(left=0)\n",
    "    ax3.set_title('emission')\n",
    "    ax4.plot((δ*η/et[et>0])/MC[et>0]*1000, label=\"total\", color=\"C3\")\n",
    "    ax4.plot((ME/MC)[et>0]*1000, label=\"baseline\", color=\"C0\")\n",
    "    ax4.legend()\n",
    "    ax4.set_xlabel('Years')\n",
    "    ax4.set_ylim(bottom=0)\n",
    "    ax4.set_xlim(left=0)\n",
    "    ax4.set_title('social cost of carbon')"
   ]
  },
  {
   "cell_type": "code",
   "execution_count": null,
   "id": "loving-roman",
   "metadata": {},
   "outputs": [],
   "source": [
    "ξₐ = 1000\n",
    "ξ = 1000\n",
    "ξₘ = 1000\n",
    "dmg_weight = np.array([0.5, 0.5, 0])\n",
    "args = (δ, η, θ_list, γ1, γ2, γ3_list, dmg_weight, ς, ξₘ, ξₐ, ξ, σy)\n",
    "ϕ, ems, πᶜ, ι, πᵈ, h, ϕ_list = approach_one(y_grid, numy_bar, args, max_iter=5_000)\n",
    "_, et_base, _, _, _, _ = simulate_jump(y_grid[:numy_bar+1], ems, πᶜ, πᵈ, ι, h, θ_list)"
   ]
  },
  {
   "cell_type": "code",
   "execution_count": null,
   "id": "blank-zimbabwe",
   "metadata": {},
   "outputs": [],
   "source": [
    "plt.plot(et_base[et_base>0])"
   ]
  },
  {
   "cell_type": "code",
   "execution_count": null,
   "id": "after-output",
   "metadata": {},
   "outputs": [],
   "source": [
    "ξₐ = 1/15_000\n",
    "ξ = 1/600\n",
    "ξₘ = 60*ξ\n",
    "dmg_weight = np.array([0.5, 0.5, 0])\n",
    "args = (δ, η, θ_list, γ1, γ2, γ3_list, dmg_weight, ς, ξₘ, ξₐ, ξ, σy)\n",
    "ϕ, ems, πᶜ, ι, πᵈ, h, ϕ_list = approach_one(y_grid, numy_bar, args, max_iter=5_000)\n",
    "ME, ratio = solve_decompose(y_grid, numy_bar, ems, ϕ_list, args)\n",
    "yt, et, πᵈt, πᶜt, ιt, ht, me = simulate_jump(y_grid[:numy_bar+1], ems, πᶜ, πᵈ, ι, h, ME, θ_list)"
   ]
  },
  {
   "cell_type": "code",
   "execution_count": null,
   "id": "unnecessary-production",
   "metadata": {
    "scrolled": false
   },
   "outputs": [],
   "source": [
    "plot_together(et, ratio, θ_list, ht, πᶜt, πᵈt, me)\n",
    "# plt.savefig('15_600_60.pdf')\n",
    "plt.show()"
   ]
  },
  {
   "cell_type": "code",
   "execution_count": null,
   "id": "beautiful-aluminum",
   "metadata": {},
   "outputs": [],
   "source": [
    "ξₐ = 1/15_000\n",
    "ξ = 1/600\n",
    "ξₘ = 30*ξ\n",
    "dmg_weight = np.array([0.5, 0.5, 0])\n",
    "args = (δ, η, θ_list, γ1, γ2, γ3_list, dmg_weight, ς, ξₘ, ξₐ, ξ, σy)\n",
    "ϕ, ems, πᶜ, ι, πᵈ, h, ϕ_list = approach_one(y_grid, numy_bar, args, max_iter=5_000)\n",
    "ME, ratio = solve_decompose(y_grid, numy_bar, ems, ϕ_list, args)\n",
    "yt, et, πᵈt, πᶜt, ιt, ht, me = simulate_jump(y_grid[:numy_bar+1], ems, πᶜ, πᵈ, ι, h, ME, θ_list)"
   ]
  },
  {
   "cell_type": "code",
   "execution_count": null,
   "id": "failing-specific",
   "metadata": {
    "scrolled": false
   },
   "outputs": [],
   "source": [
    "plot_together(et, ratio, θ_list, ht, πᶜt, πᵈt, me)\n",
    "# plt.savefig('15_600_30.pdf')\n",
    "plt.show()"
   ]
  },
  {
   "cell_type": "code",
   "execution_count": null,
   "id": "informative-housing",
   "metadata": {},
   "outputs": [],
   "source": [
    "ξₐ = 1/15_000\n",
    "ξ = 1/600\n",
    "ξₘ = ξ\n",
    "dmg_weight = np.array([0.5, 0.5, 0])\n",
    "args = (δ, η, θ_list, γ1, γ2, γ3_list, dmg_weight, ς, ξₘ, ξₐ, ξ, σy)\n",
    "ϕ, ems, πᶜ, ι, πᵈ, h, ϕ_list = approach_one(y_grid, numy_bar, args, max_iter=5_000)\n",
    "ME, ratio = solve_decompose(y_grid, numy_bar, ems, ϕ_list, args)\n",
    "yt, et, πᵈt, πᶜt, ιt, ht, me = simulate_jump(y_grid[:numy_bar+1], ems, πᶜ, πᵈ, ι, h, ME, θ_list)"
   ]
  },
  {
   "cell_type": "code",
   "execution_count": null,
   "id": "victorian-gardening",
   "metadata": {
    "scrolled": false
   },
   "outputs": [],
   "source": [
    "plot_together(et, ratio, θ_list, ht, πᶜt, πᵈt, me)\n",
    "# plt.savefig('15_600_1.pdf')\n",
    "plt.show()"
   ]
  },
  {
   "cell_type": "code",
   "execution_count": null,
   "id": "expected-drain",
   "metadata": {},
   "outputs": [],
   "source": [
    "ξₐ = 1/15_000\n",
    "ξ = 1/600\n",
    "ξₘ = 1000\n",
    "dmg_weight = np.array([0.5, 0.5, 0])\n",
    "args = (δ, η, θ_list, γ1, γ2, γ3_list, dmg_weight, ς, ξₘ, ξₐ, ξ, σy)\n",
    "ϕ, ems, πᶜ, ι, πᵈ, h, ϕ_list = approach_one(y_grid, numy_bar, args, max_iter=5_000)\n",
    "ME, ratio = solve_decompose(y_grid, numy_bar, ems, ϕ_list, args)\n",
    "yt, et, πᵈt, πᶜt, ιt, ht, me = simulate_jump(y_grid[:numy_bar+1], ems, πᶜ, πᵈ, ι, h, ME, θ_list)"
   ]
  },
  {
   "cell_type": "code",
   "execution_count": null,
   "id": "cheap-portrait",
   "metadata": {},
   "outputs": [],
   "source": [
    "plot_together(et, ratio, θ_list, ht, πᶜt, πᵈt, me)\n",
    "# plt.savefig('15_600_1000.pdf')\n",
    "plt.show()"
   ]
  }
 ],
 "metadata": {
  "kernelspec": {
   "display_name": "ry38",
   "language": "python",
   "name": "ry38"
  },
  "language_info": {
   "codemirror_mode": {
    "name": "ipython",
    "version": 3
   },
   "file_extension": ".py",
   "mimetype": "text/x-python",
   "name": "python",
   "nbconvert_exporter": "python",
   "pygments_lexer": "ipython3",
   "version": "3.8.7"
  }
 },
 "nbformat": 4,
 "nbformat_minor": 5
}
