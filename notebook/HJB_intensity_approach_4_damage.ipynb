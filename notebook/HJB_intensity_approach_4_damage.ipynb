{
 "cells": [
  {
   "cell_type": "code",
   "execution_count": 1,
   "metadata": {},
   "outputs": [],
   "source": [
    "import os, sys\n",
    "sys.path.append(os.path.dirname(os.getcwd()) + '/source')\n",
    "\n",
    "from model import ode_y, ode_y_parallel\n",
    "from simulation import simulation\n",
    "from utilities import find_nearest_value, compute_derivatives\n",
    "from solver import false_transient_one_iteration_python\n",
    "from numba import njit\n",
    "import numpy as np\n",
    "import pandas as pd\n",
    "import matplotlib.pyplot as plt\n",
    "import matplotlib as mpl\n",
    "mpl.rcParams['axes.spines.right'] = False\n",
    "mpl.rcParams['axes.spines.top'] = False"
   ]
  },
  {
   "cell_type": "markdown",
   "metadata": {},
   "source": [
    "## Solve HJB"
   ]
  },
  {
   "cell_type": "code",
   "execution_count": 2,
   "metadata": {},
   "outputs": [],
   "source": [
    "# Intensity parameter\n",
    "τ = 1.\n",
    "\n",
    "r1 = 19.5001\n",
    "# r0 = .25\n",
    "r0 = .275\n",
    "\n",
    "# Robustness parameters\n",
    "ξ_w = 100000.\n",
    "ξ_p = 5.\n",
    "ξ_a = 1./100\n",
    "\n",
    "n_model = 4\n",
    "damage_setting={'γ_2p': np.array([0, 0.02, 0.04, 0.7706]),\n",
    "                'πd_o': np.ones(n_model)/n_model}\n",
    "\n",
    "# Model parameters\n",
    "η = .032\n",
    "δ = .01\n",
    "\n",
    "θ = pd.read_csv('../data/model144.csv', header=None).to_numpy()[:, 0]/1000.\n",
    "πc_o = np.ones_like(θ)/len(θ)\n",
    "σ_y = 1.2*np.mean(θ)\n",
    "\n",
    "γ_1 = 1.7675/10000\n",
    "γ_2 = .0022*2\n",
    "γ_2p = damage_setting['γ_2p']\n",
    "πd_o = damage_setting['πd_o']\n",
    "\n",
    "y_bar_upper = 2.0\n",
    "y_bar_lower = 1.5\n",
    "\n",
    "# Grid setting\n",
    "ϵ = 2.\n",
    "y_step = .02\n",
    "y_grid_long = np.arange(0., y_bar_upper*2, y_step)\n",
    "y_grid_short = np.arange(0., y_bar_upper, y_step)\n",
    "y_bar_lower_loc = find_nearest_value(y_grid_short, y_bar_lower)\n",
    "y_bar_upper_loc = find_nearest_value(y_grid_long, y_bar_upper)\n",
    "y_grid_tilde = y_grid_short[y_bar_lower_loc: y_bar_upper_loc]"
   ]
  },
  {
   "cell_type": "code",
   "execution_count": 3,
   "metadata": {},
   "outputs": [
    {
     "name": "stdout",
     "output_type": "stream",
     "text": [
      "-----Solving model 0-----\n",
      "-----Solving model 1-----\n",
      "-----Solving model 2-----\n",
      "-----Solving model 3-----\n"
     ]
    }
   ],
   "source": [
    "# Parallelly solve ODE\n",
    "model_args_list = []\n",
    "model_list = []\n",
    "\n",
    "for i in range(n_model):\n",
    "    temp_list = []\n",
    "    for y_jump in y_grid_tilde:\n",
    "        temp = (η, δ, θ, πc_o, σ_y, ξ_w, ξ_a, γ_1, γ_2, γ_2p[i], y_jump)\n",
    "        temp_list.append((y_grid_long, temp, None, ϵ, 1e-8, 2000, False))\n",
    "    model_args_list.append(temp_list)\n",
    "\n",
    "for i in range(n_model):\n",
    "    print('-----Solving model ' + str(i) + '-----')\n",
    "    temp_res = ode_y_parallel(model_args_list[i])\n",
    "    model_list.append(temp_res)"
   ]
  },
  {
   "cell_type": "code",
   "execution_count": 4,
   "metadata": {},
   "outputs": [],
   "source": [
    "# Prepare ϕ_m\n",
    "ϕ_m = np.zeros((n_model, len(y_grid_short)))\n",
    "e_m = np.zeros((n_model, len(y_grid_short)))\n",
    "for i in range(len(y_grid_tilde)):\n",
    "    for j in range(n_model):\n",
    "        ϕ_m[j, y_bar_lower_loc+i] = model_list[j][i]['v0'][y_bar_lower_loc+i]\n",
    "        e_m[j, y_bar_lower_loc+i] = model_list[j][i]['e_tilde'][y_bar_lower_loc+i]\n",
    "\n",
    "# Prepare v_guess\n",
    "v_guess = np.average(np.array([model_list[0][-1]['v0'][:y_bar_upper_loc],\n",
    "                               model_list[-1][-1]['v0'][:y_bar_upper_loc]]),\n",
    "                     weights=np.array([0.5, 0.5]), axis=0)"
   ]
  },
  {
   "cell_type": "code",
   "execution_count": 5,
   "metadata": {},
   "outputs": [
    {
     "data": {
      "image/png": "[encoded data removed]",
      "text/plain": [
       "<Figure size 432x288 with 1 Axes>"
      ]
     },
     "metadata": {
      "needs_background": "light"
     },
     "output_type": "display_data"
    }
   ],
   "source": [
    "for i in range(ϕ_m.shape[0]):\n",
    "    plt.plot(ϕ_m[i])"
   ]
  },
  {
   "cell_type": "code",
   "execution_count": 6,
   "metadata": {},
   "outputs": [
    {
     "data": {
      "image/png": "[encoded data removed]",
      "text/plain": [
       "<Figure size 432x288 with 1 Axes>"
      ]
     },
     "metadata": {
      "needs_background": "light"
     },
     "output_type": "display_data"
    }
   ],
   "source": [
    "for i in range(ϕ_m.shape[0]):\n",
    "    plt.plot(e_m[i])"
   ]
  },
  {
   "cell_type": "code",
   "execution_count": 7,
   "metadata": {},
   "outputs": [
    {
     "data": {
      "text/plain": [
       "(4, 100)"
      ]
     },
     "execution_count": 7,
     "metadata": {},
     "output_type": "execute_result"
    }
   ],
   "source": [
    "ϕ_m.shape"
   ]
  },
  {
   "cell_type": "code",
   "execution_count": 9,
   "metadata": {},
   "outputs": [
    {
     "data": {
      "text/plain": [
       "4.603582092905351"
      ]
     },
     "execution_count": 9,
     "metadata": {},
     "output_type": "execute_result"
    }
   ],
   "source": [
    "np.max(ϕ_m)"
   ]
  },
  {
   "cell_type": "code",
   "execution_count": 10,
   "metadata": {},
   "outputs": [],
   "source": [
    "def ode_y_jump_intensity_approach(y_grid, model_paras=(), v0=None, ϵ=.5, tol=1e-8,\n",
    "                                     max_iter=10_000, print_all=True):\n",
    "    η, δ, θ, πc_o, σ_y, ξ_1m, ξ_2m, ξ_a, γ_1, γ_2, y_bar_lower, y_bar_upper, ϕ_i, πd_o, r0, r1, τ = model_paras\n",
    "    Δ_y = y_grid[1] - y_grid[0]\n",
    "\n",
    "    if v0 is None:\n",
    "        v0 = - η * (y_grid + y_grid**2)\n",
    "\n",
    "    d_Λ = γ_1 + γ_2*y_grid\n",
    "    dd_Λ = γ_2\n",
    "\n",
    "    πd = np.ones((len(πd_o), len(y_grid)))\n",
    "    for i in range(πd.shape[0]):\n",
    "        πd[i] = πd_o[i]\n",
    "    πd_o = πd\n",
    "\n",
    "    πc = np.ones((len(πc_o), len(y_grid)))\n",
    "    θ_reshape = np.ones_like(πc)\n",
    "    for i in range(πc.shape[0]):\n",
    "        πc[i] = πc_o[i]\n",
    "        θ_reshape[i] = θ[i]\n",
    "    πc_o = πc.copy()\n",
    "    θ = θ_reshape\n",
    "\n",
    "    intensity = - r0 * (np.exp(- r1 / 2. * (y_grid-y_bar_lower)**2) - 1.) * (y_grid >= y_bar_lower)\\\n",
    "                + 0 * (y_grid < y_bar_lower)\n",
    "\n",
    "    e_tilde = 0.\n",
    "    \n",
    "    count = 0\n",
    "    error = 1.\n",
    "\n",
    "    while error > tol and count < max_iter:\n",
    "        v_old = v0.copy()\n",
    "        e_tilde_old = e_tilde\n",
    "\n",
    "        v0_dy = compute_derivatives(v0, 1, Δ_y, central_diff=False)\n",
    "        v0_dyy = compute_derivatives(v0, 2, Δ_y)\n",
    "\n",
    "        G = v0_dy + (η-1)/δ*d_Λ\n",
    "\n",
    "        if σ_y == 0:\n",
    "            e_tilde = -η/(G*np.sum(πc*θ, axis=0))\n",
    "        else:\n",
    "            temp = σ_y**2*(v0_dyy+(η-1.)/δ*dd_Λ-G**2/ξ_1m)\n",
    "            root = np.sum(πc*θ, axis=0)**2*G**2 - 4*η*temp\n",
    "            root[root<0] = 0.\n",
    "            e_tilde = (-G*np.sum(πc*θ, axis=0) - np.sqrt(root)) / (2*temp)\n",
    "\n",
    "        e_tilde[e_tilde<=0] = 1e-16\n",
    "        e_tilde = e_tilde *.5 + e_tilde_old*.5\n",
    " \n",
    "        log_πc_ratio = -G*e_tilde*θ/ξ_a\n",
    "        πc_ratio = log_πc_ratio - np.max(log_πc_ratio, axis=0)\n",
    "        πc = np.exp(πc_ratio) * πc_o\n",
    "        πc = πc/np.sum(πc, axis=0)\n",
    "        πc[πc<=0] = 1e-16        \n",
    "        c_entropy = np.sum(πc*(np.log(πc)-np.log(πc_o)), axis=0)\n",
    "\n",
    "#         g = np.exp(1./ξ_2m*(v0-ϕ_i))\n",
    "\n",
    "#         A = np.ones_like(y_grid)*(-δ)\n",
    "#         B = e_tilde * np.sum(πc*θ, axis=0)\n",
    "#         C = .5 * σ_y**2 * e_tilde**2\n",
    "#         D = η*np.log(e_tilde) - C*G**2/ξ_1m + (η-1)/δ*d_Λ*e_tilde*np.sum(πc*θ, axis=0)\\\n",
    "#             + .5*(η-1)/δ*dd_Λ*σ_y**2*e_tilde**2 + ξ_a*c_entropy\\\n",
    "#             - ξ_2m * intensity * (np.sum(πd_o * np.exp(-1./ξ_2m*ϕ_i), axis=0) - np.exp(-1./ξ_2m * v0)) \\\n",
    "#                 / np.exp(-1./ξ_2m * v0)\n",
    "\n",
    "        g = np.exp(1. / ξ_2m * (v0 - ϕ_i))\n",
    "\n",
    "        A = np.ones_like(y_grid)*(-δ) - intensity * np.sum(πd_o * g, axis=0)\n",
    "        B = e_tilde * np.sum(πc*θ, axis=0)\n",
    "        C = .5 * σ_y**2 * e_tilde**2\n",
    "        D = η*np.log(e_tilde) - C*G**2/ξ_1m + (η-1)/δ*d_Λ*e_tilde*np.sum(πc*θ, axis=0)\\\n",
    "            + .5*(η-1)/δ*dd_Λ*σ_y**2*e_tilde**2 + ξ_a*c_entropy\\\n",
    "            + ξ_2m * intensity * np.sum(πd_o * (1 - g + g * np.log(g)), axis=0)\\\n",
    "            + intensity * np.sum(πd_o * g * ϕ_i, axis=0)\n",
    "\n",
    "        v0 = false_transient_one_iteration_python(A, B, C, D, v0, ε, Δ_y, (0, 0), (False, False))\n",
    "\n",
    "        rhs_error = A*v0 + B*v0_dy + C*v0_dyy + D\n",
    "        rhs_error = np.max(abs(rhs_error))\n",
    "        lhs_error = np.max(abs((v0 - v_old)/ϵ))\n",
    "        error = lhs_error\n",
    "        count += 1\n",
    "        if print_all:\n",
    "            print(\"Iteration %s: LHS Error: %s; RHS Error %s\" % (count, lhs_error, rhs_error))\n",
    "\n",
    "    h = -(v0_dy+(η-1)/δ*d_Λ)*e_tilde*σ_y/ξ_1m\n",
    "    πd = g / np.sum(πd_o * g, axis=0) * πd_o\n",
    "    \n",
    "    \n",
    "    print(\"Converged. Total iteration %s: LHS Error: %s; RHS Error %s\" % (count, lhs_error, rhs_error))     \n",
    "    res = {'v0': v0,\n",
    "           'v0_dy': v0_dy,\n",
    "           'v0_dyy': v0_dyy,\n",
    "           'e_tilde': e_tilde,\n",
    "           'y_grid': y_grid,\n",
    "           'intensity': intensity,\n",
    "           'πc': πc,\n",
    "           'πd': πd,\n",
    "           'g': g,\n",
    "           'h': h,\n",
    "           'θ': θ[:, 0],\n",
    "           'σ_y': σ_y}\n",
    "    return res"
   ]
  },
  {
   "cell_type": "code",
   "execution_count": 11,
   "metadata": {},
   "outputs": [
    {
     "name": "stdout",
     "output_type": "stream",
     "text": [
      "Iteration 1: LHS Error: 0.14296718742623327; RHS Error 0.14268543983287113\n",
      "Iteration 2: LHS Error: 0.11786261897348815; RHS Error 0.11821158618422828\n",
      "Iteration 3: LHS Error: 0.10095123359933389; RHS Error 0.10194293757620049\n",
      "Iteration 4: LHS Error: 0.08810666399308675; RHS Error 0.08968842149581041\n",
      "Iteration 5: LHS Error: 0.07811784868675109; RHS Error 0.08014107433823256\n",
      "Iteration 6: LHS Error: 0.07029245412969254; RHS Error 0.07253825392131602\n",
      "Iteration 7: LHS Error: 0.06398590111001834; RHS Error 0.06665390824707165\n",
      "Iteration 8: LHS Error: 0.05881046371748466; RHS Error 0.06185548764542885\n",
      "Iteration 9: LHS Error: 0.05485042604504797; RHS Error 0.05769962686515809\n",
      "Iteration 10: LHS Error: 0.05137250667308213; RHS Error 0.05447428497051267\n",
      "Iteration 11: LHS Error: 0.04850440860840477; RHS Error 0.051522268229162574\n",
      "Iteration 12: LHS Error: 0.04606242329157828; RHS Error 0.049213186301243356\n",
      "Iteration 13: LHS Error: 0.04396582743465394; RHS Error 0.04686262001263561\n",
      "Iteration 14: LHS Error: 0.04203771949283497; RHS Error 0.045199617909331496\n",
      "Iteration 15: LHS Error: 0.040591994317901614; RHS Error 0.04353545007408558\n",
      "Iteration 16: LHS Error: 0.03904350914063426; RHS Error 0.041800216532494786\n",
      "Iteration 17: LHS Error: 0.037848267129473756; RHS Error 0.04062174991313762\n",
      "Iteration 18: LHS Error: 0.036795458572663975; RHS Error 0.0394395031401753\n",
      "Iteration 19: LHS Error: 0.03563633110157838; RHS Error 0.03817054505777223\n",
      "Iteration 20: LHS Error: 0.03471762892246466; RHS Error 0.03681862007944861\n",
      "Iteration 21: LHS Error: 0.0339651715536029; RHS Error 0.036009154688197285\n",
      "Iteration 22: LHS Error: 0.03310524957621874; RHS Error 0.035108266778231895\n",
      "Iteration 23: LHS Error: 0.03219958603840456; RHS Error 0.0341112986443083\n",
      "Iteration 24: LHS Error: 0.03165554831585382; RHS Error 0.03301129852948628\n",
      "Iteration 25: LHS Error: 0.03101012686970739; RHS Error 0.031981638769719496\n",
      "Iteration 26: LHS Error: 0.030256147089607666; RHS Error 0.031272102713744206\n",
      "Iteration 27: LHS Error: 0.02962216158729647; RHS Error 0.030459760670292293\n",
      "Iteration 28: LHS Error: 0.02911916941498216; RHS Error 0.029534575620088318\n",
      "Iteration 29: LHS Error: 0.028513078372766287; RHS Error 0.02848662640595477\n",
      "Iteration 30: LHS Error: 0.027801544781943077; RHS Error 0.02745744945434872\n",
      "Iteration 31: LHS Error: 0.027381382714622093; RHS Error 0.026746640357160876\n",
      "Iteration 32: LHS Error: 0.0268680596566091; RHS Error 0.025918731858645547\n",
      "Iteration 33: LHS Error: 0.026255728493627783; RHS Error 0.02512420083308943\n",
      "Iteration 34: LHS Error: 0.02580345619455393; RHS Error 0.02453592718889343\n",
      "Iteration 35: LHS Error: 0.02534784380345423; RHS Error 0.024169579057126918\n",
      "Iteration 36: LHS Error: 0.024800306563326435; RHS Error 0.02373216908636146\n",
      "Iteration 37: LHS Error: 0.024371088986318235; RHS Error 0.02320341430668075\n",
      "Iteration 38: LHS Error: 0.023950527997063098; RHS Error 0.02285048320885101\n",
      "Iteration 39: LHS Error: 0.02344189589897372; RHS Error 0.02244374639505841\n",
      "Iteration 40: LHS Error: 0.023061143463480427; RHS Error 0.021956876450547145\n",
      "Iteration 41: LHS Error: 0.022659971339215712; RHS Error 0.0216403798414298\n",
      "Iteration 42: LHS Error: 0.022178703613878525; RHS Error 0.021250344386384512\n",
      "Iteration 43: LHS Error: 0.0218566944409746; RHS Error 0.020835980609193047\n",
      "Iteration 44: LHS Error: 0.021462627544511115; RHS Error 0.02052201335882329\n",
      "Iteration 45: LHS Error: 0.02106242588677487; RHS Error 0.02013814206861638\n",
      "Iteration 46: LHS Error: 0.02073894100623086; RHS Error 0.019797245309151893\n",
      "Iteration 47: LHS Error: 0.02034363887935653; RHS Error 0.019479052570927514\n",
      "Iteration 48: LHS Error: 0.020022038725819424; RHS Error 0.019093849885952457\n",
      "Iteration 49: LHS Error: 0.019687139005514886; RHS Error 0.018824891835062217\n",
      "Iteration 50: LHS Error: 0.019328094506741778; RHS Error 0.018497590396124405\n",
      "Iteration 51: LHS Error: 0.019040170906736265; RHS Error 0.018188134341105895\n",
      "Iteration 52: LHS Error: 0.018692585303578202; RHS Error 0.017905905637869465\n",
      "Iteration 53: LHS Error: 0.01841192992320506; RHS Error 0.01757541326773049\n",
      "Iteration 54: LHS Error: 0.01810660050922408; RHS Error 0.017328466093450255\n",
      "Iteration 55: LHS Error: 0.017807403080015494; RHS Error 0.017028949104303838\n",
      "Iteration 56: LHS Error: 0.01753556696427294; RHS Error 0.016770655470531783\n",
      "Iteration 57: LHS Error: 0.01722890608500416; RHS Error 0.01650341467437528\n",
      "Iteration 58: LHS Error: 0.016983697198527548; RHS Error 0.016235155572969555\n",
      "Iteration 59: LHS Error: 0.016689455545908505; RHS Error 0.01599356831041117\n",
      "Iteration 60: LHS Error: 0.016452371167397395; RHS Error 0.01572296776765736\n",
      "Iteration 61: LHS Error: 0.016182429835708945; RHS Error 0.015501808160211093\n",
      "Iteration 62: LHS Error: 0.015943118199399642; RHS Error 0.015236576399935156\n",
      "Iteration 63: LHS Error: 0.015693315704552457; RHS Error 0.01502908191623542\n",
      "Iteration 64: LHS Error: 0.015455768138604498; RHS Error 0.014783121249575676\n",
      "Iteration 65: LHS Error: 0.015222829122367276; RHS Error 0.014575476541850915\n",
      "Iteration 66: LHS Error: 0.014989401443022743; RHS Error 0.014344927878038587\n",
      "Iteration 67: LHS Error: 0.014768153358247105; RHS Error 0.014140585691137596\n",
      "Iteration 68: LHS Error: 0.01454302043626532; RHS Error 0.013922387413555656\n",
      "Iteration 69: LHS Error: 0.014331793804365223; RHS Error 0.01372362743657217\n",
      "Iteration 70: LHS Error: 0.014115449699472205; RHS Error 0.01351520300088084\n",
      "Iteration 71: LHS Error: 0.013912031137653269; RHS Error 0.013323634003752943\n",
      "Iteration 72: LHS Error: 0.01370501517214695; RHS Error 0.013122853338752953\n",
      "Iteration 73: LHS Error: 0.013507930616380115; RHS Error 0.012939495039022565\n",
      "Iteration 74: LHS Error: 0.013311646731484217; RHS Error 0.012744566567285578\n",
      "Iteration 75: LHS Error: 0.013118593029280756; RHS Error 0.012570179026153393\n",
      "Iteration 76: LHS Error: 0.012932570236360519; RHS Error 0.012379592694933494\n",
      "Iteration 77: LHS Error: 0.01274289920639049; RHS Error 0.012214482387719147\n",
      "Iteration 78: LHS Error: 0.012567920416076905; RHS Error 0.012029267221885888\n",
      "Iteration 79: LHS Error: 0.012379567062887897; RHS Error 0.011871383335199936\n",
      "Iteration 80: LHS Error: 0.01221552456784547; RHS Error 0.011697519116554408\n",
      "Iteration 81: LHS Error: 0.012034557810942648; RHS Error 0.011539740977072777\n",
      "Iteration 82: LHS Error: 0.011874602456781513; RHS Error 0.011376971023425775\n",
      "Iteration 83: LHS Error: 0.011705413399817122; RHS Error 0.01121857307471353\n",
      "Iteration 84: LHS Error: 0.011544093591113302; RHS Error 0.011066562464366825\n",
      "Iteration 85: LHS Error: 0.011386310995448401; RHS Error 0.010906911899733022\n",
      "Iteration 86: LHS Error: 0.011222999511639298; RHS Error 0.010765302740475949\n",
      "Iteration 87: LHS Error: 0.011076201736121671; RHS Error 0.010613336316335223\n",
      "Iteration 88: LHS Error: 0.010919943228339335; RHS Error 0.010472264687213115\n",
      "Iteration 89: LHS Error: 0.010774138889725116; RHS Error 0.010330829884015395\n",
      "Iteration 90: LHS Error: 0.01062870334560806; RHS Error 0.010186570333563079\n",
      "Iteration 91: LHS Error: 0.010479016652531481; RHS Error 0.010055233642751231\n",
      "Iteration 92: LHS Error: 0.010344159698738142; RHS Error 0.009917077071192673\n",
      "Iteration 93: LHS Error: 0.010202797988012602; RHS Error 0.009785720361724176\n",
      "Iteration 94: LHS Error: 0.010065373341068717; RHS Error 0.009657380729979424\n",
      "Iteration 95: LHS Error: 0.0099340100690255; RHS Error 0.00952431988539603\n",
      "Iteration 96: LHS Error: 0.009798274951400732; RHS Error 0.009402537335719018\n",
      "Iteration 97: LHS Error: 0.009669997683664722; RHS Error 0.009278843315493418\n",
      "Iteration 98: LHS Error: 0.009543728653422345; RHS Error 0.009151945780197401\n",
      "Iteration 99: LHS Error: 0.00941432033680023; RHS Error 0.00903711969184403\n",
      "Iteration 100: LHS Error: 0.00929261420809313; RHS Error 0.008918916848518907\n",
      "Iteration 101: LHS Error: 0.00917220521589357; RHS Error 0.008798599365286437\n",
      "Iteration 102: LHS Error: 0.009049543327167786; RHS Error 0.008688764677685472\n",
      "Iteration 103: LHS Error: 0.008932579383186035; RHS Error 0.008576515414516275\n",
      "Iteration 104: LHS Error: 0.008818061661354903; RHS Error 0.008462724926864645\n",
      "Iteration 105: LHS Error: 0.008702337795185144; RHS Error 0.008356404737078986\n",
      "Iteration 106: LHS Error: 0.008588492033555273; RHS Error 0.008250228957045441\n",
      "Iteration 107: LHS Error: 0.008480314707456582; RHS Error 0.008143010843632947\n",
      "Iteration 108: LHS Error: 0.008370851494359677; RHS Error 0.00803873746532175\n",
      "Iteration 109: LHS Error: 0.00826135085200752; RHS Error 0.007938585803787278\n",
      "Iteration 110: LHS Error: 0.008156948629186811; RHS Error 0.00783771537290167\n",
      "Iteration 111: LHS Error: 0.008054125088563069; RHS Error 0.007736609432409447\n",
      "Iteration 112: LHS Error: 0.007950715706996014; RHS Error 0.007640073541609872\n",
      "Iteration 113: LHS Error: 0.00784798686132282; RHS Error 0.007545268411746693\n",
      "Iteration 114: LHS Error: 0.007749846897638246; RHS Error 0.0074503581024155455\n",
      "Iteration 115: LHS Error: 0.007652967801208721; RHS Error 0.007355675751337179\n",
      "Iteration 116: LHS Error: 0.007555888267112287; RHS Error 0.007264143855686557\n",
      "Iteration 117: LHS Error: 0.007459929470325477; RHS Error 0.007175041407387769\n",
      "Iteration 118: LHS Error: 0.007365659672041058; RHS Error 0.007086185617323944\n",
      "Iteration 119: LHS Error: 0.007274793420599224; RHS Error 0.006997810355642606\n",
      "Iteration 120: LHS Error: 0.00718390552423509; RHS Error 0.006910096843821739\n",
      "Iteration 121: LHS Error: 0.007094422930691291; RHS Error 0.006825754637256071\n",
      "Iteration 122: LHS Error: 0.0070052988663453775; RHS Error 0.006742735430588544\n",
      "Iteration 123: LHS Error: 0.006917117950367313; RHS Error 0.006660318651163601\n",
      "Iteration 124: LHS Error: 0.006832040590844635; RHS Error 0.006578631765525818\n",
      "Iteration 125: LHS Error: 0.006748605326696744; RHS Error 0.006497789549150902\n",
      "Iteration 126: LHS Error: 0.006665480991332906; RHS Error 0.00641784453547805\n",
      "Iteration 127: LHS Error: 0.006582670787865119; RHS Error 0.006340465332427714\n",
      "Iteration 128: LHS Error: 0.006501856055890265; RHS Error 0.006264289064676659\n",
      "Iteration 129: LHS Error: 0.006421536952131213; RHS Error 0.006188900549376181\n",
      "Iteration 130: LHS Error: 0.006341592345960656; RHS Error 0.0061143781507891765\n",
      "Iteration 131: LHS Error: 0.006264372551314956; RHS Error 0.0060407794857263025\n",
      "Iteration 132: LHS Error: 0.006188813736325294; RHS Error 0.005968117633604386\n",
      "Iteration 133: LHS Error: 0.006113690894650858; RHS Error 0.005896410382167275\n",
      "Iteration 134: LHS Error: 0.006038870515065575; RHS Error 0.005825693008906729\n",
      "Iteration 135: LHS Error: 0.005965566306564085; RHS Error 0.005755984963940378\n",
      "Iteration 136: LHS Error: 0.005893872393702537; RHS Error 0.005687271798332921\n",
      "Iteration 137: LHS Error: 0.005821818804465195; RHS Error 0.005620053171801656\n",
      "Iteration 138: LHS Error: 0.005751397940580993; RHS Error 0.005553738929028246\n",
      "Iteration 139: LHS Error: 0.005682690116485922; RHS Error 0.005488288716393938\n",
      "Iteration 140: LHS Error: 0.005613419546360632; RHS Error 0.0054237033784335364\n",
      "Iteration 141: LHS Error: 0.0055458606236173935; RHS Error 0.005359999950173028\n",
      "Iteration 142: LHS Error: 0.005479229000674657; RHS Error 0.005321734216222659\n",
      "Iteration 143: LHS Error: 0.005413514070916392; RHS Error 0.0052992768333366275\n"
     ]
    },
    {
     "name": "stdout",
     "output_type": "stream",
     "text": [
      "Iteration 144: LHS Error: 0.0053487008356691845; RHS Error 0.005271647314293748\n",
      "Iteration 145: LHS Error: 0.0052847608349448905; RHS Error 0.005238595206196989\n",
      "Iteration 146: LHS Error: 0.005221651733640087; RHS Error 0.00519986616627402\n",
      "Iteration 147: LHS Error: 0.005159298988370864; RHS Error 0.0051552089476570445\n",
      "Iteration 148: LHS Error: 0.00509751820044535; RHS Error 0.005104381690716295\n",
      "Iteration 149: LHS Error: 0.005032995244519611; RHS Error 0.0050471583579340396\n",
      "Iteration 150: LHS Error: 0.004960959851872282; RHS Error 0.004983342358946374\n",
      "Iteration 151: LHS Error: 0.00488299601199671; RHS Error 0.004912934866655325\n",
      "Iteration 152: LHS Error: 0.00479712986057379; RHS Error 0.004835473034358398\n",
      "Iteration 153: LHS Error: 0.004704633259033031; RHS Error 0.00475090693888007\n",
      "Iteration 154: LHS Error: 0.004605865609272897; RHS Error 0.00465932763674709\n",
      "Iteration 155: LHS Error: 0.004499203771762161; RHS Error 0.0045605593638547715\n",
      "Iteration 156: LHS Error: 0.0043859088460411755; RHS Error 0.004455197056171659\n",
      "Iteration 157: LHS Error: 0.004266030252576769; RHS Error 0.0043430373175724485\n",
      "Iteration 158: LHS Error: 0.004139247931177259; RHS Error 0.0042243635326438544\n",
      "Iteration 159: LHS Error: 0.0040073704656640174; RHS Error 0.00409959195007685\n",
      "Iteration 160: LHS Error: 0.003870229752615195; RHS Error 0.003969029285582945\n",
      "Iteration 161: LHS Error: 0.0037284014844489732; RHS Error 0.0038331855412620935\n",
      "Iteration 162: LHS Error: 0.0035825067177892578; RHS Error 0.0036926500242516896\n",
      "Iteration 163: LHS Error: 0.003433253085449728; RHS Error 0.0035480854194579886\n",
      "Iteration 164: LHS Error: 0.0032814173167681204; RHS Error 0.0034002136242773096\n",
      "Iteration 165: LHS Error: 0.0031278178004781054; RHS Error 0.003249803743180582\n",
      "Iteration 166: LHS Error: 0.0029732941204212437; RHS Error 0.0030976604600599783\n",
      "Iteration 167: LHS Error: 0.0028186906919316357; RHS Error 0.00294461065381503\n",
      "Iteration 168: LHS Error: 0.002664841678512886; RHS Error 0.002791488349794549\n",
      "Iteration 169: LHS Error: 0.0025125560981775763; RHS Error 0.0027570906323683836\n",
      "Iteration 170: LHS Error: 0.002362603432632504; RHS Error 0.0027554947558015574\n",
      "Iteration 171: LHS Error: 0.0022157005498781857; RHS Error 0.0027545012396054808\n",
      "Iteration 172: LHS Error: 0.0020725006237301002; RHS Error 0.002754044354984206\n",
      "Iteration 173: LHS Error: 0.0019335844897190313; RHS Error 0.002754047258074252\n",
      "Iteration 174: LHS Error: 0.0017994546467479111; RHS Error 0.002754434847406853\n",
      "Iteration 175: LHS Error: 0.0016705318822065607; RHS Error 0.002755139471591353\n",
      "Iteration 176: LHS Error: 0.0015471542879605948; RHS Error 0.002756100299670286\n",
      "Iteration 177: LHS Error: 0.0014295783297475495; RHS Error 0.0027572588201977416\n",
      "Iteration 178: LHS Error: 0.0013179816755117812; RHS Error 0.002758554245422415\n",
      "Iteration 179: LHS Error: 0.0012124675764892956; RHS Error 0.002759922136498144\n",
      "Iteration 180: LHS Error: 0.001113070585942566; RHS Error 0.0027612971639104367\n",
      "Iteration 181: LHS Error: 0.001019763300178056; RHS Error 0.002762618375098516\n",
      "Iteration 182: LHS Error: 0.000932463731626143; RHS Error 0.0027638344403055626\n",
      "Iteration 183: LHS Error: 0.000851042937624058; RHS Error 0.002764907100253608\n",
      "Iteration 184: LHS Error: 0.0007753326001855854; RHS Error 0.00276581230325372\n",
      "Iteration 185: LHS Error: 0.0007051323328122194; RHS Error 0.002766539414176497\n",
      "Iteration 186: LHS Error: 0.0006402165555403627; RHS Error 0.0027670892089354526\n",
      "Iteration 187: LHS Error: 0.0005803408290434575; RHS Error 0.002767471329094745\n",
      "Iteration 188: LHS Error: 0.0005252475773778187; RHS Error 0.002767701686501159\n",
      "Iteration 189: LHS Error: 0.0004746711616725463; RHS Error 0.0027678001188092133\n",
      "Iteration 190: LHS Error: 0.00042834229436028437; RHS Error 0.002767788449728914\n",
      "Iteration 191: LHS Error: 0.00038599180626608387; RHS Error 0.0027676890099116447\n",
      "Iteration 192: LHS Error: 0.00034735379514927445; RHS Error 0.0027675236153199417\n",
      "Iteration 193: LHS Error: 0.00031216819628365755; RHS Error 0.002767312971090244\n",
      "Iteration 194: LHS Error: 0.00028099913574752833; RHS Error 0.0027691042091592816\n",
      "Iteration 195: LHS Error: 0.0002509945277742176; RHS Error 0.0027581196361805976\n",
      "Iteration 196: LHS Error: 0.00022474826488583233; RHS Error 0.0027586521431606364\n",
      "Iteration 197: LHS Error: 0.00020194067488876755; RHS Error 0.0027606721550069296\n",
      "Iteration 198: LHS Error: 0.00017960646115788848; RHS Error 0.0027512878837273463\n",
      "Iteration 199: LHS Error: 0.00016027494077697213; RHS Error 0.002752381411202501\n",
      "Iteration 200: LHS Error: 0.0001428221225481252; RHS Error 0.0027531567233963494\n",
      "Iteration 201: LHS Error: 0.00012714169209360193; RHS Error 0.0027542284812839546\n",
      "Iteration 202: LHS Error: 0.0001130901929560224; RHS Error 0.0027552878205286124\n",
      "Iteration 203: LHS Error: 0.00010050413664774993; RHS Error 0.0027558481826097797\n",
      "Iteration 204: LHS Error: 8.923324554377388e-05; RHS Error 0.0027556953975258203\n",
      "Iteration 205: LHS Error: 7.91457840794152e-05; RHS Error 0.002754878443125483\n",
      "Iteration 206: LHS Error: 7.012695913388711e-05; RHS Error 0.0027535978929773414\n",
      "Iteration 207: LHS Error: 6.207382182399357e-05; RHS Error 0.0027520826298524925\n",
      "Iteration 208: LHS Error: 5.489139462877546e-05; RHS Error 0.0027505204400578576\n",
      "Iteration 209: LHS Error: 4.849202141343767e-05; RHS Error 0.002749046494562951\n",
      "Iteration 210: LHS Error: 4.2795784681359805e-05; RHS Error 0.0027477515957303883\n",
      "Iteration 211: LHS Error: 3.77303728917866e-05; RHS Error 0.002746688595242519\n",
      "Iteration 212: LHS Error: 3.323039444413922e-05; RHS Error 0.0027458768912752007\n",
      "Iteration 213: LHS Error: 2.923664536425008e-05; RHS Error 0.002745309244628194\n",
      "Iteration 214: LHS Error: 2.5695563980576708e-05; RHS Error 0.0027449608378974227\n",
      "Iteration 215: LHS Error: 2.2558800235827903e-05; RHS Error 0.0027447978113989274\n",
      "Iteration 216: LHS Error: 1.978279421788187e-05; RHS Error 0.0027447835284020866\n",
      "Iteration 217: LHS Error: 1.7328354537049506e-05; RHS Error 0.0027448826109492397\n",
      "Iteration 218: LHS Error: 1.516026563663786e-05; RHS Error 0.0027450633606369568\n",
      "Iteration 219: LHS Error: 1.3246932439869852e-05; RHS Error 0.0027452989828062047\n",
      "Iteration 220: LHS Error: 1.1560052525894093e-05; RHS Error 0.0027455678902494896\n",
      "Iteration 221: LHS Error: 1.0074311116881063e-05; RHS Error 0.0027458534001258\n",
      "Iteration 222: LHS Error: 8.767098176321042e-06; RHS Error 0.002746143110815502\n",
      "Iteration 223: LHS Error: 7.618248259788629e-06; RHS Error 0.0027464281685885827\n",
      "Iteration 224: LHS Error: 6.609801432411189e-06; RHS Error 0.0027467025389650984\n",
      "Iteration 225: LHS Error: 5.725783251975258e-06; RHS Error 0.0027469623480717437\n",
      "Iteration 226: LHS Error: 4.952003342495459e-06; RHS Error 0.0027472053293688126\n",
      "Iteration 227: LHS Error: 4.275870825409811e-06; RHS Error 0.0027474303776694603\n",
      "Iteration 228: LHS Error: 3.6947805881482054e-06; RHS Error 0.002747637205471651\n",
      "Iteration 229: LHS Error: 3.5837904395208398e-06; RHS Error 0.002747826085757757\n",
      "Iteration 230: LHS Error: 3.494643073587156e-06; RHS Error 0.0027479976621567065\n",
      "Iteration 231: LHS Error: 3.3935016956476716e-06; RHS Error 0.0027481528144286532\n",
      "Iteration 232: LHS Error: 3.30899847389432e-06; RHS Error 0.002748292561617696\n",
      "Iteration 233: LHS Error: 3.223537641705576e-06; RHS Error 0.0027484179949488624\n",
      "Iteration 234: LHS Error: 3.1360217409570623e-06; RHS Error 0.0027485302303197484\n",
      "Iteration 235: LHS Error: 3.064118982543107e-06; RHS Error 0.002748630377541486\n",
      "Iteration 236: LHS Error: 2.9846568980751442e-06; RHS Error 0.0027487195166263495\n",
      "Iteration 237: LHS Error: 2.9140087725032515e-06; RHS Error 0.0027487986834113104\n",
      "Iteration 238: LHS Error: 2.8465353323348097e-06; RHS Error 0.0027488688593250016\n",
      "Iteration 239: LHS Error: 2.7740971288992e-06; RHS Error 0.0027489309659650824\n",
      "Iteration 240: LHS Error: 2.7151583443796312e-06; RHS Error 0.00274898586003261\n",
      "Iteration 241: LHS Error: 2.6532150818603384e-06; RHS Error 0.002749034333244027\n",
      "Iteration 242: LHS Error: 2.589806607833367e-06; RHS Error 0.002749077111792217\n",
      "Iteration 243: LHS Error: 2.5371079517277906e-06; RHS Error 0.0027491148578201313\n",
      "Iteration 244: LHS Error: 2.4810486904947027e-06; RHS Error 0.0027491481706408694\n",
      "Iteration 245: LHS Error: 2.425306733666588e-06; RHS Error 0.0027491775903564913\n",
      "Iteration 246: LHS Error: 2.3773261430548587e-06; RHS Error 0.002749203600489983\n",
      "Iteration 247: LHS Error: 2.3270583699996905e-06; RHS Error 0.002749226631112406\n",
      "Iteration 248: LHS Error: 2.276584126992276e-06; RHS Error 0.002749247062971985\n",
      "Iteration 249: LHS Error: 2.2333354792181126e-06; RHS Error 0.0027492652304978576\n",
      "Iteration 250: LHS Error: 2.1885163969947996e-06; RHS Error 0.0027492814257126796\n",
      "Iteration 251: LHS Error: 2.142828242845951e-06; RHS Error 0.0027492959022822616\n",
      "Iteration 252: LHS Error: 2.1028382692911407e-06; RHS Error 0.002749308878586959\n",
      "Iteration 253: LHS Error: 2.063000582364083e-06; RHS Error 0.002749320541348771\n",
      "Iteration 254: LHS Error: 2.0225964236786353e-06; RHS Error 0.00274933104874496\n",
      "Iteration 255: LHS Error: 1.9837779889897433e-06; RHS Error 0.002749340533552705\n",
      "Iteration 256: LHS Error: 1.9484085407306395e-06; RHS Error 0.0027493491073067172\n",
      "Iteration 257: LHS Error: 1.91265884197378e-06; RHS Error 0.0027493568612909636\n",
      "Iteration 258: LHS Error: 1.876858655602831e-06; RHS Error 0.0027493638712958873\n",
      "Iteration 259: LHS Error: 1.8429466659419802e-06; RHS Error 0.0027493701981030905\n",
      "Iteration 260: LHS Error: 1.8112641093637194e-06; RHS Error 0.002749375892432543\n",
      "Iteration 261: LHS Error: 1.7795668112441376e-06; RHS Error 0.0027493809942412684\n",
      "Iteration 262: LHS Error: 1.7480613587750327e-06; RHS Error 0.002749385537131499\n",
      "Iteration 263: LHS Error: 1.716957406916464e-06; RHS Error 0.002749389548868428\n",
      "Iteration 264: LHS Error: 1.6888021949768017e-06; RHS Error 0.0027493930529759597\n",
      "Iteration 265: LHS Error: 1.6608018600372532e-06; RHS Error 0.0027493960709334547\n",
      "Iteration 266: LHS Error: 1.6330869709868523e-06; RHS Error 0.0027493986227017375\n",
      "Iteration 267: LHS Error: 1.605760942879897e-06; RHS Error 0.0027494007277866633\n",
      "Iteration 268: LHS Error: 1.5789041176716978e-06; RHS Error 0.002749402406534124\n",
      "Iteration 269: LHS Error: 1.5536765003432151e-06; RHS Error 0.0027494036799293464\n",
      "Iteration 270: LHS Error: 1.5292066346539457e-06; RHS Error 0.002749404570521752\n",
      "Iteration 271: LHS Error: 1.5051038682045714e-06; RHS Error 0.002749405103208466\n",
      "Iteration 272: LHS Error: 1.4814184141620501e-06; RHS Error 0.002749405304081645\n",
      "Iteration 273: LHS Error: 1.4581875520391918e-06; RHS Error 0.002749405201631236\n",
      "Iteration 274: LHS Error: 1.4354377153580344e-06; RHS Error 0.00274940482650049\n",
      "Iteration 275: LHS Error: 1.4131862160482456e-06; RHS Error 0.002749404210095327\n",
      "Iteration 276: LHS Error: 1.3916628192056635e-06; RHS Error 0.002749403385587504\n",
      "Iteration 277: LHS Error: 1.3709756392366046e-06; RHS Error 0.002749402387243749\n",
      "Iteration 278: LHS Error: 1.350681689604727e-06; RHS Error 0.002749401249046976\n",
      "Iteration 279: LHS Error: 1.3307907917869954e-06; RHS Error 0.002749400005496505\n",
      "Iteration 280: LHS Error: 1.3113077219628622e-06; RHS Error 0.002749398690786428\n",
      "Iteration 281: LHS Error: 1.2922330432374451e-06; RHS Error 0.0027493973374964203\n",
      "Iteration 282: LHS Error: 1.273563920989318e-06; RHS Error 0.0027493959772846993\n"
     ]
    },
    {
     "name": "stdout",
     "output_type": "stream",
     "text": [
      "Iteration 283: LHS Error: 1.2552948378541373e-06; RHS Error 0.002749394640310404\n",
      "Iteration 284: LHS Error: 1.2374179614305092e-06; RHS Error 0.002749393352807869\n",
      "Iteration 285: LHS Error: 1.2199238637045084e-06; RHS Error 0.0027493921403987376\n",
      "Iteration 286: LHS Error: 1.2028017488674436e-06; RHS Error 0.0027493910244777015\n",
      "Iteration 287: LHS Error: 1.186039847222986e-06; RHS Error 0.002749390023466053\n",
      "Iteration 288: LHS Error: 1.1696256985160858e-06; RHS Error 0.0027493891526199077\n",
      "Iteration 289: LHS Error: 1.153546423715568e-06; RHS Error 0.0027493884239102317\n",
      "Iteration 290: LHS Error: 1.1377888382568813e-06; RHS Error 0.0027493878452672232\n",
      "Iteration 291: LHS Error: 1.1223396594317592e-06; RHS Error 0.0027493874212399377\n",
      "Iteration 292: LHS Error: 1.1071856769184762e-06; RHS Error 0.00274938715341172\n",
      "Iteration 293: LHS Error: 1.0923137701013275e-06; RHS Error 0.0027493870393756475\n",
      "Iteration 294: LHS Error: 1.0777110697191006e-06; RHS Error 0.002749387074092946\n",
      "Iteration 295: LHS Error: 1.0633649392133293e-06; RHS Error 0.0027493872491331783\n",
      "Iteration 296: LHS Error: 1.0492631341563197e-06; RHS Error 0.002749387554330185\n",
      "Iteration 297: LHS Error: 1.0356097108754625e-06; RHS Error 0.0027493879765832646\n",
      "Iteration 298: LHS Error: 1.0221982540414842e-06; RHS Error 0.0027493885014976543\n",
      "Iteration 299: LHS Error: 1.008997720930438e-06; RHS Error 0.002749389112550557\n",
      "Iteration 300: LHS Error: 9.95996221497819e-07; RHS Error 0.0027493897927096944\n",
      "Iteration 301: LHS Error: 9.83180756364277e-07; RHS Error 0.0027493905235853044\n",
      "Iteration 302: LHS Error: 9.705440175977742e-07; RHS Error 0.0027493912864907516\n",
      "Iteration 303: LHS Error: 9.581769679911645e-07; RHS Error 0.0027493920634501096\n",
      "Iteration 304: LHS Error: 9.461072991712172e-07; RHS Error 0.0027493928361820297\n",
      "Iteration 305: LHS Error: 9.34054380508087e-07; RHS Error 0.002749393587426513\n",
      "Iteration 306: LHS Error: 9.213846192679398e-07; RHS Error 0.0027493943006275112\n",
      "Iteration 307: LHS Error: 9.069516870852112e-07; RHS Error 0.00274939496082241\n",
      "Iteration 308: LHS Error: 8.907594688523091e-07; RHS Error 0.002749395554703035\n",
      "Iteration 309: LHS Error: 8.728324321083392e-07; RHS Error 0.0027493960696705066\n",
      "Iteration 310: LHS Error: 8.532150230777802e-07; RHS Error 0.0027493964960181583\n",
      "Iteration 311: LHS Error: 8.319704685177953e-07; RHS Error 0.00274939682567428\n",
      "Iteration 312: LHS Error: 8.091794105880012e-07; RHS Error 0.0027493970524130468\n",
      "Iteration 313: LHS Error: 7.849383658609099e-07; RHS Error 0.002749397171996376\n",
      "Iteration 314: LHS Error: 7.59357984492226e-07; RHS Error 0.002749397182204169\n",
      "Iteration 315: LHS Error: 7.325612561004391e-07; RHS Error 0.002749397083047847\n",
      "Iteration 316: LHS Error: 7.046814243238941e-07; RHS Error 0.0027493968758220133\n",
      "Iteration 317: LHS Error: 6.758601989176327e-07; RHS Error 0.0027493965645128265\n",
      "Iteration 318: LHS Error: 6.462454589239996e-07; RHS Error 0.002749396153470765\n",
      "Iteration 319: LHS Error: 6.159894807566957e-07; RHS Error 0.0027493956493555016\n",
      "Iteration 320: LHS Error: 5.852468794032006e-07; RHS Error 0.0027493950598253547\n",
      "Iteration 321: LHS Error: 5.541727006175279e-07; RHS Error 0.002749394393409599\n",
      "Iteration 322: LHS Error: 5.229207085122312e-07; RHS Error 0.002749393659730398\n",
      "Iteration 323: LHS Error: 4.916416838085524e-07; RHS Error 0.0027493928690289493\n",
      "Iteration 324: LHS Error: 4.6048187396507956e-07; RHS Error 0.0027493920317691878\n",
      "Iteration 325: LHS Error: 4.295816964372534e-07; RHS Error 0.002749391158997916\n",
      "Iteration 326: LHS Error: 3.9907442772602053e-07; RHS Error 0.002749390261573212\n",
      "Iteration 327: LHS Error: 3.690853214166623e-07; RHS Error 0.0027493893507160166\n",
      "Iteration 328: LHS Error: 3.3973047397495293e-07; RHS Error 0.0027493884362526644\n",
      "Iteration 329: LHS Error: 3.111163904279124e-07; RHS Error 0.0027493875286303537\n",
      "Iteration 330: LHS Error: 2.833393004664231e-07; RHS Error 0.0027493866373777265\n",
      "Iteration 331: LHS Error: 2.5648489376806083e-07; RHS Error 0.0027493857717153514\n",
      "Iteration 332: LHS Error: 2.3062791321137865e-07; RHS Error 0.002749384939176827\n",
      "Iteration 333: LHS Error: 2.0583232096527126e-07; RHS Error 0.0027493841474983405\n",
      "Iteration 334: LHS Error: 1.821512736199793e-07; RHS Error 0.0027493834032102232\n",
      "Iteration 335: LHS Error: 1.5962713817430085e-07; RHS Error 0.002749382711021403\n",
      "Iteration 336: LHS Error: 1.3829213330041057e-07; RHS Error 0.002749382076199139\n",
      "Iteration 337: LHS Error: 1.1816842881984257e-07; RHS Error 0.002749381502059195\n",
      "Iteration 338: LHS Error: 9.926878608013112e-08; RHS Error 0.002749380991273559\n",
      "Iteration 339: LHS Error: 8.927705374972561e-08; RHS Error 0.002749380545169794\n",
      "Iteration 340: LHS Error: 8.752060587369215e-08; RHS Error 0.0027493801654717848\n",
      "Iteration 341: LHS Error: 8.58646034274102e-08; RHS Error 0.0027493798516970286\n",
      "Iteration 342: LHS Error: 8.426421915785909e-08; RHS Error 0.0027493796031147627\n",
      "Iteration 343: LHS Error: 8.266952811197825e-08; RHS Error 0.002749379418405057\n",
      "Iteration 344: LHS Error: 8.108488902536237e-08; RHS Error 0.0027493792958134394\n",
      "Iteration 345: LHS Error: 7.95142400811244e-08; RHS Error 0.0027493792323990407\n",
      "Iteration 346: LHS Error: 7.80412396927943e-08; RHS Error 0.0027493792253995702\n",
      "Iteration 347: LHS Error: 7.660095580064308e-08; RHS Error 0.002749379271522648\n",
      "Iteration 348: LHS Error: 7.517416555913314e-08; RHS Error 0.0027493793669405298\n",
      "Iteration 349: LHS Error: 7.376367516798155e-08; RHS Error 0.0027493795070357846\n",
      "Iteration 350: LHS Error: 7.237181609554e-08; RHS Error 0.0027493796886233074\n",
      "Iteration 351: LHS Error: 7.100067023202428e-08; RHS Error 0.0027493799069527314\n",
      "Iteration 352: LHS Error: 6.970928900784656e-08; RHS Error 0.0027493801577084392\n",
      "Iteration 353: LHS Error: 6.844037958586568e-08; RHS Error 0.002749380436616017\n",
      "Iteration 354: LHS Error: 6.718976663933063e-08; RHS Error 0.0027493807393287606\n",
      "Iteration 355: LHS Error: 6.59588703655345e-08; RHS Error 0.0027493810620131953\n",
      "Iteration 356: LHS Error: 6.474855496207965e-08; RHS Error 0.0027493814003381606\n",
      "Iteration 357: LHS Error: 6.355893678033908e-08; RHS Error 0.002749381750838664\n",
      "Iteration 358: LHS Error: 6.239318484091427e-08; RHS Error 0.0027493821095058713\n",
      "Iteration 359: LHS Error: 6.125314744309662e-08; RHS Error 0.0027493824733668265\n",
      "Iteration 360: LHS Error: 6.014346798366432e-08; RHS Error 0.002749382839128206\n",
      "Iteration 361: LHS Error: 5.907657207870898e-08; RHS Error 0.002749383203728112\n",
      "Iteration 362: LHS Error: 5.802905178597939e-08; RHS Error 0.0027493835647748044\n",
      "Iteration 363: LHS Error: 5.7001671827094924e-08; RHS Error 0.0027493839200043446\n",
      "Iteration 364: LHS Error: 5.579932871313531e-08; RHS Error 0.0027493842672643015\n",
      "Iteration 365: LHS Error: 5.4408320515619835e-08; RHS Error 0.0027493846044768233\n",
      "Iteration 366: LHS Error: 5.2859045140962735e-08; RHS Error 0.002749384930278112\n",
      "Iteration 367: LHS Error: 5.1179539717338685e-08; RHS Error 0.002749385243793756\n",
      "Iteration 368: LHS Error: 4.9395721291034533e-08; RHS Error 0.002749385543414376\n",
      "Iteration 369: LHS Error: 4.753117188727174e-08; RHS Error 0.0027493858287513523\n",
      "Iteration 370: LHS Error: 4.560743072090645e-08; RHS Error 0.002749386098826606\n",
      "Iteration 371: LHS Error: 4.364391781308541e-08; RHS Error 0.002749386353333244\n",
      "Iteration 372: LHS Error: 4.165816314127824e-08; RHS Error 0.0027493865916674853\n",
      "Iteration 373: LHS Error: 3.9665687623369195e-08; RHS Error 0.0027493868142930977\n",
      "Iteration 374: LHS Error: 3.768032108553143e-08; RHS Error 0.002749387020873434\n",
      "Iteration 375: LHS Error: 3.57141800577665e-08; RHS Error 0.0027493872116949314\n",
      "Iteration 376: LHS Error: 3.377778234892048e-08; RHS Error 0.002749387387084551\n",
      "Iteration 377: LHS Error: 3.188019359612326e-08; RHS Error 0.002749387547307927\n",
      "Iteration 378: LHS Error: 3.00290627919253e-08; RHS Error 0.0027493876929669953\n",
      "Iteration 379: LHS Error: 2.8230804360873663e-08; RHS Error 0.0027493878244718717\n",
      "Iteration 380: LHS Error: 2.6490683424640338e-08; RHS Error 0.002749387942341752\n",
      "Iteration 381: LHS Error: 2.4812750964997576e-08; RHS Error 0.002749388047853782\n",
      "Iteration 382: LHS Error: 2.3200283472135652e-08; RHS Error 0.002749388140853501\n",
      "Iteration 383: LHS Error: 2.1655509385709593e-08; RHS Error 0.002749388222536203\n",
      "Iteration 384: LHS Error: 2.0179946602638665e-08; RHS Error 0.002749388293307578\n",
      "Iteration 385: LHS Error: 1.8774390042608502e-08; RHS Error 0.0027493883538394076\n",
      "Iteration 386: LHS Error: 1.743899780137781e-08; RHS Error 0.0027493884049441947\n",
      "Iteration 387: LHS Error: 1.6173354211446167e-08; RHS Error 0.0027493884474723423\n",
      "Iteration 388: LHS Error: 1.4976579976178073e-08; RHS Error 0.0027493884821214315\n",
      "Iteration 389: LHS Error: 1.3847372137831826e-08; RHS Error 0.002749388509517753\n",
      "Iteration 390: LHS Error: 1.278415062699878e-08; RHS Error 0.0027493885300043236\n",
      "Iteration 391: LHS Error: 1.1784899278666217e-08; RHS Error 0.0027493885448533345\n",
      "Iteration 392: LHS Error: 1.0847478471021077e-08; RHS Error 0.0027493885541990115\n",
      "Iteration 393: LHS Error: 9.969546965749032e-09; RHS Error 0.002749388558605792\n",
      "Converged. Total iteration 393: LHS Error: 9.969546965749032e-09; RHS Error 0.002749388558605792\n"
     ]
    }
   ],
   "source": [
    "model_paras = (η, δ, θ, πc_o, σ_y, ξ_w, ξ_p, ξ_a, γ_1, γ_2, y_bar_lower, y_bar_upper, ϕ_m, πd_o, r0, r1, τ)\n",
    "model_res = ode_y_jump_intensity_approach(y_grid_short, model_paras=model_paras, v0=v_guess, ϵ=1,\n",
    "                                          tol=1e-8, max_iter=1000, print_all=True)"
   ]
  },
  {
   "cell_type": "code",
   "execution_count": 12,
   "metadata": {},
   "outputs": [
    {
     "data": {
      "text/plain": [
       "[<matplotlib.lines.Line2D at 0x7faf5bfc4af0>]"
      ]
     },
     "execution_count": 12,
     "metadata": {},
     "output_type": "execute_result"
    },
    {
     "data": {
      "image/png": "[encoded data removed]",
      "text/plain": [
       "<Figure size 432x288 with 1 Axes>"
      ]
     },
     "metadata": {
      "needs_background": "light"
     },
     "output_type": "display_data"
    }
   ],
   "source": [
    "plt.plot(model_res['v0'])"
   ]
  },
  {
   "cell_type": "code",
   "execution_count": 13,
   "metadata": {
    "scrolled": true
   },
   "outputs": [
    {
     "data": {
      "text/plain": [
       "[<matplotlib.lines.Line2D at 0x7faf384b9640>]"
      ]
     },
     "execution_count": 13,
     "metadata": {},
     "output_type": "execute_result"
    },
    {
     "data": {
      "image/png": "[encoded data removed]",
      "text/plain": [
       "<Figure size 432x288 with 1 Axes>"
      ]
     },
     "metadata": {
      "needs_background": "light"
     },
     "output_type": "display_data"
    }
   ],
   "source": [
    "plt.plot(model_res['e_tilde'])"
   ]
  },
  {
   "cell_type": "markdown",
   "metadata": {},
   "source": [
    "## Simulation"
   ]
  },
  {
   "cell_type": "code",
   "execution_count": 14,
   "metadata": {},
   "outputs": [],
   "source": [
    "# Simulate capital process\n",
    "# Capital and z parameters\n",
    "α_k = -0.043\n",
    "β_k = 0.04\n",
    "σ_k = np.array([0.477*2, 0])/100.\n",
    "β_z = 0.014*4\n",
    "σ_z = np.array([0.011*2, 0.025*2])\n",
    "α = 0.115\n",
    "ioverk = 0.09\n",
    "κ = 6.667\n",
    "\n",
    "\n",
    "@njit(parallel=True)\n",
    "def simulate_capital(α_k, β_k, σ_k, β_z, σ_z, ioverk, κ, Ws, k_start, N=100_000, T=100, dt=1.):\n",
    "    var_z = dt*σ_z@σ_z/(1-(1-β_z*dt)**2)\n",
    "    std_z = np.sqrt(var_z)\n",
    "\n",
    "    time_periods = int(T/dt)\n",
    "    z_path = np.zeros((N, time_periods+1))\n",
    "    k_path = np.zeros((N, time_periods+1))\n",
    "    for i in range(N):\n",
    "        z0 = np.random.normal(0.,std_z)\n",
    "        k0 = k_start\n",
    "        z_path[i, 0] = z0\n",
    "        k_path[i, 0] = k0\n",
    "        for j in range(1, time_periods+1):\n",
    "            k1 = k0 + (α_k + β_k*z0 + ioverk - κ/2.*ioverk**2 - σ_k@σ_k/2.)*dt + σ_k@Ws[i, j]*np.sqrt(dt)\n",
    "            z1 = (1.-β_z*dt)*z0 + σ_z@Ws[i, j]*np.sqrt(dt)\n",
    "            k_path[i, j] = k1\n",
    "            z_path[i, j] = z1\n",
    "            k0 = k1\n",
    "            z0 = z1\n",
    "    return k_path\n",
    "\n",
    "T = 100\n",
    "N = 1_000_000\n",
    "dt = 1.\n",
    "k_start = np.log(80/α)\n",
    "η = .032\n",
    "Ws = np.random.multivariate_normal(np.zeros(2), np.eye(2), (N, int(T/dt)))\n",
    "logk_path = simulate_capital(α_k, β_k, σ_k, β_z, σ_z, ioverk, κ, Ws, k_start, N=N, T=T, dt=dt)\n",
    "Kt = np.percentile(np.exp(logk_path), 50, axis=0)"
   ]
  },
  {
   "cell_type": "code",
   "execution_count": 15,
   "metadata": {},
   "outputs": [],
   "source": [
    "e_grid_no_jump = model_res['e_tilde']\n",
    "e_grid_jump_list = []\n",
    "for i in range(n_model):\n",
    "    temp = np.array([model['e_tilde'] for model in model_list[i]])\n",
    "    e_grid_jump_list.append(temp)\n",
    "e_grid_jump = np.array(e_grid_jump_list)"
   ]
  },
  {
   "cell_type": "code",
   "execution_count": null,
   "metadata": {},
   "outputs": [],
   "source": [
    "def simulation_prob(y_grid_short, y_grid_long, y_grid_tilde, e_grid_no_jump, e_grid_jump,\n",
    "                    θ, y0, y_bar_lower, r0, r1, τ, damage_prob, n_model, T=80):\n",
    "    \"\"\"\n",
    "    y_grid : (N,) ndarray\n",
    "    e_grid_no_jump : (N,) ndarray\n",
    "    e_grid_jump : (n_model, M, N) ndarray\n",
    "        e.g. e_grid[0, i], e_grid[1, i] and e_grid[2, i] are the emissions conditional\n",
    "            on low, high and extreme damages when jump occurrs at y_grid_tilde[i].\n",
    "    \"\"\"    \n",
    "    y_states_t = []\n",
    "    e_states_t = []\n",
    "    prob_t = []\n",
    "    count = 0\n",
    "    for i in range(T+1):\n",
    "        if y0 <= y_bar_lower:\n",
    "            e_states = np.array([np.interp(y0, y_grid_long, e_grid_no_jump)])\n",
    "            y_states = np.array([y0])\n",
    "            prob = np.array([1.])\n",
    "            y0 = y0 + e_states[0]*θ\n",
    "        else:\n",
    "            count += 1\n",
    "            intensity = - r0 * (np.exp(- r1 / 2. * (y0-y_bar_lower)**2) - 1.)\n",
    "            jump_prob = τ * intensity\n",
    "            e_states = np.zeros(n_model*count+1)\n",
    "            e_states[0] = np.interp(y0, y_grid_long, e_grid_no_jump)\n",
    "            \n",
    "            \n",
    "            y0 = y0 + e_states[0]*θ\n",
    "            e_states = np.array([])\n",
    "            \n",
    "        y_states_t.append(y_states)\n",
    "        e_states_t.append(e_states)\n",
    "        prob_t.append(prob)\n",
    "        \n",
    "        y0 = y0 + et[i]*θ\n",
    "            \n",
    "    "
   ]
  },
  {
   "cell_type": "code",
   "execution_count": null,
   "metadata": {},
   "outputs": [],
   "source": [
    "@njit\n",
    "def simulation_one_path(y_grid_short, y_grid_long, y_grid_tilde, e_grid_no_jump, e_grid_jump,\n",
    "                        θ, y0, y_bar_lower, r0, r1, τ, damage_prob, T=80):\n",
    "    \"\"\"\n",
    "    y_grid : (N,) ndarray\n",
    "    e_grid_no_jump : (N,) ndarray\n",
    "    e_grid_jump : (3, M, N) ndarray\n",
    "        e_grid[0, i], e_grid[1, i] and e_grid[2, i] are the emissions conditional\n",
    "            on low, high and extreme damages when jump occurrs at y_grid_tilde[i].\n",
    "    \"\"\"\n",
    "    yt = np.zeros(T+1)\n",
    "    et = np.zeros(T+1)\n",
    "    damage_states_t = np.zeros(T+1)\n",
    "    jump_occurred = False\n",
    "    e_grid_realized = e_grid_no_jump\n",
    "    for i in range(T+1):\n",
    "        if y0 > y_bar_lower and jump_occurred == False:\n",
    "            intensity = - r0 * (np.exp(- r1 / 2. * (y0-y_bar_lower)**2) - 1.)\n",
    "            jump_prob = τ * intensity\n",
    "            realized_jump_state = np.random.multinomial(n=1, pvals=np.array([jump_prob, 1-jump_prob]))\n",
    "            if np.array_equal(realized_jump_state, np.array([1, 0])):\n",
    "                jump_occurred = True\n",
    "                realized_damage_state = np.random.multinomial(n=1, pvals=damage_prob)\n",
    "                loc = find_nearest_value(y_grid_tilde, y0)\n",
    "                if np.array_equal(realized_damage_state, np.array([1, 0, 0])):\n",
    "                    e_grid_realized = e_grid_jump[0, loc]\n",
    "                    damage_states_t[i:] = 1\n",
    "                elif np.array_equal(realized_damage_state, np.array([0, 1, 0])):\n",
    "                    e_grid_realized = e_grid_jump[1, loc]\n",
    "                    damage_states_t[i:] = 2\n",
    "                else:\n",
    "                    e_grid_realized = e_grid_jump[2, loc]\n",
    "                    damage_states_t[i:] = 3\n",
    "        if jump_occurred:\n",
    "            et[i] = np.interp(y0, y_grid_long, e_grid_realized)\n",
    "        else:\n",
    "            et[i] = np.interp(y0, y_grid_short, e_grid_realized)\n",
    "        yt[i] = y0\n",
    "        y0 = y0 + et[i]*θ\n",
    "    return et, yt, damage_states_t\n",
    "\n",
    "@njit\n",
    "def simulation_n_path(y_grid_short, y_grid_long, y_grid_tilde, e_grid_no_jump, e_grid_jump,\n",
    "                      θ, y0, y_bar_lower, r0, r1, τ, damage_prob, T=80, N=10_000):\n",
    "    yt_n_path = np.zeros((N, T+1))\n",
    "    et_n_path = np.zeros((N, T+1))\n",
    "    damage_states_t_n_path = np.zeros((N, T+1))\n",
    "    for n in range(N):\n",
    "        et, yt, damage_states_t = simulation_one_path(y_grid_short, y_grid_long, y_grid_tilde, e_grid_no_jump, e_grid_jump,\n",
    "                                     θ, y0, y_bar_lower, r0, r1, τ, damage_prob, T=T)\n",
    "        yt_n_path[n] = yt\n",
    "        et_n_path[n] = et\n",
    "        damage_states_t_n_path[n] = damage_states_t\n",
    "    return et_n_path, yt_n_path, damage_states_t_n_path"
   ]
  },
  {
   "cell_type": "code",
   "execution_count": null,
   "metadata": {},
   "outputs": [],
   "source": [
    "et, yt, damage_states_t = simulation_n_path(y_grid_short, y_grid_long, y_grid_tilde, e_grid_no_jump, e_grid_jump,\n",
    "                           np.mean(model_res['θ']), y0=1.1, y_bar_lower=y_bar_lower, r0=r0,\n",
    "                           r1=r1, τ=τ, damage_prob=np.array([1./3, 1./3, 1./3]), T=120, N=1_000_000)"
   ]
  },
  {
   "cell_type": "code",
   "execution_count": null,
   "metadata": {},
   "outputs": [],
   "source": [
    "et_10 = np.percentile(et, 10, axis=0)\n",
    "et_50 = np.percentile(et, 50, axis=0)\n",
    "et_90 = np.percentile(et, 90, axis=0)\n",
    "\n",
    "et_01 = np.percentile(et, 1, axis=0)\n",
    "et_99 = np.percentile(et, 99, axis=0)"
   ]
  },
  {
   "cell_type": "code",
   "execution_count": null,
   "metadata": {},
   "outputs": [],
   "source": [
    "np.unique(et[:,120]).shape"
   ]
  },
  {
   "cell_type": "code",
   "execution_count": null,
   "metadata": {},
   "outputs": [],
   "source": [
    "plt.plot(et_10, label='.10 percentile', linewidth=2.)\n",
    "plt.plot(et_50, label='.50 percentile', linewidth=2.)\n",
    "plt.plot(et_90, label='.90 percentile', linewidth=2.)\n",
    "plt.legend(frameon=False)\n",
    "plt.title('Emission')\n",
    "plt.xlabel('Years')"
   ]
  },
  {
   "cell_type": "markdown",
   "metadata": {},
   "source": [
    "## No jump plots"
   ]
  },
  {
   "cell_type": "code",
   "execution_count": null,
   "metadata": {},
   "outputs": [],
   "source": [
    "T = 111\n",
    "et_no_jump, yt_no_jump, _, _ = simulation(model_res['y_grid'], model_res['e_tilde'], model_res['h'], model_res['g'],\n",
    "                            θ=np.mean(model_res['θ']), y_start=1.1, T=T)"
   ]
  },
  {
   "cell_type": "code",
   "execution_count": null,
   "metadata": {
    "scrolled": true
   },
   "outputs": [],
   "source": [
    "# Compute continuation probability\n",
    "dt = 1./1\n",
    "con_prob = np.ones(int(T/dt)+1)\n",
    "time_periods = np.arange(0, T+dt, dt)\n",
    "yt_no_jump_long = np.interp(time_periods, np.array(range(T+1)), yt_no_jump)\n",
    "con_prob_sum = 0\n",
    "for t in range(time_periods.shape[0]):\n",
    "    y = yt_no_jump_long[t]\n",
    "    if y >= y_bar_lower:\n",
    "        intensity = - r0 * (np.exp(- r1 / 2. * (y-y_bar_lower)**2) - 1.)\n",
    "        con_prob_sum += intensity * dt\n",
    "        con_prob[t] = np.exp(-con_prob_sum)\n",
    "\n",
    "# Plot continuation probability\n",
    "plt.plot(time_periods, con_prob)"
   ]
  },
  {
   "cell_type": "code",
   "execution_count": null,
   "metadata": {},
   "outputs": [],
   "source": [
    "# Compute no jump probability\n",
    "no_jump_prob = np.ones_like(yt_no_jump)\n",
    "for t in range(no_jump_prob.shape[0]):\n",
    "    y = yt_no_jump[t]\n",
    "    if y > y_bar_lower:\n",
    "        intensity = - r0 * (np.exp(- r1 / 2. * (y-y_bar_lower)**2) - 1.)\n",
    "        no_jump_prob[t] = (1 - intensity*τ) * no_jump_prob[t-1]"
   ]
  },
  {
   "cell_type": "code",
   "execution_count": null,
   "metadata": {},
   "outputs": [],
   "source": [
    "# np.save('yt_03.npy', yt_no_jump)\n",
    "# np.save('prob_03.npy', no_jump_prob)"
   ]
  },
  {
   "cell_type": "code",
   "execution_count": null,
   "metadata": {},
   "outputs": [],
   "source": [
    "fig, (ax1, ax2) = plt.subplots(1, 2, figsize=(12,4))\n",
    "ax1.plot(yt_no_jump, linewidth=2.)\n",
    "ax1.plot(np.ones_like(yt_no_jump)*1.5, linestyle='dashed', color='black', linewidth=2)\n",
    "ax1.set_xlabel('Years', fontsize=13)\n",
    "ax1.set_title(r'Temperature anomaly')\n",
    "ax1.set_ylim(1, 2)\n",
    "\n",
    "ax2.plot(no_jump_prob, linewidth=2.)\n",
    "ax2.set_xlabel('Years', fontsize=13)\n",
    "ax2.set_title(r'No jump probability')\n",
    "ax2.set_ylim(0, 1.05)\n",
    "\n",
    "fig.suptitle(r'$r_0=0.25$', fontsize=13)\n",
    "fig.savefig('fig.pdf')"
   ]
  },
  {
   "cell_type": "code",
   "execution_count": null,
   "metadata": {},
   "outputs": [],
   "source": [
    "def compute_prob(array):\n",
    "    array_unique = np.unique(array)\n",
    "    prob = np.zeros_like(array_unique)\n",
    "    for i, point in enumerate(array_unique):\n",
    "        prob[i] = np.sum(array==point)/len(array)\n",
    "    return array_unique, prob"
   ]
  },
  {
   "cell_type": "markdown",
   "metadata": {},
   "source": [
    "## T = 60"
   ]
  },
  {
   "cell_type": "code",
   "execution_count": null,
   "metadata": {},
   "outputs": [],
   "source": [
    "(1-no_jump_prob[80])/3"
   ]
  },
  {
   "cell_type": "code",
   "execution_count": null,
   "metadata": {},
   "outputs": [],
   "source": [
    "# Compute probabilities\n",
    "T_plot = 60\n",
    "et_states, et_prob = compute_prob(et[:, T_plot])\n",
    "Kt_fixed = Kt[T_plot]\n",
    "\n",
    "et_no_jump = et[:, T_plot][damage_states_t[:, T_plot]==0]\n",
    "et_low = et[:, T_plot][damage_states_t[:, T_plot]==1]\n",
    "et_high = et[:, T_plot][damage_states_t[:, T_plot]==2]\n",
    "et_extreme = et[:, T_plot][damage_states_t[:, T_plot]==3]\n",
    "\n",
    "et_no_jump_states, et_no_jump_prob = compute_prob(et_no_jump)\n",
    "et_low_states, et_low_prob = compute_prob(et_low)\n",
    "et_high_states, et_high_prob = compute_prob(et_high)\n",
    "et_extreme_states, et_extreme_prob = compute_prob(et_extreme)\n",
    "\n",
    "yt_no_jump = yt[:, T_plot][damage_states_t[:, T_plot]==0]\n",
    "yt_low = yt[:, T_plot][damage_states_t[:, T_plot]==1]\n",
    "yt_high = yt[:, T_plot][damage_states_t[:, T_plot]==2]\n",
    "yt_extreme = yt[:, T_plot][damage_states_t[:, T_plot]==3]\n",
    "\n",
    "yt_no_jump_states, yt_no_jump_prob = compute_prob(yt_no_jump)\n",
    "yt_low_states, yt_low_prob = compute_prob(yt_low)\n",
    "yt_high_states, yt_high_prob = compute_prob(yt_high)\n",
    "yt_extreme_states, yt_extreme_prob = compute_prob(yt_extreme)"
   ]
  },
  {
   "cell_type": "code",
   "execution_count": null,
   "metadata": {},
   "outputs": [],
   "source": [
    "et_no_jump_states"
   ]
  },
  {
   "cell_type": "code",
   "execution_count": null,
   "metadata": {},
   "outputs": [],
   "source": [
    "et_no_jump_states.shape, et_low_states.shape, et_high_states.shape, et_extreme_states.shape"
   ]
  },
  {
   "cell_type": "code",
   "execution_count": null,
   "metadata": {},
   "outputs": [],
   "source": [
    "fig, (ax1, ax2, ax3) = plt.subplots(1, 3, figsize=(18, 4))\n",
    "ax1.hist(et_low_states, weights=et_low_prob, bins=20, density=False)\n",
    "ax1.set_ylabel('Probability', fontsize=13)\n",
    "\n",
    "ax2.hist(et_high_states, weights=et_high_prob, bins=20, density=False)\n",
    "ax2.set_ylabel('Probability', fontsize=13)\n",
    "\n",
    "ax3.hist(et_extreme_states, weights=et_extreme_prob, bins=20, density=False)\n",
    "ax3.set_ylabel('Probability', fontsize=13)\n",
    "\n",
    "fig.suptitle(r'Figure 1.1: Histograms of emission conditional on low (left), high (middle) and extreme (right) damage; Year '+str(T_plot))\n",
    "fig.savefig('fig_11.pdf')\n",
    "\n",
    "\n",
    "fig, (ax1, ax2, ax3) = plt.subplots(1, 3, figsize=(18,4))\n",
    "ax1.hist(η*(0.025)*Kt_fixed/((1.-η)*et_low_states)*1000, weights=et_low_prob, bins=20, density=False)\n",
    "ax1.set_ylabel('Probability', fontsize=13)\n",
    "\n",
    "ax2.hist(η*(0.025)*Kt_fixed/((1.-η)*et_high_states)*1000, weights=et_high_prob, bins=20, density=False)\n",
    "ax2.set_ylabel('Probability', fontsize=13)\n",
    "\n",
    "ax3.hist(η*(0.025)*Kt_fixed/((1.-η)*et_extreme_states)*1000, weights=et_extreme_prob, bins=20, density=False)\n",
    "ax3.set_ylabel('Probability', fontsize=13)\n",
    "\n",
    "fig.suptitle(r'Figure 1.2: Histograms of SCC conditional on low (left), high (middle) and extreme (right) damage; Year '+str(T_plot))\n",
    "fig.savefig('fig_12.pdf')\n",
    "\n",
    "fig, (ax1, ax2, ax3) = plt.subplots(1, 3, figsize=(18, 4))\n",
    "ax1.hist(yt_low_states, weights=et_low_prob, bins=20, density=False)\n",
    "ax1.set_ylabel('Probability', fontsize=13)\n",
    "\n",
    "ax2.hist(yt_high_states, weights=et_high_prob, bins=20, density=False)\n",
    "ax2.set_ylabel('Probability', fontsize=13)\n",
    "\n",
    "ax3.hist(yt_extreme_states, weights=et_extreme_prob, bins=20, density=False)\n",
    "ax3.set_ylabel('Probability', fontsize=13)\n",
    "\n",
    "fig.suptitle(r'Figure 1.3: Histograms of temperature anomaly conditional on low (left), high (middle) and extreme (right) damage; Year '+str(T_plot))\n",
    "fig.savefig('fig_13.pdf')"
   ]
  },
  {
   "cell_type": "code",
   "execution_count": null,
   "metadata": {},
   "outputs": [],
   "source": [
    "# Compute probabilities\n",
    "T_plot = 70\n",
    "et_states, et_prob = compute_prob(et[:, T_plot])\n",
    "Kt_fixed = Kt[T_plot]\n",
    "\n",
    "et_no_jump = et[:, T_plot][damage_states_t[:, T_plot]==0]\n",
    "et_low = et[:, T_plot][damage_states_t[:, T_plot]==1]\n",
    "et_high = et[:, T_plot][damage_states_t[:, T_plot]==2]\n",
    "et_extreme = et[:, T_plot][damage_states_t[:, T_plot]==3]\n",
    "\n",
    "et_no_jump_states, et_no_jump_prob = compute_prob(et_no_jump)\n",
    "et_low_states, et_low_prob = compute_prob(et_low)\n",
    "et_high_states, et_high_prob = compute_prob(et_high)\n",
    "et_extreme_states, et_extreme_prob = compute_prob(et_extreme)\n",
    "\n",
    "yt_no_jump = yt[:, T_plot][damage_states_t[:, T_plot]==0]\n",
    "yt_low = yt[:, T_plot][damage_states_t[:, T_plot]==1]\n",
    "yt_high = yt[:, T_plot][damage_states_t[:, T_plot]==2]\n",
    "yt_extreme = yt[:, T_plot][damage_states_t[:, T_plot]==3]\n",
    "\n",
    "yt_no_jump_states, yt_no_jump_prob = compute_prob(yt_no_jump)\n",
    "yt_low_states, yt_low_prob = compute_prob(yt_low)\n",
    "yt_high_states, yt_high_prob = compute_prob(yt_high)\n",
    "yt_extreme_states, yt_extreme_prob = compute_prob(yt_extreme)"
   ]
  },
  {
   "cell_type": "code",
   "execution_count": null,
   "metadata": {},
   "outputs": [],
   "source": [
    "et_no_jump_states.shape, et_low_states.shape, et_high_states.shape, et_extreme_states.shape"
   ]
  },
  {
   "cell_type": "code",
   "execution_count": null,
   "metadata": {},
   "outputs": [],
   "source": [
    "fig, (ax1, ax2, ax3) = plt.subplots(1, 3, figsize=(18, 4))\n",
    "ax1.hist(et_low_states, weights=et_low_prob, bins=20, density=False)\n",
    "ax1.set_ylabel('Probability', fontsize=13)\n",
    "\n",
    "ax2.hist(et_high_states, weights=et_high_prob, bins=20, density=False)\n",
    "ax2.set_ylabel('Probability', fontsize=13)\n",
    "\n",
    "ax3.hist(et_extreme_states, weights=et_extreme_prob, bins=20, density=False)\n",
    "ax3.set_ylabel('Probability', fontsize=13)\n",
    "\n",
    "fig.suptitle(r'Figure 2.1: Histograms of emission conditional on low (left), high (middle) and extreme (right) damage; Year '+str(T_plot))\n",
    "fig.savefig('fig_21.pdf')\n",
    "\n",
    "\n",
    "fig, (ax1, ax2, ax3) = plt.subplots(1, 3, figsize=(18,4))\n",
    "ax1.hist(η*(0.025)*Kt_fixed/((1.-η)*et_low_states)*1000, weights=et_low_prob, bins=20, density=False)\n",
    "ax1.set_ylabel('Probability', fontsize=13)\n",
    "\n",
    "ax2.hist(η*(0.025)*Kt_fixed/((1.-η)*et_high_states)*1000, weights=et_high_prob, bins=20, density=False)\n",
    "ax2.set_ylabel('Probability', fontsize=13)\n",
    "\n",
    "ax3.hist(η*(0.025)*Kt_fixed/((1.-η)*et_extreme_states)*1000, weights=et_extreme_prob, bins=20, density=False)\n",
    "ax3.set_ylabel('Probability', fontsize=13)\n",
    "\n",
    "fig.suptitle(r'Figure 2.2: Histograms of SCC conditional on low (left), high (middle) and extreme (right) damage; Year '+str(T_plot))\n",
    "fig.savefig('fig_22.pdf')\n",
    "\n",
    "fig, (ax1, ax2, ax3) = plt.subplots(1, 3, figsize=(18, 4))\n",
    "ax1.hist(yt_low_states, weights=et_low_prob, bins=20, density=False)\n",
    "ax1.set_ylabel('Probability', fontsize=13)\n",
    "\n",
    "ax2.hist(yt_high_states, weights=et_high_prob, bins=20, density=False)\n",
    "ax2.set_ylabel('Probability', fontsize=13)\n",
    "\n",
    "ax3.hist(yt_extreme_states, weights=et_extreme_prob, bins=20, density=False)\n",
    "ax3.set_ylabel('Probability', fontsize=13)\n",
    "\n",
    "fig.suptitle(r'Figure 2.3: Histograms of temperature anomaly conditional on low (left), high (middle) and extreme (right) damage; Year '+str(T_plot))\n",
    "fig.savefig('fig_23.pdf')"
   ]
  },
  {
   "cell_type": "code",
   "execution_count": null,
   "metadata": {},
   "outputs": [],
   "source": [
    "# Compute probabilities\n",
    "T_plot = 80\n",
    "et_states, et_prob = compute_prob(et[:, T_plot])\n",
    "Kt_fixed = Kt[T_plot]\n",
    "\n",
    "et_no_jump = et[:, T_plot][damage_states_t[:, T_plot]==0]\n",
    "et_low = et[:, T_plot][damage_states_t[:, T_plot]==1]\n",
    "et_high = et[:, T_plot][damage_states_t[:, T_plot]==2]\n",
    "et_extreme = et[:, T_plot][damage_states_t[:, T_plot]==3]\n",
    "\n",
    "et_no_jump_states, et_no_jump_prob = compute_prob(et_no_jump)\n",
    "et_low_states, et_low_prob = compute_prob(et_low)\n",
    "et_high_states, et_high_prob = compute_prob(et_high)\n",
    "et_extreme_states, et_extreme_prob = compute_prob(et_extreme)\n",
    "\n",
    "yt_no_jump = yt[:, T_plot][damage_states_t[:, T_plot]==0]\n",
    "yt_low = yt[:, T_plot][damage_states_t[:, T_plot]==1]\n",
    "yt_high = yt[:, T_plot][damage_states_t[:, T_plot]==2]\n",
    "yt_extreme = yt[:, T_plot][damage_states_t[:, T_plot]==3]\n",
    "\n",
    "yt_no_jump_states, yt_no_jump_prob = compute_prob(yt_no_jump)\n",
    "yt_low_states, yt_low_prob = compute_prob(yt_low)\n",
    "yt_high_states, yt_high_prob = compute_prob(yt_high)\n",
    "yt_extreme_states, yt_extreme_prob = compute_prob(yt_extreme)"
   ]
  },
  {
   "cell_type": "code",
   "execution_count": null,
   "metadata": {},
   "outputs": [],
   "source": [
    "et_no_jump_states.shape, et_low_states.shape, et_high_states.shape, et_extreme_states.shape"
   ]
  },
  {
   "cell_type": "code",
   "execution_count": null,
   "metadata": {},
   "outputs": [],
   "source": [
    "fig, (ax1, ax2, ax3) = plt.subplots(1, 3, figsize=(18, 4))\n",
    "ax1.hist(et_low_states, weights=et_low_prob, bins=20, density=False)\n",
    "ax1.set_ylabel('Probability', fontsize=13)\n",
    "\n",
    "ax2.hist(et_high_states, weights=et_high_prob, bins=20, density=False)\n",
    "ax2.set_ylabel('Probability', fontsize=13)\n",
    "\n",
    "ax3.hist(et_extreme_states, weights=et_extreme_prob, bins=20, density=False)\n",
    "ax3.set_ylabel('Probability', fontsize=13)\n",
    "\n",
    "fig.suptitle(r'Figure 3.1: Histograms of emission conditional on low (left), high (middle) and extreme (right) damage; Year '+str(T_plot))\n",
    "fig.savefig('fig_31.pdf')\n",
    "\n",
    "\n",
    "fig, (ax1, ax2, ax3) = plt.subplots(1, 3, figsize=(18,4))\n",
    "ax1.hist(η*(0.025)*Kt_fixed/((1.-η)*et_low_states)*1000, weights=et_low_prob, bins=20, density=False)\n",
    "ax1.set_ylabel('Probability', fontsize=13)\n",
    "\n",
    "ax2.hist(η*(0.025)*Kt_fixed/((1.-η)*et_high_states)*1000, weights=et_high_prob, bins=20, density=False)\n",
    "ax2.set_ylabel('Probability', fontsize=13)\n",
    "\n",
    "ax3.hist(η*(0.025)*Kt_fixed/((1.-η)*et_extreme_states)*1000, weights=et_extreme_prob, bins=20, density=False)\n",
    "ax3.set_ylabel('Probability', fontsize=13)\n",
    "\n",
    "fig.suptitle(r'Figure 3.2: Histograms of SCC conditional on low (left), high (middle) and extreme (right) damage; Year '+str(T_plot))\n",
    "fig.savefig('fig_32.pdf')\n",
    "\n",
    "fig, (ax1, ax2, ax3) = plt.subplots(1, 3, figsize=(18, 4))\n",
    "ax1.hist(yt_low_states, weights=et_low_prob, bins=20, density=False)\n",
    "ax1.set_ylabel('Probability', fontsize=13)\n",
    "\n",
    "ax2.hist(yt_high_states, weights=et_high_prob, bins=20, density=False)\n",
    "ax2.set_ylabel('Probability', fontsize=13)\n",
    "\n",
    "ax3.hist(yt_extreme_states, weights=et_extreme_prob, bins=20, density=False)\n",
    "ax3.set_ylabel('Probability', fontsize=13)\n",
    "\n",
    "fig.suptitle(r'Figure 3.3: Histograms of temperature anomaly conditional on low (left), high (middle) and extreme (right) damage; Year '+str(T_plot))\n",
    "fig.savefig('fig_33.pdf')"
   ]
  },
  {
   "cell_type": "code",
   "execution_count": null,
   "metadata": {},
   "outputs": [],
   "source": []
  },
  {
   "cell_type": "code",
   "execution_count": null,
   "metadata": {},
   "outputs": [],
   "source": []
  },
  {
   "cell_type": "code",
   "execution_count": null,
   "metadata": {},
   "outputs": [],
   "source": []
  },
  {
   "cell_type": "code",
   "execution_count": null,
   "metadata": {},
   "outputs": [],
   "source": []
  },
  {
   "cell_type": "code",
   "execution_count": null,
   "metadata": {
    "scrolled": true
   },
   "outputs": [],
   "source": [
    "plt.figure()\n",
    "plt.hist(et_states, weights=et_prob, bins=100, density=False)\n",
    "plt.title('Figure 1: Emission histogram ('+str(T_after)+r' years after $y$ reaching 1.5)')\n",
    "plt.ylabel('Probability')\n",
    "# plt.savefig('fig_1.pdf')\n",
    "\n",
    "plt.figure()\n",
    "plt.hist(η*(0.025)*Kt_fixed/((1.-η)*et_states)*1000, weights=et_prob, bins=100, density=False)\n",
    "plt.title(r'Figure 2: SCC histogram ('+str(T_after)+r' years after $y$ reaching 1.5)')\n",
    "plt.ylabel('Probability')\n",
    "# plt.savefig('fig_2.pdf')"
   ]
  },
  {
   "cell_type": "code",
   "execution_count": null,
   "metadata": {},
   "outputs": [],
   "source": [
    "# Compute probabilities\n",
    "T_after = 20\n",
    "et_states, et_prob = compute_prob(et[:, 50+T_after])\n",
    "Kt_fixed = Kt[50+T_after]"
   ]
  },
  {
   "cell_type": "code",
   "execution_count": null,
   "metadata": {},
   "outputs": [],
   "source": [
    "plt.figure()\n",
    "plt.hist(et_states, weights=et_prob, bins=100, density=False)\n",
    "plt.title('Figure 3: Emission histogram ('+str(T_after)+r' years after $y$ reaching 1.5)')\n",
    "plt.ylabel('Probability')\n",
    "plt.savefig('fig_3.pdf')\n",
    "\n",
    "plt.figure()\n",
    "plt.hist(η*(0.025)*Kt_fixed/((1.-η)*et_states)*1000, weights=et_prob, bins=100, density=False)\n",
    "plt.title(r'Figure 4: SCC histogram ('+str(T_after)+r' years after $y$ reaching 1.5)')\n",
    "plt.ylabel('Probability')\n",
    "plt.savefig('fig_4.pdf')"
   ]
  },
  {
   "cell_type": "code",
   "execution_count": null,
   "metadata": {},
   "outputs": [],
   "source": [
    "# Compute probabilities\n",
    "T_after = 20\n",
    "et_states, et_prob = compute_prob(et[:, 50+T_after])\n",
    "Kt_fixed = Kt[50+T_after]"
   ]
  },
  {
   "cell_type": "code",
   "execution_count": null,
   "metadata": {
    "scrolled": false
   },
   "outputs": [],
   "source": [
    "import pandas as pd\n",
    "df = pd.DataFrame({'emission state': et_states,\n",
    "              'SCC state': η*(0.025)*Kt_fixed/((1.-η)*et_states)*1000, \n",
    "              'probability': et_prob})\n",
    "df[-30:]"
   ]
  },
  {
   "cell_type": "code",
   "execution_count": null,
   "metadata": {
    "scrolled": true
   },
   "outputs": [],
   "source": [
    "yt_no_jump[55], yt_no_jump[60], yt_no_jump[65], yt_no_jump[70]"
   ]
  },
  {
   "cell_type": "code",
   "execution_count": null,
   "metadata": {},
   "outputs": [],
   "source": [
    "yt_no_jump[80]"
   ]
  },
  {
   "cell_type": "markdown",
   "metadata": {},
   "source": [
    "## Old plots"
   ]
  },
  {
   "cell_type": "code",
   "execution_count": null,
   "metadata": {
    "scrolled": true
   },
   "outputs": [],
   "source": [
    "plt.plot(y_grid_short[40:], model_res['πd'][0][40:], label='low damage')\n",
    "plt.plot(y_grid_short[40:], model_res['πd'][1][40:], label='high damage')\n",
    "plt.plot(y_grid_short[40:], model_res['πd'][2][40:], label='extreme damage')\n",
    "plt.legend(frameon=False)\n",
    "plt.ylim(0, 1)"
   ]
  },
  {
   "cell_type": "code",
   "execution_count": null,
   "metadata": {},
   "outputs": [],
   "source": [
    "plt.plot(y_grid_short, model_res['e_tilde'])\n",
    "plt.title('Figure 1: Emission')\n",
    "plt.xlabel('y')\n",
    "plt.savefig('fig_1.pdf')"
   ]
  },
  {
   "cell_type": "code",
   "execution_count": null,
   "metadata": {},
   "outputs": [],
   "source": [
    "plt.plot(y_grid_short, model_res['v0_dy'])\n",
    "plt.title(r'Figure 2: $\\frac{d\\phi}{dy}(y)$')\n",
    "plt.xlabel('y')\n",
    "plt.savefig('fig_2.pdf')"
   ]
  },
  {
   "cell_type": "code",
   "execution_count": null,
   "metadata": {},
   "outputs": [],
   "source": [
    "plt.plot(y_grid_short, model_res['intensity'])\n",
    "plt.title('Figure 3: Intensity')\n",
    "plt.xlabel('y')\n",
    "plt.savefig('fig_3.pdf')"
   ]
  },
  {
   "cell_type": "code",
   "execution_count": null,
   "metadata": {},
   "outputs": [],
   "source": [
    "plt.plot(y_grid_short, model_res['v0'])\n",
    "plt.title(r'Figure 4: Value function $\\phi(y)$')\n",
    "plt.xlabel('y')\n",
    "plt.savefig('fig_4.pdf')"
   ]
  },
  {
   "cell_type": "code",
   "execution_count": null,
   "metadata": {},
   "outputs": [],
   "source": [
    "et, yt, ht, gt = simulation(model_res['y_grid'], model_res['e_tilde'], model_res['h'], model_res['g'],\n",
    "                            θ=np.mean(model_res['θ']), y_start=1.1, T=89)"
   ]
  },
  {
   "cell_type": "code",
   "execution_count": null,
   "metadata": {},
   "outputs": [],
   "source": [
    "plt.plot(et)"
   ]
  },
  {
   "cell_type": "code",
   "execution_count": null,
   "metadata": {},
   "outputs": [],
   "source": [
    "# Compute model high/extreme at 1.6, 1.8, 2.0\n",
    "model_args_high_new = []\n",
    "model_args_extreme_new = []\n",
    "\n",
    "for y_jump in [1.6, 1.8, 2.0]:\n",
    "    model_paras_high = (η, δ, θ, πc_o, σ_y, ξ_w, ξ_a, γ_1, γ_2, γ_2p[1], y_jump)\n",
    "    model_paras_extreme = (η, δ, θ, πc_o, σ_y, ξ_w, ξ_a, γ_1, γ_2, γ_2p[2], y_jump)\n",
    "    model_args_high_new.append((np.arange(0., y_bar_upper*2, .01), model_paras_high, None, ϵ, 1e-8, 5000, False))\n",
    "    model_args_extreme_new.append((np.arange(0., y_bar_upper*2, .01), model_paras_extreme, None, ϵ, 1e-8, 5000, False))\n",
    "\n",
    "print('----- Solving high damage models -----')\n",
    "model_high_list_new = ode_y_parallel(model_args_high_new)\n",
    "print('----- Solving extreme damage models -----')\n",
    "model_extreme_list_new = ode_y_parallel(model_args_extreme_new)"
   ]
  },
  {
   "cell_type": "code",
   "execution_count": null,
   "metadata": {},
   "outputs": [],
   "source": [
    "et_low, _, _, _ = simulation(model_low['y_grid'], model_low['e_tilde'], model_low['h'],\n",
    "                                 np.array([np.zeros_like(model_low['h']), np.zeros_like(model_low['h'])]),\n",
    "                                 θ=np.mean(model_res['θ']), y_start=1.1, T=89)"
   ]
  },
  {
   "cell_type": "code",
   "execution_count": null,
   "metadata": {},
   "outputs": [],
   "source": [
    "et_high_16, _, _, _ = simulation(model_high_list_new[0]['y_grid'], model_high_list_new[0]['e_tilde'], model_high_list_new[0]['h'],\n",
    "                                 np.array([np.zeros_like(model_high_list_new[0]['h']), np.zeros_like(model_high_list_new[0]['h'])]),\n",
    "                                 θ=np.mean(model_res['θ']), y_start=1.1, T=89)"
   ]
  },
  {
   "cell_type": "code",
   "execution_count": null,
   "metadata": {},
   "outputs": [],
   "source": [
    "et_high_18, _, _, _ = simulation(model_high_list_new[1]['y_grid'], model_high_list_new[1]['e_tilde'], model_high_list_new[1]['h'],\n",
    "                                 np.array([np.zeros_like(model_high_list_new[1]['h']), np.zeros_like(model_high_list_new[1]['h'])]),\n",
    "                                 θ=np.mean(model_res['θ']), y_start=1.1, T=89)"
   ]
  },
  {
   "cell_type": "code",
   "execution_count": null,
   "metadata": {},
   "outputs": [],
   "source": [
    "et_high_20, _, _, _ = simulation(model_high_list_new[2]['y_grid'], model_high_list_new[2]['e_tilde'], model_high_list_new[2]['h'],\n",
    "                                 np.array([np.zeros_like(model_high_list_new[2]['h']), np.zeros_like(model_high_list_new[2]['h'])]),\n",
    "                                 θ=np.mean(model_res['θ']), y_start=1.1, T=89)"
   ]
  },
  {
   "cell_type": "code",
   "execution_count": null,
   "metadata": {},
   "outputs": [],
   "source": [
    "et_extreme_16, _, _, _ = simulation(model_extreme_list_new[0]['y_grid'], model_extreme_list_new[0]['e_tilde'], model_extreme_list_new[0]['h'],\n",
    "                                 np.array([np.zeros_like(model_extreme_list_new[0]['h']), np.zeros_like(model_extreme_list_new[0]['h'])]),\n",
    "                                 θ=np.mean(model_res['θ']), y_start=1.1, T=89)"
   ]
  },
  {
   "cell_type": "code",
   "execution_count": null,
   "metadata": {},
   "outputs": [],
   "source": [
    "et_extreme_18, _, _, _ = simulation(model_extreme_list_new[1]['y_grid'], model_extreme_list_new[1]['e_tilde'], model_extreme_list_new[1]['h'],\n",
    "                                 np.array([np.zeros_like(model_extreme_list_new[1]['h']), np.zeros_like(model_extreme_list_new[1]['h'])]),\n",
    "                                 θ=np.mean(model_res['θ']), y_start=1.1, T=89)"
   ]
  },
  {
   "cell_type": "code",
   "execution_count": null,
   "metadata": {},
   "outputs": [],
   "source": [
    "et_extreme_20, _, _, _ = simulation(model_extreme_list_new[2]['y_grid'], model_extreme_list_new[2]['e_tilde'], model_extreme_list_new[2]['h'],\n",
    "                                 np.array([np.zeros_like(model_extreme_list_new[2]['h']), np.zeros_like(model_extreme_list_new[2]['h'])]),\n",
    "                                 θ=np.mean(model_res['θ']), y_start=1.1, T=89)"
   ]
  },
  {
   "cell_type": "code",
   "execution_count": null,
   "metadata": {},
   "outputs": [],
   "source": [
    "plt.plot(et_low)\n",
    "plt.plot(et_high_16)\n",
    "plt.plot(et_extreme_16)"
   ]
  },
  {
   "cell_type": "code",
   "execution_count": null,
   "metadata": {},
   "outputs": [],
   "source": [
    "fig, (ax1, ax2, ax3) = plt.subplots(1, 3, figsize=(18,5))\n",
    "ax1.plot(et, label='with jump uncertainty', linewidth=2.5)\n",
    "ax1.set_xlabel('Years', fontsize=13)\n",
    "ax1.set_ylabel('Emission', fontsize=13)\n",
    "ax1.legend(frameon=False, loc = 'upper left')\n",
    "ax1.set_ylim(0, 16)\n",
    "ax1.set_xlim(0, 90)\n",
    "\n",
    "ax2.plot(et_low, label='low damage', linewidth=2.5)\n",
    "ax2.plot(et_high_16, label=r'high damage, jump at $\\bar{y} = 1.6$', linewidth=2.5)\n",
    "ax2.plot(et_extreme_16, label=r'extreme damage, jump at $\\bar{y} = 1.6$', linewidth=2.5)\n",
    "ax2.set_xlabel('Years', fontsize=13)\n",
    "ax2.set_ylabel('Emission', fontsize=13)\n",
    "ax2.legend(frameon=False, loc = 'upper left')\n",
    "ax2.set_ylim(0, 16)\n",
    "ax2.set_xlim(0, 90)\n",
    "\n",
    "ax3.plot(et_low, label='low damage', linewidth=2.5)\n",
    "ax3.plot(et_high_20, label=r'high damage, jump at $\\bar{y} = 2.0$', linewidth=2.5)\n",
    "ax3.plot(et_extreme_20, label=r'extreme damage, jump at $\\bar{y} = 2.0$', linewidth=2.5)\n",
    "ax3.set_xlabel('Years', fontsize=13)\n",
    "ax3.set_ylabel('Emission', fontsize=13)\n",
    "ax3.legend(frameon=False, loc = 'upper left')\n",
    "ax3.set_ylim(0, 16)\n",
    "ax3.set_xlim(0, 90)\n",
    "\n",
    "fig.suptitle('Figure 1: Emission', fontsize=13)\n",
    "fig.savefig('fig_1.pdf')"
   ]
  },
  {
   "cell_type": "code",
   "execution_count": null,
   "metadata": {},
   "outputs": [],
   "source": [
    "# Simulate capital process\n",
    "# Capital and z parameters\n",
    "α_k = -0.043\n",
    "β_k = 0.04\n",
    "σ_k = np.array([0.477*2, 0])/100.\n",
    "β_z = 0.014*4\n",
    "σ_z = np.array([0.011*2, 0.025*2])\n",
    "α = 0.115\n",
    "ioverk = 0.09\n",
    "κ = 6.667\n",
    "\n",
    "\n",
    "@njit(parallel=True)\n",
    "def simulate_capital(α_k, β_k, σ_k, β_z, σ_z, ioverk, κ, Ws, k_start, N=100_000, T=100, dt=1.):\n",
    "    var_z = dt*σ_z@σ_z/(1-(1-β_z*dt)**2)\n",
    "    std_z = np.sqrt(var_z)\n",
    "\n",
    "    time_periods = int(T/dt)\n",
    "    z_path = np.zeros((N, time_periods+1))\n",
    "    k_path = np.zeros((N, time_periods+1))\n",
    "    for i in range(N):\n",
    "        z0 = np.random.normal(0.,std_z)\n",
    "        k0 = k_start\n",
    "        z_path[i, 0] = z0\n",
    "        k_path[i, 0] = k0\n",
    "        for j in range(1, time_periods+1):\n",
    "            k1 = k0 + (α_k + β_k*z0 + ioverk - κ/2.*ioverk**2 - σ_k@σ_k/2.)*dt + σ_k@Ws[i, j]*np.sqrt(dt)\n",
    "            z1 = (1.-β_z*dt)*z0 + σ_z@Ws[i, j]*np.sqrt(dt)\n",
    "            k_path[i, j] = k1\n",
    "            z_path[i, j] = z1\n",
    "            k0 = k1\n",
    "            z0 = z1\n",
    "    return k_path\n",
    "\n",
    "T = 100\n",
    "N = 1_000_000\n",
    "dt = 1.\n",
    "k_start = np.log(80/α)\n",
    "η = .032\n",
    "Ws = np.random.multivariate_normal(np.zeros(2), np.eye(2), (N, int(T/dt)))\n",
    "logk_path = simulate_capital(α_k, β_k, σ_k, β_z, σ_z, ioverk, κ, Ws, k_start, N=N, T=T, dt=dt)\n",
    "Kt = np.percentile(np.exp(logk_path), 50, axis=0)"
   ]
  },
  {
   "cell_type": "code",
   "execution_count": null,
   "metadata": {},
   "outputs": [],
   "source": [
    "SCC = η*(0.025)*Kt/((1.-η)*et) * 1000\n",
    "SCC_low = η*(0.025)*Kt/((1.-η)*et_low) * 1000\n",
    "SCC_high_16 = η*(0.025)*Kt/((1.-η)*et_high_16) * 1000\n",
    "SCC_high_18 = η*(0.025)*Kt/((1.-η)*et_high_18) * 1000\n",
    "SCC_high_20 = η*(0.025)*Kt/((1.-η)*et_high_20) * 1000\n",
    "SCC_extreme_16 = η*(0.025)*Kt/((1.-η)*et_extreme_16) * 1000\n",
    "SCC_extreme_18 = η*(0.025)*Kt/((1.-η)*et_extreme_18) * 1000\n",
    "SCC_extreme_20 = η*(0.025)*Kt/((1.-η)*et_extreme_20) * 1000"
   ]
  },
  {
   "cell_type": "code",
   "execution_count": null,
   "metadata": {
    "scrolled": true
   },
   "outputs": [],
   "source": [
    "fig, (ax1, ax2, ax3) = plt.subplots(1, 3, figsize=(18,5))\n",
    "ax1.plot(SCC, label='with jump uncertainty', linewidth=2.5)\n",
    "ax1.set_xlabel('Years', fontsize=13)\n",
    "ax1.set_ylabel('SCC', fontsize=13)\n",
    "ax1.legend(frameon=False, loc = 'upper left')\n",
    "ax1.set_ylim(0, 2000)\n",
    "ax1.set_xlim(0, 90)\n",
    "\n",
    "ax2.plot(SCC_low, label='low damage', linewidth=2.5)\n",
    "ax2.plot(SCC_high_16, label=r'high damage, jump at $\\bar{y} = 1.6$', linewidth=2.5)\n",
    "ax2.plot(SCC_extreme_16, label=r'extreme damage, jump at $\\bar{y} = 1.6$', linewidth=2.5)\n",
    "ax2.set_xlabel('Years', fontsize=13)\n",
    "ax2.set_ylabel('SCC', fontsize=13)\n",
    "ax2.legend(frameon=False, loc = 'upper left')\n",
    "ax2.set_ylim(0, 2000)\n",
    "ax2.set_xlim(0, 90)\n",
    "\n",
    "ax3.plot(SCC_low, label='low damage', linewidth=2.5)\n",
    "ax3.plot(SCC_high_20, label=r'high damage, jump at $\\bar{y} = 2.0$', linewidth=2.5)\n",
    "ax3.plot(SCC_extreme_20, label=r'extreme damage, jump at $\\bar{y} = 2.0$', linewidth=2.5)\n",
    "ax3.set_xlabel('Years', fontsize=13)\n",
    "ax3.set_ylabel('SCC', fontsize=13)\n",
    "ax3.legend(frameon=False, loc = 'upper left')\n",
    "ax3.set_ylim(0, 2000)\n",
    "ax3.set_xlim(0, 90)\n",
    "\n",
    "fig.suptitle('Figure 2: SCC', fontsize=13)\n",
    "fig.savefig('fig_2.pdf')"
   ]
  },
  {
   "cell_type": "code",
   "execution_count": null,
   "metadata": {},
   "outputs": [],
   "source": []
  }
 ],
 "metadata": {
  "kernelspec": {
   "display_name": "Python 3",
   "language": "python",
   "name": "python3"
  },
  "language_info": {
   "codemirror_mode": {
    "name": "ipython",
    "version": 3
   },
   "file_extension": ".py",
   "mimetype": "text/x-python",
   "name": "python",
   "nbconvert_exporter": "python",
   "pygments_lexer": "ipython3",
   "version": "3.8.5"
  }
 },
 "nbformat": 4,
 "nbformat_minor": 4
}
