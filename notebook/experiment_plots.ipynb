{
 "cells": [
  {
   "cell_type": "code",
   "execution_count": 1,
   "metadata": {},
   "outputs": [],
   "source": [
    "import os, sys\n",
    "sys.path.append(os.path.dirname(os.getcwd()) + '/source')\n",
    "\n",
    "import numpy as np\n",
    "import pandas as pd\n",
    "from model import ode_y, ode_y_jump_approach_one\n",
    "from numba import njit\n",
    "from utilities import find_nearest_value\n",
    "\n",
    "import matplotlib.pyplot as plt\n",
    "import matplotlib as mpl\n",
    "\n",
    "mpl.rcParams['axes.spines.right'] = False\n",
    "mpl.rcParams['axes.spines.top'] = False"
   ]
  },
  {
   "cell_type": "markdown",
   "metadata": {},
   "source": [
    "### Section 1.5\n",
    "Please enter a plot of the $h$’s for your current parameter setting along with the optimized $\\tilde{e}$\n",
    "in comparison to the the case in which ξ is set to a very large number."
   ]
  },
  {
   "cell_type": "code",
   "execution_count": 2,
   "metadata": {},
   "outputs": [
    {
     "name": "stdout",
     "output_type": "stream",
     "text": [
      "Converged. Total iteration 1846: LHS Error: 9.950361624933013e-09; RHS Error 4.647496679911485e-06\n",
      "Converged. Total iteration 1732: LHS Error: 9.959453001889829e-09; RHS Error 5.876946939940234e-06\n"
     ]
    }
   ],
   "source": [
    "# Section 1.5.1\n",
    "# Plot h and e_tilde, ξ_1m=1./4000, ξ_1m=1000\n",
    "# Turn off smooth ambiguity for climate\n",
    "# Weighted damage function, [.475, .475, .05]\n",
    "\n",
    "ξ_1m_list = [.00128, 1000.]\n",
    "ξ_a = 1000.\n",
    "\n",
    "η = .032\n",
    "δ = .01\n",
    "\n",
    "θ = pd.read_csv('../data/model144.csv', header=None).to_numpy()[:, 0]/1000.\n",
    "πc_o = np.ones_like(θ)/len(θ)\n",
    "σ_y = 1.2*1.86/1000\n",
    "\n",
    "y_bar = 2.\n",
    "γ_1 = 1.7675/10000\n",
    "γ_2 = .0022*2\n",
    "γ_2p = 0*.5 + .0197*2*.5 + .3853*2*0.\n",
    "\n",
    "n_y = 100\n",
    "y_min = 1e-10\n",
    "y_max = 10\n",
    "y_grid = np.linspace(y_min, y_max, n_y)\n",
    "\n",
    "e_tilde_list = []\n",
    "h_list = []\n",
    "for ξ_1m in ξ_1m_list:\n",
    "    model_paras = (η, δ, θ, πc_o, σ_y, ξ_1m, ξ_a, γ_1, γ_2, γ_2p, y_bar) \n",
    "    model_res = ode_y(y_grid, model_paras, v0=None, ϵ=.5, tol=1e-8, max_iter=5_000, print_all=False)\n",
    "    v0 = model_res['v0']\n",
    "    e_tilde = model_res['e_tilde']\n",
    "    h = 1./ξ_1m * (-model_res['v0_dy'] + (1-η)*model_res['d_Λ']) * e_tilde * σ_y\n",
    "    e_tilde_list.append(e_tilde)\n",
    "    h_list.append(h)"
   ]
  },
  {
   "cell_type": "code",
   "execution_count": 3,
   "metadata": {},
   "outputs": [],
   "source": [
    "def simulation(y_grid, e_grid, h_grid, θ=1.86/1000., y_start=.5394, T=100):\n",
    "    Et = np.zeros(T+1)\n",
    "    yt = np.zeros(T+1)\n",
    "    ht = np.zeros(T+1)\n",
    "    for i in range(T+1):\n",
    "        Et[i] = np.interp(y_start, y_grid, e_grid)\n",
    "        ht[i] = np.interp(y_start, y_grid, h_grid)\n",
    "        yt[i] = y_start\n",
    "        y_start = y_start + Et[i]*θ\n",
    "    return Et, yt, ht"
   ]
  },
  {
   "cell_type": "code",
   "execution_count": 4,
   "metadata": {},
   "outputs": [
    {
     "data": {
      "image/png": "[encoded data removed]",
      "text/plain": [
       "<Figure size 864x288 with 2 Axes>"
      ]
     },
     "metadata": {
      "needs_background": "light"
     },
     "output_type": "display_data"
    }
   ],
   "source": [
    "et_tilde_distorted, yt_distorted, ht_distorted\\\n",
    "    = simulation(y_grid, e_tilde_list[0], h_list[0], θ=1.86/1000., y_start=.5394, T=100)\n",
    "et_tilde_baseline, yt_baseline, ht_baseline\\\n",
    "    = simulation(y_grid, e_tilde_list[1], h_list[1], θ=1.86/1000., y_start=.5394, T=100)\n",
    "\n",
    "fig, (ax1, ax2) = plt.subplots(1, 2,figsize=(12,4))\n",
    "ax1.plot(ht_distorted, color='C3', label=r'$\\xi_m = .00128$', linewidth=2.)\n",
    "ax1.plot(ht_baseline, color='C0', label='neutral', linewidth=2.)\n",
    "ax1.set_xlabel('Years', fontsize=13)\n",
    "ax1.set_ylabel('h', fontsize=13)\n",
    "ax1.legend(frameon=False, loc=(0.65,.7))\n",
    "ax1.set_ylim(-0.01, 0.25)\n",
    "\n",
    "ax2.plot(et_tilde_distorted, color='C3', label=r'$\\xi_m = .00128$', linewidth=2.)\n",
    "ax2.plot(et_tilde_baseline, color='C0', label='neutral', linewidth=2.)\n",
    "ax2.set_xlabel('Years', fontsize=13)\n",
    "ax2.set_ylabel(r'$\\tilde{e}$', fontsize=13)\n",
    "ax2.legend(frameon=False, loc=(0.65,.7))\n",
    "ax2.set_ylim(0., 14)\n",
    "\n",
    "fig.savefig('../plots/experiment/figure_1.pdf')"
   ]
  },
  {
   "cell_type": "markdown",
   "metadata": {},
   "source": [
    "### Section 1.6\n",
    "Han and Suri, drop the $h$ and only consider the smooth ambiguity. Use an ambiguity parameter as in Barnett, Brock and Hansen. Plot the distorted histograms from the climate models along with an emissions comparison with and without ambiguity aversion. Produce calculations for each of the three damage functions."
   ]
  },
  {
   "cell_type": "code",
   "execution_count": 5,
   "metadata": {},
   "outputs": [
    {
     "name": "stdout",
     "output_type": "stream",
     "text": [
      "Converged. Total iteration 1881: LHS Error: 9.965964595237686e-09; RHS Error 5.941721562206228e-06\n",
      "Converged. Total iteration 1801: LHS Error: 9.994329159407345e-09; RHS Error 5.986057740184033e-06\n",
      "Converged. Total iteration 1767: LHS Error: 9.962327917473202e-09; RHS Error 5.965911271069374e-06\n",
      "Converged. Total iteration 1732: LHS Error: 9.959453001889829e-09; RHS Error 5.876946939940234e-06\n"
     ]
    }
   ],
   "source": [
    "# Section 1.5.1\n",
    "# Plot πc and e_tilde, 1) ξ_1a=1./4000, ξ_1a=1000 2) three damages\n",
    "# Turn off misspecification\n",
    "\n",
    "ξ_1m = 1000.\n",
    "ξ_a_list = [1./40000, 1./10000, 1./4000, 1000]\n",
    "\n",
    "η = .032\n",
    "δ = .01\n",
    "\n",
    "θ = pd.read_csv('../data/model144.csv', header=None).to_numpy()[:, 0]/1000.\n",
    "πc_o = np.ones_like(θ)/len(θ)\n",
    "σ_y = 1.2*1.86/1000\n",
    "\n",
    "y_bar = 2.\n",
    "γ_1 = 1.7675/10000\n",
    "γ_2 = .0022*2\n",
    "γ_2p = 0*.5 + .0197*2*.5 + .3853*2*0.\n",
    "\n",
    "n_y = 100\n",
    "y_min = 1e-10\n",
    "y_max = 10\n",
    "y_grid = np.linspace(y_min, y_max, n_y)\n",
    "\n",
    "e_tilde_list = []\n",
    "πc_list = []\n",
    "for ξ_a in ξ_a_list:\n",
    "    model_paras = (η, δ, θ, πc_o, σ_y, ξ_1m, ξ_a, γ_1, γ_2, γ_2p, y_bar) \n",
    "    model_res = ode_y(y_grid, model_paras, v0=None, ϵ=.5, tol=1e-8, max_iter=10_000, print_all=False)\n",
    "    e_tilde_list.append(model_res['e_tilde'])\n",
    "    πc_list.append(model_res['πc'])"
   ]
  },
  {
   "cell_type": "code",
   "execution_count": 6,
   "metadata": {},
   "outputs": [],
   "source": [
    "et_tilde_distorted_tiny, yt_distorted_tiny, _\\\n",
    "    = simulation(y_grid, e_tilde_list[0], np.zeros_like(y_grid), θ=1.86/1000., y_start=.5394, T=100)\n",
    "\n",
    "et_tilde_distorted_small, yt_distorted_small, _\\\n",
    "    = simulation(y_grid, e_tilde_list[1], np.zeros_like(y_grid), θ=1.86/1000., y_start=.5394, T=100)\n",
    "\n",
    "et_tilde_distorted, yt_distorted, _\\\n",
    "    = simulation(y_grid, e_tilde_list[2], np.zeros_like(y_grid), θ=1.86/1000., y_start=.5394, T=100)\n",
    "\n",
    "et_tilde_baseline, yt_baseline, _\\\n",
    "    = simulation(y_grid, e_tilde_list[3], np.zeros_like(y_grid), θ=1.86/1000., y_start=.5394, T=100)"
   ]
  },
  {
   "cell_type": "code",
   "execution_count": 7,
   "metadata": {},
   "outputs": [],
   "source": [
    "def draw_from_distribution(θ, π, num=100_000):\n",
    "    res = np.zeros(num)\n",
    "    start = 0\n",
    "    for i in range(len(π)):\n",
    "        end = start + int(π[i]*num)\n",
    "        res[start:end] = θ[i]\n",
    "        start = end\n",
    "    return res[res!=0]"
   ]
  },
  {
   "cell_type": "code",
   "execution_count": 10,
   "metadata": {},
   "outputs": [
    {
     "data": {
      "image/png": "[encoded data removed]",
      "text/plain": [
       "<Figure size 576x360 with 1 Axes>"
      ]
     },
     "metadata": {
      "needs_background": "light"
     },
     "output_type": "display_data"
    }
   ],
   "source": [
    "plt.figure(figsize=(8, 5))\n",
    "plt.plot(et_tilde_distorted_tiny, color='C3', label=r'$\\xi_a = 1./40000$', linewidth=2.)\n",
    "plt.plot(et_tilde_distorted_small, color='C2', label=r'$\\xi_a = 1./10000$', linewidth=2.)\n",
    "plt.plot(et_tilde_distorted, color='C1', label=r'$\\xi_a = 1./4000$', linewidth=2.)\n",
    "plt.plot(et_tilde_baseline, color='C0', label='ambiguity neutral', linewidth=2.)\n",
    "plt.xlabel('Years', fontsize=13)\n",
    "plt.ylabel(r'$\\tilde{e}$', fontsize=13)\n",
    "plt.legend(frameon=False, loc='upper right')\n",
    "plt.ylim(0, 14)\n",
    "plt.savefig('../plots/experiment/figure_2_weighted.pdf')"
   ]
  },
  {
   "cell_type": "markdown",
   "metadata": {},
   "source": [
    "### Section 1.7\n",
    "Han and Suri, Try $\\xi_m = .1$ and equal baseline probabilities for each of the three damage specifications. Do this for approach one. Please plot both the distorted probabilities and the proportionate shift in the intensity probabilities. Try a small value of $\\xi$. We can adjust this later. Also plot the emissions trajectory in comparison to setting $\\xi_m$ very large."
   ]
  },
  {
   "cell_type": "code",
   "execution_count": null,
   "metadata": {},
   "outputs": [],
   "source": [
    "ξ_1m = 1000.\n",
    "ξ_2m_list = [.08, 1000]\n",
    "ξ_a = 1000.\n",
    "\n",
    "η = .032\n",
    "δ = .01\n",
    "\n",
    "θ = pd.read_csv('../data/model144.csv', header=None).to_numpy()[:, 0]/1000.\n",
    "πc_o = np.ones_like(θ)/len(θ)\n",
    "σ_y = 1.2*1.86/1000\n",
    "\n",
    "y_bar = 2.\n",
    "γ_1 = 1.7675/10000\n",
    "γ_2 = .0022*2\n",
    "γ_2p = np.array([0, .0197*2, .3853*2])\n",
    "πd_o = np.array([.475, .475, .05])\n",
    "\n",
    "n_y = 100\n",
    "y_grid_long = np.linspace(1e-10, 10, n_y)\n",
    "y_grid_short = np.linspace(1e-10, 2, n_y)"
   ]
  },
  {
   "cell_type": "code",
   "execution_count": null,
   "metadata": {},
   "outputs": [],
   "source": [
    "e_tilde_list = []\n",
    "πd_list = []\n",
    "g_list = []\n",
    "for ξ_2m in ξ_2m_list:\n",
    "    # Prepare ϕ_i\n",
    "    ϕ_list = []\n",
    "    for γ_2p_i in γ_2p:\n",
    "        model_paras = (η, δ, θ, πc_o, σ_y, ξ_1m, ξ_a, γ_1, γ_2, γ_2p_i, y_bar) \n",
    "        model_res = ode_y(y_grid_long, model_paras, v0=None, ϵ=.5,\n",
    "                           tol=1e-8, max_iter=5_000, print_all=False)\n",
    "        ϕ_list.append(model_res['v0'])\n",
    "\n",
    "    ϕ_list_short = []\n",
    "    for ϕ_i in ϕ_list:\n",
    "        temp = np.interp(y_grid_short, y_grid_long, ϕ_i)\n",
    "        ϕ_list_short.append(temp)\n",
    "    ϕ_i = np.array(ϕ_list_short)\n",
    "\n",
    "    # Compute ϕ\n",
    "    ς = .1\n",
    "    model_paras = (η, δ, θ, πc_o, σ_y, ξ_1m, ξ_2m, ξ_a, ς, γ_1, γ_2, y_bar, ϕ_i, πd_o)\n",
    "    ϕ, e_tilde, πc, c_entropy, g = ode_y_jump_approach_one(y_grid_short, model_paras, v0=np.average(ϕ_i, axis=0, weights=πd_o),\n",
    "                                                        ϵ=.5, tol=1e-8, max_iter=10_000, print_all=False)\n",
    "\n",
    "    # Compute worst case probabilities\n",
    "    πd_o_reshape = np.zeros((len(πd_o), len(y_grid_short)))\n",
    "    for i in range(πd_o_reshape.shape[0]):\n",
    "        πd_o_reshape[i] = πd_o[i]\n",
    "    πd = [np.exp(1./ξ_2m*(ϕ-ϕ_i[i])) * πd_o[i] for i in range(len(πd_o))]\n",
    "    πd = np.array(πd)\n",
    "    \n",
    "    e_tilde_list.append(e_tilde)\n",
    "    πd_list.append(πd)\n",
    "    g_list.append(g)"
   ]
  },
  {
   "cell_type": "code",
   "execution_count": null,
   "metadata": {},
   "outputs": [],
   "source": [
    "def simulation_jump(y_grid, e_grid, π_grid, g_grid, θ=1.86/1000., y_start=.5394, T=50):\n",
    "    Et = np.zeros(T+1)\n",
    "    πt = np.zeros((len(π_grid), T+1))\n",
    "    yt = np.zeros(T+1)\n",
    "    gt = np.zeros_like(πt)\n",
    "    for i in range(T+1):\n",
    "        Et[i] = np.interp(y_start, y_grid, e_grid)\n",
    "        for n in range(πt.shape[0]):\n",
    "            πt[n, i] = np.interp(y_start, y_grid, π_grid[n])\n",
    "            gt[n, i] = np.interp(y_start, y_grid, g_grid[n])\n",
    "        yt[i] = y_start\n",
    "        y_start = y_start + Et[i]*θ\n",
    "    return Et, yt, πt, gt"
   ]
  },
  {
   "cell_type": "code",
   "execution_count": null,
   "metadata": {},
   "outputs": [],
   "source": [
    "et_tilde_distorted, yt_distorted, πt_distorted, gt_distorted\\\n",
    "    = simulation_jump(y_grid_short, e_tilde_list[0], πd_list[0], g_list[0], θ=1.86/1000., y_start=.5394, T=100)\n",
    "et_tilde_baseline, yt_baseline, πt_baseline, gt_baseline\\\n",
    "    = simulation_jump(y_grid_short, e_tilde_list[1], πd_list[1], g_list[1], θ=1.86/1000., y_start=.5394, T=100)\n",
    "\n",
    "ι_y = np.average(gt_distorted, axis=0, weights=πd_o)\n",
    "\n",
    "fig, (ax1, ax2) = plt.subplots(1, 2,figsize=(12,4))\n",
    "ax1.plot(πt_distorted[0]/ι_y, color='C3', label='low damage', linewidth=2.)\n",
    "ax1.plot(πt_distorted[1]/ι_y, color='C0', label='high damage', linewidth=2.)\n",
    "# ax1.plot(πt_distorted[2]/ι_y, color='C1', label='extreme damage', linewidth=2.)\n",
    "ax1.set_xlabel('Years', fontsize=13)\n",
    "ax1.set_ylabel('Distorted probability', fontsize=13)\n",
    "ax1.legend(frameon=False, loc='upper left')\n",
    "ax1.set_ylim(0, .8)\n",
    "\n",
    "ax2.plot(ι_y, color='black', linewidth=2.)\n",
    "ax2.set_xlabel('Years', fontsize=13)\n",
    "ax2.set_ylabel('Proportional change in intensity', fontsize=13)\n",
    "ax2.set_ylim(.99, 1.)\n",
    "\n",
    "fig.savefig('../plots/figure_3.pdf')"
   ]
  },
  {
   "cell_type": "code",
   "execution_count": null,
   "metadata": {},
   "outputs": [],
   "source": [
    "plt.figure(figsize=(8, 5))\n",
    "plt.plot(et_tilde_distorted, color='C3', label=r'$\\xi_m = .1$', linewidth=2.)\n",
    "plt.plot(et_tilde_baseline, color='C0', label=r'$\\xi_m = 1000$', linewidth=2.)\n",
    "plt.xlabel('Years', fontsize=13)\n",
    "plt.ylabel(r'$\\tilde{e}$', fontsize=13)\n",
    "plt.legend(frameon=False)\n",
    "plt.ylim(0., 16.)\n",
    "plt.savefig('../plots/figure_4.pdf')"
   ]
  },
  {
   "cell_type": "code",
   "execution_count": null,
   "metadata": {},
   "outputs": [],
   "source": []
  }
 ],
 "metadata": {
  "kernelspec": {
   "display_name": "Python 3",
   "language": "python",
   "name": "python3"
  },
  "language_info": {
   "codemirror_mode": {
    "name": "ipython",
    "version": 3
   },
   "file_extension": ".py",
   "mimetype": "text/x-python",
   "name": "python",
   "nbconvert_exporter": "python",
   "pygments_lexer": "ipython3",
   "version": "3.8.5"
  }
 },
 "nbformat": 4,
 "nbformat_minor": 4
}
