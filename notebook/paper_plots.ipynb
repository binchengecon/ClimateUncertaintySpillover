{
 "cells": [
  {
   "cell_type": "code",
   "execution_count": null,
   "metadata": {},
   "outputs": [],
   "source": [
    "import os, sys\n",
    "sys.path.append(os.path.dirname(os.getcwd()) + '/source')\n",
    "\n",
    "import numpy as np\n",
    "import pandas as pd\n",
    "import matplotlib.pyplot as plt\n",
    "import plotly.graph_objects as go\n",
    "from simulation import simulate_emission_quadratic, simulate_log_damage\n",
    "from scipy.interpolate import make_interp_spline\n",
    "import matplotlib as mpl\n",
    "\n",
    "mpl.rcParams['axes.spines.right'] = False\n",
    "mpl.rcParams['axes.spines.top'] = False\n",
    "\n",
    "np.random.seed(0)\n",
    "\n",
    "# defaultColors = ['#1f77b4',  ## muted blue\n",
    "#                 '#ff7f0e',  ## safety orange\n",
    "#                 '#2ca02c',  ## cooked asparagus green\n",
    "#                 '#d62728',  ## brick red\n",
    "#                 '#9467bd',  ## muted purple\n",
    "#                 '#8c564b',  ## chestnut brown\n",
    "#                 '#e377c2',  ## raspberry yogurt pink\n",
    "#                 '#7f7f7f',  ## middle gray\n",
    "#                 '#bcbd22',  ## curry yellow-green\n",
    "#                 '#17becf'   ## blue-teal\n",
    "#                 ]"
   ]
  },
  {
   "cell_type": "code",
   "execution_count": null,
   "metadata": {},
   "outputs": [],
   "source": [
    "# Model parameters\n",
    "δ = 0.01\n",
    "η = 0.032\n",
    "median = 1.75/1000\n",
    "h_hat = 0.2\n",
    "σ_n = 1.5\n",
    "γ_low = 0.012\n",
    "γ_high = 0.024\n",
    "ξ = σ_n/h_hat*δ*η\n",
    "\n",
    "# Simulation setting\n",
    "r_start = 1500\n",
    "T = 300"
   ]
  },
  {
   "cell_type": "markdown",
   "metadata": {},
   "source": [
    "## 1. Figure 3 and 4"
   ]
  },
  {
   "cell_type": "code",
   "execution_count": null,
   "metadata": {},
   "outputs": [],
   "source": [
    "# Simulate emission trajectory\n",
    "args_trace_ϕ = (-20, -5, 3000, 1e-9, 1e-3)\n",
    "Et_low, r_grid_low, _, e_grid_low  = simulate_emission_quadratic(δ, η, median*γ_low, ξ, σ_n=0, # Replace σ_n with 0 if you want to set τ_2 = 0.\n",
    "                                     args_trace_ϕ=args_trace_ϕ,\n",
    "                                     r_start=r_start, T=T)\n",
    "Et_high, r_grid_high, _, e_grid_high = simulate_emission_quadratic(δ, η, median*γ_high, ξ, σ_n=0,\n",
    "                                      args_trace_ϕ=args_trace_ϕ,\n",
    "                                      r_start=r_start, T=T)"
   ]
  },
  {
   "cell_type": "code",
   "execution_count": null,
   "metadata": {},
   "outputs": [],
   "source": [
    "# # Figure 3\n",
    "# fig = go.Figure()\n",
    "# fig.add_trace(go.Scatter(y=Et_high,\n",
    "#                     mode='lines',\n",
    "#                     name=r'$\\gamma=0.024$',\n",
    "#                     line=dict(width=3, color=defaultColors[0])))\n",
    "# fig.add_trace(go.Scatter(y=Et_low,\n",
    "#                     mode='lines',\n",
    "#                     name=r'$\\gamma=0.012$',\n",
    "#                     line=dict(width=3, color=defaultColors[1])))\n",
    "# fig.update_layout(paper_bgcolor='rgba(0,0,0,0)',\n",
    "#                   plot_bgcolor='rgba(0,0,0,0)',\n",
    "#                   width=800,\n",
    "#                   height=500,\n",
    "#                   legend=dict(yanchor=\"top\",\n",
    "#                               y=1,\n",
    "#                               xanchor=\"right\",\n",
    "#                               x=1)\n",
    "#                  )\n",
    "# fig.update_xaxes(showline=True, linewidth=2, linecolor='black', title_text='Year', range=[0,T])\n",
    "# fig.update_yaxes(showline=True, linewidth=2, linecolor='black', title_text='Emission', range=[0,10])\n",
    "                  \n",
    "# fig.write_image(\"emissions_trajectory.png\")\n",
    "# fig.show()"
   ]
  },
  {
   "cell_type": "code",
   "execution_count": null,
   "metadata": {},
   "outputs": [],
   "source": [
    "plt.plot(Et_high, linewidth=2, label=r'$\\gamma=0.024$')\n",
    "plt.plot(Et_low, linewidth=2, label=r'$\\gamma=0.012$')\n",
    "plt.xlim(0,T)\n",
    "plt.ylim(0,10)\n",
    "plt.xlabel('Year')\n",
    "plt.ylabel('Emission')\n",
    "plt.legend(frameon=False)\n",
    "plt.savefig('emissions_trajectory.png', dpi = 1200)\n",
    "plt.show()"
   ]
  },
  {
   "cell_type": "code",
   "execution_count": null,
   "metadata": {},
   "outputs": [],
   "source": [
    "# # Figure 4\n",
    "# fig = go.Figure()\n",
    "# fig.add_trace(go.Scatter(y=r_start - Et_high.cumsum(),\n",
    "#                     mode='lines',\n",
    "#                     name=r'$\\gamma=0.024$',\n",
    "#                     line=dict(width=3, color=defaultColors[0])))\n",
    "# fig.add_trace(go.Scatter(y=r_start - Et_low.cumsum(),\n",
    "#                     mode='lines',\n",
    "#                     name=r'$\\gamma=0.012$',\n",
    "#                     line=dict(width=3, color=defaultColors[1])))\n",
    "# fig.update_layout(paper_bgcolor='rgba(0,0,0,0)',\n",
    "#                   plot_bgcolor='rgba(0,0,0,0)',\n",
    "#                   width=800,\n",
    "#                   height=500,\n",
    "#                   legend=dict(yanchor=\"top\",\n",
    "#                               y=1,\n",
    "#                               xanchor=\"right\",\n",
    "#                               x=1)\n",
    "#                  )\n",
    "# fig.update_xaxes(showline=True, linewidth=2, linecolor='black', title_text='Year', range=[0,T])\n",
    "# fig.update_yaxes(showline=True, linewidth=2, linecolor='black', title_text='Reserve', range=[0,1600])\n",
    "\n",
    "# fig.write_image(\"reserve_trajectory.png\")\n",
    "# fig.show()"
   ]
  },
  {
   "cell_type": "code",
   "execution_count": null,
   "metadata": {},
   "outputs": [],
   "source": [
    "plt.plot(r_start - Et_high.cumsum(), linewidth=2, label=r'$\\gamma=0.024$')\n",
    "plt.plot(r_start - Et_low.cumsum(), linewidth=2, label=r'$\\gamma=0.012$')\n",
    "plt.xlim(0,T)\n",
    "plt.ylim(0,1600)\n",
    "plt.xlabel('Year')\n",
    "plt.ylabel('Reserve')\n",
    "plt.legend(frameon=False)\n",
    "plt.savefig('reserve_trajectory.png', dpi = 1200)\n",
    "plt.show()"
   ]
  },
  {
   "cell_type": "markdown",
   "metadata": {},
   "source": [
    "## 2. Figure 5 and 6"
   ]
  },
  {
   "cell_type": "code",
   "execution_count": null,
   "metadata": {},
   "outputs": [],
   "source": [
    "# Simulate emission trajectory, 1x ξ\n",
    "args_trace_ϕ = (-20, -5, 3000, 1e-9, 1e-3)\n",
    "Et_low_1x, r_grid_low_1x, _, e_grid_low_1x = simulate_emission_quadratic(δ, η, median*γ_low, ξ, σ_n,\n",
    "                                     args_trace_ϕ=args_trace_ϕ,\n",
    "                                     r_start=r_start, T=T)\n",
    "Et_high_1x, r_grid_high_1x, _, e_grid_high_1x  = simulate_emission_quadratic(δ, η, median*γ_high, ξ, σ_n,\n",
    "                                      args_trace_ϕ=args_trace_ϕ,\n",
    "                                      r_start=r_start, T=T)\n",
    "\n",
    "# Simulate emission trajectory, 0.5x ξ\n",
    "args_trace_ϕ = (-20, -5, 3000, 1e-9, 1e-3)\n",
    "Et_low_05x, r_grid_low_05x, _, e_grid_low_05x = simulate_emission_quadratic(δ, η, median*γ_low, ξ*0.5, σ_n,\n",
    "                                     args_trace_ϕ=args_trace_ϕ,\n",
    "                                     r_start=r_start, T=T)\n",
    "Et_high_05x, r_grid_high_05x, _, e_grid_high_05x  = simulate_emission_quadratic(δ, η, median*γ_high, ξ*0.5, σ_n,\n",
    "                                      args_trace_ϕ=args_trace_ϕ,\n",
    "                                      r_start=r_start, T=T)"
   ]
  },
  {
   "cell_type": "code",
   "execution_count": null,
   "metadata": {},
   "outputs": [],
   "source": [
    "h_hat_implied_low_1x = Et_low_1x*(median*γ_low)*σ_n/ξ\n",
    "h_hat_implied_low_05x = Et_low_05x*(median*γ_low)*σ_n/(ξ*0.5)\n",
    "\n",
    "h_hat_implied_high_1x = Et_high_1x*(median*γ_high)*σ_n/ξ\n",
    "h_hat_implied_high_05x = Et_high_05x*(median*γ_high)*σ_n/(ξ*0.5)"
   ]
  },
  {
   "cell_type": "code",
   "execution_count": null,
   "metadata": {},
   "outputs": [],
   "source": [
    "# # Figure 5\n",
    "# fig = go.Figure()\n",
    "# fig.add_trace(go.Scatter(y=Et_high_1x,\n",
    "#                     mode='lines',\n",
    "#                     name=r'$\\gamma=0.024$',\n",
    "#                     line=dict(width=3, color=defaultColors[0])))\n",
    "# fig.add_trace(go.Scatter(y=Et_low_1x,\n",
    "#                     mode='lines',\n",
    "#                     name=r'$\\gamma=0.012$',\n",
    "#                     line=dict(width=3, color=defaultColors[1])))\n",
    "\n",
    "# fig.update_layout(paper_bgcolor='rgba(0,0,0,0)',\n",
    "#                   plot_bgcolor='rgba(0,0,0,0)',\n",
    "#                   width=800,\n",
    "#                   height=500,\n",
    "#                   legend=dict(yanchor=\"top\",\n",
    "#                               y=1,\n",
    "#                               xanchor=\"right\",\n",
    "#                               x=1)\n",
    "#                  )\n",
    "# fig.update_xaxes(showline=True, linewidth=2, linecolor='black', title_text='Year', range=[0,T])\n",
    "# fig.update_yaxes(showline=True, linewidth=2, linecolor='black', title_text='Emission', range=[0,10])\n",
    "\n",
    "# fig.write_image(\"emission_300years.pdf\")\n",
    "# fig.show()"
   ]
  },
  {
   "cell_type": "code",
   "execution_count": null,
   "metadata": {},
   "outputs": [],
   "source": [
    "plt.plot(Et_high_1x, linewidth=2, label=r'$\\gamma=0.024$')\n",
    "plt.plot(Et_low_1x, linewidth=2, label=r'$\\gamma=0.012$')\n",
    "plt.xlim(0,T)\n",
    "plt.ylim(0,10)\n",
    "plt.xlabel('Year')\n",
    "plt.ylabel('Emission')\n",
    "plt.legend(frameon=False)\n",
    "plt.savefig('emission_300years.png', dpi = 1200)\n",
    "plt.show()"
   ]
  },
  {
   "cell_type": "code",
   "execution_count": null,
   "metadata": {},
   "outputs": [],
   "source": [
    "# # Figure 6\n",
    "# fig = go.Figure()\n",
    "# fig.add_trace(go.Scatter(y=h_hat_implied_high_1x,\n",
    "#                     mode='lines',\n",
    "#                     name=r'$\\xi=0.0024, \\gamma=0.024$',\n",
    "#                     line=dict(width=3, color=defaultColors[0])))\n",
    "# fig.add_trace(go.Scatter(y=h_hat_implied_high_05x,\n",
    "#                     mode='lines',\n",
    "#                     name=r'$\\xi=0.0012, \\gamma=0.024$',\n",
    "#                     line=dict(width=3, color=defaultColors[1])))\n",
    "\n",
    "# fig.add_trace(go.Scatter(y=h_hat_implied_low_1x,\n",
    "#                     mode='lines',\n",
    "#                     name=r'$\\xi=0.0024, \\gamma=0.012$',\n",
    "#                     line=dict(width=3, color=defaultColors[0], dash='dash')))\n",
    "# fig.add_trace(go.Scatter(y=h_hat_implied_low_05x,\n",
    "#                     mode='lines',\n",
    "#                     name=r'$\\xi=0.0012, \\gamma=0.012$',\n",
    "#                     line=dict(width=3, color=defaultColors[1], dash='dash')))\n",
    "\n",
    "# fig.update_layout(paper_bgcolor='rgba(0,0,0,0)',\n",
    "#                   plot_bgcolor='rgba(0,0,0,0)',\n",
    "#                   width=800,\n",
    "#                   height=500,\n",
    "#                   legend=dict(yanchor=\"top\",\n",
    "#                               y=1,\n",
    "#                               xanchor=\"right\",\n",
    "#                               x=1)\n",
    "#                  )\n",
    "# fig.update_xaxes(showline=True, linewidth=2, linecolor='black', title_text='Year', range=[0,T])\n",
    "# fig.update_yaxes(showline=True, linewidth=2, linecolor='black', title_text=r'$h^*$', range=[0, 0.3])\n",
    "\n",
    "# fig.write_image(\"hat_h_300years.pdf\")\n",
    "# fig.show()"
   ]
  },
  {
   "cell_type": "code",
   "execution_count": null,
   "metadata": {},
   "outputs": [],
   "source": [
    "plt.plot(h_hat_implied_high_1x, linewidth=2, label=r'$\\xi=0.0024, \\gamma=0.024$', color=defaultColors[0])\n",
    "plt.plot(h_hat_implied_high_05x, linewidth=2, label=r'$\\xi=0.0012, \\gamma=0.024$', color=defaultColors[1])\n",
    "plt.plot(h_hat_implied_low_1x, linewidth=2, label=r'$\\xi=0.0024, \\gamma=0.012$', linestyle='dashed', color=defaultColors[0])\n",
    "plt.plot(h_hat_implied_low_05x, linewidth=2, label=r'$\\xi=0.0012, \\gamma=0.012$', linestyle='dashed', color=defaultColors[1])\n",
    "plt.xlim(0,T)\n",
    "plt.ylim(0,0.35)\n",
    "plt.xlabel('Year')\n",
    "plt.ylabel(r'$h^*$')\n",
    "plt.legend(frameon=False)\n",
    "plt.savefig('hat_h_300years.png', dpi = 1200)\n",
    "plt.show()"
   ]
  },
  {
   "cell_type": "markdown",
   "metadata": {},
   "source": [
    "## 3. Table 1"
   ]
  },
  {
   "cell_type": "code",
   "execution_count": null,
   "metadata": {},
   "outputs": [],
   "source": [
    "# Table for e_tilde\n",
    "def e_tilde_fun(ξ, γ, median=1.75/1000, σ_n=1.5, δ=0.01, η=0.032):\n",
    "    τ_1 = γ*median\n",
    "    τ_2 = (τ_1**2) * (σ_n**2) / (2*ξ)\n",
    "    if τ_2 == 0:\n",
    "        res = δ*η/τ_1\n",
    "    else:\n",
    "        res = (-τ_1 + np.sqrt(τ_1**2 + 4*δ*η*τ_2)) / (2*τ_2)\n",
    "    return res\n",
    "\n",
    "e_tilde_low_0 = e_tilde_fun(ξ, γ_low, σ_n=0)\n",
    "e_tilde_low = e_tilde_fun(ξ, γ_low)\n",
    "e_tilde_low_01x = e_tilde_fun(ξ*0.1, γ_low)\n",
    "e_tilde_low_05x = e_tilde_fun(ξ*0.5, γ_low)\n",
    "e_tilde_low_5x = e_tilde_fun(ξ*5, γ_low)\n",
    "e_tilde_low_10x = e_tilde_fun(ξ*10, γ_low)\n",
    "\n",
    "e_tilde_high_0 = e_tilde_fun(ξ, γ_high, σ_n=0)\n",
    "e_tilde_high = e_tilde_fun(ξ, γ_high)\n",
    "e_tilde_high_01x = e_tilde_fun(ξ*0.1, γ_high)\n",
    "e_tilde_high_05x = e_tilde_fun(ξ*0.5, γ_high)\n",
    "e_tilde_high_5x = e_tilde_fun(ξ*5, γ_high)\n",
    "e_tilde_high_10x = e_tilde_fun(ξ*10, γ_high)\n",
    "\n",
    "df = pd.DataFrame([[e_tilde_low_05x, e_tilde_low, e_tilde_low_0],\n",
    "                   [e_tilde_high_05x, e_tilde_high, e_tilde_high_0]])\n",
    "df.index = ['γ = 0.012', 'γ = 0.024']\n",
    "df.columns = ['0.5x ξ', '1x ξ', 'τ_2 = 0']\n",
    "df"
   ]
  },
  {
   "cell_type": "markdown",
   "metadata": {},
   "source": [
    "## 4. Table 2"
   ]
  },
  {
   "cell_type": "code",
   "execution_count": null,
   "metadata": {},
   "outputs": [],
   "source": [
    "# Simulate damages\n",
    "exp_avg_response_low = median * γ_low / (1-η)\n",
    "exp_avg_response_high = median * γ_high / (1-η)\n",
    "Ws = np.random.normal(0., 1., (1_000_000, T))\n",
    "log_damage_low = simulate_log_damage(exp_avg_response_low, σ_n, Et_low_1x, Ws)\n",
    "log_damage_high = simulate_log_damage(exp_avg_response_high, σ_n, Et_high_1x, Ws)"
   ]
  },
  {
   "cell_type": "code",
   "execution_count": null,
   "metadata": {},
   "outputs": [],
   "source": [
    "low_50 = log_damage_low[:, 50-1] / Et_low_1x[:50].sum() / γ_low * 1000\n",
    "low_100 = log_damage_low[:, 100-1] / Et_low_1x[:100].sum() / γ_low * 1000\n",
    "low_200 = log_damage_low[:, 200-1] / Et_low_1x[:200].sum() / γ_low * 1000\n",
    "\n",
    "high_50 = log_damage_high[:, 50-1] / Et_high_1x[:50].sum() / γ_high * 1000\n",
    "high_100 = log_damage_high[:, 100-1] / Et_high_1x[:100].sum() / γ_high * 1000\n",
    "high_200 = log_damage_high[:, 200-1] / Et_high_1x[:200].sum() / γ_high * 1000"
   ]
  },
  {
   "cell_type": "code",
   "execution_count": null,
   "metadata": {},
   "outputs": [],
   "source": [
    "print('50 years:', exp_avg_response_low * np.sqrt(np.sum(Et_low_1x[: 50]**2)) * σ_n / Et_low_1x[:50].sum() / γ_low * 1000)\n",
    "print('100 years:', exp_avg_response_low * np.sqrt(np.sum(Et_low_1x[: 100]**2)) * σ_n / Et_low_1x[:100].sum() / γ_low * 1000)\n",
    "print('200 years:', exp_avg_response_low * np.sqrt(np.sum(Et_low_1x[: 200]**2)) * σ_n / Et_low_1x[:200].sum() / γ_low * 1000)"
   ]
  },
  {
   "cell_type": "code",
   "execution_count": null,
   "metadata": {},
   "outputs": [],
   "source": [
    "print('50 years:', exp_avg_response_high * np.sqrt(np.sum(Et_high_1x[: 50]**2)) * σ_n / Et_high_1x[:50].sum() / γ_high * 1000)\n",
    "print('100 years:', exp_avg_response_high * np.sqrt(np.sum(Et_high_1x[: 100]**2)) * σ_n / Et_high_1x[:100].sum() / γ_high * 1000)\n",
    "print('200 years:', exp_avg_response_high * np.sqrt(np.sum(Et_high_1x[: 200]**2)) * σ_n / Et_high_1x[:200].sum() / γ_high * 1000)"
   ]
  },
  {
   "cell_type": "code",
   "execution_count": null,
   "metadata": {},
   "outputs": [],
   "source": [
    "# Quasi-anlaytical for std\n",
    "0.3841 / np.sqrt(2)"
   ]
  },
  {
   "cell_type": "code",
   "execution_count": null,
   "metadata": {},
   "outputs": [],
   "source": []
  },
  {
   "cell_type": "code",
   "execution_count": null,
   "metadata": {},
   "outputs": [],
   "source": [
    "# low damage\n",
    "n_path = 25\n",
    "T_plots = 100\n",
    "res_low = np.zeros((n_path, T_plots))\n",
    "for i in range(T_plots):\n",
    "    temp = log_damage_low[:n_path, i] / Et_low_1x[:i+1].sum() / γ_low * 1000\n",
    "    res_low[:, i] = temp\n",
    "    \n",
    "res_high = np.zeros((n_path, T_plots))\n",
    "for i in range(T_plots):\n",
    "    temp = log_damage_high[:n_path, i] / Et_high_1x[:i+1].sum() / γ_low * 1000\n",
    "    res_high[:, i] = temp"
   ]
  },
  {
   "cell_type": "code",
   "execution_count": null,
   "metadata": {},
   "outputs": [],
   "source": [
    "# # Figure 6\n",
    "# fig = go.Figure()\n",
    "\n",
    "# for i in range(n_path):\n",
    "#     fig.add_trace(go.Scatter(y=res_low[i, :],\n",
    "#                         mode='lines'))\n",
    "\n",
    "# fig.update_layout(paper_bgcolor='rgba(0,0,0,0)',\n",
    "#                   plot_bgcolor='rgba(0,0,0,0)',\n",
    "#                   width=800,\n",
    "#                   height=500,\n",
    "#                   legend=dict(yanchor=\"top\",\n",
    "#                               y=1,\n",
    "#                               xanchor=\"right\",\n",
    "#                               x=1)\n",
    "#                  )\n",
    "# fig.update_xaxes(showline=True, linewidth=2, linecolor='black', title_text='Year', range=[0,100])\n",
    "# fig.update_yaxes(showline=True, linewidth=2, linecolor='black')\n",
    "\n",
    "# fig.update_layout(showlegend=False)\n",
    "\n",
    "# fig.write_image(\"25_path_low_damage.pdf\")\n",
    "# fig.show()"
   ]
  },
  {
   "cell_type": "code",
   "execution_count": null,
   "metadata": {},
   "outputs": [],
   "source": [
    "for i in range(n_path):\n",
    "    plt.plot(res_low[i, :])\n",
    "plt.xlim(0,100)\n",
    "plt.xlabel('Year')\n",
    "plt.savefig('25_path_low_damage.png', dpi = 1200)\n",
    "plt.show()"
   ]
  },
  {
   "cell_type": "code",
   "execution_count": null,
   "metadata": {},
   "outputs": [],
   "source": [
    "# # Figure 8\n",
    "# fig = go.Figure()\n",
    "\n",
    "# for i in range(n_path):\n",
    "#     fig.add_trace(go.Scatter(y=res_high[i, :],\n",
    "#                         mode='lines'))\n",
    "\n",
    "# fig.update_layout(paper_bgcolor='rgba(0,0,0,0)',\n",
    "#                   plot_bgcolor='rgba(0,0,0,0)',\n",
    "#                   width=800,\n",
    "#                   height=500,\n",
    "#                   legend=dict(yanchor=\"top\",\n",
    "#                               y=1,\n",
    "#                               xanchor=\"right\",\n",
    "#                               x=1)\n",
    "#                  )\n",
    "# fig.update_xaxes(showline=True, linewidth=2, linecolor='black', title_text='Year', range=[0,100])\n",
    "# fig.update_yaxes(showline=True, linewidth=2, linecolor='black')\n",
    "\n",
    "# fig.update_layout(showlegend=False)\n",
    "\n",
    "# fig.write_image(\"25_path_high_damage.pdf\")\n",
    "# fig.show()"
   ]
  },
  {
   "cell_type": "code",
   "execution_count": null,
   "metadata": {},
   "outputs": [],
   "source": [
    "for i in range(n_path):\n",
    "    plt.plot(res_high[i, :])\n",
    "plt.xlim(0,100)\n",
    "plt.xlabel('Year')\n",
    "plt.savefig('25_path_high_damage.png', dpi = 1200)\n",
    "plt.show()"
   ]
  },
  {
   "cell_type": "code",
   "execution_count": null,
   "metadata": {},
   "outputs": [],
   "source": []
  }
 ],
 "metadata": {
  "kernelspec": {
   "display_name": "Python 3",
   "language": "python",
   "name": "python3"
  },
  "language_info": {
   "codemirror_mode": {
    "name": "ipython",
    "version": 3
   },
   "file_extension": ".py",
   "mimetype": "text/x-python",
   "name": "python",
   "nbconvert_exporter": "python",
   "pygments_lexer": "ipython3",
   "version": "3.8.3"
  }
 },
 "nbformat": 4,
 "nbformat_minor": 4
}
