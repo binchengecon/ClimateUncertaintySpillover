{
 "cells": [
  {
   "cell_type": "code",
   "execution_count": 1,
   "metadata": {},
   "outputs": [],
   "source": [
    "import os, sys\n",
    "sys.path.append(os.path.dirname(os.getcwd()) + '/source')\n",
    "\n",
    "import numpy as np\n",
    "import pandas as pd\n",
    "from model import ode_y, ode_y_jump_approach_one\n",
    "from numba import njit\n",
    "from utilities import find_nearest_value\n",
    "\n",
    "import matplotlib.pyplot as plt\n",
    "import matplotlib as mpl\n",
    "\n",
    "mpl.rcParams['axes.spines.right'] = False\n",
    "mpl.rcParams['axes.spines.top'] = False"
   ]
  },
  {
   "cell_type": "markdown",
   "metadata": {},
   "source": [
    "### Section 1.5\n",
    "Please enter a plot of the $h$’s for your current parameter setting along with the optimized $\\tilde{e}$\n",
    "in comparison to the the case in which ξ is set to a very large number."
   ]
  },
  {
   "cell_type": "code",
   "execution_count": 28,
   "metadata": {},
   "outputs": [
    {
     "name": "stdout",
     "output_type": "stream",
     "text": [
      "Converged. Total iteration 2206: LHS Error: 9.95852462992719e-09; RHS Error 2.400650005582837e-06\n",
      "Converged. Total iteration 2215: LHS Error: 9.959568756517934e-09; RHS Error 2.6318500072685736e-06\n"
     ]
    }
   ],
   "source": [
    "# Section 1.5.1\n",
    "# Plot h and e_tilde, ξ_1m=1./4000, ξ_1m=1000\n",
    "# Turn off smooth ambiguity for climate\n",
    "# Low damage only\n",
    "\n",
    "ξ_1m_list = [1/500, 1000.]\n",
    "ξ_a = 1000.\n",
    "\n",
    "η = .032\n",
    "δ = .01\n",
    "\n",
    "θ = pd.read_csv('../data/model144.csv', header=None).to_numpy()[:, 0]/1000.\n",
    "πc_o = np.ones_like(θ)/len(θ)\n",
    "σ_y = 1.2*1.86/1000\n",
    "\n",
    "y_bar = 2.\n",
    "γ_1 = 1.7675/10000\n",
    "γ_2 = .0022*2\n",
    "γ_2p = 0  # low damage\n",
    "\n",
    "n_y = 100\n",
    "y_min = 1e-10\n",
    "y_max = 10\n",
    "y_grid = np.linspace(y_min, y_max, n_y)\n",
    "\n",
    "e_tilde_list = []\n",
    "h_list = []\n",
    "for ξ_1m in ξ_1m_list:\n",
    "    model_paras = (η, δ, θ, πc_o, σ_y, ξ_1m, ξ_a, γ_1, γ_2, γ_2p, y_bar) \n",
    "    model_res = ode_y(y_grid, model_paras, v0=None, ϵ=.5, tol=1e-8, max_iter=5_000, print_all=False)\n",
    "    v0 = model_res['v0']\n",
    "    e_tilde = model_res['e_tilde']\n",
    "    h = 1./ξ_1m * (-model_res['v0_dy'] + (1-η)*model_res['d_Λ']) * e_tilde * σ_y\n",
    "    e_tilde_list.append(e_tilde)\n",
    "    h_list.append(h)"
   ]
  },
  {
   "cell_type": "code",
   "execution_count": 29,
   "metadata": {},
   "outputs": [],
   "source": [
    "def simulation(y_grid, e_grid, h_grid, θ=1.86/1000., y_start=.5394, T=100):\n",
    "    Et = np.zeros(T+1)\n",
    "    yt = np.zeros(T+1)\n",
    "    ht = np.zeros(T+1)\n",
    "    for i in range(T+1):\n",
    "        Et[i] = np.interp(y_start, y_grid, e_grid)\n",
    "        ht[i] = np.interp(y_start, y_grid, h_grid)\n",
    "        yt[i] = y_start\n",
    "        y_start = y_start + Et[i]*θ\n",
    "    return Et, yt, ht"
   ]
  },
  {
   "cell_type": "code",
   "execution_count": 30,
   "metadata": {},
   "outputs": [
    {
     "data": {
      "image/png": "[encoded data removed]",
      "text/plain": [
       "<Figure size 864x288 with 2 Axes>"
      ]
     },
     "metadata": {
      "needs_background": "light"
     },
     "output_type": "display_data"
    }
   ],
   "source": [
    "et_tilde_distorted, yt_distorted, ht_distorted\\\n",
    "    = simulation(y_grid, e_tilde_list[0], h_list[0], θ=1.86/1000., y_start=.5394, T=100)\n",
    "et_tilde_baseline, yt_baseline, ht_baseline\\\n",
    "    = simulation(y_grid, e_tilde_list[1], h_list[1], θ=1.86/1000., y_start=.5394, T=100)\n",
    "\n",
    "fig, (ax1, ax2) = plt.subplots(1, 2,figsize=(12,4))\n",
    "ax1.plot(ht_distorted, color='C3', label=r'$\\xi_m = .00128$', linewidth=2.)\n",
    "ax1.plot(ht_baseline, color='C0', label=r'$\\xi_m = 1000$', linewidth=2.)\n",
    "ax1.set_xlabel('Years', fontsize=13)\n",
    "ax1.set_ylabel('h', fontsize=13)\n",
    "ax1.legend(frameon=False, loc=(0.65,.7))\n",
    "ax1.set_ylim(-0.01, 0.25)\n",
    "\n",
    "ax2.plot(et_tilde_distorted, color='C3', label=r'$\\xi_m = .00128$', linewidth=2.)\n",
    "ax2.plot(et_tilde_baseline, color='C0', label=r'$\\xi_m = 1000$', linewidth=2.)\n",
    "ax2.set_xlabel('Years', fontsize=13)\n",
    "ax2.set_ylabel(r'$\\tilde{e}$', fontsize=13)\n",
    "ax2.legend(frameon=False, loc=(0.65,.7))\n",
    "ax2.set_ylim(6., 16.)\n",
    "\n",
    "fig.savefig('../plots/figure_1.pdf')"
   ]
  },
  {
   "cell_type": "code",
   "execution_count": 31,
   "metadata": {},
   "outputs": [
    {
     "data": {
      "text/plain": [
       "array([0.16131672, 0.16130743, 0.1612982 , 0.16128923, 0.16128087,\n",
       "       0.16127256, 0.1612643 , 0.1612561 , 0.16124861, 0.16124116,\n",
       "       0.16123376, 0.1612264 , 0.16121948, 0.16121279, 0.16120614,\n",
       "       0.16119953, 0.16119306, 0.16118705, 0.16118107, 0.16117512,\n",
       "       0.16116921, 0.16116361, 0.16115822, 0.16115286, 0.16114753,\n",
       "       0.16114223, 0.16113733, 0.16113249, 0.16112768, 0.16112289,\n",
       "       0.16111816, 0.16111379, 0.16110944, 0.16110511, 0.16110081,\n",
       "       0.16109657, 0.16109263, 0.16108871, 0.16108481, 0.16108093,\n",
       "       0.1610771 , 0.16107354, 0.16107001, 0.16106648, 0.16106298,\n",
       "       0.16105949, 0.16105626, 0.16105306, 0.16104988, 0.16104671,\n",
       "       0.16104355, 0.16104056, 0.16103766, 0.16103478, 0.16103191,\n",
       "       0.16102905, 0.16102625, 0.16102362, 0.16102101, 0.1610184 ,\n",
       "       0.16101581, 0.16101322, 0.16101078, 0.16100841, 0.16100604,\n",
       "       0.16100368, 0.16100134, 0.160999  , 0.16099684, 0.16099469,\n",
       "       0.16099255, 0.16099041, 0.16098829, 0.1609862 , 0.16098424,\n",
       "       0.16098229, 0.16098035, 0.16097841, 0.16097648, 0.1609746 ,\n",
       "       0.16097282, 0.16097104, 0.16096928, 0.16096751, 0.16096576,\n",
       "       0.16096405, 0.16096243, 0.16096081, 0.1609592 , 0.1609576 ,\n",
       "       0.160956  , 0.16095442, 0.16095294, 0.16095147, 0.16095001,\n",
       "       0.16094854, 0.16094709, 0.16094563, 0.16094427, 0.16094293,\n",
       "       0.16094159])"
      ]
     },
     "execution_count": 31,
     "metadata": {},
     "output_type": "execute_result"
    }
   ],
   "source": [
    "ht_distorted"
   ]
  },
  {
   "cell_type": "markdown",
   "metadata": {},
   "source": [
    "### Section 1.6\n",
    "Han and Suri, drop the $h$ and only consider the smooth ambiguity. Use an ambiguity parameter as in Barnett, Brock and Hansen. Plot the distorted histograms from the climate models along with an emissions comparison with and without ambiguity aversion. Produce calculations for each of the three damage functions."
   ]
  },
  {
   "cell_type": "code",
   "execution_count": 19,
   "metadata": {},
   "outputs": [
    {
     "name": "stdout",
     "output_type": "stream",
     "text": [
      "Converged. Total iteration 1773: LHS Error: 9.963058163198202e-09; RHS Error 5.932364784177145e-06\n",
      "Converged. Total iteration 2025: LHS Error: 9.96393594021594e-09; RHS Error 8.77890593556054e-06\n",
      "Converged. Total iteration 2334: LHS Error: 9.967605907323929e-09; RHS Error 3.096359347256876e-05\n",
      "Converged. Total iteration 1753: LHS Error: 9.972083891279793e-09; RHS Error 5.984550037635775e-06\n",
      "Converged. Total iteration 2017: LHS Error: 9.9533521702444e-09; RHS Error 8.781178279204302e-06\n",
      "Converged. Total iteration 2333: LHS Error: 9.975482107016376e-09; RHS Error 3.177631071494218e-05\n"
     ]
    }
   ],
   "source": [
    "# Section 1.5.1\n",
    "# Plot πc and e_tilde, 1) ξ_1a=1./4000, ξ_1a=1000 2) three damages\n",
    "# Turn off misspecification\n",
    "\n",
    "ξ_1m = 1000.\n",
    "ξ_a_list = [1./4000, 1000]\n",
    "\n",
    "η = .032\n",
    "δ = .01\n",
    "\n",
    "θ = pd.read_csv('../data/model144.csv', header=None).to_numpy()[:, 0]/1000.\n",
    "πc_o = np.ones_like(θ)/len(θ)\n",
    "# σ_y = 1.2*1.86/1000\n",
    "σ_y = 0.\n",
    "\n",
    "y_bar = 2.\n",
    "γ_1 = 1.7675/10000\n",
    "γ_2 = .0022*2\n",
    "γ_2p_list = [.0197, .0197*2, .3853*2]  # three damages\n",
    "\n",
    "n_y = 100\n",
    "y_min = 1e-10\n",
    "y_max = 10\n",
    "y_grid = np.linspace(y_min, y_max, n_y)\n",
    "\n",
    "e_tilde_list = []\n",
    "πc_list = []\n",
    "for ξ_a in ξ_a_list:\n",
    "    e_tilde_list_temp = []\n",
    "    πc_list_temp = []\n",
    "    for γ_2p in γ_2p_list:\n",
    "        model_paras = (η, δ, θ, πc_o, σ_y, ξ_1m, ξ_a, γ_1, γ_2, γ_2p, y_bar) \n",
    "        model_res = ode_y(y_grid, model_paras, v0=None, ϵ=.5, tol=1e-8, max_iter=10_000, print_all=False)\n",
    "        e_tilde_list_temp.append(model_res['e_tilde'])\n",
    "        πc_list_temp.append(model_res['πc'])\n",
    "    e_tilde_list.append(e_tilde_list_temp)\n",
    "    πc_list.append(πc_list_temp)"
   ]
  },
  {
   "cell_type": "code",
   "execution_count": 20,
   "metadata": {},
   "outputs": [],
   "source": [
    "et_tilde_distorted_low, yt_distorted_low, _\\\n",
    "    = simulation(y_grid, e_tilde_list[0][0], np.zeros_like(y_grid), θ=1.86/1000., y_start=.5394, T=100)\n",
    "et_tilde_distorted_high, yt_distorted_high, _\\\n",
    "    = simulation(y_grid, e_tilde_list[0][1], np.zeros_like(y_grid), θ=1.86/1000., y_start=.5394, T=100)\n",
    "et_tilde_distorted_extreme, yt_distorted_extreme, _\\\n",
    "    = simulation(y_grid, e_tilde_list[0][2], np.zeros_like(y_grid), θ=1.86/1000., y_start=.5394, T=100)\n",
    "\n",
    "et_tilde_baseline_low, yt_baseline_low, _\\\n",
    "    = simulation(y_grid, e_tilde_list[1][0], np.zeros_like(y_grid), θ=1.86/1000., y_start=.5394, T=100)\n",
    "et_tilde_baseline_high, yt_baseline_high, _\\\n",
    "    = simulation(y_grid, e_tilde_list[1][1], np.zeros_like(y_grid), θ=1.86/1000., y_start=.5394, T=100)\n",
    "et_tilde_baseline_extreme, yt_baseline_extreme, _\\\n",
    "    = simulation(y_grid, e_tilde_list[1][2], np.zeros_like(y_grid), θ=1.86/1000., y_start=.5394, T=100)"
   ]
  },
  {
   "cell_type": "code",
   "execution_count": 21,
   "metadata": {},
   "outputs": [],
   "source": [
    "def draw_from_distribution(θ, π, num=100_000):\n",
    "    res = np.zeros(num)\n",
    "    start = 0\n",
    "    for i in range(len(π)):\n",
    "        end = start + int(π[i]*num)\n",
    "        res[start:end] = θ[i]\n",
    "        start = end\n",
    "    return res[res!=0]"
   ]
  },
  {
   "cell_type": "code",
   "execution_count": 22,
   "metadata": {},
   "outputs": [
    {
     "data": {
      "image/png": "[encoded data removed]",
      "text/plain": [
       "<Figure size 864x288 with 2 Axes>"
      ]
     },
     "metadata": {
      "needs_background": "light"
     },
     "output_type": "display_data"
    }
   ],
   "source": [
    "def plot_two(θ, y_grid, yt_distorted, πc_distorted, et_tilde_distorted, et_tilde_baseline, path):\n",
    "    fig, (ax1, ax2) = plt.subplots(1, 2,figsize=(12,4))\n",
    "    loc = find_nearest_value(y_grid, yt_distorted[100]) # histogram at year 100\n",
    "    θ_distorted = draw_from_distribution(θ*1000, πc_distorted[:, loc], num=100_000)\n",
    "    ax1.hist(θ_distorted, bins=15, color='salmon', histtype='bar', ec='gray', density=True)\n",
    "    ax1.set_xlabel('Climate sensitivity', fontsize=13)\n",
    "    ax1.set_ylabel('Distorted density (year 100)', fontsize=13)\n",
    "\n",
    "    ax2.plot(et_tilde_distorted, color='C3', label=r'$\\xi_a = 1./4000$', linewidth=2.)\n",
    "    ax2.plot(et_tilde_baseline, color='C0', label='ambiguity neutral', linewidth=2.)\n",
    "    ax2.set_xlabel('Years', fontsize=13)\n",
    "    ax2.set_ylabel(r'$\\tilde{e}$', fontsize=13)\n",
    "    ax2.legend(frameon=False, loc='upper right')\n",
    "    ax2.set_ylim(2, 16)\n",
    "\n",
    "    fig.savefig(path)\n",
    "\n",
    "plot_two(θ, y_grid, yt_distorted_low, πc_list[0][0], et_tilde_distorted_low, et_tilde_baseline_low,\n",
    "         path='../plots/figure_2_low_damage.pdf')\n",
    "# plot_two(θ, y_grid, yt_distorted_high, πc_list[0][1], et_tilde_distorted_high, et_tilde_baseline_high,\n",
    "#          path='../plots/figure_2_high_damage.pdf')\n",
    "# plot_two(θ, y_grid, yt_distorted_extreme, πc_list[0][2], et_tilde_distorted_extreme, et_tilde_baseline_extreme,\n",
    "#          path='../plots/figure_2_extreme_damage.pdf')"
   ]
  },
  {
   "cell_type": "markdown",
   "metadata": {},
   "source": [
    "### Section 1.7\n",
    "Han and Suri, Try $\\xi_m = .1$ and equal baseline probabilities for each of the three damage specifications. Do this for approach one. Please plot both the distorted probabilities and the proportionate shift in the intensity probabilities. Try a small value of $\\xi$. We can adjust this later. Also plot the emissions trajectory in comparison to setting $\\xi_m$ very large."
   ]
  },
  {
   "cell_type": "code",
   "execution_count": null,
   "metadata": {},
   "outputs": [],
   "source": [
    "ξ_1m = 1000.\n",
    "ξ_2m_list = [.1, 1000]\n",
    "# ξ_a = 1./4000\n",
    "ξ_a = 1000\n",
    "\n",
    "η = .032\n",
    "δ = .01\n",
    "\n",
    "θ = pd.read_csv('../data/model144.csv', header=None).to_numpy()[:, 0]/1000.\n",
    "πc_o = np.ones_like(θ)/len(θ)\n",
    "σ_y = 1.2*1.86/1000\n",
    "\n",
    "y_bar = 2.\n",
    "γ_1 = 1.7675/10000\n",
    "γ_2 = .0022*2\n",
    "γ_2p = np.array([0, .0197*2, .3853*2])\n",
    "πd_o = np.array([.475, .475, .05])\n",
    "\n",
    "n_y = 100\n",
    "y_grid_long = np.linspace(1e-10, 10, n_y)\n",
    "y_grid_short = np.linspace(1e-10, 2, n_y)"
   ]
  },
  {
   "cell_type": "code",
   "execution_count": null,
   "metadata": {},
   "outputs": [],
   "source": [
    "e_tilde_list = []\n",
    "πd_list = []\n",
    "g_list = []\n",
    "for ξ_2m in ξ_2m_list:\n",
    "    # Prepare ϕ_i\n",
    "    ϕ_list = []\n",
    "    for γ_2p_i in γ_2p:\n",
    "        model_paras = (η, δ, θ, πc_o, σ_y, ξ_1m, ξ_a, γ_1, γ_2, γ_2p_i, y_bar) \n",
    "        model_res = ode_y(y_grid_long, model_paras, v0=None, ϵ=.5,\n",
    "                           tol=1e-8, max_iter=5_000, print_all=False)\n",
    "        ϕ_list.append(model_res['v0'])\n",
    "\n",
    "    ϕ_list_short = []\n",
    "    for ϕ_i in ϕ_list:\n",
    "        temp = np.interp(y_grid_short, y_grid_long, ϕ_i)\n",
    "        ϕ_list_short.append(temp)\n",
    "    ϕ_i = np.array(ϕ_list_short)\n",
    "\n",
    "    # Compute ϕ\n",
    "    ς = .1\n",
    "    model_paras = (η, δ, θ, πc_o, σ_y, ξ_1m, ξ_2m, ξ_a, ς, γ_1, γ_2, y_bar, ϕ_i, πd_o)\n",
    "    ϕ, e_tilde, πc, c_entropy, g = ode_y_jump_approach_one(y_grid_short, model_paras, v0=np.average(ϕ_i, axis=0, weights=πd_o),\n",
    "                                                        ϵ=.5, tol=1e-8, max_iter=10_000, print_all=False)\n",
    "\n",
    "    # Compute worst case probabilities\n",
    "    πd_o_reshape = np.zeros((len(πd_o), len(y_grid_short)))\n",
    "    for i in range(πd_o_reshape.shape[0]):\n",
    "        πd_o_reshape[i] = πd_o[i]\n",
    "    πd = [np.exp(1./ξ_2m*(ϕ-ϕ_i[i])) * πd_o[i] for i in range(len(πd_o))]\n",
    "    πd = np.array(πd)\n",
    "    \n",
    "    e_tilde_list.append(e_tilde)\n",
    "    πd_list.append(πd)\n",
    "    g_list.append(g)"
   ]
  },
  {
   "cell_type": "code",
   "execution_count": null,
   "metadata": {},
   "outputs": [],
   "source": [
    "def simulation_jump(y_grid, e_grid, π_grid, g_grid, θ=1.86/1000., y_start=.5394, T=50):\n",
    "    Et = np.zeros(T+1)\n",
    "    πt = np.zeros((len(π_grid), T+1))\n",
    "    yt = np.zeros(T+1)\n",
    "    gt = np.zeros_like(πt)\n",
    "    for i in range(T+1):\n",
    "        Et[i] = np.interp(y_start, y_grid, e_grid)\n",
    "        for n in range(πt.shape[0]):\n",
    "            πt[n, i] = np.interp(y_start, y_grid, π_grid[n])\n",
    "            gt[n, i] = np.interp(y_start, y_grid, g_grid[n])\n",
    "        yt[i] = y_start\n",
    "        y_start = y_start + Et[i]*θ\n",
    "    return Et, yt, πt, gt"
   ]
  },
  {
   "cell_type": "code",
   "execution_count": null,
   "metadata": {},
   "outputs": [],
   "source": [
    "et_tilde_distorted, yt_distorted, πt_distorted, gt_distorted\\\n",
    "    = simulation_jump(y_grid_short, e_tilde_list[0], πd_list[0], g_list[0], θ=1.86/1000., y_start=.5394, T=80)\n",
    "et_tilde_baseline, yt_baseline, πt_baseline, gt_baseline\\\n",
    "    = simulation_jump(y_grid_short, e_tilde_list[1], πd_list[1], g_list[1], θ=1.86/1000., y_start=.5394, T=80)\n",
    "\n",
    "ι_y = np.average(gt_distorted, axis=0, weights=πd_o)\n",
    "\n",
    "fig, (ax1, ax2) = plt.subplots(1, 2,figsize=(12,4))\n",
    "ax1.plot(πt_distorted[0]/ι_y, color='C3', label='low damage', linewidth=2.)\n",
    "ax1.plot(πt_distorted[1]/ι_y, color='C0', label='high damage', linewidth=2.)\n",
    "ax1.plot(πt_distorted[2]/ι_y, color='C1', label='extreme damage', linewidth=2.)\n",
    "ax1.set_xlabel('Years', fontsize=13)\n",
    "ax1.set_ylabel('Distorted probability', fontsize=13)\n",
    "ax1.legend(frameon=False)\n",
    "ax1.set_ylim(0, .6)\n",
    "\n",
    "ax2.plot(ι_y, color='black', linewidth=2.)\n",
    "ax2.set_xlabel('Years', fontsize=13)\n",
    "ax2.set_ylabel('Proportional change in intensity', fontsize=13)\n",
    "ax2.set_ylim(.98, 1.)\n",
    "\n",
    "fig.savefig('../plots/figure_3.pdf')"
   ]
  },
  {
   "cell_type": "code",
   "execution_count": null,
   "metadata": {},
   "outputs": [],
   "source": [
    "plt.figure(figsize=(8, 5))\n",
    "plt.plot(et_tilde_distorted, color='C3', label=r'$\\xi_m = .1$', linewidth=2.)\n",
    "plt.plot(et_tilde_baseline, color='C0', label=r'$\\xi_m = 1000$', linewidth=2.)\n",
    "plt.xlabel('Years', fontsize=13)\n",
    "plt.ylabel(r'$\\tilde{e}$', fontsize=13)\n",
    "plt.legend(frameon=False)\n",
    "plt.ylim(2., 16.)\n",
    "plt.savefig('../plots/figure_4.pdf')"
   ]
  },
  {
   "cell_type": "code",
   "execution_count": null,
   "metadata": {},
   "outputs": [],
   "source": []
  }
 ],
 "metadata": {
  "kernelspec": {
   "display_name": "Python 3",
   "language": "python",
   "name": "python3"
  },
  "language_info": {
   "codemirror_mode": {
    "name": "ipython",
    "version": 3
   },
   "file_extension": ".py",
   "mimetype": "text/x-python",
   "name": "python",
   "nbconvert_exporter": "python",
   "pygments_lexer": "ipython3",
   "version": "3.8.5"
  }
 },
 "nbformat": 4,
 "nbformat_minor": 4
}
