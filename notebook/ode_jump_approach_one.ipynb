{
 "cells": [
  {
   "cell_type": "code",
   "execution_count": 1,
   "metadata": {},
   "outputs": [],
   "source": [
    "import os, sys\n",
    "sys.path.append(os.path.dirname(os.getcwd()) + '/source')\n",
    "\n",
    "import numpy as np\n",
    "import pandas as pd\n",
    "import matplotlib.pyplot as plt\n",
    "from model import ode_y, ode_y_jump_approach_one\n",
    "from numba import njit"
   ]
  },
  {
   "cell_type": "markdown",
   "metadata": {},
   "source": [
    "**ODE for y on (0, 2)**:\n",
    "\\begin{align*}\n",
    "0 = \\max_{\\tilde{e}} \\min_h &  -\\delta \\phi(y) + \\delta \\eta \\log \\tilde{e} \\\\\n",
    "&+ \\frac{d\\phi(y)}{dy}\\tilde{e}(\\sum_{i=1}^n \\pi_i^c \\theta_i\\ + \\sigma_y \\cdot h) + \\frac{1}{2} \\frac{d^2 \\phi(y)}{(d y)^2}|\\sigma_y|^2(\\tilde{e})^2\\\\\n",
    "&+ (\\eta-1)(\\gamma_1 + \\gamma_2 y)\\tilde{e}(\\sum_{i=1}^n \\pi_i^c \\theta_i\\ + \\sigma_y \\cdot h)\\\\\n",
    "& +\\frac{\\xi_{1,m}}{2}h^\\prime h + \\xi_a\\sum_{i=1}^{n} \\pi_i^c(\\log \\pi_i^c - \\log \\hat{\\pi}_i^c)\\\\\n",
    "& + \\mathcal{I}(y) \\sum_{j=1}^m \\hat{\\pi}_j^d g_j [\\phi_j(y)-\\phi(y)] + \\xi_{2,m} \\mathcal{I}(y)\\sum_{j=1}^m \\hat{\\pi}_j^d \\left[1- g_j + g_j \\log g_j\\right]\n",
    "\\end{align*}\n",
    "\n",
    "where\n",
    "$$\n",
    "\\mathcal{I}(y) = \\frac{1}{\\sqrt{2\\pi}\\varsigma}\\exp\\{-\\frac{(\\bar{y}-y)^2}{2\\varsigma^2}\\}\n",
    "$$\n",
    "\n",
    "The FOC of $h$ gives:\n",
    "$$\n",
    "h^* = -\\frac{\\left(\\frac{d\\phi(y)}{dy} + (\\eta-1)(\\gamma_1 + \\gamma_2 y )\\right)\\tilde{e}\\sigma_y}{\\xi_{1,m}}\n",
    "$$\n",
    "\n",
    "\n",
    "Substitute $h$ with $h^*$ in the ODE:\n",
    "\n",
    "\\begin{align*}\n",
    "0 = \\max_{\\tilde{e}} & -\\delta \\phi(y) + \\delta \\eta \\log \\tilde{e} \\\\\n",
    "& + G(y)\\tilde{e}\\sum_{i=1}^n \\pi^c_i\\theta_i + \\frac{1}{2} \\left(\\frac{d^2 \\phi(y)}{(d y)^2}-\\frac{G^2(y)}{\\xi_{1,m}}\\right)|\\sigma_y|^2(\\tilde{e})^2\\\\\n",
    "&+ \\xi_a\\sum_{i=1}^{n} \\pi_i^c(\\log \\pi_i^c - \\log \\hat{\\pi}_i^c)\\\\\n",
    "& + \\mathcal{I}(y) \\sum_{j=1}^m \\hat{\\pi}_j^d g_j [\\phi_j(y)-\\phi(y)] + \\xi_{2,m} \\mathcal{I}(y)\\sum_{j=1}^m \\hat{\\pi}_j^d \\left[1- g_j + g_j \\log g_j\\right]\n",
    "\\end{align*}\n",
    "\n",
    "where $G(y):=\\frac{d\\phi(y)}{dy} + (\\eta-1)(\\gamma_1 + \\gamma_2 y)$\n",
    "\n",
    "The FOC of $\\tilde{e}$ gives:\n",
    "$$\n",
    "\\tilde{e}^* = \\frac{-\\sum_{i=1}^n\\pi^c_i \\theta_i G(y) + \\sqrt{\\left(\\sum_{i=1}^n \\pi_i^c \\theta_i\\right)^2G^2(y)-4\\delta \\eta |\\sigma_y|^2\\left(\\frac{d^2\\phi(y)}{(dy)^2}-\\frac{G^2(y)}{\\xi_m}\\right)}}{2|\\sigma_y|^2\\left(\\frac{d^2\\phi(y)}{(dy)^2}-\\frac{G^2(y)}{\\xi_{1,m}}\\right)}\n",
    "$$\n",
    "\n",
    "In addition, the FOC of $\\pi^c_i$ gives:\n",
    "$$\n",
    "\\pi_i^c \\propto \\exp \\left[-\\frac{1}{\\xi_a}G(y)\\tilde{e}\\theta_i\\right]\\hat{\\pi}^c_i\n",
    "$$\n",
    "\n",
    "The FOC of $g_j$ gives:\n",
    "$$\n",
    "g_j = \\exp \\left(-\\frac{1}{\\xi_m}[\\phi_j(y)-\\phi(y)]\\right)\n",
    "$$"
   ]
  },
  {
   "cell_type": "code",
   "execution_count": 53,
   "metadata": {},
   "outputs": [],
   "source": [
    "ξ_1m = 1./4000\n",
    "ξ_2m = 1./50\n",
    "ξ_a = 1./4000\n",
    "\n",
    "η = .032\n",
    "δ = .01\n",
    "\n",
    "θ = pd.read_csv('../data/model144.csv', header=None).to_numpy()[:, 0]/1000.\n",
    "πc_o = np.ones_like(θ)/len(θ)\n",
    "σ_y = 1.2*1.86/1000\n",
    "\n",
    "y_bar = 2.\n",
    "γ_1 = 1.7675/10000\n",
    "γ_2 = .0022*2\n",
    "γ_2p = np.array([0, .0197*2])\n",
    "πd_o = np.array([.5, .5])\n",
    "# γ_2p = np.array([0, .0197*2, .3853*2])\n",
    "# πd_o = np.array([.475, .475, .05])\n",
    "\n",
    "n_y = 100\n",
    "y_grid_long = np.linspace(1e-10, 10, n_y)\n",
    "y_grid_short = np.linspace(1e-10, 2, n_y)"
   ]
  },
  {
   "cell_type": "code",
   "execution_count": 54,
   "metadata": {},
   "outputs": [
    {
     "name": "stdout",
     "output_type": "stream",
     "text": [
      "Converged. Total iteration 2168: LHS Error: 9.96031414204207e-09; RHS Error 1.8059228807472058e-06\n",
      "Converged. Total iteration 2111: LHS Error: 9.987726881655057e-09; RHS Error 4.681040526450554e-06\n"
     ]
    }
   ],
   "source": [
    "# Prepare ϕ\n",
    "ϕ_list = []\n",
    "for γ_2p_i in γ_2p:\n",
    "    model_paras = (η, δ, θ, πc_o, σ_y, ξ_1m, ξ_a, γ_1, γ_2, γ_2p_i, y_bar) \n",
    "    ϕ, _, _, _ = ode_y(y_grid_long, model_paras, v0=None, ϵ=.5,\n",
    "                       tol=1e-8, max_iter=5_000, print_all=False)\n",
    "    ϕ_list.append(ϕ)\n",
    "\n",
    "ϕ_list_short = []\n",
    "for ϕ_i in ϕ_list:\n",
    "    temp = np.interp(y_grid_short, y_grid_long, ϕ_i)\n",
    "    ϕ_list_short.append(temp)\n",
    "ϕ_i = np.array(ϕ_list_short)"
   ]
  },
  {
   "cell_type": "code",
   "execution_count": 76,
   "metadata": {},
   "outputs": [
    {
     "name": "stdout",
     "output_type": "stream",
     "text": [
      "Converged. Total iteration 395: LHS Error: 8.97590626824929e-09; RHS Error 3.890210548619655e-06\n"
     ]
    }
   ],
   "source": [
    "# Compute ϕ\n",
    "ς = .1\n",
    "model_paras = (η, δ, θ, πc_o, σ_y, ξ_1m, ξ_2m, ξ_a, ς, γ_1, γ_2, y_bar, ϕ_i, πd_o)\n",
    "ϕ, e_tilde, πc, c_entropy, g = ode_y_jump_approach_one(y_grid_short, model_paras, v0=np.average(ϕ_i, axis=0, weights=πd_o),\n",
    "                                                    ϵ=.5, tol=1e-8, max_iter=10_000, print_all=False)"
   ]
  },
  {
   "cell_type": "code",
   "execution_count": 81,
   "metadata": {},
   "outputs": [],
   "source": [
    "# Compute worst case probabilities\n",
    "πd_o_reshape = np.zeros((len(πd_o), len(y_grid_short)))\n",
    "for i in range(πd_o_reshape.shape[0]):\n",
    "    πd_o_reshape[i] = πd_o[i]\n",
    "πd = [np.exp(1./ξ_2m*(ϕ-ϕ_i[i])) * πd_o[i] for i in range(len(πd_o))]\n",
    "πd = np.array(πd)"
   ]
  },
  {
   "cell_type": "code",
   "execution_count": 82,
   "metadata": {},
   "outputs": [],
   "source": [
    "def simulation(y_grid, e_grid, π_grid, g_grid, θ=1.86/1000., y_start=.5394, T=50):\n",
    "    Et = np.zeros(T+1)\n",
    "    πt = np.zeros((len(π_grid), T+1))\n",
    "    yt = np.zeros(T+1)\n",
    "    gt = np.zeros_like(πt)\n",
    "    for i in range(T+1):\n",
    "        Et[i] = np.interp(y_start, y_grid, e_grid)\n",
    "        for n in range(πt.shape[0]):\n",
    "            πt[n, i] = np.interp(y_start, y_grid, π_grid[n])\n",
    "            gt[n, i] = np.interp(y_start, y_grid, g_grid[n])\n",
    "        yt[i] = y_start\n",
    "        y_start = y_start + Et[i]*θ\n",
    "    return Et, yt, πt, gt"
   ]
  },
  {
   "cell_type": "code",
   "execution_count": 83,
   "metadata": {},
   "outputs": [],
   "source": [
    "Et, yt, πt, gt = simulation(y_grid_short, e_tilde, πd, g, θ=1.86/1000., y_start=.5394, T=180)"
   ]
  },
  {
   "cell_type": "code",
   "execution_count": 84,
   "metadata": {},
   "outputs": [
    {
     "data": {
      "image/png": "[encoded data removed]",
      "text/plain": [
       "<Figure size 432x288 with 1 Axes>"
      ]
     },
     "metadata": {
      "needs_background": "light"
     },
     "output_type": "display_data"
    }
   ],
   "source": [
    "plt.plot(np.average(gt, axis=0, weights=πd_o))\n",
    "plt.title('Approach one: proportional change in intensity')\n",
    "plt.xlabel('Year')\n",
    "plt.savefig('plot.pdf')"
   ]
  },
  {
   "cell_type": "code",
   "execution_count": 86,
   "metadata": {},
   "outputs": [
    {
     "data": {
      "image/png": "[encoded data removed]",
      "text/plain": [
       "<Figure size 432x288 with 1 Axes>"
      ]
     },
     "metadata": {
      "needs_background": "light"
     },
     "output_type": "display_data"
    }
   ],
   "source": [
    "plt.plot(πt[0], label='approach one')\n",
    "# plt.plot(check[0], label='approach two')\n",
    "plt.ylim(0, 0.5)\n",
    "plt.title('Worst-case probability of low damage')\n",
    "plt.legend()\n",
    "plt.xlabel('Year')\n",
    "plt.savefig('plot.pdf')"
   ]
  },
  {
   "cell_type": "code",
   "execution_count": 43,
   "metadata": {},
   "outputs": [
    {
     "data": {
      "text/plain": [
       "Text(0.5, 0, 'Year')"
      ]
     },
     "execution_count": 43,
     "metadata": {},
     "output_type": "execute_result"
    },
    {
     "data": {
      "image/png": "[encoded data removed]",
      "text/plain": [
       "<Figure size 432x288 with 1 Axes>"
      ]
     },
     "metadata": {
      "needs_background": "light"
     },
     "output_type": "display_data"
    }
   ],
   "source": [
    "plt.plot(yt)\n",
    "plt.title('y')\n",
    "plt.xlabel('Year')"
   ]
  },
  {
   "cell_type": "code",
   "execution_count": 48,
   "metadata": {},
   "outputs": [
    {
     "data": {
      "text/plain": [
       "1.9967840282491376"
      ]
     },
     "execution_count": 48,
     "metadata": {},
     "output_type": "execute_result"
    }
   ],
   "source": [
    "yt[-8]"
   ]
  }
 ],
 "metadata": {
  "kernelspec": {
   "display_name": "Python 3",
   "language": "python",
   "name": "python3"
  },
  "language_info": {
   "codemirror_mode": {
    "name": "ipython",
    "version": 3
   },
   "file_extension": ".py",
   "mimetype": "text/x-python",
   "name": "python",
   "nbconvert_exporter": "python",
   "pygments_lexer": "ipython3",
   "version": "3.8.5"
  }
 },
 "nbformat": 4,
 "nbformat_minor": 4
}
