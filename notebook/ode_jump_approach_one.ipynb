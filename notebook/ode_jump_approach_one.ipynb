{
 "cells": [
  {
   "cell_type": "code",
   "execution_count": 1,
   "metadata": {},
   "outputs": [],
   "source": [
    "import os, sys\n",
    "sys.path.append(os.path.dirname(os.getcwd()) + '/source')\n",
    "\n",
    "import numpy as np\n",
    "import pandas as pd\n",
    "import matplotlib.pyplot as plt\n",
    "from model import ode_y, ode_y_jump_approach_one\n",
    "from numba import njit"
   ]
  },
  {
   "cell_type": "markdown",
   "metadata": {},
   "source": [
    "**ODE for y on (0, 2)**:\n",
    "\\begin{align*}\n",
    "0 = \\max_{\\tilde{e}} \\min_h &  -\\delta \\phi(y) + \\delta \\eta \\log \\tilde{e} \\\\\n",
    "&+ \\frac{d\\phi(y)}{dy}\\tilde{e}(\\theta + \\sigma_y \\cdot h) + \\frac{1}{2} \\frac{d^2 \\phi(y)}{(d y)^2}|\\sigma_y|^2(\\tilde{e})^2\\\\\n",
    "&+ (\\eta-1)(\\gamma_1 + \\gamma_2 y)\\tilde{e}(\\theta + \\sigma_y \\cdot h)\\\\\n",
    "& +\\frac{\\xi_{1,m}}{2}h^\\prime h -\\xi_{2,m} \\mathcal{I}(y) \\log\\sum_{j=1}^m \\hat{\\pi}_j^d \\exp\\left(\\frac{1}{\\xi_{2,m}}\\left[\\phi(y)-\\phi_j(y)\\right]\\right)\\\\\n",
    "\\end{align*}\n",
    "\n",
    "where\n",
    "$$\n",
    "\\mathcal{I}(y) = \\frac{1}{\\sqrt{2\\pi}\\varsigma}\\exp\\{-\\frac{(\\bar{y}-y)^2}{2\\varsigma^2}\\}\n",
    "$$\n",
    "The FOC of $h$ gives:\n",
    "$$\n",
    "h^* = -\\frac{\\left(\\frac{d\\phi(y)}{dy} + (\\eta-1)(\\gamma_1 + \\gamma_2 y )\\right)\\tilde{e}\\sigma_y}{\\xi_{1,m}}\n",
    "$$\n",
    "\n",
    "\n",
    "Substitute $h$ with $h^*$ in the ODE:\n",
    "\n",
    "\\begin{align*}\n",
    "0 = \\max_{\\tilde{e}} & -\\delta \\phi(y) + \\delta \\eta \\log \\tilde{e} \\\\\n",
    "& + G(y)\\tilde{e}\\theta + \\frac{1}{2} \\left(\\frac{d^2 \\phi(y)}{(d y)^2}-\\frac{G^2(y)}{\\xi_{1,m}}\\right)|\\sigma_y|^2(\\tilde{e})^2\\\\\n",
    "& -\\xi_{2,m}\\mathcal{I}(y) \\log\\sum_{j=1}^m \\hat{\\pi}_j^d \\exp\\left(\\frac{1}{\\xi_{2,m}}\\left[\\phi(y)-\\phi_j(y)\\right]\\right)\n",
    "\\end{align*}\n",
    "\n",
    "where $G(y):=\\frac{d\\phi}{dy} + (\\eta-1)(\\gamma_1 + \\gamma_2 y)$\n",
    "\n",
    "The FOC of $\\tilde{e}$ gives:\n",
    "$$\n",
    "\\tilde{e}^* = \\frac{-\\theta G(y) + \\sqrt{\\theta^2G^2(y)-4\\delta \\eta |\\sigma_y|^2\\left(\\frac{d^2\\phi(y)}{(dy)^2}-\\frac{G^2(y)}{\\xi_m}\\right)}}{2|\\sigma_y|^2\\left(\\frac{d^2\\phi(y)}{(dy)^2}-\\frac{G^2(y)}{\\xi_m}\\right)}\n",
    "$$"
   ]
  },
  {
   "cell_type": "code",
   "execution_count": 2,
   "metadata": {},
   "outputs": [],
   "source": [
    "# Model parameters\n",
    "η = .032\n",
    "δ = .01\n",
    "\n",
    "θ = 1.86/1000.\n",
    "σ_y = 1.2*1.86/1000.\n",
    "\n",
    "ξ_1m = 1./4000\n",
    "ξ_2m = 1./50\n",
    "\n",
    "γ_1 = 1.7675/10000\n",
    "γ_2 = 0.0022*2\n",
    "y_bar = 2.\n",
    "\n",
    "# three damages\n",
    "γ_2p = np.array([0, .0197*2, .3853*2])\n",
    "πd_o = np.array([.475, .475, .05])\n",
    "\n",
    "# # two damages\n",
    "# γ_2p = np.array([0, .0197*2])\n",
    "# πd_o = np.array([.5, .5])\n",
    "\n",
    "n_y = 100\n",
    "y_grid_long = np.linspace(1e-10, 10, n_y)\n",
    "y_grid_short = np.linspace(1e-10, 2, n_y)"
   ]
  },
  {
   "cell_type": "code",
   "execution_count": 3,
   "metadata": {},
   "outputs": [
    {
     "name": "stdout",
     "output_type": "stream",
     "text": [
      "Converged. Total iteration 2169: LHS Error: 9.985754802904756e-09; RHS Error 1.7771085521436263e-06\n",
      "Converged. Total iteration 2110: LHS Error: 9.959926591807111e-09; RHS Error 4.610388643713211e-06\n",
      "Converged. Total iteration 2358: LHS Error: 9.953523061323466e-09; RHS Error 2.0616815730679382e-05\n"
     ]
    }
   ],
   "source": [
    "# Prepare ϕ_i\n",
    "ϕ = []\n",
    "e_tilde = []\n",
    "for γ_2p_i in γ_2p:\n",
    "    model_paras = (η, δ, θ, σ_y, ξ_1m, γ_1, γ_2, γ_2p_i, y_bar) \n",
    "    ϕ_i, e_tilde_i = ode_y(y_grid_long, model_paras, v0=None, ϵ=.5,\n",
    "                           tol=1e-8, max_iter=10_000, print_all=False)\n",
    "    ϕ.append(ϕ_i)\n",
    "    e_tilde.append(e_tilde_i)\n",
    "\n",
    "ϕ_i_list = []\n",
    "for ϕ_i in ϕ:\n",
    "    temp = np.interp(y_grid_short, y_grid_long, ϕ_i)\n",
    "    ϕ_i_list.append(temp)\n",
    "ϕ_i = np.array(ϕ_i_list)"
   ]
  },
  {
   "cell_type": "code",
   "execution_count": 5,
   "metadata": {},
   "outputs": [
    {
     "name": "stdout",
     "output_type": "stream",
     "text": [
      "Converged. Total iteration 408: LHS Error: 9.913181178711206e-09; RHS Error 1.3830956067984596e-05\n"
     ]
    }
   ],
   "source": [
    "# Compute ϕ\n",
    "ς = .1\n",
    "model_paras = (η, δ, θ, σ_y, ξ_1m, ξ_2m, ς, γ_1, γ_2, y_bar, ϕ_i, πd_o)\n",
    "ϕ, e_tilde = ode_y_jump_approach_one(y_grid_short, model_paras, v0=ϕ_i[0], ϵ=.5,\n",
    "                                     tol=1e-8, max_iter=1_000, print_all=False)"
   ]
  },
  {
   "cell_type": "code",
   "execution_count": 6,
   "metadata": {},
   "outputs": [],
   "source": [
    "# Compute worst case probabilities\n",
    "π = np.ones((len(πd_o), len(y_grid_short)))\n",
    "for i in range(π.shape[0]):\n",
    "    π[i] = πd_o[i]\n",
    "πd_o_reshape = π\n",
    "πd = np.exp(1./ξ_2m*(ϕ-ϕ_i[0])) / np.sum(πd_o_reshape*np.exp(1./ξ_2m*(ϕ-ϕ_i)), axis=0)*πd_o[i]"
   ]
  },
  {
   "cell_type": "code",
   "execution_count": 7,
   "metadata": {},
   "outputs": [],
   "source": [
    "@njit\n",
    "def simulation(y_grid, e_grid, π_grid, θ=1.86/1000., y_start=.5394, T=50):\n",
    "    Et = np.zeros(T+1)\n",
    "    πt = np.zeros(T+1)\n",
    "    yt = np.zeros(T+1)\n",
    "    for i in range(T+1):\n",
    "        Et[i] = np.interp(y_start, y_grid, e_grid)\n",
    "        πt[i] = np.interp(y_start, y_grid, π_grid)\n",
    "        yt[i] = y_start\n",
    "        y_start = y_start + Et[i]*θ\n",
    "    return Et, πt, yt"
   ]
  },
  {
   "cell_type": "code",
   "execution_count": 8,
   "metadata": {},
   "outputs": [],
   "source": [
    "Et, πt, yt = simulation(y_grid_short, e_tilde, πd, θ=1.86/1000., y_start=.5394, T=85)"
   ]
  },
  {
   "cell_type": "code",
   "execution_count": 9,
   "metadata": {},
   "outputs": [
    {
     "data": {
      "text/plain": [
       "Text(0.5, 0, 'Year')"
      ]
     },
     "execution_count": 9,
     "metadata": {},
     "output_type": "execute_result"
    },
    {
     "data": {
      "image/png": "[encoded data removed]",
      "text/plain": [
       "<Figure size 432x288 with 1 Axes>"
      ]
     },
     "metadata": {
      "needs_background": "light"
     },
     "output_type": "display_data"
    }
   ],
   "source": [
    "plt.plot(πt)\n",
    "plt.title('Worst-case probability (on low damage model)')\n",
    "plt.xlabel('Year')"
   ]
  },
  {
   "cell_type": "code",
   "execution_count": 10,
   "metadata": {},
   "outputs": [
    {
     "data": {
      "text/plain": [
       "Text(0.5, 0, 'Year')"
      ]
     },
     "execution_count": 10,
     "metadata": {},
     "output_type": "execute_result"
    },
    {
     "data": {
      "image/png": "[encoded data removed]",
      "text/plain": [
       "<Figure size 432x288 with 1 Axes>"
      ]
     },
     "metadata": {
      "needs_background": "light"
     },
     "output_type": "display_data"
    }
   ],
   "source": [
    "plt.plot(yt)\n",
    "plt.title('y')\n",
    "plt.xlabel('Year')"
   ]
  },
  {
   "cell_type": "code",
   "execution_count": 11,
   "metadata": {},
   "outputs": [
    {
     "data": {
      "text/plain": [
       "[<matplotlib.lines.Line2D at 0x7fdf802879d0>]"
      ]
     },
     "execution_count": 11,
     "metadata": {},
     "output_type": "execute_result"
    },
    {
     "data": {
      "image/png": "[encoded data removed]",
      "text/plain": [
       "<Figure size 432x288 with 1 Axes>"
      ]
     },
     "metadata": {
      "needs_background": "light"
     },
     "output_type": "display_data"
    }
   ],
   "source": [
    "plt.plot(Et)"
   ]
  }
 ],
 "metadata": {
  "kernelspec": {
   "display_name": "Python 3",
   "language": "python",
   "name": "python3"
  },
  "language_info": {
   "codemirror_mode": {
    "name": "ipython",
    "version": 3
   },
   "file_extension": ".py",
   "mimetype": "text/x-python",
   "name": "python",
   "nbconvert_exporter": "python",
   "pygments_lexer": "ipython3",
   "version": "3.8.5"
  }
 },
 "nbformat": 4,
 "nbformat_minor": 4
}
