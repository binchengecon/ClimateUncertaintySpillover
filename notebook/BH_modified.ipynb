{
 "cells": [
  {
   "cell_type": "code",
   "execution_count": 1,
   "metadata": {},
   "outputs": [],
   "source": [
    "import numpy as np"
   ]
  },
  {
   "cell_type": "code",
   "execution_count": 18,
   "metadata": {},
   "outputs": [],
   "source": [
    "# Model parameters\n",
    "median = 1.75/1000\n",
    "γ = 0.024\n",
    "τ = median * γ\n",
    "δ = 0.01\n",
    "η = 0.032\n",
    "ξ_m = 0.00128\n",
    "\n",
    "μ_2 = 1.\n",
    "σ_2 = 1.2\n",
    "ρ = 0.21*2/(σ_2**2*μ_2) # Match moments, using 100 year's std"
   ]
  },
  {
   "cell_type": "markdown",
   "metadata": {},
   "source": [
    "Equation:\n",
    "\n",
    "$$\n",
    "0 = \\max_{e} \\min_{h_2} - \\delta \\phi(r, z_2) + \\delta \\eta \\log e - \\tau z_2 e - \\frac{\\partial \\phi}{\\partial r}(r, z_2) e + \\xi_m\\frac{(h_2)^2}{2} + \\left[\\frac{\\partial \\phi}{\\partial z_2}(r, z_2)\\right]\\left[-\\rho (z_2 -\\mu_2) + \\sqrt{z_2} \\sigma_2 h_2\\right] + \\left[\\frac{\\partial^2 \\phi}{\\partial(z_2)^2}(r, z_2)\\right]\\left(\\frac{z_2|\\sigma_2|^2}{2}\\right)\n",
    "$$\n",
    "\n",
    "FOC of $h_2$ gives : \n",
    "\n",
    "$$\n",
    "h_2^* = -\\frac{\\left[\\frac{\\partial \\phi}{\\partial z_2}(r, z_2)\\right]\\sqrt{z_2}\\sigma_2}{\\xi_m}\n",
    "$$\n",
    "\n",
    "FOC of $e$ gives :\n",
    "\n",
    "$$\n",
    "e^* = \\frac{\\delta \\eta}{\\tau z_2 + \\frac{\\partial \\phi}{\\partial r}(r, z_2)}\n",
    "$$\n",
    "\n",
    "Substituting terms we have:\n",
    "\n",
    "$$\n",
    "0 = - \\delta \\phi(r, z_2) + \\delta \\eta \\log e^* - \\delta\\eta - \\frac{\\xi_m}{2}\\left[\\frac{\\partial \\phi}{\\partial z_2}(r, z_2)\\right]^2z_2|\\sigma_2|^2 + \\left[\\frac{\\partial \\phi}{\\partial z_2}(r, z_2)\\right]\\left[-\\rho (z_2 -\\mu_2)\\right] + \\left[\\frac{\\partial^2 \\phi}{\\partial(z_2)^2}(r, z_2)\\right]\\left(\\frac{z_2|\\sigma_2|^2}{2}\\right)\n",
    "$$"
   ]
  },
  {
   "cell_type": "code",
   "execution_count": null,
   "metadata": {},
   "outputs": [],
   "source": []
  }
 ],
 "metadata": {
  "kernelspec": {
   "display_name": "Python 3",
   "language": "python",
   "name": "python3"
  },
  "language_info": {
   "codemirror_mode": {
    "name": "ipython",
    "version": 3
   },
   "file_extension": ".py",
   "mimetype": "text/x-python",
   "name": "python",
   "nbconvert_exporter": "python",
   "pygments_lexer": "ipython3",
   "version": "3.8.3"
  }
 },
 "nbformat": 4,
 "nbformat_minor": 4
}
