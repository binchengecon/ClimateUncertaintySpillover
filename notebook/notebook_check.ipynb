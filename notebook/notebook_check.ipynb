{
 "cells": [
  {
   "cell_type": "code",
   "execution_count": 44,
   "metadata": {},
   "outputs": [],
   "source": [
    "import os, sys\n",
    "sys.path.append(os.path.dirname(os.getcwd()) + '/source')\n",
    "\n",
    "import pickle\n",
    "import numpy as np\n",
    "import matplotlib.pyplot as plt\n",
    "from simulation import simulate_emission_quadratic, simulate_log_damage\n",
    "from numba import njit\n",
    "\n",
    "np.random.seed(0)"
   ]
  },
  {
   "cell_type": "code",
   "execution_count": 33,
   "metadata": {},
   "outputs": [],
   "source": [
    "# Model parameters\n",
    "δ = 0.01\n",
    "η = 0.032\n",
    "median = 1.75/1000\n",
    "h_hat = 0.2\n",
    "σ_n = 1.2\n",
    "γ_base = 0.018\n",
    "ξ = 8*δ*η\n",
    "r0 = 1500\n",
    "T = 200\n",
    "\n",
    "with open(\"../data/pulse_experiment\", \"rb\") as f:\n",
    "    λ_u = pickle.load(f)\n",
    "\n",
    "λ_u = np.mean(λ_u, axis=0)"
   ]
  },
  {
   "cell_type": "code",
   "execution_count": 8,
   "metadata": {},
   "outputs": [],
   "source": [
    "args_trace_ϕ = (-20, -5, 3000, 1e-9, 1e-3)\n",
    "Et, r_grid, _, e_grid  = simulate_emission_quadratic(δ, η, median*γ_base, ξ, σ_n, # Replace σ_n with 0 if you want to set τ_2 = 0.\n",
    "                                     args_trace_ϕ=args_trace_ϕ,\n",
    "                                     r_start=r0, T=T)"
   ]
  },
  {
   "cell_type": "code",
   "execution_count": 45,
   "metadata": {},
   "outputs": [],
   "source": [
    "@njit\n",
    "def simulate_damage(λ_u, Et, σ_n, Ws, T, N):\n",
    "    log_n = np.zeros((N, T+1))\n",
    "    for n in range(N):\n",
    "        for J in range(1, T+1):\n",
    "            temp = 0\n",
    "            for j in range(1, J+1):\n",
    "                temp += λ_u[j] * (Et[J-j]*(1+σ_n@Ws[n, J-j]))\n",
    "            log_n[n, J] = temp\n",
    "    return log_n"
   ]
  },
  {
   "cell_type": "code",
   "execution_count": null,
   "metadata": {},
   "outputs": [],
   "source": [
    "@njit\n",
    "def simulate_z(T, N):\n",
    "    "
   ]
  },
  {
   "cell_type": "code",
   "execution_count": null,
   "metadata": {},
   "outputs": [],
   "source": [
    "@njit\n",
    "def simulate_capital(ioverk, Ws, zt, alpha_k, beta, sigma_k, kappa, k0, Ht=0, T=102,):\n",
    "    _, path, time = dW.shape\n",
    "    Kt = np.zeros((path, time))\n",
    "    i = invkap\n",
    "     # log capital\n",
    "    Kt[:, 0] = np.log(k0)\n",
    "    k = np.log(k0)*np.ones(path)\n",
    "    for t in range(time-1):\n",
    "        k +=   alpha_k + beta*zt[:,t] + i - kappa/2*i**2 - .5*sigma_k[0]**2 + np.dot(sigma_k, Ht + dW[:, :, t])\n",
    "        Kt[:,t+1] = k\n",
    "\n",
    "    return Kt"
   ]
  },
  {
   "cell_type": "code",
   "execution_count": 54,
   "metadata": {},
   "outputs": [],
   "source": [
    "T=100\n",
    "N=1_000_000\n",
    "Ws = np.random.normal(0, 1, (N, T))\n",
    "log_n = simulate_damage(λ_u*γ_base/1000, Et, np.array([0, 0, σ_n]), Ws, T, N)"
   ]
  },
  {
   "cell_type": "code",
   "execution_count": 56,
   "metadata": {},
   "outputs": [
    {
     "data": {
      "text/plain": [
       "[<matplotlib.lines.Line2D at 0x7fa573ce0220>]"
      ]
     },
     "execution_count": 56,
     "metadata": {},
     "output_type": "execute_result"
    },
    {
     "data": {
      "image/png": "[encoded data removed]",
      "text/plain": [
       "<Figure size 432x288 with 1 Axes>"
      ]
     },
     "metadata": {
      "needs_background": "light"
     },
     "output_type": "display_data"
    }
   ],
   "source": [
    "plt.plot(np.percentile(log_n*100, 90, axis=0))\n",
    "plt.plot(np.percentile(log_n*100, 67, axis=0))\n",
    "plt.plot(np.percentile(log_n*100, 50, axis=0))\n",
    "plt.plot(np.percentile(log_n*100, 33, axis=0))\n",
    "plt.plot(np.percentile(log_n*100, 10, axis=0))"
   ]
  },
  {
   "cell_type": "code",
   "execution_count": 57,
   "metadata": {},
   "outputs": [
    {
     "data": {
      "text/plain": [
       "array([ 0.        , -0.00519029, -0.00308572,  0.00349299,  0.01366938,\n",
       "        0.0267323 ,  0.04201085,  0.05891804,  0.07718863,  0.09657108,\n",
       "        0.11663293,  0.13709667,  0.1580525 ,  0.17921078,  0.20083089,\n",
       "        0.22231854,  0.24389176,  0.26550615,  0.28722966,  0.30878266,\n",
       "        0.33032858,  0.35176395,  0.37335492,  0.39493629,  0.41638241,\n",
       "        0.43786752,  0.45907831,  0.48025663,  0.50134357,  0.52258042,\n",
       "        0.54388018,  0.56513333,  0.58617526,  0.60712401,  0.62815791,\n",
       "        0.64903365,  0.66999734,  0.69073671,  0.71137463,  0.73205685,\n",
       "        0.752602  ,  0.77295507,  0.79349142,  0.81375419,  0.83407048,\n",
       "        0.8542787 ,  0.87450942,  0.89453002,  0.91448361,  0.93435995,\n",
       "        0.95433162,  0.97431961,  0.99395945,  1.01377464,  1.03346149,\n",
       "        1.05308683,  1.0724047 ,  1.09179985,  1.11131613,  1.13057164,\n",
       "        1.14976602,  1.16901166,  1.18810665,  1.20712089,  1.2260825 ,\n",
       "        1.24497993,  1.26386132,  1.28266472,  1.30141673,  1.31998886,\n",
       "        1.33861276,  1.35723324,  1.3757102 ,  1.39405166,  1.41251239,\n",
       "        1.43066108,  1.44887868,  1.46721151,  1.48541196,  1.50351941,\n",
       "        1.52171132,  1.53990707,  1.55809727,  1.5759285 ,  1.59390406,\n",
       "        1.61176135,  1.62944586,  1.64696558,  1.66472635,  1.68228333,\n",
       "        1.69954369,  1.71684094,  1.7342727 ,  1.75171236,  1.76900291,\n",
       "        1.78602231,  1.80314394,  1.82011389,  1.83703284,  1.85376347,\n",
       "        1.8703341 ])"
      ]
     },
     "execution_count": 57,
     "metadata": {},
     "output_type": "execute_result"
    }
   ],
   "source": [
    "np.percentile(log_n*100, 10, axis=0)"
   ]
  }
 ],
 "metadata": {
  "kernelspec": {
   "display_name": "Python 3",
   "language": "python",
   "name": "python3"
  },
  "language_info": {
   "codemirror_mode": {
    "name": "ipython",
    "version": 3
   },
   "file_extension": ".py",
   "mimetype": "text/x-python",
   "name": "python",
   "nbconvert_exporter": "python",
   "pygments_lexer": "ipython3",
   "version": "3.8.5"
  }
 },
 "nbformat": 4,
 "nbformat_minor": 4
}
