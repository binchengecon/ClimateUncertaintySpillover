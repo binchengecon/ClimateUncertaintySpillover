{
 "cells": [
  {
   "cell_type": "markdown",
   "metadata": {},
   "source": [
    "ODE:\n",
    "\n",
    "\\begin{align*}\n",
    "0 = \\max_e  &-\\delta \\phi(y) + \\delta\\eta\\log e  + \\frac{d \\phi}{d y}(y) \\mu_2 e + (\\eta-1)\\left(\\lambda_1 + \\lambda_2y\\right)\\mu_2 e + K \\frac{\\exp\\left[\\rho(y-\\bar{y})\\right]}{1-\\exp\\left[\\rho(y-\\bar{y})\\right]} \\left(\\bar{\\phi}(y) - \\phi(y)\\right)\\\\\n",
    "\\end{align*}\n",
    "\n",
    "FOC of $e$ gives :\n",
    "\n",
    "$$\n",
    "e^* = -\\frac{\\delta \\eta}{\\frac{\\partial \\phi}{\\partial y}(y)\\mu_2 + (\\eta-1)(\\lambda_1 + \\lambda_2y)\\mu_2}\n",
    "$$"
   ]
  }
 ],
 "metadata": {
  "kernelspec": {
   "display_name": "Python 3",
   "language": "python",
   "name": "python3"
  },
  "language_info": {
   "codemirror_mode": {
    "name": "ipython",
    "version": 3
   },
   "file_extension": ".py",
   "mimetype": "text/x-python",
   "name": "python",
   "nbconvert_exporter": "python",
   "pygments_lexer": "ipython3",
   "version": "3.8.5"
  }
 },
 "nbformat": 4,
 "nbformat_minor": 4
}
