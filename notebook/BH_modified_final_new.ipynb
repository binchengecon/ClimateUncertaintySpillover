{
 "cells": [
  {
   "cell_type": "code",
   "execution_count": 292,
   "metadata": {},
   "outputs": [],
   "source": [
    "import os, sys\n",
    "sys.path.append(os.path.dirname(os.getcwd()) + '/source')\n",
    "\n",
    "import numpy as np\n",
    "import matplotlib.pyplot as plt\n",
    "import SolveLinSys\n",
    "from utilities import compute_derivatives_2d, find_nearest_value\n",
    "from numba import njit"
   ]
  },
  {
   "cell_type": "markdown",
   "metadata": {},
   "source": [
    "Equation:\n",
    "\n",
    "\\begin{align}\n",
    "0 = \\max_e \\min_{h2} &-\\delta \\phi(y,z_2) + \\delta\\eta\\log e + \\xi_m \\frac{(h_2)^2}{2} + \\frac{\\partial \\phi}{\\partial y}(y, z_2) e\\\\\n",
    "&+ \\left[\\frac{\\partial \\phi}{\\partial z_2}(y, z_2)\\right]\\left[-\\rho(z_2 - \\mu_2) + \\sqrt{z_2}\\sigma_2 h_2\\right] + \\left[\\frac{\\partial^2 \\phi}{\\partial (z_2)^2}(y, z_2)\\right]\\left(\\frac{z_2|\\sigma_2|^2}{2}\\right)\\\\\n",
    "& + (\\eta-1)\\left(\\left[\\tau_1 + \\tau_2(yz_2)\\right]\\left(z_2 e+y[-\\rho(z_2-\\mu_2)]+ y\\sqrt{z_2}\\sigma_2h_2\\right) + \\frac{\\tau_2 z_2}{2}y^2|\\sigma_2|^2\\right)\n",
    "\\end{align}\n",
    "\n",
    "FOC of $h_2$ gives : \n",
    "\n",
    "$$\n",
    "h_2^* = -\\frac{\\left[\\frac{\\partial \\phi}{\\partial z_2}(y, z_2)\\right]\\sqrt{z_2}\\sigma_2 + (\\eta-1)\\left[\\tau_1 + \\tau_2(yz_2)\\right]\\left(y\\sqrt{z_2}\\sigma_2\\right)}{\\xi_m}\n",
    "$$\n",
    "\n",
    "FOC of $e$ gives :\n",
    "\n",
    "$$\n",
    "e^* = -\\frac{\\delta \\eta}{\\frac{\\partial \\phi}{\\partial y}(y, z_2) + (\\eta-1)\\left[\\tau_1+\\tau_2(yz_2)\\right]z_2}\n",
    "$$"
   ]
  },
  {
   "cell_type": "code",
   "execution_count": 355,
   "metadata": {},
   "outputs": [],
   "source": [
    "def false_transient_one_iteration(stateSpace, A, B_z, B_y, C_zz, C_yy, D, v0, ε=.3, tol=-10):\n",
    "    A = A.reshape(-1, 1, order='F')\n",
    "    B = np.hstack([B_z.reshape(-1, 1, order='F'), B_y.reshape(-1, 1, order='F')])\n",
    "    C = np.hstack([C_zz.reshape(-1, 1, order='F'), C_yy.reshape(-1, 1, order='F')])\n",
    "    D = D.reshape(-1, 1, order='F')\n",
    "    v0 = v0.reshape(-1, 1, order='F')\n",
    "    out = SolveLinSys.solveFT(stateSpace, A, B, C, D, v0, ε, tol)\n",
    "    return out\n",
    "\n",
    "\n",
    "def false_transient(z_grid, y_grid, model_paras=(), v0=None, ϵ=.5, tol=1e-8, max_iter=10_000):\n",
    "    η, ξ_m, δ, η, μ_2, ρ, σ_2, τ_1, τ_2, τ_2p, τ_bar = model_paras\n",
    "\n",
    "    Δ_z = z_grid[1] - z_grid[0]\n",
    "    Δ_y = y_grid[1] - y_grid[0]\n",
    "    (z_mat, y_mat) = np.meshgrid(z_grid, y_grid, indexing = 'ij')\n",
    "    stateSpace = np.hstack([z_mat.reshape(-1, 1, order='F'), y_mat.reshape(-1, 1, order='F')])\n",
    "\n",
    "    if v0 is None:\n",
    "        v0 = -δ*η*y_mat\n",
    "\n",
    "    count = 1\n",
    "    error = 1.\n",
    "\n",
    "    while error > tol and count < max_iter:\n",
    "        v_old = v0.copy()\n",
    "        v0_dz = compute_derivatives_2d(v0, 0, 1, Δ_z)\n",
    "        v0_dzz = compute_derivatives_2d(v0, 0, 2, Δ_z)\n",
    "        v0_dy = compute_derivatives_2d(v0, 1, 1, Δ_y)\n",
    "\n",
    "        e = - δ*η / (v0_dy + (η-1)*(τ_1+τ_2*y_mat*z_mat+τ_2p*(y_mat*z_mat>τ_bar)*(y_mat*z_mat-τ_bar))*z_mat)\n",
    "        e[e<=0] = 1e-10\n",
    "        h = - (v0_dz + (η-1)*(τ_1+τ_2*y_mat*z_mat+τ_2p*(y_mat*z_mat>τ_bar)*(y_mat*z_mat-τ_bar))*y_mat)*np.sqrt(z_mat)*σ_2 / ξ_m\n",
    "        \n",
    "        A = np.ones_like(z_mat)*(-δ)\n",
    "        B_z = -ρ*(z_mat - μ_2) + np.sqrt(z_mat)*σ_2*h\n",
    "        B_y = e\n",
    "        C_zz = z_mat*σ_2**2/2\n",
    "        C_yy = np.zeros_like(z_mat)\n",
    "        D = δ*η*np.log(e) + ξ_m*h**2/2 + (η-1)*((τ_1+τ_2*y_mat*z_mat+τ_2+τ_2p*(y_mat*z_mat>τ_bar))\n",
    "                                                *(z_mat*e + y_mat*(-ρ*(z_mat-μ_2)) \n",
    "                                                  + y_mat*np.sqrt(z_mat)*σ_2*h)\n",
    "                                                + (τ_2+τ_2p*(y_mat*z_mat>τ_bar))*z_mat/2*y_mat**2*σ_2**2)\n",
    "\n",
    "        res = false_transient_one_iteration(stateSpace, A, B_z, B_y, C_zz, C_yy, D, v0, ϵ) # CG tol = 1e-10\n",
    "        v0 = res[2].reshape(v0.shape, order = \"F\")\n",
    "\n",
    "        rhs_error = A*v0 + B_z*v0_dz + B_y*v0_dy + C_zz*v0_dzz + D\n",
    "        rhs_error = np.max(abs(rhs_error))\n",
    "        lhs_error = np.max(abs((v0 - v_old)/ϵ))\n",
    "        error = lhs_error\n",
    "\n",
    "        print(\"Iteration %s: LHS Error: %s; RHS Error %s\" % (count, lhs_error, rhs_error))\n",
    "        count += 1\n",
    "    print(\"Iteration %s: LHS Error: %s; RHS Error %s\" % (count, lhs_error, rhs_error))\n",
    "    return v0, e"
   ]
  },
  {
   "cell_type": "code",
   "execution_count": 364,
   "metadata": {},
   "outputs": [],
   "source": [
    "# Model parameters\n",
    "η = .032\n",
    "# ξ_m = .00256\n",
    "ξ_m = 1000.\n",
    "δ = .01\n",
    "# Z process\n",
    "μ_2 = 1.86/1000.\n",
    "ρ = 0.9\n",
    "σ_2 = np.sqrt(2*ρ/10416.29)/2\n",
    "# Damage setting\n",
    "τ_1 = 1.7675/10000\n",
    "τ_2 = 0.0022*2\n",
    "τ_2p = 0.0197*2\n",
    "# τ_2p = 0.3853*2\n",
    "τ_bar = 2.\n",
    "\n",
    "pde_paras = (η, ξ_m, δ, η, μ_2, ρ, σ_2, τ_1, τ_2, τ_2p, τ_bar)\n",
    "\n",
    "# Capital and z parameters\n",
    "α_k = -0.043\n",
    "β_k = 0.04\n",
    "σ_k = np.array([0.477*2, 0])/100.\n",
    "β_z = 0.014*4\n",
    "σ_z = np.array([0.011*2, 0.025*2])\n",
    "α = 0.115\n",
    "ioverk = 0.09\n",
    "κ = 6.667\n",
    "\n",
    "# Grid setting\n",
    "n_z = 200\n",
    "z_min = np.max([μ_2 - 3*np.sqrt(σ_2**2*μ_2/(2*ρ)), 1e-9])\n",
    "z_max = μ_2 + 3*np.sqrt(σ_2**2*μ_2/(2*ρ))\n",
    "z_grid = np.linspace(z_min, z_max, n_z)\n",
    "\n",
    "n_y = 20\n",
    "y_min = 1e-2\n",
    "y_max = 3000.\n",
    "y_grid = np.linspace(y_min, y_max, n_y)"
   ]
  },
  {
   "cell_type": "code",
   "execution_count": 365,
   "metadata": {},
   "outputs": [
    {
     "name": "stdout",
     "output_type": "stream",
     "text": [
      "Iteration 1: LHS Error: 0.07627686010561274; RHS Error 0.1155487233044189\n",
      "Iteration 2: LHS Error: 0.052511822657161256; RHS Error 0.07605926873090825\n",
      "Iteration 3: LHS Error: 0.03809687043427834; RHS Error 0.05232126072067464\n",
      "Iteration 4: LHS Error: 0.02790028226096153; RHS Error 0.03795731418496\n",
      "Iteration 5: LHS Error: 0.02073745638965141; RHS Error 0.02779673262675339\n",
      "Iteration 6: LHS Error: 0.01572952932446192; RHS Error 0.020658921729635946\n",
      "Iteration 7: LHS Error: 0.01223977434730994; RHS Error 0.015668415662141624\n",
      "Iteration 8: LHS Error: 0.009813034565945955; RHS Error 0.012190774872341631\n",
      "Iteration 9: LHS Error: 0.008127231805554747; RHS Error 0.009787899499093977\n",
      "Iteration 10: LHS Error: 0.006956135769194738; RHS Error 0.008124377322981144\n",
      "Iteration 11: LHS Error: 0.0061416968978509345; RHS Error 0.006968742258904662\n",
      "Iteration 12: LHS Error: 0.005573937314012678; RHS Error 0.006165016207588289\n",
      "Iteration 13: LHS Error: 0.005176557535789161; RHS Error 0.005604689767549048\n",
      "Iteration 14: LHS Error: 0.0048967402481570055; RHS Error 0.005212465370278474\n",
      "Iteration 15: LHS Error: 0.004716390445139718; RHS Error 0.004936231378200179\n",
      "Iteration 16: LHS Error: 0.0046664302526511214; RHS Error 0.00474076529340859\n",
      "Iteration 17: LHS Error: 0.00462354246744201; RHS Error 0.004694632557298933\n",
      "Iteration 18: LHS Error: 0.004585560011793222; RHS Error 0.004655495167555639\n",
      "Iteration 19: LHS Error: 0.004550998191090727; RHS Error 0.00462118902156489\n",
      "Iteration 20: LHS Error: 0.004518844057135096; RHS Error 0.004592384249476597\n",
      "Iteration 21: LHS Error: 0.004488404046815719; RHS Error 0.004568730699025225\n",
      "Iteration 22: LHS Error: 0.004459201986488859; RHS Error 0.004545210149368428\n",
      "Iteration 23: LHS Error: 0.004430916828840892; RHS Error 0.004521808388605809\n",
      "Iteration 24: LHS Error: 0.0044033654541733025; RHS Error 0.004498542047232313\n",
      "Iteration 25: LHS Error: 0.004376373845524584; RHS Error 0.004475417971809991\n",
      "Iteration 26: LHS Error: 0.004349812659194097; RHS Error 0.004452416046780743\n",
      "Iteration 27: LHS Error: 0.004323597215952546; RHS Error 0.0044295576061160625\n",
      "Iteration 28: LHS Error: 0.00429767126854308; RHS Error 0.004406824970872261\n",
      "Iteration 29: LHS Error: 0.004271997331943056; RHS Error 0.004384220761187917\n",
      "Iteration 30: LHS Error: 0.0042465505724959; RHS Error 0.004361747484755709\n",
      "Iteration 31: LHS Error: 0.004221313929704706; RHS Error 0.0043394171249183724\n",
      "Iteration 32: LHS Error: 0.0041962761516616265; RHS Error 0.004317192424007986\n",
      "Iteration 33: LHS Error: 0.004171428883306572; RHS Error 0.004295118167202564\n",
      "Iteration 34: LHS Error: 0.004146766724782203; RHS Error 0.004273155190004079\n",
      "Iteration 35: LHS Error: 0.004122284846451385; RHS Error 0.004251320004408104\n",
      "Iteration 36: LHS Error: 0.00409797996149508; RHS Error 0.004229627806478984\n",
      "Iteration 37: LHS Error: 0.0040738492295554485; RHS Error 0.004208039510026344\n",
      "Iteration 38: LHS Error: 0.004049890517081489; RHS Error 0.004186583955154374\n",
      "Iteration 39: LHS Error: 0.004026101918369496; RHS Error 0.004165252492304339\n",
      "Iteration 40: LHS Error: 0.004002481571735106; RHS Error 0.004144049578750279\n",
      "Iteration 41: LHS Error: 0.003979026458633572; RHS Error 0.004122977139819498\n",
      "Iteration 42: LHS Error: 0.003955736076141192; RHS Error 0.0041020116330039765\n",
      "Iteration 43: LHS Error: 0.003932608651008085; RHS Error 0.0040811639249531875\n",
      "Iteration 44: LHS Error: 0.003909641918944051; RHS Error 0.004060444874412506\n",
      "Iteration 45: LHS Error: 0.0038868344869505966; RHS Error 0.004039846040842793\n",
      "Iteration 46: LHS Error: 0.003864184661593717; RHS Error 0.004019370040219532\n",
      "Iteration 47: LHS Error: 0.0038416911330818038; RHS Error 0.003999007185067046\n",
      "Iteration 48: LHS Error: 0.0038193522002200053; RHS Error 0.00397875510753712\n",
      "Iteration 49: LHS Error: 0.0037971661045965166; RHS Error 0.003958630644628286\n",
      "Iteration 50: LHS Error: 0.0037751306885518976; RHS Error 0.003938618896263876\n",
      "Iteration 51: LHS Error: 0.003753245998966648; RHS Error 0.003918708300910221\n",
      "Iteration 52: LHS Error: 0.003731509983608605; RHS Error 0.00389895429724694\n",
      "Iteration 53: LHS Error: 0.0037099203293313177; RHS Error 0.0038792819754978254\n",
      "Iteration 54: LHS Error: 0.003688476678794239; RHS Error 0.0038597061639387025\n",
      "Iteration 55: LHS Error: 0.0036671774094294562; RHS Error 0.003840268926770205\n",
      "Iteration 56: LHS Error: 0.0036460219353521284; RHS Error 0.0038209432347558925\n",
      "Iteration 57: LHS Error: 0.003625005422390304; RHS Error 0.0038017379700372657\n",
      "Iteration 58: LHS Error: 0.0036041307417031265; RHS Error 0.0037826120275775378\n",
      "Iteration 59: LHS Error: 0.003583394546735841; RHS Error 0.003763607124164414\n",
      "Iteration 60: LHS Error: 0.0035627957782182196; RHS Error 0.003744752730912787\n",
      "Iteration 61: LHS Error: 0.003542332428354056; RHS Error 0.0037259138527642724\n",
      "Iteration 62: LHS Error: 0.0035220045708155845; RHS Error 0.003707265360351298\n",
      "Iteration 63: LHS Error: 0.0035018100758119064; RHS Error 0.003688691346858084\n",
      "Iteration 64: LHS Error: 0.003481747898393117; RHS Error 0.0036702174809408964\n",
      "Iteration 65: LHS Error: 0.003461837915851973; RHS Error 0.003651894031744568\n",
      "Iteration 66: LHS Error: 0.0034420154755991916; RHS Error 0.00363361402586084\n",
      "Iteration 67: LHS Error: 0.003422447563224962; RHS Error 0.003615563671551027\n",
      "Iteration 68: LHS Error: 0.003402857651387148; RHS Error 0.0035974881658592606\n",
      "Iteration 69: LHS Error: 0.0033834419752865053; RHS Error 0.00357957918940889\n",
      "Iteration 70: LHS Error: 0.003364138300534558; RHS Error 0.0035618142150450785\n",
      "Iteration 71: LHS Error: 0.003344911615355217; RHS Error 0.0035441388000191937\n",
      "Iteration 72: LHS Error: 0.0033258624315092855; RHS Error 0.003526418570340138\n",
      "Iteration 73: LHS Error: 0.003306931029875393; RHS Error 0.0035090172581074518\n",
      "Iteration 74: LHS Error: 0.003288118195366674; RHS Error 0.003491467715815829\n",
      "Iteration 75: LHS Error: 0.0032694358670545265; RHS Error 0.0034742551530606985\n",
      "Iteration 76: LHS Error: 0.0032514572725677593; RHS Error 0.003456912728791681\n",
      "Iteration 77: LHS Error: 0.0032331865259694337; RHS Error 0.003439784299933512\n",
      "Iteration 78: LHS Error: 0.003214652605915913; RHS Error 0.0034227872486166915\n",
      "Iteration 79: LHS Error: 0.0031963919321394973; RHS Error 0.003406006893975288\n",
      "Iteration 80: LHS Error: 0.0031795318735268197; RHS Error 0.0033891895009376823\n",
      "Iteration 81: LHS Error: 0.0031646527155504423; RHS Error 0.003372739606577894\n",
      "Iteration 82: LHS Error: 0.003150005420121449; RHS Error 0.0033557503243328503\n",
      "Iteration 83: LHS Error: 0.0031350704785171324; RHS Error 0.0033390583190464024\n",
      "Iteration 84: LHS Error: 0.0031204406064895274; RHS Error 0.0033227447014981767\n",
      "Iteration 85: LHS Error: 0.0031054946708759523; RHS Error 0.003306628343688714\n",
      "Iteration 86: LHS Error: 0.0030909956415507978; RHS Error 0.0032902918764955375\n",
      "Iteration 87: LHS Error: 0.0030765305030158174; RHS Error 0.0032745902396404108\n",
      "Iteration 88: LHS Error: 0.003062159176395074; RHS Error 0.003258285703844069\n",
      "Iteration 89: LHS Error: 0.003047976262942953; RHS Error 0.0032423527299302365\n",
      "Iteration 90: LHS Error: 0.003034941141689007; RHS Error 0.0032260256848485372\n",
      "Iteration 91: LHS Error: 0.0030208301981820007; RHS Error 0.0032099487277498125\n",
      "Iteration 92: LHS Error: 0.0030062166693358705; RHS Error 0.0031941160751789892\n",
      "Iteration 93: LHS Error: 0.002991544283515779; RHS Error 0.0031785815544902144\n",
      "Iteration 94: LHS Error: 0.002977346659847946; RHS Error 0.0031757418772510697\n",
      "Iteration 95: LHS Error: 0.0029631291943843507; RHS Error 0.003173898461524452\n",
      "Iteration 96: LHS Error: 0.0029491192606885264; RHS Error 0.003171298365903852\n",
      "Iteration 97: LHS Error: 0.0029351573365152817; RHS Error 0.003167274335952725\n",
      "Iteration 98: LHS Error: 0.0029213431627019837; RHS Error 0.0031617325548729883\n",
      "Iteration 99: LHS Error: 0.002907592761885347; RHS Error 0.003153751399599277\n",
      "Iteration 100: LHS Error: 0.002893951148729368; RHS Error 0.0031423534904864714\n",
      "Iteration 101: LHS Error: 0.002880447966414401; RHS Error 0.0031257400532510374\n",
      "Iteration 102: LHS Error: 0.002867123416008255; RHS Error 0.0031007051275329205\n",
      "Iteration 103: LHS Error: 0.0031120733095826303; RHS Error 0.00306123588845977\n",
      "Iteration 104: LHS Error: 0.0034942512924101554; RHS Error 0.0030271381232723563\n",
      "Iteration 105: LHS Error: 0.0039718915737867455; RHS Error 0.0029978947237445435\n"
     ]
    },
    {
     "name": "stdout",
     "output_type": "stream",
     "text": [
      "Iteration 106: LHS Error: 0.004238990971971002; RHS Error 0.0030306864334922806\n",
      "Iteration 107: LHS Error: 0.0041129602337369175; RHS Error 0.0038833733000560957\n",
      "Iteration 108: LHS Error: 0.004319633179394711; RHS Error 0.005083445040932168\n",
      "Iteration 109: LHS Error: 0.003552407415274017; RHS Error 0.005512492955906416\n",
      "Iteration 110: LHS Error: 0.00382914443381277; RHS Error 0.016135709493406473\n",
      "Iteration 111: LHS Error: 0.002902276034119994; RHS Error 0.06003964585479558\n",
      "Iteration 112: LHS Error: 0.002875740844671515; RHS Error 0.05279353355311213\n",
      "Iteration 113: LHS Error: 0.002746682251699273; RHS Error 0.13449111213225468\n",
      "Iteration 114: LHS Error: 0.01682591830170349; RHS Error 0.8290358565395834\n",
      "Iteration 115: LHS Error: 0.013251648525583887; RHS Error 0.9441622208906982\n",
      "Iteration 116: LHS Error: 0.00910055773538554; RHS Error 0.04976432826613106\n",
      "Iteration 117: LHS Error: 0.004456004280112613; RHS Error 0.07836486158458957\n",
      "Iteration 118: LHS Error: 0.003143759780976113; RHS Error 0.10142002408695532\n",
      "Iteration 119: LHS Error: 0.002729156248725939; RHS Error 0.04126726141070321\n",
      "Iteration 120: LHS Error: 0.002671317063994927; RHS Error 0.05457223446676767\n",
      "Iteration 121: LHS Error: 0.002633908163967913; RHS Error 0.03807155948973963\n",
      "Iteration 122: LHS Error: 0.0026095541074457884; RHS Error 0.055515666453884574\n",
      "Iteration 123: LHS Error: 0.002594330613019835; RHS Error 0.0691631239937669\n",
      "Iteration 124: LHS Error: 0.0025839815563184487; RHS Error 0.08047766050564105\n",
      "Iteration 125: LHS Error: 0.002573994863534601; RHS Error 0.0941293019164234\n",
      "Iteration 126: LHS Error: 0.0030244525267746347; RHS Error 0.11419118773419683\n",
      "Iteration 127: LHS Error: 0.006049480159218024; RHS Error 0.19821821334968381\n",
      "Iteration 128: LHS Error: 0.0029991662563886023; RHS Error 0.344672997093539\n",
      "Iteration 129: LHS Error: 0.002528807037571301; RHS Error 0.034630214460939675\n",
      "Iteration 130: LHS Error: 0.0025163125486238336; RHS Error 0.09030963601811008\n",
      "Iteration 131: LHS Error: 0.0030575737550095072; RHS Error 0.08437634978065886\n",
      "Iteration 132: LHS Error: 0.0333995259098013; RHS Error 0.09617709887801802\n",
      "Iteration 133: LHS Error: 0.018078076610374166; RHS Error 0.09558617797301988\n",
      "Iteration 134: LHS Error: 0.00729683096454975; RHS Error 0.08359358773421091\n",
      "Iteration 135: LHS Error: 0.014788891555756578; RHS Error 0.11394598474890061\n",
      "Iteration 136: LHS Error: 0.013247559924033203; RHS Error 2.080879480393895\n",
      "Iteration 137: LHS Error: 0.016392225382993786; RHS Error 0.5204193052169804\n",
      "Iteration 138: LHS Error: 0.008612037725096416; RHS Error 0.08837463900760929\n",
      "Iteration 139: LHS Error: 0.0025715089652352807; RHS Error 0.07620485919700115\n",
      "Iteration 140: LHS Error: 0.007831916208867667; RHS Error 0.24073492471633082\n",
      "Iteration 141: LHS Error: 0.00375811151027608; RHS Error 0.2839660261584143\n",
      "Iteration 142: LHS Error: 0.009081687257690013; RHS Error 0.09252647545580023\n"
     ]
    },
    {
     "ename": "KeyboardInterrupt",
     "evalue": "",
     "output_type": "error",
     "traceback": [
      "\u001b[0;31m---------------------------------------------------------------------------\u001b[0m",
      "\u001b[0;31mKeyboardInterrupt\u001b[0m                         Traceback (most recent call last)",
      "\u001b[0;32m<ipython-input-365-924a245bb94f>\u001b[0m in \u001b[0;36m<module>\u001b[0;34m\u001b[0m\n\u001b[0;32m----> 1\u001b[0;31m ϕ_grid, e_grid = false_transient(z_grid, y_grid, model_paras=pde_paras,\n\u001b[0m\u001b[1;32m      2\u001b[0m                                  v0=None, ϵ=.5, tol=1e-8, max_iter=10_000)\n",
      "\u001b[0;32m<ipython-input-355-e9e385e7dd96>\u001b[0m in \u001b[0;36mfalse_transient\u001b[0;34m(z_grid, y_grid, model_paras, v0, ε, tol, max_iter)\u001b[0m\n\u001b[1;32m     52\u001b[0m                                                 + (τ_2+τ_2p*(y_mat*z_mat>τ_bar))*z_mat/2*y_mat**2*σ_2**2)\n\u001b[1;32m     53\u001b[0m \u001b[0;34m\u001b[0m\u001b[0m\n\u001b[0;32m---> 54\u001b[0;31m         \u001b[0mres\u001b[0m \u001b[0;34m=\u001b[0m \u001b[0mfalse_transient_one_iteration\u001b[0m\u001b[0;34m(\u001b[0m\u001b[0mstateSpace\u001b[0m\u001b[0;34m,\u001b[0m \u001b[0mA\u001b[0m\u001b[0;34m,\u001b[0m \u001b[0mB_z\u001b[0m\u001b[0;34m,\u001b[0m \u001b[0mB_y\u001b[0m\u001b[0;34m,\u001b[0m \u001b[0mC_zz\u001b[0m\u001b[0;34m,\u001b[0m \u001b[0mC_yy\u001b[0m\u001b[0;34m,\u001b[0m \u001b[0mD\u001b[0m\u001b[0;34m,\u001b[0m \u001b[0mv0\u001b[0m\u001b[0;34m,\u001b[0m \u001b[0mϵ\u001b[0m\u001b[0;34m)\u001b[0m \u001b[0;31m# CG tol = 1e-10\u001b[0m\u001b[0;34m\u001b[0m\u001b[0;34m\u001b[0m\u001b[0m\n\u001b[0m\u001b[1;32m     55\u001b[0m         \u001b[0mv0\u001b[0m \u001b[0;34m=\u001b[0m \u001b[0mres\u001b[0m\u001b[0;34m[\u001b[0m\u001b[0;36m2\u001b[0m\u001b[0;34m]\u001b[0m\u001b[0;34m.\u001b[0m\u001b[0mreshape\u001b[0m\u001b[0;34m(\u001b[0m\u001b[0mv0\u001b[0m\u001b[0;34m.\u001b[0m\u001b[0mshape\u001b[0m\u001b[0;34m,\u001b[0m \u001b[0morder\u001b[0m \u001b[0;34m=\u001b[0m \u001b[0;34m\"F\"\u001b[0m\u001b[0;34m)\u001b[0m\u001b[0;34m\u001b[0m\u001b[0;34m\u001b[0m\u001b[0m\n\u001b[1;32m     56\u001b[0m \u001b[0;34m\u001b[0m\u001b[0m\n",
      "\u001b[0;32m<ipython-input-355-e9e385e7dd96>\u001b[0m in \u001b[0;36mfalse_transient_one_iteration\u001b[0;34m(stateSpace, A, B_z, B_y, C_zz, C_yy, D, v0, ε, tol)\u001b[0m\n\u001b[1;32m      5\u001b[0m     \u001b[0mD\u001b[0m \u001b[0;34m=\u001b[0m \u001b[0mD\u001b[0m\u001b[0;34m.\u001b[0m\u001b[0mreshape\u001b[0m\u001b[0;34m(\u001b[0m\u001b[0;34m-\u001b[0m\u001b[0;36m1\u001b[0m\u001b[0;34m,\u001b[0m \u001b[0;36m1\u001b[0m\u001b[0;34m,\u001b[0m \u001b[0morder\u001b[0m\u001b[0;34m=\u001b[0m\u001b[0;34m'F'\u001b[0m\u001b[0;34m)\u001b[0m\u001b[0;34m\u001b[0m\u001b[0;34m\u001b[0m\u001b[0m\n\u001b[1;32m      6\u001b[0m     \u001b[0mv0\u001b[0m \u001b[0;34m=\u001b[0m \u001b[0mv0\u001b[0m\u001b[0;34m.\u001b[0m\u001b[0mreshape\u001b[0m\u001b[0;34m(\u001b[0m\u001b[0;34m-\u001b[0m\u001b[0;36m1\u001b[0m\u001b[0;34m,\u001b[0m \u001b[0;36m1\u001b[0m\u001b[0;34m,\u001b[0m \u001b[0morder\u001b[0m\u001b[0;34m=\u001b[0m\u001b[0;34m'F'\u001b[0m\u001b[0;34m)\u001b[0m\u001b[0;34m\u001b[0m\u001b[0;34m\u001b[0m\u001b[0m\n\u001b[0;32m----> 7\u001b[0;31m     \u001b[0mout\u001b[0m \u001b[0;34m=\u001b[0m \u001b[0mSolveLinSys\u001b[0m\u001b[0;34m.\u001b[0m\u001b[0msolveFT\u001b[0m\u001b[0;34m(\u001b[0m\u001b[0mstateSpace\u001b[0m\u001b[0;34m,\u001b[0m \u001b[0mA\u001b[0m\u001b[0;34m,\u001b[0m \u001b[0mB\u001b[0m\u001b[0;34m,\u001b[0m \u001b[0mC\u001b[0m\u001b[0;34m,\u001b[0m \u001b[0mD\u001b[0m\u001b[0;34m,\u001b[0m \u001b[0mv0\u001b[0m\u001b[0;34m,\u001b[0m \u001b[0mε\u001b[0m\u001b[0;34m,\u001b[0m \u001b[0mtol\u001b[0m\u001b[0;34m)\u001b[0m\u001b[0;34m\u001b[0m\u001b[0;34m\u001b[0m\u001b[0m\n\u001b[0m\u001b[1;32m      8\u001b[0m     \u001b[0;32mreturn\u001b[0m \u001b[0mout\u001b[0m\u001b[0;34m\u001b[0m\u001b[0;34m\u001b[0m\u001b[0m\n\u001b[1;32m      9\u001b[0m \u001b[0;34m\u001b[0m\u001b[0m\n",
      "\u001b[0;31mKeyboardInterrupt\u001b[0m: "
     ]
    }
   ],
   "source": [
    "ϕ_grid, e_grid = false_transient(z_grid, y_grid, model_paras=pde_paras,\n",
    "                                 v0=None, ϵ=.5, tol=1e-8, max_iter=10_000)"
   ]
  },
  {
   "cell_type": "code",
   "execution_count": 334,
   "metadata": {},
   "outputs": [],
   "source": [
    "@njit(parallel=True)\n",
    "def simulate_emission(e_grid, y_grid, y_start=290, z_loc=25, T=100):\n",
    "    Et = np.zeros(T+1)\n",
    "    for i in range(T+1):\n",
    "        Et[i] = np.interp(y_start, y_grid, e_grid[z_loc])\n",
    "        y_start = y_start + Et[i]\n",
    "    return Et\n",
    "\n",
    "\n",
    "@njit(parallel=True)\n",
    "def simulate_capital(α_k, β_k, σ_k, β_z, σ_z, ioverk, κ, Ws, k_start, N=100_000, T=100, dt=1.):\n",
    "    var_z = dt*σ_z@σ_z/(1-(1-β_z*dt)**2)\n",
    "    std_z = np.sqrt(var_z)\n",
    "\n",
    "    time_periods = int(T/dt)\n",
    "    z_path = np.zeros((N, time_periods+1))\n",
    "    k_path = np.zeros((N, time_periods+1))\n",
    "    for i in range(N):\n",
    "        z0 = np.random.normal(0.,std_z)\n",
    "        k0 = k_start\n",
    "        z_path[i, 0] = z0\n",
    "        k_path[i, 0] = k0\n",
    "        for j in range(1, time_periods+1):\n",
    "            k1 = k0 + (α_k + β_k*z0 + ioverk - κ/2.*ioverk**2 - σ_k@σ_k/2.)*dt + σ_k@Ws[i, j]*np.sqrt(dt)\n",
    "            z1 = (1.-β_z*dt)*z0 + σ_z@Ws[i, j]*np.sqrt(dt)\n",
    "            k_path[i, j] = k1\n",
    "            z_path[i, j] = z1\n",
    "            k0 = k1\n",
    "            z0 = z1\n",
    "    return k_path"
   ]
  },
  {
   "cell_type": "code",
   "execution_count": 337,
   "metadata": {},
   "outputs": [],
   "source": [
    "e_grid_old = np.load('emission_grid.npy')"
   ]
  },
  {
   "cell_type": "code",
   "execution_count": 339,
   "metadata": {},
   "outputs": [
    {
     "data": {
      "image/png": "[encoded data removed]",
      "text/plain": [
       "<Figure size 432x288 with 1 Axes>"
      ]
     },
     "metadata": {
      "needs_background": "light"
     },
     "output_type": "display_data"
    }
   ],
   "source": [
    "plt.plot(y_grid, e_grid[25], label='new HJB')\n",
    "plt.plot(y_grid, e_grid_old[25], label='old HJB')\n",
    "plt.ylim(0, 25)\n",
    "plt.legend()\n",
    "plt.title(r'$e(y, z_2)$, $z_2=1.86/1000$')\n",
    "plt.xlabel('y')\n",
    "plt.ylabel('e')\n",
    "plt.savefig('plot.pdf')"
   ]
  },
  {
   "cell_type": "code",
   "execution_count": 335,
   "metadata": {},
   "outputs": [],
   "source": [
    "T = 100\n",
    "Et = simulate_emission(e_grid, y_grid, y_start=290, z_loc=25, T=T)"
   ]
  },
  {
   "cell_type": "code",
   "execution_count": 336,
   "metadata": {},
   "outputs": [
    {
     "data": {
      "text/plain": [
       "[<matplotlib.lines.Line2D at 0x7ff4c1b9bfd0>]"
      ]
     },
     "execution_count": 336,
     "metadata": {},
     "output_type": "execute_result"
    },
    {
     "data": {
      "image/png": "[encoded data removed]",
      "text/plain": [
       "<Figure size 432x288 with 1 Axes>"
      ]
     },
     "metadata": {
      "needs_background": "light"
     },
     "output_type": "display_data"
    }
   ],
   "source": [
    "plt.plot(Et)"
   ]
  },
  {
   "cell_type": "code",
   "execution_count": 20,
   "metadata": {},
   "outputs": [],
   "source": [
    "T = 100\n",
    "N = 1_000_000\n",
    "dt = 1.\n",
    "k_start = np.log(80/α)\n",
    "Ws = np.random.multivariate_normal(np.zeros(2), np.eye(2), (N, int(T/dt)))\n",
    "logk_path = simulate_capital(α_k, β_k, σ_k, β_z, σ_z, ioverk, κ, Ws, k_start, N=N, T=T, dt=dt)\n",
    "Kt = np.percentile(np.exp(logk_path), 50, axis=0)"
   ]
  },
  {
   "cell_type": "code",
   "execution_count": 21,
   "metadata": {},
   "outputs": [],
   "source": [
    "SCCt = η*(α-ioverk)*Kt/((1.-η)*Et)\n",
    "# SCCt = η*(0.025)*Kt/((1.-η)*Et)"
   ]
  },
  {
   "cell_type": "code",
   "execution_count": 123,
   "metadata": {},
   "outputs": [
    {
     "data": {
      "text/plain": [
       "Text(0.5, 0, 'Year')"
      ]
     },
     "execution_count": 123,
     "metadata": {},
     "output_type": "execute_result"
    },
    {
     "data": {
      "image/png": "[encoded data removed]",
      "text/plain": [
       "<Figure size 432x288 with 1 Axes>"
      ]
     },
     "metadata": {
      "needs_background": "light"
     },
     "output_type": "display_data"
    }
   ],
   "source": [
    "plt.plot(SCCt[:21]*1000)\n",
    "plt.ylim(0, None)\n",
    "plt.title('Figure 1: Social cost of carbon')\n",
    "plt.xlabel('Year')\n",
    "# plt.savefig('figure_1.pdf')"
   ]
  },
  {
   "cell_type": "code",
   "execution_count": 61,
   "metadata": {},
   "outputs": [],
   "source": [
    "import pickle\n",
    "with open('scc_bhh.pkl', 'rb') as f:\n",
    "    scc_bhh = pickle.load(f)\n",
    "with open('emission.pkl', 'rb') as f:\n",
    "    emission_bbh = pickle.load(f)"
   ]
  },
  {
   "cell_type": "code",
   "execution_count": 40,
   "metadata": {},
   "outputs": [
    {
     "data": {
      "text/plain": [
       "[<matplotlib.lines.Line2D at 0x7ff93378f3d0>]"
      ]
     },
     "execution_count": 40,
     "metadata": {},
     "output_type": "execute_result"
    },
    {
     "data": {
      "image/png": "[encoded data removed]",
      "text/plain": [
       "<Figure size 432x288 with 1 Axes>"
      ]
     },
     "metadata": {
      "needs_background": "light"
     },
     "output_type": "display_data"
    }
   ],
   "source": [
    "plt.plot(scc_bhh[0]['x'], scc_bhh[0]['y'])"
   ]
  },
  {
   "cell_type": "code",
   "execution_count": 45,
   "metadata": {},
   "outputs": [],
   "source": [
    "scc_low = np.array([scc_bhh[0]['y'][4*i] for i in range(21)])"
   ]
  },
  {
   "cell_type": "markdown",
   "metadata": {},
   "source": [
    "### SCC formula\n",
    "\n",
    "$$\n",
    "SCC = \\frac{\\eta\\left[\\color{red}{\\alpha - \\left(\\frac{i}{k}\\right)^*}\\right]K_t^*}{(1-\\eta)E_t^*}\n",
    "$$\n",
    "\n",
    "(1) in BBH, $\\alpha=0.115, \\left(\\frac{i}{k}\\right)^*=0.09$, so $\\left[\\alpha - \\left(\\frac{i}{k}\\right)^*\\right]=0.025$.\n",
    "\n",
    "(2) in the new paper, $\\alpha=0.2, \\left(\\frac{i}{k}\\right)^*=0.125$, so $\\left[\\alpha - \\left(\\frac{i}{k}\\right)^*\\right]=0.075$."
   ]
  },
  {
   "cell_type": "markdown",
   "metadata": {},
   "source": [
    "### Adjustment cost parameters\n",
    "\n",
    "$\\alpha=0.115, \\left(\\frac{i}{k}\\right)^*=0.09$\n",
    "\n",
    "From FOC of $\\frac{i}{k}$, we have:\n",
    "$$\n",
    "1-\\kappa \\left(\\frac{i}{k}\\right)^* - \\frac{\\delta}{\\alpha-\\left(\\frac{i}{k}\\right)^*} = 0 \n",
    "$$\n",
    "\n",
    "Therefore $\\kappa=6.667$"
   ]
  },
  {
   "cell_type": "markdown",
   "metadata": {},
   "source": [
    "### Log damage evolution\n",
    "\n",
    "$$\n",
    "d\\log N_t = \\left[\\frac{d}{d\\tau}\\Lambda(Z_{2,t} F_t)[E_tZ_t-\\rho(Z_{2,t}-\\mu_2)F_t]+\\frac{1}{2}\\frac{d^2}{d\\tau^2}\\Lambda(Z_{2,t}F_t)Z_{2,t}F_t^2\\sigma_2^2\\right]dt + \\frac{d}{d\\tau} \\Lambda(Z_{2,t}F_t)F_t\\sqrt{Z_{2,t}}\\sigma_zdW_t\n",
    "$$\n",
    "\n",
    "where\n",
    "\n",
    "$$\n",
    "dZ_t^2 = -\\rho(Z_t^2 - \\mu_2) dt + \\sqrt{Z_t^2}\\sigma_2 d W_{2,t}\n",
    "$$\n",
    "\n",
    "$$\n",
    "\\Lambda(\\tau) = \\lambda_1 \\tau + \\frac{\\lambda_2}{2} \\tau^2\n",
    "$$"
   ]
  },
  {
   "cell_type": "code",
   "execution_count": 102,
   "metadata": {},
   "outputs": [
    {
     "data": {
      "text/plain": [
       "6.666666666666668"
      ]
     },
     "execution_count": 102,
     "metadata": {},
     "output_type": "execute_result"
    }
   ],
   "source": [
    "(1-δ/(α-ioverk))/ioverk"
   ]
  },
  {
   "cell_type": "code",
   "execution_count": 114,
   "metadata": {},
   "outputs": [
    {
     "data": {
      "text/plain": [
       "0.02009865"
      ]
     },
     "execution_count": 114,
     "metadata": {},
     "output_type": "execute_result"
    }
   ],
   "source": [
    "-0.0429 + ioverk - κ/2.*ioverk**2"
   ]
  },
  {
   "cell_type": "code",
   "execution_count": 124,
   "metadata": {},
   "outputs": [
    {
     "data": {
      "image/png": "[encoded data removed]",
      "text/plain": [
       "<Figure size 432x288 with 1 Axes>"
      ]
     },
     "metadata": {
      "needs_background": "light"
     },
     "output_type": "display_data"
    }
   ],
   "source": [
    "plt.plot(SCCt[:21]*1000, label='new')\n",
    "plt.plot(scc_low, label='BBH low damage')\n",
    "plt.ylim(0, 150)\n",
    "plt.xlabel('Year')\n",
    "plt.legend()\n",
    "plt.title('SCC comparison')\n",
    "plt.savefig('scc.pdf')"
   ]
  },
  {
   "cell_type": "code",
   "execution_count": 71,
   "metadata": {},
   "outputs": [
    {
     "data": {
      "image/png": "[encoded data removed]",
      "text/plain": [
       "<Figure size 432x288 with 1 Axes>"
      ]
     },
     "metadata": {
      "needs_background": "light"
     },
     "output_type": "display_data"
    }
   ],
   "source": [
    "plt.plot(Et[:21], label='new')\n",
    "plt.plot(emission_low, label='BBH low damage')\n",
    "plt.ylim(0, 20)\n",
    "plt.xlabel('Year')\n",
    "plt.legend()\n",
    "plt.title('Emission comparison')\n",
    "plt.savefig('emission.pdf')"
   ]
  },
  {
   "cell_type": "code",
   "execution_count": 66,
   "metadata": {},
   "outputs": [],
   "source": [
    "emission_low = np.array([emission_bbh[0]['y'][4*i] for i in range(21)])"
   ]
  },
  {
   "cell_type": "code",
   "execution_count": null,
   "metadata": {},
   "outputs": [],
   "source": []
  }
 ],
 "metadata": {
  "kernelspec": {
   "display_name": "Python 3",
   "language": "python",
   "name": "python3"
  },
  "language_info": {
   "codemirror_mode": {
    "name": "ipython",
    "version": 3
   },
   "file_extension": ".py",
   "mimetype": "text/x-python",
   "name": "python",
   "nbconvert_exporter": "python",
   "pygments_lexer": "ipython3",
   "version": "3.8.5"
  }
 },
 "nbformat": 4,
 "nbformat_minor": 4
}
