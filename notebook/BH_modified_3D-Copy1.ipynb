{
 "cells": [
  {
   "cell_type": "code",
   "execution_count": 1,
   "metadata": {},
   "outputs": [],
   "source": [
    "import os, sys\n",
    "sys.path.append(os.path.dirname(os.getcwd()) + '/source')\n",
    "\n",
    "import numpy as np\n",
    "import matplotlib.pyplot as plt\n",
    "import SolveLinSys\n",
    "from utilities import compute_derivatives_3d"
   ]
  },
  {
   "cell_type": "markdown",
   "metadata": {},
   "source": [
    "Equation:\n",
    "\n",
    "$$\n",
    "0 = \\max_{e} \\min_{h_2} b\\left[\\delta \\eta \\log e - \\delta(1-\\eta) \\color{red}{\\gamma_1} y z_2 -\\frac{\\gamma_2}{2}\\beta_f^2 z_2^2y^2  + \\xi_m\\frac{(h_2)^2}{2}\\right] -\\ell e + \\frac{\\partial \\phi}{\\partial y}(y, b, z_2;\\ell) e - \\frac{\\partial \\phi}{\\partial b}(y, b, z_2;\\ell) \\delta b + \\left[\\frac{\\partial \\phi}{\\partial z_2}(y, b, z_2;\\ell)\\right]\\left[-\\rho (z_2 -\\mu_2) + \\sqrt{z_2} \\sigma_2 h_2\\right] + \\left[\\frac{\\partial^2 \\phi}{\\partial(z_2)^2}(y,b, z_2;\\ell)\\right]\\left(\\frac{z_2|\\sigma_2|^2}{2}\\right)\n",
    "$$\n",
    "\n",
    "where\n",
    "\n",
    "\\begin{align*}\n",
    "\\color{red}{\\gamma_1} &= 0.00017675\\\\\n",
    "\\gamma_2 &= 0.0044\\\\\n",
    "\\beta_f & = 1.86/1000\n",
    "\\end{align*}\n",
    "\n",
    "FOC of $h_2$ gives : \n",
    "\n",
    "$$\n",
    "h_2^* = -\\frac{\\left[\\frac{\\partial \\phi}{\\partial z_2}(y, b, z_2;\\ell)\\right]\\sqrt{z_2}\\sigma_2}{b\\xi_m}\n",
    "$$\n",
    "\n",
    "FOC of $e$ gives :\n",
    "\n",
    "$$\n",
    "e^* = \\frac{b \\delta \\eta}{\\ell - \\frac{\\partial \\phi}{\\partial y}(y, b, z_2; \\ell)}\n",
    "$$"
   ]
  },
  {
   "cell_type": "code",
   "execution_count": 11,
   "metadata": {},
   "outputs": [],
   "source": [
    "def false_transient_one_iteration(stateSpace, A, B_z, B_b, B_y, C_zz, C_bb, C_yy, D, v0, ε=.3, tol=-10):\n",
    "    A = A.reshape(-1, 1, order='F')\n",
    "    B = np.hstack([B_z.reshape(-1, 1, order='F'), B_b.reshape(-1, 1, order='F'), B_y.reshape(-1, 1, order='F')])\n",
    "    C = np.hstack([C_zz.reshape(-1, 1, order='F'), C_bb.reshape(-1, 1, order='F'), C_yy.reshape(-1, 1, order='F')])\n",
    "    D = D.reshape(-1, 1, order='F')\n",
    "    v0 = v0.reshape(-1, 1, order='F')\n",
    "    out = SolveLinSys.solveFT(stateSpace, A, B, C, D, v0, ε, tol)\n",
    "    return out\n",
    "\n",
    "\n",
    "def false_transient(z_grid, b_grid, y_grid, ℓ, model_paras=(), v0=None, ϵ=.5, tol=1e-8, max_iter=10_000):\n",
    "    τ, η, ξ_m, δ, η, μ_2, ρ, σ_2 = model_paras\n",
    "    β_f = 1.86/1000\n",
    "    γ_2 = 2*0.0022\n",
    "\n",
    "    Δ_z = z_grid[1] - z_grid[0]\n",
    "    Δ_b = b_grid[1] - b_grid[0]\n",
    "    Δ_y = y_grid[1] - y_grid[0]\n",
    "    (z_mat, b_mat, y_mat) = np.meshgrid(z_grid, b_grid, y_grid, indexing = 'ij')\n",
    "    stateSpace = np.hstack([z_mat.reshape(-1, 1, order='F'), b_mat.reshape(-1, 1, order='F'), y_mat.reshape(-1, 1, order='F')])\n",
    "\n",
    "    if v0 is None:\n",
    "        v0 = np.zeros_like(z_mat)\n",
    "\n",
    "    count = 1\n",
    "    error = 1.\n",
    "    \n",
    "#     e_old = 0. # smooth\n",
    "#     h_old = 0. # smooth\n",
    "    \n",
    "    while error > tol and count < max_iter:\n",
    "        v_old = v0.copy()\n",
    "        v0_dz = compute_derivatives_3d(v0, 0, 1, Δ_z)\n",
    "        v0_dzz = compute_derivatives_3d(v0, 0, 2, Δ_z)\n",
    "        v0_db = compute_derivatives_3d(v0, 1, 1, Δ_b)\n",
    "        v0_dy = compute_derivatives_3d(v0, 2, 1, Δ_y)\n",
    "\n",
    "        e = b_mat*δ*η / (ℓ-v0_dy)\n",
    "        e[e<=0] = 1e-5\n",
    "        h = -v0_dz*np.sqrt(z_mat)*σ_2 / (b_mat*ξ_m)\n",
    "        \n",
    "#         e = e*0.1 + e_old*0.9 # smooth\n",
    "#         h = h*0.1 + h_old*0.9 # smooth\n",
    "        \n",
    "        A = np.zeros_like(z_mat)\n",
    "        B_z = -ρ*(z_mat - μ_2) + np.sqrt(z_mat)*σ_2*h\n",
    "        B_b = -(δ*b_mat)\n",
    "        B_y = e\n",
    "        C_zz = z_mat*σ_2**2/2\n",
    "        C_bb = np.zeros_like(z_mat)\n",
    "        C_yy = np.zeros_like(z_mat)\n",
    "        D = b_mat*(δ*η*np.log(e) - δ*(1-η)*y_mat*z_mat - γ_2*β_f**2*z_mat**2*y_mat**2/2 + ξ_m*h**2/2) - ℓ*e\n",
    "\n",
    "        res = false_transient_one_iteration(stateSpace, A, B_z, B_b, B_y, C_zz, C_bb, C_yy, D, v0, ϵ) # CG tol = 1e-10\n",
    "        v0 = res[2].reshape(v0.shape, order = \"F\")\n",
    "\n",
    "        rhs_error = A*v0 + B_z*v0_dz + B_b*v0_db + B_y*v0_dy + C_zz*v0_dzz + D\n",
    "        rhs_error = np.max(abs(rhs_error))\n",
    "        lhs_error = np.max(abs((v0 - v_old)/ϵ))\n",
    "        error = lhs_error\n",
    "        \n",
    "#         e_old = e.copy() # smooth\n",
    "#         h_old = h.copy() # smooth\n",
    "        \n",
    "        print(\"Iteration %s: LHS Error: %s; RHS Error %s\" % (count, lhs_error, rhs_error))\n",
    "        count += 1\n",
    "    print(\"Iteration %s: LHS Error: %s; RHS Error %s\" % (count, lhs_error, rhs_error))\n",
    "    return v0, e"
   ]
  },
  {
   "cell_type": "code",
   "execution_count": 16,
   "metadata": {},
   "outputs": [],
   "source": [
    "# Model parameters\n",
    "median = 1.75/1000\n",
    "γ = .018\n",
    "τ = median * γ\n",
    "η = .032\n",
    "ξ_m = .00256\n",
    "δ = .01\n",
    "η = .032\n",
    "\n",
    "μ_2 = 1.\n",
    "ρ = 0.99\n",
    "σ_2 = np.sqrt((.21)**2*2*ρ/μ_2) # Match moments, using 100 year's std\n",
    "# σ_2 = 0.004\n",
    "\n",
    "model_paras = (τ, η, ξ_m, δ, η, μ_2, ρ, σ_2)\n",
    "\n",
    "# Grid setting\n",
    "n_z = 20\n",
    "z_min = 0.9\n",
    "z_max = 1.1\n",
    "z_grid = np.linspace(z_min, z_max, n_z)\n",
    "\n",
    "n_b = 20\n",
    "b_min = 2e-2\n",
    "b_max = 1.\n",
    "b_grid = np.linspace(b_min, b_max, n_b)\n",
    "\n",
    "n_y = 40\n",
    "y_min = 1e-2\n",
    "y_max = 3000.\n",
    "y_grid = np.linspace(y_min, y_max, n_y)\n",
    "\n",
    "# ℓ setting\n",
    "log_ell_grid = np.linspace(-13, -5, 200)\n",
    "ℓ_step = 1e-7"
   ]
  },
  {
   "cell_type": "code",
   "execution_count": 17,
   "metadata": {},
   "outputs": [
    {
     "data": {
      "text/plain": [
       "0.2954961928688761"
      ]
     },
     "execution_count": 17,
     "metadata": {},
     "output_type": "execute_result"
    }
   ],
   "source": [
    "σ_2"
   ]
  },
  {
   "cell_type": "code",
   "execution_count": 14,
   "metadata": {},
   "outputs": [],
   "source": [
    "# ψs = []\n",
    "# ψs_next = []\n",
    "# ψ_guess = np.load('phi_guess.npy')\n",
    "\n",
    "# for i, ℓ in enumerate(np.exp(log_ell_grid)):\n",
    "#     print(i)\n",
    "#     max_iter = 2000\n",
    "#     ψ = false_transient(z_grid, b_grid, y_grid, ℓ, model_paras=model_paras, v0=ψ_guess, ϵ=.5, tol=1e-8, max_iter=max_iter)\n",
    "#     ψ_next = false_transient(z_grid, b_grid, y_grid, ℓ+ℓ_step, model_paras=model_paras, v0=ψ_guess, ϵ=.5, tol=1e-8, max_iter=max_iter)\n",
    "#     ψs.append(ψ)\n",
    "#     ψs_next.append(ψ_next)"
   ]
  },
  {
   "cell_type": "code",
   "execution_count": 15,
   "metadata": {},
   "outputs": [
    {
     "name": "stdout",
     "output_type": "stream",
     "text": [
      "Iteration 1: LHS Error: 12.652932071105354; RHS Error 32.02462240685159\n",
      "Iteration 2: LHS Error: 59.38041936658091; RHS Error 29365.906529742795\n",
      "Iteration 3: LHS Error: 19.75943595785743; RHS Error 7323.36834993054\n",
      "Iteration 4: LHS Error: 20.82153539715553; RHS Error 1834.1133365537303\n",
      "Iteration 5: LHS Error: 24.859041525790825; RHS Error 473.10935214986984\n",
      "Iteration 6: LHS Error: 27.25440900563641; RHS Error 10112.391467396357\n",
      "Iteration 7: LHS Error: 34.80328761550216; RHS Error 11865.881560825612\n",
      "Iteration 8: LHS Error: 40.93275944993485; RHS Error 35937.07931708125\n",
      "Iteration 9: LHS Error: 75.14678803106492; RHS Error 1844404.4157873264\n",
      "Iteration 10: LHS Error: 75.14678803106492; RHS Error 1844404.4157873264\n"
     ]
    }
   ],
   "source": [
    "ψ, e = false_transient(z_grid, b_grid, y_grid, 1e-7, model_paras=model_paras, v0=None, ϵ=.5, tol=1e-8, max_iter=10)"
   ]
  },
  {
   "cell_type": "code",
   "execution_count": 10,
   "metadata": {},
   "outputs": [
    {
     "data": {
      "text/plain": [
       "array([[[ -0.39946147,  -0.48093477,  -0.17055966, ...,  -1.5418252 ,\n",
       "          -1.76839654,  -1.56558802],\n",
       "        [ -0.10837369,  -0.20611687,  -0.32574031, ...,  -6.88207094,\n",
       "          -5.82096958,  -1.0233314 ],\n",
       "        [ -0.313319  ,  -0.36013671,  -0.60015782, ..., -10.10550676,\n",
       "          -7.95255048,  -8.30490852],\n",
       "        ...,\n",
       "        [-13.35625494, -16.4481433 , -12.4314321 , ..., -63.82795087,\n",
       "         -48.07246279, -31.01113452],\n",
       "        [ -3.10065803,  -8.33036227,  -7.16499431, ..., -64.64641664,\n",
       "         -46.37429319, -31.0338881 ],\n",
       "        [ -5.43458264,  -8.19199159,  -8.83924226, ..., -61.94491758,\n",
       "         -44.39954001, -33.13498337]],\n",
       "\n",
       "       [[ -0.40056791,  -0.48143628,  -0.16673048, ...,  -1.54164452,\n",
       "          -1.76857188,  -1.56569964],\n",
       "        [ -0.10861638,  -0.20574751,  -0.32565441, ...,  -6.88174576,\n",
       "          -5.81990852,  -1.0235494 ],\n",
       "        [ -0.3129983 ,  -0.35987403,  -0.60034548, ..., -10.1047676 ,\n",
       "          -7.9516797 ,  -8.30552018],\n",
       "        ...,\n",
       "        [-13.35753563, -16.44704011, -12.42807516, ..., -63.83608862,\n",
       "         -48.0792211 , -31.01616509],\n",
       "        [ -3.09947434,  -8.32768811,  -7.16768335, ..., -64.66161603,\n",
       "         -46.38148862, -31.03930672],\n",
       "        [ -5.43637187,  -8.19112385,  -8.84079818, ..., -61.9622066 ,\n",
       "         -44.40584439, -33.13961362]],\n",
       "\n",
       "       [[ -0.40175316,  -0.48193353,  -0.16110109, ...,  -1.54145675,\n",
       "          -1.76873198,  -1.56580818],\n",
       "        [ -0.10890611,  -0.20530139,  -0.32562912, ...,  -6.88140712,\n",
       "          -5.81879954,  -1.02374638],\n",
       "        [ -0.31246522,  -0.35965812,  -0.6005225 , ..., -10.10399181,\n",
       "          -7.95075292,  -8.30610109],\n",
       "        ...,\n",
       "        [-13.35884439, -16.44444142, -12.42468891, ..., -63.84404997,\n",
       "         -48.08578511, -31.02098116],\n",
       "        [ -3.09815935,  -8.32493808,  -7.17038085, ..., -64.67672244,\n",
       "         -46.38847835, -31.04449615],\n",
       "        [ -5.43814852,  -8.19056702,  -8.84217984, ..., -61.97941432,\n",
       "         -44.41191614, -33.14398532]],\n",
       "\n",
       "       ...,\n",
       "\n",
       "       [[ -0.4107389 ,  -0.48857007,  -0.1372488 , ...,  -1.53340007,\n",
       "          -1.81502581,  -1.56630082],\n",
       "        [ -0.11692319,  -0.20171592,  -0.32379915, ...,  -6.88014547,\n",
       "          -5.78576515,  -1.02575228],\n",
       "        [ -0.27080327,  -0.35748793,  -0.59918772, ..., -10.09764819,\n",
       "          -7.89864187,  -8.31021912],\n",
       "        ...,\n",
       "        [-13.37828371, -16.26074562, -12.39181483, ..., -64.26979781,\n",
       "         -48.47520659, -31.06511475],\n",
       "        [ -4.09051472,  -8.28048144,  -7.23490348, ..., -65.32692848,\n",
       "         -46.72482584, -31.117491  ],\n",
       "        [ -5.46277864,  -8.18494083,  -8.84224822, ..., -62.80208599,\n",
       "         -44.61318235, -33.20594458]],\n",
       "\n",
       "       [[ -0.41258429,  -0.48901109,  -0.13676706, ...,  -1.53276324,\n",
       "          -1.81537969,  -1.56629602],\n",
       "        [ -0.11731622,  -0.20148701,  -0.32353849, ...,  -6.88096652,\n",
       "          -5.78471676,  -1.02598384],\n",
       "        [ -0.27183684,  -0.35736904,  -0.59880698, ..., -10.10138103,\n",
       "          -7.89379662,  -8.31049792],\n",
       "        ...,\n",
       "        [-13.37957225, -16.24389733, -12.39156197, ..., -64.37580987,\n",
       "         -48.65006689, -31.07155412],\n",
       "        [ -4.0958182 ,  -8.28208417,  -7.23674259, ..., -65.4231523 ,\n",
       "         -46.83184208, -31.14103804],\n",
       "        [ -5.46412378,  -8.1839081 ,  -8.83983731, ..., -62.94028138,\n",
       "         -44.67482164, -33.21784416]],\n",
       "\n",
       "       [[ -0.41580738,  -0.48954117,  -0.13619012, ...,  -1.53228011,\n",
       "          -1.8154458 ,  -1.56629417],\n",
       "        [ -0.11761455,  -0.20124974,  -0.32327296, ...,  -6.8815429 ,\n",
       "          -5.78392528,  -1.02624326],\n",
       "        [ -0.27232073,  -0.35724413,  -0.59842137, ..., -10.10677621,\n",
       "          -7.89009776,  -8.31084532],\n",
       "        ...,\n",
       "        [-13.38084181, -16.22604803, -12.39136386, ..., -64.46312975,\n",
       "         -48.85057548, -31.0803299 ],\n",
       "        [ -4.09859566,  -8.28331324,  -7.23802609, ..., -65.49640993,\n",
       "         -46.93176887, -31.17540717],\n",
       "        [ -5.46545395,  -8.18277451,  -8.83470994, ..., -63.04780498,\n",
       "         -44.73469126, -33.22978299]]])"
      ]
     },
     "execution_count": 10,
     "metadata": {},
     "output_type": "execute_result"
    }
   ],
   "source": []
  },
  {
   "cell_type": "code",
   "execution_count": null,
   "metadata": {},
   "outputs": [],
   "source": [
    "# np.save('phi_guess.npy', ψ)"
   ]
  },
  {
   "cell_type": "code",
   "execution_count": null,
   "metadata": {},
   "outputs": [],
   "source": [
    "# fig = go.Figure(data=[go.Surface(z=ψ[10,:,:])])\n",
    "\n",
    "# fig.update_layout(title='Mt Bruno Elevation', autosize=False,\n",
    "#                   width=500, height=500,\n",
    "#                   margin=dict(l=65, r=50, b=65, t=90))\n",
    "\n",
    "# fig.show()\n",
    "\n",
    "plt.figure()\n",
    "plt.plot(y_grid, ψ[10,10,:])\n",
    "plt.title(r'Figure 3: $\\phi(y,b,z_2)$ when $z_2=1.$, $b=0.5$ ')\n",
    "plt.xlabel('y')\n",
    "plt.ylabel('ϕ')\n",
    "plt.savefig('fig_3.pdf')\n",
    "\n",
    "plt.figure()\n",
    "plt.plot(y_grid, ψ[10,10,:])\n",
    "plt.title(r'Figure 2: $\\phi(y,b,z_2)$ when $z_2=1.$, $b=0.01$ ')\n",
    "plt.xlabel('y')\n",
    "plt.ylabel('ϕ')\n",
    "# plt.savefig('fig_2.pdf')"
   ]
  },
  {
   "cell_type": "code",
   "execution_count": null,
   "metadata": {},
   "outputs": [],
   "source": [
    "plt.figure()\n",
    "plt.plot(y_grid, ψ[10,20,:])\n",
    "plt.title(r'Figure 1: $\\phi(y,b,z_2)$ when $z_2=1.$, $b=0.5$ ')\n",
    "plt.xlabel('y')\n",
    "plt.ylabel('ϕ')\n",
    "plt.savefig('fig_3.pdf')"
   ]
  },
  {
   "cell_type": "code",
   "execution_count": null,
   "metadata": {},
   "outputs": [],
   "source": [
    "from numba import njit\n",
    "@njit\n",
    "def simulate_z(μ, ρ, σ, T):\n",
    "    Ws = np.random.normal(0., 1., T)\n",
    "    Zs = np.zeros(T)\n",
    "    Zs[0] = μ\n",
    "    for i in range(1, T):\n",
    "        Zs[i] = Zs[i-1] - ρ*(Zs[i-1]-μ) + np.sqrt(Zs[i-1])*σ*Ws[i]\n",
    "    return Zs\n",
    "\n",
    "\n",
    "def simulate_z_path(μ, ρ, σ, T, dt=1./365):\n",
    "    time_periods = int(T/dt)\n",
    "    time_path = np.arange(dt, T+dt, dt)\n",
    "    Ws = np.random.normal(0., dt, time_periods)\n",
    "    Zs = np.zeros(time_periods)\n",
    "    Zs[0] = μ\n",
    "    for i in range(1, time_periods):\n",
    "        Zs[i] = Zs[i-1] - ρ*(Zs[i-1]-μ)*dt + np.sqrt(Zs[i-1])*σ*Ws[i]\n",
    "    return Zs, time_path"
   ]
  },
  {
   "cell_type": "code",
   "execution_count": null,
   "metadata": {},
   "outputs": [],
   "source": [
    "res = simulate_z(μ_2, .99, 0.004, 1000)\n",
    "# plt.hist(res, bins=2000, label=r'Var(Z) = .004')\n",
    "# plt.title(r'Figure 1: $\\mu_2 = 1$, $\\rho = .99$, $\\sigma_2 = .004$')\n",
    "# plt.legend()\n",
    "# plt.savefig('fig_1.pdf')\n",
    "# plt.show()"
   ]
  },
  {
   "cell_type": "code",
   "execution_count": null,
   "metadata": {},
   "outputs": [],
   "source": [
    "res_z, res_t = simulate_z_path(μ_2, .99, 0.004, 200, 1./12)\n",
    "plt.plot(res_t, res_z)\n",
    "plt.title(r'$Z_t$, path 4')\n",
    "plt.xlabel('Year')\n",
    "plt.savefig('path_4.pdf')\n",
    "# res = simulate_z(μ_2, .99, 0.004, 1000)\n",
    "# plt.plot(res[:200])\n",
    "# res = simulate_z(μ_2, .99, 0.004, 1000)\n",
    "# plt.plot(res[:200])"
   ]
  },
  {
   "cell_type": "code",
   "execution_count": null,
   "metadata": {},
   "outputs": [],
   "source": [
    "np.std(res)*5"
   ]
  },
  {
   "cell_type": "code",
   "execution_count": null,
   "metadata": {},
   "outputs": [],
   "source": [
    "np.percentile(res, 1)"
   ]
  },
  {
   "cell_type": "code",
   "execution_count": null,
   "metadata": {},
   "outputs": [],
   "source": [
    "res = simulate_z(μ_2, 1e-8, 2.97e-5, 100_000_000)"
   ]
  },
  {
   "cell_type": "code",
   "execution_count": null,
   "metadata": {},
   "outputs": [],
   "source": [
    "plt.hist(res, bins=2000, label=r'Var(Z) = 0.21')\n",
    "plt.title(r'Figure 2: $\\mu_2 = 1$, $\\rho = 10^{-8}$, $\\sigma_2 = 3*10^{-5}$')\n",
    "plt.legend()\n",
    "plt.savefig('fig_2.pdf')\n",
    "plt.show()"
   ]
  }
 ],
 "metadata": {
  "kernelspec": {
   "display_name": "Python 3",
   "language": "python",
   "name": "python3"
  },
  "language_info": {
   "codemirror_mode": {
    "name": "ipython",
    "version": 3
   },
   "file_extension": ".py",
   "mimetype": "text/x-python",
   "name": "python",
   "nbconvert_exporter": "python",
   "pygments_lexer": "ipython3",
   "version": "3.8.3"
  }
 },
 "nbformat": 4,
 "nbformat_minor": 4
}
