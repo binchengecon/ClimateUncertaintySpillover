{
 "cells": [
  {
   "cell_type": "code",
   "execution_count": 43,
   "metadata": {},
   "outputs": [],
   "source": [
    "import os, sys\n",
    "sys.path.append(os.path.dirname(os.getcwd()) + '/source')\n",
    "\n",
    "from model import ode_y_damage_ambiguity, uncertainty_decomposition_damage_ambiguity\n",
    "from simulation import simulation\n",
    "from utilities import find_nearest_value\n",
    "from numba import njit\n",
    "import numpy as np\n",
    "import pandas as pd\n",
    "import matplotlib.pyplot as plt\n",
    "import matplotlib as mpl\n",
    "mpl.rcParams['axes.spines.right'] = False\n",
    "mpl.rcParams['axes.spines.top'] = False"
   ]
  },
  {
   "cell_type": "code",
   "execution_count": 48,
   "metadata": {},
   "outputs": [
    {
     "name": "stdout",
     "output_type": "stream",
     "text": [
      "Converged. Total iteration 1610: LHS Error: 9.954781887699937e-09; RHS Error 0.0018524755055898817\n"
     ]
    }
   ],
   "source": [
    "ξ_a = .01\n",
    "# ξ_a = 1000.\n",
    "\n",
    "η = .032\n",
    "δ = .01\n",
    "\n",
    "θ = pd.read_csv('../data/model144.csv', header=None).to_numpy()[:, 0]/1000.\n",
    "πc_o = np.ones_like(θ)/len(θ)\n",
    "σ_y = 1.2*np.mean(θ)\n",
    "\n",
    "y_bar = 2.\n",
    "γ_1 = 1.7675/10000\n",
    "γ_2 = .0022*2\n",
    "γ_2p = np.array([0, .0197*2, .3853*2])\n",
    "# γ_2p = np.array([0, .0197*2*2, .3853*2])\n",
    "\n",
    "y_step = .02\n",
    "y_grid = np.arange(0., 4., y_step)\n",
    "\n",
    "n_damage = len(γ_2p)\n",
    "n_temp = 16\n",
    "n_carb = 9\n",
    "\n",
    "# Combine θ and γ_2p\n",
    "θ_new = np.zeros((len(γ_2p), len(θ)))\n",
    "γ_2p_new = np.zeros((len(γ_2p), len(θ)))\n",
    "for i in range(len(γ_2p)):\n",
    "    for j in range(len(θ)):\n",
    "        θ_new[i, j] = θ[j]\n",
    "        γ_2p_new[i, j] = γ_2p[i]\n",
    "θ_new = θ_new.reshape(-1)\n",
    "γ_2p_new = γ_2p_new.reshape(-1)\n",
    "πc_o_new = np.ones_like(θ_new)/len(θ_new)\n",
    "\n",
    "model_paras = (η, δ, θ_new, πc_o_new, σ_y, ξ_a, γ_1, γ_2, γ_2p_new, y_bar) \n",
    "model_res = ode_y_damage_ambiguity(y_grid, model_paras, v0=None, ϵ=1.,\n",
    "                  tol=1e-8, max_iter=5_000, print_all=False)"
   ]
  },
  {
   "cell_type": "code",
   "execution_count": 3,
   "metadata": {},
   "outputs": [],
   "source": [
    "np.save('emission_damage_ambiguity', model_res['e_tilde'])"
   ]
  },
  {
   "cell_type": "code",
   "execution_count": 66,
   "metadata": {},
   "outputs": [],
   "source": [
    "et, yt, _, _ = simulation(y_grid, model_res['e_tilde'],\n",
    "                          np.zeros_like(y_grid),\n",
    "                          np.zeros((3, len(y_grid))),\n",
    "                          θ=np.mean(θ), y_start=np.mean(θ)*290, T=200)"
   ]
  },
  {
   "cell_type": "code",
   "execution_count": 68,
   "metadata": {},
   "outputs": [],
   "source": [
    "yt_10 = yt[10]\n",
    "yt_50 = yt[50]\n",
    "yt_90 = yt[90]\n",
    "\n",
    "yt_10_loc = find_nearest_value(y_grid, yt_10)\n",
    "yt_50_loc = find_nearest_value(y_grid, yt_50)\n",
    "yt_90_loc = find_nearest_value(y_grid, yt_90)\n",
    "\n",
    "πc_10 = model_res['πc'][:, yt_10_loc].reshape((n_damage, n_temp, n_carb))\n",
    "πc_50 = model_res['πc'][:, yt_50_loc].reshape((n_damage, n_temp, n_carb))\n",
    "πc_90 = model_res['πc'][:, yt_90_loc].reshape((n_damage, n_temp, n_carb))\n",
    "\n",
    "πc_10_damage = πc_10.sum(axis=(1, 2))\n",
    "πc_50_damage = πc_50.sum(axis=(1, 2))\n",
    "πc_90_damage = πc_90.sum(axis=(1, 2))\n",
    "\n",
    "πc_10_temp_carb = πc_10.sum(axis=0).reshape(-1)\n",
    "πc_50_temp_carb = πc_50.sum(axis=0).reshape(-1)\n",
    "πc_90_temp_carb = πc_90.sum(axis=0).reshape(-1)"
   ]
  },
  {
   "cell_type": "code",
   "execution_count": 42,
   "metadata": {},
   "outputs": [
    {
     "data": {
      "text/plain": [
       "(0.8, 3.0)"
      ]
     },
     "execution_count": 42,
     "metadata": {},
     "output_type": "execute_result"
    },
    {
     "data": {
      "image/png": "[encoded data removed]",
      "text/plain": [
       "<Figure size 432x360 with 1 Axes>"
      ]
     },
     "metadata": {
      "needs_background": "light"
     },
     "output_type": "display_data"
    }
   ],
   "source": [
    "plt.figure(figsize=(6, 5))\n",
    "bins = np.linspace(1., 3., 15)\n",
    "\n",
    "plt.hist(θ*1000, bins=bins, color='tab:red', histtype='bar', ec='gray', alpha=.5, density=True)\n",
    "plt.hist(θ*1000, weights=πc_10_temp_carb, bins=bins, color='tab:blue', histtype='bar', ec='gray', alpha=.5, density=True)\n",
    "plt.xlabel('Climate sensitivity', fontsize=13)\n",
    "plt.ylabel('Density', fontsize=13)\n",
    "plt.ylim(0, 1.5)\n",
    "plt.xticks(np.arange(0,3+0.5, 0.5))\n",
    "plt.xlim(.8, 3)"
   ]
  },
  {
   "cell_type": "code",
   "execution_count": 36,
   "metadata": {},
   "outputs": [
    {
     "data": {
      "text/plain": [
       "(0.8, 3.0)"
      ]
     },
     "execution_count": 36,
     "metadata": {},
     "output_type": "execute_result"
    },
    {
     "data": {
      "image/png": "[encoded data removed]",
      "text/plain": [
       "<Figure size 432x360 with 1 Axes>"
      ]
     },
     "metadata": {
      "needs_background": "light"
     },
     "output_type": "display_data"
    }
   ],
   "source": [
    "plt.figure(figsize=(6, 5))\n",
    "bins = np.linspace(0., 3., 21)\n",
    "\n",
    "plt.hist(θ*1000, bins=bins, color='tab:red', histtype='bar', ec='gray', alpha=.5, density=True)\n",
    "plt.hist(θ*1000, weights=πc_50_temp_carb, bins=bins, color='tab:blue', histtype='bar', ec='gray', alpha=.5, density=True)\n",
    "plt.xlabel('Climate sensitivity', fontsize=13)\n",
    "plt.ylabel('Density', fontsize=13)\n",
    "plt.ylim(0, 1.5)\n",
    "plt.xticks(np.arange(0,3+0.5, 0.5))\n",
    "plt.xlim(.8, 3)"
   ]
  },
  {
   "cell_type": "code",
   "execution_count": 37,
   "metadata": {},
   "outputs": [
    {
     "data": {
      "text/plain": [
       "(0.8, 3.0)"
      ]
     },
     "execution_count": 37,
     "metadata": {},
     "output_type": "execute_result"
    },
    {
     "data": {
      "image/png": "[encoded data removed]",
      "text/plain": [
       "<Figure size 432x360 with 1 Axes>"
      ]
     },
     "metadata": {
      "needs_background": "light"
     },
     "output_type": "display_data"
    }
   ],
   "source": [
    "plt.figure(figsize=(6, 5))\n",
    "bins = np.linspace(0., 3., 21)\n",
    "\n",
    "plt.hist(θ*1000, bins=bins, color='tab:red', histtype='bar', ec='gray', alpha=.5, density=True)\n",
    "plt.hist(θ*1000, weights=πc_90_temp_carb, bins=bins, color='tab:blue', histtype='bar', ec='gray', alpha=.5, density=True)\n",
    "plt.xlabel('Climate sensitivity', fontsize=13)\n",
    "plt.ylabel('Density', fontsize=13)\n",
    "plt.ylim(0, 1.5)\n",
    "plt.xticks(np.arange(0,3+0.5, 0.5))\n",
    "plt.xlim(.8, 3)"
   ]
  },
  {
   "cell_type": "code",
   "execution_count": 6,
   "metadata": {},
   "outputs": [
    {
     "name": "stdout",
     "output_type": "stream",
     "text": [
      "Converged. Total iteration 1598: LHS Error: 9.913168952380147e-09; RHS Error 0.0012292341416665666\n",
      "Converged. Total iteration 1609: LHS Error: 9.929081556947494e-09; RHS Error 0.0015847062284322696\n",
      "Converged. Total iteration 1598: LHS Error: 9.999931549486973e-09; RHS Error 0.0012626186355368645\n",
      "Converged. Total iteration 1598: LHS Error: 9.942752399183519e-09; RHS Error 0.001241954209433408\n",
      "Converged. Total iteration 1611: LHS Error: 9.951493851190207e-09; RHS Error 0.0016871514163743911\n",
      "Converged. Total iteration 1610: LHS Error: 9.914081999795599e-09; RHS Error 0.0016236330752373521\n",
      "Converged. Total iteration 1597: LHS Error: 9.948776025225925e-09; RHS Error 0.0013863318710715337\n"
     ]
    }
   ],
   "source": [
    "n_damage = len(γ_2p)\n",
    "n_temp = 16\n",
    "n_carb = 9\n",
    "\n",
    "θ_reshape = θ.reshape(n_temp, n_carb)\n",
    "θ_all = np.zeros((n_damage, n_temp, n_carb))\n",
    "γ_2p_all = np.zeros((n_damage, n_temp, n_carb))\n",
    "\n",
    "for i in range(n_damage):\n",
    "    for j in range(n_temp):\n",
    "        for n in range(n_carb):\n",
    "            θ_all[i, j, n] = θ_reshape[j, n]\n",
    "            γ_2p_all[i, j, n] = γ_2p[i]\n",
    "\n",
    "θ_damage = θ_all.mean(axis=(1, 2))\n",
    "θ_temp = θ_all.mean(axis=(0, 2))\n",
    "θ_carb = θ_all.mean(axis=(0, 1))\n",
    "γ_2p_damage = γ_2p_all.mean(axis=(1, 2))\n",
    "γ_2p_temp = γ_2p_all.mean(axis=(0, 2))\n",
    "γ_2p_carb = γ_2p_all.mean(axis=(0, 1))\n",
    "πc_o_damage = np.ones_like(θ_damage)/len(θ_damage)\n",
    "πc_o_temp = np.ones_like(θ_temp)/len(θ_temp)\n",
    "πc_o_carb = np.ones_like(θ_carb)/len(θ_carb)\n",
    "\n",
    "θ_damage_temp = θ_all.mean(axis=2).reshape(-1)\n",
    "θ_damage_carb = θ_all.mean(axis=1).reshape(-1)\n",
    "θ_temp_carb = θ_all.mean(axis=0).reshape(-1)\n",
    "γ_2p_damage_temp = γ_2p_all.mean(axis=2).reshape(-1)\n",
    "γ_2p_damage_carb = γ_2p_all.mean(axis=1).reshape(-1)\n",
    "γ_2p_temp_carb = γ_2p_all.mean(axis=0).reshape(-1)\n",
    "πc_o_damage_temp = np.ones_like(θ_damage_temp)/len(θ_damage_temp)\n",
    "πc_o_damage_carb = np.ones_like(θ_damage_carb)/len(θ_damage_carb)\n",
    "πc_o_temp_carb = np.ones_like(θ_temp_carb)/len(θ_temp_carb)\n",
    "\n",
    "θ_baseline = θ_all.mean().reshape(-1)\n",
    "γ_2p_baseline = γ_2p_all.mean().reshape(-1)\n",
    "πc_o_baseline = np.ones_like(θ_baseline)/len(θ_baseline)\n",
    "\n",
    "# Baseline\n",
    "model_paras_baseline = (η, δ, θ_baseline, πc_o_baseline, σ_y, ξ_a, γ_1, γ_2, γ_2p_baseline, y_bar) \n",
    "model_baseline = uncertainty_decomposition_damage_ambiguity(y_grid, model_res['e_tilde'], model_paras_baseline, v0=None, ϵ=1.,\n",
    "                  tol=1e-8, max_iter=5_000, print_all=False)\n",
    "\n",
    "# Damage uncertainty\n",
    "model_paras_damage = (η, δ, θ_damage, πc_o_damage, σ_y, ξ_a, γ_1, γ_2, γ_2p_damage, y_bar) \n",
    "model_damage = uncertainty_decomposition_damage_ambiguity(y_grid, model_res['e_tilde'], model_paras_damage, v0=None, ϵ=1.,\n",
    "                  tol=1e-8, max_iter=5_000, print_all=False)\n",
    "\n",
    "# Temperature uncertainty\n",
    "model_paras_temp = (η, δ, θ_temp, πc_o_temp, σ_y, ξ_a, γ_1, γ_2, γ_2p_temp, y_bar) \n",
    "model_temp = uncertainty_decomposition_damage_ambiguity(y_grid, model_res['e_tilde'], model_paras_temp, v0=None, ϵ=1.,\n",
    "                  tol=1e-8, max_iter=5_000, print_all=False)\n",
    "\n",
    "# Carbon uncertainty\n",
    "model_paras_carb = (η, δ, θ_carb, πc_o_carb, σ_y, ξ_a, γ_1, γ_2, γ_2p_carb, y_bar) \n",
    "model_carb = uncertainty_decomposition_damage_ambiguity(y_grid, model_res['e_tilde'], model_paras_carb, v0=None, ϵ=1.,\n",
    "                  tol=1e-8, max_iter=5_000, print_all=False)\n",
    "\n",
    "# Damage + Temperature uncertainty\n",
    "model_paras_damage_temp = (η, δ, θ_damage_temp, πc_o_damage_temp, σ_y, ξ_a, γ_1, γ_2, γ_2p_damage_temp, y_bar) \n",
    "model_damage_temp = uncertainty_decomposition_damage_ambiguity(y_grid, model_res['e_tilde'], model_paras_damage_temp, v0=None, ϵ=1.,\n",
    "                  tol=1e-8, max_iter=5_000, print_all=False)\n",
    "\n",
    "# Damage + Carbon uncertainty\n",
    "model_paras_damage_carb = (η, δ, θ_damage_carb, πc_o_damage_carb, σ_y, ξ_a, γ_1, γ_2, γ_2p_damage_carb, y_bar) \n",
    "model_damage_carb = uncertainty_decomposition_damage_ambiguity(y_grid, model_res['e_tilde'], model_paras_damage_carb, v0=None, ϵ=1.,\n",
    "                  tol=1e-8, max_iter=5_000, print_all=False)\n",
    "\n",
    "# Temperature + Carbon uncertainty\n",
    "model_paras_temp_carb = (η, δ, θ_temp_carb, πc_o_temp_carb, σ_y, ξ_a, γ_1, γ_2, γ_2p_temp_carb, y_bar) \n",
    "model_temp_carb = uncertainty_decomposition_damage_ambiguity(y_grid, model_res['e_tilde'], model_paras_temp_carb, v0=None, ϵ=1.,\n",
    "                  tol=1e-8, max_iter=5_000, print_all=False)"
   ]
  },
  {
   "cell_type": "code",
   "execution_count": 7,
   "metadata": {},
   "outputs": [],
   "source": [
    "np.save('ME_baseline_damage_ambiguity', model_baseline['ME'])\n",
    "np.save('ME_damage_damage_ambiguity', model_damage['ME'])\n",
    "np.save('ME_temp_damage_ambiguity', model_temp['ME'])\n",
    "np.save('ME_carb_damage_ambiguity', model_carb['ME'])\n",
    "np.save('ME_damage_temp_damage_ambiguity', model_damage_temp['ME'])\n",
    "np.save('ME_damage_carb_damage_ambiguity', model_damage_carb['ME'])\n",
    "np.save('ME_temp_carb_damage_ambiguity', model_temp_carb['ME'])\n",
    "np.save('ME_damage_ambiguity', η/model_res['e_tilde'])"
   ]
  },
  {
   "cell_type": "code",
   "execution_count": null,
   "metadata": {},
   "outputs": [],
   "source": []
  }
 ],
 "metadata": {
  "kernelspec": {
   "display_name": "Python 3",
   "language": "python",
   "name": "python3"
  },
  "language_info": {
   "codemirror_mode": {
    "name": "ipython",
    "version": 3
   },
   "file_extension": ".py",
   "mimetype": "text/x-python",
   "name": "python",
   "nbconvert_exporter": "python",
   "pygments_lexer": "ipython3",
   "version": "3.8.5"
  }
 },
 "nbformat": 4,
 "nbformat_minor": 4
}
