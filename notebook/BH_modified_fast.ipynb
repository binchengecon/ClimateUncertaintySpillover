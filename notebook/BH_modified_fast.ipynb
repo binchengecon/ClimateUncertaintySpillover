{
 "cells": [
  {
   "cell_type": "code",
   "execution_count": null,
   "metadata": {},
   "outputs": [],
   "source": [
    "import os, sys\n",
    "sys.path.append(os.path.dirname(os.getcwd()) + '/source')\n",
    "\n",
    "import numpy as np\n",
    "import SolveLinSys\n",
    "from utilities import compute_derivatives"
   ]
  },
  {
   "cell_type": "markdown",
   "metadata": {},
   "source": [
    "Equation:\n",
    "\n",
    "$$\n",
    "0 = \\max_{e} \\min_{h_2} - \\delta \\phi(r, z_2) + \\delta \\eta \\log e - \\tau z_2 e - \\frac{\\partial \\phi}{\\partial r}(r, z_2) e + \\xi_m\\frac{(h_2)^2}{2} + \\left[\\frac{\\partial \\phi}{\\partial z_2}(r, z_2)\\right]\\left[-\\rho (z_2 -\\mu_2) + \\sqrt{z_2} \\sigma_2 h_2\\right] + \\left[\\frac{\\partial^2 \\phi}{\\partial(z_2)^2}(r, z_2)\\right]\\left(\\frac{z_2|\\sigma_2|^2}{2}\\right)\n",
    "$$\n",
    "\n",
    "FOC of $h_2$ gives : \n",
    "\n",
    "$$\n",
    "h_2^* = -\\frac{\\left[\\frac{\\partial \\phi}{\\partial z_2}(r, z_2)\\right]\\sqrt{z_2}\\sigma_2}{\\xi_m}\n",
    "$$\n",
    "\n",
    "FOC of $e$ gives :\n",
    "\n",
    "$$\n",
    "e^* = \\frac{\\delta \\eta}{\\tau z_2 + \\frac{\\partial \\phi}{\\partial r}(r, z_2)}\n",
    "$$"
   ]
  },
  {
   "cell_type": "code",
   "execution_count": null,
   "metadata": {},
   "outputs": [],
   "source": [
    "def false_transient_one_iteration(stateSpace, A, B_r, B_z, C_rr, C_zz, D, v0, ε=.3, tol=-10):\n",
    "    A = A.reshape(-1, 1, order='F')\n",
    "    B = np.hstack([B_r.reshape(-1, 1, order='F'), B_z.reshape(-1, 1, order='F')])\n",
    "    C = np.hstack([C_rr.reshape(-1, 1, order='F'), C_zz.reshape(-1, 1, order='F')])\n",
    "    D = D.reshape(-1, 1, order='F')\n",
    "    v0 = v0.reshape(-1, 1, order='F')\n",
    "    out = SolveLinSys.solveFT(stateSpace, A, B, C, D, v0, ε, tol)\n",
    "    return out\n",
    "\n",
    "\n",
    "def false_transient(z_grid, r_grid, model_paras=(), v0=None, ϵ=.3, tol=1e-8, max_iter=10_000):\n",
    "    τ, η, ξ_m, δ, η, μ_2, ρ, σ_2 = model_paras\n",
    "\n",
    "    Δ_z = z_grid[1] - z_grid[0]\n",
    "    Δ_r = r_grid[1] - r_grid[0]\n",
    "    (z_mat, r_mat) = np.meshgrid(z_grid, r_grid, indexing = 'ij')\n",
    "    stateSpace = np.hstack([z_mat.reshape(-1, 1, order='F'), r_mat.reshape(-1, 1, order='F')])\n",
    "\n",
    "    if v0 is None:\n",
    "        v0 = δ*η*r_mat\n",
    "\n",
    "    count = 1\n",
    "    error = 1.\n",
    "\n",
    "    while error > tol and count < max_iter:\n",
    "        print('Iteration:{:d}'.format(count))\n",
    "        v_old = v0.copy()\n",
    "        v0_dz = compute_derivatives(v0, 0, 1, Δ_z)\n",
    "        v0_dzz = compute_derivatives(v0, 0, 2, Δ_z)\n",
    "        v0_dr = compute_derivatives(v0, 1, 1, Δ_r)\n",
    "\n",
    "        e = δ * η / (τ*z_mat + v0_dr)\n",
    "        h = -v0_dz*np.sqrt(z_mat)*σ_2/ξ_m\n",
    "\n",
    "        A = -δ*np.ones_like(z_mat)\n",
    "        B_z = -ρ*(z_mat - μ_2) + np.sqrt(z_mat)*σ_2*h\n",
    "        B_r = -e\n",
    "        C_zz = z_mat*σ_2**2/2\n",
    "        C_rr = np.zeros_like(z_mat)\n",
    "        D = δ*η*np.log(e) - τ*z_mat*e + ξ_m*h**2/2\n",
    "\n",
    "        res = false_transient_one_iteration(stateSpace, A, B_z, B_r, C_zz, C_rr, D, v0, ϵ) # CG tol = 1e-10\n",
    "        v0 = res[2].reshape(v0.shape, order = \"F\")\n",
    "\n",
    "        rhs_error = A*v0 + B_z*v0_dz + B_r*v0_dr + C_zz*v0_dzz + D\n",
    "        rhs_error = np.max(abs(rhs_error))\n",
    "        lhs_error = np.max(abs((v0 - v_old)/ϵ))\n",
    "        error = np.max([lhs_error, rhs_error])\n",
    "\n",
    "        print(\"Iteration %s: LHS Error: %s; RHS Error %s\" % (count, lhs_error, rhs_error))\n",
    "        count += 1\n",
    "    return v0, e"
   ]
  },
  {
   "cell_type": "code",
   "execution_count": null,
   "metadata": {},
   "outputs": [],
   "source": [
    "# Model parameters\n",
    "median = 1.75/1000\n",
    "γ = .018\n",
    "τ = median * γ\n",
    "η = .032\n",
    "ξ_m = .00256\n",
    "δ = .01\n",
    "η = .032\n",
    "\n",
    "μ_2 = 1.\n",
    "ρ = .5\n",
    "σ_2 = np.sqrt((.21)**2*2*ρ/μ_2) # Match moments, using 100 year's std\n",
    "\n",
    "model_paras = (τ, η, ξ_m, δ, η, μ_2, ρ, σ_2)\n",
    "\n",
    "# Grid setting\n",
    "n_z = 100\n",
    "z_min = 1e-5\n",
    "z_max = 2\n",
    "z_grid = np.linspace(z_min, z_max, n_z)\n",
    "\n",
    "n_r = 200\n",
    "r_min = 0\n",
    "r_max = 3000\n",
    "r_grid = np.linspace(r_min, r_max, n_r)"
   ]
  },
  {
   "cell_type": "code",
   "execution_count": null,
   "metadata": {},
   "outputs": [],
   "source": [
    "ϕ, e = false_transient(z_grid, r_grid, model_paras=model_paras, v0=None, ϵ=.5, tol=1e-9, max_iter=10_000)"
   ]
  },
  {
   "cell_type": "code",
   "execution_count": null,
   "metadata": {},
   "outputs": [],
   "source": []
  }
 ],
 "metadata": {
  "kernelspec": {
   "display_name": "Python 3",
   "language": "python",
   "name": "python3"
  },
  "language_info": {
   "codemirror_mode": {
    "name": "ipython",
    "version": 3
   },
   "file_extension": ".py",
   "mimetype": "text/x-python",
   "name": "python",
   "nbconvert_exporter": "python",
   "pygments_lexer": "ipython3",
   "version": "3.8.3"
  }
 },
 "nbformat": 4,
 "nbformat_minor": 4
}
