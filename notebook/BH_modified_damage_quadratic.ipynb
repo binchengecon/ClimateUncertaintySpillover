{
 "cells": [
  {
   "cell_type": "code",
   "execution_count": 3,
   "metadata": {},
   "outputs": [],
   "source": [
    "import os, sys\n",
    "sys.path.append(os.path.dirname(os.getcwd()) + '/source')\n",
    "\n",
    "import numpy as np\n",
    "import matplotlib.pyplot as plt\n",
    "import SolveLinSys\n",
    "import time\n",
    "from utilities import compute_derivatives_2d, find_nearest_value\n",
    "from numba import njit"
   ]
  },
  {
   "cell_type": "code",
   "execution_count": 4,
   "metadata": {},
   "outputs": [],
   "source": [
    "def false_transient_one_iteration(stateSpace, A, B_z, B_y, C_zz, C_yy, D, v0, ε=.3, tol=-10):\n",
    "    A = A.reshape(-1, 1, order='F')\n",
    "    B = np.hstack([B_z.reshape(-1, 1, order='F'), B_y.reshape(-1, 1, order='F')])\n",
    "    C = np.hstack([C_zz.reshape(-1, 1, order='F'), C_yy.reshape(-1, 1, order='F')])\n",
    "    D = D.reshape(-1, 1, order='F')\n",
    "    v0 = v0.reshape(-1, 1, order='F')\n",
    "    out = SolveLinSys.solveFT(stateSpace, A, B, C, D, v0, ε, tol)\n",
    "    return out"
   ]
  },
  {
   "cell_type": "markdown",
   "metadata": {},
   "source": [
    "Equation:\n",
    "\n",
    "\\begin{align}\n",
    "0 = \\max_e \\min_{h_2} \\min_{\\pi_j:\\sum_j^J{\\pi_j}=1} &-\\delta \\phi(y,z_2) + \\delta\\eta\\log e + \\xi_m \\frac{(h_2)^2}{2} + \\frac{\\partial \\phi}{\\partial y}(y, z_2) e\\\\\n",
    "&+ \\left[\\frac{\\partial \\phi}{\\partial z_2}(y, z_2)\\right]\\left[-\\rho(z_2 - \\mu_2) + \\sqrt{z_2}\\sigma_2 h_2\\right] + \\left[\\frac{\\partial^2 \\phi}{\\partial (z_2)^2}(y, z_2)\\right]\\left(\\frac{z_2|\\sigma_2|^2}{2}\\right)\\\\\n",
    "& + (\\eta-1)\\sum_{j}^J \\pi_{j}\\left(\\frac{d}{d \\tau}\\Lambda_j(z_2 y)\\left(z_2 e-y\\rho(z_2-\\mu_2)+ y\\sqrt{z_2}\\sigma_2h_2\\right) + \\frac{1}{2}\\frac{d^2}{d\\tau^2}\\Lambda_j(z_2y)z_2y^2|\\sigma_2|^2\\right)\\\\\n",
    "& + \\xi_a \\sum_{j}^J \\pi_{j} \\left(\\log \\pi_j - \\log \\pi_j^o\\right)\n",
    "\\end{align}\n",
    "\n",
    "where\n",
    "\n",
    "\\begin{equation}\n",
    "\\Lambda_j(\\tau)=\n",
    "\\begin{cases}\n",
    "  \\lambda_1 \\tau + \\frac{\\lambda_2}{2}\\tau^2, & \\tau\\leq \\bar{\\tau} \\\\\n",
    "  \\lambda_1 \\tau + \\frac{\\lambda_2}{2}\\tau^2 + \\frac{\\lambda_{2,j}^+}{2}(\\tau-\\bar{\\tau})^2, & \\tau > \\bar{\\tau}\n",
    "\\end{cases}\n",
    "\\end{equation}\n",
    "\n",
    "FOC of $\\pi_j$ gives:\n",
    "$$\n",
    "\\pi_j \\propto \\exp\\left[-\\frac{1}{\\xi_a}(\\eta-1)\\left(\\frac{d}{d \\tau}\\Lambda_j(z_2 y)\\left(z_2 e-y\\rho(z_2-\\mu_2)+ y\\sqrt{z_2}\\sigma_2h_2\\right) + \\frac{1}{2}\\frac{d^2}{d\\tau^2}\\Lambda_j(z_2y)z_2y^2|\\sigma_2|^2\\right)\\right]\\pi_j^o\n",
    "$$\n",
    "\n",
    "FOC of $h_2$ gives : \n",
    "\n",
    "\\begin{align}\n",
    "h_2^* = -\\frac{\\frac{\\partial \\phi}{\\partial z_2}(y, z_2)\\sqrt{z_2}\\sigma_2 + (\\eta-1)\\sum_{j}^J \\pi_j \\frac{d}{d \\tau}\\Lambda_j(z_2 y)\\left(y\\sqrt{z_2}\\sigma_2\\right)}{\\xi_m}\n",
    "\\end{align}\n",
    "\n",
    "FOC of $e$ gives :\n",
    "\n",
    "$$\n",
    "e^* = -\\frac{\\delta \\eta}{\\frac{\\partial \\phi}{\\partial y}(y, z_2) + (\\eta-1)\\sum_{j}^J\\pi_j\\frac{d}{d \\tau}\\Lambda_j(z_2 y)z_2}\n",
    "$$"
   ]
  },
  {
   "cell_type": "code",
   "execution_count": 8,
   "metadata": {},
   "outputs": [],
   "source": [
    "def false_transient(z_grid, y_grid, model_paras=(), v0=None, ϵ=.5, tol=1e-8, max_iter=10_000):\n",
    "    η, ξ_m, ξ_a, δ, η, μ_2, ρ, σ_2, λ_1, λ_2, π_o  = model_paras\n",
    "    Δ_z = z_grid[1] - z_grid[0]\n",
    "    Δ_y = y_grid[1] - y_grid[0]\n",
    "    (z_mat, y_mat) = np.meshgrid(z_grid, y_grid, indexing = 'ij')\n",
    "    stateSpace = np.hstack([z_mat.reshape(-1, 1, order='F'), y_mat.reshape(-1, 1, order='F')])\n",
    "    if v0 is None:\n",
    "        v0 = -δ*η*y_mat\n",
    "\n",
    "    d_Λ = np.array([λ_1 + λ_2_j*y_mat*z_mat for λ_2_j in λ_2])\n",
    "    dd_Λ = np.array([λ_2_j*np.ones_like(y_mat) for λ_2_j in λ_2])\n",
    "    d_Λ_yz_sigma = d_Λ*y_mat*np.sqrt(z_mat)*σ_2\n",
    "    d_Λ_z = d_Λ*z_mat\n",
    "    mean_reversion = - y_mat*ρ*(z_mat-μ_2)\n",
    "    std = np.sqrt(z_mat)*σ_2\n",
    "    std_y = y_mat*std\n",
    "    variance = z_mat*y_mat**2*σ_2**2\n",
    "\n",
    "    π = np.ones_like(d_Λ)\n",
    "    for i in range(π.shape[0]):\n",
    "        π[i] = π_o[i]\n",
    "    π_o = π.copy()\n",
    "    h = - (η-1.) / ξ_m * np.sum(π*d_Λ_yz_sigma, axis=0)\n",
    "    e = - δ*η / ((η-1)*np.sum(π*d_Λ_z, axis=0))\n",
    "    \n",
    "    count = 1\n",
    "    error = 1.\n",
    "\n",
    "    while error > tol and count < max_iter:\n",
    "        v_old = v0.copy()\n",
    "        v0_dz = compute_derivatives_2d(v0, 0, 1, Δ_z)\n",
    "        v0_dzz = compute_derivatives_2d(v0, 0, 2, Δ_z)\n",
    "        v0_dy = compute_derivatives_2d(v0, 1, 1, Δ_y)\n",
    "\n",
    "        temp = d_Λ*(z_mat*e + mean_reversion + std_y*h) + 0.5*dd_Λ*variance\n",
    "        log_π_ratio = -(η-1.)*temp/ξ_a\n",
    "        π_ratio = log_π_ratio - np.max(log_π_ratio, axis=0)\n",
    "        π = np.exp(π_ratio) * π_o\n",
    "        π = π/np.sum(π, axis=0)\n",
    "        π[π<=0] = 1e-12\n",
    "        \n",
    "        h = - (v0_dz*std + (η-1)*np.sum(π*d_Λ_yz_sigma, axis=0)) / ξ_m\n",
    "        e = - δ*η / (v0_dy + (η-1)*np.sum(π*d_Λ_z, axis=0))\n",
    "        e[e<=0] = 1e-12\n",
    "\n",
    "        A = np.ones_like(z_mat)*(-δ)\n",
    "        B_z = -ρ*(z_mat - μ_2) + np.sqrt(z_mat)*σ_2*h\n",
    "        B_y = e\n",
    "        C_zz = z_mat*σ_2**2/2\n",
    "        C_yy = np.zeros_like(z_mat)\n",
    "        D = δ*η*np.log(e) + ξ_m*h**2/2 + (η-1)*np.sum(π*temp, axis=0)\\\n",
    "            + ξ_a*np.sum(π*(np.log(π)-np.log(π_o)), axis=0)\n",
    "        res = false_transient_one_iteration(stateSpace, A, B_z, B_y, C_zz, C_yy, D, v0, ϵ) # CG tol = 1e-10\n",
    "        v0 = res[2].reshape(v0.shape, order = \"F\")\n",
    "\n",
    "        rhs_error = A*v0 + B_z*v0_dz + B_y*v0_dy + C_zz*v0_dzz + D\n",
    "        rhs_error = np.max(abs(rhs_error))\n",
    "        lhs_error = np.max(abs((v0 - v_old)/ϵ))\n",
    "        error = lhs_error\n",
    "        print(\"Iteration %s: LHS Error: %s; RHS Error %s\" % (count, lhs_error, rhs_error))\n",
    "        count += 1\n",
    "    return v0, e, π"
   ]
  },
  {
   "cell_type": "code",
   "execution_count": 44,
   "metadata": {},
   "outputs": [],
   "source": [
    "# Model parameters\n",
    "η = .032\n",
    "# ξ_m = .00256\n",
    "ξ_m = .1\n",
    "ξ_a = .1\n",
    "# ξ_m = 1000.\n",
    "# ξ_a = 1000.\n",
    "δ = .01\n",
    "# Z process\n",
    "μ_2 = 1.86/1000.\n",
    "ρ = 0.9\n",
    "σ_2 = np.sqrt(2*ρ/10416.29)/2\n",
    "# Damage setting\n",
    "λ_1 = 1.7675/10000\n",
    "λ_2 = np.array([0.0022*2, (0.0022+0.0197)*2])\n",
    "π_o = np.array([0.5, 0.5])\n",
    "\n",
    "pde_paras = (η, ξ_m, ξ_a, δ, η, μ_2, ρ, σ_2, λ_1, λ_2, π_o)\n",
    "\n",
    "# Capital and z parameters\n",
    "α_k = -0.043\n",
    "β_k = 0.04\n",
    "σ_k = np.array([0.477*2, 0])/100.\n",
    "β_z = 0.014*4\n",
    "σ_z = np.array([0.011*2, 0.025*2])\n",
    "α = 0.115\n",
    "ioverk = 0.09\n",
    "κ = 6.667\n",
    "\n",
    "# Grid setting\n",
    "n_z = 100\n",
    "z_min = np.max([μ_2 - 3*np.sqrt(σ_2**2*μ_2/(2*ρ)), 1e-9])\n",
    "z_max = μ_2 + 3*np.sqrt(σ_2**2*μ_2/(2*ρ))\n",
    "z_grid = np.linspace(z_min, z_max, n_z)\n",
    "\n",
    "n_y = 50\n",
    "y_min = 1e-10\n",
    "y_max = 3000.\n",
    "y_grid = np.linspace(y_min, y_max, n_y)"
   ]
  },
  {
   "cell_type": "code",
   "execution_count": 45,
   "metadata": {},
   "outputs": [
    {
     "name": "stdout",
     "output_type": "stream",
     "text": [
      "Iteration 1: LHS Error: 0.1205255531042464; RHS Error 0.2136759154015478\n",
      "Iteration 2: LHS Error: 0.1618078523063553; RHS Error 0.19361752430232684\n",
      "Iteration 3: LHS Error: 0.12315089732616835; RHS Error 0.14658727553034837\n",
      "Iteration 4: LHS Error: 0.10807244372355496; RHS Error 0.6415930434271475\n",
      "Iteration 5: LHS Error: 0.8352641608273508; RHS Error 0.5450864628648964\n",
      "Iteration 6: LHS Error: 0.41134586226336456; RHS Error 0.2812260960254904\n",
      "Iteration 7: LHS Error: 0.6442146734381042; RHS Error 0.8429436570599894\n",
      "Iteration 8: LHS Error: 0.38953442081927414; RHS Error 0.8094993851773999\n",
      "Iteration 9: LHS Error: 0.4718341025836288; RHS Error 1.2087049507343541\n",
      "Iteration 10: LHS Error: 0.2461641371679435; RHS Error 0.3976061479082767\n",
      "Iteration 11: LHS Error: 0.4393746667148011; RHS Error 0.35508707159098435\n",
      "Iteration 12: LHS Error: 0.35809935571052387; RHS Error 0.6159371562683553\n",
      "Iteration 13: LHS Error: 0.48188725517977504; RHS Error 5.7155000742652575\n",
      "Iteration 14: LHS Error: 0.11512950621572271; RHS Error 0.8154415703096493\n",
      "Iteration 15: LHS Error: 0.09670757728236934; RHS Error 0.2946483370403228\n",
      "Iteration 16: LHS Error: 0.07733014926191384; RHS Error 0.12561099914666318\n"
     ]
    },
    {
     "ename": "KeyboardInterrupt",
     "evalue": "",
     "output_type": "error",
     "traceback": [
      "\u001b[0;31m---------------------------------------------------------------------------\u001b[0m",
      "\u001b[0;31mKeyboardInterrupt\u001b[0m                         Traceback (most recent call last)",
      "\u001b[0;32m<ipython-input-45-df6437250b40>\u001b[0m in \u001b[0;36m<module>\u001b[0;34m\u001b[0m\n\u001b[0;32m----> 1\u001b[0;31m ϕ_grid, e_grid, π_grid = false_transient(z_grid, y_grid, model_paras=pde_paras,\n\u001b[0m\u001b[1;32m      2\u001b[0m                                          v0=None, ϵ=.5, tol=1e-8, max_iter=10_000)\n",
      "\u001b[0;32m<ipython-input-8-be73187712b7>\u001b[0m in \u001b[0;36mfalse_transient\u001b[0;34m(z_grid, y_grid, model_paras, v0, ε, tol, max_iter)\u001b[0m\n\u001b[1;32m     51\u001b[0m         \u001b[0mD\u001b[0m \u001b[0;34m=\u001b[0m \u001b[0mδ\u001b[0m\u001b[0;34m*\u001b[0m\u001b[0mη\u001b[0m\u001b[0;34m*\u001b[0m\u001b[0mnp\u001b[0m\u001b[0;34m.\u001b[0m\u001b[0mlog\u001b[0m\u001b[0;34m(\u001b[0m\u001b[0me\u001b[0m\u001b[0;34m)\u001b[0m \u001b[0;34m+\u001b[0m \u001b[0mξ_m\u001b[0m\u001b[0;34m*\u001b[0m\u001b[0mh\u001b[0m\u001b[0;34m**\u001b[0m\u001b[0;36m2\u001b[0m\u001b[0;34m/\u001b[0m\u001b[0;36m2\u001b[0m \u001b[0;34m+\u001b[0m \u001b[0;34m(\u001b[0m\u001b[0mη\u001b[0m\u001b[0;34m-\u001b[0m\u001b[0;36m1\u001b[0m\u001b[0;34m)\u001b[0m\u001b[0;34m*\u001b[0m\u001b[0mnp\u001b[0m\u001b[0;34m.\u001b[0m\u001b[0msum\u001b[0m\u001b[0;34m(\u001b[0m\u001b[0mπ\u001b[0m\u001b[0;34m*\u001b[0m\u001b[0mtemp\u001b[0m\u001b[0;34m,\u001b[0m \u001b[0maxis\u001b[0m\u001b[0;34m=\u001b[0m\u001b[0;36m0\u001b[0m\u001b[0;34m)\u001b[0m\u001b[0;31m\\\u001b[0m\u001b[0;34m\u001b[0m\u001b[0;34m\u001b[0m\u001b[0m\n\u001b[1;32m     52\u001b[0m             \u001b[0;34m+\u001b[0m \u001b[0mξ_a\u001b[0m\u001b[0;34m*\u001b[0m\u001b[0mnp\u001b[0m\u001b[0;34m.\u001b[0m\u001b[0msum\u001b[0m\u001b[0;34m(\u001b[0m\u001b[0mπ\u001b[0m\u001b[0;34m*\u001b[0m\u001b[0;34m(\u001b[0m\u001b[0mnp\u001b[0m\u001b[0;34m.\u001b[0m\u001b[0mlog\u001b[0m\u001b[0;34m(\u001b[0m\u001b[0mπ\u001b[0m\u001b[0;34m)\u001b[0m\u001b[0;34m-\u001b[0m\u001b[0mnp\u001b[0m\u001b[0;34m.\u001b[0m\u001b[0mlog\u001b[0m\u001b[0;34m(\u001b[0m\u001b[0mπ_o\u001b[0m\u001b[0;34m)\u001b[0m\u001b[0;34m)\u001b[0m\u001b[0;34m,\u001b[0m \u001b[0maxis\u001b[0m\u001b[0;34m=\u001b[0m\u001b[0;36m0\u001b[0m\u001b[0;34m)\u001b[0m\u001b[0;34m\u001b[0m\u001b[0;34m\u001b[0m\u001b[0m\n\u001b[0;32m---> 53\u001b[0;31m         \u001b[0mres\u001b[0m \u001b[0;34m=\u001b[0m \u001b[0mfalse_transient_one_iteration\u001b[0m\u001b[0;34m(\u001b[0m\u001b[0mstateSpace\u001b[0m\u001b[0;34m,\u001b[0m \u001b[0mA\u001b[0m\u001b[0;34m,\u001b[0m \u001b[0mB_z\u001b[0m\u001b[0;34m,\u001b[0m \u001b[0mB_y\u001b[0m\u001b[0;34m,\u001b[0m \u001b[0mC_zz\u001b[0m\u001b[0;34m,\u001b[0m \u001b[0mC_yy\u001b[0m\u001b[0;34m,\u001b[0m \u001b[0mD\u001b[0m\u001b[0;34m,\u001b[0m \u001b[0mv0\u001b[0m\u001b[0;34m,\u001b[0m \u001b[0mϵ\u001b[0m\u001b[0;34m)\u001b[0m \u001b[0;31m# CG tol = 1e-10\u001b[0m\u001b[0;34m\u001b[0m\u001b[0;34m\u001b[0m\u001b[0m\n\u001b[0m\u001b[1;32m     54\u001b[0m         \u001b[0mv0\u001b[0m \u001b[0;34m=\u001b[0m \u001b[0mres\u001b[0m\u001b[0;34m[\u001b[0m\u001b[0;36m2\u001b[0m\u001b[0;34m]\u001b[0m\u001b[0;34m.\u001b[0m\u001b[0mreshape\u001b[0m\u001b[0;34m(\u001b[0m\u001b[0mv0\u001b[0m\u001b[0;34m.\u001b[0m\u001b[0mshape\u001b[0m\u001b[0;34m,\u001b[0m \u001b[0morder\u001b[0m \u001b[0;34m=\u001b[0m \u001b[0;34m\"F\"\u001b[0m\u001b[0;34m)\u001b[0m\u001b[0;34m\u001b[0m\u001b[0;34m\u001b[0m\u001b[0m\n\u001b[1;32m     55\u001b[0m \u001b[0;34m\u001b[0m\u001b[0m\n",
      "\u001b[0;32m<ipython-input-4-a8133846b246>\u001b[0m in \u001b[0;36mfalse_transient_one_iteration\u001b[0;34m(stateSpace, A, B_z, B_y, C_zz, C_yy, D, v0, ε, tol)\u001b[0m\n\u001b[1;32m      5\u001b[0m     \u001b[0mD\u001b[0m \u001b[0;34m=\u001b[0m \u001b[0mD\u001b[0m\u001b[0;34m.\u001b[0m\u001b[0mreshape\u001b[0m\u001b[0;34m(\u001b[0m\u001b[0;34m-\u001b[0m\u001b[0;36m1\u001b[0m\u001b[0;34m,\u001b[0m \u001b[0;36m1\u001b[0m\u001b[0;34m,\u001b[0m \u001b[0morder\u001b[0m\u001b[0;34m=\u001b[0m\u001b[0;34m'F'\u001b[0m\u001b[0;34m)\u001b[0m\u001b[0;34m\u001b[0m\u001b[0;34m\u001b[0m\u001b[0m\n\u001b[1;32m      6\u001b[0m     \u001b[0mv0\u001b[0m \u001b[0;34m=\u001b[0m \u001b[0mv0\u001b[0m\u001b[0;34m.\u001b[0m\u001b[0mreshape\u001b[0m\u001b[0;34m(\u001b[0m\u001b[0;34m-\u001b[0m\u001b[0;36m1\u001b[0m\u001b[0;34m,\u001b[0m \u001b[0;36m1\u001b[0m\u001b[0;34m,\u001b[0m \u001b[0morder\u001b[0m\u001b[0;34m=\u001b[0m\u001b[0;34m'F'\u001b[0m\u001b[0;34m)\u001b[0m\u001b[0;34m\u001b[0m\u001b[0;34m\u001b[0m\u001b[0m\n\u001b[0;32m----> 7\u001b[0;31m     \u001b[0mout\u001b[0m \u001b[0;34m=\u001b[0m \u001b[0mSolveLinSys\u001b[0m\u001b[0;34m.\u001b[0m\u001b[0msolveFT\u001b[0m\u001b[0;34m(\u001b[0m\u001b[0mstateSpace\u001b[0m\u001b[0;34m,\u001b[0m \u001b[0mA\u001b[0m\u001b[0;34m,\u001b[0m \u001b[0mB\u001b[0m\u001b[0;34m,\u001b[0m \u001b[0mC\u001b[0m\u001b[0;34m,\u001b[0m \u001b[0mD\u001b[0m\u001b[0;34m,\u001b[0m \u001b[0mv0\u001b[0m\u001b[0;34m,\u001b[0m \u001b[0mε\u001b[0m\u001b[0;34m,\u001b[0m \u001b[0mtol\u001b[0m\u001b[0;34m)\u001b[0m\u001b[0;34m\u001b[0m\u001b[0;34m\u001b[0m\u001b[0m\n\u001b[0m\u001b[1;32m      8\u001b[0m     \u001b[0;32mreturn\u001b[0m \u001b[0mout\u001b[0m\u001b[0;34m\u001b[0m\u001b[0;34m\u001b[0m\u001b[0m\n",
      "\u001b[0;31mKeyboardInterrupt\u001b[0m: "
     ]
    }
   ],
   "source": [
    "ϕ_grid, e_grid, π_grid = false_transient(z_grid, y_grid, model_paras=pde_paras,\n",
    "                                         v0=None, ϵ=.5, tol=1e-8, max_iter=10_000)"
   ]
  },
  {
   "cell_type": "code",
   "execution_count": 39,
   "metadata": {},
   "outputs": [
    {
     "data": {
      "text/plain": [
       "[<matplotlib.lines.Line2D at 0x7feeba749760>]"
      ]
     },
     "execution_count": 39,
     "metadata": {},
     "output_type": "execute_result"
    },
    {
     "data": {
      "image/png": "[encoded data removed]",
      "text/plain": [
       "<Figure size 432x288 with 1 Axes>"
      ]
     },
     "metadata": {
      "needs_background": "light"
     },
     "output_type": "display_data"
    }
   ],
   "source": [
    "plt.plot(y_grid, π_grid[0,25])"
   ]
  },
  {
   "cell_type": "code",
   "execution_count": 33,
   "metadata": {},
   "outputs": [],
   "source": [
    "@njit(parallel=True)\n",
    "def simulate_emission(e_grid, y_grid, y_start=290, z_loc=25, T=100):\n",
    "    Et = np.zeros(T+1)\n",
    "    for i in range(T+1):\n",
    "        Et[i] = np.interp(y_start, y_grid, e_grid[z_loc])\n",
    "        y_start = y_start + Et[i]\n",
    "    return Et\n",
    "\n",
    "\n",
    "@njit(parallel=True)\n",
    "def simulate_capital(α_k, β_k, σ_k, β_z, σ_z, ioverk, κ, Ws, k_start, N=100_000, T=100, dt=1.):\n",
    "    var_z = dt*σ_z@σ_z/(1-(1-β_z*dt)**2)\n",
    "    std_z = np.sqrt(var_z)\n",
    "\n",
    "    time_periods = int(T/dt)\n",
    "    z_path = np.zeros((N, time_periods+1))\n",
    "    k_path = np.zeros((N, time_periods+1))\n",
    "    for i in range(N):\n",
    "        z0 = np.random.normal(0.,std_z)\n",
    "        k0 = k_start\n",
    "        z_path[i, 0] = z0\n",
    "        k_path[i, 0] = k0\n",
    "        for j in range(1, time_periods+1):\n",
    "            k1 = k0 + (α_k + β_k*z0 + ioverk - κ/2.*ioverk**2 - σ_k@σ_k/2.)*dt + σ_k@Ws[i, j]*np.sqrt(dt)\n",
    "            z1 = (1.-β_z*dt)*z0 + σ_z@Ws[i, j]*np.sqrt(dt)\n",
    "            k_path[i, j] = k1\n",
    "            z_path[i, j] = z1\n",
    "            k0 = k1\n",
    "            z0 = z1\n",
    "    return k_path"
   ]
  },
  {
   "cell_type": "code",
   "execution_count": 35,
   "metadata": {},
   "outputs": [],
   "source": [
    "T = 100\n",
    "Et = simulate_emission(e_grid, y_grid, y_start=290, z_loc=25, T=T)"
   ]
  },
  {
   "cell_type": "code",
   "execution_count": 36,
   "metadata": {},
   "outputs": [
    {
     "data": {
      "text/plain": [
       "[<matplotlib.lines.Line2D at 0x7fee99420a00>]"
      ]
     },
     "execution_count": 36,
     "metadata": {},
     "output_type": "execute_result"
    },
    {
     "data": {
      "image/png": "[encoded data removed]",
      "text/plain": [
       "<Figure size 432x288 with 1 Axes>"
      ]
     },
     "metadata": {
      "needs_background": "light"
     },
     "output_type": "display_data"
    }
   ],
   "source": [
    "plt.plot(Et)"
   ]
  },
  {
   "cell_type": "code",
   "execution_count": 20,
   "metadata": {},
   "outputs": [],
   "source": [
    "T = 100\n",
    "N = 1_000_000\n",
    "dt = 1.\n",
    "k_start = np.log(80/α)\n",
    "Ws = np.random.multivariate_normal(np.zeros(2), np.eye(2), (N, int(T/dt)))\n",
    "logk_path = simulate_capital(α_k, β_k, σ_k, β_z, σ_z, ioverk, κ, Ws, k_start, N=N, T=T, dt=dt)\n",
    "Kt = np.percentile(np.exp(logk_path), 50, axis=0)"
   ]
  },
  {
   "cell_type": "code",
   "execution_count": 21,
   "metadata": {},
   "outputs": [],
   "source": [
    "SCCt = η*(α-ioverk)*Kt/((1.-η)*Et)\n",
    "# SCCt = η*(0.025)*Kt/((1.-η)*Et)"
   ]
  },
  {
   "cell_type": "code",
   "execution_count": 123,
   "metadata": {},
   "outputs": [
    {
     "data": {
      "text/plain": [
       "Text(0.5, 0, 'Year')"
      ]
     },
     "execution_count": 123,
     "metadata": {},
     "output_type": "execute_result"
    },
    {
     "data": {
      "image/png": "[encoded data removed]",
      "text/plain": [
       "<Figure size 432x288 with 1 Axes>"
      ]
     },
     "metadata": {
      "needs_background": "light"
     },
     "output_type": "display_data"
    }
   ],
   "source": [
    "plt.plot(SCCt[:21]*1000)\n",
    "plt.ylim(0, None)\n",
    "plt.title('Figure 1: Social cost of carbon')\n",
    "plt.xlabel('Year')\n",
    "# plt.savefig('figure_1.pdf')"
   ]
  },
  {
   "cell_type": "code",
   "execution_count": 61,
   "metadata": {},
   "outputs": [],
   "source": [
    "import pickle\n",
    "with open('scc_bhh.pkl', 'rb') as f:\n",
    "    scc_bhh = pickle.load(f)\n",
    "with open('emission.pkl', 'rb') as f:\n",
    "    emission_bbh = pickle.load(f)"
   ]
  },
  {
   "cell_type": "code",
   "execution_count": 40,
   "metadata": {},
   "outputs": [
    {
     "data": {
      "text/plain": [
       "[<matplotlib.lines.Line2D at 0x7ff93378f3d0>]"
      ]
     },
     "execution_count": 40,
     "metadata": {},
     "output_type": "execute_result"
    },
    {
     "data": {
      "image/png": "[encoded data removed]",
      "text/plain": [
       "<Figure size 432x288 with 1 Axes>"
      ]
     },
     "metadata": {
      "needs_background": "light"
     },
     "output_type": "display_data"
    }
   ],
   "source": [
    "plt.plot(scc_bhh[0]['x'], scc_bhh[0]['y'])"
   ]
  },
  {
   "cell_type": "code",
   "execution_count": 45,
   "metadata": {},
   "outputs": [],
   "source": [
    "scc_low = np.array([scc_bhh[0]['y'][4*i] for i in range(21)])"
   ]
  },
  {
   "cell_type": "markdown",
   "metadata": {},
   "source": [
    "### SCC formula\n",
    "\n",
    "$$\n",
    "SCC = \\frac{\\eta\\left[\\color{red}{\\alpha - \\left(\\frac{i}{k}\\right)^*}\\right]K_t^*}{(1-\\eta)E_t^*}\n",
    "$$\n",
    "\n",
    "(1) in BBH, $\\alpha=0.115, \\left(\\frac{i}{k}\\right)^*=0.09$, so $\\left[\\alpha - \\left(\\frac{i}{k}\\right)^*\\right]=0.025$.\n",
    "\n",
    "(2) in the new paper, $\\alpha=0.2, \\left(\\frac{i}{k}\\right)^*=0.125$, so $\\left[\\alpha - \\left(\\frac{i}{k}\\right)^*\\right]=0.075$."
   ]
  },
  {
   "cell_type": "markdown",
   "metadata": {},
   "source": [
    "### Adjustment cost parameters\n",
    "\n",
    "$\\alpha=0.115, \\left(\\frac{i}{k}\\right)^*=0.09$\n",
    "\n",
    "From FOC of $\\frac{i}{k}$, we have:\n",
    "$$\n",
    "1-\\kappa \\left(\\frac{i}{k}\\right)^* - \\frac{\\delta}{\\alpha-\\left(\\frac{i}{k}\\right)^*} = 0 \n",
    "$$\n",
    "\n",
    "Therefore $\\kappa=6.667$"
   ]
  },
  {
   "cell_type": "markdown",
   "metadata": {},
   "source": [
    "### Log damage evolution\n",
    "\n",
    "$$\n",
    "d\\log N_t = \\left[\\frac{d}{d\\tau}\\Lambda(Z_{2,t} F_t)[E_tZ_t-\\rho(Z_{2,t}-\\mu_2)F_t]+\\frac{1}{2}\\frac{d^2}{d\\tau^2}\\Lambda(Z_{2,t}F_t)Z_{2,t}F_t^2\\sigma_2^2\\right]dt + \\frac{d}{d\\tau} \\Lambda(Z_{2,t}F_t)F_t\\sqrt{Z_{2,t}}\\sigma_zdW_t\n",
    "$$\n",
    "\n",
    "where\n",
    "\n",
    "$$\n",
    "dZ_t^2 = -\\rho(Z_t^2 - \\mu_2) dt + \\sqrt{Z_t^2}\\sigma_2 d W_{2,t}\n",
    "$$\n",
    "\n",
    "$$\n",
    "\\Lambda(\\tau) = \\lambda_1 \\tau + \\frac{\\lambda_2}{2} \\tau^2\n",
    "$$"
   ]
  },
  {
   "cell_type": "code",
   "execution_count": 102,
   "metadata": {},
   "outputs": [
    {
     "data": {
      "text/plain": [
       "6.666666666666668"
      ]
     },
     "execution_count": 102,
     "metadata": {},
     "output_type": "execute_result"
    }
   ],
   "source": [
    "(1-δ/(α-ioverk))/ioverk"
   ]
  },
  {
   "cell_type": "code",
   "execution_count": 114,
   "metadata": {},
   "outputs": [
    {
     "data": {
      "text/plain": [
       "0.02009865"
      ]
     },
     "execution_count": 114,
     "metadata": {},
     "output_type": "execute_result"
    }
   ],
   "source": [
    "-0.0429 + ioverk - κ/2.*ioverk**2"
   ]
  },
  {
   "cell_type": "code",
   "execution_count": 124,
   "metadata": {},
   "outputs": [
    {
     "data": {
      "image/png": "[encoded data removed]",
      "text/plain": [
       "<Figure size 432x288 with 1 Axes>"
      ]
     },
     "metadata": {
      "needs_background": "light"
     },
     "output_type": "display_data"
    }
   ],
   "source": [
    "plt.plot(SCCt[:21]*1000, label='new')\n",
    "plt.plot(scc_low, label='BBH low damage')\n",
    "plt.ylim(0, 150)\n",
    "plt.xlabel('Year')\n",
    "plt.legend()\n",
    "plt.title('SCC comparison')\n",
    "plt.savefig('scc.pdf')"
   ]
  },
  {
   "cell_type": "code",
   "execution_count": 71,
   "metadata": {},
   "outputs": [
    {
     "data": {
      "image/png": "[encoded data removed]",
      "text/plain": [
       "<Figure size 432x288 with 1 Axes>"
      ]
     },
     "metadata": {
      "needs_background": "light"
     },
     "output_type": "display_data"
    }
   ],
   "source": [
    "plt.plot(Et[:21], label='new')\n",
    "plt.plot(emission_low, label='BBH low damage')\n",
    "plt.ylim(0, 20)\n",
    "plt.xlabel('Year')\n",
    "plt.legend()\n",
    "plt.title('Emission comparison')\n",
    "plt.savefig('emission.pdf')"
   ]
  },
  {
   "cell_type": "code",
   "execution_count": 66,
   "metadata": {},
   "outputs": [],
   "source": [
    "emission_low = np.array([emission_bbh[0]['y'][4*i] for i in range(21)])"
   ]
  },
  {
   "cell_type": "code",
   "execution_count": null,
   "metadata": {},
   "outputs": [],
   "source": []
  }
 ],
 "metadata": {
  "kernelspec": {
   "display_name": "Python 3",
   "language": "python",
   "name": "python3"
  },
  "language_info": {
   "codemirror_mode": {
    "name": "ipython",
    "version": 3
   },
   "file_extension": ".py",
   "mimetype": "text/x-python",
   "name": "python",
   "nbconvert_exporter": "python",
   "pygments_lexer": "ipython3",
   "version": "3.8.5"
  }
 },
 "nbformat": 4,
 "nbformat_minor": 4
}
