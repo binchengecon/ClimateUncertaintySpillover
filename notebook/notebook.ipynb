{
 "cells": [
  {
   "cell_type": "code",
   "execution_count": 1,
   "metadata": {},
   "outputs": [],
   "source": [
    "import os, sys\n",
    "sys.path.append(os.path.dirname(os.getcwd()) + '/source')\n",
    "\n",
    "import numpy as np\n",
    "import matplotlib.pyplot as plt\n",
    "from simulation import simulate_emission_quadratic, simulate_log_damage\n",
    "\n",
    "np.random.seed(0)"
   ]
  },
  {
   "cell_type": "code",
   "execution_count": 2,
   "metadata": {},
   "outputs": [],
   "source": [
    "# Model parameters\n",
    "δ = 0.01\n",
    "η = 0.032\n",
    "median = 1.75/1000\n",
    "h_hat = 0.2\n",
    "σ_n = 1.5\n",
    "γ_low = 0.012\n",
    "γ_high = 0.024\n",
    "# ξ = σ_n/h_hat*δ*η\n",
    "ξ = 8*δ*η\n",
    "\n",
    "# Simulation setting\n",
    "# r_start = 1500\n",
    "r_start = 1000\n",
    "T = 500"
   ]
  },
  {
   "cell_type": "code",
   "execution_count": 3,
   "metadata": {},
   "outputs": [],
   "source": [
    "# Table for e_tilde\n",
    "def e_tilde_fun(ξ, γ, median=1.75/1000, σ_n=1.5, δ=0.01, η=0.032):\n",
    "    τ_1 = γ*median\n",
    "    τ_2 = (τ_1**2) * (σ_n**2) / (2*ξ)\n",
    "    if τ_2 == 0:\n",
    "        res = δ*η/τ_1\n",
    "    else:\n",
    "        res = (-τ_1 + np.sqrt(τ_1**2 + 4*δ*η*τ_2)) / (2*τ_2)\n",
    "    return res"
   ]
  },
  {
   "cell_type": "code",
   "execution_count": 4,
   "metadata": {},
   "outputs": [],
   "source": [
    "e_tilde_low_0 = e_tilde_fun(ξ, γ_low, σ_n=0)\n",
    "e_tilde_low = e_tilde_fun(ξ, γ_low)\n",
    "e_tilde_low_01x = e_tilde_fun(ξ*0.1, γ_low)\n",
    "e_tilde_low_05x = e_tilde_fun(ξ*0.5, γ_low)\n",
    "e_tilde_low_5x = e_tilde_fun(ξ*5, γ_low)\n",
    "e_tilde_low_10x = e_tilde_fun(ξ*10, γ_low)\n",
    "\n",
    "e_tilde_high_0 = e_tilde_fun(ξ, γ_high, σ_n=0)\n",
    "e_tilde_high = e_tilde_fun(ξ, γ_high)\n",
    "e_tilde_high_01x = e_tilde_fun(ξ*0.1, γ_high)\n",
    "e_tilde_high_05x = e_tilde_fun(ξ*0.5, γ_high)\n",
    "e_tilde_high_5x = e_tilde_fun(ξ*5, γ_high)\n",
    "e_tilde_high_10x = e_tilde_fun(ξ*10, γ_high)"
   ]
  },
  {
   "cell_type": "code",
   "execution_count": 5,
   "metadata": {},
   "outputs": [
    {
     "data": {
      "text/html": [
       "<div>\n",
       "<style scoped>\n",
       "    .dataframe tbody tr th:only-of-type {\n",
       "        vertical-align: middle;\n",
       "    }\n",
       "\n",
       "    .dataframe tbody tr th {\n",
       "        vertical-align: top;\n",
       "    }\n",
       "\n",
       "    .dataframe thead th {\n",
       "        text-align: right;\n",
       "    }\n",
       "</style>\n",
       "<table border=\"1\" class=\"dataframe\">\n",
       "  <thead>\n",
       "    <tr style=\"text-align: right;\">\n",
       "      <th></th>\n",
       "      <th>0.1x ξ</th>\n",
       "      <th>0.5x ξ</th>\n",
       "      <th>1x ξ</th>\n",
       "      <th>5x ξ</th>\n",
       "      <th>10x ξ</th>\n",
       "      <th>τ_2 = 0</th>\n",
       "    </tr>\n",
       "  </thead>\n",
       "  <tbody>\n",
       "    <tr>\n",
       "      <th>γ = 0.012</th>\n",
       "      <td>8.359372</td>\n",
       "      <td>12.272754</td>\n",
       "      <td>13.4558</td>\n",
       "      <td>14.806482</td>\n",
       "      <td>15.016134</td>\n",
       "      <td>15.238095</td>\n",
       "    </tr>\n",
       "    <tr>\n",
       "      <th>γ = 0.024</th>\n",
       "      <td>4.179686</td>\n",
       "      <td>6.136377</td>\n",
       "      <td>6.7279</td>\n",
       "      <td>7.403241</td>\n",
       "      <td>7.508067</td>\n",
       "      <td>7.619048</td>\n",
       "    </tr>\n",
       "  </tbody>\n",
       "</table>\n",
       "</div>"
      ],
      "text/plain": [
       "             0.1x ξ     0.5x ξ     1x ξ       5x ξ      10x ξ    τ_2 = 0\n",
       "γ = 0.012  8.359372  12.272754  13.4558  14.806482  15.016134  15.238095\n",
       "γ = 0.024  4.179686   6.136377   6.7279   7.403241   7.508067   7.619048"
      ]
     },
     "execution_count": 5,
     "metadata": {},
     "output_type": "execute_result"
    }
   ],
   "source": [
    "import pandas as pd\n",
    "df = pd.DataFrame([[e_tilde_low_01x, e_tilde_low_05x, e_tilde_low, e_tilde_low_5x, e_tilde_low_10x, e_tilde_low_0],\n",
    "                   [e_tilde_high_01x, e_tilde_high_05x, e_tilde_high, e_tilde_high_5x, e_tilde_high_10x, e_tilde_high_0]])\n",
    "df.index = ['γ = 0.012', 'γ = 0.024']\n",
    "df.columns = ['0.1x ξ', '0.5x ξ', '1x ξ', '5x ξ', '10x ξ', 'τ_2 = 0']\n",
    "df"
   ]
  },
  {
   "cell_type": "markdown",
   "metadata": {},
   "source": [
    "## 1. Emission trajectory"
   ]
  },
  {
   "cell_type": "code",
   "execution_count": 6,
   "metadata": {},
   "outputs": [],
   "source": [
    "# Simulate emission trajectory\n",
    "args_trace_ϕ = (-20, -5, 1000, 1e-9, 1e-3)\n",
    "Et_low, r_grid_low, _, e_grid_low  = simulate_emission_quadratic(δ, η, median*γ_low, ξ, σ_n, # Replace σ_n with 0 if you want to set τ_2 = 0.\n",
    "                                     args_trace_ϕ=args_trace_ϕ,\n",
    "                                     r_start=r_start, T=T)\n",
    "Et_high, r_grid_high, _, e_grid_high = simulate_emission_quadratic(δ, η, median*γ_high, ξ, σ_n,\n",
    "                                      args_trace_ϕ=args_trace_ϕ,\n",
    "                                      r_start=r_start, T=T)"
   ]
  },
  {
   "cell_type": "code",
   "execution_count": 7,
   "metadata": {},
   "outputs": [
    {
     "data": {
      "image/png": "[encoded data removed]",
      "text/plain": [
       "<Figure size 432x288 with 1 Axes>"
      ]
     },
     "metadata": {
      "needs_background": "light"
     },
     "output_type": "display_data"
    }
   ],
   "source": [
    "plt.plot(r_grid_low, e_grid_low, label='low damage')\n",
    "plt.plot(r_grid_high, e_grid_high, label='high damage')\n",
    "plt.legend()\n",
    "plt.xlabel('Reserve')\n",
    "plt.title('Emission as a function of reserve (low damage)')\n",
    "plt.show()"
   ]
  },
  {
   "cell_type": "code",
   "execution_count": 8,
   "metadata": {},
   "outputs": [
    {
     "data": {
      "image/png": "[encoded data removed]",
      "text/plain": [
       "<Figure size 432x288 with 1 Axes>"
      ]
     },
     "metadata": {
      "needs_background": "light"
     },
     "output_type": "display_data"
    }
   ],
   "source": [
    "plt.plot(Et_low, label='low damage')\n",
    "plt.plot(Et_high, label='high damage')\n",
    "plt.legend()\n",
    "plt.xlabel('Year')\n",
    "plt.ylim(0,20)\n",
    "plt.title('Emission trajectory (low damage)')\n",
    "plt.show()"
   ]
  },
  {
   "cell_type": "markdown",
   "metadata": {},
   "source": [
    "## 2. Implied $\\hat{h}$"
   ]
  },
  {
   "cell_type": "code",
   "execution_count": 9,
   "metadata": {},
   "outputs": [],
   "source": [
    "E_tilde_low = δ*η/(median*γ_low)\n",
    "E_tilde_high = δ*η/(median*γ_high)\n",
    "h_hat_implied_low = Et_low/E_tilde_low * h_hat\n",
    "h_hat_implied_high = Et_high/E_tilde_high * h_hat"
   ]
  },
  {
   "cell_type": "code",
   "execution_count": 10,
   "metadata": {},
   "outputs": [
    {
     "data": {
      "image/png": "[encoded data removed]",
      "text/plain": [
       "<Figure size 432x288 with 1 Axes>"
      ]
     },
     "metadata": {
      "needs_background": "light"
     },
     "output_type": "display_data"
    }
   ],
   "source": [
    "plt.plot(h_hat_implied_low, label='γ = 0.012')\n",
    "plt.plot(h_hat_implied_high, label='γ = 0.024')\n",
    "plt.xlabel('Year')\n",
    "plt.ylabel(r'$\\hat{h}$')\n",
    "plt.title(r'Implied $\\hat{h}$')\n",
    "plt.legend()\n",
    "plt.show()"
   ]
  },
  {
   "cell_type": "markdown",
   "metadata": {},
   "source": [
    "## 3. Damage and temperature change"
   ]
  },
  {
   "cell_type": "code",
   "execution_count": 11,
   "metadata": {},
   "outputs": [],
   "source": [
    "T_plots = 100\n",
    "# Simulate damages\n",
    "exp_avg_response_low = median * γ_low / (1-η)\n",
    "exp_avg_response_high = median * γ_high / (1-η)\n",
    "Ws = np.random.normal(0., 1., (100_000, T))\n",
    "log_damage_low = simulate_log_damage(exp_avg_response_low, σ_n, Et_low, Ws)\n",
    "log_damage_high = simulate_log_damage(exp_avg_response_high, σ_n, Et_high, Ws)\n",
    "proportional_damage_low = np.exp(-log_damage_low)\n",
    "proportional_damage_high = np.exp(-log_damage_high)"
   ]
  },
  {
   "cell_type": "code",
   "execution_count": 12,
   "metadata": {},
   "outputs": [
    {
     "data": {
      "image/png": "[encoded data removed]",
      "text/plain": [
       "<Figure size 432x288 with 1 Axes>"
      ]
     },
     "metadata": {
      "needs_background": "light"
     },
     "output_type": "display_data"
    },
    {
     "data": {
      "image/png": "[encoded data removed]",
      "text/plain": [
       "<Figure size 432x288 with 1 Axes>"
      ]
     },
     "metadata": {
      "needs_background": "light"
     },
     "output_type": "display_data"
    }
   ],
   "source": [
    "# Histogram for temperature change divided by cumulative emissions\n",
    "plt.hist(log_damage_low[:, T_plots-1] / Et_low[:T_plots].sum() / γ_low, bins=200)\n",
    "plt.title('Temperature change divided by cumulative emissions, γ = 0.012')\n",
    "plt.show()\n",
    "# Histogram for temperature change\n",
    "plt.hist(log_damage_low[:, T_plots-1] / γ_low, bins=200)\n",
    "plt.title('Temperature change, γ = 0.012')\n",
    "plt.show()"
   ]
  },
  {
   "cell_type": "code",
   "execution_count": 13,
   "metadata": {},
   "outputs": [
    {
     "data": {
      "text/plain": [
       "0.0002741178173507894"
      ]
     },
     "execution_count": 13,
     "metadata": {},
     "output_type": "execute_result"
    }
   ],
   "source": [
    "np.std(log_damage_low[:, T_plots-1] / Et_low[:T_plots].sum() / γ_low)"
   ]
  },
  {
   "cell_type": "code",
   "execution_count": null,
   "metadata": {},
   "outputs": [],
   "source": [
    "# Histogram for temperature change divided by cumulative emissions\n",
    "plt.hist(log_damage_high[:, T_plots-1] / Et_high[:T_plots].sum() / γ_high, bins=200)\n",
    "plt.title('Temperature change divided by cumulative emissions, γ = 0.024')\n",
    "plt.show()\n",
    "# Histogram for temperature change\n",
    "plt.hist(log_damage_high[:, T_plots-1] / γ_high, bins=200)\n",
    "plt.title('Temperature change, γ = 0.024')\n",
    "plt.show()"
   ]
  },
  {
   "cell_type": "markdown",
   "metadata": {},
   "source": [
    "## 4. Compare $\\xi$"
   ]
  },
  {
   "cell_type": "code",
   "execution_count": null,
   "metadata": {},
   "outputs": [],
   "source": [
    "# # Simulate emission trajectory, 0.0001x ξ\n",
    "# args_trace_ϕ = (-20, -5, 1000, 1e-9, 1e-3)\n",
    "# Et_low_00001x, r_grid_low_00001x, _, e_grid_low_00001x  = simulate_emission_quadratic(δ, η, median*γ_low, ξ*0.0001, σ_n,\n",
    "#                                                          args_trace_ϕ=args_trace_ϕ,\n",
    "#                                                          r_start=r_start, T=T)\n",
    "# args_trace_ϕ = (-20, -5, 1000, 1e-9, 1e-3)\n",
    "# Et_high_00001x, r_grid_high_00001x, _, e_grid_high_00001x = simulate_emission_quadratic(δ, η, median*γ_high, ξ*0.0001, σ_n,\n",
    "#                                                            args_trace_ϕ=args_trace_ϕ,\n",
    "#                                                            r_start=r_start, T=T)\n",
    "\n",
    "# Simulate emission trajectory, 0.001x ξ\n",
    "args_trace_ϕ = (-20, -5, 1000, 1e-9, 1e-3)\n",
    "Et_low_0001x, r_grid_low_0001x, _, e_grid_low_0001x  = simulate_emission_quadratic(δ, η, median*γ_low, ξ*0.001, σ_n,\n",
    "                                                         args_trace_ϕ=args_trace_ϕ,\n",
    "                                                         r_start=r_start, T=T)\n",
    "args_trace_ϕ = (-20, -5, 1000, 1e-9, 1e-3)\n",
    "Et_high_0001x, r_grid_high_0001x, _, e_grid_high_0001x = simulate_emission_quadratic(δ, η, median*γ_high, ξ*0.001, σ_n,\n",
    "                                                           args_trace_ϕ=args_trace_ϕ,\n",
    "                                                           r_start=r_start, T=T)\n",
    "\n",
    "# Simulate emission trajectory, 0.01x ξ\n",
    "args_trace_ϕ = (-20, -5, 1000, 1e-9, 1e-3)\n",
    "Et_low_001x, r_grid_low_001x, _, e_grid_low_001x  = simulate_emission_quadratic(δ, η, median*γ_low, ξ*0.01, σ_n,\n",
    "                                                         args_trace_ϕ=args_trace_ϕ,\n",
    "                                                         r_start=r_start, T=T)\n",
    "args_trace_ϕ = (-20, -5, 1000, 1e-9, 1e-3)\n",
    "Et_high_001x, r_grid_high_001x, _, e_grid_high_001x = simulate_emission_quadratic(δ, η, median*γ_high, ξ*0.01, σ_n,\n",
    "                                                           args_trace_ϕ=args_trace_ϕ,\n",
    "                                                           r_start=r_start, T=T)\n",
    "\n",
    "# Simulate emission trajectory, 0.1x ξ\n",
    "args_trace_ϕ = (-20, -5, 1000, 1e-9, 1e-3)\n",
    "Et_low_01x, r_grid_low_01x, _, e_grid_low_01x = simulate_emission_quadratic(δ, η, median*γ_low, ξ*0.1, σ_n,\n",
    "                                     args_trace_ϕ=args_trace_ϕ,\n",
    "                                     r_start=r_start, T=T)\n",
    "Et_high_01x, r_grid_high_01x, _, e_grid_high_01x  = simulate_emission_quadratic(δ, η, median*γ_high, ξ*0.1, σ_n,\n",
    "                                      args_trace_ϕ=args_trace_ϕ,\n",
    "                                      r_start=r_start, T=T)\n",
    "\n",
    "# Simulate emission trajectory, 1x ξ\n",
    "args_trace_ϕ = (-20, -5, 1000, 1e-9, 1e-3)\n",
    "Et_low, r_grid_low, _, e_grid_low = simulate_emission_quadratic(δ, η, median*γ_low, ξ, σ_n,\n",
    "                                     args_trace_ϕ=args_trace_ϕ,\n",
    "                                     r_start=r_start, T=T)\n",
    "Et_high, r_grid_high, _, e_grid_high  = simulate_emission_quadratic(δ, η, median*γ_high, ξ, σ_n,\n",
    "                                      args_trace_ϕ=args_trace_ϕ,\n",
    "                                      r_start=r_start, T=T)\n",
    "\n",
    "# Simulate emission trajectory, 10x ξ\n",
    "args_trace_ϕ = (-20, -5, 1000, 1e-9, 1e-3)\n",
    "Et_low_10x, r_grid_low_10x, _, e_grid_low_10x = simulate_emission_quadratic(δ, η, median*γ_low, ξ*10, σ_n,\n",
    "                                     args_trace_ϕ=args_trace_ϕ,\n",
    "                                     r_start=r_start, T=T)\n",
    "Et_high_10x, r_grid_high_10x, _, e_grid_high_10x  = simulate_emission_quadratic(δ, η, median*γ_high, ξ*10, σ_n,\n",
    "                                      args_trace_ϕ=args_trace_ϕ,\n",
    "                                      r_start=r_start, T=T)\n",
    "\n",
    "# Simulate emission trajectory, 100x ξ\n",
    "args_trace_ϕ = (-20, -5, 1000, 1e-9, 1e-3)\n",
    "Et_low_100x, r_grid_low_100x, _, e_grid_low_100x = simulate_emission_quadratic(δ, η, median*γ_low, ξ*100, σ_n,\n",
    "                                     args_trace_ϕ=args_trace_ϕ,\n",
    "                                     r_start=r_start, T=T)\n",
    "Et_high_100x, r_grid_high_100x, _, e_grid_high_100x  = simulate_emission_quadratic(δ, η, median*γ_high, ξ*100, σ_n,\n",
    "                                      args_trace_ϕ=args_trace_ϕ,\n",
    "                                      r_start=r_start, T=T)"
   ]
  },
  {
   "cell_type": "code",
   "execution_count": null,
   "metadata": {},
   "outputs": [],
   "source": [
    "h_hat_implied_low_0001x = Et_low_0001x*(median*γ_low)*σ_n/(ξ*0.001)\n",
    "h_hat_implied_low_001x = Et_low_001x*(median*γ_low)*σ_n/(ξ*0.01)\n",
    "h_hat_implied_low_01x = Et_low_01x*(median*γ_low)*σ_n/(ξ*0.1)\n",
    "h_hat_implied_low = Et_low*(median*γ_low)*σ_n/ξ\n",
    "h_hat_implied_low_10x = Et_low_10x*(median*γ_low)*σ_n/(ξ*10)\n",
    "h_hat_implied_low_100x = Et_low_100x*(median*γ_low)*σ_n/(ξ*100)\n",
    "\n",
    "h_hat_implied_high_0001x = Et_high_0001x*(median*γ_high)*σ_n/(ξ*0.001)\n",
    "h_hat_implied_high_001x = Et_high_001x*(median*γ_high)*σ_n/(ξ*0.01)\n",
    "h_hat_implied_high_01x = Et_high_01x*(median*γ_high)*σ_n/(ξ*0.1)\n",
    "h_hat_implied_high = Et_high*(median*γ_high)*σ_n/ξ\n",
    "h_hat_implied_high_10x = Et_high_10x*(median*γ_high)*σ_n/(ξ*10)\n",
    "h_hat_implied_high_100x = Et_high_100x*(median*γ_high)*σ_n/(ξ*100)"
   ]
  },
  {
   "cell_type": "code",
   "execution_count": null,
   "metadata": {},
   "outputs": [],
   "source": [
    "plt.plot(r_grid_low_100x, e_grid_low_100x, label='100x ξ')\n",
    "plt.plot(r_grid_low_10x, e_grid_low_10x, label='10x ξ')\n",
    "plt.plot(r_grid_low, e_grid_low, label='1x ξ')\n",
    "plt.plot(r_grid_low_01x, e_grid_low_01x, label='0.1x ξ')\n",
    "plt.plot(r_grid_low_001x, e_grid_low_001x, label='0.01x ξ')\n",
    "plt.plot(r_grid_low_0001x, e_grid_low_0001x, label='0.001x ξ')\n",
    "# plt.plot(r_grid_low_00001x, e_grid_low_00001x, label='1e-4x ξ')\n",
    "\n",
    "plt.legend()\n",
    "plt.xlabel('Reserve')\n",
    "plt.title('Figure 1: Emission as a function of reserve (low damage)')\n",
    "plt.savefig('figure_1.pdf')\n",
    "plt.show()"
   ]
  },
  {
   "cell_type": "code",
   "execution_count": null,
   "metadata": {},
   "outputs": [],
   "source": [
    "plt.plot(Et_low_100x, label='100x ξ')\n",
    "plt.plot(Et_low_10x, label='10x ξ')\n",
    "plt.plot(Et_low, label='1x ξ')\n",
    "plt.plot(Et_low_01x, label='0.1x ξ')\n",
    "plt.plot(Et_low_001x, label='0.01x ξ')\n",
    "plt.plot(Et_low_0001x, label='0.001x ξ')\n",
    "# plt.plot(Et_low_00001x, label='1e-4x ξ')\n",
    "plt.legend()\n",
    "plt.xlabel('Year')\n",
    "# plt.ylim(0,20)\n",
    "plt.title('Figure 2: Emission trajectory (low damage)')\n",
    "plt.savefig('figure_2.pdf')\n",
    "plt.show()"
   ]
  },
  {
   "cell_type": "code",
   "execution_count": null,
   "metadata": {},
   "outputs": [],
   "source": [
    "plt.plot(h_hat_implied_low_100x, label='100x ξ')\n",
    "plt.plot(h_hat_implied_low_10x, label='10x ξ')\n",
    "plt.plot(h_hat_implied_low, label='1x ξ')\n",
    "plt.plot(h_hat_implied_low_01x, label='0.1x ξ')\n",
    "plt.plot(h_hat_implied_low_001x, label='0.01x ξ')\n",
    "plt.plot(h_hat_implied_low_0001x, label='0.001x ξ')\n",
    "# plt.plot(h_hat_implied_low_00001x, label='1e-4x ξ')\n",
    "plt.legend()\n",
    "plt.xlabel('Year')\n",
    "# plt.ylim(0,0.3)\n",
    "plt.title(r'Figure 3: Implied $\\hat{h}$ (low damage)')\n",
    "plt.savefig('figure_3.pdf')\n",
    "plt.show()"
   ]
  },
  {
   "cell_type": "code",
   "execution_count": null,
   "metadata": {},
   "outputs": [],
   "source": [
    "plt.plot(r_grid_high_100x, e_grid_high_100x, label='100x ξ')\n",
    "plt.plot(r_grid_high_10x, e_grid_high_10x, label='10x ξ')\n",
    "plt.plot(r_grid_high, e_grid_high, label='1x ξ')\n",
    "plt.plot(r_grid_high_01x, e_grid_high_01x, label='0.1x ξ')\n",
    "plt.plot(r_grid_high_001x, e_grid_high_001x, label='0.01x ξ')\n",
    "plt.plot(r_grid_high_0001x, e_grid_high_0001x, label='0.001x ξ')\n",
    "# plt.plot(r_grid_high_00001x, e_grid_high_001x, label='1e-4x ξ')\n",
    "plt.legend()\n",
    "plt.xlabel('Reserve')\n",
    "plt.title('Figure 4: Emission as a function of reserve (high damage)')\n",
    "plt.savefig('figure_4.pdf')\n",
    "plt.show()"
   ]
  },
  {
   "cell_type": "code",
   "execution_count": null,
   "metadata": {},
   "outputs": [],
   "source": [
    "plt.plot(Et_high_100x, label='100x ξ')\n",
    "plt.plot(Et_high_10x, label='10x ξ')\n",
    "plt.plot(Et_high, label='1x ξ')\n",
    "plt.plot(Et_high_01x, label='0.1x ξ')\n",
    "plt.plot(Et_high_001x, label='0.01x ξ')\n",
    "plt.plot(Et_high_0001x, label='0.001x ξ')\n",
    "# plt.plot(Et_high_00001x, label='1e-4x ξ')\n",
    "plt.legend()\n",
    "plt.xlabel('Year')\n",
    "# plt.ylim(0,9)\n",
    "plt.title('Figure 5: Emission trajectory (high damage)')\n",
    "plt.savefig('figure_5.pdf')\n",
    "plt.show()"
   ]
  },
  {
   "cell_type": "code",
   "execution_count": null,
   "metadata": {},
   "outputs": [],
   "source": [
    "plt.plot(h_hat_implied_high_100x, label='100x ξ')\n",
    "plt.plot(h_hat_implied_high_10x, label='10x ξ')\n",
    "plt.plot(h_hat_implied_high, label='1x ξ')\n",
    "plt.plot(h_hat_implied_high_01x, label='0.1x ξ')\n",
    "plt.plot(h_hat_implied_high_001x, label='0.01x ξ')\n",
    "plt.plot(h_hat_implied_high_0001x, label='0.001x ξ')\n",
    "# plt.plot(h_hat_implied_high_00001x, label='1e-4x ξ')\n",
    "plt.legend()\n",
    "plt.xlabel('Year')\n",
    "# plt.ylim(0,0.3)\n",
    "plt.title(r'Figure 6: Implied $\\hat{h}$ (high damage)')\n",
    "plt.savefig('figure_6.pdf')\n",
    "plt.show()"
   ]
  },
  {
   "cell_type": "code",
   "execution_count": null,
   "metadata": {},
   "outputs": [],
   "source": []
  }
 ],
 "metadata": {
  "kernelspec": {
   "display_name": "Python 3",
   "language": "python",
   "name": "python3"
  },
  "language_info": {
   "codemirror_mode": {
    "name": "ipython",
    "version": 3
   },
   "file_extension": ".py",
   "mimetype": "text/x-python",
   "name": "python",
   "nbconvert_exporter": "python",
   "pygments_lexer": "ipython3",
   "version": "3.8.5"
  }
 },
 "nbformat": 4,
 "nbformat_minor": 4
}
