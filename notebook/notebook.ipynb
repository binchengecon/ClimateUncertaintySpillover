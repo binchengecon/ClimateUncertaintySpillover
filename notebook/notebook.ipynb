{
 "cells": [
  {
   "cell_type": "code",
   "execution_count": null,
   "metadata": {},
   "outputs": [],
   "source": [
    "import os, sys\n",
    "sys.path.append(os.path.dirname(os.getcwd()) + '/source')\n",
    "\n",
    "import numpy as np\n",
    "import matplotlib.pyplot as plt\n",
    "from simulation import simulate_emission_quadratic, simulate_log_damage\n",
    "\n",
    "np.random.seed(0)"
   ]
  },
  {
   "cell_type": "code",
   "execution_count": null,
   "metadata": {},
   "outputs": [],
   "source": [
    "# Model parameters\n",
    "δ = 0.01\n",
    "η = 0.032\n",
    "median = 1.75/1000\n",
    "h_hat = 0.2\n",
    "σ_n = 1.5\n",
    "γ_low = 0.012\n",
    "γ_high = 0.024\n",
    "ξ = σ_n/h_hat*δ*η\n",
    "\n",
    "# Simulation setting\n",
    "r_start = 1500\n",
    "T = 400"
   ]
  },
  {
   "cell_type": "markdown",
   "metadata": {},
   "source": [
    "## 1. Emission trajectory"
   ]
  },
  {
   "cell_type": "code",
   "execution_count": null,
   "metadata": {},
   "outputs": [],
   "source": [
    "# Simulate emission trajectory\n",
    "args_trace_ϕ = (-20, -5, 1000, 1e-9, 1e-3)\n",
    "Et_low, r_grid_low, _, e_grid_low  = simulate_emission_quadratic(δ, η, median*γ_low, ξ, σ_n, # Replace σ_n with 0 if you want to set τ_2 = 0.\n",
    "                                     args_trace_ϕ=args_trace_ϕ,\n",
    "                                     r_start=r_start, T=T)\n",
    "Et_high, r_grid_high, _, e_grid_high = simulate_emission_quadratic(δ, η, median*γ_high, ξ, σ_n,\n",
    "                                      args_trace_ϕ=args_trace_ϕ,\n",
    "                                      r_start=r_start, T=T)"
   ]
  },
  {
   "cell_type": "code",
   "execution_count": null,
   "metadata": {},
   "outputs": [],
   "source": [
    "plt.plot(r_grid_low, e_grid_low, label='low damage')\n",
    "plt.plot(r_grid_high, e_grid_high, label='high damage')\n",
    "plt.legend()\n",
    "plt.xlabel('Reserve')\n",
    "plt.title('Emission as a function of reserve (low damage)')\n",
    "plt.show()"
   ]
  },
  {
   "cell_type": "code",
   "execution_count": null,
   "metadata": {},
   "outputs": [],
   "source": [
    "plt.plot(Et_low, label='low damage')\n",
    "plt.plot(Et_high, label='high damage')\n",
    "plt.legend()\n",
    "plt.xlabel('Year')\n",
    "plt.ylim(0,20)\n",
    "plt.title('Emission trajectory (low damage)')\n",
    "plt.show()"
   ]
  },
  {
   "cell_type": "markdown",
   "metadata": {},
   "source": [
    "## 2. Implied $\\hat{h}$"
   ]
  },
  {
   "cell_type": "code",
   "execution_count": null,
   "metadata": {},
   "outputs": [],
   "source": [
    "E_tilde_low = δ*η/(median*γ_low)\n",
    "E_tilde_high = δ*η/(median*γ_high)\n",
    "h_hat_implied_low = Et_low/E_tilde_low * h_hat\n",
    "h_hat_implied_high = Et_high/E_tilde_high * h_hat"
   ]
  },
  {
   "cell_type": "code",
   "execution_count": null,
   "metadata": {},
   "outputs": [],
   "source": [
    "plt.plot(h_hat_implied_low, label='γ = 0.012')\n",
    "plt.plot(h_hat_implied_high, label='γ = 0.024')\n",
    "plt.xlabel('Year')\n",
    "plt.ylabel(r'$\\hat{h}$')\n",
    "plt.title(r'Implied $\\hat{h}$')\n",
    "plt.legend()\n",
    "plt.show()"
   ]
  },
  {
   "cell_type": "markdown",
   "metadata": {},
   "source": [
    "## 3. Damage and temperature change"
   ]
  },
  {
   "cell_type": "code",
   "execution_count": null,
   "metadata": {},
   "outputs": [],
   "source": [
    "T_plots = 100\n",
    "# Simulate damages\n",
    "exp_avg_response_low = median * γ_low / (1-η)\n",
    "exp_avg_response_high = median * γ_high / (1-η)\n",
    "Ws = np.random.normal(0., 1., (100_000, T))\n",
    "log_damage_low = simulate_log_damage(exp_avg_response_low, σ_n, Et_low, Ws)\n",
    "log_damage_high = simulate_log_damage(exp_avg_response_high, σ_n, Et_high, Ws)\n",
    "proportional_damage_low = np.exp(-log_damage_low)\n",
    "proportional_damage_high = np.exp(-log_damage_high)"
   ]
  },
  {
   "cell_type": "code",
   "execution_count": null,
   "metadata": {},
   "outputs": [],
   "source": [
    "# Histogram for temperature change divided by cumulative emissions\n",
    "plt.hist(log_damage_low[:, T_plots-1] / Et_low[:T_plots].sum() / γ_low, bins=200)\n",
    "plt.title('Temperature change divided by cumulative emissions, γ = 0.012')\n",
    "plt.show()\n",
    "# Histogram for temperature change\n",
    "plt.hist(log_damage_low[:, T_plots-1] / γ_low, bins=200)\n",
    "plt.title('Temperature change, γ = 0.012')\n",
    "plt.show()"
   ]
  },
  {
   "cell_type": "code",
   "execution_count": null,
   "metadata": {},
   "outputs": [],
   "source": [
    "# Histogram for temperature change divided by cumulative emissions\n",
    "plt.hist(log_damage_high[:, T_plots-1] / Et_high[:T_plots].sum() / γ_high, bins=200)\n",
    "plt.title('Temperature change divided by cumulative emissions, γ = 0.024')\n",
    "plt.show()\n",
    "# Histogram for temperature change\n",
    "plt.hist(log_damage_high[:, T_plots-1] / γ_high, bins=200)\n",
    "plt.title('Temperature change, γ = 0.024')\n",
    "plt.show()"
   ]
  },
  {
   "cell_type": "markdown",
   "metadata": {},
   "source": [
    "## 4. Compare $\\xi$"
   ]
  },
  {
   "cell_type": "code",
   "execution_count": null,
   "metadata": {},
   "outputs": [],
   "source": [
    "# Simulate emission trajectory, 0.0001x ξ\n",
    "args_trace_ϕ = (-20, -5, 1000, 1e-9, 1e-3)\n",
    "Et_low_00001x, r_grid_low_00001x, _, e_grid_low_00001x  = simulate_emission_quadratic(δ, η, median*γ_low, ξ*0.0001, σ_n,\n",
    "                                                         args_trace_ϕ=args_trace_ϕ,\n",
    "                                                         r_start=r_start, T=T)\n",
    "args_trace_ϕ = (-20, -5, 1000, 1e-9, 1e-3)\n",
    "Et_high_00001x, r_grid_high_00001x, _, e_grid_high_00001x = simulate_emission_quadratic(δ, η, median*γ_high, ξ*0.0001, σ_n,\n",
    "                                                           args_trace_ϕ=args_trace_ϕ,\n",
    "                                                           r_start=r_start, T=T)\n",
    "\n",
    "# Simulate emission trajectory, 0.001x ξ\n",
    "args_trace_ϕ = (-20, -5, 1000, 1e-9, 1e-3)\n",
    "Et_low_0001x, r_grid_low_0001x, _, e_grid_low_0001x  = simulate_emission_quadratic(δ, η, median*γ_low, ξ*0.001, σ_n,\n",
    "                                                         args_trace_ϕ=args_trace_ϕ,\n",
    "                                                         r_start=r_start, T=T)\n",
    "args_trace_ϕ = (-20, -5, 1000, 1e-9, 1e-3)\n",
    "Et_high_0001x, r_grid_high_0001x, _, e_grid_high_0001x = simulate_emission_quadratic(δ, η, median*γ_high, ξ*0.001, σ_n,\n",
    "                                                           args_trace_ϕ=args_trace_ϕ,\n",
    "                                                           r_start=r_start, T=T)\n",
    "\n",
    "# Simulate emission trajectory, 0.01x ξ\n",
    "args_trace_ϕ = (-20, -5, 1000, 1e-9, 1e-3)\n",
    "Et_low_001x, r_grid_low_001x, _, e_grid_low_001x  = simulate_emission_quadratic(δ, η, median*γ_low, ξ*0.01, σ_n,\n",
    "                                                         args_trace_ϕ=args_trace_ϕ,\n",
    "                                                         r_start=r_start, T=T)\n",
    "args_trace_ϕ = (-20, -5, 1000, 1e-9, 1e-3)\n",
    "Et_high_001x, r_grid_high_001x, _, e_grid_high_001x = simulate_emission_quadratic(δ, η, median*γ_high, ξ*0.01, σ_n,\n",
    "                                                           args_trace_ϕ=args_trace_ϕ,\n",
    "                                                           r_start=r_start, T=T)\n",
    "\n",
    "# Simulate emission trajectory, 0.1x ξ\n",
    "args_trace_ϕ = (-20, -5, 1000, 1e-9, 1e-3)\n",
    "Et_low_01x, r_grid_low_01x, _, e_grid_low_01x = simulate_emission_quadratic(δ, η, median*γ_low, ξ*0.1, σ_n,\n",
    "                                     args_trace_ϕ=args_trace_ϕ,\n",
    "                                     r_start=r_start, T=T)\n",
    "Et_high_01x, r_grid_high_01x, _, e_grid_high_01x  = simulate_emission_quadratic(δ, η, median*γ_high, ξ*0.1, σ_n,\n",
    "                                      args_trace_ϕ=args_trace_ϕ,\n",
    "                                      r_start=r_start, T=T)\n",
    "\n",
    "# Simulate emission trajectory, 1x ξ\n",
    "args_trace_ϕ = (-20, -5, 1000, 1e-9, 1e-3)\n",
    "Et_low, r_grid_low, _, e_grid_low = simulate_emission_quadratic(δ, η, median*γ_low, ξ, σ_n,\n",
    "                                     args_trace_ϕ=args_trace_ϕ,\n",
    "                                     r_start=r_start, T=T)\n",
    "Et_high, r_grid_high, _, e_grid_high  = simulate_emission_quadratic(δ, η, median*γ_high, ξ, σ_n,\n",
    "                                      args_trace_ϕ=args_trace_ϕ,\n",
    "                                      r_start=r_start, T=T)\n",
    "\n",
    "# Simulate emission trajectory, 10x ξ\n",
    "args_trace_ϕ = (-20, -5, 1000, 1e-9, 1e-3)\n",
    "Et_low_10x, r_grid_low_10x, _, e_grid_low_10x = simulate_emission_quadratic(δ, η, median*γ_low, ξ*10, σ_n,\n",
    "                                     args_trace_ϕ=args_trace_ϕ,\n",
    "                                     r_start=r_start, T=T)\n",
    "Et_high_10x, r_grid_high_10x, _, e_grid_high_10x  = simulate_emission_quadratic(δ, η, median*γ_high, ξ*10, σ_n,\n",
    "                                      args_trace_ϕ=args_trace_ϕ,\n",
    "                                      r_start=r_start, T=T)\n",
    "\n",
    "# Simulate emission trajectory, 100x ξ\n",
    "args_trace_ϕ = (-20, -5, 1000, 1e-9, 1e-3)\n",
    "Et_low_100x, r_grid_low_100x, _, e_grid_low_100x = simulate_emission_quadratic(δ, η, median*γ_low, ξ*100, σ_n,\n",
    "                                     args_trace_ϕ=args_trace_ϕ,\n",
    "                                     r_start=r_start, T=T)\n",
    "Et_high_100x, r_grid_high_100x, _, e_grid_high_100x  = simulate_emission_quadratic(δ, η, median*γ_high, ξ*100, σ_n,\n",
    "                                      args_trace_ϕ=args_trace_ϕ,\n",
    "                                      r_start=r_start, T=T)"
   ]
  },
  {
   "cell_type": "code",
   "execution_count": null,
   "metadata": {},
   "outputs": [],
   "source": [
    "E_tilde_low = δ*η/(median*γ_low)\n",
    "E_tilde_high = δ*η/(median*γ_high)\n",
    "\n",
    "h_hat_implied_low_00001x = Et_low_00001x/E_tilde_low * h_hat\n",
    "h_hat_implied_low_0001x = Et_low_0001x/E_tilde_low * h_hat\n",
    "h_hat_implied_low_001x = Et_low_001x/E_tilde_low * h_hat\n",
    "h_hat_implied_low_01x = Et_low_01x/E_tilde_low * h_hat\n",
    "h_hat_implied_low = Et_low/E_tilde_low * h_hat\n",
    "h_hat_implied_low_10x = Et_low_10x/E_tilde_low * h_hat\n",
    "h_hat_implied_low_100x = Et_low_100x/E_tilde_low * h_hat\n",
    "\n",
    "h_hat_implied_high_00001x = Et_high_00001x/E_tilde_high * h_hat\n",
    "h_hat_implied_high_0001x = Et_high_0001x/E_tilde_high * h_hat\n",
    "h_hat_implied_high_001x = Et_high_001x/E_tilde_high * h_hat\n",
    "h_hat_implied_high_01x = Et_high_01x/E_tilde_high * h_hat\n",
    "h_hat_implied_high = Et_high/E_tilde_high * h_hat\n",
    "h_hat_implied_high_10x = Et_high_10x/E_tilde_high * h_hat\n",
    "h_hat_implied_high_100x = Et_high_100x/E_tilde_high * h_hat"
   ]
  },
  {
   "cell_type": "code",
   "execution_count": null,
   "metadata": {},
   "outputs": [],
   "source": [
    "plt.plot(r_grid_low_00001x, e_grid_low_00001x, label='1e-4x ξ')\n",
    "plt.plot(r_grid_low_0001x, e_grid_low_0001x, label='0.001x ξ')\n",
    "plt.plot(r_grid_low_001x, e_grid_low_001x, label='0.01x ξ')\n",
    "plt.plot(r_grid_low_01x, e_grid_low_01x, label='0.1x ξ')\n",
    "plt.plot(r_grid_low, e_grid_low, label='1x ξ')\n",
    "plt.plot(r_grid_low_10x, e_grid_low_10x, label='10x ξ')\n",
    "plt.plot(r_grid_low_100x, e_grid_low_100x, label='100x ξ')\n",
    "plt.legend()\n",
    "plt.xlabel('Reserve')\n",
    "plt.title('Figure 1: Emission as a function of reserve (low damage)')\n",
    "plt.savefig('figure_1.pdf')\n",
    "plt.show()"
   ]
  },
  {
   "cell_type": "code",
   "execution_count": null,
   "metadata": {},
   "outputs": [],
   "source": [
    "plt.plot(Et_low_00001x, label='1e-4x ξ')\n",
    "plt.plot(Et_low_0001x, label='0.001x ξ')\n",
    "plt.plot(Et_low_001x, label='0.01x ξ')\n",
    "plt.plot(Et_low_01x, label='0.1x ξ')\n",
    "plt.plot(Et_low, label='1x ξ')\n",
    "plt.plot(Et_low_10x, label='10x ξ')\n",
    "plt.plot(Et_low_100x, label='100x ξ')\n",
    "plt.legend()\n",
    "plt.xlabel('Year')\n",
    "# plt.ylim(0,20)\n",
    "plt.title('Figure 2: Emission trajectory (low damage)')\n",
    "plt.savefig('figure_2.pdf')\n",
    "plt.show()"
   ]
  },
  {
   "cell_type": "code",
   "execution_count": null,
   "metadata": {},
   "outputs": [],
   "source": [
    "plt.plot(h_hat_implied_low_00001x, label='1e-4x ξ')\n",
    "plt.plot(h_hat_implied_low_0001x, label='0.001x ξ')\n",
    "plt.plot(h_hat_implied_low_001x, label='0.01x ξ')\n",
    "plt.plot(h_hat_implied_low_01x, label='0.1x ξ')\n",
    "plt.plot(h_hat_implied_low, label='1x ξ')\n",
    "plt.plot(h_hat_implied_low_10x, label='10x ξ')\n",
    "plt.plot(h_hat_implied_low_100x, label='100x ξ')\n",
    "plt.legend()\n",
    "plt.xlabel('Year')\n",
    "plt.ylim(0,0.3)\n",
    "plt.title(r'Figure 3: Implied $\\hat{h}$ (low damage)')\n",
    "plt.savefig('figure_3.pdf')\n",
    "plt.show()"
   ]
  },
  {
   "cell_type": "code",
   "execution_count": null,
   "metadata": {},
   "outputs": [],
   "source": [
    "plt.plot(r_grid_high_00001x, e_grid_high_001x, label='1e-4x ξ')\n",
    "plt.plot(r_grid_high_0001x, e_grid_high_0001x, label='0.001x ξ')\n",
    "plt.plot(r_grid_high_001x, e_grid_high_001x, label='0.01x ξ')\n",
    "plt.plot(r_grid_high_01x, e_grid_high_01x, label='0.1x ξ')\n",
    "plt.plot(r_grid_high, e_grid_high, label='1x ξ')\n",
    "plt.plot(r_grid_high_10x, e_grid_high_10x, label='2x ξ')\n",
    "plt.plot(r_grid_high_100x, e_grid_high_100x, label='4x ξ')\n",
    "plt.legend()\n",
    "plt.xlabel('Reserve')\n",
    "plt.title('Figure 4: Emission as a function of reserve (high damage)')\n",
    "plt.savefig('figure_4.pdf')\n",
    "plt.show()"
   ]
  },
  {
   "cell_type": "code",
   "execution_count": null,
   "metadata": {},
   "outputs": [],
   "source": [
    "plt.plot(Et_high_00001x, label='1e-4x ξ')\n",
    "plt.plot(Et_high_0001x, label='0.001x ξ')\n",
    "plt.plot(Et_high_001x, label='0.01x ξ')\n",
    "plt.plot(Et_high_01x, label='0.1x ξ')\n",
    "plt.plot(Et_high, label='1x ξ')\n",
    "plt.plot(Et_high_10x, label='10x ξ')\n",
    "plt.plot(Et_high_100x, label='100x ξ')\n",
    "plt.legend()\n",
    "plt.xlabel('Year')\n",
    "# plt.ylim(0,9)\n",
    "plt.title('Figure 5: Emission trajectory (high damage)')\n",
    "plt.savefig('figure_5.pdf')\n",
    "plt.show()"
   ]
  },
  {
   "cell_type": "code",
   "execution_count": null,
   "metadata": {},
   "outputs": [],
   "source": [
    "plt.plot(h_hat_implied_high_00001x, label='1e-4x ξ')\n",
    "plt.plot(h_hat_implied_high_0001x, label='0.001x ξ')\n",
    "plt.plot(h_hat_implied_high_001x, label='0.01x ξ')\n",
    "plt.plot(h_hat_implied_high_01x, label='0.1x ξ')\n",
    "plt.plot(h_hat_implied_high, label='1x ξ')\n",
    "plt.plot(h_hat_implied_high_10x, label='10x ξ')\n",
    "plt.plot(h_hat_implied_high_100x, label='100x ξ')\n",
    "plt.legend()\n",
    "plt.xlabel('Year')\n",
    "plt.ylim(0,0.3)\n",
    "plt.title(r'Figure 6: Implied $\\hat{h}$ (high damage)')\n",
    "plt.savefig('figure_6.pdf')\n",
    "plt.show()"
   ]
  }
 ],
 "metadata": {
  "kernelspec": {
   "display_name": "Python 3",
   "language": "python",
   "name": "python3"
  },
  "language_info": {
   "codemirror_mode": {
    "name": "ipython",
    "version": 3
   },
   "file_extension": ".py",
   "mimetype": "text/x-python",
   "name": "python",
   "nbconvert_exporter": "python",
   "pygments_lexer": "ipython3",
   "version": "3.8.3"
  }
 },
 "nbformat": 4,
 "nbformat_minor": 4
}
