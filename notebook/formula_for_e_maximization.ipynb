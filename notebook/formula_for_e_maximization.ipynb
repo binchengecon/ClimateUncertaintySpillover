{
 "cells": [
  {
   "cell_type": "markdown",
   "metadata": {},
   "source": [
    "From the HJB equation, we collect the terms that depends on $e$:\n",
    "\n",
    "$$\n",
    "\\max_e \\min_h \\frac{\\xi}{2}h^\\prime h + \\left(v_k\\sigma_k(z) + e(v_y)^\\prime\\Theta\\sigma_n + \\left[\\frac{\\partial \\psi}{\\partial z}(z)\\right]^\\prime\\sigma_z(z)\\right) \\cdot h - \\delta \\phi(r) + \\delta \\eta \\log e + (v_y)^\\prime \\Theta e - \\frac{\\partial \\phi}{\\partial r}(r) e \\tag{1}\n",
    "$$\n",
    "\n",
    "Conditioning on $e$, (1) is a quadratic function of $h$. The optimal $h$ is:\n",
    "\n",
    "$$\n",
    "h^* = - \\frac{v_k\\sigma_k(z) + e(v_y)^\\prime\\Theta\\sigma_n + \\left[\\frac{\\partial \\psi}{\\partial z}(z)\\right]^\\prime\\sigma_z(z)}{\\xi}\n",
    "$$\n",
    "\n",
    "Substituting $h$ with $h^*$, the optimization problem in (1) becomes:\n",
    "\n",
    "$$\n",
    "\\max_e -\\frac{\\left(v_k\\sigma_k(z) + e(v_y)^\\prime\\Theta\\sigma_n + \\left[\\frac{\\partial \\psi}{\\partial z}(z)\\right]^\\prime\\sigma_z(z)\\right)^2}{2\\xi} - \\delta \\phi(r) + \\delta \\eta \\log e + (v_y)^\\prime \\Theta e - \\frac{\\partial \\phi}{\\partial r}(r) e \n",
    "$$\n",
    "\n",
    "Dropping terms that are irrelevant to $e$, we have:\n",
    "\n",
    "$$\n",
    "\\max_e -\\frac{\\left[v_k\\sigma_k(z) + \\left[\\frac{\\partial \\psi}{\\partial z}(z)\\right]^\\prime\\sigma_z(z) \\right](v_y)^\\prime\\Theta\\sigma_n}{\\xi}e -\\frac{\\left[ (v_y)^\\prime\\Theta \\right]^2|\\sigma_n|^2}{2\\xi} e^2 - \\delta \\phi(r) + \\delta \\eta \\log e + (v_y)^\\prime \\Theta e - \\frac{\\partial \\phi}{\\partial r}(r) e \n",
    "$$\n",
    "\n",
    "Also, we impose the follow constraints:\n",
    "\n",
    "\\begin{align*}\n",
    "(\\sigma_n)^\\prime \\sigma_z(z) &= 0\\\\\n",
    "(\\sigma_n)^\\prime \\sigma_k(z) &= 0\\\\\n",
    "\\end{align*}\n",
    "\n",
    "Therefore, the maximization problem $e$ then becomes:\n",
    "\n",
    "$$\n",
    "\\max_e  - \\delta \\phi(r) + \\delta \\eta \\log e - \\tau_1 e -\\frac{\\tau_2}{2} e^2 - \\frac{\\partial \\phi}{\\partial r}(r) e \n",
    "$$\n",
    "\n",
    "where\n",
    "\n",
    "\\begin{align*}\n",
    "\\tau_1 &= -(v_y)^\\prime \\Theta\\\\\n",
    "\\tau_2 &= \\frac{\\left[ (v_y)^\\prime\\Theta \\right]^2|\\sigma_n|^2}{\\xi}\\\\\n",
    "\\end{align*}"
   ]
  }
 ],
 "metadata": {
  "kernelspec": {
   "display_name": "Python 3",
   "language": "python",
   "name": "python3"
  },
  "language_info": {
   "codemirror_mode": {
    "name": "ipython",
    "version": 3
   },
   "file_extension": ".py",
   "mimetype": "text/x-python",
   "name": "python",
   "nbconvert_exporter": "python",
   "pygments_lexer": "ipython3",
   "version": "3.8.5"
  }
 },
 "nbformat": 4,
 "nbformat_minor": 4
}
