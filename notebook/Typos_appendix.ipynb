{
 "cells": [
  {
   "cell_type": "markdown",
   "metadata": {},
   "source": [
    "1. Page 44, the equaiton for $h^*$:\n",
    "$$\n",
    "h^* = -\\frac{1}{\\xi_b} \\begin{bmatrix} {\\color{blue}{.85}} \\\\ 3.58\\end{bmatrix}\n",
    "$$\n",
    "\n",
    "2. Page 44, the evolution for $d \\log C_t$:\n",
    "\n",
    "$$\n",
    "d \\log C_t = {\\color{blue}{.01936}} + .04 Z_t dt + .01 \\begin{bmatrix}.87 & .38\\end{bmatrix} dW_t^k\n",
    "$$\n",
    "\n",
    ".00484 is in quarterly unit.\n",
    "\n",
    "3. Page 44, equation (10):\n",
    "\n",
    "$$\n",
    "\\min_h -\\delta \\tilde{\\zeta}(z) - \\eta \\log(\\iota_y\\cdot z) + \\left[\\frac{\\partial \\tilde{\\zeta}}{\\partial z}(z)\\right]\\cdot [\\mu_z(z)+\\sigma_z(z) h] + \\frac{1}{2} \\text{trace} \\left[{\\color{blue}{\\sigma_z}}(z)^\\prime \\frac{\\partial^2 \\tilde{\\zeta}}{\\partial z \\partial z^\\prime}(z) {\\color{blue}{\\sigma_z}} (z)\\right] + {\\color{blue}{\\frac{\\xi_b}{2} h^\\prime h}} = 0\n",
    "$$\n",
    "\n",
    "4. Page 44, the second last line: \"... we impose that the processes $\\iota_y \\cdot Z$ and ${\\color{blue}{\\iota_k}} \\cdot Z$ are indepedent processes...\""
   ]
  }
 ],
 "metadata": {
  "kernelspec": {
   "display_name": "Python 3",
   "language": "python",
   "name": "python3"
  },
  "language_info": {
   "codemirror_mode": {
    "name": "ipython",
    "version": 3
   },
   "file_extension": ".py",
   "mimetype": "text/x-python",
   "name": "python",
   "nbconvert_exporter": "python",
   "pygments_lexer": "ipython3",
   "version": "3.8.5"
  }
 },
 "nbformat": 4,
 "nbformat_minor": 4
}
