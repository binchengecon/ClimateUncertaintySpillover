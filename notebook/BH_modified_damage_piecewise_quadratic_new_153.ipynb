{
 "cells": [
  {
   "cell_type": "code",
   "execution_count": 10,
   "metadata": {},
   "outputs": [],
   "source": [
    "import os, sys\n",
    "sys.path.append(os.path.dirname(os.getcwd()) + '/source')\n",
    "\n",
    "import numpy as np\n",
    "import pandas as pd\n",
    "import matplotlib.pyplot as plt\n",
    "import SolveLinSys\n",
    "import time\n",
    "from utilities import compute_derivatives_2d, find_nearest_value\n",
    "from numba import njit"
   ]
  },
  {
   "cell_type": "code",
   "execution_count": 11,
   "metadata": {},
   "outputs": [],
   "source": [
    "def false_transient_one_iteration(stateSpace, A, B_z, B_y, C_zz, C_yy, D, v0, ε=.3, tol=-10):\n",
    "    A = A.reshape(-1, 1, order='F')\n",
    "    B = np.hstack([B_z.reshape(-1, 1, order='F'), B_y.reshape(-1, 1, order='F')])\n",
    "    C = np.hstack([C_zz.reshape(-1, 1, order='F'), C_yy.reshape(-1, 1, order='F')])\n",
    "    D = D.reshape(-1, 1, order='F')\n",
    "    v0 = v0.reshape(-1, 1, order='F')\n",
    "    out = SolveLinSys.solveFT(stateSpace, A, B, C, D, v0, ε, tol)\n",
    "    return out\n",
    "\n",
    "\n",
    "def compute_prob(μ_2_state, λ_2p_state, λ_2p_prior):\n",
    "    λ_2p = np.zeros(λ_2p_state.shape[0]*μ_2_state.shape[0])\n",
    "    μ_2 = np.zeros_like(λ_2p)\n",
    "    π_o = np.zeros_like(λ_2p)\n",
    "    for i in range(λ_2p_state.shape[0]):\n",
    "        for j in range(μ_2_state.shape[0]):\n",
    "            idx = i*μ_2_state.shape[0] + j\n",
    "            λ_2p[idx] = λ_2p_state[i]\n",
    "            μ_2[idx] = μ_2_state[j]\n",
    "            π_o[idx] = 1./len(μ_2_state) * λ_2p_prior[i]\n",
    "    return μ_2, λ_2p, π_o"
   ]
  },
  {
   "cell_type": "markdown",
   "metadata": {},
   "source": [
    "Equation:\n",
    "\n",
    "\\begin{align}\n",
    "0 = \\max_e \\min_{h_2} \\min_{\\pi_j:\\sum_j^J{\\pi_j}=1} &-\\delta \\phi(y,z_2) + \\delta\\eta\\log e  + \\frac{\\partial \\phi}{\\partial y}(y, z_2) z_2 e\\\\\n",
    "&+ \\left[\\frac{\\partial \\phi}{\\partial z_2}(y, z_2)\\right]\\left[-\\rho(z_2 - \\sum_{j}^J \\pi_j \\mu_{2,j}) \\right] + \\left[\\frac{\\partial^2 \\phi}{\\partial (z_2)^2}(y, z_2)\\right]\\left(\\frac{z_2|\\sigma_2|^2}{2}\\right)\\\\\n",
    "& + (\\eta-1)\\sum_{j}^J \\pi_{j}\\left(\\frac{d}{d \\tau}\\Lambda_j(y)z_2 e\\right)\\\\\n",
    "& + \\xi_a \\sum_{j}^J \\pi_{j} \\left(\\log \\pi_j - \\log \\pi_j^o\\right)\n",
    "\\end{align}\n",
    "\n",
    "where\n",
    "\n",
    "\\begin{equation}\n",
    "\\Lambda_j(\\tau)=\n",
    "\\begin{cases}\n",
    "  \\lambda_1 \\tau + \\frac{\\lambda_2}{2}\\tau^2, & \\tau\\leq \\bar{\\tau} \\\\\n",
    "  \\lambda_1 \\tau + \\frac{\\lambda_2}{2}\\tau^2 + \\frac{\\lambda_{2,j}^+}{2}(\\tau-\\bar{\\tau})^2, & \\tau > \\bar{\\tau}\n",
    "\\end{cases}\n",
    "\\end{equation}\n",
    "\n",
    "FOC of $\\pi_j$ gives:\n",
    "$$\n",
    "\\pi_j \\propto \\exp\\left(-\\frac{1}{\\xi_a}\\left[(\\eta-1)\\left(\\frac{d}{d \\tau}\\Lambda_j(z_2 y) z_2 e \\right) + \\frac{\\partial \\phi}{\\partial z_2}(y, z_2)\\rho \\mu_{2,j} \\right]\\right)\\pi_j^o\n",
    "$$\n",
    "\n",
    "FOC of $e$ gives :\n",
    "\n",
    "$$\n",
    "e^* = -\\frac{\\delta \\eta}{\\frac{\\partial \\phi}{\\partial y}(y, z_2)z_2 + (\\eta-1)\\sum_{j}^J\\pi_j\\frac{d}{d \\tau}\\Lambda_j(y)z_2}\n",
    "$$"
   ]
  },
  {
   "cell_type": "code",
   "execution_count": null,
   "metadata": {},
   "outputs": [],
   "source": [
    "def false_transient(z_grid, y_grid, model_paras=(), v0=None, ϵ=.5, tol=1e-8, max_iter=10_000):\n",
    "    η, ξ_m, ξ_a, δ, η, μ_2, ρ, σ_2, λ_1, λ_2, λ_bar, λ_2p, π_o  = model_paras\n",
    "    Δ_z = z_grid[1] - z_grid[0]\n",
    "    Δ_y = y_grid[1] - y_grid[0]\n",
    "    (z_mat, y_mat) = np.meshgrid(z_grid, y_grid, indexing = 'ij')\n",
    "    stateSpace = np.hstack([z_mat.reshape(-1, 1, order='F'), y_mat.reshape(-1, 1, order='F')])\n",
    "    if v0 is None:\n",
    "        v0 = -δ*η*y_mat\n",
    "\n",
    "    d_Λ = np.array([λ_1 + λ_2*y_mat + λ_2p_j*(y_mat>λ_bar)*(y_mat-λ_bar) for λ_2p_j in λ_2p])\n",
    "    d_Λ_z = d_Λ * z_mat\n",
    "\n",
    "    π = np.ones_like(d_Λ)\n",
    "    μ_2_new = np.ones_like(d_Λ)\n",
    "    for i in range(π.shape[0]):\n",
    "        π[i] = π_o[i]\n",
    "        μ_2_new[i] = μ_2[i]\n",
    "    π_o = π.copy()\n",
    "    μ_2 = μ_2_new\n",
    "\n",
    "    mean = - ρ*(z_mat-μ_2)\n",
    "    std = np.sqrt(z_mat)*σ_2\n",
    "    var = std**2/2.    \n",
    "    e = - δ*η / ((η-1)*np.sum(π*d_Λ_z, axis=0))\n",
    "    e_old = e.copy()\n",
    "    \n",
    "    count = 1\n",
    "    error = 1.\n",
    "\n",
    "    while error > tol and count < max_iter:\n",
    "        v_old = v0.copy()\n",
    "        v0_dz = compute_derivatives_2d(v0, 0, 1, Δ_z)\n",
    "        v0_dzz = compute_derivatives_2d(v0, 0, 2, Δ_z)\n",
    "        v0_dy = compute_derivatives_2d(v0, 1, 1, Δ_y)\n",
    "\n",
    "        log_π_ratio = -((η-1.)*d_Λ_z*e+v0_dz*ρ*μ_2)/ξ_a\n",
    "        π_ratio = log_π_ratio - np.max(log_π_ratio, axis=0)\n",
    "        π = np.exp(π_ratio) * π_o\n",
    "        π = π/np.sum(π, axis=0)\n",
    "        π[π<=0] = 1e-12\n",
    "\n",
    "        e_new = - δ*η / (v0_dy*z_mat + (η-1)*np.sum(π*d_Λ_z, axis=0))\n",
    "        e_new[e_new<=0] = 1e-12\n",
    "        e = e_new * 0.5 + e_old * 0.5\n",
    "        e_old = e.copy()\n",
    "        \n",
    "        A = np.ones_like(z_mat)*(-δ)\n",
    "        B_z = np.sum(π*mean, axis=0)\n",
    "        B_y = z_mat*e\n",
    "        C_zz = var\n",
    "        C_yy = np.zeros_like(z_mat)\n",
    "        D = δ*η*np.log(e) + (η-1)*np.sum(π*d_Λ_z*e, axis=0)\\\n",
    "            + ξ_a*np.sum(π*(np.log(π)-np.log(π_o)), axis=0)\n",
    "        res = false_transient_one_iteration(stateSpace, A, B_z, B_y, C_zz, C_yy, D, v0, ϵ) # CG tol = 1e-10\n",
    "        v0 = res[2].reshape(v0.shape, order = \"F\")\n",
    "\n",
    "        rhs_error = A*v0 + B_z*v0_dz + B_y*v0_dy + C_zz*v0_dzz + D\n",
    "        rhs_error = np.max(abs(rhs_error))\n",
    "        lhs_error = np.max(abs((v0 - v_old)/ϵ))\n",
    "        error = lhs_error\n",
    "        print(\"Iteration %s: LHS Error: %s; RHS Error %s\" % (count, lhs_error, rhs_error))\n",
    "        count += 1\n",
    "    return v0, e, π"
   ]
  },
  {
   "cell_type": "code",
   "execution_count": null,
   "metadata": {},
   "outputs": [],
   "source": [
    "# Model parameters\n",
    "η = .032\n",
    "ξ_a = 1./4000\n",
    "δ = .01\n",
    "# Z process\n",
    "μ_2_mean = 1.86/1000.\n",
    "ρ = 0.9\n",
    "σ_2 = np.sqrt(2*ρ/10416.29)/3.\n",
    "# Damage setting\n",
    "λ_1 = 1.7675/10000\n",
    "λ_2 = 0.0022*2\n",
    "λ_bar = 2.\n",
    "\n",
    "# three damage\n",
    "λ_2p_state = np.array([0., 0.0197*2, 0.3853*2])\n",
    "λ_2p_prior = np.array([0.4875, 0.4875, 0.025])\n",
    "μ_2_state = pd.read_csv('../data/model144.csv', header=None).to_numpy()[:, 0]/1000.\n",
    "\n",
    "μ_2, λ_2p, π_o = compute_prob(μ_2_state, λ_2p_state, λ_2p_prior)\n",
    "pde_paras = (η, ξ_m, ξ_a, δ, η, μ_2, ρ, σ_2, λ_1, λ_2, λ_bar, λ_2p, π_o)\n",
    "\n",
    "# Capital and z parameters\n",
    "α_k = -0.043\n",
    "β_k = 0.04\n",
    "σ_k = np.array([0.477*2, 0])/100.\n",
    "β_z = 0.014*4\n",
    "σ_z = np.array([0.011*2, 0.025*2])\n",
    "α = 0.115\n",
    "ioverk = 0.09\n",
    "κ = 6.667\n",
    "\n",
    "# Grid setting\n",
    "n_z = 50\n",
    "z_min = np.max([μ_2_mean - 3*np.sqrt(σ_2**2*μ_2_mean/(2*ρ)), 1e-9])\n",
    "z_max = μ_2_mean + 3*np.sqrt(σ_2**2*μ_2_mean/(2*ρ))\n",
    "z_grid = np.linspace(z_min, z_max, n_z)\n",
    "\n",
    "n_y = 50\n",
    "y_min = 1e-10\n",
    "y_max = 10\n",
    "y_grid = np.linspace(y_min, y_max, n_y)"
   ]
  },
  {
   "cell_type": "code",
   "execution_count": null,
   "metadata": {
    "scrolled": true
   },
   "outputs": [],
   "source": [
    "ϕ_grid, e_grid, π_grid = false_transient(z_grid, y_grid, model_paras=pde_paras,\n",
    "                                         v0=None, ϵ=.5, tol=1e-8, max_iter=10_000)"
   ]
  },
  {
   "cell_type": "code",
   "execution_count": 106,
   "metadata": {},
   "outputs": [
    {
     "data": {
      "text/plain": [
       "Text(0.5, 1.0, '$h(y, z_2)$, $z_2=1.86/1000$')"
      ]
     },
     "execution_count": 106,
     "metadata": {},
     "output_type": "execute_result"
    },
    {
     "data": {
      "image/png": "[encoded data removed]",
      "text/plain": [
       "<Figure size 432x288 with 1 Axes>"
      ]
     },
     "metadata": {
      "needs_background": "light"
     },
     "output_type": "display_data"
    }
   ],
   "source": [
    "plt.plot(y_grid, e_grid[25])\n",
    "plt.xlabel('y')\n",
    "plt.title(r'$h(y, z_2)$, $z_2=1.86/1000$')\n",
    "# plt.ylim(0, 1)"
   ]
  },
  {
   "cell_type": "code",
   "execution_count": 99,
   "metadata": {},
   "outputs": [
    {
     "data": {
      "text/plain": [
       "Text(0.5, 1.0, '$h(y, z_2)$, $z_2=1.86/1000$')"
      ]
     },
     "execution_count": 99,
     "metadata": {},
     "output_type": "execute_result"
    },
    {
     "data": {
      "image/png": "[encoded data removed]",
      "text/plain": [
       "<Figure size 432x288 with 1 Axes>"
      ]
     },
     "metadata": {
      "needs_background": "light"
     },
     "output_type": "display_data"
    }
   ],
   "source": [
    "plt.plot(y_grid, e_grid[25])\n",
    "plt.xlabel('y')\n",
    "plt.title(r'$h(y, z_2)$, $z_2=1.86/1000$')\n",
    "# plt.ylim(0, 1)"
   ]
  },
  {
   "cell_type": "code",
   "execution_count": 75,
   "metadata": {},
   "outputs": [],
   "source": [
    "@njit\n",
    "def simulation(y_grid, z_grid, e_grid, yoz_start=290, z_loc=25, T=100):\n",
    "    Et = np.zeros(T+1)\n",
    "    z = z_grid[z_loc]\n",
    "    for i in range(T+1):\n",
    "        Et[i] = np.interp(yoz_start*z, y_grid, e_grid[z_loc])\n",
    "        yoz_start = yoz_start + Et[i]\n",
    "    return Et\n",
    "\n",
    "\n",
    "@njit(parallel=True)\n",
    "def simulate_capital(α_k, β_k, σ_k, β_z, σ_z, ioverk, κ, Ws, k_start, N=100_000, T=100, dt=1.):\n",
    "    var_z = dt*σ_z@σ_z/(1-(1-β_z*dt)**2)\n",
    "    std_z = np.sqrt(var_z)\n",
    "\n",
    "    time_periods = int(T/dt)\n",
    "    z_path = np.zeros((N, time_periods+1))\n",
    "    k_path = np.zeros((N, time_periods+1))\n",
    "    for i in range(N):\n",
    "        z0 = np.random.normal(0.,std_z)\n",
    "        k0 = k_start\n",
    "        z_path[i, 0] = z0\n",
    "        k_path[i, 0] = k0\n",
    "        for j in range(1, time_periods+1):\n",
    "            k1 = k0 + (α_k + β_k*z0 + ioverk - κ/2.*ioverk**2 - σ_k@σ_k/2.)*dt + σ_k@Ws[i, j]*np.sqrt(dt)\n",
    "            z1 = (1.-β_z*dt)*z0 + σ_z@Ws[i, j]*np.sqrt(dt)\n",
    "            k_path[i, j] = k1\n",
    "            z_path[i, j] = z1\n",
    "            k0 = k1\n",
    "            z0 = z1\n",
    "    return k_path"
   ]
  },
  {
   "cell_type": "code",
   "execution_count": 77,
   "metadata": {},
   "outputs": [],
   "source": [
    "T = 100\n",
    "Et = simulation(y_grid, z_grid, e_grid, yoz_start=290, z_loc=25, T=T)"
   ]
  },
  {
   "cell_type": "code",
   "execution_count": 78,
   "metadata": {
    "scrolled": true
   },
   "outputs": [
    {
     "data": {
      "text/plain": [
       "Text(0.5, 0, 'Year')"
      ]
     },
     "execution_count": 78,
     "metadata": {},
     "output_type": "execute_result"
    },
    {
     "data": {
      "image/png": "[encoded data removed]",
      "text/plain": [
       "<Figure size 432x288 with 1 Axes>"
      ]
     },
     "metadata": {
      "needs_background": "light"
     },
     "output_type": "display_data"
    }
   ],
   "source": [
    "plt.figure()\n",
    "plt.title('Emission trajectory')\n",
    "plt.plot(Et)\n",
    "plt.xlabel('Year')"
   ]
  },
  {
   "cell_type": "markdown",
   "metadata": {},
   "source": [
    "## SCC computation\n",
    "\n",
    "$$\n",
    "SCC = ME(y, z_2) \\frac{(\\alpha-i^*)\\exp(k-n)}{\\delta(1-\\eta)}\n",
    "$$\n",
    "\n",
    "In our uncertainty decompositions, we compute $ME$ in the following four steps:\n",
    "\n",
    "i) compute\n",
    "$$\n",
    "ME_1(y, z_2) = (1-\\eta)\\left(\\sum_{j=1}^J\\pi_jz_2\\frac{d}{d \\tau}\\Lambda_j (y)\\right)\n",
    "$$\n",
    "\n",
    "ii) construct\n",
    "$$\n",
    "U(y, z_2) = (1-\\eta) \\left[\\sum_{j=1}^J\\pi_jz_2^2 \\frac{d^2}{d\\tau^2}\\Lambda_j (y) e^*(y, z_2)\\right]\n",
    "$$\n",
    "\n",
    "iii) solve\n",
    "$$\n",
    "0 = -\\delta f + \\frac{\\partial f}{\\partial y}e^* + \\frac{\\partial f}{\\partial z_2}\\left[-\\rho(z_2 - \\sum_{j}^J \\pi_j\\mu_{2,j})\\right] + \\left[\\frac{\\partial^2 f}{\\partial (z_2)^2}(y, z_2)\\right]\\left(\\frac{z_2|\\sigma_2|^2}{2}\\right)\n",
    "$$\n",
    "\n",
    "iv) then $ME_2(y, z_2)=f(y, z_2)$, and $ME(y, z_2) = ME_1(y, z_2) + ME_2(y, z_2)$"
   ]
  }
 ],
 "metadata": {
  "kernelspec": {
   "display_name": "Python 3",
   "language": "python",
   "name": "python3"
  },
  "language_info": {
   "codemirror_mode": {
    "name": "ipython",
    "version": 3
   },
   "file_extension": ".py",
   "mimetype": "text/x-python",
   "name": "python",
   "nbconvert_exporter": "python",
   "pygments_lexer": "ipython3",
   "version": "3.8.5"
  }
 },
 "nbformat": 4,
 "nbformat_minor": 4
}
