{
 "cells": [
  {
   "cell_type": "code",
   "execution_count": 1,
   "metadata": {},
   "outputs": [],
   "source": [
    "import numpy as np"
   ]
  },
  {
   "cell_type": "code",
   "execution_count": 2,
   "metadata": {},
   "outputs": [],
   "source": [
    "# Table 1, Technology (top), Z process (middle) and preference (bottom) configurations\n",
    "α = .115\n",
    "κ = 6.667\n",
    "α_k = -.043\n",
    "β_k = .04\n",
    "σ_k = np.array([.00954, 0])\n",
    "\n",
    "β_z = .056\n",
    "σ_z = np.array([.022, .05])\n",
    "\n",
    "δ = .010\n",
    "η = .032"
   ]
  },
  {
   "cell_type": "code",
   "execution_count": 3,
   "metadata": {},
   "outputs": [],
   "source": [
    "# Table 2, Steady states for the model specification without climate impacts.\n",
    "# The values with a superscript were imposed when setting the parameters.\n",
    "i = .090 # investment capital ratio \n",
    "c = .025 # consumption capital ratio\n",
    "k_growth = -.043 + i - κ/2.*i**2 # capital growth, 0.02"
   ]
  },
  {
   "cell_type": "code",
   "execution_count": 4,
   "metadata": {},
   "outputs": [],
   "source": [
    "# Table 3, Initial Values\n",
    "K0 = 695.65\n",
    "y0 = .540"
   ]
  },
  {
   "cell_type": "code",
   "execution_count": 5,
   "metadata": {},
   "outputs": [],
   "source": [
    "# Compute consumption numbers, lower triangular covariance matrix\n",
    "ξ_b = 5.\n",
    "\n",
    "δ = .01\n",
    "η = .032\n",
    "\n",
    "αc_0 = .00484 * 4\n",
    "αc_1 = .01 * 4\n",
    "σc = np.array([.00477, 0.]) * 2\n",
    "αz_1 = .014 * 4\n",
    "σz = np.array([.011, .025]) * 2\n",
    "\n",
    "vc = (1-η)/δ\n",
    "vz = αc_1*vc/(δ+αz_1)\n",
    "h = -(vz*σz+vc*σc)/ξ_b"
   ]
  },
  {
   "cell_type": "code",
   "execution_count": 6,
   "metadata": {},
   "outputs": [
    {
     "data": {
      "text/plain": [
       "array([0.00954, 0.     ])"
      ]
     },
     "execution_count": 6,
     "metadata": {},
     "output_type": "execute_result"
    }
   ],
   "source": [
    "σc"
   ]
  },
  {
   "cell_type": "code",
   "execution_count": 7,
   "metadata": {},
   "outputs": [
    {
     "data": {
      "text/plain": [
       "array([0.022, 0.05 ])"
      ]
     },
     "execution_count": 7,
     "metadata": {},
     "output_type": "execute_result"
    }
   ],
   "source": [
    "σz"
   ]
  },
  {
   "cell_type": "code",
   "execution_count": 8,
   "metadata": {},
   "outputs": [
    {
     "data": {
      "text/plain": [
       "array([-0.44282773, -0.58666667])"
      ]
     },
     "execution_count": 8,
     "metadata": {},
     "output_type": "execute_result"
    }
   ],
   "source": [
    "h"
   ]
  },
  {
   "cell_type": "code",
   "execution_count": 9,
   "metadata": {},
   "outputs": [],
   "source": [
    "# Compute consumption numbers, upper triangular covariance matrix\n",
    "\n",
    "# Refactor covariance matrix\n",
    "σc = np.array([.00477, 0.]) * 2\n",
    "σz = np.array([.011, .025]) * 2\n",
    "var_c = np.dot(σc, σc)\n",
    "var_z = np.dot(σz, σz)\n",
    "cov_cz = np.dot(σc, σz)\n",
    "\n",
    "σz = np.array([0., np.sqrt(var_z)])\n",
    "σc_2 = cov_cz / σz[1]\n",
    "σc_1 = np.sqrt(var_c-σc_2**2)\n",
    "σc = np.array([σc_1, σc_2])\n",
    "\n",
    "ξ_b = 5.\n",
    "\n",
    "δ = .01\n",
    "η = .032\n",
    "\n",
    "αc_0 = .00484 * 4\n",
    "αc_1 = .01 * 4\n",
    "αz_1 = .014 * 4\n",
    "\n",
    "vc = (1-η)/δ\n",
    "vz = αc_1*vc/(δ+αz_1)\n",
    "h = -(vz*σz+vc*σc)/ξ_b"
   ]
  },
  {
   "cell_type": "code",
   "execution_count": 10,
   "metadata": {},
   "outputs": [
    {
     "data": {
      "text/plain": [
       "array([-0.16905356, -0.71532865])"
      ]
     },
     "execution_count": 10,
     "metadata": {},
     "output_type": "execute_result"
    }
   ],
   "source": [
    "h"
   ]
  },
  {
   "cell_type": "code",
   "execution_count": 11,
   "metadata": {},
   "outputs": [
    {
     "data": {
      "text/plain": [
       "array([0.00873211, 0.00384213])"
      ]
     },
     "execution_count": 11,
     "metadata": {},
     "output_type": "execute_result"
    }
   ],
   "source": [
    "σc"
   ]
  },
  {
   "cell_type": "code",
   "execution_count": 12,
   "metadata": {},
   "outputs": [
    {
     "data": {
      "text/plain": [
       "array([0.      , 0.054626])"
      ]
     },
     "execution_count": 12,
     "metadata": {},
     "output_type": "execute_result"
    }
   ],
   "source": [
    "σz"
   ]
  },
  {
   "cell_type": "code",
   "execution_count": 14,
   "metadata": {},
   "outputs": [
    {
     "data": {
      "text/plain": [
       "0.06753427239836443"
      ]
     },
     "execution_count": 14,
     "metadata": {},
     "output_type": "execute_result"
    }
   ],
   "source": [
    "# Chernoff\n",
    "chernoff = h@h / 8\n",
    "chernoff"
   ]
  },
  {
   "cell_type": "code",
   "execution_count": 18,
   "metadata": {},
   "outputs": [
    {
     "data": {
      "text/plain": [
       "0.5089819503900522"
      ]
     },
     "execution_count": 18,
     "metadata": {},
     "output_type": "execute_result"
    }
   ],
   "source": [
    "np.exp(-chernoff*10)"
   ]
  },
  {
   "cell_type": "code",
   "execution_count": 19,
   "metadata": {},
   "outputs": [
    {
     "data": {
      "text/plain": [
       "10.26363586878197"
      ]
     },
     "execution_count": 19,
     "metadata": {},
     "output_type": "execute_result"
    }
   ],
   "source": [
    "np.log(1./2) / (-chernoff)"
   ]
  },
  {
   "cell_type": "code",
   "execution_count": 21,
   "metadata": {},
   "outputs": [
    {
     "data": {
      "text/plain": [
       "0.0016245"
      ]
     },
     "execution_count": 21,
     "metadata": {},
     "output_type": "execute_result"
    }
   ],
   "source": [
    "entropy_new = .114 ** 2 / 8\n",
    "entropy_new"
   ]
  },
  {
   "cell_type": "code",
   "execution_count": 22,
   "metadata": {},
   "outputs": [
    {
     "data": {
      "text/plain": [
       "426.6833983132935"
      ]
     },
     "execution_count": 22,
     "metadata": {},
     "output_type": "execute_result"
    }
   ],
   "source": [
    "np.log(1./2) / (-entropy_new)"
   ]
  },
  {
   "cell_type": "code",
   "execution_count": null,
   "metadata": {},
   "outputs": [],
   "source": []
  }
 ],
 "metadata": {
  "kernelspec": {
   "display_name": "Python 3",
   "language": "python",
   "name": "python3"
  },
  "language_info": {
   "codemirror_mode": {
    "name": "ipython",
    "version": 3
   },
   "file_extension": ".py",
   "mimetype": "text/x-python",
   "name": "python",
   "nbconvert_exporter": "python",
   "pygments_lexer": "ipython3",
   "version": "3.8.5"
  }
 },
 "nbformat": 4,
 "nbformat_minor": 4
}
