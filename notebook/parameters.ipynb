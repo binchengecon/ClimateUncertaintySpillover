{
 "cells": [
  {
   "cell_type": "code",
   "execution_count": 5,
   "metadata": {},
   "outputs": [],
   "source": [
    "import numpy as np"
   ]
  },
  {
   "cell_type": "markdown",
   "metadata": {},
   "source": [
    "\\begin{align*}\n",
    "d \\log K_t & = \\left[\\alpha_k + \\beta_k Z_t + \\frac{I_t}{K_t} - \\frac{\\kappa}{2}\\left(\\frac{I_t}{K_t}\\right)^2 - \\frac{1}{2} |\\sigma_k|^2\\right] dt + \\sigma_k \\cdot d W_t\\\\\n",
    "d Z_t & = - \\beta_z Z_t dt + \\sigma_z \\cdot d W_t\n",
    "\\end{align*}"
   ]
  },
  {
   "cell_type": "code",
   "execution_count": 20,
   "metadata": {},
   "outputs": [],
   "source": [
    "# Table 1, Technology (top), Z process (middle) and preference (bottom) configurations\n",
    "α = .115\n",
    "κ = 6.667\n",
    "α_k = -.043\n",
    "β_k = .04\n",
    "σ_k = np.array([.00954, 0])\n",
    "\n",
    "β_z = .056\n",
    "σ_z = np.array([.022, .05])\n",
    "\n",
    "δ = .010\n",
    "η = .032"
   ]
  },
  {
   "cell_type": "code",
   "execution_count": 24,
   "metadata": {},
   "outputs": [],
   "source": [
    "# Table 2, Steady states for the model specification without climate impacts.\n",
    "# The values with a superscript were imposed when setting the parameters.\n",
    "i = .090 # investment capital ratio \n",
    "c = .025 # consumption capital ratio\n",
    "k_growth = -.043 + i - κ/2.*i**2 # capital growth, 0.02"
   ]
  },
  {
   "cell_type": "code",
   "execution_count": 25,
   "metadata": {},
   "outputs": [],
   "source": [
    "# Table 3, Initial Values\n",
    "K0 = 695.65\n",
    "y0 = .540"
   ]
  }
 ],
 "metadata": {
  "kernelspec": {
   "display_name": "Python 3",
   "language": "python",
   "name": "python3"
  },
  "language_info": {
   "codemirror_mode": {
    "name": "ipython",
    "version": 3
   },
   "file_extension": ".py",
   "mimetype": "text/x-python",
   "name": "python",
   "nbconvert_exporter": "python",
   "pygments_lexer": "ipython3",
   "version": "3.8.5"
  }
 },
 "nbformat": 4,
 "nbformat_minor": 4
}
