{
 "cells": [
  {
   "cell_type": "code",
   "execution_count": 46,
   "metadata": {},
   "outputs": [],
   "source": [
    "import os, sys\n",
    "sys.path.append(os.path.dirname(os.getcwd()) + '/source')\n",
    "\n",
    "import numpy as np\n",
    "import pandas as pd\n",
    "import matplotlib.pyplot as plt\n",
    "from model import ode_y, ode_y_jump_approach_one, ode_y_jump_approach_one_boundary\n",
    "from utilities import find_nearest_value\n",
    "from numba import njit\n",
    "\n",
    "import matplotlib as mpl\n",
    "\n",
    "mpl.rcParams['axes.spines.right'] = False\n",
    "mpl.rcParams['axes.spines.top'] = False"
   ]
  },
  {
   "cell_type": "markdown",
   "metadata": {},
   "source": [
    "**ODE for y on (0, 2)**:\n",
    "\\begin{align*}\n",
    "0 = \\max_{\\tilde{e}} \\min_h &  -\\delta \\phi(y) + \\delta \\eta \\log \\tilde{e} \\\\\n",
    "&+ \\frac{d\\phi(y)}{dy}\\tilde{e}(\\sum_{i=1}^n \\pi_i^c \\theta_i\\ + \\sigma_y \\cdot h) + \\frac{1}{2} \\frac{d^2 \\phi(y)}{(d y)^2}|\\sigma_y|^2(\\tilde{e})^2\\\\\n",
    "&+ (\\eta-1)(\\gamma_1 + \\gamma_2 y)\\tilde{e}(\\sum_{i=1}^n \\pi_i^c \\theta_i\\ + \\sigma_y \\cdot h)\\\\\n",
    "& +\\frac{\\xi_{1,m}}{2}h^\\prime h + \\xi_a\\sum_{i=1}^{n} \\pi_i^c(\\log \\pi_i^c - \\log \\hat{\\pi}_i^c)\\\\\n",
    "& + \\mathcal{I}(y) \\sum_{j=1}^m \\hat{\\pi}_j^d g_j [\\phi_j(y)-\\phi(y)] + \\xi_{2,m} \\mathcal{I}(y)\\sum_{j=1}^m \\hat{\\pi}_j^d \\left[1- g_j + g_j \\log g_j\\right]\n",
    "\\end{align*}\n",
    "\n",
    "where\n",
    "$$\n",
    "\\mathcal{I}(y) = \\frac{1}{\\sqrt{2\\pi}\\varsigma}\\exp\\{-\\frac{(\\bar{y}-y)^2}{2\\varsigma^2}\\}\n",
    "$$\n",
    "\n",
    "The FOC of $h$ gives:\n",
    "$$\n",
    "h^* = -\\frac{\\left(\\frac{d\\phi(y)}{dy} + (\\eta-1)(\\gamma_1 + \\gamma_2 y )\\right)\\tilde{e}\\sigma_y}{\\xi_{1,m}}\n",
    "$$\n",
    "\n",
    "\n",
    "Substitute $h$ with $h^*$ in the ODE:\n",
    "\n",
    "\\begin{align*}\n",
    "0 = \\max_{\\tilde{e}} & -\\delta \\phi(y) + \\delta \\eta \\log \\tilde{e} \\\\\n",
    "& + G(y)\\tilde{e}\\sum_{i=1}^n \\pi^c_i\\theta_i + \\frac{1}{2} \\left(\\frac{d^2 \\phi(y)}{(d y)^2}-\\frac{G^2(y)}{\\xi_{1,m}}\\right)|\\sigma_y|^2(\\tilde{e})^2\\\\\n",
    "&+ \\xi_a\\sum_{i=1}^{n} \\pi_i^c(\\log \\pi_i^c - \\log \\hat{\\pi}_i^c)\\\\\n",
    "& + \\mathcal{I}(y) \\sum_{j=1}^m \\hat{\\pi}_j^d g_j [\\phi_j(y)-\\phi(y)] + \\xi_{2,m} \\mathcal{I}(y)\\sum_{j=1}^m \\hat{\\pi}_j^d \\left[1- g_j + g_j \\log g_j\\right]\n",
    "\\end{align*}\n",
    "\n",
    "where $G(y):=\\frac{d\\phi(y)}{dy} + (\\eta-1)(\\gamma_1 + \\gamma_2 y)$\n",
    "\n",
    "The FOC of $\\tilde{e}$ gives:\n",
    "$$\n",
    "\\tilde{e}^* = \\frac{-\\sum_{i=1}^n\\pi^c_i \\theta_i G(y) + \\sqrt{\\left(\\sum_{i=1}^n \\pi_i^c \\theta_i\\right)^2G^2(y)-4\\delta \\eta |\\sigma_y|^2\\left(\\frac{d^2\\phi(y)}{(dy)^2}-\\frac{G^2(y)}{\\xi_m}\\right)}}{2|\\sigma_y|^2\\left(\\frac{d^2\\phi(y)}{(dy)^2}-\\frac{G^2(y)}{\\xi_{1,m}}\\right)}\n",
    "$$\n",
    "\n",
    "In addition, the FOC of $\\pi^c_i$ gives:\n",
    "$$\n",
    "\\pi_i^c \\propto \\exp \\left[-\\frac{1}{\\xi_a}G(y)\\tilde{e}\\theta_i\\right]\\hat{\\pi}^c_i\n",
    "$$\n",
    "\n",
    "The FOC of $g_j$ gives:\n",
    "$$\n",
    "g_j = \\exp \\left(-\\frac{1}{\\xi_m}[\\phi_j(y)-\\phi(y)]\\right)\n",
    "$$"
   ]
  },
  {
   "cell_type": "code",
   "execution_count": 61,
   "metadata": {},
   "outputs": [],
   "source": [
    "ξ_1m = 1./400\n",
    "ξ_a = 1000\n",
    "\n",
    "η = .032\n",
    "δ = .01\n",
    "\n",
    "θ = pd.read_csv('../data/model144.csv', header=None).to_numpy()[:, 0]/1000.\n",
    "πc_o = np.ones_like(θ)/len(θ)\n",
    "σ_y = 1.2*1.86/1000\n",
    "\n",
    "y_bar = 2.\n",
    "γ_1 = 1.7675/10000\n",
    "γ_2 = .0022*2\n",
    "γ_2p = np.array([0, .0197*2])\n",
    "πd_o = np.array([.5, .5])\n",
    "# γ_2p = np.array([0, .0197*2, .3853*2])\n",
    "# πd_o = np.array([.475, .475, .05])\n",
    "\n",
    "y_step = .02\n",
    "y_grid_long = np.arange(0., 4., y_step)\n",
    "y_grid_short = np.arange(0., 2+y_step, y_step)\n",
    "n_bar = find_nearest_value(y_grid_long, y_bar) + 1"
   ]
  },
  {
   "cell_type": "code",
   "execution_count": 62,
   "metadata": {},
   "outputs": [
    {
     "name": "stdout",
     "output_type": "stream",
     "text": [
      "Converged. Total iteration 10000: LHS Error: 1.453751923313762e-06; RHS Error 7.880238624667375e-07\n",
      "Converged. Total iteration 2068: LHS Error: 9.956630513119347e-09; RHS Error 4.406953638417079e-06\n"
     ]
    }
   ],
   "source": [
    "# Prepare ϕ\n",
    "ϕ_list = []\n",
    "for γ_2p_i in γ_2p:\n",
    "    model_paras = (η, δ, θ, πc_o, σ_y, ξ_1m, ξ_a, γ_1, γ_2, γ_2p_i, y_bar) \n",
    "    model_res = ode_y(y_grid_long, model_paras, v0=None, ϵ=.5,\n",
    "                       tol=1e-8, max_iter=10_000, print_all=False)\n",
    "    ϕ_list.append(model_res['v0'])\n",
    "\n",
    "ϕ_list_short = []\n",
    "for ϕ_i in ϕ_list:\n",
    "    temp = ϕ_i[:n_bar]\n",
    "    ϕ_list_short.append(temp)\n",
    "ϕ_i = np.array(ϕ_list_short)"
   ]
  },
  {
   "cell_type": "code",
   "execution_count": 51,
   "metadata": {},
   "outputs": [],
   "source": [
    "# Compute ϕ\n",
    "ς = .25\n",
    "ξ_2m = ξ_1m*5\n",
    "model_paras = (η, δ, θ, πc_o, σ_y, ξ_1m, ξ_2m, ξ_a, ς, γ_1, γ_2, y_bar, ϕ_i, πd_o)\n",
    "model_res = ode_y_jump_approach_one_boundary(y_grid_short, model_paras, v0=np.average(ϕ_i, weights=πd_o, axis=0),\n",
    "                                                    ϵ=.5, tol=1e-9, max_iter=10000, print_all=False)"
   ]
  },
  {
   "cell_type": "code",
   "execution_count": 52,
   "metadata": {},
   "outputs": [],
   "source": [
    "# Capital and z parameters\n",
    "α_k = -0.043\n",
    "β_k = 0.04\n",
    "σ_k = np.array([0.477*2, 0])/100.\n",
    "β_z = 0.014*4\n",
    "σ_z = np.array([0.011*2, 0.025*2])\n",
    "α = 0.115\n",
    "ioverk = 0.09\n",
    "κ = 6.667"
   ]
  },
  {
   "cell_type": "code",
   "execution_count": 63,
   "metadata": {},
   "outputs": [],
   "source": [
    "def simulation(y_grid, e_grid, θ=1.86/1000., y_start=.5394, T=100):\n",
    "    Et = np.zeros(T+1)\n",
    "    yt = np.zeros(T+1)\n",
    "    for i in range(T+1):\n",
    "        Et[i] = np.interp(y_start, y_grid, e_grid)\n",
    "        yt[i] = y_start\n",
    "        y_start = y_start + Et[i]*θ\n",
    "        if y_start > 100:\n",
    "            print(i)\n",
    "    return Et, yt\n",
    "\n",
    "\n",
    "@njit(parallel=True)\n",
    "def simulate_capital(α_k, β_k, σ_k, β_z, σ_z, ioverk, κ, Ws, k_start, N=100_000, T=100, dt=1.):\n",
    "    var_z = dt*σ_z@σ_z/(1-(1-β_z*dt)**2)\n",
    "    std_z = np.sqrt(var_z)\n",
    "\n",
    "    time_periods = int(T/dt)\n",
    "    z_path = np.zeros((N, time_periods+1))\n",
    "    k_path = np.zeros((N, time_periods+1))\n",
    "    for i in range(N):\n",
    "        z0 = np.random.normal(0.,std_z)\n",
    "        k0 = k_start\n",
    "        z_path[i, 0] = z0\n",
    "        k_path[i, 0] = k0\n",
    "        for j in range(1, time_periods+1):\n",
    "            k1 = k0 + (α_k + β_k*z0 + ioverk - κ/2.*ioverk**2 - σ_k@σ_k/2.)*dt + σ_k@Ws[i, j]*np.sqrt(dt)\n",
    "            z1 = (1.-β_z*dt)*z0 + σ_z@Ws[i, j]*np.sqrt(dt)\n",
    "            k_path[i, j] = k1\n",
    "            z_path[i, j] = z1\n",
    "            k0 = k1\n",
    "            z0 = z1\n",
    "    return k_path"
   ]
  },
  {
   "cell_type": "code",
   "execution_count": 54,
   "metadata": {},
   "outputs": [],
   "source": [
    "T = 100\n",
    "N = 1_000_000\n",
    "dt = 1.\n",
    "k_start = np.log(80/α)\n",
    "Ws = np.random.multivariate_normal(np.zeros(2), np.eye(2), (N, int(T/dt)))\n",
    "logk_path = simulate_capital(α_k, β_k, σ_k, β_z, σ_z, ioverk, κ, Ws, k_start, N=N, T=T, dt=dt)\n",
    "Kt = np.percentile(np.exp(logk_path), 50, axis=0)"
   ]
  },
  {
   "cell_type": "code",
   "execution_count": 64,
   "metadata": {},
   "outputs": [
    {
     "name": "stdout",
     "output_type": "stream",
     "text": [
      "Converged. Total iteration 418: LHS Error: 9.8237375179e-10; RHS Error 3.4457485679813423e-06\n",
      "Converged. Total iteration 493: LHS Error: 9.965807484801914e-10; RHS Error 3.888378481539201e-06\n",
      "Converged. Total iteration 663: LHS Error: 9.202564196786334e-10; RHS Error 3.768303337048427e-06\n"
     ]
    }
   ],
   "source": [
    "# Compute ϕ\n",
    "ς = .25\n",
    "ξ_2m_list = [1000., ξ_1m*20, ξ_1m*5]\n",
    "Et_list = []\n",
    "for ξ_2m in ξ_2m_list:\n",
    "    model_paras = (η, δ, θ, πc_o, σ_y, ξ_1m, ξ_2m, ξ_a, ς, γ_1, γ_2, y_bar, ϕ_i, πd_o)\n",
    "    model_res = ode_y_jump_approach_one_boundary(y_grid_short, model_paras, v0=np.average(ϕ_i, weights=πd_o, axis=0),\n",
    "                                                        ϵ=.5, tol=1e-9, max_iter=10000, print_all=False)\n",
    "\n",
    "    Et, yt = simulation(y_grid_short, model_res['e_tilde'], θ=np.mean(θ), y_start=.5394, T=100)\n",
    "    Et_list.append(Et)"
   ]
  },
  {
   "cell_type": "code",
   "execution_count": 65,
   "metadata": {},
   "outputs": [],
   "source": [
    "SCCt_neutral = η*(0.025)*Kt/((1.-η)*Et_list[0]) * 1000\n",
    "SCCt_x20 = η*(0.025)*Kt/((1.-η)*Et_list[1]) * 1000\n",
    "SCCt_x5 = η*(0.025)*Kt/((1.-η)*Et_list[2]) * 1000"
   ]
  },
  {
   "cell_type": "code",
   "execution_count": 66,
   "metadata": {},
   "outputs": [
    {
     "data": {
      "image/png": "[encoded data removed]",
      "text/plain": [
       "<Figure size 576x360 with 1 Axes>"
      ]
     },
     "metadata": {
      "needs_background": "light"
     },
     "output_type": "display_data"
    }
   ],
   "source": [
    "plt.figure(figsize=(8, 5))\n",
    "plt.plot(SCCt_neutral, label='damage neutral', linewidth=2.)\n",
    "plt.plot(SCCt_x5, label=r'$\\xi_p = 5\\xi_w$', linewidth=2.)\n",
    "plt.ylim(0, 900)\n",
    "plt.xlabel('Years', fontsize=13)\n",
    "plt.ylabel('Dollars per ton of carbon', fontsize=13)\n",
    "plt.legend(frameon=False)\n",
    "plt.title(r'Social Cost of Carbon, $\\xi_w=1/400$, ambiguity neutral', fontsize=13)\n",
    "plt.savefig('scc.pdf')"
   ]
  }
 ],
 "metadata": {
  "kernelspec": {
   "display_name": "Python 3",
   "language": "python",
   "name": "python3"
  },
  "language_info": {
   "codemirror_mode": {
    "name": "ipython",
    "version": 3
   },
   "file_extension": ".py",
   "mimetype": "text/x-python",
   "name": "python",
   "nbconvert_exporter": "python",
   "pygments_lexer": "ipython3",
   "version": "3.8.5"
  }
 },
 "nbformat": 4,
 "nbformat_minor": 4
}
