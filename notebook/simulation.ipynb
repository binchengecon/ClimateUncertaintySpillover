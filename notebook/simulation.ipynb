{
 "cells": [
  {
   "cell_type": "markdown",
   "id": "disturbed-gazette",
   "metadata": {},
   "source": [
    "# Temperature Simulation\n",
    "\n",
    "$$\n",
    "d Y_t = \n",
    "$$"
   ]
  }
 ],
 "metadata": {
  "kernelspec": {
   "display_name": "ry38",
   "language": "python",
   "name": "ry38"
  },
  "language_info": {
   "codemirror_mode": {
    "name": "ipython",
    "version": 3
   },
   "file_extension": ".py",
   "mimetype": "text/x-python",
   "name": "python",
   "nbconvert_exporter": "python",
   "pygments_lexer": "ipython3",
   "version": "3.8.7"
  }
 },
 "nbformat": 4,
 "nbformat_minor": 5
}
