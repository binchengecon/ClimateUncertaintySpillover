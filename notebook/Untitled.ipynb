{
 "cells": [
  {
   "cell_type": "markdown",
   "metadata": {},
   "source": [
    "Equation:\n",
    "\n",
    "\\begin{align}\n",
    "0 = \\max_e \\min_{h_2} \\min_{\\pi_j:\\sum_j^J{\\pi_j}=1} &-\\delta \\phi(y,z_2) + \\delta\\eta\\log e + \\xi_m \\frac{(h_2)^2}{2} + \\frac{\\partial \\phi}{\\partial y}(y, z_2) e\\\\\n",
    "&+ \\left[\\frac{\\partial \\phi}{\\partial z_2}(y, z_2)\\right]\\left[-\\rho(z_2 - \\mu_2) + \\sqrt{z_2}\\sigma_2 h_2\\right] + \\left[\\frac{\\partial^2 \\phi}{\\partial (z_2)^2}(y, z_2)\\right]\\left(\\frac{z_2|\\sigma_2|^2}{2}\\right)\\\\\n",
    "& + (\\eta-1)\\sum_{j}^J \\pi_{j}\\left(\\frac{d}{d \\tau}\\Lambda_j(z_2 y)\\left(z_2 e-y\\rho(z_2-\\mu_2)+ y\\sqrt{z_2}\\sigma_2h_2\\right) + \\frac{1}{2}\\frac{d^2}{d\\tau^2}\\Lambda_j(z_2y)z_2y^2|\\sigma_2|^2\\right)\\\\\n",
    "& + \\xi_a \\sum_{j}^J \\pi_{j} \\left(\\log \\pi_j - \\log \\pi_j^o\\right)\n",
    "\\end{align}\n",
    "\n",
    "where\n",
    "\n",
    "\\begin{equation}\n",
    "\\Lambda_j(\\tau)=\n",
    "\\begin{cases}\n",
    "  \\lambda_1 \\tau + \\frac{\\lambda_2}{2}\\tau^2, & \\tau\\leq \\bar{\\tau} \\\\\n",
    "  \\lambda_1 \\tau + \\frac{\\lambda_2}{2}\\tau^2 + \\frac{\\lambda_{2,j}^+}{2}(\\tau-\\bar{\\tau})^2, & \\tau > \\bar{\\tau}\n",
    "\\end{cases}\n",
    "\\end{equation}\n",
    "\n",
    "FOC of $\\pi_j$ gives:\n",
    "$$\n",
    "\\pi_j \\propto \\exp\\left[-\\frac{1}{\\xi_a}(\\eta-1)\\left(\\frac{d}{d \\tau}\\Lambda_j(z_2 y)\\left(z_2 e-y\\rho(z_2-\\mu_2)+ y\\sqrt{z_2}\\sigma_2h_2\\right) + \\frac{1}{2}\\frac{d^2}{d\\tau^2}\\Lambda_j(z_2y)z_2y^2|\\sigma_2|^2\\right)\\right]\\pi_j^o\n",
    "$$\n",
    "\n",
    "FOC of $h_2$ gives : \n",
    "\n",
    "\\begin{align}\n",
    "h_2^* = -\\frac{\\frac{\\partial \\phi}{\\partial z_2}(y, z_2)\\sqrt{z_2}\\sigma_2 + (\\eta-1)\\sum_{j}^J \\pi_j \\frac{d}{d \\tau}\\Lambda_j(z_2 y)\\left(y\\sqrt{z_2}\\sigma_2\\right)}{\\xi_m}\n",
    "\\end{align}\n",
    "\n",
    "FOC of $e$ gives :\n",
    "\n",
    "$$\n",
    "e^* = -\\frac{\\delta \\eta}{\\frac{\\partial \\phi}{\\partial y}(y, z_2) + (\\eta-1)\\sum_{j}^J\\pi_j\\frac{d}{d \\tau}\\Lambda_j(z_2 y)z_2}\n",
    "$$"
   ]
  },
  {
   "cell_type": "code",
   "execution_count": null,
   "metadata": {},
   "outputs": [],
   "source": []
  }
 ],
 "metadata": {
  "kernelspec": {
   "display_name": "Python 3",
   "language": "python",
   "name": "python3"
  },
  "language_info": {
   "codemirror_mode": {
    "name": "ipython",
    "version": 3
   },
   "file_extension": ".py",
   "mimetype": "text/x-python",
   "name": "python",
   "nbconvert_exporter": "python",
   "pygments_lexer": "ipython3",
   "version": "3.8.5"
  }
 },
 "nbformat": 4,
 "nbformat_minor": 4
}
