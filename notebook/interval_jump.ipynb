{
 "cells": [
  {
   "cell_type": "markdown",
   "id": "suspected-chart",
   "metadata": {},
   "source": [
    "<table style=\"float:left; border:none\">\n",
    "   <tr style=\"border:none\">\n",
    "       <td style=\"border:none\">\n",
    "       </td>\n",
    "       <td style=\"border:none\">\n",
    "           <h1>Interval Jump</h1>\n",
    "       </td>\n",
    "   </tr>\n",
    "</table>\n",
    "\n",
    "<div style=\"float:right;\"><h2>05. Jump damage</h2></div>"
   ]
  },
  {
   "cell_type": "code",
   "execution_count": 1,
   "id": "returning-contest",
   "metadata": {
    "code_folding": []
   },
   "outputs": [],
   "source": [
    "# packages\n",
    "import numpy as np\n",
    "import pandas as pd\n",
    "import os\n",
    "import sys\n",
    "sys.path.append(os.path.dirname(os.getcwd()) + '/source')\n",
    "import pickle\n",
    "from solver_1d import false_transient_one_iteration_python\n",
    "from supportfunctions import PDESolver_2d, finiteDiff\n",
    "from numba import njit\n",
    "from scipy.sparse import csc_matrix\n",
    "from scipy.sparse.linalg import bicg\n",
    "from derivative import derivatives_2d, derivative_1d\n",
    "import SolveLinSys\n",
    "import time\n",
    "from solver_ode import solve_ode, solve_ode_one\n",
    "from solver_jump import approach_one_100, solve_smooth_unreveal, generate_weight, solve_smooth_100\n",
    "from scipy import interpolate\n",
    "import matplotlib.pyplot as plt\n",
    "import matplotlib as mpl\n",
    "mpl.rcParams['axes.spines.right'] = False\n",
    "mpl.rcParams['axes.spines.top'] = False\n",
    "# mpl.rcParams[\"lines.linewidth\"] = 2.5"
   ]
  },
  {
   "cell_type": "code",
   "execution_count": 3,
   "id": "committed-pierre",
   "metadata": {
    "code_folding": []
   },
   "outputs": [],
   "source": [
    "# parameters\n",
    "δ = 0.01\n",
    "η = 0.032\n",
    "μ = 1.86/1000\n",
    "θ_list = pd.read_csv(\"../data/model144.csv\", header=None)[0].to_numpy()\n",
    "θ_list = θ_list/1000\n",
    "σy = 1.2*μ\n",
    "ς = 0.1\n",
    "# damage function\n",
    "# ȳ = 1.9\n",
    "γ1 = 0.00017675\n",
    "γ2 = 2*0.0022\n",
    "γ3_list = np.array([0, 2*0.0197, 2*0.3853])\n",
    "# y grid\n",
    "numy_bar = 100\n",
    "y_min = 1e-10\n",
    "y_max = 4\n",
    "hy = (ȳ - y_min)/numy_bar\n",
    "y_grid = np.arange(y_min, y_max+hy, hy)"
   ]
  },
  {
   "cell_type": "code",
   "execution_count": 4,
   "id": "representative-poison",
   "metadata": {
    "code_folding": []
   },
   "outputs": [],
   "source": [
    "# capital parameters\n",
    "invkap = 0.09\n",
    "α = 0.115\n",
    "αₖ = - 0.043\n",
    "σₖ = 0.0085\n",
    "κ = 6.667\n",
    "k0 = 80/α"
   ]
  },
  {
   "cell_type": "code",
   "execution_count": 5,
   "id": "outside-relief",
   "metadata": {},
   "outputs": [],
   "source": [
    "n_temp = 16\n",
    "n_carb = 9\n",
    "n_θ = len(θ_list)\n",
    "θ_mat = θ_list.reshape(n_temp, n_carb)\n",
    "θtemp_list = np.average(θ_mat, axis=1)\n",
    "θcarb_list = np.average(θ_mat, axis=0)"
   ]
  },
  {
   "cell_type": "markdown",
   "id": "noble-campaign",
   "metadata": {},
   "source": [
    "# Jump model of damages\n",
    "Intensity function:\n",
    "$$\n",
    "\\mathcal{I}(y) = \\begin{cases}\n",
    "(\\frac{1}{\\sqrt{2\\pi} \\varsigma})\\exp\\left[- \\frac{(y - \\bar y)^2}{2\\varsigma^2}\\right], \\quad y \\leqslant \\bar y\\\\\n",
    "(\\frac{1}{\\sqrt{2\\pi}\\varsigma}), \\quad y > \\bar y\n",
    "\\end{cases}\n",
    "$$\n",
    "\n",
    "HJB\n",
    "$$\n",
    "\\begin{aligned}\n",
    "0 = \\max_{\\tilde e} \\min_{\\pi^d} &- \\delta \\phi(y) + \\eta \\log\\tilde e \\\\\n",
    "    & +  \\frac{d\\phi}{dy}\\sum_i \\pi_i^a\\theta_i \\tilde e  + \\frac{1}{2} \\frac{d^2 \\phi}{dy^2}(\\tilde e)^2 |\\sigma_y|^2 + \\frac{1}{2} \\frac{(\\eta - 1)}{\\delta} \\gamma_2 (\\tilde e)^2 |\\sigma_y|^2\\\\\n",
    "& + \\frac{(\\eta -1)}{\\delta}(\\gamma_1 + \\gamma_2 y) \\tilde e \\sum_i \\pi_i^a\\theta_i + \\mathcal{I}(y)\\sum_j \\pi^d_j \\left[\\phi_j(y) - \\phi(y) \\right] \\\\\n",
    "&  + \\textbf{relative entropy}\n",
    "\\end{aligned}\n",
    "$$\n",
    "## Approach one:\n",
    "$$\n",
    "\\begin{aligned}\n",
    "0 = \\max_{\\tilde e} \\min_{g_j} &- \\delta \\phi(y) +  \\eta \\log\\tilde e + \\frac{1}{2} \\frac{d^2 \\phi}{dy^2}(\\tilde e)^2 |\\sigma_y|^2  + \\frac{\\xi_m}{2} h'h\\\\\n",
    "& + [ \\frac{d\\phi}{dy}    + \\frac{(\\eta -1)}{\\delta}(\\gamma_1 + \\gamma_2 y)]\\cdot \\tilde e \\sigma_y h +\\frac{1}{2}\\frac{ (\\eta - 1)}{\\delta} \\gamma_2 (\\tilde e)^2 |\\sigma_y|^2\\\\\n",
    "& + \\sum_i \\pi_i^c \\frac{d\\phi}{dy} \\theta_i \\tilde e  + \\sum_i \\pi_i^c \\frac{(\\eta -1)}{\\delta}(\\gamma_1 + \\gamma_2 y) \\tilde e \\theta_i + \\xi_a \\sum_i \\hat\\pi^c_i(\\log \\pi^c_i - \\log \\hat\\pi^c_i)\\\\\n",
    "&  + \\mathcal{I}(y)\\sum_j\\hat\\pi_j^d g_j\\left[\\phi_j(y) - \\phi(y) \\right]  + \\xi_m \\mathcal{I}(y) \\sum_j \\hat\\pi_j^d [1 - g_j + g_j \\log g_j]\n",
    "\\end{aligned}\n",
    "$$\n",
    "The optimal $g_j$:\n",
    "$$\n",
    "g_j^* = \\exp\\{\\frac{1}{\\xi_m}\\left( \\phi(y) - \\phi_j(y)\\right)\\}\n",
    "$$\n",
    "Plug back in\n",
    "$$\n",
    "\\begin{aligned}\n",
    "0 = \\max_{\\tilde e} \\min_{g_j} &- \\delta \\phi(y) + \\eta \\log\\tilde e + \\frac{1}{2} \\frac{d^2 \\phi}{dy^2}(\\tilde e)^2 |\\sigma_y|^2 + \\frac{1}{2}\\frac{(\\eta -1)}{\\delta}\\gamma_2(\\tilde e)^2 |\\sigma_y|^2\\\\\n",
    "& + \\sum_i \\pi_i^c \\left[\\frac{d\\phi}{dy}  + \\frac{(\\eta -1)}{\\delta}(\\gamma_1 + \\gamma_2 y)\\right] \\tilde e \\theta_i + \\xi_a \\sum_i \\hat\\pi^c_i(\\log \\pi^c_i - \\log \\hat\\pi^c_i) \\\\\n",
    "&  +  \\xi_m \\mathcal{I}(y) \\sum_j \\hat\\pi_j^d [1 - g_j^* ]\n",
    "\\end{aligned}\n",
    "$$\n",
    "Intensity altered to be $\\iota^*(y) \\mathcal{I} (y)$ where:\n",
    "$$\n",
    "\\iota^*(y)  = \\sum_j \\hat\\pi_j g_j^* \n",
    "$$\n",
    "Distorted probability:\n",
    "$$\n",
    "\\pi^*_j  = \\frac{\\exp\\left(-\\frac{1}{\\xi_m} [\\phi_j(y) - \\phi(y)] \\right) \\hat\\pi_j}{\\iota^*(y)}\n",
    "$$"
   ]
  },
  {
   "cell_type": "code",
   "execution_count": 164,
   "id": "assured-gospel",
   "metadata": {
    "scrolled": true
   },
   "outputs": [
    {
     "name": "stdout",
     "output_type": "stream",
     "text": [
      "episode: 5000,\t ode error: 3.79047342763672e-05,\t ft error: 4.192191606833262e-05\n",
      "episode: 2563,\t ode error: 0.0003050026779893439,\t ft error: 9.963268965407224e-08\n",
      "episode: 2783,\t ode error: 0.00126987981738201,\t ft error: 9.980173132362324e-08\n",
      "episode: 2562,\t ode error: 0.000305649760731469,\t ft error: 9.997995320532027e-08\n",
      "episode: 2782,\t ode error: 0.0012830526698208045,\t ft error: 9.996664473987948e-08\n",
      "episode: 2562,\t ode error: 0.00030629526094876763,\t ft error: 9.98617419867287e-08\n",
      "episode: 2782,\t ode error: 0.0012979659351721662,\t ft error: 9.966808178774045e-08\n",
      "episode: 2562,\t ode error: 0.00030694026075523545,\t ft error: 9.973930392703778e-08\n",
      "episode: 2782,\t ode error: 0.0013148999865644061,\t ft error: 9.952389845580001e-08\n",
      "episode: 2562,\t ode error: 0.00030758606903933533,\t ft error: 9.962861469148265e-08\n",
      "episode: 2784,\t ode error: 0.0013342024223619532,\t ft error: 9.983494209109267e-08\n",
      "episode: 2561,\t ode error: 0.00030823350471859134,\t ft error: 9.999516770164973e-08\n",
      "episode: 2783,\t ode error: 0.0011114242430830291,\t ft error: 9.995420313657633e-08\n",
      "episode: 2561,\t ode error: 0.00030888444860096426,\t ft error: 9.987048876780591e-08\n",
      "episode: 2783,\t ode error: 0.001113634279118981,\t ft error: 9.971322256774329e-08\n",
      "episode: 2561,\t ode error: 0.00030953947239766716,\t ft error: 9.975462411659919e-08\n",
      "episode: 2782,\t ode error: 0.001115873243817538,\t ft error: 9.99661224909687e-08\n",
      "episode: 2561,\t ode error: 0.00031019947031732387,\t ft error: 9.963004377055995e-08\n",
      "episode: 2782,\t ode error: 0.0011181743791759602,\t ft error: 9.971729397761919e-08\n",
      "episode: 2561,\t ode error: 0.0003108652050587066,\t ft error: 9.951754442738547e-08\n",
      "episode: 2781,\t ode error: 0.001120563051185991,\t ft error: 9.996028182968075e-08\n",
      "episode: 2560,\t ode error: 0.000311536970198506,\t ft error: 9.988513927083886e-08\n",
      "episode: 2781,\t ode error: 0.0011230621180101236,\t ft error: 9.970260350655735e-08\n",
      "episode: 2560,\t ode error: 0.0003122161511818558,\t ft error: 9.976160075808593e-08\n",
      "episode: 2780,\t ode error: 0.0011256905002711062,\t ft error: 9.993631167048989e-08\n",
      "episode: 2560,\t ode error: 0.00031290280987389396,\t ft error: 9.964776115367613e-08\n",
      "episode: 2780,\t ode error: 0.0011284670931911243,\t ft error: 9.966821323814656e-08\n",
      "episode: 2560,\t ode error: 0.0003135973225708785,\t ft error: 9.953190893696728e-08\n",
      "episode: 2779,\t ode error: 0.0011314084630314157,\t ft error: 9.989396687615226e-08\n",
      "episode: 2559,\t ode error: 0.00031429954324055376,\t ft error: 9.988442251085417e-08\n",
      "episode: 2779,\t ode error: 0.0011345322634888433,\t ft error: 9.96112952122985e-08\n",
      "episode: 2559,\t ode error: 0.00031501037351216316,\t ft error: 9.976551762491681e-08\n",
      "episode: 2778,\t ode error: 0.0011378545413852931,\t ft error: 9.982420223764166e-08\n",
      "episode: 2559,\t ode error: 0.00031572938452988086,\t ft error: 9.965451397420111e-08\n",
      "episode: 2778,\t ode error: 0.0011413929621471195,\t ft error: 9.953438606657983e-08\n",
      "episode: 2559,\t ode error: 0.00031645629102192846,\t ft error: 9.96584903489861e-08\n",
      "episode: 2777,\t ode error: 0.0011451639693796974,\t ft error: 9.972936254598608e-08\n",
      "episode: 2558,\t ode error: 0.00031719071725091336,\t ft error: 9.97848133010848e-08\n",
      "episode: 2776,\t ode error: 0.00114918544629301,\t ft error: 9.993123484264288e-08\n",
      "episode: 2558,\t ode error: 0.00031793211720528014,\t ft error: 9.994946026381513e-08\n",
      "episode: 2776,\t ode error: 0.0011534757208302637,\t ft error: 9.962507618865857e-08\n",
      "episode: 2558,\t ode error: 0.0003186801472951986,\t ft error: 9.958794278119854e-08\n",
      "episode: 2775,\t ode error: 0.0011580523709651784,\t ft error: 9.981252446777944e-08\n",
      "episode: 2557,\t ode error: 0.0003194325452266708,\t ft error: 9.999872130350695e-08\n",
      "episode: 2774,\t ode error: 0.0011629344607764647,\t ft error: 9.999703465268794e-08\n",
      "episode: 2557,\t ode error: 0.00032018890705554776,\t ft error: 9.991238902884447e-08\n",
      "episode: 2774,\t ode error: 0.0011681413214074997,\t ft error: 9.968248093628063e-08\n",
      "episode: 2557,\t ode error: 0.0003209469089872144,\t ft error: 9.98243665506493e-08\n",
      "episode: 2773,\t ode error: 0.0011736912796809539,\t ft error: 9.986043281173806e-08\n",
      "episode: 2558,\t ode error: 0.00032170430057213567,\t ft error: 9.95553675053884e-08\n",
      "episode: 2773,\t ode error: 0.0011796040661393344,\t ft error: 9.954841218018373e-08\n",
      "episode: 2558,\t ode error: 0.00032245760653502875,\t ft error: 9.96780209483461e-08\n",
      "episode: 2772,\t ode error: 0.0011858975483012481,\t ft error: 9.973710390909218e-08\n"
     ]
    }
   ],
   "source": [
    "ξa = 0.01\n",
    "ξw = 100000\n",
    "ξp = 5\n",
    "dmg_weight = np.array([1/3, 1/3, 1/3])\n",
    "\n",
    "hy = 0.02\n",
    "y_bar =2\n",
    "y_min = 0\n",
    "y_max = 4\n",
    "y_lower = 1.5\n",
    "\n",
    "jump_interval = np.arange(y_lower,y_bar+hy, hy)\n",
    "y_grid = np.arange(y_min, y_max+hy, hy)\n",
    "\n",
    "args_low = (δ, η, θ_list, σy, γ1, γ2, γ3_list[0], ȳ, ξa, ξw )\n",
    "ϕ_low, ems_low, _, _ = solve_smooth_100(y_grid, args_low, max_iter=5000, tol=1e-7, ϵ=0.5,)\n",
    "\n",
    "res_list = []\n",
    "for y_tilde in jump_interval:\n",
    "    ϕ_list = []\n",
    "    e_list = []\n",
    "    for γ3_i in γ3_list[1:]:\n",
    "        args = (δ, η, θ_list, σy, γ1, γ2, γ3_i, y_tilde, ξa, ξw )\n",
    "        ϕ, ems, _, _ = solve_smooth_100(y_grid, args, max_iter=5000, tol=1e-7, ϵ=0.5,)\n",
    "        ϕ_list.append(ϕ)\n",
    "        e_list.append(ems)\n",
    "    ϕ_list = np.array(ϕ_list)\n",
    "    e_list = np.array(e_list)\n",
    "    res_list.append((ϕ_list, e_list))"
   ]
  },
  {
   "cell_type": "code",
   "execution_count": 165,
   "id": "realistic-montgomery",
   "metadata": {},
   "outputs": [],
   "source": [
    "# construct \\phi_m\n",
    "pre_jump = np.arange(y_min, y_bar+hy, hy)\n",
    "prepre_jump = np.arange(y_min, y_lower, hy)\n",
    "ϕ_ref = np.zeros((3, len(pre_jump)))\n",
    "ems_ref = np.zeros((3, len(pre_jump)))\n",
    "for i, y_tilde in enumerate(jump_interval):\n",
    "    ϕ_ref[0, i + len(prepre_jump)] = ϕ_low[i+len(prepre_jump)]\n",
    "    ϕ_ref[1:, i + len(prepre_jump)] = res_list[i][0][:, i + len(prepre_jump)]\n",
    "    ems_ref[0, i + len(prepre_jump)] = ems_low[i + len(prepre_jump)]\n",
    "    ems_ref[1:, i + len(prepre_jump)] = res_list[i][1][:, i + len(prepre_jump)]"
   ]
  },
  {
   "cell_type": "code",
   "execution_count": 166,
   "id": "homeless-brief",
   "metadata": {},
   "outputs": [
    {
     "data": {
      "image/png": "[encoded data removed]",
      "text/plain": [
       "<Figure size 432x288 with 1 Axes>"
      ]
     },
     "metadata": {
      "needs_background": "light"
     },
     "output_type": "display_data"
    }
   ],
   "source": [
    "for i in range(3):\n",
    "    plt.plot(ϕ_ref[i])"
   ]
  },
  {
   "cell_type": "code",
   "execution_count": 167,
   "id": "seasonal-elevation",
   "metadata": {},
   "outputs": [],
   "source": [
    "weighted = np.average(np.exp(-1/ξp*ϕ_ref), axis=0, weights=dmg_weight)"
   ]
  },
  {
   "cell_type": "code",
   "execution_count": 168,
   "id": "regular-chance",
   "metadata": {},
   "outputs": [
    {
     "data": {
      "text/plain": [
       "[<matplotlib.lines.Line2D at 0x7f0b2eea9af0>]"
      ]
     },
     "execution_count": 168,
     "metadata": {},
     "output_type": "execute_result"
    },
    {
     "data": {
      "image/png": "[encoded data removed]",
      "text/plain": [
       "<Figure size 432x288 with 1 Axes>"
      ]
     },
     "metadata": {
      "needs_background": "light"
     },
     "output_type": "display_data"
    }
   ],
   "source": [
    "plt.plot(weighted)"
   ]
  },
  {
   "cell_type": "code",
   "execution_count": 169,
   "id": "instrumental-norwegian",
   "metadata": {},
   "outputs": [],
   "source": [
    "from sympy.solvers import solve\n",
    "from sympy import Symbol\n",
    "x = Symbol('x')\n",
    "ans = solve(x**3 + x**2 + x - 1, x)\n",
    "r1 =np.log( float(ans[-1]))*2/(0.5/2)**2\n",
    "r0 = 1/(float(ans[-1])**4 - 1)"
   ]
  },
  {
   "cell_type": "code",
   "execution_count": 170,
   "id": "alleged-dylan",
   "metadata": {},
   "outputs": [
    {
     "data": {
      "text/plain": [
       "array([0.  , 0.02, 0.04, 0.06, 0.08, 0.1 , 0.12, 0.14, 0.16, 0.18, 0.2 ,\n",
       "       0.22, 0.24, 0.26, 0.28, 0.3 , 0.32, 0.34, 0.36, 0.38, 0.4 , 0.42,\n",
       "       0.44, 0.46, 0.48, 0.5 , 0.52, 0.54, 0.56, 0.58, 0.6 , 0.62, 0.64,\n",
       "       0.66, 0.68, 0.7 , 0.72, 0.74, 0.76, 0.78, 0.8 , 0.82, 0.84, 0.86,\n",
       "       0.88, 0.9 , 0.92, 0.94, 0.96, 0.98, 1.  , 1.02, 1.04, 1.06, 1.08,\n",
       "       1.1 , 1.12, 1.14, 1.16, 1.18, 1.2 , 1.22, 1.24, 1.26, 1.28, 1.3 ,\n",
       "       1.32, 1.34, 1.36, 1.38, 1.4 , 1.42, 1.44, 1.46, 1.48, 1.5 , 1.52,\n",
       "       1.54, 1.56, 1.58, 1.6 , 1.62, 1.64, 1.66, 1.68, 1.7 , 1.72, 1.74,\n",
       "       1.76, 1.78, 1.8 , 1.82, 1.84, 1.86, 1.88, 1.9 , 1.92, 1.94, 1.96,\n",
       "       1.98, 2.  ])"
      ]
     },
     "execution_count": 170,
     "metadata": {},
     "output_type": "execute_result"
    }
   ],
   "source": [
    "numy_bar = len(pre_jump)-1\n",
    "y_grid[:numy_bar+1]"
   ]
  },
  {
   "cell_type": "code",
   "execution_count": 171,
   "id": "comic-kazakhstan",
   "metadata": {},
   "outputs": [
    {
     "name": "stdout",
     "output_type": "stream",
     "text": [
      "episode: 1583,\t ode error: 0.0026580675681877365,\t ft error: 9.959968494399618e-08\n"
     ]
    }
   ],
   "source": [
    "numy_bar = len(pre_jump)-1\n",
    "y_grid_cap = y_grid[:numy_bar+1]\n",
    "\n",
    "intensity = r0*(np.exp(r1/2*(y_grid_cap- y_lower)**2)-1)*(y_grid_cap >= y_lower)\n",
    "dΛ = γ1 + γ2*y_grid_cap\n",
    "ddΛ = γ2\n",
    "ϕ_list = np.array([ϕ_low, res_list[-1][0][0], res_list[-1][0][1]])\n",
    "\n",
    "ϕ = np.average(ϕ_list, axis=0, weights=dmg_weight)[:numy_bar+1]\n",
    "dy = hy\n",
    "ems = η\n",
    "ems_old = ems\n",
    "episode = 0\n",
    "lhs_error = 1\n",
    "πᵈo = dmg_weight\n",
    "πᶜo = np.ones((len(θ_list), len(y_grid_cap)))/len(θ_list)\n",
    "\n",
    "\n",
    "tol= 1e-7\n",
    "ϵ = 0.25\n",
    "max_iter = 4000\n",
    "while lhs_error > tol and episode < max_iter:\n",
    "    ϕ_old = ϕ.copy()\n",
    "    dϕdy = derivative_1d(ϕ, 1, dy, \"up\")\n",
    "    dϕdyy = derivative_1d(ϕ, 2, dy, \"up\")\n",
    "    # update control\n",
    "    temp = dϕdy + (η-1)/δ*dΛ \n",
    "    weight = np.array([ - 1/ξa*temp*ems*θ for θ in θ_list])\n",
    "    weight = weight - np.max(weight, axis=0)\n",
    "    πᶜ = πᶜo*np.exp(weight)\n",
    "    πᶜ[πᶜ <= 1e-15] = 1e-15\n",
    "    πᶜ = πᶜ/np.sum(πᶜ, axis=0)\n",
    "    # update control\n",
    "    a = (dϕdyy  - 1/ξw*temp**2 + (η-1)/δ*ddΛ)*σy**2\n",
    "    b = (θ_list@πᶜ)*temp\n",
    "    c = η\n",
    "    Δ = b**2 - 4*a*c\n",
    "    Δ[Δ < 0] = 0\n",
    "    root1 = (-b - np.sqrt(Δ))/(2*a)\n",
    "    root2 = (-b + np.sqrt(Δ))/(2*a)\n",
    "    if root1.all() > 0:\n",
    "        ems_new = root1\n",
    "    else:\n",
    "        ems_new = root2\n",
    "    ems_new[ems_new < 1e-15] = 1e-15\n",
    "    ems = ems_new*0.5 + ems_old*0.5\n",
    "#     g_list = np.array([np.exp(1/ξp*(ϕ - ϕ_list[i][:numy_bar+1])) for i in range(len(γ3_list))])\n",
    "    # coefficients\n",
    "    A = -δ*np.ones(y_grid_cap.shape)\n",
    "    By = (θ_list@πᶜ)*ems\n",
    "    Cyy = ems**2*σy**2/2\n",
    "    D = η*np.log(ems) + θ_list@πᶜ*(η-1)/δ*dΛ*ems\\\n",
    "    + ξa*np.sum(πᶜ*(np.log(πᶜ) - np.log(πᶜo)), axis=0) \\\n",
    "    - 1/(2*ξw)*temp**2*ems**2*σy**2\\\n",
    "    + 1/2*(η-1)/δ*ddΛ*ems**2*σy**2\\\n",
    "    - ξp*intensity*(weighted - np.exp(-1/ξp*ϕ))/np.exp(-1/ξp*ϕ)\n",
    "    # solver\n",
    "    ϕ_new = solve_ode(A, By, Cyy, D, y_grid_cap, ϕ, ϵ, (False, weighted[numy_bar]))\n",
    "    rhs = -δ*ϕ_new + By*dϕdy + Cyy*dϕdyy + D\n",
    "    rhs_error = np.max(abs(rhs))\n",
    "    lhs_error = np.max(abs((ϕ_new - ϕ_old)/ϵ))\n",
    "    ϕ = ϕ_new\n",
    "    episode += 1\n",
    "    ems_old = ems\n",
    "print(\"episode: {},\\t ode error: {},\\t ft error: {}\".format(episode, rhs_error, lhs_error))\n",
    "\n",
    "solution = dict(ϕ=ϕ, ems=ems)"
   ]
  },
  {
   "cell_type": "code",
   "execution_count": 172,
   "id": "animated-cartoon",
   "metadata": {},
   "outputs": [
    {
     "data": {
      "text/plain": [
       "[<matplotlib.lines.Line2D at 0x7f0b3075f310>]"
      ]
     },
     "execution_count": 172,
     "metadata": {},
     "output_type": "execute_result"
    },
    {
     "data": {
      "image/png": "[encoded data removed]",
      "text/plain": [
       "<Figure size 432x288 with 1 Axes>"
      ]
     },
     "metadata": {
      "needs_background": "light"
     },
     "output_type": "display_data"
    }
   ],
   "source": [
    "plt.plot(y_grid_cap,ems)"
   ]
  },
  {
   "cell_type": "code",
   "execution_count": 173,
   "id": "standard-anatomy",
   "metadata": {},
   "outputs": [],
   "source": [
    "y = 1.1\n",
    "e = []\n",
    "for i in range(100):\n",
    "    e_i = np.interp(y, y_grid_cap, ems)\n",
    "    e.append(e_i)\n",
    "    y = y + e_i*np.mean(θ_list)"
   ]
  },
  {
   "cell_type": "code",
   "execution_count": 174,
   "id": "specific-liquid",
   "metadata": {},
   "outputs": [
    {
     "data": {
      "text/plain": [
       "2.4028185645394062"
      ]
     },
     "execution_count": 174,
     "metadata": {},
     "output_type": "execute_result"
    },
    {
     "data": {
      "image/png": "[encoded data removed]",
      "text/plain": [
       "<Figure size 432x288 with 1 Axes>"
      ]
     },
     "metadata": {
      "needs_background": "light"
     },
     "output_type": "display_data"
    }
   ],
   "source": [
    "plt.plot(e[:80]); y"
   ]
  },
  {
   "cell_type": "code",
   "execution_count": 180,
   "id": "worst-window",
   "metadata": {},
   "outputs": [],
   "source": [
    "@njit\n",
    "def simulate_ems(y_grid_cap, ems_pre, ems_ref, θ, y_start =1.1,  T=80, dt=1):\n",
    "    tspan  = int(T/dt)\n",
    "    ems_grid_realize = ems_pre\n",
    "    et = np.zeros(tspan)\n",
    "    yt = np.zeros(tspan)\n",
    "    y = y_start\n",
    "    # flag\n",
    "    jumped = False\n",
    "    for t in range(tspan):\n",
    "        if y < y_lower:\n",
    "            e_i = np.interp(y, y_grid_cap, ems_grid_realize)\n",
    "            et[t] = e_i\n",
    "            yt[t] = y\n",
    "            y = y + e_i*θ\n",
    "        elif y >= y_lower and y <= y_bar:\n",
    "#             print(t)\n",
    "            if jumped == False:\n",
    "                intensity_i = r0*(np.exp(r1/2*(y-y_lower)**2) - 1)\n",
    "                jump = np.random.binomial(1, intensity_i)\n",
    "                if jump == 1:\n",
    "                    jumped = True\n",
    "                    dmg_realization = np.random.multinomial(1, pvals=dmg_weight)\n",
    "                    dmg_loc,  = np.where(dmg_realization==1)\n",
    "                    ems_grid_realize = ems_ref[dmg_loc[0]]\n",
    "                    e_i = np.interp(y, y_grid_cap, ems_grid_realize)\n",
    "            elif jumped == True:\n",
    "                e_i = np.interp(y, y_grid_cap, ems_grid_realize)\n",
    "            et[t] = e_i\n",
    "            yt[t] = y\n",
    "            y = y + et[t]*θ\n",
    "    return yt, et"
   ]
  },
  {
   "cell_type": "code",
   "execution_count": 181,
   "id": "excessive-trick",
   "metadata": {},
   "outputs": [],
   "source": [
    "def simulate_path(y_grid_cap, ems_pre, ems_ref, θ, N=10_000):\n",
    "    Yt = list()\n",
    "    Et = list()\n",
    "    for s in range(N):\n",
    "        np.random.seed(N)\n",
    "        yt, et = simulate_ems(y_grid_cap, ems_pre, ems_ref, θ)\n",
    "        Yt.append(yt)\n",
    "        Et.append(et)\n",
    "    return Yt, Et"
   ]
  },
  {
   "cell_type": "code",
   "execution_count": 182,
   "id": "pharmaceutical-stranger",
   "metadata": {},
   "outputs": [],
   "source": [
    "Yt, Et = simulate_path(y_grid_cap, ems, ems_ref, np.mean(θ_list))"
   ]
  },
  {
   "cell_type": "code",
   "execution_count": 183,
   "id": "corporate-chester",
   "metadata": {},
   "outputs": [],
   "source": [
    "et_10 = np.percentile(Et, 10, axis=0)\n",
    "et_50 = np.percentile(Et, 50, axis=0)\n",
    "et_90 = np.percentile(Et, 90, axis=0)"
   ]
  },
  {
   "cell_type": "code",
   "execution_count": 184,
   "id": "ready-cyprus",
   "metadata": {},
   "outputs": [
    {
     "data": {
      "text/plain": [
       "Text(0.5, 1.0, 'Emission')"
      ]
     },
     "execution_count": 184,
     "metadata": {},
     "output_type": "execute_result"
    },
    {
     "data": {
      "image/png": "[encoded data removed]",
      "text/plain": [
       "<Figure size 432x288 with 1 Axes>"
      ]
     },
     "metadata": {
      "needs_background": "light"
     },
     "output_type": "display_data"
    }
   ],
   "source": [
    "plt.plot(et_10, label='.1 percentile')\n",
    "plt.plot(et_50, label='.5 percentile')\n",
    "plt.plot(et_90, label='.9 percentile')\n",
    "plt.plot(et_10[:56])\n",
    "plt.legend(frameon=False)\n",
    "plt.title('Emission')"
   ]
  },
  {
   "cell_type": "code",
   "execution_count": 144,
   "id": "latin-highlight",
   "metadata": {
    "code_folding": []
   },
   "outputs": [],
   "source": [
    "# simulate\n",
    "def simulate_logkapital(invkap, αₖ,  σₖ, κ, k0, T=100, dt=1):\n",
    "    periods = int(T/dt)\n",
    "    Kt = np.zeros(periods)\n",
    "    i = invkap\n",
    "     # log capital\n",
    "    Kt[0] = np.log(k0)\n",
    "    k = np.log(k0)\n",
    "    for t in range(periods-1):\n",
    "        k +=   (αₖ + i - κ/2*i**2 - .5*σₖ**2)*dt\n",
    "        Kt[t+1] = k\n",
    "    return Kt\n",
    "def simulate_scc(invkap, αₖ,  σₖ, κ, k0, MEt, T=100, dt=1):\n",
    "    Kt = simulate_logkapital(invkap, αₖ, σₖ, κ,  k0)\n",
    "    MCt = (1-η)/((α - invkap)*np.exp(Kt))\n",
    "    SCCt = MEt/MCt*1000\n",
    "    return SCCt"
   ]
  }
 ],
 "metadata": {
  "kernelspec": {
   "display_name": "ry38",
   "language": "python",
   "name": "ry38"
  },
  "language_info": {
   "codemirror_mode": {
    "name": "ipython",
    "version": 3
   },
   "file_extension": ".py",
   "mimetype": "text/x-python",
   "name": "python",
   "nbconvert_exporter": "python",
   "pygments_lexer": "ipython3",
   "version": "3.8.7"
  },
  "latex_envs": {
   "LaTeX_envs_menu_present": true,
   "autoclose": true,
   "autocomplete": true,
   "bibliofile": "../docs/climate.bib",
   "cite_by": "apalike",
   "current_citInitial": 1,
   "eqLabelWithNumbers": true,
   "eqNumInitial": 1,
   "hotkeys": {
    "equation": "Ctrl-E",
    "itemize": "Ctrl-I"
   },
   "labels_anchors": false,
   "latex_user_defs": false,
   "report_style_numbering": false,
   "user_envs_cfg": false
  }
 },
 "nbformat": 4,
 "nbformat_minor": 5
}
