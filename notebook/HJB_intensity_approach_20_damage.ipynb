{
 "cells": [
  {
   "cell_type": "code",
   "execution_count": 1,
   "metadata": {},
   "outputs": [],
   "source": [
    "import os, sys\n",
    "sys.path.append(os.path.dirname(os.getcwd()) + '/source')\n",
    "\n",
    "from model import ode_y, ode_y_parallel\n",
    "from simulation import simulation\n",
    "from utilities import find_nearest_value, compute_derivatives\n",
    "from solver import false_transient_one_iteration_python\n",
    "from numba import njit\n",
    "import numpy as np\n",
    "import pandas as pd\n",
    "import matplotlib.pyplot as plt\n",
    "import matplotlib as mpl\n",
    "mpl.rcParams['axes.spines.right'] = False\n",
    "mpl.rcParams['axes.spines.top'] = False"
   ]
  },
  {
   "cell_type": "markdown",
   "metadata": {},
   "source": [
    "## Solve HJB"
   ]
  },
  {
   "cell_type": "code",
   "execution_count": 10,
   "metadata": {},
   "outputs": [],
   "source": [
    "# Intensity parameter\n",
    "τ = 1.\n",
    "\n",
    "r1 = 19.5001\n",
    "r0 = .25\n",
    "\n",
    "# Robustness parameters\n",
    "ξ_w = 100000.\n",
    "ξ_p = 5.\n",
    "ξ_a = 1./100\n",
    "\n",
    "n_model = 20\n",
    "damage_setting={'γ_2p': np.linspace(0, .3853*2, n_model),\n",
    "                'πd_o': np.ones(n_model)/n_model}\n",
    "\n",
    "# Model parameters\n",
    "η = .032\n",
    "δ = .01\n",
    "\n",
    "θ = pd.read_csv('../data/model144.csv', header=None).to_numpy()[:, 0]/1000.\n",
    "πc_o = np.ones_like(θ)/len(θ)\n",
    "σ_y = 1.2*np.mean(θ)\n",
    "\n",
    "γ_1 = 1.7675/10000\n",
    "γ_2 = .0022*2\n",
    "γ_2p = damage_setting['γ_2p']\n",
    "πd_o = damage_setting['πd_o']\n",
    "\n",
    "y_bar_upper = 2.0\n",
    "y_bar_lower = 1.5\n",
    "\n",
    "# Grid setting\n",
    "ϵ = 2.\n",
    "y_step = .02\n",
    "y_grid_long = np.arange(0., y_bar_upper*2, y_step)\n",
    "y_grid_short = np.arange(0., y_bar_upper, y_step)\n",
    "y_bar_lower_loc = find_nearest_value(y_grid_short, y_bar_lower)\n",
    "y_bar_upper_loc = find_nearest_value(y_grid_long, y_bar_upper)\n",
    "y_grid_tilde = y_grid_short[y_bar_lower_loc: y_bar_upper_loc]"
   ]
  },
  {
   "cell_type": "code",
   "execution_count": 11,
   "metadata": {},
   "outputs": [
    {
     "name": "stdout",
     "output_type": "stream",
     "text": [
      "-----Solving model 0-----\n",
      "-----Solving model 1-----\n",
      "-----Solving model 2-----\n",
      "-----Solving model 3-----\n",
      "-----Solving model 4-----\n",
      "-----Solving model 5-----\n",
      "-----Solving model 6-----\n",
      "-----Solving model 7-----\n",
      "-----Solving model 8-----\n",
      "-----Solving model 9-----\n",
      "-----Solving model 10-----\n",
      "-----Solving model 11-----\n",
      "-----Solving model 12-----\n",
      "-----Solving model 13-----\n",
      "-----Solving model 14-----\n",
      "-----Solving model 15-----\n",
      "-----Solving model 16-----\n",
      "-----Solving model 17-----\n",
      "-----Solving model 18-----\n",
      "-----Solving model 19-----\n"
     ]
    }
   ],
   "source": [
    "# Parallelly solve ODE\n",
    "model_args_list = []\n",
    "model_list = []\n",
    "\n",
    "for i in range(n_model):\n",
    "    temp_list = []\n",
    "    for y_jump in y_grid_tilde:\n",
    "        temp = (η, δ, θ, πc_o, σ_y, ξ_w, ξ_a, γ_1, γ_2, γ_2p[i], y_jump)\n",
    "        temp_list.append((y_grid_long, temp, None, ϵ, 1e-8, 2000, False))\n",
    "    model_args_list.append(temp_list)\n",
    "\n",
    "for i in range(n_model):\n",
    "    print('-----Solving model ' + str(i) + '-----')\n",
    "    temp_res = ode_y_parallel(model_args_list[i])\n",
    "    model_list.append(temp_res)"
   ]
  },
  {
   "cell_type": "code",
   "execution_count": 12,
   "metadata": {},
   "outputs": [
    {
     "data": {
      "text/plain": [
       "[<matplotlib.lines.Line2D at 0x7f8119c08700>]"
      ]
     },
     "execution_count": 12,
     "metadata": {},
     "output_type": "execute_result"
    },
    {
     "data": {
      "image/png": "[encoded data removed]",
      "text/plain": [
       "<Figure size 432x288 with 1 Axes>"
      ]
     },
     "metadata": {
      "needs_background": "light"
     },
     "output_type": "display_data"
    }
   ],
   "source": [
    "plt.plot(model_list[11][12]['v0'])"
   ]
  },
  {
   "cell_type": "code",
   "execution_count": 47,
   "metadata": {},
   "outputs": [],
   "source": [
    "# Prepare ϕ_m\n",
    "ϕ_m = np.zeros((n_model, len(y_grid_short)))\n",
    "e_m = np.zeros((n_model, len(y_grid_short)))\n",
    "for i in range(len(y_grid_tilde)):\n",
    "    for j in range(n_model):\n",
    "        ϕ_m[j, y_bar_lower_loc+i] = model_list[j][i]['v0'][y_bar_lower_loc+i]\n",
    "        e_m[j, y_bar_lower_loc+i] = model_list[j][i]['e_tilde'][y_bar_lower_loc+i]\n",
    "\n",
    "# Prepare v_guess\n",
    "v_guess = np.average(np.array([model_list[0][-1]['v0'][:y_bar_upper_loc],\n",
    "                               model_list[-1][-1]['v0'][:y_bar_upper_loc]]),\n",
    "                     weights=np.array([0.5, 0.5]), axis=0)"
   ]
  },
  {
   "cell_type": "code",
   "execution_count": 50,
   "metadata": {},
   "outputs": [
    {
     "data": {
      "image/png": "[encoded data removed]",
      "text/plain": [
       "<Figure size 432x288 with 1 Axes>"
      ]
     },
     "metadata": {
      "needs_background": "light"
     },
     "output_type": "display_data"
    }
   ],
   "source": [
    "for i in range(ϕ_m.shape[0]):\n",
    "    plt.plot(ϕ_m[i])"
   ]
  },
  {
   "cell_type": "code",
   "execution_count": 51,
   "metadata": {},
   "outputs": [
    {
     "data": {
      "image/png": "[encoded data removed]",
      "text/plain": [
       "<Figure size 432x288 with 1 Axes>"
      ]
     },
     "metadata": {
      "needs_background": "light"
     },
     "output_type": "display_data"
    }
   ],
   "source": [
    "for i in range(ϕ_m.shape[0]):\n",
    "    plt.plot(e_m[i])"
   ]
  },
  {
   "cell_type": "code",
   "execution_count": 14,
   "metadata": {},
   "outputs": [
    {
     "data": {
      "text/plain": [
       "(20, 100)"
      ]
     },
     "execution_count": 14,
     "metadata": {},
     "output_type": "execute_result"
    }
   ],
   "source": [
    "ϕ_m.shape"
   ]
  },
  {
   "cell_type": "code",
   "execution_count": 15,
   "metadata": {},
   "outputs": [
    {
     "data": {
      "text/plain": [
       "0.0"
      ]
     },
     "execution_count": 15,
     "metadata": {},
     "output_type": "execute_result"
    }
   ],
   "source": [
    "np.max(ϕ_m[11])"
   ]
  },
  {
   "cell_type": "code",
   "execution_count": 16,
   "metadata": {},
   "outputs": [
    {
     "data": {
      "text/plain": [
       "4.603582092905351"
      ]
     },
     "execution_count": 16,
     "metadata": {},
     "output_type": "execute_result"
    }
   ],
   "source": [
    "np.max(ϕ_m)"
   ]
  },
  {
   "cell_type": "code",
   "execution_count": 17,
   "metadata": {},
   "outputs": [],
   "source": [
    "def ode_y_jump_intensity_approach(y_grid, model_paras=(), v0=None, ϵ=.5, tol=1e-8,\n",
    "                                     max_iter=10_000, print_all=True):\n",
    "    η, δ, θ, πc_o, σ_y, ξ_1m, ξ_2m, ξ_a, γ_1, γ_2, y_bar_lower, y_bar_upper, ϕ_i, πd_o, r0, r1, τ = model_paras\n",
    "    Δ_y = y_grid[1] - y_grid[0]\n",
    "\n",
    "    if v0 is None:\n",
    "        v0 = - η * (y_grid + y_grid**2)\n",
    "\n",
    "    d_Λ = γ_1 + γ_2*y_grid\n",
    "    dd_Λ = γ_2\n",
    "\n",
    "    πd = np.ones((len(πd_o), len(y_grid)))\n",
    "    for i in range(πd.shape[0]):\n",
    "        πd[i] = πd_o[i]\n",
    "    πd_o = πd\n",
    "\n",
    "    πc = np.ones((len(πc_o), len(y_grid)))\n",
    "    θ_reshape = np.ones_like(πc)\n",
    "    for i in range(πc.shape[0]):\n",
    "        πc[i] = πc_o[i]\n",
    "        θ_reshape[i] = θ[i]\n",
    "    πc_o = πc.copy()\n",
    "    θ = θ_reshape\n",
    "\n",
    "    intensity = - r0 * (np.exp(- r1 / 2. * (y_grid-y_bar_lower)**2) - 1.) * (y_grid >= y_bar_lower)\\\n",
    "                + 0 * (y_grid < y_bar_lower)\n",
    "\n",
    "    e_tilde = 0.\n",
    "    \n",
    "    count = 0\n",
    "    error = 1.\n",
    "\n",
    "    while error > tol and count < max_iter:\n",
    "        v_old = v0.copy()\n",
    "        e_tilde_old = e_tilde\n",
    "\n",
    "        v0_dy = compute_derivatives(v0, 1, Δ_y, central_diff=False)\n",
    "        v0_dyy = compute_derivatives(v0, 2, Δ_y)\n",
    "\n",
    "        G = v0_dy + (η-1)/δ*d_Λ\n",
    "\n",
    "        if σ_y == 0:\n",
    "            e_tilde = -η/(G*np.sum(πc*θ, axis=0))\n",
    "        else:\n",
    "            temp = σ_y**2*(v0_dyy+(η-1.)/δ*dd_Λ-G**2/ξ_1m)\n",
    "            root = np.sum(πc*θ, axis=0)**2*G**2 - 4*η*temp\n",
    "            root[root<0] = 0.\n",
    "            e_tilde = (-G*np.sum(πc*θ, axis=0) - np.sqrt(root)) / (2*temp)\n",
    "\n",
    "        e_tilde[e_tilde<=0] = 1e-16\n",
    "        e_tilde = e_tilde *.5 + e_tilde_old*.5\n",
    " \n",
    "        log_πc_ratio = -G*e_tilde*θ/ξ_a\n",
    "        πc_ratio = log_πc_ratio - np.max(log_πc_ratio, axis=0)\n",
    "        πc = np.exp(πc_ratio) * πc_o\n",
    "        πc = πc/np.sum(πc, axis=0)\n",
    "        πc[πc<=0] = 1e-16        \n",
    "        c_entropy = np.sum(πc*(np.log(πc)-np.log(πc_o)), axis=0)\n",
    "\n",
    "#         g = np.exp(1./ξ_2m*(v0-ϕ_i))\n",
    "\n",
    "#         A = np.ones_like(y_grid)*(-δ)\n",
    "#         B = e_tilde * np.sum(πc*θ, axis=0)\n",
    "#         C = .5 * σ_y**2 * e_tilde**2\n",
    "#         D = η*np.log(e_tilde) - C*G**2/ξ_1m + (η-1)/δ*d_Λ*e_tilde*np.sum(πc*θ, axis=0)\\\n",
    "#             + .5*(η-1)/δ*dd_Λ*σ_y**2*e_tilde**2 + ξ_a*c_entropy\\\n",
    "#             - ξ_2m * intensity * (np.sum(πd_o * np.exp(-1./ξ_2m*ϕ_i), axis=0) - np.exp(-1./ξ_2m * v0)) \\\n",
    "#                 / np.exp(-1./ξ_2m * v0)\n",
    "\n",
    "        g = np.exp(1. / ξ_2m * (v0 - ϕ_i))\n",
    "\n",
    "        A = np.ones_like(y_grid)*(-δ) - intensity * np.sum(πd_o * g, axis=0)\n",
    "        B = e_tilde * np.sum(πc*θ, axis=0)\n",
    "        C = .5 * σ_y**2 * e_tilde**2\n",
    "        D = η*np.log(e_tilde) - C*G**2/ξ_1m + (η-1)/δ*d_Λ*e_tilde*np.sum(πc*θ, axis=0)\\\n",
    "            + .5*(η-1)/δ*dd_Λ*σ_y**2*e_tilde**2 + ξ_a*c_entropy\\\n",
    "            + ξ_2m * intensity * np.sum(πd_o * (1 - g + g * np.log(g)), axis=0)\\\n",
    "            + intensity * np.sum(πd_o * g * ϕ_i, axis=0)\n",
    "\n",
    "        v0 = false_transient_one_iteration_python(A, B, C, D, v0, ε, Δ_y, (0, 0), (False, False))\n",
    "\n",
    "        rhs_error = A*v0 + B*v0_dy + C*v0_dyy + D\n",
    "        rhs_error = np.max(abs(rhs_error))\n",
    "        lhs_error = np.max(abs((v0 - v_old)/ϵ))\n",
    "        error = lhs_error\n",
    "        count += 1\n",
    "        if print_all:\n",
    "            print(\"Iteration %s: LHS Error: %s; RHS Error %s\" % (count, lhs_error, rhs_error))\n",
    "\n",
    "    h = -(v0_dy+(η-1)/δ*d_Λ)*e_tilde*σ_y/ξ_1m\n",
    "    πd = g / np.sum(πd_o * g, axis=0) * πd_o\n",
    "    \n",
    "    \n",
    "    print(\"Converged. Total iteration %s: LHS Error: %s; RHS Error %s\" % (count, lhs_error, rhs_error))     \n",
    "    res = {'v0': v0,\n",
    "           'v0_dy': v0_dy,\n",
    "           'v0_dyy': v0_dyy,\n",
    "           'e_tilde': e_tilde,\n",
    "           'y_grid': y_grid,\n",
    "           'intensity': intensity,\n",
    "           'πc': πc,\n",
    "           'πd': πd,\n",
    "           'g': g,\n",
    "           'h': h,\n",
    "           'θ': θ[:, 0],\n",
    "           'σ_y': σ_y}\n",
    "    return res"
   ]
  },
  {
   "cell_type": "code",
   "execution_count": 18,
   "metadata": {},
   "outputs": [
    {
     "name": "stdout",
     "output_type": "stream",
     "text": [
      "Iteration 1: LHS Error: 0.4866715564157438; RHS Error 0.4865805549599219\n",
      "Iteration 2: LHS Error: 0.3806647470477649; RHS Error 0.3810758872430253\n",
      "Iteration 3: LHS Error: 0.3064051390016739; RHS Error 0.3080355976349839\n",
      "Iteration 4: LHS Error: 0.25267675327108424; RHS Error 0.25486228511848585\n",
      "Iteration 5: LHS Error: 0.21334758122662412; RHS Error 0.21639931969478393\n",
      "Iteration 6: LHS Error: 0.18402658910765574; RHS Error 0.18746354921408553\n",
      "Iteration 7: LHS Error: 0.1620369807802282; RHS Error 0.16548608972932174\n",
      "Iteration 8: LHS Error: 0.14484514068943133; RHS Error 0.14853614057385262\n",
      "Iteration 9: LHS Error: 0.1312531174621776; RHS Error 0.13518373283106394\n",
      "Iteration 10: LHS Error: 0.12048033318607704; RHS Error 0.12421894770992975\n",
      "Iteration 11: LHS Error: 0.11128061118851551; RHS Error 0.11506779423865444\n",
      "Iteration 12: LHS Error: 0.10382838185398163; RHS Error 0.10770666616862418\n",
      "Iteration 13: LHS Error: 0.09726119784004583; RHS Error 0.101189689692331\n",
      "Iteration 14: LHS Error: 0.0919862658270541; RHS Error 0.09565741540022049\n",
      "Iteration 15: LHS Error: 0.08689649871220922; RHS Error 0.09106929842586586\n",
      "Iteration 16: LHS Error: 0.08294909192914979; RHS Error 0.08666527250660236\n",
      "Iteration 17: LHS Error: 0.0793974615256754; RHS Error 0.08290205709217571\n",
      "Iteration 18: LHS Error: 0.07592446943309061; RHS Error 0.07986457672315596\n",
      "Iteration 19: LHS Error: 0.07298710311528278; RHS Error 0.07689741096226745\n",
      "Iteration 20: LHS Error: 0.0706382017955055; RHS Error 0.07399910641735198\n",
      "Iteration 21: LHS Error: 0.06829200788714929; RHS Error 0.07134727887698183\n",
      "Iteration 22: LHS Error: 0.0659684725946641; RHS Error 0.06942696086448825\n",
      "Iteration 23: LHS Error: 0.06381098724944922; RHS Error 0.06751859169235833\n",
      "Iteration 24: LHS Error: 0.06231556733998955; RHS Error 0.06562275941941267\n",
      "Iteration 25: LHS Error: 0.06080038582193459; RHS Error 0.0637396297095927\n",
      "Iteration 26: LHS Error: 0.059265028265757747; RHS Error 0.06186876249522516\n",
      "Iteration 27: LHS Error: 0.0577084008866674; RHS Error 0.06006028693394594\n",
      "Iteration 28: LHS Error: 0.05614208830166345; RHS Error 0.05887811551557724\n",
      "Iteration 29: LHS Error: 0.055093254541247805; RHS Error 0.05768318592317312\n",
      "Iteration 30: LHS Error: 0.054125252965982695; RHS Error 0.05647523702865061\n",
      "Iteration 31: LHS Error: 0.053119822449704035; RHS Error 0.05525473315629365\n",
      "Iteration 32: LHS Error: 0.05207797360460731; RHS Error 0.054021157167779624\n",
      "Iteration 33: LHS Error: 0.051012691585468284; RHS Error 0.0527732003393397\n",
      "Iteration 34: LHS Error: 0.04990818471859537; RHS Error 0.05150956812905602\n",
      "Iteration 35: LHS Error: 0.04899340852284484; RHS Error 0.05022797956546464\n",
      "Iteration 36: LHS Error: 0.04832606057094391; RHS Error 0.049001460411363267\n",
      "Iteration 37: LHS Error: 0.04761785084664816; RHS Error 0.04821504437202301\n",
      "Iteration 38: LHS Error: 0.04688906857804476; RHS Error 0.047404645072334606\n",
      "Iteration 39: LHS Error: 0.04611626244709599; RHS Error 0.04656923003529222\n",
      "Iteration 40: LHS Error: 0.04530440734021224; RHS Error 0.045706986124574106\n",
      "Iteration 41: LHS Error: 0.04444101001879919; RHS Error 0.0448157487168416\n",
      "Iteration 42: LHS Error: 0.04369244878891376; RHS Error 0.04389251483394143\n",
      "Iteration 43: LHS Error: 0.043156008691234704; RHS Error 0.042933653571200506\n",
      "Iteration 44: LHS Error: 0.042585258427579764; RHS Error 0.041934795176535554\n",
      "Iteration 45: LHS Error: 0.04198820273726411; RHS Error 0.04089062910574177\n",
      "Iteration 46: LHS Error: 0.04133157959003542; RHS Error 0.039795148650358984\n",
      "Iteration 47: LHS Error: 0.0406513283115153; RHS Error 0.03888711973207329\n",
      "Iteration 48: LHS Error: 0.039915468154416045; RHS Error 0.038213114018730045\n",
      "Iteration 49: LHS Error: 0.03933199282680533; RHS Error 0.037498874566414576\n",
      "Iteration 50: LHS Error: 0.03884607156441289; RHS Error 0.03674022898019586\n",
      "Iteration 51: LHS Error: 0.038324823886451975; RHS Error 0.03593238334459591\n",
      "Iteration 52: LHS Error: 0.037764942878529495; RHS Error 0.03506991449099117\n",
      "Iteration 53: LHS Error: 0.03716325573606227; RHS Error 0.034293684426025324\n",
      "Iteration 54: LHS Error: 0.03651666470202275; RHS Error 0.03373543484511494\n",
      "Iteration 55: LHS Error: 0.036011150395003355; RHS Error 0.03325666817477865\n",
      "Iteration 56: LHS Error: 0.035566071045432635; RHS Error 0.032864621096934644\n",
      "Iteration 57: LHS Error: 0.035086272299156396; RHS Error 0.03244333771505463\n",
      "Iteration 58: LHS Error: 0.0345684489584287; RHS Error 0.03199031235950176\n",
      "Iteration 59: LHS Error: 0.03400902670039563; RHS Error 0.031502672013510216\n",
      "Iteration 60: LHS Error: 0.03347557611822549; RHS Error 0.031003385475923483\n",
      "Iteration 61: LHS Error: 0.03307660271119972; RHS Error 0.030649432162951608\n",
      "Iteration 62: LHS Error: 0.03264522598823705; RHS Error 0.03026810949182404\n",
      "Iteration 63: LHS Error: 0.032179743331143595; RHS Error 0.029857016934468072\n",
      "Iteration 64: LHS Error: 0.03167303767952867; RHS Error 0.029413496303345464\n",
      "Iteration 65: LHS Error: 0.031198107025494526; RHS Error 0.02896439155134911\n",
      "Iteration 66: LHS Error: 0.030826273410310967; RHS Error 0.02863287963752742\n",
      "Iteration 67: LHS Error: 0.030423397004869623; RHS Error 0.028275133593164654\n",
      "Iteration 68: LHS Error: 0.029986787647182767; RHS Error 0.027888817586963537\n",
      "Iteration 69: LHS Error: 0.029513520619019684; RHS Error 0.027471322798380483\n",
      "Iteration 70: LHS Error: 0.02913190084975925; RHS Error 0.027104821055104242\n",
      "Iteration 71: LHS Error: 0.028773722672298385; RHS Error 0.026784669401873015\n",
      "Iteration 72: LHS Error: 0.028385309040080742; RHS Error 0.026438798901465166\n",
      "Iteration 73: LHS Error: 0.027964042361293795; RHS Error 0.026064893698066867\n",
      "Iteration 74: LHS Error: 0.02756351465795004; RHS Error 0.025684847259282263\n",
      "Iteration 75: LHS Error: 0.02723672167879565; RHS Error 0.025391295758865135\n",
      "Iteration 76: LHS Error: 0.02688226572600949; RHS Error 0.02507411234615244\n",
      "Iteration 77: LHS Error: 0.02649776293167072; RHS Error 0.02473118896790098\n",
      "Iteration 78: LHS Error: 0.02611187282739058; RHS Error 0.024365861585774425\n",
      "Iteration 79: LHS Error: 0.025806913122467856; RHS Error 0.024090956224377836\n",
      "Iteration 80: LHS Error: 0.025476172113612527; RHS Error 0.023793930332421206\n",
      "Iteration 81: LHS Error: 0.025117442377407206; RHS Error 0.023472825523611254\n",
      "Iteration 82: LHS Error: 0.024764487353283737; RHS Error 0.02313777727251405\n",
      "Iteration 83: LHS Error: 0.024474279522668008; RHS Error 0.022875555557653842\n",
      "Iteration 84: LHS Error: 0.024159637770112097; RHS Error 0.02259227835372486\n",
      "Iteration 85: LHS Error: 0.023818491245311657; RHS Error 0.02228609691141031\n",
      "Iteration 86: LHS Error: 0.023508314527169283; RHS Error 0.02198979124557342\n",
      "Iteration 87: LHS Error: 0.023227412823521254; RHS Error 0.021735614645812536\n",
      "Iteration 88: LHS Error: 0.022923005100048854; RHS Error 0.02146109258001619\n",
      "Iteration 89: LHS Error: 0.02259313018353626; RHS Error 0.021164458917726368\n",
      "Iteration 90: LHS Error: 0.02233085602466378; RHS Error 0.02091137080573954\n",
      "Iteration 91: LHS Error: 0.02205491158647499; RHS Error 0.020661488617306392\n",
      "Iteration 92: LHS Error: 0.02175605550155879; RHS Error 0.020391683259513214\n",
      "Iteration 93: LHS Error: 0.021474257188975887; RHS Error 0.02012317644770522\n",
      "Iteration 94: LHS Error: 0.021220545460050033; RHS Error 0.019892630456733666\n",
      "Iteration 95: LHS Error: 0.020945951135033836; RHS Error 0.019643889549314213\n",
      "Iteration 96: LHS Error: 0.020658585101150706; RHS Error 0.019375412803731864\n",
      "Iteration 97: LHS Error: 0.020422328649748245; RHS Error 0.01915653975169617\n",
      "Iteration 98: LHS Error: 0.020166808972315042; RHS Error 0.018924423715524878\n",
      "Iteration 99: LHS Error: 0.019890464563029342; RHS Error 0.018674074282535136\n",
      "Iteration 100: LHS Error: 0.019660402917731634; RHS Error 0.018453291733384173\n",
      "Iteration 101: LHS Error: 0.019419905097035617; RHS Error 0.018234317272490197\n",
      "Iteration 102: LHS Error: 0.019159994796108082; RHS Error 0.017998310052592212\n",
      "Iteration 103: LHS Error: 0.018933604939226356; RHS Error 0.017781839896219905\n",
      "Iteration 104: LHS Error: 0.018704906392719822; RHS Error 0.017573224167179848\n",
      "Iteration 105: LHS Error: 0.018457931476558054; RHS Error 0.017348536259113718\n",
      "Iteration 106: LHS Error: 0.018240051743807495; RHS Error 0.01714051338934989\n",
      "Iteration 107: LHS Error: 0.018020544757838763; RHS Error 0.016939993045086282\n",
      "Iteration 108: LHS Error: 0.01778367473780107; RHS Error 0.016724167497979694\n",
      "Iteration 109: LHS Error: 0.017577492362744307; RHS Error 0.016527317621188125\n",
      "Iteration 110: LHS Error: 0.01736502954416519; RHS Error 0.01633301878330009\n",
      "Iteration 111: LHS Error: 0.01713593563801097; RHS Error 0.016124023663884213\n",
      "Iteration 112: LHS Error: 0.01694351796836413; RHS Error 0.015940115086318304\n",
      "Iteration 113: LHS Error: 0.01673630007735838; RHS Error 0.015750458606984347\n",
      "Iteration 114: LHS Error: 0.01652468602427848; RHS Error 0.015550249812690525\n",
      "Iteration 115: LHS Error: 0.01633568596744328; RHS Error 0.015376732645209376\n",
      "Iteration 116: LHS Error: 0.016132179774751565; RHS Error 0.015190364290779523\n",
      "Iteration 117: LHS Error: 0.015938517057428214; RHS Error 0.015006673871686804\n",
      "Iteration 118: LHS Error: 0.01575159148003591; RHS Error 0.014835023456209316\n",
      "Iteration 119: LHS Error: 0.015550469175050763; RHS Error 0.014650762048846251\n",
      "Iteration 120: LHS Error: 0.015374845092368083; RHS Error 0.014483659417180474\n",
      "Iteration 121: LHS Error: 0.015188906467891172; RHS Error 0.014312901012448337\n",
      "Iteration 122: LHS Error: 0.015004365278627585; RHS Error 0.014138368259876292\n",
      "Iteration 123: LHS Error: 0.014831325510595406; RHS Error 0.013979103589694605\n",
      "Iteration 124: LHS Error: 0.014645399154355587; RHS Error 0.013808356233561025\n",
      "Iteration 125: LHS Error: 0.014479725534100485; RHS Error 0.013651098760380412\n",
      "Iteration 126: LHS Error: 0.014305740549203971; RHS Error 0.013491007972871484\n",
      "Iteration 127: LHS Error: 0.014135434729043883; RHS Error 0.013330030651639319\n",
      "Iteration 128: LHS Error: 0.013971693592647938; RHS Error 0.013179098607627303\n",
      "Iteration 129: LHS Error: 0.013799295160599634; RHS Error 0.01301747456611594\n",
      "Iteration 130: LHS Error: 0.01364437394477136; RHS Error 0.012873588739430314\n",
      "Iteration 131: LHS Error: 0.013478236639357988; RHS Error 0.012720523560463777\n",
      "Iteration 132: LHS Error: 0.013324492468623994; RHS Error 0.012575085424054236\n",
      "Iteration 133: LHS Error: 0.013166617075313525; RHS Error 0.012429427894909952\n",
      "Iteration 134: LHS Error: 0.013012463615557301; RHS Error 0.012283936762566193\n",
      "Iteration 135: LHS Error: 0.012861743668179049; RHS Error 0.012144705868049561\n",
      "Iteration 136: LHS Error: 0.012708485050372698; RHS Error 0.01200030136278371\n",
      "Iteration 137: LHS Error: 0.012563972457071415; RHS Error 0.01186665528721427\n",
      "Iteration 138: LHS Error: 0.012412596369859585; RHS Error 0.011724199568714296\n",
      "Iteration 139: LHS Error: 0.012273473321775974; RHS Error 0.01159541096260857\n"
     ]
    },
    {
     "name": "stdout",
     "output_type": "stream",
     "text": [
      "Iteration 140: LHS Error: 0.012124722546351219; RHS Error 0.011457882133392085\n",
      "Iteration 141: LHS Error: 0.01199027893802862; RHS Error 0.011330987514938592\n",
      "Iteration 142: LHS Error: 0.011846523273677967; RHS Error 0.011198039307333284\n",
      "Iteration 143: LHS Error: 0.011714321344033607; RHS Error 0.011073311357918697\n",
      "Iteration 144: LHS Error: 0.011574979332229063; RHS Error 0.010944345366434564\n",
      "Iteration 145: LHS Error: 0.011445459322412699; RHS Error 0.010822244659132965\n",
      "Iteration 146: LHS Error: 0.01130994189374368; RHS Error 0.010696733653632225\n",
      "Iteration 147: LHS Error: 0.011183498942593406; RHS Error 0.010577603326918983\n",
      "Iteration 148: LHS Error: 0.011051284916657966; RHS Error 0.010455079813389993\n",
      "Iteration 149: LHS Error: 0.010928208988787436; RHS Error 0.010339170527865246\n",
      "Iteration 150: LHS Error: 0.010798834431084536; RHS Error 0.010219217363759497\n",
      "Iteration 151: LHS Error: 0.010679332549462295; RHS Error 0.010106706847072086\n",
      "Iteration 152: LHS Error: 0.01055376316130685; RHS Error 0.009988949509389534\n",
      "Iteration 153: LHS Error: 0.010436595717057351; RHS Error 0.009879957918064633\n",
      "Iteration 154: LHS Error: 0.01031533371588722; RHS Error 0.009766138720695434\n",
      "Iteration 155: LHS Error: 0.010199714107232083; RHS Error 0.009658660140737275\n",
      "Iteration 156: LHS Error: 0.010082758120307567; RHS Error 0.009548874573534483\n",
      "Iteration 157: LHS Error: 0.00996839773075564; RHS Error 0.009442544952418447\n",
      "Iteration 158: LHS Error: 0.009855720672157453; RHS Error 0.009336764453214068\n",
      "Iteration 159: LHS Error: 0.009742354620987825; RHS Error 0.009231342003909522\n",
      "Iteration 160: LHS Error: 0.009633909576702404; RHS Error 0.009129520675264916\n",
      "Iteration 161: LHS Error: 0.009522401469619357; RHS Error 0.009025014986812255\n",
      "Iteration 162: LHS Error: 0.00941701838213671; RHS Error 0.00892686021032326\n",
      "Iteration 163: LHS Error: 0.009309887343316614; RHS Error 0.008826434304959066\n",
      "Iteration 164: LHS Error: 0.009204746972617084; RHS Error 0.008728505536918583\n",
      "Iteration 165: LHS Error: 0.0091018867841548; RHS Error 0.008632061339960362\n",
      "Iteration 166: LHS Error: 0.008997126806907119; RHS Error 0.008534185208756505\n",
      "Iteration 167: LHS Error: 0.008898103168977212; RHS Error 0.008441621735612692\n",
      "Iteration 168: LHS Error: 0.008797873271789491; RHS Error 0.008347479036502611\n",
      "Iteration 169: LHS Error: 0.008698217875845238; RHS Error 0.00825481584489178\n",
      "Iteration 170: LHS Error: 0.008601820402402538; RHS Error 0.008164511550623178\n",
      "Iteration 171: LHS Error: 0.008504238225218064; RHS Error 0.00807319320296647\n",
      "Iteration 172: LHS Error: 0.008409964657310365; RHS Error 0.007984865555746234\n",
      "Iteration 173: LHS Error: 0.008316007724809893; RHS Error 0.007897249301721483\n",
      "Iteration 174: LHS Error: 0.008221706058797462; RHS Error 0.007809056710635323\n",
      "Iteration 175: LHS Error: 0.008131361783393132; RHS Error 0.007724258065766647\n",
      "Iteration 176: LHS Error: 0.008040460849406905; RHS Error 0.007639629766220006\n",
      "Iteration 177: LHS Error: 0.007949621642132865; RHS Error 0.007554718864278338\n",
      "Iteration 178: LHS Error: 0.007862498804796392; RHS Error 0.00747279551420052\n",
      "Iteration 179: LHS Error: 0.007774805027726206; RHS Error 0.007391290302610737\n",
      "Iteration 180: LHS Error: 0.007688079412004001; RHS Error 0.007309708687041679\n",
      "Iteration 181: LHS Error: 0.007602347834553491; RHS Error 0.007230082264846269\n",
      "Iteration 182: LHS Error: 0.007519164135559198; RHS Error 0.007151766541814972\n",
      "Iteration 183: LHS Error: 0.0074347253838067395; RHS Error 0.00707348039979834\n",
      "Iteration 184: LHS Error: 0.007352266260741036; RHS Error 0.006995714848281896\n",
      "Iteration 185: LHS Error: 0.007271791849241094; RHS Error 0.00692051660703847\n",
      "Iteration 186: LHS Error: 0.007190737535392788; RHS Error 0.00684548176847357\n",
      "Iteration 187: LHS Error: 0.007111436856886311; RHS Error 0.0067707615422678\n",
      "Iteration 188: LHS Error: 0.007032685123652627; RHS Error 0.006697017650937553\n",
      "Iteration 189: LHS Error: 0.006954899333184272; RHS Error 0.006625133841764511\n",
      "Iteration 190: LHS Error: 0.006879082188437913; RHS Error 0.006553609697910065\n",
      "Iteration 191: LHS Error: 0.006802861968202567; RHS Error 0.0064824984955861795\n",
      "Iteration 192: LHS Error: 0.006727445222947548; RHS Error 0.006411908439774919\n",
      "Iteration 193: LHS Error: 0.006653138494173039; RHS Error 0.006343351881195204\n",
      "Iteration 194: LHS Error: 0.006581136139249377; RHS Error 0.006275329327960218\n",
      "Iteration 195: LHS Error: 0.0065087099934406645; RHS Error 0.006207797361675864\n",
      "Iteration 196: LHS Error: 0.006436853440508372; RHS Error 0.006140838573277678\n",
      "Iteration 197: LHS Error: 0.006365897917121721; RHS Error 0.006091670050822839\n",
      "Iteration 198: LHS Error: 0.006296536633952687; RHS Error 0.006060225510568076\n",
      "Iteration 199: LHS Error: 0.006227749897462331; RHS Error 0.0060271605130533396\n",
      "Iteration 200: LHS Error: 0.006159578056705417; RHS Error 0.005992373757772604\n",
      "Iteration 201: LHS Error: 0.006092054890062926; RHS Error 0.0059557621853807835\n",
      "Iteration 202: LHS Error: 0.006025208607987498; RHS Error 0.0059172181190163126\n",
      "Iteration 203: LHS Error: 0.005959062383214864; RHS Error 0.005876627911014787\n",
      "Iteration 204: LHS Error: 0.005894142685884951; RHS Error 0.005833871602325846\n",
      "Iteration 205: LHS Error: 0.00583002667860999; RHS Error 0.005788823213065175\n",
      "Iteration 206: LHS Error: 0.005766556735000705; RHS Error 0.005741351388825686\n",
      "Iteration 207: LHS Error: 0.005703737293707434; RHS Error 0.005691320246937068\n",
      "Iteration 208: LHS Error: 0.005641557376547368; RHS Error 0.005638590374863819\n",
      "Iteration 209: LHS Error: 0.00557993599876383; RHS Error 0.005583019997344382\n",
      "Iteration 210: LHS Error: 0.005517639356583004; RHS Error 0.0055244663504538105\n",
      "Iteration 211: LHS Error: 0.00545204776767072; RHS Error 0.005462787297350072\n",
      "Iteration 212: LHS Error: 0.005383025248672624; RHS Error 0.005397843208180653\n",
      "Iteration 213: LHS Error: 0.005310443036395718; RHS Error 0.005329499113582867\n",
      "Iteration 214: LHS Error: 0.005234182297542134; RHS Error 0.00525762712980514\n",
      "Iteration 215: LHS Error: 0.00515413707398249; RHS Error 0.0051821091432092264\n",
      "Iteration 216: LHS Error: 0.005070217426120571; RHS Error 0.005102839731496972\n",
      "Iteration 217: LHS Error: 0.004982352722010752; RHS Error 0.005019729287599389\n",
      "Iteration 218: LHS Error: 0.004890495005570372; RHS Error 0.004932707299206085\n",
      "Iteration 219: LHS Error: 0.004794622364284962; RHS Error 0.0048417257225396165\n",
      "Iteration 220: LHS Error: 0.004694742205923141; RHS Error 0.0047467623734503694\n",
      "Iteration 221: LHS Error: 0.004590894345931851; RHS Error 0.004647824243014173\n",
      "Iteration 222: LHS Error: 0.004483153802800288; RHS Error 0.004544950629605707\n",
      "Iteration 223: LHS Error: 0.004371578268008491; RHS Error 0.004438216515546545\n",
      "Iteration 224: LHS Error: 0.004256445627330407; RHS Error 0.004327767767716567\n",
      "Iteration 225: LHS Error: 0.004136898630004993; RHS Error 0.004213708563114135\n",
      "Iteration 226: LHS Error: 0.004015180996391088; RHS Error 0.004096461394579323\n",
      "Iteration 227: LHS Error: 0.0038901134653590574; RHS Error 0.0039759475851984805\n",
      "Iteration 228: LHS Error: 0.003761853762133782; RHS Error 0.0038710567567142038\n",
      "Iteration 229: LHS Error: 0.003632626389125093; RHS Error 0.0038654383634895532\n",
      "Iteration 230: LHS Error: 0.0035012775254781303; RHS Error 0.003859662566441934\n",
      "Iteration 231: LHS Error: 0.0033683750507425003; RHS Error 0.003854076458717582\n",
      "Iteration 232: LHS Error: 0.0032344120416656352; RHS Error 0.003849063239790436\n",
      "Iteration 233: LHS Error: 0.003099868398116712; RHS Error 0.003844914762753556\n",
      "Iteration 234: LHS Error: 0.002965224887182316; RHS Error 0.0038417914305639345\n",
      "Iteration 235: LHS Error: 0.00283096146131534; RHS Error 0.003839725563088637\n",
      "Iteration 236: LHS Error: 0.0026975527379109465; RHS Error 0.0038386452756319677\n",
      "Iteration 237: LHS Error: 0.0025654630734415207; RHS Error 0.0038384073657262447\n",
      "Iteration 238: LHS Error: 0.002435141134291108; RHS Error 0.0038388313073705297\n",
      "Iteration 239: LHS Error: 0.002307014168182242; RHS Error 0.0038397284271679557\n",
      "Iteration 240: LHS Error: 0.0021814825138726235; RHS Error 0.003840923081947524\n",
      "Iteration 241: LHS Error: 0.002058914769529352; RHS Error 0.0038422653804267444\n",
      "Iteration 242: LHS Error: 0.001939643835714655; RHS Error 0.0038436367196638638\n",
      "Iteration 243: LHS Error: 0.001823963920033922; RHS Error 0.0038449500869635277\n",
      "Iteration 244: LHS Error: 0.0017121285226182614; RHS Error 0.0038461470714995115\n",
      "Iteration 245: LHS Error: 0.0016043493799235975; RHS Error 0.003847193189042662\n",
      "Iteration 246: LHS Error: 0.0015007963128605972; RHS Error 0.0038480726811617747\n",
      "Iteration 247: LHS Error: 0.0014015978998389578; RHS Error 0.0038487835346424867\n",
      "Iteration 248: LHS Error: 0.0013068428756777273; RHS Error 0.003849333132886489\n",
      "Iteration 249: LHS Error: 0.001216582144133227; RHS Error 0.003849734710991827\n",
      "Iteration 250: LHS Error: 0.0011308312849198643; RHS Error 0.0038500046303873393\n",
      "Iteration 251: LHS Error: 0.001049573435187856; RHS Error 0.0038501603991963037\n",
      "Iteration 252: LHS Error: 0.0009727624296580473; RHS Error 0.0038502193218793255\n",
      "Iteration 253: LHS Error: 0.000900326091855419; RHS Error 0.0038501976497887723\n",
      "Iteration 254: LHS Error: 0.0008321695801352114; RHS Error 0.003850110110470886\n",
      "Iteration 255: LHS Error: 0.0007681787053175348; RHS Error 0.0038499697090282046\n",
      "Iteration 256: LHS Error: 0.0007082231506254644; RHS Error 0.0038497877138161185\n",
      "Iteration 257: LHS Error: 0.0006521595387738444; RHS Error 0.0038495737577117963\n",
      "Iteration 258: LHS Error: 0.0005998343043684962; RHS Error 0.0038493360033649226\n",
      "Iteration 259: LHS Error: 0.0005510863422610868; RHS Error 0.003849081335368181\n",
      "Iteration 260: LHS Error: 0.0005057494133988705; RHS Error 0.0038488155540776295\n",
      "Iteration 261: LHS Error: 0.00046365429929862145; RHS Error 0.003848543555048269\n",
      "Iteration 262: LHS Error: 0.00042463070403675474; RHS Error 0.0038482694850574956\n",
      "Iteration 263: LHS Error: 0.0003885089090451821; RHS Error 0.003847996870872638\n",
      "Iteration 264: LHS Error: 0.0003551211908008334; RHS Error 0.0038477287205907224\n",
      "Iteration 265: LHS Error: 0.0003243030151662829; RHS Error 0.003847467599864901\n",
      "Iteration 266: LHS Error: 0.00029589402438290335; RHS Error 0.0038472156868389193\n",
      "Iteration 267: LHS Error: 0.00026973883444414426; RHS Error 0.0038469748103162876\n",
      "Iteration 268: LHS Error: 0.0002456876610139602; RHS Error 0.0038467464758624344\n",
      "Iteration 269: LHS Error: 0.00022359679233785457; RHS Error 0.0038465318841745255\n",
      "Iteration 270: LHS Error: 0.00020332892704288952; RHS Error 0.0038463319454820487\n",
      "Iteration 271: LHS Error: 0.00018475339425627624; RHS Error 0.0038461472928817773\n",
      "Iteration 272: LHS Error: 0.00016774627171267653; RHS Error 0.0038459782968157147\n"
     ]
    },
    {
     "name": "stdout",
     "output_type": "stream",
     "text": [
      "Iteration 273: LHS Error: 0.00015219041786096454; RHS Error 0.003845825081782397\n",
      "Iteration 274: LHS Error: 0.0001379754307340164; RHS Error 0.0038456875461073533\n",
      "Iteration 275: LHS Error: 0.00012499754675676655; RHS Error 0.0038455653845747306\n",
      "Iteration 276: LHS Error: 0.00011315949047041585; RHS Error 0.003845458113549858\n",
      "Iteration 277: LHS Error: 0.00010237028509463286; RHS Error 0.0038453650978700366\n",
      "Iteration 278: LHS Error: 9.25450327149413e-05; RHS Error 0.0038452855786207506\n",
      "Iteration 279: LHS Error: 8.360467162216167e-05; RHS Error 0.0038452187009255278\n",
      "Iteration 280: LHS Error: 7.547571747501536e-05; RHS Error 0.003845163540835819\n",
      "Iteration 281: LHS Error: 6.80899937748336e-05; RHS Error 0.0038451191306356335\n",
      "Iteration 282: LHS Error: 6.138435647073948e-05; RHS Error 0.0038450844819621376\n",
      "Iteration 283: LHS Error: 5.530041665613439e-05; RHS Error 0.003845058606296275\n",
      "Iteration 284: LHS Error: 4.978426460855445e-05; RHS Error 0.0038450405326102472\n",
      "Iteration 285: LHS Error: 4.478619787828819e-05; RHS Error 0.003845029322023209\n",
      "Iteration 286: LHS Error: 4.026045559157865e-05; RHS Error 0.003845024079519837\n",
      "Iteration 287: LHS Error: 3.616496060665497e-05; RHS Error 0.0038450239628620023\n",
      "Iteration 288: LHS Error: 3.2461070870404285e-05; RHS Error 0.0038450281888994238\n",
      "Iteration 289: LHS Error: 2.9113340906494756e-05; RHS Error 0.003845036037557573\n",
      "Iteration 290: LHS Error: 2.6089294090869686e-05; RHS Error 0.003845046853790011\n",
      "Iteration 291: LHS Error: 2.9775621777528016e-05; RHS Error 0.003845220861412168\n",
      "Iteration 292: LHS Error: 2.1277762782823118e-05; RHS Error 0.0038471506707119353\n",
      "Iteration 293: LHS Error: 1.901044749619274e-05; RHS Error 0.0038491195090677045\n",
      "Iteration 294: LHS Error: 1.7079991080137802e-05; RHS Error 0.0038511291927391445\n",
      "Iteration 295: LHS Error: 1.5317998018460344e-05; RHS Error 0.00385318332074661\n",
      "Iteration 296: LHS Error: 1.3690604144134255e-05; RHS Error 0.0038551165290379333\n",
      "Iteration 297: LHS Error: 1.2212237667341697e-05; RHS Error 0.003856772077788241\n",
      "Iteration 298: LHS Error: 1.0884793203658205e-05; RHS Error 0.003858066831488316\n",
      "Iteration 299: LHS Error: 9.695281449673132e-06; RHS Error 0.00385897943609052\n",
      "Iteration 300: LHS Error: 8.627005646744124e-06; RHS Error 0.003859526690376892\n",
      "Iteration 301: LHS Error: 7.666422909391457e-06; RHS Error 0.0038597476758649644\n",
      "Iteration 302: LHS Error: 6.803236091368348e-06; RHS Error 0.0038596952313781404\n",
      "Iteration 303: LHS Error: 6.028564942361925e-06; RHS Error 0.003859429352329034\n",
      "Iteration 304: LHS Error: 5.334022487701873e-06; RHS Error 0.003859010762967346\n",
      "Iteration 305: LHS Error: 4.724602088612695e-06; RHS Error 0.003858495542134686\n",
      "Iteration 306: LHS Error: 4.424064915908854e-06; RHS Error 0.0038579316709780815\n",
      "Iteration 307: LHS Error: 4.1991951018338636e-06; RHS Error 0.003857357515538208\n",
      "Iteration 308: LHS Error: 4.068363082976312e-06; RHS Error 0.0038568017379287645\n",
      "Iteration 309: LHS Error: 3.91315469711051e-06; RHS Error 0.003856284085841118\n",
      "Iteration 310: LHS Error: 3.738209260473191e-06; RHS Error 0.003855816657234116\n",
      "Iteration 311: LHS Error: 3.6338005748870472e-06; RHS Error 0.0038554053695346088\n",
      "Iteration 312: LHS Error: 3.49253546827466e-06; RHS Error 0.0038550514435695352\n",
      "Iteration 313: LHS Error: 3.3681709947774863e-06; RHS Error 0.0038547527700562717\n",
      "Iteration 314: LHS Error: 3.2686455624375554e-06; RHS Error 0.0038545050796589576\n",
      "Iteration 315: LHS Error: 3.139498009452346e-06; RHS Error 0.003854302884219781\n",
      "Iteration 316: LHS Error: 3.052890091059801e-06; RHS Error 0.0038541401909818634\n",
      "Iteration 317: LHS Error: 2.958049457935097e-06; RHS Error 0.003854011012326325\n",
      "Iteration 318: LHS Error: 2.8498284859734824e-06; RHS Error 0.0038539097033074817\n",
      "Iteration 319: LHS Error: 2.7811479776929104e-06; RHS Error 0.0038538311620086247\n",
      "Iteration 320: LHS Error: 2.6905470127402964e-06; RHS Error 0.003853770926408455\n",
      "Iteration 321: LHS Error: 2.612777862731619e-06; RHS Error 0.0038537251974547094\n",
      "Iteration 322: LHS Error: 2.5441739449627576e-06; RHS Error 0.0038536908131367757\n",
      "Iteration 323: LHS Error: 2.4573468588862113e-06; RHS Error 0.0038536651929684832\n",
      "Iteration 324: LHS Error: 2.403445502840995e-06; RHS Error 0.003853646267470408\n",
      "Iteration 325: LHS Error: 2.335206079284724e-06; RHS Error 0.0038536324027702027\n",
      "Iteration 326: LHS Error: 2.2702445064970433e-06; RHS Error 0.0038536223271733207\n",
      "Iteration 327: LHS Error: 2.2166983985050237e-06; RHS Error 0.003853615063695812\n",
      "Iteration 328: LHS Error: 2.149024652675635e-06; RHS Error 0.0038536098707159447\n",
      "Iteration 329: LHS Error: 2.1035229954557977e-06; RHS Error 0.003853606191477294\n",
      "Iteration 330: LHS Error: 2.048529634923746e-06; RHS Error 0.003853603612211133\n",
      "Iteration 331: LHS Error: 1.996570011542076e-06; RHS Error 0.003853601828280928\n",
      "Iteration 332: LHS Error: 1.951763231700099e-06; RHS Error 0.0038536006172527246\n",
      "Iteration 333: LHS Error: 1.8962026038238378e-06; RHS Error 0.0038535998179413636\n",
      "Iteration 334: LHS Error: 1.859579667806699e-06; RHS Error 0.0038535993143142934\n",
      "Iteration 335: LHS Error: 1.8125666461088485e-06; RHS Error 0.0038535990233177827\n",
      "Iteration 336: LHS Error: 1.7723969469862766e-06; RHS Error 0.0038535988857708843\n",
      "Iteration 337: LHS Error: 1.7326808405826455e-06; RHS Error 0.0038535988596781518\n",
      "Iteration 338: LHS Error: 1.6903451403038616e-06; RHS Error 0.0038535989153598484\n",
      "Iteration 339: LHS Error: 1.6565755935893378e-06; RHS Error 0.0038535990318797906\n",
      "Iteration 340: LHS Error: 1.614435804597747e-06; RHS Error 0.0038535991945402156\n",
      "Iteration 341: LHS Error: 1.5844411074272813e-06; RHS Error 0.0038535993930769834\n",
      "Iteration 342: LHS Error: 1.5476788546298081e-06; RHS Error 0.0038535996203740742\n",
      "Iteration 343: LHS Error: 1.5163035982368456e-06; RHS Error 0.0038535998715395485\n",
      "Iteration 344: LHS Error: 1.4839798765375889e-06; RHS Error 0.0038536001432543255\n",
      "Iteration 345: LHS Error: 1.4520817643859374e-06; RHS Error 0.0038536004333367944\n",
      "Iteration 346: LHS Error: 1.4234178067340508e-06; RHS Error 0.0038536007403753873\n",
      "Iteration 347: LHS Error: 1.3916260275248504e-06; RHS Error 0.003853601063473361\n",
      "Iteration 348: LHS Error: 1.3659744482197311e-06; RHS Error 0.0038536014020968553\n",
      "Iteration 349: LHS Error: 1.3347457255008521e-06; RHS Error 0.0038536017558955735\n",
      "Iteration 350: LHS Error: 1.3115670558505599e-06; RHS Error 0.0038536021246265185\n",
      "Iteration 351: LHS Error: 1.2827326978381848e-06; RHS Error 0.0038536025080571383\n",
      "Iteration 352: LHS Error: 1.2600714356381104e-06; RHS Error 0.0038536029058993046\n",
      "Iteration 353: LHS Error: 1.233593853733339e-06; RHS Error 0.003853603317761112\n",
      "Iteration 354: LHS Error: 1.211338257922634e-06; RHS Error 0.003853603743153522\n",
      "Iteration 355: LHS Error: 1.1868185056940206e-06; RHS Error 0.0038536041813997703\n",
      "Iteration 356: LHS Error: 1.1652044948906592e-06; RHS Error 0.0038536046316787792\n",
      "Iteration 357: LHS Error: 1.1423058821069532e-06; RHS Error 0.003853605092997786\n",
      "Iteration 358: LHS Error: 1.1215014128485024e-06; RHS Error 0.0038536055642022686\n",
      "Iteration 359: LHS Error: 1.0999394413069297e-06; RHS Error 0.0038536060439722957\n",
      "Iteration 360: LHS Error: 1.0800600591664988e-06; RHS Error 0.0038536065308556245\n",
      "Iteration 361: LHS Error: 1.0595941561941657e-06; RHS Error 0.0038536070232881997\n",
      "Iteration 362: LHS Error: 1.0407149870772514e-06; RHS Error 0.0038536075196028414\n",
      "Iteration 363: LHS Error: 1.0211416807681672e-06; RHS Error 0.00385360801804405\n",
      "Iteration 364: LHS Error: 1.0033067114889604e-06; RHS Error 0.0038536085168229713\n",
      "Iteration 365: LHS Error: 9.84454003427615e-07; RHS Error 0.0038536090141415005\n",
      "Iteration 366: LHS Error: 9.676832766203347e-07; RHS Error 0.003853609508192365\n",
      "Iteration 367: LHS Error: 9.494059640680064e-07; RHS Error 0.003853609997216794\n",
      "Iteration 368: LHS Error: 9.337011781518356e-07; RHS Error 0.003853610479494268\n",
      "Iteration 369: LHS Error: 9.158769782580123e-07; RHS Error 0.003853610953392518\n",
      "Iteration 370: LHS Error: 9.012258561647002e-07; RHS Error 0.003853611417381949\n",
      "Iteration 371: LHS Error: 8.844015781939163e-07; RHS Error 0.0038536118700429893\n",
      "Iteration 372: LHS Error: 8.701318638948408e-07; RHS Error 0.00385361231010375\n",
      "Iteration 373: LHS Error: 8.54549681239547e-07; RHS Error 0.0038536127364240612\n",
      "Iteration 374: LHS Error: 8.403028277648161e-07; RHS Error 0.0038536131480292734\n",
      "Iteration 375: LHS Error: 8.259053827508467e-07; RHS Error 0.0038536135440961324\n",
      "Iteration 376: LHS Error: 8.116312861794484e-07; RHS Error 0.0038536139239480865\n",
      "Iteration 377: LHS Error: 7.983594287885865e-07; RHS Error 0.0038536142870869462\n",
      "Iteration 378: LHS Error: 7.840184030882824e-07; RHS Error 0.003853614633158644\n",
      "Iteration 379: LHS Error: 7.718121839417336e-07; RHS Error 0.0038536149619456273\n",
      "Iteration 380: LHS Error: 7.584043393293882e-07; RHS Error 0.0038536152733833415\n",
      "Iteration 381: LHS Error: 7.461730757718499e-07; RHS Error 0.0038536155675156693\n",
      "Iteration 382: LHS Error: 7.338679766100142e-07; RHS Error 0.003853615844508269\n",
      "Iteration 383: LHS Error: 7.21360065902843e-07; RHS Error 0.0038536161046168523\n",
      "Iteration 384: LHS Error: 7.100875500931636e-07; RHS Error 0.003853616348172159\n",
      "Iteration 385: LHS Error: 6.979899471737383e-07; RHS Error 0.003853616575554551\n",
      "Iteration 386: LHS Error: 6.869915223362e-07; RHS Error 0.003853616787198779\n",
      "Iteration 387: LHS Error: 6.759163309055793e-07; RHS Error 0.003853616983562903\n",
      "Iteration 388: LHS Error: 6.64516016435357e-07; RHS Error 0.0038536171650996273\n",
      "Iteration 389: LHS Error: 6.543923491975079e-07; RHS Error 0.0038536173322665864\n",
      "Iteration 390: LHS Error: 6.436922563857195e-07; RHS Error 0.003853617485502745\n",
      "Iteration 391: LHS Error: 6.333647193379477e-07; RHS Error 0.0038536176251915033\n",
      "Iteration 392: LHS Error: 6.235819869360171e-07; RHS Error 0.003853617751686185\n",
      "Iteration 393: LHS Error: 6.133684555820196e-07; RHS Error 0.0038536178652870245\n",
      "Iteration 394: LHS Error: 6.038543509667704e-07; RHS Error 0.0038536179662214606\n",
      "Iteration 395: LHS Error: 5.945110927996211e-07; RHS Error 0.003853618054661885\n",
      "Iteration 396: LHS Error: 5.848477924175199e-07; RHS Error 0.003853618130703121\n",
      "Iteration 397: LHS Error: 5.759346186628989e-07; RHS Error 0.0038536181943819863\n",
      "Iteration 398: LHS Error: 5.670870697471742e-07; RHS Error 0.0038536182456621617\n",
      "Iteration 399: LHS Error: 5.580034931895739e-07; RHS Error 0.0038536182844546886\n",
      "Iteration 400: LHS Error: 5.495179715708787e-07; RHS Error 0.003853618310611371\n",
      "Iteration 401: LHS Error: 5.411919832276624e-07; RHS Error 0.0038536183239605156\n",
      "Iteration 402: LHS Error: 5.326934298111041e-07; RHS Error 0.00385361832428142\n",
      "Iteration 403: LHS Error: 5.244952476779474e-07; RHS Error 0.00385361831132007\n",
      "Iteration 404: LHS Error: 5.166950947099735e-07; RHS Error 0.0038536182848456974\n",
      "Iteration 405: LHS Error: 5.087700221118041e-07; RHS Error 0.0038536182446136844\n"
     ]
    },
    {
     "name": "stdout",
     "output_type": "stream",
     "text": [
      "Iteration 406: LHS Error: 5.007633685494284e-07; RHS Error 0.0038536181903933483\n",
      "Iteration 407: LHS Error: 4.934614916685121e-07; RHS Error 0.003853618122006311\n",
      "Iteration 408: LHS Error: 4.860869227130138e-07; RHS Error 0.003853618039305845\n",
      "Iteration 409: LHS Error: 4.786583844840209e-07; RHS Error 0.0038536179422073583\n",
      "Iteration 410: LHS Error: 4.7135803171727275e-07; RHS Error 0.003853617830679534\n",
      "Iteration 411: LHS Error: 4.6450352853000254e-07; RHS Error 0.0038536177048076135\n",
      "Iteration 412: LHS Error: 4.576147967227939e-07; RHS Error 0.0038536175647447745\n",
      "Iteration 413: LHS Error: 4.507174931056568e-07; RHS Error 0.0038536174107589925\n",
      "Iteration 414: LHS Error: 4.438878864476692e-07; RHS Error 0.0038536172431955762\n",
      "Iteration 415: LHS Error: 4.374979978294391e-07; RHS Error 0.003853617062546118\n",
      "Iteration 416: LHS Error: 4.3110871894569414e-07; RHS Error 0.0038536168693784167\n",
      "Iteration 417: LHS Error: 4.247385438915785e-07; RHS Error 0.00385361666440421\n",
      "Iteration 418: LHS Error: 4.1840358822042845e-07; RHS Error 0.0038536164484222093\n",
      "Iteration 419: LHS Error: 4.122587697885649e-07; RHS Error 0.003853616222320869\n",
      "Iteration 420: LHS Error: 4.0635326614690825e-07; RHS Error 0.003853615987116032\n",
      "Iteration 421: LHS Error: 4.004823570546989e-07; RHS Error 0.003853615743910669\n",
      "Iteration 422: LHS Error: 3.946575151125842e-07; RHS Error 0.0038536154938918652\n",
      "Iteration 423: LHS Error: 3.88888587110614e-07; RHS Error 0.0038536152383053216\n",
      "Iteration 424: LHS Error: 3.83183937469056e-07; RHS Error 0.0038536149784534042\n",
      "Iteration 425: LHS Error: 3.7770436422945863e-07; RHS Error 0.003853614715706495\n",
      "Iteration 426: LHS Error: 3.7234124850016315e-07; RHS Error 0.0038536144514547824\n",
      "Iteration 427: LHS Error: 3.6703499439738607e-07; RHS Error 0.0038536141871148956\n",
      "Iteration 428: LHS Error: 3.6179167572925053e-07; RHS Error 0.003853613924096021\n",
      "Iteration 429: LHS Error: 3.566147279698839e-07; RHS Error 0.0038536136638117075\n",
      "Iteration 430: LHS Error: 3.51505439422084e-07; RHS Error 0.0038536134076372023\n",
      "Iteration 431: LHS Error: 3.464673703490462e-07; RHS Error 0.003853613156915458\n",
      "Iteration 432: LHS Error: 3.4151008554417217e-07; RHS Error 0.0038536129129404964\n",
      "Iteration 433: LHS Error: 3.366827781015047e-07; RHS Error 0.00385361267694587\n",
      "Iteration 434: LHS Error: 3.3198882665175233e-07; RHS Error 0.003853612450073326\n",
      "Iteration 435: LHS Error: 3.2654073889304414e-07; RHS Error 0.003853612233383497\n",
      "Iteration 436: LHS Error: 3.203627647607732e-07; RHS Error 0.0038536120278472065\n",
      "Iteration 437: LHS Error: 3.1351033458193456e-07; RHS Error 0.003853611834334119\n",
      "Iteration 438: LHS Error: 3.0604014344959296e-07; RHS Error 0.0038536116535984525\n",
      "Iteration 439: LHS Error: 2.980097701943407e-07; RHS Error 0.0038536114862867737\n",
      "Iteration 440: LHS Error: 2.8947726349315417e-07; RHS Error 0.003853611332920517\n",
      "Iteration 441: LHS Error: 2.8050075373542427e-07; RHS Error 0.0038536111939072044\n",
      "Iteration 442: LHS Error: 2.7113806844170085e-07; RHS Error 0.003853611069526492\n",
      "Iteration 443: LHS Error: 2.614463845418413e-07; RHS Error 0.003853610959950969\n",
      "Iteration 444: LHS Error: 2.514818877585867e-07; RHS Error 0.0038536108652371696\n",
      "Iteration 445: LHS Error: 2.4129945286333054e-07; RHS Error 0.00385361078531299\n",
      "Iteration 446: LHS Error: 2.3095233991909936e-07; RHS Error 0.00385361072001056\n",
      "Iteration 447: LHS Error: 2.2049196424234196e-07; RHS Error 0.003853610669058556\n",
      "Iteration 448: LHS Error: 2.0996762151170856e-07; RHS Error 0.0038536106320828482\n",
      "Iteration 449: LHS Error: 1.994263065796531e-07; RHS Error 0.003853610608631695\n",
      "Iteration 450: LHS Error: 1.8891253095176808e-07; RHS Error 0.003853610598167578\n",
      "Iteration 451: LHS Error: 1.7846814515110054e-07; RHS Error 0.0038536106000733985\n",
      "Iteration 452: LHS Error: 1.6813226855205698e-07; RHS Error 0.003853610613692567\n",
      "Iteration 453: LHS Error: 1.5794114549549931e-07; RHS Error 0.003853610638288096\n",
      "Iteration 454: LHS Error: 1.479281008798239e-07; RHS Error 0.0038536106730914397\n",
      "Iteration 455: LHS Error: 1.3812352506192838e-07; RHS Error 0.003853610717308061\n",
      "Iteration 456: LHS Error: 1.2855480990836554e-07; RHS Error 0.0038536107700919853\n",
      "Iteration 457: LHS Error: 1.192464007537808e-07; RHS Error 0.0038536108306079456\n",
      "Iteration 458: LHS Error: 1.1021981594083741e-07; RHS Error 0.0038536108979971948\n",
      "Iteration 459: LHS Error: 1.0149369122913754e-07; RHS Error 0.0038536109714016817\n",
      "Iteration 460: LHS Error: 9.308384685269289e-08; RHS Error 0.00385361104996526\n",
      "Iteration 461: LHS Error: 8.500339765404874e-08; RHS Error 0.0038536111328629735\n",
      "Iteration 462: LHS Error: 7.726284101394754e-08; RHS Error 0.003853611219282843\n",
      "Iteration 463: LHS Error: 6.987016476500685e-08; RHS Error 0.0038536113084366415\n",
      "Iteration 464: LHS Error: 6.28309786421255e-08; RHS Error 0.003853611399570074\n",
      "Iteration 465: LHS Error: 5.614865417058468e-08; RHS Error 0.0038536114919691016\n",
      "Iteration 466: LHS Error: 4.982446233370297e-08; RHS Error 0.0038536115849545707\n",
      "Iteration 467: LHS Error: 4.3857712128669846e-08; RHS Error 0.003853611677886917\n",
      "Iteration 468: LHS Error: 3.824589800416334e-08; RHS Error 0.0038536117701758205\n",
      "Iteration 469: LHS Error: 3.2984891262799465e-08; RHS Error 0.003853611861298451\n",
      "Iteration 470: LHS Error: 2.8069025770349754e-08; RHS Error 0.0038536119507468305\n",
      "Iteration 471: LHS Error: 2.349131600354326e-08; RHS Error 0.003853612038094678\n",
      "Iteration 472: LHS Error: 2.1321283849573547e-08; RHS Error 0.0038536121229375054\n",
      "Iteration 473: LHS Error: 2.0922754195851212e-08; RHS Error 0.0038536122049333084\n",
      "Iteration 474: LHS Error: 2.0557699098588955e-08; RHS Error 0.0038536122837840563\n",
      "Iteration 475: LHS Error: 2.019527434171664e-08; RHS Error 0.0038536123592314343\n",
      "Iteration 476: LHS Error: 1.982178732262696e-08; RHS Error 0.003853612431080007\n",
      "Iteration 477: LHS Error: 1.9477613744101063e-08; RHS Error 0.003853612499165121\n",
      "Iteration 478: LHS Error: 1.913778069351224e-08; RHS Error 0.00385361256337108\n",
      "Iteration 479: LHS Error: 1.8789848788003383e-08; RHS Error 0.0038536126236175154\n",
      "Iteration 480: LHS Error: 1.8459913597723698e-08; RHS Error 0.0038536126798543397\n",
      "Iteration 481: LHS Error: 1.8142980895419214e-08; RHS Error 0.0038536127320751502\n",
      "Iteration 482: LHS Error: 1.7820262154799593e-08; RHS Error 0.0038536127803008692\n",
      "Iteration 483: LHS Error: 1.7499258042619203e-08; RHS Error 0.0038536128245790285\n",
      "Iteration 484: LHS Error: 1.720480691247417e-08; RHS Error 0.003853612864969899\n",
      "Iteration 485: LHS Error: 1.6906327893195794e-08; RHS Error 0.003853612901585625\n",
      "Iteration 486: LHS Error: 1.6605131047953137e-08; RHS Error 0.0038536129345415004\n",
      "Iteration 487: LHS Error: 1.6317247553132574e-08; RHS Error 0.0038536129639723153\n",
      "Iteration 488: LHS Error: 1.6041623140949923e-08; RHS Error 0.0038536129899918656\n",
      "Iteration 489: LHS Error: 1.5764390681738405e-08; RHS Error 0.003853613012775665\n",
      "Iteration 490: LHS Error: 1.5486593341051957e-08; RHS Error 0.003853613032488571\n",
      "Iteration 491: LHS Error: 1.5220311677666132e-08; RHS Error 0.003853613049294569\n",
      "Iteration 492: LHS Error: 1.4965115813225793e-08; RHS Error 0.0038536130633704223\n",
      "Iteration 493: LHS Error: 1.4709752527153341e-08; RHS Error 0.0038536130749033896\n",
      "Iteration 494: LHS Error: 1.4455463936968727e-08; RHS Error 0.0038536130840678977\n",
      "Iteration 495: LHS Error: 1.4204559750652379e-08; RHS Error 0.003853613091051041\n",
      "Iteration 496: LHS Error: 1.3969272849578829e-08; RHS Error 0.003853613096022933\n",
      "Iteration 497: LHS Error: 1.374301250578469e-08; RHS Error 0.003853613099152816\n",
      "Iteration 498: LHS Error: 1.3479314109332563e-08; RHS Error 0.0038536131006303015\n",
      "Iteration 499: LHS Error: 1.31766833000313e-08; RHS Error 0.003853613100612554\n",
      "Iteration 500: LHS Error: 1.2841100627269952e-08; RHS Error 0.003853613099253631\n",
      "Iteration 501: LHS Error: 1.2478111433011918e-08; RHS Error 0.0038536130966955427\n",
      "Iteration 502: LHS Error: 1.209277122882213e-08; RHS Error 0.0038536130931025895\n",
      "Iteration 503: LHS Error: 1.1689742507314804e-08; RHS Error 0.0038536130885990956\n",
      "Iteration 504: LHS Error: 1.1273265432265589e-08; RHS Error 0.0038536130833163288\n",
      "Iteration 505: LHS Error: 1.0847188924856255e-08; RHS Error 0.003853613077381184\n",
      "Iteration 506: LHS Error: 1.041498354226178e-08; RHS Error 0.003853613070902699\n",
      "Iteration 507: LHS Error: 9.9797707875382e-09; RHS Error 0.0038536130639833716\n",
      "Converged. Total iteration 507: LHS Error: 9.9797707875382e-09; RHS Error 0.0038536130639833716\n"
     ]
    }
   ],
   "source": [
    "model_paras = (η, δ, θ, πc_o, σ_y, ξ_w, ξ_p, ξ_a, γ_1, γ_2, y_bar_lower, y_bar_upper, ϕ_m, πd_o, r0, r1, τ)\n",
    "model_res = ode_y_jump_intensity_approach(y_grid_short, model_paras=model_paras, v0=v_guess, ϵ=1,\n",
    "                                          tol=1e-8, max_iter=1000, print_all=True)"
   ]
  },
  {
   "cell_type": "code",
   "execution_count": 19,
   "metadata": {},
   "outputs": [
    {
     "data": {
      "text/plain": [
       "[<matplotlib.lines.Line2D at 0x7f8168850550>]"
      ]
     },
     "execution_count": 19,
     "metadata": {},
     "output_type": "execute_result"
    },
    {
     "data": {
      "image/png": "[encoded data removed]",
      "text/plain": [
       "<Figure size 432x288 with 1 Axes>"
      ]
     },
     "metadata": {
      "needs_background": "light"
     },
     "output_type": "display_data"
    }
   ],
   "source": [
    "plt.plot(model_res['v0'])"
   ]
  },
  {
   "cell_type": "code",
   "execution_count": 20,
   "metadata": {
    "scrolled": true
   },
   "outputs": [
    {
     "data": {
      "text/plain": [
       "[<matplotlib.lines.Line2D at 0x7f8138d8d5e0>]"
      ]
     },
     "execution_count": 20,
     "metadata": {},
     "output_type": "execute_result"
    },
    {
     "data": {
      "image/png": "[encoded data removed]",
      "text/plain": [
       "<Figure size 432x288 with 1 Axes>"
      ]
     },
     "metadata": {
      "needs_background": "light"
     },
     "output_type": "display_data"
    }
   ],
   "source": [
    "plt.plot(model_res['e_tilde'])"
   ]
  },
  {
   "cell_type": "markdown",
   "metadata": {},
   "source": [
    "## Simulation"
   ]
  },
  {
   "cell_type": "code",
   "execution_count": 21,
   "metadata": {},
   "outputs": [],
   "source": [
    "# Simulate capital process\n",
    "# Capital and z parameters\n",
    "α_k = -0.043\n",
    "β_k = 0.04\n",
    "σ_k = np.array([0.477*2, 0])/100.\n",
    "β_z = 0.014*4\n",
    "σ_z = np.array([0.011*2, 0.025*2])\n",
    "α = 0.115\n",
    "ioverk = 0.09\n",
    "κ = 6.667\n",
    "\n",
    "\n",
    "@njit(parallel=True)\n",
    "def simulate_capital(α_k, β_k, σ_k, β_z, σ_z, ioverk, κ, Ws, k_start, N=100_000, T=100, dt=1.):\n",
    "    var_z = dt*σ_z@σ_z/(1-(1-β_z*dt)**2)\n",
    "    std_z = np.sqrt(var_z)\n",
    "\n",
    "    time_periods = int(T/dt)\n",
    "    z_path = np.zeros((N, time_periods+1))\n",
    "    k_path = np.zeros((N, time_periods+1))\n",
    "    for i in range(N):\n",
    "        z0 = np.random.normal(0.,std_z)\n",
    "        k0 = k_start\n",
    "        z_path[i, 0] = z0\n",
    "        k_path[i, 0] = k0\n",
    "        for j in range(1, time_periods+1):\n",
    "            k1 = k0 + (α_k + β_k*z0 + ioverk - κ/2.*ioverk**2 - σ_k@σ_k/2.)*dt + σ_k@Ws[i, j]*np.sqrt(dt)\n",
    "            z1 = (1.-β_z*dt)*z0 + σ_z@Ws[i, j]*np.sqrt(dt)\n",
    "            k_path[i, j] = k1\n",
    "            z_path[i, j] = z1\n",
    "            k0 = k1\n",
    "            z0 = z1\n",
    "    return k_path\n",
    "\n",
    "T = 100\n",
    "N = 1_000_000\n",
    "dt = 1.\n",
    "k_start = np.log(80/α)\n",
    "η = .032\n",
    "Ws = np.random.multivariate_normal(np.zeros(2), np.eye(2), (N, int(T/dt)))\n",
    "logk_path = simulate_capital(α_k, β_k, σ_k, β_z, σ_z, ioverk, κ, Ws, k_start, N=N, T=T, dt=dt)\n",
    "Kt = np.percentile(np.exp(logk_path), 50, axis=0)"
   ]
  },
  {
   "cell_type": "code",
   "execution_count": 22,
   "metadata": {},
   "outputs": [],
   "source": [
    "e_grid_no_jump = model_res['e_tilde']\n",
    "e_grid_jump_list = []\n",
    "for i in range(n_model):\n",
    "    temp = np.array([model['e_tilde'] for model in model_list[i]])\n",
    "    e_grid_jump_list.append(temp)\n",
    "e_grid_jump = np.array(e_grid_jump_list)"
   ]
  },
  {
   "cell_type": "code",
   "execution_count": 23,
   "metadata": {},
   "outputs": [],
   "source": [
    "@njit\n",
    "def simulation_one_path(y_grid_short, y_grid_long, y_grid_tilde, e_grid_no_jump, e_grid_jump,\n",
    "                        θ, y0, y_bar_lower, r0, r1, τ, damage_prob, T=80):\n",
    "    \"\"\"\n",
    "    y_grid : (N,) ndarray\n",
    "    e_grid_no_jump : (N,) ndarray\n",
    "    e_grid_jump : (3, M, N) ndarray\n",
    "        e_grid[0, i], e_grid[1, i] and e_grid[2, i] are the emissions conditional\n",
    "            on low, high and extreme damages when jump occurrs at y_grid_tilde[i].\n",
    "    \"\"\"\n",
    "    yt = np.zeros(T+1)\n",
    "    et = np.zeros(T+1)\n",
    "    damage_states_t = np.zeros(T+1)\n",
    "    jump_occurred = False\n",
    "    e_grid_realized = e_grid_no_jump\n",
    "    for i in range(T+1):\n",
    "        if y0 > y_bar_lower and jump_occurred == False:\n",
    "            intensity = - r0 * (np.exp(- r1 / 2. * (y0-y_bar_lower)**2) - 1.)\n",
    "            jump_prob = τ * intensity\n",
    "            realized_jump_state = np.random.multinomial(n=1, pvals=np.array([jump_prob, 1-jump_prob]))\n",
    "            if np.array_equal(realized_jump_state, np.array([1, 0])):\n",
    "                jump_occurred = True\n",
    "                realized_damage_state = np.random.multinomial(n=1, pvals=damage_prob)\n",
    "                loc = find_nearest_value(y_grid_tilde, y0)\n",
    "                if np.array_equal(realized_damage_state, np.array([1, 0, 0])):\n",
    "                    e_grid_realized = e_grid_jump[0, loc]\n",
    "                    damage_states_t[i:] = 1\n",
    "                elif np.array_equal(realized_damage_state, np.array([0, 1, 0])):\n",
    "                    e_grid_realized = e_grid_jump[1, loc]\n",
    "                    damage_states_t[i:] = 2\n",
    "                else:\n",
    "                    e_grid_realized = e_grid_jump[2, loc]\n",
    "                    damage_states_t[i:] = 3\n",
    "        if jump_occurred:\n",
    "            et[i] = np.interp(y0, y_grid_long, e_grid_realized)\n",
    "        else:\n",
    "            et[i] = np.interp(y0, y_grid_short, e_grid_realized)\n",
    "        yt[i] = y0\n",
    "        y0 = y0 + et[i]*θ\n",
    "    return et, yt, damage_states_t\n",
    "\n",
    "@njit\n",
    "def simulation_n_path(y_grid_short, y_grid_long, y_grid_tilde, e_grid_no_jump, e_grid_jump,\n",
    "                      θ, y0, y_bar_lower, r0, r1, τ, damage_prob, T=80, N=10_000):\n",
    "    yt_n_path = np.zeros((N, T+1))\n",
    "    et_n_path = np.zeros((N, T+1))\n",
    "    damage_states_t_n_path = np.zeros((N, T+1))\n",
    "    for n in range(N):\n",
    "        et, yt, damage_states_t = simulation_one_path(y_grid_short, y_grid_long, y_grid_tilde, e_grid_no_jump, e_grid_jump,\n",
    "                                     θ, y0, y_bar_lower, r0, r1, τ, damage_prob, T=T)\n",
    "        yt_n_path[n] = yt\n",
    "        et_n_path[n] = et\n",
    "        damage_states_t_n_path[n] = damage_states_t\n",
    "    return et_n_path, yt_n_path, damage_states_t_n_path"
   ]
  },
  {
   "cell_type": "code",
   "execution_count": 24,
   "metadata": {},
   "outputs": [],
   "source": [
    "et, yt, damage_states_t = simulation_n_path(y_grid_short, y_grid_long, y_grid_tilde, e_grid_no_jump, e_grid_jump,\n",
    "                           np.mean(model_res['θ']), y0=1.1, y_bar_lower=y_bar_lower, r0=r0,\n",
    "                           r1=r1, τ=τ, damage_prob=np.array([1./3, 1./3, 1./3]), T=120, N=1_000_000)"
   ]
  },
  {
   "cell_type": "code",
   "execution_count": 25,
   "metadata": {},
   "outputs": [],
   "source": [
    "et_10 = np.percentile(et, 10, axis=0)\n",
    "et_50 = np.percentile(et, 50, axis=0)\n",
    "et_90 = np.percentile(et, 90, axis=0)\n",
    "\n",
    "et_01 = np.percentile(et, 1, axis=0)\n",
    "et_99 = np.percentile(et, 99, axis=0)"
   ]
  },
  {
   "cell_type": "code",
   "execution_count": 26,
   "metadata": {},
   "outputs": [
    {
     "data": {
      "text/plain": [
       "(173,)"
      ]
     },
     "execution_count": 26,
     "metadata": {},
     "output_type": "execute_result"
    }
   ],
   "source": [
    "np.unique(et[:,120]).shape"
   ]
  },
  {
   "cell_type": "code",
   "execution_count": 27,
   "metadata": {},
   "outputs": [
    {
     "data": {
      "text/plain": [
       "Text(0.5, 0, 'Years')"
      ]
     },
     "execution_count": 27,
     "metadata": {},
     "output_type": "execute_result"
    },
    {
     "data": {
      "image/png": "[encoded data removed]",
      "text/plain": [
       "<Figure size 432x288 with 1 Axes>"
      ]
     },
     "metadata": {
      "needs_background": "light"
     },
     "output_type": "display_data"
    }
   ],
   "source": [
    "plt.plot(et_10, label='.10 percentile', linewidth=2.)\n",
    "plt.plot(et_50, label='.50 percentile', linewidth=2.)\n",
    "plt.plot(et_90, label='.90 percentile', linewidth=2.)\n",
    "plt.legend(frameon=False)\n",
    "plt.title('Emission')\n",
    "plt.xlabel('Years')"
   ]
  },
  {
   "cell_type": "markdown",
   "metadata": {},
   "source": [
    "## No jump plots"
   ]
  },
  {
   "cell_type": "code",
   "execution_count": 39,
   "metadata": {},
   "outputs": [],
   "source": [
    "T = 111\n",
    "et_no_jump, yt_no_jump, _, _ = simulation(model_res['y_grid'], model_res['e_tilde'], model_res['h'], model_res['g'],\n",
    "                            θ=np.mean(model_res['θ']), y_start=1.1, T=T)"
   ]
  },
  {
   "cell_type": "code",
   "execution_count": 40,
   "metadata": {
    "scrolled": true
   },
   "outputs": [
    {
     "data": {
      "text/plain": [
       "[<matplotlib.lines.Line2D at 0x7f8168ccd220>]"
      ]
     },
     "execution_count": 40,
     "metadata": {},
     "output_type": "execute_result"
    },
    {
     "data": {
      "image/png": "[encoded data removed]",
      "text/plain": [
       "<Figure size 432x288 with 1 Axes>"
      ]
     },
     "metadata": {
      "needs_background": "light"
     },
     "output_type": "display_data"
    }
   ],
   "source": [
    "# Compute continuation probability\n",
    "dt = 1./1\n",
    "con_prob = np.ones(int(T/dt)+1)\n",
    "time_periods = np.arange(0, T+dt, dt)\n",
    "yt_no_jump_long = np.interp(time_periods, np.array(range(T+1)), yt_no_jump)\n",
    "con_prob_sum = 0\n",
    "for t in range(time_periods.shape[0]):\n",
    "    y = yt_no_jump_long[t]\n",
    "    if y >= y_bar_lower:\n",
    "        intensity = - r0 * (np.exp(- r1 / 2. * (y-y_bar_lower)**2) - 1.)\n",
    "        con_prob_sum += intensity * dt\n",
    "        con_prob[t] = np.exp(-con_prob_sum)\n",
    "\n",
    "# Plot continuation probability\n",
    "plt.plot(time_periods, con_prob)"
   ]
  },
  {
   "cell_type": "code",
   "execution_count": 41,
   "metadata": {},
   "outputs": [],
   "source": [
    "# Compute no jump probability\n",
    "no_jump_prob = np.ones_like(yt_no_jump)\n",
    "for t in range(no_jump_prob.shape[0]):\n",
    "    y = yt_no_jump[t]\n",
    "    if y > y_bar_lower:\n",
    "        intensity = - r0 * (np.exp(- r1 / 2. * (y-y_bar_lower)**2) - 1.)\n",
    "        no_jump_prob[t] = (1 - intensity*τ) * no_jump_prob[t-1]"
   ]
  },
  {
   "cell_type": "code",
   "execution_count": 42,
   "metadata": {},
   "outputs": [],
   "source": [
    "# np.save('yt_03.npy', yt_no_jump)\n",
    "# np.save('prob_03.npy', no_jump_prob)"
   ]
  },
  {
   "cell_type": "code",
   "execution_count": 46,
   "metadata": {},
   "outputs": [
    {
     "data": {
      "image/png": "[encoded data removed]",
      "text/plain": [
       "<Figure size 864x288 with 2 Axes>"
      ]
     },
     "metadata": {
      "needs_background": "light"
     },
     "output_type": "display_data"
    }
   ],
   "source": [
    "fig, (ax1, ax2) = plt.subplots(1, 2, figsize=(12,4))\n",
    "ax1.plot(yt_no_jump, linewidth=2.)\n",
    "ax1.plot(np.ones_like(yt_no_jump)*1.5, linestyle='dashed', color='black', linewidth=2)\n",
    "ax1.set_xlabel('Years', fontsize=13)\n",
    "ax1.set_title(r'Temperature anomaly')\n",
    "ax1.set_ylim(1, 2)\n",
    "\n",
    "ax2.plot(no_jump_prob, linewidth=2.)\n",
    "ax2.set_xlabel('Years', fontsize=13)\n",
    "ax2.set_title(r'No jump probability')\n",
    "ax2.set_ylim(0, 1.05)\n",
    "\n",
    "fig.suptitle(r'$r_0=0.25$', fontsize=13)\n",
    "fig.savefig('fig.pdf')"
   ]
  },
  {
   "cell_type": "code",
   "execution_count": 44,
   "metadata": {},
   "outputs": [],
   "source": [
    "def compute_prob(array):\n",
    "    array_unique = np.unique(array)\n",
    "    prob = np.zeros_like(array_unique)\n",
    "    for i, point in enumerate(array_unique):\n",
    "        prob[i] = np.sum(array==point)/len(array)\n",
    "    return array_unique, prob"
   ]
  },
  {
   "cell_type": "markdown",
   "metadata": {},
   "source": [
    "## T = 60"
   ]
  },
  {
   "cell_type": "code",
   "execution_count": 45,
   "metadata": {},
   "outputs": [
    {
     "data": {
      "text/plain": [
       "0.0338497814824105"
      ]
     },
     "execution_count": 45,
     "metadata": {},
     "output_type": "execute_result"
    }
   ],
   "source": [
    "(1-no_jump_prob[80])/3"
   ]
  },
  {
   "cell_type": "code",
   "execution_count": null,
   "metadata": {},
   "outputs": [],
   "source": [
    "# Compute probabilities\n",
    "T_plot = 60\n",
    "et_states, et_prob = compute_prob(et[:, T_plot])\n",
    "Kt_fixed = Kt[T_plot]\n",
    "\n",
    "et_no_jump = et[:, T_plot][damage_states_t[:, T_plot]==0]\n",
    "et_low = et[:, T_plot][damage_states_t[:, T_plot]==1]\n",
    "et_high = et[:, T_plot][damage_states_t[:, T_plot]==2]\n",
    "et_extreme = et[:, T_plot][damage_states_t[:, T_plot]==3]\n",
    "\n",
    "et_no_jump_states, et_no_jump_prob = compute_prob(et_no_jump)\n",
    "et_low_states, et_low_prob = compute_prob(et_low)\n",
    "et_high_states, et_high_prob = compute_prob(et_high)\n",
    "et_extreme_states, et_extreme_prob = compute_prob(et_extreme)\n",
    "\n",
    "yt_no_jump = yt[:, T_plot][damage_states_t[:, T_plot]==0]\n",
    "yt_low = yt[:, T_plot][damage_states_t[:, T_plot]==1]\n",
    "yt_high = yt[:, T_plot][damage_states_t[:, T_plot]==2]\n",
    "yt_extreme = yt[:, T_plot][damage_states_t[:, T_plot]==3]\n",
    "\n",
    "yt_no_jump_states, yt_no_jump_prob = compute_prob(yt_no_jump)\n",
    "yt_low_states, yt_low_prob = compute_prob(yt_low)\n",
    "yt_high_states, yt_high_prob = compute_prob(yt_high)\n",
    "yt_extreme_states, yt_extreme_prob = compute_prob(yt_extreme)"
   ]
  },
  {
   "cell_type": "code",
   "execution_count": null,
   "metadata": {},
   "outputs": [],
   "source": [
    "et_no_jump_states"
   ]
  },
  {
   "cell_type": "code",
   "execution_count": null,
   "metadata": {},
   "outputs": [],
   "source": [
    "et_no_jump_states.shape, et_low_states.shape, et_high_states.shape, et_extreme_states.shape"
   ]
  },
  {
   "cell_type": "code",
   "execution_count": null,
   "metadata": {},
   "outputs": [],
   "source": [
    "fig, (ax1, ax2, ax3) = plt.subplots(1, 3, figsize=(18, 4))\n",
    "ax1.hist(et_low_states, weights=et_low_prob, bins=20, density=False)\n",
    "ax1.set_ylabel('Probability', fontsize=13)\n",
    "\n",
    "ax2.hist(et_high_states, weights=et_high_prob, bins=20, density=False)\n",
    "ax2.set_ylabel('Probability', fontsize=13)\n",
    "\n",
    "ax3.hist(et_extreme_states, weights=et_extreme_prob, bins=20, density=False)\n",
    "ax3.set_ylabel('Probability', fontsize=13)\n",
    "\n",
    "fig.suptitle(r'Figure 1.1: Histograms of emission conditional on low (left), high (middle) and extreme (right) damage; Year '+str(T_plot))\n",
    "fig.savefig('fig_11.pdf')\n",
    "\n",
    "\n",
    "fig, (ax1, ax2, ax3) = plt.subplots(1, 3, figsize=(18,4))\n",
    "ax1.hist(η*(0.025)*Kt_fixed/((1.-η)*et_low_states)*1000, weights=et_low_prob, bins=20, density=False)\n",
    "ax1.set_ylabel('Probability', fontsize=13)\n",
    "\n",
    "ax2.hist(η*(0.025)*Kt_fixed/((1.-η)*et_high_states)*1000, weights=et_high_prob, bins=20, density=False)\n",
    "ax2.set_ylabel('Probability', fontsize=13)\n",
    "\n",
    "ax3.hist(η*(0.025)*Kt_fixed/((1.-η)*et_extreme_states)*1000, weights=et_extreme_prob, bins=20, density=False)\n",
    "ax3.set_ylabel('Probability', fontsize=13)\n",
    "\n",
    "fig.suptitle(r'Figure 1.2: Histograms of SCC conditional on low (left), high (middle) and extreme (right) damage; Year '+str(T_plot))\n",
    "fig.savefig('fig_12.pdf')\n",
    "\n",
    "fig, (ax1, ax2, ax3) = plt.subplots(1, 3, figsize=(18, 4))\n",
    "ax1.hist(yt_low_states, weights=et_low_prob, bins=20, density=False)\n",
    "ax1.set_ylabel('Probability', fontsize=13)\n",
    "\n",
    "ax2.hist(yt_high_states, weights=et_high_prob, bins=20, density=False)\n",
    "ax2.set_ylabel('Probability', fontsize=13)\n",
    "\n",
    "ax3.hist(yt_extreme_states, weights=et_extreme_prob, bins=20, density=False)\n",
    "ax3.set_ylabel('Probability', fontsize=13)\n",
    "\n",
    "fig.suptitle(r'Figure 1.3: Histograms of temperature anomaly conditional on low (left), high (middle) and extreme (right) damage; Year '+str(T_plot))\n",
    "fig.savefig('fig_13.pdf')"
   ]
  },
  {
   "cell_type": "code",
   "execution_count": null,
   "metadata": {},
   "outputs": [],
   "source": [
    "# Compute probabilities\n",
    "T_plot = 70\n",
    "et_states, et_prob = compute_prob(et[:, T_plot])\n",
    "Kt_fixed = Kt[T_plot]\n",
    "\n",
    "et_no_jump = et[:, T_plot][damage_states_t[:, T_plot]==0]\n",
    "et_low = et[:, T_plot][damage_states_t[:, T_plot]==1]\n",
    "et_high = et[:, T_plot][damage_states_t[:, T_plot]==2]\n",
    "et_extreme = et[:, T_plot][damage_states_t[:, T_plot]==3]\n",
    "\n",
    "et_no_jump_states, et_no_jump_prob = compute_prob(et_no_jump)\n",
    "et_low_states, et_low_prob = compute_prob(et_low)\n",
    "et_high_states, et_high_prob = compute_prob(et_high)\n",
    "et_extreme_states, et_extreme_prob = compute_prob(et_extreme)\n",
    "\n",
    "yt_no_jump = yt[:, T_plot][damage_states_t[:, T_plot]==0]\n",
    "yt_low = yt[:, T_plot][damage_states_t[:, T_plot]==1]\n",
    "yt_high = yt[:, T_plot][damage_states_t[:, T_plot]==2]\n",
    "yt_extreme = yt[:, T_plot][damage_states_t[:, T_plot]==3]\n",
    "\n",
    "yt_no_jump_states, yt_no_jump_prob = compute_prob(yt_no_jump)\n",
    "yt_low_states, yt_low_prob = compute_prob(yt_low)\n",
    "yt_high_states, yt_high_prob = compute_prob(yt_high)\n",
    "yt_extreme_states, yt_extreme_prob = compute_prob(yt_extreme)"
   ]
  },
  {
   "cell_type": "code",
   "execution_count": null,
   "metadata": {},
   "outputs": [],
   "source": [
    "et_no_jump_states.shape, et_low_states.shape, et_high_states.shape, et_extreme_states.shape"
   ]
  },
  {
   "cell_type": "code",
   "execution_count": null,
   "metadata": {},
   "outputs": [],
   "source": [
    "fig, (ax1, ax2, ax3) = plt.subplots(1, 3, figsize=(18, 4))\n",
    "ax1.hist(et_low_states, weights=et_low_prob, bins=20, density=False)\n",
    "ax1.set_ylabel('Probability', fontsize=13)\n",
    "\n",
    "ax2.hist(et_high_states, weights=et_high_prob, bins=20, density=False)\n",
    "ax2.set_ylabel('Probability', fontsize=13)\n",
    "\n",
    "ax3.hist(et_extreme_states, weights=et_extreme_prob, bins=20, density=False)\n",
    "ax3.set_ylabel('Probability', fontsize=13)\n",
    "\n",
    "fig.suptitle(r'Figure 2.1: Histograms of emission conditional on low (left), high (middle) and extreme (right) damage; Year '+str(T_plot))\n",
    "fig.savefig('fig_21.pdf')\n",
    "\n",
    "\n",
    "fig, (ax1, ax2, ax3) = plt.subplots(1, 3, figsize=(18,4))\n",
    "ax1.hist(η*(0.025)*Kt_fixed/((1.-η)*et_low_states)*1000, weights=et_low_prob, bins=20, density=False)\n",
    "ax1.set_ylabel('Probability', fontsize=13)\n",
    "\n",
    "ax2.hist(η*(0.025)*Kt_fixed/((1.-η)*et_high_states)*1000, weights=et_high_prob, bins=20, density=False)\n",
    "ax2.set_ylabel('Probability', fontsize=13)\n",
    "\n",
    "ax3.hist(η*(0.025)*Kt_fixed/((1.-η)*et_extreme_states)*1000, weights=et_extreme_prob, bins=20, density=False)\n",
    "ax3.set_ylabel('Probability', fontsize=13)\n",
    "\n",
    "fig.suptitle(r'Figure 2.2: Histograms of SCC conditional on low (left), high (middle) and extreme (right) damage; Year '+str(T_plot))\n",
    "fig.savefig('fig_22.pdf')\n",
    "\n",
    "fig, (ax1, ax2, ax3) = plt.subplots(1, 3, figsize=(18, 4))\n",
    "ax1.hist(yt_low_states, weights=et_low_prob, bins=20, density=False)\n",
    "ax1.set_ylabel('Probability', fontsize=13)\n",
    "\n",
    "ax2.hist(yt_high_states, weights=et_high_prob, bins=20, density=False)\n",
    "ax2.set_ylabel('Probability', fontsize=13)\n",
    "\n",
    "ax3.hist(yt_extreme_states, weights=et_extreme_prob, bins=20, density=False)\n",
    "ax3.set_ylabel('Probability', fontsize=13)\n",
    "\n",
    "fig.suptitle(r'Figure 2.3: Histograms of temperature anomaly conditional on low (left), high (middle) and extreme (right) damage; Year '+str(T_plot))\n",
    "fig.savefig('fig_23.pdf')"
   ]
  },
  {
   "cell_type": "code",
   "execution_count": null,
   "metadata": {},
   "outputs": [],
   "source": [
    "# Compute probabilities\n",
    "T_plot = 80\n",
    "et_states, et_prob = compute_prob(et[:, T_plot])\n",
    "Kt_fixed = Kt[T_plot]\n",
    "\n",
    "et_no_jump = et[:, T_plot][damage_states_t[:, T_plot]==0]\n",
    "et_low = et[:, T_plot][damage_states_t[:, T_plot]==1]\n",
    "et_high = et[:, T_plot][damage_states_t[:, T_plot]==2]\n",
    "et_extreme = et[:, T_plot][damage_states_t[:, T_plot]==3]\n",
    "\n",
    "et_no_jump_states, et_no_jump_prob = compute_prob(et_no_jump)\n",
    "et_low_states, et_low_prob = compute_prob(et_low)\n",
    "et_high_states, et_high_prob = compute_prob(et_high)\n",
    "et_extreme_states, et_extreme_prob = compute_prob(et_extreme)\n",
    "\n",
    "yt_no_jump = yt[:, T_plot][damage_states_t[:, T_plot]==0]\n",
    "yt_low = yt[:, T_plot][damage_states_t[:, T_plot]==1]\n",
    "yt_high = yt[:, T_plot][damage_states_t[:, T_plot]==2]\n",
    "yt_extreme = yt[:, T_plot][damage_states_t[:, T_plot]==3]\n",
    "\n",
    "yt_no_jump_states, yt_no_jump_prob = compute_prob(yt_no_jump)\n",
    "yt_low_states, yt_low_prob = compute_prob(yt_low)\n",
    "yt_high_states, yt_high_prob = compute_prob(yt_high)\n",
    "yt_extreme_states, yt_extreme_prob = compute_prob(yt_extreme)"
   ]
  },
  {
   "cell_type": "code",
   "execution_count": null,
   "metadata": {},
   "outputs": [],
   "source": [
    "et_no_jump_states.shape, et_low_states.shape, et_high_states.shape, et_extreme_states.shape"
   ]
  },
  {
   "cell_type": "code",
   "execution_count": null,
   "metadata": {},
   "outputs": [],
   "source": [
    "fig, (ax1, ax2, ax3) = plt.subplots(1, 3, figsize=(18, 4))\n",
    "ax1.hist(et_low_states, weights=et_low_prob, bins=20, density=False)\n",
    "ax1.set_ylabel('Probability', fontsize=13)\n",
    "\n",
    "ax2.hist(et_high_states, weights=et_high_prob, bins=20, density=False)\n",
    "ax2.set_ylabel('Probability', fontsize=13)\n",
    "\n",
    "ax3.hist(et_extreme_states, weights=et_extreme_prob, bins=20, density=False)\n",
    "ax3.set_ylabel('Probability', fontsize=13)\n",
    "\n",
    "fig.suptitle(r'Figure 3.1: Histograms of emission conditional on low (left), high (middle) and extreme (right) damage; Year '+str(T_plot))\n",
    "fig.savefig('fig_31.pdf')\n",
    "\n",
    "\n",
    "fig, (ax1, ax2, ax3) = plt.subplots(1, 3, figsize=(18,4))\n",
    "ax1.hist(η*(0.025)*Kt_fixed/((1.-η)*et_low_states)*1000, weights=et_low_prob, bins=20, density=False)\n",
    "ax1.set_ylabel('Probability', fontsize=13)\n",
    "\n",
    "ax2.hist(η*(0.025)*Kt_fixed/((1.-η)*et_high_states)*1000, weights=et_high_prob, bins=20, density=False)\n",
    "ax2.set_ylabel('Probability', fontsize=13)\n",
    "\n",
    "ax3.hist(η*(0.025)*Kt_fixed/((1.-η)*et_extreme_states)*1000, weights=et_extreme_prob, bins=20, density=False)\n",
    "ax3.set_ylabel('Probability', fontsize=13)\n",
    "\n",
    "fig.suptitle(r'Figure 3.2: Histograms of SCC conditional on low (left), high (middle) and extreme (right) damage; Year '+str(T_plot))\n",
    "fig.savefig('fig_32.pdf')\n",
    "\n",
    "fig, (ax1, ax2, ax3) = plt.subplots(1, 3, figsize=(18, 4))\n",
    "ax1.hist(yt_low_states, weights=et_low_prob, bins=20, density=False)\n",
    "ax1.set_ylabel('Probability', fontsize=13)\n",
    "\n",
    "ax2.hist(yt_high_states, weights=et_high_prob, bins=20, density=False)\n",
    "ax2.set_ylabel('Probability', fontsize=13)\n",
    "\n",
    "ax3.hist(yt_extreme_states, weights=et_extreme_prob, bins=20, density=False)\n",
    "ax3.set_ylabel('Probability', fontsize=13)\n",
    "\n",
    "fig.suptitle(r'Figure 3.3: Histograms of temperature anomaly conditional on low (left), high (middle) and extreme (right) damage; Year '+str(T_plot))\n",
    "fig.savefig('fig_33.pdf')"
   ]
  },
  {
   "cell_type": "code",
   "execution_count": null,
   "metadata": {},
   "outputs": [],
   "source": []
  },
  {
   "cell_type": "code",
   "execution_count": null,
   "metadata": {},
   "outputs": [],
   "source": []
  },
  {
   "cell_type": "code",
   "execution_count": null,
   "metadata": {},
   "outputs": [],
   "source": []
  },
  {
   "cell_type": "code",
   "execution_count": null,
   "metadata": {},
   "outputs": [],
   "source": []
  },
  {
   "cell_type": "code",
   "execution_count": null,
   "metadata": {
    "scrolled": true
   },
   "outputs": [],
   "source": [
    "plt.figure()\n",
    "plt.hist(et_states, weights=et_prob, bins=100, density=False)\n",
    "plt.title('Figure 1: Emission histogram ('+str(T_after)+r' years after $y$ reaching 1.5)')\n",
    "plt.ylabel('Probability')\n",
    "# plt.savefig('fig_1.pdf')\n",
    "\n",
    "plt.figure()\n",
    "plt.hist(η*(0.025)*Kt_fixed/((1.-η)*et_states)*1000, weights=et_prob, bins=100, density=False)\n",
    "plt.title(r'Figure 2: SCC histogram ('+str(T_after)+r' years after $y$ reaching 1.5)')\n",
    "plt.ylabel('Probability')\n",
    "# plt.savefig('fig_2.pdf')"
   ]
  },
  {
   "cell_type": "code",
   "execution_count": null,
   "metadata": {},
   "outputs": [],
   "source": [
    "# Compute probabilities\n",
    "T_after = 20\n",
    "et_states, et_prob = compute_prob(et[:, 50+T_after])\n",
    "Kt_fixed = Kt[50+T_after]"
   ]
  },
  {
   "cell_type": "code",
   "execution_count": null,
   "metadata": {},
   "outputs": [],
   "source": [
    "plt.figure()\n",
    "plt.hist(et_states, weights=et_prob, bins=100, density=False)\n",
    "plt.title('Figure 3: Emission histogram ('+str(T_after)+r' years after $y$ reaching 1.5)')\n",
    "plt.ylabel('Probability')\n",
    "plt.savefig('fig_3.pdf')\n",
    "\n",
    "plt.figure()\n",
    "plt.hist(η*(0.025)*Kt_fixed/((1.-η)*et_states)*1000, weights=et_prob, bins=100, density=False)\n",
    "plt.title(r'Figure 4: SCC histogram ('+str(T_after)+r' years after $y$ reaching 1.5)')\n",
    "plt.ylabel('Probability')\n",
    "plt.savefig('fig_4.pdf')"
   ]
  },
  {
   "cell_type": "code",
   "execution_count": null,
   "metadata": {},
   "outputs": [],
   "source": [
    "# Compute probabilities\n",
    "T_after = 20\n",
    "et_states, et_prob = compute_prob(et[:, 50+T_after])\n",
    "Kt_fixed = Kt[50+T_after]"
   ]
  },
  {
   "cell_type": "code",
   "execution_count": null,
   "metadata": {
    "scrolled": false
   },
   "outputs": [],
   "source": [
    "import pandas as pd\n",
    "df = pd.DataFrame({'emission state': et_states,\n",
    "              'SCC state': η*(0.025)*Kt_fixed/((1.-η)*et_states)*1000, \n",
    "              'probability': et_prob})\n",
    "df[-30:]"
   ]
  },
  {
   "cell_type": "code",
   "execution_count": null,
   "metadata": {
    "scrolled": true
   },
   "outputs": [],
   "source": [
    "yt_no_jump[55], yt_no_jump[60], yt_no_jump[65], yt_no_jump[70]"
   ]
  },
  {
   "cell_type": "code",
   "execution_count": null,
   "metadata": {},
   "outputs": [],
   "source": [
    "yt_no_jump[80]"
   ]
  },
  {
   "cell_type": "markdown",
   "metadata": {},
   "source": [
    "## Old plots"
   ]
  },
  {
   "cell_type": "code",
   "execution_count": null,
   "metadata": {
    "scrolled": true
   },
   "outputs": [],
   "source": [
    "plt.plot(y_grid_short[40:], model_res['πd'][0][40:], label='low damage')\n",
    "plt.plot(y_grid_short[40:], model_res['πd'][1][40:], label='high damage')\n",
    "plt.plot(y_grid_short[40:], model_res['πd'][2][40:], label='extreme damage')\n",
    "plt.legend(frameon=False)\n",
    "plt.ylim(0, 1)"
   ]
  },
  {
   "cell_type": "code",
   "execution_count": null,
   "metadata": {},
   "outputs": [],
   "source": [
    "plt.plot(y_grid_short, model_res['e_tilde'])\n",
    "plt.title('Figure 1: Emission')\n",
    "plt.xlabel('y')\n",
    "plt.savefig('fig_1.pdf')"
   ]
  },
  {
   "cell_type": "code",
   "execution_count": null,
   "metadata": {},
   "outputs": [],
   "source": [
    "plt.plot(y_grid_short, model_res['v0_dy'])\n",
    "plt.title(r'Figure 2: $\\frac{d\\phi}{dy}(y)$')\n",
    "plt.xlabel('y')\n",
    "plt.savefig('fig_2.pdf')"
   ]
  },
  {
   "cell_type": "code",
   "execution_count": null,
   "metadata": {},
   "outputs": [],
   "source": [
    "plt.plot(y_grid_short, model_res['intensity'])\n",
    "plt.title('Figure 3: Intensity')\n",
    "plt.xlabel('y')\n",
    "plt.savefig('fig_3.pdf')"
   ]
  },
  {
   "cell_type": "code",
   "execution_count": null,
   "metadata": {},
   "outputs": [],
   "source": [
    "plt.plot(y_grid_short, model_res['v0'])\n",
    "plt.title(r'Figure 4: Value function $\\phi(y)$')\n",
    "plt.xlabel('y')\n",
    "plt.savefig('fig_4.pdf')"
   ]
  },
  {
   "cell_type": "code",
   "execution_count": null,
   "metadata": {},
   "outputs": [],
   "source": [
    "et, yt, ht, gt = simulation(model_res['y_grid'], model_res['e_tilde'], model_res['h'], model_res['g'],\n",
    "                            θ=np.mean(model_res['θ']), y_start=1.1, T=89)"
   ]
  },
  {
   "cell_type": "code",
   "execution_count": null,
   "metadata": {},
   "outputs": [],
   "source": [
    "plt.plot(et)"
   ]
  },
  {
   "cell_type": "code",
   "execution_count": null,
   "metadata": {},
   "outputs": [],
   "source": [
    "# Compute model high/extreme at 1.6, 1.8, 2.0\n",
    "model_args_high_new = []\n",
    "model_args_extreme_new = []\n",
    "\n",
    "for y_jump in [1.6, 1.8, 2.0]:\n",
    "    model_paras_high = (η, δ, θ, πc_o, σ_y, ξ_w, ξ_a, γ_1, γ_2, γ_2p[1], y_jump)\n",
    "    model_paras_extreme = (η, δ, θ, πc_o, σ_y, ξ_w, ξ_a, γ_1, γ_2, γ_2p[2], y_jump)\n",
    "    model_args_high_new.append((np.arange(0., y_bar_upper*2, .01), model_paras_high, None, ϵ, 1e-8, 5000, False))\n",
    "    model_args_extreme_new.append((np.arange(0., y_bar_upper*2, .01), model_paras_extreme, None, ϵ, 1e-8, 5000, False))\n",
    "\n",
    "print('----- Solving high damage models -----')\n",
    "model_high_list_new = ode_y_parallel(model_args_high_new)\n",
    "print('----- Solving extreme damage models -----')\n",
    "model_extreme_list_new = ode_y_parallel(model_args_extreme_new)"
   ]
  },
  {
   "cell_type": "code",
   "execution_count": null,
   "metadata": {},
   "outputs": [],
   "source": [
    "et_low, _, _, _ = simulation(model_low['y_grid'], model_low['e_tilde'], model_low['h'],\n",
    "                                 np.array([np.zeros_like(model_low['h']), np.zeros_like(model_low['h'])]),\n",
    "                                 θ=np.mean(model_res['θ']), y_start=1.1, T=89)"
   ]
  },
  {
   "cell_type": "code",
   "execution_count": null,
   "metadata": {},
   "outputs": [],
   "source": [
    "et_high_16, _, _, _ = simulation(model_high_list_new[0]['y_grid'], model_high_list_new[0]['e_tilde'], model_high_list_new[0]['h'],\n",
    "                                 np.array([np.zeros_like(model_high_list_new[0]['h']), np.zeros_like(model_high_list_new[0]['h'])]),\n",
    "                                 θ=np.mean(model_res['θ']), y_start=1.1, T=89)"
   ]
  },
  {
   "cell_type": "code",
   "execution_count": null,
   "metadata": {},
   "outputs": [],
   "source": [
    "et_high_18, _, _, _ = simulation(model_high_list_new[1]['y_grid'], model_high_list_new[1]['e_tilde'], model_high_list_new[1]['h'],\n",
    "                                 np.array([np.zeros_like(model_high_list_new[1]['h']), np.zeros_like(model_high_list_new[1]['h'])]),\n",
    "                                 θ=np.mean(model_res['θ']), y_start=1.1, T=89)"
   ]
  },
  {
   "cell_type": "code",
   "execution_count": null,
   "metadata": {},
   "outputs": [],
   "source": [
    "et_high_20, _, _, _ = simulation(model_high_list_new[2]['y_grid'], model_high_list_new[2]['e_tilde'], model_high_list_new[2]['h'],\n",
    "                                 np.array([np.zeros_like(model_high_list_new[2]['h']), np.zeros_like(model_high_list_new[2]['h'])]),\n",
    "                                 θ=np.mean(model_res['θ']), y_start=1.1, T=89)"
   ]
  },
  {
   "cell_type": "code",
   "execution_count": null,
   "metadata": {},
   "outputs": [],
   "source": [
    "et_extreme_16, _, _, _ = simulation(model_extreme_list_new[0]['y_grid'], model_extreme_list_new[0]['e_tilde'], model_extreme_list_new[0]['h'],\n",
    "                                 np.array([np.zeros_like(model_extreme_list_new[0]['h']), np.zeros_like(model_extreme_list_new[0]['h'])]),\n",
    "                                 θ=np.mean(model_res['θ']), y_start=1.1, T=89)"
   ]
  },
  {
   "cell_type": "code",
   "execution_count": null,
   "metadata": {},
   "outputs": [],
   "source": [
    "et_extreme_18, _, _, _ = simulation(model_extreme_list_new[1]['y_grid'], model_extreme_list_new[1]['e_tilde'], model_extreme_list_new[1]['h'],\n",
    "                                 np.array([np.zeros_like(model_extreme_list_new[1]['h']), np.zeros_like(model_extreme_list_new[1]['h'])]),\n",
    "                                 θ=np.mean(model_res['θ']), y_start=1.1, T=89)"
   ]
  },
  {
   "cell_type": "code",
   "execution_count": null,
   "metadata": {},
   "outputs": [],
   "source": [
    "et_extreme_20, _, _, _ = simulation(model_extreme_list_new[2]['y_grid'], model_extreme_list_new[2]['e_tilde'], model_extreme_list_new[2]['h'],\n",
    "                                 np.array([np.zeros_like(model_extreme_list_new[2]['h']), np.zeros_like(model_extreme_list_new[2]['h'])]),\n",
    "                                 θ=np.mean(model_res['θ']), y_start=1.1, T=89)"
   ]
  },
  {
   "cell_type": "code",
   "execution_count": null,
   "metadata": {},
   "outputs": [],
   "source": [
    "plt.plot(et_low)\n",
    "plt.plot(et_high_16)\n",
    "plt.plot(et_extreme_16)"
   ]
  },
  {
   "cell_type": "code",
   "execution_count": null,
   "metadata": {},
   "outputs": [],
   "source": [
    "fig, (ax1, ax2, ax3) = plt.subplots(1, 3, figsize=(18,5))\n",
    "ax1.plot(et, label='with jump uncertainty', linewidth=2.5)\n",
    "ax1.set_xlabel('Years', fontsize=13)\n",
    "ax1.set_ylabel('Emission', fontsize=13)\n",
    "ax1.legend(frameon=False, loc = 'upper left')\n",
    "ax1.set_ylim(0, 16)\n",
    "ax1.set_xlim(0, 90)\n",
    "\n",
    "ax2.plot(et_low, label='low damage', linewidth=2.5)\n",
    "ax2.plot(et_high_16, label=r'high damage, jump at $\\bar{y} = 1.6$', linewidth=2.5)\n",
    "ax2.plot(et_extreme_16, label=r'extreme damage, jump at $\\bar{y} = 1.6$', linewidth=2.5)\n",
    "ax2.set_xlabel('Years', fontsize=13)\n",
    "ax2.set_ylabel('Emission', fontsize=13)\n",
    "ax2.legend(frameon=False, loc = 'upper left')\n",
    "ax2.set_ylim(0, 16)\n",
    "ax2.set_xlim(0, 90)\n",
    "\n",
    "ax3.plot(et_low, label='low damage', linewidth=2.5)\n",
    "ax3.plot(et_high_20, label=r'high damage, jump at $\\bar{y} = 2.0$', linewidth=2.5)\n",
    "ax3.plot(et_extreme_20, label=r'extreme damage, jump at $\\bar{y} = 2.0$', linewidth=2.5)\n",
    "ax3.set_xlabel('Years', fontsize=13)\n",
    "ax3.set_ylabel('Emission', fontsize=13)\n",
    "ax3.legend(frameon=False, loc = 'upper left')\n",
    "ax3.set_ylim(0, 16)\n",
    "ax3.set_xlim(0, 90)\n",
    "\n",
    "fig.suptitle('Figure 1: Emission', fontsize=13)\n",
    "fig.savefig('fig_1.pdf')"
   ]
  },
  {
   "cell_type": "code",
   "execution_count": null,
   "metadata": {},
   "outputs": [],
   "source": [
    "# Simulate capital process\n",
    "# Capital and z parameters\n",
    "α_k = -0.043\n",
    "β_k = 0.04\n",
    "σ_k = np.array([0.477*2, 0])/100.\n",
    "β_z = 0.014*4\n",
    "σ_z = np.array([0.011*2, 0.025*2])\n",
    "α = 0.115\n",
    "ioverk = 0.09\n",
    "κ = 6.667\n",
    "\n",
    "\n",
    "@njit(parallel=True)\n",
    "def simulate_capital(α_k, β_k, σ_k, β_z, σ_z, ioverk, κ, Ws, k_start, N=100_000, T=100, dt=1.):\n",
    "    var_z = dt*σ_z@σ_z/(1-(1-β_z*dt)**2)\n",
    "    std_z = np.sqrt(var_z)\n",
    "\n",
    "    time_periods = int(T/dt)\n",
    "    z_path = np.zeros((N, time_periods+1))\n",
    "    k_path = np.zeros((N, time_periods+1))\n",
    "    for i in range(N):\n",
    "        z0 = np.random.normal(0.,std_z)\n",
    "        k0 = k_start\n",
    "        z_path[i, 0] = z0\n",
    "        k_path[i, 0] = k0\n",
    "        for j in range(1, time_periods+1):\n",
    "            k1 = k0 + (α_k + β_k*z0 + ioverk - κ/2.*ioverk**2 - σ_k@σ_k/2.)*dt + σ_k@Ws[i, j]*np.sqrt(dt)\n",
    "            z1 = (1.-β_z*dt)*z0 + σ_z@Ws[i, j]*np.sqrt(dt)\n",
    "            k_path[i, j] = k1\n",
    "            z_path[i, j] = z1\n",
    "            k0 = k1\n",
    "            z0 = z1\n",
    "    return k_path\n",
    "\n",
    "T = 100\n",
    "N = 1_000_000\n",
    "dt = 1.\n",
    "k_start = np.log(80/α)\n",
    "η = .032\n",
    "Ws = np.random.multivariate_normal(np.zeros(2), np.eye(2), (N, int(T/dt)))\n",
    "logk_path = simulate_capital(α_k, β_k, σ_k, β_z, σ_z, ioverk, κ, Ws, k_start, N=N, T=T, dt=dt)\n",
    "Kt = np.percentile(np.exp(logk_path), 50, axis=0)"
   ]
  },
  {
   "cell_type": "code",
   "execution_count": null,
   "metadata": {},
   "outputs": [],
   "source": [
    "SCC = η*(0.025)*Kt/((1.-η)*et) * 1000\n",
    "SCC_low = η*(0.025)*Kt/((1.-η)*et_low) * 1000\n",
    "SCC_high_16 = η*(0.025)*Kt/((1.-η)*et_high_16) * 1000\n",
    "SCC_high_18 = η*(0.025)*Kt/((1.-η)*et_high_18) * 1000\n",
    "SCC_high_20 = η*(0.025)*Kt/((1.-η)*et_high_20) * 1000\n",
    "SCC_extreme_16 = η*(0.025)*Kt/((1.-η)*et_extreme_16) * 1000\n",
    "SCC_extreme_18 = η*(0.025)*Kt/((1.-η)*et_extreme_18) * 1000\n",
    "SCC_extreme_20 = η*(0.025)*Kt/((1.-η)*et_extreme_20) * 1000"
   ]
  },
  {
   "cell_type": "code",
   "execution_count": null,
   "metadata": {
    "scrolled": true
   },
   "outputs": [],
   "source": [
    "fig, (ax1, ax2, ax3) = plt.subplots(1, 3, figsize=(18,5))\n",
    "ax1.plot(SCC, label='with jump uncertainty', linewidth=2.5)\n",
    "ax1.set_xlabel('Years', fontsize=13)\n",
    "ax1.set_ylabel('SCC', fontsize=13)\n",
    "ax1.legend(frameon=False, loc = 'upper left')\n",
    "ax1.set_ylim(0, 2000)\n",
    "ax1.set_xlim(0, 90)\n",
    "\n",
    "ax2.plot(SCC_low, label='low damage', linewidth=2.5)\n",
    "ax2.plot(SCC_high_16, label=r'high damage, jump at $\\bar{y} = 1.6$', linewidth=2.5)\n",
    "ax2.plot(SCC_extreme_16, label=r'extreme damage, jump at $\\bar{y} = 1.6$', linewidth=2.5)\n",
    "ax2.set_xlabel('Years', fontsize=13)\n",
    "ax2.set_ylabel('SCC', fontsize=13)\n",
    "ax2.legend(frameon=False, loc = 'upper left')\n",
    "ax2.set_ylim(0, 2000)\n",
    "ax2.set_xlim(0, 90)\n",
    "\n",
    "ax3.plot(SCC_low, label='low damage', linewidth=2.5)\n",
    "ax3.plot(SCC_high_20, label=r'high damage, jump at $\\bar{y} = 2.0$', linewidth=2.5)\n",
    "ax3.plot(SCC_extreme_20, label=r'extreme damage, jump at $\\bar{y} = 2.0$', linewidth=2.5)\n",
    "ax3.set_xlabel('Years', fontsize=13)\n",
    "ax3.set_ylabel('SCC', fontsize=13)\n",
    "ax3.legend(frameon=False, loc = 'upper left')\n",
    "ax3.set_ylim(0, 2000)\n",
    "ax3.set_xlim(0, 90)\n",
    "\n",
    "fig.suptitle('Figure 2: SCC', fontsize=13)\n",
    "fig.savefig('fig_2.pdf')"
   ]
  },
  {
   "cell_type": "code",
   "execution_count": null,
   "metadata": {},
   "outputs": [],
   "source": []
  }
 ],
 "metadata": {
  "kernelspec": {
   "display_name": "Python 3",
   "language": "python",
   "name": "python3"
  },
  "language_info": {
   "codemirror_mode": {
    "name": "ipython",
    "version": 3
   },
   "file_extension": ".py",
   "mimetype": "text/x-python",
   "name": "python",
   "nbconvert_exporter": "python",
   "pygments_lexer": "ipython3",
   "version": "3.8.5"
  }
 },
 "nbformat": 4,
 "nbformat_minor": 4
}
