{
 "cells": [
  {
   "cell_type": "code",
   "execution_count": null,
   "metadata": {},
   "outputs": [],
   "source": [
    "import os, sys\n",
    "sys.path.append(os.path.dirname(os.getcwd()) + '/source')\n",
    "\n",
    "from model import ode_y_parallel\n",
    "from utilities import find_nearest_value, compute_derivatives\n",
    "from solver import false_transient_one_iteration_python\n",
    "from numba import njit\n",
    "import numpy as np\n",
    "import pandas as pd\n",
    "\n",
    "import matplotlib.pyplot as plt\n",
    "import matplotlib as mpl\n",
    "mpl.rcParams['axes.spines.right'] = False\n",
    "mpl.rcParams['axes.spines.top'] = False"
   ]
  },
  {
   "cell_type": "markdown",
   "metadata": {},
   "source": [
    "## Settings"
   ]
  },
  {
   "cell_type": "code",
   "execution_count": null,
   "metadata": {},
   "outputs": [],
   "source": [
    "# Intensity parameter\n",
    "τ = .25\n",
    "r1 = 5.\n",
    "r0 = 1.\n",
    "\n",
    "# Robustness parameters\n",
    "ξ_b = 100000.\n",
    "ξ_p = 100000.\n",
    "ξ_a = 100000.\n",
    "\n",
    "# Damage setting\n",
    "n_model = 40\n",
    "damage_setting={'γ_2p': np.linspace(0, 1./3, n_model),\n",
    "                'πd_o': np.ones(n_model)/n_model}\n",
    "\n",
    "# Model parameters\n",
    "η = .032\n",
    "δ = .01\n",
    "\n",
    "θ = pd.read_csv('../data/model144.csv', header=None).to_numpy()[:, 0]/1000.\n",
    "πc_o = np.ones_like(θ)/len(θ)\n",
    "σ_y = 1.2*np.mean(θ)\n",
    "\n",
    "γ_1 = 1.7675/10000\n",
    "γ_2 = .0022*2\n",
    "γ_2p = damage_setting['γ_2p']\n",
    "πd_o = damage_setting['πd_o']\n",
    "\n",
    "y_bar_upper = 2.0\n",
    "y_bar_lower = 1.5\n",
    "\n",
    "# Grid setting\n",
    "ϵ = 2.\n",
    "y_step = .02\n",
    "y_grid_long = np.arange(0., y_bar_upper*2+y_step, y_step)\n",
    "y_grid_short = np.arange(0., y_bar_upper+y_step, y_step)\n",
    "y_bar_lower_loc = find_nearest_value(y_grid_short, y_bar_lower)\n",
    "y_bar_upper_loc = find_nearest_value(y_grid_long, y_bar_upper)\n",
    "y_grid_tilde = y_grid_short[y_bar_lower_loc: y_bar_upper_loc+1]"
   ]
  },
  {
   "cell_type": "markdown",
   "metadata": {},
   "source": [
    "## Solve post jump HJBs"
   ]
  },
  {
   "cell_type": "code",
   "execution_count": null,
   "metadata": {},
   "outputs": [],
   "source": [
    "# Parallelly solve ODE\n",
    "model_args_list = []\n",
    "model_list = []\n",
    "\n",
    "for i in range(n_model):\n",
    "    temp_list = []\n",
    "    for y_jump in y_grid_tilde:\n",
    "        temp = (η, δ, θ, πc_o, σ_y, ξ_b, ξ_a, γ_1, γ_2, γ_2p[i], y_jump)\n",
    "        temp_list.append((y_grid_long, temp, None, ϵ, 1e-5, 2000, False))\n",
    "    model_args_list.append(temp_list)\n",
    "\n",
    "for i in range(n_model):\n",
    "    print('-----Solving model ' + str(i) + '-----')\n",
    "    temp_res = ode_y_parallel(model_args_list[i])\n",
    "    model_list.append(temp_res)"
   ]
  },
  {
   "cell_type": "markdown",
   "metadata": {},
   "source": [
    "## Prepare $\\phi_m$"
   ]
  },
  {
   "cell_type": "code",
   "execution_count": null,
   "metadata": {},
   "outputs": [],
   "source": [
    "# Prepare ϕ_m\n",
    "ϕ_m = np.zeros((n_model, len(y_grid_short)))\n",
    "e_m = np.zeros((n_model, len(y_grid_short)))\n",
    "for i in range(len(y_grid_tilde)):\n",
    "    for j in range(n_model):\n",
    "        ϕ_m[j, y_bar_lower_loc+i] = model_list[j][i]['v0'][y_bar_lower_loc+i]\n",
    "        e_m[j, y_bar_lower_loc+i] = model_list[j][i]['e_tilde'][y_bar_lower_loc+i]\n",
    "\n",
    "# Prepare v_guess\n",
    "v_guess = np.average(np.array([model_list[0][-1]['v0'][:y_bar_upper_loc+1],\n",
    "                               model_list[-1][-1]['v0'][:y_bar_upper_loc+1]]),\n",
    "                     weights=np.array([0.5, 0.5]), axis=0)"
   ]
  },
  {
   "cell_type": "markdown",
   "metadata": {},
   "source": [
    "## Solve pre jump HJB"
   ]
  },
  {
   "cell_type": "code",
   "execution_count": null,
   "metadata": {},
   "outputs": [],
   "source": [
    "def ode_y_jump_intensity_approach(y_grid, model_paras=(), v0=None, ϵ=.5, tol=1e-8,\n",
    "                                     max_iter=10_000, print_all=True):\n",
    "    η, δ, θ, πc_o, σ_y, ξ_1m, ξ_2m, ξ_a, γ_1, γ_2, y_bar_lower, y_bar_upper, ϕ_i, πd_o, r0, r1, τ = model_paras\n",
    "    Δ_y = y_grid[1] - y_grid[0]\n",
    "\n",
    "    if v0 is None:\n",
    "        v0 = - η * (y_grid + y_grid**2)\n",
    "\n",
    "    d_Λ = γ_1 + γ_2*y_grid\n",
    "    dd_Λ = γ_2\n",
    "\n",
    "    πd = np.ones((len(πd_o), len(y_grid)))\n",
    "    for i in range(πd.shape[0]):\n",
    "        πd[i] = πd_o[i]\n",
    "    πd_o = πd\n",
    "\n",
    "    πc = np.ones((len(πc_o), len(y_grid)))\n",
    "    θ_reshape = np.ones_like(πc)\n",
    "    for i in range(πc.shape[0]):\n",
    "        πc[i] = πc_o[i]\n",
    "        θ_reshape[i] = θ[i]\n",
    "    πc_o = πc.copy()\n",
    "    θ = θ_reshape\n",
    "\n",
    "    intensity = r0 * (np.exp(r1 / 2. * (y_grid-y_bar_lower)**2) - 1.) * (y_grid >= y_bar_lower)\\\n",
    "                + 0 * (y_grid < y_bar_lower)\n",
    "\n",
    "    bc = -ξ_2m * np.log(np.sum(πd_o[:, -1] * np.exp(-1./ξ_2m * ϕ_i[:, -1])))\n",
    "\n",
    "    e_tilde = 0.\n",
    "    \n",
    "    count = 0\n",
    "    error = 1.\n",
    "\n",
    "    while error > tol and count < max_iter:\n",
    "        v_old = v0.copy()\n",
    "        e_tilde_old = e_tilde\n",
    "\n",
    "        v0_dy = compute_derivatives(v0, 1, Δ_y, central_diff=False)\n",
    "        v0_dyy = compute_derivatives(v0, 2, Δ_y)\n",
    "\n",
    "        G = v0_dy + (η-1)/δ*d_Λ\n",
    "\n",
    "        if σ_y == 0:\n",
    "            e_tilde = -η/(G*np.sum(πc*θ, axis=0))\n",
    "        else:\n",
    "            temp = σ_y**2*(v0_dyy+(η-1.)/δ*dd_Λ-G**2/ξ_1m)\n",
    "            root = np.sum(πc*θ, axis=0)**2*G**2 - 4*η*temp\n",
    "            root[root<0] = 0.\n",
    "            e_tilde = (-G*np.sum(πc*θ, axis=0) - np.sqrt(root)) / (2*temp)\n",
    "\n",
    "        e_tilde[e_tilde<=0] = 1e-16\n",
    "        e_tilde = e_tilde *.99 + e_tilde_old*.01\n",
    " \n",
    "        log_πc_ratio = -G*e_tilde*θ/ξ_a\n",
    "        πc_ratio = log_πc_ratio - np.max(log_πc_ratio, axis=0)\n",
    "        πc = np.exp(πc_ratio) * πc_o\n",
    "        πc = πc/np.sum(πc, axis=0)\n",
    "        πc[πc<=0] = 1e-16        \n",
    "        c_entropy = np.sum(πc*(np.log(πc)-np.log(πc_o)), axis=0)\n",
    "\n",
    "        g = np.exp(1. / ξ_2m * (v0 - ϕ_i))\n",
    "\n",
    "        A = np.ones_like(y_grid)*(-δ) - intensity * np.sum(πd_o * g, axis=0)\n",
    "        B = e_tilde * np.sum(πc*θ, axis=0)\n",
    "        C = .5 * σ_y**2 * e_tilde**2\n",
    "        D = η*np.log(e_tilde) - C*G**2/ξ_1m + (η-1)/δ*d_Λ*e_tilde*np.sum(πc*θ, axis=0)\\\n",
    "            + .5*(η-1)/δ*dd_Λ*σ_y**2*e_tilde**2 + ξ_a*c_entropy\\\n",
    "            + ξ_2m * intensity * np.sum(πd_o * (1 - g + g * np.log(g)), axis=0)\\\n",
    "            + intensity * np.sum(πd_o * g * ϕ_i, axis=0)\n",
    "\n",
    "        v0 = false_transient_one_iteration_python(A, B, C, D, v0, ε, Δ_y, (0, bc), (False, True))\n",
    "\n",
    "        rhs_error = A*v0 + B*v0_dy + C*v0_dyy + D\n",
    "        rhs_error = np.max(abs(rhs_error))\n",
    "        lhs_error = np.max(abs((v0 - v_old)/ϵ))\n",
    "        error = lhs_error\n",
    "        count += 1\n",
    "        if print_all:\n",
    "            print(\"Iteration %s: LHS Error: %s; RHS Error %s\" % (count, lhs_error, rhs_error))\n",
    "\n",
    "    h = -(v0_dy+(η-1)/δ*d_Λ)*e_tilde*σ_y/ξ_1m\n",
    "    πd = g / np.sum(πd_o * g, axis=0) * πd_o\n",
    "    \n",
    "    \n",
    "    print(\"Converged. Total iteration %s: LHS Error: %s; RHS Error %s\" % (count, lhs_error, rhs_error))     \n",
    "    res = {'v0': v0,\n",
    "           'v0_dy': v0_dy,\n",
    "           'v0_dyy': v0_dyy,\n",
    "           'e_tilde': e_tilde,\n",
    "           'y_grid': y_grid,\n",
    "           'intensity': intensity,\n",
    "           'πc': πc,\n",
    "           'πd': πd,\n",
    "           'g': g,\n",
    "           'h': h,\n",
    "           'θ': θ[:, 0],\n",
    "           'σ_y': σ_y}\n",
    "    return res"
   ]
  },
  {
   "cell_type": "code",
   "execution_count": null,
   "metadata": {},
   "outputs": [],
   "source": [
    "model_paras = (η, δ, θ, πc_o, σ_y, ξ_b, ξ_p, ξ_a, γ_1, γ_2, y_bar_lower, y_bar_upper, ϕ_m, πd_o, r0, r1, τ)\n",
    "model_res = ode_y_jump_intensity_approach(y_grid_short, model_paras=model_paras, v0=v_guess, ϵ=2.,\n",
    "                                          tol=1e-5, max_iter=5000, print_all=True)"
   ]
  },
  {
   "cell_type": "code",
   "execution_count": null,
   "metadata": {},
   "outputs": [],
   "source": [
    "plt.plot(y_grid_short, model_res['v0'])"
   ]
  },
  {
   "cell_type": "code",
   "execution_count": null,
   "metadata": {},
   "outputs": [],
   "source": [
    "plt.plot(y_grid_short, model_res['v0_dy'])"
   ]
  },
  {
   "cell_type": "code",
   "execution_count": null,
   "metadata": {},
   "outputs": [],
   "source": [
    "plt.plot(y_grid_short, model_res['e_tilde'])"
   ]
  }
 ],
 "metadata": {
  "kernelspec": {
   "display_name": "Python 3",
   "language": "python",
   "name": "python3"
  },
  "language_info": {
   "codemirror_mode": {
    "name": "ipython",
    "version": 3
   },
   "file_extension": ".py",
   "mimetype": "text/x-python",
   "name": "python",
   "nbconvert_exporter": "python",
   "pygments_lexer": "ipython3",
   "version": "3.8.5"
  }
 },
 "nbformat": 4,
 "nbformat_minor": 4
}
