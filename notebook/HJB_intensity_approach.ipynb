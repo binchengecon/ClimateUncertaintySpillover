{
 "cells": [
  {
   "cell_type": "code",
   "execution_count": 1,
   "metadata": {},
   "outputs": [],
   "source": [
    "import os, sys\n",
    "sys.path.append(os.path.dirname(os.getcwd()) + '/source')\n",
    "\n",
    "from model import ode_y, ode_y_parallel\n",
    "from simulation import simulation\n",
    "from utilities import find_nearest_value, compute_derivatives\n",
    "from solver import false_transient_one_iteration_python\n",
    "from numba import njit\n",
    "import numpy as np\n",
    "import pandas as pd\n",
    "import matplotlib.pyplot as plt\n",
    "import matplotlib as mpl\n",
    "mpl.rcParams['axes.spines.right'] = False\n",
    "mpl.rcParams['axes.spines.top'] = False"
   ]
  },
  {
   "cell_type": "markdown",
   "metadata": {},
   "source": [
    "## Solve HJB"
   ]
  },
  {
   "cell_type": "code",
   "execution_count": 2,
   "metadata": {},
   "outputs": [],
   "source": [
    "# Intensity parameter\n",
    "τ = 1.\n",
    "\n",
    "r1 = 19.5001\n",
    "# r0 = 1.0957\n",
    "r0 = .25\n",
    "\n",
    "# Robustness parameters\n",
    "ξ_w = 100000.\n",
    "ξ_p = 5.\n",
    "ξ_a = 1./100\n",
    "\n",
    "damage_setting={'γ_2p': np.array([0, .0197*2, .3853*2]),\n",
    "                'πd_o': np.array([1./3, 1./3, 1./3])}\n",
    "\n",
    "# Model parameters\n",
    "η = .032\n",
    "δ = .01\n",
    "\n",
    "θ = pd.read_csv('../data/model144.csv', header=None).to_numpy()[:, 0]/1000.\n",
    "πc_o = np.ones_like(θ)/len(θ)\n",
    "σ_y = 1.2*np.mean(θ)\n",
    "\n",
    "γ_1 = 1.7675/10000\n",
    "γ_2 = .0022*2\n",
    "γ_2p = damage_setting['γ_2p']\n",
    "πd_o = damage_setting['πd_o']\n",
    "\n",
    "y_bar_upper = 2.0\n",
    "y_bar_lower = 1.5\n",
    "\n",
    "# Grid setting\n",
    "ϵ = 1.\n",
    "y_step = .02\n",
    "y_grid_long = np.arange(0., y_bar_upper*2, y_step)\n",
    "y_grid_short = np.arange(0., y_bar_upper, y_step)\n",
    "y_bar_lower_loc = find_nearest_value(y_grid_short, y_bar_lower)\n",
    "y_bar_upper_loc = find_nearest_value(y_grid_long, y_bar_upper)\n",
    "y_grid_tilde = y_grid_short[y_bar_lower_loc: y_bar_upper_loc]"
   ]
  },
  {
   "cell_type": "code",
   "execution_count": 3,
   "metadata": {},
   "outputs": [
    {
     "name": "stdout",
     "output_type": "stream",
     "text": [
      "----- Solving low damage model -----\n",
      "Converged. Total iteration 5000: LHS Error: 4.183515303690655e-05; RHS Error 9.117047385512334e-05\n",
      "----- Solving high damage models -----\n",
      "----- Solving extreme damage models -----\n"
     ]
    }
   ],
   "source": [
    "# Parallelly solve ODE\n",
    "model_args_low = []\n",
    "model_args_high = []\n",
    "model_args_extreme = []\n",
    "\n",
    "model_paras_low = (η, δ, θ, πc_o, σ_y, ξ_w, ξ_a, γ_1, γ_2, γ_2p[0], y_bar_upper)\n",
    "\n",
    "for y_jump in y_grid_tilde:\n",
    "    model_paras_high = (η, δ, θ, πc_o, σ_y, ξ_w, ξ_a, γ_1, γ_2, γ_2p[1], y_jump)\n",
    "    model_paras_extreme = (η, δ, θ, πc_o, σ_y, ξ_w, ξ_a, γ_1, γ_2, γ_2p[2], y_jump)\n",
    "    model_args_high.append((y_grid_long, model_paras_high, None, ϵ, 1e-8, 5000, False))\n",
    "    model_args_extreme.append((y_grid_long, model_paras_extreme, None, ϵ, 1e-8, 5000, False))\n",
    "\n",
    "print('----- Solving low damage model -----')\n",
    "model_low = ode_y(y_grid_long, model_paras_low, None, ϵ, 1e-8, 5000, False)\n",
    "print('----- Solving high damage models -----')\n",
    "model_high_list = ode_y_parallel(model_args_high)\n",
    "print('----- Solving extreme damage models -----')\n",
    "model_extreme_list = ode_y_parallel(model_args_extreme)"
   ]
  },
  {
   "cell_type": "code",
   "execution_count": 4,
   "metadata": {},
   "outputs": [],
   "source": [
    "# Prepare ϕ_m\n",
    "ϕ_m = np.zeros((3, len(y_grid_short)))\n",
    "for i in range(len(y_grid_tilde)):\n",
    "    ϕ_m[0, y_bar_lower_loc+i] = model_low['v0'][y_bar_lower_loc+i]\n",
    "    ϕ_m[1, y_bar_lower_loc+i] = model_high_list[i]['v0'][y_bar_lower_loc+i]\n",
    "    ϕ_m[2, y_bar_lower_loc+i] = model_extreme_list[i]['v0'][y_bar_lower_loc+i]"
   ]
  },
  {
   "cell_type": "code",
   "execution_count": 5,
   "metadata": {},
   "outputs": [],
   "source": [
    "temp_1 = model_low['v0'][:y_bar_upper_loc]\n",
    "temp_2 = model_high_list[-1]['v0'][:y_bar_upper_loc]\n",
    "temp_3 = model_extreme_list[-1]['v0'][:y_bar_upper_loc]\n",
    "v_guess = np.average(np.array([temp_1, temp_2, temp_3]), weights=πd_o, axis=0)"
   ]
  },
  {
   "cell_type": "code",
   "execution_count": 6,
   "metadata": {},
   "outputs": [],
   "source": [
    "def ode_y_jump_intensity_approach(y_grid, model_paras=(), v0=None, ϵ=.5, tol=1e-8,\n",
    "                                     max_iter=10_000, print_all=True):\n",
    "    η, δ, θ, πc_o, σ_y, ξ_1m, ξ_2m, ξ_a, γ_1, γ_2, y_bar_lower, y_bar_upper, ϕ_i, πd_o, r0, r1, τ = model_paras\n",
    "    Δ_y = y_grid[1] - y_grid[0]\n",
    "\n",
    "    if v0 is None:\n",
    "        v0 = -η*(y_grid+y_grid**2)\n",
    "\n",
    "    d_Λ = γ_1 + γ_2*y_grid\n",
    "    dd_Λ = γ_2\n",
    "\n",
    "    πd = np.ones((len(πd_o), len(y_grid)))\n",
    "    for i in range(πd.shape[0]):\n",
    "        πd[i] = πd_o[i]\n",
    "    πd_o = πd\n",
    "\n",
    "    πc = np.ones((len(πc_o), len(y_grid)))\n",
    "    θ_reshape = np.ones_like(πc)\n",
    "    for i in range(πc.shape[0]):\n",
    "        πc[i] = πc_o[i]\n",
    "        θ_reshape[i] = θ[i]\n",
    "    πc_o = πc.copy()\n",
    "    θ = θ_reshape\n",
    "\n",
    "    intensity = - r0 * (np.exp(- r1 / 2. * (y_grid-y_bar_lower)**2) - 1.) * (y_grid >= y_bar_lower)\\\n",
    "                + 0 * (y_grid < y_bar_lower)\n",
    "\n",
    "    e_tilde = 0.\n",
    "    \n",
    "    count = 0\n",
    "    error = 1.\n",
    "\n",
    "    while error > tol and count < max_iter:\n",
    "        v_old = v0.copy()\n",
    "        e_tilde_old = e_tilde\n",
    "\n",
    "        v0_dy = compute_derivatives(v0, 1, Δ_y, central_diff=False)\n",
    "        v0_dyy = compute_derivatives(v0, 2, Δ_y)\n",
    "\n",
    "        G = v0_dy + (η-1)/δ*d_Λ\n",
    "\n",
    "        if σ_y == 0:\n",
    "            e_tilde = -η/(G*np.sum(πc*θ, axis=0))\n",
    "        else:\n",
    "            temp = σ_y**2*(v0_dyy+(η-1.)/δ*dd_Λ-G**2/ξ_1m)\n",
    "            root = np.sum(πc*θ, axis=0)**2*G**2 - 4*η*temp\n",
    "            root[root<0] = 0.\n",
    "            e_tilde = (-G*np.sum(πc*θ, axis=0) - np.sqrt(root)) / (2*temp)\n",
    "\n",
    "        e_tilde[e_tilde<=0] = 1e-16\n",
    "        e_tilde = e_tilde *.5 + e_tilde_old*.5\n",
    " \n",
    "        log_πc_ratio = -G*e_tilde*θ/ξ_a\n",
    "        πc_ratio = log_πc_ratio - np.max(log_πc_ratio, axis=0)\n",
    "        πc = np.exp(πc_ratio) * πc_o\n",
    "        πc = πc/np.sum(πc, axis=0)\n",
    "        πc[πc<=0] = 1e-16        \n",
    "        c_entropy = np.sum(πc*(np.log(πc)-np.log(πc_o)), axis=0)\n",
    "\n",
    "        g = np.exp(1./ξ_2m*(v0-ϕ_i))\n",
    "\n",
    "        A = np.ones_like(y_grid)*(-δ)\n",
    "        B = e_tilde * np.sum(πc*θ, axis=0)\n",
    "        C = .5 * σ_y**2 * e_tilde**2\n",
    "        D = η*np.log(e_tilde) - C*G**2/ξ_1m + (η-1)/δ*d_Λ*e_tilde*np.sum(πc*θ, axis=0)\\\n",
    "            + .5*(η-1)/δ*dd_Λ*σ_y**2*e_tilde**2 + ξ_a*c_entropy\\\n",
    "            - ξ_2m * intensity * (np.sum(πd_o * np.exp(-1./ξ_2m*ϕ_i), axis=0) - np.exp(-1./ξ_2m * v0)) \\\n",
    "                / np.exp(-1./ξ_2m * v0)\n",
    "\n",
    "        v0 = false_transient_one_iteration_python(A, B, C, D, v0, ε, Δ_y, (0, 0), (False, False))\n",
    "\n",
    "        rhs_error = A*v0 + B*v0_dy + C*v0_dyy + D\n",
    "        rhs_error = np.max(abs(rhs_error))\n",
    "        lhs_error = np.max(abs((v0 - v_old)/ϵ))\n",
    "        error = lhs_error\n",
    "        count += 1\n",
    "        if print_all:\n",
    "            print(\"Iteration %s: LHS Error: %s; RHS Error %s\" % (count, lhs_error, rhs_error))\n",
    "\n",
    "    h = -(v0_dy+(η-1)/δ*d_Λ)*e_tilde*σ_y/ξ_1m\n",
    "    πd = g / np.sum(πd_o * g, axis=0) * πd_o\n",
    "    \n",
    "    \n",
    "    print(\"Converged. Total iteration %s: LHS Error: %s; RHS Error %s\" % (count, lhs_error, rhs_error))     \n",
    "    res = {'v0': v0,\n",
    "           'v0_dy': v0_dy,\n",
    "           'v0_dyy': v0_dyy,\n",
    "           'e_tilde': e_tilde,\n",
    "           'y_grid': y_grid,\n",
    "           'intensity': intensity,\n",
    "           'πc': πc,\n",
    "           'πd': πd,\n",
    "           'g': g,\n",
    "           'h': h,\n",
    "           'θ': θ[:, 0],\n",
    "           'σ_y': σ_y}\n",
    "    return res"
   ]
  },
  {
   "cell_type": "code",
   "execution_count": 7,
   "metadata": {},
   "outputs": [
    {
     "name": "stdout",
     "output_type": "stream",
     "text": [
      "Iteration 1: LHS Error: 0.26570626684948717; RHS Error 0.2657471605217373\n",
      "Iteration 2: LHS Error: 0.20337244139506794; RHS Error 0.2041323457393909\n",
      "Iteration 3: LHS Error: 0.1635999257734162; RHS Error 0.16532601852431644\n",
      "Iteration 4: LHS Error: 0.136176821735412; RHS Error 0.13872467542254374\n",
      "Iteration 5: LHS Error: 0.11687852961612566; RHS Error 0.11944125917570371\n",
      "Iteration 6: LHS Error: 0.10254592774187832; RHS Error 0.10521713688629089\n",
      "Iteration 7: LHS Error: 0.09163919649228713; RHS Error 0.09453202317147993\n",
      "Iteration 8: LHS Error: 0.08305131784388631; RHS Error 0.08627737638991927\n",
      "Iteration 9: LHS Error: 0.07630213555531751; RHS Error 0.07959319026695866\n",
      "Iteration 10: LHS Error: 0.0709107069364221; RHS Error 0.07384861719821509\n",
      "Iteration 11: LHS Error: 0.06602634622231918; RHS Error 0.06956008978592138\n",
      "Iteration 12: LHS Error: 0.06249029066239653; RHS Error 0.06544897266337435\n",
      "Iteration 13: LHS Error: 0.05896230451700801; RHS Error 0.06239043728829506\n",
      "Iteration 14: LHS Error: 0.05637392490912574; RHS Error 0.059488267002878736\n",
      "Iteration 15: LHS Error: 0.053882584870268424; RHS Error 0.056786889165312986\n",
      "Iteration 16: LHS Error: 0.051572653454218687; RHS Error 0.05482394899348783\n",
      "Iteration 17: LHS Error: 0.04989898636935508; RHS Error 0.05281911714856876\n",
      "Iteration 18: LHS Error: 0.04814581545279295; RHS Error 0.05077396477356902\n",
      "Iteration 19: LHS Error: 0.04639887173077528; RHS Error 0.04925787056455495\n",
      "Iteration 20: LHS Error: 0.0451667987342641; RHS Error 0.04791296104425694\n",
      "Iteration 21: LHS Error: 0.043952181601437434; RHS Error 0.04650790908551787\n",
      "Iteration 22: LHS Error: 0.04264372593283228; RHS Error 0.04503777177673769\n",
      "Iteration 23: LHS Error: 0.041521433108280936; RHS Error 0.0437132968895858\n",
      "Iteration 24: LHS Error: 0.040709466198823874; RHS Error 0.04280227389347678\n",
      "Iteration 25: LHS Error: 0.03991567013588293; RHS Error 0.04181836856005635\n",
      "Iteration 26: LHS Error: 0.03891071960210679; RHS Error 0.040756173459219516\n",
      "Iteration 27: LHS Error: 0.03799023084026798; RHS Error 0.039610526317283706\n",
      "Iteration 28: LHS Error: 0.03738388941641935; RHS Error 0.03837111959418574\n",
      "Iteration 29: LHS Error: 0.03669359566568198; RHS Error 0.03745272224747612\n",
      "Iteration 30: LHS Error: 0.035918886839087616; RHS Error 0.036688578876368255\n",
      "Iteration 31: LHS Error: 0.03504388789150559; RHS Error 0.03583628149490624\n",
      "Iteration 32: LHS Error: 0.03453632622098124; RHS Error 0.034885728413996064\n",
      "Iteration 33: LHS Error: 0.033965386947557574; RHS Error 0.03382404515842495\n",
      "Iteration 34: LHS Error: 0.0332600208912508; RHS Error 0.032637330077360936\n",
      "Iteration 35: LHS Error: 0.032491853980357366; RHS Error 0.03182152974270293\n",
      "Iteration 36: LHS Error: 0.032021301785438494; RHS Error 0.0310622495695299\n",
      "Iteration 37: LHS Error: 0.03149579339212316; RHS Error 0.03019676040127758\n",
      "Iteration 38: LHS Error: 0.03089076305979699; RHS Error 0.02928831636177725\n",
      "Iteration 39: LHS Error: 0.030214243044315303; RHS Error 0.028712989278451957\n",
      "Iteration 40: LHS Error: 0.029789865022933126; RHS Error 0.02815960399563957\n",
      "Iteration 41: LHS Error: 0.02928653863363362; RHS Error 0.027758249270472265\n",
      "Iteration 42: LHS Error: 0.028700987615574824; RHS Error 0.027281595524782643\n",
      "Iteration 43: LHS Error: 0.02819947282974722; RHS Error 0.026721638241765277\n",
      "Iteration 44: LHS Error: 0.02773644669397002; RHS Error 0.026325843238720555\n",
      "Iteration 45: LHS Error: 0.02722902899119095; RHS Error 0.025913619448276436\n",
      "Iteration 46: LHS Error: 0.02670486192596866; RHS Error 0.025426657422328726\n",
      "Iteration 47: LHS Error: 0.02633054919079658; RHS Error 0.024994013304711134\n",
      "Iteration 48: LHS Error: 0.025884531400394373; RHS Error 0.024627217683131145\n",
      "Iteration 49: LHS Error: 0.025374996891414092; RHS Error 0.024193387879578403\n",
      "Iteration 50: LHS Error: 0.025030995398413802; RHS Error 0.02376712452187282\n",
      "Iteration 51: LHS Error: 0.024622749891990647; RHS Error 0.023431433476645877\n",
      "Iteration 52: LHS Error: 0.024146012363553515; RHS Error 0.023034317681964123\n",
      "Iteration 53: LHS Error: 0.02382309424402851; RHS Error 0.02263453110590545\n",
      "Iteration 54: LHS Error: 0.02344045634876979; RHS Error 0.02231909712861146\n",
      "Iteration 55: LHS Error: 0.02300826545497614; RHS Error 0.021946560831754978\n",
      "Iteration 56: LHS Error: 0.022697988824281534; RHS Error 0.02158407273179421\n",
      "Iteration 57: LHS Error: 0.02233177795949426; RHS Error 0.02128084006305443\n",
      "Iteration 58: LHS Error: 0.0219501042385688; RHS Error 0.020923874124668774\n",
      "Iteration 59: LHS Error: 0.02164671746628688; RHS Error 0.02060429143218609\n",
      "Iteration 60: LHS Error: 0.02129048659980093; RHS Error 0.020307199068424535\n",
      "Iteration 61: LHS Error: 0.020961607139056593; RHS Error 0.019959049312477703\n",
      "Iteration 62: LHS Error: 0.020660553430432937; RHS Error 0.01968497976003146\n",
      "Iteration 63: LHS Error: 0.02030886284698763; RHS Error 0.01938938532117945\n",
      "Iteration 64: LHS Error: 0.020032325302232312; RHS Error 0.019071428040279947\n",
      "Iteration 65: LHS Error: 0.01972920195101624; RHS Error 0.018817086410476032\n",
      "Iteration 66: LHS Error: 0.019416109150590444; RHS Error 0.0185192307933865\n",
      "Iteration 67: LHS Error: 0.01915128313065173; RHS Error 0.01825309056519637\n",
      "Iteration 68: LHS Error: 0.018842220099480667; RHS Error 0.017992298361311734\n",
      "Iteration 69: LHS Error: 0.018583542820454824; RHS Error 0.01770387184976878\n",
      "Iteration 70: LHS Error: 0.018308993665951068; RHS Error 0.01747267481584002\n",
      "Iteration 71: LHS Error: 0.018031173261823685; RHS Error 0.01720294244740104\n",
      "Iteration 72: LHS Error: 0.01778438992370157; RHS Error 0.0169655962024588\n",
      "Iteration 73: LHS Error: 0.017497831458749502; RHS Error 0.016722941528348342\n",
      "Iteration 74: LHS Error: 0.01727277913987546; RHS Error 0.016474081383500788\n",
      "Iteration 75: LHS Error: 0.017011749115233066; RHS Error 0.01625334193410736\n",
      "Iteration 76: LHS Error: 0.01677661526427876; RHS Error 0.015999689690603287\n",
      "Iteration 77: LHS Error: 0.016536251586543926; RHS Error 0.015796723133892132\n",
      "Iteration 78: LHS Error: 0.01629697722640433; RHS Error 0.015561210195662846\n",
      "Iteration 79: LHS Error: 0.016073188126484617; RHS Error 0.015354446015134915\n",
      "Iteration 80: LHS Error: 0.015833943813689633; RHS Error 0.015135520474627212\n",
      "Iteration 81: LHS Error: 0.015629013048032547; RHS Error 0.014926940128914074\n",
      "Iteration 82: LHS Error: 0.015394288533187694; RHS Error 0.014721981581605335\n",
      "Iteration 83: LHS Error: 0.015197739761721785; RHS Error 0.01451538344549759\n",
      "Iteration 84: LHS Error: 0.014971370109705173; RHS Error 0.01432167630359215\n",
      "Iteration 85: LHS Error: 0.014795448137280065; RHS Error 0.01411864131707502\n",
      "Iteration 86: LHS Error: 0.014579974240001903; RHS Error 0.01393548343603205\n",
      "Iteration 87: LHS Error: 0.014389641982373025; RHS Error 0.013738994281866014\n",
      "Iteration 88: LHS Error: 0.01418330307333937; RHS Error 0.013562595176572004\n",
      "Iteration 89: LHS Error: 0.014000190123411027; RHS Error 0.01337198393308145\n",
      "Iteration 90: LHS Error: 0.01380134692812307; RHS Error 0.01320120491304002\n",
      "Iteration 91: LHS Error: 0.013624777412139188; RHS Error 0.013017587564156961\n",
      "Iteration 92: LHS Error: 0.013431660699000147; RHS Error 0.012851297534090353\n",
      "Iteration 93: LHS Error: 0.013262068862975873; RHS Error 0.012675247597194378\n",
      "Iteration 94: LHS Error: 0.013073522925297176; RHS Error 0.012512405105431723\n",
      "Iteration 95: LHS Error: 0.012911126645096527; RHS Error 0.012344239615877085\n",
      "Iteration 96: LHS Error: 0.012731883164675661; RHS Error 0.012183920028699308\n",
      "Iteration 97: LHS Error: 0.012571127206699284; RHS Error 0.012023791447575288\n",
      "Iteration 98: LHS Error: 0.01240113344856919; RHS Error 0.011865181935665506\n",
      "Iteration 99: LHS Error: 0.012241275725753287; RHS Error 0.011713128653710124\n",
      "Iteration 100: LHS Error: 0.012080410883955395; RHS Error 0.011555513258115081\n",
      "Iteration 101: LHS Error: 0.011920795876191992; RHS Error 0.01141149088403478\n",
      "Iteration 102: LHS Error: 0.011768392503524794; RHS Error 0.011256952046697778\n",
      "Iteration 103: LHS Error: 0.011609635090799486; RHS Error 0.011118706499047434\n",
      "Iteration 104: LHS Error: 0.011466405534578339; RHS Error 0.010973366100648488\n",
      "Iteration 105: LHS Error: 0.01131439427004377; RHS Error 0.010834117823115198\n",
      "Iteration 106: LHS Error: 0.0111720804815576; RHS Error 0.010697103136346517\n",
      "Iteration 107: LHS Error: 0.011029033471566585; RHS Error 0.010556382412049016\n",
      "Iteration 108: LHS Error: 0.010884662523777067; RHS Error 0.010427412401668001\n",
      "Iteration 109: LHS Error: 0.010750268061991974; RHS Error 0.010292105619350948\n",
      "Iteration 110: LHS Error: 0.010610199607053783; RHS Error 0.010163603950759062\n",
      "Iteration 111: LHS Error: 0.010476022428547171; RHS Error 0.010036328010597728\n",
      "Iteration 112: LHS Error: 0.010344231900745626; RHS Error 0.009905631233226006\n",
      "Iteration 113: LHS Error: 0.010209102465808861; RHS Error 0.009786670313983822\n",
      "Iteration 114: LHS Error: 0.010085400543201839; RHS Error 0.009663457401676616\n",
      "Iteration 115: LHS Error: 0.00995777627200889; RHS Error 0.009541621251993114\n",
      "Iteration 116: LHS Error: 0.009831047702639761; RHS Error 0.009425952247364124\n",
      "Iteration 117: LHS Error: 0.009711205346452978; RHS Error 0.009307313123995221\n",
      "Iteration 118: LHS Error: 0.009588614247193039; RHS Error 0.009192193930221568\n",
      "Iteration 119: LHS Error: 0.009468226531104573; RHS Error 0.009080751942763435\n",
      "Iteration 120: LHS Error: 0.009353025868348297; RHS Error 0.008967249246285162\n",
      "Iteration 121: LHS Error: 0.009235911936710917; RHS Error 0.008857128960447845\n",
      "Iteration 122: LHS Error: 0.009120204605919113; RHS Error 0.008750426652217272\n",
      "Iteration 123: LHS Error: 0.009010052527350876; RHS Error 0.008642310049316537\n",
      "Iteration 124: LHS Error: 0.008894989295080702; RHS Error 0.008535814310112806\n",
      "Iteration 125: LHS Error: 0.008783666308783467; RHS Error 0.008434507652698528\n",
      "Iteration 126: LHS Error: 0.008679206962208585; RHS Error 0.008332166739981897\n",
      "Iteration 127: LHS Error: 0.008573787125761623; RHS Error 0.00822928866272158\n",
      "Iteration 128: LHS Error: 0.008467869792501581; RHS Error 0.008131968635259487\n",
      "Iteration 129: LHS Error: 0.008364889203337444; RHS Error 0.008034804742715451\n",
      "Iteration 130: LHS Error: 0.008264748337797112; RHS Error 0.00793736858304301\n",
      "Iteration 131: LHS Error: 0.008164368772486608; RHS Error 0.007840840118728619\n",
      "Iteration 132: LHS Error: 0.008064081001220913; RHS Error 0.007748751281984531\n",
      "Iteration 133: LHS Error: 0.007966892975511453; RHS Error 0.007656558363540636\n",
      "Iteration 134: LHS Error: 0.007871868141438476; RHS Error 0.007564536949265954\n",
      "Iteration 135: LHS Error: 0.00777702879454667; RHS Error 0.0074729174311346305\n",
      "Iteration 136: LHS Error: 0.00768259896240453; RHS Error 0.007385689392574661\n",
      "Iteration 137: LHS Error: 0.007589241253469492; RHS Error 0.007298703678532088\n",
      "Iteration 138: LHS Error: 0.007499523818198295; RHS Error 0.007212137392395464\n",
      "Iteration 139: LHS Error: 0.007410224692110834; RHS Error 0.0071261499306504925\n",
      "Iteration 140: LHS Error: 0.007321499916554508; RHS Error 0.007041329916420869\n",
      "Iteration 141: LHS Error: 0.007233479544205945; RHS Error 0.006959468275776766\n",
      "Iteration 142: LHS Error: 0.007146271237122637; RHS Error 0.006878153834692105\n",
      "Iteration 143: LHS Error: 0.007061862068363567; RHS Error 0.006797498094110649\n",
      "Iteration 144: LHS Error: 0.006978517863878153; RHS Error 0.006717593240054144\n",
      "Iteration 145: LHS Error: 0.006895914007873927; RHS Error 0.006638514759270742\n",
      "Iteration 146: LHS Error: 0.006814126531830222; RHS Error 0.006560404241455445\n",
      "Iteration 147: LHS Error: 0.006733217861917495; RHS Error 0.006484683436603321\n",
      "Iteration 148: LHS Error: 0.006653238927941452; RHS Error 0.006409704501661437\n",
      "Iteration 149: LHS Error: 0.0065742311594840785; RHS Error 0.006335519630961808\n",
      "Iteration 150: LHS Error: 0.006496898578674859; RHS Error 0.006262170373812492\n",
      "Iteration 151: LHS Error: 0.0064209100296031; RHS Error 0.006189689017534222\n",
      "Iteration 152: LHS Error: 0.006345810960119103; RHS Error 0.006118099774401628\n",
      "Iteration 153: LHS Error: 0.006271647730206276; RHS Error 0.0060474197820560155\n"
     ]
    },
    {
     "name": "stdout",
     "output_type": "stream",
     "text": [
      "Iteration 154: LHS Error: 0.00619847820158359; RHS Error 0.005977659904409308\n",
      "Iteration 155: LHS Error: 0.006126398716947534; RHS Error 0.005908825023827294\n",
      "Iteration 156: LHS Error: 0.006055636235572592; RHS Error 0.005855809041305324\n",
      "Iteration 157: LHS Error: 0.005981656422641812; RHS Error 0.0058290660659752885\n",
      "Iteration 158: LHS Error: 0.005913211057864132; RHS Error 0.00580046836863185\n",
      "Iteration 159: LHS Error: 0.005842687103482014; RHS Error 0.0057661151345498735\n",
      "Iteration 160: LHS Error: 0.005775790000710934; RHS Error 0.005727820110113024\n",
      "Iteration 161: LHS Error: 0.00570733881269625; RHS Error 0.005683529148930194\n",
      "Iteration 162: LHS Error: 0.005642717413028464; RHS Error 0.005634708087492002\n",
      "Iteration 163: LHS Error: 0.005573742407137594; RHS Error 0.005579226072504509\n",
      "Iteration 164: LHS Error: 0.00551221216506903; RHS Error 0.005519074974418975\n",
      "Iteration 165: LHS Error: 0.005432316036421803; RHS Error 0.00545138828627191\n",
      "Iteration 166: LHS Error: 0.005352682294491373; RHS Error 0.005379196870195391\n",
      "Iteration 167: LHS Error: 0.005269931594320099; RHS Error 0.005300314259246472\n",
      "Iteration 168: LHS Error: 0.0051721696580298016; RHS Error 0.005213819333225886\n",
      "Iteration 169: LHS Error: 0.005072197569734982; RHS Error 0.005121750294408076\n",
      "Iteration 170: LHS Error: 0.00496890345467893; RHS Error 0.005022731648896939\n",
      "Iteration 171: LHS Error: 0.004850768695080276; RHS Error 0.00491598191773876\n",
      "Iteration 172: LHS Error: 0.004730529998036026; RHS Error 0.004803638291781057\n",
      "Iteration 173: LHS Error: 0.004607459421215765; RHS Error 0.00468453453044422\n",
      "Iteration 174: LHS Error: 0.004469984034421337; RHS Error 0.004558085476084217\n",
      "Iteration 175: LHS Error: 0.004331363898774754; RHS Error 0.00442666583923336\n",
      "Iteration 176: LHS Error: 0.004187269189485754; RHS Error 0.004289373998057275\n",
      "Iteration 177: LHS Error: 0.0040417237595473665; RHS Error 0.004146654843855596\n",
      "Iteration 178: LHS Error: 0.003888836375891991; RHS Error 0.003998354602755841\n",
      "Iteration 179: LHS Error: 0.0037335944413383615; RHS Error 0.0038458900800884405\n",
      "Iteration 180: LHS Error: 0.0035728560614600724; RHS Error 0.003689854289863098\n",
      "Iteration 181: LHS Error: 0.0034104869552660233; RHS Error 0.003531553375179519\n",
      "Iteration 182: LHS Error: 0.003247219924860545; RHS Error 0.0033715781029833303\n",
      "Iteration 183: LHS Error: 0.003083819523510556; RHS Error 0.003210610856867094\n",
      "Iteration 184: LHS Error: 0.0029210682386970888; RHS Error 0.003049397792315958\n",
      "Iteration 185: LHS Error: 0.002759751425823076; RHS Error 0.0029690374489811794\n",
      "Iteration 186: LHS Error: 0.0026006374384728304; RHS Error 0.0029693462736225737\n",
      "Iteration 187: LHS Error: 0.0024432001108882773; RHS Error 0.0029697257547653746\n",
      "Iteration 188: LHS Error: 0.0022915747753442517; RHS Error 0.00297068670830666\n",
      "Iteration 189: LHS Error: 0.0021419890773159977; RHS Error 0.002971391517919114\n",
      "Iteration 190: LHS Error: 0.00199924203577595; RHS Error 0.0029726472258929035\n",
      "Iteration 191: LHS Error: 0.0018595984535645371; RHS Error 0.0029734193726466407\n",
      "Iteration 192: LHS Error: 0.0017275481361682665; RHS Error 0.0029744331617905517\n",
      "Iteration 193: LHS Error: 0.001600560786706673; RHS Error 0.0029751622361075605\n",
      "Iteration 194: LHS Error: 0.0014795693583353753; RHS Error 0.0029757113638574743\n",
      "Iteration 195: LHS Error: 0.0013647764724202816; RHS Error 0.0029760541261632315\n",
      "Iteration 196: LHS Error: 0.001256294529614621; RHS Error 0.0029762385202013256\n",
      "Iteration 197: LHS Error: 0.0011541341071970024; RHS Error 0.002976311680145026\n",
      "Iteration 198: LHS Error: 0.0010582268784364857; RHS Error 0.00297629565715464\n",
      "Iteration 199: LHS Error: 0.0009681808144659243; RHS Error 0.0029762878231093283\n",
      "Iteration 200: LHS Error: 0.0008847912496188215; RHS Error 0.0029756150784946353\n",
      "Iteration 201: LHS Error: 0.0008072877320461913; RHS Error 0.002974969858847258\n",
      "Iteration 202: LHS Error: 0.0007354201959550721; RHS Error 0.002974460132821141\n",
      "Iteration 203: LHS Error: 0.0006689494020255538; RHS Error 0.002974130977198862\n",
      "Iteration 204: LHS Error: 0.0006076222590394309; RHS Error 0.002973971178701032\n",
      "Iteration 205: LHS Error: 0.0005511735156478181; RHS Error 0.0029739511203403166\n",
      "Iteration 206: LHS Error: 0.0004993304007108179; RHS Error 0.0029740428266336466\n",
      "Iteration 207: LHS Error: 0.00045181714289910246; RHS Error 0.0029742255896335335\n",
      "Iteration 208: LHS Error: 0.0004083588138197314; RHS Error 0.0029744852801656257\n",
      "Iteration 209: LHS Error: 0.0003686844678574275; RHS Error 0.0029748120407240668\n",
      "Iteration 210: LHS Error: 0.0003325296552398882; RHS Error 0.002975198235748433\n",
      "Iteration 211: LHS Error: 0.0002996383926099355; RHS Error 0.0029756371091056028\n",
      "Iteration 212: LHS Error: 0.0002697646662133124; RHS Error 0.002976122058430987\n",
      "Iteration 213: LHS Error: 0.0002426735334930541; RHS Error 0.0029766463171583615\n",
      "Iteration 214: LHS Error: 0.00021814188164537285; RHS Error 0.0029772028708175136\n",
      "Iteration 215: LHS Error: 0.00019595889559109736; RHS Error 0.0029777844996195166\n",
      "Iteration 216: LHS Error: 0.00017592628258888965; RHS Error 0.0029783838893033543\n",
      "Iteration 217: LHS Error: 0.00015785829569470167; RHS Error 0.0029789937794153336\n",
      "Iteration 218: LHS Error: 0.0001415815936347542; RHS Error 0.00297960712924724\n",
      "Iteration 219: LHS Error: 0.00012693497011451171; RHS Error 0.002980217285002723\n",
      "Iteration 220: LHS Error: 0.00011376898136195024; RHS Error 0.002980818133287412\n",
      "Iteration 221: LHS Error: 0.00010194549668884889; RHS Error 0.0029814042284622977\n",
      "Iteration 222: LHS Error: 9.133719325671308e-05; RHS Error 0.002981970885192569\n",
      "Iteration 223: LHS Error: 8.182701284198401e-05; RHS Error 0.0029825142320749343\n",
      "Iteration 224: LHS Error: 7.330759547308219e-05; RHS Error 0.0029830312265843664\n",
      "Iteration 225: LHS Error: 6.568070214907351e-05; RHS Error 0.00298351963515011\n",
      "Iteration 226: LHS Error: 5.8856636583115574e-05; RHS Error 0.002983977984504907\n",
      "Iteration 227: LHS Error: 5.275367380264129e-05; RHS Error 0.002984405491630218\n",
      "Iteration 228: LHS Error: 4.72975018555033e-05; RHS Error 0.0029848019797453496\n",
      "Iteration 229: LHS Error: 4.242068129656218e-05; RHS Error 0.0029851677871917323\n",
      "Iteration 230: LHS Error: 3.806212597012859e-05; RHS Error 0.0029855036750001743\n",
      "Iteration 231: LHS Error: 3.416660749344658e-05; RHS Error 0.0029858107376834545\n",
      "Iteration 232: LHS Error: 3.068428506303178e-05; RHS Error 0.002986090320504023\n",
      "Iteration 233: LHS Error: 2.757026149513564e-05; RHS Error 0.002986343945323131\n",
      "Iteration 234: LHS Error: 2.478416587958776e-05; RHS Error 0.0029865732461448746\n",
      "Iteration 235: LHS Error: 2.228976262141913e-05; RHS Error 0.002986779914700897\n",
      "Iteration 236: LHS Error: 2.005458659848358e-05; RHS Error 0.002986965655815327\n",
      "Iteration 237: LHS Error: 1.8049603638381484e-05; RHS Error 0.002987132151922249\n",
      "Iteration 238: LHS Error: 1.6248895364334714e-05; RHS Error 0.0029872810358419766\n",
      "Iteration 239: LHS Error: 1.462936752982813e-05; RHS Error 0.002987413870783176\n",
      "Iteration 240: LHS Error: 1.3170480572810561e-05; RHS Error 0.00298753213652277\n",
      "Iteration 241: LHS Error: 1.1854001247257884e-05; RHS Error 0.0029876372207186357\n",
      "Iteration 242: LHS Error: 1.0663774183683472e-05; RHS Error 0.0029877304143776234\n",
      "Iteration 243: LHS Error: 9.58551215557435e-06; RHS Error 0.0029878129106109923\n",
      "Iteration 244: LHS Error: 8.606603815408675e-06; RHS Error 0.002987885805897837\n",
      "Iteration 245: LHS Error: 7.715937863750355e-06; RHS Error 0.002987950103192756\n",
      "Iteration 246: LHS Error: 6.9037424390572255e-06; RHS Error 0.0029880067163251603\n",
      "Iteration 247: LHS Error: 6.1614387849573404e-06; RHS Error 0.00298805647523228\n",
      "Iteration 248: LHS Error: 5.5193923893526176e-06; RHS Error 0.002988100131664076\n",
      "Iteration 249: LHS Error: 5.433782814812105e-06; RHS Error 0.002988138365078701\n",
      "Iteration 250: LHS Error: 5.354216805475431e-06; RHS Error 0.0029881717885058973\n",
      "Iteration 251: LHS Error: 5.26970678871308e-06; RHS Error 0.002988200954235881\n",
      "Iteration 252: LHS Error: 5.195807459390522e-06; RHS Error 0.0029882263592294414\n",
      "Iteration 253: LHS Error: 5.115165176317049e-06; RHS Error 0.002988248450163579\n",
      "Iteration 254: LHS Error: 5.043553601424833e-06; RHS Error 0.002988267628101015\n",
      "Iteration 255: LHS Error: 4.9689361816263045e-06; RHS Error 0.002988284252762867\n",
      "Iteration 256: LHS Error: 4.89689442106922e-06; RHS Error 0.002988298646404465\n",
      "Iteration 257: LHS Error: 4.8278799047452026e-06; RHS Error 0.0029883110973188826\n",
      "Iteration 258: LHS Error: 4.755319733096286e-06; RHS Error 0.0029883218629958228\n",
      "Iteration 259: LHS Error: 4.691506399367995e-06; RHS Error 0.002988331172964556\n",
      "Iteration 260: LHS Error: 4.623925287550179e-06; RHS Error 0.0029883392313528392\n",
      "Iteration 261: LHS Error: 4.5593781061725736e-06; RHS Error 0.002988346219194582\n",
      "Iteration 262: LHS Error: 4.496879828952416e-06; RHS Error 0.002988352296519531\n",
      "Iteration 263: LHS Error: 4.43183337806019e-06; RHS Error 0.0029883576042523327\n",
      "Iteration 264: LHS Error: 4.373303380766913e-06; RHS Error 0.0029883622659449306\n",
      "Iteration 265: LHS Error: 4.313073871387019e-06; RHS Error 0.002988366389367357\n",
      "Iteration 266: LHS Error: 4.252882590094487e-06; RHS Error 0.002988370067977659\n",
      "Iteration 267: LHS Error: 4.197100598180015e-06; RHS Error 0.0029883733822805847\n",
      "Iteration 268: LHS Error: 4.139654516066571e-06; RHS Error 0.002988376401088875\n",
      "Iteration 269: LHS Error: 4.083669503884835e-06; RHS Error 0.002988379182701638\n",
      "Iteration 270: LHS Error: 4.0303666670737925e-06; RHS Error 0.0029883817760016015\n",
      "Iteration 271: LHS Error: 3.975937091560411e-06; RHS Error 0.002988384221482565\n",
      "Iteration 272: LHS Error: 3.923097589897395e-06; RHS Error 0.0029883865522017695\n",
      "Iteration 273: LHS Error: 3.872488214540226e-06; RHS Error 0.0029883887946707717\n",
      "Iteration 274: LHS Error: 3.821130151848706e-06; RHS Error 0.002988390969679608\n",
      "Iteration 275: LHS Error: 3.7706184898844697e-06; RHS Error 0.0029883930930577514\n",
      "Iteration 276: LHS Error: 3.722760326230201e-06; RHS Error 0.002988395176372064\n",
      "Iteration 277: LHS Error: 3.6744184641612776e-06; RHS Error 0.002988397227566733\n",
      "Iteration 278: LHS Error: 3.625851982214101e-06; RHS Error 0.0029883992515420607\n",
      "Iteration 279: LHS Error: 3.5804562328323186e-06; RHS Error 0.002988401250674927\n",
      "Iteration 280: LHS Error: 3.5350091658337135e-06; RHS Error 0.00298840322528611\n",
      "Iteration 281: LHS Error: 3.489467094830445e-06; RHS Error 0.0029884051740536495\n",
      "Iteration 282: LHS Error: 3.4448669170572543e-06; RHS Error 0.0029884070943756655\n",
      "Iteration 283: LHS Error: 3.402155889009606e-06; RHS Error 0.002988408982685188\n",
      "Iteration 284: LHS Error: 3.3594350759003078e-06; RHS Error 0.002988410834724616\n",
      "Iteration 285: LHS Error: 3.3168416702089587e-06; RHS Error 0.0029884126457786035\n",
      "Iteration 286: LHS Error: 3.2751697554012082e-06; RHS Error 0.0029884144108704297\n",
      "Iteration 287: LHS Error: 3.235061220685509e-06; RHS Error 0.002988416124926438\n",
      "Iteration 288: LHS Error: 3.1951067702706837e-06; RHS Error 0.0029884177829148442\n",
      "Iteration 289: LHS Error: 3.1553988688592938e-06; RHS Error 0.0029884193799562357\n",
      "Iteration 290: LHS Error: 3.116014586357352e-06; RHS Error 0.002988420911416982\n",
      "Iteration 291: LHS Error: 3.0781808604274374e-06; RHS Error 0.0029884223729838566\n",
      "Iteration 292: LHS Error: 3.040881831228859e-06; RHS Error 0.002988423760723294\n",
      "Iteration 293: LHS Error: 3.003884756935804e-06; RHS Error 0.002988425071129751\n",
      "Iteration 294: LHS Error: 2.9672412127368375e-06; RHS Error 0.0029884263011613205\n",
      "Iteration 295: LHS Error: 2.9309932783050385e-06; RHS Error 0.002988427448274506\n",
      "Iteration 296: LHS Error: 2.895572118521983e-06; RHS Error 0.0029884285104457183\n",
      "Iteration 297: LHS Error: 2.8610579909660316e-06; RHS Error 0.002988429486187147\n",
      "Iteration 298: LHS Error: 2.826896809970947e-06; RHS Error 0.0029884303745681823\n",
      "Iteration 299: LHS Error: 2.793116303578813e-06; RHS Error 0.002988431175219401\n",
      "Iteration 300: LHS Error: 2.759738344071394e-06; RHS Error 0.002988431888342625\n",
      "Iteration 301: LHS Error: 2.726779688710934e-06; RHS Error 0.002988432514713018\n",
      "Iteration 302: LHS Error: 2.694252699608768e-06; RHS Error 0.0029884330556758966\n",
      "Iteration 303: LHS Error: 2.662217504223463e-06; RHS Error 0.0029884335131430614\n",
      "Iteration 304: LHS Error: 2.6309945804214863e-06; RHS Error 0.0029884338895807896\n",
      "Iteration 305: LHS Error: 2.6001493065308523e-06; RHS Error 0.00298843418799654\n",
      "Iteration 306: LHS Error: 2.569688978937279e-06; RHS Error 0.00298843441191397\n",
      "Iteration 307: LHS Error: 2.539618225494422e-06; RHS Error 0.002988434565354116\n",
      "Iteration 308: LHS Error: 2.5099393772265444e-06; RHS Error 0.0029884346527992087\n"
     ]
    },
    {
     "name": "stdout",
     "output_type": "stream",
     "text": [
      "Iteration 309: LHS Error: 2.480652820047169e-06; RHS Error 0.0029884346791583735\n",
      "Iteration 310: LHS Error: 2.451757282084799e-06; RHS Error 0.0029884346497203555\n",
      "Iteration 311: LHS Error: 2.423250121896814e-06; RHS Error 0.0029884345701108282\n",
      "Iteration 312: LHS Error: 2.395127530085972e-06; RHS Error 0.0029884344462358173\n",
      "Iteration 313: LHS Error: 2.3673847500127465e-06; RHS Error 0.0029884342842264183\n",
      "Iteration 314: LHS Error: 2.340016249213761e-06; RHS Error 0.002988434090379209\n",
      "Iteration 315: LHS Error: 2.3130158655071398e-06; RHS Error 0.0029884338710922144\n",
      "Iteration 316: LHS Error: 2.2863769202352557e-06; RHS Error 0.002988433632798517\n",
      "Iteration 317: LHS Error: 2.260092354156029e-06; RHS Error 0.0029884333819018213\n",
      "Iteration 318: LHS Error: 2.234154791835863e-06; RHS Error 0.0029884331247114412\n",
      "Iteration 319: LHS Error: 2.208556636240644e-06; RHS Error 0.0029884328673763297\n",
      "Iteration 320: LHS Error: 2.1832900705121006e-06; RHS Error 0.002988432615820616\n",
      "Iteration 321: LHS Error: 2.158347034431074e-06; RHS Error 0.002988432375685895\n",
      "Iteration 322: LHS Error: 2.1337204261229203e-06; RHS Error 0.0029884321522749974\n",
      "Iteration 323: LHS Error: 2.1094041597891078e-06; RHS Error 0.0029884319505052333\n",
      "Iteration 324: LHS Error: 2.0853828113232e-06; RHS Error 0.002988431774857577\n",
      "Iteration 325: LHS Error: 2.0616277680574058e-06; RHS Error 0.0029884316293431953\n",
      "Iteration 326: LHS Error: 2.0380869774072607e-06; RHS Error 0.0029884315174669718\n",
      "Iteration 327: LHS Error: 2.0146861530179194e-06; RHS Error 0.002988431442204925\n",
      "Iteration 328: LHS Error: 1.9898307082044653e-06; RHS Error 0.0029884314059888395\n",
      "Iteration 329: LHS Error: 1.963236700319726e-06; RHS Error 0.0029884314106922993\n",
      "Iteration 330: LHS Error: 1.934938624437166e-06; RHS Error 0.0029884314576298504\n",
      "Iteration 331: LHS Error: 1.904982174671943e-06; RHS Error 0.0029884315475628143\n",
      "Iteration 332: LHS Error: 1.87342364288412e-06; RHS Error 0.002988431680710557\n",
      "Iteration 333: LHS Error: 1.8403292374458147e-06; RHS Error 0.002988431856768725\n",
      "Iteration 334: LHS Error: 1.8057743265131876e-06; RHS Error 0.0029884320749312826\n",
      "Iteration 335: LHS Error: 1.7698425898160508e-06; RHS Error 0.002988432333923721\n",
      "Iteration 336: LHS Error: 1.7326251846583318e-06; RHS Error 0.0029884326320356314\n",
      "Iteration 337: LHS Error: 1.6942197866853803e-06; RHS Error 0.002988432967158887\n",
      "Iteration 338: LHS Error: 1.6547296786129095e-06; RHS Error 0.0029884333368309472\n",
      "Iteration 339: LHS Error: 1.6142627687898425e-06; RHS Error 0.002988433738279398\n",
      "Iteration 340: LHS Error: 1.5729306417355815e-06; RHS Error 0.0029884341684654897\n",
      "Iteration 341: LHS Error: 1.530847598019136e-06; RHS Error 0.0029884346241351376\n",
      "Iteration 342: LHS Error: 1.4881297403235294e-06; RHS Error 0.002988435101866551\n",
      "Iteration 343: LHS Error: 1.444894054181134e-06; RHS Error 0.0029884355981137714\n",
      "Iteration 344: LHS Error: 1.4012575277888573e-06; RHS Error 0.0029884361092545123\n",
      "Iteration 345: LHS Error: 1.3573363135677141e-06; RHS Error 0.002988436631636053\n",
      "Iteration 346: LHS Error: 1.313245001632879e-06; RHS Error 0.0029884371616195476\n",
      "Iteration 347: LHS Error: 1.269095811551324e-06; RHS Error 0.0029884376956148956\n",
      "Iteration 348: LHS Error: 1.2249980008149919e-06; RHS Error 0.0029884382301240686\n",
      "Iteration 349: LHS Error: 1.1810572075887649e-06; RHS Error 0.0029884387617697614\n",
      "Iteration 350: LHS Error: 1.137374942672409e-06; RHS Error 0.002988439287328091\n",
      "Iteration 351: LHS Error: 1.0940480787979823e-06; RHS Error 0.0029884398037536113\n",
      "Iteration 352: LHS Error: 1.0511684562786172e-06; RHS Error 0.0029884403082025383\n",
      "Iteration 353: LHS Error: 1.0088225410598284e-06; RHS Error 0.002988440798051887\n",
      "Iteration 354: LHS Error: 9.670911200743149e-07; RHS Error 0.002988441270913751\n",
      "Iteration 355: LHS Error: 9.260491014018157e-07; RHS Error 0.002988441724647472\n",
      "Iteration 356: LHS Error: 8.857653401861398e-07; RHS Error 0.0029884421573667663\n",
      "Iteration 357: LHS Error: 8.463025471527885e-07; RHS Error 0.0029884425674436485\n",
      "Iteration 358: LHS Error: 8.077172326537152e-07; RHS Error 0.0029884429535078534\n",
      "Iteration 359: LHS Error: 7.700596915682922e-07; RHS Error 0.0029884433144479264\n",
      "Iteration 360: LHS Error: 7.333741027792939e-07; RHS Error 0.002988443649404423\n",
      "Iteration 361: LHS Error: 6.976985753581744e-07; RHS Error 0.0029884439577610236\n",
      "Iteration 362: LHS Error: 6.630652995553987e-07; RHS Error 0.002988444239136627\n",
      "Iteration 363: LHS Error: 6.295007155543431e-07; RHS Error 0.0029884444933730714\n",
      "Iteration 364: LHS Error: 5.970257230814013e-07; RHS Error 0.002988444720522645\n",
      "Iteration 365: LHS Error: 5.656558661470967e-07; RHS Error 0.0029884449208311056\n",
      "Iteration 366: LHS Error: 5.354016412439933e-07; RHS Error 0.0029884450947263927\n",
      "Iteration 367: LHS Error: 5.062686971868402e-07; RHS Error 0.0029884452427987977\n",
      "Iteration 368: LHS Error: 4.782582001539026e-07; RHS Error 0.0029884453657873476\n",
      "Iteration 369: LHS Error: 4.5136704862613897e-07; RHS Error 0.0029884454645598482\n",
      "Iteration 370: LHS Error: 4.255882011250378e-07; RHS Error 0.0029884455400963766\n",
      "Iteration 371: LHS Error: 4.0091101727313116e-07; RHS Error 0.0029884455934758095\n",
      "Iteration 372: LHS Error: 3.773215206948066e-07; RHS Error 0.002988445625856106\n",
      "Iteration 373: LHS Error: 3.548027249777874e-07; RHS Error 0.002988445638458421\n",
      "Iteration 374: LHS Error: 3.333349427592225e-07; RHS Error 0.0029884456325527595\n",
      "Iteration 375: LHS Error: 3.128960734954944e-07; RHS Error 0.0029884456094431584\n",
      "Iteration 376: LHS Error: 2.934618841266001e-07; RHS Error 0.0029884455704547105\n",
      "Iteration 377: LHS Error: 2.750063421430582e-07; RHS Error 0.002988445516920943\n",
      "Iteration 378: LHS Error: 2.5750182164330226e-07; RHS Error 0.00298844545017031\n",
      "Iteration 379: LHS Error: 2.409193884389538e-07; RHS Error 0.002988445371517545\n",
      "Iteration 380: LHS Error: 2.2522905229749313e-07; RHS Error 0.002988445282254913\n",
      "Iteration 381: LHS Error: 2.1040000319771934e-07; RHS Error 0.0029884451836421147\n",
      "Iteration 382: LHS Error: 1.9640081205807292e-07; RHS Error 0.002988445076899788\n",
      "Iteration 383: LHS Error: 1.8319965011670547e-07; RHS Error 0.002988444963201397\n",
      "Iteration 384: LHS Error: 1.7076445590902267e-07; RHS Error 0.002988444843670144\n",
      "Iteration 385: LHS Error: 1.5906313421965024e-07; RHS Error 0.002988444719373033\n",
      "Iteration 386: LHS Error: 1.4806370618458686e-07; RHS Error 0.002988444591318938\n",
      "Iteration 387: LHS Error: 1.3773442741893405e-07; RHS Error 0.0029884444604540428\n",
      "Iteration 388: LHS Error: 1.2804396742893687e-07; RHS Error 0.002988444327662272\n",
      "Iteration 389: LHS Error: 1.1896148421897124e-07; RHS Error 0.0029884441937611528\n",
      "Iteration 390: LHS Error: 1.1045672110299165e-07; RHS Error 0.0029884440595042555\n",
      "Iteration 391: LHS Error: 1.025001337140452e-07; RHS Error 0.0029884439255803974\n",
      "Iteration 392: LHS Error: 9.506294329497678e-08; RHS Error 0.0029884437926144085\n",
      "Iteration 393: LHS Error: 8.811718466006369e-08; RHS Error 0.002988443661168079\n",
      "Iteration 394: LHS Error: 8.163578169018137e-08; RHS Error 0.002988443531742435\n",
      "Iteration 395: LHS Error: 7.559259440625965e-08; RHS Error 0.0029884434047798523\n",
      "Iteration 396: LHS Error: 6.996242074563952e-08; RHS Error 0.0029884432806664\n",
      "Iteration 397: LHS Error: 6.472106761634677e-08; RHS Error 0.002988443159733376\n",
      "Iteration 398: LHS Error: 5.984529849456521e-08; RHS Error 0.0029884430422609763\n",
      "Iteration 399: LHS Error: 5.531294178240387e-08; RHS Error 0.0029884429284822572\n",
      "Iteration 400: LHS Error: 5.110275402842035e-08; RHS Error 0.002988442818583764\n",
      "Iteration 401: LHS Error: 4.719458512880692e-08; RHS Error 0.0029884427127116406\n",
      "Iteration 402: LHS Error: 4.3569184704495e-08; RHS Error 0.0029884426109702544\n",
      "Iteration 403: LHS Error: 4.0208347762416e-08; RHS Error 0.002988442513432183\n",
      "Iteration 404: LHS Error: 3.70947974559499e-08; RHS Error 0.0029884424201344732\n",
      "Iteration 405: LHS Error: 3.42121762031411e-08; RHS Error 0.0029884423310855696\n",
      "Iteration 406: LHS Error: 3.154507854929989e-08; RHS Error 0.002988442246269242\n",
      "Iteration 407: LHS Error: 2.9078908170276918e-08; RHS Error 0.002988442165641994\n",
      "Iteration 408: LHS Error: 2.680000754651246e-08; RHS Error 0.002988442089143964\n",
      "Iteration 409: LHS Error: 2.4695459899248817e-08; RHS Error 0.002988442016693578\n",
      "Iteration 410: LHS Error: 2.2753161132982314e-08; RHS Error 0.0029884419481945486\n",
      "Iteration 411: LHS Error: 2.0961747893011307e-08; RHS Error 0.0029884418835378346\n",
      "Iteration 412: LHS Error: 1.931057269644043e-08; RHS Error 0.0029884418226047357\n",
      "Iteration 413: LHS Error: 1.778967195775749e-08; RHS Error 0.002988441765267174\n",
      "Iteration 414: LHS Error: 1.6389730461696672e-08; RHS Error 0.002988441711388422\n",
      "Iteration 415: LHS Error: 1.5102012973500223e-08; RHS Error 0.002988441660826534\n",
      "Iteration 416: LHS Error: 1.3918399766055245e-08; RHS Error 0.0029884416134371497\n",
      "Iteration 417: LHS Error: 1.2831282703018587e-08; RHS Error 0.00298844156907244\n",
      "Iteration 418: LHS Error: 1.183358211420682e-08; RHS Error 0.0029884415275845885\n",
      "Iteration 419: LHS Error: 1.09186730767874e-08; RHS Error 0.00298844148882553\n",
      "Iteration 420: LHS Error: 1.0080400514311805e-08; RHS Error 0.002988441452649912\n",
      "Iteration 421: LHS Error: 9.313023241475094e-09; RHS Error 0.002988441418914828\n",
      "Converged. Total iteration 421: LHS Error: 9.313023241475094e-09; RHS Error 0.002988441418914828\n"
     ]
    }
   ],
   "source": [
    "model_paras = (η, δ, θ, πc_o, σ_y, ξ_w, ξ_p, ξ_a, γ_1, γ_2, y_bar_lower, y_bar_upper, ϕ_m, πd_o, r0, r1, τ)\n",
    "model_res = ode_y_jump_intensity_approach(y_grid_short, model_paras=model_paras, v0=v_guess, ϵ=1,\n",
    "                                          tol=1e-8, max_iter=500, print_all=True)"
   ]
  },
  {
   "cell_type": "code",
   "execution_count": 93,
   "metadata": {},
   "outputs": [
    {
     "data": {
      "text/plain": [
       "[<matplotlib.lines.Line2D at 0x7fc289c43e80>]"
      ]
     },
     "execution_count": 93,
     "metadata": {},
     "output_type": "execute_result"
    },
    {
     "data": {
      "image/png": "[encoded data removed]",
      "text/plain": [
       "<Figure size 432x288 with 1 Axes>"
      ]
     },
     "metadata": {
      "needs_background": "light"
     },
     "output_type": "display_data"
    }
   ],
   "source": [
    "plt.plot(model_res['v0'])"
   ]
  },
  {
   "cell_type": "markdown",
   "metadata": {},
   "source": [
    "## Simulation"
   ]
  },
  {
   "cell_type": "code",
   "execution_count": 8,
   "metadata": {},
   "outputs": [],
   "source": [
    "# Simulate capital process\n",
    "# Capital and z parameters\n",
    "α_k = -0.043\n",
    "β_k = 0.04\n",
    "σ_k = np.array([0.477*2, 0])/100.\n",
    "β_z = 0.014*4\n",
    "σ_z = np.array([0.011*2, 0.025*2])\n",
    "α = 0.115\n",
    "ioverk = 0.09\n",
    "κ = 6.667\n",
    "\n",
    "\n",
    "@njit(parallel=True)\n",
    "def simulate_capital(α_k, β_k, σ_k, β_z, σ_z, ioverk, κ, Ws, k_start, N=100_000, T=100, dt=1.):\n",
    "    var_z = dt*σ_z@σ_z/(1-(1-β_z*dt)**2)\n",
    "    std_z = np.sqrt(var_z)\n",
    "\n",
    "    time_periods = int(T/dt)\n",
    "    z_path = np.zeros((N, time_periods+1))\n",
    "    k_path = np.zeros((N, time_periods+1))\n",
    "    for i in range(N):\n",
    "        z0 = np.random.normal(0.,std_z)\n",
    "        k0 = k_start\n",
    "        z_path[i, 0] = z0\n",
    "        k_path[i, 0] = k0\n",
    "        for j in range(1, time_periods+1):\n",
    "            k1 = k0 + (α_k + β_k*z0 + ioverk - κ/2.*ioverk**2 - σ_k@σ_k/2.)*dt + σ_k@Ws[i, j]*np.sqrt(dt)\n",
    "            z1 = (1.-β_z*dt)*z0 + σ_z@Ws[i, j]*np.sqrt(dt)\n",
    "            k_path[i, j] = k1\n",
    "            z_path[i, j] = z1\n",
    "            k0 = k1\n",
    "            z0 = z1\n",
    "    return k_path\n",
    "\n",
    "T = 100\n",
    "N = 1_000_000\n",
    "dt = 1.\n",
    "k_start = np.log(80/α)\n",
    "η = .032\n",
    "Ws = np.random.multivariate_normal(np.zeros(2), np.eye(2), (N, int(T/dt)))\n",
    "logk_path = simulate_capital(α_k, β_k, σ_k, β_z, σ_z, ioverk, κ, Ws, k_start, N=N, T=T, dt=dt)\n",
    "Kt = np.percentile(np.exp(logk_path), 50, axis=0)"
   ]
  },
  {
   "cell_type": "code",
   "execution_count": 9,
   "metadata": {},
   "outputs": [],
   "source": [
    "e_grid_no_jump = model_res['e_tilde']\n",
    "e_grid_jump_low = np.array([model_low['e_tilde'] for model in model_high_list])\n",
    "e_grid_jump_high = np.array([model['e_tilde'] for model in model_high_list])\n",
    "e_grid_jump_extreme = np.array([model['e_tilde'] for model in model_extreme_list])\n",
    "e_grid_jump = np.array([e_grid_jump_low, e_grid_jump_high, e_grid_jump_extreme])"
   ]
  },
  {
   "cell_type": "code",
   "execution_count": 10,
   "metadata": {},
   "outputs": [],
   "source": [
    "@njit\n",
    "def simulation_one_path(y_grid_short, y_grid_long, y_grid_tilde, e_grid_no_jump, e_grid_jump,\n",
    "                        θ, y0, y_bar_lower, r0, r1, τ, damage_prob, T=80):\n",
    "    \"\"\"\n",
    "    y_grid : (N,) ndarray\n",
    "    e_grid_no_jump : (N,) ndarray\n",
    "    e_grid_jump : (3, M, N) ndarray\n",
    "        e_grid[0, i], e_grid[1, i] and e_grid[2, i] are the emissions conditional\n",
    "            on low, high and extreme damages when jump occurrs at y_grid_tilde[i].\n",
    "    \"\"\"\n",
    "    yt = np.zeros(T+1)\n",
    "    et = np.zeros(T+1)\n",
    "    damage_states_t = np.zeros(T+1)\n",
    "    jump_occurred = False\n",
    "    e_grid_realized = e_grid_no_jump\n",
    "    for i in range(T+1):\n",
    "        if y0 > y_bar_lower and jump_occurred == False:\n",
    "            intensity = - r0 * (np.exp(- r1 / 2. * (y0-y_bar_lower)**2) - 1.)\n",
    "            jump_prob = τ * intensity\n",
    "            realized_jump_state = np.random.multinomial(n=1, pvals=np.array([jump_prob, 1-jump_prob]))\n",
    "            if np.array_equal(realized_jump_state, np.array([1, 0])):\n",
    "                jump_occurred = True\n",
    "                realized_damage_state = np.random.multinomial(n=1, pvals=damage_prob)\n",
    "                loc = find_nearest_value(y_grid_tilde, y0)\n",
    "                if np.array_equal(realized_damage_state, np.array([1, 0, 0])):\n",
    "                    e_grid_realized = e_grid_jump[0, loc]\n",
    "                    damage_states_t[i:] = 1\n",
    "                elif np.array_equal(realized_damage_state, np.array([0, 1, 0])):\n",
    "                    e_grid_realized = e_grid_jump[1, loc]\n",
    "                    damage_states_t[i:] = 2\n",
    "                else:\n",
    "                    e_grid_realized = e_grid_jump[2, loc]\n",
    "                    damage_states_t[i:] = 3\n",
    "        if jump_occurred:\n",
    "            et[i] = np.interp(y0, y_grid_long, e_grid_realized)\n",
    "        else:\n",
    "            et[i] = np.interp(y0, y_grid_short, e_grid_realized)\n",
    "        yt[i] = y0\n",
    "        y0 = y0 + et[i]*θ\n",
    "    return et, yt, damage_states_t\n",
    "\n",
    "@njit\n",
    "def simulation_n_path(y_grid_short, y_grid_long, y_grid_tilde, e_grid_no_jump, e_grid_jump,\n",
    "                      θ, y0, y_bar_lower, r0, r1, τ, damage_prob, T=80, N=10_000):\n",
    "    yt_n_path = np.zeros((N, T+1))\n",
    "    et_n_path = np.zeros((N, T+1))\n",
    "    damage_states_t_n_path = np.zeros((N, T+1))\n",
    "    for n in range(N):\n",
    "        et, yt, damage_states_t = simulation_one_path(y_grid_short, y_grid_long, y_grid_tilde, e_grid_no_jump, e_grid_jump,\n",
    "                                     θ, y0, y_bar_lower, r0, r1, τ, damage_prob, T=T)\n",
    "        yt_n_path[n] = yt\n",
    "        et_n_path[n] = et\n",
    "        damage_states_t_n_path[n] = damage_states_t\n",
    "    return et_n_path, yt_n_path, damage_states_t_n_path"
   ]
  },
  {
   "cell_type": "code",
   "execution_count": 11,
   "metadata": {},
   "outputs": [],
   "source": [
    "et, yt, damage_states_t = simulation_n_path(y_grid_short, y_grid_long, y_grid_tilde, e_grid_no_jump, e_grid_jump,\n",
    "                           np.mean(model_res['θ']), y0=1.1, y_bar_lower=y_bar_lower, r0=r0,\n",
    "                           r1=r1, τ=τ, damage_prob=np.array([1./3, 1./3, 1./3]), T=80, N=1_000_000)"
   ]
  },
  {
   "cell_type": "code",
   "execution_count": 12,
   "metadata": {},
   "outputs": [],
   "source": [
    "et_10 = np.percentile(et, 10, axis=0)\n",
    "et_50 = np.percentile(et, 50, axis=0)\n",
    "et_90 = np.percentile(et, 90, axis=0)\n",
    "\n",
    "et_01 = np.percentile(et, 1, axis=0)\n",
    "et_99 = np.percentile(et, 99, axis=0)"
   ]
  },
  {
   "cell_type": "code",
   "execution_count": 13,
   "metadata": {},
   "outputs": [
    {
     "data": {
      "text/plain": [
       "(100,)"
      ]
     },
     "execution_count": 13,
     "metadata": {},
     "output_type": "execute_result"
    }
   ],
   "source": [
    "np.unique(et[:,80]).shape"
   ]
  },
  {
   "cell_type": "code",
   "execution_count": 14,
   "metadata": {},
   "outputs": [
    {
     "data": {
      "text/plain": [
       "Text(0.5, 0, 'Years')"
      ]
     },
     "execution_count": 14,
     "metadata": {},
     "output_type": "execute_result"
    },
    {
     "data": {
      "image/png": "[encoded data removed]",
      "text/plain": [
       "<Figure size 432x288 with 1 Axes>"
      ]
     },
     "metadata": {
      "needs_background": "light"
     },
     "output_type": "display_data"
    }
   ],
   "source": [
    "plt.plot(et_10, label='.10 percentile', linewidth=2.)\n",
    "plt.plot(et_50, label='.50 percentile', linewidth=2.)\n",
    "plt.plot(et_90, label='.90 percentile', linewidth=2.)\n",
    "plt.legend(frameon=False)\n",
    "plt.title('Emission')\n",
    "plt.xlabel('Years')"
   ]
  },
  {
   "cell_type": "markdown",
   "metadata": {},
   "source": [
    "## No jump plots"
   ]
  },
  {
   "cell_type": "code",
   "execution_count": 15,
   "metadata": {},
   "outputs": [],
   "source": [
    "T = 86\n",
    "et_no_jump, yt_no_jump, _, _ = simulation(model_res['y_grid'], model_res['e_tilde'], model_res['h'], model_res['g'],\n",
    "                            θ=np.mean(model_res['θ']), y_start=1.1, T=T)"
   ]
  },
  {
   "cell_type": "code",
   "execution_count": 16,
   "metadata": {
    "scrolled": true
   },
   "outputs": [
    {
     "data": {
      "text/plain": [
       "[<matplotlib.lines.Line2D at 0x7fc29bddef10>]"
      ]
     },
     "execution_count": 16,
     "metadata": {},
     "output_type": "execute_result"
    },
    {
     "data": {
      "image/png": "[encoded data removed]",
      "text/plain": [
       "<Figure size 432x288 with 1 Axes>"
      ]
     },
     "metadata": {
      "needs_background": "light"
     },
     "output_type": "display_data"
    }
   ],
   "source": [
    "# Compute continuation probability\n",
    "dt = 1./1\n",
    "con_prob = np.ones(int(T/dt)+1)\n",
    "time_periods = np.arange(0, T+dt, dt)\n",
    "yt_no_jump_long = np.interp(time_periods, np.array(range(T+1)), yt_no_jump)\n",
    "con_prob_sum = 0\n",
    "for t in range(time_periods.shape[0]):\n",
    "    y = yt_no_jump_long[t]\n",
    "    if y >= y_bar_lower:\n",
    "        intensity = - r0 * (np.exp(- r1 / 2. * (y-y_bar_lower)**2) - 1.)\n",
    "        con_prob_sum += intensity * dt\n",
    "        con_prob[t] = np.exp(-con_prob_sum)\n",
    "\n",
    "# Plot continuation probability\n",
    "plt.plot(time_periods, con_prob)"
   ]
  },
  {
   "cell_type": "code",
   "execution_count": 17,
   "metadata": {},
   "outputs": [],
   "source": [
    "# Compute no jump probability\n",
    "no_jump_prob = np.ones_like(yt_no_jump)\n",
    "for t in range(no_jump_prob.shape[0]):\n",
    "    y = yt_no_jump[t]\n",
    "    if y > y_bar_lower:\n",
    "        intensity = - r0 * (np.exp(- r1 / 2. * (y-y_bar_lower)**2) - 1.)\n",
    "        no_jump_prob[t] = (1 - intensity*τ) * no_jump_prob[t-1]"
   ]
  },
  {
   "cell_type": "code",
   "execution_count": 18,
   "metadata": {},
   "outputs": [],
   "source": [
    "np.save('yt_03.npy', yt_no_jump)\n",
    "np.save('prob_03.npy', no_jump_prob)"
   ]
  },
  {
   "cell_type": "code",
   "execution_count": 19,
   "metadata": {},
   "outputs": [
    {
     "data": {
      "text/plain": [
       "Text(0.5, 0.98, '$r_0=0.25$')"
      ]
     },
     "execution_count": 19,
     "metadata": {},
     "output_type": "execute_result"
    },
    {
     "data": {
      "image/png": "[encoded data removed]",
      "text/plain": [
       "<Figure size 864x288 with 2 Axes>"
      ]
     },
     "metadata": {
      "needs_background": "light"
     },
     "output_type": "display_data"
    }
   ],
   "source": [
    "fig, (ax1, ax2) = plt.subplots(1, 2, figsize=(12,4))\n",
    "ax1.plot(yt_no_jump, linewidth=2.)\n",
    "ax1.plot(np.ones_like(yt_no_jump)*1.5, linestyle='dashed', color='black', linewidth=2)\n",
    "ax1.set_xlabel('Years', fontsize=13)\n",
    "ax1.set_title(r'Temperature anomaly')\n",
    "ax1.set_ylim(1, 2)\n",
    "\n",
    "ax2.plot(no_jump_prob, linewidth=2.)\n",
    "ax2.set_xlabel('Years', fontsize=13)\n",
    "ax2.set_title(r'No jump probability')\n",
    "ax2.set_ylim(0, 1.05)\n",
    "\n",
    "fig.suptitle(r'$r_0=0.25$', fontsize=13)\n",
    "# fig.savefig('fig_2.pdf')"
   ]
  },
  {
   "cell_type": "code",
   "execution_count": 21,
   "metadata": {},
   "outputs": [
    {
     "data": {
      "text/plain": [
       "1.996897093373939"
      ]
     },
     "execution_count": 21,
     "metadata": {},
     "output_type": "execute_result"
    }
   ],
   "source": [
    "yt_no_jump[86]"
   ]
  },
  {
   "cell_type": "code",
   "execution_count": 22,
   "metadata": {},
   "outputs": [],
   "source": [
    "def compute_prob(array):\n",
    "    array_unique = np.unique(array)\n",
    "    prob = np.zeros_like(array_unique)\n",
    "    for i, point in enumerate(array_unique):\n",
    "        prob[i] = np.sum(array==point)/len(array)\n",
    "    return array_unique, prob"
   ]
  },
  {
   "cell_type": "markdown",
   "metadata": {},
   "source": [
    "## T = 60"
   ]
  },
  {
   "cell_type": "code",
   "execution_count": 79,
   "metadata": {},
   "outputs": [
    {
     "data": {
      "text/plain": [
       "0.29373072747161716"
      ]
     },
     "execution_count": 79,
     "metadata": {},
     "output_type": "execute_result"
    }
   ],
   "source": [
    "(1-no_jump_prob[80])/3"
   ]
  },
  {
   "cell_type": "code",
   "execution_count": 89,
   "metadata": {},
   "outputs": [],
   "source": [
    "# Compute probabilities\n",
    "T_plot = 60\n",
    "et_states, et_prob = compute_prob(et[:, T_plot])\n",
    "Kt_fixed = Kt[T_plot]\n",
    "\n",
    "et_no_jump = et[:, T_plot][damage_states_t[:, T_plot]==0]\n",
    "et_low = et[:, T_plot][damage_states_t[:, T_plot]==1]\n",
    "et_high = et[:, T_plot][damage_states_t[:, T_plot]==2]\n",
    "et_extreme = et[:, T_plot][damage_states_t[:, T_plot]==3]\n",
    "\n",
    "et_no_jump_states, et_no_jump_prob = compute_prob(et_no_jump)\n",
    "et_low_states, et_low_prob = compute_prob(et_low)\n",
    "et_high_states, et_high_prob = compute_prob(et_high)\n",
    "et_extreme_states, et_extreme_prob = compute_prob(et_extreme)\n",
    "\n",
    "yt_no_jump = yt[:, T_plot][damage_states_t[:, T_plot]==0]\n",
    "yt_low = yt[:, T_plot][damage_states_t[:, T_plot]==1]\n",
    "yt_high = yt[:, T_plot][damage_states_t[:, T_plot]==2]\n",
    "yt_extreme = yt[:, T_plot][damage_states_t[:, T_plot]==3]\n",
    "\n",
    "yt_no_jump_states, yt_no_jump_prob = compute_prob(yt_no_jump)\n",
    "yt_low_states, yt_low_prob = compute_prob(yt_low)\n",
    "yt_high_states, yt_high_prob = compute_prob(yt_high)\n",
    "yt_extreme_states, yt_extreme_prob = compute_prob(yt_extreme)"
   ]
  },
  {
   "cell_type": "code",
   "execution_count": 91,
   "metadata": {},
   "outputs": [
    {
     "data": {
      "text/plain": [
       "array([4.63184923])"
      ]
     },
     "execution_count": 91,
     "metadata": {},
     "output_type": "execute_result"
    }
   ],
   "source": [
    "et_no_jump_states"
   ]
  },
  {
   "cell_type": "code",
   "execution_count": 81,
   "metadata": {},
   "outputs": [
    {
     "data": {
      "text/plain": [
       "((1,), (13,), (13,), (13,))"
      ]
     },
     "execution_count": 81,
     "metadata": {},
     "output_type": "execute_result"
    }
   ],
   "source": [
    "et_no_jump_states.shape, et_low_states.shape, et_high_states.shape, et_extreme_states.shape"
   ]
  },
  {
   "cell_type": "code",
   "execution_count": 82,
   "metadata": {},
   "outputs": [
    {
     "data": {
      "image/png": "[encoded data removed]",
      "text/plain": [
       "<Figure size 1296x288 with 3 Axes>"
      ]
     },
     "metadata": {
      "needs_background": "light"
     },
     "output_type": "display_data"
    },
    {
     "data": {
      "image/png": "[encoded data removed]",
      "text/plain": [
       "<Figure size 1296x288 with 3 Axes>"
      ]
     },
     "metadata": {
      "needs_background": "light"
     },
     "output_type": "display_data"
    },
    {
     "data": {
      "image/png": "[encoded data removed]",
      "text/plain": [
       "<Figure size 1296x288 with 3 Axes>"
      ]
     },
     "metadata": {
      "needs_background": "light"
     },
     "output_type": "display_data"
    }
   ],
   "source": [
    "fig, (ax1, ax2, ax3) = plt.subplots(1, 3, figsize=(18, 4))\n",
    "ax1.hist(et_low_states, weights=et_low_prob, bins=20, density=False)\n",
    "ax1.set_ylabel('Probability', fontsize=13)\n",
    "\n",
    "ax2.hist(et_high_states, weights=et_high_prob, bins=20, density=False)\n",
    "ax2.set_ylabel('Probability', fontsize=13)\n",
    "\n",
    "ax3.hist(et_extreme_states, weights=et_extreme_prob, bins=20, density=False)\n",
    "ax3.set_ylabel('Probability', fontsize=13)\n",
    "\n",
    "fig.suptitle(r'Figure 1.1: Histograms of emission conditional on low (left), high (middle) and extreme (right) damage; Year '+str(T_plot))\n",
    "fig.savefig('fig_11.pdf')\n",
    "\n",
    "\n",
    "fig, (ax1, ax2, ax3) = plt.subplots(1, 3, figsize=(18,4))\n",
    "ax1.hist(η*(0.025)*Kt_fixed/((1.-η)*et_low_states)*1000, weights=et_low_prob, bins=20, density=False)\n",
    "ax1.set_ylabel('Probability', fontsize=13)\n",
    "\n",
    "ax2.hist(η*(0.025)*Kt_fixed/((1.-η)*et_high_states)*1000, weights=et_high_prob, bins=20, density=False)\n",
    "ax2.set_ylabel('Probability', fontsize=13)\n",
    "\n",
    "ax3.hist(η*(0.025)*Kt_fixed/((1.-η)*et_extreme_states)*1000, weights=et_extreme_prob, bins=20, density=False)\n",
    "ax3.set_ylabel('Probability', fontsize=13)\n",
    "\n",
    "fig.suptitle(r'Figure 1.2: Histograms of SCC conditional on low (left), high (middle) and extreme (right) damage; Year '+str(T_plot))\n",
    "fig.savefig('fig_12.pdf')\n",
    "\n",
    "fig, (ax1, ax2, ax3) = plt.subplots(1, 3, figsize=(18, 4))\n",
    "ax1.hist(yt_low_states, weights=et_low_prob, bins=20, density=False)\n",
    "ax1.set_ylabel('Probability', fontsize=13)\n",
    "\n",
    "ax2.hist(yt_high_states, weights=et_high_prob, bins=20, density=False)\n",
    "ax2.set_ylabel('Probability', fontsize=13)\n",
    "\n",
    "ax3.hist(yt_extreme_states, weights=et_extreme_prob, bins=20, density=False)\n",
    "ax3.set_ylabel('Probability', fontsize=13)\n",
    "\n",
    "fig.suptitle(r'Figure 1.3: Histograms of temperature anomaly conditional on low (left), high (middle) and extreme (right) damage; Year '+str(T_plot))\n",
    "fig.savefig('fig_13.pdf')"
   ]
  },
  {
   "cell_type": "code",
   "execution_count": 83,
   "metadata": {},
   "outputs": [],
   "source": [
    "# Compute probabilities\n",
    "T_plot = 70\n",
    "et_states, et_prob = compute_prob(et[:, T_plot])\n",
    "Kt_fixed = Kt[T_plot]\n",
    "\n",
    "et_no_jump = et[:, T_plot][damage_states_t[:, T_plot]==0]\n",
    "et_low = et[:, T_plot][damage_states_t[:, T_plot]==1]\n",
    "et_high = et[:, T_plot][damage_states_t[:, T_plot]==2]\n",
    "et_extreme = et[:, T_plot][damage_states_t[:, T_plot]==3]\n",
    "\n",
    "et_no_jump_states, et_no_jump_prob = compute_prob(et_no_jump)\n",
    "et_low_states, et_low_prob = compute_prob(et_low)\n",
    "et_high_states, et_high_prob = compute_prob(et_high)\n",
    "et_extreme_states, et_extreme_prob = compute_prob(et_extreme)\n",
    "\n",
    "yt_no_jump = yt[:, T_plot][damage_states_t[:, T_plot]==0]\n",
    "yt_low = yt[:, T_plot][damage_states_t[:, T_plot]==1]\n",
    "yt_high = yt[:, T_plot][damage_states_t[:, T_plot]==2]\n",
    "yt_extreme = yt[:, T_plot][damage_states_t[:, T_plot]==3]\n",
    "\n",
    "yt_no_jump_states, yt_no_jump_prob = compute_prob(yt_no_jump)\n",
    "yt_low_states, yt_low_prob = compute_prob(yt_low)\n",
    "yt_high_states, yt_high_prob = compute_prob(yt_high)\n",
    "yt_extreme_states, yt_extreme_prob = compute_prob(yt_extreme)"
   ]
  },
  {
   "cell_type": "code",
   "execution_count": 84,
   "metadata": {},
   "outputs": [
    {
     "data": {
      "text/plain": [
       "((1,), (23,), (23,), (23,))"
      ]
     },
     "execution_count": 84,
     "metadata": {},
     "output_type": "execute_result"
    }
   ],
   "source": [
    "et_no_jump_states.shape, et_low_states.shape, et_high_states.shape, et_extreme_states.shape"
   ]
  },
  {
   "cell_type": "code",
   "execution_count": 85,
   "metadata": {},
   "outputs": [
    {
     "data": {
      "image/png": "[encoded data removed]",
      "text/plain": [
       "<Figure size 1296x288 with 3 Axes>"
      ]
     },
     "metadata": {
      "needs_background": "light"
     },
     "output_type": "display_data"
    },
    {
     "data": {
      "image/png": "[encoded data removed]",
      "text/plain": [
       "<Figure size 1296x288 with 3 Axes>"
      ]
     },
     "metadata": {
      "needs_background": "light"
     },
     "output_type": "display_data"
    },
    {
     "data": {
      "image/png": "[encoded data removed]",
      "text/plain": [
       "<Figure size 1296x288 with 3 Axes>"
      ]
     },
     "metadata": {
      "needs_background": "light"
     },
     "output_type": "display_data"
    }
   ],
   "source": [
    "fig, (ax1, ax2, ax3) = plt.subplots(1, 3, figsize=(18, 4))\n",
    "ax1.hist(et_low_states, weights=et_low_prob, bins=20, density=False)\n",
    "ax1.set_ylabel('Probability', fontsize=13)\n",
    "\n",
    "ax2.hist(et_high_states, weights=et_high_prob, bins=20, density=False)\n",
    "ax2.set_ylabel('Probability', fontsize=13)\n",
    "\n",
    "ax3.hist(et_extreme_states, weights=et_extreme_prob, bins=20, density=False)\n",
    "ax3.set_ylabel('Probability', fontsize=13)\n",
    "\n",
    "fig.suptitle(r'Figure 2.1: Histograms of emission conditional on low (left), high (middle) and extreme (right) damage; Year '+str(T_plot))\n",
    "fig.savefig('fig_21.pdf')\n",
    "\n",
    "\n",
    "fig, (ax1, ax2, ax3) = plt.subplots(1, 3, figsize=(18,4))\n",
    "ax1.hist(η*(0.025)*Kt_fixed/((1.-η)*et_low_states)*1000, weights=et_low_prob, bins=20, density=False)\n",
    "ax1.set_ylabel('Probability', fontsize=13)\n",
    "\n",
    "ax2.hist(η*(0.025)*Kt_fixed/((1.-η)*et_high_states)*1000, weights=et_high_prob, bins=20, density=False)\n",
    "ax2.set_ylabel('Probability', fontsize=13)\n",
    "\n",
    "ax3.hist(η*(0.025)*Kt_fixed/((1.-η)*et_extreme_states)*1000, weights=et_extreme_prob, bins=20, density=False)\n",
    "ax3.set_ylabel('Probability', fontsize=13)\n",
    "\n",
    "fig.suptitle(r'Figure 2.2: Histograms of SCC conditional on low (left), high (middle) and extreme (right) damage; Year '+str(T_plot))\n",
    "fig.savefig('fig_22.pdf')\n",
    "\n",
    "fig, (ax1, ax2, ax3) = plt.subplots(1, 3, figsize=(18, 4))\n",
    "ax1.hist(yt_low_states, weights=et_low_prob, bins=20, density=False)\n",
    "ax1.set_ylabel('Probability', fontsize=13)\n",
    "\n",
    "ax2.hist(yt_high_states, weights=et_high_prob, bins=20, density=False)\n",
    "ax2.set_ylabel('Probability', fontsize=13)\n",
    "\n",
    "ax3.hist(yt_extreme_states, weights=et_extreme_prob, bins=20, density=False)\n",
    "ax3.set_ylabel('Probability', fontsize=13)\n",
    "\n",
    "fig.suptitle(r'Figure 2.3: Histograms of temperature anomaly conditional on low (left), high (middle) and extreme (right) damage; Year '+str(T_plot))\n",
    "fig.savefig('fig_23.pdf')"
   ]
  },
  {
   "cell_type": "code",
   "execution_count": 86,
   "metadata": {},
   "outputs": [],
   "source": [
    "# Compute probabilities\n",
    "T_plot = 80\n",
    "et_states, et_prob = compute_prob(et[:, T_plot])\n",
    "Kt_fixed = Kt[T_plot]\n",
    "\n",
    "et_no_jump = et[:, T_plot][damage_states_t[:, T_plot]==0]\n",
    "et_low = et[:, T_plot][damage_states_t[:, T_plot]==1]\n",
    "et_high = et[:, T_plot][damage_states_t[:, T_plot]==2]\n",
    "et_extreme = et[:, T_plot][damage_states_t[:, T_plot]==3]\n",
    "\n",
    "et_no_jump_states, et_no_jump_prob = compute_prob(et_no_jump)\n",
    "et_low_states, et_low_prob = compute_prob(et_low)\n",
    "et_high_states, et_high_prob = compute_prob(et_high)\n",
    "et_extreme_states, et_extreme_prob = compute_prob(et_extreme)\n",
    "\n",
    "yt_no_jump = yt[:, T_plot][damage_states_t[:, T_plot]==0]\n",
    "yt_low = yt[:, T_plot][damage_states_t[:, T_plot]==1]\n",
    "yt_high = yt[:, T_plot][damage_states_t[:, T_plot]==2]\n",
    "yt_extreme = yt[:, T_plot][damage_states_t[:, T_plot]==3]\n",
    "\n",
    "yt_no_jump_states, yt_no_jump_prob = compute_prob(yt_no_jump)\n",
    "yt_low_states, yt_low_prob = compute_prob(yt_low)\n",
    "yt_high_states, yt_high_prob = compute_prob(yt_high)\n",
    "yt_extreme_states, yt_extreme_prob = compute_prob(yt_extreme)"
   ]
  },
  {
   "cell_type": "code",
   "execution_count": 87,
   "metadata": {},
   "outputs": [
    {
     "data": {
      "text/plain": [
       "((1,), (33,), (33,), (33,))"
      ]
     },
     "execution_count": 87,
     "metadata": {},
     "output_type": "execute_result"
    }
   ],
   "source": [
    "et_no_jump_states.shape, et_low_states.shape, et_high_states.shape, et_extreme_states.shape"
   ]
  },
  {
   "cell_type": "code",
   "execution_count": 88,
   "metadata": {},
   "outputs": [
    {
     "data": {
      "image/png": "[encoded data removed]",
      "text/plain": [
       "<Figure size 1296x288 with 3 Axes>"
      ]
     },
     "metadata": {
      "needs_background": "light"
     },
     "output_type": "display_data"
    },
    {
     "data": {
      "image/png": "[encoded data removed]",
      "text/plain": [
       "<Figure size 1296x288 with 3 Axes>"
      ]
     },
     "metadata": {
      "needs_background": "light"
     },
     "output_type": "display_data"
    },
    {
     "data": {
      "image/png": "[encoded data removed]",
      "text/plain": [
       "<Figure size 1296x288 with 3 Axes>"
      ]
     },
     "metadata": {
      "needs_background": "light"
     },
     "output_type": "display_data"
    }
   ],
   "source": [
    "fig, (ax1, ax2, ax3) = plt.subplots(1, 3, figsize=(18, 4))\n",
    "ax1.hist(et_low_states, weights=et_low_prob, bins=20, density=False)\n",
    "ax1.set_ylabel('Probability', fontsize=13)\n",
    "\n",
    "ax2.hist(et_high_states, weights=et_high_prob, bins=20, density=False)\n",
    "ax2.set_ylabel('Probability', fontsize=13)\n",
    "\n",
    "ax3.hist(et_extreme_states, weights=et_extreme_prob, bins=20, density=False)\n",
    "ax3.set_ylabel('Probability', fontsize=13)\n",
    "\n",
    "fig.suptitle(r'Figure 3.1: Histograms of emission conditional on low (left), high (middle) and extreme (right) damage; Year '+str(T_plot))\n",
    "fig.savefig('fig_31.pdf')\n",
    "\n",
    "\n",
    "fig, (ax1, ax2, ax3) = plt.subplots(1, 3, figsize=(18,4))\n",
    "ax1.hist(η*(0.025)*Kt_fixed/((1.-η)*et_low_states)*1000, weights=et_low_prob, bins=20, density=False)\n",
    "ax1.set_ylabel('Probability', fontsize=13)\n",
    "\n",
    "ax2.hist(η*(0.025)*Kt_fixed/((1.-η)*et_high_states)*1000, weights=et_high_prob, bins=20, density=False)\n",
    "ax2.set_ylabel('Probability', fontsize=13)\n",
    "\n",
    "ax3.hist(η*(0.025)*Kt_fixed/((1.-η)*et_extreme_states)*1000, weights=et_extreme_prob, bins=20, density=False)\n",
    "ax3.set_ylabel('Probability', fontsize=13)\n",
    "\n",
    "fig.suptitle(r'Figure 3.2: Histograms of SCC conditional on low (left), high (middle) and extreme (right) damage; Year '+str(T_plot))\n",
    "fig.savefig('fig_32.pdf')\n",
    "\n",
    "fig, (ax1, ax2, ax3) = plt.subplots(1, 3, figsize=(18, 4))\n",
    "ax1.hist(yt_low_states, weights=et_low_prob, bins=20, density=False)\n",
    "ax1.set_ylabel('Probability', fontsize=13)\n",
    "\n",
    "ax2.hist(yt_high_states, weights=et_high_prob, bins=20, density=False)\n",
    "ax2.set_ylabel('Probability', fontsize=13)\n",
    "\n",
    "ax3.hist(yt_extreme_states, weights=et_extreme_prob, bins=20, density=False)\n",
    "ax3.set_ylabel('Probability', fontsize=13)\n",
    "\n",
    "fig.suptitle(r'Figure 3.3: Histograms of temperature anomaly conditional on low (left), high (middle) and extreme (right) damage; Year '+str(T_plot))\n",
    "fig.savefig('fig_33.pdf')"
   ]
  },
  {
   "cell_type": "code",
   "execution_count": null,
   "metadata": {},
   "outputs": [],
   "source": []
  },
  {
   "cell_type": "code",
   "execution_count": null,
   "metadata": {},
   "outputs": [],
   "source": []
  },
  {
   "cell_type": "code",
   "execution_count": null,
   "metadata": {},
   "outputs": [],
   "source": []
  },
  {
   "cell_type": "code",
   "execution_count": null,
   "metadata": {},
   "outputs": [],
   "source": []
  },
  {
   "cell_type": "code",
   "execution_count": 40,
   "metadata": {
    "scrolled": true
   },
   "outputs": [
    {
     "data": {
      "text/plain": [
       "Text(0, 0.5, 'Probability')"
      ]
     },
     "execution_count": 40,
     "metadata": {},
     "output_type": "execute_result"
    },
    {
     "data": {
      "image/png": "[encoded data removed]",
      "text/plain": [
       "<Figure size 432x288 with 1 Axes>"
      ]
     },
     "metadata": {
      "needs_background": "light"
     },
     "output_type": "display_data"
    },
    {
     "data": {
      "image/png": "[encoded data removed]",
      "text/plain": [
       "<Figure size 432x288 with 1 Axes>"
      ]
     },
     "metadata": {
      "needs_background": "light"
     },
     "output_type": "display_data"
    }
   ],
   "source": [
    "plt.figure()\n",
    "plt.hist(et_states, weights=et_prob, bins=100, density=False)\n",
    "plt.title('Figure 1: Emission histogram ('+str(T_after)+r' years after $y$ reaching 1.5)')\n",
    "plt.ylabel('Probability')\n",
    "# plt.savefig('fig_1.pdf')\n",
    "\n",
    "plt.figure()\n",
    "plt.hist(η*(0.025)*Kt_fixed/((1.-η)*et_states)*1000, weights=et_prob, bins=100, density=False)\n",
    "plt.title(r'Figure 2: SCC histogram ('+str(T_after)+r' years after $y$ reaching 1.5)')\n",
    "plt.ylabel('Probability')\n",
    "# plt.savefig('fig_2.pdf')"
   ]
  },
  {
   "cell_type": "code",
   "execution_count": null,
   "metadata": {},
   "outputs": [],
   "source": [
    "# Compute probabilities\n",
    "T_after = 20\n",
    "et_states, et_prob = compute_prob(et[:, 50+T_after])\n",
    "Kt_fixed = Kt[50+T_after]"
   ]
  },
  {
   "cell_type": "code",
   "execution_count": null,
   "metadata": {},
   "outputs": [],
   "source": [
    "plt.figure()\n",
    "plt.hist(et_states, weights=et_prob, bins=100, density=False)\n",
    "plt.title('Figure 3: Emission histogram ('+str(T_after)+r' years after $y$ reaching 1.5)')\n",
    "plt.ylabel('Probability')\n",
    "plt.savefig('fig_3.pdf')\n",
    "\n",
    "plt.figure()\n",
    "plt.hist(η*(0.025)*Kt_fixed/((1.-η)*et_states)*1000, weights=et_prob, bins=100, density=False)\n",
    "plt.title(r'Figure 4: SCC histogram ('+str(T_after)+r' years after $y$ reaching 1.5)')\n",
    "plt.ylabel('Probability')\n",
    "plt.savefig('fig_4.pdf')"
   ]
  },
  {
   "cell_type": "code",
   "execution_count": null,
   "metadata": {},
   "outputs": [],
   "source": [
    "# Compute probabilities\n",
    "T_after = 20\n",
    "et_states, et_prob = compute_prob(et[:, 50+T_after])\n",
    "Kt_fixed = Kt[50+T_after]"
   ]
  },
  {
   "cell_type": "code",
   "execution_count": null,
   "metadata": {
    "scrolled": false
   },
   "outputs": [],
   "source": [
    "import pandas as pd\n",
    "df = pd.DataFrame({'emission state': et_states,\n",
    "              'SCC state': η*(0.025)*Kt_fixed/((1.-η)*et_states)*1000, \n",
    "              'probability': et_prob})\n",
    "df[-30:]"
   ]
  },
  {
   "cell_type": "code",
   "execution_count": null,
   "metadata": {
    "scrolled": true
   },
   "outputs": [],
   "source": [
    "yt_no_jump[55], yt_no_jump[60], yt_no_jump[65], yt_no_jump[70]"
   ]
  },
  {
   "cell_type": "code",
   "execution_count": null,
   "metadata": {},
   "outputs": [],
   "source": [
    "yt_no_jump[80]"
   ]
  },
  {
   "cell_type": "markdown",
   "metadata": {},
   "source": [
    "## Old plots"
   ]
  },
  {
   "cell_type": "code",
   "execution_count": null,
   "metadata": {
    "scrolled": true
   },
   "outputs": [],
   "source": [
    "plt.plot(y_grid_short[40:], model_res['πd'][0][40:], label='low damage')\n",
    "plt.plot(y_grid_short[40:], model_res['πd'][1][40:], label='high damage')\n",
    "plt.plot(y_grid_short[40:], model_res['πd'][2][40:], label='extreme damage')\n",
    "plt.legend(frameon=False)\n",
    "plt.ylim(0, 1)"
   ]
  },
  {
   "cell_type": "code",
   "execution_count": null,
   "metadata": {},
   "outputs": [],
   "source": [
    "plt.plot(y_grid_short, model_res['e_tilde'])\n",
    "plt.title('Figure 1: Emission')\n",
    "plt.xlabel('y')\n",
    "plt.savefig('fig_1.pdf')"
   ]
  },
  {
   "cell_type": "code",
   "execution_count": null,
   "metadata": {},
   "outputs": [],
   "source": [
    "plt.plot(y_grid_short, model_res['v0_dy'])\n",
    "plt.title(r'Figure 2: $\\frac{d\\phi}{dy}(y)$')\n",
    "plt.xlabel('y')\n",
    "plt.savefig('fig_2.pdf')"
   ]
  },
  {
   "cell_type": "code",
   "execution_count": null,
   "metadata": {},
   "outputs": [],
   "source": [
    "plt.plot(y_grid_short, model_res['intensity'])\n",
    "plt.title('Figure 3: Intensity')\n",
    "plt.xlabel('y')\n",
    "plt.savefig('fig_3.pdf')"
   ]
  },
  {
   "cell_type": "code",
   "execution_count": null,
   "metadata": {},
   "outputs": [],
   "source": [
    "plt.plot(y_grid_short, model_res['v0'])\n",
    "plt.title(r'Figure 4: Value function $\\phi(y)$')\n",
    "plt.xlabel('y')\n",
    "plt.savefig('fig_4.pdf')"
   ]
  },
  {
   "cell_type": "code",
   "execution_count": null,
   "metadata": {},
   "outputs": [],
   "source": [
    "et, yt, ht, gt = simulation(model_res['y_grid'], model_res['e_tilde'], model_res['h'], model_res['g'],\n",
    "                            θ=np.mean(model_res['θ']), y_start=1.1, T=89)"
   ]
  },
  {
   "cell_type": "code",
   "execution_count": null,
   "metadata": {},
   "outputs": [],
   "source": [
    "plt.plot(et)"
   ]
  },
  {
   "cell_type": "code",
   "execution_count": null,
   "metadata": {},
   "outputs": [],
   "source": [
    "# Compute model high/extreme at 1.6, 1.8, 2.0\n",
    "model_args_high_new = []\n",
    "model_args_extreme_new = []\n",
    "\n",
    "for y_jump in [1.6, 1.8, 2.0]:\n",
    "    model_paras_high = (η, δ, θ, πc_o, σ_y, ξ_w, ξ_a, γ_1, γ_2, γ_2p[1], y_jump)\n",
    "    model_paras_extreme = (η, δ, θ, πc_o, σ_y, ξ_w, ξ_a, γ_1, γ_2, γ_2p[2], y_jump)\n",
    "    model_args_high_new.append((np.arange(0., y_bar_upper*2, .01), model_paras_high, None, ϵ, 1e-8, 5000, False))\n",
    "    model_args_extreme_new.append((np.arange(0., y_bar_upper*2, .01), model_paras_extreme, None, ϵ, 1e-8, 5000, False))\n",
    "\n",
    "print('----- Solving high damage models -----')\n",
    "model_high_list_new = ode_y_parallel(model_args_high_new)\n",
    "print('----- Solving extreme damage models -----')\n",
    "model_extreme_list_new = ode_y_parallel(model_args_extreme_new)"
   ]
  },
  {
   "cell_type": "code",
   "execution_count": null,
   "metadata": {},
   "outputs": [],
   "source": [
    "et_low, _, _, _ = simulation(model_low['y_grid'], model_low['e_tilde'], model_low['h'],\n",
    "                                 np.array([np.zeros_like(model_low['h']), np.zeros_like(model_low['h'])]),\n",
    "                                 θ=np.mean(model_res['θ']), y_start=1.1, T=89)"
   ]
  },
  {
   "cell_type": "code",
   "execution_count": null,
   "metadata": {},
   "outputs": [],
   "source": [
    "et_high_16, _, _, _ = simulation(model_high_list_new[0]['y_grid'], model_high_list_new[0]['e_tilde'], model_high_list_new[0]['h'],\n",
    "                                 np.array([np.zeros_like(model_high_list_new[0]['h']), np.zeros_like(model_high_list_new[0]['h'])]),\n",
    "                                 θ=np.mean(model_res['θ']), y_start=1.1, T=89)"
   ]
  },
  {
   "cell_type": "code",
   "execution_count": null,
   "metadata": {},
   "outputs": [],
   "source": [
    "et_high_18, _, _, _ = simulation(model_high_list_new[1]['y_grid'], model_high_list_new[1]['e_tilde'], model_high_list_new[1]['h'],\n",
    "                                 np.array([np.zeros_like(model_high_list_new[1]['h']), np.zeros_like(model_high_list_new[1]['h'])]),\n",
    "                                 θ=np.mean(model_res['θ']), y_start=1.1, T=89)"
   ]
  },
  {
   "cell_type": "code",
   "execution_count": null,
   "metadata": {},
   "outputs": [],
   "source": [
    "et_high_20, _, _, _ = simulation(model_high_list_new[2]['y_grid'], model_high_list_new[2]['e_tilde'], model_high_list_new[2]['h'],\n",
    "                                 np.array([np.zeros_like(model_high_list_new[2]['h']), np.zeros_like(model_high_list_new[2]['h'])]),\n",
    "                                 θ=np.mean(model_res['θ']), y_start=1.1, T=89)"
   ]
  },
  {
   "cell_type": "code",
   "execution_count": null,
   "metadata": {},
   "outputs": [],
   "source": [
    "et_extreme_16, _, _, _ = simulation(model_extreme_list_new[0]['y_grid'], model_extreme_list_new[0]['e_tilde'], model_extreme_list_new[0]['h'],\n",
    "                                 np.array([np.zeros_like(model_extreme_list_new[0]['h']), np.zeros_like(model_extreme_list_new[0]['h'])]),\n",
    "                                 θ=np.mean(model_res['θ']), y_start=1.1, T=89)"
   ]
  },
  {
   "cell_type": "code",
   "execution_count": null,
   "metadata": {},
   "outputs": [],
   "source": [
    "et_extreme_18, _, _, _ = simulation(model_extreme_list_new[1]['y_grid'], model_extreme_list_new[1]['e_tilde'], model_extreme_list_new[1]['h'],\n",
    "                                 np.array([np.zeros_like(model_extreme_list_new[1]['h']), np.zeros_like(model_extreme_list_new[1]['h'])]),\n",
    "                                 θ=np.mean(model_res['θ']), y_start=1.1, T=89)"
   ]
  },
  {
   "cell_type": "code",
   "execution_count": null,
   "metadata": {},
   "outputs": [],
   "source": [
    "et_extreme_20, _, _, _ = simulation(model_extreme_list_new[2]['y_grid'], model_extreme_list_new[2]['e_tilde'], model_extreme_list_new[2]['h'],\n",
    "                                 np.array([np.zeros_like(model_extreme_list_new[2]['h']), np.zeros_like(model_extreme_list_new[2]['h'])]),\n",
    "                                 θ=np.mean(model_res['θ']), y_start=1.1, T=89)"
   ]
  },
  {
   "cell_type": "code",
   "execution_count": null,
   "metadata": {},
   "outputs": [],
   "source": [
    "plt.plot(et_low)\n",
    "plt.plot(et_high_16)\n",
    "plt.plot(et_extreme_16)"
   ]
  },
  {
   "cell_type": "code",
   "execution_count": null,
   "metadata": {},
   "outputs": [],
   "source": [
    "fig, (ax1, ax2, ax3) = plt.subplots(1, 3, figsize=(18,5))\n",
    "ax1.plot(et, label='with jump uncertainty', linewidth=2.5)\n",
    "ax1.set_xlabel('Years', fontsize=13)\n",
    "ax1.set_ylabel('Emission', fontsize=13)\n",
    "ax1.legend(frameon=False, loc = 'upper left')\n",
    "ax1.set_ylim(0, 16)\n",
    "ax1.set_xlim(0, 90)\n",
    "\n",
    "ax2.plot(et_low, label='low damage', linewidth=2.5)\n",
    "ax2.plot(et_high_16, label=r'high damage, jump at $\\bar{y} = 1.6$', linewidth=2.5)\n",
    "ax2.plot(et_extreme_16, label=r'extreme damage, jump at $\\bar{y} = 1.6$', linewidth=2.5)\n",
    "ax2.set_xlabel('Years', fontsize=13)\n",
    "ax2.set_ylabel('Emission', fontsize=13)\n",
    "ax2.legend(frameon=False, loc = 'upper left')\n",
    "ax2.set_ylim(0, 16)\n",
    "ax2.set_xlim(0, 90)\n",
    "\n",
    "ax3.plot(et_low, label='low damage', linewidth=2.5)\n",
    "ax3.plot(et_high_20, label=r'high damage, jump at $\\bar{y} = 2.0$', linewidth=2.5)\n",
    "ax3.plot(et_extreme_20, label=r'extreme damage, jump at $\\bar{y} = 2.0$', linewidth=2.5)\n",
    "ax3.set_xlabel('Years', fontsize=13)\n",
    "ax3.set_ylabel('Emission', fontsize=13)\n",
    "ax3.legend(frameon=False, loc = 'upper left')\n",
    "ax3.set_ylim(0, 16)\n",
    "ax3.set_xlim(0, 90)\n",
    "\n",
    "fig.suptitle('Figure 1: Emission', fontsize=13)\n",
    "fig.savefig('fig_1.pdf')"
   ]
  },
  {
   "cell_type": "code",
   "execution_count": null,
   "metadata": {},
   "outputs": [],
   "source": [
    "# Simulate capital process\n",
    "# Capital and z parameters\n",
    "α_k = -0.043\n",
    "β_k = 0.04\n",
    "σ_k = np.array([0.477*2, 0])/100.\n",
    "β_z = 0.014*4\n",
    "σ_z = np.array([0.011*2, 0.025*2])\n",
    "α = 0.115\n",
    "ioverk = 0.09\n",
    "κ = 6.667\n",
    "\n",
    "\n",
    "@njit(parallel=True)\n",
    "def simulate_capital(α_k, β_k, σ_k, β_z, σ_z, ioverk, κ, Ws, k_start, N=100_000, T=100, dt=1.):\n",
    "    var_z = dt*σ_z@σ_z/(1-(1-β_z*dt)**2)\n",
    "    std_z = np.sqrt(var_z)\n",
    "\n",
    "    time_periods = int(T/dt)\n",
    "    z_path = np.zeros((N, time_periods+1))\n",
    "    k_path = np.zeros((N, time_periods+1))\n",
    "    for i in range(N):\n",
    "        z0 = np.random.normal(0.,std_z)\n",
    "        k0 = k_start\n",
    "        z_path[i, 0] = z0\n",
    "        k_path[i, 0] = k0\n",
    "        for j in range(1, time_periods+1):\n",
    "            k1 = k0 + (α_k + β_k*z0 + ioverk - κ/2.*ioverk**2 - σ_k@σ_k/2.)*dt + σ_k@Ws[i, j]*np.sqrt(dt)\n",
    "            z1 = (1.-β_z*dt)*z0 + σ_z@Ws[i, j]*np.sqrt(dt)\n",
    "            k_path[i, j] = k1\n",
    "            z_path[i, j] = z1\n",
    "            k0 = k1\n",
    "            z0 = z1\n",
    "    return k_path\n",
    "\n",
    "T = 100\n",
    "N = 1_000_000\n",
    "dt = 1.\n",
    "k_start = np.log(80/α)\n",
    "η = .032\n",
    "Ws = np.random.multivariate_normal(np.zeros(2), np.eye(2), (N, int(T/dt)))\n",
    "logk_path = simulate_capital(α_k, β_k, σ_k, β_z, σ_z, ioverk, κ, Ws, k_start, N=N, T=T, dt=dt)\n",
    "Kt = np.percentile(np.exp(logk_path), 50, axis=0)"
   ]
  },
  {
   "cell_type": "code",
   "execution_count": null,
   "metadata": {},
   "outputs": [],
   "source": [
    "SCC = η*(0.025)*Kt/((1.-η)*et) * 1000\n",
    "SCC_low = η*(0.025)*Kt/((1.-η)*et_low) * 1000\n",
    "SCC_high_16 = η*(0.025)*Kt/((1.-η)*et_high_16) * 1000\n",
    "SCC_high_18 = η*(0.025)*Kt/((1.-η)*et_high_18) * 1000\n",
    "SCC_high_20 = η*(0.025)*Kt/((1.-η)*et_high_20) * 1000\n",
    "SCC_extreme_16 = η*(0.025)*Kt/((1.-η)*et_extreme_16) * 1000\n",
    "SCC_extreme_18 = η*(0.025)*Kt/((1.-η)*et_extreme_18) * 1000\n",
    "SCC_extreme_20 = η*(0.025)*Kt/((1.-η)*et_extreme_20) * 1000"
   ]
  },
  {
   "cell_type": "code",
   "execution_count": null,
   "metadata": {
    "scrolled": true
   },
   "outputs": [],
   "source": [
    "fig, (ax1, ax2, ax3) = plt.subplots(1, 3, figsize=(18,5))\n",
    "ax1.plot(SCC, label='with jump uncertainty', linewidth=2.5)\n",
    "ax1.set_xlabel('Years', fontsize=13)\n",
    "ax1.set_ylabel('SCC', fontsize=13)\n",
    "ax1.legend(frameon=False, loc = 'upper left')\n",
    "ax1.set_ylim(0, 2000)\n",
    "ax1.set_xlim(0, 90)\n",
    "\n",
    "ax2.plot(SCC_low, label='low damage', linewidth=2.5)\n",
    "ax2.plot(SCC_high_16, label=r'high damage, jump at $\\bar{y} = 1.6$', linewidth=2.5)\n",
    "ax2.plot(SCC_extreme_16, label=r'extreme damage, jump at $\\bar{y} = 1.6$', linewidth=2.5)\n",
    "ax2.set_xlabel('Years', fontsize=13)\n",
    "ax2.set_ylabel('SCC', fontsize=13)\n",
    "ax2.legend(frameon=False, loc = 'upper left')\n",
    "ax2.set_ylim(0, 2000)\n",
    "ax2.set_xlim(0, 90)\n",
    "\n",
    "ax3.plot(SCC_low, label='low damage', linewidth=2.5)\n",
    "ax3.plot(SCC_high_20, label=r'high damage, jump at $\\bar{y} = 2.0$', linewidth=2.5)\n",
    "ax3.plot(SCC_extreme_20, label=r'extreme damage, jump at $\\bar{y} = 2.0$', linewidth=2.5)\n",
    "ax3.set_xlabel('Years', fontsize=13)\n",
    "ax3.set_ylabel('SCC', fontsize=13)\n",
    "ax3.legend(frameon=False, loc = 'upper left')\n",
    "ax3.set_ylim(0, 2000)\n",
    "ax3.set_xlim(0, 90)\n",
    "\n",
    "fig.suptitle('Figure 2: SCC', fontsize=13)\n",
    "fig.savefig('fig_2.pdf')"
   ]
  },
  {
   "cell_type": "code",
   "execution_count": null,
   "metadata": {},
   "outputs": [],
   "source": []
  }
 ],
 "metadata": {
  "kernelspec": {
   "display_name": "Python 3",
   "language": "python",
   "name": "python3"
  },
  "language_info": {
   "codemirror_mode": {
    "name": "ipython",
    "version": 3
   },
   "file_extension": ".py",
   "mimetype": "text/x-python",
   "name": "python",
   "nbconvert_exporter": "python",
   "pygments_lexer": "ipython3",
   "version": "3.8.5"
  }
 },
 "nbformat": 4,
 "nbformat_minor": 4
}
