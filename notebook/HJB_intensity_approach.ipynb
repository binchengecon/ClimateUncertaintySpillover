{
 "cells": [
  {
   "cell_type": "code",
   "execution_count": 1,
   "metadata": {},
   "outputs": [],
   "source": [
    "import os, sys\n",
    "sys.path.append(os.path.dirname(os.getcwd()) + '/source')\n",
    "\n",
    "from model import ode_y, ode_y_parallel\n",
    "from simulation import simulation\n",
    "from utilities import find_nearest_value, compute_derivatives\n",
    "from solver import false_transient_one_iteration_python\n",
    "from numba import njit\n",
    "import numpy as np\n",
    "import pandas as pd\n",
    "import matplotlib.pyplot as plt\n",
    "import matplotlib as mpl\n",
    "mpl.rcParams['axes.spines.right'] = False\n",
    "mpl.rcParams['axes.spines.top'] = False"
   ]
  },
  {
   "cell_type": "markdown",
   "metadata": {},
   "source": [
    "## Solve HJB"
   ]
  },
  {
   "cell_type": "code",
   "execution_count": 2,
   "metadata": {},
   "outputs": [],
   "source": [
    "# Intensity parameter\n",
    "τ = 1.\n",
    "\n",
    "r1 = -19.5001\n",
    "r0 = -1.0957 / τ\n",
    "\n",
    "# Robustness parameters\n",
    "ξ_w = 100000.\n",
    "ξ_p = 5.\n",
    "ξ_a = 1./100\n",
    "\n",
    "damage_setting={'γ_2p': np.array([0, .0197*2, .3853*2]),\n",
    "                'πd_o': np.array([1./3, 1./3, 1./3])}\n",
    "\n",
    "# Model parameters\n",
    "η = .032\n",
    "δ = .01\n",
    "\n",
    "θ = pd.read_csv('../data/model144.csv', header=None).to_numpy()[:, 0]/1000.\n",
    "πc_o = np.ones_like(θ)/len(θ)\n",
    "σ_y = 1.2*np.mean(θ)\n",
    "\n",
    "γ_1 = 1.7675/10000\n",
    "γ_2 = .0022*2\n",
    "γ_2p = damage_setting['γ_2p']\n",
    "πd_o = damage_setting['πd_o']\n",
    "\n",
    "y_bar_upper = 2.0\n",
    "y_bar_lower = 1.5\n",
    "\n",
    "# Grid setting\n",
    "ϵ = 1.\n",
    "y_step = .02\n",
    "y_grid_long = np.arange(0., y_bar_upper*2, y_step)\n",
    "y_grid_short = np.arange(0., y_bar_upper, y_step)\n",
    "y_bar_lower_loc = find_nearest_value(y_grid_short, y_bar_lower)\n",
    "y_bar_upper_loc = find_nearest_value(y_grid_long, y_bar_upper)\n",
    "y_grid_tilde = y_grid_short[y_bar_lower_loc: y_bar_upper_loc]"
   ]
  },
  {
   "cell_type": "code",
   "execution_count": 3,
   "metadata": {},
   "outputs": [
    {
     "name": "stdout",
     "output_type": "stream",
     "text": [
      "----- Solving low damage model -----\n",
      "Converged. Total iteration 5000: LHS Error: 4.183515303690655e-05; RHS Error 9.117047385512334e-05\n",
      "----- Solving high damage models -----\n",
      "----- Solving extreme damage models -----\n"
     ]
    }
   ],
   "source": [
    "# Parallelly solve ODE\n",
    "model_args_low = []\n",
    "model_args_high = []\n",
    "model_args_extreme = []\n",
    "\n",
    "model_paras_low = (η, δ, θ, πc_o, σ_y, ξ_w, ξ_a, γ_1, γ_2, γ_2p[0], y_bar_upper)\n",
    "\n",
    "for y_jump in y_grid_tilde:\n",
    "    model_paras_high = (η, δ, θ, πc_o, σ_y, ξ_w, ξ_a, γ_1, γ_2, γ_2p[1], y_jump)\n",
    "    model_paras_extreme = (η, δ, θ, πc_o, σ_y, ξ_w, ξ_a, γ_1, γ_2, γ_2p[2], y_jump)\n",
    "    model_args_high.append((y_grid_long, model_paras_high, None, ϵ, 1e-8, 5000, False))\n",
    "    model_args_extreme.append((y_grid_long, model_paras_extreme, None, ϵ, 1e-8, 5000, False))\n",
    "\n",
    "print('----- Solving low damage model -----')\n",
    "model_low = ode_y(y_grid_long, model_paras_low, None, ϵ, 1e-8, 5000, False)\n",
    "print('----- Solving high damage models -----')\n",
    "model_high_list = ode_y_parallel(model_args_high)\n",
    "print('----- Solving extreme damage models -----')\n",
    "model_extreme_list = ode_y_parallel(model_args_extreme)"
   ]
  },
  {
   "cell_type": "code",
   "execution_count": 4,
   "metadata": {},
   "outputs": [],
   "source": [
    "# Prepare ϕ_m\n",
    "ϕ_m = np.zeros((3, len(y_grid_short)))\n",
    "for i in range(len(y_grid_tilde)):\n",
    "    ϕ_m[0, y_bar_lower_loc+i] = model_low['v0'][y_bar_lower_loc+i]\n",
    "    ϕ_m[1, y_bar_lower_loc+i] = model_high_list[i]['v0'][y_bar_lower_loc+i]\n",
    "    ϕ_m[2, y_bar_lower_loc+i] = model_extreme_list[i]['v0'][y_bar_lower_loc+i]"
   ]
  },
  {
   "cell_type": "code",
   "execution_count": 5,
   "metadata": {},
   "outputs": [],
   "source": [
    "temp_1 = model_low['v0'][:y_bar_upper_loc]\n",
    "temp_2 = model_high_list[-1]['v0'][:y_bar_upper_loc]\n",
    "temp_3 = model_extreme_list[-1]['v0'][:y_bar_upper_loc]\n",
    "v_guess = np.average(np.array([temp_1, temp_2, temp_3]), weights=πd_o, axis=0)"
   ]
  },
  {
   "cell_type": "code",
   "execution_count": 6,
   "metadata": {},
   "outputs": [],
   "source": [
    "def ode_y_jump_intensity_approach(y_grid, model_paras=(), v0=None, ϵ=.5, tol=1e-8,\n",
    "                                     max_iter=10_000, print_all=True):\n",
    "    η, δ, θ, πc_o, σ_y, ξ_1m, ξ_2m, ξ_a, γ_1, γ_2, y_bar_lower, y_bar_upper, ϕ_i, πd_o, r0, r1, τ = model_paras\n",
    "    Δ_y = y_grid[1] - y_grid[0]\n",
    "\n",
    "    if v0 is None:\n",
    "        v0 = -η*(y_grid+y_grid**2)\n",
    "\n",
    "    d_Λ = γ_1 + γ_2*y_grid\n",
    "    dd_Λ = γ_2\n",
    "\n",
    "    πd = np.ones((len(πd_o), len(y_grid)))\n",
    "    for i in range(πd.shape[0]):\n",
    "        πd[i] = πd_o[i]\n",
    "    πd_o = πd\n",
    "\n",
    "    πc = np.ones((len(πc_o), len(y_grid)))\n",
    "    θ_reshape = np.ones_like(πc)\n",
    "    for i in range(πc.shape[0]):\n",
    "        πc[i] = πc_o[i]\n",
    "        θ_reshape[i] = θ[i]\n",
    "    πc_o = πc.copy()\n",
    "    θ = θ_reshape\n",
    "\n",
    "    intensity = r0 * (np.exp(r1 / 2. * (y_grid-y_bar_lower)**2) - 1.) * (y_grid >= y_bar_lower)\\\n",
    "                + 0 * (y_grid < y_bar_lower)\n",
    "\n",
    "    e_tilde = 0.\n",
    "    \n",
    "    count = 0\n",
    "    error = 1.\n",
    "\n",
    "    while error > tol and count < max_iter:\n",
    "        v_old = v0.copy()\n",
    "        e_tilde_old = e_tilde\n",
    "\n",
    "        v0_dy = compute_derivatives(v0, 1, Δ_y, central_diff=False)\n",
    "        v0_dyy = compute_derivatives(v0, 2, Δ_y)\n",
    "\n",
    "        G = v0_dy + (η-1)/δ*d_Λ\n",
    "\n",
    "        if σ_y == 0:\n",
    "            e_tilde = -η/(G*np.sum(πc*θ, axis=0))\n",
    "        else:\n",
    "            temp = σ_y**2*(v0_dyy+(η-1.)/δ*dd_Λ-G**2/ξ_1m)\n",
    "            root = np.sum(πc*θ, axis=0)**2*G**2 - 4*η*temp\n",
    "            root[root<0] = 0.\n",
    "            e_tilde = (-G*np.sum(πc*θ, axis=0) - np.sqrt(root)) / (2*temp)\n",
    "\n",
    "        e_tilde[e_tilde<=0] = 1e-16\n",
    "        e_tilde = e_tilde *.5 + e_tilde_old*.5\n",
    " \n",
    "        log_πc_ratio = -G*e_tilde*θ/ξ_a\n",
    "        πc_ratio = log_πc_ratio - np.max(log_πc_ratio, axis=0)\n",
    "        πc = np.exp(πc_ratio) * πc_o\n",
    "        πc = πc/np.sum(πc, axis=0)\n",
    "        πc[πc<=0] = 1e-16        \n",
    "        c_entropy = np.sum(πc*(np.log(πc)-np.log(πc_o)), axis=0)\n",
    "\n",
    "        g = np.exp(1./ξ_2m*(v0-ϕ_i))\n",
    "\n",
    "        A = np.ones_like(y_grid)*(-δ)\n",
    "        B = e_tilde * np.sum(πc*θ, axis=0)\n",
    "        C = .5 * σ_y**2 * e_tilde**2\n",
    "        D = η*np.log(e_tilde) - C*G**2/ξ_1m + (η-1)/δ*d_Λ*e_tilde*np.sum(πc*θ, axis=0)\\\n",
    "            + .5*(η-1)/δ*dd_Λ*σ_y**2*e_tilde**2 + ξ_a*c_entropy\\\n",
    "            - ξ_2m * intensity * (np.sum(πd_o * np.exp(-1./ξ_2m*ϕ_i), axis=0) - np.exp(-1./ξ_2m * v0)) \\\n",
    "                / np.exp(-1./ξ_2m * v0)\n",
    "\n",
    "        v0 = false_transient_one_iteration_python(A, B, C, D, v0, ε, Δ_y, (0, 0), (False, False))\n",
    "\n",
    "        rhs_error = A*v0 + B*v0_dy + C*v0_dyy + D\n",
    "        rhs_error = np.max(abs(rhs_error))\n",
    "        lhs_error = np.max(abs((v0 - v_old)/ϵ))\n",
    "        error = lhs_error\n",
    "        count += 1\n",
    "        if print_all:\n",
    "            print(\"Iteration %s: LHS Error: %s; RHS Error %s\" % (count, lhs_error, rhs_error))\n",
    "\n",
    "    h = -(v0_dy+(η-1)/δ*d_Λ)*e_tilde*σ_y/ξ_1m\n",
    "    πd = g / np.sum(πd_o * g, axis=0) * πd_o\n",
    "    \n",
    "    \n",
    "    print(\"Converged. Total iteration %s: LHS Error: %s; RHS Error %s\" % (count, lhs_error, rhs_error))     \n",
    "    res = {'v0': v0,\n",
    "           'v0_dy': v0_dy,\n",
    "           'v0_dyy': v0_dyy,\n",
    "           'e_tilde': e_tilde,\n",
    "           'y_grid': y_grid,\n",
    "           'intensity': intensity,\n",
    "           'πc': πc,\n",
    "           'πd': πd,\n",
    "           'g': g,\n",
    "           'h': h,\n",
    "           'θ': θ[:, 0],\n",
    "           'σ_y': σ_y}\n",
    "    return res"
   ]
  },
  {
   "cell_type": "code",
   "execution_count": 7,
   "metadata": {},
   "outputs": [
    {
     "name": "stdout",
     "output_type": "stream",
     "text": [
      "Iteration 1: LHS Error: 1.1233147004910629; RHS Error 1.1243708362612492\n",
      "Iteration 2: LHS Error: 0.39831135870542855; RHS Error 0.4028141647786634\n",
      "Iteration 3: LHS Error: 0.2581416203753193; RHS Error 0.26360461116191\n",
      "Iteration 4: LHS Error: 0.1941278110560858; RHS Error 0.19910127314646778\n",
      "Iteration 5: LHS Error: 0.15700655680188036; RHS Error 0.16308792520866955\n",
      "Iteration 6: LHS Error: 0.13446980202438263; RHS Error 0.13939747837434668\n",
      "Iteration 7: LHS Error: 0.11690721663721781; RHS Error 0.12247655435862516\n",
      "Iteration 8: LHS Error: 0.10569182322795956; RHS Error 0.11018661805408866\n",
      "Iteration 9: LHS Error: 0.09531740685338685; RHS Error 0.10140343888625791\n",
      "Iteration 10: LHS Error: 0.08834431396913689; RHS Error 0.09324674599004301\n",
      "Iteration 11: LHS Error: 0.08286796687247588; RHS Error 0.08665123808275804\n",
      "Iteration 12: LHS Error: 0.07747627371741994; RHS Error 0.0825943015305956\n",
      "Iteration 13: LHS Error: 0.07218398081892885; RHS Error 0.07862232722719475\n",
      "Iteration 14: LHS Error: 0.06960851978885363; RHS Error 0.07473456266051154\n",
      "Iteration 15: LHS Error: 0.06695618796335556; RHS Error 0.07092644314547375\n",
      "Iteration 16: LHS Error: 0.06422507543645484; RHS Error 0.06718635328052319\n",
      "Iteration 17: LHS Error: 0.06133333032744592; RHS Error 0.06459073143005215\n",
      "Iteration 18: LHS Error: 0.05860042312382596; RHS Error 0.06286893016348674\n",
      "Iteration 19: LHS Error: 0.057344139692056206; RHS Error 0.061090517854426284\n",
      "Iteration 20: LHS Error: 0.05595196166683869; RHS Error 0.05925268582807173\n",
      "Iteration 21: LHS Error: 0.05440741306703578; RHS Error 0.057350315276129965\n",
      "Iteration 22: LHS Error: 0.05273311623880872; RHS Error 0.055373392763595354\n",
      "Iteration 23: LHS Error: 0.050906993726839156; RHS Error 0.05330749051175303\n",
      "Iteration 24: LHS Error: 0.04965264691279625; RHS Error 0.05113266368640487\n",
      "Iteration 25: LHS Error: 0.048781328325859796; RHS Error 0.048825180455773096\n",
      "Iteration 26: LHS Error: 0.047783853510964036; RHS Error 0.04738550690148928\n",
      "Iteration 27: LHS Error: 0.04664025754532708; RHS Error 0.04634056586033368\n",
      "Iteration 28: LHS Error: 0.04534393897068645; RHS Error 0.04517649681898427\n",
      "Iteration 29: LHS Error: 0.04403685867846141; RHS Error 0.04387704278241195\n",
      "Iteration 30: LHS Error: 0.04336631335863883; RHS Error 0.04242209469126574\n",
      "Iteration 31: LHS Error: 0.042581195625541746; RHS Error 0.04079225606480894\n",
      "Iteration 32: LHS Error: 0.04165802487984305; RHS Error 0.0390781292817223\n",
      "Iteration 33: LHS Error: 0.04062251812855622; RHS Error 0.038262753288117374\n",
      "Iteration 34: LHS Error: 0.03965850833744988; RHS Error 0.03731447527568428\n",
      "Iteration 35: LHS Error: 0.039049779606119106; RHS Error 0.03658603767944182\n",
      "Iteration 36: LHS Error: 0.038358511952633734; RHS Error 0.03603255429704011\n",
      "Iteration 37: LHS Error: 0.037520750122596036; RHS Error 0.03537708980052873\n",
      "Iteration 38: LHS Error: 0.03659492074997006; RHS Error 0.03460799277203842\n",
      "Iteration 39: LHS Error: 0.03604811162534949; RHS Error 0.03384641092459001\n",
      "Iteration 40: LHS Error: 0.03540506707613211; RHS Error 0.0333690477449667\n",
      "Iteration 41: LHS Error: 0.03472097643902061; RHS Error 0.03280103329762577\n",
      "Iteration 42: LHS Error: 0.03387537230208992; RHS Error 0.03213208954966715\n",
      "Iteration 43: LHS Error: 0.03339583604209562; RHS Error 0.03146264293038718\n",
      "Iteration 44: LHS Error: 0.03284379733219467; RHS Error 0.03102198395538046\n",
      "Iteration 45: LHS Error: 0.03219483000407575; RHS Error 0.030499145105252937\n",
      "Iteration 46: LHS Error: 0.031521481784836825; RHS Error 0.029883859961354987\n",
      "Iteration 47: LHS Error: 0.031074035917202147; RHS Error 0.029354235942165283\n",
      "Iteration 48: LHS Error: 0.030546133505940487; RHS Error 0.02892747586473595\n",
      "Iteration 49: LHS Error: 0.029927665633026068; RHS Error 0.028422856113100605\n",
      "Iteration 50: LHS Error: 0.02943494351990883; RHS Error 0.02783093142809377\n",
      "Iteration 51: LHS Error: 0.028988150920778555; RHS Error 0.027456142568421497\n",
      "Iteration 52: LHS Error: 0.028464057316622382; RHS Error 0.027026422522204704\n",
      "Iteration 53: LHS Error: 0.027929740432904637; RHS Error 0.026521142240077098\n",
      "Iteration 54: LHS Error: 0.02753701744073478; RHS Error 0.02609369053491729\n",
      "Iteration 55: LHS Error: 0.027077669355550116; RHS Error 0.02571521391494546\n",
      "Iteration 56: LHS Error: 0.026545129588715577; RHS Error 0.025270091029518157\n",
      "Iteration 57: LHS Error: 0.026193179441271974; RHS Error 0.024835564930438186\n",
      "Iteration 58: LHS Error: 0.025778319409077488; RHS Error 0.02449257497115281\n",
      "Iteration 59: LHS Error: 0.02529516843202395; RHS Error 0.024089262921218435\n",
      "Iteration 60: LHS Error: 0.024947581864319224; RHS Error 0.02367281509454812\n",
      "Iteration 61: LHS Error: 0.024564592166957278; RHS Error 0.023353716337691087\n",
      "Iteration 62: LHS Error: 0.024116951914650908; RHS Error 0.022979351520588488\n",
      "Iteration 63: LHS Error: 0.02379072649377556; RHS Error 0.02259425963700039\n",
      "Iteration 64: LHS Error: 0.023428120722876367; RHS Error 0.022290785288855152\n",
      "Iteration 65: LHS Error: 0.023011263331778053; RHS Error 0.021935773422787668\n",
      "Iteration 66: LHS Error: 0.02271204219319678; RHS Error 0.02158899032689881\n",
      "Iteration 67: LHS Error: 0.022360450505941154; RHS Error 0.02129487617865106\n",
      "Iteration 68: LHS Error: 0.021994609518401376; RHS Error 0.02095173861877549\n",
      "Iteration 69: LHS Error: 0.02169945430361153; RHS Error 0.020647118033633803\n",
      "Iteration 70: LHS Error: 0.021355996940655153; RHS Error 0.02035717852385005\n",
      "Iteration 71: LHS Error: 0.021040453932792413; RHS Error 0.020020548746352913\n",
      "Iteration 72: LHS Error: 0.02074423907772971; RHS Error 0.01975960009775827\n",
      "Iteration 73: LHS Error: 0.02040379648921853; RHS Error 0.019470015210034497\n",
      "Iteration 74: LHS Error: 0.020137468225599253; RHS Error 0.019170563482095948\n",
      "Iteration 75: LHS Error: 0.019839737506319288; RHS Error 0.01891809938317238\n",
      "Iteration 76: LHS Error: 0.019541629038509534; RHS Error 0.018625613393756225\n",
      "Iteration 77: LHS Error: 0.01927870728104608; RHS Error 0.018374188035962094\n",
      "Iteration 78: LHS Error: 0.018975048357766422; RHS Error 0.018115297648247847\n",
      "Iteration 79: LHS Error: 0.018728121083178895; RHS Error 0.0178438985581928\n",
      "Iteration 80: LHS Error: 0.01845623828960452; RHS Error 0.017611983081325354\n",
      "Iteration 81: LHS Error: 0.018192415321752975; RHS Error 0.017344476951549517\n",
      "Iteration 82: LHS Error: 0.01794626600842486; RHS Error 0.01712031029240909\n",
      "Iteration 83: LHS Error: 0.01767407685495348; RHS Error 0.016877702926633834\n",
      "Iteration 84: LHS Error: 0.017448860684034173; RHS Error 0.01664299572482906\n",
      "Iteration 85: LHS Error: 0.017189885587198805; RHS Error 0.016420670298104817\n",
      "Iteration 86: LHS Error: 0.01696617564342162; RHS Error 0.016181480188087904\n",
      "Iteration 87: LHS Error: 0.016726771524647965; RHS Error 0.015975731844463138\n",
      "Iteration 88: LHS Error: 0.016499305077998017; RHS Error 0.015739774790066538\n",
      "Iteration 89: LHS Error: 0.016275976939296832; RHS Error 0.015544184300690649\n",
      "Iteration 90: LHS Error: 0.016048633638705567; RHS Error 0.015323840543393558\n",
      "Iteration 91: LHS Error: 0.015838516858441398; RHS Error 0.015126610258119046\n",
      "Iteration 92: LHS Error: 0.01561407406686044; RHS Error 0.014919118680107653\n",
      "Iteration 93: LHS Error: 0.015414799093552034; RHS Error 0.014723111185310334\n",
      "Iteration 94: LHS Error: 0.015195229344568961; RHS Error 0.014526186641367546\n",
      "Iteration 95: LHS Error: 0.015004818246301621; RHS Error 0.014333467142641144\n",
      "Iteration 96: LHS Error: 0.014791503832848107; RHS Error 0.014145200886711319\n",
      "Iteration 97: LHS Error: 0.014608290737328833; RHS Error 0.013957246694264173\n",
      "Iteration 98: LHS Error: 0.014402179702566631; RHS Error 0.013776029838375496\n",
      "Iteration 99: LHS Error: 0.014224749213331833; RHS Error 0.013593882762540845\n",
      "Iteration 100: LHS Error: 0.014026469428068733; RHS Error 0.013418347003640918\n",
      "Iteration 101: LHS Error: 0.013853608594632583; RHS Error 0.013242725068593426\n",
      "Iteration 102: LHS Error: 0.013663551566892806; RHS Error 0.013071696483031733\n",
      "Iteration 103: LHS Error: 0.013494212142578288; RHS Error 0.01290307638243051\n",
      "Iteration 104: LHS Error: 0.013312594836092373; RHS Error 0.012735539187421409\n",
      "Iteration 105: LHS Error: 0.013145863434318006; RHS Error 0.012574217502330662\n",
      "Iteration 106: LHS Error: 0.012972774043975566; RHS Error 0.012409285475005007\n",
      "Iteration 107: LHS Error: 0.012807848435599123; RHS Error 0.012255424340006045\n",
      "Iteration 108: LHS Error: 0.012643280409786684; RHS Error 0.012092318166661037\n",
      "Iteration 109: LHS Error: 0.012479436117576181; RHS Error 0.011945979595321267\n",
      "Iteration 110: LHS Error: 0.012323373893220246; RHS Error 0.011788575877973897\n",
      "Iteration 111: LHS Error: 0.012160057431223947; RHS Error 0.011645209924639535\n",
      "Iteration 112: LHS Error: 0.01201224167341941; RHS Error 0.011496185929139056\n",
      "Iteration 113: LHS Error: 0.011855265517125346; RHS Error 0.011352427454822858\n",
      "Iteration 114: LHS Error: 0.011709162057776279; RHS Error 0.011211544007492066\n",
      "Iteration 115: LHS Error: 0.011560906640174284; RHS Error 0.01106693568227176\n",
      "Iteration 116: LHS Error: 0.011413428325569797; RHS Error 0.01093397107540954\n",
      "Iteration 117: LHS Error: 0.01127361434285179; RHS Error 0.010794518819099846\n",
      "Iteration 118: LHS Error: 0.011127937808639299; RHS Error 0.01066281980878242\n",
      "Iteration 119: LHS Error: 0.01099271661528034; RHS Error 0.010531341208617762\n",
      "Iteration 120: LHS Error: 0.010855407825620667; RHS Error 0.010397472876107941\n",
      "Iteration 121: LHS Error: 0.010717574718515532; RHS Error 0.010273684073193477\n",
      "Iteration 122: LHS Error: 0.01058831636384161; RHS Error 0.010145594779413687\n",
      "Iteration 123: LHS Error: 0.010455131995603217; RHS Error 0.010020965064173833\n",
      "Iteration 124: LHS Error: 0.010326066428034686; RHS Error 0.009900359235606913\n",
      "Iteration 125: LHS Error: 0.010200651592038756; RHS Error 0.009776789364559599\n",
      "Iteration 126: LHS Error: 0.010072530203730334; RHS Error 0.009659218797173054\n",
      "Iteration 127: LHS Error: 0.009950136171012147; RHS Error 0.009542812279961323\n",
      "Iteration 128: LHS Error: 0.009829412452126984; RHS Error 0.009424385055745825\n",
      "Iteration 129: LHS Error: 0.009706845165974975; RHS Error 0.009312130359910943\n",
      "Iteration 130: LHS Error: 0.00958943524412259; RHS Error 0.009200489194120462\n",
      "Iteration 131: LHS Error: 0.009473851072978157; RHS Error 0.009087494517382375\n",
      "Iteration 132: LHS Error: 0.009357034571478628; RHS Error 0.008979139284702203\n",
      "Iteration 133: LHS Error: 0.009243229791780827; RHS Error 0.008872530202108361\n",
      "Iteration 134: LHS Error: 0.00913296811262665; RHS Error 0.008765038859235894\n",
      "Iteration 135: LHS Error: 0.00902190595553698; RHS Error 0.008659414537852267\n",
      "Iteration 136: LHS Error: 0.008910563193871734; RHS Error 0.008557905253007175\n",
      "Iteration 137: LHS Error: 0.008805630979459078; RHS Error 0.00845584464134088\n",
      "Iteration 138: LHS Error: 0.008700201479210357; RHS Error 0.008353634804998927\n",
      "Iteration 139: LHS Error: 0.008594664228326998; RHS Error 0.008255499152530425\n",
      "Iteration 140: LHS Error: 0.008490650121843135; RHS Error 0.008158703686677503\n",
      "Iteration 141: LHS Error: 0.008390653251907576; RHS Error 0.008061913296675265\n",
      "Iteration 142: LHS Error: 0.008290689367479676; RHS Error 0.007965400876735654\n",
      "Iteration 143: LHS Error: 0.008191026328947526; RHS Error 0.007872408743392706\n",
      "Iteration 144: LHS Error: 0.008091856775976236; RHS Error 0.007780756938777368\n",
      "Iteration 145: LHS Error: 0.007997198778134873; RHS Error 0.007689440052370336\n",
      "Iteration 146: LHS Error: 0.007902862159659296; RHS Error 0.00759863825723283\n",
      "Iteration 147: LHS Error: 0.007808836728795843; RHS Error 0.007508985716456529\n",
      "Iteration 148: LHS Error: 0.007715724578938321; RHS Error 0.007422529828620024\n",
      "Iteration 149: LHS Error: 0.007623541663541289; RHS Error 0.007336577869244652\n",
      "Iteration 150: LHS Error: 0.007534674985474776; RHS Error 0.007251264339069856\n",
      "Iteration 151: LHS Error: 0.0074462577156007015; RHS Error 0.0071666947234532985\n",
      "Iteration 152: LHS Error: 0.007358767454479054; RHS Error 0.00708295971188997\n",
      "Iteration 153: LHS Error: 0.0072718964949674; RHS Error 0.007001210307364204\n",
      "Iteration 154: LHS Error: 0.0071861512296687025; RHS Error 0.006921029825788183\n",
      "Iteration 155: LHS Error: 0.007101102094334344; RHS Error 0.006841604073645854\n",
      "Iteration 156: LHS Error: 0.007018395896721152; RHS Error 0.006762998932480321\n",
      "Iteration 157: LHS Error: 0.00693688199553133; RHS Error 0.0066852601977343\n",
      "Iteration 158: LHS Error: 0.006856039011053028; RHS Error 0.006608427055185093\n",
      "Iteration 159: LHS Error: 0.006776176495463915; RHS Error 0.006532530309318274\n",
      "Iteration 160: LHS Error: 0.006697341093845566; RHS Error 0.006457589816302123\n",
      "Iteration 161: LHS Error: 0.0066192453311968436; RHS Error 0.006403176567228469\n",
      "Iteration 162: LHS Error: 0.006542207767175512; RHS Error 0.0063740671207900695\n",
      "Iteration 163: LHS Error: 0.006466138620461415; RHS Error 0.006340849665491061\n",
      "Iteration 164: LHS Error: 0.006391042772812661; RHS Error 0.006303253537273956\n",
      "Iteration 165: LHS Error: 0.006316913551748016; RHS Error 0.006261000583934362\n",
      "Iteration 166: LHS Error: 0.006243728631920575; RHS Error 0.006213807968675461\n",
      "Iteration 167: LHS Error: 0.00617143047910762; RHS Error 0.006161387742025862\n",
      "Iteration 168: LHS Error: 0.006099849568376392; RHS Error 0.006103448399853467\n",
      "Iteration 169: LHS Error: 0.006029230254509521; RHS Error 0.006039699045214189\n",
      "Iteration 170: LHS Error: 0.005952208872818332; RHS Error 0.00596985482495474\n",
      "Iteration 171: LHS Error: 0.005868500568672275; RHS Error 0.005893643218889355\n",
      "Iteration 172: LHS Error: 0.005777877670726461; RHS Error 0.005810811122552523\n",
      "Iteration 173: LHS Error: 0.005680149072178509; RHS Error 0.005721132696278428\n",
      "Iteration 174: LHS Error: 0.0055751693989023465; RHS Error 0.0056244179039006\n",
      "Iteration 175: LHS Error: 0.005462848425075606; RHS Error 0.005520521596208833\n",
      "Iteration 176: LHS Error: 0.00534316045355876; RHS Error 0.00540935291933918\n",
      "Iteration 177: LHS Error: 0.005216153317578964; RHS Error 0.00529088475137196\n",
      "Iteration 178: LHS Error: 0.005081956601304505; RHS Error 0.0051651627964097585\n",
      "Iteration 179: LHS Error: 0.004940788629781423; RHS Error 0.005032313901638316\n",
      "Iteration 180: LHS Error: 0.004792961754225722; RHS Error 0.004892553116509185\n",
      "Iteration 181: LHS Error: 0.004638885470758858; RHS Error 0.004775585034606549\n",
      "Iteration 182: LHS Error: 0.004479066976950996; RHS Error 0.004775648698571399\n",
      "Iteration 183: LHS Error: 0.004314108934864613; RHS Error 0.004775700588375599\n",
      "Iteration 184: LHS Error: 0.004144704635875129; RHS Error 0.004775740545178743\n",
      "Iteration 185: LHS Error: 0.003971252567539274; RHS Error 0.0047757270684076515\n",
      "Iteration 186: LHS Error: 0.003796452316928267; RHS Error 0.004776284014065962\n",
      "Iteration 187: LHS Error: 0.0036191849850801816; RHS Error 0.004776184988798775\n",
      "Iteration 188: LHS Error: 0.0034386989565682313; RHS Error 0.004775792146551883\n",
      "Iteration 189: LHS Error: 0.00325988001705646; RHS Error 0.004775279942168618\n",
      "Iteration 190: LHS Error: 0.003081825298390406; RHS Error 0.00477501332822693\n",
      "Iteration 191: LHS Error: 0.00290554730678938; RHS Error 0.004774823903435355\n",
      "Iteration 192: LHS Error: 0.002731966985982659; RHS Error 0.004775243295517099\n",
      "Iteration 193: LHS Error: 0.002561910222692809; RHS Error 0.004775718833425032\n",
      "Iteration 194: LHS Error: 0.0023961362094038208; RHS Error 0.004776052715199524\n",
      "Iteration 195: LHS Error: 0.002235324642970049; RHS Error 0.004776228398865427\n",
      "Iteration 196: LHS Error: 0.0020800660687907424; RHS Error 0.00477628615920829\n",
      "Iteration 197: LHS Error: 0.00193091834693071; RHS Error 0.004776263430275381\n"
     ]
    },
    {
     "name": "stdout",
     "output_type": "stream",
     "text": [
      "Iteration 198: LHS Error: 0.0017880578044620066; RHS Error 0.004776337758792711\n",
      "Iteration 199: LHS Error: 0.0016521040087038585; RHS Error 0.004776226983996979\n",
      "Iteration 200: LHS Error: 0.0015231400957942398; RHS Error 0.004775927804321376\n",
      "Iteration 201: LHS Error: 0.0014011837456644471; RHS Error 0.004775663919740644\n",
      "Iteration 202: LHS Error: 0.0012862426602309185; RHS Error 0.004775494877592275\n",
      "Iteration 203: LHS Error: 0.0011789111348505799; RHS Error 0.0047753772622341414\n",
      "Iteration 204: LHS Error: 0.0010785219059101792; RHS Error 0.004775412131084043\n",
      "Iteration 205: LHS Error: 0.0009843567463141412; RHS Error 0.004775282903262901\n",
      "Iteration 206: LHS Error: 0.0008968282184369514; RHS Error 0.0047750846163189704\n",
      "Iteration 207: LHS Error: 0.0008157325507625046; RHS Error 0.004774931032779633\n",
      "Iteration 208: LHS Error: 0.0007407773511447502; RHS Error 0.004774905782105397\n",
      "Iteration 209: LHS Error: 0.000671662947372198; RHS Error 0.00477501477094228\n",
      "Iteration 210: LHS Error: 0.0006080846242149107; RHS Error 0.0047752080746538104\n",
      "Iteration 211: LHS Error: 0.0005495901350993648; RHS Error 0.004775415348205494\n",
      "Iteration 212: LHS Error: 0.0004964738140333935; RHS Error 0.004775502463633955\n",
      "Iteration 213: LHS Error: 0.0004477045635979948; RHS Error 0.004775609868798814\n",
      "Iteration 214: LHS Error: 0.0004032637072919343; RHS Error 0.004775821437688434\n",
      "Iteration 215: LHS Error: 0.00036280129313404075; RHS Error 0.004775959626757042\n",
      "Iteration 216: LHS Error: 0.0003260241839804223; RHS Error 0.004775948099572314\n",
      "Iteration 217: LHS Error: 0.0002926515330159418; RHS Error 0.004775805959706236\n",
      "Iteration 218: LHS Error: 0.0002624152570982474; RHS Error 0.004775583809476038\n",
      "Iteration 219: LHS Error: 0.00023506104557569074; RHS Error 0.004775329451767556\n",
      "Iteration 220: LHS Error: 0.0002103489580926876; RHS Error 0.004775076740843657\n",
      "Iteration 221: LHS Error: 0.0001880536958704937; RHS Error 0.004774845296418851\n",
      "Iteration 222: LHS Error: 0.00016796461447921018; RHS Error 0.004774643890829291\n",
      "Iteration 223: LHS Error: 0.00014988553276751304; RHS Error 0.004774474274004445\n",
      "Iteration 224: LHS Error: 0.0001336343827542663; RHS Error 0.004774334273355857\n",
      "Iteration 225: LHS Error: 0.00011904273783613917; RHS Error 0.004774219938170333\n",
      "Iteration 226: LHS Error: 0.00010595525062040423; RHS Error 0.004774126856958851\n",
      "Iteration 227: LHS Error: 9.422902674760536e-05; RHS Error 0.004774050871125184\n",
      "Iteration 228: LHS Error: 8.373295682950754e-05; RHS Error 0.004773988394566556\n",
      "Iteration 229: LHS Error: 7.434702474107269e-05; RHS Error 0.004773936500366813\n",
      "Iteration 230: LHS Error: 6.596160708216559e-05; RHS Error 0.004773892884946233\n",
      "Iteration 231: LHS Error: 5.847677581449773e-05; RHS Error 0.004773855778722098\n",
      "Iteration 232: LHS Error: 5.180161327356103e-05; RHS Error 0.004773823842767061\n",
      "Iteration 233: LHS Error: 4.585354686348353e-05; RHS Error 0.004773796071634095\n",
      "Iteration 234: LHS Error: 4.055770868482966e-05; RHS Error 0.00477377171083538\n",
      "Iteration 235: LHS Error: 3.584632396869125e-05; RHS Error 0.004773750190987285\n",
      "Iteration 236: LHS Error: 3.165813089012204e-05; RHS Error 0.004773731077430385\n",
      "Iteration 237: LHS Error: 2.7937833316116212e-05; RHS Error 0.0047737140328451486\n",
      "Iteration 238: LHS Error: 2.4635587235088963e-05; RHS Error 0.004773698790133157\n",
      "Iteration 239: LHS Error: 2.1706520944242413e-05; RHS Error 0.004773685133074974\n",
      "Iteration 240: LHS Error: 1.911028857737307e-05; RHS Error 0.004773672882696901\n",
      "Iteration 241: LHS Error: 1.6810656168431137e-05; RHS Error 0.00477366188773725\n",
      "Iteration 242: LHS Error: 1.4775119094423417e-05; RHS Error 0.004773652017997433\n",
      "Iteration 243: LHS Error: 1.2974549628452792e-05; RHS Error 0.004773643159701753\n",
      "Iteration 244: LHS Error: 1.1382873069010202e-05; RHS Error 0.004773635212232768\n",
      "Iteration 245: LHS Error: 9.976770907194066e-06; RHS Error 0.004773628085808786\n",
      "Iteration 246: LHS Error: 8.73540941004336e-06; RHS Error 0.004773621699797094\n",
      "Iteration 247: LHS Error: 7.640191977742461e-06; RHS Error 0.0047736159814607375\n",
      "Iteration 248: LHS Error: 6.674533640449454e-06; RHS Error 0.0047736108649993406\n",
      "Iteration 249: LHS Error: 5.823656143988387e-06; RHS Error 0.004773606290786117\n",
      "Iteration 250: LHS Error: 5.0744020194670725e-06; RHS Error 0.004773602204748494\n",
      "Iteration 251: LHS Error: 4.41506622284038e-06; RHS Error 0.004773598557842169\n",
      "Iteration 252: LHS Error: 3.835243896688212e-06; RHS Error 0.004773595305597671\n",
      "Iteration 253: LHS Error: 3.325692928157764e-06; RHS Error 0.004773592407717481\n",
      "Iteration 254: LHS Error: 2.8782100107704878e-06; RHS Error 0.004773589827715197\n",
      "Iteration 255: LHS Error: 2.485519117634283e-06; RHS Error 0.004773587532587366\n",
      "Iteration 256: LHS Error: 2.141171163039246e-06; RHS Error 0.004773585492510276\n",
      "Iteration 257: LHS Error: 1.8394539358368434e-06; RHS Error 0.004773583680565768\n",
      "Iteration 258: LHS Error: 1.5753112876382147e-06; RHS Error 0.004773582072482518\n",
      "Iteration 259: LHS Error: 1.344270747161147e-06; RHS Error 0.0047735806464018135\n",
      "Iteration 260: LHS Error: 1.1423786761000088e-06; RHS Error 0.004773579382657819\n",
      "Iteration 261: LHS Error: 9.661423607809638e-07; RHS Error 0.004773578263578913\n",
      "Iteration 262: LHS Error: 8.124782038265721e-07; RHS Error 0.004773577273300172\n",
      "Iteration 263: LHS Error: 6.78669398901377e-07; RHS Error 0.004773576397876813\n",
      "Iteration 264: LHS Error: 6.240555179282126e-07; RHS Error 0.004773575623595549\n",
      "Iteration 265: LHS Error: 6.12820566736616e-07; RHS Error 0.0047735749411037115\n",
      "Iteration 266: LHS Error: 6.02536479377136e-07; RHS Error 0.004773574338686918\n",
      "Iteration 267: LHS Error: 5.916288716711904e-07; RHS Error 0.004773573807105996\n",
      "Iteration 268: LHS Error: 5.821158652885572e-07; RHS Error 0.004773573338249286\n",
      "Iteration 269: LHS Error: 5.714619599750392e-07; RHS Error 0.004773572924919228\n",
      "Iteration 270: LHS Error: 5.626787467072347e-07; RHS Error 0.004773572560724321\n",
      "Iteration 271: LHS Error: 5.528347908345665e-07; RHS Error 0.004773572239996103\n",
      "Iteration 272: LHS Error: 5.441239046000135e-07; RHS Error 0.004773571957703435\n",
      "Iteration 273: LHS Error: 5.350769374246056e-07; RHS Error 0.0047735717093764195\n",
      "Iteration 274: LHS Error: 5.263622155915471e-07; RHS Error 0.004773571491043103\n",
      "Iteration 275: LHS Error: 5.180534032867001e-07; RHS Error 0.004773571299175081\n",
      "Iteration 276: LHS Error: 5.093152228852205e-07; RHS Error 0.004773571130641058\n",
      "Iteration 277: LHS Error: 5.016893203091399e-07; RHS Error 0.004773570982668108\n",
      "Iteration 278: LHS Error: 4.93450008853813e-07; RHS Error 0.004773570852802715\n",
      "Iteration 279: LHS Error: 4.859191351513914e-07; RHS Error 0.0047735707388772315\n",
      "Iteration 280: LHS Error: 4.7836173910909e-07; RHS Error 0.0047735706389796274\n",
      "Iteration 281: LHS Error: 4.7068541508821227e-07; RHS Error 0.004773570551422839\n",
      "Iteration 282: LHS Error: 4.6375565521117323e-07; RHS Error 0.004773570474719335\n",
      "Iteration 283: LHS Error: 4.564181019794944e-07; RHS Error 0.0047735704075580546\n",
      "Iteration 284: LHS Error: 4.4958560252439383e-07; RHS Error 0.00477357034878198\n",
      "Iteration 285: LHS Error: 4.4285281619593775e-07; RHS Error 0.004773570297370567\n",
      "Iteration 286: LHS Error: 4.3582540021347427e-07; RHS Error 0.004773570252421727\n",
      "Iteration 287: LHS Error: 4.296343729670582e-07; RHS Error 0.004773570213138432\n",
      "Iteration 288: LHS Error: 4.231782488872682e-07; RHS Error 0.004773570178814815\n",
      "Iteration 289: LHS Error: 4.1673153416965647e-07; RHS Error 0.004773570148825526\n",
      "Iteration 290: LHS Error: 4.1080048740482766e-07; RHS Error 0.004773570122616349\n",
      "Iteration 291: LHS Error: 4.046652386513472e-07; RHS Error 0.004773570099695385\n",
      "Iteration 292: LHS Error: 3.9866871359706124e-07; RHS Error 0.004773570079626383\n",
      "Iteration 293: LHS Error: 3.9302328058710145e-07; RHS Error 0.004773570062022517\n",
      "Iteration 294: LHS Error: 3.8722918915823357e-07; RHS Error 0.004773570046540426\n",
      "Iteration 295: LHS Error: 3.815677978025178e-07; RHS Error 0.004773570032877299\n",
      "Iteration 296: LHS Error: 3.762266045370666e-07; RHS Error 0.004773570020766116\n",
      "Iteration 297: LHS Error: 3.7077792836015533e-07; RHS Error 0.004773570009972805\n",
      "Iteration 298: LHS Error: 3.653602931308342e-07; RHS Error 0.004773570000292372\n",
      "Iteration 299: LHS Error: 3.6032770234228906e-07; RHS Error 0.004773569991547134\n",
      "Iteration 300: LHS Error: 3.552181233601459e-07; RHS Error 0.004773569983585687\n",
      "Iteration 301: LHS Error: 3.5005878418203906e-07; RHS Error 0.0047735699762784176\n",
      "Iteration 302: LHS Error: 3.452427970174199e-07; RHS Error 0.004773569969517437\n",
      "Iteration 303: LHS Error: 3.4045918173575274e-07; RHS Error 0.004773569963213934\n",
      "Iteration 304: LHS Error: 3.356431337309118e-07; RHS Error 0.004773569957296692\n",
      "Iteration 305: LHS Error: 3.3089056783452975e-07; RHS Error 0.004773569951710705\n",
      "Iteration 306: LHS Error: 3.264155581383932e-07; RHS Error 0.004773569946415146\n",
      "Iteration 307: LHS Error: 3.219205568782968e-07; RHS Error 0.004773569941382196\n",
      "Iteration 308: LHS Error: 3.174212634959872e-07; RHS Error 0.004773569936595341\n",
      "Iteration 309: LHS Error: 3.1300806968559414e-07; RHS Error 0.004773569932047805\n",
      "Iteration 310: LHS Error: 3.0881069257304716e-07; RHS Error 0.004773569927740751\n",
      "Iteration 311: LHS Error: 3.0461494660016797e-07; RHS Error 0.004773569923682764\n",
      "Iteration 312: LHS Error: 3.0043204946039737e-07; RHS Error 0.00477356991988738\n",
      "Iteration 313: LHS Error: 2.962717373655721e-07; RHS Error 0.004773569916373049\n",
      "Iteration 314: LHS Error: 2.9232313547566946e-07; RHS Error 0.004773569913161177\n",
      "Iteration 315: LHS Error: 2.8841973787052666e-07; RHS Error 0.004773569910275142\n",
      "Iteration 316: LHS Error: 2.8453895462021705e-07; RHS Error 0.004773569907739247\n",
      "Iteration 317: LHS Error: 2.806876988614704e-07; RHS Error 0.004773569905577469\n",
      "Iteration 318: LHS Error: 2.7687189607661367e-07; RHS Error 0.004773569903813515\n",
      "Iteration 319: LHS Error: 2.7320428230837024e-07; RHS Error 0.00477356990246797\n",
      "Iteration 320: LHS Error: 2.6960362076167144e-07; RHS Error 0.004773569901560797\n",
      "Iteration 321: LHS Error: 2.6603533642699517e-07; RHS Error 0.004773569901107673\n",
      "Iteration 322: LHS Error: 2.6250358198254276e-07; RHS Error 0.004773569901121412\n",
      "Iteration 323: LHS Error: 2.590118515222173e-07; RHS Error 0.0047735699016109995\n",
      "Iteration 324: LHS Error: 2.5556304317220224e-07; RHS Error 0.004773569902581258\n",
      "Iteration 325: LHS Error: 2.52180554660697e-07; RHS Error 0.004773569904032958\n",
      "Iteration 326: LHS Error: 2.489023640528387e-07; RHS Error 0.00477356990596255\n",
      "Iteration 327: LHS Error: 2.456620347146554e-07; RHS Error 0.0047735699083621165\n",
      "Iteration 328: LHS Error: 2.4246151220097545e-07; RHS Error 0.004773569911219695\n",
      "Iteration 329: LHS Error: 2.3930234993585486e-07; RHS Error 0.004773569914519545\n",
      "Iteration 330: LHS Error: 2.3618573319339475e-07; RHS Error 0.004773569918241464\n",
      "Iteration 331: LHS Error: 2.3311253505298168e-07; RHS Error 0.0047735699223621225\n",
      "Iteration 332: LHS Error: 2.300833394919266e-07; RHS Error 0.0047735699268548655\n",
      "Iteration 333: LHS Error: 2.270984831298506e-07; RHS Error 0.004773569931689998\n",
      "Iteration 334: LHS Error: 2.241580769890561e-07; RHS Error 0.004773569936834969\n",
      "Iteration 335: LHS Error: 2.2126191456806055e-07; RHS Error 0.004773569942255591\n",
      "Iteration 336: LHS Error: 2.184094443080653e-07; RHS Error 0.004773569947915751\n",
      "Iteration 337: LHS Error: 2.1560038554468974e-07; RHS Error 0.0047735699537777045\n",
      "Iteration 338: LHS Error: 2.128352765140562e-07; RHS Error 0.0047735699598033185\n",
      "Iteration 339: LHS Error: 2.101168989909752e-07; RHS Error 0.004773569965954183\n",
      "Iteration 340: LHS Error: 2.074367957405343e-07; RHS Error 0.004773569972190937\n",
      "Iteration 341: LHS Error: 2.0479591800182106e-07; RHS Error 0.004773569978475278\n",
      "Iteration 342: LHS Error: 2.018334255282639e-07; RHS Error 0.004773569984769556\n",
      "Iteration 343: LHS Error: 1.9856340038870712e-07; RHS Error 0.004773569991037393\n",
      "Iteration 344: LHS Error: 1.950081340851284e-07; RHS Error 0.00477356999724356\n",
      "Iteration 345: LHS Error: 1.9119052474536602e-07; RHS Error 0.0047735700033547865\n",
      "Iteration 346: LHS Error: 1.8713388794111552e-07; RHS Error 0.004773570009339062\n",
      "Iteration 347: LHS Error: 1.828618074739552e-07; RHS Error 0.004773570015167542\n",
      "Iteration 348: LHS Error: 1.7839791333074118e-07; RHS Error 0.0047735700208126446\n",
      "Iteration 349: LHS Error: 1.737657502332013e-07; RHS Error 0.004773570026250239\n",
      "Iteration 350: LHS Error: 1.689886079958569e-07; RHS Error 0.004773570031458212\n",
      "Iteration 351: LHS Error: 1.6408937675294055e-07; RHS Error 0.004773570036417103\n",
      "Iteration 352: LHS Error: 1.5909042527795236e-07; RHS Error 0.004773570041110432\n",
      "Iteration 353: LHS Error: 1.5401344910515036e-07; RHS Error 0.004773570045524381\n",
      "Iteration 354: LHS Error: 1.4887940480434736e-07; RHS Error 0.004773570049647614\n",
      "Iteration 355: LHS Error: 1.4370837586596963e-07; RHS Error 0.0047735700534716\n",
      "Iteration 356: LHS Error: 1.3851951230492432e-07; RHS Error 0.004773570056990584\n",
      "Iteration 357: LHS Error: 1.33330964047218e-07; RHS Error 0.004773570060200849\n",
      "Iteration 358: LHS Error: 1.2815981076386151e-07; RHS Error 0.004773570063101338\n",
      "Iteration 359: LHS Error: 1.2302203078462526e-07; RHS Error 0.004773570065693407\n",
      "Iteration 360: LHS Error: 1.1793247445268662e-07; RHS Error 0.00477357006797997\n",
      "Iteration 361: LHS Error: 1.1290482326842266e-07; RHS Error 0.0047735700699660655\n",
      "Iteration 362: LHS Error: 1.0795160942933535e-07; RHS Error 0.004773570071658604\n",
      "Iteration 363: LHS Error: 1.0308419184923423e-07; RHS Error 0.004773570073065964\n",
      "Iteration 364: LHS Error: 9.831279257355163e-08; RHS Error 0.0047735700741982565\n",
      "Iteration 365: LHS Error: 9.364649056209373e-08; RHS Error 0.004773570075065847\n",
      "Iteration 366: LHS Error: 8.909326787431837e-08; RHS Error 0.004773570075681355\n",
      "Iteration 367: LHS Error: 8.466002388018978e-08; RHS Error 0.004773570076057089\n",
      "Iteration 368: LHS Error: 8.035263654448954e-08; RHS Error 0.004773570076206973\n",
      "Iteration 369: LHS Error: 7.617598551945548e-08; RHS Error 0.004773570076145067\n",
      "Iteration 370: LHS Error: 7.213401431727107e-08; RHS Error 0.004773570075885657\n",
      "Iteration 371: LHS Error: 6.822976317266694e-08; RHS Error 0.004773570075442976\n",
      "Iteration 372: LHS Error: 6.446544098537288e-08; RHS Error 0.004773570074832419\n",
      "Iteration 373: LHS Error: 6.084247505810936e-08; RHS Error 0.0047735700740682355\n",
      "Iteration 374: LHS Error: 5.736155550550848e-08; RHS Error 0.004773570073165371\n",
      "Iteration 375: LHS Error: 5.402270097931705e-08; RHS Error 0.004773570072137998\n",
      "Iteration 376: LHS Error: 5.08253217290644e-08; RHS Error 0.004773570071000571\n",
      "Iteration 377: LHS Error: 4.7768254241020713e-08; RHS Error 0.004773570069766111\n",
      "Iteration 378: LHS Error: 4.4849838509719575e-08; RHS Error 0.004773570068447884\n",
      "Iteration 379: LHS Error: 4.206795622963e-08; RHS Error 0.0047735700670584365\n",
      "Iteration 380: LHS Error: 3.9420087638575296e-08; RHS Error 0.004773570065609661\n",
      "Iteration 381: LHS Error: 3.690335859118932e-08; RHS Error 0.004773570064113247\n",
      "Iteration 382: LHS Error: 3.4514592961443213e-08; RHS Error 0.00477357006257971\n",
      "Iteration 383: LHS Error: 3.2250354387031166e-08; RHS Error 0.00477357006101883\n",
      "Iteration 384: LHS Error: 3.010698623739927e-08; RHS Error 0.004773570059440079\n",
      "Iteration 385: LHS Error: 2.808065158177442e-08; RHS Error 0.004773570057851888\n",
      "Iteration 386: LHS Error: 2.6167380262620554e-08; RHS Error 0.004773570056262149\n",
      "Iteration 387: LHS Error: 2.4363082218314958e-08; RHS Error 0.004773570054678388\n",
      "Iteration 388: LHS Error: 2.266360343838869e-08; RHS Error 0.0047735700531069715\n",
      "Iteration 389: LHS Error: 2.1064734845310795e-08; RHS Error 0.004773570051553776\n",
      "Iteration 390: LHS Error: 1.9562264697015053e-08; RHS Error 0.004773570050024368\n",
      "Iteration 391: LHS Error: 1.815196348786685e-08; RHS Error 0.004773570048523117\n",
      "Iteration 392: LHS Error: 1.6829643456617305e-08; RHS Error 0.004773570047054396\n",
      "Iteration 393: LHS Error: 1.5591155033689574e-08; RHS Error 0.0047735700456213205\n",
      "Iteration 394: LHS Error: 1.4432408157460941e-08; RHS Error 0.004773570044227005\n",
      "Iteration 395: LHS Error: 1.3349393590544878e-08; RHS Error 0.004773570042874015\n",
      "Iteration 396: LHS Error: 1.233818736068315e-08; RHS Error 0.004773570041564167\n",
      "Iteration 397: LHS Error: 1.1394977406098405e-08; RHS Error 0.004773570040299185\n",
      "Iteration 398: LHS Error: 1.0516037818320001e-08; RHS Error 0.004773570039080393\n",
      "Iteration 399: LHS Error: 9.69777413928341e-09; RHS Error 0.004773570037908341\n",
      "Converged. Total iteration 399: LHS Error: 9.69777413928341e-09; RHS Error 0.004773570037908341\n"
     ]
    }
   ],
   "source": [
    "model_paras = (η, δ, θ, πc_o, σ_y, ξ_w, ξ_p, ξ_a, γ_1, γ_2, y_bar_lower, y_bar_upper, ϕ_m, πd_o, r0, r1, τ)\n",
    "model_res = ode_y_jump_intensity_approach(y_grid_short, model_paras=model_paras, v0=v_guess, ϵ=1,\n",
    "                                          tol=1e-8, max_iter=500, print_all=True)"
   ]
  },
  {
   "cell_type": "markdown",
   "metadata": {},
   "source": [
    "## Simulation"
   ]
  },
  {
   "cell_type": "code",
   "execution_count": 8,
   "metadata": {},
   "outputs": [],
   "source": [
    "e_grid_no_jump = model_res['e_tilde']\n",
    "e_grid_jump_low = np.array([model_low['e_tilde'] for model in model_high_list])\n",
    "e_grid_jump_high = np.array([model['e_tilde'] for model in model_high_list])\n",
    "e_grid_jump_extreme = np.array([model['e_tilde'] for model in model_extreme_list])\n",
    "e_grid_jump = np.array([e_grid_jump_low, e_grid_jump_high, e_grid_jump_extreme])"
   ]
  },
  {
   "cell_type": "code",
   "execution_count": 256,
   "metadata": {},
   "outputs": [],
   "source": [
    "@njit\n",
    "def simulation_one_path(y_grid_short, y_grid_long, y_grid_tilde, e_grid_no_jump, e_grid_jump,\n",
    "                        θ, y0, y_bar_lower, r0, r1, τ, damage_prob, T=80):\n",
    "    \"\"\"\n",
    "    y_grid : (N,) ndarray\n",
    "    e_grid_no_jump : (N,) ndarray\n",
    "    e_grid_jump : (3, M, N) ndarray\n",
    "        e_grid[0, i], e_grid[1, i] and e_grid[2, i] are the emissions conditional\n",
    "            on low, high and extreme damages when jump occurrs at y_grid_tilde[i].\n",
    "    \"\"\"\n",
    "    yt = np.zeros(T+1)\n",
    "    et = np.zeros(T+1)\n",
    "    damage_states_t = np.zeros(T+1)\n",
    "    jump_occurred = False\n",
    "    e_grid_realized = e_grid_no_jump\n",
    "    for i in range(T+1):\n",
    "        if y0 > y_bar_lower and jump_occurred == False:\n",
    "            intensity = r0 * (np.exp(r1 / 2. * (y0-y_bar_lower)**2) - 1.)\n",
    "            jump_prob = τ * intensity\n",
    "            realized_jump_state = np.random.multinomial(n=1, pvals=np.array([jump_prob, 1-jump_prob]))\n",
    "            if np.array_equal(realized_jump_state, np.array([1, 0])):\n",
    "                jump_occurred = True\n",
    "                realized_damage_state = np.random.multinomial(n=1, pvals=damage_prob)\n",
    "                loc = find_nearest_value(y_grid_tilde, y0)\n",
    "                if np.array_equal(realized_damage_state, np.array([1, 0, 0])):\n",
    "                    e_grid_realized = e_grid_jump[0, loc]\n",
    "                    damage_states_t[i:] = 1\n",
    "                elif np.array_equal(realized_damage_state, np.array([0, 1, 0])):\n",
    "                    e_grid_realized = e_grid_jump[1, loc]\n",
    "                    damage_states_t[i:] = 2\n",
    "                else:\n",
    "                    e_grid_realized = e_grid_jump[2, loc]\n",
    "                    damage_states_t[i:] = 3\n",
    "        if jump_occurred:\n",
    "            et[i] = np.interp(y0, y_grid_long, e_grid_realized)\n",
    "        else:\n",
    "            et[i] = np.interp(y0, y_grid_short, e_grid_realized)\n",
    "        yt[i] = y0\n",
    "        y0 = y0 + et[i]*θ\n",
    "    return et, yt, damage_states_t\n",
    "\n",
    "@njit\n",
    "def simulation_n_path(y_grid_short, y_grid_long, y_grid_tilde, e_grid_no_jump, e_grid_jump,\n",
    "                      θ, y0, y_bar_lower, r0, r1, τ, damage_prob, T=80, N=10_000):\n",
    "    yt_n_path = np.zeros((N, T+1))\n",
    "    et_n_path = np.zeros((N, T+1))\n",
    "    damage_states_t_n_path = np.zeros((N, T+1))\n",
    "    for n in range(N):\n",
    "        et, yt, damage_states_t = simulation_one_path(y_grid_short, y_grid_long, y_grid_tilde, e_grid_no_jump, e_grid_jump,\n",
    "                                     θ, y0, y_bar_lower, r0, r1, τ, damage_prob, T=T)\n",
    "        yt_n_path[n] = yt\n",
    "        et_n_path[n] = et\n",
    "        damage_states_t_n_path[n] = damage_states_t\n",
    "    return et_n_path, yt_n_path, damage_states_t_n_path"
   ]
  },
  {
   "cell_type": "code",
   "execution_count": 257,
   "metadata": {},
   "outputs": [],
   "source": [
    "et, yt, damage_states_t = simulation_n_path(y_grid_short, y_grid_long, y_grid_tilde, e_grid_no_jump, e_grid_jump,\n",
    "                           np.mean(model_res['θ']), y0=1.1, y_bar_lower=y_bar_lower, r0=r0,\n",
    "                           r1=r1, τ=τ, damage_prob=np.array([1./3, 1./3, 1./3]), T=80, N=1_000_000)"
   ]
  },
  {
   "cell_type": "code",
   "execution_count": 90,
   "metadata": {},
   "outputs": [],
   "source": [
    "et_10 = np.percentile(et, 10, axis=0)\n",
    "et_50 = np.percentile(et, 50, axis=0)\n",
    "et_90 = np.percentile(et, 90, axis=0)\n",
    "\n",
    "et_01 = np.percentile(et, 1, axis=0)\n",
    "et_99 = np.percentile(et, 99, axis=0)"
   ]
  },
  {
   "cell_type": "code",
   "execution_count": 100,
   "metadata": {},
   "outputs": [
    {
     "data": {
      "text/plain": [
       "(91,)"
      ]
     },
     "execution_count": 100,
     "metadata": {},
     "output_type": "execute_result"
    }
   ],
   "source": [
    "np.unique(et[:,80]).shape"
   ]
  },
  {
   "cell_type": "code",
   "execution_count": 102,
   "metadata": {},
   "outputs": [
    {
     "data": {
      "text/plain": [
       "Text(0.5, 0, 'Years')"
      ]
     },
     "execution_count": 102,
     "metadata": {},
     "output_type": "execute_result"
    },
    {
     "data": {
      "image/png": "[encoded data removed]",
      "text/plain": [
       "<Figure size 432x288 with 1 Axes>"
      ]
     },
     "metadata": {
      "needs_background": "light"
     },
     "output_type": "display_data"
    }
   ],
   "source": [
    "plt.plot(et_10, label='.10 percentile', linewidth=2.)\n",
    "plt.plot(et_50, label='.50 percentile', linewidth=2.)\n",
    "plt.plot(et_90, label='.90 percentile', linewidth=2.)\n",
    "plt.legend(frameon=False)\n",
    "plt.title('Emission')\n",
    "plt.xlabel('Years')"
   ]
  },
  {
   "cell_type": "code",
   "execution_count": 197,
   "metadata": {},
   "outputs": [],
   "source": [
    "T = 80\n",
    "et_no_jump, yt_no_jump, _, _ = simulation(model_res['y_grid'], model_res['e_tilde'], model_res['h'], model_res['g'],\n",
    "                            θ=np.mean(model_res['θ']), y_start=1.1, T=T)"
   ]
  },
  {
   "cell_type": "code",
   "execution_count": 198,
   "metadata": {
    "scrolled": true
   },
   "outputs": [
    {
     "data": {
      "text/plain": [
       "[<matplotlib.lines.Line2D at 0x7fd3523ca1f0>]"
      ]
     },
     "execution_count": 198,
     "metadata": {},
     "output_type": "execute_result"
    },
    {
     "data": {
      "image/png": "[encoded data removed]",
      "text/plain": [
       "<Figure size 432x288 with 1 Axes>"
      ]
     },
     "metadata": {
      "needs_background": "light"
     },
     "output_type": "display_data"
    }
   ],
   "source": [
    "# Compute continuation probability\n",
    "dt = 1./1\n",
    "con_prob = np.ones(int(T/dt)+1)\n",
    "time_periods = np.arange(0, T+dt, dt)\n",
    "yt_no_jump_long = np.interp(time_periods, np.array(range(T+1)), yt_no_jump)\n",
    "con_prob_sum = 0\n",
    "for t in range(time_periods.shape[0]):\n",
    "    y = yt_no_jump_long[t]\n",
    "    if y >= y_bar_lower:\n",
    "        intensity = r0 * (np.exp(r1 / 2. * (y-y_bar_lower)**2) - 1.)\n",
    "        con_prob_sum += intensity * dt\n",
    "        con_prob[t] = np.exp(-con_prob_sum)\n",
    "\n",
    "# Plot continuation probability\n",
    "plt.plot(time_periods, con_prob)"
   ]
  },
  {
   "cell_type": "code",
   "execution_count": 46,
   "metadata": {},
   "outputs": [
    {
     "data": {
      "text/plain": [
       "[<matplotlib.lines.Line2D at 0x7fd341336b80>]"
      ]
     },
     "execution_count": 46,
     "metadata": {},
     "output_type": "execute_result"
    },
    {
     "data": {
      "image/png": "[encoded data removed]",
      "text/plain": [
       "<Figure size 432x288 with 1 Axes>"
      ]
     },
     "metadata": {
      "needs_background": "light"
     },
     "output_type": "display_data"
    }
   ],
   "source": [
    "plt.plot(yt_no_jump)"
   ]
  },
  {
   "cell_type": "code",
   "execution_count": 181,
   "metadata": {},
   "outputs": [],
   "source": [
    "def compute_prob(array):\n",
    "    array_unique = np.unique(array)\n",
    "    prob = np.zeros_like(array_unique)\n",
    "    for i, point in enumerate(array_unique):\n",
    "        prob[i] = np.sum(array==point)/len(array)\n",
    "    return array_unique, prob"
   ]
  },
  {
   "cell_type": "code",
   "execution_count": 275,
   "metadata": {},
   "outputs": [],
   "source": [
    "# Compute probabilities\n",
    "T_after = 20\n",
    "et_states, et_prob = compute_prob(et[:, 50+T_after])\n",
    "Kt_fixed = Kt[50+T_after]"
   ]
  },
  {
   "cell_type": "code",
   "execution_count": 276,
   "metadata": {},
   "outputs": [],
   "source": [
    "et_no_jump = et[:, 50+T_after][damage_states_t[:, 50+T_after]==0]\n",
    "et_low = et[:, 50+T_after][damage_states_t[:, 50+T_after]==1]\n",
    "et_high = et[:, 50+T_after][damage_states_t[:, 50+T_after]==2]\n",
    "et_extreme = et[:, 50+T_after][damage_states_t[:, 50+T_after]==3]\n",
    "\n",
    "et_no_jump_states, et_no_jump_prob = compute_prob(et_no_jump)\n",
    "et_low_states, et_low_prob = compute_prob(et_low)\n",
    "et_high_states, et_high_prob = compute_prob(et_high)\n",
    "et_extreme_states, et_extreme_prob = compute_prob(et_extreme)"
   ]
  },
  {
   "cell_type": "code",
   "execution_count": 294,
   "metadata": {},
   "outputs": [
    {
     "data": {
      "text/plain": [
       "0.2851166666666667"
      ]
     },
     "execution_count": 294,
     "metadata": {},
     "output_type": "execute_result"
    }
   ],
   "source": [
    "(1-et_no_jump.shape[0]/1000000)/3"
   ]
  },
  {
   "cell_type": "code",
   "execution_count": 297,
   "metadata": {},
   "outputs": [
    {
     "data": {
      "text/plain": [
       "0.999"
      ]
     },
     "execution_count": 297,
     "metadata": {},
     "output_type": "execute_result"
    }
   ],
   "source": [
    ".285*3 + .144"
   ]
  },
  {
   "cell_type": "code",
   "execution_count": 292,
   "metadata": {},
   "outputs": [
    {
     "data": {
      "image/png": "[encoded data removed]",
      "text/plain": [
       "<Figure size 1296x288 with 3 Axes>"
      ]
     },
     "metadata": {
      "needs_background": "light"
     },
     "output_type": "display_data"
    },
    {
     "data": {
      "image/png": "[encoded data removed]",
      "text/plain": [
       "<Figure size 1296x288 with 3 Axes>"
      ]
     },
     "metadata": {
      "needs_background": "light"
     },
     "output_type": "display_data"
    }
   ],
   "source": [
    "fig, (ax1, ax2, ax3) = plt.subplots(1, 3, figsize=(18,4))\n",
    "ax1.hist(et_low_states, weights=et_low_prob, bins=20, density=False)\n",
    "ax1.set_ylabel('Probability', fontsize=13)\n",
    "\n",
    "ax2.hist(et_high_states, weights=et_high_prob, bins=20, density=False)\n",
    "ax2.set_ylabel('Probability', fontsize=13)\n",
    "\n",
    "ax3.hist(et_extreme_states, weights=et_extreme_prob, bins=20, density=False)\n",
    "ax3.set_ylabel('Probability', fontsize=13)\n",
    "\n",
    "fig.suptitle(r'Figure 1: Histograms of emission conditional on low (left), high (middle) and extreme (right) damage; Year' +str(T_after)+ r' after $y>1.5$')\n",
    "fig.savefig('fig_1.pdf')\n",
    "\n",
    "\n",
    "fig, (ax1, ax2, ax3) = plt.subplots(1, 3, figsize=(18,4))\n",
    "ax1.hist(η*(0.025)*Kt_fixed/((1.-η)*et_low_states)*1000, weights=et_low_prob, bins=20, density=False)\n",
    "ax1.set_ylabel('Probability', fontsize=13)\n",
    "\n",
    "ax2.hist(η*(0.025)*Kt_fixed/((1.-η)*et_high_states)*1000, weights=et_high_prob, bins=20, density=False)\n",
    "ax2.set_ylabel('Probability', fontsize=13)\n",
    "\n",
    "ax3.hist(η*(0.025)*Kt_fixed/((1.-η)*et_extreme_states)*1000, weights=et_extreme_prob, bins=20, density=False)\n",
    "ax3.set_ylabel('Probability', fontsize=13)\n",
    "\n",
    "fig.suptitle(r'Figure 2: Histograms of SCC conditional on low (left), high (middle) and extreme (right) damage; Year' +str(T_after)+ r' after $y>1.5$')\n",
    "fig.savefig('fig_2.pdf')"
   ]
  },
  {
   "cell_type": "code",
   "execution_count": 230,
   "metadata": {
    "scrolled": true
   },
   "outputs": [
    {
     "data": {
      "image/png": "[encoded data removed]",
      "text/plain": [
       "<Figure size 432x288 with 1 Axes>"
      ]
     },
     "metadata": {
      "needs_background": "light"
     },
     "output_type": "display_data"
    },
    {
     "data": {
      "image/png": "[encoded data removed]",
      "text/plain": [
       "<Figure size 432x288 with 1 Axes>"
      ]
     },
     "metadata": {
      "needs_background": "light"
     },
     "output_type": "display_data"
    }
   ],
   "source": [
    "plt.figure()\n",
    "plt.hist(et_states, weights=et_prob, bins=100, density=False)\n",
    "plt.title('Figure 1: Emission histogram ('+str(T_after)+r' years after $y$ reaching 1.5)')\n",
    "plt.ylabel('Probability')\n",
    "plt.savefig('fig_1.pdf')\n",
    "\n",
    "plt.figure()\n",
    "plt.hist(η*(0.025)*Kt_fixed/((1.-η)*et_states)*1000, weights=et_prob, bins=100, density=False)\n",
    "plt.title(r'Figure 2: SCC histogram ('+str(T_after)+r' years after $y$ reaching 1.5)')\n",
    "plt.ylabel('Probability')\n",
    "plt.savefig('fig_2.pdf')"
   ]
  },
  {
   "cell_type": "code",
   "execution_count": 231,
   "metadata": {},
   "outputs": [],
   "source": [
    "# Compute probabilities\n",
    "T_after = 20\n",
    "et_states, et_prob = compute_prob(et[:, 50+T_after])\n",
    "Kt_fixed = Kt[50+T_after]"
   ]
  },
  {
   "cell_type": "code",
   "execution_count": 232,
   "metadata": {},
   "outputs": [
    {
     "data": {
      "image/png": "[encoded data removed]",
      "text/plain": [
       "<Figure size 432x288 with 1 Axes>"
      ]
     },
     "metadata": {
      "needs_background": "light"
     },
     "output_type": "display_data"
    },
    {
     "data": {
      "image/png": "[encoded data removed]",
      "text/plain": [
       "<Figure size 432x288 with 1 Axes>"
      ]
     },
     "metadata": {
      "needs_background": "light"
     },
     "output_type": "display_data"
    }
   ],
   "source": [
    "plt.figure()\n",
    "plt.hist(et_states, weights=et_prob, bins=100, density=False)\n",
    "plt.title('Figure 3: Emission histogram ('+str(T_after)+r' years after $y$ reaching 1.5)')\n",
    "plt.ylabel('Probability')\n",
    "plt.savefig('fig_3.pdf')\n",
    "\n",
    "plt.figure()\n",
    "plt.hist(η*(0.025)*Kt_fixed/((1.-η)*et_states)*1000, weights=et_prob, bins=100, density=False)\n",
    "plt.title(r'Figure 4: SCC histogram ('+str(T_after)+r' years after $y$ reaching 1.5)')\n",
    "plt.ylabel('Probability')\n",
    "plt.savefig('fig_4.pdf')"
   ]
  },
  {
   "cell_type": "code",
   "execution_count": 239,
   "metadata": {},
   "outputs": [],
   "source": [
    "# Compute probabilities\n",
    "T_after = 20\n",
    "et_states, et_prob = compute_prob(et[:, 50+T_after])\n",
    "Kt_fixed = Kt[50+T_after]"
   ]
  },
  {
   "cell_type": "code",
   "execution_count": 240,
   "metadata": {
    "scrolled": false
   },
   "outputs": [
    {
     "data": {
      "text/html": [
       "<div>\n",
       "<style scoped>\n",
       "    .dataframe tbody tr th:only-of-type {\n",
       "        vertical-align: middle;\n",
       "    }\n",
       "\n",
       "    .dataframe tbody tr th {\n",
       "        vertical-align: top;\n",
       "    }\n",
       "\n",
       "    .dataframe thead th {\n",
       "        text-align: right;\n",
       "    }\n",
       "</style>\n",
       "<table border=\"1\" class=\"dataframe\">\n",
       "  <thead>\n",
       "    <tr style=\"text-align: right;\">\n",
       "      <th></th>\n",
       "      <th>emission state</th>\n",
       "      <th>SCC state</th>\n",
       "      <th>probability</th>\n",
       "    </tr>\n",
       "  </thead>\n",
       "  <tbody>\n",
       "    <tr>\n",
       "      <th>31</th>\n",
       "      <td>4.162572</td>\n",
       "      <td>558.337391</td>\n",
       "      <td>0.016264</td>\n",
       "    </tr>\n",
       "    <tr>\n",
       "      <th>32</th>\n",
       "      <td>4.209389</td>\n",
       "      <td>552.127467</td>\n",
       "      <td>0.024148</td>\n",
       "    </tr>\n",
       "    <tr>\n",
       "      <th>33</th>\n",
       "      <td>4.214710</td>\n",
       "      <td>551.430500</td>\n",
       "      <td>0.021366</td>\n",
       "    </tr>\n",
       "    <tr>\n",
       "      <th>34</th>\n",
       "      <td>4.247757</td>\n",
       "      <td>547.140349</td>\n",
       "      <td>0.027455</td>\n",
       "    </tr>\n",
       "    <tr>\n",
       "      <th>35</th>\n",
       "      <td>4.258645</td>\n",
       "      <td>545.741598</td>\n",
       "      <td>0.026029</td>\n",
       "    </tr>\n",
       "    <tr>\n",
       "      <th>36</th>\n",
       "      <td>4.290990</td>\n",
       "      <td>541.627820</td>\n",
       "      <td>0.027495</td>\n",
       "    </tr>\n",
       "    <tr>\n",
       "      <th>37</th>\n",
       "      <td>4.334329</td>\n",
       "      <td>536.212108</td>\n",
       "      <td>0.024625</td>\n",
       "    </tr>\n",
       "    <tr>\n",
       "      <th>38</th>\n",
       "      <td>4.389675</td>\n",
       "      <td>529.451356</td>\n",
       "      <td>0.026632</td>\n",
       "    </tr>\n",
       "    <tr>\n",
       "      <th>39</th>\n",
       "      <td>4.428048</td>\n",
       "      <td>524.863253</td>\n",
       "      <td>0.021179</td>\n",
       "    </tr>\n",
       "    <tr>\n",
       "      <th>40</th>\n",
       "      <td>9.388854</td>\n",
       "      <td>247.540271</td>\n",
       "      <td>0.144384</td>\n",
       "    </tr>\n",
       "    <tr>\n",
       "      <th>41</th>\n",
       "      <td>9.894222</td>\n",
       "      <td>234.896642</td>\n",
       "      <td>0.000056</td>\n",
       "    </tr>\n",
       "    <tr>\n",
       "      <th>42</th>\n",
       "      <td>9.921161</td>\n",
       "      <td>234.258815</td>\n",
       "      <td>0.000398</td>\n",
       "    </tr>\n",
       "    <tr>\n",
       "      <th>43</th>\n",
       "      <td>9.948314</td>\n",
       "      <td>233.619428</td>\n",
       "      <td>0.001099</td>\n",
       "    </tr>\n",
       "    <tr>\n",
       "      <th>44</th>\n",
       "      <td>9.975663</td>\n",
       "      <td>232.978942</td>\n",
       "      <td>0.001992</td>\n",
       "    </tr>\n",
       "    <tr>\n",
       "      <th>45</th>\n",
       "      <td>10.003004</td>\n",
       "      <td>232.342154</td>\n",
       "      <td>0.003328</td>\n",
       "    </tr>\n",
       "    <tr>\n",
       "      <th>46</th>\n",
       "      <td>10.030326</td>\n",
       "      <td>231.709258</td>\n",
       "      <td>0.004679</td>\n",
       "    </tr>\n",
       "    <tr>\n",
       "      <th>47</th>\n",
       "      <td>10.057519</td>\n",
       "      <td>231.082773</td>\n",
       "      <td>0.006624</td>\n",
       "    </tr>\n",
       "    <tr>\n",
       "      <th>48</th>\n",
       "      <td>10.084377</td>\n",
       "      <td>230.467336</td>\n",
       "      <td>0.008731</td>\n",
       "    </tr>\n",
       "    <tr>\n",
       "      <th>49</th>\n",
       "      <td>10.110740</td>\n",
       "      <td>229.866403</td>\n",
       "      <td>0.010995</td>\n",
       "    </tr>\n",
       "    <tr>\n",
       "      <th>50</th>\n",
       "      <td>10.136471</td>\n",
       "      <td>229.282893</td>\n",
       "      <td>0.013612</td>\n",
       "    </tr>\n",
       "    <tr>\n",
       "      <th>51</th>\n",
       "      <td>10.161385</td>\n",
       "      <td>228.720737</td>\n",
       "      <td>0.016122</td>\n",
       "    </tr>\n",
       "    <tr>\n",
       "      <th>52</th>\n",
       "      <td>10.185198</td>\n",
       "      <td>228.185997</td>\n",
       "      <td>0.019116</td>\n",
       "    </tr>\n",
       "    <tr>\n",
       "      <th>53</th>\n",
       "      <td>10.207825</td>\n",
       "      <td>227.680176</td>\n",
       "      <td>0.021467</td>\n",
       "    </tr>\n",
       "    <tr>\n",
       "      <th>54</th>\n",
       "      <td>10.228895</td>\n",
       "      <td>227.211200</td>\n",
       "      <td>0.024217</td>\n",
       "    </tr>\n",
       "    <tr>\n",
       "      <th>55</th>\n",
       "      <td>10.248312</td>\n",
       "      <td>226.780706</td>\n",
       "      <td>0.026247</td>\n",
       "    </tr>\n",
       "    <tr>\n",
       "      <th>56</th>\n",
       "      <td>10.265662</td>\n",
       "      <td>226.397435</td>\n",
       "      <td>0.027231</td>\n",
       "    </tr>\n",
       "    <tr>\n",
       "      <th>57</th>\n",
       "      <td>10.280800</td>\n",
       "      <td>226.064077</td>\n",
       "      <td>0.027406</td>\n",
       "    </tr>\n",
       "    <tr>\n",
       "      <th>58</th>\n",
       "      <td>10.293452</td>\n",
       "      <td>225.786204</td>\n",
       "      <td>0.026530</td>\n",
       "    </tr>\n",
       "    <tr>\n",
       "      <th>59</th>\n",
       "      <td>10.303345</td>\n",
       "      <td>225.569413</td>\n",
       "      <td>0.024448</td>\n",
       "    </tr>\n",
       "    <tr>\n",
       "      <th>60</th>\n",
       "      <td>10.310320</td>\n",
       "      <td>225.416824</td>\n",
       "      <td>0.021363</td>\n",
       "    </tr>\n",
       "  </tbody>\n",
       "</table>\n",
       "</div>"
      ],
      "text/plain": [
       "    emission state   SCC state  probability\n",
       "31        4.162572  558.337391     0.016264\n",
       "32        4.209389  552.127467     0.024148\n",
       "33        4.214710  551.430500     0.021366\n",
       "34        4.247757  547.140349     0.027455\n",
       "35        4.258645  545.741598     0.026029\n",
       "36        4.290990  541.627820     0.027495\n",
       "37        4.334329  536.212108     0.024625\n",
       "38        4.389675  529.451356     0.026632\n",
       "39        4.428048  524.863253     0.021179\n",
       "40        9.388854  247.540271     0.144384\n",
       "41        9.894222  234.896642     0.000056\n",
       "42        9.921161  234.258815     0.000398\n",
       "43        9.948314  233.619428     0.001099\n",
       "44        9.975663  232.978942     0.001992\n",
       "45       10.003004  232.342154     0.003328\n",
       "46       10.030326  231.709258     0.004679\n",
       "47       10.057519  231.082773     0.006624\n",
       "48       10.084377  230.467336     0.008731\n",
       "49       10.110740  229.866403     0.010995\n",
       "50       10.136471  229.282893     0.013612\n",
       "51       10.161385  228.720737     0.016122\n",
       "52       10.185198  228.185997     0.019116\n",
       "53       10.207825  227.680176     0.021467\n",
       "54       10.228895  227.211200     0.024217\n",
       "55       10.248312  226.780706     0.026247\n",
       "56       10.265662  226.397435     0.027231\n",
       "57       10.280800  226.064077     0.027406\n",
       "58       10.293452  225.786204     0.026530\n",
       "59       10.303345  225.569413     0.024448\n",
       "60       10.310320  225.416824     0.021363"
      ]
     },
     "execution_count": 240,
     "metadata": {},
     "output_type": "execute_result"
    }
   ],
   "source": [
    "import pandas as pd\n",
    "df = pd.DataFrame({'emission state': et_states,\n",
    "              'SCC state': η*(0.025)*Kt_fixed/((1.-η)*et_states)*1000, \n",
    "              'probability': et_prob})\n",
    "df[-30:]"
   ]
  },
  {
   "cell_type": "code",
   "execution_count": 244,
   "metadata": {
    "scrolled": true
   },
   "outputs": [
    {
     "data": {
      "text/plain": [
       "(1.530367652796757, 1.566189521784397, 1.6134879215544542, 1.6831572340104042)"
      ]
     },
     "execution_count": 244,
     "metadata": {},
     "output_type": "execute_result"
    }
   ],
   "source": [
    "yt_no_jump[55], yt_no_jump[60], yt_no_jump[65], yt_no_jump[70]"
   ]
  },
  {
   "cell_type": "code",
   "execution_count": 245,
   "metadata": {},
   "outputs": [
    {
     "data": {
      "text/plain": [
       "1.8996072169459104"
      ]
     },
     "execution_count": 245,
     "metadata": {},
     "output_type": "execute_result"
    }
   ],
   "source": [
    "yt_no_jump[80]"
   ]
  },
  {
   "cell_type": "markdown",
   "metadata": {},
   "source": [
    "## Old plots"
   ]
  },
  {
   "cell_type": "code",
   "execution_count": null,
   "metadata": {
    "scrolled": true
   },
   "outputs": [],
   "source": [
    "plt.plot(y_grid_short[40:], model_res['πd'][0][40:], label='low damage')\n",
    "plt.plot(y_grid_short[40:], model_res['πd'][1][40:], label='high damage')\n",
    "plt.plot(y_grid_short[40:], model_res['πd'][2][40:], label='extreme damage')\n",
    "plt.legend(frameon=False)\n",
    "plt.ylim(0, 1)"
   ]
  },
  {
   "cell_type": "code",
   "execution_count": null,
   "metadata": {},
   "outputs": [],
   "source": [
    "plt.plot(y_grid_short, model_res['e_tilde'])\n",
    "plt.title('Figure 1: Emission')\n",
    "plt.xlabel('y')\n",
    "plt.savefig('fig_1.pdf')"
   ]
  },
  {
   "cell_type": "code",
   "execution_count": null,
   "metadata": {},
   "outputs": [],
   "source": [
    "plt.plot(y_grid_short, model_res['v0_dy'])\n",
    "plt.title(r'Figure 2: $\\frac{d\\phi}{dy}(y)$')\n",
    "plt.xlabel('y')\n",
    "plt.savefig('fig_2.pdf')"
   ]
  },
  {
   "cell_type": "code",
   "execution_count": null,
   "metadata": {},
   "outputs": [],
   "source": [
    "plt.plot(y_grid_short, model_res['intensity'])\n",
    "plt.title('Figure 3: Intensity')\n",
    "plt.xlabel('y')\n",
    "plt.savefig('fig_3.pdf')"
   ]
  },
  {
   "cell_type": "code",
   "execution_count": null,
   "metadata": {},
   "outputs": [],
   "source": [
    "plt.plot(y_grid_short, model_res['v0'])\n",
    "plt.title(r'Figure 4: Value function $\\phi(y)$')\n",
    "plt.xlabel('y')\n",
    "plt.savefig('fig_4.pdf')"
   ]
  },
  {
   "cell_type": "code",
   "execution_count": null,
   "metadata": {},
   "outputs": [],
   "source": [
    "et, yt, ht, gt = simulation(model_res['y_grid'], model_res['e_tilde'], model_res['h'], model_res['g'],\n",
    "                            θ=np.mean(model_res['θ']), y_start=1.1, T=89)"
   ]
  },
  {
   "cell_type": "code",
   "execution_count": null,
   "metadata": {},
   "outputs": [],
   "source": [
    "plt.plot(et)"
   ]
  },
  {
   "cell_type": "code",
   "execution_count": null,
   "metadata": {},
   "outputs": [],
   "source": [
    "# Compute model high/extreme at 1.6, 1.8, 2.0\n",
    "model_args_high_new = []\n",
    "model_args_extreme_new = []\n",
    "\n",
    "for y_jump in [1.6, 1.8, 2.0]:\n",
    "    model_paras_high = (η, δ, θ, πc_o, σ_y, ξ_w, ξ_a, γ_1, γ_2, γ_2p[1], y_jump)\n",
    "    model_paras_extreme = (η, δ, θ, πc_o, σ_y, ξ_w, ξ_a, γ_1, γ_2, γ_2p[2], y_jump)\n",
    "    model_args_high_new.append((np.arange(0., y_bar_upper*2, .01), model_paras_high, None, ϵ, 1e-8, 5000, False))\n",
    "    model_args_extreme_new.append((np.arange(0., y_bar_upper*2, .01), model_paras_extreme, None, ϵ, 1e-8, 5000, False))\n",
    "\n",
    "print('----- Solving high damage models -----')\n",
    "model_high_list_new = ode_y_parallel(model_args_high_new)\n",
    "print('----- Solving extreme damage models -----')\n",
    "model_extreme_list_new = ode_y_parallel(model_args_extreme_new)"
   ]
  },
  {
   "cell_type": "code",
   "execution_count": null,
   "metadata": {},
   "outputs": [],
   "source": [
    "et_low, _, _, _ = simulation(model_low['y_grid'], model_low['e_tilde'], model_low['h'],\n",
    "                                 np.array([np.zeros_like(model_low['h']), np.zeros_like(model_low['h'])]),\n",
    "                                 θ=np.mean(model_res['θ']), y_start=1.1, T=89)"
   ]
  },
  {
   "cell_type": "code",
   "execution_count": null,
   "metadata": {},
   "outputs": [],
   "source": [
    "et_high_16, _, _, _ = simulation(model_high_list_new[0]['y_grid'], model_high_list_new[0]['e_tilde'], model_high_list_new[0]['h'],\n",
    "                                 np.array([np.zeros_like(model_high_list_new[0]['h']), np.zeros_like(model_high_list_new[0]['h'])]),\n",
    "                                 θ=np.mean(model_res['θ']), y_start=1.1, T=89)"
   ]
  },
  {
   "cell_type": "code",
   "execution_count": null,
   "metadata": {},
   "outputs": [],
   "source": [
    "et_high_18, _, _, _ = simulation(model_high_list_new[1]['y_grid'], model_high_list_new[1]['e_tilde'], model_high_list_new[1]['h'],\n",
    "                                 np.array([np.zeros_like(model_high_list_new[1]['h']), np.zeros_like(model_high_list_new[1]['h'])]),\n",
    "                                 θ=np.mean(model_res['θ']), y_start=1.1, T=89)"
   ]
  },
  {
   "cell_type": "code",
   "execution_count": null,
   "metadata": {},
   "outputs": [],
   "source": [
    "et_high_20, _, _, _ = simulation(model_high_list_new[2]['y_grid'], model_high_list_new[2]['e_tilde'], model_high_list_new[2]['h'],\n",
    "                                 np.array([np.zeros_like(model_high_list_new[2]['h']), np.zeros_like(model_high_list_new[2]['h'])]),\n",
    "                                 θ=np.mean(model_res['θ']), y_start=1.1, T=89)"
   ]
  },
  {
   "cell_type": "code",
   "execution_count": null,
   "metadata": {},
   "outputs": [],
   "source": [
    "et_extreme_16, _, _, _ = simulation(model_extreme_list_new[0]['y_grid'], model_extreme_list_new[0]['e_tilde'], model_extreme_list_new[0]['h'],\n",
    "                                 np.array([np.zeros_like(model_extreme_list_new[0]['h']), np.zeros_like(model_extreme_list_new[0]['h'])]),\n",
    "                                 θ=np.mean(model_res['θ']), y_start=1.1, T=89)"
   ]
  },
  {
   "cell_type": "code",
   "execution_count": null,
   "metadata": {},
   "outputs": [],
   "source": [
    "et_extreme_18, _, _, _ = simulation(model_extreme_list_new[1]['y_grid'], model_extreme_list_new[1]['e_tilde'], model_extreme_list_new[1]['h'],\n",
    "                                 np.array([np.zeros_like(model_extreme_list_new[1]['h']), np.zeros_like(model_extreme_list_new[1]['h'])]),\n",
    "                                 θ=np.mean(model_res['θ']), y_start=1.1, T=89)"
   ]
  },
  {
   "cell_type": "code",
   "execution_count": null,
   "metadata": {},
   "outputs": [],
   "source": [
    "et_extreme_20, _, _, _ = simulation(model_extreme_list_new[2]['y_grid'], model_extreme_list_new[2]['e_tilde'], model_extreme_list_new[2]['h'],\n",
    "                                 np.array([np.zeros_like(model_extreme_list_new[2]['h']), np.zeros_like(model_extreme_list_new[2]['h'])]),\n",
    "                                 θ=np.mean(model_res['θ']), y_start=1.1, T=89)"
   ]
  },
  {
   "cell_type": "code",
   "execution_count": null,
   "metadata": {},
   "outputs": [],
   "source": [
    "plt.plot(et_low)\n",
    "plt.plot(et_high_16)\n",
    "plt.plot(et_extreme_16)"
   ]
  },
  {
   "cell_type": "code",
   "execution_count": null,
   "metadata": {},
   "outputs": [],
   "source": [
    "fig, (ax1, ax2, ax3) = plt.subplots(1, 3, figsize=(18,5))\n",
    "ax1.plot(et, label='with jump uncertainty', linewidth=2.5)\n",
    "ax1.set_xlabel('Years', fontsize=13)\n",
    "ax1.set_ylabel('Emission', fontsize=13)\n",
    "ax1.legend(frameon=False, loc = 'upper left')\n",
    "ax1.set_ylim(0, 16)\n",
    "ax1.set_xlim(0, 90)\n",
    "\n",
    "ax2.plot(et_low, label='low damage', linewidth=2.5)\n",
    "ax2.plot(et_high_16, label=r'high damage, jump at $\\bar{y} = 1.6$', linewidth=2.5)\n",
    "ax2.plot(et_extreme_16, label=r'extreme damage, jump at $\\bar{y} = 1.6$', linewidth=2.5)\n",
    "ax2.set_xlabel('Years', fontsize=13)\n",
    "ax2.set_ylabel('Emission', fontsize=13)\n",
    "ax2.legend(frameon=False, loc = 'upper left')\n",
    "ax2.set_ylim(0, 16)\n",
    "ax2.set_xlim(0, 90)\n",
    "\n",
    "ax3.plot(et_low, label='low damage', linewidth=2.5)\n",
    "ax3.plot(et_high_20, label=r'high damage, jump at $\\bar{y} = 2.0$', linewidth=2.5)\n",
    "ax3.plot(et_extreme_20, label=r'extreme damage, jump at $\\bar{y} = 2.0$', linewidth=2.5)\n",
    "ax3.set_xlabel('Years', fontsize=13)\n",
    "ax3.set_ylabel('Emission', fontsize=13)\n",
    "ax3.legend(frameon=False, loc = 'upper left')\n",
    "ax3.set_ylim(0, 16)\n",
    "ax3.set_xlim(0, 90)\n",
    "\n",
    "fig.suptitle('Figure 1: Emission', fontsize=13)\n",
    "fig.savefig('fig_1.pdf')"
   ]
  },
  {
   "cell_type": "code",
   "execution_count": 162,
   "metadata": {},
   "outputs": [],
   "source": [
    "# Simulate capital process\n",
    "# Capital and z parameters\n",
    "α_k = -0.043\n",
    "β_k = 0.04\n",
    "σ_k = np.array([0.477*2, 0])/100.\n",
    "β_z = 0.014*4\n",
    "σ_z = np.array([0.011*2, 0.025*2])\n",
    "α = 0.115\n",
    "ioverk = 0.09\n",
    "κ = 6.667\n",
    "\n",
    "\n",
    "@njit(parallel=True)\n",
    "def simulate_capital(α_k, β_k, σ_k, β_z, σ_z, ioverk, κ, Ws, k_start, N=100_000, T=100, dt=1.):\n",
    "    var_z = dt*σ_z@σ_z/(1-(1-β_z*dt)**2)\n",
    "    std_z = np.sqrt(var_z)\n",
    "\n",
    "    time_periods = int(T/dt)\n",
    "    z_path = np.zeros((N, time_periods+1))\n",
    "    k_path = np.zeros((N, time_periods+1))\n",
    "    for i in range(N):\n",
    "        z0 = np.random.normal(0.,std_z)\n",
    "        k0 = k_start\n",
    "        z_path[i, 0] = z0\n",
    "        k_path[i, 0] = k0\n",
    "        for j in range(1, time_periods+1):\n",
    "            k1 = k0 + (α_k + β_k*z0 + ioverk - κ/2.*ioverk**2 - σ_k@σ_k/2.)*dt + σ_k@Ws[i, j]*np.sqrt(dt)\n",
    "            z1 = (1.-β_z*dt)*z0 + σ_z@Ws[i, j]*np.sqrt(dt)\n",
    "            k_path[i, j] = k1\n",
    "            z_path[i, j] = z1\n",
    "            k0 = k1\n",
    "            z0 = z1\n",
    "    return k_path\n",
    "\n",
    "T = 100\n",
    "N = 1_000_000\n",
    "dt = 1.\n",
    "k_start = np.log(80/α)\n",
    "η = .032\n",
    "Ws = np.random.multivariate_normal(np.zeros(2), np.eye(2), (N, int(T/dt)))\n",
    "logk_path = simulate_capital(α_k, β_k, σ_k, β_z, σ_z, ioverk, κ, Ws, k_start, N=N, T=T, dt=dt)\n",
    "Kt = np.percentile(np.exp(logk_path), 50, axis=0)"
   ]
  },
  {
   "cell_type": "code",
   "execution_count": null,
   "metadata": {},
   "outputs": [],
   "source": [
    "SCC = η*(0.025)*Kt/((1.-η)*et) * 1000\n",
    "SCC_low = η*(0.025)*Kt/((1.-η)*et_low) * 1000\n",
    "SCC_high_16 = η*(0.025)*Kt/((1.-η)*et_high_16) * 1000\n",
    "SCC_high_18 = η*(0.025)*Kt/((1.-η)*et_high_18) * 1000\n",
    "SCC_high_20 = η*(0.025)*Kt/((1.-η)*et_high_20) * 1000\n",
    "SCC_extreme_16 = η*(0.025)*Kt/((1.-η)*et_extreme_16) * 1000\n",
    "SCC_extreme_18 = η*(0.025)*Kt/((1.-η)*et_extreme_18) * 1000\n",
    "SCC_extreme_20 = η*(0.025)*Kt/((1.-η)*et_extreme_20) * 1000"
   ]
  },
  {
   "cell_type": "code",
   "execution_count": null,
   "metadata": {
    "scrolled": true
   },
   "outputs": [],
   "source": [
    "fig, (ax1, ax2, ax3) = plt.subplots(1, 3, figsize=(18,5))\n",
    "ax1.plot(SCC, label='with jump uncertainty', linewidth=2.5)\n",
    "ax1.set_xlabel('Years', fontsize=13)\n",
    "ax1.set_ylabel('SCC', fontsize=13)\n",
    "ax1.legend(frameon=False, loc = 'upper left')\n",
    "ax1.set_ylim(0, 2000)\n",
    "ax1.set_xlim(0, 90)\n",
    "\n",
    "ax2.plot(SCC_low, label='low damage', linewidth=2.5)\n",
    "ax2.plot(SCC_high_16, label=r'high damage, jump at $\\bar{y} = 1.6$', linewidth=2.5)\n",
    "ax2.plot(SCC_extreme_16, label=r'extreme damage, jump at $\\bar{y} = 1.6$', linewidth=2.5)\n",
    "ax2.set_xlabel('Years', fontsize=13)\n",
    "ax2.set_ylabel('SCC', fontsize=13)\n",
    "ax2.legend(frameon=False, loc = 'upper left')\n",
    "ax2.set_ylim(0, 2000)\n",
    "ax2.set_xlim(0, 90)\n",
    "\n",
    "ax3.plot(SCC_low, label='low damage', linewidth=2.5)\n",
    "ax3.plot(SCC_high_20, label=r'high damage, jump at $\\bar{y} = 2.0$', linewidth=2.5)\n",
    "ax3.plot(SCC_extreme_20, label=r'extreme damage, jump at $\\bar{y} = 2.0$', linewidth=2.5)\n",
    "ax3.set_xlabel('Years', fontsize=13)\n",
    "ax3.set_ylabel('SCC', fontsize=13)\n",
    "ax3.legend(frameon=False, loc = 'upper left')\n",
    "ax3.set_ylim(0, 2000)\n",
    "ax3.set_xlim(0, 90)\n",
    "\n",
    "fig.suptitle('Figure 2: SCC', fontsize=13)\n",
    "fig.savefig('fig_2.pdf')"
   ]
  },
  {
   "cell_type": "code",
   "execution_count": null,
   "metadata": {},
   "outputs": [],
   "source": []
  }
 ],
 "metadata": {
  "kernelspec": {
   "display_name": "Python 3",
   "language": "python",
   "name": "python3"
  },
  "language_info": {
   "codemirror_mode": {
    "name": "ipython",
    "version": 3
   },
   "file_extension": ".py",
   "mimetype": "text/x-python",
   "name": "python",
   "nbconvert_exporter": "python",
   "pygments_lexer": "ipython3",
   "version": "3.8.5"
  }
 },
 "nbformat": 4,
 "nbformat_minor": 4
}
