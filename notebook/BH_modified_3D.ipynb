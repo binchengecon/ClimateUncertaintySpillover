{
 "cells": [
  {
   "cell_type": "code",
   "execution_count": 82,
   "metadata": {},
   "outputs": [],
   "source": [
    "import os, sys\n",
    "sys.path.append(os.path.dirname(os.getcwd()) + '/source')\n",
    "\n",
    "import numpy as np\n",
    "import matplotlib.pyplot as plt\n",
    "import SolveLinSys\n",
    "from utilities import compute_derivatives_3d"
   ]
  },
  {
   "cell_type": "markdown",
   "metadata": {},
   "source": [
    "Equation:\n",
    "\n",
    "$$\n",
    "0 = \\max_{e} \\min_{h_2} b\\left[\\delta \\eta \\log e - \\delta(1-\\eta)y z_2 -\\frac{\\gamma_2}{2}\\beta_f^2 z_2^2y^2  + \\xi_m\\frac{(h_2)^2}{2}\\right] -\\ell e + \\frac{\\partial \\phi}{\\partial y}(y, b, z_2;\\ell) e + \\left[\\frac{\\partial^2 \\phi}{\\partial y^2}(y,b, z_2;\\ell)\\right] \\epsilon - \\frac{\\partial \\phi}{\\partial b}(y, b, z_2;\\ell) \\delta b + \\left[\\frac{\\partial \\phi}{\\partial z_2}(y, b, z_2;\\ell)\\right]\\left[-\\rho (z_2 -\\mu_2) + \\sqrt{z_2} \\sigma_2 h_2\\right] + \\left[\\frac{\\partial^2 \\phi}{\\partial(z_2)^2}(y,b, z_2;\\ell)\\right]\\left(\\frac{z_2|\\sigma_2|^2}{2}\\right)\n",
    "$$\n",
    "\n",
    "FOC of $h_2$ gives : \n",
    "\n",
    "$$\n",
    "h_2^* = -\\frac{\\left[\\frac{\\partial \\phi}{\\partial z_2}(y, b, z_2;\\ell)\\right]\\sqrt{z_2}\\sigma_2}{b\\xi_m}\n",
    "$$\n",
    "\n",
    "FOC of $e$ gives :\n",
    "\n",
    "$$\n",
    "e^* = \\frac{b \\delta \\eta}{\\ell - \\frac{\\partial \\phi}{\\partial y}(y, b, z_2; \\ell)}\n",
    "$$"
   ]
  },
  {
   "cell_type": "code",
   "execution_count": 200,
   "metadata": {},
   "outputs": [],
   "source": [
    "def false_transient_one_iteration(stateSpace, A, B_z, B_b, B_y, C_zz, C_bb, C_yy, D, v0, ε=.3, tol=-10):\n",
    "    A = A.reshape(-1, 1, order='F')\n",
    "    B = np.hstack([B_z.reshape(-1, 1, order='F'), B_b.reshape(-1, 1, order='F'), B_y.reshape(-1, 1, order='F')])\n",
    "    C = np.hstack([C_zz.reshape(-1, 1, order='F'), C_bb.reshape(-1, 1, order='F'), C_yy.reshape(-1, 1, order='F')])\n",
    "    D = D.reshape(-1, 1, order='F')\n",
    "    v0 = v0.reshape(-1, 1, order='F')\n",
    "    out = SolveLinSys.solveFT(stateSpace, A, B, C, D, v0, ε, tol)\n",
    "    return out\n",
    "\n",
    "\n",
    "def false_transient(z_grid, b_grid, y_grid, ℓ, model_paras=(), v0=None, ϵ=.5, tol=1e-8, max_iter=10_000):\n",
    "    τ, η, ξ_m, δ, η, μ_2, ρ, σ_2 = model_paras\n",
    "    β_f = 1.86/1000\n",
    "    γ_2 = 2*0.0022\n",
    "    eps = 1e-4\n",
    "    \n",
    "    Δ_z = z_grid[1] - z_grid[0]\n",
    "    Δ_b = b_grid[1] - b_grid[0]\n",
    "    Δ_y = y_grid[1] - y_grid[0]\n",
    "    (z_mat, b_mat, y_mat) = np.meshgrid(z_grid, b_grid, y_grid, indexing = 'ij')\n",
    "    stateSpace = np.hstack([z_mat.reshape(-1, 1, order='F'), b_mat.reshape(-1, 1, order='F'), y_mat.reshape(-1, 1, order='F')])\n",
    "\n",
    "    if v0 is None:\n",
    "        v0 = np.zeros_like(z_mat)\n",
    "\n",
    "    count = 1\n",
    "    error = 1.\n",
    "    \n",
    "    e_old = 0. # smooth\n",
    "    h_old = 0. # smooth\n",
    "    \n",
    "    while error > tol and count < max_iter:\n",
    "        v_old = v0.copy()\n",
    "        v0_dz = compute_derivatives_3d(v0, 0, 1, Δ_z)\n",
    "        v0_dzz = compute_derivatives_3d(v0, 0, 2, Δ_z)\n",
    "        v0_db = compute_derivatives_3d(v0, 1, 1, Δ_b)\n",
    "        v0_dy = compute_derivatives_3d(v0, 2, 1, Δ_y)\n",
    "        v0_dyy = compute_derivatives_3d(v0, 2, 2, Δ_y)\n",
    "\n",
    "        e = b_mat*δ*η / (ℓ-v0_dy)\n",
    "        e[e<=0] = 1e-5\n",
    "        h = -v0_dz*np.sqrt(z_mat)*σ_2 / (b_mat*ξ_m)\n",
    "        \n",
    "        e = e*0.5 + e_old*0.5 # smooth\n",
    "        h = h*0.5 + h_old*0.5 # smooth\n",
    "        \n",
    "        A = np.zeros_like(z_mat)\n",
    "        B_z = -ρ*(z_mat - μ_2) + np.sqrt(z_mat)*σ_2*h\n",
    "        B_b = -(δ*b_mat)\n",
    "        B_y = e\n",
    "        C_zz = z_mat*σ_2**2/2\n",
    "        C_bb = np.zeros_like(z_mat)\n",
    "        C_yy = np.ones_like(z_mat) * eps\n",
    "        D = b_mat*(δ*η*np.log(e) - δ*(1-η)*y_mat*z_mat - γ_2*β_f**2*z_mat**2*y_mat**2/2 + ξ_m*h**2/2) - ℓ*e\n",
    "\n",
    "        res = false_transient_one_iteration(stateSpace, A, B_z, B_b, B_y, C_zz, C_bb, C_yy, D, v0, ϵ) # CG tol = 1e-10\n",
    "        v0 = res[2].reshape(v0.shape, order = \"F\")\n",
    "\n",
    "        rhs_error = A*v0 + B_z*v0_dz + B_b*v0_db + B_y*v0_dy + C_zz*v0_dzz + C_yy*v0_dyy + D\n",
    "        rhs_error = np.max(abs(rhs_error))\n",
    "        lhs_error = np.max(abs((v0 - v_old)/ϵ))\n",
    "        error = lhs_error\n",
    "        \n",
    "        e_old = e.copy() # smooth\n",
    "        h_old = h.copy() # smooth\n",
    "        \n",
    "        print(\"Iteration %s: LHS Error: %s; RHS Error %s\" % (count, lhs_error, rhs_error))\n",
    "        count += 1\n",
    "    print(\"Iteration %s: LHS Error: %s; RHS Error %s\" % (count, lhs_error, rhs_error))\n",
    "    return v0"
   ]
  },
  {
   "cell_type": "code",
   "execution_count": 201,
   "metadata": {},
   "outputs": [],
   "source": [
    "# Model parameters\n",
    "median = 1.86/1000\n",
    "γ = .018\n",
    "τ = median * γ\n",
    "η = .032\n",
    "ξ_m = .00256\n",
    "δ = .01\n",
    "η = .032\n",
    "\n",
    "μ_2 = 1.86/1000.\n",
    "ρ = 0.99\n",
    "σ_2 = np.sqrt((.42/1000.)**2*2*ρ/μ_2)\n",
    "\n",
    "model_paras = (τ, η, ξ_m, δ, η, μ_2, ρ, σ_2)\n",
    "\n",
    "# Grid setting\n",
    "n_z = 20\n",
    "z_min = 1e-5\n",
    "z_max = 0.004\n",
    "z_grid = np.linspace(z_min, z_max, n_z)\n",
    "\n",
    "n_b = 20\n",
    "b_min = 1e-2\n",
    "b_max = 1.\n",
    "b_grid = np.linspace(b_min, b_max, n_b)\n",
    "\n",
    "n_y = 20\n",
    "y_min = 1e-2\n",
    "y_max = 2000.\n",
    "y_grid = np.linspace(y_min, y_max, n_y)\n",
    "\n",
    "# ℓ setting\n",
    "log_ell_grid = np.linspace(-13, -5, 200)\n",
    "ℓ_step = 1e-7"
   ]
  },
  {
   "cell_type": "code",
   "execution_count": 202,
   "metadata": {},
   "outputs": [],
   "source": [
    "# ψs = []\n",
    "# ψs_next = []\n",
    "# ψ_guess = np.load('phi_guess.npy')\n",
    "\n",
    "# for i, ℓ in enumerate(np.exp(log_ell_grid)):\n",
    "#     print(i)\n",
    "#     max_iter = 2000\n",
    "#     ψ = false_transient(z_grid, b_grid, y_grid, ℓ, model_paras=model_paras, v0=ψ_guess, ϵ=.5, tol=1e-8, max_iter=max_iter)\n",
    "#     ψ_next = false_transient(z_grid, b_grid, y_grid, ℓ+ℓ_step, model_paras=model_paras, v0=ψ_guess, ϵ=.5, tol=1e-8, max_iter=max_iter)\n",
    "#     ψs.append(ψ)\n",
    "#     ψs_next.append(ψ_next)"
   ]
  },
  {
   "cell_type": "code",
   "execution_count": 203,
   "metadata": {},
   "outputs": [
    {
     "name": "stdout",
     "output_type": "stream",
     "text": [
      "Iteration 1: LHS Error: 0.07296797204480052; RHS Error 0.07671325872056327\n",
      "Iteration 2: LHS Error: 0.07027981256155824; RHS Error 0.07329336571588554\n",
      "Iteration 3: LHS Error: 0.06871079631805291; RHS Error 0.07096750011412882\n",
      "Iteration 4: LHS Error: 0.06798607680736882; RHS Error 0.06954371422583758\n",
      "Iteration 5: LHS Error: 0.06791160083667455; RHS Error 0.06884333087637277\n",
      "Iteration 6: LHS Error: 0.06837039229659454; RHS Error 0.06874185540763367\n",
      "Iteration 7: LHS Error: 0.0692963567342679; RHS Error 0.06915853455564103\n",
      "Iteration 8: LHS Error: 0.0706559084686597; RHS Error 0.07004357484156631\n",
      "Iteration 9: LHS Error: 0.07243788453489698; RHS Error 0.07136997509307917\n",
      "Iteration 10: LHS Error: 0.0746489968108828; RHS Error 0.07312891213132094\n",
      "Iteration 11: LHS Error: 0.07731236374832945; RHS Error 0.07532785466730806\n",
      "Iteration 12: LHS Error: 0.08046810166026708; RHS Error 0.07799030365467334\n",
      "Iteration 13: LHS Error: 0.08417563164242456; RHS Error 0.08115695987942367\n",
      "Iteration 14: LHS Error: 0.08851781507201631; RHS Error 0.08488835761967127\n",
      "Iteration 15: LHS Error: 0.09360742173362552; RHS Error 0.08926926977418168\n",
      "Iteration 16: LHS Error: 0.09959688580962134; RHS Error 0.09441550374331159\n",
      "Iteration 17: LHS Error: 0.106692987738672; RHS Error 0.10048414543575178\n",
      "Iteration 18: LHS Error: 0.11517921738952941; RHS Error 0.10768902316568255\n",
      "Iteration 19: LHS Error: 0.12545059355733523; RHS Error 0.11632437337721661\n",
      "Iteration 20: LHS Error: 0.13806938546295722; RHS Error 0.1268018940446739\n",
      "Iteration 21: LHS Error: 0.1538574379018487; RHS Error 0.13971044453727655\n",
      "Iteration 22: LHS Error: 0.17405551870486535; RHS Error 0.155915752794681\n",
      "Iteration 23: LHS Error: 0.20061222756249414; RHS Error 0.17673418180333417\n",
      "Iteration 24: LHS Error: 0.23674001222421054; RHS Error 0.20425155198305678\n",
      "Iteration 25: LHS Error: 0.28806691450287775; RHS Error 0.24194593149951457\n",
      "Iteration 26: LHS Error: 0.3652554697338384; RHS Error 0.2960025509345342\n",
      "Iteration 27: LHS Error: 0.4907336331758877; RHS Error 0.37837993532446385\n",
      "Iteration 28: LHS Error: 0.7191927759970035; RHS Error 0.5149673702738395\n",
      "Iteration 29: LHS Error: 1.2181832973456475; RHS Error 0.7717075941793404\n",
      "Iteration 30: LHS Error: 2.765693914775907; RHS Error 1.365887008884282\n",
      "Iteration 31: LHS Error: 18.221670214857305; RHS Error 3.4678305573342887\n",
      "Iteration 32: LHS Error: 27.067540975241087; RHS Error 42.33589411695482\n",
      "Iteration 33: LHS Error: 349.7608958136503; RHS Error 5.8774331736370975\n",
      "Iteration 34: LHS Error: 235.22576545165853; RHS Error 7730.6828358824005\n",
      "Iteration 35: LHS Error: 120.65942787876097; RHS Error 622.3650109536791\n",
      "Iteration 36: LHS Error: 75.1888431065227; RHS Error 985.9473955657351\n",
      "Iteration 37: LHS Error: 29.801140695875844; RHS Error 167.84380820686886\n",
      "Iteration 38: LHS Error: 34.26530383663349; RHS Error 96.53452763715063\n",
      "Iteration 39: LHS Error: 12.1660989474092; RHS Error 55.8640650225843\n",
      "Iteration 40: LHS Error: 12.1660989474092; RHS Error 55.8640650225843\n"
     ]
    }
   ],
   "source": [
    "ψ = false_transient(z_grid, b_grid, y_grid, 1e-5, model_paras=model_paras, v0=None, ϵ=.1, tol=1e-8, max_iter=40)"
   ]
  },
  {
   "cell_type": "code",
   "execution_count": null,
   "metadata": {},
   "outputs": [],
   "source": [
    "# np.save('phi_guess.npy', ψ)"
   ]
  },
  {
   "cell_type": "code",
   "execution_count": 204,
   "metadata": {},
   "outputs": [
    {
     "data": {
      "text/plain": [
       "Text(0, 0.5, 'ϕ')"
      ]
     },
     "execution_count": 204,
     "metadata": {},
     "output_type": "execute_result"
    },
    {
     "data": {
      "image/png": "[encoded data removed]",
      "text/plain": [
       "<Figure size 432x288 with 1 Axes>"
      ]
     },
     "metadata": {
      "needs_background": "light"
     },
     "output_type": "display_data"
    },
    {
     "data": {
      "image/png": "[encoded data removed]",
      "text/plain": [
       "<Figure size 432x288 with 1 Axes>"
      ]
     },
     "metadata": {
      "needs_background": "light"
     },
     "output_type": "display_data"
    }
   ],
   "source": [
    "# fig = go.Figure(data=[go.Surface(z=ψ[10,:,:])])\n",
    "\n",
    "# fig.update_layout(title='Mt Bruno Elevation', autosize=False,\n",
    "#                   width=500, height=500,\n",
    "#                   margin=dict(l=65, r=50, b=65, t=90))\n",
    "\n",
    "# fig.show()\n",
    "\n",
    "plt.figure()\n",
    "plt.plot(y_grid, ψ[10,10,:])\n",
    "plt.title(r'Figure 1: $\\phi(y,b,z_2)$ when $z_2=1.86/1000$, $b=0.5$ ')\n",
    "plt.xlabel('y')\n",
    "plt.ylabel('ϕ')\n",
    "plt.savefig('fig_1.pdf')\n",
    "\n",
    "plt.figure()\n",
    "plt.plot(y_grid, ψ[10,10,:])\n",
    "plt.title(r'Figure 2: $\\phi(y,b,z_2)$ when $z_2=1.$, $b=0.01$ ')\n",
    "plt.xlabel('y')\n",
    "plt.ylabel('ϕ')\n",
    "# plt.savefig('fig_2.pdf')"
   ]
  },
  {
   "cell_type": "code",
   "execution_count": null,
   "metadata": {},
   "outputs": [],
   "source": [
    "plt.figure()\n",
    "plt.plot(y_grid, ψ[10,20,:])\n",
    "plt.title(r'Figure 1: $\\phi(y,b,z_2)$ when $z_2=1.$, $b=0.5$ ')\n",
    "plt.xlabel('y')\n",
    "plt.ylabel('ϕ')\n",
    "plt.savefig('fig_3.pdf')"
   ]
  },
  {
   "cell_type": "code",
   "execution_count": null,
   "metadata": {},
   "outputs": [],
   "source": [
    "from numba import njit\n",
    "@njit\n",
    "def simulate_z(μ, ρ, σ, T):\n",
    "    Ws = np.random.normal(0., 1., T)\n",
    "    Zs = np.zeros(T)\n",
    "    Zs[0] = μ\n",
    "    for i in range(1, T):\n",
    "        Zs[i] = Zs[i-1] - ρ*(Zs[i-1]-μ) + np.sqrt(Zs[i-1])*σ*Ws[i]\n",
    "    return Zs"
   ]
  },
  {
   "cell_type": "code",
   "execution_count": null,
   "metadata": {},
   "outputs": [],
   "source": [
    "res = simulate_z(μ_2, .99, 0.004, 1_000_000)\n",
    "plt.hist(res, bins=2000, label=r'Var(Z) = .004')\n",
    "plt.title(r'Figure 1: $\\mu_2 = 1$, $\\rho = .99$, $\\sigma_2 = .004$')\n",
    "plt.legend()\n",
    "plt.savefig('fig_1.pdf')\n",
    "plt.show()"
   ]
  },
  {
   "cell_type": "code",
   "execution_count": null,
   "metadata": {},
   "outputs": [],
   "source": [
    "np.std(res)*5"
   ]
  },
  {
   "cell_type": "code",
   "execution_count": null,
   "metadata": {},
   "outputs": [],
   "source": [
    "np.percentile(res, 1)"
   ]
  },
  {
   "cell_type": "code",
   "execution_count": null,
   "metadata": {},
   "outputs": [],
   "source": [
    "res = simulate_z(μ_2, 1e-8, 2.97e-5, 100_000_000)"
   ]
  },
  {
   "cell_type": "code",
   "execution_count": null,
   "metadata": {},
   "outputs": [],
   "source": [
    "plt.hist(res, bins=2000, label=r'Var(Z) = 0.21')\n",
    "plt.title(r'Figure 2: $\\mu_2 = 1$, $\\rho = 10^{-8}$, $\\sigma_2 = 3*10^{-5}$')\n",
    "plt.legend()\n",
    "plt.savefig('fig_2.pdf')\n",
    "plt.show()"
   ]
  }
 ],
 "metadata": {
  "kernelspec": {
   "display_name": "Python 3",
   "language": "python",
   "name": "python3"
  },
  "language_info": {
   "codemirror_mode": {
    "name": "ipython",
    "version": 3
   },
   "file_extension": ".py",
   "mimetype": "text/x-python",
   "name": "python",
   "nbconvert_exporter": "python",
   "pygments_lexer": "ipython3",
   "version": "3.8.3"
  }
 },
 "nbformat": 4,
 "nbformat_minor": 4
}
