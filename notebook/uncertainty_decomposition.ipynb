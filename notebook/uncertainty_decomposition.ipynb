{
 "cells": [
  {
   "cell_type": "code",
   "execution_count": 83,
   "metadata": {},
   "outputs": [],
   "source": [
    "import os, sys\n",
    "sys.path.append(os.path.dirname(os.getcwd()) + '/source')\n",
    "\n",
    "import numpy as np\n",
    "import pandas as pd\n",
    "import matplotlib.pyplot as plt\n",
    "from model import ode_y, ode_y_jump_approach_one, ode_y_jump_approach_one_boundary\n",
    "from model import solve_with_emission_boundary\n",
    "from utilities import find_nearest_value\n",
    "from numba import njit\n",
    "\n",
    "import matplotlib as mpl\n",
    "\n",
    "mpl.rcParams['axes.spines.right'] = False\n",
    "mpl.rcParams['axes.spines.top'] = False"
   ]
  },
  {
   "cell_type": "markdown",
   "metadata": {},
   "source": [
    "**ODE with predetermined emission**:\n",
    "\\begin{align*}\n",
    "0 =  &  -\\delta \\phi(y) + \\delta \\eta \\log \\color{blue}{\\tilde{e}} \\\\\n",
    "&+ \\left(\\frac{d\\phi(y)}{dy}+ (\\eta-1)(\\gamma_1 + \\gamma_2 y)\\right)\\color{blue}{\\tilde{e}}\\sum_{i=1}^n \\pi_i^c \\theta_i\\ \\\\\n",
    "& + \\frac{1}{2} \\left(\\frac{d^2 \\phi(y)}{(d y)^2} + (\\eta-1)\\gamma_2\\right)|\\sigma_y|^2(\\color{blue}{\\tilde{e}})^2\\\\\n",
    "\\end{align*}\n",
    "\n",
    "Marginal value of emission:\n",
    "\\begin{align*}\n",
    "ME =  & - \\left(\\frac{d\\phi(y)}{dy}+ (\\eta-1)(\\gamma_1 + \\gamma_2 y)\\right)\\sum_{i=1}^n \\pi_i^c \\theta_i\\ \\\\\n",
    "& - \\left(\\frac{d^2 \\phi(y)}{(d y)^2} + (\\eta-1)\\gamma_2\\right)|\\sigma_y|^2\\color{blue}{\\tilde{e}}\\\\\n",
    "\\end{align*}"
   ]
  },
  {
   "cell_type": "code",
   "execution_count": 87,
   "metadata": {},
   "outputs": [
    {
     "name": "stdout",
     "output_type": "stream",
     "text": [
      "Converged. Total iteration 1989: LHS Error: 9.985022919600794e-09; RHS Error 1.6264680024628613e-06\n",
      "Converged. Total iteration 2081: LHS Error: 9.97927577378599e-09; RHS Error 8.222185655702295e-06\n",
      "Converged. Total iteration 2313: LHS Error: 9.981253129565104e-09; RHS Error 3.7902347181765796e-05\n",
      "Converged. Total iteration 837: LHS Error: 9.909596199175752e-10; RHS Error 1.4080793324894791e-05\n"
     ]
    }
   ],
   "source": [
    "ξ_1m = 1./400\n",
    "ξ_2m = 1./20\n",
    "ξ_a = 1./10000\n",
    "\n",
    "η = .032\n",
    "δ = .01\n",
    "\n",
    "θ = pd.read_csv('../data/model144.csv', header=None).to_numpy()[:, 0]/1000.\n",
    "πc_o = np.ones_like(θ)/len(θ)\n",
    "σ_y = 1.2*1.86/1000\n",
    "\n",
    "y_bar = 2.\n",
    "γ_1 = 1.7675/10000\n",
    "γ_2 = .0022*2\n",
    "# γ_2p = np.array([0, .0197*2])\n",
    "# γ_2p = np.array([0, .3853*2])\n",
    "# πd_o = np.array([.5, .5])\n",
    "γ_2p = np.array([0, .0197*2, .3853*2])\n",
    "# πd_o = np.array([.475, .475, .05])\n",
    "πd_o = np.array([1./3, 1./3, 1./3])\n",
    "\n",
    "y_step = .04\n",
    "y_grid_long = np.arange(0., 4., y_step)\n",
    "y_grid_short = np.arange(0., 2+y_step, y_step)\n",
    "n_bar = find_nearest_value(y_grid_long, y_bar) + 1\n",
    "\n",
    "# Prepare ϕ\n",
    "ϕ_list = []\n",
    "for γ_2p_i in γ_2p:\n",
    "    model_paras = (η, δ, θ, πc_o, σ_y, ξ_1m, ξ_a, γ_1, γ_2, γ_2p_i, y_bar) \n",
    "    model_res = ode_y(y_grid_long, model_paras, v0=None, ϵ=.5,\n",
    "                       tol=1e-8, max_iter=10_000, print_all=False)\n",
    "    ϕ_list.append(model_res['v0'])\n",
    "\n",
    "ϕ_list_short = []\n",
    "for ϕ_i in ϕ_list:\n",
    "    temp = ϕ_i[:n_bar]\n",
    "    ϕ_list_short.append(temp)\n",
    "ϕ_i = np.array(ϕ_list_short)\n",
    "\n",
    "# Compute ϕ\n",
    "ς = .25\n",
    "model_paras = (η, δ, θ, πc_o, σ_y, ξ_1m, ξ_2m, ξ_a, ς, γ_1, γ_2, y_bar, ϕ_i, πd_o)\n",
    "model_res = ode_y_jump_approach_one_boundary(y_grid_short, model_paras, v0=np.average(ϕ_i, weights=πd_o, axis=0),\n",
    "                                                    ϵ=.5, tol=1e-9, max_iter=10000, print_all=False)"
   ]
  },
  {
   "cell_type": "code",
   "execution_count": 88,
   "metadata": {},
   "outputs": [
    {
     "name": "stdout",
     "output_type": "stream",
     "text": [
      "Solved. PDE error: 7.895319748849852e-06\n"
     ]
    }
   ],
   "source": [
    "e_tilde = model_res['e_tilde']\n",
    "\n",
    "# Compute marginal values for emission (under distorted probabilities)\n",
    "ME_distorted = δ*η/e_tilde\n",
    "\n",
    "# Compute marginal values for emission (under baseline probabilities)\n",
    "model_paras_new = (η, δ, θ, πc_o, σ_y, γ_1, γ_2, ϕ_i, πd_o, e_tilde)\n",
    "model_res_new = solve_with_emission_boundary(y_grid_short, model_paras_new)\n",
    "\n",
    "ME_baseline = model_res_new['ME']"
   ]
  },
  {
   "cell_type": "code",
   "execution_count": 89,
   "metadata": {},
   "outputs": [
    {
     "data": {
      "text/plain": [
       "Text(0.5, 1.0, 'log difference * 100 * -1')"
      ]
     },
     "execution_count": 89,
     "metadata": {},
     "output_type": "execute_result"
    },
    {
     "data": {
      "image/png": "[encoded data removed]",
      "text/plain": [
       "<Figure size 864x288 with 2 Axes>"
      ]
     },
     "metadata": {
      "needs_background": "light"
     },
     "output_type": "display_data"
    }
   ],
   "source": [
    "fig, (ax1, ax2) = plt.subplots(1, 2,figsize=(12,4))\n",
    "ax1.plot(y_grid_short, ME_baseline/ME_distorted, color='C3', linewidth=2.)\n",
    "ax1.set_xlabel(r'$y$', fontsize=13)\n",
    "ax1.set_title('ratio')\n",
    "ax1.set_ylim(0, 1)\n",
    "\n",
    "ax2.plot(y_grid_short, -np.log(ME_baseline/ME_distorted)*100, color='C3', linewidth=2.)\n",
    "ax2.set_xlabel(r'$y$', fontsize=13)\n",
    "ax2.set_ylim(0, 80)\n",
    "ax2.set_title('log difference * 100 * -1')\n",
    "\n",
    "# fig.savefig('fig_ambiguity_damage_averse.pdf')"
   ]
  },
  {
   "cell_type": "code",
   "execution_count": 75,
   "metadata": {},
   "outputs": [
    {
     "data": {
      "text/plain": [
       "0.7985981208951383"
      ]
     },
     "execution_count": 75,
     "metadata": {},
     "output_type": "execute_result"
    }
   ],
   "source": [
    "(ME_baseline/ME_distorted)[-1]"
   ]
  },
  {
   "cell_type": "code",
   "execution_count": null,
   "metadata": {},
   "outputs": [],
   "source": []
  }
 ],
 "metadata": {
  "kernelspec": {
   "display_name": "Python 3",
   "language": "python",
   "name": "python3"
  },
  "language_info": {
   "codemirror_mode": {
    "name": "ipython",
    "version": 3
   },
   "file_extension": ".py",
   "mimetype": "text/x-python",
   "name": "python",
   "nbconvert_exporter": "python",
   "pygments_lexer": "ipython3",
   "version": "3.8.5"
  }
 },
 "nbformat": 4,
 "nbformat_minor": 4
}
