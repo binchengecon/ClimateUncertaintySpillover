{
 "cells": [
  {
   "cell_type": "markdown",
   "metadata": {},
   "source": [
    "1. Page 12, the notations for $dW_t$ in the second equation are not consistent with earlier ones:\n",
    "\n",
    "$$\n",
    "d K_t =  K_t \\left[ \\mu_k (Z_t) dt    + \\left({\\frac {I_t}{K_t}} \\right) dt  -\n",
    "{\\frac { \\kappa} 2} \\left( {\\frac {I_t} {K_t}} \\right)^2 dt + \\sigma_k(Z_t) {\\color{red}{dW^k_t}} \\right]   \n",
    "$$\n",
    "\n",
    "$$\n",
    "d\\log K_t =  \\left[ \\mu_k (Z_t)    + \\left({\\frac {I_t}{K_t}} \\right)  -\n",
    "{\\frac { \\kappa} 2} \\left( {\\frac {I_t} {K_t}} \\right)^2 \\right] dt -  {\\frac  {\\vert \\sigma_k(Z_t) \\vert^2}  2}dt+ \\sigma_k(Z_t) {\\color{red}{dW_t^k}} ,\n",
    "$$\n",
    "\n",
    "2. Page 20, equation (5):\n",
    "$$\n",
    "\\frac {\\eta} {\\tilde e}  =  - \\frac {d \\phi(y)}{d y}  \\sum_{\\ell=1}^L \\pi^a_\\ell  \\theta_\\ell -  \\frac {d^2 \\phi(y)}{(dy)^2} |\\varsigma|^2 \\tilde e\n",
    " - {\\frac {(\\eta - 1)} \\delta} \\left[  \\left( \\gamma_1 + \\gamma_2 y \\right)  \\sum_{\\ell=1}^L \\pi^a_\\ell \\theta_\\ell {\\color{red}{+}} \\gamma_2 |\\varsigma|^2 \\tilde e\\right] .\n",
    "$$\n",
    "\n",
    "3. Page 20, equation (6):\n",
    "\n",
    "\\begin{equation}\n",
    " \\frac {\\eta} { e}  =  -   \\frac {d \\phi(y)}{d y}  (\\iota_y \\cdot z) \\sum_{\\ell=1}^L \\pi^a_\\ell  \\theta_\\ell -   \\frac {d^2 \\phi(y)}{(dy)^2} |\\varsigma|^2  {\\color{red}{(\\iota_y \\cdot z)^2}} e\n",
    " -   {\\frac {(\\eta - 1)} \\delta} \\left[  (\\iota_y \\cdot z) \\left( \\gamma_1 + \\gamma_2 y \\right)  \\sum_{\\ell=1}^L \\pi^a_\\ell \\theta_\\ell {\\color{red}{+}} \\gamma_2 |\\varsigma|^2 {\\color{red}{(\\iota_y \\cdot z)^2}}  e\\right]\n",
    "\\end{equation}\n",
    "\n",
    "4. Page 21, the last line of the HJB:\n",
    "\n",
    "$$\n",
    "+ {\\frac {(\\eta - 1)} \\delta}  \\left(  \\left[ \\gamma_1 + \\gamma_2 y + \\gamma_3^m (y - {\\bar y})  \\right]   \\sum_{\\ell=1}^L \\pi^a_\\ell \\theta_\\ell {\\tilde e}\n",
    "+ {\\frac 1 2}(\\gamma_2 + {\\color{red}{\\gamma_3^m}})   |\\varsigma|^2 \\tilde e^2  \\right)\n",
    "$$\n",
    "\n",
    "5. Page 46, equation (9):\n",
    "\n",
    "\\begin{align*}\n",
    "\\min_h & -\\delta \\tilde{\\zeta}(z) - \\eta \\log(\\iota_y\\cdot z) + \\left[\\frac{\\partial \\tilde{\\zeta}}{\\partial z}(z)\\right]\\cdot [\\mu_z(z)+\\sigma_z(z) h]  + \\frac{\\xi_b}{2} h^\\prime h  \\\\\n",
    "& + \\frac{1}{2} \\text{trace} \\left[{\\color{red}{\\sigma_z}}(z)^\\prime \\frac{\\partial^2 \\tilde{\\zeta}}{\\partial z \\partial z^\\prime}(z) {\\color{red}{\\sigma_z}} (z)\\right]= 0\n",
    "\\end{align*}\n",
    "\n",
    "6. Page 46, the second last line: \"To support this value function separation we impose that the processes $\\iota_y \\cdot Z$ and ${\\color{red}{\\iota_k}} \\cdot Z$ are indepedent processes...\""
   ]
  }
 ],
 "metadata": {
  "kernelspec": {
   "display_name": "Python 3",
   "language": "python",
   "name": "python3"
  },
  "language_info": {
   "codemirror_mode": {
    "name": "ipython",
    "version": 3
   },
   "file_extension": ".py",
   "mimetype": "text/x-python",
   "name": "python",
   "nbconvert_exporter": "python",
   "pygments_lexer": "ipython3",
   "version": "3.8.5"
  }
 },
 "nbformat": 4,
 "nbformat_minor": 4
}
