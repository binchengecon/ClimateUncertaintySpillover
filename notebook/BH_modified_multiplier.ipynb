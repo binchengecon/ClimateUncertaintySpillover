{
 "cells": [
  {
   "cell_type": "code",
   "execution_count": null,
   "metadata": {},
   "outputs": [],
   "source": [
    "import numpy as np\n",
    "from numba import njit"
   ]
  },
  {
   "cell_type": "code",
   "execution_count": null,
   "metadata": {},
   "outputs": [],
   "source": [
    "# Model parameters\n",
    "median = 1.75/1000\n",
    "γ = 0.018\n",
    "τ = median * γ\n",
    "δ = 0.01\n",
    "η = 0.032\n",
    "ξ_m = 0.00256\n",
    "\n",
    "μ_2 = 1.\n",
    "ρ = 0.5\n",
    "σ_2 = np.sqrt((0.21)**2*2*ρ/μ_2) # Match moments, using 100 year's std"
   ]
  },
  {
   "cell_type": "markdown",
   "metadata": {},
   "source": [
    "Equation:\n",
    "\n",
    "\\begin{align*}\n",
    "0 &= \\max_{e}\\min_{h_2} b\\left[\\delta \\eta \\log e - \\tau z_2 e + \\xi_m \\frac{(h_2)^2}{2}\\right] - \\ell e - \\frac{\\partial \\psi}{\\partial b}(b,z_2;\\ell) \\delta b\\\\\n",
    "&+\\left[\\frac{\\partial \\psi}{\\partial z_2}(b,z_2;\\ell)\\right]\\left[-\\rho(z_2-\\mu_2)+\\sqrt{z_2}\\sigma_2 h_2\\right] + \\left[\\frac{\\partial^2 \\psi}{\\partial(z_2)^2}(b,z_2;\\ell)\\right]\\left(\\frac{z_2|\\sigma_2|^2}{2}\\right)\n",
    "\\end{align*}\n",
    "\n",
    "FOC for $h_2$ gives:\n",
    "$$\n",
    "h^* = -\\frac{\\frac{\\partial \\psi}{\\partial z_2}(b,z_2;\\ell)\\sqrt{z_2}\\sigma_2}{b\\xi_m}\n",
    "$$\n",
    "\n",
    "FOC for $e$ gives:\n",
    "$$\n",
    "e^* = \\frac{b\\delta \\eta}{b\\tau z_2 + \\ell}\n",
    "$$\n",
    "\n",
    "Solve:\n",
    "\n",
    "\\begin{align*}\n",
    "\\frac{\\color{red}{\\psi_{i+1}(b,z_2;\\ell)}-\\color{blue}{\\psi_{i}(b,z_2;\\ell)}}{\\epsilon} &= b\\left[\\delta \\eta \\log \\color{blue}{e^*} - \\tau z_2 \\color{blue}{e^*} - \\xi_m \\frac{(\\color{blue}{h_2^*})^2}{2}\\right] - \\ell \\color{blue}{e^*} + \\color{red}{\\frac{\\partial \\psi}{\\partial b}(b,z_2;\\ell)} \\delta b\\\\\n",
    "&+\\left[\\color{red}{\\frac{\\partial \\psi}{\\partial z_2}(b,z_2;\\ell)}\\right]\\left[-\\rho(z_2-\\mu_2)+\\sqrt{z_2}\\sigma_2 \\color{blue}{h_2^*}\\right] + \\left[\\color{red}{\\frac{\\partial^2 \\psi}{\\partial(z_2)^2}(b,z_2;\\ell)}\\right]\\left(\\frac{z_2|\\sigma_2|^2}{2}\\right)\n",
    "\\end{align*}"
   ]
  },
  {
   "cell_type": "code",
   "execution_count": null,
   "metadata": {},
   "outputs": [],
   "source": [
    "@njit(parallel=True, cache=True)\n",
    "def solver(ψ_grid, b_grid, z_grid, ℓ, ϵ, τ, δ, η, ξ_m, μ_2, σ_2, ρ):\n",
    "    n_b = len(b_grid)\n",
    "    n_z = len(z_grid)\n",
    "    Δ_b = b_grid[1] - b_grid[0]\n",
    "    Δ_z = z_grid[1] - z_grid[0]\n",
    "    LHS = np.zeros((n_b*n_z, n_b*n_z))\n",
    "    RHS = np.zeros(n_b*n_z)\n",
    "    for j in range(n_z):\n",
    "        for i in range(n_b):\n",
    "            idx = j*n_b + i\n",
    "            idx_bp1 = idx + 1\n",
    "            idx_bm1 = idx - 1\n",
    "            idx_zp1 = (j+1)*n_b + i\n",
    "            idx_zp2 = (j+2)*n_b + i\n",
    "            idx_zm1 = (j-1)*n_b + i\n",
    "            idx_zm2 = (j-2)*n_b + i\n",
    "            ψ = ψ_grid[idx]\n",
    "            z = z_grid[j]\n",
    "            b = b_grid[i]\n",
    "            LHS[idx, idx] += - 1./ϵ\n",
    "            if i == 0:\n",
    "                dψdb = (ψ_grid[idx_bp1]-ψ_grid[idx])/Δ_b\n",
    "                e = b*δ*η/(b*τ*z+ℓ)\n",
    "                LHS[idx, idx] += δ*b/Δ_b\n",
    "                LHS[idx, idx_bp1] += -δ*b/Δ_b\n",
    "            elif i == n_b-1:\n",
    "                dψdb = (ψ_grid[idx]-ψ_grid[idx_bm1])/Δ_b\n",
    "                e = b*δ*η/(b*τ*z+ℓ)\n",
    "                LHS[idx, idx] += -δ*b/Δ_b\n",
    "                LHS[idx, idx_bm1] += δ*b/Δ_b\n",
    "            else:\n",
    "                dψdb = (ψ_grid[idx_bp1]-ψ_grid[idx_bm1])/(2*Δ_b)\n",
    "                e = b*δ*η/(b*τ*z+ℓ)\n",
    "                LHS[idx, idx] += -δ*b/Δ_b\n",
    "                LHS[idx, idx_bm1] += δ*b/Δ_b\n",
    "            temp_2 = z*σ_2**2/2\n",
    "            if j == 0:\n",
    "                dψdz = (ψ_grid[idx_zp1]-ψ_grid[idx])/Δ_z\n",
    "                h = -dψdz*np.sqrt(z)*σ_2/(b*ξ_m)\n",
    "                temp_1 = -ρ*(z-μ_2) + np.sqrt(z)*σ_2*h\n",
    "                LHS[idx, idx] += -temp_1/Δ_z + temp_2/(Δ_z**2)  \n",
    "                LHS[idx, idx_zp1] += temp_1/Δ_z - temp_2*2/(Δ_z**2)\n",
    "                LHS[idx, idx_zp2] += temp_2/(Δ_z**2)\n",
    "            elif j == n_z-1:\n",
    "                dψdz = (ψ_grid[idx]-ψ_grid[idx_zm1])/Δ_z\n",
    "                h = -dψdz*np.sqrt(z)*σ_2/(b*ξ_m)\n",
    "                temp_1 = -ρ*(z-μ_2) + np.sqrt(z)*σ_2*h\n",
    "                LHS[idx, idx] += temp_1/Δ_z + temp_2/(Δ_z**2)\n",
    "                LHS[idx, idx_zm1] += -temp_1/Δ_z - temp_2*2/(Δ_z**2)\n",
    "                LHS[idx, idx_zm2] += temp_2/(Δ_z**2)            \n",
    "            else:\n",
    "                dψdz = (ψ_grid[idx_zp1]-ψ_grid[idx_zm1])/(2*Δ_z)\n",
    "                h = -dψdz*np.sqrt(z)*σ_2/(b*ξ_m)\n",
    "                temp_1 = -ρ*(z-μ_2) + np.sqrt(z)*σ_2*h\n",
    "                LHS[idx, idx] += temp_1/Δ_z*(-1.*(temp_1>0)+(temp_1<0)) - temp_2*2/(Δ_z**2)\n",
    "                LHS[idx, idx_zp1] += temp_1/Δ_z*(temp_1>0) + temp_2/(Δ_z**2)\n",
    "                LHS[idx, idx_zm1] += -temp_1/Δ_z*(temp_1<0) + temp_2/(Δ_z**2)\n",
    "            RHS[idx] = -(1./ϵ*ψ + b*(δ*η*np.log(e) - τ*z*e + ξ_m*h**2/2) - ℓ*e)\n",
    "    ψ_grid = np.linalg.solve(LHS, RHS)\n",
    "    return ψ_grid\n",
    "\n",
    "\n",
    "@njit\n",
    "def false_transient(ψ_grid, b_grid, z_grid, ℓ, ϵ, τ, δ, η, ξ_m, μ_2, σ_2, ρ, max_iter=10_000, tol=1e-9):\n",
    "    error = 1.\n",
    "    count = 0\n",
    "    while error > tol and count < max_iter:\n",
    "        ψ_grid_old = ψ_grid.copy()\n",
    "        ψ_grid = solver(ψ_grid, b_grid, z_grid, ℓ, ϵ, τ, δ, η, ξ_m, μ_2, σ_2, ρ)\n",
    "        error = np.max(np.abs(ψ_grid_old-ψ_grid))/ϵ\n",
    "        count += 1\n",
    "        print('Iteration:', count, ', error:', error)\n",
    "    return ψ_grid"
   ]
  },
  {
   "cell_type": "code",
   "execution_count": null,
   "metadata": {},
   "outputs": [],
   "source": [
    "ϵ = 0.5\n",
    "b_max = 1.0\n",
    "z_max = 2.0\n",
    "n_b = 200\n",
    "n_z = 20\n",
    "b_grid = np.linspace(1e-2, 1., n_b)\n",
    "z_grid = np.linspace(1e-5, z_max, n_z)\n",
    "ψ_grid = np.zeros(n_b*n_z) # initial guess"
   ]
  },
  {
   "cell_type": "code",
   "execution_count": null,
   "metadata": {},
   "outputs": [],
   "source": [
    "# log_ell_grid = np.linspace(log_ell_min, log_ell_max, grid_size)\n",
    "log_ell_grid = np.linspace(-20, -5, 20)\n",
    "ψ_grid_list = []\n",
    "for i in range(20):\n",
    "#     ψ_grid = np.load('res_guess.npy') # initial guess\n",
    "    ψ_grid = np.zeros(n_b*n_z) # initial guess\n",
    "    log_ell = log_ell_grid[i]\n",
    "    ℓ = np.exp(log_ell)\n",
    "    print(i)\n",
    "    ψ_grid = false_transient(ψ_grid, b_grid, z_grid, ℓ, ϵ, τ, δ, η, ξ_m, μ_2, σ_2, ρ, max_iter=10_000, tol=1e-7)   \n",
    "    np.save('res_'+str(i), ψ_grid)"
   ]
  },
  {
   "cell_type": "code",
   "execution_count": null,
   "metadata": {},
   "outputs": [],
   "source": [
    "ψ_grid = ψ_grid.reshape((n_r, n_z), order='F')"
   ]
  },
  {
   "cell_type": "code",
   "execution_count": null,
   "metadata": {},
   "outputs": [],
   "source": [
    "# Compute e_grid conditioned on z2\n",
    "z_loc = 10\n",
    "z = z_grid[z_loc]\n",
    "Δ_r = r_grid[1] - r_grid[0]\n",
    "dϕdr = np.zeros_like(r_grid) \n",
    "for i in range(n_r):\n",
    "    if i == 0:\n",
    "        dϕdr[i] = (ϕ[i+1, z_loc] - ϕ[i, z_loc])/Δ_r\n",
    "    elif i == n_r-1:\n",
    "        dϕdr[i] = (ϕ[i, z_loc] - ϕ[i-1, z_loc])/Δ_r\n",
    "    else:\n",
    "        dϕdr[i] = (ϕ[i+1, z_loc] - ϕ[i-1, z_loc])/(2*Δ_r)\n",
    "e_grid = δ*η/(τ*z + dϕdr)"
   ]
  },
  {
   "cell_type": "code",
   "execution_count": null,
   "metadata": {},
   "outputs": [],
   "source": [
    "import matplotlib.pyplot as plt\n",
    "# plt.plot(e_grid)\n",
    "# plt.ylim(0, 20)"
   ]
  },
  {
   "cell_type": "code",
   "execution_count": null,
   "metadata": {},
   "outputs": [],
   "source": [
    "plt.plot(ϕ[:,0])\n",
    "plt.ylim(0, 0.05)"
   ]
  },
  {
   "cell_type": "code",
   "execution_count": null,
   "metadata": {},
   "outputs": [],
   "source": [
    "ϕ[:, 10]"
   ]
  },
  {
   "cell_type": "code",
   "execution_count": null,
   "metadata": {},
   "outputs": [],
   "source": [
    "import pickle"
   ]
  },
  {
   "cell_type": "code",
   "execution_count": null,
   "metadata": {},
   "outputs": [],
   "source": [
    "with open('solu_modified_40200_0900', 'rb') as handle:\n",
    "    b = pickle.load(handle)"
   ]
  },
  {
   "cell_type": "code",
   "execution_count": null,
   "metadata": {},
   "outputs": [],
   "source": [
    "ϕ_suri = b['phi']"
   ]
  },
  {
   "cell_type": "code",
   "execution_count": null,
   "metadata": {},
   "outputs": [],
   "source": [
    "plt.plot(ϕ_suri[0, :])\n",
    "plt.ylim(0, 0.05)"
   ]
  },
  {
   "cell_type": "code",
   "execution_count": null,
   "metadata": {},
   "outputs": [],
   "source": [
    "ϕ_suri_new = ϕ_suri.T.reshape(-1, order='F')"
   ]
  },
  {
   "cell_type": "code",
   "execution_count": null,
   "metadata": {},
   "outputs": [],
   "source": [
    "res = solver(ϕ_suri_new, r_grid, z_grid, ϵ, τ, δ, η, ξ_m, μ_2, σ_2, ρ)"
   ]
  },
  {
   "cell_type": "code",
   "execution_count": null,
   "metadata": {},
   "outputs": [],
   "source": [
    "np.abs(np.max((res - ϕ_suri_new)/ϵ))"
   ]
  },
  {
   "cell_type": "code",
   "execution_count": null,
   "metadata": {},
   "outputs": [],
   "source": []
  }
 ],
 "metadata": {
  "kernelspec": {
   "display_name": "Python 3",
   "language": "python",
   "name": "python3"
  },
  "language_info": {
   "codemirror_mode": {
    "name": "ipython",
    "version": 3
   },
   "file_extension": ".py",
   "mimetype": "text/x-python",
   "name": "python",
   "nbconvert_exporter": "python",
   "pygments_lexer": "ipython3",
   "version": "3.8.3"
  }
 },
 "nbformat": 4,
 "nbformat_minor": 4
}
