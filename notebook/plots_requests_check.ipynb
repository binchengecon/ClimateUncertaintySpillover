{
 "cells": [
  {
   "cell_type": "code",
   "execution_count": 48,
   "metadata": {},
   "outputs": [],
   "source": [
    "import os, sys\n",
    "sys.path.append(os.path.dirname(os.getcwd()) + '/source')\n",
    "\n",
    "import numpy as np\n",
    "import pandas as pd\n",
    "from model import ode_y, ode_y_jump_approach_one_boundary\n",
    "from model import solve_with_emission_boundary\n",
    "from numba import njit\n",
    "from utilities import find_nearest_value\n",
    "\n",
    "import matplotlib.pyplot as plt\n",
    "import matplotlib as mpl\n",
    "\n",
    "mpl.rcParams['axes.spines.right'] = False\n",
    "mpl.rcParams['axes.spines.top'] = False"
   ]
  },
  {
   "cell_type": "markdown",
   "metadata": {},
   "source": [
    "## Plot 1-3: emission, probability, histogram"
   ]
  },
  {
   "cell_type": "code",
   "execution_count": 49,
   "metadata": {},
   "outputs": [],
   "source": [
    "def simulation(y_grid, e_grid, h_grid, g_grid, θ=1.86/1000., y_start=.5394, T=50):\n",
    "    Et = np.zeros(T+1)\n",
    "    yt = np.zeros(T+1)\n",
    "    ht = np.zeros(T+1)\n",
    "    gt = np.zeros((len(g_grid), T+1))\n",
    "    for i in range(T+1):\n",
    "        Et[i] = np.interp(y_start, y_grid, e_grid)\n",
    "        ht[i] = np.interp(y_start, y_grid, h_grid)\n",
    "        for n in range(gt.shape[0]):\n",
    "            gt[n, i] = np.interp(y_start, y_grid, g_grid[n])\n",
    "        yt[i] = y_start\n",
    "        y_start = y_start + Et[i]*θ\n",
    "    return Et, yt, ht, gt"
   ]
  },
  {
   "cell_type": "code",
   "execution_count": 50,
   "metadata": {},
   "outputs": [],
   "source": [
    "def make_plots(ξ_1m, ξ_2m, ξ_a, et_tilde_baseline, path, make_plot=True):\n",
    "    η = .032\n",
    "    δ = .01\n",
    "\n",
    "    θ = pd.read_csv('../data/model144.csv', header=None).to_numpy()[:, 0]/1000.\n",
    "    πc_o = np.ones_like(θ)/len(θ)\n",
    "    σ_y = 1.2*1.86/1000\n",
    "\n",
    "    y_bar = 2.\n",
    "    γ_1 = 1.7675/10000\n",
    "    γ_2 = .0022*2\n",
    "    γ_2p = np.array([0, .0197*2])\n",
    "    πd_o = np.array([1./2, 1./2])\n",
    "\n",
    "    n_y = 400\n",
    "    y_grid_long = np.linspace(1e-10, 5, n_y)\n",
    "    y_grid_short = np.linspace(1e-10, 2, n_y)\n",
    "\n",
    "    # Prepare ϕ_i\n",
    "    ϕ_list = []\n",
    "    for γ_2p_i in γ_2p:\n",
    "        model_paras = (η, δ, θ, πc_o, σ_y, ξ_1m, ξ_a, γ_1, γ_2, γ_2p_i, y_bar) \n",
    "        model_res = ode_y(y_grid_long, model_paras, v0=None, ϵ=.5,\n",
    "                           tol=1e-8, max_iter=5_000, print_all=False)\n",
    "        ϕ_list.append(model_res['v0'])\n",
    "\n",
    "    ϕ_list_short = []\n",
    "    for ϕ_i in ϕ_list:\n",
    "        temp = np.interp(y_grid_short, y_grid_long, ϕ_i)\n",
    "        ϕ_list_short.append(temp)\n",
    "    ϕ_i = np.array(ϕ_list_short)\n",
    "\n",
    "    # Compute ϕ\n",
    "    ς = .1\n",
    "    model_paras = (η, δ, θ, πc_o, σ_y, ξ_1m, ξ_2m, ξ_a, ς, γ_1, γ_2, y_bar, ϕ_i, πd_o)\n",
    "    model_res = \\\n",
    "              ode_y_jump_approach_one_boundary(y_grid_short, model_paras, v0=np.average(ϕ_i, axis=0, weights=πd_o),\n",
    "                                      ϵ=.5, tol=1e-8, max_iter=10_000, print_all=False)\n",
    "    \n",
    "    h = 1./ξ_1m * (-model_res['v0_dy'] + (1-η)*model_res['d_Λ']) * model_res['e_tilde'] * σ_y\n",
    "    \n",
    "    # Simulate e_tilde\n",
    "    et_tilde, yt, ht, gt = simulation(y_grid_short, model_res['e_tilde'], h, model_res['g'], θ=np.mean(θ), y_start=.5394, T=100)\n",
    "    \n",
    "    if not make_plot:\n",
    "        return et_tilde\n",
    "    else:\n",
    "        plt.figure(figsize=(8, 5))\n",
    "        plt.plot(et_tilde, color='C3', label='distorted', linewidth=2.)\n",
    "        plt.plot(et_tilde_baseline, color='C0', label=r'baseline', linewidth=2.)\n",
    "        plt.xlabel('Years', fontsize=13)\n",
    "        plt.ylabel('Emission', fontsize=13)\n",
    "        plt.legend(frameon=False)\n",
    "        plt.ylim(0., 12.)\n",
    "        plt.savefig(path+'/emission.pdf')\n",
    "        \n",
    "        plt.figure(figsize=(8, 5))\n",
    "        plt.plot(gt[0]*πd_o[0]/np.mean(gt, axis=0), color='C0', label='low damage', linewidth=2.)\n",
    "        plt.plot(gt[1]*πd_o[1]/np.mean(gt, axis=0), color='C1', label='high damage', linewidth=2.)\n",
    "        plt.xlabel('Years', fontsize=13)\n",
    "        plt.ylabel('Distorted Probability', fontsize=13)\n",
    "        plt.legend(frameon=False)\n",
    "        plt.ylim(-.01, 1.01)\n",
    "        plt.savefig(path+'/damage_probability.pdf')\n",
    "\n",
    "        loc_50 = find_nearest_value(y_grid_short, yt[50])\n",
    "#         bins = np.linspace(1, 3.3, 19)\n",
    "        plt.figure(figsize=(8, 5))\n",
    "        plt.hist(θ*1000, bins=15, color='tab:red', histtype='bar', ec='gray', alpha=.5, density=True)\n",
    "        plt.hist((θ+σ_y*ht[50])*1000, weights=model_res['πc'][:, loc_50], bins=15, color='tab:blue', histtype='bar', ec='gray', alpha=.5, density=True)\n",
    "        plt.xlabel('Climate Sensitivity, Year 50', fontsize=13)\n",
    "        plt.ylabel('Density', fontsize=13)\n",
    "        plt.title('Mean Difference: ' + str((θ@(model_res['πc'][:, loc_50]-πc_o)+σ_y*ht[50])*1000)[:4], fontsize=13)\n",
    "        plt.xlim(.8, 3.3)\n",
    "        plt.ylim(0, 1.2)\n",
    "        plt.savefig(path+'/histogram.pdf')"
   ]
  },
  {
   "cell_type": "code",
   "execution_count": 30,
   "metadata": {},
   "outputs": [
    {
     "name": "stdout",
     "output_type": "stream",
     "text": [
      "Converged. Total iteration 5000: LHS Error: 7.412432118242274e-07; RHS Error 3.458207739084093e-06\n",
      "Converged. Total iteration 2044: LHS Error: 9.998761277274504e-09; RHS Error 3.4274795847318647e-06\n",
      "Converged. Total iteration 302: LHS Error: 9.178160009781777e-09; RHS Error 6.300483115556014e-06\n"
     ]
    }
   ],
   "source": [
    "e_tilde_baseline = make_plots(100., 100., 100., None, None, False)"
   ]
  },
  {
   "cell_type": "code",
   "execution_count": 51,
   "metadata": {},
   "outputs": [
    {
     "name": "stdout",
     "output_type": "stream",
     "text": [
      "Converged. Total iteration 5000: LHS Error: 8.084131521562954e-07; RHS Error 7.555984274274733e-07\n",
      "Converged. Total iteration 2081: LHS Error: 9.973012138342341e-09; RHS Error 2.5747025661324204e-06\n",
      "Converged. Total iteration 313: LHS Error: 9.52938390696989e-09; RHS Error 6.386119144665098e-06\n"
     ]
    },
    {
     "data": {
      "image/png": "[encoded data removed]",
      "text/plain": [
       "<Figure size 576x360 with 1 Axes>"
      ]
     },
     "metadata": {
      "needs_background": "light"
     },
     "output_type": "display_data"
    },
    {
     "data": {
      "image/png": "[encoded data removed]",
      "text/plain": [
       "<Figure size 576x360 with 1 Axes>"
      ]
     },
     "metadata": {
      "needs_background": "light"
     },
     "output_type": "display_data"
    },
    {
     "data": {
      "image/png": "[encoded data removed]",
      "text/plain": [
       "<Figure size 576x360 with 1 Axes>"
      ]
     },
     "metadata": {
      "needs_background": "light"
     },
     "output_type": "display_data"
    }
   ],
   "source": [
    "make_plots(1./600., 1./600.*60, 1./15000, e_tilde_baseline, '../plots/requests', True)"
   ]
  },
  {
   "cell_type": "markdown",
   "metadata": {},
   "source": [
    "## Plot 4: SCC"
   ]
  },
  {
   "cell_type": "code",
   "execution_count": 52,
   "metadata": {},
   "outputs": [
    {
     "name": "stdout",
     "output_type": "stream",
     "text": [
      "Converged. Total iteration 1974: LHS Error: 9.949672696851763e-09; RHS Error 1.686706404808655e-06\n",
      "Converged. Total iteration 2091: LHS Error: 9.999543582051018e-09; RHS Error 7.968235726113124e-06\n",
      "Converged. Total iteration 10000: LHS Error: 1.4011577970374223e-06; RHS Error 3.873571117086235e-06\n",
      "Solved. PDE error: 4.761348679322222e-06\n"
     ]
    }
   ],
   "source": [
    "ξ_1m = 1./600\n",
    "ξ_2m = 1./600 * 60\n",
    "ξ_a = 1./15000\n",
    "\n",
    "η = .032\n",
    "δ = .01\n",
    "\n",
    "θ = pd.read_csv('../data/model144.csv', header=None).to_numpy()[:, 0]/1000.\n",
    "πc_o = np.ones_like(θ)/len(θ)\n",
    "σ_y = 1.2*1.86/1000\n",
    "\n",
    "y_bar = 2.\n",
    "γ_1 = 1.7675/10000\n",
    "γ_2 = .0022*2\n",
    "γ_2p = np.array([0, .0197*2])\n",
    "πd_o = np.array([1./2, 1./2])\n",
    "\n",
    "y_step = .04\n",
    "y_grid_long = np.arange(0., 4., y_step)\n",
    "y_grid_short = np.arange(0., 2+y_step, y_step)\n",
    "n_bar = find_nearest_value(y_grid_long, y_bar) + 1\n",
    "\n",
    "# Prepare ϕ\n",
    "ϕ_list = []\n",
    "for γ_2p_i in γ_2p:\n",
    "    model_paras = (η, δ, θ, πc_o, σ_y, ξ_1m, ξ_a, γ_1, γ_2, γ_2p_i, y_bar) \n",
    "    model_res = ode_y(y_grid_long, model_paras, v0=None, ϵ=.5,\n",
    "                       tol=1e-8, max_iter=10_000, print_all=False)\n",
    "    ϕ_list.append(model_res['v0'])\n",
    "\n",
    "ϕ_list_short = []\n",
    "for ϕ_i in ϕ_list:\n",
    "    temp = ϕ_i[:n_bar]\n",
    "    ϕ_list_short.append(temp)\n",
    "ϕ_i = np.array(ϕ_list_short)\n",
    "\n",
    "# Compute ϕ\n",
    "ς = .25\n",
    "model_paras = (η, δ, θ, πc_o, σ_y, ξ_1m, ξ_2m, ξ_a, ς, γ_1, γ_2, y_bar, ϕ_i, πd_o)\n",
    "model_res = ode_y_jump_approach_one_boundary(y_grid_short, model_paras, v0=np.average(ϕ_i, weights=πd_o, axis=0),\n",
    "                                                    ϵ=.5, tol=1e-9, max_iter=10000, print_all=False)\n",
    "\n",
    "e_tilde = model_res['e_tilde']\n",
    "\n",
    "# Compute marginal values for emission (under distorted probabilities)\n",
    "ME_distorted = δ*η/e_tilde\n",
    "\n",
    "# Compute marginal values for emission (under baseline probabilities)\n",
    "model_paras_new = (η, δ, θ, πc_o, σ_y, γ_1, γ_2, ϕ_i, πd_o, e_tilde)\n",
    "model_res_new = solve_with_emission_boundary(y_grid_short, model_paras_new)\n",
    "\n",
    "ME_baseline = model_res_new['ME']"
   ]
  },
  {
   "cell_type": "code",
   "execution_count": 53,
   "metadata": {},
   "outputs": [],
   "source": [
    "def simulation_me(y_grid, e_grid, ratio_grid, θ=1.86/1000., y_start=.5394, T=50):\n",
    "    Et = np.zeros(T+1)\n",
    "    yt = np.zeros(T+1)\n",
    "    ratio_t = np.zeros(T+1)\n",
    "    for i in range(T+1):\n",
    "        Et[i] = np.interp(y_start, y_grid, e_grid)\n",
    "        ratio_t[i] = np.interp(y_start, y_grid, ratio_grid)\n",
    "        yt[i] = y_start\n",
    "        y_start = y_start + Et[i]*θ\n",
    "    return Et, yt, ratio_t"
   ]
  },
  {
   "cell_type": "code",
   "execution_count": 54,
   "metadata": {},
   "outputs": [],
   "source": [
    "et_tilde, yt, ratio_t = simulation_me(y_grid_short, e_tilde, ME_baseline/ME_distorted, θ=np.mean(θ), y_start=.5394, T=100)"
   ]
  },
  {
   "cell_type": "code",
   "execution_count": 55,
   "metadata": {},
   "outputs": [],
   "source": [
    "# Capital and z parameters\n",
    "α_k = -0.043\n",
    "β_k = 0.04\n",
    "σ_k = np.array([0.477*2, 0])/100.\n",
    "β_z = 0.014*4\n",
    "σ_z = np.array([0.011*2, 0.025*2])\n",
    "α = 0.115\n",
    "ioverk = 0.09\n",
    "κ = 6.667\n",
    "\n",
    "\n",
    "@njit(parallel=True)\n",
    "def simulate_capital(α_k, β_k, σ_k, β_z, σ_z, ioverk, κ, Ws, k_start, N=100_000, T=100, dt=1.):\n",
    "    var_z = dt*σ_z@σ_z/(1-(1-β_z*dt)**2)\n",
    "    std_z = np.sqrt(var_z)\n",
    "\n",
    "    time_periods = int(T/dt)\n",
    "    z_path = np.zeros((N, time_periods+1))\n",
    "    k_path = np.zeros((N, time_periods+1))\n",
    "    for i in range(N):\n",
    "        z0 = np.random.normal(0.,std_z)\n",
    "        k0 = k_start\n",
    "        z_path[i, 0] = z0\n",
    "        k_path[i, 0] = k0\n",
    "        for j in range(1, time_periods+1):\n",
    "            k1 = k0 + (α_k + β_k*z0 + ioverk - κ/2.*ioverk**2 - σ_k@σ_k/2.)*dt + σ_k@Ws[i, j]*np.sqrt(dt)\n",
    "            z1 = (1.-β_z*dt)*z0 + σ_z@Ws[i, j]*np.sqrt(dt)\n",
    "            k_path[i, j] = k1\n",
    "            z_path[i, j] = z1\n",
    "            k0 = k1\n",
    "            z0 = z1\n",
    "    return k_path\n",
    "\n",
    "T = 100\n",
    "N = 1_000_000\n",
    "dt = 1.\n",
    "k_start = np.log(80/α)\n",
    "Ws = np.random.multivariate_normal(np.zeros(2), np.eye(2), (N, int(T/dt)))\n",
    "logk_path = simulate_capital(α_k, β_k, σ_k, β_z, σ_z, ioverk, κ, Ws, k_start, N=N, T=T, dt=dt)\n",
    "Kt = np.percentile(np.exp(logk_path), 50, axis=0)"
   ]
  },
  {
   "cell_type": "code",
   "execution_count": 56,
   "metadata": {},
   "outputs": [],
   "source": [
    "SCCt_all = η*(0.025)*Kt/((1.-η)*et_tilde) * 1000\n",
    "SCCt_baseline = SCCt_all * ratio_t\n",
    "SCCt_uncertainty = SCCt_all - SCCt_baseline"
   ]
  },
  {
   "cell_type": "code",
   "execution_count": 57,
   "metadata": {},
   "outputs": [
    {
     "data": {
      "text/plain": [
       "Text(0, 0.5, 'SCC ($/tC)')"
      ]
     },
     "execution_count": 57,
     "metadata": {},
     "output_type": "execute_result"
    },
    {
     "data": {
      "image/png": "[encoded data removed]",
      "text/plain": [
       "<Figure size 576x360 with 1 Axes>"
      ]
     },
     "metadata": {
      "needs_background": "light"
     },
     "output_type": "display_data"
    }
   ],
   "source": [
    "plt.figure(figsize=(8, 5))\n",
    "plt.plot(SCCt_all, color='rebeccapurple', label='total', linewidth=2.)\n",
    "plt.plot(SCCt_baseline, color='rebeccapurple', label='uncertainty', linestyle='dashed', linewidth=2.)\n",
    "# plt.fill_between(np.arange(0, 101, 1), np.zeros_like(SCCt_uncertainty), \n",
    "#                  SCCt_uncertainty, color='rebeccapurple', alpha=.4)\n",
    "# plt.ylim(0, 1200)\n",
    "plt.xlim(0, 100)\n",
    "plt.xlabel('Years', fontsize=13)\n",
    "plt.ylabel('SCC ($/tC)', fontsize=13)\n",
    "# plt.arrow(60, 400, 10, -300, length_includes_head=True,\n",
    "#           head_width=3, head_length=20, shape='full')\n",
    "# plt.arrow(73, 800, 7, -200, length_includes_head=True,\n",
    "#           head_width=3, head_length=20, shape='full')\n",
    "# plt.text(52, 440, 'Uncertainty', fontsize=12)\n",
    "# plt.text(68, 830, 'Total', fontsize=12)\n",
    "# plt.savefig('../plots/requests/scc.pdf')"
   ]
  },
  {
   "cell_type": "code",
   "execution_count": null,
   "metadata": {},
   "outputs": [],
   "source": []
  }
 ],
 "metadata": {
  "kernelspec": {
   "display_name": "Python 3",
   "language": "python",
   "name": "python3"
  },
  "language_info": {
   "codemirror_mode": {
    "name": "ipython",
    "version": 3
   },
   "file_extension": ".py",
   "mimetype": "text/x-python",
   "name": "python",
   "nbconvert_exporter": "python",
   "pygments_lexer": "ipython3",
   "version": "3.8.5"
  }
 },
 "nbformat": 4,
 "nbformat_minor": 4
}
