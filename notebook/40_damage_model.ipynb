{
 "cells": [
  {
   "cell_type": "code",
   "execution_count": 1,
   "metadata": {},
   "outputs": [],
   "source": [
    "import os, sys\n",
    "sys.path.append(os.path.dirname(os.getcwd()) + '/source')\n",
    "\n",
    "from model import ode_y_parallel\n",
    "from utilities import find_nearest_value, compute_derivatives\n",
    "from solver import false_transient_one_iteration_python\n",
    "from numba import njit\n",
    "import numpy as np\n",
    "import pandas as pd\n",
    "import matplotlib.pyplot as plt\n",
    "import matplotlib as mpl\n",
    "mpl.rcParams['axes.spines.right'] = False\n",
    "mpl.rcParams['axes.spines.top'] = False"
   ]
  },
  {
   "cell_type": "markdown",
   "metadata": {},
   "source": [
    "## Solve HJB"
   ]
  },
  {
   "cell_type": "code",
   "execution_count": 2,
   "metadata": {},
   "outputs": [],
   "source": [
    "# Intensity parameter\n",
    "τ = .25\n",
    "\n",
    "r0 = 1.5\n",
    "r1 = 2.5\n",
    "\n",
    "# Robustness parameters\n",
    "ξ_b = 100000.\n",
    "ξ_p = 5.\n",
    "ξ_a = 1./100\n",
    "\n",
    "n_model = 40\n",
    "damage_setting={'γ_2p': np.linspace(0, 1./3, n_model),\n",
    "                'πd_o': np.ones(n_model)/n_model}\n",
    "\n",
    "# Model parameters\n",
    "η = .032\n",
    "δ = .01\n",
    "\n",
    "θ = pd.read_csv('../data/model144.csv', header=None).to_numpy()[:, 0]/1000.\n",
    "πc_o = np.ones_like(θ)/len(θ)\n",
    "σ_y = 1.2*np.mean(θ)\n",
    "\n",
    "γ_1 = 1.7675/10000\n",
    "γ_2 = .0022*2\n",
    "γ_2p = damage_setting['γ_2p']\n",
    "πd_o = damage_setting['πd_o']\n",
    "\n",
    "y_bar_upper = 2.0\n",
    "y_bar_lower = 1.5\n",
    "\n",
    "# Grid setting\n",
    "ϵ = 2.\n",
    "y_step = .02\n",
    "y_grid_long = np.arange(0., y_bar_upper*2+y_step, y_step)\n",
    "y_grid_short = np.arange(0., y_bar_upper+y_step, y_step)\n",
    "y_bar_lower_loc = find_nearest_value(y_grid_short, y_bar_lower)\n",
    "y_bar_upper_loc = find_nearest_value(y_grid_long, y_bar_upper)"
   ]
  },
  {
   "cell_type": "code",
   "execution_count": 3,
   "metadata": {},
   "outputs": [],
   "source": [
    "# Parallelly solve ODE\n",
    "model_args_list = []\n",
    "model_list = []\n",
    "\n",
    "for i in range(n_model):\n",
    "    temp = (η, δ, θ, πc_o, σ_y, ξ_b, ξ_a, γ_1, γ_2, γ_2p[i], y_bar_upper)\n",
    "    model_args_list.append((y_grid_long, temp, None, ϵ, 1e-8, 2000, False))\n",
    "\n",
    "model_list = ode_y_parallel(model_args_list)"
   ]
  },
  {
   "cell_type": "code",
   "execution_count": 4,
   "metadata": {},
   "outputs": [],
   "source": [
    "# Prepare ϕ_m\n",
    "ϕ_m = np.zeros((n_model, len(y_grid_short)))\n",
    "for i in range(n_model):\n",
    "    ϕ_m[i, :] = model_list[i]['v0'][y_bar_upper_loc]\n",
    "\n",
    "ϕ_post_jump = np.zeros((n_model, len(y_grid_long)))\n",
    "for i in range(n_model):\n",
    "    ϕ_post_jump[i, :] = model_list[i]['v0']\n",
    "    \n",
    "# Prepare v_guess\n",
    "v_guess = np.average(np.array([model_list[i]['v0'][:y_bar_upper_loc+1] for i in range(len(model_list))]),\n",
    "                     weights=np.ones(len(model_list))/len(model_list), axis=0)"
   ]
  },
  {
   "cell_type": "code",
   "execution_count": 5,
   "metadata": {},
   "outputs": [],
   "source": [
    "def ode_y_jump_intensity_approach(y_grid, model_paras=(), v0=None, ϵ=.5,\n",
    "                                  tol=1e-8, max_iter=10_000, print_all=True):\n",
    "    η, δ, θ, πc_o, σ_y, ξ_1m, ξ_2m, ξ_a, γ_1, γ_2, y_bar_lower, y_bar_upper, ϕ_i, πd_o, r0, r1, τ = model_paras\n",
    "    Δ_y = y_grid[1] - y_grid[0]\n",
    "\n",
    "    if v0 is None:\n",
    "        v0 = - η * (y_grid + y_grid**2)\n",
    "\n",
    "    d_Λ = γ_1 + γ_2*y_grid\n",
    "    dd_Λ = γ_2\n",
    "\n",
    "    πd = np.ones((len(πd_o), len(y_grid)))\n",
    "    for i in range(πd.shape[0]):\n",
    "        πd[i] = πd_o[i]\n",
    "    πd_o = πd\n",
    "\n",
    "    πc = np.ones((len(πc_o), len(y_grid)))\n",
    "    θ_reshape = np.ones_like(πc)\n",
    "    for i in range(πc.shape[0]):\n",
    "        πc[i] = πc_o[i]\n",
    "        θ_reshape[i] = θ[i]\n",
    "    πc_o = πc.copy()\n",
    "    θ = θ_reshape\n",
    "\n",
    "    intensity = r0 * (np.exp(r1 / 2. * (y_grid-y_bar_lower)**2) - 1.) * (y_grid >= y_bar_lower)\\\n",
    "                + 0 * (y_grid < y_bar_lower)\n",
    "\n",
    "    e_tilde = 0.\n",
    "    count = 0\n",
    "    error = 1.\n",
    "\n",
    "    while error > tol and count < max_iter:\n",
    "        v_old = v0.copy()\n",
    "        e_tilde_old = e_tilde\n",
    "\n",
    "        v0_dy = compute_derivatives(v0, 1, Δ_y, central_diff=False)\n",
    "        v0_dyy = compute_derivatives(v0, 2, Δ_y)\n",
    "\n",
    "        G = v0_dy + (η-1)/δ*d_Λ\n",
    "\n",
    "        if σ_y == 0:\n",
    "            e_tilde = -η/(G*np.sum(πc*θ, axis=0))\n",
    "        else:\n",
    "            temp = σ_y**2*(v0_dyy+(η-1.)/δ*dd_Λ-G**2/ξ_1m)\n",
    "            root = np.sum(πc*θ, axis=0)**2*G**2 - 4*η*temp\n",
    "            root[root<0] = 0.\n",
    "            e_tilde = (-G*np.sum(πc*θ, axis=0) - np.sqrt(root)) / (2*temp)\n",
    "\n",
    "        e_tilde[e_tilde<=0] = 1e-16\n",
    "        e_tilde = e_tilde *.5 + e_tilde_old*.5\n",
    " \n",
    "        log_πc_ratio = -G*e_tilde*θ/ξ_a\n",
    "        πc_ratio = log_πc_ratio - np.max(log_πc_ratio, axis=0)\n",
    "        πc = np.exp(πc_ratio) * πc_o\n",
    "        πc = πc/np.sum(πc, axis=0)\n",
    "        πc[πc<=0] = 1e-16        \n",
    "        c_entropy = np.sum(πc*(np.log(πc)-np.log(πc_o)), axis=0)\n",
    "\n",
    "        g = np.exp(1. / ξ_2m * (v0 - ϕ_i))\n",
    "\n",
    "        A = np.ones_like(y_grid)*(-δ) - intensity * np.sum(πd_o * g, axis=0)\n",
    "        B = e_tilde * np.sum(πc*θ, axis=0)\n",
    "        C = .5 * σ_y**2 * e_tilde**2\n",
    "        D = η*np.log(e_tilde) - C*G**2/ξ_1m + (η-1)/δ*d_Λ*e_tilde*np.sum(πc*θ, axis=0)\\\n",
    "            + .5*(η-1)/δ*dd_Λ*σ_y**2*e_tilde**2 + ξ_a*c_entropy\\\n",
    "            + ξ_2m * intensity * np.sum(πd_o * (1 - g + g * np.log(g)), axis=0)\\\n",
    "            + intensity * np.sum(πd_o * g * ϕ_i, axis=0)\n",
    "\n",
    "        v0 = false_transient_one_iteration_python(A, B, C, D, v0, ε, Δ_y, (0, 0), (False, False))\n",
    "\n",
    "        rhs_error = A*v0 + B*v0_dy + C*v0_dyy + D\n",
    "        rhs_error = np.max(abs(rhs_error))\n",
    "        lhs_error = np.max(abs((v0 - v_old)/ϵ))\n",
    "        error = lhs_error\n",
    "        count += 1\n",
    "        if print_all:\n",
    "            print(\"Iteration %s: LHS Error: %s; RHS Error %s\" % (count, lhs_error, rhs_error))\n",
    "\n",
    "    h = -(v0_dy+(η-1)/δ*d_Λ)*e_tilde*σ_y/ξ_1m\n",
    "    πd = g / np.sum(πd_o * g, axis=0) * πd_o\n",
    "\n",
    "    print(\"Converged. Total iteration %s: LHS Error: %s; RHS Error %s\" % (count, lhs_error, rhs_error))     \n",
    "    res = {'v0': v0,\n",
    "           'v0_dy': v0_dy,\n",
    "           'v0_dyy': v0_dyy,\n",
    "           'e_tilde': e_tilde,\n",
    "           'y_grid': y_grid,\n",
    "           'intensity': intensity,\n",
    "           'πc': πc,\n",
    "           'πd': πd,\n",
    "           'g': g,\n",
    "           'h': h,\n",
    "           'θ': θ[:, 0],\n",
    "           'σ_y': σ_y}\n",
    "    return res"
   ]
  },
  {
   "cell_type": "code",
   "execution_count": 6,
   "metadata": {},
   "outputs": [
    {
     "name": "stdout",
     "output_type": "stream",
     "text": [
      "Iteration 1: LHS Error: 0.1717793407819771; RHS Error 0.17169171199011554\n",
      "Iteration 2: LHS Error: 0.1336327444710813; RHS Error 0.13445619987178814\n",
      "Iteration 3: LHS Error: 0.11011432631811757; RHS Error 0.11132107315089414\n",
      "Iteration 4: LHS Error: 0.09352555487610292; RHS Error 0.0953568513285456\n",
      "Iteration 5: LHS Error: 0.08143919549101819; RHS Error 0.08362796926174446\n",
      "Iteration 6: LHS Error: 0.07237639523856709; RHS Error 0.07475873669383788\n",
      "Iteration 7: LHS Error: 0.06542688366094795; RHS Error 0.0678329967879167\n",
      "Iteration 8: LHS Error: 0.059898689685405904; RHS Error 0.062188917491376366\n",
      "Iteration 9: LHS Error: 0.05533013709374501; RHS Error 0.057810458745288874\n",
      "Iteration 10: LHS Error: 0.05145666389270487; RHS Error 0.05410342225933586\n",
      "Iteration 11: LHS Error: 0.04839003568698219; RHS Error 0.05092826546730657\n",
      "Iteration 12: LHS Error: 0.04555875413987753; RHS Error 0.04830009023383609\n",
      "Iteration 13: LHS Error: 0.04336695436456073; RHS Error 0.04600389531881953\n",
      "Iteration 14: LHS Error: 0.04129250831235631; RHS Error 0.043863478594419136\n",
      "Iteration 15: LHS Error: 0.03951631790317256; RHS Error 0.04224359698919139\n",
      "Iteration 16: LHS Error: 0.03803946766191202; RHS Error 0.04057667907227305\n",
      "Iteration 17: LHS Error: 0.03648526363136717; RHS Error 0.03905846719563705\n",
      "Iteration 18: LHS Error: 0.03535437324134416; RHS Error 0.03791349692823652\n",
      "Iteration 19: LHS Error: 0.034274827518722684; RHS Error 0.036707273480856555\n",
      "Iteration 20: LHS Error: 0.03311107365957067; RHS Error 0.03544029735541769\n",
      "Iteration 21: LHS Error: 0.03223462047910286; RHS Error 0.03448342988426699\n",
      "Iteration 22: LHS Error: 0.031459973413017206; RHS Error 0.03363317977915219\n",
      "Iteration 23: LHS Error: 0.030601720102750196; RHS Error 0.032715342724537105\n",
      "Iteration 24: LHS Error: 0.02972909940760604; RHS Error 0.03172739626891245\n",
      "Iteration 25: LHS Error: 0.02918743131809043; RHS Error 0.03077943933885613\n",
      "Iteration 26: LHS Error: 0.028567278875438085; RHS Error 0.030142695427713147\n",
      "Iteration 27: LHS Error: 0.027864921956938904; RHS Error 0.029435577982502053\n",
      "Iteration 28: LHS Error: 0.027209335554400527; RHS Error 0.028654093180559077\n",
      "Iteration 29: LHS Error: 0.02676524373064315; RHS Error 0.027793305348807112\n",
      "Iteration 30: LHS Error: 0.026246324116991238; RHS Error 0.02684757472889569\n",
      "Iteration 31: LHS Error: 0.025648347413774086; RHS Error 0.026291814733189516\n",
      "Iteration 32: LHS Error: 0.025096431494870064; RHS Error 0.025663970523474616\n",
      "Iteration 33: LHS Error: 0.024704874881516847; RHS Error 0.02495679213834668\n",
      "Iteration 34: LHS Error: 0.024242579281573695; RHS Error 0.024165068825782506\n",
      "Iteration 35: LHS Error: 0.023705379542574123; RHS Error 0.023283793676932035\n",
      "Iteration 36: LHS Error: 0.02325498822730543; RHS Error 0.0225450903026942\n",
      "Iteration 37: LHS Error: 0.022884677034626266; RHS Error 0.021941102358466663\n",
      "Iteration 38: LHS Error: 0.02244759734439028; RHS Error 0.021256047044510284\n",
      "Iteration 39: LHS Error: 0.02193994949251743; RHS Error 0.02065828442376172\n",
      "Iteration 40: LHS Error: 0.021617136574920037; RHS Error 0.020229833731067532\n",
      "Iteration 41: LHS Error: 0.021249739533116596; RHS Error 0.019935282769306752\n",
      "Iteration 42: LHS Error: 0.020819173003962632; RHS Error 0.01958334395964679\n",
      "Iteration 43: LHS Error: 0.02045012271066371; RHS Error 0.01917048258783207\n",
      "Iteration 44: LHS Error: 0.020131348192227838; RHS Error 0.018880721138408482\n",
      "Iteration 45: LHS Error: 0.019755613168919828; RHS Error 0.01857374086576174\n",
      "Iteration 46: LHS Error: 0.01938020735228707; RHS Error 0.018211966253465557\n",
      "Iteration 47: LHS Error: 0.019095259290338618; RHS Error 0.017909572481282773\n",
      "Iteration 48: LHS Error: 0.01875850831266379; RHS Error 0.017633927569503487\n",
      "Iteration 49: LHS Error: 0.018398698982560413; RHS Error 0.017308506768384004\n",
      "Iteration 50: LHS Error: 0.018136994051198174; RHS Error 0.017015125026412142\n",
      "Iteration 51: LHS Error: 0.017827766835474268; RHS Error 0.016761048258506907\n",
      "Iteration 52: LHS Error: 0.017495363714201906; RHS Error 0.016461325863513034\n",
      "Iteration 53: LHS Error: 0.01724919168697392; RHS Error 0.016188954665658596\n",
      "Iteration 54: LHS Error: 0.016959065736052104; RHS Error 0.015949304959107923\n",
      "Iteration 55: LHS Error: 0.016660057369230152; RHS Error 0.015667435319923848\n",
      "Iteration 56: LHS Error: 0.016423699405246905; RHS Error 0.015422510973662602\n",
      "Iteration 57: LHS Error: 0.016146385555197096; RHS Error 0.015191970671225907\n",
      "Iteration 58: LHS Error: 0.015883388746324778; RHS Error 0.014922080347063178\n",
      "Iteration 59: LHS Error: 0.01565253116210541; RHS Error 0.014707750895439672\n",
      "Iteration 60: LHS Error: 0.015383263914523937; RHS Error 0.014482293662142317\n",
      "Iteration 61: LHS Error: 0.015156937709792873; RHS Error 0.014227557495578885\n",
      "Iteration 62: LHS Error: 0.014928277989140426; RHS Error 0.014037373011077141\n",
      "Iteration 63: LHS Error: 0.014669362866776003; RHS Error 0.013813905965698342\n",
      "Iteration 64: LHS Error: 0.014473272444711638; RHS Error 0.013597102965218023\n",
      "Iteration 65: LHS Error: 0.014244251921248674; RHS Error 0.013404872105814307\n",
      "Iteration 66: LHS Error: 0.014025844780880092; RHS Error 0.013180993132304523\n",
      "Iteration 67: LHS Error: 0.013825881959535824; RHS Error 0.013000475188167097\n",
      "Iteration 68: LHS Error: 0.013594502767637406; RHS Error 0.012804510638063898\n",
      "Iteration 69: LHS Error: 0.013414327788583646; RHS Error 0.01260552079253728\n",
      "Iteration 70: LHS Error: 0.013209075882699262; RHS Error 0.012432283502191915\n",
      "Iteration 71: LHS Error: 0.013013362196137912; RHS Error 0.012231257424761784\n",
      "Iteration 72: LHS Error: 0.012829529964253794; RHS Error 0.012068214527077528\n",
      "Iteration 73: LHS Error: 0.012625199042867852; RHS Error 0.01188784288221452\n",
      "Iteration 74: LHS Error: 0.012458927014238341; RHS Error 0.011714693075056626\n",
      "Iteration 75: LHS Error: 0.012266698030881429; RHS Error 0.011551326326796917\n",
      "Iteration 76: LHS Error: 0.012098843864252196; RHS Error 0.011373069483461083\n",
      "Iteration 77: LHS Error: 0.011923841355968356; RHS Error 0.011223697400467171\n",
      "Iteration 78: LHS Error: 0.011751780529090983; RHS Error 0.011051145318176116\n",
      "Iteration 79: LHS Error: 0.01158990036062102; RHS Error 0.010906200806956458\n",
      "Iteration 80: LHS Error: 0.011416364095265585; RHS Error 0.010746672496707521\n",
      "Iteration 81: LHS Error: 0.011266060223929397; RHS Error 0.010599386430452828\n",
      "Iteration 82: LHS Error: 0.011094728168175916; RHS Error 0.01045065890228148\n",
      "Iteration 83: LHS Error: 0.010952882143961507; RHS Error 0.010303495164396693\n",
      "Iteration 84: LHS Error: 0.01079016304518099; RHS Error 0.01016372926190607\n",
      "Iteration 85: LHS Error: 0.010650343388828531; RHS Error 0.010018406269585771\n",
      "Iteration 86: LHS Error: 0.010496339186073733; RHS Error 0.009886047577617851\n",
      "Iteration 87: LHS Error: 0.010358339358155; RHS Error 0.009743843399149375\n",
      "Iteration 88: LHS Error: 0.01021157155815855; RHS Error 0.009617579099872473\n",
      "Iteration 89: LHS Error: 0.010076570646896599; RHS Error 0.009479409943523587\n",
      "Iteration 90: LHS Error: 0.009935779828981861; RHS Error 0.009358123875109904\n",
      "Iteration 91: LHS Error: 0.009804630714352225; RHS Error 0.009224632007860903\n",
      "Iteration 92: LHS Error: 0.009669881783460621; RHS Error 0.009107357102810729\n",
      "Iteration 93: LHS Error: 0.009542112896220534; RHS Error 0.008979056392338196\n",
      "Iteration 94: LHS Error: 0.009411130922905464; RHS Error 0.008864980691192577\n",
      "Iteration 95: LHS Error: 0.009289245087092723; RHS Error 0.008742053533402946\n",
      "Iteration 96: LHS Error: 0.009160544196369802; RHS Error 0.008630534860850525\n",
      "Iteration 97: LHS Error: 0.009043777131432229; RHS Error 0.008513156592585669\n",
      "Iteration 98: LHS Error: 0.008917541610752977; RHS Error 0.00840350654782833\n",
      "Iteration 99: LHS Error: 0.008806092567102741; RHS Error 0.008291741102535846\n",
      "Iteration 100: LHS Error: 0.008684518493258242; RHS Error 0.008183429134621584\n",
      "Iteration 101: LHS Error: 0.008575674920217491; RHS Error 0.008077276759368375\n",
      "Iteration 102: LHS Error: 0.008460405046011754; RHS Error 0.007969840701044673\n",
      "Iteration 103: LHS Error: 0.00835200081012566; RHS Error 0.007869250379953618\n",
      "Iteration 104: LHS Error: 0.00824289791844146; RHS Error 0.007762285213273587\n",
      "Iteration 105: LHS Error: 0.00813456578556826; RHS Error 0.007667167156131881\n",
      "Iteration 106: LHS Error: 0.008031469011446468; RHS Error 0.007565486363889491\n",
      "Iteration 107: LHS Error: 0.007922887620872565; RHS Error 0.007470553176985965\n",
      "Iteration 108: LHS Error: 0.007825618840912707; RHS Error 0.007374695896828452\n",
      "Iteration 109: LHS Error: 0.007722905463420027; RHS Error 0.0072789570278504745\n",
      "Iteration 110: LHS Error: 0.007624875863871949; RHS Error 0.007188717552424437\n",
      "Iteration 111: LHS Error: 0.0075281318603055425; RHS Error 0.007094208939971709\n",
      "Iteration 112: LHS Error: 0.0074287959843504225; RHS Error 0.007007119377882259\n",
      "Iteration 113: LHS Error: 0.0073377780229408884; RHS Error 0.006918238527983858\n",
      "Iteration 114: LHS Error: 0.007243132435936772; RHS Error 0.00682949542716417\n",
      "Iteration 115: LHS Error: 0.007151429467321169; RHS Error 0.0067460008396456675\n",
      "Iteration 116: LHS Error: 0.0070624158702310424; RHS Error 0.006659637901940969\n",
      "Iteration 117: LHS Error: 0.006970846815278708; RHS Error 0.006577120994352405\n",
      "Iteration 118: LHS Error: 0.006885060841889334; RHS Error 0.006495992020690386\n",
      "Iteration 119: LHS Error: 0.006798921158676752; RHS Error 0.0064128484798007535\n",
      "Iteration 120: LHS Error: 0.00671100181831541; RHS Error 0.006335112056856856\n",
      "Iteration 121: LHS Error: 0.0066297471523166784; RHS Error 0.006256974687473139\n",
      "Iteration 122: LHS Error: 0.006546993320178274; RHS Error 0.006177440915505386\n",
      "Iteration 123: LHS Error: 0.006463021556526005; RHS Error 0.006103312042156764\n",
      "Iteration 124: LHS Error: 0.006385169844306926; RHS Error 0.006028516152186171\n",
      "Iteration 125: LHS Error: 0.006306068688949118; RHS Error 0.0059527713053398115\n",
      "Iteration 126: LHS Error: 0.006226155671189115; RHS Error 0.005881290340986563\n",
      "Iteration 127: LHS Error: 0.006150780947800083; RHS Error 0.00580999680741192\n",
      "Iteration 128: LHS Error: 0.006075431716553226; RHS Error 0.005738077256556361\n",
      "Iteration 129: LHS Error: 0.005999562829941407; RHS Error 0.005668453000727103\n",
      "Iteration 130: LHS Error: 0.005925899952288649; RHS Error 0.005600693853489651\n",
      "Iteration 131: LHS Error: 0.005854288014898845; RHS Error 0.005532540298023254\n",
      "Iteration 132: LHS Error: 0.005782364897877645; RHS Error 0.005464254402374739\n",
      "Iteration 133: LHS Error: 0.005710380107499358; RHS Error 0.005399836202565685\n",
      "Iteration 134: LHS Error: 0.005641812209682406; RHS Error 0.005335326239958735\n"
     ]
    },
    {
     "name": "stdout",
     "output_type": "stream",
     "text": [
      "Iteration 135: LHS Error: 0.005573681859283308; RHS Error 0.005270799772460026\n",
      "Iteration 136: LHS Error: 0.005505590865772625; RHS Error 0.005206640376921805\n",
      "Iteration 137: LHS Error: 0.0054377127033111705; RHS Error 0.005145611085389239\n",
      "Iteration 138: LHS Error: 0.005372654125070042; RHS Error 0.005084641666832972\n",
      "Iteration 139: LHS Error: 0.0053082332584417635; RHS Error 0.0050238816239401435\n",
      "Iteration 140: LHS Error: 0.005244059710841853; RHS Error 0.0049634577338430255\n",
      "Iteration 141: LHS Error: 0.00518025495458474; RHS Error 0.004904968310440544\n",
      "Iteration 142: LHS Error: 0.005117471347645175; RHS Error 0.0048475703397411266\n",
      "Iteration 143: LHS Error: 0.005056747330270728; RHS Error 0.004790509002501005\n",
      "Iteration 144: LHS Error: 0.004996385731414588; RHS Error 0.0047338733645850214\n",
      "Iteration 145: LHS Error: 0.004936472037726958; RHS Error 0.004677738197009791\n",
      "Iteration 146: LHS Error: 0.004877078006874314; RHS Error 0.004622787543143492\n",
      "Iteration 147: LHS Error: 0.004818263366075826; RHS Error 0.0045692369237899585\n",
      "Iteration 148: LHS Error: 0.004761045046521417; RHS Error 0.004516148795425674\n",
      "Iteration 149: LHS Error: 0.004704757118441538; RHS Error 0.004463575488700189\n",
      "Iteration 150: LHS Error: 0.0046489967690663825; RHS Error 0.004411560158168543\n",
      "Iteration 151: LHS Error: 0.00459380543474186; RHS Error 0.004360137910134801\n",
      "Iteration 152: LHS Error: 0.004539216758873366; RHS Error 0.004309336794248178\n",
      "Iteration 153: LHS Error: 0.00448525756887852; RHS Error 0.004259421481049908\n",
      "Iteration 154: LHS Error: 0.004431948707728672; RHS Error 0.004210625731234624\n",
      "Iteration 155: LHS Error: 0.004379305769701247; RHS Error 0.004162385162927509\n",
      "Iteration 156: LHS Error: 0.004327786162768632; RHS Error 0.004114718146107629\n",
      "Iteration 157: LHS Error: 0.004277006145354534; RHS Error 0.004101403318259603\n",
      "Iteration 158: LHS Error: 0.004226818113708397; RHS Error 0.004088678532619433\n",
      "Iteration 159: LHS Error: 0.004177231136741177; RHS Error 0.004072514916799053\n",
      "Iteration 160: LHS Error: 0.004128249970798414; RHS Error 0.004052794855090969\n",
      "Iteration 161: LHS Error: 0.004079877134580023; RHS Error 0.004029403269642393\n",
      "Iteration 162: LHS Error: 0.004032109761367586; RHS Error 0.004002229372212077\n",
      "Iteration 163: LHS Error: 0.003984934628024739; RHS Error 0.003971168624861535\n",
      "Iteration 164: LHS Error: 0.00393831535239908; RHS Error 0.003936124900300278\n",
      "Iteration 165: LHS Error: 0.003892153969493606; RHS Error 0.0038970128246527125\n",
      "Iteration 166: LHS Error: 0.0038441878148072206; RHS Error 0.0038537602762790946\n",
      "Iteration 167: LHS Error: 0.0037919465197271407; RHS Error 0.0038063110042345777\n",
      "Iteration 168: LHS Error: 0.003735413706618118; RHS Error 0.003754627319323106\n",
      "Iteration 169: LHS Error: 0.003674597132981461; RHS Error 0.003698692799783229\n",
      "Iteration 170: LHS Error: 0.003609531233068175; RHS Error 0.003638514943115914\n",
      "Iteration 171: LHS Error: 0.0035402794396555137; RHS Error 0.0035741276860083715\n",
      "Iteration 172: LHS Error: 0.003466936193945891; RHS Error 0.0035055937064288056\n",
      "Iteration 173: LHS Error: 0.003389628549534507; RHS Error 0.0034330064166819135\n",
      "Iteration 174: LHS Error: 0.0033085172786577743; RHS Error 0.003356491554214608\n",
      "Iteration 175: LHS Error: 0.0032237973956821264; RHS Error 0.003276208279020587\n",
      "Iteration 176: LHS Error: 0.003135698024650857; RHS Error 0.0031923496931997863\n",
      "Iteration 177: LHS Error: 0.0030444815546415427; RHS Error 0.0031051427099845486\n",
      "Iteration 178: LHS Error: 0.0029504420482941995; RHS Error 0.003014847216245606\n",
      "Iteration 179: LHS Error: 0.0028539028945289147; RHS Error 0.002921754494028053\n",
      "Iteration 180: LHS Error: 0.0027552137249866604; RHS Error 0.0028261848921514593\n",
      "Iteration 181: LHS Error: 0.002654746643574235; RHS Error 0.0027885901722131817\n",
      "Iteration 182: LHS Error: 0.0025528918480652862; RHS Error 0.0027886265738290422\n",
      "Iteration 183: LHS Error: 0.002450052749940923; RHS Error 0.002788657857140872\n",
      "Iteration 184: LHS Error: 0.0023466407219050467; RHS Error 0.002788683900809441\n",
      "Iteration 185: LHS Error: 0.0022430696199613465; RHS Error 0.0027887045463147672\n",
      "Iteration 186: LHS Error: 0.002139750237348359; RHS Error 0.0027887195987773353\n",
      "Iteration 187: LHS Error: 0.002037084850564419; RHS Error 0.00278872882224393\n",
      "Iteration 188: LHS Error: 0.0019354620122893351; RHS Error 0.0027887319295180277\n",
      "Iteration 189: LHS Error: 0.0018352517335324947; RHS Error 0.0027887285678817667\n",
      "Iteration 190: LHS Error: 0.0017368011780245496; RHS Error 0.0027887183033837443\n",
      "Iteration 191: LHS Error: 0.0016404309678828; RHS Error 0.002788700607834302\n",
      "Iteration 192: LHS Error: 0.0015464321719278473; RHS Error 0.002788674853051558\n",
      "Iteration 193: LHS Error: 0.0014550640191526298; RHS Error 0.002788640316961244\n",
      "Iteration 194: LHS Error: 0.0013665523512162991; RHS Error 0.002788596204731139\n",
      "Iteration 195: LHS Error: 0.0012810888008409904; RHS Error 0.002788541685720826\n",
      "Iteration 196: LHS Error: 0.0011988306593551101; RHS Error 0.002788475944417841\n",
      "Iteration 197: LHS Error: 0.0011199013766889365; RHS Error 0.0027883982405420907\n",
      "Iteration 198: LHS Error: 0.0010443916221021254; RHS Error 0.0027883079718091855\n",
      "Iteration 199: LHS Error: 0.00097236082334895; RHS Error 0.002788204731984552\n",
      "Iteration 200: LHS Error: 0.0009038390965674381; RHS Error 0.002788088357619435\n",
      "Iteration 201: LHS Error: 0.000838829477594949; RHS Error 0.0027879589584910505\n",
      "Iteration 202: LHS Error: 0.0007773103681483207; RHS Error 0.002787816929300621\n",
      "Iteration 203: LHS Error: 0.000719238115463483; RHS Error 0.002787662942390544\n",
      "Iteration 204: LHS Error: 0.000664549651916424; RHS Error 0.0027874979236556727\n",
      "Iteration 205: LHS Error: 0.0006131651301428676; RHS Error 0.0027873230150497544\n",
      "Iteration 206: LHS Error: 0.0005649904991713584; RHS Error 0.002787139528127064\n",
      "Iteration 207: LHS Error: 0.0005199199771110941; RHS Error 0.0027869488930384323\n",
      "Iteration 208: LHS Error: 0.0004778383858932145; RHS Error 0.0027867526071472803\n",
      "Iteration 209: LHS Error: 0.0004386233225268654; RHS Error 0.00278655218660738\n",
      "Iteration 210: LHS Error: 0.00040214714987563127; RHS Error 0.002786349123403878\n",
      "Iteration 211: LHS Error: 0.0003682787970289425; RHS Error 0.002786144849404773\n",
      "Iteration 212: LHS Error: 0.0003368853656677828; RHS Error 0.0027859407081272936\n",
      "Iteration 213: LHS Error: 0.0003078335438306823; RHS Error 0.002785737934197695\n",
      "Iteration 214: LHS Error: 0.00028099083268973146; RHS Error 0.002785537640007267\n",
      "Iteration 215: LHS Error: 0.00025622659485513566; RHS Error 0.0027853408086858933\n",
      "Iteration 216: LHS Error: 0.00023341293532741503; RHS Error 0.0027851482923528445\n",
      "Iteration 217: LHS Error: 0.00021242542673860498; RHS Error 0.0027849608143978993\n",
      "Iteration 218: LHS Error: 0.00019314369576939328; RHS Error 0.002784778975371327\n",
      "Iteration 219: LHS Error: 0.00017545187520884298; RHS Error 0.002784603260081689\n",
      "Iteration 220: LHS Error: 0.00015923894977731834; RHS Error 0.0027844340470456613\n",
      "Iteration 221: LHS Error: 0.0001443989954568181; RHS Error 0.002784271618045432\n",
      "Iteration 222: LHS Error: 0.000130831332806558; RHS Error 0.0027841161680621784\n",
      "Iteration 223: LHS Error: 0.00011844060398669143; RHS Error 0.002783967815036488\n",
      "Iteration 224: LHS Error: 0.00010713678493790013; RHS Error 0.00278382660920147\n",
      "Iteration 225: LHS Error: 9.683514297798013e-05; RHS Error 0.0027836925418644465\n",
      "Iteration 226: LHS Error: 8.745614912530897e-05; RHS Error 0.002783565553529384\n",
      "Iteration 227: LHS Error: 7.8925353514947e-05; RHS Error 0.002783445541331468\n",
      "Iteration 228: LHS Error: 7.117323136895948e-05; RHS Error 0.0027833323658043585\n",
      "Iteration 229: LHS Error: 6.413500604907085e-05; RHS Error 0.002783225856974353\n",
      "Iteration 230: LHS Error: 5.7750454932836703e-05; RHS Error 0.0027831258198566453\n",
      "Iteration 231: LHS Error: 5.196370311555398e-05; RHS Error 0.002783032039356162\n",
      "Iteration 232: LHS Error: 4.6723009164750806e-05; RHS Error 0.002782944284670623\n",
      "Iteration 233: LHS Error: 4.198054654036554e-05; RHS Error 0.0027828623131762736\n",
      "Iteration 234: LHS Error: 3.7692183771476095e-05; RHS Error 0.0027827858738966177\n",
      "Iteration 235: LHS Error: 3.381726588802536e-05; RHS Error 0.002782714710555592\n",
      "Iteration 236: LHS Error: 3.0318399180551125e-05; RHS Error 0.0027826485642643214\n",
      "Iteration 237: LHS Error: 2.71612409621369e-05; RHS Error 0.0027825871758528353\n",
      "Iteration 238: LHS Error: 2.431429569504928e-05; RHS Error 0.002782530287911776\n",
      "Iteration 239: LHS Error: 2.174871842175463e-05; RHS Error 0.0027824776465324857\n",
      "Iteration 240: LHS Error: 1.943812632987374e-05; RHS Error 0.002782429002779273\n",
      "Iteration 241: LHS Error: 1.735841894046075e-05; RHS Error 0.002782384113933417\n",
      "Iteration 242: LHS Error: 1.548760728464771e-05; RHS Error 0.0027823427445155674\n",
      "Iteration 243: LHS Error: 1.3805652217868669e-05; RHS Error 0.0027823046670941085\n",
      "Iteration 244: LHS Error: 1.2294311976468464e-05; RHS Error 0.0027822696629373894\n",
      "Iteration 245: LHS Error: 1.0936998849686574e-05; RHS Error 0.002782237522475327\n",
      "Iteration 246: LHS Error: 9.718644881751004e-06; RHS Error 0.0027822080456477924\n",
      "Iteration 247: LHS Error: 8.6255763465104e-06; RHS Error 0.002782181042096085\n",
      "Iteration 248: LHS Error: 7.645396717492758e-06; RHS Error 0.002782156331262553\n",
      "Iteration 249: LHS Error: 6.766877855390874e-06; RHS Error 0.0027821337423874493\n",
      "Iteration 250: LHS Error: 5.97985902484055e-06; RHS Error 0.0027821131144117814\n",
      "Iteration 251: LHS Error: 5.275153376338437e-06; RHS Error 0.0027820942958305325\n",
      "Iteration 252: LHS Error: 4.644461558456214e-06; RHS Error 0.0027820771444662107\n",
      "Iteration 253: LHS Error: 4.080291979846606e-06; RHS Error 0.002782061527207093\n",
      "Iteration 254: LHS Error: 3.575887444817738e-06; RHS Error 0.0027820473197079504\n",
      "Iteration 255: LHS Error: 3.1251576846358375e-06; RHS Error 0.002782034406042473\n",
      "Iteration 256: LHS Error: 2.722617431949459e-06; RHS Error 0.0027820226783579136\n",
      "Iteration 257: LHS Error: 2.363329698162886e-06; RHS Error 0.002782012036502454\n",
      "Iteration 258: LHS Error: 2.042853874506534e-06; RHS Error 0.0027820023876389058\n",
      "Iteration 259: LHS Error: 1.757198285545769e-06; RHS Error 0.002781993645862492\n",
      "Iteration 260: LHS Error: 1.5027769366682264e-06; RHS Error 0.0027819857318127847\n",
      "Iteration 261: LHS Error: 1.2763700532048006e-06; RHS Error 0.0027819785722922527\n",
      "Iteration 262: LHS Error: 1.142372253681856e-06; RHS Error 0.0027819720998916997\n",
      "Iteration 263: LHS Error: 1.1267817405791192e-06; RHS Error 0.0027819662526178818\n"
     ]
    },
    {
     "name": "stdout",
     "output_type": "stream",
     "text": [
      "Iteration 264: LHS Error: 1.1097694709860662e-06; RHS Error 0.002781960973543822\n",
      "Iteration 265: LHS Error: 1.0946254143107126e-06; RHS Error 0.002781956210461574\n",
      "Iteration 266: LHS Error: 1.078240155827359e-06; RHS Error 0.002781951915557343\n",
      "Iteration 267: LHS Error: 1.0636028107136042e-06; RHS Error 0.0027819480450900907\n",
      "Iteration 268: LHS Error: 1.04774680087516e-06; RHS Error 0.002781944559099331\n",
      "Iteration 269: LHS Error: 1.0336586773185275e-06; RHS Error 0.0027819414211184626\n",
      "Iteration 270: LHS Error: 1.0182463756613913e-06; RHS Error 0.0027819385979064998\n",
      "Iteration 271: LHS Error: 1.0047355751829912e-06; RHS Error 0.002781936059190089\n",
      "Iteration 272: LHS Error: 9.898041706257743e-07; RHS Error 0.0027819337774376077\n",
      "Iteration 273: LHS Error: 9.767753672562662e-07; RHS Error 0.0027819317276301797\n",
      "Iteration 274: LHS Error: 9.625813124358729e-07; RHS Error 0.0027819298870517956\n",
      "Iteration 275: LHS Error: 9.49720342813265e-07; RHS Error 0.0027819282351020935\n",
      "Iteration 276: LHS Error: 9.362531501189153e-07; RHS Error 0.0027819267531136727\n",
      "Iteration 277: LHS Error: 9.235140665531105e-07; RHS Error 0.002781925424185462\n",
      "Iteration 278: LHS Error: 9.107580796197112e-07; RHS Error 0.0027819242330270125\n",
      "Iteration 279: LHS Error: 8.981019976594951e-07; RHS Error 0.0027819231658158944\n",
      "Iteration 280: LHS Error: 8.860375850794355e-07; RHS Error 0.0027819222100684687\n",
      "Iteration 281: LHS Error: 8.734319489889231e-07; RHS Error 0.0027819213545193094\n",
      "Iteration 282: LHS Error: 8.62036470650196e-07; RHS Error 0.002781920589006316\n",
      "Iteration 283: LHS Error: 8.499245778281761e-07; RHS Error 0.002781919904364473\n",
      "Iteration 284: LHS Error: 8.387030039358478e-07; RHS Error 0.002781919292345683\n",
      "Iteration 285: LHS Error: 8.272979603596298e-07; RHS Error 0.0027819187455230335\n",
      "Iteration 286: LHS Error: 8.159889768322159e-07; RHS Error 0.002781918257211677\n",
      "Iteration 287: LHS Error: 8.05257247549207e-07; RHS Error 0.00278191782140097\n",
      "Iteration 288: LHS Error: 7.9403125541333e-07; RHS Error 0.00278191743268999\n",
      "Iteration 289: LHS Error: 7.837576645464139e-07; RHS Error 0.002781917086225702\n",
      "Iteration 290: LHS Error: 7.732108868729881e-07; RHS Error 0.0027819167776531387\n",
      "Iteration 291: LHS Error: 7.627582432334634e-07; RHS Error 0.0027819165030608453\n",
      "Iteration 292: LHS Error: 7.528528662703593e-07; RHS Error 0.002781916258939726\n",
      "Iteration 293: LHS Error: 7.426054846604302e-07; RHS Error 0.0027819160421454076\n",
      "Iteration 294: LHS Error: 7.329209159578909e-07; RHS Error 0.0027819158498604904\n",
      "Iteration 295: LHS Error: 7.233023477937195e-07; RHS Error 0.002781915679558246\n",
      "Iteration 296: LHS Error: 7.134300390454484e-07; RHS Error 0.0027819155289815004\n",
      "Iteration 297: LHS Error: 7.043543881479764e-07; RHS Error 0.0027819153961057483\n",
      "Iteration 298: LHS Error: 6.950884774425958e-07; RHS Error 0.00278191527912474\n",
      "Iteration 299: LHS Error: 6.857340282273583e-07; RHS Error 0.002781915176419167\n",
      "Iteration 300: LHS Error: 6.770360880814508e-07; RHS Error 0.002781915086543414\n",
      "Iteration 301: LHS Error: 6.681627175986193e-07; RHS Error 0.002781915008209686\n",
      "Iteration 302: LHS Error: 6.592504040447977e-07; RHS Error 0.0027819149402676796\n",
      "Iteration 303: LHS Error: 6.509169017121508e-07; RHS Error 0.0027819148816939712\n",
      "Iteration 304: LHS Error: 6.424564777951502e-07; RHS Error 0.0027819148315709197\n",
      "Iteration 305: LHS Error: 6.339052673887124e-07; RHS Error 0.002781914789084579\n",
      "Iteration 306: LHS Error: 6.259306992717484e-07; RHS Error 0.0027819147535153785\n",
      "Iteration 307: LHS Error: 6.178892020258786e-07; RHS Error 0.002781914724215691\n",
      "Iteration 308: LHS Error: 6.097881146693851e-07; RHS Error 0.002781914700611135\n",
      "Iteration 309: LHS Error: 6.020014073904179e-07; RHS Error 0.0027819146822007784\n",
      "Iteration 310: LHS Error: 5.943742946712405e-07; RHS Error 0.0027819146685266125\n",
      "Iteration 311: LHS Error: 5.86711091710157e-07; RHS Error 0.0027819146591905597\n",
      "Iteration 312: LHS Error: 5.790482302536759e-07; RHS Error 0.002781914653833338\n",
      "Iteration 313: LHS Error: 5.718234685758716e-07; RHS Error 0.0027819146521423505\n",
      "Iteration 314: LHS Error: 5.645800493780939e-07; RHS Error 0.0027819146538295564\n",
      "Iteration 315: LHS Error: 5.573363686117716e-07; RHS Error 0.0027819146586441357\n",
      "Iteration 316: LHS Error: 5.501498652193959e-07; RHS Error 0.0027819146663605465\n",
      "Iteration 317: LHS Error: 5.433042686853184e-07; RHS Error 0.00278191467677006\n",
      "Iteration 318: LHS Error: 5.364679296349095e-07; RHS Error 0.0027819146896905303\n",
      "Iteration 319: LHS Error: 5.296544305366524e-07; RHS Error 0.0027819147049518017\n",
      "Iteration 320: LHS Error: 5.228757959940822e-07; RHS Error 0.0027819147223990814\n",
      "Iteration 321: LHS Error: 5.163417644560298e-07; RHS Error 0.0027819147418884985\n",
      "Iteration 322: LHS Error: 5.099121813678664e-07; RHS Error 0.002781914763286583\n",
      "Iteration 323: LHS Error: 5.035193972879881e-07; RHS Error 0.002781914786466118\n",
      "Iteration 324: LHS Error: 4.971721487834202e-07; RHS Error 0.0027819148113066294\n",
      "Iteration 325: LHS Error: 4.908780790735534e-07; RHS Error 0.0027819148376886857\n",
      "Iteration 326: LHS Error: 4.847642087746351e-07; RHS Error 0.002781914865500397\n",
      "Iteration 327: LHS Error: 4.787700449426779e-07; RHS Error 0.002781914894630609\n",
      "Iteration 328: LHS Error: 4.7282645576629534e-07; RHS Error 0.0027819149249671132\n",
      "Iteration 329: LHS Error: 4.669388733447022e-07; RHS Error 0.002781914956405153\n",
      "Iteration 330: LHS Error: 4.61111937521963e-07; RHS Error 0.00278191498883041\n",
      "Iteration 331: LHS Error: 4.553495798198526e-07; RHS Error 0.002781915022134228\n",
      "Iteration 332: LHS Error: 4.4967007051255337e-07; RHS Error 0.0027819150562087835\n",
      "Iteration 333: LHS Error: 4.4415243349860134e-07; RHS Error 0.0027819150909398835\n",
      "Iteration 334: LHS Error: 4.386935334999009e-07; RHS Error 0.0027819151262194405\n",
      "Iteration 335: LHS Error: 4.332960030772881e-07; RHS Error 0.0027819151619320193\n",
      "Iteration 336: LHS Error: 4.2796197741168385e-07; RHS Error 0.0027819151979679435\n",
      "Iteration 337: LHS Error: 4.2269312894305244e-07; RHS Error 0.0027819152342135264\n",
      "Iteration 338: LHS Error: 4.174907335396938e-07; RHS Error 0.0027819152705578706\n",
      "Iteration 339: LHS Error: 4.1235565984010236e-07; RHS Error 0.0027819153068861235\n",
      "Iteration 340: LHS Error: 4.072882804351252e-07; RHS Error 0.002781915343092599\n",
      "Iteration 341: LHS Error: 4.022889932286944e-07; RHS Error 0.0027819153790665657\n",
      "Iteration 342: LHS Error: 3.973577511473536e-07; RHS Error 0.0027819154147011096\n",
      "Iteration 343: LHS Error: 3.92494099443752e-07; RHS Error 0.002781915449892286\n",
      "Iteration 344: LHS Error: 3.876971774730009e-07; RHS Error 0.002781915484537642\n",
      "Iteration 345: LHS Error: 3.829676389344172e-07; RHS Error 0.002781915518542788\n",
      "Iteration 346: LHS Error: 3.783025306347554e-07; RHS Error 0.0027819155518084213\n",
      "Iteration 347: LHS Error: 3.731680449092778e-07; RHS Error 0.0027819155842471674\n",
      "Iteration 348: LHS Error: 3.6759584443046833e-07; RHS Error 0.002781915615772901\n",
      "Iteration 349: LHS Error: 3.6161788852240306e-07; RHS Error 0.0027819156463043393\n",
      "Iteration 350: LHS Error: 3.5526627595316995e-07; RHS Error 0.00278191567576995\n",
      "Iteration 351: LHS Error: 3.485730903918238e-07; RHS Error 0.002781915704097332\n",
      "Iteration 352: LHS Error: 3.415702476416982e-07; RHS Error 0.002781915731226277\n",
      "Iteration 353: LHS Error: 3.3428935797275017e-07; RHS Error 0.0027819157571011832\n",
      "Iteration 354: LHS Error: 3.2676158312483494e-07; RHS Error 0.0027819157816700232\n",
      "Iteration 355: LHS Error: 3.1901753683172274e-07; RHS Error 0.0027819158048956114\n",
      "Iteration 356: LHS Error: 3.11087149817979e-07; RHS Error 0.00278191582673612\n",
      "Iteration 357: LHS Error: 3.029995641057326e-07; RHS Error 0.002781915847163363\n",
      "Iteration 358: LHS Error: 2.9478305840768826e-07; RHS Error 0.002781915866154637\n",
      "Iteration 359: LHS Error: 2.8646494509843023e-07; RHS Error 0.0027819158836942526\n",
      "Iteration 360: LHS Error: 2.7807150626557586e-07; RHS Error 0.0027819158997720167\n",
      "Iteration 361: LHS Error: 2.6962792620821574e-07; RHS Error 0.0027819159143834954\n",
      "Iteration 362: LHS Error: 2.6115823992256537e-07; RHS Error 0.002781915927534906\n",
      "Iteration 363: LHS Error: 2.5268527981126e-07; RHS Error 0.0027819159392311332\n",
      "Iteration 364: LHS Error: 2.442306552552509e-07; RHS Error 0.00278191594948856\n",
      "Iteration 365: LHS Error: 2.3581471264577658e-07; RHS Error 0.002781915958328239\n",
      "Iteration 366: LHS Error: 2.2745652739075695e-07; RHS Error 0.002781915965773568\n",
      "Iteration 367: LHS Error: 2.1917387904579755e-07; RHS Error 0.0027819159718553282\n",
      "Iteration 368: LHS Error: 2.1098327440682851e-07; RHS Error 0.0027819159766093587\n",
      "Iteration 369: LHS Error: 2.0289992708200089e-07; RHS Error 0.0027819159800728244\n",
      "Iteration 370: LHS Error: 1.9493779035428815e-07; RHS Error 0.0027819159822883993\n",
      "Iteration 371: LHS Error: 1.8710955629330783e-07; RHS Error 0.002781915983303164\n",
      "Iteration 372: LHS Error: 1.7942669483517193e-07; RHS Error 0.0027819159831621865\n",
      "Iteration 373: LHS Error: 1.7189947598694744e-07; RHS Error 0.0027819159819191114\n",
      "Iteration 374: LHS Error: 1.6453699736018734e-07; RHS Error 0.002781915979625342\n",
      "Iteration 375: LHS Error: 1.5734723834981423e-07; RHS Error 0.0027819159763359663\n",
      "Iteration 376: LHS Error: 1.5033708145040237e-07; RHS Error 0.002781915972108105\n",
      "Iteration 377: LHS Error: 1.435123673232397e-07; RHS Error 0.002781915966997936\n",
      "Iteration 378: LHS Error: 1.3687794009342724e-07; RHS Error 0.0027819159610650915\n",
      "Iteration 379: LHS Error: 1.3043768376519438e-07; RHS Error 0.0027819159543671784\n",
      "Iteration 380: LHS Error: 1.2419459505252917e-07; RHS Error 0.0027819159469641905\n",
      "Iteration 381: LHS Error: 1.1815081446542308e-07; RHS Error 0.0027819159389110906\n",
      "Iteration 382: LHS Error: 1.1230767160697042e-07; RHS Error 0.0027819159302679627\n",
      "Iteration 383: LHS Error: 1.0666576866213973e-07; RHS Error 0.0027819159210927674\n",
      "Iteration 384: LHS Error: 1.0122499549680697e-07; RHS Error 0.0027819159114365333\n",
      "Iteration 385: LHS Error: 9.598460248838592e-08; RHS Error 0.002781915901358206\n",
      "Iteration 386: LHS Error: 9.094324848746282e-08; RHS Error 0.0027819158909093075\n",
      "Iteration 387: LHS Error: 8.609904611489583e-08; RHS Error 0.002781915880142108\n",
      "Iteration 388: LHS Error: 8.144961061162803e-08; RHS Error 0.0027819158691044926\n",
      "Iteration 389: LHS Error: 7.699210602396533e-08; RHS Error 0.0027819158578465536\n",
      "Iteration 390: LHS Error: 7.272329938246003e-08; RHS Error 0.002781915846411867\n",
      "Iteration 391: LHS Error: 6.863959178815549e-08; RHS Error 0.0027819158348442244\n",
      "Iteration 392: LHS Error: 6.473707969689713e-08; RHS Error 0.0027819158231872365\n",
      "Iteration 393: LHS Error: 6.101156735383029e-08; RHS Error 0.0027819158114789494\n",
      "Iteration 394: LHS Error: 5.74586334067817e-08; RHS Error 0.0027819157997565278\n",
      "Iteration 395: LHS Error: 5.4073657551612087e-08; RHS Error 0.0027819157880540624\n",
      "Iteration 396: LHS Error: 5.0851839183962966e-08; RHS Error 0.0027819157764045546\n",
      "Iteration 397: LHS Error: 4.778826312445972e-08; RHS Error 0.002781915764837793\n",
      "Iteration 398: LHS Error: 4.487789251328422e-08; RHS Error 0.0027819157533807495\n"
     ]
    },
    {
     "name": "stdout",
     "output_type": "stream",
     "text": [
      "Iteration 399: LHS Error: 4.2115624765415305e-08; RHS Error 0.0027819157420595694\n",
      "Iteration 400: LHS Error: 3.94963084460187e-08; RHS Error 0.0027819157308962145\n",
      "Iteration 401: LHS Error: 3.701476813944282e-08; RHS Error 0.0027819157199171773\n",
      "Iteration 402: LHS Error: 3.4665815107359776e-08; RHS Error 0.002781915709132818\n",
      "Iteration 403: LHS Error: 3.244429258586479e-08; RHS Error 0.0027819156985634044\n",
      "Iteration 404: LHS Error: 3.0345070456405665e-08; RHS Error 0.0027819156882244386\n",
      "Iteration 405: LHS Error: 2.8363078108384343e-08; RHS Error 0.002781915678129278\n",
      "Iteration 406: LHS Error: 2.649331065640581e-08; RHS Error 0.0027819156682868176\n",
      "Iteration 407: LHS Error: 2.4730835157527054e-08; RHS Error 0.0027819156587108457\n",
      "Iteration 408: LHS Error: 2.307082969110752e-08; RHS Error 0.002781915649405442\n",
      "Iteration 409: LHS Error: 2.1508561154348627e-08; RHS Error 0.002781915640378392\n",
      "Iteration 410: LHS Error: 2.0039409243111095e-08; RHS Error 0.002781915631631611\n",
      "Iteration 411: LHS Error: 1.8658876221877563e-08; RHS Error 0.0027819156231697825\n",
      "Iteration 412: LHS Error: 1.7362589588287847e-08; RHS Error 0.0027819156149971325\n",
      "Iteration 413: LHS Error: 1.6146314507636816e-08; RHS Error 0.0027819156071140494\n",
      "Iteration 414: LHS Error: 1.5005933384770742e-08; RHS Error 0.0027819155995187014\n",
      "Iteration 415: LHS Error: 1.39374867202946e-08; RHS Error 0.0027819155922108943\n",
      "Iteration 416: LHS Error: 1.2937137583435288e-08; RHS Error 0.002781915585189129\n",
      "Iteration 417: LHS Error: 1.2001205362821565e-08; RHS Error 0.0027819155784487154\n",
      "Iteration 418: LHS Error: 1.1126138232953053e-08; RHS Error 0.002781915571988522\n",
      "Iteration 419: LHS Error: 1.030853624683914e-08; RHS Error 0.0027819155658017486\n",
      "Iteration 420: LHS Error: 9.545138901501105e-09; RHS Error 0.0027819155598856685\n",
      "Converged. Total iteration 420: LHS Error: 9.545138901501105e-09; RHS Error 0.0027819155598856685\n"
     ]
    }
   ],
   "source": [
    "model_paras = (η, δ, θ, πc_o, σ_y, ξ_b, ξ_p, ξ_a, γ_1, γ_2, y_bar_lower, y_bar_upper, ϕ_m, πd_o, r0, r1, τ)\n",
    "model_res = ode_y_jump_intensity_approach(y_grid_short, model_paras=model_paras, v0=v_guess, ϵ=1,\n",
    "                                          tol=1e-8, max_iter=2000, print_all=True)"
   ]
  },
  {
   "cell_type": "code",
   "execution_count": 7,
   "metadata": {},
   "outputs": [
    {
     "data": {
      "text/plain": [
       "Text(0, 0.5, '$\\\\phi(y)$')"
      ]
     },
     "execution_count": 7,
     "metadata": {},
     "output_type": "execute_result"
    },
    {
     "data": {
      "image/png": "[encoded data removed]",
      "text/plain": [
       "<Figure size 576x360 with 1 Axes>"
      ]
     },
     "metadata": {
      "needs_background": "light"
     },
     "output_type": "display_data"
    }
   ],
   "source": [
    "# Figure 1\n",
    "plt.figure(figsize=(8, 5))\n",
    "plt.plot(y_grid_short, model_res['intensity'], color='navy', linewidth=2.5)\n",
    "plt.xlabel('y', fontsize=13)\n",
    "plt.ylabel(r'$\\phi(y)$', fontsize=13)\n",
    "# plt.savefig('../plots/paper_plots/value_function.pdf')"
   ]
  },
  {
   "cell_type": "code",
   "execution_count": 8,
   "metadata": {},
   "outputs": [
    {
     "data": {
      "text/plain": [
       "Text(0, 0.5, '$\\\\phi(y)$')"
      ]
     },
     "execution_count": 8,
     "metadata": {},
     "output_type": "execute_result"
    },
    {
     "data": {
      "image/png": "[encoded data removed]",
      "text/plain": [
       "<Figure size 576x360 with 1 Axes>"
      ]
     },
     "metadata": {
      "needs_background": "light"
     },
     "output_type": "display_data"
    }
   ],
   "source": [
    "# Figure 2\n",
    "certainty_equivalent = - ξ_p * np.log(np.average(np.exp(- 1. / ξ_p * ϕ_post_jump),\n",
    "                                                 axis=0, weights=damage_setting['πd_o']))\n",
    "p10_loc = find_nearest_value(ϕ_post_jump[:, y_bar_upper_loc], np.percentile(ϕ_post_jump[:, y_bar_upper_loc], 10))\n",
    "p33_loc = find_nearest_value(ϕ_post_jump[:, y_bar_upper_loc], np.percentile(ϕ_post_jump[:, y_bar_upper_loc], 33))\n",
    "p50_loc = find_nearest_value(ϕ_post_jump[:, y_bar_upper_loc], np.percentile(ϕ_post_jump[:, y_bar_upper_loc], 50))\n",
    "p67_loc = find_nearest_value(ϕ_post_jump[:, y_bar_upper_loc], np.percentile(ϕ_post_jump[:, y_bar_upper_loc], 67))\n",
    "p90_loc = find_nearest_value(ϕ_post_jump[:, y_bar_upper_loc], np.percentile(ϕ_post_jump[:, y_bar_upper_loc], 90))\n",
    "\n",
    "plt.figure(figsize=(8, 5))\n",
    "\n",
    "plt.plot(y_grid_short, model_res['v0'], color='navy', linewidth=2.5, label='prior to jump')\n",
    "plt.plot(y_grid_long[y_grid_long>=y_bar_upper], certainty_equivalent[y_grid_long>=y_bar_upper],\n",
    "         color='navy', linewidth=2.5, linestyle='dashed', label='post jump, certainty equivalent')\n",
    "plt.plot(y_grid_long[y_grid_long>=y_bar_upper], ϕ_post_jump[p10_loc][y_grid_long>=y_bar_upper],\n",
    "         linewidth=2.5, label='.10 percentile')\n",
    "plt.plot(y_grid_long[y_grid_long>=y_bar_upper], ϕ_post_jump[p33_loc][y_grid_long>=y_bar_upper],\n",
    "         linewidth=2.5, label='.33 percentile')\n",
    "plt.plot(y_grid_long[y_grid_long>=y_bar_upper], ϕ_post_jump[p50_loc][y_grid_long>=y_bar_upper],\n",
    "         linewidth=2.5, label='.50 percentile')\n",
    "plt.plot(y_grid_long[y_grid_long>=y_bar_upper], ϕ_post_jump[p67_loc][y_grid_long>=y_bar_upper],\n",
    "         linewidth=2.5, label='.67 percentile')\n",
    "plt.plot(y_grid_long[y_grid_long>=y_bar_upper], ϕ_post_jump[p90_loc][y_grid_long>=y_bar_upper],\n",
    "         linewidth=2.5, label='.90 percentile')\n",
    "\n",
    "y_min = np.min(ϕ_post_jump)*1.2\n",
    "y_max = np.max(ϕ_post_jump)*1.2\n",
    "plt.vlines(2., ymin=y_min, ymax=y_max, color='black', linestyle='dashed', linewidth=2.)\n",
    "plt.xlim(0, 3.)\n",
    "plt.ylim(y_min, y_max)\n",
    "plt.legend(frameon=False)\n",
    "plt.xlabel('y', fontsize=13)\n",
    "plt.ylabel(r'$\\phi(y)$', fontsize=13)\n",
    "# plt.savefig('../plots/paper_plots/value_function.pdf')"
   ]
  },
  {
   "cell_type": "code",
   "execution_count": 9,
   "metadata": {},
   "outputs": [
    {
     "data": {
      "image/png": "[encoded data removed]",
      "text/plain": [
       "<Figure size 576x360 with 1 Axes>"
      ]
     },
     "metadata": {
      "needs_background": "light"
     },
     "output_type": "display_data"
    }
   ],
   "source": [
    "# Figure 3\n",
    "plt.figure(figsize=(8, 5))\n",
    "plt.hist(ϕ_m[:, -1], bins=20, weights=damage_setting['πd_o'])\n",
    "plt.xlabel('Temperature anomaly', fontsize=13)\n",
    "plt.show()"
   ]
  },
  {
   "cell_type": "code",
   "execution_count": 10,
   "metadata": {},
   "outputs": [
    {
     "data": {
      "image/png": "[encoded data removed]",
      "text/plain": [
       "<Figure size 576x360 with 1 Axes>"
      ]
     },
     "metadata": {
      "needs_background": "light"
     },
     "output_type": "display_data"
    }
   ],
   "source": [
    "plt.figure(figsize=(8, 5))\n",
    "plt.plot(y_grid_short, model_res['e_tilde'], linewidth=2.5)\n",
    "plt.ylim(0, None)\n",
    "plt.xlabel('Temperature anomaly', fontsize=13)\n",
    "plt.show()"
   ]
  },
  {
   "cell_type": "markdown",
   "metadata": {},
   "source": [
    "## Simulation"
   ]
  },
  {
   "cell_type": "code",
   "execution_count": 11,
   "metadata": {},
   "outputs": [],
   "source": [
    "def simulation(y_grid, e_grid, h_grid, g_grid, θ=1.86/1000.,\n",
    "               y_start=.5394, T=100, dt=1):\n",
    "    Et = np.zeros(int(T/dt)+1)\n",
    "    yt = np.zeros(int(T/dt)+1)\n",
    "    ht = np.zeros(int(T/dt)+1)\n",
    "    gt = np.zeros((len(g_grid), int(T/dt)+1))\n",
    "    for i in range(int(T/dt)+1):\n",
    "        Et[i] = np.interp(y_start, y_grid, e_grid)\n",
    "        ht[i] = np.interp(y_start, y_grid, h_grid)\n",
    "        for n in range(gt.shape[0]):\n",
    "            gt[n, i] = np.interp(y_start, y_grid, g_grid[n])\n",
    "        yt[i] = y_start\n",
    "        y_start = y_start + Et[i]*θ*dt\n",
    "    return Et, yt, ht, gt"
   ]
  },
  {
   "cell_type": "code",
   "execution_count": 12,
   "metadata": {},
   "outputs": [],
   "source": [
    "e_grid_no_jump = model_res['e_tilde']\n",
    "e_grid_post_jump = np.array([model['e_tilde'] for model in model_list])"
   ]
  },
  {
   "cell_type": "code",
   "execution_count": 15,
   "metadata": {},
   "outputs": [],
   "source": [
    "def simulation_prob(y_grid_short, y_grid_long, e_grid_no_jump, e_grid_jump,\n",
    "                        θ, y0, y_bar_lower, y_bar_upper, r0, r1, τ, damage_prob, γ_2p, n_model, T=100):\n",
    "    \"\"\"\n",
    "    y_grid : (N,) ndarray\n",
    "    e_grid_no_jump : (N,) ndarray\n",
    "    e_grid_post_jump : (n_model, N) ndarray\n",
    "    \"\"\"\n",
    "    et_paths = []\n",
    "    yt_paths = []\n",
    "    yt_state_paths = []\n",
    "    γ2pt_paths = []\n",
    "    paths_prob = []\n",
    "\n",
    "    yt_pre_jump = np.zeros(int(T/τ)+1)\n",
    "    et_pre_jump = np.zeros(int(T/τ)+1)\n",
    "    γ2pt_pre_jump = np.ones(int(T/τ)+1) * (-1) # -1 if γ_2p is not revealed        \n",
    "    t_count = 0\n",
    "\n",
    "    # path piror to y_bar_lower\n",
    "    while y0 <= y_bar_lower:\n",
    "        et_pre_jump[t_count] = np.interp(y0, y_grid_short, e_grid_no_jump)\n",
    "        yt_pre_jump[t_count] = y0\n",
    "        y0 = y0 + et_pre_jump[t_count] * θ * τ\n",
    "        t_count += 1\n",
    "\n",
    "    # add n_model paths at every time point\n",
    "    no_jump_prob = 1.\n",
    "    for t in range(t_count, int(T/τ)+1):\n",
    "        if y0 < y_bar_upper:\n",
    "            intensity = r0 * (np.exp(r1 / 2. * (y0-y_bar_lower)**2) - 1.) * (y0 >= y_bar_lower)\\\n",
    "                        + 0 * (y0 < y_bar_lower)            \n",
    "            jump_prob = τ * intensity\n",
    "            for i in range(n_model):\n",
    "                # compute unconditional prob\n",
    "                jump_prob_to_i = damage_prob[i] * jump_prob * no_jump_prob\n",
    "                paths_prob.append(jump_prob_to_i)\n",
    "                # compute path\n",
    "                yt = yt_pre_jump.copy()\n",
    "                et = et_pre_jump.copy()\n",
    "                γ2pt = γ2pt_pre_jump.copy()\n",
    "                for j in range(t_count, t):\n",
    "                    yt[j] = yt[j-1] + et[j-1] * θ * τ\n",
    "                    et[j] = np.interp(yt[j], y_grid_short, e_grid_no_jump)\n",
    "                e_grid_realized = e_grid_jump[i]\n",
    "                yt_state = yt.copy()\n",
    "                for j in range(t, int(T/τ)+1):\n",
    "                    γ2pt[j] = γ_2p[i]\n",
    "                    if j == t:\n",
    "                        yt_state[j] = y_bar_upper\n",
    "                    else:\n",
    "                        yt_state[j] = yt_state[j-1] + et[j-1] * θ * τ\n",
    "                    yt[j] = yt[j-1] + et[j-1] * θ * τ\n",
    "                    et[j] = np.interp(yt_state[j], y_grid_long, e_grid_realized)\n",
    "                et_paths.append(et)\n",
    "                yt_paths.append(yt)\n",
    "                yt_state_paths.append(yt_state)\n",
    "                γ2pt_paths.append(γ2pt)\n",
    "            no_jump_prob *= (1.-jump_prob)\n",
    "        e_no_jump = np.interp(y0, y_grid_short, e_grid_no_jump)\n",
    "        y0 = y0 + e_no_jump * θ * τ\n",
    "\n",
    "    return np.array(et_paths), np.array(yt_paths), np.array(yt_state_paths), np.array(γ2pt_paths), np.array(paths_prob)"
   ]
  },
  {
   "cell_type": "code",
   "execution_count": 84,
   "metadata": {},
   "outputs": [],
   "source": [
    "et_paths, yt_paths, yt_state_paths, γ2pt_paths, paths_prob = simulation_prob(y_grid_short, y_grid_long, e_grid_no_jump, e_grid_post_jump,\n",
    "                           np.mean(model_res['θ']), y0=1.1, y_bar_lower=y_bar_lower, y_bar_upper=y_bar_upper, r0=r0,\n",
    "                           r1=r1, τ=τ, damage_prob=damage_setting['πd_o'], γ_2p=damage_setting['γ_2p'], n_model=n_model, T=94)"
   ]
  },
  {
   "cell_type": "code",
   "execution_count": 86,
   "metadata": {},
   "outputs": [],
   "source": [
    "T = 94\n",
    "time_periods = np.arange(0, T+τ, τ)\n",
    "et_no_jump, yt_no_jump, _, _ = simulation(model_res['y_grid'], model_res['e_tilde'], model_res['h'], model_res['g'],\n",
    "                                          θ=np.mean(model_res['θ']), y_start=1.1, T=T, dt=τ)"
   ]
  },
  {
   "cell_type": "code",
   "execution_count": 93,
   "metadata": {},
   "outputs": [
    {
     "data": {
      "text/plain": [
       "(6880,)"
      ]
     },
     "execution_count": 93,
     "metadata": {},
     "output_type": "execute_result"
    }
   ],
   "source": [
    "paths_prob.shape"
   ]
  },
  {
   "cell_type": "code",
   "execution_count": 114,
   "metadata": {},
   "outputs": [
    {
     "data": {
      "image/png": "[encoded data removed]",
      "text/plain": [
       "<Figure size 864x288 with 2 Axes>"
      ]
     },
     "metadata": {
      "needs_background": "light"
     },
     "output_type": "display_data"
    }
   ],
   "source": [
    "et_paths_T = np.zeros(et_paths.shape[0]+1)\n",
    "yt_paths_T = np.zeros(yt_paths.shape[0]+1)\n",
    "et_paths_T[:et_paths.shape[0]] = et_paths[:, int(T/τ)]\n",
    "yt_paths_T[:yt_paths.shape[0]] = yt_paths[:, int(T/τ)]\n",
    "et_paths_T[et_paths.shape[0]] = et_no_jump[int(T/τ)]\n",
    "yt_paths_T[yt_paths.shape[0]] = yt_no_jump[int(T/τ)]\n",
    "paths_prob_T = np.zeros(paths_prob.shape[0]+1)\n",
    "paths_prob_T[:paths_prob.shape[0]] = paths_prob\n",
    "paths_prob_T[paths_prob.shape[0]] = 1-paths_prob.sum()\n",
    "\n",
    "fig, (ax1, ax2) = plt.subplots(1, 2, figsize=(12, 4))\n",
    "ax1.hist(et_paths_T, weights=paths_prob_T, density=False, bins=50)\n",
    "ax2.hist(yt_paths_T, weights=paths_prob_T, density=False, bins=50)\n",
    "ax1.set_xlabel('Emission', fontsize=13)\n",
    "ax2.set_xlabel('Temperature anomaly', fontsize=13)\n",
    "fig.suptitle('Figure 1: Histograms of emission and temperature anomaly (year '+str(T)+')', fontsize=13)\n",
    "\n",
    "plt.savefig('fig_1.pdf')"
   ]
  },
  {
   "cell_type": "code",
   "execution_count": 109,
   "metadata": {},
   "outputs": [
    {
     "data": {
      "text/plain": [
       "0.024805600625477646"
      ]
     },
     "execution_count": 109,
     "metadata": {},
     "output_type": "execute_result"
    }
   ],
   "source": [
    "e_temp = et_paths_T[et_paths_T>8]\n",
    "prob_temp = paths_prob_T[et_paths_T>8]\n",
    "e_selected = e_temp[e_temp<10]\n",
    "prob_selected = prob_temp[e_temp<10]\n",
    "prob_selected.sum()"
   ]
  },
  {
   "cell_type": "code",
   "execution_count": 110,
   "metadata": {},
   "outputs": [
    {
     "data": {
      "text/plain": [
       "(172,)"
      ]
     },
     "execution_count": 110,
     "metadata": {},
     "output_type": "execute_result"
    }
   ],
   "source": [
    "e_selected.shape"
   ]
  },
  {
   "cell_type": "code",
   "execution_count": 101,
   "metadata": {},
   "outputs": [
    {
     "data": {
      "text/plain": [
       "(6881,)"
      ]
     },
     "execution_count": 101,
     "metadata": {},
     "output_type": "execute_result"
    }
   ],
   "source": [
    "et_paths_T.shape"
   ]
  },
  {
   "cell_type": "code",
   "execution_count": 31,
   "metadata": {},
   "outputs": [],
   "source": [
    "# Compute no jump probability\n",
    "no_jump_prob = np.ones_like(yt_no_jump)\n",
    "for t in range(no_jump_prob.shape[0]):\n",
    "    y = yt_no_jump[t]\n",
    "    if y > y_bar_lower:\n",
    "        intensity = r0 * (np.exp(r1 / 2. * (y-y_bar_lower)**2) - 1.) * (y >= y_bar_lower)\\\n",
    "                    + 0 * (y < y_bar_lower)\n",
    "        no_jump_prob[t] = (1 - intensity*τ) * no_jump_prob[t-1]"
   ]
  },
  {
   "cell_type": "code",
   "execution_count": 33,
   "metadata": {
    "scrolled": true
   },
   "outputs": [
    {
     "data": {
      "text/plain": [
       "(0.0, 1.05)"
      ]
     },
     "execution_count": 33,
     "metadata": {},
     "output_type": "execute_result"
    },
    {
     "data": {
      "image/png": "[encoded data removed]",
      "text/plain": [
       "<Figure size 864x288 with 2 Axes>"
      ]
     },
     "metadata": {
      "needs_background": "light"
     },
     "output_type": "display_data"
    }
   ],
   "source": [
    "fig, (ax1, ax2) = plt.subplots(1, 2, figsize=(12,4))\n",
    "ax1.plot(time_periods, yt_no_jump, linewidth=2.5)\n",
    "ax1.plot(time_periods, np.ones_like(yt_no_jump)*1.5, linestyle='dashed', color='black', linewidth=2.5)\n",
    "ax1.set_xlabel('Years', fontsize=13)\n",
    "ax1.set_title(r'Temperature anomaly')\n",
    "ax1.set_ylim(1, 2)\n",
    "\n",
    "ax2.plot(time_periods, no_jump_prob, linewidth=2.5)\n",
    "ax2.set_xlabel('Years', fontsize=13)\n",
    "ax2.set_title(r'No jump probability')\n",
    "ax2.set_ylim(0, 1.05)\n",
    "\n",
    "# fig.savefig('fig_2.pdf')"
   ]
  },
  {
   "cell_type": "code",
   "execution_count": 142,
   "metadata": {},
   "outputs": [
    {
     "data": {
      "image/png": "[encoded data removed]",
      "text/plain": [
       "<Figure size 432x288 with 1 Axes>"
      ]
     },
     "metadata": {
      "needs_background": "light"
     },
     "output_type": "display_data"
    }
   ],
   "source": [
    "# Implied distorted probabilities\n",
    "yt_loc = find_nearest_value(model_res['y_grid'], yt_no_jump[int(T/τ)])\n",
    "Gt_m = model_res['g'][:, yt_loc]\n",
    "πd = Gt_m*πd_o / np.sum(Gt_m*πd_o)\n",
    "plt.hist(γ_2p, weights=πd, bins=20)\n",
    "plt.xlabel(r'$\\gamma_3$')\n",
    "plt.title(r'Figure 2: Histogram of $\\gamma_3$, weighted by distorted probability (Year ' + str(T) + ')')\n",
    "plt.savefig('fig_2.pdf')"
   ]
  },
  {
   "cell_type": "code",
   "execution_count": 122,
   "metadata": {},
   "outputs": [
    {
     "data": {
      "image/png": "[encoded data removed]",
      "text/plain": [
       "<Figure size 432x288 with 1 Axes>"
      ]
     },
     "metadata": {
      "needs_background": "light"
     },
     "output_type": "display_data"
    }
   ],
   "source": [
    "intensity = r0 * (np.exp(r1 / 2. * (y_grid_short-y_bar_lower)**2) - 1.) * (y_grid_short >= y_bar_lower)\\\n",
    "                        + 0 * (y_grid_short < y_bar_lower)\n",
    "plt.plot(y_grid_short, np.average(model_res['g'], axis=0)*intensity, label='worst case intensity', linewidth=2.5)\n",
    "plt.plot(y_grid_short, intensity, label='intensity', linewidth=2.5)\n",
    "plt.legend(frameon=False)\n",
    "plt.xlabel('y', fontsize=13)\n",
    "plt.title('Figure 3: Intensity')\n",
    "plt.savefig('fig_3.pdf')"
   ]
  },
  {
   "cell_type": "code",
   "execution_count": 135,
   "metadata": {},
   "outputs": [
    {
     "data": {
      "image/png": "[encoded data removed]",
      "text/plain": [
       "<Figure size 432x288 with 1 Axes>"
      ]
     },
     "metadata": {
      "needs_background": "light"
     },
     "output_type": "display_data"
    }
   ],
   "source": [
    "plt.plot(y_grid_short, np.average(model_res['g'], axis=0), linewidth=2.5)\n",
    "plt.xlabel('y')\n",
    "plt.title(r'Figure 4: $\\bar{G}(y)$')\n",
    "plt.savefig('fig_4.pdf')"
   ]
  }
 ],
 "metadata": {
  "kernelspec": {
   "display_name": "Python 3",
   "language": "python",
   "name": "python3"
  },
  "language_info": {
   "codemirror_mode": {
    "name": "ipython",
    "version": 3
   },
   "file_extension": ".py",
   "mimetype": "text/x-python",
   "name": "python",
   "nbconvert_exporter": "python",
   "pygments_lexer": "ipython3",
   "version": "3.8.5"
  }
 },
 "nbformat": 4,
 "nbformat_minor": 4
}
