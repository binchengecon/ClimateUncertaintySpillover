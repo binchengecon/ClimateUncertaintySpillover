{
 "cells": [
  {
   "cell_type": "code",
   "execution_count": 1,
   "id": "accompanied-salvation",
   "metadata": {
    "code_folding": []
   },
   "outputs": [],
   "source": [
    "# packages\n",
    "import numpy as np\n",
    "import pandas as pd\n",
    "import os\n",
    "import sys\n",
    "sys.path.append(os.path.dirname(os.getcwd()) + '/source')\n",
    "import pickle\n",
    "from solver_1d import false_transient_one_iteration_python\n",
    "from supportfunctions import PDESolver_2d, finiteDiff\n",
    "from numba import njit\n",
    "from scipy.sparse import csc_matrix\n",
    "from scipy.sparse.linalg import bicg\n",
    "from derivative import derivatives_2d, derivative_1d\n",
    "import SolveLinSys\n",
    "import time\n",
    "from solver_ode import solve_ode, solve_ode_one\n",
    "from solver_jump import approach_one\n",
    "from scipy import interpolate\n",
    "import matplotlib.pyplot as plt\n",
    "import matplotlib as mpl\n",
    "mpl.rcParams['axes.spines.right'] = False\n",
    "mpl.rcParams['axes.spines.top'] = False"
   ]
  },
  {
   "cell_type": "code",
   "execution_count": 189,
   "id": "serial-vegetarian",
   "metadata": {
    "code_folding": []
   },
   "outputs": [],
   "source": [
    "# parameters\n",
    "δ = 0.01\n",
    "η = 0.032\n",
    "μ = 1.86/1000\n",
    "θ_list = pd.read_csv(\"../data/model144.csv\", header=None)[0].to_numpy()\n",
    "θ_list = θ_list/1000\n",
    "σy = 1.2*μ\n",
    "ς = 0.1\n",
    "# damage function\n",
    "ȳ = 2\n",
    "γ1 = 0.00017675\n",
    "γ2 = 2*0.0022\n",
    "γ3_list = np.array([0, 2*0.0197, 2*0.3853])\n",
    "# y grid\n",
    "numy_bar = 200\n",
    "y_min = 1e-10\n",
    "y_max = 4\n",
    "hy = (ȳ - y_min)/numy_bar\n",
    "y_grid = np.arange(y_min, y_max+hy, hy)"
   ]
  },
  {
   "cell_type": "code",
   "execution_count": 3,
   "id": "overhead-tunnel",
   "metadata": {},
   "outputs": [],
   "source": [
    "# capital parameters\n",
    "invkap = 0.09\n",
    "α = 0.115\n",
    "αₖ = - 0.043\n",
    "σₖ = 0.0085\n",
    "κ = 6.667\n",
    "k0 = 80/α"
   ]
  },
  {
   "cell_type": "code",
   "execution_count": 4,
   "id": "speaking-flower",
   "metadata": {},
   "outputs": [],
   "source": [
    "n_temp = 16\n",
    "n_carb = 9\n",
    "n_θ = len(θ_list)\n",
    "θtemp_list = list()\n",
    "for i in range(n_temp):\n",
    "    same_temp = θ_list[i*n_carb:i*n_carb+n_carb+1]\n",
    "    θtemp_list.append(np.average(same_temp))\n",
    "θtemp_list = np.array(θtemp_list)\n",
    "θcarb_list = list()\n",
    "for i in range(n_carb):\n",
    "    idx_carb = np.arange(i, n_θ+i, n_carb)\n",
    "    same_carb = θ_list[idx_carb]\n",
    "    θcarb_list.append(np.average(same_carb))\n",
    "θcarb_list = np.array(θcarb_list)"
   ]
  },
  {
   "cell_type": "markdown",
   "id": "rising-contrary",
   "metadata": {},
   "source": [
    "# Jump model of damages\n",
    "Intensity function:\n",
    "$$\n",
    "\\mathcal{I}(y) = \\begin{cases}\n",
    "(\\frac{1}{\\sqrt{2\\pi} \\varsigma})\\exp\\left[- \\frac{(y - \\bar y)^2}{2\\varsigma^2}\\right], \\quad y \\leqslant \\bar y\\\\\n",
    "(\\frac{1}{\\sqrt{2\\pi}\\varsigma}), \\quad y > \\bar y\n",
    "\\end{cases}\n",
    "$$\n",
    "\n",
    "HJB\n",
    "$$\n",
    "\\begin{aligned}\n",
    "0 = \\max_{\\tilde e} \\min_{\\pi^d} &- \\delta \\phi(y) + \\delta\\eta \\log\\tilde e \\\\\n",
    "    & +  \\frac{d\\phi}{dy} \\theta \\tilde e  + \\frac{1}{2} \\frac{d^2 \\phi}{dy^2}(\\tilde e)^2 |\\sigma_y|^2 + \\frac{1}{2} (\\eta - 1) \\gamma_2 (\\tilde e)^2 |\\sigma_y|^2\\\\\n",
    "& + (\\eta -1)(\\gamma_1 + \\gamma_2 y) \\tilde e \\theta + \\mathcal{I}(y)\\sum_j \\pi^d_j \\left[\\phi_j(y) - \\phi(y) \\right] \\\\\n",
    "&  + \\textbf{relative entropy}\n",
    "\\end{aligned}\n",
    "$$\n",
    "## Approach one:\n",
    "$$\n",
    "\\begin{aligned}\n",
    "0 = \\max_{\\tilde e} \\min_{g_j} &- \\delta \\phi(y) + \\delta\\eta \\log\\tilde e + \\frac{1}{2} \\frac{d^2 \\phi}{dy^2}(\\tilde e)^2 |\\sigma_y|^2  + \\frac{\\xi_m}{2} h'h\\\\\n",
    "& + [ \\frac{d\\phi}{dy}    + (\\eta -1)(\\gamma_1 + \\gamma_2 y)]\\cdot \\tilde e \\sigma_y h +\\frac{1}{2} (\\eta - 1) \\gamma_2 (\\tilde e)^2 |\\sigma_y|^2\\\\\n",
    "& + \\sum_i \\pi_i^c \\frac{d\\phi}{dy} \\theta_i \\tilde e  + \\sum_i \\pi_i^c (\\eta -1)(\\gamma_1 + \\gamma_2 y) \\tilde e \\theta_i + \\xi_a \\sum_i \\hat\\pi^c_i(\\log \\pi^c_i - \\log \\hat\\pi^c_i)\\\\\n",
    "&  + \\mathcal{I}(y)\\sum_j\\hat\\pi_j^d g_j\\left[\\phi_j(y) - \\phi(y) \\right]  + \\xi_m \\mathcal{I}(y) \\sum_j \\hat\\pi_j^d [1 - g_j + g_j \\log g_j]\n",
    "\\end{aligned}\n",
    "$$\n",
    "The optimal $g_j$:\n",
    "$$\n",
    "g_j^* = \\exp\\{\\frac{1}{\\xi_m}\\left( \\phi(y) - \\phi_j(y)\\right)\\}\n",
    "$$\n",
    "Plug back in\n",
    "$$\n",
    "\\begin{aligned}\n",
    "0 = \\max_{\\tilde e} \\min_{g_j} &- \\delta \\phi(y) + \\delta\\eta \\log\\tilde e + \\frac{1}{2} \\frac{d^2 \\phi}{dy^2}(\\tilde e)^2 |\\sigma_y|^2 + \\frac{1}{2}(\\eta -1)\\gamma_2(\\tilde e)^2 |\\sigma_y|^2\\\\\n",
    "& + \\sum_i \\pi_i^c \\left[\\frac{d\\phi}{dy}  + (\\eta -1)(\\gamma_1 + \\gamma_2 y)\\right] \\tilde e \\theta_i + \\xi_a \\sum_i \\hat\\pi^c_i(\\log \\pi^c_i - \\log \\hat\\pi^c_i) \\\\\n",
    "&  +  \\xi_m \\mathcal{I}(y) \\sum_j \\hat\\pi_j^d [1 - g_j^* ]\n",
    "\\end{aligned}\n",
    "$$\n",
    "Intensity altered to be $\\iota^*(y) \\mathcal{I} (y)$ where:\n",
    "$$\n",
    "\\iota^*(y)  = \\sum_j \\hat\\pi_j g_j^* \n",
    "$$\n",
    "Distorted probability:\n",
    "$$\n",
    "\\pi^*_j  = \\frac{\\exp\\left(-\\frac{1}{\\xi_m} [\\phi_j(y) - \\phi(y)] \\right) \\hat\\pi_j}{\\iota^*(y)}\n",
    "$$"
   ]
  },
  {
   "cell_type": "code",
   "execution_count": 174,
   "id": "intelligent-holly",
   "metadata": {
    "code_folding": [
     0
    ]
   },
   "outputs": [],
   "source": [
    "def simulate_jump(y_grid, solu, ME,  θ_list, T=100, dt=1):\n",
    "    ems = solu[\"ems\"]\n",
    "    πᶜ = solu[\"πc\"]\n",
    "    πᵈ = solu[\"πd\"]\n",
    "    ι = solu[\"ι\"]\n",
    "    h = solu[\"h\"]\n",
    "    periods = int(T/dt)\n",
    "    et = np.zeros(periods)\n",
    "    yt = np.zeros(periods)\n",
    "    πᶜt = np.zeros((periods, len(θ_list)))\n",
    "    πᵈt = np.zeros((periods, len(πᵈ)))\n",
    "    ιt = np.zeros(periods)\n",
    "    ht = np.zeros(periods)\n",
    "    if ME is not None:\n",
    "        me_t = np.zeros(periods)\n",
    "    # interpolate\n",
    "    get_πᵈ = interpolate.interp1d(y_grid, πᵈ)\n",
    "    get_πᶜ = interpolate.interp1d(y_grid, πᶜ)\n",
    "    y = np.mean(θ_list)*290\n",
    "    for t in range(periods):\n",
    "        if y > np.max(y_grid):\n",
    "            break\n",
    "        else:\n",
    "            ems_point = np.interp(y, y_grid, ems)\n",
    "            πᵈ_list = get_πᵈ(y)\n",
    "            πᶜ_list = get_πᶜ(y)\n",
    "            ι_point = np.interp(y, y_grid, ι)\n",
    "            h_point = np.interp(y, y_grid, h)\n",
    "            if ME is not None:\n",
    "                me_point = np.interp(y, y_grid, ME)\n",
    "                me_t[t] = me_point\n",
    "            et[t] = ems_point\n",
    "            πᵈt[t] = πᵈ_list\n",
    "            πᶜt[t] = πᶜ_list\n",
    "            ιt[t] = ι_point\n",
    "            ht[t] = h_point\n",
    "            yt[t] = y\n",
    "            dy = ems_point*np.mean(θ_list)*dt\n",
    "            y = dy + y\n",
    "    if ME is not None:\n",
    "        return yt, et, πᵈt, πᶜt, ιt, ht, me_t\n",
    "    else:\n",
    "        return yt, et, πᵈt, πᶜt, ιt, ht"
   ]
  },
  {
   "cell_type": "code",
   "execution_count": 175,
   "id": "registered-apparel",
   "metadata": {
    "code_folding": [
     0
    ]
   },
   "outputs": [],
   "source": [
    "def plot_solu(ht, πᵈt, ϕ_list, solu, args):\n",
    "    ϕ = solu['φ']\n",
    "    ξa, ξw, ξp, numy_bar = args\n",
    "    fig, (ax1, ax2, ax3) = plt.subplots(1,3, figsize=(18,4))\n",
    "    fig.suptitle(r'$\\xi_a = {}, \\quad  \\xi_w =1/{}, \\quad \\xi_p = 1/{} $'.format(ξa, int(1/ξw), int(1/ξp)))\n",
    "    ax1.plot(ht)\n",
    "    ax1.set_ylim(bottom=0, top=0.3)\n",
    "    ax1.set_xlim(left=0)\n",
    "    ax1.set_xlabel('years')\n",
    "    ax1.set_ylabel('h')\n",
    "    ax2.plot(πᵈt[:,1][πᵈt[:,1]>0], label=\"high damage\")\n",
    "    ax2.plot(πᵈt[:,0][πᵈt[:,0]>0], label=\"low damage\")\n",
    "    ax2.plot(πᵈt[:,2], label=\"extreme\")\n",
    "    ax2.set_ylim(bottom=0, top=1)\n",
    "    ax2.set_xlim(left=0)\n",
    "    ax2.legend()\n",
    "    ax2.set_xlabel('years')\n",
    "    ax2.set_ylabel('πᵈ')\n",
    "    ϕ_bound = np.average(np.exp(-1/ξp*ϕ_list), axis=0, weights=dmg_weight)\n",
    "    ϕ_bound = -ξp*np.log(ϕ_bound)\n",
    "    ax3.plot(y_grid[:numy_bar+1], ϕ, label='prior to jump')\n",
    "    ax3.plot(y_grid[numy_bar:], ϕ_list[0][numy_bar:], linestyle=\"--\", color=\"black\", label=\"post jump, low damage\")\n",
    "    ax3.plot(y_grid[numy_bar:], ϕ_bound[numy_bar:], label=\"post jump, certainty equivalent\")\n",
    "    ax3.plot(y_grid[numy_bar:], ϕ_list[1][numy_bar:], linestyle=\"-.\", color=\"black\", label=\"post jump, high damage\")\n",
    "    ax3.plot(y_grid[numy_bar:], ϕ_list[2][numy_bar:], linestyle=\":\", color=\"black\")\n",
    "    ax3.vlines(x=2, ymin=-0.11, ymax=0.05, linestyle=\"dashed\", color=\"black\")\n",
    "    # ax3.xlim(0,4)\n",
    "    # ax3.ylim(-0.02, 0.05)\n",
    "    ax3.set_ylabel('$\\phi$')\n",
    "    ax3.set_xlabel('y')\n",
    "    ax3.set_xlim(left=0)\n",
    "    ax3.legend()\n",
    "    # ax3.set_title(r'$\\xi_a = 1,000, \\quad  \\xi_w =1/400, \\quad \\xi_p = 1/400 \\times 5 $')\n",
    "    # plt.savefig(\"phi_x1.pdf\", facecolor=\"w\", edgecolor='w', bbox_inches=\"tight\") "
   ]
  },
  {
   "cell_type": "code",
   "execution_count": 190,
   "id": "efficient-strike",
   "metadata": {},
   "outputs": [
    {
     "name": "stdout",
     "output_type": "stream",
     "text": [
      "episode: 10000,\t ode error: 1.6615319670301287e-06,\t ft error: 3.0514497875259544e-07\n",
      "episode: 10000,\t ode error: 1.9214632383245957e-06,\t ft error: 9.728910323076694e-07\n",
      "episode: 3864,\t ode error: 4.979194242554452e-06,\t ft error: 9.98384254898473e-09\n",
      "episode: 1039,\t ode error: 7.153017231627343e-06,\t ft error: 9.984768914450548e-09\n"
     ]
    }
   ],
   "source": [
    "ξa = 1/10_000\n",
    "ξw = 1/600\n",
    "ξp = 60*ξw\n",
    "dmg_weight = np.array([1/3, 1/3, 1/3])\n",
    "args = (δ, η, θ_list, γ1, γ2, γ3_list, ȳ, dmg_weight, ς, ξp, ξa, ξw, σy)\n",
    "solu, ϕ_list = approach_one(y_grid, numy_bar, args,)"
   ]
  },
  {
   "cell_type": "code",
   "execution_count": 191,
   "id": "expanded-mainstream",
   "metadata": {
    "scrolled": true
   },
   "outputs": [
    {
     "data": {
      "image/png": "[encoded data removed]",
      "text/plain": [
       "<Figure size 1296x288 with 3 Axes>"
      ]
     },
     "metadata": {
      "needs_background": "light"
     },
     "output_type": "display_data"
    }
   ],
   "source": [
    "yt, et, πᵈt, πᶜt, ιt, ht = simulate_jump(y_grid[:numy_bar+1], solu, None, θ_list)\n",
    "args_plot = (ξa, ξw, ξp, numy_bar)\n",
    "plot_solu(ht, πᵈt, ϕ_list, solu, args_plot)"
   ]
  },
  {
   "cell_type": "code",
   "execution_count": 178,
   "id": "promotional-confusion",
   "metadata": {
    "code_folding": [
     1,
     12
    ]
   },
   "outputs": [],
   "source": [
    "# simulate\n",
    "def simulate_logkapital(invkap, αₖ,  σₖ, κ, k0, T=100, dt=1):\n",
    "    periods = int(T/dt)\n",
    "    Kt = np.zeros(periods)\n",
    "    i = invkap\n",
    "     # log capital\n",
    "    Kt[0] = np.log(k0)\n",
    "    k = np.log(k0)\n",
    "    for t in range(periods-1):\n",
    "        k +=   (αₖ + i - κ/2*i**2 - .5*σₖ**2)*dt\n",
    "        Kt[t+1] = k\n",
    "    return Kt\n",
    "def simulate_scc(invkap, αₖ,  σₖ, κ, k0, MEt, T=100, dt=1):\n",
    "    Kt = simulate_logkapital(invkap, αₖ, σₖ, κ,  k0)\n",
    "    MCt = δ*(1-η)/((α - invkap)*np.exp(Kt))\n",
    "    SCCt = MEt/MCt*1000\n",
    "    return SCCt"
   ]
  },
  {
   "cell_type": "code",
   "execution_count": 192,
   "id": "brazilian-mountain",
   "metadata": {},
   "outputs": [],
   "source": [
    "MEt = δ*η/et\n",
    "SCCt = simulate_scc(invkap, αₖ,  σₖ, κ, k0, MEt)"
   ]
  },
  {
   "cell_type": "code",
   "execution_count": 193,
   "id": "representative-module",
   "metadata": {},
   "outputs": [
    {
     "data": {
      "text/plain": [
       "[<matplotlib.lines.Line2D at 0x7ff3d9fe0070>]"
      ]
     },
     "execution_count": 193,
     "metadata": {},
     "output_type": "execute_result"
    },
    {
     "data": {
      "image/png": "[encoded data removed]",
      "text/plain": [
       "<Figure size 432x288 with 1 Axes>"
      ]
     },
     "metadata": {
      "needs_background": "light"
     },
     "output_type": "display_data"
    }
   ],
   "source": [
    "plt.plot(SCCt)"
   ]
  },
  {
   "cell_type": "markdown",
   "id": "surprised-multimedia",
   "metadata": {},
   "source": [
    "# SCC uncertainty decomposition: pre jump\n",
    "\n",
    "First order condition for $\\tilde e$\n",
    "\n",
    "$$\n",
    "    \\left( \\frac{d^2\\phi(y)}{dy^2} + (\\eta-1)\\cdot\\gamma_2  \\right)|\\sigma_y|^2\\tilde e + \\sum_j \\pi^c_j \\left[\\frac{d\\phi(y)}{dy} + (\\eta - 1)(\\gamma_1 + \\gamma_2 y)\\right]\\theta_j  + \\frac{\\delta\\eta}{\\tilde e} = 0 \\tag{$\\ast$}\n",
    "$$\n",
    "\n",
    "Call solution $\\tilde e^* $. Now solve:\n",
    "$$\n",
    "\\begin{aligned}\n",
    "0 =  & - \\delta \\color{red}{\\phi(y)}+ \\delta\\eta \\log\\tilde e^* + \\frac{1}{2} \\color{red}{ \\frac{d^2 \\phi}{dy^2}}\\cdot(\\tilde e^*)^2 |\\sigma_y|^2 + \\frac{1}{2}(\\eta -1)\\gamma_2(\\tilde e^*)^2 |\\sigma_y|^2\\\\\n",
    "& + \\left[\\color{red}{\\frac{d\\phi}{dy}}  + (\\eta -1)(\\gamma_1 + \\gamma_2 y)\\right] \\tilde e^* \\sum_i \\pi_i^c \\theta_i\n",
    "\\end{aligned}\n",
    "$$"
   ]
  },
  {
   "cell_type": "code",
   "execution_count": 194,
   "id": "adjacent-concern",
   "metadata": {
    "code_folding": [
     1
    ]
   },
   "outputs": [],
   "source": [
    "# solve for decompose\n",
    "def decompose_test(y_grid, numy_bar, solu, ϕ_list, args, ϵ=0.3, tol=1e-8, max_iter=5_000):\n",
    "    \"\"\"\n",
    "    compute jump model with ambiguity over climate models\n",
    "    \"\"\"\n",
    "    δ, η, θ_list, γ1, γ2, γ3_list, ȳ, dmg_weight, ς, ξp, ξa, ξw, σy = args\n",
    "    ems_star = solu['ems']\n",
    "    πᶜ = solu['πc']\n",
    "    h = solu[\"h\"]\n",
    "    # solve for HJB with jump function\n",
    "    y_grid_cap = y_grid[:numy_bar+1]\n",
    "    dy = y_grid_cap[1] - y_grid_cap[0]\n",
    "    dΛ = γ1 + γ2*y_grid_cap\n",
    "    ddΛ = γ2\n",
    "    πᶜo = np.ones((len(θ_list), len(y_grid_cap)))/len(θ_list)\n",
    "    θ = θ_list@πᶜ \n",
    "    A = -δ*np.ones(y_grid_cap.shape)\n",
    "    B = θ*ems_star + σy*h*ems_star\n",
    "    C = σy**2*ems_star**2/2\n",
    "    D = δ*η*np.log(ems_star) + (η-1)*dΛ*ems_star*(θ + σy*h) + (η-1)*ddΛ*ems_star**2*σy**2/2\\\n",
    "    + ξw/2*h**2 + ξa*np.sum(πᶜ*(np.log(πᶜ) - np.log(πᶜo)), axis=0)\n",
    "    ϕ_bound = np.average(np.exp(-1/ξp*ϕ_list), axis=0, weights=dmg_weight)[:numy_bar+1]\n",
    "    ϕ_bound = -ξp*np.log(ϕ_bound)\n",
    "    ϕ = np.average(ϕ_list, axis=0, weights=dmg_weight)[:numy_bar+1]\n",
    "#     ϕ = ϕ_bound\n",
    "    episode = 0\n",
    "    lhs_error = 1\n",
    "    while lhs_error > tol and episode < max_iter:\n",
    "        ϕ_old = ϕ.copy()\n",
    "        dϕdy = derivative_1d(ϕ, 1, dy, True)\n",
    "        dϕdyy = derivative_1d(ϕ, 2, dy, True)\n",
    "        # solver\n",
    "        ϕ_new = solve_ode(A, B, C, D, y_grid_cap, ϕ, ϵ, (True, ϕ_bound[numy_bar]))\n",
    "        rhs = -δ*ϕ_new + B*dϕdy + C*dϕdyy + D\n",
    "        rhs_error = np.max(abs(rhs))\n",
    "        lhs_error = np.max(abs((ϕ_new - ϕ_old)/ϵ))\n",
    "        ϕ = ϕ_new\n",
    "        episode += 1\n",
    "    print(\"episode: {},\\t ode error: {},\\t ft error: {}\".format(episode, rhs_error, lhs_error))\n",
    "\n",
    "    dϕdy = derivative_1d(ϕ, 1, dy)\n",
    "    dϕdyy = derivative_1d(ϕ, 2, dy)\n",
    "    temp = dϕdy+(η-1)*dΛ\n",
    "    error = np.max(abs(A*ϕ + B*dϕdy + C*dϕdyy + D))\n",
    "    \n",
    "    ME = -(dϕdy+(η-1)*dΛ)*(θ + σy*h) - (dϕdyy+(η-1)*ddΛ)*σy**2*ems_star# solve for decompose\n",
    "    ratio = ME/(δ*η/ems_star)\n",
    "\n",
    "    print(\"PDE error: %s\" % (error))  \n",
    "    return ME, ratio, ϕ, ξa*np.sum(πᶜ*(np.log(πᶜ) - np.log(πᶜo)), axis=0)"
   ]
  },
  {
   "cell_type": "code",
   "execution_count": 195,
   "id": "competitive-dance",
   "metadata": {
    "scrolled": true
   },
   "outputs": [
    {
     "name": "stdout",
     "output_type": "stream",
     "text": [
      "episode: 778,\t ode error: 1.0025212421774059e-05,\t ft error: 9.962817654196598e-09\n",
      "PDE error: 7.583575039978984e-06\n"
     ]
    }
   ],
   "source": [
    "args = (δ, η, θ_list, γ1, γ2, γ3_list, ȳ, dmg_weight, ς, ξp, ξa, ξw, σy)\n",
    "ME_test, ratio_test, ϕ_test, re = decompose_test(y_grid, numy_bar, solu, ϕ_list, args)"
   ]
  },
  {
   "cell_type": "code",
   "execution_count": 196,
   "id": "commercial-relaxation",
   "metadata": {},
   "outputs": [
    {
     "data": {
      "text/plain": [
       "(0.0, 1.0)"
      ]
     },
     "execution_count": 196,
     "metadata": {},
     "output_type": "execute_result"
    },
    {
     "data": {
      "image/png": "[encoded data removed]",
      "text/plain": [
       "<Figure size 432x288 with 1 Axes>"
      ]
     },
     "metadata": {
      "needs_background": "light"
     },
     "output_type": "display_data"
    }
   ],
   "source": [
    "plt.plot(ratio_test, linewidth=7)\n",
    "plt.ylim(0,1)"
   ]
  },
  {
   "cell_type": "code",
   "execution_count": 197,
   "id": "medieval-shipping",
   "metadata": {
    "code_folding": []
   },
   "outputs": [],
   "source": [
    "def solve_baseline(y_grid, numy_bar, solu, ϕ_list, args, ϵ=0.3, tol=1e-8, max_iter=10_000):\n",
    "    \"\"\"\n",
    "    compute jump model with ambiguity over climate models\n",
    "    \"\"\"\n",
    "    δ, η, θ_list, γ1, γ2, γ3_list, ȳ, dmg_weight, ς, ξp, ξa, ξw, σy = args\n",
    "    ems_star = solu['ems']\n",
    "    # solve for HJB with jump function\n",
    "    y_grid_cap = y_grid[:numy_bar+1]\n",
    "    dy = y_grid_cap[1] - y_grid_cap[0]\n",
    "    dΛ = γ1 + γ2*y_grid_cap\n",
    "    ddΛ = γ2\n",
    "    πᶜo = np.ones((len(θ_list), len(y_grid_cap)))/len(θ_list)\n",
    "    θ = θ_list@πᶜo \n",
    "    A = -δ*np.ones(y_grid_cap.shape)\n",
    "    B = θ*ems_star\n",
    "    C = σy**2*ems_star**2/2\n",
    "    D = δ*η*np.log(ems_star) + (η-1)*dΛ*ems_star*θ + (η-1)*ddΛ*ems_star**2*σy**2/2\n",
    "    ϕ_bound = np.average(ϕ_list, axis=0, weights=dmg_weight)[:numy_bar+1]\n",
    "    ϕ = ϕ_bound\n",
    "    episode = 0\n",
    "    lhs_error = 1\n",
    "    while lhs_error > tol and episode < max_iter:\n",
    "        ϕ_old = ϕ.copy()\n",
    "        dϕdy = derivative_1d(ϕ, 1, dy, True)\n",
    "        dϕdyy = derivative_1d(ϕ, 2, dy, True)\n",
    "        # solver\n",
    "        ϕ_new = solve_ode(A, B, C, D, y_grid_cap, ϕ, ϵ, (True, ϕ_bound[numy_bar]))\n",
    "        rhs = -δ*ϕ_new + B*dϕdy + C*dϕdyy + D\n",
    "        rhs_error = np.max(abs(rhs))\n",
    "        lhs_error = np.max(abs((ϕ_new - ϕ_old)/ϵ))\n",
    "        ϕ = ϕ_new\n",
    "        episode += 1\n",
    "    print(\"episode: {},\\t ode error: {},\\t ft error: {}\".format(episode, rhs_error, lhs_error))\n",
    "\n",
    "    dϕdy = derivative_1d(ϕ, 1, dy)\n",
    "    dϕdyy = derivative_1d(ϕ, 2, dy)\n",
    "    \n",
    "    ME = -(dϕdy+(η-1)*dΛ)*θ - (dϕdyy+(η-1)*ddΛ)*σy**2*ems_star\n",
    "    ratio = ME/(δ*η/ems_star)\n",
    "\n",
    "    return ME, ratio"
   ]
  },
  {
   "cell_type": "code",
   "execution_count": 198,
   "id": "assured-optics",
   "metadata": {
    "scrolled": true
   },
   "outputs": [
    {
     "name": "stdout",
     "output_type": "stream",
     "text": [
      "episode: 912,\t ode error: 6.5800420916837165e-06,\t ft error: 9.837921380317916e-09\n"
     ]
    }
   ],
   "source": [
    "ME_base, ratio_base = solve_baseline(y_grid, numy_bar, solu, ϕ_list, args)"
   ]
  },
  {
   "cell_type": "code",
   "execution_count": 205,
   "id": "increasing-ethics",
   "metadata": {},
   "outputs": [
    {
     "data": {
      "text/plain": [
       "(0.0, 40.0)"
      ]
     },
     "execution_count": 205,
     "metadata": {},
     "output_type": "execute_result"
    },
    {
     "data": {
      "image/png": "[encoded data removed]",
      "text/plain": [
       "<Figure size 432x288 with 1 Axes>"
      ]
     },
     "metadata": {
      "needs_background": "light"
     },
     "output_type": "display_data"
    }
   ],
   "source": [
    "plt.plot(- 100*np.log(ratio_base)[:-6], linewidth=2.5)\n",
    "plt.ylim(0, 40)"
   ]
  },
  {
   "cell_type": "markdown",
   "id": "quarterly-estimate",
   "metadata": {},
   "source": [
    "# SCC uncertainty decomposition: pre jump\n",
    "\n",
    "## With minimization over climate models\n",
    "\n",
    "\n",
    "Call solution $\\tilde e^* $. Now solve:\n",
    "$$\n",
    "\\begin{aligned}\n",
    "0 = \\min_h & - \\delta \\color{red}{\\phi(y)}+ \\frac{\\xi_w}{2}h'h \\\\\n",
    "& + \\delta\\eta \\log\\tilde e^* + \\frac{1}{2} \\color{red}{ \\frac{d^2 \\phi}{dy^2}}\\cdot(\\tilde e^*)^2 |\\sigma_y|^2 + \\frac{1}{2}(\\eta -1)\\gamma_2(\\tilde e^*)^2 |\\sigma_y|^2\\\\\n",
    "& + \\left[\\color{red}{\\frac{d\\phi}{dy}}  + (\\eta -1)(\\gamma_1 + \\gamma_2 y)\\right] \\tilde e^* (\\sum_i \\pi_i^c \\theta_i + \\sigma_y h)\n",
    "\\end{aligned}\n",
    "$$\n",
    "\n",
    "$$\n",
    "h^* = - \\frac{\\frac{d\\phi(y)}{dy} + (\\eta - 1 )(\\gamma_1 + \\gamma_2 y)}{\\xi_w}\\tilde e^* \\sigma_y\n",
    "$$\n",
    "\n",
    "Plug back in \n",
    "\n",
    "$$\n",
    "\\begin{aligned}\n",
    "    0 =  & - \\delta \\color{red}{\\phi(y)} - \\frac{1}{2\\xi_w} \\left( \\color{red}{\\frac{d\\phi(y)}{dy} } + (\\eta -1) (\\gamma_1 + \\gamma_2 y) \\right)^2 (\\tilde e^*)^2 |\\sigma_y|^2\\\\\n",
    "& + \\delta\\eta \\log\\tilde e^* + \\frac{1}{2} \\color{red}{ \\frac{d^2 \\phi}{dy^2}}\\cdot(\\tilde e^*)^2 |\\sigma_y|^2 + \\frac{1}{2}(\\eta -1)\\gamma_2(\\tilde e^*)^2 |\\sigma_y|^2\\\\\n",
    "& + \\left[\\color{red}{\\frac{d\\phi}{dy}}  + (\\eta -1)(\\gamma_1 + \\gamma_2 y)\\right] \\tilde e^* \\sum_i \\pi_i^c \\theta_i\n",
    "\\end{aligned}\n",
    "$$\n",
    "\n",
    "First order condition for $\\tilde e$\n",
    "\n",
    "$$\n",
    "    \\left(  - \\frac{1}{\\xi_w} \\left( \\color{red}{\\frac{d\\phi(y)}{dy} } + (\\eta -1) (\\gamma_1 + \\gamma_2 y) \\right)^2  + \\frac{d^2\\phi(y)}{dy^2} + (\\eta-1)\\cdot\\gamma_2  \\right)|\\sigma_y|^2 \\tilde e + \\sum_j \\pi^c_j \\left[\\frac{d\\phi(y)}{dy} + (\\eta - 1)(\\gamma_1 + \\gamma_2 y)\\right]\\theta_j  + \\frac{\\delta\\eta}{\\tilde e} = 0 \\tag{$\\ast$}\n",
    "$$"
   ]
  },
  {
   "cell_type": "code",
   "execution_count": 129,
   "id": "equivalent-bottle",
   "metadata": {
    "code_folding": []
   },
   "outputs": [],
   "source": [
    "# solve for decompose\n",
    "def minimize_h(y_grid, numy_bar, solu, ϕ_list, args, ϵ=0.2, tol=1e-8, max_iter=10_000):\n",
    "    \"\"\"\n",
    "    compute jump model with ambiguity over climate models\n",
    "    \"\"\"\n",
    "    δ, η, θ_list, γ1, γ2, γ3_list, ȳ, dmg_weight, ς, ξp, ξa, ξw, σy = args\n",
    "    ems_star = solu['ems']\n",
    "    # solve for HJB with jump function\n",
    "    y_grid_cap = y_grid[:numy_bar+1]\n",
    "    dy = y_grid_cap[1] - y_grid_cap[0]\n",
    "    dΛ = γ1 + γ2*y_grid_cap\n",
    "    ddΛ = γ2\n",
    "    πᶜo = np.ones((len(θ_list), len(y_grid_cap)))/len(θ_list)\n",
    "    θ = θ_list@πᶜo \n",
    "    \n",
    "    ϕ_bound = np.average(ϕ_list, axis=0, weights=dmg_weight)[:numy_bar+1]\n",
    "    ϕ = ϕ_bound\n",
    "    episode = 0\n",
    "    lhs_error = 1\n",
    "    while lhs_error > tol and episode < max_iter:\n",
    "        ϕ_old = ϕ.copy()\n",
    "        dϕdy = derivative_1d(ϕ, 1, dy)\n",
    "        dϕdyy = derivative_1d(ϕ, 2, dy)\n",
    "        # solver\n",
    "        temp = dϕdy + (η-1)*dΛ\n",
    "        A = -δ*np.ones(y_grid_cap.shape)\n",
    "        B = θ*ems_star\n",
    "        C = σy**2*ems_star**2/2\n",
    "        D = δ*η*np.log(ems_star) + (η-1)*dΛ*ems_star*θ \\\n",
    "        + 1/2*(η-1)*ddΛ*ems_star**2*σy**2\\\n",
    "        - 1/(2*ξw)*temp**2*ems_star**2*σy**2\n",
    "        ϕ_new = solve_ode(A, B, C, D, y_grid_cap, ϕ, ϵ, (True, ϕ_bound[numy_bar]))\n",
    "        rhs = -δ*ϕ_new + B*dϕdy + C*dϕdyy + D\n",
    "        rhs_error = np.max(abs(rhs))\n",
    "        lhs_error = np.max(abs((ϕ_new - ϕ_old)/ϵ))\n",
    "        ϕ = ϕ_new\n",
    "        episode += 1\n",
    "    print(\"episode: {},\\t ode error: {},\\t ft error: {}\".format(episode, rhs_error, lhs_error))\n",
    "\n",
    "    dϕdy = derivative_1d(ϕ, 1, dy)\n",
    "    dϕdyy = derivative_1d(ϕ, 2, dy)\n",
    "    temp = dϕdy + (η-1)*dΛ\n",
    "    \n",
    "    ME = -temp*θ - (- 1/ξw*temp**2 + dϕdyy+(η-1)*ddΛ)*σy**2*ems_star\n",
    "    ratio = ME/(δ*η/ems_star)\n",
    "\n",
    "    return ME, ratio, ϕ"
   ]
  },
  {
   "cell_type": "code",
   "execution_count": 206,
   "id": "interim-aberdeen",
   "metadata": {
    "scrolled": true
   },
   "outputs": [
    {
     "name": "stdout",
     "output_type": "stream",
     "text": [
      "episode: 1140,\t ode error: 4.916912336065356e-06,\t ft error: 9.72012359490293e-09\n"
     ]
    }
   ],
   "source": [
    "ME, ratio, ϕ = minimize_h(y_grid, numy_bar, solu, ϕ_list, args)"
   ]
  },
  {
   "cell_type": "code",
   "execution_count": 211,
   "id": "dominant-season",
   "metadata": {
    "scrolled": false
   },
   "outputs": [
    {
     "data": {
      "text/plain": [
       "(0.0, 40.0)"
      ]
     },
     "execution_count": 211,
     "metadata": {},
     "output_type": "execute_result"
    },
    {
     "data": {
      "image/png": "[encoded data removed]",
      "text/plain": [
       "<Figure size 432x288 with 1 Axes>"
      ]
     },
     "metadata": {
      "needs_background": "light"
     },
     "output_type": "display_data"
    }
   ],
   "source": [
    "plt.plot(y_grid[:numy_bar+1][:-6],-100*np.log(ratio)[:-6])\n",
    "plt.ylim(0,40)"
   ]
  },
  {
   "cell_type": "code",
   "execution_count": 213,
   "id": "stainless-departure",
   "metadata": {},
   "outputs": [
    {
     "data": {
      "text/plain": [
       "(0.0, 1.0)"
      ]
     },
     "execution_count": 213,
     "metadata": {},
     "output_type": "execute_result"
    },
    {
     "data": {
      "image/png": "[encoded data removed]",
      "text/plain": [
       "<Figure size 432x288 with 1 Axes>"
      ]
     },
     "metadata": {
      "needs_background": "light"
     },
     "output_type": "display_data"
    }
   ],
   "source": [
    "plt.plot(y_grid[:numy_bar+1],ratio, linewidth=2.5)\n",
    "plt.ylim(0,1)"
   ]
  },
  {
   "cell_type": "markdown",
   "id": "systematic-avatar",
   "metadata": {},
   "source": [
    "## Minimize over $\\pi^c$\n",
    "\n",
    "Call solution $\\tilde e^* $. Now solve:\n",
    "$$\n",
    "\\begin{aligned}\n",
    "0 = \\min_{\\hat \\pi^c_i} & - \\delta \\color{red}{\\phi(y)} + \\delta\\eta \\log\\tilde e^* \\\\\n",
    "&  + \\frac{1}{2} \\color{red}{ \\frac{d^2 \\phi}{dy^2}}\\cdot(\\tilde e^*)^2 |\\sigma_y|^2 + \\frac{1}{2}(\\eta -1)\\gamma_2(\\tilde e^*)^2 |\\sigma_y|^2\\\\\n",
    "& + \\left[\\color{red}{\\frac{d\\phi}{dy}}  + (\\eta -1)(\\gamma_1 + \\gamma_2 y)\\right] \\tilde e^* \\sum_i \\hat \\pi_i^c \\theta_i \\\\\n",
    "& + \\xi_a \\sum_{i=1}^n \\hat \\pi^c_i (\\log \\hat \\pi^c_i - \\log \\pi^c_i)\n",
    "\\end{aligned}\n",
    "$$"
   ]
  },
  {
   "cell_type": "code",
   "execution_count": 134,
   "id": "analyzed-rates",
   "metadata": {
    "code_folding": []
   },
   "outputs": [],
   "source": [
    "# solve for decompose\n",
    "def minimize_π(y_grid, numy_bar, solu, ϕ_list, args, ϵ=0.3, tol=1e-8, max_iter=10_000):\n",
    "    \"\"\"\n",
    "    compute jump model with ambiguity over climate models\n",
    "    \"\"\"\n",
    "    δ, η, θ_list, γ1, γ2, γ3_list, ȳ, dmg_weight, ς, ξp, ξa, ξw, σy = args\n",
    "    ems_star = solu['ems']\n",
    "    # solve for HJB with jump function\n",
    "    y_grid_cap = y_grid[:numy_bar+1]\n",
    "    dy = y_grid_cap[1] - y_grid_cap[0]\n",
    "    dΛ = γ1 + γ2*y_grid_cap\n",
    "    ddΛ = γ2\n",
    "    πᶜo = np.ones((len(θ_list), len(y_grid_cap)))/len(θ_list)\n",
    "    \n",
    "    ϕ_bound = np.average(ϕ_list, axis=0, weights=dmg_weight)[:numy_bar+1]\n",
    "    ϕ = ϕ_bound\n",
    "    episode = 0\n",
    "    lhs_error = 1\n",
    "    while lhs_error > tol and episode < max_iter:\n",
    "        ϕ_old = ϕ.copy()\n",
    "        dϕdy = derivative_1d(ϕ, 1, dy, True)\n",
    "        dϕdyy = derivative_1d(ϕ, 2, dy, True)\n",
    "        # solver\n",
    "        temp = dϕdy + (η-1)*dΛ\n",
    "        # minimize over π\n",
    "        weight = np.array([ - 1/ξa*temp*ems_star*θ for θ in θ_list])\n",
    "        weight = weight - np.max(weight, axis=0)\n",
    "        πᶜ = πᶜo*np.exp(weight)\n",
    "        πᶜ[πᶜ <= 1e-15] = 1e-15\n",
    "        πᶜ = πᶜ/np.sum(πᶜ, axis=0)\n",
    "        A = -δ*np.ones(y_grid_cap.shape)\n",
    "        B = (θ_list@πᶜ)*ems_star\n",
    "        C = σy**2*ems_star**2/2\n",
    "        D = δ*η*np.log(ems_star) + (θ_list@πᶜ)*(η-1)*dΛ*ems_star \\\n",
    "        + ξa*np.sum(πᶜ*(np.log(πᶜ) - np.log(πᶜo)), axis=0)\\\n",
    "        + 1/2*(η-1)*ddΛ*ems_star**2*σy**2\n",
    "        ϕ_new = solve_ode(A, B, C, D, y_grid_cap, ϕ, ϵ, (True, ϕ_bound[numy_bar]))\n",
    "        rhs = -δ*ϕ_new + B*dϕdy + C*dϕdyy + D\n",
    "        rhs_error = np.max(abs(rhs))\n",
    "        lhs_error = np.max(abs((ϕ_new - ϕ_old)/ϵ))\n",
    "        ϕ = ϕ_new\n",
    "        episode += 1\n",
    "    print(\"episode: {},\\t ode error: {},\\t ft error: {}\".format(episode, rhs_error, lhs_error))\n",
    "\n",
    "    dϕdy = derivative_1d(ϕ, 1, dy)\n",
    "    dϕdyy = derivative_1d(ϕ, 2, dy)\n",
    "    ME = -(dϕdy+(η-1)*dΛ)*(θ_list@πᶜ) - (dϕdyy+(η-1)*ddΛ)*σy**2*ems_star\n",
    "    ratio = ME/(δ*η/ems_star)\n",
    "    return ME, ratio"
   ]
  },
  {
   "cell_type": "code",
   "execution_count": 214,
   "id": "wooden-supply",
   "metadata": {
    "scrolled": true
   },
   "outputs": [
    {
     "name": "stdout",
     "output_type": "stream",
     "text": [
      "episode: 827,\t ode error: 7.976662328043952e-06,\t ft error: 9.84591503235451e-09\n"
     ]
    }
   ],
   "source": [
    "ME, ratio = minimize_π(y_grid, numy_bar, solu, ϕ_list, args)"
   ]
  },
  {
   "cell_type": "code",
   "execution_count": 215,
   "id": "streaming-plasma",
   "metadata": {
    "scrolled": true
   },
   "outputs": [
    {
     "data": {
      "text/plain": [
       "(0.0, 30.0)"
      ]
     },
     "execution_count": 215,
     "metadata": {},
     "output_type": "execute_result"
    },
    {
     "data": {
      "image/png": "[encoded data removed]",
      "text/plain": [
       "<Figure size 432x288 with 1 Axes>"
      ]
     },
     "metadata": {
      "needs_background": "light"
     },
     "output_type": "display_data"
    }
   ],
   "source": [
    "plt.plot(-100*np.log(ratio))\n",
    "plt.ylim(0,30)"
   ]
  },
  {
   "cell_type": "code",
   "execution_count": 216,
   "id": "dedicated-excuse",
   "metadata": {
    "scrolled": false
   },
   "outputs": [
    {
     "name": "stdout",
     "output_type": "stream",
     "text": [
      "episode: 889,\t ode error: 6.894260710982227e-06,\t ft error: 9.805807323533719e-09\n"
     ]
    }
   ],
   "source": [
    "# temperature\n",
    "args = (δ, η, θcarb_list, γ1, γ2, γ3_list, ȳ, dmg_weight, ς, ξp, ξa, ξw, σy)\n",
    "MEcarb, ratiocarb = minimize_π(y_grid, numy_bar, solu, ϕ_list, args)"
   ]
  },
  {
   "cell_type": "code",
   "execution_count": 217,
   "id": "informed-mixture",
   "metadata": {
    "scrolled": false
   },
   "outputs": [
    {
     "data": {
      "text/plain": [
       "(0.0, 30.0)"
      ]
     },
     "execution_count": 217,
     "metadata": {},
     "output_type": "execute_result"
    },
    {
     "data": {
      "image/png": "[encoded data removed]",
      "text/plain": [
       "<Figure size 432x288 with 1 Axes>"
      ]
     },
     "metadata": {
      "needs_background": "light"
     },
     "output_type": "display_data"
    }
   ],
   "source": [
    "plt.plot(-100*np.log(ratiocarb))\n",
    "plt.ylim(0,30)"
   ]
  },
  {
   "cell_type": "code",
   "execution_count": 218,
   "id": "residential-transsexual",
   "metadata": {
    "scrolled": true
   },
   "outputs": [
    {
     "name": "stdout",
     "output_type": "stream",
     "text": [
      "episode: 855,\t ode error: 7.420429135966027e-06,\t ft error: 9.841764509836242e-09\n"
     ]
    }
   ],
   "source": [
    "# temperature\n",
    "args = (δ, η, θtemp_list, γ1, γ2, γ3_list, ȳ, dmg_weight, ς, ξp, ξa, ξw, σy)\n",
    "MEtemp, ratiotemp = minimize_π(y_grid, numy_bar, solu, ϕ_list, args)"
   ]
  },
  {
   "cell_type": "code",
   "execution_count": 219,
   "id": "reported-family",
   "metadata": {},
   "outputs": [
    {
     "data": {
      "text/plain": [
       "(0.0, 30.0)"
      ]
     },
     "execution_count": 219,
     "metadata": {},
     "output_type": "execute_result"
    },
    {
     "data": {
      "image/png": "[encoded data removed]",
      "text/plain": [
       "<Figure size 432x288 with 1 Axes>"
      ]
     },
     "metadata": {
      "needs_background": "light"
     },
     "output_type": "display_data"
    }
   ],
   "source": [
    "plt.plot(-100*np.log(ratiotemp))\n",
    "plt.ylim(0,30)"
   ]
  },
  {
   "cell_type": "markdown",
   "id": "dense-liabilities",
   "metadata": {},
   "source": [
    "# Minimize over $g_i$\n",
    "\n",
    "$$\n",
    "\\begin{aligned}\n",
    "0 = \\min_h & - \\delta \\color{red}{\\phi(y)} + \\delta\\eta \\log\\tilde e^* \\\\\n",
    "&  + \\frac{1}{2} \\color{red}{ \\frac{d^2 \\phi}{dy^2}}\\cdot(\\tilde e^*)^2 |\\sigma_y|^2 + \\frac{1}{2}(\\eta -1)\\gamma_2(\\tilde e^*)^2 |\\sigma_y|^2\\\\\n",
    "& + \\left[\\color{red}{\\frac{d\\phi}{dy}}  + (\\eta -1)(\\gamma_1 + \\gamma_2 y)\\right] \\tilde e^* \\sum_i \\pi_i^c \\theta_i\n",
    "\\end{aligned}\n",
    "$$\n"
   ]
  },
  {
   "cell_type": "code",
   "execution_count": 149,
   "id": "cubic-france",
   "metadata": {
    "code_folding": []
   },
   "outputs": [],
   "source": [
    "# solve for decompose\n",
    "def minimize_g(y_grid, numy_bar, solu, ϕ_list, args, ϵ=0.3, tol=1e-8, max_iter=10_000):\n",
    "    \"\"\"\n",
    "    compute jump model with ambiguity over climate models\n",
    "    \"\"\"\n",
    "    δ, η, θ_list, γ1, γ2, γ3_list, ȳ, dmg_weight, ς, ξp, ξa, ξw, σy = args\n",
    "    ems_star = solu['ems']\n",
    "    # solve for HJB with jump function\n",
    "    ϕ_bound = np.average(np.exp(-1/ξp*ϕ_list), axis=0, weights=dmg_weight)\n",
    "    ϕ_bound = -ξp*np.log(ϕ_bound)\n",
    "    y_grid_cap = y_grid[:numy_bar+1]\n",
    "    dy = y_grid_cap[1] - y_grid_cap[0]\n",
    "    dΛ = γ1 + γ2*y_grid_cap\n",
    "    ddΛ = γ2\n",
    "    πᶜo = np.ones((len(θ_list), len(y_grid_cap)))/len(θ_list)\n",
    "    θ = θ_list@πᶜo \n",
    "    \n",
    "    ϕ = np.average(ϕ_list, axis=0, weights=dmg_weight)[:numy_bar+1]\n",
    "    episode = 0\n",
    "    lhs_error = 1\n",
    "    while lhs_error > tol and episode < max_iter:\n",
    "        ϕ_old = ϕ.copy()\n",
    "        dϕdy = derivative_1d(ϕ, 1, dy, True)\n",
    "        dϕdyy = derivative_1d(ϕ, 2, dy, True)\n",
    "        # solver\n",
    "        temp = dϕdy + (η-1)*dΛ\n",
    "        A = -δ*np.ones(y_grid_cap.shape)\n",
    "        B = θ*ems_star\n",
    "        C = σy**2*ems_star**2/2\n",
    "        D = δ*η*np.log(ems_star) + (η-1)*dΛ*ems_star*θ \\\n",
    "        + (η-1)*ddΛ*ems_star**2*σy**2/2\n",
    "        ϕ_new = solve_ode(A, B, C, D, y_grid_cap, ϕ, ϵ, (True, ϕ_bound[numy_bar]))\n",
    "        rhs = -δ*ϕ_new + B*dϕdy + C*dϕdyy + D\n",
    "        rhs_error = np.max(abs(rhs))\n",
    "        lhs_error = np.max(abs((ϕ_new - ϕ_old)/ϵ))\n",
    "        ϕ = ϕ_new\n",
    "        episode += 1\n",
    "    print(\"episode: {},\\t ode error: {},\\t ft error: {}\".format(episode, rhs_error, lhs_error))\n",
    "\n",
    "    dϕdy = derivative_1d(ϕ, 1, dy)\n",
    "    dϕdyy = derivative_1d(ϕ, 2, dy)\n",
    "    temp = dϕdy + (η-1)*dΛ    \n",
    "    ME = -temp*θ - ( dϕdyy+(η-1)*ddΛ)*σy**2*ems_star\n",
    "    ratio = ME/(δ*η/ems_star)\n",
    "\n",
    "    return ME, ratio, ϕ"
   ]
  },
  {
   "cell_type": "code",
   "execution_count": 220,
   "id": "wrong-awareness",
   "metadata": {},
   "outputs": [
    {
     "name": "stdout",
     "output_type": "stream",
     "text": [
      "episode: 961,\t ode error: 8.554104293092039e-06,\t ft error: 9.658785345608342e-09\n"
     ]
    }
   ],
   "source": [
    "MEdmg, ratiodmg, ϕ = minimize_g(y_grid, numy_bar, solu, ϕ_list, args)"
   ]
  },
  {
   "cell_type": "code",
   "execution_count": 226,
   "id": "mobile-phoenix",
   "metadata": {},
   "outputs": [
    {
     "data": {
      "text/plain": [
       "(0.0, 24.929867632004836)"
      ]
     },
     "execution_count": 226,
     "metadata": {},
     "output_type": "execute_result"
    },
    {
     "data": {
      "image/png": "[encoded data removed]",
      "text/plain": [
       "<Figure size 432x288 with 1 Axes>"
      ]
     },
     "metadata": {
      "needs_background": "light"
     },
     "output_type": "display_data"
    }
   ],
   "source": [
    "plt.plot(-100*np.log(ratiodmg))\n",
    "plt.ylim(bottom=0)"
   ]
  },
  {
   "cell_type": "code",
   "execution_count": 223,
   "id": "settled-dairy",
   "metadata": {
    "scrolled": true
   },
   "outputs": [
    {
     "data": {
      "text/plain": [
       "<matplotlib.legend.Legend at 0x7ff3da733fa0>"
      ]
     },
     "execution_count": 223,
     "metadata": {},
     "output_type": "execute_result"
    },
    {
     "data": {
      "image/png": "[encoded data removed]",
      "text/plain": [
       "<Figure size 432x288 with 1 Axes>"
      ]
     },
     "metadata": {
      "needs_background": "light"
     },
     "output_type": "display_data"
    }
   ],
   "source": [
    "plt.plot(y_grid[:numy_bar+1], 1 - ratiotemp , label= \"temperature\")\n",
    "plt.plot(y_grid[:numy_bar+1], 1 - ratiocarb, label= \"carbon\")\n",
    "plt.plot(y_grid[:numy_bar+1], 1 - ratiodmg, label=\"damage\")\n",
    "plt.plot(y_grid[:numy_bar+1], 1 - ratio_base, label=\"total\")\n",
    "plt.ylim(bottom=0)\n",
    "plt.legend()"
   ]
  },
  {
   "cell_type": "code",
   "execution_count": 225,
   "id": "electrical-remove",
   "metadata": {},
   "outputs": [
    {
     "data": {
      "text/plain": [
       "<matplotlib.legend.Legend at 0x7ff3e41b6430>"
      ]
     },
     "execution_count": 225,
     "metadata": {},
     "output_type": "execute_result"
    },
    {
     "data": {
      "image/png": "[encoded data removed]",
      "text/plain": [
       "<Figure size 432x288 with 1 Axes>"
      ]
     },
     "metadata": {
      "needs_background": "light"
     },
     "output_type": "display_data"
    }
   ],
   "source": [
    "plt.plot(y_grid[:numy_bar+1], (1 - ratiotemp)/(1 - ratio_base), label= \"temperature\")\n",
    "plt.plot(y_grid[:numy_bar+1], (1 - ratiocarb)/(1 - ratio_base), label= \"carbon\")\n",
    "plt.plot(y_grid[:numy_bar+1], (1 - ratiodmg)/(1 - ratio_base), label=\"damage\")\n",
    "plt.ylim(bottom=0)\n",
    "plt.legend()"
   ]
  },
  {
   "cell_type": "code",
   "execution_count": null,
   "id": "mediterranean-saturn",
   "metadata": {},
   "outputs": [],
   "source": [
    "def plot_together(et, ratio, θ_list, ht, πᶜt, πᵈt, MEt):\n",
    "    y_grid_cap = y_grid[:numy_bar+1]\n",
    "    πᶜo = πᶜo = np.ones(len(θ_list))/len(θ_list)\n",
    "    # plot\n",
    "    fig,((ax1, ax2), (ax3, ax4)) = plt.subplots(2,2, figsize=(12,8))\n",
    "    fig.tight_layout(pad=5)\n",
    "    # plot 1\n",
    "    ax1.plot(πᵈt[:,1], label=\"high damage\", color=\"C3\")\n",
    "    ax1.plot(πᵈt[:,0], label=\"low\", color=\"C0\")\n",
    "    ax1.legend(frameon=False)\n",
    "    ax1.set_xlabel('Years')\n",
    "    ax1.set_ylim(0,1)\n",
    "    ax1.set_xlim(left=0)\n",
    "    ax1.set_title('distorted probability of damage')\n",
    "    # plot 2\n",
    "    bins = np.linspace(1,3,14)\n",
    "    ax2.hist(θ_list*1000, density=True, color='tab:red', bins=bins, histtype='bar', ec='gray', alpha=.5, )\n",
    "    ax2.hist((θ_list+σy*ht[49])*1000, weights=πᶜt[49], density=True, color='tab:blue',bins=bins, histtype='bar', ec='gray', alpha=.5,)\n",
    "    ax2.set_title('mean difference: {:.4f}'.format((θ_list@(πᶜt[49]-πᶜo)+σy*ht[49])*1000))\n",
    "    ax2.set_xlabel('Climate sensitivity, year 50')\n",
    "    # plot 3\n",
    "    ax3.plot(et[et_base>0],label='distorted', color=\"C3\")\n",
    "    ax3.plot(et_base[et_base>0], label=\"baseline\", color=\"C0\")\n",
    "    ax3.legend(frameon=False)\n",
    "    ax3.set_xlabel('Years')\n",
    "    ax3.set_ylim(bottom=0)\n",
    "    ax3.set_xlim(left=0)\n",
    "    ax3.set_title('emission')\n",
    "    # plot 4\n",
    "    SCCt_base = simulate_scc(invkap, αₖ,  σₖ, κ, k0, MEt)\n",
    "    SCCt_distorted = simulate_scc(invkap, αₖ,  σₖ, κ, k0, δ*η/et)\n",
    "#     ax4.plot((δ*η/et[et>0])/MC[et>0]*1000, label=\"total\", color=\"C3\")\n",
    "    ax4.plot(SCCt_distorted, label=\"total\", color=\"C3\")\n",
    "#     ax4.plot((ME/MC)[et>0]*1000, label=\"baseline\", color=\"C0\")\n",
    "    ax4.plot(SCCt_base, label=\"baseline\", color=\"C0\")\n",
    "    ax4.legend(frameon=False)\n",
    "    ax4.set_xlabel('Years')\n",
    "    ax4.set_ylim(bottom=0)\n",
    "    ax4.set_xlim(left=0)\n",
    "    ax4.set_title('social cost of carbon')\n",
    "    \n",
    "    return fig, ((ax1, ax2), (ax3, ax4))"
   ]
  },
  {
   "cell_type": "code",
   "execution_count": null,
   "id": "thirty-bacteria",
   "metadata": {},
   "outputs": [],
   "source": [
    "ξa = 1000\n",
    "ξw = 1000\n",
    "ξp = 1000\n",
    "dmg_weight = np.array([0.5, 0.5, 0])\n",
    "args = (δ, η, θ_list, γ1, γ2, γ3_list, ȳ, dmg_weight, ς, ξp, ξa, ξw, σy)\n",
    "solu, ϕ_list = approach_one(y_grid, numy_bar, args, max_iter=5_000)"
   ]
  },
  {
   "cell_type": "code",
   "execution_count": null,
   "id": "competitive-committee",
   "metadata": {},
   "outputs": [],
   "source": [
    "_, et_base, _, _, _, _ = simulate_jump(y_grid[:numy_bar+1], solu, None, θ_list)"
   ]
  },
  {
   "cell_type": "code",
   "execution_count": null,
   "id": "asian-tobago",
   "metadata": {},
   "outputs": [],
   "source": [
    "plt.plot(et_base[et_base>0])"
   ]
  },
  {
   "cell_type": "code",
   "execution_count": null,
   "id": "incomplete-profession",
   "metadata": {},
   "outputs": [],
   "source": [
    "ξa = 1/15_000\n",
    "ξw = 1/600\n",
    "ξp = ξw\n",
    "dmg_weight = np.array([0.5, 0.5, 0])\n",
    "args = (δ, η, θ_list, γ1, γ2, γ3_list, ȳ, dmg_weight, ς, ξp, ξa, ξw, σy)\n",
    "solu, ϕ_list = approach_one(y_grid, numy_bar, args, max_iter=5_000)\n",
    "ME, ratio = solve_baseline(y_grid, numy_bar, solu, ϕ_list, args)\n",
    "yt, et, πᵈt, πᶜt, ιt, ht, me = simulate_jump(y_grid[:numy_bar+1], solu, ME, θ_list)"
   ]
  },
  {
   "cell_type": "code",
   "execution_count": null,
   "id": "guided-holocaust",
   "metadata": {
    "scrolled": false
   },
   "outputs": [],
   "source": [
    "fig, ((ax1, ax2), (ax3, ax4)) = plot_together(et, ratio, θ_list, ht, πᶜt, πᵈt, me)\n",
    "fig.suptitle(\"$ξ_a = 1/15000,\\ ξ_w = 1/\\ 600,\\ ξ_p =  \\ ξ_w $\")\n",
    "# plt.savefig('15_600_1.pdf')\n",
    "plt.show()"
   ]
  },
  {
   "cell_type": "code",
   "execution_count": null,
   "id": "vocational-thumbnail",
   "metadata": {},
   "outputs": [],
   "source": [
    "ξₐ = 1/15_000\n",
    "ξ = 1/600\n",
    "ξₘ = 30*ξ\n",
    "dmg_weight = np.array([0.5, 0.5, 0])\n",
    "args = (δ, η, θ_list, γ1, γ2, γ3_list, dmg_weight, ς, ξₘ, ξₐ, ξ, σy)\n",
    "ϕ, ems, πᶜ, ι, πᵈ, h, ϕ_list = approach_one(y_grid, numy_bar, args, max_iter=5_000)\n",
    "ME, ratio = solve_decompose(y_grid, numy_bar, ems, ϕ_list, args)\n",
    "yt, et, πᵈt, πᶜt, ιt, ht, me = simulate_jump(y_grid[:numy_bar+1], ems, πᶜ, πᵈ, ι, h, ME, θ_list)"
   ]
  },
  {
   "cell_type": "code",
   "execution_count": null,
   "id": "oriented-printing",
   "metadata": {
    "scrolled": false
   },
   "outputs": [],
   "source": [
    "plot_together(et, ratio, θ_list, ht, πᶜt, πᵈt, me)\n",
    "# plt.savefig('15_600_30.pdf')\n",
    "plt.show()"
   ]
  },
  {
   "cell_type": "code",
   "execution_count": null,
   "id": "later-product",
   "metadata": {},
   "outputs": [],
   "source": [
    "ξₐ = 1/15_000\n",
    "ξ = 1/600\n",
    "ξₘ = ξ\n",
    "dmg_weight = np.array([0.5, 0.5, 0])\n",
    "args = (δ, η, θ_list, γ1, γ2, γ3_list, dmg_weight, ς, ξₘ, ξₐ, ξ, σy)\n",
    "ϕ, ems, πᶜ, ι, πᵈ, h, ϕ_list = approach_one(y_grid, numy_bar, args, max_iter=5_000)\n",
    "ME, ratio = solve_decompose(y_grid, numy_bar, ems, ϕ_list, args)\n",
    "yt, et, πᵈt, πᶜt, ιt, ht, me = simulate_jump(y_grid[:numy_bar+1], ems, πᶜ, πᵈ, ι, h, ME, θ_list)"
   ]
  },
  {
   "cell_type": "code",
   "execution_count": null,
   "id": "intimate-exhibit",
   "metadata": {
    "scrolled": false
   },
   "outputs": [],
   "source": [
    "plot_together(et, ratio, θ_list, ht, πᶜt, πᵈt, me)\n",
    "# plt.savefig('15_600_1.pdf')\n",
    "plt.show()"
   ]
  },
  {
   "cell_type": "code",
   "execution_count": null,
   "id": "classified-prisoner",
   "metadata": {},
   "outputs": [],
   "source": [
    "ξₐ = 1/15_000\n",
    "ξ = 1/600\n",
    "ξₘ = 1000\n",
    "dmg_weight = np.array([0.5, 0.5, 0])\n",
    "args = (δ, η, θ_list, γ1, γ2, γ3_list, dmg_weight, ς, ξₘ, ξₐ, ξ, σy)\n",
    "ϕ, ems, πᶜ, ι, πᵈ, h, ϕ_list = approach_one(y_grid, numy_bar, args, max_iter=5_000)\n",
    "ME, ratio = solve_decompose(y_grid, numy_bar, ems, ϕ_list, args)\n",
    "yt, et, πᵈt, πᶜt, ιt, ht, me = simulate_jump(y_grid[:numy_bar+1], ems, πᶜ, πᵈ, ι, h, ME, θ_list)"
   ]
  },
  {
   "cell_type": "code",
   "execution_count": null,
   "id": "compact-begin",
   "metadata": {},
   "outputs": [],
   "source": [
    "plot_together(et, ratio, θ_list, ht, πᶜt, πᵈt, me)\n",
    "# plt.savefig('15_600_1000.pdf')\n",
    "plt.show()"
   ]
  }
 ],
 "metadata": {
  "kernelspec": {
   "display_name": "ry38",
   "language": "python",
   "name": "ry38"
  },
  "language_info": {
   "codemirror_mode": {
    "name": "ipython",
    "version": 3
   },
   "file_extension": ".py",
   "mimetype": "text/x-python",
   "name": "python",
   "nbconvert_exporter": "python",
   "pygments_lexer": "ipython3",
   "version": "3.8.7"
  }
 },
 "nbformat": 4,
 "nbformat_minor": 5
}
