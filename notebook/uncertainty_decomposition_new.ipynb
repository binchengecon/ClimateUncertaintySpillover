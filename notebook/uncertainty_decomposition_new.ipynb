{
 "cells": [
  {
   "cell_type": "code",
   "execution_count": 2,
   "metadata": {},
   "outputs": [],
   "source": [
    "import os, sys\n",
    "sys.path.append(os.path.dirname(os.getcwd()) + '/source')\n",
    "\n",
    "import numpy as np\n",
    "import pandas as pd\n",
    "import matplotlib.pyplot as plt\n",
    "from model import ode_y, ode_y_jump_approach_one, ode_y_jump_approach_one_boundary\n",
    "from model import uncertainty_decomposition\n",
    "from utilities import find_nearest_value\n",
    "from numba import njit\n",
    "\n",
    "import matplotlib as mpl\n",
    "\n",
    "mpl.rcParams['axes.spines.right'] = False\n",
    "mpl.rcParams['axes.spines.top'] = False"
   ]
  },
  {
   "cell_type": "code",
   "execution_count": 100,
   "metadata": {},
   "outputs": [
    {
     "name": "stdout",
     "output_type": "stream",
     "text": [
      "Converged. Total iteration 5000: LHS Error: 5.767133888501252e-07; RHS Error 8.260435716617902e-07\n",
      "Converged. Total iteration 2058: LHS Error: 9.98032525373338e-09; RHS Error 5.286745306765756e-06\n",
      "Converged. Total iteration 2305: LHS Error: 9.991708682655087e-09; RHS Error 2.2506646237165286e-05\n",
      "Converged. Total iteration 522: LHS Error: 9.973912959426734e-09; RHS Error 4.879111920932e-06\n"
     ]
    }
   ],
   "source": [
    "ϵ = .5\n",
    "\n",
    "ξ_w=1000.\n",
    "ξ_p=1./25\n",
    "ξ_a=1./3000\n",
    "\n",
    "# damage_setting={'γ_2p': np.array([0, .0197*2, .3853*2]),\n",
    "#                 'πd_o': np.array([1./3, 1./3, 1./3])}\n",
    "damage_setting={'γ_2p': np.array([0, .0197*2, .3853*2]),\n",
    "                'πd_o': np.array([.475, .475, .05])}\n",
    "# damage_setting={'γ_2p': np.array([0, .0197*2]),\n",
    "#                 'πd_o': np.array([.5, .5])}\n",
    "\n",
    "η = .032\n",
    "δ = .01\n",
    "\n",
    "θ = pd.read_csv('../data/model144.csv', header=None).to_numpy()[:, 0]/1000.\n",
    "πc_o = np.ones_like(θ)/len(θ)\n",
    "\n",
    "σ_y = 1.2*np.mean(θ)\n",
    "y_bar = 2.\n",
    "γ_1 = 1.7675/10000\n",
    "γ_2 = .0022*2\n",
    "γ_2p = damage_setting['γ_2p']\n",
    "πd_o = damage_setting['πd_o']\n",
    "\n",
    "y_step = .02\n",
    "y_grid_long = np.arange(0., 4., y_step)\n",
    "y_grid_short = np.arange(0., 2+y_step, y_step)\n",
    "n_bar = find_nearest_value(y_grid_long, y_bar) + 1\n",
    "\n",
    "# Prepare ϕ_i\n",
    "ϕ_list = []\n",
    "for γ_2p_i in γ_2p:\n",
    "    model_paras = (η, δ, θ, πc_o, σ_y, ξ_w, ξ_a, γ_1, γ_2, γ_2p_i, y_bar) \n",
    "    model_res = ode_y(y_grid_long, model_paras, v0=None, ϵ=.5,\n",
    "                       tol=1e-8, max_iter=5_000, print_all=False)\n",
    "    ϕ_list.append(model_res['v0'])\n",
    "\n",
    "ϕ_list_short = []\n",
    "for ϕ_i in ϕ_list:\n",
    "    temp = ϕ_i[:n_bar]\n",
    "    ϕ_list_short.append(temp)\n",
    "ϕ_i = np.array(ϕ_list_short)\n",
    "\n",
    "# Compute ϕ\n",
    "ς = .25\n",
    "model_paras = (η, δ, θ, πc_o, σ_y, ξ_w, ξ_p, ξ_a, ς, γ_1, γ_2, y_bar, ϕ_i, πd_o)\n",
    "model_res = ode_y_jump_approach_one_boundary(y_grid_short, model_paras, \n",
    "                                             v0=np.average(ϕ_i, weights=πd_o, axis=0),\n",
    "                                             ϵ=ϵ, tol=1e-8, max_iter=10_000, print_all=False)\n",
    "\n",
    "ME_total = δ*η/model_res['e_tilde']"
   ]
  },
  {
   "cell_type": "code",
   "execution_count": 101,
   "metadata": {},
   "outputs": [
    {
     "name": "stdout",
     "output_type": "stream",
     "text": [
      "Converged. Total iteration 463: LHS Error: 9.932885777774736e-09; RHS Error 3.909429059397894e-06\n",
      "Converged. Total iteration 452: LHS Error: 9.920163565602103e-09; RHS Error 4.8793263061021525e-06\n",
      "Converged. Total iteration 460: LHS Error: 9.750508345174325e-09; RHS Error 3.86371407149036e-06\n",
      "Converged. Total iteration 453: LHS Error: 9.862493460799371e-09; RHS Error 4.880089363115724e-06\n",
      "Converged. Total iteration 457: LHS Error: 9.603352391085451e-09; RHS Error 4.9482967635264665e-06\n",
      "Converged. Total iteration 462: LHS Error: 9.630865896448348e-09; RHS Error 3.8145969399912944e-06\n",
      "Converged. Total iteration 463: LHS Error: 9.631493588790896e-09; RHS Error 3.6268527024811703e-06\n",
      "Converged. Total iteration 463: LHS Error: 9.578353887818025e-09; RHS Error 3.803199312859759e-06\n"
     ]
    }
   ],
   "source": [
    "# Uncertainty decomposition\n",
    "n_temp = 16\n",
    "n_carb = 9\n",
    "θ_reshape = θ.reshape(n_temp, n_carb)\n",
    "θ_temp = np.mean(θ_reshape, axis=1)\n",
    "θ_carb = np.mean(θ_reshape, axis=0)\n",
    "πc_o_temp = np.ones_like(θ_temp)/len(θ_temp)\n",
    "πc_o_carb = np.ones_like(θ_carb)/len(θ_carb)\n",
    "\n",
    "# Solve temperature & carbon uncertainty\n",
    "model_paras_new = (η, δ, θ, πc_o, σ_y, ξ_w, ξ_p, ξ_a, γ_1, γ_2, ϕ_i, πd_o)\n",
    "model_res_new = uncertainty_decomposition(y_grid_short, model_paras_new,\n",
    "                                          e_tilde=model_res['e_tilde'], \n",
    "                                          h=np.zeros_like(model_res['h']),\n",
    "                                          πc=None,\n",
    "                                          bc=np.average(ϕ_i, weights=πd_o, axis=0)[-1],\n",
    "                                          v0=None, ϵ=ϵ, tol=1e-8, max_iter=10_000, print_all=False)  \n",
    "ME_temp_carb = model_res_new['ME']\n",
    "\n",
    "# Solve temperature, carbon and damage uncertainty\n",
    "model_paras_new = (η, δ, θ, πc_o, σ_y, ξ_w, ξ_p, ξ_a, γ_1, γ_2, ϕ_i, πd_o)\n",
    "model_res_new = uncertainty_decomposition(y_grid_short, model_paras_new,\n",
    "                                          e_tilde=model_res['e_tilde'], \n",
    "                                          h=None,\n",
    "                                          πc=None,\n",
    "                                          bc=None,\n",
    "                                          v0=None, ϵ=ϵ, tol=1e-8, max_iter=10_000, print_all=False)  \n",
    "ME_total_check = model_res_new['ME']\n",
    "\n",
    "# Solve temperature uncertainty\n",
    "model_paras_new = (η, δ, θ_temp, πc_o_temp, σ_y, ξ_w, ξ_p, ξ_a, γ_1, γ_2, ϕ_i, πd_o)\n",
    "model_res_new = uncertainty_decomposition(y_grid_short, model_paras_new,\n",
    "                                          e_tilde=model_res['e_tilde'], \n",
    "                                          h=np.zeros_like(model_res['h']),\n",
    "                                          πc=None,\n",
    "                                          bc=np.average(ϕ_i, weights=πd_o, axis=0)[-1],\n",
    "                                          v0=None, ϵ=ϵ, tol=1e-8, max_iter=10_000, print_all=False)  \n",
    "ME_temp = model_res_new['ME']\n",
    "\n",
    "# Solve temperature uncertainty + damage uncertainty\n",
    "model_paras_new = (η, δ, θ_temp, πc_o_temp, σ_y, ξ_w, ξ_p, ξ_a, γ_1, γ_2, ϕ_i, πd_o)\n",
    "model_res_new = uncertainty_decomposition(y_grid_short, model_paras_new,\n",
    "                                          e_tilde=model_res['e_tilde'], \n",
    "                                          h=np.zeros_like(model_res['h']),\n",
    "                                          πc=None,\n",
    "                                          bc=None,\n",
    "                                          v0=None, ϵ=ϵ, tol=1e-8, max_iter=10_000, print_all=False)  \n",
    "ME_temp_damage = model_res_new['ME']\n",
    "\n",
    "# Solve carbon uncertainty + damage uncertainty\n",
    "model_paras_new = (η, δ, θ_carb, πc_o_carb, σ_y, ξ_w, ξ_p, ξ_a, γ_1, γ_2, ϕ_i, πd_o)\n",
    "model_res_new = uncertainty_decomposition(y_grid_short, model_paras_new,\n",
    "                                          e_tilde=model_res['e_tilde'], \n",
    "                                          h=np.zeros_like(model_res['h']),\n",
    "                                          πc=None,\n",
    "                                          bc=None,\n",
    "                                          v0=None, ϵ=ϵ, tol=1e-8, max_iter=10_000, print_all=False)  \n",
    "ME_carb_damage = model_res_new['ME']\n",
    "\n",
    "# Solve carbon uncertainty\n",
    "model_paras_new = (η, δ, θ_carb, πc_o_carb, σ_y, ξ_w, ξ_p, ξ_a, γ_1, γ_2, ϕ_i, πd_o)\n",
    "model_res_new = uncertainty_decomposition(y_grid_short, model_paras_new,\n",
    "                                          e_tilde=model_res['e_tilde'], \n",
    "                                          h=np.zeros_like(model_res['h']),\n",
    "                                          πc=None,\n",
    "                                          bc=np.average(ϕ_i, weights=πd_o, axis=0)[-1],\n",
    "                                          v0=None, ϵ=ϵ, tol=1e-8, max_iter=10_000, print_all=False)  \n",
    "ME_carb = model_res_new['ME']\n",
    "\n",
    "# Solve damage uncertainty\n",
    "model_paras_new = (η, δ, θ, πc_o, σ_y, ξ_w, ξ_p, ξ_a, γ_1, γ_2, ϕ_i, πd_o)\n",
    "model_res_new = uncertainty_decomposition(y_grid_short, model_paras_new,\n",
    "                                          e_tilde=model_res['e_tilde'], \n",
    "                                          h=np.zeros_like(model_res['h']),\n",
    "                                          πc=np.ones_like(model_res['πc'])/len(θ),\n",
    "                                          bc=None,\n",
    "                                          v0=None, ϵ=ϵ, tol=1e-8, max_iter=10_000, print_all=False)  \n",
    "ME_damage = model_res_new['ME']\n",
    "\n",
    "# Solve baseline\n",
    "model_paras_new = (η, δ, θ, πc_o, σ_y, ξ_w, ξ_p, ξ_a, γ_1, γ_2, ϕ_i, πd_o)\n",
    "model_res_new = uncertainty_decomposition(y_grid_short, model_paras_new,\n",
    "                                          e_tilde=model_res['e_tilde'], \n",
    "                                          h=np.zeros_like(model_res['h']),\n",
    "                                          πc=np.ones_like(model_res['πc'])/len(θ),\n",
    "                                          bc=np.average(ϕ_i, weights=πd_o, axis=0)[-1],\n",
    "                                          v0=None, ϵ=ϵ, tol=1e-8, max_iter=10_000, print_all=False)  \n",
    "ME_baseline = model_res_new['ME']"
   ]
  },
  {
   "cell_type": "code",
   "execution_count": 102,
   "metadata": {},
   "outputs": [
    {
     "data": {
      "text/plain": [
       "(0.0, 35.0)"
      ]
     },
     "execution_count": 102,
     "metadata": {},
     "output_type": "execute_result"
    },
    {
     "data": {
      "image/png": "[encoded data removed]",
      "text/plain": [
       "<Figure size 432x288 with 1 Axes>"
      ]
     },
     "metadata": {
      "needs_background": "light"
     },
     "output_type": "display_data"
    }
   ],
   "source": [
    "plt.title('log (new ME / baseline ME) * 100 ')\n",
    "# plt.plot(y_grid_short, np.log(ME_temp_carb/ME_baseline)*(100), label='temperature + carbon')\n",
    "plt.plot(y_grid_short, np.log(ME_temp/ME_baseline)*(100), label='temperature')\n",
    "plt.plot(y_grid_short, np.log(ME_carb/ME_baseline)*(100), label='carbon')\n",
    "plt.plot(y_grid_short, np.log(ME_damage/ME_baseline)*(100), label='damage')\n",
    "plt.plot(y_grid_short, np.log(ME_total/ME_baseline)*(100), label='total')\n",
    "# plt.plot(y_grid_short, np.log(ME_temp_damage/ME_baseline)*(100), label='temperature+damage')\n",
    "# plt.plot(y_grid_short, np.log(ME_carb_damage/ME_baseline)*(100), label='carbon+damage')\n",
    "# plt.plot(y_grid_short, np.log(ME_total_check/ME_baseline)*(100), label='total check')\n",
    "\n",
    "plt.legend(frameon=False)\n",
    "plt.xlabel('y')\n",
    "plt.ylim(0, 35)"
   ]
  },
  {
   "cell_type": "code",
   "execution_count": null,
   "metadata": {},
   "outputs": [],
   "source": []
  }
 ],
 "metadata": {
  "kernelspec": {
   "display_name": "Python 3",
   "language": "python",
   "name": "python3"
  },
  "language_info": {
   "codemirror_mode": {
    "name": "ipython",
    "version": 3
   },
   "file_extension": ".py",
   "mimetype": "text/x-python",
   "name": "python",
   "nbconvert_exporter": "python",
   "pygments_lexer": "ipython3",
   "version": "3.8.5"
  }
 },
 "nbformat": 4,
 "nbformat_minor": 4
}
