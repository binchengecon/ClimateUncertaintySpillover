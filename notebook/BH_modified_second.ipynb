{
 "cells": [
  {
   "cell_type": "code",
   "execution_count": 1,
   "metadata": {},
   "outputs": [],
   "source": [
    "import numpy as np\n",
    "from numba import njit"
   ]
  },
  {
   "cell_type": "code",
   "execution_count": 2,
   "metadata": {},
   "outputs": [],
   "source": [
    "# Model parameters\n",
    "median = 1.75/1000\n",
    "γ = 0.018\n",
    "τ = median * γ\n",
    "δ = 0.01\n",
    "η = 0.032\n",
    "ξ_m = 0.00256\n",
    "\n",
    "μ_2 = 1.\n",
    "ρ = 0.5\n",
    "σ_2 = np.sqrt((0.21)**2*2*ρ/μ_2) # Match moments, using 100 year's std"
   ]
  },
  {
   "cell_type": "markdown",
   "metadata": {},
   "source": [
    "Equation:\n",
    "\n",
    "\\begin{align*}\n",
    "0 &= \\max_{e}\\min_{h_2} -\\delta \\phi(y, z_2) + \\delta \\eta \\log e -\\delta(1-\\eta)y z_2 + \\xi_m \\frac{(h_2)^2}{2} + \\frac{\\partial \\phi}{\\partial y}(y,z_2) e - \\ell e\\\\\n",
    "&+\\left[\\frac{\\partial \\phi}{\\partial z_2}(y,z_2)\\right]\\left[-\\rho(z_2-\\mu_2)+\\sqrt{z_2}\\sigma_2 h_2\\right] + \\left[\\frac{\\partial^2 \\phi}{\\partial(z_2)^2}(y,z_2)\\right]\\left(\\frac{z_2|\\sigma_2|^2}{2}\\right)\n",
    "\\end{align*}\n",
    "\n",
    "FOC for $h_2$ gives:\n",
    "$$\n",
    "h^* = -\\frac{\\frac{\\partial \\phi}{\\partial z_2}(y,z_2)\\sqrt{z_2}\\sigma_2}{\\xi_m}\n",
    "$$\n",
    "\n",
    "FOC for $e$ gives:\n",
    "$$\n",
    "e^* = \\frac{\\delta \\eta}{\\ell - \\frac{\\partial \\phi}{\\partial y}(y, z_2)}\n",
    "$$\n",
    "\n",
    "Solve:\n",
    "\n",
    "\\begin{align*}\n",
    "\\frac{\\color{red}{\\phi_{i+1}(y,z_2)}-\\color{blue}{\\phi_{i}(y,z_2)}}{\\epsilon} &= -\\delta \\color{red}{\\phi(y, z_2)} + \\delta \\eta \\log \\color{blue}{e^*} -\\delta(1-\\eta)y z_2 + \\xi_m \\frac{(\\color{blue}{h_2^*})^2}{2}  + \\color{red}{\\frac{\\partial \\phi}{\\partial y}(y,z_2)} e\\\\\n",
    "&+\\left[\\color{red}{\\frac{\\partial \\phi}{\\partial z_2}(y,z_2)}\\right]\\left[-\\rho(z_2-\\mu_2)+\\sqrt{z_2}\\sigma_2 \\color{blue}{h_2^*}\\right] + \\left[\\color{red}{\\frac{\\partial^2 \\phi}{\\partial(z_2)^2}(y,z_2)}\\right]\\left(\\frac{z_2|\\sigma_2|^2}{2}\\right)\n",
    "\\end{align*}"
   ]
  },
  {
   "cell_type": "code",
   "execution_count": 3,
   "metadata": {},
   "outputs": [],
   "source": [
    "# @njit(parallel=True, cache=True)\n",
    "def solver(ϕ_grid, y_grid, z_grid, ℓ, ϵ, τ, δ, η, ξ_m, μ_2, σ_2, ρ):\n",
    "    n_y = len(y_grid)\n",
    "    n_z = len(z_grid)\n",
    "    Δ_y = y_grid[1] - y_grid[0]\n",
    "    Δ_z = z_grid[1] - z_grid[0]\n",
    "    LHS = np.zeros((n_y*n_z, n_y*n_z))\n",
    "    RHS = np.zeros(n_y*n_z)\n",
    "#     e_min = 0.\n",
    "#     e_max = 0.\n",
    "    for j in range(n_z):\n",
    "        for i in range(n_y):\n",
    "            idx = j*n_y + i\n",
    "            idx_yp1 = idx + 1\n",
    "            idx_ym1 = idx - 1\n",
    "            idx_zp1 = (j+1)*n_y + i\n",
    "            idx_zp2 = (j+2)*n_y + i\n",
    "            idx_zm1 = (j-1)*n_y + i\n",
    "            idx_zm2 = (j-2)*n_y + i\n",
    "            ϕ = ϕ_grid[idx]\n",
    "            z = z_grid[j]\n",
    "            y = y_grid[i]\n",
    "            LHS[idx, idx] += - 1./ϵ - δ\n",
    "            if i == 0:\n",
    "                dϕdy = (ϕ_grid[idx_yp1]-ϕ_grid[idx])/Δ_y\n",
    "                e = δ*η/(ℓ-dϕdy)\n",
    "                LHS[idx, idx] += -e/Δ_y\n",
    "                LHS[idx, idx_yp1] += e/Δ_y\n",
    "            elif i == n_y-1:\n",
    "                dϕdy = (ϕ_grid[idx]-ϕ_grid[idx_ym1])/Δ_y\n",
    "                e = δ*η/(ℓ-dϕdy)\n",
    "                LHS[idx, idx] += e/Δ_y\n",
    "                LHS[idx, idx_ym1] += -e/Δ_y\n",
    "            else:\n",
    "                dϕdy = (ϕ_grid[idx_yp1]-ϕ_grid[idx_ym1])/(2*Δ_y)\n",
    "                e = δ*η/(ℓ-dϕdy)\n",
    "                LHS[idx, idx] += -e/Δ_y\n",
    "                LHS[idx, idx_yp1] += e/Δ_y\n",
    "#             print(e)\n",
    "#             print(i, j, e, dϕdy)\n",
    "#             if e < e_min:\n",
    "#                 e_min = e\n",
    "#             elif e > e_max:\n",
    "#                 e_max = e\n",
    "            temp_2 = z*σ_2**2/2\n",
    "            if j == 0:\n",
    "                dϕdz = (ϕ_grid[idx_zp1]-ϕ_grid[idx])/Δ_z\n",
    "                h = -dϕdz*np.sqrt(z)*σ_2/ξ_m\n",
    "                temp_1 = -ρ*(z-μ_2) + np.sqrt(z)*σ_2*h\n",
    "                LHS[idx, idx] += -temp_1/Δ_z + temp_2/(Δ_z**2)  \n",
    "                LHS[idx, idx_zp1] += temp_1/Δ_z - temp_2*2/(Δ_z**2)\n",
    "                LHS[idx, idx_zp2] += temp_2/(Δ_z**2)\n",
    "            elif j == n_z-1:\n",
    "                dϕdz = (ϕ_grid[idx]-ϕ_grid[idx_zm1])/Δ_z\n",
    "                h = -dϕdz*np.sqrt(z)*σ_2/ξ_m\n",
    "                temp_1 = -ρ*(z-μ_2) + np.sqrt(z)*σ_2*h\n",
    "                LHS[idx, idx] += temp_1/Δ_z + temp_2/(Δ_z**2)\n",
    "                LHS[idx, idx_zm1] += -temp_1/Δ_z - temp_2*2/(Δ_z**2)\n",
    "                LHS[idx, idx_zm2] += temp_2/(Δ_z**2)            \n",
    "            else:\n",
    "                dϕdz = (ϕ_grid[idx_zp1]-ϕ_grid[idx_zm1])/(2*Δ_z)\n",
    "                h = -dϕdz*np.sqrt(z)*σ_2/ξ_m\n",
    "                temp_1 = -ρ*(z-μ_2) + np.sqrt(z)*σ_2*h\n",
    "                LHS[idx, idx] += temp_1/Δ_z*(-1.*(temp_1>0)+(temp_1<0)) - temp_2*2/(Δ_z**2)\n",
    "                LHS[idx, idx_zp1] += temp_1/Δ_z*(temp_1>0) + temp_2/(Δ_z**2)\n",
    "                LHS[idx, idx_zm1] += -temp_1/Δ_z*(temp_1<0) + temp_2/(Δ_z**2)\n",
    "            RHS[idx] = -(1./ϵ*ϕ + δ*η*np.log(e) - δ*(1-η)*y*z + ξ_m*h**2/2)\n",
    "    ϕ_grid = np.linalg.solve(LHS, RHS)\n",
    "#     print(e_min, e_max)\n",
    "    return ϕ_grid\n",
    "\n",
    "\n",
    "# @njit\n",
    "def false_transient(ϕ_grid, b_grid, z_grid, ℓ, ϵ, τ, δ, η, ξ_m, μ_2, σ_2, ρ, max_iter=10_000, tol=1e-9):\n",
    "    error = 1.\n",
    "    count = 0\n",
    "    while error > tol and count < max_iter:\n",
    "        ϕ_grid_old = ϕ_grid.copy()\n",
    "        ϕ_grid = solver(ϕ_grid, b_grid, z_grid, ℓ, ϵ, τ, δ, η, ξ_m, μ_2, σ_2, ρ)\n",
    "        error = np.max(np.abs(ϕ_grid_old-ϕ_grid))/ϵ\n",
    "        count += 1\n",
    "        print('Iteration:', count, ', error:', error)\n",
    "    return ϕ_grid"
   ]
  },
  {
   "cell_type": "code",
   "execution_count": 4,
   "metadata": {},
   "outputs": [],
   "source": [
    "ϵ = 0.1\n",
    "y_max = 3000.\n",
    "z_max = 2.0\n",
    "n_y = 400\n",
    "n_z = 20\n",
    "y_grid = np.linspace(1e-2, y_max, n_y)\n",
    "z_grid = np.linspace(1e-5, z_max, n_z)\n",
    "ϕ_grid = np.zeros(n_y*n_z) # initial guess\n",
    "\n",
    "(y_mat, z_mat) = np.meshgrid(y_grid, z_grid, indexing = 'ij')\n",
    "ϕ_grid = -δ*η*y_mat.reshape(-1,order='F')"
   ]
  },
  {
   "cell_type": "code",
   "execution_count": 5,
   "metadata": {},
   "outputs": [
    {
     "name": "stdout",
     "output_type": "stream",
     "text": [
      "Iteration: 1 , error: 56.63438814685286\n",
      "Iteration: 2 , error: 13776.199695711084\n"
     ]
    }
   ],
   "source": [
    "ℓ = 0\n",
    "ϕ_grid = false_transient(ϕ_grid, y_grid, z_grid, ℓ, ϵ, τ, δ, η, ξ_m, μ_2, σ_2, ρ, max_iter=2, tol=1e-7)"
   ]
  },
  {
   "cell_type": "code",
   "execution_count": null,
   "metadata": {},
   "outputs": [],
   "source": [
    "ϕ_grid_2 = solver(ϕ_grid_1, y_grid, z_grid, ℓ, ϵ, τ, δ, η, ξ_m, μ_2, σ_2, ρ)"
   ]
  },
  {
   "cell_type": "code",
   "execution_count": null,
   "metadata": {},
   "outputs": [],
   "source": [
    "ϕ_grid_2"
   ]
  },
  {
   "cell_type": "code",
   "execution_count": 9,
   "metadata": {},
   "outputs": [],
   "source": [
    "ϕ = ϕ_grid.reshape((n_y, n_z),order='F')\n",
    "Δ_y = y_grid[1] - y_grid[0]\n",
    "dϕdr = np.zeros_like(ϕ)\n",
    "for j in range(n_z):\n",
    "    for i in range(n_y):\n",
    "        if i == 0:\n",
    "            dϕdr[i, j] = (ϕ[i+1, j] - ϕ[i, j])/Δ_y\n",
    "        elif i == n_y-1:\n",
    "            dϕdr[i, j] = (ϕ[i, j] - ϕ[i-1, j])/Δ_y\n",
    "        else:\n",
    "            dϕdr[i, j] = (ϕ[i+1, j] - ϕ[i-1, j])/(2*Δ_y)"
   ]
  },
  {
   "cell_type": "code",
   "execution_count": null,
   "metadata": {},
   "outputs": [],
   "source": [
    "dϕdr[180, :]"
   ]
  },
  {
   "cell_type": "code",
   "execution_count": 6,
   "metadata": {},
   "outputs": [],
   "source": [
    "import matplotlib.pyplot as plt\n",
    "# from matplotlib import cm\n",
    "# from matplotlib.ticker import LinearLocator, FormatStrFormatter\n",
    "\n",
    "# fig = plt.figure()\n",
    "# ax = fig.gca(projection='3d')\n",
    "\n",
    "# # Make data.\n",
    "# X, Y = np.meshgrid(y_grid, z_grid)\n",
    "# Z = dϕdr.T\n",
    "\n",
    "# # Plot the surface.\n",
    "# surf = ax.plot_surface(X, Y, Z, cmap=cm.coolwarm,\n",
    "#                        linewidth=0, antialiased=False)\n",
    "\n",
    "# # Customize the z axis.\n",
    "# # ax.set_zlim(-1.01, 1.01)\n",
    "# # ax.zaxis.set_major_locator(LinearLocator(10))\n",
    "# # ax.zaxis.set_major_formatter(FormatStrFormatter('%.02f'))\n",
    "\n",
    "# # Add a color bar which maps values to colors.\n",
    "# fig.colorbar(surf, shrink=0.5, aspect=5)\n",
    "\n",
    "# plt.show()"
   ]
  },
  {
   "cell_type": "code",
   "execution_count": 14,
   "metadata": {},
   "outputs": [
    {
     "data": {
      "text/plain": [
       "Text(0.5, 0, 'y')"
      ]
     },
     "execution_count": 14,
     "metadata": {},
     "output_type": "execute_result"
    },
    {
     "data": {
      "image/png": "[encoded data removed]",
      "text/plain": [
       "<Figure size 432x288 with 1 Axes>"
      ]
     },
     "metadata": {
      "needs_background": "light"
     },
     "output_type": "display_data"
    }
   ],
   "source": [
    "# plt.plot(y_grid, dϕdr[:, 0])\n",
    "plt.plot(y_grid, dϕdr[:, 10])\n",
    "# plt.plot(y_grid, dϕdr[:, 19])\n",
    "plt.ylabel(r'$\\frac{\\partial \\phi}{\\partial y}$')\n",
    "plt.xlabel('y')\n",
    "# plt.savefig('plot.pdf')"
   ]
  },
  {
   "cell_type": "code",
   "execution_count": null,
   "metadata": {},
   "outputs": [],
   "source": [
    "ϕ_grid"
   ]
  },
  {
   "cell_type": "code",
   "execution_count": null,
   "metadata": {},
   "outputs": [],
   "source": [
    "ϕ_grid = ϕ_grid.reshape((n_r, n_z), order='F')"
   ]
  },
  {
   "cell_type": "code",
   "execution_count": null,
   "metadata": {},
   "outputs": [],
   "source": [
    "# Compute e_grid conditioned on z2\n",
    "z_loc = 10\n",
    "z = z_grid[z_loc]\n",
    "Δ_r = r_grid[1] - r_grid[0]\n",
    "dϕdr = np.zeros_like(r_grid) \n",
    "for i in range(n_r):\n",
    "    if i == 0:\n",
    "        dϕdr[i] = (ϕ[i+1, z_loc] - ϕ[i, z_loc])/Δ_r\n",
    "    elif i == n_r-1:\n",
    "        dϕdr[i] = (ϕ[i, z_loc] - ϕ[i-1, z_loc])/Δ_r\n",
    "    else:\n",
    "        dϕdr[i] = (ϕ[i+1, z_loc] - ϕ[i-1, z_loc])/(2*Δ_r)\n",
    "e_grid = δ*η/(τ*z + dϕdr)"
   ]
  },
  {
   "cell_type": "code",
   "execution_count": null,
   "metadata": {},
   "outputs": [],
   "source": [
    "import matplotlib.pyplot as plt\n",
    "# plt.plot(e_grid)\n",
    "# plt.ylim(0, 20)"
   ]
  },
  {
   "cell_type": "code",
   "execution_count": null,
   "metadata": {},
   "outputs": [],
   "source": [
    "plt.plot(ϕ[:,0])\n",
    "plt.ylim(0, 0.05)"
   ]
  },
  {
   "cell_type": "code",
   "execution_count": null,
   "metadata": {},
   "outputs": [],
   "source": [
    "ϕ[:, 10]"
   ]
  },
  {
   "cell_type": "code",
   "execution_count": null,
   "metadata": {},
   "outputs": [],
   "source": [
    "import pickle"
   ]
  },
  {
   "cell_type": "code",
   "execution_count": null,
   "metadata": {},
   "outputs": [],
   "source": [
    "with open('solu_modified_40200_0900', 'rb') as handle:\n",
    "    b = pickle.load(handle)"
   ]
  },
  {
   "cell_type": "code",
   "execution_count": null,
   "metadata": {},
   "outputs": [],
   "source": [
    "ϕ_suri = b['phi']"
   ]
  },
  {
   "cell_type": "code",
   "execution_count": null,
   "metadata": {},
   "outputs": [],
   "source": [
    "plt.plot(ϕ_suri[0, :])\n",
    "plt.ylim(0, 0.05)"
   ]
  },
  {
   "cell_type": "code",
   "execution_count": null,
   "metadata": {},
   "outputs": [],
   "source": [
    "ϕ_suri_new = ϕ_suri.T.reshape(-1, order='F')"
   ]
  },
  {
   "cell_type": "code",
   "execution_count": null,
   "metadata": {},
   "outputs": [],
   "source": [
    "res = solver(ϕ_suri_new, r_grid, z_grid, ϵ, τ, δ, η, ξ_m, μ_2, σ_2, ρ)"
   ]
  },
  {
   "cell_type": "code",
   "execution_count": null,
   "metadata": {},
   "outputs": [],
   "source": [
    "np.abs(np.max((res - ϕ_suri_new)/ϵ))"
   ]
  },
  {
   "cell_type": "code",
   "execution_count": null,
   "metadata": {},
   "outputs": [],
   "source": []
  }
 ],
 "metadata": {
  "kernelspec": {
   "display_name": "Python 3",
   "language": "python",
   "name": "python3"
  },
  "language_info": {
   "codemirror_mode": {
    "name": "ipython",
    "version": 3
   },
   "file_extension": ".py",
   "mimetype": "text/x-python",
   "name": "python",
   "nbconvert_exporter": "python",
   "pygments_lexer": "ipython3",
   "version": "3.8.3"
  }
 },
 "nbformat": 4,
 "nbformat_minor": 4
}
