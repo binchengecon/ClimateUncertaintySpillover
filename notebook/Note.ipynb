{
 "cells": [
  {
   "cell_type": "markdown",
   "metadata": {},
   "source": [
    "### Log damage evolution\n",
    "\n",
    "$$\n",
    "d\\log N_t = \\left[\\frac{d}{d\\tau}\\Lambda(Z_{2,t} F_t)[E_tZ_t-\\rho(Z_{2,t}-\\mu_2)F_t]+\\frac{1}{2}\\frac{d^2}{d\\tau^2}\\Lambda(Z_{2,t}F_t)Z_{2,t}F_t^2\\sigma_2^2\\right]dt + \\frac{d}{d\\tau} \\Lambda(Z_{2,t}F_t)F_t\\sqrt{Z_{2,t}}\\sigma_zdW_t\n",
    "$$\n",
    "\n",
    "where\n",
    "\n",
    "$$\n",
    "dZ_{2,t} = -\\rho(Z_{2,t} - \\mu_2) dt + \\sqrt{Z_{2,t}}\\sigma_2 d W_{2,t}\n",
    "$$\n",
    "\n",
    "$$\n",
    "\\Lambda(\\tau) = \\lambda_1 \\tau + \\frac{\\lambda_2}{2} \\tau^2\n",
    "$$"
   ]
  }
 ],
 "metadata": {
  "kernelspec": {
   "display_name": "Python 3",
   "language": "python",
   "name": "python3"
  },
  "language_info": {
   "codemirror_mode": {
    "name": "ipython",
    "version": 3
   },
   "file_extension": ".py",
   "mimetype": "text/x-python",
   "name": "python",
   "nbconvert_exporter": "python",
   "pygments_lexer": "ipython3",
   "version": "3.8.5"
  }
 },
 "nbformat": 4,
 "nbformat_minor": 4
}
