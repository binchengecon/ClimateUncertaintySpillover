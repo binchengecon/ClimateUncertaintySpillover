{
 "cells": [
  {
   "cell_type": "code",
   "execution_count": 2,
   "id": "sealed-edgar",
   "metadata": {
    "code_folding": []
   },
   "outputs": [],
   "source": [
    "# packages\n",
    "import numpy as np\n",
    "import pandas as pd\n",
    "import os\n",
    "import sys\n",
    "sys.path.append(os.path.dirname(os.getcwd()) + '/source')\n",
    "import pickle\n",
    "from solver_1d import false_transient_one_iteration_python\n",
    "from supportfunctions import PDESolver_2d, finiteDiff\n",
    "from numba import njit\n",
    "from scipy.sparse import csc_matrix\n",
    "from scipy.sparse.linalg import bicg\n",
    "from derivative import derivatives_2d, derivative_1d\n",
    "import SolveLinSys\n",
    "import time\n",
    "from solver_ode import solve_ode, solve_ode_one\n",
    "from solver_jump import approach_one\n",
    "from scipy import interpolate\n",
    "import matplotlib.pyplot as plt\n",
    "import matplotlib as mpl\n",
    "mpl.rcParams['axes.spines.right'] = False\n",
    "mpl.rcParams['axes.spines.top'] = False"
   ]
  },
  {
   "cell_type": "code",
   "execution_count": 232,
   "id": "incorporate-trail",
   "metadata": {
    "code_folding": []
   },
   "outputs": [],
   "source": [
    "# parameters\n",
    "δ = 0.01\n",
    "η = 0.032\n",
    "μ = 1.86/1000\n",
    "θ_list = pd.read_csv(\"../data/model144.csv\", header=None)[0].to_numpy()\n",
    "θ_list = θ_list/1000\n",
    "σy = 1.2*μ\n",
    "ς = 0.1\n",
    "# damage function\n",
    "ȳ = 2\n",
    "γ1 = 0.00017675\n",
    "γ2 = 2*0.0022\n",
    "γ3_list = np.array([0, 2*0.0197, 2*0.3853])\n",
    "# y grid\n",
    "numy_bar = 100\n",
    "y_min = 1e-10\n",
    "y_max = 4\n",
    "hy = (ȳ - y_min)/numy_bar\n",
    "y_grid = np.arange(y_min, y_max+hy, hy)"
   ]
  },
  {
   "cell_type": "code",
   "execution_count": 4,
   "id": "aggregate-crawford",
   "metadata": {},
   "outputs": [],
   "source": [
    "# capital parameters\n",
    "invkap = 0.09\n",
    "α = 0.115\n",
    "αₖ = - 0.043\n",
    "σₖ = 0.0085\n",
    "κ = 6.667\n",
    "k0 = 80/α"
   ]
  },
  {
   "cell_type": "code",
   "execution_count": 5,
   "id": "aging-preparation",
   "metadata": {},
   "outputs": [],
   "source": [
    "n_temp = 16\n",
    "n_carb = 9\n",
    "n_θ = len(θ_list)\n",
    "θtemp_list = list()\n",
    "for i in range(n_temp):\n",
    "    same_temp = θ_list[i*n_carb:i*n_carb+n_carb+1]\n",
    "    θtemp_list.append(np.average(same_temp))\n",
    "θtemp_list = np.array(θtemp_list)\n",
    "θcarb_list = list()\n",
    "for i in range(n_carb):\n",
    "    idx_carb = np.arange(i, n_θ+i, n_carb)\n",
    "    same_carb = θ_list[idx_carb]\n",
    "    θcarb_list.append(np.average(same_carb))\n",
    "θcarb_list = np.array(θcarb_list)"
   ]
  },
  {
   "cell_type": "markdown",
   "id": "sonic-chile",
   "metadata": {},
   "source": [
    "# Jump model of damages\n",
    "Intensity function:\n",
    "$$\n",
    "\\mathcal{I}(y) = \\begin{cases}\n",
    "(\\frac{1}{\\sqrt{2\\pi} \\varsigma})\\exp\\left[- \\frac{(y - \\bar y)^2}{2\\varsigma^2}\\right], \\quad y \\leqslant \\bar y\\\\\n",
    "(\\frac{1}{\\sqrt{2\\pi}\\varsigma}), \\quad y > \\bar y\n",
    "\\end{cases}\n",
    "$$\n",
    "\n",
    "HJB\n",
    "$$\n",
    "\\begin{aligned}\n",
    "0 = \\max_{\\tilde e} \\min_{\\pi^d} &- \\delta \\phi(y) + \\delta\\eta \\log\\tilde e \\\\\n",
    "    & +  \\frac{d\\phi}{dy} \\theta \\tilde e  + \\frac{1}{2} \\frac{d^2 \\phi}{dy^2}(\\tilde e)^2 |\\sigma_y|^2 + \\frac{1}{2} (\\eta - 1) \\gamma_2 (\\tilde e)^2 |\\sigma_y|^2\\\\\n",
    "& + (\\eta -1)(\\gamma_1 + \\gamma_2 y) \\tilde e \\theta + \\mathcal{I}(y)\\sum_j \\pi^d_j \\left[\\phi_j(y) - \\phi(y) \\right] \\\\\n",
    "&  + \\textbf{relative entropy}\n",
    "\\end{aligned}\n",
    "$$\n",
    "## Approach one:\n",
    "$$\n",
    "\\begin{aligned}\n",
    "0 = \\max_{\\tilde e} \\min_{g_j} &- \\delta \\phi(y) + \\delta\\eta \\log\\tilde e + \\frac{1}{2} \\frac{d^2 \\phi}{dy^2}(\\tilde e)^2 |\\sigma_y|^2  + \\frac{\\xi_m}{2} h'h\\\\\n",
    "& + [ \\frac{d\\phi}{dy}    + (\\eta -1)(\\gamma_1 + \\gamma_2 y)]\\cdot \\tilde e \\sigma_y h +\\frac{1}{2} (\\eta - 1) \\gamma_2 (\\tilde e)^2 |\\sigma_y|^2\\\\\n",
    "& + \\sum_i \\pi_i^c \\frac{d\\phi}{dy} \\theta_i \\tilde e  + \\sum_i \\pi_i^c (\\eta -1)(\\gamma_1 + \\gamma_2 y) \\tilde e \\theta_i + \\xi_a \\sum_i \\hat\\pi^c_i(\\log \\pi^c_i - \\log \\hat\\pi^c_i)\\\\\n",
    "&  + \\mathcal{I}(y)\\sum_j\\hat\\pi_j^d g_j\\left[\\phi_j(y) - \\phi(y) \\right]  + \\xi_m \\mathcal{I}(y) \\sum_j \\hat\\pi_j^d [1 - g_j + g_j \\log g_j]\n",
    "\\end{aligned}\n",
    "$$\n",
    "The optimal $g_j$:\n",
    "$$\n",
    "g_j^* = \\exp\\{\\frac{1}{\\xi_m}\\left( \\phi(y) - \\phi_j(y)\\right)\\}\n",
    "$$\n",
    "Plug back in\n",
    "$$\n",
    "\\begin{aligned}\n",
    "0 = \\max_{\\tilde e} \\min_{g_j} &- \\delta \\phi(y) + \\delta\\eta \\log\\tilde e + \\frac{1}{2} \\frac{d^2 \\phi}{dy^2}(\\tilde e)^2 |\\sigma_y|^2 + \\frac{1}{2}(\\eta -1)\\gamma_2(\\tilde e)^2 |\\sigma_y|^2\\\\\n",
    "& + \\sum_i \\pi_i^c \\left[\\frac{d\\phi}{dy}  + (\\eta -1)(\\gamma_1 + \\gamma_2 y)\\right] \\tilde e \\theta_i + \\xi_a \\sum_i \\hat\\pi^c_i(\\log \\pi^c_i - \\log \\hat\\pi^c_i) \\\\\n",
    "&  +  \\xi_m \\mathcal{I}(y) \\sum_j \\hat\\pi_j^d [1 - g_j^* ]\n",
    "\\end{aligned}\n",
    "$$\n",
    "Intensity altered to be $\\iota^*(y) \\mathcal{I} (y)$ where:\n",
    "$$\n",
    "\\iota^*(y)  = \\sum_j \\hat\\pi_j g_j^* \n",
    "$$\n",
    "Distorted probability:\n",
    "$$\n",
    "\\pi^*_j  = \\frac{\\exp\\left(-\\frac{1}{\\xi_m} [\\phi_j(y) - \\phi(y)] \\right) \\hat\\pi_j}{\\iota^*(y)}\n",
    "$$"
   ]
  },
  {
   "cell_type": "code",
   "execution_count": 129,
   "id": "horizontal-lebanon",
   "metadata": {
    "code_folding": []
   },
   "outputs": [],
   "source": [
    "def simulate_jump(y_grid, solu, ME,  θ_list, T=100, dt=1):\n",
    "    ems = solu[\"ems\"]\n",
    "    πᶜ = solu[\"πc\"]\n",
    "    πᵈ = solu[\"πd\"]\n",
    "    ι = solu[\"ι\"]\n",
    "    h = solu[\"h\"]\n",
    "    periods = int(T/dt)\n",
    "    et = np.zeros(periods)\n",
    "    yt = np.zeros(periods)\n",
    "    πᶜt = np.zeros((periods, len(θ_list)))\n",
    "    πᵈt = np.zeros((periods, len(πᵈ)))\n",
    "    ιt = np.zeros(periods)\n",
    "    ht = np.zeros(periods)\n",
    "    if ME is not None:\n",
    "        me_t = np.zeros(periods)\n",
    "    # interpolate\n",
    "    get_πᵈ = interpolate.interp1d(y_grid, πᵈ)\n",
    "    get_πᶜ = interpolate.interp1d(y_grid, πᶜ)\n",
    "    y = np.mean(θ_list)*290\n",
    "    for t in range(periods):\n",
    "        if y > np.max(y_grid):\n",
    "            break\n",
    "        else:\n",
    "            ems_point = np.interp(y, y_grid, ems)\n",
    "            πᵈ_list = get_πᵈ(y)\n",
    "            πᶜ_list = get_πᶜ(y)\n",
    "            ι_point = np.interp(y, y_grid, ι)\n",
    "            h_point = np.interp(y, y_grid, h)\n",
    "            if ME is not None:\n",
    "                me_point = np.interp(y, y_grid, ME)\n",
    "                me_t[t] = me_point\n",
    "            et[t] = ems_point\n",
    "            πᵈt[t] = πᵈ_list\n",
    "            πᶜt[t] = πᶜ_list\n",
    "            ιt[t] = ι_point\n",
    "            ht[t] = h_point\n",
    "            yt[t] = y\n",
    "            dy = ems_point*np.mean(θ_list)*dt\n",
    "            y = dy + y\n",
    "    if ME is not None:\n",
    "        return yt, et, πᵈt, πᶜt, ιt, ht, me_t\n",
    "    else:\n",
    "        return yt, et, πᵈt, πᶜt, ιt, ht"
   ]
  },
  {
   "cell_type": "code",
   "execution_count": 7,
   "id": "eastern-atlantic",
   "metadata": {
    "code_folding": [
     0
    ]
   },
   "outputs": [],
   "source": [
    "def plot_solu(ht, πᵈt, ϕ_list, solu, args):\n",
    "    ϕ = solu['φ']\n",
    "    ξa, ξw, ξp, numy_bar = args\n",
    "    fig, (ax1, ax2, ax3) = plt.subplots(1,3, figsize=(18,4))\n",
    "    fig.suptitle(r'$\\xi_a = {}, \\quad  \\xi_w =1/{}, \\quad \\xi_p = 1/{} $'.format(ξa, int(1/ξw), int(1/ξp)))\n",
    "    ax1.plot(ht)\n",
    "    ax1.set_ylim(bottom=0, top=0.3)\n",
    "    ax1.set_xlim(left=0)\n",
    "    ax1.set_xlabel('years')\n",
    "    ax1.set_ylabel('h')\n",
    "    ax2.plot(πᵈt[:,1][πᵈt[:,1]>0], label=\"high damage\")\n",
    "    ax2.plot(πᵈt[:,0][πᵈt[:,0]>0], label=\"low damage\")\n",
    "    # ax2.plot(πᵈt[:,2], label=\"extreme\")\n",
    "    ax2.set_ylim(bottom=0)\n",
    "    ax2.set_xlim(left=0)\n",
    "    ax2.legend()\n",
    "    ax2.set_xlabel('years')\n",
    "    ax2.set_ylabel('πᵈ')\n",
    "    ϕ_bound = np.average(np.exp(-1/ξp*ϕ_list), axis=0, weights=dmg_weight)\n",
    "    ϕ_bound = -ξp*np.log(ϕ_bound)\n",
    "    ax3.plot(y_grid[:numy_bar+1], ϕ, label='prior to jump')\n",
    "    ax3.plot(y_grid[numy_bar:], ϕ_list[0][numy_bar:], linestyle=\"--\", color=\"black\", label=\"post jump, low damage\")\n",
    "    ax3.plot(y_grid[numy_bar:], ϕ_bound[numy_bar:], label=\"post jump, certainty equivalent\")\n",
    "    ax3.plot(y_grid[numy_bar:], ϕ_list[1][numy_bar:], linestyle=\"-.\", color=\"black\", label=\"post jump, high damage\")\n",
    "    # ax3.plot(y_grid[numy_bar:], ϕ_list[2][numy_bar:], linestyle=\":\", color=\"black\")\n",
    "    ax3.vlines(x=2, ymin=-0.11, ymax=0.05, linestyle=\"dashed\", color=\"black\")\n",
    "    # ax3.xlim(0,4)\n",
    "    # ax3.ylim(-0.02, 0.05)\n",
    "    ax3.set_ylabel('$\\phi$')\n",
    "    ax3.set_xlabel('y')\n",
    "    ax3.set_xlim(left=0)\n",
    "    ax3.legend()\n",
    "    # ax3.set_title(r'$\\xi_a = 1,000, \\quad  \\xi_w =1/400, \\quad \\xi_p = 1/400 \\times 5 $')\n",
    "    # plt.savefig(\"phi_x1.pdf\", facecolor=\"w\", edgecolor='w', bbox_inches=\"tight\") "
   ]
  },
  {
   "cell_type": "code",
   "execution_count": 8,
   "id": "compound-drinking",
   "metadata": {},
   "outputs": [
    {
     "name": "stdout",
     "output_type": "stream",
     "text": [
      "episode: 10000,\t ode error: 3.525331962035325e-06,\t ft error: 4.519772206501571e-07\n",
      "episode: 3497,\t ode error: 3.103455563280473e-06,\t ft error: 9.998882000150644e-09\n",
      "episode: 3858,\t ode error: 7.941658898688808e-06,\t ft error: 9.999977651498071e-09\n",
      "episode: 969,\t ode error: 8.248696335464909e-06,\t ft error: 9.959979438423083e-09\n"
     ]
    }
   ],
   "source": [
    "ξa = 1_000\n",
    "ξw = 1/900\n",
    "ξp = ξw\n",
    "dmg_weight = np.array([0.5, 0.5, 0.])\n",
    "args = (δ, η, θ_list, γ1, γ2, γ3_list, ȳ, dmg_weight, ς, ξp, ξa, ξw, σy)\n",
    "solu, ϕ_list = approach_one(y_grid, numy_bar, args,)"
   ]
  },
  {
   "cell_type": "code",
   "execution_count": 9,
   "id": "moral-teddy",
   "metadata": {
    "scrolled": true
   },
   "outputs": [
    {
     "data": {
      "image/png": "[encoded data removed]",
      "text/plain": [
       "<Figure size 1296x288 with 3 Axes>"
      ]
     },
     "metadata": {
      "needs_background": "light"
     },
     "output_type": "display_data"
    }
   ],
   "source": [
    "yt, et, πᵈt, πᶜt, ιt, ht = simulate_jump(y_grid[:numy_bar+1], solu, None, θ_list)\n",
    "args_plot = (ξa, ξw, ξp, numy_bar)\n",
    "plot_solu(ht, πᵈt, ϕ_list, solu, args_plot)"
   ]
  },
  {
   "cell_type": "code",
   "execution_count": 10,
   "id": "permanent-parker",
   "metadata": {},
   "outputs": [],
   "source": [
    "# simulate\n",
    "def simulate_logkapital(invkap, αₖ,  σₖ, κ, k0, T=100, dt=1):\n",
    "    periods = int(T/dt)\n",
    "    Kt = np.zeros(periods)\n",
    "    i = invkap\n",
    "     # log capital\n",
    "    Kt[0] = np.log(k0)\n",
    "    k = np.log(k0)\n",
    "    for t in range(periods-1):\n",
    "        k +=   (αₖ + i - κ/2*i**2 - .5*σₖ**2)*dt\n",
    "        Kt[t+1] = k\n",
    "    return Kt\n",
    "def simulate_scc(invkap, αₖ,  σₖ, κ, k0, MEt, T=100, dt=1):\n",
    "    Kt = simulate_logkapital(invkap, αₖ, σₖ, κ,  k0)\n",
    "    MCt = δ*(1-η)/((α - invkap)*np.exp(Kt))\n",
    "    SCCt = MEt/MCt*1000\n",
    "    return SCCt"
   ]
  },
  {
   "cell_type": "code",
   "execution_count": 11,
   "id": "sudden-formula",
   "metadata": {},
   "outputs": [],
   "source": [
    "MEt = δ*η/et\n",
    "SCCt = simulate_scc(invkap, αₖ,  σₖ, κ, k0, MEt)"
   ]
  },
  {
   "cell_type": "code",
   "execution_count": 12,
   "id": "regulation-radiation",
   "metadata": {},
   "outputs": [
    {
     "data": {
      "text/plain": [
       "[<matplotlib.lines.Line2D at 0x7fa979eea850>]"
      ]
     },
     "execution_count": 12,
     "metadata": {},
     "output_type": "execute_result"
    },
    {
     "data": {
      "image/png": "[encoded data removed]",
      "text/plain": [
       "<Figure size 432x288 with 1 Axes>"
      ]
     },
     "metadata": {
      "needs_background": "light"
     },
     "output_type": "display_data"
    }
   ],
   "source": [
    "plt.plot(SCCt)"
   ]
  },
  {
   "cell_type": "markdown",
   "id": "reduced-dutch",
   "metadata": {},
   "source": [
    "# SCC uncertainty decomposition: pre jump\n",
    "\n",
    "First order condition for $\\tilde e$\n",
    "\n",
    "$$\n",
    "    \\left( \\frac{d^2\\phi(y)}{dy^2} + (\\eta-1)\\cdot\\gamma_2  \\right)|\\sigma_y|^2\\tilde e + \\sum_j \\pi^c_j \\left[\\frac{d\\phi(y)}{dy} + (\\eta - 1)(\\gamma_1 + \\gamma_2 y)\\right]\\theta_j  + \\frac{\\delta\\eta}{\\tilde e} = 0 \\tag{$\\ast$}\n",
    "$$\n",
    "\n",
    "Call solution $\\tilde e^* $. Now solve:\n",
    "$$\n",
    "\\begin{aligned}\n",
    "0 =  & - \\delta \\color{red}{\\phi(y)}+ \\delta\\eta \\log\\tilde e^* + \\frac{1}{2} \\color{red}{ \\frac{d^2 \\phi}{dy^2}}\\cdot(\\tilde e^*)^2 |\\sigma_y|^2 + \\frac{1}{2}(\\eta -1)\\gamma_2(\\tilde e^*)^2 |\\sigma_y|^2\\\\\n",
    "& + \\left[\\color{red}{\\frac{d\\phi}{dy}}  + (\\eta -1)(\\gamma_1 + \\gamma_2 y)\\right] \\tilde e^* \\sum_i \\pi_i^c \\theta_i\n",
    "\\end{aligned}\n",
    "$$"
   ]
  },
  {
   "cell_type": "code",
   "execution_count": 227,
   "id": "musical-safety",
   "metadata": {},
   "outputs": [],
   "source": [
    "# solve for decompose\n",
    "def solve_baseline(y_grid, numy_bar, solu, ϕ_list, args, ϵ=0.3, tol=1e-8, max_iter=10_000):\n",
    "    \"\"\"\n",
    "    compute jump model with ambiguity over climate models\n",
    "    \"\"\"\n",
    "    δ, η, θ_list, γ1, γ2, γ3_list, ȳ, dmg_weight, ς, ξp, ξa, ξw, σy = args\n",
    "    ems_star = solu['ems']\n",
    "    # solve for HJB with jump function\n",
    "    y_grid_cap = y_grid[:numy_bar+1]\n",
    "    dy = y_grid_cap[1] - y_grid_cap[0]\n",
    "    dΛ = γ1 + γ2*y_grid_cap\n",
    "    ddΛ = γ2\n",
    "    πᶜo = np.ones((len(θ_list), len(y_grid_cap)))/len(θ_list)\n",
    "    θ = θ_list@πᶜo \n",
    "    A = -δ*np.ones(y_grid_cap.shape)\n",
    "    B = θ*ems_star\n",
    "    C = σy**2*ems_star**2/2\n",
    "    D = δ*η*np.log(ems_star) + (η-1)*dΛ*ems_star*θ + (η-1)*ddΛ*ems_star**2*σy**2/2\n",
    "    ϕ_bound = np.average(ϕ_list, axis=0, weights=dmg_weight)[:numy_bar+1]\n",
    "    ϕ = ϕ_bound\n",
    "    episode = 0\n",
    "    lhs_error = 1\n",
    "    while lhs_error > tol and episode < max_iter:\n",
    "        ϕ_old = ϕ.copy()\n",
    "        dϕdy = derivative_1d(ϕ, 1, dy, True)\n",
    "        dϕdyy = derivative_1d(ϕ, 2, dy, True)\n",
    "        # solver\n",
    "        ϕ_new = solve_ode(A, B, C, D, y_grid_cap, ϕ, ϵ, (True, ϕ_bound[numy_bar]))\n",
    "        rhs = -δ*ϕ_new + B*dϕdy + C*dϕdyy + D\n",
    "        rhs_error = np.max(abs(rhs))\n",
    "        lhs_error = np.max(abs((ϕ_new - ϕ_old)/ϵ))\n",
    "        ϕ = ϕ_new\n",
    "        episode += 1\n",
    "    print(\"episode: {},\\t ode error: {},\\t ft error: {}\".format(episode, rhs_error, lhs_error))\n",
    "\n",
    "    dϕdy = derivative_1d(ϕ, 1, dy)\n",
    "    dϕdyy = derivative_1d(ϕ, 2, dy)\n",
    "\n",
    "    error = np.max(abs(A*ϕ + B*dϕdy + C*dϕdyy + D))\n",
    "    \n",
    "    ME = -(dϕdy+(η-1)*dΛ)*θ - (dϕdyy+(η-1)*ddΛ)*σy**2*ems_star\n",
    "    ratio = ME/(δ*η/ems_star)\n",
    "\n",
    "    print(\"PDE error: %s\" % (error))  \n",
    "    return ME, ratio"
   ]
  },
  {
   "cell_type": "code",
   "execution_count": 233,
   "id": "grave-commander",
   "metadata": {
    "scrolled": true
   },
   "outputs": [
    {
     "name": "stdout",
     "output_type": "stream",
     "text": [
      "episode: 5000,\t ode error: 2.9242237857148544e-06,\t ft error: 2.3466055986779795e-06\n",
      "episode: 5000,\t ode error: 3.1769902705742255e-06,\t ft error: 4.3590187461320373e-07\n",
      "episode: 3860,\t ode error: 8.404837263219604e-06,\t ft error: 9.983882378235739e-09\n",
      "episode: 5000,\t ode error: 8.031792466732946e-06,\t ft error: 9.673669798942557e-07\n",
      "episode: 962,\t ode error: 6.136061635436511e-06,\t ft error: 9.845238999051098e-09\n",
      "PDE error: 6.136064500783197e-06\n"
     ]
    }
   ],
   "source": [
    "ξa = 1/10_000\n",
    "ξw = 1/600\n",
    "ξp = 60*ξw\n",
    "dmg_weight = np.array([1/3, 1/3, 1/3])\n",
    "args = (δ, η, θ_list, γ1, γ2, γ3_list, ȳ, dmg_weight, ς, ξp, ξa, ξw, σy)\n",
    "solu, ϕ_5_list = approach_one(y_grid, numy_bar, args, max_iter=5_000)\n",
    "ME, ratio = solve_baseline(y_grid, numy_bar, solu, ϕ_5_list, args)\n",
    "yt, et, πᵈt, πᶜt, ιt, ht, em_t = simulate_jump(y_grid[:numy_bar+1], solu, ME, θ_list)"
   ]
  },
  {
   "cell_type": "code",
   "execution_count": 229,
   "id": "sacred-resolution",
   "metadata": {},
   "outputs": [
    {
     "data": {
      "text/plain": [
       "(0.0, 40.0)"
      ]
     },
     "execution_count": 229,
     "metadata": {},
     "output_type": "execute_result"
    },
    {
     "data": {
      "image/png": "[encoded data removed]",
      "text/plain": [
       "<Figure size 432x288 with 1 Axes>"
      ]
     },
     "metadata": {
      "needs_background": "light"
     },
     "output_type": "display_data"
    }
   ],
   "source": [
    "plt.plot(y_grid[:numy_bar+1],-100*np.log(ratio))\n",
    "plt.ylim(0,40)"
   ]
  },
  {
   "cell_type": "code",
   "execution_count": 230,
   "id": "marked-tenant",
   "metadata": {},
   "outputs": [
    {
     "data": {
      "text/plain": [
       "(0.0, 1.0)"
      ]
     },
     "execution_count": 230,
     "metadata": {},
     "output_type": "execute_result"
    },
    {
     "data": {
      "image/png": "[encoded data removed]",
      "text/plain": [
       "<Figure size 432x288 with 1 Axes>"
      ]
     },
     "metadata": {
      "needs_background": "light"
     },
     "output_type": "display_data"
    }
   ],
   "source": [
    "plt.plot(y_grid[:numy_bar+1],ratio)\n",
    "plt.ylim(0,1)"
   ]
  },
  {
   "cell_type": "code",
   "execution_count": 231,
   "id": "unusual-berry",
   "metadata": {},
   "outputs": [
    {
     "data": {
      "text/plain": [
       "array([0.74882133, 0.75060484, 0.75086621, 0.75092761, 0.75097031,\n",
       "       0.75100597, 0.75103725, 0.75106484, 0.7510889 , 0.75110949,\n",
       "       0.75112664, 0.75114035, 0.75115059, 0.75115733, 0.75116049,\n",
       "       0.75115999, 0.75115574, 0.75114761, 0.75113546, 0.75111914,\n",
       "       0.75109848, 0.75107329, 0.75104334, 0.75100842, 0.75096827,\n",
       "       0.75092262, 0.75087116, 0.75081357, 0.75074949, 0.75067851,\n",
       "       0.75060019, 0.75051404, 0.75041949, 0.75031589, 0.75020251,\n",
       "       0.75007848, 0.74994281, 0.74979432, 0.74963169, 0.74945334,\n",
       "       0.74925751, 0.74904218, 0.74880503, 0.74854406, 0.74825861,\n",
       "       0.74787641, 0.74843496, 0.75012538, 0.74162604, 0.7471111 ,\n",
       "       0.7357386 ])"
      ]
     },
     "execution_count": 231,
     "metadata": {},
     "output_type": "execute_result"
    }
   ],
   "source": [
    "ratio"
   ]
  },
  {
   "cell_type": "code",
   "execution_count": 133,
   "id": "short-forest",
   "metadata": {},
   "outputs": [],
   "source": [
    "yt, et, πᵈt, πᶜt, ιt, ht, em_t = simulate_jump(y_grid[:numy_bar+1], solu, ME, θ_list)"
   ]
  },
  {
   "cell_type": "code",
   "execution_count": 135,
   "id": "active-input",
   "metadata": {},
   "outputs": [
    {
     "data": {
      "text/plain": [
       "[<matplotlib.lines.Line2D at 0x7fa977b2e280>]"
      ]
     },
     "execution_count": 135,
     "metadata": {},
     "output_type": "execute_result"
    },
    {
     "data": {
      "image/png": "[encoded data removed]",
      "text/plain": [
       "<Figure size 432x288 with 1 Axes>"
      ]
     },
     "metadata": {
      "needs_background": "light"
     },
     "output_type": "display_data"
    }
   ],
   "source": [
    "plt.plot(yt)"
   ]
  },
  {
   "cell_type": "code",
   "execution_count": 153,
   "id": "colored-frank",
   "metadata": {},
   "outputs": [],
   "source": [
    "def plot_together(et, ratio, θ_list, ht, πᶜt, πᵈt, MEt):\n",
    "    y_grid_cap = y_grid[:numy_bar+1]\n",
    "    πᶜo = πᶜo = np.ones(len(θ_list))/len(θ_list)\n",
    "    # plot\n",
    "    fig,((ax1, ax2), (ax3, ax4)) = plt.subplots(2,2, figsize=(12,8))\n",
    "    fig.tight_layout(pad=5)\n",
    "    # plot 1\n",
    "    ax1.plot(πᵈt[:,1], label=\"high damage\", color=\"C3\")\n",
    "    ax1.plot(πᵈt[:,0], label=\"low\", color=\"C0\")\n",
    "    ax1.legend(frameon=False)\n",
    "    ax1.set_xlabel('Years')\n",
    "    ax1.set_ylim(0,1)\n",
    "    ax1.set_xlim(left=0)\n",
    "    ax1.set_title('distorted probability of damage')\n",
    "    # plot 2\n",
    "    bins = np.linspace(1,3,14)\n",
    "    ax2.hist(θ_list*1000, density=True, color='tab:red', bins=bins, histtype='bar', ec='gray', alpha=.5, )\n",
    "    ax2.hist((θ_list+σy*ht[49])*1000, weights=πᶜt[49], density=True, color='tab:blue',bins=bins, histtype='bar', ec='gray', alpha=.5,)\n",
    "    ax2.set_title('mean difference: {:.4f}'.format((θ_list@(πᶜt[49]-πᶜo)+σy*ht[49])*1000))\n",
    "    ax2.set_xlabel('Climate sensitivity, year 50')\n",
    "    # plot 3\n",
    "    ax3.plot(et[et_base>0],label='distorted', color=\"C3\")\n",
    "    ax3.plot(et_base[et_base>0], label=\"baseline\", color=\"C0\")\n",
    "    ax3.legend(frameon=False)\n",
    "    ax3.set_xlabel('Years')\n",
    "    ax3.set_ylim(bottom=0)\n",
    "    ax3.set_xlim(left=0)\n",
    "    ax3.set_title('emission')\n",
    "    # plot 4\n",
    "    SCCt_base = simulate_scc(invkap, αₖ,  σₖ, κ, k0, MEt)\n",
    "    SCCt_distorted = simulate_scc(invkap, αₖ,  σₖ, κ, k0, δ*η/et)\n",
    "#     ax4.plot((δ*η/et[et>0])/MC[et>0]*1000, label=\"total\", color=\"C3\")\n",
    "    ax4.plot(SCCt_distorted, label=\"total\", color=\"C3\")\n",
    "#     ax4.plot((ME/MC)[et>0]*1000, label=\"baseline\", color=\"C0\")\n",
    "    ax4.plot(SCCt_base, label=\"baseline\", color=\"C0\")\n",
    "    ax4.legend(frameon=False)\n",
    "    ax4.set_xlabel('Years')\n",
    "    ax4.set_ylim(bottom=0)\n",
    "    ax4.set_xlim(left=0)\n",
    "    ax4.set_title('social cost of carbon')\n",
    "    \n",
    "    return fig, ((ax1, ax2), (ax3, ax4))"
   ]
  },
  {
   "cell_type": "code",
   "execution_count": null,
   "id": "human-stranger",
   "metadata": {},
   "outputs": [],
   "source": [
    "ξa = 1000\n",
    "ξw = 1000\n",
    "ξp = 1000\n",
    "dmg_weight = np.array([0.5, 0.5, 0])\n",
    "args = (δ, η, θ_list, γ1, γ2, γ3_list, ȳ, dmg_weight, ς, ξp, ξa, ξw, σy)\n",
    "solu, ϕ_list = approach_one(y_grid, numy_bar, args, max_iter=5_000)"
   ]
  },
  {
   "cell_type": "code",
   "execution_count": 127,
   "id": "coupled-mongolia",
   "metadata": {},
   "outputs": [],
   "source": [
    "_, et_base, _, _, _, _ = simulate_jump(y_grid[:numy_bar+1], solu, None, θ_list)"
   ]
  },
  {
   "cell_type": "code",
   "execution_count": 136,
   "id": "hourly-tension",
   "metadata": {},
   "outputs": [
    {
     "data": {
      "text/plain": [
       "[<matplotlib.lines.Line2D at 0x7fa977a86160>]"
      ]
     },
     "execution_count": 136,
     "metadata": {},
     "output_type": "execute_result"
    },
    {
     "data": {
      "image/png": "[encoded data removed]",
      "text/plain": [
       "<Figure size 432x288 with 1 Axes>"
      ]
     },
     "metadata": {
      "needs_background": "light"
     },
     "output_type": "display_data"
    }
   ],
   "source": [
    "plt.plot(et_base[et_base>0])"
   ]
  },
  {
   "cell_type": "code",
   "execution_count": 218,
   "id": "yellow-impossible",
   "metadata": {},
   "outputs": [
    {
     "name": "stdout",
     "output_type": "stream",
     "text": [
      "episode: 3238,\t ode error: 2.1138359486003655e-06,\t ft error: 9.968611306791313e-09\n",
      "episode: 3505,\t ode error: 9.564441278801957e-06,\t ft error: 9.995323446236142e-09\n",
      "episode: 3857,\t ode error: 3.9539267387126236e-05,\t ft error: 9.97547803619862e-09\n",
      "episode: 949,\t ode error: 1.7027180006527775e-05,\t ft error: 9.91269850925125e-09\n",
      "episode: 803,\t ode error: 2.909117672518643e-06,\t ft error: 9.906355573815103e-09\n",
      "PDE error: 1.7021123049699213e-06\n"
     ]
    }
   ],
   "source": [
    "ξa = 1/15_000\n",
    "ξw = 1/600\n",
    "ξp = ξw\n",
    "dmg_weight = np.array([0.5, 0.5, 0])\n",
    "args = (δ, η, θ_list, γ1, γ2, γ3_list, ȳ, dmg_weight, ς, ξp, ξa, ξw, σy)\n",
    "solu, ϕ_list = approach_one(y_grid, numy_bar, args, max_iter=5_000)\n",
    "ME, ratio = solve_baseline(y_grid, numy_bar, solu, ϕ_list, args)\n",
    "yt, et, πᵈt, πᶜt, ιt, ht, me = simulate_jump(y_grid[:numy_bar+1], solu, ME, θ_list)"
   ]
  },
  {
   "cell_type": "code",
   "execution_count": 220,
   "id": "voluntary-insight",
   "metadata": {
    "scrolled": false
   },
   "outputs": [
    {
     "data": {
      "image/png": "[encoded data removed]",
      "text/plain": [
       "<Figure size 864x576 with 4 Axes>"
      ]
     },
     "metadata": {
      "needs_background": "light"
     },
     "output_type": "display_data"
    }
   ],
   "source": [
    "fig, ((ax1, ax2), (ax3, ax4)) = plot_together(et, ratio, θ_list, ht, πᶜt, πᵈt, me)\n",
    "fig.suptitle(\"$ξ_a = 1/15000,\\ ξ_w = 1/\\ 600,\\ ξ_p =  \\ ξ_w $\")\n",
    "# plt.savefig('15_600_1.pdf')\n",
    "plt.show()"
   ]
  },
  {
   "cell_type": "code",
   "execution_count": null,
   "id": "laughing-summer",
   "metadata": {},
   "outputs": [],
   "source": [
    "ξₐ = 1/15_000\n",
    "ξ = 1/600\n",
    "ξₘ = 30*ξ\n",
    "dmg_weight = np.array([0.5, 0.5, 0])\n",
    "args = (δ, η, θ_list, γ1, γ2, γ3_list, dmg_weight, ς, ξₘ, ξₐ, ξ, σy)\n",
    "ϕ, ems, πᶜ, ι, πᵈ, h, ϕ_list = approach_one(y_grid, numy_bar, args, max_iter=5_000)\n",
    "ME, ratio = solve_decompose(y_grid, numy_bar, ems, ϕ_list, args)\n",
    "yt, et, πᵈt, πᶜt, ιt, ht, me = simulate_jump(y_grid[:numy_bar+1], ems, πᶜ, πᵈ, ι, h, ME, θ_list)"
   ]
  },
  {
   "cell_type": "code",
   "execution_count": null,
   "id": "right-victorian",
   "metadata": {
    "scrolled": false
   },
   "outputs": [],
   "source": [
    "plot_together(et, ratio, θ_list, ht, πᶜt, πᵈt, me)\n",
    "# plt.savefig('15_600_30.pdf')\n",
    "plt.show()"
   ]
  },
  {
   "cell_type": "code",
   "execution_count": null,
   "id": "nominated-completion",
   "metadata": {},
   "outputs": [],
   "source": [
    "ξₐ = 1/15_000\n",
    "ξ = 1/600\n",
    "ξₘ = ξ\n",
    "dmg_weight = np.array([0.5, 0.5, 0])\n",
    "args = (δ, η, θ_list, γ1, γ2, γ3_list, dmg_weight, ς, ξₘ, ξₐ, ξ, σy)\n",
    "ϕ, ems, πᶜ, ι, πᵈ, h, ϕ_list = approach_one(y_grid, numy_bar, args, max_iter=5_000)\n",
    "ME, ratio = solve_decompose(y_grid, numy_bar, ems, ϕ_list, args)\n",
    "yt, et, πᵈt, πᶜt, ιt, ht, me = simulate_jump(y_grid[:numy_bar+1], ems, πᶜ, πᵈ, ι, h, ME, θ_list)"
   ]
  },
  {
   "cell_type": "code",
   "execution_count": null,
   "id": "romantic-blues",
   "metadata": {
    "scrolled": false
   },
   "outputs": [],
   "source": [
    "plot_together(et, ratio, θ_list, ht, πᶜt, πᵈt, me)\n",
    "# plt.savefig('15_600_1.pdf')\n",
    "plt.show()"
   ]
  },
  {
   "cell_type": "code",
   "execution_count": null,
   "id": "unusual-sculpture",
   "metadata": {},
   "outputs": [],
   "source": [
    "ξₐ = 1/15_000\n",
    "ξ = 1/600\n",
    "ξₘ = 1000\n",
    "dmg_weight = np.array([0.5, 0.5, 0])\n",
    "args = (δ, η, θ_list, γ1, γ2, γ3_list, dmg_weight, ς, ξₘ, ξₐ, ξ, σy)\n",
    "ϕ, ems, πᶜ, ι, πᵈ, h, ϕ_list = approach_one(y_grid, numy_bar, args, max_iter=5_000)\n",
    "ME, ratio = solve_decompose(y_grid, numy_bar, ems, ϕ_list, args)\n",
    "yt, et, πᵈt, πᶜt, ιt, ht, me = simulate_jump(y_grid[:numy_bar+1], ems, πᶜ, πᵈ, ι, h, ME, θ_list)"
   ]
  },
  {
   "cell_type": "code",
   "execution_count": null,
   "id": "broken-execution",
   "metadata": {},
   "outputs": [],
   "source": [
    "plot_together(et, ratio, θ_list, ht, πᶜt, πᵈt, me)\n",
    "# plt.savefig('15_600_1000.pdf')\n",
    "plt.show()"
   ]
  }
 ],
 "metadata": {
  "kernelspec": {
   "display_name": "ry38",
   "language": "python",
   "name": "ry38"
  },
  "language_info": {
   "codemirror_mode": {
    "name": "ipython",
    "version": 3
   },
   "file_extension": ".py",
   "mimetype": "text/x-python",
   "name": "python",
   "nbconvert_exporter": "python",
   "pygments_lexer": "ipython3",
   "version": "3.8.7"
  }
 },
 "nbformat": 4,
 "nbformat_minor": 5
}
