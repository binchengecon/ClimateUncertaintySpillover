{
 "cells": [
  {
   "cell_type": "markdown",
   "metadata": {},
   "source": [
    "<table style=\"float:left; border:none\">\n",
    "   <tr style=\"border:none\">\n",
    "       <td style=\"border:none\">\n",
    "           <a href=\"https://bokeh.org/\">     \n",
    "           </a>    \n",
    "       </td>\n",
    "       <td style=\"border:none\">\n",
    "           <h1>Uncertainty Spillover</h1>\n",
    "       </td>\n",
    "   </tr>\n",
    "</table>\n",
    "\n",
    "<div style=\"float:right;\"><h2>05. Jump damage</h2></div>"
   ]
  },
  {
   "cell_type": "code",
   "execution_count": 1,
   "metadata": {
    "code_folding": []
   },
   "outputs": [],
   "source": [
    "# packages\n",
    "import numpy as np\n",
    "import pandas as pd\n",
    "import os\n",
    "import sys\n",
    "sys.path.append(os.path.dirname(os.getcwd()) + '/source')\n",
    "import pickle\n",
    "from solver_1d import false_transient_one_iteration_python\n",
    "from supportfunctions import PDESolver_2d, finiteDiff\n",
    "from numba import njit\n",
    "from scipy.sparse import csc_matrix\n",
    "from scipy.sparse.linalg import bicg\n",
    "from derivative import derivatives_2d, derivative_1d\n",
    "import SolveLinSys\n",
    "import time\n",
    "from solver_ode import solve_ode, solve_ode_one\n",
    "from solver_jump import approach_one_100, solve_smooth_unreveal, generate_weight, solve_smooth_100\n",
    "from scipy import interpolate\n",
    "import matplotlib.pyplot as plt\n",
    "import matplotlib as mpl\n",
    "mpl.rcParams['axes.spines.right'] = False\n",
    "mpl.rcParams['axes.spines.top'] = False\n",
    "mpl.rcParams[\"lines.linewidth\"] = 2.5\n",
    "mpl.rcParams[\"legend.frameon\"] = False"
   ]
  },
  {
   "cell_type": "code",
   "execution_count": 30,
   "metadata": {
    "code_folding": []
   },
   "outputs": [],
   "source": [
    "# parameters\n",
    "δ = 0.01\n",
    "η = 0.032\n",
    "μ = 1.86/1000\n",
    "θ_list = pd.read_csv(\"../data/model144.csv\", header=None)[0].to_numpy()\n",
    "θ_list = θ_list/1000\n",
    "σy = 1.2*μ\n",
    "ς = 0.1\n",
    "# damage function\n",
    "# ȳ = 1.9\n",
    "γ1 = 0.00017675\n",
    "γ2 = 2*0.0022\n",
    "γ3_list = np.array([0, 2*0.0197, 2*0.3853])\n",
    "# γ3_list = np.linspace(0,1/3, 40)\n",
    "# y grid\n",
    "numy_bar = 100\n",
    "y_min = 0\n",
    "y_max = 4\n",
    "# hy = (ȳ - y_min)/numy_bar\n",
    "hy=0.02\n",
    "y_grid = np.arange(y_min, y_max+hy, hy)"
   ]
  },
  {
   "cell_type": "code",
   "execution_count": 31,
   "metadata": {
    "code_folding": []
   },
   "outputs": [],
   "source": [
    "# capital parameters\n",
    "invkap = 0.09\n",
    "α = 0.115\n",
    "αₖ = - 0.043\n",
    "σₖ = 0.0085\n",
    "κ = 6.667\n",
    "k0 = 85/α"
   ]
  },
  {
   "cell_type": "code",
   "execution_count": 32,
   "metadata": {},
   "outputs": [],
   "source": [
    "n_temp = 16\n",
    "n_carb = 9\n",
    "n_θ = len(θ_list)\n",
    "θ_mat = θ_list.reshape(n_temp, n_carb)\n",
    "θtemp_list = np.average(θ_mat, axis=1)\n",
    "θcarb_list = np.average(θ_mat, axis=0)"
   ]
  },
  {
   "cell_type": "markdown",
   "metadata": {},
   "source": [
    "# Jump model of damages\n",
    "Intensity function:\n",
    "$$\n",
    "\\mathcal{I}(y) = \\begin{cases}\n",
    "(\\frac{1}{\\sqrt{2\\pi} \\varsigma})\\exp\\left[- \\frac{(y - \\bar y)^2}{2\\varsigma^2}\\right], \\quad y \\leqslant \\bar y\\\\\n",
    "(\\frac{1}{\\sqrt{2\\pi}\\varsigma}), \\quad y > \\bar y\n",
    "\\end{cases}\n",
    "$$\n",
    "\n",
    "HJB\n",
    "$$\n",
    "\\begin{aligned}\n",
    "0 = \\max_{\\tilde e} \\min_{\\pi^d} &- \\delta \\phi(y) + \\eta \\log\\tilde e \\\\\n",
    "    & +  \\frac{d\\phi}{dy}\\sum_i \\pi_i^a\\theta_i \\tilde e  + \\frac{1}{2} \\frac{d^2 \\phi}{dy^2}(\\tilde e)^2 |\\sigma_y|^2 + \\frac{1}{2} \\frac{(\\eta - 1)}{\\delta} \\gamma_2 (\\tilde e)^2 |\\sigma_y|^2\\\\\n",
    "& + \\frac{(\\eta -1)}{\\delta}(\\gamma_1 + \\gamma_2 y) \\tilde e \\sum_i \\pi_i^a\\theta_i + \\mathcal{I}(y)\\sum_j \\pi^d_j \\left[\\phi_j(y) - \\phi(y) \\right] \\\\\n",
    "&  + \\textbf{relative entropy}\n",
    "\\end{aligned}\n",
    "$$\n",
    "## Approach one:\n",
    "$$\n",
    "\\begin{aligned}\n",
    "0 = \\max_{\\tilde e} \\min_{g_j} &- \\delta \\phi(y) +  \\eta \\log\\tilde e + \\frac{1}{2} \\frac{d^2 \\phi}{dy^2}(\\tilde e)^2 |\\sigma_y|^2  + \\frac{\\xi_m}{2} h'h\\\\\n",
    "& + [ \\frac{d\\phi}{dy}    + \\frac{(\\eta -1)}{\\delta}(\\gamma_1 + \\gamma_2 y)]\\cdot \\tilde e \\sigma_y h +\\frac{1}{2}\\frac{ (\\eta - 1)}{\\delta} \\gamma_2 (\\tilde e)^2 |\\sigma_y|^2\\\\\n",
    "& + \\sum_i \\pi_i^c \\frac{d\\phi}{dy} \\theta_i \\tilde e  + \\sum_i \\pi_i^c \\frac{(\\eta -1)}{\\delta}(\\gamma_1 + \\gamma_2 y) \\tilde e \\theta_i + \\xi_a \\sum_i \\hat\\pi^c_i(\\log \\pi^c_i - \\log \\hat\\pi^c_i)\\\\\n",
    "&  + \\mathcal{I}(y)\\sum_j\\hat\\pi_j^d g_j\\left[\\phi_j(y) - \\phi(y) \\right]  + \\xi_m \\mathcal{I}(y) \\sum_j \\hat\\pi_j^d [1 - g_j + g_j \\log g_j]\n",
    "\\end{aligned}\n",
    "$$\n",
    "The optimal $g_j$:\n",
    "$$\n",
    "g_j^* = \\exp\\{\\frac{1}{\\xi_m}\\left( \\phi(y) - \\phi_j(y)\\right)\\}\n",
    "$$\n",
    "Plug back in\n",
    "$$\n",
    "\\begin{aligned}\n",
    "0 = \\max_{\\tilde e} \\min_{g_j} &- \\delta \\phi(y) + \\eta \\log\\tilde e + \\frac{1}{2} \\frac{d^2 \\phi}{dy^2}(\\tilde e)^2 |\\sigma_y|^2 + \\frac{1}{2}\\frac{(\\eta -1)}{\\delta}\\gamma_2(\\tilde e)^2 |\\sigma_y|^2\\\\\n",
    "& + \\sum_i \\pi_i^c \\left[\\frac{d\\phi}{dy}  + \\frac{(\\eta -1)}{\\delta}(\\gamma_1 + \\gamma_2 y)\\right] \\tilde e \\theta_i + \\xi_a \\sum_i \\hat\\pi^c_i(\\log \\pi^c_i - \\log \\hat\\pi^c_i) \\\\\n",
    "&  +  \\xi_m \\mathcal{I}(y) \\sum_j \\hat\\pi_j^d [1 - g_j^* ]\n",
    "\\end{aligned}\n",
    "$$\n",
    "Intensity altered to be $\\iota^*(y) \\mathcal{I} (y)$ where:\n",
    "$$\n",
    "\\iota^*(y)  = \\sum_j \\hat\\pi_j g_j^* \n",
    "$$\n",
    "Distorted probability:\n",
    "$$\n",
    "\\pi^*_j  = \\frac{\\exp\\left(-\\frac{1}{\\xi_m} [\\phi_j(y) - \\phi(y)] \\right) \\hat\\pi_j}{\\iota^*(y)}\n",
    "$$"
   ]
  },
  {
   "cell_type": "code",
   "execution_count": 33,
   "metadata": {
    "code_folding": []
   },
   "outputs": [],
   "source": [
    "def simulate_jump(y_grid, solu, ME,  θ_list, y_start=1, T=100, dt=1):\n",
    "    ems = solu[\"ems\"]\n",
    "    πᶜ = solu[\"πc\"]\n",
    "    πᵈ = solu[\"πd\"]\n",
    "    ι = solu[\"ι\"]\n",
    "    h = solu[\"h\"]\n",
    "    periods = int(T/dt)\n",
    "    et = np.zeros(periods)\n",
    "    yt = np.zeros(periods)\n",
    "    πᶜt = np.zeros((periods, len(θ_list)))\n",
    "    πᵈt = np.zeros((periods, len(πᵈ)))\n",
    "    ιt = np.zeros(periods)\n",
    "    ht = np.zeros(periods)\n",
    "    if ME is not None:\n",
    "        me_t = np.zeros(periods)\n",
    "    # interpolate\n",
    "    get_πᵈ = interpolate.interp1d(y_grid, πᵈ)\n",
    "    get_πᶜ = interpolate.interp1d(y_grid, πᶜ)\n",
    "#     y = np.mean(θ_list)*290\n",
    "    y = y_start\n",
    "    for t in range(periods):\n",
    "        if y > np.max(y_grid):\n",
    "            break\n",
    "        else:\n",
    "            ems_point = np.interp(y, y_grid, ems)\n",
    "            πᵈ_list = get_πᵈ(y)\n",
    "            πᶜ_list = get_πᶜ(y)\n",
    "            ι_point = np.interp(y, y_grid, ι)\n",
    "            h_point = np.interp(y, y_grid, h)\n",
    "            if ME is not None:\n",
    "                me_point = np.interp(y, y_grid, ME)\n",
    "                me_t[t] = me_point\n",
    "            et[t] = ems_point\n",
    "            πᵈt[t] = πᵈ_list\n",
    "            πᶜt[t] = πᶜ_list\n",
    "            ιt[t] = ι_point\n",
    "            ht[t] = h_point\n",
    "            yt[t] = y\n",
    "            dy = ems_point*np.mean(θ_list)*dt\n",
    "            y = dy + y\n",
    "    if ME is not None:\n",
    "        return yt, et, πᵈt, πᶜt, ιt, ht, me_t\n",
    "    else:\n",
    "        return yt, et, πᵈt, πᶜt, ιt, ht"
   ]
  },
  {
   "cell_type": "code",
   "execution_count": 34,
   "metadata": {
    "code_folding": []
   },
   "outputs": [],
   "source": [
    "# simulate\n",
    "def simulate_logkapital(invkap, αₖ,  σₖ, κ, k0, T=100, dt=1):\n",
    "    periods = int(T/dt)\n",
    "    Kt = np.zeros(periods)\n",
    "    i = invkap\n",
    "     # log capital\n",
    "    Kt[0] = np.log(k0)\n",
    "    k = np.log(k0)\n",
    "    for t in range(periods-1):\n",
    "        k +=   (αₖ + i - κ/2*i**2 - .5*σₖ**2)*dt\n",
    "        Kt[t+1] = k\n",
    "    return Kt\n",
    "def simulate_scc(invkap, αₖ,  σₖ, κ, k0, MEt, T=100, dt=1):\n",
    "    Kt = simulate_logkapital(invkap, αₖ, σₖ, κ,  k0)\n",
    "    MCt = (1-η)/((α - invkap)*np.exp(Kt))\n",
    "    SCCt = MEt/MCt*1000\n",
    "    return SCCt"
   ]
  },
  {
   "cell_type": "code",
   "execution_count": 35,
   "metadata": {},
   "outputs": [],
   "source": [
    "logKt = simulate_logkapital(invkap, αₖ,  σₖ, κ, k0,)"
   ]
  },
  {
   "cell_type": "code",
   "execution_count": 38,
   "metadata": {
    "scrolled": false
   },
   "outputs": [
    {
     "name": "stdout",
     "output_type": "stream",
     "text": [
      "episode: 734,\t ode error: 9.510157983862177e-05,\t ft error: 9.783096999171903e-09\n",
      "episode: 2000,\t ode error: 0.00024386866070565116,\t ft error: 5.4597914284304494e-05\n",
      "episode: 816,\t ode error: 0.0010822676145664052,\t ft error: 9.219412788752379e-09\n",
      "episode: 2000,\t ode error: 0.0005636831208749443,\t ft error: 1.84998634045197e-06\n"
     ]
    }
   ],
   "source": [
    "ȳ = 2\n",
    "ξa = 1000*100\n",
    "ξw = 1000*100\n",
    "ξp = 1000*100\n",
    "dmg_weight = np.array([1/3, 1/3, 1/3])\n",
    "args = (δ, η, θ_list, γ1, γ2, γ3_list, ȳ, dmg_weight, ς, ξp, ξa, ξw, σy)\n",
    "solu, ϕ_list = approach_one_100(y_grid, numy_bar, args, ϵ = 2, max_iter=2000)\n",
    "yt_base, et_base, πᵈt, πᶜt, ιt, ht = simulate_jump(y_grid[:numy_bar+1], solu, None, θ_list)"
   ]
  },
  {
   "cell_type": "code",
   "execution_count": 39,
   "metadata": {},
   "outputs": [
    {
     "data": {
      "text/plain": [
       "[<matplotlib.lines.Line2D at 0x7f2fa0e98130>]"
      ]
     },
     "execution_count": 39,
     "metadata": {},
     "output_type": "execute_result"
    },
    {
     "data": {
      "image/png": "[encoded data removed]",
      "text/plain": [
       "<Figure size 432x288 with 1 Axes>"
      ]
     },
     "metadata": {
      "needs_background": "light"
     },
     "output_type": "display_data"
    }
   ],
   "source": [
    "plt.plot(et_base[et_base>0])"
   ]
  },
  {
   "cell_type": "markdown",
   "metadata": {},
   "source": [
    "# Decompose  for no jump version"
   ]
  },
  {
   "cell_type": "markdown",
   "metadata": {},
   "source": [
    "# SCC uncertainty decomposition: pre jump\n",
    "\n",
    "First order condition for $\\tilde e$\n",
    "\n",
    "$$\n",
    "    \\left( \\frac{d^2\\phi(y)}{dy^2} + \\frac{(\\eta-1)}{\\delta}\\cdot\\gamma_2  \\right)|\\sigma_y|^2\\tilde e + \\sum_j \\pi^c_j \\left[\\frac{d\\phi(y)}{dy} + \\frac{(\\eta - 1)}{\\delta}(\\gamma_1 + \\gamma_2 y)\\right]\\theta_j  + \\frac{\\eta}{\\tilde e} = 0 \\tag{$\\ast$}\n",
    "$$\n",
    "\n",
    "Call solution $\\tilde e^* $. Now solve:\n",
    "$$\n",
    "\\begin{aligned}\n",
    "0 =  & - \\delta \\color{red}{\\phi(y)}+ \\eta \\log\\tilde e^* + \\frac{1}{2} \\color{red}{ \\frac{d^2 \\phi}{dy^2}}\\cdot(\\tilde e^*)^2 |\\sigma_y|^2 + \\frac{1}{2}\\frac{(\\eta -1)}{\\delta}\\gamma_2(\\tilde e^*)^2 |\\sigma_y|^2\\\\\n",
    "& + \\left[\\color{red}{\\frac{d\\phi}{dy}}  + \\frac{(\\eta -1)}{\\delta}(\\gamma_1 + \\gamma_2 y)\\right] \\tilde e^* \\sum_i \\pi_i^c \\theta_i\n",
    "\\end{aligned}\n",
    "$$"
   ]
  },
  {
   "cell_type": "code",
   "execution_count": 26,
   "metadata": {
    "code_folding": [
     0
    ]
   },
   "outputs": [],
   "source": [
    "def plot_together(et, θ_list, ht, πᶜt, πᵈt, MEt, dmg_weight):\n",
    "    y_grid_cap = y_grid[:numy_bar+1]\n",
    "    πᶜo = πᶜo = np.ones(len(θ_list))/len(θ_list)\n",
    "    # plot\n",
    "    fig,((ax1, ax2), (ax3, ax4)) = plt.subplots(2,2, figsize=(12,8))\n",
    "    fig.tight_layout(pad=5)\n",
    "    # plot 1\n",
    "    if np.count_nonzero(dmg_weight) > 2:\n",
    "        ax1.plot(πᵈt[:,-1], label=\"extreme damage\", color=\"C2\")\n",
    "    ax1.plot(πᵈt[:,1], label=\"high damage\", color=\"C3\")\n",
    "    ax1.plot(πᵈt[:,0], label=\"low\", color=\"C0\")\n",
    "    ax1.legend(frameon=False)\n",
    "    ax1.set_xlabel('Years')\n",
    "    ax1.set_ylim(0,1)\n",
    "    ax1.set_xlim(left=0)\n",
    "    ax1.set_title('distorted probability of damage')\n",
    "    # plot 2\n",
    "    bins = np.linspace(1,3,14)\n",
    "    ax2.hist(θ_list*1000, density=True, color='tab:red', bins=bins, histtype='bar', ec='gray', alpha=.5, )\n",
    "    ax2.hist((θ_list+σy*ht[49])*1000, weights=πᶜt[49], density=True, color='tab:blue',bins=bins, histtype='bar', ec='gray', alpha=.5,)\n",
    "    ax2.set_title('mean difference: {:.4f}'.format((θ_list@(πᶜt[49]-πᶜo)+σy*ht[49])*1000))\n",
    "    ax2.set_xlabel('Climate sensitivity, year 50')\n",
    "    ax2.set_xlim(0.8,3)\n",
    "    # plot 3\n",
    "    ax3.plot(et[et_base>0],label='distorted', color=\"C3\")\n",
    "    ax3.plot(et_base[et_base>0], label=\"baseline\", color=\"C0\")\n",
    "    ax3.legend(frameon=False)\n",
    "    ax3.set_xlabel('Years')\n",
    "    ax3.set_ylim(bottom=0)\n",
    "    ax3.set_xlim(left=0)\n",
    "    ax3.set_title('emission')\n",
    "    # plot 4\n",
    "    SCCt_base, _ = simulate_scc(invkap, αₖ,  σₖ, κ, k0, MEt)\n",
    "    SCCt_distorted, _ = simulate_scc(invkap, αₖ,  σₖ, κ, k0, δ*η/et)\n",
    "#     ax4.plot((δ*η/et[et>0])/MC[et>0]*1000, label=\"total\", color=\"C3\")\n",
    "    ax4.plot(SCCt_distorted, label=\"total\", color=\"C3\")\n",
    "#     ax4.plot((ME/MC)[et>0]*1000, label=\"baseline\", color=\"C0\")\n",
    "    ax4.plot(SCCt_distorted - SCCt_base, label=\"baseline\", color=\"C0\")\n",
    "    ax4.legend(frameon=False)\n",
    "    ax4.set_xlabel('Years')\n",
    "    ax4.set_ylim(bottom=0)\n",
    "    ax4.set_xlim(left=0)\n",
    "    ax4.set_title('social cost of carbon')\n",
    "    \n",
    "    return fig, ((ax1, ax2), (ax3, ax4))"
   ]
  },
  {
   "cell_type": "code",
   "execution_count": null,
   "metadata": {},
   "outputs": [],
   "source": [
    "ξa = 100_000\n",
    "ξw = 100_000\n",
    "ξp = 100_000\n",
    "dmg_weight = np.array([1/3, 1/3, 1/3])\n",
    "args = (δ, η, θ_list, γ1, γ2, γ3_list, ȳ, dmg_weight, ς, ξp, ξa, ξw, σy)\n",
    "solu, ϕ_list = approach_one_100(y_grid, numy_bar, args, ϵ=2, max_iter=2000)"
   ]
  },
  {
   "cell_type": "code",
   "execution_count": 44,
   "metadata": {
    "scrolled": true
   },
   "outputs": [],
   "source": [
    "yt_bb, et_bb, πᵈt, πᶜt, ιt, ht = simulate_jump(y_grid[:numy_bar+1], solu, None, θ_list, y_start=1.1)\n",
    "# yt_bbw, et_bbw, πᵈt, πᶜt, ιt, ht = simulate_jump_ems(y_grid[:numy_bar+1], solu, None, θ_list)"
   ]
  },
  {
   "cell_type": "code",
   "execution_count": 45,
   "metadata": {},
   "outputs": [
    {
     "data": {
      "text/plain": [
       "[<matplotlib.lines.Line2D at 0x7f2fa0e93910>]"
      ]
     },
     "execution_count": 45,
     "metadata": {},
     "output_type": "execute_result"
    },
    {
     "data": {
      "image/png": "[encoded data removed]",
      "text/plain": [
       "<Figure size 432x288 with 1 Axes>"
      ]
     },
     "metadata": {
      "needs_background": "light"
     },
     "output_type": "display_data"
    }
   ],
   "source": [
    "plt.plot(et_bb)"
   ]
  },
  {
   "cell_type": "code",
   "execution_count": 47,
   "metadata": {},
   "outputs": [
    {
     "name": "stdout",
     "output_type": "stream",
     "text": [
      "episode: 5000,\t ode error: 0.0006080189295310512,\t ft error: 5.7292277159485635e-05\n",
      "episode: 5000,\t ode error: 0.00023656570782026182,\t ft error: 8.516285446698765e-05\n",
      "episode: 5000,\t ode error: 0.0009873530913568787,\t ft error: 3.187842878560332e-08\n",
      "episode: 1474,\t ode error: 0.0006520754051868409,\t ft error: 9.84817560834017e-09\n"
     ]
    }
   ],
   "source": [
    "ξa = 100_000\n",
    "ξw = 0.3\n",
    "ξp = 5\n",
    "dmg_weight = np.array([1/3, 1/3, 1/3])\n",
    "args = (δ, η, θ_list, γ1, γ2, γ3_list, ȳ, dmg_weight, ς, ξp, ξa, ξw, σy)\n",
    "solu, ϕ_list = approach_one_100(y_grid, numy_bar, args, max_iter=5_000)\n",
    "yt_3, et_3, πᵈt, πᶜt_3, ιt, ht_3 = simulate_jump(y_grid[:numy_bar+1], solu, None, θ_list, y_start=1.1)\n",
    "# yt_3w, et_3w, πᵈt, πᶜt_3, ιt, ht_3w = simulate_jump_ems(y_grid[:numy_bar+1], solu, None, θ_list)"
   ]
  },
  {
   "cell_type": "code",
   "execution_count": 48,
   "metadata": {},
   "outputs": [
    {
     "name": "stdout",
     "output_type": "stream",
     "text": [
      "episode: 5000,\t ode error: 8.370381705768981e-05,\t ft error: 2.0938360984601445e-05\n",
      "episode: 765,\t ode error: 0.0002838397833124645,\t ft error: 9.472502116025794e-09\n",
      "episode: 816,\t ode error: 0.0009680913354023629,\t ft error: 9.830490199647102e-09\n",
      "episode: 5000,\t ode error: 0.0018796842983399382,\t ft error: 8.413117119632219e-07\n"
     ]
    }
   ],
   "source": [
    "# adding equal version 1 \n",
    "ξa = 100000\n",
    "ξw = 0.3\n",
    "ξp = 0.3\n",
    "dmg_weight = np.array([1/3, 1/3, 1/3])\n",
    "args = (δ, η, θ_list, γ1, γ2, γ3_list, ȳ, dmg_weight, ς, ξp, ξa, ξw, σy)\n",
    "solu, ϕ_list = approach_one_100(y_grid, numy_bar, args, ϵ=2, max_iter=5_000)\n",
    "yt_e1, et_e1, πᵈt, πᶜt, ιt, ht_e1 = simulate_jump(y_grid[:numy_bar+1], solu, None, θ_list, y_start=1.1)\n",
    "# yt_e1w, et_e1w, πᵈt, πᶜt, ιt, ht_e1w = simulate_jump_ems(y_grid[:numy_bar+1], solu, None, θ_list)"
   ]
  },
  {
   "cell_type": "code",
   "execution_count": 49,
   "metadata": {},
   "outputs": [
    {
     "name": "stdout",
     "output_type": "stream",
     "text": [
      "episode: 2000,\t ode error: 5.859597136723127e-05,\t ft error: 3.261688590328049e-07\n",
      "episode: 2000,\t ode error: 0.00024191317547733737,\t ft error: 5.018886736229966e-05\n",
      "episode: 814,\t ode error: 0.0010729131573266638,\t ft error: 9.986444560183827e-09\n",
      "episode: 2000,\t ode error: 0.0007890376141928349,\t ft error: 1.1616897949040528e-05\n"
     ]
    }
   ],
   "source": [
    "# adding equal version 2\n",
    "ξa = 100_000\n",
    "ξw = 5\n",
    "ξp = 5\n",
    "dmg_weight = np.array([1/3, 1/3, 1/3])\n",
    "args = (δ, η, θ_list, γ1, γ2, γ3_list, ȳ, dmg_weight, ς, ξp, ξa, ξw, σy)\n",
    "solu, ϕ_list = approach_one_100(y_grid, numy_bar, args, ϵ=2, max_iter=2_000)\n",
    "yt_e2, et_e2, πᵈt, πᶜt, ιt, ht_e2 = simulate_jump(y_grid[:numy_bar+1], solu, None, θ_list, y_start=1.1)\n",
    "# yt_e2w, et_e2w, πᵈt, πᶜt, ιt, ht_e2w = simulate_jump_ems(y_grid[:numy_bar+1], solu, None, θ_list)"
   ]
  },
  {
   "cell_type": "code",
   "execution_count": 56,
   "metadata": {
    "code_folding": []
   },
   "outputs": [
    {
     "data": {
      "image/png": "[encoded data removed]",
      "text/plain": [
       "<Figure size 576x360 with 1 Axes>"
      ]
     },
     "metadata": {
      "needs_background": "light"
     },
     "output_type": "display_data"
    }
   ],
   "source": [
    "#\n",
    "years = np.arange(0,100)\n",
    "fig = plt.figure(figsize=(8,5))\n",
    "plt.plot(years[et_bb>0], et_bb[et_bb>0], label=\"baseline\", color=\"tab:red\")\n",
    "plt.plot(years[et_bb>0], et_e2[et_bb>0], label=\"$ξ_b = ξ_p = 5$\", color=\"darkorange\")\n",
    "# plt.plot(et_brownian, label=\"brownian robust, jump robust\", color=\"tab:blue\")\n",
    "# plt.plot(et_smooth, label=\"smooth ambiguity, jump robust\", color=\"darkgreen\")\n",
    "plt.plot(years[et_bb>0], et_3[et_bb>0], label=\"$ξ_b =0.3,  ξ_p = 5$\", color=\"darkgreen\")\n",
    "plt.plot(years[et_bb>0], et_e1[et_bb>0], label=\"$ξ_b = ξ_p = 0.3$\" , color=\"navy\")\n",
    "\n",
    "# plt.plot(et, label=\"with drift term + jump robust\")\n",
    "plt.legend(frameon=False, loc=3)\n",
    "plt.ylim(0,10)\n",
    "# plt.xlim(right=95)\n",
    "# plt.xticks(np.arange(0, 91, 10))\n",
    "plt.ylabel('Emissions', fontsize=13)\n",
    "plt.xlabel('Years', fontsize=13)\n",
    "plt.savefig(\"../figures/emission_three.pdf\")\n",
    "# plt.savefig(\"./paper_plots/emission_five.png\", facecolor=\"w\", edgecolor=\"w\", bbox_inches=\"tight\")"
   ]
  },
  {
   "cell_type": "code",
   "execution_count": 58,
   "metadata": {
    "code_folding": [],
    "scrolled": false
   },
   "outputs": [
    {
     "name": "stderr",
     "output_type": "stream",
     "text": [
      "<ipython-input-58-c37a92bf2ecd>:8: RuntimeWarning: divide by zero encountered in log\n",
      "  plt.plot(years, np.log(1000) + np.log(C0)  - (yt_e2*γ1 + γ2/2*yt_e2**2) -np.log(et_e2) + np.log(η) - np.log(1- η), label=\"$ξ_b = ξ_p = 5$\", color=\"darkorange\")\n",
      "<ipython-input-58-c37a92bf2ecd>:9: RuntimeWarning: divide by zero encountered in log\n",
      "  plt.plot(years, np.log(1000) + np.log(C0)  - (yt_bb*γ1 + γ2/2*yt_bb**2) -np.log(et_bb) + np.log(η) - np.log(1- η), label=\"baseline\", color=\"tab:red\")\n"
     ]
    },
    {
     "data": {
      "text/plain": [
       "Text(0.5, 0, 'Years')"
      ]
     },
     "execution_count": 58,
     "metadata": {},
     "output_type": "execute_result"
    },
    {
     "data": {
      "image/png": "[encoded data removed]",
      "text/plain": [
       "<Figure size 576x360 with 1 Axes>"
      ]
     },
     "metadata": {
      "needs_background": "light"
     },
     "output_type": "display_data"
    }
   ],
   "source": [
    "#\n",
    "fig = plt.figure(figsize=(8,5))\n",
    "x_max = np.max(np.where(et_bb>0))\n",
    "C0 = (α - invkap)*k0\n",
    "plt.plot(years, np.log(1000) + np.log(C0)  - (yt_e1*γ1 + γ2/2*yt_e1**2) -np.log(et_e1) + np.log(η) - np.log(1- η), label=\"$ξ_b = ξ_p = 0.3$\", color=\"navy\")\n",
    "plt.plot(years, np.log(1000) + np.log(C0)  - (yt_3*γ1 + γ2/2*yt_3**2) -np.log(et_3) + np.log(η) - np.log(1- η), label=\"$ξ_b =0.3, ξ_p = 5$\", color=\"darkgreen\")\n",
    "# plt.plot( np.log(1000) - np.log(et) + np.log(η) - np.log(1 -η), label=\"with drift term + jump robust\")\n",
    "plt.plot(years, np.log(1000) + np.log(C0)  - (yt_e2*γ1 + γ2/2*yt_e2**2) -np.log(et_e2) + np.log(η) - np.log(1- η), label=\"$ξ_b = ξ_p = 5$\", color=\"darkorange\")\n",
    "plt.plot(years, np.log(1000) + np.log(C0)  - (yt_bb*γ1 + γ2/2*yt_bb**2) -np.log(et_bb) + np.log(η) - np.log(1- η), label=\"baseline\", color=\"tab:red\")\n",
    "handles, labels = plt.gca().get_legend_handles_labels()\n",
    "order = [0,1,2,3]\n",
    "plt.legend([handles[idx] for idx in order],[labels[idx] for idx in order], frameon=False)\n",
    "# plt.legend(frameon=False)\n",
    "# plt.ylim(0)\n",
    "# plt.xticks(np.arange(0,91,10))\n",
    "plt.xlim(right=x_max)\n",
    "plt.ylabel('$\\log SCC_t$', fontsize=13)\n",
    "plt.xlabel('Years', fontsize=13)\n",
    "# plt.title('$ \\log(1000) -\\log{\\mathcal{E}_t} + \\log \\eta  - \\log (1 - \\eta)$')\n",
    "# plt.savefig(\"../figures/logscc.pdf\")\n",
    "# plt.savefig(\"./paper_plots/logscc_five.png\", facecolor=\"w\", edgecolor=\"w\", bbox_inches=\"tight\")"
   ]
  }
 ],
 "metadata": {
  "kernelspec": {
   "display_name": "dell38",
   "language": "python",
   "name": "dell38"
  },
  "language_info": {
   "codemirror_mode": {
    "name": "ipython",
    "version": 3
   },
   "file_extension": ".py",
   "mimetype": "text/x-python",
   "name": "python",
   "nbconvert_exporter": "python",
   "pygments_lexer": "ipython3",
   "version": "3.8.6"
  }
 },
 "nbformat": 4,
 "nbformat_minor": 5
}
