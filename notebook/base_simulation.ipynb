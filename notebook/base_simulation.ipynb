{
 "cells": [
  {
   "cell_type": "markdown",
   "metadata": {},
   "source": [
    "# Base Model Simulation\n",
    "In the base model, adjustment parameter $\\lambda_{base} = .0018$."
   ]
  },
  {
   "cell_type": "code",
   "execution_count": 31,
   "metadata": {},
   "outputs": [],
   "source": [
    "# packages\n",
    "import os, sys\n",
    "sys.path.append(os.path.dirname(os.getcwd()) + '/source')\n",
    "\n",
    "import numpy as np\n",
    "import matplotlib.pyplot as plt\n",
    "from simulation import simulate_emission_quadratic, simulate_log_damage\n",
    "import pickle\n",
    "import time"
   ]
  },
  {
   "cell_type": "code",
   "execution_count": 2,
   "metadata": {},
   "outputs": [],
   "source": [
    "# model parameter\n",
    "δ = .01\n",
    "η = .032\n",
    "median = 1.75/1000\n",
    "h_hat = .2\n",
    "σ_n = 1.2\n",
    "γ_base = .018\n",
    "ξ = 8*δ*η"
   ]
  },
  {
   "cell_type": "markdown",
   "metadata": {},
   "source": [
    "## Emission trajectory simualtion\n",
    "Use the above values, simulate emission based on $\\tau_2 = 0$, $\\xi = 8*\\delta*\\eta = .00256$ and $ \\xi = 4*\\delta*\\eta = .00128$.\n",
    "\n",
    "The simulation starts with initial reserve of 1500 and time span is 500 years."
   ]
  },
  {
   "cell_type": "code",
   "execution_count": 8,
   "metadata": {},
   "outputs": [],
   "source": [
    "# simulation settings: initial reserve, simulation timespan and function arguments\n",
    "r_start = 1500\n",
    "T = 500\n",
    "args_trace_ϕ = (-20, -3, 5000, 1e-9, 1e-3)"
   ]
  },
  {
   "cell_type": "code",
   "execution_count": 9,
   "metadata": {},
   "outputs": [
    {
     "data": {
      "text/plain": [
       "159.44108414649963"
      ]
     },
     "execution_count": 9,
     "metadata": {},
     "output_type": "execute_result"
    }
   ],
   "source": [
    "# simulate emission for τ_2 = 0\n",
    "start = time.time()\n",
    "e0_1, r_grid0_1, _, e_grid0_1  = simulate_emission_quadratic(δ, η, median*γ_base, ξ, 0, \n",
    "                                                 args_trace_ϕ=args_trace_ϕ,\n",
    "                                                 r_start=r_start, T=T)\n",
    "end = time.time()\n",
    "end-start"
   ]
  },
  {
   "cell_type": "code",
   "execution_count": 16,
   "metadata": {},
   "outputs": [
    {
     "data": {
      "text/plain": [
       "203.31267857551575"
      ]
     },
     "execution_count": 16,
     "metadata": {},
     "output_type": "execute_result"
    }
   ],
   "source": [
    "# simulato for τ != 0 and ξ = .00256\n",
    "start = time.time()\n",
    "e_1, r_grid_1, _, e_grid_1 = simulate_emission_quadratic(δ, η, median*γ_base, ξ, σ_n,\n",
    "                                                        args_trace_ϕ = args_trace_ϕ, \n",
    "                                                        r_start = r_start, T=T)\n",
    "end = time.time()\n",
    "end - start"
   ]
  },
  {
   "cell_type": "code",
   "execution_count": 17,
   "metadata": {},
   "outputs": [
    {
     "data": {
      "text/plain": [
       "197.6791706085205"
      ]
     },
     "execution_count": 17,
     "metadata": {},
     "output_type": "execute_result"
    }
   ],
   "source": [
    "# simulato for τ != 0 and ξ = .00128\n",
    "start = time.time()\n",
    "e_05, r_grid_05, _, e_grid_05 = simulate_emission_quadratic(δ, η, median*γ_base, .5*ξ, σ_n,\n",
    "                                                        args_trace_ϕ = args_trace_ϕ, \n",
    "                                                        r_start = r_start, T=T)\n",
    "end = time.time()\n",
    "end - start"
   ]
  },
  {
   "cell_type": "code",
   "execution_count": 32,
   "metadata": {},
   "outputs": [],
   "source": [
    "e_base = dict(e0 = e0_1, e_1 = e_1, e_05 = e_05)\n",
    "with open(\"./data/e_base\", \"wb\") as f:\n",
    "    pickle.dump(e_base, f)"
   ]
  },
  {
   "cell_type": "code",
   "execution_count": 29,
   "metadata": {},
   "outputs": [
    {
     "data": {
      "text/plain": [
       "[<matplotlib.lines.Line2D at 0x7f3c30427e50>]"
      ]
     },
     "execution_count": 29,
     "metadata": {},
     "output_type": "execute_result"
    },
    {
     "data": {
      "image/png": "[encoded data removed]",
      "text/plain": [
       "<Figure size 576x360 with 1 Axes>"
      ]
     },
     "metadata": {
      "needs_background": "light"
     },
     "output_type": "display_data"
    }
   ],
   "source": [
    "# plot emission for 200 years\n",
    "fig = plt.figure(figsize = (8,5))\n",
    "plt.plot(e0_1[:200])\n",
    "plt.plot(e_1[:200])\n",
    "plt.plot(e_05[:200])"
   ]
  }
 ],
 "metadata": {
  "kernelspec": {
   "display_name": "ry38",
   "language": "python",
   "name": "ry38"
  },
  "language_info": {
   "codemirror_mode": {
    "name": "ipython",
    "version": 3
   },
   "file_extension": ".py",
   "mimetype": "text/x-python",
   "name": "python",
   "nbconvert_exporter": "python",
   "pygments_lexer": "ipython3",
   "version": "3.8.7"
  },
  "toc-showtags": false
 },
 "nbformat": 4,
 "nbformat_minor": 4
}
