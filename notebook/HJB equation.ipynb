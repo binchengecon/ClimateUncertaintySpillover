{
 "cells": [
  {
   "cell_type": "markdown",
   "metadata": {},
   "source": [
    "Equation:\n",
    "\n",
    "\\begin{align*}\n",
    "0 = \\max_{e} \\min_{h_2} & -\\delta \\phi(y, z_2) + \\delta \\eta \\log e  + \\xi_m\\frac{(h_2)^2}{2} + \\frac{\\partial \\phi}{\\partial y}(y, z_2) {\\color{red}{z_2}e}  \\\\\n",
    "& + \\left[\\frac{\\partial \\phi}{\\partial z_2}(y, z_2)\\right]\\left[-\\rho (z_2 -\\mu_2) + \\sqrt{z_2} \\sigma_2 h_2\\right] + \\left[\\frac{\\partial^2 \\phi}{\\partial(z_2)^2}(y, z_2)\\right]\\left(\\frac{z_2|\\sigma_2|^2}{2}\\right)\\\\\n",
    "& + (\\eta-1) (\\tau_1 + \\tau_2 y) z_2 e\n",
    "\\end{align*}"
   ]
  }
 ],
 "metadata": {
  "kernelspec": {
   "display_name": "Python 3",
   "language": "python",
   "name": "python3"
  },
  "language_info": {
   "codemirror_mode": {
    "name": "ipython",
    "version": 3
   },
   "file_extension": ".py",
   "mimetype": "text/x-python",
   "name": "python",
   "nbconvert_exporter": "python",
   "pygments_lexer": "ipython3",
   "version": "3.8.5"
  }
 },
 "nbformat": 4,
 "nbformat_minor": 4
}
