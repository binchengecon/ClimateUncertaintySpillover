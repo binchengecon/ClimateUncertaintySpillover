{
 "cells": [
  {
   "cell_type": "code",
   "execution_count": 1,
   "metadata": {},
   "outputs": [],
   "source": [
    "import numpy as np\n",
    "import matplotlib.pyplot as plt\n",
    "from numba import njit"
   ]
  },
  {
   "cell_type": "markdown",
   "metadata": {},
   "source": [
    "Quarterly approximation:\n",
    "\n",
    "Capital process:\n",
    "$$\n",
    "\\log K_{t+1} - \\log K_t = \\alpha_k + \\beta_k Z_t + \\sigma_k (W_{t+1}-W_t)\n",
    "$$\n",
    "\n",
    "\n",
    "Z process:\n",
    "$$\n",
    "Z_{t+1} - Z_t = - \\beta_z Z_t + \\sigma_z (W_{t+1}-W_t)\n",
    "$$\n",
    "\n",
    "where $\\alpha_c = .484, \\beta_c = 1,  \\beta_z=.014$.\n",
    "$\\sigma_c=\\begin{bmatrix}.477 \\\\ 0\\end{bmatrix}, \\sigma_z=\\begin{bmatrix}.011 \\\\ .025\\end{bmatrix}$."
   ]
  },
  {
   "cell_type": "code",
   "execution_count": 14,
   "metadata": {},
   "outputs": [
    {
     "data": {
      "text/plain": [
       "390.62499999999994"
      ]
     },
     "execution_count": 14,
     "metadata": {},
     "output_type": "execute_result"
    }
   ],
   "source": [
    "1./0.00256"
   ]
  },
  {
   "cell_type": "code",
   "execution_count": 2,
   "metadata": {},
   "outputs": [],
   "source": [
    "α_c = .484\n",
    "β_c = 1.\n",
    "σ_c = np.array([.477, 0])\n",
    "α_z = 0.\n",
    "β_z = .014\n",
    "σ_z = np.array([.011, .025])\n",
    "\n",
    "\n",
    "@njit\n",
    "def simulation(ws, N=100_000, T=40, dt=1/4.):\n",
    "    \"\"\"\n",
    "    Simulate N paths of Z_t and C_t from t=1 to T.\n",
    "\n",
    "    \"\"\"\n",
    "    var_z = dt*σ_z@σ_z/(1-(1-β_z*dt)**2)\n",
    "    std_z = np.sqrt(var_z)\n",
    "    \n",
    "    time_periods = int(T/dt)\n",
    "    z_path = np.zeros((N, time_periods+1))\n",
    "    c_path = np.zeros((N, time_periods+1))\n",
    "    for i in range(N):\n",
    "        z0 = np.random.normal(0.,std_z)\n",
    "        c0 = 0.\n",
    "        z_path[i, 0] = z0\n",
    "        c_path[i, 0] = c0\n",
    "        for j in range(1, time_periods+1):\n",
    "            c1 = c0 + (α_c + β_c*z0)*dt + σ_c@ws[i, j]*np.sqrt(dt)\n",
    "            z1 = (1.-β_z*dt)*z0 + σ_z@ws[i, j]*np.sqrt(dt)\n",
    "            c_path[i, j] = c1\n",
    "            z_path[i, j] = z1\n",
    "            c0 = c1\n",
    "            z0 = z1\n",
    "    return z_path, c_path"
   ]
  },
  {
   "cell_type": "code",
   "execution_count": 4,
   "metadata": {},
   "outputs": [],
   "source": [
    "N = 1_000_000\n",
    "T = 40\n",
    "dt = 1./4.\n",
    "np.random.seed(1)\n",
    "\n",
    "ws = np.random.multivariate_normal(np.zeros(2), np.eye(2), (N, int(T/dt)))\n",
    "res_z, res_c = simulation(ws, N, T, dt)"
   ]
  },
  {
   "cell_type": "code",
   "execution_count": 5,
   "metadata": {},
   "outputs": [
    {
     "data": {
      "text/plain": [
       "[<matplotlib.lines.Line2D at 0x7fbc0925c8b0>]"
      ]
     },
     "execution_count": 5,
     "metadata": {},
     "output_type": "execute_result"
    },
    {
     "data": {
      "image/png": "[encoded data removed]",
      "text/plain": [
       "<Figure size 432x288 with 1 Axes>"
      ]
     },
     "metadata": {
      "needs_background": "light"
     },
     "output_type": "display_data"
    }
   ],
   "source": [
    "plt.plot(np.percentile(res_z, 10, axis=0))\n",
    "plt.plot(np.percentile(res_z, 90, axis=0))"
   ]
  },
  {
   "cell_type": "code",
   "execution_count": 9,
   "metadata": {},
   "outputs": [
    {
     "data": {
      "image/png": "[encoded data removed]",
      "text/plain": [
       "<Figure size 432x288 with 1 Axes>"
      ]
     },
     "metadata": {
      "needs_background": "light"
     },
     "output_type": "display_data"
    }
   ],
   "source": [
    "plt.plot(np.arange(0, T+dt, dt), np.percentile(res_c, 10, axis=0))\n",
    "plt.plot(np.arange(0, T+dt, dt), np.percentile(res_c, 90, axis=0))\n",
    "plt.ylim(-5, 30)\n",
    "plt.xlim(0, 40)\n",
    "plt.xlabel('quarter')\n",
    "plt.savefig('plot.pdf')"
   ]
  },
  {
   "cell_type": "code",
   "execution_count": 13,
   "metadata": {},
   "outputs": [],
   "source": [
    "δ = .01\n",
    "η = .032\n",
    "σ_z_annual = σ_z*2\n",
    "σ_k_annual = σ_c*2\n",
    "\n",
    "v_z = .04*(1-η)/(δ+.056)\n",
    "v_k = 1-η"
   ]
  },
  {
   "cell_type": "code",
   "execution_count": 30,
   "metadata": {},
   "outputs": [
    {
     "data": {
      "text/plain": [
       "0.054977443912449304"
      ]
     },
     "execution_count": 30,
     "metadata": {},
     "output_type": "execute_result"
    }
   ],
   "source": [
    "i_star = 0.09\n",
    "σ_new = 0.0161\n",
    "μ_k = -0.034977443912449\n",
    "ϕ0 = 0.06\n",
    "ϕ1 = 1/ϕ0\n",
    "ϕ0*np.log(1+ϕ1*i_star)"
   ]
  },
  {
   "cell_type": "code",
   "execution_count": null,
   "metadata": {},
   "outputs": [],
   "source": [
    "# BBH\n",
    "α"
   ]
  },
  {
   "cell_type": "code",
   "execution_count": 31,
   "metadata": {},
   "outputs": [
    {
     "data": {
      "text/plain": [
       "0.020000000000000302"
      ]
     },
     "execution_count": 31,
     "metadata": {},
     "output_type": "execute_result"
    }
   ],
   "source": [
    "μ_k + ϕ0*np.log(1+ϕ1*i_star)"
   ]
  },
  {
   "cell_type": "code",
   "execution_count": 32,
   "metadata": {},
   "outputs": [
    {
     "data": {
      "text/plain": [
       "0.020312499999999997"
      ]
     },
     "execution_count": 32,
     "metadata": {},
     "output_type": "execute_result"
    }
   ],
   "source": [
    "α_k = -0.05\n",
    "ioverk = 0.125\n",
    "κ = 7.\n",
    "α_k + ioverk - κ/2.*ioverk**2"
   ]
  },
  {
   "cell_type": "code",
   "execution_count": 33,
   "metadata": {},
   "outputs": [
    {
     "data": {
      "text/plain": [
       "695.6521739130435"
      ]
     },
     "execution_count": 33,
     "metadata": {},
     "output_type": "execute_result"
    }
   ],
   "source": [
    "80/0.115"
   ]
  }
 ],
 "metadata": {
  "kernelspec": {
   "display_name": "Python 3",
   "language": "python",
   "name": "python3"
  },
  "language_info": {
   "codemirror_mode": {
    "name": "ipython",
    "version": 3
   },
   "file_extension": ".py",
   "mimetype": "text/x-python",
   "name": "python",
   "nbconvert_exporter": "python",
   "pygments_lexer": "ipython3",
   "version": "3.8.5"
  }
 },
 "nbformat": 4,
 "nbformat_minor": 4
}
