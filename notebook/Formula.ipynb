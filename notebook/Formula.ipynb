{
 "cells": [
  {
   "cell_type": "markdown",
   "metadata": {},
   "source": [
    "### ODE problem\n",
    "\n",
    "ODE:\n",
    "\n",
    "\\begin{align}\n",
    "0 = \\max_e  &-\\delta \\phi(y) + \\delta\\eta\\log e  + \\frac{d \\phi}{d y}(y) \\mu_2 e + (\\eta-1)\\left(\\frac{d}{d \\tau}\\Lambda(y)\\mu_2 e\\right)\\\\\n",
    "\\end{align}\n",
    "\n",
    "where\n",
    "\n",
    "\\begin{equation}\n",
    "\\Lambda(\\tau)=\n",
    "\\begin{cases}\n",
    "  \\lambda_1 \\tau + \\frac{\\lambda_2}{2}\\tau^2, & \\tau\\leq \\bar{\\tau} \\\\\n",
    "  \\lambda_1 \\tau + \\frac{\\lambda_2}{2}\\tau^2 + \\frac{\\lambda_{2}^+}{2}(\\tau-\\bar{\\tau})^2, & \\tau > \\bar{\\tau}\n",
    "\\end{cases}\n",
    "\\end{equation}\n",
    "\n",
    "FOC of $e$ gives :\n",
    "\n",
    "$$\n",
    "e^* = -\\frac{\\delta \\eta}{\\frac{d \\phi}{d y}(y)\\mu_2 + (\\eta-1)\\frac{d}{d \\tau}\\Lambda(y)\\mu_2}\n",
    "$$"
   ]
  },
  {
   "cell_type": "markdown",
   "metadata": {},
   "source": [
    "### Numerical solution\n",
    "\n",
    "#### False transient method\n",
    "\n",
    "We discretize the ODE and implement the false transient method:\n",
    "\n",
    "$$\n",
    "\\frac{{\\color{red}{\\phi_{j+1}(y_i)}} - {\\color{blue}{\\phi_{j}(y_i)}}}{\\epsilon} = -\\delta {\\color{red}{\\phi_{j+1}(y_i)}} + \\delta \\eta \\log {\\color{blue}{e_i^*}} + \\frac{{\\color{red}{\\phi_{j+1}(y_{i+1})}} - {\\color{red}{\\phi_{j+1}(y_{i})}}}{\\Delta y} \\mu_2 \\color{blue}{e_i^*} + (\\eta - 1)\\left(\\frac{d}{d \\tau} \\Lambda(y_i) \\mu_2 {\\color{blue}{e^*}}\\right)\n",
    "$$\n",
    "\n",
    "where\n",
    "\n",
    "$$\n",
    "{\\color{blue}{e_i^*}} = \n",
    "\\begin{cases}\n",
    "- \\frac{\\delta \\eta}{\\frac{ {\\color{blue}{\\phi_j(y_{i+1})}} - {\\color{blue}{\\phi_j(y_{i})}}}{\\Delta y}\\mu_2 + (\\eta - 1)\\frac{d}{d \\tau} \\Lambda(y) \\mu_2}, & \\text{if $y$ is on the left boundary;}\\\\\n",
    "- \\frac{\\delta \\eta}{\\frac{ {\\color{blue}{\\phi_j(y_{i})}} - {\\color{blue}{\\phi_j(y_{i-1})}}}{\\Delta y}\\mu_2 + (\\eta - 1)\\frac{d}{d \\tau} \\Lambda(y) \\mu_2}, & \\text{if $y$ is on the right boundary;}\\\\\n",
    "- \\frac{\\delta \\eta}{\\frac{ {\\color{blue}{\\phi_j(y_{i+1})}} - {\\color{blue}{\\phi_j(y_{i-1})}}}{2\\Delta y}\\mu_2 + (\\eta - 1)\\frac{d}{d \\tau} \\Lambda(y) \\mu_2}, & \\text{otherwise.}\n",
    "\\end{cases}\n",
    "$$\n",
    "\n",
    "We assume $\\color{blue}{\\text{blue terms}}$ are known at $j+1$ iteration and can be explicitly computed using $\\phi$ at $j$th iteration. $\\color{red}{\\text{Red terms}}$ are to be determined in the $j+1$th iteration. By collecting the coefficients on the $\\color{red}{\\text{red terms}}$, we can simplify the discretized linear system into\n",
    "\n",
    "\n",
    "$$A\\phi_{j+1}(y)=B$$\n",
    "\n",
    "where $A$ is an $n \\times n$ matrix, $\\phi_{j+1}(y)$ is an $n \\times 1$ vector to be determined, and $B$ is an $n \\times 1$ vector.\n",
    "\n",
    "#### On the right boundary\n",
    "\n",
    "In particular, on the right boundary:\n",
    "\n",
    "$A[n] = \\begin{bmatrix} \\end{bmatrix}$"
   ]
  }
 ],
 "metadata": {
  "kernelspec": {
   "display_name": "Python 3",
   "language": "python",
   "name": "python3"
  },
  "language_info": {
   "codemirror_mode": {
    "name": "ipython",
    "version": 3
   },
   "file_extension": ".py",
   "mimetype": "text/x-python",
   "name": "python",
   "nbconvert_exporter": "python",
   "pygments_lexer": "ipython3",
   "version": "3.8.5"
  }
 },
 "nbformat": 4,
 "nbformat_minor": 4
}
