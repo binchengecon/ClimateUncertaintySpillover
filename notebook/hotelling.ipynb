{
 "cells": [
  {
   "cell_type": "code",
   "execution_count": 1,
   "metadata": {},
   "outputs": [],
   "source": [
    "import os, sys\n",
    "sys.path.append(os.path.dirname(os.getcwd()) + '/source')\n",
    "\n",
    "import numpy as np\n",
    "import pandas as pd\n",
    "import matplotlib.pyplot as plt\n",
    "from model_2d import pde_hotelling\n",
    "from numba import njit"
   ]
  },
  {
   "cell_type": "markdown",
   "metadata": {},
   "source": [
    "PDE:\n",
    "\n",
    "\\begin{align*}\n",
    "0 = \\max_{\\tilde{e}}\\min_{h}\\min_{\\pi_i^c, \\sum_{i=1}^n \\pi^c_i=1} &  -  \\frac{\\partial V}{\\partial b}\\delta b - \\ell \\tilde{e} + \\delta b \\eta \\log \\tilde{e} \\\\\n",
    "& + \\frac{\\partial V}{\\partial y}\\tilde{e}(\\sum_{i=1}^n\\pi_i^c\\theta_i+\\sigma_y\\cdot h) + \\frac{1}{2}\\frac{\\partial^2 V}{(\\partial y)^2}|\\sigma_y|^2(\\tilde{e})^2 \\\\\n",
    "& + b(\\eta-1)\\left[\\gamma_1 + \\gamma_2 y + \\gamma_2^+\\boldsymbol{1}_{y\\geq \\bar{y}}(y-\\bar{y})\\right]\\tilde{e}(\\sum_{i=1}^n\\pi_i^c\\theta_i+\\sigma_y\\cdot h) \\\\\n",
    "& +  b \\left(\\frac{\\xi_m}{2}h^\\prime h \\right) + b \\xi_a\\sum_{i=1}^{n} \\pi_i^c(\\log \\pi_i^c - \\log \\hat{\\pi}_i^c)\n",
    "\\end{align*}\n",
    "\n",
    "The FOC of $h$ gives:\n",
    "$$\n",
    "h^* = -\\frac{G(y,b)\\tilde{e}\\sigma_y}{b\\xi_m}\n",
    "$$\n",
    "\n",
    "where\n",
    "$$\n",
    "G(y, b) = \\frac{\\partial V}{\\partial y} + b (\\eta-1) \\left[\\gamma_1 + \\gamma_2 y + \\gamma_2^+\\boldsymbol{1}_{y\\geq \\bar{y}}(y-\\bar{y})\\right]\n",
    "$$\n",
    "\n",
    "Plug in $h^*$ and the simplified PDE is:\n",
    "\n",
    "\\begin{align*}\n",
    "0 = \\max_{\\tilde{e}}\\min_{\\pi_i^c, \\sum_{i=1}^n \\pi^c_i=1} &  -  \\frac{\\partial V}{\\partial b}\\delta b - \\ell \\tilde{e} + \\delta b \\eta \\log \\tilde{e} \\\\\n",
    "& + \\frac{\\partial V}{\\partial y}\\tilde{e}\\sum_{i=1}^n\\pi_i^c\\theta_i + \\frac{1}{2}\\frac{\\partial^2 V}{(\\partial y)^2}|\\sigma_y|^2(\\tilde{e})^2 \\\\\n",
    "& + b(\\eta-1)\\left[\\gamma_1 + \\gamma_2 y + \\gamma_2^+\\boldsymbol{1}_{y\\geq \\bar{y}}(y-\\bar{y})\\right]\\tilde{e}\\sum_{i=1}^n\\pi_i^c\\theta_i \\\\\n",
    "&  + b \\xi_a\\sum_{i=1}^{n} \\pi_i^c(\\log \\pi_i^c - \\log \\hat{\\pi}_i^c) - \\frac{G^2(y,b)\\tilde{e}^2\\sigma_y^2}{2b\\xi_m}\n",
    "\\end{align*}\n",
    "\n",
    "\n",
    "The FOC of $\\tilde{e}$ gives:\n",
    "$$\n",
    "\\tilde{e}^* = \\frac{-\\left(\\sum_{i=1}^n\\pi^c_i \\theta_i G(y)-\\ell\\right) - \\sqrt{\\left(\\sum_{i=1}^n \\pi_i^c \\theta_iG(y, b)-\\ell\\right)^2-4b\\delta \\eta |\\sigma_y|^2\\left(\\frac{\\partial^2 V}{(\\partial y)^2}-\\frac{G^2(y,b)}{b\\xi_m}\\right)}}{2|\\sigma_y|^2\\left(\\frac{\\partial^2 V}{(\\partial y)^2}-\\frac{G^2(y,b)}{b\\xi_{1,m}}\\right)}\n",
    "$$\n",
    "\n",
    "In addition, the FOC of $\\pi^c$ gives:\n",
    "$$\n",
    "\\pi_i^c \\propto \\exp \\left[-\\frac{1}{b\\xi_a}G(y,b)\\tilde{e}\\theta_i\\right]\\hat{\\pi}^c_i\n",
    "$$"
   ]
  },
  {
   "cell_type": "code",
   "execution_count": 18,
   "metadata": {},
   "outputs": [
    {
     "name": "stdout",
     "output_type": "stream",
     "text": [
      "Converged. Total iteration 1000: LHS Error: 2.1189207025963663e-06; RHS Error 4.806397564755525e-06\n",
      "Converged. Total iteration 1000: LHS Error: 2.1189210838296058e-06; RHS Error 4.80639770441345e-06\n"
     ]
    }
   ],
   "source": [
    "ξ_1m = 1000.\n",
    "ξ_a = 1000.\n",
    "\n",
    "η = .032\n",
    "δ = .01\n",
    "\n",
    "θ = pd.read_csv('../data/model144.csv', header=None).to_numpy()[:, 0]/1000.\n",
    "πc_o = np.ones_like(θ)/len(θ)\n",
    "σ_y = 1.2*1.86/1000\n",
    "\n",
    "y_bar = 2.\n",
    "γ_1 = 1.7675/10000\n",
    "γ_2 = .0022*2\n",
    "γ_2p = 0*.5 + .0197*2*.5\n",
    "\n",
    "n_y = 50\n",
    "y_min = 1e-10\n",
    "y_max = 5\n",
    "y_grid = np.linspace(y_min, y_max, n_y)\n",
    "\n",
    "n_b = 20\n",
    "b_min = 1./n_b\n",
    "b_max = 1.\n",
    "b_grid = np.linspace(b_min, b_max, n_b)\n",
    "\n",
    "model_paras = (η, δ, θ, πc_o, σ_y, ξ_1m, ξ_a, γ_1, γ_2, γ_2p, y_bar) \n",
    "\n",
    "ell = 1e-12\n",
    "Δ_ell = 1e-13\n",
    "model_res = pde_hotelling(y_grid, b_grid, ell=ell,\n",
    "                          model_paras=model_paras, v0=None, ϵ=.5,\n",
    "                          tol=1e-8, max_iter=1_000, print_all=False)\n",
    "model_res_right = pde_hotelling(y_grid, b_grid, ell=ell+Δ_ell,\n",
    "                          model_paras=model_paras, v0=None, ϵ=.5,\n",
    "                          tol=1e-8, max_iter=1_000, print_all=False)"
   ]
  },
  {
   "cell_type": "code",
   "execution_count": 19,
   "metadata": {},
   "outputs": [],
   "source": [
    "ψ_ell = model_res['v0'][:, -1]\n",
    "ψ_ell_right = model_res_right['v0'][:, -1]\n",
    "dψ_ell = (ψ_ell_right-ψ_ell)/Δ_ell\n",
    "r = -dψ_ell"
   ]
  },
  {
   "cell_type": "code",
   "execution_count": 20,
   "metadata": {},
   "outputs": [
    {
     "data": {
      "text/plain": [
       "[<matplotlib.lines.Line2D at 0x7f9e48e81490>]"
      ]
     },
     "execution_count": 20,
     "metadata": {},
     "output_type": "execute_result"
    },
    {
     "data": {
      "image/png": "[encoded data removed]",
      "text/plain": [
       "<Figure size 432x288 with 1 Axes>"
      ]
     },
     "metadata": {
      "needs_background": "light"
     },
     "output_type": "display_data"
    }
   ],
   "source": [
    "plt.plot(y_grid, r)"
   ]
  },
  {
   "cell_type": "code",
   "execution_count": null,
   "metadata": {},
   "outputs": [],
   "source": []
  }
 ],
 "metadata": {
  "kernelspec": {
   "display_name": "Python 3",
   "language": "python",
   "name": "python3"
  },
  "language_info": {
   "codemirror_mode": {
    "name": "ipython",
    "version": 3
   },
   "file_extension": ".py",
   "mimetype": "text/x-python",
   "name": "python",
   "nbconvert_exporter": "python",
   "pygments_lexer": "ipython3",
   "version": "3.8.5"
  }
 },
 "nbformat": 4,
 "nbformat_minor": 4
}
