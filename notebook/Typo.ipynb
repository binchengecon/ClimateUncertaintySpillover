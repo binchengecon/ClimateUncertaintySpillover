{
 "cells": [
  {
   "cell_type": "markdown",
   "metadata": {},
   "source": [
    "1. Page 12, the second equation:\n",
    "\n",
    "$$\n",
    "d K_t =  K_t \\left[ \\mu_k (Z_t) dt    + \\left({\\frac {I_t}{K_t}} \\right) dt  -\n",
    "{\\frac { \\kappa} 2} \\left( {\\frac {I_t} {K_t}} \\right)^2 dt + \\sigma_k(Z_t) {\\color{red}{dW_t}} \\right]   \n",
    "$$\n",
    "\n",
    "$$\n",
    "d\\log K_t =  \\left[ \\mu_k (Z_t)    + \\left({\\frac {I_t}{K_t}} \\right)  -\n",
    "{\\frac { \\kappa} 2} \\left( {\\frac {I_t} {K_t}} \\right)^2 \\right] dt -  {\\frac  {\\vert \\sigma_k(Z_t) \\vert^2}  2}dt+ \\sigma_k(Z_t) {\\color{red}{dW_t^1}} ,\n",
    "$$\n",
    "\n",
    "The notation for $dW_t$ is not consistent with earlier ones. ${\\color{red}{dW_t}}, {\\color{red}{dW_t^1}} \\to {\\color{blue}{dW_t^k}}$.\n",
    "\n",
    "2. Page 20, equation (6):\n",
    "\n",
    "\\begin{equation} \\label{mb=mc}\n",
    " \\frac {\\eta} { e}  =  -   \\frac {d \\phi(y)}{d y}  (\\iota_y \\cdot z) \\sum_{\\ell=1}^L \\pi^a_\\ell  \\theta_\\ell -   \\frac {d^2 \\phi(y)}{(dy)^2} |\\varsigma|^2  {\\color{blue}{(\\iota_y \\cdot z)^2}} e\n",
    " -   {\\frac {(\\eta - 1)} \\delta} \\left[  (\\iota_y \\cdot z) \\left( \\gamma_1 + \\gamma_2 y \\right)  \\sum_{\\ell=1}^L \\pi^a_\\ell \\theta_\\ell - \\gamma_2 |\\varsigma|^2 {\\color{blue}{(\\iota_y \\cdot z)^2}}  e\\right]\n",
    "\\end{equation}\n",
    "\n",
    "3. Page 21, the last line of the HJB:\n",
    "\n",
    "$$\n",
    "+ {\\frac {(\\eta - 1)} \\delta}  \\left(  \\left[ \\gamma_1 + \\gamma_2 y + \\gamma_3^m (y - {\\bar y})  \\right]   \\sum_{\\ell=1}^L \\pi^a_\\ell \\theta_\\ell {\\tilde e}\n",
    "+ {\\frac 1 2}(\\gamma_2 + {\\color{red}{\\gamma_3}})   |\\varsigma|^2 \\tilde e^2  \\right)\n",
    "$$\n",
    "\n",
    "${\\color{red}{\\gamma_3}} \\to {\\color{blue}{\\gamma_3^m}}$"
   ]
  }
 ],
 "metadata": {
  "kernelspec": {
   "display_name": "Python 3",
   "language": "python",
   "name": "python3"
  },
  "language_info": {
   "codemirror_mode": {
    "name": "ipython",
    "version": 3
   },
   "file_extension": ".py",
   "mimetype": "text/x-python",
   "name": "python",
   "nbconvert_exporter": "python",
   "pygments_lexer": "ipython3",
   "version": "3.8.5"
  }
 },
 "nbformat": 4,
 "nbformat_minor": 4
}
