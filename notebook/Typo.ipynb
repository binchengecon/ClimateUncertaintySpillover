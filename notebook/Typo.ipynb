{
 "cells": [
  {
   "cell_type": "markdown",
   "metadata": {},
   "source": [
    "1. Page 11, the thrid last line in the paragraph just above Section 4: \"For sufficiently ${\\color{red}{\\text{large}}}$ $\\zeta$\" -> \"For sufficiently ${\\color{blue}{\\text{small}}}$ $\\zeta$\".\n",
    "\n",
    "2. Page 11, the capital evolution process in Section 4:\n",
    "\n",
    "$$\n",
    "d K_t =  K_t   \\left[ \\mu_k (Z_t) \\cdot dt + \\left({\\frac {I_t}{K_t}} \\right)dt - {\\frac { \\kappa} 2} \\left( {\\frac {I_t} {K_t}} \\right)^2 dt \n",
    "+ \\sigma_k({\\color{red}{Z_t^1}}) \\cdot {\\color{red}{dW_t^1}} \\right]\n",
    "$$\n",
    "\n",
    "$$\n",
    "d\\log K_t =  \\left[ \\mu_k ({\\color{red}{Z_t^k}})    + \\left({\\frac {I_t}{K_t}} \\right)  -\n",
    "{\\frac { \\kappa} 2} \\left( {\\frac {I_t} {K_t}} \\right)^2 \\right] dt -  {\\frac  {\\vert \\sigma_k({\\color{red}{Z_t^1}}) \\vert^2}  2}dt+ \\sigma_k({\\color{red}{Z_t^1}}) \\cdot dW_t^1 ,\n",
    "$$\n",
    "\n",
    "${\\color{red}{Z_t^k}} \\to {\\color{blue}{Z_t}}$, ${\\color{red}{Z_t^1}} \\to {\\color{blue}{Z_t}}$, ${\\color{red}{dW_t^1}} \\to {\\color{blue}{dW_t}}$ "
   ]
  }
 ],
 "metadata": {
  "kernelspec": {
   "display_name": "Python 3",
   "language": "python",
   "name": "python3"
  },
  "language_info": {
   "codemirror_mode": {
    "name": "ipython",
    "version": 3
   },
   "file_extension": ".py",
   "mimetype": "text/x-python",
   "name": "python",
   "nbconvert_exporter": "python",
   "pygments_lexer": "ipython3",
   "version": "3.8.5"
  }
 },
 "nbformat": 4,
 "nbformat_minor": 4
}
