{
 "cells": [
  {
   "cell_type": "code",
   "execution_count": 31,
   "metadata": {},
   "outputs": [],
   "source": [
    "import numpy as np\n",
    "import pandas as pd\n",
    "import os\n",
    "import sys\n",
    "sys.path.append(os.path.dirname(os.getcwd()) + '/source')\n",
    "\n",
    "from utilities import compute_derivatives_2d, find_nearest_value\n",
    "from solver_2d import false_transient_one_iteration_python\n",
    "\n",
    "import matplotlib.pyplot as plt"
   ]
  },
  {
   "cell_type": "markdown",
   "metadata": {},
   "source": [
    "The PDE is:\n",
    "\n",
    "\\begin{align*}\n",
    "0 = \\max_{\\tilde{e}} \\max_{\\pi^a: \\sum_{i=1}^n \\pi^a_i = 1} & b \\eta \\log \\tilde{e} + b\\frac{\\eta-1}{\\delta}\\left[\\gamma_1 + \\gamma_2 y + \\gamma_2^+\\boldsymbol{1}_{y\\geq \\bar{y}}(y-\\bar{y})\\right] \\tilde{e}  \\sum_{i=1}^{n}\\pi^a_i \\theta_i\\\\\n",
    "& + \\frac{\\partial V}{\\partial y}\\tilde{e} \\sum_{i=1}^{n}\\pi^a_i \\theta_i - b \\delta \\frac{\\partial V}{\\partial b}\\\\\n",
    "& + \\frac{1}{2} \\frac{\\partial^2 V}{(\\partial y)^2}|\\sigma_y|^2(\\tilde{e})^2 - \\ell \\tilde{e}\\\\\n",
    "& + \\frac{1}{2} b\\frac{\\eta-1}{\\delta}\\left[\\left(\\gamma_2 + \\gamma_2^+\\boldsymbol{1}_{y\\geq \\bar{y}}\\right)\\right]|\\sigma_y|^2(\\tilde{e})^2\\\\\n",
    "& + \\xi_a \\sum_{i=1}^n \\pi^a_i (\\log \\pi^a_i - \\log \\bar{\\pi}^a_i)\n",
    "\\end{align*}\n",
    "\n",
    "The FOC of $\\tilde{e}$ gives:\n",
    "\n",
    "$$\n",
    "\\tilde{e}^* = \\frac{-\\left[\\sum_{i=1}^{n}\\pi^a_i \\theta_i G - \\ell\\right] - \\sqrt{\\left[ \\sum_{i=1}^{n}\\pi^a_i \\theta_i G - \\ell\\right]^2-4b \\eta |\\sigma_y|^2F}}{2|\\sigma_y|^2F}\n",
    "$$\n",
    "\n",
    "where $G:=\\frac{\\partial \\tilde{V}}{\\partial y} + b\\frac{\\eta-1}{\\delta}\\left[\\gamma_1 + \\gamma_2 y + \\gamma_2^+\\boldsymbol{1}_{y\\geq \\bar{y}}(y-\\bar{y})\\right]$, $F:=\\frac{\\partial^2 V}{(\\partial y)^2} + b\\frac{\\eta-1}{\\delta}\\left(\\gamma_2 + \\gamma_2^+\\boldsymbol{1}_{y\\geq \\bar{y}}\\right)$.\n",
    "\n",
    "The FOC of $\\pi^a_i$ gives:\n",
    "\n",
    "$$\n",
    "\\pi^a_i \\propto \\bar{\\pi}^a_i \\exp \\left[-\\frac{1}{\\xi_a}G \\tilde{e} \\theta_i\\right]\n",
    "$$"
   ]
  },
  {
   "cell_type": "code",
   "execution_count": 22,
   "metadata": {},
   "outputs": [],
   "source": [
    "def solve_pde_fixed_ell(y_grid, b_grid, ell, model_args=(), v0=None, ϵ=1.,\n",
    "                        tol=1e-8, max_iter=5000, print_all=True):\n",
    "    η, δ, θ, πc_o, σ_y, ξ_a, γ_1, γ_2, γ_2p, y_bar = model_args\n",
    "    Δ_y = y_grid[1] - y_grid[0]\n",
    "    Δ_b = b_grid[1] - b_grid[0]\n",
    "    (y_mat, b_mat) = np.meshgrid(y_grid, b_grid, indexing = 'ij')\n",
    "\n",
    "    if v0 is None:\n",
    "        v0 = -η*(y_mat+y_mat**2)\n",
    "\n",
    "    d_Λ = γ_1 + γ_2*y_mat + γ_2p*(y_mat>y_bar)*(y_mat-y_bar)\n",
    "    dd_Λ = γ_2 + γ_2p*(y_mat>y_bar)\n",
    "\n",
    "    πc = np.ones((len(πc_o), len(y_grid), len(b_grid)))\n",
    "    θ_reshape = np.ones_like(πc)\n",
    "    for i in range(πc.shape[0]):\n",
    "        πc[i] = πc_o[i]\n",
    "        θ_reshape[i] = θ[i]\n",
    "    πc_o = πc.copy()\n",
    "    θ = θ_reshape\n",
    "\n",
    "    bc = (np.zeros(0), np.zeros(0), np.zeros(0), np.zeros(0))\n",
    "    impose_bc = (False, False, False, False)    \n",
    "\n",
    "    count = 0\n",
    "    error = 1.\n",
    "\n",
    "    while error > tol and count < max_iter:\n",
    "        v_old = v0.copy()\n",
    "\n",
    "        v0_dy = compute_derivatives_2d(v0, 0, 1, Δ_y, central_diff=False)\n",
    "        v0_dyy = compute_derivatives_2d(v0, 0, 2, Δ_y)\n",
    "        v0_db = compute_derivatives_2d(v0, 1, 1, Δ_b, central_diff=False)\n",
    "        v0_dbb = compute_derivatives_2d(v0, 1, 2, Δ_b)        \n",
    "\n",
    "        G = v0_dy + b_mat*(η-1)/δ*d_Λ\n",
    "        F = v0_dyy + b_mat*(η-1)/δ*dd_Λ\n",
    "        \n",
    "        if σ_y == 0:\n",
    "            e_tilde = -b_mat*η/(G*np.sum(πc*θ, axis=0)-ell)\n",
    "        else:\n",
    "            root = (np.sum(πc*θ, axis=0)*G - ell)**2 - 4*b_mat*η*σ_y**2*F\n",
    "            root[root<0] = 0.\n",
    "            e_tilde = (- (G*np.sum(πc*θ, axis=0)-ell) - np.sqrt(root)) / (2*σ_y**2*F)\n",
    "        e_tilde[e_tilde<=0] = 1e-16\n",
    "\n",
    "        log_πc_ratio = -G*e_tilde*θ/ξ_a\n",
    "        πc_ratio = log_πc_ratio - np.max(log_πc_ratio, axis=0)\n",
    "        πc = np.exp(πc_ratio) * πc_o\n",
    "        πc = πc/np.sum(πc, axis=0)\n",
    "        πc[πc<=0] = 1e-16\n",
    "        c_entropy = np.sum(πc*(np.log(πc)-np.log(πc_o)), axis=0)\n",
    "\n",
    "        A = np.zeros_like(y_mat)\n",
    "        B_y = e_tilde * np.sum(πc*θ, axis=0)\n",
    "        B_b = -b_mat*δ\n",
    "        C_yy = .5 * σ_y**2 * e_tilde**2\n",
    "        C_bb = np.zeros_like(b_mat)\n",
    "        D = b_mat*η*np.log(e_tilde) + b_mat*(η-1)/δ*d_Λ*e_tilde*np.sum(πc*θ, axis=0)\\\n",
    "            -ell*e_tilde + .5*b_mat*(η-1)/δ*dd_Λ*σ_y**2*e_tilde**2 + ξ_a*c_entropy\n",
    "        v0 = false_transient_one_iteration_python(A, B_y, B_b, C_yy, C_bb, D, v0, ε, Δ_y, Δ_b, bc, impose_bc)\n",
    "\n",
    "        rhs_error = A*v0 + B_y*v0_dy + B_b*v0_db + C_yy*v0_dyy + D\n",
    "        rhs_error = np.max(abs(rhs_error))\n",
    "        lhs_error = np.max(abs((v0 - v_old)/ϵ))\n",
    "        error = lhs_error\n",
    "        count += 1\n",
    "        if print_all:\n",
    "            print(\"Iteration %s: LHS Error: %s; RHS Error %s\" % (count, lhs_error, rhs_error))\n",
    "\n",
    "    print(\"Converged. Total iteration %s: LHS Error: %s; RHS Error %s\" % (count, lhs_error, rhs_error))\n",
    "\n",
    "    res = {'v0': v0,\n",
    "           'v0_dy': v0_dy,\n",
    "           'v0_dyy': v0_dyy,\n",
    "           'e_tilde': e_tilde,\n",
    "           'y_grid': y_grid,\n",
    "           'πc': πc,\n",
    "           'c_entropy': c_entropy}\n",
    "    return res"
   ]
  },
  {
   "cell_type": "code",
   "execution_count": 44,
   "metadata": {},
   "outputs": [],
   "source": [
    "def solve_pde_fixed_ell_jump(y_grid, b_grid, ell, model_args=(), v0=None, ϵ=1.,\n",
    "                        tol=1e-8, max_iter=5000, print_all=True):\n",
    "    η, δ, θ, πc_o, σ_y, ξ_a, πd_o, ξ_p, γ_1, γ_2, y_bar, ϕ_i = model_args\n",
    "    Δ_y = y_grid[1] - y_grid[0]\n",
    "    Δ_b = b_grid[1] - b_grid[0]\n",
    "    (y_mat, b_mat) = np.meshgrid(y_grid, b_grid, indexing = 'ij')\n",
    "\n",
    "    if v0 is None:\n",
    "        v0 = -η*(y_mat+y_mat**2)\n",
    "\n",
    "    d_Λ = γ_1 + γ_2*y_mat\n",
    "    dd_Λ = γ_2\n",
    "\n",
    "    πd = np.ones((len(πd_o), len(y_grid), len(b_grid)))\n",
    "    for i in range(πd.shape[0]):\n",
    "        πd[i] = πd_o[i]\n",
    "    πd_o = πd    \n",
    "\n",
    "    πc = np.ones((len(πc_o), len(y_grid), len(b_grid)))\n",
    "    θ_reshape = np.ones_like(πc)\n",
    "    for i in range(πc.shape[0]):\n",
    "        πc[i] = πc_o[i]\n",
    "        θ_reshape[i] = θ[i]\n",
    "    πc_o = πc.copy()\n",
    "    θ = θ_reshape\n",
    "\n",
    "    count = 0\n",
    "    error = 1.\n",
    "\n",
    "    bc_y = -ξ_p*np.log(np.sum(πd_o[:, -1, :]*np.exp(-1./ξ_p*ϕ_i[:, -1, :]), axis=0))\n",
    "    bc = (np.zeros(0), bc_y, np.zeros(0), np.zeros(0))\n",
    "    impose_bc = (False, True, False, False)\n",
    "\n",
    "    while error > tol and count < max_iter:\n",
    "        v_old = v0.copy()\n",
    "\n",
    "        v0_dy = compute_derivatives_2d(v0, 0, 1, Δ_y, central_diff=False)\n",
    "        v0_dyy = compute_derivatives_2d(v0, 0, 2, Δ_y)\n",
    "        v0_db = compute_derivatives_2d(v0, 1, 1, Δ_b, central_diff=False)\n",
    "        v0_dbb = compute_derivatives_2d(v0, 1, 2, Δ_b)        \n",
    "\n",
    "        G = v0_dy + b_mat*(η-1)/δ*d_Λ\n",
    "        F = v0_dyy + b_mat*(η-1)/δ*dd_Λ\n",
    "        \n",
    "        if σ_y == 0:\n",
    "            e_tilde = -b_mat*η/(G*np.sum(πc*θ, axis=0)-ell)\n",
    "        else:\n",
    "            root = (np.sum(πc*θ, axis=0)*G - ell)**2 - 4*b_mat*η*σ_y**2*F\n",
    "            root[root<0] = 0.\n",
    "            e_tilde = (- (G*np.sum(πc*θ, axis=0)-ell) - np.sqrt(root)) / (2*σ_y**2*F)\n",
    "        e_tilde[e_tilde<=0] = 1e-16\n",
    "\n",
    "        log_πc_ratio = -G*e_tilde*θ/ξ_a\n",
    "        πc_ratio = log_πc_ratio - np.max(log_πc_ratio, axis=0)\n",
    "        πc = np.exp(πc_ratio) * πc_o\n",
    "        πc = πc/np.sum(πc, axis=0)\n",
    "        πc[πc<=0] = 1e-16\n",
    "        c_entropy = np.sum(πc*(np.log(πc)-np.log(πc_o)), axis=0)\n",
    "\n",
    "        A = np.zeros_like(y_mat)\n",
    "        B_y = e_tilde * np.sum(πc*θ, axis=0)\n",
    "        B_b = -b_mat*δ\n",
    "        C_yy = .5 * σ_y**2 * e_tilde**2\n",
    "        C_bb = np.zeros_like(b_mat)\n",
    "        D = b_mat*η*np.log(e_tilde) + b_mat*(η-1)/δ*d_Λ*e_tilde*np.sum(πc*θ, axis=0)\\\n",
    "            -ell*e_tilde + .5*b_mat*(η-1)/δ*dd_Λ*σ_y**2*e_tilde**2 + ξ_a*c_entropy\n",
    "        v0 = false_transient_one_iteration_python(A, B_y, B_b, C_yy, C_bb, D, v0, ε, Δ_y, Δ_b, bc, impose_bc)\n",
    "\n",
    "        rhs_error = A*v0 + B_y*v0_dy + B_b*v0_db + C_yy*v0_dyy + D\n",
    "        rhs_error = np.max(abs(rhs_error))\n",
    "        lhs_error = np.max(abs((v0 - v_old)/ϵ))\n",
    "        error = lhs_error\n",
    "        count += 1\n",
    "        if print_all:\n",
    "            print(\"Iteration %s: LHS Error: %s; RHS Error %s\" % (count, lhs_error, rhs_error))\n",
    "\n",
    "    print(\"Converged. Total iteration %s: LHS Error: %s; RHS Error %s\" % (count, lhs_error, rhs_error))\n",
    "\n",
    "    res = {'v0': v0,\n",
    "           'v0_dy': v0_dy,\n",
    "           'v0_dyy': v0_dyy,\n",
    "           'e_tilde': e_tilde,\n",
    "           'y_grid': y_grid,\n",
    "           'πc': πc,\n",
    "           'c_entropy': c_entropy}\n",
    "    return res"
   ]
  },
  {
   "cell_type": "code",
   "execution_count": 135,
   "metadata": {},
   "outputs": [],
   "source": [
    "def compute_jump(ell):\n",
    "    ξ_p = 5.\n",
    "    ξ_a = .01\n",
    "\n",
    "    η = .032\n",
    "    δ = .01\n",
    "\n",
    "    θ = pd.read_csv('../data/model144.csv', header=None).to_numpy()[:, 0]/1000.\n",
    "    πc_o = np.ones_like(θ)/len(θ)\n",
    "    σ_y = 1.2*np.mean(θ)\n",
    "\n",
    "    y_bar = 2.\n",
    "    γ_1 = 1.7675/10000\n",
    "    γ_2 = .0022*2\n",
    "    γ_2p = np.array([0, .0197*2, .3853*2])\n",
    "    πd_o = np.array([1./3, 1./3, 1./3])\n",
    "\n",
    "    y_step = .08\n",
    "    y_grid_long = np.arange(0., 4., y_step)\n",
    "    y_grid_short = np.arange(0., 2+y_step, y_step)\n",
    "    n_bar = find_nearest_value(y_grid_long, y_bar) + 1\n",
    "\n",
    "    b_step = .02\n",
    "    b_grid = np.arange(b_step, 1+b_step, b_step)\n",
    "\n",
    "    # Prepare ϕ_i\n",
    "    model_res_list = []\n",
    "    for γ_2p_i in γ_2p:\n",
    "        model_args = (η, δ, θ, πc_o, σ_y, ξ_a, γ_1, γ_2, γ_2p_i, y_bar) \n",
    "        model_res = solve_pde_fixed_ell(y_grid_long, b_grid, ell, model_args, v0=None, ϵ=1.,\n",
    "                                        tol=1e-8, max_iter=1000, print_all=False)\n",
    "        model_res_list.append(model_res)\n",
    "\n",
    "    ϕ_list = [res['v0'] for res in model_res_list]\n",
    "\n",
    "    ϕ_list_short = []\n",
    "    for ϕ_i in ϕ_list:\n",
    "        temp = ϕ_i[:n_bar, :]\n",
    "        ϕ_list_short.append(temp)\n",
    "    ϕ_i = np.array(ϕ_list_short)\n",
    "\n",
    "    # Compute ϕ\n",
    "    model_args = (η, δ, θ, πc_o, σ_y, ξ_a, πd_o, ξ_p, γ_1, γ_2, y_bar, ϕ_i)\n",
    "    model_res = solve_pde_fixed_ell_jump(y_grid_short, b_grid, ell, model_args, \n",
    "                                         v0=np.average(ϕ_i, weights=πd_o, axis=0),\n",
    "                                         ϵ=1., tol=1e-8, max_iter=1000, print_all=False)\n",
    "    return model_res"
   ]
  },
  {
   "cell_type": "code",
   "execution_count": 145,
   "metadata": {
    "scrolled": true
   },
   "outputs": [
    {
     "name": "stdout",
     "output_type": "stream",
     "text": [
      "Converged. Total iteration 1000: LHS Error: 0.0008867498314439892; RHS Error 0.0008871795343021252\n",
      "Converged. Total iteration 1000: LHS Error: 0.0008864459058486318; RHS Error 0.0011339818895822838\n",
      "Converged. Total iteration 1000: LHS Error: 0.0008888831991444857; RHS Error 0.00679360828737767\n",
      "Converged. Total iteration 1000: LHS Error: 0.004622257861723877; RHS Error 0.09069457099535318\n",
      "Converged. Total iteration 1000: LHS Error: 0.0008867640432482782; RHS Error 0.0008872424492698747\n",
      "Converged. Total iteration 1000: LHS Error: 0.000886467231575927; RHS Error 0.001131228688843548\n",
      "Converged. Total iteration 1000: LHS Error: 0.0008887517669753375; RHS Error 0.006788506924422498\n",
      "Converged. Total iteration 1000: LHS Error: 0.0016745268163456117; RHS Error 0.09067186993369256\n"
     ]
    }
   ],
   "source": [
    "# ell = 1e-5 # 1400\n",
    "# ell = 1e-3 # 1150\n",
    "ell = 5e-3 # 1000\n",
    "Δ_ell = ell/100.\n",
    "model_ell = compute_jump(ell)\n",
    "model_ell_right = compute_jump(ell+Δ_ell)"
   ]
  },
  {
   "cell_type": "code",
   "execution_count": 146,
   "metadata": {},
   "outputs": [],
   "source": [
    "ψ_ell = model_ell['v0'][:, -1]\n",
    "ψ_ell_right = model_ell_right['v0'][:, -1]\n",
    "dψ_ell = (ψ_ell_right-ψ_ell)/Δ_ell\n",
    "r = -dψ_ell"
   ]
  },
  {
   "cell_type": "code",
   "execution_count": 147,
   "metadata": {},
   "outputs": [],
   "source": [
    "def simulation(y_grid, e_grid, θ=1.86/1000., y_start=1., T=100):\n",
    "    Et = np.zeros(T+1)\n",
    "    yt = np.zeros(T+1)\n",
    "    for i in range(T+1):\n",
    "        Et[i] = np.interp(y_start, y_grid, e_grid)\n",
    "        yt[i] = y_start\n",
    "        y_start = y_start + Et[i]*θ\n",
    "    return Et, yt"
   ]
  },
  {
   "cell_type": "code",
   "execution_count": 148,
   "metadata": {},
   "outputs": [],
   "source": [
    "y_grid = np.arange(0, 2+.08, .08)\n",
    "et, _ = simulation(y_grid, model_ell['e_tilde'][:, -1])"
   ]
  },
  {
   "cell_type": "code",
   "execution_count": 149,
   "metadata": {},
   "outputs": [
    {
     "data": {
      "text/plain": [
       "619.4653965954311"
      ]
     },
     "execution_count": 149,
     "metadata": {},
     "output_type": "execute_result"
    }
   ],
   "source": [
    "r[13]"
   ]
  },
  {
   "cell_type": "code",
   "execution_count": 150,
   "metadata": {},
   "outputs": [
    {
     "data": {
      "text/plain": [
       "[<matplotlib.lines.Line2D at 0x7ff1a0cafa60>]"
      ]
     },
     "execution_count": 150,
     "metadata": {},
     "output_type": "execute_result"
    },
    {
     "data": {
      "image/png": "[encoded data removed]",
      "text/plain": [
       "<Figure size 432x288 with 1 Axes>"
      ]
     },
     "metadata": {
      "needs_background": "light"
     },
     "output_type": "display_data"
    }
   ],
   "source": [
    "plt.plot(y_grid, r)"
   ]
  },
  {
   "cell_type": "code",
   "execution_count": 151,
   "metadata": {},
   "outputs": [
    {
     "data": {
      "text/plain": [
       "[<matplotlib.lines.Line2D at 0x7ff1b05ba640>]"
      ]
     },
     "execution_count": 151,
     "metadata": {},
     "output_type": "execute_result"
    },
    {
     "data": {
      "image/png": "[encoded data removed]",
      "text/plain": [
       "<Figure size 432x288 with 1 Axes>"
      ]
     },
     "metadata": {
      "needs_background": "light"
     },
     "output_type": "display_data"
    }
   ],
   "source": [
    "plt.plot(et)"
   ]
  },
  {
   "cell_type": "markdown",
   "metadata": {},
   "source": [
    "## Compare results"
   ]
  },
  {
   "cell_type": "code",
   "execution_count": 136,
   "metadata": {},
   "outputs": [
    {
     "name": "stdout",
     "output_type": "stream",
     "text": [
      "Converged. Total iteration 1000: LHS Error: 0.0007585452428360284; RHS Error 0.0010318068106172223\n",
      "Converged. Total iteration 1000: LHS Error: 0.0005004216360758873; RHS Error 0.0012350226683009932\n",
      "Converged. Total iteration 1000: LHS Error: 0.00010699789044024688; RHS Error 0.007489000377484893\n",
      "Converged. Total iteration 1000: LHS Error: 1.772644771819154e-05; RHS Error 0.004794174518458594\n",
      "Converged. Total iteration 1000: LHS Error: 0.0007607946469008198; RHS Error 0.0010232743818599649\n",
      "Converged. Total iteration 1000: LHS Error: 0.0005099361341602271; RHS Error 0.0012299569870225166\n",
      "Converged. Total iteration 1000: LHS Error: 0.00011013711523302772; RHS Error 0.00748712436721688\n",
      "Converged. Total iteration 1000: LHS Error: 8.892930290493872e-06; RHS Error 0.0047881264402724714\n",
      "Converged. Total iteration 1000: LHS Error: 0.0008867498314439892; RHS Error 0.0008871795343021252\n",
      "Converged. Total iteration 1000: LHS Error: 0.0008864459058486318; RHS Error 0.0011339818895822838\n",
      "Converged. Total iteration 1000: LHS Error: 0.0008888831991444857; RHS Error 0.00679360828737767\n",
      "Converged. Total iteration 1000: LHS Error: 0.004622257861723877; RHS Error 0.09069457099535318\n"
     ]
    }
   ],
   "source": [
    "# Compute no constraint version\n",
    "model_ell_no_constraint = compute_jump(0)\n",
    "# Compute total stock reserve = 1400\n",
    "model_ell_1400 = compute_jump(1e-5)\n",
    "# Compute total stock reserve = 1000\n",
    "model_ell_1000 = compute_jump(5e-3)"
   ]
  },
  {
   "cell_type": "code",
   "execution_count": 137,
   "metadata": {},
   "outputs": [],
   "source": [
    "y_grid = np.arange(0, 2+.08, .08)\n",
    "et_no_constraint, _ = simulation(y_grid, model_ell_no_constraint['e_tilde'][:, -1])\n",
    "et_1400, _ = simulation(y_grid, model_ell_1400['e_tilde'][:, -1])\n",
    "et_1000, _ = simulation(y_grid, model_ell_1000['e_tilde'][:, -1])"
   ]
  },
  {
   "cell_type": "code",
   "execution_count": 144,
   "metadata": {},
   "outputs": [
    {
     "data": {
      "text/plain": [
       "Text(0.5, 1.0, 'Emission trajectory')"
      ]
     },
     "execution_count": 144,
     "metadata": {},
     "output_type": "execute_result"
    },
    {
     "data": {
      "image/png": "[encoded data removed]",
      "text/plain": [
       "<Figure size 432x288 with 1 Axes>"
      ]
     },
     "metadata": {
      "needs_background": "light"
     },
     "output_type": "display_data"
    }
   ],
   "source": [
    "plt.plot(et_no_constraint, label='no constraint')\n",
    "plt.plot(et_1400, label='total reserve = 1400')\n",
    "plt.plot(et_1000, label='total reserve = 1000')\n",
    "plt.legend(frameon=False)\n",
    "plt.xlabel('Years')\n",
    "plt.title('Emission trajectory')"
   ]
  },
  {
   "cell_type": "code",
   "execution_count": 152,
   "metadata": {},
   "outputs": [],
   "source": [
    "θ = pd.read_csv('../data/model144.csv', header=None).to_numpy()[:, 0]/1000.\n",
    "πc_o = np.ones_like(θ)/len(θ)\n",
    "σ_y = 1.2*np.mean(θ)"
   ]
  },
  {
   "cell_type": "code",
   "execution_count": 164,
   "metadata": {},
   "outputs": [
    {
     "data": {
      "text/plain": [
       "1.8619494444444442"
      ]
     },
     "execution_count": 164,
     "metadata": {},
     "output_type": "execute_result"
    }
   ],
   "source": [
    "np.mean(θ)*1000"
   ]
  },
  {
   "cell_type": "code",
   "execution_count": 154,
   "metadata": {},
   "outputs": [
    {
     "data": {
      "text/plain": [
       "0.002234339333333333"
      ]
     },
     "execution_count": 154,
     "metadata": {},
     "output_type": "execute_result"
    }
   ],
   "source": [
    "σ_y"
   ]
  },
  {
   "cell_type": "code",
   "execution_count": 155,
   "metadata": {},
   "outputs": [],
   "source": [
    "y_bar = 2.\n",
    "γ_1 = 1.7675/10000\n",
    "γ_2 = .0022*2\n",
    "γ_2p = np.array([0, .0197*2, .3853*2])\n",
    "πd_o = np.array([1./3, 1./3, 1./3])"
   ]
  },
  {
   "cell_type": "code",
   "execution_count": 160,
   "metadata": {},
   "outputs": [],
   "source": [
    "η = .032\n",
    "δ = .01"
   ]
  },
  {
   "cell_type": "code",
   "execution_count": 170,
   "metadata": {},
   "outputs": [
    {
     "data": {
      "text/plain": [
       "0.3159832988143659"
      ]
     },
     "execution_count": 170,
     "metadata": {},
     "output_type": "execute_result"
    }
   ],
   "source": [
    "σ_y*1000/np.sqrt(50)"
   ]
  }
 ],
 "metadata": {
  "kernelspec": {
   "display_name": "Python 3",
   "language": "python",
   "name": "python3"
  },
  "language_info": {
   "codemirror_mode": {
    "name": "ipython",
    "version": 3
   },
   "file_extension": ".py",
   "mimetype": "text/x-python",
   "name": "python",
   "nbconvert_exporter": "python",
   "pygments_lexer": "ipython3",
   "version": "3.8.5"
  }
 },
 "nbformat": 4,
 "nbformat_minor": 4
}
