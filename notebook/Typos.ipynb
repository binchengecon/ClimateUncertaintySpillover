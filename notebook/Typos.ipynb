{
 "cells": [
  {
   "cell_type": "markdown",
   "metadata": {},
   "source": [
    "1. Page 25, the order of $h$ is not consistent with the one in the appendix. I think it should be:\n",
    "\\begin{align*}\n",
    "\th \t= \\begin{matrix}  \\begin{bmatrix} - .170  \\cr  -.715  \\end{bmatrix} & \\begin{matrix} \\textrm{  capital productivity shock distortion } \\cr\n",
    "\t \\textrm{productivity growth rate shock distortion} .\\end{matrix}   \\end{matrix}\n",
    "\\end{align*}"
   ]
  }
 ],
 "metadata": {
  "kernelspec": {
   "display_name": "Python 3",
   "language": "python",
   "name": "python3"
  },
  "language_info": {
   "codemirror_mode": {
    "name": "ipython",
    "version": 3
   },
   "file_extension": ".py",
   "mimetype": "text/x-python",
   "name": "python",
   "nbconvert_exporter": "python",
   "pygments_lexer": "ipython3",
   "version": "3.8.5"
  }
 },
 "nbformat": 4,
 "nbformat_minor": 4
}
