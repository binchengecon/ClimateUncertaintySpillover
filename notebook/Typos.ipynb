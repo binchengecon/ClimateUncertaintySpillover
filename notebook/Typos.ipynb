{
 "cells": [
  {
   "cell_type": "markdown",
   "metadata": {},
   "source": [
    "The corrected formulas are highlighted in ${\\color{red}{red}}$.\n",
    "\n",
    "1. Page 1, Remark 1.1:\n",
    "$$\n",
    "Y_t = \\exp(t\\Lambda) Y_0 + \\int_0^t \\exp\\left[(t-u)\\Lambda\\right]{\\color{red}{Z_t^2 E_t}} (\\Theta dt + \\sigma_y dW_t)\n",
    "$$\n",
    "2. Page 2, above section 1.5:\n",
    "$$\n",
    "d log N_t = \\left[\\gamma_1 + {\\color{red}{\\gamma_2 Y_t}}\\right] Z_t^2 E_t(\\theta dt + \\sigma_y dW_t)\n",
    "$$\n",
    "3. Page 2, the HJB in section 1.5.1:\n",
    "\\begin{align*}\n",
    "0 = \\max_e \\min_h &-\\delta \\varphi(y, z_2) - \\delta(v_d \\log d) + \\delta \\eta \\log_e - \\delta(1-\\eta)\\log d\\\\\n",
    "&+ \\frac{\\xi_m}{2} h^\\prime h + \\frac{\\partial {\\color{red}{\\varphi}}(y, z_2)}{\\partial y}z_2 e(\\theta + \\sigma_y\\cdot h)\\\\\n",
    "&+ v_d\\left[\\gamma_1 + \\gamma_2 y + {\\color{red}{\\gamma_2^+\\boldsymbol{1}_{y\\geq \\bar{y}}(y-\\bar{y})}}\\right] z_2 e({\\color{red}{\\theta}} + \\sigma_y \\cdot h)\\\\\n",
    "&+ \\frac{\\partial {\\color{red}{\\varphi}}(y, z_2)}{\\partial z_2}\\left[-\\rho (z_2-\\mu_2) + \\sqrt{z_2}\\sigma_2 \\cdot h\\right]\n",
    "\\end{align*}\n",
    "\n",
    "Also I think ${\\color{red}{\\frac{1}{2} \\frac{\\partial^2 \\varphi(y, z_2)}{\\partial y^2}|\\sigma_y|^2 (e z_2)^2}}$ at the second line of the original HJB should be removed since it has already been taken into account at the last line of the HJB. \n",
    "\n",
    "4. Page 3, the first HJB:\n",
    "\\begin{align*}\n",
    "0 = \\max_e \\min_h &-\\delta \\phi(y) -\\delta \\psi(z_2) + \\delta \\eta \\log_{\\tilde{e}} - \\delta\\eta\\log z_2 \\\\\n",
    "&+ \\frac{\\xi_m}{2} h^\\prime h + \\frac{\\partial \\phi (y)}{\\partial y}z_2 e({\\color{red}{\\theta}} + \\sigma_y\\cdot h) + \\frac{1}{2}{\\color{red}{\\frac{d^2 \\phi(y)}{(dy)^2}}}|\\sigma_y|^2(\\tilde{e})^2\\\\\n",
    "&+ (\\eta-1)\\left[\\gamma_1 + \\gamma_2 y + {\\color{red}{\\gamma_2^+\\boldsymbol{1}_{y\\geq \\bar{y}}(y-\\bar{y})}}\\right] z_2 e(\\theta + \\sigma_y \\cdot h)\\\\\n",
    "&+ \\frac{\\partial \\psi(z_2)}{d z_2}\\left[-\\rho (z_2-\\mu_2) + \\sqrt{z_2}\\sigma_2 \\cdot h\\right] + \\frac{1}{2}\\frac{d^2\\psi(z_2)}{(d z_2)^2} {\\color{red}{z_2 |\\sigma_2|^2}}\n",
    "\\end{align*}\n",
    "\n",
    "5. Page 3, the second HJB:\n",
    "\\begin{align*}\n",
    "0 = \\max_{\\tilde{e}}\\min_h &-\\delta \\phi(y) + \\delta \\eta \\log \\tilde{e}\\\\\n",
    "&+\\frac{\\xi_m}{2}h^\\prime h + \\frac{d\\phi(y)}{dy}\\tilde{e}({\\color{red}\\theta} + \\sigma_y \\cdot h) + \\frac{1}{2}\\frac{d^2\\phi(y)}{{\\color{red}{(d y)^2}}}|\\sigma_y|^2(\\tilde{e})^2\\\\\n",
    "&+(\\eta -1)(\\gamma_1 + \\gamma_2y)\\tilde{e}({\\color{red}{\\theta}} + \\sigma_y \\cdot h)\n",
    "\\end{align*}\n",
    "\n",
    "6. Page 3, the HJB in section 1.6:\n",
    "\\begin{align*}\n",
    "0 = \\max_{\\tilde{e}}\\min_h\\min_{\\pi_i, \\sum_{i=1}^n\\pi_i = 1} &-\\delta \\phi(y) + \\delta \\eta \\log \\tilde{e}\\\\\n",
    "& +\\sum_{i=1}^n\\pi_i\\left[\\frac{d\\phi(y)}{dy} + (\\eta - 1)\\left(\\gamma_1 + \\gamma_2 y + {\\color{red}{\\gamma_2^+\\boldsymbol{1}_{y\\geq \\bar{y}}(y-\\bar{y})}}\\right)\\right]\\tilde{e}\\theta_i\\\\\n",
    "& +\\left[\\frac{d\\phi(y)}{dy} + (\\eta-1)\\left(\\gamma_1 + \\gamma_2 y + {\\color{red}{\\gamma_2^+\\boldsymbol{1}_{y\\geq \\bar{y}}(y-\\bar{y})}}\\right)\\right]\\tilde{e}\\sigma_y h + \\frac{1}{2}\\frac{d^2\\phi(y)}{{\\color{red}{(d y)^2}}}|\\sigma_y|^2(\\tilde{e})^2\\\\\n",
    "& + \\frac{\\xi_m}{2} h^\\prime h + \\xi_a \\sum_{i=1}^n \\pi_i (\\log \\pi_i - \\log \\hat{\\pi}_i^c)\n",
    "\\end{align*}\n",
    "\n",
    "7. Page 4, the first equation:\n",
    "$$\n",
    "\\gamma_1 y + \\frac{1}{2}\\gamma_2 y^2 + {\\color{red}{\\frac{1}{2}}}\\gamma_2^+(y - \\tilde{y})^2 \\boldsymbol{1}_{y\\geq \\bar{y}}\n",
    "$$"
   ]
  }
 ],
 "metadata": {
  "kernelspec": {
   "display_name": "Python 3",
   "language": "python",
   "name": "python3"
  },
  "language_info": {
   "codemirror_mode": {
    "name": "ipython",
    "version": 3
   },
   "file_extension": ".py",
   "mimetype": "text/x-python",
   "name": "python",
   "nbconvert_exporter": "python",
   "pygments_lexer": "ipython3",
   "version": "3.8.5"
  }
 },
 "nbformat": 4,
 "nbformat_minor": 4
}
