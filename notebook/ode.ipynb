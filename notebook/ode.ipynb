{
 "cells": [
  {
   "cell_type": "code",
   "execution_count": 1,
   "metadata": {},
   "outputs": [],
   "source": [
    "import os, sys\n",
    "sys.path.append(os.path.dirname(os.getcwd()) + '/source')\n",
    "\n",
    "import numpy as np\n",
    "import pandas as pd\n",
    "import matplotlib.pyplot as plt\n",
    "from model import ode_y, ode_z\n",
    "from numba import njit"
   ]
  },
  {
   "cell_type": "markdown",
   "metadata": {},
   "source": [
    "**ODE for y**:\n",
    "\\begin{align*}\n",
    "0 = \\max_{\\tilde{e}} \\min_h \\min_{\\pi_i^c, \\sum_{i=1}^n \\pi^c_i=1} &  -\\delta \\phi(y) + \\delta \\eta \\log \\tilde{e} \\\\\n",
    "&+ \\frac{d\\phi(y)}{dy}\\tilde{e}(\\sum_{i=1}^n \\pi_i^c \\theta_i + \\sigma_y \\cdot h) + \\frac{1}{2} \\frac{d^2 \\phi(y)}{(d y)^2}|\\sigma_y|^2(\\tilde{e})^2\\\\\n",
    "& + (\\eta-1)\\left[\\gamma_1 + \\gamma_2 y + \\gamma_2^+\\boldsymbol{1}_{y\\geq \\bar{y}}(y-\\bar{y})\\right]\\tilde{e}(\\sum_{i=1}^n \\pi_i^c\\theta_i + \\sigma_y \\cdot h)\\\\\n",
    "& + (\\eta-1)\\left[\\frac{1}{2}\\left(\\gamma_2 + \\gamma_2^+\\boldsymbol{1}_{y\\geq \\bar{y}}\\right)\\right]|\\sigma_y|^2(\\tilde{e})^2\\\\\n",
    "& +\\frac{\\xi_{1,m}}{2}h^\\prime h + \\xi_a\\sum_{i=1}^{n} \\pi_i^c(\\log \\pi_i^c - \\log \\hat{\\pi}_i^c)\n",
    "\\end{align*}\n",
    "\n",
    "\n",
    "The FOC of $h$ gives:\n",
    "$$\n",
    "h^* = -\\frac{\\left(\\frac{d\\phi(y)}{dy} + (\\eta-1)\\left[\\gamma_1 + \\gamma_2 y + \\gamma_2^+\\boldsymbol{1}_{y\\geq \\bar{y}}(y-\\bar{y})\\right]\\right)\\tilde{e}\\sigma_y}{\\xi_{1,m}}\n",
    "$$\n",
    "\n",
    "\n",
    "Substitute $h$ with $h^*$ in the ODE:\n",
    "\n",
    "\\begin{align*}\n",
    "0 = \\max_{\\tilde{e}} & -\\delta \\phi(y) + \\delta \\eta \\log \\tilde{e} \\\\\n",
    "& + G(y)\\tilde{e} \\sum_{i=1}^n\\pi_i^c\\theta_i + \\frac{1}{2} \\left(F(y)-\\frac{G^2(y)}{\\xi_{1,m}}\\right)|\\sigma_y|^2(\\tilde{e})^2\\\\\n",
    "& + \\xi_a\\sum_{i=1}^{n} \\pi_i^c(\\log \\pi_i^c - \\log \\hat{\\pi}_i^c)\\\\\n",
    "\\end{align*}\n",
    "\n",
    "where $G(y):=\\frac{d\\phi(y)}{dy} + (\\eta-1)\\left[\\gamma_1 + \\gamma_2 y + \\gamma_2^+\\boldsymbol{1}_{y\\geq \\bar{y}}(y-\\bar{y})\\right]$, $F(y):=\\frac{d^2 \\phi(y)}{(d y)^2} + (\\eta-1)\\left(\\gamma_2 + \\gamma_2^+\\boldsymbol{1}_{y\\geq \\bar{y}}\\right)$.\n",
    "\n",
    "The FOC of $\\tilde{e}$ gives:\n",
    "$$\n",
    "\\tilde{e}^* = \\frac{-\\sum_{i=1}^n\\pi^c_i \\theta_i G(y) - \\sqrt{\\left(\\sum_{i=1}^n \\pi_i^c \\theta_i\\right)^2G^2(y)-4\\delta \\eta |\\sigma_y|^2\\left(F(y)-\\frac{G^2(y)}{\\xi_{1,m}}\\right)}}{2|\\sigma_y|^2\\left(F(y)-\\frac{G^2(y)}{\\xi_{1,m}}\\right)}\n",
    "$$\n",
    "\n",
    "In addition, the FOC of $\\pi^c$ gives:\n",
    "$$\n",
    "\\pi_i^c \\propto \\exp \\left[-\\frac{1}{\\xi_a}G(y)\\tilde{e}\\theta_i\\right]\\hat{\\pi}^c_i\n",
    "$$"
   ]
  },
  {
   "cell_type": "code",
   "execution_count": 32,
   "metadata": {},
   "outputs": [
    {
     "name": "stdout",
     "output_type": "stream",
     "text": [
      "Converged. Total iteration 2124: LHS Error: 9.968752896945265e-09; RHS Error 3.518926915701626e-06\n",
      "Converged. Total iteration 1936: LHS Error: 9.985764388119323e-09; RHS Error 3.405949736313789e-06\n"
     ]
    }
   ],
   "source": [
    "ξ_1m = 1000.\n",
    "ξ_a_list = [1000., 1./4000]\n",
    "\n",
    "η = .032\n",
    "δ = .01\n",
    "\n",
    "θ = pd.read_csv('../data/model144.csv', header=None).to_numpy()[:, 0]/1000.\n",
    "πc_o = np.ones_like(θ)/len(θ)\n",
    "σ_y = 1.2*1.86/1000\n",
    "\n",
    "y_bar = 2.\n",
    "γ_1 = 1.7675/10000\n",
    "γ_2 = .0022*2\n",
    "γ_2p = .0197*2*.5 # weighted model of low and high\n",
    "\n",
    "n_y = 200\n",
    "y_min = 0.\n",
    "y_max = 4.\n",
    "y_grid = np.linspace(y_min, y_max, n_y)\n",
    "\n",
    "e_tilde_list = []\n",
    "for ξ_a in ξ_a_list:\n",
    "    model_paras = (η, δ, θ, πc_o, σ_y, ξ_1m, ξ_a, γ_1, γ_2, γ_2p, y_bar) \n",
    "    model_res = ode_y(y_grid, model_paras, v0=None, ϵ=.5,\n",
    "                                      tol=1e-8, max_iter=5_000, print_all=False)\n",
    "    e_tilde_list.append(model_res['e_tilde'])"
   ]
  },
  {
   "cell_type": "code",
   "execution_count": 33,
   "metadata": {},
   "outputs": [],
   "source": [
    "def simulation(y_grid, e_grid, θ=1.86/1000., y_start=.5394, T=100):\n",
    "    Et = np.zeros(T+1)\n",
    "    yt = np.zeros(T+1)\n",
    "    for i in range(T+1):\n",
    "        Et[i] = np.interp(y_start, y_grid, e_grid)\n",
    "        yt[i] = y_start\n",
    "        y_start = y_start + Et[i]*θ\n",
    "    return Et, yt"
   ]
  },
  {
   "cell_type": "code",
   "execution_count": 34,
   "metadata": {},
   "outputs": [
    {
     "data": {
      "text/plain": [
       "[<matplotlib.lines.Line2D at 0x7f802b9bd310>]"
      ]
     },
     "execution_count": 34,
     "metadata": {},
     "output_type": "execute_result"
    },
    {
     "data": {
      "image/png": "[encoded data removed]",
      "text/plain": [
       "<Figure size 432x288 with 1 Axes>"
      ]
     },
     "metadata": {
      "needs_background": "light"
     },
     "output_type": "display_data"
    }
   ],
   "source": [
    "et_neutral, _ = simulation(y_grid, e_tilde_list[0])\n",
    "et_averse, _ = simulation(y_grid, e_tilde_list[1])\n",
    "plt.plot(et_neutral)\n",
    "plt.plot(et_averse)"
   ]
  },
  {
   "cell_type": "markdown",
   "metadata": {},
   "source": [
    "**ODE for z**:\n",
    "$$\n",
    "0 = \\min_h -\\delta \\eta \\log z_2 + \\frac{\\xi_{1,m}}{2}h^\\prime h + \\frac{d\\psi(z_2)}{d z_2}\\left[-\\rho(z_2-\\mu_2) + \\sqrt{z_2}\\sigma_2 \\cdot h\\right] + \\frac{1}{2}\\frac{d^2 \\psi(z_2)}{(d z_2)^2}z_2|\\sigma_2|^2\n",
    "$$\n",
    "\n",
    "The FOC of $h$ gives:\n",
    "$$\n",
    "h^* = -\\frac{\\frac{d\\psi(z_2)}{d z_2}\\sqrt{z_2}\\sigma_2}{\\xi_{1,m}}\n",
    "$$"
   ]
  },
  {
   "cell_type": "code",
   "execution_count": null,
   "metadata": {},
   "outputs": [],
   "source": [
    "# Model parameters\n",
    "η = .032\n",
    "δ = .01\n",
    "\n",
    "ρ = 0.9\n",
    "μ_2 = 1.\n",
    "σ_2 = 0.013145579 / np.sqrt(1.86/1000)\n",
    "\n",
    "ξ_1m = 1000.\n",
    "\n",
    "n_z = 100\n",
    "z_min = np.max([μ_2 - 3*np.sqrt(σ_2**2*μ_2/(2*ρ)), 1e-9])\n",
    "z_max = μ_2 + 3*np.sqrt(σ_2**2*μ_2/(2*ρ))\n",
    "z_grid = np.linspace(z_min, z_max, n_z)\n",
    "\n",
    "model_paras = (η, δ, ρ, μ_2, σ_2, ξ_1m) \n",
    "ψ = ode_z(z_grid, model_paras, v0=None, ϵ=.5, tol=1e-8, max_iter=2_000)"
   ]
  },
  {
   "cell_type": "code",
   "execution_count": null,
   "metadata": {},
   "outputs": [],
   "source": [
    "plt.plot(z_grid, ψ)"
   ]
  }
 ],
 "metadata": {
  "kernelspec": {
   "display_name": "Python 3",
   "language": "python",
   "name": "python3"
  },
  "language_info": {
   "codemirror_mode": {
    "name": "ipython",
    "version": 3
   },
   "file_extension": ".py",
   "mimetype": "text/x-python",
   "name": "python",
   "nbconvert_exporter": "python",
   "pygments_lexer": "ipython3",
   "version": "3.8.5"
  }
 },
 "nbformat": 4,
 "nbformat_minor": 4
}
