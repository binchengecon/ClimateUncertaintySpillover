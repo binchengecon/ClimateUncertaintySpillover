{
 "cells": [
  {
   "cell_type": "code",
   "execution_count": 60,
   "metadata": {},
   "outputs": [],
   "source": [
    "import os, sys\n",
    "sys.path.append(os.path.dirname(os.getcwd()) + '/source')\n",
    "\n",
    "from experiment import solve_value_function, solve_alternative_ME\n",
    "from model import ode_y, ode_y_jump_approach_one_boundary, uncertainty_decomposition\n",
    "from simulation import simulation\n",
    "from utilities import find_nearest_value\n",
    "from numba import njit\n",
    "import numpy as np\n",
    "import pandas as pd\n",
    "import matplotlib.pyplot as plt\n",
    "import matplotlib as mpl\n",
    "mpl.rcParams['axes.spines.right'] = False\n",
    "mpl.rcParams['axes.spines.top'] = False"
   ]
  },
  {
   "cell_type": "code",
   "execution_count": 61,
   "metadata": {},
   "outputs": [
    {
     "name": "stdout",
     "output_type": "stream",
     "text": [
      "Converged. Total iteration 5000: LHS Error: 0.00011794573695667054; RHS Error 6.681372455581702e-05\n",
      "Converged. Total iteration 1501: LHS Error: 9.932937805601227e-09; RHS Error 0.0004825812927628306\n",
      "Converged. Total iteration 1619: LHS Error: 9.868386996458867e-09; RHS Error 0.0022617539616424306\n",
      "Converged. Total iteration 372: LHS Error: 8.939528228779636e-09; RHS Error 0.0006258279853032234\n",
      "Converged. Total iteration 5000: LHS Error: 4.183515303690655e-05; RHS Error 9.117047385512334e-05\n",
      "Converged. Total iteration 1507: LHS Error: 9.965610114903711e-09; RHS Error 0.00047002697355678913\n",
      "Converged. Total iteration 1621: LHS Error: 9.952280777270062e-09; RHS Error 0.0022788046860334884\n",
      "Converged. Total iteration 443: LHS Error: 9.764197450579104e-09; RHS Error 0.0008703168687622803\n"
     ]
    }
   ],
   "source": [
    "ξ_w=100000.\n",
    "ξ_p=5.\n",
    "# ξ_p=.3\n",
    "ξ_a=1./100\n",
    "# ξ_a=100000.\n",
    "\n",
    "damage_setting={'γ_2p': np.array([0, .0197*2, .3853*2]),\n",
    "                'πd_o': np.array([1./3, 1./3, 1./3])}\n",
    "# damage_setting={'γ_2p': np.array([0, .0197*2, .3853*2]),\n",
    "#                 'πd_o': np.array([.45, .45, .1])}\n",
    "\n",
    "# Solve for value function, baseline case\n",
    "model_i_baseline, model_baseline = solve_value_function(100_000., 100_000., 100_000., damage_setting)\n",
    "# Sovle for value function, distorted case\n",
    "model_i, model = solve_value_function(ξ_w, ξ_p, ξ_a, damage_setting)\n",
    "\n",
    "n_damage = len(damage_setting['πd_o'])\n",
    "y_bar = model['y_grid'][-1]\n",
    "y_grid_short = model['y_grid']\n",
    "y_grid_long = model_i[0]['y_grid']\n",
    "\n",
    "# Simulation\n",
    "et, yt, ht, gt = simulation(model['y_grid'], model['e_tilde'], model['h'], model['g'],\n",
    "                            θ=np.mean(model['θ']), y_start=np.mean(model['θ'])*290, T=100)\n",
    "et_baseline, yt_baseline, _, _ \\\n",
    "               = simulation(model_baseline['y_grid'], model_baseline['e_tilde'],\n",
    "                            model_baseline['h'], model_baseline['g'],\n",
    "                            θ=np.mean(model['θ']), y_start=np.mean(model['θ'])*290, T=100)\n",
    "yt_i = []\n",
    "ht_i = []\n",
    "for i in range(n_damage):\n",
    "    _, y_temp, h_temp, _ = simulation(y_grid_long, model_i[i]['e_tilde'], model_i[i]['h'],\n",
    "                               np.zeros_like(model_i[0]['e_tilde']).reshape(1, -1), θ=np.mean(model['θ']),\n",
    "                               y_start=np.mean(model['θ'])*290, T=100)\n",
    "    yt_i.append(y_temp)\n",
    "    ht_i.append(h_temp)"
   ]
  },
  {
   "cell_type": "code",
   "execution_count": null,
   "metadata": {},
   "outputs": [],
   "source": [
    "# 1. Plot value function\n",
    "temp = np.array([res['v0'] for res in model_i])\n",
    "certainty_equivalent = -ξ_p*np.log(np.average(np.exp(-1./ξ_p*temp), axis=0, weights=damage_setting['πd_o']))\n",
    "\n",
    "plt.figure(figsize=(8, 5))\n",
    "plt.plot(y_grid_long[y_grid_long>=y_bar], model_i[0]['v0'][y_grid_long>=y_bar],\n",
    "         color='darkgreen', linewidth=2.5, label='low damage')\n",
    "plt.plot(y_grid_long[y_grid_long>=y_bar], model_i[1]['v0'][y_grid_long>=y_bar],\n",
    "         color='darkorange', linewidth=2.5, label='high damage')\n",
    "if n_damage == 3:\n",
    "    plt.plot(y_grid_long[y_grid_long>=y_bar], model_i[2]['v0'][y_grid_long>=y_bar],\n",
    "             color='tab:red', linewidth=2.5, label='extreme damage')\n",
    "plt.plot(y_grid_short, model['v0'], color='navy', linewidth=2.5, label='prior to jump')\n",
    "plt.plot(y_grid_long[y_grid_long>=y_bar], certainty_equivalent[y_grid_long>=y_bar],\n",
    "         color='navy', linewidth=2.5, linestyle='dashed', label='after jump, certainty equivalent')\n",
    "y_min = np.min(model_i[2]['v0'])*1.2\n",
    "y_max = np.max(model_i[0]['v0'])*1.2\n",
    "plt.vlines(2., ymin=y_min, ymax=y_max, color='black', linestyle='dashed', linewidth=2.)\n",
    "plt.xlim(0, 3.)\n",
    "plt.ylim(y_min, y_max)\n",
    "plt.legend(frameon=False)\n",
    "plt.xlabel('y', fontsize=13)\n",
    "plt.ylabel(r'$\\phi(y)$', fontsize=13)\n",
    "plt.savefig('../plots/standardized/value_function.pdf')"
   ]
  },
  {
   "cell_type": "code",
   "execution_count": null,
   "metadata": {},
   "outputs": [],
   "source": [
    "# 2. Plot emission and temperature change\n",
    "fig, (ax1, ax2) = plt.subplots(1, 2, figsize=(12,4))\n",
    "ax1.plot(et, color='navy', label='model implied', linewidth=2.5)\n",
    "ax1.plot(et_baseline, color='darkorange', label=r'baseline', linewidth=2.5)\n",
    "ax1.set_xlabel('Years', fontsize=13)\n",
    "ax1.set_ylabel('Emission', fontsize=13)\n",
    "ax1.legend(frameon=False)\n",
    "ax1.set_ylim(0., int(np.max(et_baseline)*1.2))\n",
    "\n",
    "ax2.plot(yt, color='navy', label='model implied', linewidth=2.5)\n",
    "ax2.plot(yt_baseline, color='darkorange', label='baseline', linewidth=2.5)\n",
    "ax2.set_xlabel('Years', fontsize=13)\n",
    "ax2.set_ylabel('Temperature Change', fontsize=13)\n",
    "ax2.legend(frameon=False)\n",
    "ax2.set_ylim(0., int(np.max(yt_baseline*10)*1.2)/10)\n",
    "\n",
    "# fig.savefig('../plots/standardized/emission_temperature.pdf')"
   ]
  },
  {
   "cell_type": "code",
   "execution_count": null,
   "metadata": {},
   "outputs": [],
   "source": [
    "# 3.1 Plot distorted probabilities for damage function, vs y\n",
    "plt.figure(figsize=(8, 5))\n",
    "if n_damage == 3:\n",
    "    plt.plot(y_grid_short, model['g'][2]*damage_setting['πd_o'][2]/np.average(model['g'], weights=damage_setting['πd_o'], axis=0), color='tab:red', label='extreme damage', linewidth=2.5)\n",
    "plt.plot(y_grid_short, model['g'][1]*damage_setting['πd_o'][1]/np.average(model['g'], weights=damage_setting['πd_o'], axis=0), color='darkorange', label='high damage', linewidth=2.5)\n",
    "plt.plot(y_grid_short, model['g'][0]*damage_setting['πd_o'][0]/np.average(model['g'], weights=damage_setting['πd_o'], axis=0), color='darkgreen', label='low damage', linewidth=2.5)\n",
    "plt.xlabel('Temperature anomaly', fontsize=13)\n",
    "plt.ylabel('Distorted probability', fontsize=13)\n",
    "plt.ylim(-.01, 1.01)\n",
    "plt.legend(frameon=False)\n",
    "\n",
    "# plt.savefig('../plots/standardized/damage_probability.pdf')"
   ]
  },
  {
   "cell_type": "code",
   "execution_count": null,
   "metadata": {},
   "outputs": [],
   "source": [
    "# 3.1 Plot distorted probabilities for damage function\n",
    "plt.figure(figsize=(8, 5))\n",
    "plt.plot(gt[0]*damage_setting['πd_o'][0]/np.average(gt, weights=damage_setting['πd_o'], axis=0), color='darkgreen', label='low damage', linewidth=2.5)\n",
    "plt.plot(gt[1]*damage_setting['πd_o'][1]/np.average(gt, weights=damage_setting['πd_o'], axis=0), color='darkorange', label='high damage', linewidth=2.5)\n",
    "if n_damage == 3:\n",
    "    plt.plot(gt[2]*damage_setting['πd_o'][2]/np.average(gt, weights=damage_setting['πd_o'], axis=0), color='tab:red', label='extreme damage', linewidth=2.5)\n",
    "plt.xlabel('Years', fontsize=13)\n",
    "plt.ylabel('Distorted probability', fontsize=13)\n",
    "plt.ylim(-.01, 1.01)\n",
    "plt.legend(frameon=False)\n",
    "\n",
    "plt.savefig('../plots/standardized/damage_probability.pdf')"
   ]
  },
  {
   "cell_type": "code",
   "execution_count": 53,
   "metadata": {},
   "outputs": [
    {
     "data": {
      "image/png": "[encoded data removed]",
      "text/plain": [
       "<Figure size 1296x288 with 3 Axes>"
      ]
     },
     "metadata": {
      "needs_background": "light"
     },
     "output_type": "display_data"
    }
   ],
   "source": [
    "# 3.2 Plot distorted probabilities for climate sensitivity\n",
    "T_low = 10\n",
    "T_mid = 50\n",
    "T_high = 100\n",
    "loc_low = find_nearest_value(y_grid_short, yt[T_low])\n",
    "loc_mid = find_nearest_value(y_grid_short, yt[T_mid])\n",
    "loc_high = find_nearest_value(y_grid_short, yt[T_high])\n",
    "\n",
    "fig, (ax1, ax2, ax3) = plt.subplots(1, 3, figsize=(18,4))\n",
    "\n",
    "bins = np.linspace(1, 3.5, 14)\n",
    "\n",
    "ax1.hist(model['θ']*1000, bins=bins, color='tab:red', histtype='bar', ec='gray', alpha=.5, density=True)\n",
    "ax1.hist((model['θ']+model['σ_y']*ht[T_low])*1000, weights=model['πc'][:, loc_low], bins=bins, color='tab:blue', histtype='bar', ec='gray', alpha=.5, density=True)\n",
    "ax1.set_xlabel('Climate Sensitivity, Year '+str(T_low))\n",
    "ax1.set_ylabel('Density')\n",
    "ax1.set_title('Mean Difference: ' + str(((model['θ']@(model['πc'][:, loc_low])-np.mean(model['θ']))+model['σ_y']*ht[T_low])*1000)[:5])\n",
    "ax1.set_xlim(.8, 3.5)\n",
    "\n",
    "ax2.hist(model['θ']*1000, bins=bins, color='tab:red', histtype='bar', ec='gray', alpha=.5, density=True)\n",
    "ax2.hist((model['θ']+model['σ_y']*ht[T_mid])*1000, weights=model['πc'][:, loc_mid], bins=bins, color='tab:blue', histtype='bar', ec='gray', alpha=.5, density=True)\n",
    "ax2.set_xlabel('Climate Sensitivity, Year '+str(T_mid))\n",
    "ax2.set_ylabel('Density')\n",
    "ax2.set_title('Mean Difference: ' + str(((model['θ']@(model['πc'][:, loc_mid])-np.mean(model['θ']))+model['σ_y']*ht[T_mid])*1000)[:5])\n",
    "ax2.set_xlim(.8, 3.5)\n",
    "\n",
    "ax3.hist(model['θ']*1000, bins=bins, color='tab:red', histtype='bar', ec='gray', alpha=.5, density=True)\n",
    "ax3.hist((model['θ']+model['σ_y']*ht[T_high])*1000, weights=model['πc'][:, loc_high], bins=bins, color='tab:blue', histtype='bar', ec='gray', alpha=.5, density=True)\n",
    "ax3.set_xlabel('Climate Sensitivity, Year '+str(T_high))\n",
    "ax3.set_ylabel('Density')\n",
    "ax3.set_title('Mean Difference: ' + str(((model['θ']@(model['πc'][:, loc_high])-np.mean(model['θ']))+model['σ_y']*ht[T_high])*1000)[:5])\n",
    "ax3.set_xlim(.8, 3.5)\n",
    "\n",
    "fig.savefig('../plots/standardized/climate_histogram.pdf')\n",
    "\n",
    "θ = model['θ']\n",
    "σ_y = model['σ_y']\n",
    "# # 3.3.1 Plot distorted probabilities for climate sensitivity conditional on low damage\n",
    "# fig_names = ['_low_damage.pdf', '_high_damage.pdf', '_extreme_damage.pdf']\n",
    "# sup_titles = ['Condition on Low Damage', 'Condition on High Damage', 'Condition on Extreme Damage']\n",
    "# for i in range(n_damage):\n",
    "#     loc_low = find_nearest_value(y_grid_long, yt_i[i][T_low])\n",
    "#     loc_mid = find_nearest_value(y_grid_long, yt_i[i][T_mid])\n",
    "#     loc_high = find_nearest_value(y_grid_long, yt_i[i][T_high])\n",
    "\n",
    "#     fig, (ax1, ax2, ax3) = plt.subplots(1, 3, figsize=(18,4))\n",
    "\n",
    "#     bins = np.linspace(1, 3.5, 14)\n",
    "\n",
    "#     fig.suptitle(sup_titles[i])\n",
    "#     ax1.hist(θ*1000, bins=bins, color='tab:red', histtype='bar', ec='gray', alpha=.5, density=True)\n",
    "#     ax1.hist((θ+σ_y*ht_i[i][T_low])*1000, weights=model_i[i]['πc'][:, loc_low], bins=bins, color='tab:blue', histtype='bar', ec='gray', alpha=.5, density=True)\n",
    "#     ax1.set_xlabel('Climate Sensitivity, Year '+str(T_low))\n",
    "#     ax1.set_ylabel('Density')\n",
    "#     ax1.set_title('Mean Difference: ' + str(((θ@(model_i[i]['πc'][:, loc_low])-np.mean(θ))+σ_y*ht_i[i][T_low])*1000)[:4])\n",
    "#     ax1.set_xlim(.8, 3.5)\n",
    "\n",
    "#     ax2.hist(θ*1000, bins=bins, color='tab:red', histtype='bar', ec='gray', alpha=.5, density=True)\n",
    "#     ax2.hist((θ+σ_y*ht_i[i][T_mid])*1000, weights=model_i[i]['πc'][:, loc_mid], bins=bins, color='tab:blue', histtype='bar', ec='gray', alpha=.5, density=True)\n",
    "#     ax2.set_xlabel('Climate Sensitivity, Year '+str(T_mid))\n",
    "#     ax2.set_ylabel('Density')\n",
    "#     ax2.set_title('Mean Difference: ' + str(((θ@(model_i[i]['πc'][:, loc_mid])-np.mean(θ))+σ_y*ht_i[i][T_mid])*1000)[:4])\n",
    "#     ax2.set_xlim(.8, 3.5)\n",
    "\n",
    "#     ax3.hist(θ*1000, bins=bins, color='tab:red', histtype='bar', ec='gray', alpha=.5, density=True)\n",
    "#     ax3.hist((θ+σ_y*ht_i[i][T_high])*1000, weights=model_i[i]['πc'][:, loc_high], bins=bins, color='tab:blue', histtype='bar', ec='gray', alpha=.5, density=True)\n",
    "#     ax3.set_xlabel('Climate Sensitivity, Year '+str(T_high))\n",
    "#     ax3.set_ylabel('Density')\n",
    "#     ax3.set_title('Mean Difference: ' + str(((θ@(model_i[i]['πc'][:, loc_high])-np.mean(θ))+σ_y*ht_i[i][T_high])*1000)[:4])\n",
    "#     ax3.set_xlim(.8, 3.5)\n",
    "\n",
    "#     fig.savefig('../plots/standardized/climate_histogram'+fig_names[i])"
   ]
  },
  {
   "cell_type": "code",
   "execution_count": 54,
   "metadata": {},
   "outputs": [
    {
     "name": "stdout",
     "output_type": "stream",
     "text": [
      "Converged. Total iteration 298: LHS Error: 9.933637379333505e-09; RHS Error 0.00019752150675897417\n",
      "Converged. Total iteration 5000: LHS Error: 2.0188310846158685e-06; RHS Error 0.0008578625949139732\n",
      "Converged. Total iteration 5000: LHS Error: 1.450603754147295e-05; RHS Error 0.004171072504682929\n",
      "Converged. Total iteration 300: LHS Error: 9.779281562316555e-09; RHS Error 0.00019371703916835903\n",
      "Converged. Total iteration 5000: LHS Error: 4.963386732104169e-06; RHS Error 0.0008593804947044717\n",
      "Converged. Total iteration 331: LHS Error: 9.624423924492476e-09; RHS Error 0.004201988030317299\n",
      "Converged. Total iteration 299: LHS Error: 9.746443474512035e-09; RHS Error 0.00019231992100197937\n",
      "Converged. Total iteration 5000: LHS Error: 5.942267405245616e-06; RHS Error 0.0008581120394292041\n",
      "Converged. Total iteration 331: LHS Error: 9.744752205165241e-09; RHS Error 0.004224429027748081\n",
      "Converged. Total iteration 300: LHS Error: 9.764838537762444e-09; RHS Error 0.0002447092470656276\n",
      "Converged. Total iteration 5000: LHS Error: 1.5444682106391382e-05; RHS Error 0.0008543108025124493\n",
      "Converged. Total iteration 331: LHS Error: 9.6365528889919e-09; RHS Error 0.004205077105097839\n",
      "Converged. Total iteration 5000: LHS Error: 1.0698238073925115e-05; RHS Error 0.0038223952265087503\n"
     ]
    }
   ],
   "source": [
    "ϵ = 5.\n",
    "η = .032\n",
    "δ = .01\n",
    "\n",
    "θ = pd.read_csv('../data/model144.csv', header=None).to_numpy()[:, 0]/1000.\n",
    "πc_o = np.ones_like(θ)/len(θ)\n",
    "\n",
    "σ_y = 1.2*np.mean(θ)\n",
    "y_bar = 2.\n",
    "γ_1 = 1.7675/10000\n",
    "γ_2 = .0022*2\n",
    "γ_2p = damage_setting['γ_2p']\n",
    "πd_o = damage_setting['πd_o']\n",
    "\n",
    "y_step = .04\n",
    "y_grid_long = np.arange(0., 4., y_step)\n",
    "y_grid_short = np.arange(0., 2+y_step, y_step)\n",
    "n_bar = find_nearest_value(y_grid_long, y_bar) + 1\n",
    "\n",
    "# Uncertainty decomposition\n",
    "n_temp = 16\n",
    "n_carb = 9\n",
    "θ_reshape = θ.reshape(n_temp, n_carb)\n",
    "θ_temp = np.mean(θ_reshape, axis=1)\n",
    "θ_carb = np.mean(θ_reshape, axis=0)\n",
    "πc_o_temp = np.ones_like(θ_temp)/len(θ_temp)\n",
    "πc_o_carb = np.ones_like(θ_carb)/len(θ_carb)\n",
    "\n",
    "# Prepare ϕ_i (carbon + temperature)\n",
    "ϕ_list = []\n",
    "for γ_2p_i in γ_2p:\n",
    "    model_paras = (η, δ, θ, πc_o, σ_y, ξ_w, ξ_a, γ_1, γ_2, γ_2p_i, y_bar) \n",
    "    model_res = ode_y(y_grid_long, model_paras, v0=None, ϵ=ϵ,\n",
    "                       tol=1e-8, max_iter=5_000, print_all=False)\n",
    "    ϕ_list.append(model_res['v0'])\n",
    "\n",
    "ϕ_list_short = []\n",
    "for ϕ_i in ϕ_list:\n",
    "    temp = ϕ_i[:n_bar]\n",
    "    ϕ_list_short.append(temp)\n",
    "ϕ_i_carb_temp = np.array(ϕ_list_short)\n",
    "\n",
    "# Prepare ϕ_i (carbon)\n",
    "ϕ_list = []\n",
    "for γ_2p_i in γ_2p:\n",
    "    model_paras = (η, δ, θ_carb, πc_o_carb, σ_y, ξ_w, ξ_a, γ_1, γ_2, γ_2p_i, y_bar) \n",
    "    model_res = ode_y(y_grid_long, model_paras, v0=None, ϵ=ϵ,\n",
    "                       tol=1e-8, max_iter=5_000, print_all=False)\n",
    "    ϕ_list.append(model_res['v0'])\n",
    "\n",
    "ϕ_list_short = []\n",
    "for ϕ_i in ϕ_list:\n",
    "    temp = ϕ_i[:n_bar]\n",
    "    ϕ_list_short.append(temp)\n",
    "ϕ_i_carb = np.array(ϕ_list_short)\n",
    "\n",
    "# Prepare ϕ_i (temperature)\n",
    "ϕ_list = []\n",
    "for γ_2p_i in γ_2p:\n",
    "    model_paras = (η, δ, θ_temp, πc_o_temp, σ_y, ξ_w, ξ_a, γ_1, γ_2, γ_2p_i, y_bar) \n",
    "    model_res = ode_y(y_grid_long, model_paras, v0=None, ϵ=ϵ,\n",
    "                       tol=1e-8, max_iter=5_000, print_all=False)\n",
    "    ϕ_list.append(model_res['v0'])\n",
    "\n",
    "ϕ_list_short = []\n",
    "for ϕ_i in ϕ_list:\n",
    "    temp = ϕ_i[:n_bar]\n",
    "    ϕ_list_short.append(temp)\n",
    "ϕ_i_temp = np.array(ϕ_list_short)\n",
    "\n",
    "# Prepare ϕ_i (baseline)\n",
    "ϕ_list = []\n",
    "for γ_2p_i in γ_2p:\n",
    "    model_paras = (η, δ, θ, πc_o, σ_y, ξ_w, 1000., γ_1, γ_2, γ_2p_i, y_bar) \n",
    "    model_res = ode_y(y_grid_long, model_paras, v0=None, ϵ=ϵ,\n",
    "                       tol=1e-8, max_iter=5_000, print_all=False)\n",
    "    ϕ_list.append(model_res['v0'])\n",
    "\n",
    "ϕ_list_short = []\n",
    "for ϕ_i in ϕ_list:\n",
    "    temp = ϕ_i[:n_bar]\n",
    "    ϕ_list_short.append(temp)\n",
    "ϕ_i_baseline = np.array(ϕ_list_short)\n",
    "\n",
    "# Compute ϕ\n",
    "ς = .25\n",
    "model_paras = (η, δ, θ, πc_o, σ_y, ξ_w, ξ_p, ξ_a, ς, γ_1, γ_2, y_bar, ϕ_i_carb_temp, πd_o)\n",
    "model_res = ode_y_jump_approach_one_boundary(y_grid_short, model_paras, \n",
    "                                             v0=np.average(ϕ_i_carb_temp, weights=πd_o, axis=0),\n",
    "                                             ϵ=ϵ, tol=1e-8, max_iter=5_000, print_all=False)\n",
    "\n",
    "ME_total = η/model_res['e_tilde']"
   ]
  },
  {
   "cell_type": "code",
   "execution_count": 55,
   "metadata": {
    "scrolled": true
   },
   "outputs": [
    {
     "name": "stdout",
     "output_type": "stream",
     "text": [
      "Converged. Total iteration 10000: LHS Error: 5.750099336365721e-06; RHS Error 0.0027083337452234145\n",
      "Converged. Total iteration 10000: LHS Error: 1.2138728999011583e-05; RHS Error 0.0038226175230701466\n",
      "Converged. Total iteration 10000: LHS Error: 4.390687206345945e-06; RHS Error 0.0028329410434784676\n",
      "Converged. Total iteration 112: LHS Error: 8.413017837938241e-09; RHS Error 0.0030270660818145674\n",
      "Converged. Total iteration 10000: LHS Error: 1.3713786843083664e-05; RHS Error 0.0034474650921268377\n",
      "Converged. Total iteration 10000: LHS Error: 8.956476016885872e-06; RHS Error 0.0037085409422324637\n",
      "Converged. Total iteration 111: LHS Error: 6.236478880192187e-09; RHS Error 0.0035537462296271185\n",
      "Converged. Total iteration 114: LHS Error: 7.75821895615536e-09; RHS Error 0.0031457261091432133\n"
     ]
    }
   ],
   "source": [
    "# Solve temperature & carbon uncertainty\n",
    "model_paras_new = (η, δ, θ, πc_o, σ_y, ξ_w, ξ_p, ξ_a, γ_1, γ_2, ϕ_i_carb_temp, πd_o)\n",
    "model_res_new = uncertainty_decomposition(y_grid_short, model_paras_new,\n",
    "                                          e_tilde=model_res['e_tilde'], \n",
    "                                          h=np.zeros_like(model_res['h']),\n",
    "                                          πc=None,\n",
    "                                          bc=np.average(ϕ_i_carb_temp, weights=πd_o, axis=0)[-1],\n",
    "                                          v0=None, ϵ=ϵ, tol=1e-8, max_iter=10_000, print_all=False)  \n",
    "ME_temp_carb = model_res_new['ME']\n",
    "\n",
    "# Solve temperature, carbon and damage uncertainty\n",
    "model_paras_new = (η, δ, θ, πc_o, σ_y, ξ_w, ξ_p, ξ_a, γ_1, γ_2, ϕ_i_carb_temp, πd_o)\n",
    "model_res_new = uncertainty_decomposition(y_grid_short, model_paras_new,\n",
    "                                          e_tilde=model_res['e_tilde'], \n",
    "                                          h=None,\n",
    "                                          πc=None,\n",
    "                                          bc=None,\n",
    "                                          v0=None, ϵ=ϵ, tol=1e-8, max_iter=10_000, print_all=False)  \n",
    "ME_total_check = model_res_new['ME']\n",
    "\n",
    "# Solve temperature uncertainty\n",
    "model_paras_new = (η, δ, θ_temp, πc_o_temp, σ_y, ξ_w, ξ_p, ξ_a, γ_1, γ_2, ϕ_i_temp, πd_o)\n",
    "model_res_new = uncertainty_decomposition(y_grid_short, model_paras_new,\n",
    "                                          e_tilde=model_res['e_tilde'], \n",
    "                                          h=np.zeros_like(model_res['h']),\n",
    "                                          πc=None,\n",
    "                                          bc=np.average(ϕ_i_temp, weights=πd_o, axis=0)[-1],\n",
    "                                          v0=None, ϵ=ϵ, tol=1e-8, max_iter=10_000, print_all=False)  \n",
    "ME_temp = model_res_new['ME']\n",
    "\n",
    "# Solve carbon uncertainty\n",
    "model_paras_new = (η, δ, θ_carb, πc_o_carb, σ_y, ξ_w, ξ_p, ξ_a, γ_1, γ_2, ϕ_i_carb, πd_o)\n",
    "model_res_new = uncertainty_decomposition(y_grid_short, model_paras_new,\n",
    "                                          e_tilde=model_res['e_tilde'], \n",
    "                                          h=np.zeros_like(model_res['h']),\n",
    "                                          πc=None,\n",
    "                                          bc=np.average(ϕ_i_carb, weights=πd_o, axis=0)[-1],\n",
    "                                          v0=None, ϵ=ϵ, tol=1e-8, max_iter=10_000, print_all=False)  \n",
    "ME_carb = model_res_new['ME']\n",
    "\n",
    "# Solve damage uncertainty\n",
    "model_paras_new = (η, δ, θ, πc_o, σ_y, ξ_w, ξ_p, ξ_a, γ_1, γ_2, ϕ_i_baseline, πd_o)\n",
    "model_res_new = uncertainty_decomposition(y_grid_short, model_paras_new,\n",
    "                                          e_tilde=model_res['e_tilde'], \n",
    "                                          h=np.zeros_like(model_res['h']),\n",
    "                                          πc=np.ones_like(model_res['πc'])/len(θ),\n",
    "                                          bc=None,\n",
    "                                          v0=None, ϵ=ϵ, tol=1e-8, max_iter=10_000, print_all=False)  \n",
    "ME_damage = model_res_new['ME']\n",
    "\n",
    "# Solve temperature uncertainty + damage uncertainty\n",
    "model_paras_new = (η, δ, θ_temp, πc_o_temp, σ_y, ξ_w, ξ_p, ξ_a, γ_1, γ_2, ϕ_i_temp, πd_o)\n",
    "model_res_new = uncertainty_decomposition(y_grid_short, model_paras_new,\n",
    "                                          e_tilde=model_res['e_tilde'], \n",
    "                                          h=np.zeros_like(model_res['h']),\n",
    "                                          πc=None,\n",
    "                                          bc=None,\n",
    "                                          v0=None, ϵ=ϵ, tol=1e-8, max_iter=10_000, print_all=False)  \n",
    "ME_temp_damage = model_res_new['ME']\n",
    "\n",
    "# Solve carbon uncertainty + damage uncertainty\n",
    "model_paras_new = (η, δ, θ_carb, πc_o_carb, σ_y, ξ_w, ξ_p, ξ_a, γ_1, γ_2, ϕ_i_carb, πd_o)\n",
    "model_res_new = uncertainty_decomposition(y_grid_short, model_paras_new,\n",
    "                                          e_tilde=model_res['e_tilde'], \n",
    "                                          h=np.zeros_like(model_res['h']),\n",
    "                                          πc=None,\n",
    "                                          bc=None,\n",
    "                                          v0=None, ϵ=ϵ, tol=1e-8, max_iter=10_000, print_all=False)  \n",
    "ME_carb_damage = model_res_new['ME']\n",
    "\n",
    "\n",
    "# Solve baseline\n",
    "model_paras_new = (η, δ, θ, πc_o, σ_y, ξ_w, ξ_p, ξ_a, γ_1, γ_2, ϕ_i_baseline, πd_o)\n",
    "model_res_new = uncertainty_decomposition(y_grid_short, model_paras_new,\n",
    "                                          e_tilde=model_res['e_tilde'], \n",
    "                                          h=np.zeros_like(model_res['h']),\n",
    "                                          πc=np.ones_like(model_res['πc'])/len(θ),\n",
    "                                          bc=np.average(ϕ_i_baseline, weights=πd_o, axis=0)[-1],\n",
    "                                          v0=None, ϵ=ϵ, tol=1e-8, max_iter=10_000, print_all=False)  \n",
    "ME_baseline = model_res_new['ME']"
   ]
  },
  {
   "cell_type": "code",
   "execution_count": 56,
   "metadata": {},
   "outputs": [],
   "source": [
    "def simulation_me(y_grid, e_grid, ratio_grid, θ=1.86/1000., y_start=.5394, T=50):\n",
    "    Et = np.zeros(T+1)\n",
    "    yt = np.zeros(T+1)\n",
    "    ratio_t = np.zeros(T+1)\n",
    "    for i in range(T+1):\n",
    "        Et[i] = np.interp(y_start, y_grid, e_grid)\n",
    "        ratio_t[i] = np.interp(y_start, y_grid, ratio_grid)\n",
    "        yt[i] = y_start\n",
    "        y_start = y_start + Et[i]*θ\n",
    "    return Et, yt, ratio_t"
   ]
  },
  {
   "cell_type": "code",
   "execution_count": 57,
   "metadata": {},
   "outputs": [
    {
     "data": {
      "image/png": "[encoded data removed]",
      "text/plain": [
       "<Figure size 576x360 with 1 Axes>"
      ]
     },
     "metadata": {
      "needs_background": "light"
     },
     "output_type": "display_data"
    }
   ],
   "source": [
    "plt.figure(figsize=(8, 5))\n",
    "\n",
    "_, _, total_t = simulation_me(y_grid_short, model_res['e_tilde'], \n",
    "                                      np.log(ME_total/ME_baseline)*(100), θ=np.mean(θ), y_start=np.mean(θ)*290, T=100)\n",
    "_, _, temp_t = simulation_me(y_grid_short, model_res['e_tilde'], \n",
    "                                      np.log(ME_temp/ME_baseline)*(100), θ=np.mean(θ), y_start=np.mean(θ)*290, T=100)\n",
    "_, _, carb_t = simulation_me(y_grid_short, model_res['e_tilde'], \n",
    "                                      np.log(ME_carb/ME_baseline)*(100), θ=np.mean(θ), y_start=np.mean(θ)*290, T=100)\n",
    "_, _, damage_t = simulation_me(y_grid_short, model_res['e_tilde'], \n",
    "                                      np.log(ME_damage/ME_baseline)*(100), θ=np.mean(θ), y_start=np.mean(θ)*290, T=100)\n",
    "\n",
    "# plt.plot(y_grid_short, np.log(ME_total/ME_baseline)*(100), label='total', color='tab:red', linewidth=2.5)\n",
    "# plt.plot(y_grid_short, np.log(ME_temp/ME_baseline)*(100), label='temperature uncertainty', color='darkorange', linewidth=2.5)\n",
    "# plt.plot(y_grid_short, np.log(ME_carb/ME_baseline)*(100), label='carbon uncertainty', color='darkgreen', linewidth=2.5)\n",
    "# plt.plot(y_grid_short, np.log(ME_damage/ME_baseline)*(100), label='damage uncertainty', color='navy', linewidth=2.5)\n",
    "# plt.xlabel('Temperature anomaly', fontsize=13)\n",
    "\n",
    "plt.plot(total_t, label='total', color='tab:red', linewidth=2.5)\n",
    "plt.plot(damage_t, label='damage uncertainty', color='darkorange', linewidth=2.5)\n",
    "plt.plot(temp_t, label='temperature uncertainty', color='darkgreen', linewidth=2.5)\n",
    "plt.plot(carb_t, label='carbon uncertainty', color='navy', linewidth=2.5)\n",
    "plt.xlabel('Years', fontsize=13)\n",
    "\n",
    "plt.ylabel(r'Log difference (scaled by 100)')\n",
    "plt.legend(frameon=False, loc='upper left')\n",
    "plt.ylim(0, 80)\n",
    "plt.savefig('../plots/standardized/uncertainty_one_partition.pdf')"
   ]
  },
  {
   "cell_type": "code",
   "execution_count": 58,
   "metadata": {},
   "outputs": [
    {
     "data": {
      "image/png": "[encoded data removed]",
      "text/plain": [
       "<Figure size 576x360 with 1 Axes>"
      ]
     },
     "metadata": {
      "needs_background": "light"
     },
     "output_type": "display_data"
    }
   ],
   "source": [
    "plt.figure(figsize=(8, 5))\n",
    "\n",
    "_, _, total_t = simulation_me(y_grid_short, model_res['e_tilde'], \n",
    "                                      np.log(ME_total/ME_baseline)*(100), θ=np.mean(θ), y_start=np.mean(θ)*290, T=100)\n",
    "_, _, temp_damage_t = simulation_me(y_grid_short, model_res['e_tilde'], \n",
    "                                      np.log(ME_temp_damage/ME_baseline)*(100), θ=np.mean(θ), y_start=np.mean(θ)*290, T=100)\n",
    "_, _, carb_damage_t = simulation_me(y_grid_short, model_res['e_tilde'], \n",
    "                                      np.log(ME_carb_damage/ME_baseline)*(100), θ=np.mean(θ), y_start=np.mean(θ)*290, T=100)\n",
    "_, _, temp_carb_t = simulation_me(y_grid_short, model_res['e_tilde'], \n",
    "                                      np.log(ME_temp_carb/ME_baseline)*(100), θ=np.mean(θ), y_start=np.mean(θ)*290, T=100)\n",
    "\n",
    "# plt.plot(y_grid_short, np.log(ME_total/ME_baseline)*(100), label='total', color='tab:red', linewidth=2.5)\n",
    "# plt.plot(y_grid_short, np.log(ME_temp_damage/ME_baseline)*(100), label='temperature and damage uncertainty', color='darkorange', linewidth=2.5)\n",
    "# plt.plot(y_grid_short, np.log(ME_carb_damage/ME_baseline)*(100), label='carbon and damage uncertainty', color='darkgreen', linewidth=2.5)\n",
    "# plt.plot(y_grid_short, np.log(ME_temp_carb/ME_baseline)*(100), label='carbon and temperature uncertainty', color='navy', linewidth=2.5)\n",
    "# plt.xlabel('Temperature anomaly', fontsize=13)\n",
    "\n",
    "plt.plot(total_t, label='total', color='tab:red', linewidth=2.5)\n",
    "plt.plot(temp_damage_t, label='temperature and damage uncertainty', color='darkorange', linewidth=2.5)\n",
    "plt.plot(carb_damage_t, label='carbon and damage uncertainty', color='darkgreen', linewidth=2.5)\n",
    "plt.plot(temp_carb_t, label='carbon and temperature uncertainty', color='navy', linewidth=2.5)\n",
    "plt.xlabel('Years', fontsize=13)\n",
    "\n",
    "plt.ylabel(r'Log difference (scaled by 100)')\n",
    "plt.legend(frameon=False, loc='upper left')\n",
    "plt.ylim(0, 80)\n",
    "plt.savefig('../plots/standardized/uncertainty_two_partition.pdf')"
   ]
  },
  {
   "cell_type": "code",
   "execution_count": 13,
   "metadata": {},
   "outputs": [
    {
     "data": {
      "image/png": "[encoded data removed]",
      "text/plain": [
       "<Figure size 576x360 with 1 Axes>"
      ]
     },
     "metadata": {
      "needs_background": "light"
     },
     "output_type": "display_data"
    }
   ],
   "source": [
    "# 5. Plot SCC\n",
    "et_tilde, yt, ratio_t = simulation_me(y_grid_short, model_res['e_tilde'], \n",
    "                                      ME_baseline/ME_total, θ=np.mean(θ), y_start=np.mean(θ)*290, T=100)\n",
    "\n",
    "# Capital and z parameters\n",
    "α_k = -0.043\n",
    "β_k = 0.04\n",
    "σ_k = np.array([0.477*2, 0])/100.\n",
    "β_z = 0.014*4\n",
    "σ_z = np.array([0.011*2, 0.025*2])\n",
    "α = 0.115\n",
    "ioverk = 0.09\n",
    "κ = 6.667\n",
    "\n",
    "\n",
    "@njit(parallel=True)\n",
    "def simulate_capital(α_k, β_k, σ_k, β_z, σ_z, ioverk, κ, Ws, k_start, N=100_000, T=100, dt=1.):\n",
    "    var_z = dt*σ_z@σ_z/(1-(1-β_z*dt)**2)\n",
    "    std_z = np.sqrt(var_z)\n",
    "\n",
    "    time_periods = int(T/dt)\n",
    "    z_path = np.zeros((N, time_periods+1))\n",
    "    k_path = np.zeros((N, time_periods+1))\n",
    "    for i in range(N):\n",
    "        z0 = np.random.normal(0.,std_z)\n",
    "        k0 = k_start\n",
    "        z_path[i, 0] = z0\n",
    "        k_path[i, 0] = k0\n",
    "        for j in range(1, time_periods+1):\n",
    "            k1 = k0 + (α_k + β_k*z0 + ioverk - κ/2.*ioverk**2 - σ_k@σ_k/2.)*dt + σ_k@Ws[i, j]*np.sqrt(dt)\n",
    "            z1 = (1.-β_z*dt)*z0 + σ_z@Ws[i, j]*np.sqrt(dt)\n",
    "            k_path[i, j] = k1\n",
    "            z_path[i, j] = z1\n",
    "            k0 = k1\n",
    "            z0 = z1\n",
    "    return k_path\n",
    "\n",
    "T = 100\n",
    "N = 1_000_000\n",
    "dt = 1.\n",
    "k_start = np.log(80/α)\n",
    "η = .032\n",
    "Ws = np.random.multivariate_normal(np.zeros(2), np.eye(2), (N, int(T/dt)))\n",
    "logk_path = simulate_capital(α_k, β_k, σ_k, β_z, σ_z, ioverk, κ, Ws, k_start, N=N, T=T, dt=dt)\n",
    "Kt = np.percentile(np.exp(logk_path), 50, axis=0)\n",
    "\n",
    "SCCt_all = η*(0.025)*Kt/((1.-η)*et_tilde) * 1000\n",
    "SCCt_baseline = SCCt_all * ratio_t\n",
    "SCCt_uncertainty = SCCt_all - SCCt_baseline\n",
    "\n",
    "plt.figure(figsize=(8, 5))\n",
    "plt.plot(SCCt_all, color='rebeccapurple', label='Total', linewidth=2.5)\n",
    "plt.plot(SCCt_uncertainty, color='rebeccapurple', label='Uncertainty', linestyle='dashed', linewidth=2.5)\n",
    "plt.fill_between(np.arange(0, 101, 1), np.zeros_like(SCCt_uncertainty), \n",
    "                 SCCt_uncertainty, color='rebeccapurple', alpha=.4)\n",
    "plt.ylim(0, 1200)\n",
    "plt.xlim(0, 100)\n",
    "plt.xlabel('Years', fontsize=13)\n",
    "plt.ylabel('SCC ($/tC)', fontsize=13)\n",
    "plt.legend(frameon=False)\n",
    "plt.savefig('../plots/standardized/scc.pdf')"
   ]
  },
  {
   "cell_type": "markdown",
   "metadata": {},
   "source": [
    "Evolution of damages:\n",
    "\n",
    "$$\n",
    "d \\log N_t = \\mu_n(Y_t, F_t) dt + \\sigma_n(Y_t, F_t) \\cdot dW_t\n",
    "$$\n",
    "\n",
    "where\n",
    "\n",
    "$$\n",
    "\\mu_n(y, f) = \\left(\\gamma_1 + \\gamma_2 y\\right) \\mu_y(f) + \\frac{1}{2}\\gamma_2|\\sigma_y(f)|^2\n",
    "$$\n",
    "\n",
    "and\n",
    "\n",
    "$$\n",
    "\\sigma_n(y, f) = \\left(\\gamma_1 + \\gamma_2 y\\right) \\sigma_y (f)\n",
    "$$\n",
    "\n",
    "where $\\mu_y(f) = f \\sum_{i=1}^n \\pi^a_i \\theta_i$ and $\\sigma_y(f) =  f\\zeta$."
   ]
  },
  {
   "cell_type": "code",
   "execution_count": 14,
   "metadata": {},
   "outputs": [],
   "source": [
    "# Smimulate damages\n",
    "γ_1 = 1.7675/10000\n",
    "γ_2 = .0022*2\n",
    "θ_reshape = np.zeros_like(model['πc'])\n",
    "for i in range(θ_reshape.shape[0]):\n",
    "    θ_reshape[i] = model['θ'][i]\n",
    "mu_y = model['e_tilde'] * np.sum(model['πc']*θ_reshape, axis=0)\n",
    "sigma_y = model['e_tilde'] * model['σ_y']\n",
    "mu_n = (γ_1 + γ_2 * model['y_grid']) * mu_y + .5 * γ_2 * sigma_y**2\n",
    "sigma_n = (γ_1 + γ_2 * model['y_grid']) * sigma_y"
   ]
  },
  {
   "cell_type": "code",
   "execution_count": 15,
   "metadata": {},
   "outputs": [],
   "source": [
    "@njit\n",
    "def simulation_damage(y_grid, e_grid, mu_n_grid, sigma_n_grid, \n",
    "                      mu_y_grid, sigma_y_grid, Ws, y_start=.5394):\n",
    "    n_path, T = Ws.shape\n",
    "    log_N = np.zeros((n_path, T+1))\n",
    "    for n in range(n_path):\n",
    "        y = y_start\n",
    "        for t in range(1, T+1):\n",
    "            # Updtea drift and diffusion\n",
    "            mu_n_t = np.interp(y, y_grid, mu_n_grid)\n",
    "            sigma_n_t = np.interp(y, y_grid, sigma_n_grid)\n",
    "            log_N[n, t] = log_N[n, t-1] + mu_n_t + sigma_n_t * Ws[n, t-1]\n",
    "            # Update y\n",
    "            e_t = np.interp(y, y_grid, e_grid)\n",
    "            mu_y_t = np.interp(y, y_grid, mu_y_grid)\n",
    "            sigma_y_t = np.interp(y, y_grid, sigma_y_grid)\n",
    "            y = y + mu_y_t + sigma_y_t * Ws[n, t-1]\n",
    "    return log_N"
   ]
  },
  {
   "cell_type": "code",
   "execution_count": 16,
   "metadata": {},
   "outputs": [],
   "source": [
    "T = 100\n",
    "n_path = 100_000\n",
    "Ws = np.random.normal(0., 1., (n_path, T))"
   ]
  },
  {
   "cell_type": "code",
   "execution_count": 17,
   "metadata": {},
   "outputs": [],
   "source": [
    "log_N = simulation_damage(model['y_grid'], model['e_tilde'], mu_n, sigma_n,\n",
    "                          mu_y, sigma_y, Ws, y_start=.5394)\n",
    "N = np.exp(log_N)"
   ]
  },
  {
   "cell_type": "code",
   "execution_count": 18,
   "metadata": {},
   "outputs": [],
   "source": [
    "N_10 = np.percentile(N, 10, axis=0)\n",
    "N_50 = np.percentile(N, 50, axis=0)\n",
    "N_90 = np.percentile(N, 90, axis=0)\n",
    "\n",
    "log_N_10 = np.percentile(log_N, 10, axis=0)\n",
    "log_N_50 = np.percentile(log_N, 50, axis=0)\n",
    "log_N_90 = np.percentile(log_N, 90, axis=0)"
   ]
  },
  {
   "cell_type": "code",
   "execution_count": 19,
   "metadata": {},
   "outputs": [
    {
     "ename": "NameError",
     "evalue": "name 'N_10' is not defined",
     "output_type": "error",
     "traceback": [
      "\u001b[0;31m---------------------------------------------------------------------------\u001b[0m",
      "\u001b[0;31mNameError\u001b[0m                                 Traceback (most recent call last)",
      "\u001b[0;32m<ipython-input-19-870cdf3651a6>\u001b[0m in \u001b[0;36m<module>\u001b[0;34m\u001b[0m\n\u001b[0;32m----> 1\u001b[0;31m \u001b[0mplt\u001b[0m\u001b[0;34m.\u001b[0m\u001b[0mplot\u001b[0m\u001b[0;34m(\u001b[0m\u001b[0;36m1\u001b[0m\u001b[0;34m/\u001b[0m\u001b[0mN_10\u001b[0m\u001b[0;34m)\u001b[0m\u001b[0;34m\u001b[0m\u001b[0;34m\u001b[0m\u001b[0m\n\u001b[0m\u001b[1;32m      2\u001b[0m \u001b[0mplt\u001b[0m\u001b[0;34m.\u001b[0m\u001b[0mplot\u001b[0m\u001b[0;34m(\u001b[0m\u001b[0;36m1\u001b[0m\u001b[0;34m/\u001b[0m\u001b[0mN_50\u001b[0m\u001b[0;34m)\u001b[0m\u001b[0;34m\u001b[0m\u001b[0;34m\u001b[0m\u001b[0m\n\u001b[1;32m      3\u001b[0m \u001b[0mplt\u001b[0m\u001b[0;34m.\u001b[0m\u001b[0mplot\u001b[0m\u001b[0;34m(\u001b[0m\u001b[0;36m1\u001b[0m\u001b[0;34m/\u001b[0m\u001b[0mN_90\u001b[0m\u001b[0;34m)\u001b[0m\u001b[0;34m\u001b[0m\u001b[0;34m\u001b[0m\u001b[0m\n",
      "\u001b[0;31mNameError\u001b[0m: name 'N_10' is not defined"
     ]
    }
   ],
   "source": [
    "plt.plot(1/N_10)\n",
    "plt.plot(1/N_50)\n",
    "plt.plot(1/N_90)"
   ]
  },
  {
   "cell_type": "code",
   "execution_count": null,
   "metadata": {},
   "outputs": [],
   "source": [
    "plt.plot(log_N_10*100, label='.1 percentile')\n",
    "plt.plot(log_N_50*100, label='.5 percentile')\n",
    "plt.plot(log_N_90*100, label='.9 percentile')\n",
    "plt.xlabel('Years')\n",
    "plt.title(r'$\\log N_t$ * 100')\n",
    "plt.legend(frameon=False)"
   ]
  },
  {
   "cell_type": "code",
   "execution_count": null,
   "metadata": {},
   "outputs": [],
   "source": [
    "1.86/1000 * 1.2 * .186 * 1000 # 1/600"
   ]
  },
  {
   "cell_type": "code",
   "execution_count": null,
   "metadata": {},
   "outputs": [],
   "source": [
    "1.86/1000 * 1.2 * .132 * 1000 # 1/400"
   ]
  },
  {
   "cell_type": "code",
   "execution_count": null,
   "metadata": {},
   "outputs": [],
   "source": [
    "1.86/1000 * 1.2 * .12 * 1000 # 1/360"
   ]
  },
  {
   "cell_type": "code",
   "execution_count": null,
   "metadata": {},
   "outputs": [],
   "source": [
    "1.86/1000 * 1.2 * .117 * 1000 # 1/350"
   ]
  },
  {
   "cell_type": "code",
   "execution_count": null,
   "metadata": {},
   "outputs": [],
   "source": [
    "1.86/1000 * 1.2 * .114 * 1000 # 1/340"
   ]
  },
  {
   "cell_type": "code",
   "execution_count": 47,
   "metadata": {},
   "outputs": [
    {
     "data": {
      "text/plain": [
       "0.24953760000000003"
      ]
     },
     "execution_count": 47,
     "metadata": {},
     "output_type": "execute_result"
    }
   ],
   "source": [
    "0.11178887\n",
    "1.86/1000 * 1.2 * .1118 * 1000 # 1/300"
   ]
  },
  {
   "cell_type": "markdown",
   "metadata": {},
   "source": [
    "### Compare one state model and two state models"
   ]
  },
  {
   "cell_type": "code",
   "execution_count": 70,
   "metadata": {},
   "outputs": [],
   "source": [
    "from scipy.interpolate import interp2d\n",
    "\n",
    "emission_grid_two_state = np.load('emission_two_state.npy')\n",
    "emission_grid_two_state_low = np.load('emission_two_state_low.npy')\n",
    "emission_grid_two_state_high = np.load('emission_two_state_high.npy')\n",
    "emission_grid_two_state_extreme = np.load('emission_two_state_extreme.npy')\n",
    "\n",
    "\n",
    "y1_grid = np.arange(0., 2.+.04, .04)\n",
    "y2_grid = np.arange(0., .05, .001)\n",
    "y1_grid_long = np.arange(0., 4., .04)\n",
    "\n",
    "def simulation(y1_grid, y2_grid, e_grid, λ, θ=1.86/1000., y1_0=.5394, y2_0=1.86/1000, T=100):\n",
    "    e_fun = interp2d(y1_grid, y2_grid, e_grid.T)\n",
    "    Et = np.zeros(T+1)\n",
    "    y1t = np.zeros(T+1)\n",
    "    y2t = np.zeros(T+1)\n",
    "    for i in range(T+1):\n",
    "        Et[i] = e_fun(y1_0, y2_0)\n",
    "        y1t[i] = y1_0\n",
    "        y2t[i] = y2_0\n",
    "        y2_0 = y2_0 - λ*y2_0 + λ*θ*Et[i] \n",
    "        y1_0 = y1_0 + y2_0\n",
    "    return Et, y1t, y2t\n",
    "\n",
    "et_two_state, y1t, y2t = simulation(y1_grid, y2_grid, emission_grid_two_state, .116,\n",
    "                          θ=np.mean(model['θ']), y1_0=.5394, y2_0=np.mean(model['θ']), T=100)\n",
    "et_two_state_low, y1t, y2t = simulation(y1_grid_long, y2_grid, emission_grid_two_state_low, .116,\n",
    "                          θ=np.mean(model['θ']), y1_0=.5394, y2_0=np.mean(model['θ']), T=100)\n",
    "et_two_state_high, y1t, y2t = simulation(y1_grid_long, y2_grid, emission_grid_two_state_high, .116,\n",
    "                          θ=np.mean(model['θ']), y1_0=.5394, y2_0=np.mean(model['θ']), T=100)\n",
    "et_two_state_extreme, y1t, y2t = simulation(y1_grid_long, y2_grid, emission_grid_two_state_extreme, .116,\n",
    "                          θ=np.mean(model['θ']), y1_0=.5394, y2_0=np.mean(model['θ']), T=100)"
   ]
  },
  {
   "cell_type": "code",
   "execution_count": 63,
   "metadata": {},
   "outputs": [],
   "source": [
    "# Capital and z parameters\n",
    "α_k = -0.043\n",
    "β_k = 0.04\n",
    "σ_k = np.array([0.477*2, 0])/100.\n",
    "β_z = 0.014*4\n",
    "σ_z = np.array([0.011*2, 0.025*2])\n",
    "α = 0.115\n",
    "ioverk = 0.09\n",
    "κ = 6.667\n",
    "\n",
    "\n",
    "@njit(parallel=True)\n",
    "def simulate_capital(α_k, β_k, σ_k, β_z, σ_z, ioverk, κ, Ws, k_start, N=100_000, T=100, dt=1.):\n",
    "    var_z = dt*σ_z@σ_z/(1-(1-β_z*dt)**2)\n",
    "    std_z = np.sqrt(var_z)\n",
    "\n",
    "    time_periods = int(T/dt)\n",
    "    z_path = np.zeros((N, time_periods+1))\n",
    "    k_path = np.zeros((N, time_periods+1))\n",
    "    for i in range(N):\n",
    "        z0 = np.random.normal(0.,std_z)\n",
    "        k0 = k_start\n",
    "        z_path[i, 0] = z0\n",
    "        k_path[i, 0] = k0\n",
    "        for j in range(1, time_periods+1):\n",
    "            k1 = k0 + (α_k + β_k*z0 + ioverk - κ/2.*ioverk**2 - σ_k@σ_k/2.)*dt + σ_k@Ws[i, j]*np.sqrt(dt)\n",
    "            z1 = (1.-β_z*dt)*z0 + σ_z@Ws[i, j]*np.sqrt(dt)\n",
    "            k_path[i, j] = k1\n",
    "            z_path[i, j] = z1\n",
    "            k0 = k1\n",
    "            z0 = z1\n",
    "    return k_path\n",
    "\n",
    "T = 100\n",
    "N = 1_000_000\n",
    "dt = 1.\n",
    "k_start = np.log(80/α)\n",
    "η = .032\n",
    "Ws = np.random.multivariate_normal(np.zeros(2), np.eye(2), (N, int(T/dt)))\n",
    "logk_path = simulate_capital(α_k, β_k, σ_k, β_z, σ_z, ioverk, κ, Ws, k_start, N=N, T=T, dt=dt)\n",
    "Kt = np.percentile(np.exp(logk_path), 50, axis=0)"
   ]
  },
  {
   "cell_type": "code",
   "execution_count": 64,
   "metadata": {},
   "outputs": [],
   "source": [
    "SCCt_one_state = η*(0.025)*Kt/((1.-η)*et) * 1000 # .025 is alpha - i/k\n",
    "SCCt_two_state = η*(0.025)*Kt/((1.-η)*et_two_state) * 1000 # .025 is alpha - i/k"
   ]
  },
  {
   "cell_type": "code",
   "execution_count": 65,
   "metadata": {},
   "outputs": [
    {
     "data": {
      "text/plain": [
       "Text(0.5, 1.0, 'SCC')"
      ]
     },
     "execution_count": 65,
     "metadata": {},
     "output_type": "execute_result"
    },
    {
     "data": {
      "image/png": "[encoded data removed]",
      "text/plain": [
       "<Figure size 432x288 with 1 Axes>"
      ]
     },
     "metadata": {
      "needs_background": "light"
     },
     "output_type": "display_data"
    }
   ],
   "source": [
    "plt.plot(SCCt_one_state, label='Y has one state')\n",
    "plt.plot(SCCt_two_state, label='Y has two states')\n",
    "plt.xlabel('Years')\n",
    "plt.ylim(0, 1100)\n",
    "plt.legend(frameon=False)\n",
    "plt.title('SCC')"
   ]
  },
  {
   "cell_type": "code",
   "execution_count": 66,
   "metadata": {},
   "outputs": [
    {
     "data": {
      "text/plain": [
       "Text(0.5, 1.0, 'Emission trajectory')"
      ]
     },
     "execution_count": 66,
     "metadata": {},
     "output_type": "execute_result"
    },
    {
     "data": {
      "image/png": "[encoded data removed]",
      "text/plain": [
       "<Figure size 432x288 with 1 Axes>"
      ]
     },
     "metadata": {
      "needs_background": "light"
     },
     "output_type": "display_data"
    }
   ],
   "source": [
    "plt.plot(et, label='Y has one state')\n",
    "plt.plot(et_two_state, label='Y has two states')\n",
    "plt.legend(frameon=False)\n",
    "plt.ylim(0, 11)\n",
    "plt.xlabel('Years')\n",
    "plt.title('Emission trajectory')"
   ]
  },
  {
   "cell_type": "code",
   "execution_count": 73,
   "metadata": {},
   "outputs": [
    {
     "data": {
      "text/plain": [
       "Text(0.5, 1.0, 'Emission trajectory')"
      ]
     },
     "execution_count": 73,
     "metadata": {},
     "output_type": "execute_result"
    },
    {
     "data": {
      "image/png": "[encoded data removed]",
      "text/plain": [
       "<Figure size 432x288 with 1 Axes>"
      ]
     },
     "metadata": {
      "needs_background": "light"
     },
     "output_type": "display_data"
    }
   ],
   "source": [
    "plt.plot(et_two_state_low, label='Y has two states, low damage')\n",
    "# plt.plot(et_two_state_high, label='Y has two states, high damage')\n",
    "plt.plot(et_two_state_extreme, label='Y has two states, extreme damage')\n",
    "\n",
    "plt.legend(frameon=False)\n",
    "# plt.ylim(0, 11)\n",
    "plt.xlabel('Years')\n",
    "plt.title('Emission trajectory')"
   ]
  },
  {
   "cell_type": "code",
   "execution_count": 51,
   "metadata": {},
   "outputs": [
    {
     "data": {
      "text/plain": [
       "0.5399653388888889"
      ]
     },
     "execution_count": 51,
     "metadata": {},
     "output_type": "execute_result"
    }
   ],
   "source": [
    "np.mean(model['θ'])*290"
   ]
  }
 ],
 "metadata": {
  "kernelspec": {
   "display_name": "Python 3",
   "language": "python",
   "name": "python3"
  },
  "language_info": {
   "codemirror_mode": {
    "name": "ipython",
    "version": 3
   },
   "file_extension": ".py",
   "mimetype": "text/x-python",
   "name": "python",
   "nbconvert_exporter": "python",
   "pygments_lexer": "ipython3",
   "version": "3.8.5"
  }
 },
 "nbformat": 4,
 "nbformat_minor": 4
}
