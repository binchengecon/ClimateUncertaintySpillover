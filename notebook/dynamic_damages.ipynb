{
 "cells": [
  {
   "cell_type": "markdown",
   "id": "little-butter",
   "metadata": {},
   "source": [
    "# Dynamic damages"
   ]
  },
  {
   "cell_type": "code",
   "execution_count": 41,
   "id": "acquired-supervisor",
   "metadata": {},
   "outputs": [],
   "source": [
    "import numpy as np\n",
    "import os\n",
    "import sys\n",
    "sys.path.append(os.path.dirname(os.getcwd()) + '/source')\n",
    "import pickle\n",
    "from utilities import dLambda\n",
    "from supportfunctions import finiteDiff\n",
    "import matplotlib.pyplot as plt\n",
    "from numba import njit"
   ]
  },
  {
   "cell_type": "code",
   "execution_count": 2,
   "id": "coastal-legislature",
   "metadata": {},
   "outputs": [],
   "source": [
    "solu = pickle.load(open('../data/solution/solu_dynamicdmg_21*201_0301_16:41', 'rb'))"
   ]
  },
  {
   "cell_type": "code",
   "execution_count": 102,
   "id": "hollow-knock",
   "metadata": {
    "scrolled": true
   },
   "outputs": [
    {
     "data": {
      "text/plain": [
       "2.0"
      ]
     },
     "execution_count": 102,
     "metadata": {},
     "output_type": "execute_result"
    }
   ],
   "source": [
    "solu['y_grid'][100]"
   ]
  },
  {
   "cell_type": "code",
   "execution_count": 4,
   "id": "nominated-anderson",
   "metadata": {},
   "outputs": [
    {
     "data": {
      "text/plain": [
       "0.002177598558933893"
      ]
     },
     "execution_count": 4,
     "metadata": {},
     "output_type": "execute_result"
    }
   ],
   "source": [
    "solu['sigma2']"
   ]
  },
  {
   "cell_type": "code",
   "execution_count": 5,
   "id": "official-retro",
   "metadata": {},
   "outputs": [],
   "source": [
    "# backward induction\n",
    "rho = .9\n",
    "mu2 = 1.86/1000\n",
    "sigma2 = 0.002177598558933893\n",
    "error = 1\n",
    "tol = 1e-8\n",
    "episode = 0\n",
    "epsilon = .3"
   ]
  },
  {
   "cell_type": "code",
   "execution_count": 6,
   "id": "extra-impression",
   "metadata": {},
   "outputs": [],
   "source": [
    "solu_dict = solu['solu_dynamicdmg']\n",
    "z_grid = solu['z_grid']\n",
    "y_grid = solu['y_grid']\n",
    "hz = solu['hz']\n",
    "hy = solu['hy']\n",
    "delta = .01\n",
    "eta = .032\n",
    "v_n = solu['v_n']"
   ]
  },
  {
   "cell_type": "code",
   "execution_count": 7,
   "id": "classical-hundred",
   "metadata": {
    "code_folding": []
   },
   "outputs": [
    {
     "data": {
      "text/plain": [
       "101"
      ]
     },
     "execution_count": 7,
     "metadata": {},
     "output_type": "execute_result"
    }
   ],
   "source": [
    "y_grid_new = y_grid[:101]\n",
    "gamma2pList = np.array([2*0.0197, 2*0.3853])\n",
    "v0 = solu_dict[0]['phi'][:, :101]\n",
    "v1 = solu_dict[gamma2pList[0]]['phi'][:, :101]\n",
    "v2 = solu_dict[gamma2pList[1]]['phi'][:, :101]\n",
    "# numy = len(y_new)\n",
    "numz = len(z_grid)\n",
    "numy = len(y_grid_new)\n",
    "numy"
   ]
  },
  {
   "cell_type": "code",
   "execution_count": 8,
   "id": "geological-anime",
   "metadata": {},
   "outputs": [],
   "source": [
    "numdmg = 3\n",
    "tran_prob = np.ones((numdmg-1, numz, numy))/(numdmg-1)"
   ]
  },
  {
   "cell_type": "code",
   "execution_count": 9,
   "id": "parliamentary-pizza",
   "metadata": {},
   "outputs": [
    {
     "data": {
      "text/plain": [
       "((21, 101), (2, 21, 101))"
      ]
     },
     "execution_count": 9,
     "metadata": {},
     "output_type": "execute_result"
    }
   ],
   "source": [
    "v1.shape,tran_prob.shape"
   ]
  },
  {
   "cell_type": "code",
   "execution_count": 10,
   "id": "hourly-student",
   "metadata": {},
   "outputs": [],
   "source": [
    "(z_mat, y_mat) = np.meshgrid(z_grid, y_grid_new, indexing='ij')\n",
    "stateSpace = np.hstack([z_mat.reshape(-1,1,order='F'), y_mat.reshape(-1,1,order='F')])"
   ]
  },
  {
   "cell_type": "code",
   "execution_count": 11,
   "id": "sapphire-attack",
   "metadata": {
    "code_folding": []
   },
   "outputs": [],
   "source": [
    "gamma2pMat = np.zeros((numdmg-1, numz, numy))\n",
    "gamma2pMat[0] = gamma2pList[0]\n",
    "gamma2pMat[1] = gamma2pList[1]\n",
    "dlambdaMat = dLambda(y_mat, 1, 0.00017675, 2*0.0022, np.sum(gamma2pMat*tran_prob, axis=0), 2)"
   ]
  },
  {
   "cell_type": "code",
   "execution_count": 12,
   "id": "operating-hayes",
   "metadata": {},
   "outputs": [
    {
     "data": {
      "text/plain": [
       "(21, 101)"
      ]
     },
     "execution_count": 12,
     "metadata": {},
     "output_type": "execute_result"
    }
   ],
   "source": [
    "dlambdaMat.shape"
   ]
  },
  {
   "cell_type": "code",
   "execution_count": 13,
   "id": "looking-demonstration",
   "metadata": {},
   "outputs": [
    {
     "data": {
      "text/plain": [
       "((2, 21, 101), (21, 101))"
      ]
     },
     "execution_count": 13,
     "metadata": {},
     "output_type": "execute_result"
    }
   ],
   "source": [
    "target = np.array([v1,v2])\n",
    "target.shape, dlambdaMat.shape"
   ]
  },
  {
   "cell_type": "code",
   "execution_count": 14,
   "id": "optical-midnight",
   "metadata": {},
   "outputs": [],
   "source": [
    "V = np.sum(tran_prob*target, axis=0)\n",
    "terminal_v = v0[:,-1]"
   ]
  },
  {
   "cell_type": "code",
   "execution_count": 15,
   "id": "boolean-harassment",
   "metadata": {},
   "outputs": [],
   "source": [
    "V = np.sum(tran_prob*target, axis=0)\n",
    "terminal_v = v0[:,-1]"
   ]
  },
  {
   "cell_type": "code",
   "execution_count": 99,
   "id": "humanitarian-overview",
   "metadata": {},
   "outputs": [],
   "source": [
    "def pde_solver(phi_grid, z_grid, y_grid, terminal_condition, dlambdaMat, epsilon=.3,\n",
    "           delta=.01, eta=.032, \n",
    "           mu2=1.86/1000, sigma2=0.002177598558933893, rho=.9):\n",
    "    \n",
    "    n_y = len(y_grid)\n",
    "    n_z = len(z_grid)\n",
    "    hy = y_grid[1] - y_grid[0]\n",
    "    hz = z_grid[1] - z_grid[0]\n",
    "    LHS = np.zeros((n_y*n_z, n_y*n_z))\n",
    "    RHS = np.zeros(n_y*n_z)\n",
    "    for j in range(n_z):\n",
    "        for i in range(n_y):\n",
    "            idx = j*n_y + i\n",
    "            idx_yp1 = idx + 1\n",
    "            idx_ym1 = idx - 1\n",
    "            idx_zp1 = (j+1)*n_y + i\n",
    "            idx_zp2 = (j+2)*n_y + i\n",
    "            idx_zm1 = (j-1)*n_y + i\n",
    "            idx_zm2 = (j-2)*n_y + i\n",
    "            phi = phi_grid[idx]\n",
    "            z = z_grid[j]\n",
    "            condition = terminal_condition[j]\n",
    "            dlambda = dlambdaMat[j,i]\n",
    "            LHS[idx, idx] += - delta - 1/epsilon\n",
    "            temp_1 = -rho*(z-mu2)\n",
    "            var = z*sigma2**2/2\n",
    "            # assign coefficient\n",
    "            if j == 0:\n",
    "                LHS[idx, idx] += -temp_1/hz + var/(hz**2)  \n",
    "                LHS[idx, idx_zp1] += temp_1/hz - var*2/(hz**2)\n",
    "                LHS[idx, idx_zp2] += var/(hz**2)\n",
    "            elif j == n_z-1:\n",
    "                LHS[idx, idx] += temp_1/hz + var/(hz**2)\n",
    "                LHS[idx, idx_zm1] += -temp_1/hz - var*2/(hz**2)\n",
    "                LHS[idx, idx_zm2] += var/(hz**2)            \n",
    "            else:\n",
    "                LHS[idx, idx] += temp_1*((-1./hz) * (temp_1 > 0) + (1./hz) * (temp_1<=0))- var*2/(hz**2)\n",
    "                LHS[idx, idx_zp1] += temp_1 * (1/hz) * (temp_1 > 0) + var/(hz**2)\n",
    "                LHS[idx, idx_zm1] +=  temp_1 * (-1./hz) * (temp_1<=0)+ var/(hz**2)\n",
    "            \n",
    "            if i == 0:\n",
    "                dphidy= (phi_grid[idx_yp1]-phi_grid[idx])/hy\n",
    "                e = - delta*eta/(dphidy*z + (eta-1)*dlambda*z)\n",
    "                LHS[idx, idx] +=  - z*e/hy\n",
    "                LHS[idx, idx_yp1] += z*e/hy\n",
    "                RHS[idx] = -1/epsilon*phi - delta*eta*np.log(e) - (eta-1)*dlambda*z*e\n",
    "            elif i >= 1 and i< n_y-1:\n",
    "                dphidy = (phi_grid[idx_yp1]-phi_grid[idx_ym1])/(2*hy)\n",
    "                e = - delta*eta/(dphidy*z + (eta-1)*dlambda*z)\n",
    "                LHS[idx, idx] = z*e * ((-1./hy) * (z*e>0) + (1./hy) * (z*e<=0))\n",
    "                LHS[idx, idx_yp1] += z*e * (1./hy) * (z*e>0)\n",
    "                LHS[idx, idx_ym1] += z*e * (-1./hy) * (z*e <= 0)\n",
    "                RHS[idx] = -1/epsilon*phi - delta*eta*np.log(e) - (eta-1)*dlambda*z*e    \n",
    "            \n",
    "            elif i == n_y-1:\n",
    "                LHS[idx, idx] =   1\n",
    "                RHS[idx] = condition\n",
    "                \n",
    "            else:\n",
    "                raise Exception(\"error.\")\n",
    "    phi_grid = np.linalg.solve(LHS, RHS)\n",
    "    return phi_grid"
   ]
  },
  {
   "cell_type": "code",
   "execution_count": 100,
   "id": "together-breakfast",
   "metadata": {},
   "outputs": [],
   "source": [
    "def false_transient(phi_grid, z_grid, y_grid, terminal_condition, dlambdaMat,epsilon=.3,\n",
    "                    delta=0.01, eta=0.032,\n",
    "                    mu2=1.86/1000, sigma2=0.002177598558933893, rho=.9, max_iter=10_000, tol=1e-8):\n",
    "    error = 1\n",
    "    episode = 0\n",
    "    while error > tol:\n",
    "        phi_grid_old = phi_grid.copy()\n",
    "        phi_grid = pde_solver(phi_grid_old,  z_grid, y_grid, terminal_condition, dlambdaMat, epsilon)\n",
    "        error = np.max(np.abs((phi_grid_old-phi_grid)/epsilon))\n",
    "        episode += 1\n",
    "        print('Episode: {}\\t error: {}'.format(episode,error))\n",
    "    return phi_grid"
   ]
  },
  {
   "cell_type": "code",
   "execution_count": 101,
   "id": "classified-farmer",
   "metadata": {
    "scrolled": true
   },
   "outputs": [
    {
     "name": "stdout",
     "output_type": "stream",
     "text": [
      "Episode: 1\t error: 1.525063258975456e+59\n"
     ]
    },
    {
     "ename": "LinAlgError",
     "evalue": "Array must not contain infs or NaNs.",
     "output_type": "error",
     "traceback": [
      "\u001b[0;31m---------------------------------------------------------------------------\u001b[0m",
      "\u001b[0;31mLinAlgError\u001b[0m                               Traceback (most recent call last)",
      "\u001b[0;32m<ipython-input-101-839d65585cf5>\u001b[0m in \u001b[0;36m<module>\u001b[0;34m\u001b[0m\n\u001b[0;32m----> 1\u001b[0;31m \u001b[0mphi\u001b[0m \u001b[0;34m=\u001b[0m \u001b[0mfalse_transient\u001b[0m\u001b[0;34m(\u001b[0m\u001b[0mV\u001b[0m\u001b[0;34m.\u001b[0m\u001b[0mreshape\u001b[0m\u001b[0;34m(\u001b[0m\u001b[0mlen\u001b[0m\u001b[0;34m(\u001b[0m\u001b[0mstateSpace\u001b[0m\u001b[0;34m)\u001b[0m\u001b[0;34m,\u001b[0m \u001b[0morder\u001b[0m\u001b[0;34m=\u001b[0m\u001b[0;34m\"F\"\u001b[0m\u001b[0;34m)\u001b[0m\u001b[0;34m,\u001b[0m \u001b[0mz_grid\u001b[0m\u001b[0;34m,\u001b[0m \u001b[0my_grid_new\u001b[0m\u001b[0;34m,\u001b[0m \u001b[0mterminal_v\u001b[0m\u001b[0;34m,\u001b[0m \u001b[0mdlambdaMat\u001b[0m\u001b[0;34m)\u001b[0m\u001b[0;34m\u001b[0m\u001b[0;34m\u001b[0m\u001b[0m\n\u001b[0m",
      "\u001b[0;32m<ipython-input-100-8c78b8782527>\u001b[0m in \u001b[0;36mfalse_transient\u001b[0;34m(phi_grid, z_grid, y_grid, terminal_condition, dlambdaMat, epsilon, delta, eta, mu2, sigma2, rho, max_iter, tol)\u001b[0m\n\u001b[1;32m      6\u001b[0m     \u001b[0;32mwhile\u001b[0m \u001b[0merror\u001b[0m \u001b[0;34m>\u001b[0m \u001b[0mtol\u001b[0m\u001b[0;34m:\u001b[0m\u001b[0;34m\u001b[0m\u001b[0;34m\u001b[0m\u001b[0m\n\u001b[1;32m      7\u001b[0m         \u001b[0mphi_grid_old\u001b[0m \u001b[0;34m=\u001b[0m \u001b[0mphi_grid\u001b[0m\u001b[0;34m.\u001b[0m\u001b[0mcopy\u001b[0m\u001b[0;34m(\u001b[0m\u001b[0;34m)\u001b[0m\u001b[0;34m\u001b[0m\u001b[0;34m\u001b[0m\u001b[0m\n\u001b[0;32m----> 8\u001b[0;31m         \u001b[0mphi_grid\u001b[0m \u001b[0;34m=\u001b[0m \u001b[0mpde_solver\u001b[0m\u001b[0;34m(\u001b[0m\u001b[0mphi_grid_old\u001b[0m\u001b[0;34m,\u001b[0m  \u001b[0mz_grid\u001b[0m\u001b[0;34m,\u001b[0m \u001b[0my_grid\u001b[0m\u001b[0;34m,\u001b[0m \u001b[0mterminal_condition\u001b[0m\u001b[0;34m,\u001b[0m \u001b[0mdlambdaMat\u001b[0m\u001b[0;34m,\u001b[0m \u001b[0mepsilon\u001b[0m\u001b[0;34m)\u001b[0m\u001b[0;34m\u001b[0m\u001b[0;34m\u001b[0m\u001b[0m\n\u001b[0m\u001b[1;32m      9\u001b[0m         \u001b[0merror\u001b[0m \u001b[0;34m=\u001b[0m \u001b[0mnp\u001b[0m\u001b[0;34m.\u001b[0m\u001b[0mmax\u001b[0m\u001b[0;34m(\u001b[0m\u001b[0mnp\u001b[0m\u001b[0;34m.\u001b[0m\u001b[0mabs\u001b[0m\u001b[0;34m(\u001b[0m\u001b[0;34m(\u001b[0m\u001b[0mphi_grid_old\u001b[0m\u001b[0;34m-\u001b[0m\u001b[0mphi_grid\u001b[0m\u001b[0;34m)\u001b[0m\u001b[0;34m/\u001b[0m\u001b[0mepsilon\u001b[0m\u001b[0;34m)\u001b[0m\u001b[0;34m)\u001b[0m\u001b[0;34m\u001b[0m\u001b[0;34m\u001b[0m\u001b[0m\n\u001b[1;32m     10\u001b[0m         \u001b[0mepisode\u001b[0m \u001b[0;34m+=\u001b[0m \u001b[0;36m1\u001b[0m\u001b[0;34m\u001b[0m\u001b[0;34m\u001b[0m\u001b[0m\n",
      "\u001b[0;32m~/.pyenv/versions/ry38/lib/python3.8/site-packages/numba/np/linalg.py\u001b[0m in \u001b[0;36m_check_finite_matrix\u001b[0;34m()\u001b[0m\n\u001b[1;32m    750\u001b[0m     \u001b[0;32mfor\u001b[0m \u001b[0mv\u001b[0m \u001b[0;32min\u001b[0m \u001b[0mnp\u001b[0m\u001b[0;34m.\u001b[0m\u001b[0mnditer\u001b[0m\u001b[0;34m(\u001b[0m\u001b[0ma\u001b[0m\u001b[0;34m)\u001b[0m\u001b[0;34m:\u001b[0m\u001b[0;34m\u001b[0m\u001b[0;34m\u001b[0m\u001b[0m\n\u001b[1;32m    751\u001b[0m         \u001b[0;32mif\u001b[0m \u001b[0;32mnot\u001b[0m \u001b[0mnp\u001b[0m\u001b[0;34m.\u001b[0m\u001b[0misfinite\u001b[0m\u001b[0;34m(\u001b[0m\u001b[0mv\u001b[0m\u001b[0;34m.\u001b[0m\u001b[0mitem\u001b[0m\u001b[0;34m(\u001b[0m\u001b[0;34m)\u001b[0m\u001b[0;34m)\u001b[0m\u001b[0;34m:\u001b[0m\u001b[0;34m\u001b[0m\u001b[0;34m\u001b[0m\u001b[0m\n\u001b[0;32m--> 752\u001b[0;31m             raise np.linalg.LinAlgError(\n\u001b[0m\u001b[1;32m    753\u001b[0m                 \"Array must not contain infs or NaNs.\")\n\u001b[1;32m    754\u001b[0m \u001b[0;34m\u001b[0m\u001b[0m\n",
      "\u001b[0;31mLinAlgError\u001b[0m: Array must not contain infs or NaNs."
     ]
    }
   ],
   "source": [
    "phi = false_transient(V.reshape(len(stateSpace), order=\"F\"), z_grid, y_grid_new, terminal_v, dlambdaMat)"
   ]
  },
  {
   "cell_type": "code",
   "execution_count": 58,
   "id": "naval-blair",
   "metadata": {},
   "outputs": [],
   "source": [
    "phi = phi.reshape(V.shape)\n",
    "dphi_dy = finiteDiff(phi,1,1,hy)"
   ]
  },
  {
   "cell_type": "code",
   "execution_count": 59,
   "id": "temporal-register",
   "metadata": {},
   "outputs": [],
   "source": [
    "ems = - delta*eta*(dphi_dy*z_mat + v_n*dlambdaMat*z_mat)"
   ]
  },
  {
   "cell_type": "code",
   "execution_count": 63,
   "id": "familiar-universe",
   "metadata": {},
   "outputs": [
    {
     "data": {
      "text/plain": [
       "[<matplotlib.lines.Line2D at 0x7fdd768f7eb0>]"
      ]
     },
     "execution_count": 63,
     "metadata": {},
     "output_type": "execute_result"
    },
    {
     "data": {
      "image/png": "[encoded data removed]",
      "text/plain": [
       "<Figure size 432x288 with 1 Axes>"
      ]
     },
     "metadata": {
      "needs_background": "light"
     },
     "output_type": "display_data"
    }
   ],
   "source": [
    "plt.plot(phi[10])"
   ]
  }
 ],
 "metadata": {
  "kernelspec": {
   "display_name": "ry38",
   "language": "python",
   "name": "ry38"
  },
  "language_info": {
   "codemirror_mode": {
    "name": "ipython",
    "version": 3
   },
   "file_extension": ".py",
   "mimetype": "text/x-python",
   "name": "python",
   "nbconvert_exporter": "python",
   "pygments_lexer": "ipython3",
   "version": "3.8.7"
  }
 },
 "nbformat": 4,
 "nbformat_minor": 5
}
