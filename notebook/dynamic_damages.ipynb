{
 "cells": [
  {
   "cell_type": "markdown",
   "id": "fitted-greenhouse",
   "metadata": {},
   "source": [
    "# Dynamic damages"
   ]
  },
  {
   "cell_type": "code",
   "execution_count": null,
   "id": "minute-generation",
   "metadata": {},
   "outputs": [],
   "source": [
    "import numpy as np\n",
    "import os\n",
    "import sys\n",
    "sys.path.append(os.path.dirname(os.getcwd()) + '/source')\n",
    "import pickle\n",
    "from utilities import dLambda\n",
    "from supportfunctions import finiteDiff\n",
    "import matplotlib.pyplot as plt"
   ]
  },
  {
   "cell_type": "code",
   "execution_count": null,
   "id": "appointed-puzzle",
   "metadata": {},
   "outputs": [],
   "source": [
    "solu = pickle.load(open('../data/solution/solu_dynamicdmg_21*201_0301_16:41', 'rb'))"
   ]
  },
  {
   "cell_type": "code",
   "execution_count": null,
   "id": "mobile-allowance",
   "metadata": {
    "scrolled": true
   },
   "outputs": [],
   "source": [
    "solu['y_grid'][100]"
   ]
  },
  {
   "cell_type": "code",
   "execution_count": null,
   "id": "unexpected-notification",
   "metadata": {},
   "outputs": [],
   "source": [
    "solu['sigma2']"
   ]
  },
  {
   "cell_type": "code",
   "execution_count": null,
   "id": "third-dictionary",
   "metadata": {},
   "outputs": [],
   "source": [
    "# backward induction\n",
    "rho = .9\n",
    "mu2 = 1.86/1000\n",
    "sigma2 = 0.002177598558933893\n",
    "error = 1\n",
    "tol = 1e-8\n",
    "episode = 0\n",
    "epsilon = .3"
   ]
  },
  {
   "cell_type": "code",
   "execution_count": null,
   "id": "eligible-maximum",
   "metadata": {},
   "outputs": [],
   "source": [
    "solu_dict = solu['solu_dynamicdmg']\n",
    "z_grid = solu['z_grid']\n",
    "y_grid = solu['y_grid']\n",
    "hz = solu['hz']\n",
    "hy = solu['hy']\n",
    "delta = .01\n",
    "eta = .032\n",
    "v_n = solu['v_n']"
   ]
  },
  {
   "cell_type": "code",
   "execution_count": null,
   "id": "incredible-demonstration",
   "metadata": {
    "code_folding": []
   },
   "outputs": [],
   "source": [
    "y_grid_new = y_grid[:101]\n",
    "gamma2pList = np.array([2*0.0197, 2*0.3853])\n",
    "v0 = solu_dict[0]['phi'][:, :101]\n",
    "v1 = solu_dict[gamma2pList[0]]['phi'][:, :101]\n",
    "v2 = solu_dict[gamma2pList[1]]['phi'][:, :101]\n",
    "# numy = len(y_new)\n",
    "numz = len(z_grid)\n",
    "numy = len(y_grid_new)\n",
    "numy"
   ]
  },
  {
   "cell_type": "code",
   "execution_count": null,
   "id": "abandoned-welcome",
   "metadata": {},
   "outputs": [],
   "source": [
    "numdmg = 3\n",
    "tran_prob = np.ones((numdmg-1, numz, numy))/(numdmg-1)"
   ]
  },
  {
   "cell_type": "code",
   "execution_count": null,
   "id": "adjustable-swimming",
   "metadata": {},
   "outputs": [],
   "source": [
    "v1.shape,tran_prob.shape"
   ]
  },
  {
   "cell_type": "code",
   "execution_count": null,
   "id": "sixth-works",
   "metadata": {},
   "outputs": [],
   "source": [
    "(z_mat, y_mat) = np.meshgrid(z_grid, y_grid_new, indexing='ij')\n",
    "stateSpace = np.hstack([z_mat.reshape(-1,1,order='F'), y_mat.reshape(-1,1,order='F')])"
   ]
  },
  {
   "cell_type": "code",
   "execution_count": null,
   "id": "balanced-nepal",
   "metadata": {
    "code_folding": []
   },
   "outputs": [],
   "source": [
    "gamma2pMat = np.zeros((numdmg-1, numz, numy))\n",
    "gamma2pMat[0] = gamma2pList[0]\n",
    "gamma2pMat[1] = gamma2pList[1]\n",
    "dlambdaMat = dLambda(y_mat, 1, 0.00017675, 2*0.0022, np.sum(gamma2pMat*tran_prob, axis=0), 2)"
   ]
  },
  {
   "cell_type": "code",
   "execution_count": null,
   "id": "finnish-jacksonville",
   "metadata": {},
   "outputs": [],
   "source": [
    "dlambdaMat.shape"
   ]
  },
  {
   "cell_type": "code",
   "execution_count": null,
   "id": "complimentary-account",
   "metadata": {},
   "outputs": [],
   "source": [
    "target = np.array([v1,v2])\n",
    "target.shape, dlambdaMat.shape"
   ]
  },
  {
   "cell_type": "code",
   "execution_count": null,
   "id": "bright-prior",
   "metadata": {},
   "outputs": [],
   "source": [
    "V = np.sum(tran_prob*target, axis=0)\n",
    "terminal_v = v0[:,-1]"
   ]
  },
  {
   "cell_type": "code",
   "execution_count": null,
   "id": "approximate-tucson",
   "metadata": {},
   "outputs": [],
   "source": [
    "V = np.sum(tran_prob*target, axis=0)\n",
    "terminal_v = v0[:,-1]"
   ]
  },
  {
   "cell_type": "code",
   "execution_count": null,
   "id": "southeast-structure",
   "metadata": {},
   "outputs": [],
   "source": [
    "def pde_solver(phi_grid, z_grid, y_grid, terminal_condition, dlambdaMat, epsilon=.3,\n",
    "           delta=.01, eta=.032, \n",
    "           mu2=1.86/1000, sigma2=0.002177598558933893, rho=.9, ):\n",
    "    \n",
    "    n_y = len(y_grid)\n",
    "    n_z = len(z_grid)\n",
    "    hy = y_grid[1] - y_grid[0]\n",
    "    hz = z_grid[1] - z_grid[0]\n",
    "    LHS = np.zeros((n_y*n_z, n_y*n_z))\n",
    "    RHS = np.zeros(n_y*n_z)\n",
    "    for j in range(n_z):\n",
    "        for i in range(n_y):\n",
    "            idx = j*n_y + i\n",
    "            idx_yp1 = idx + 1\n",
    "            idx_ym1 = idx - 1\n",
    "            idx_zp1 = (j+1)*n_y + i\n",
    "            idx_zp2 = (j+2)*n_y + i\n",
    "            idx_zm1 = (j-1)*n_y + i\n",
    "            idx_zm2 = (j-2)*n_y + i\n",
    "            phi = phi_grid[idx]\n",
    "            z = z_grid[j]\n",
    "            condition = terminal_condition[j]\n",
    "            dlambda = dlambdaMat[j,i]\n",
    "            LHS[idx, idx] += - delta - 1/epsilon\n",
    "            temp_1 = -rho*(z-mu2)\n",
    "            var = z*sigma2**2/2\n",
    "            if j == 0:\n",
    "                LHS[idx, idx] += -temp_1/hz + var/(hz**2)  \n",
    "                LHS[idx, idx_zp1] += temp_1/hz - var*2/(hz**2)\n",
    "                LHS[idx, idx_zp2] += var/(hz**2)\n",
    "            elif j == n_z-1:\n",
    "                LHS[idx, idx] += temp_1/hz + var/(hz**2)\n",
    "                LHS[idx, idx_zm1] += -temp_1/hz - var*2/(hz**2)\n",
    "                LHS[idx, idx_zm2] += var/(hz**2)            \n",
    "            else:\n",
    "                LHS[idx, idx] += - var*2/(hz**2)\n",
    "                LHS[idx, idx_zp1] += temp_1/(2*hz) + var/(hz**2)\n",
    "                LHS[idx, idx_zm1] += -temp_1/(hz*2)+ var/(hz**2)\n",
    "            \n",
    "            if i == 0:\n",
    "                dphidy= (phi_grid[idx_yp1]-phi_grid[idx])/hy\n",
    "                e = - delta*eta/(dphidy*z + (eta-1)*dlambda*z)\n",
    "                LHS[idx, idx] +=  - z*e/hy\n",
    "                LHS[idx, idx_yp1] += z*e/hy\n",
    "                \n",
    "            elif i >= 1 and i< n_y-1:\n",
    "                dphidy = (phi_grid[idx_yp1]-phi_grid[idx_ym1])/(2*hy)\n",
    "                e = - delta*eta/(dphidy*z + (eta-1)*dlambda*z)\n",
    "                LHS[idx, idx_yp1] += z*e/(2*hy)\n",
    "                LHS[idx, idx_ym1] += -z*e/(2*hy)\n",
    "            elif i == n_y-1:\n",
    "                dphidy = (phi_grid[idx]-phi_grid[idx_ym1])/hy\n",
    "                e = - delta*eta/(dphidy*z+(eta-1)*dlambda*z)\n",
    "                LHS[idx, idx] += 1\n",
    "                LHS[idx, idx] +=   z*e/hy\n",
    "                LHS[idx, idx_ym1] += - z*e/hy\n",
    "                RHS[idx] += condition\n",
    "                \n",
    "            else:\n",
    "                raise Exception(\"error.\")\n",
    "            if e<=0:\n",
    "                e = 1e-8\n",
    "            RHS[idx] += -1/epsilon*phi - delta*eta*np.log(e) - (eta-1)*dlambda*z*e \n",
    "    phi_grid = np.linalg.solve(LHS, RHS)\n",
    "    return phi_grid"
   ]
  },
  {
   "cell_type": "code",
   "execution_count": null,
   "id": "wound-cyprus",
   "metadata": {},
   "outputs": [],
   "source": [
    "def false_transient(phi_grid, z_grid, y_grid, terminal_condition, dlambdaMat,epsilon=.3,\n",
    "                    delta=0.01, eta=0.032,\n",
    "                    mu2=1.86/1000, sigma2=0.002177598558933893, rho=.9, max_iter=10_000, tol=1e-8):\n",
    "    error = 1\n",
    "    episode = 0\n",
    "    while error > tol:\n",
    "        phi_grid_old = phi_grid.copy()\n",
    "        phi_grid = pde_solver(phi_grid_old,  z_grid, y_grid, terminal_condition, dlambdaMat, epsilon)\n",
    "        error = np.max(np.abs((phi_grid_old-phi_grid)/epsilon))\n",
    "        episode += 1\n",
    "        print('Episode: {}\\t error: {}'.format(episode,error))\n",
    "    return phi_grid"
   ]
  },
  {
   "cell_type": "code",
   "execution_count": null,
   "id": "spanish-encounter",
   "metadata": {
    "scrolled": true
   },
   "outputs": [],
   "source": [
    "phi = false_transient(V.reshape(len(stateSpace), order=\"F\"), z_grid, y_grid_new, terminal_v, dlambdaMat)"
   ]
  }
 ],
 "metadata": {
  "kernelspec": {
   "display_name": "ry38",
   "language": "python",
   "name": "ry38"
  },
  "language_info": {
   "codemirror_mode": {
    "name": "ipython",
    "version": 3
   },
   "file_extension": ".py",
   "mimetype": "text/x-python",
   "name": "python",
   "nbconvert_exporter": "python",
   "pygments_lexer": "ipython3",
   "version": "3.8.7"
  }
 },
 "nbformat": 4,
 "nbformat_minor": 5
}
