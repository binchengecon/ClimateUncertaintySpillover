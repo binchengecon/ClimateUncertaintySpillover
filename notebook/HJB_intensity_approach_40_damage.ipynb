{
 "cells": [
  {
   "cell_type": "code",
   "execution_count": 1,
   "metadata": {},
   "outputs": [],
   "source": [
    "import os, sys\n",
    "sys.path.append(os.path.dirname(os.getcwd()) + '/source')\n",
    "\n",
    "from model import ode_y, ode_y_parallel\n",
    "from simulation import simulation\n",
    "from utilities import find_nearest_value, compute_derivatives\n",
    "from solver import false_transient_one_iteration_python\n",
    "from numba import njit\n",
    "import numpy as np\n",
    "import pandas as pd\n",
    "import matplotlib.pyplot as plt\n",
    "import matplotlib as mpl\n",
    "mpl.rcParams['axes.spines.right'] = False\n",
    "mpl.rcParams['axes.spines.top'] = False"
   ]
  },
  {
   "cell_type": "markdown",
   "metadata": {},
   "source": [
    "## Solve HJB"
   ]
  },
  {
   "cell_type": "code",
   "execution_count": 4,
   "metadata": {},
   "outputs": [],
   "source": [
    "# Intensity parameter\n",
    "τ = 1.\n",
    "\n",
    "r1 = 19.5001\n",
    "r0 = .4\n",
    "\n",
    "# Robustness parameters\n",
    "ξ_b = 100000.\n",
    "ξ_p = 5.\n",
    "ξ_a = 1./100\n",
    "\n",
    "n_model = 40\n",
    "damage_setting={'γ_2p': np.linspace(0, 1./3, n_model),\n",
    "                'πd_o': np.ones(n_model)/n_model}\n",
    "\n",
    "# Model parameters\n",
    "η = .032\n",
    "δ = .01\n",
    "\n",
    "θ = pd.read_csv('../data/model144.csv', header=None).to_numpy()[:, 0]/1000.\n",
    "πc_o = np.ones_like(θ)/len(θ)\n",
    "σ_y = 1.2*np.mean(θ)\n",
    "\n",
    "γ_1 = 1.7675/10000\n",
    "γ_2 = .0022*2\n",
    "γ_2p = damage_setting['γ_2p']\n",
    "πd_o = damage_setting['πd_o']\n",
    "\n",
    "y_bar_upper = 2.0\n",
    "y_bar_lower = 1.5\n",
    "\n",
    "# Grid setting\n",
    "ϵ = 2.\n",
    "y_step = .02\n",
    "y_grid_long = np.arange(0., y_bar_upper*2+y_step, y_step)\n",
    "y_grid_short = np.arange(0., y_bar_upper+y_step, y_step)\n",
    "y_bar_lower_loc = find_nearest_value(y_grid_short, y_bar_lower)\n",
    "y_bar_upper_loc = find_nearest_value(y_grid_long, y_bar_upper)\n",
    "y_grid_tilde = y_grid_short[y_bar_lower_loc: y_bar_upper_loc+1]"
   ]
  },
  {
   "cell_type": "code",
   "execution_count": 6,
   "metadata": {},
   "outputs": [
    {
     "name": "stdout",
     "output_type": "stream",
     "text": [
      "-----Solving model 0-----\n",
      "-----Solving model 1-----\n",
      "-----Solving model 2-----\n",
      "-----Solving model 3-----\n",
      "-----Solving model 4-----\n",
      "-----Solving model 5-----\n",
      "-----Solving model 6-----\n",
      "-----Solving model 7-----\n",
      "-----Solving model 8-----\n",
      "-----Solving model 9-----\n",
      "-----Solving model 10-----\n",
      "-----Solving model 11-----\n",
      "-----Solving model 12-----\n",
      "-----Solving model 13-----\n",
      "-----Solving model 14-----\n",
      "-----Solving model 15-----\n",
      "-----Solving model 16-----\n",
      "-----Solving model 17-----\n",
      "-----Solving model 18-----\n",
      "-----Solving model 19-----\n",
      "-----Solving model 20-----\n",
      "-----Solving model 21-----\n",
      "-----Solving model 22-----\n",
      "-----Solving model 23-----\n",
      "-----Solving model 24-----\n",
      "-----Solving model 25-----\n",
      "-----Solving model 26-----\n",
      "-----Solving model 27-----\n",
      "-----Solving model 28-----\n",
      "-----Solving model 29-----\n",
      "-----Solving model 30-----\n",
      "-----Solving model 31-----\n",
      "-----Solving model 32-----\n",
      "-----Solving model 33-----\n",
      "-----Solving model 34-----\n",
      "-----Solving model 35-----\n",
      "-----Solving model 36-----\n",
      "-----Solving model 37-----\n",
      "-----Solving model 38-----\n",
      "-----Solving model 39-----\n"
     ]
    }
   ],
   "source": [
    "# Parallelly solve ODE\n",
    "model_args_list = []\n",
    "model_list = []\n",
    "\n",
    "for i in range(n_model):\n",
    "    temp_list = []\n",
    "    for y_jump in y_grid_tilde:\n",
    "        temp = (η, δ, θ, πc_o, σ_y, ξ_b, ξ_a, γ_1, γ_2, γ_2p[i], y_jump)\n",
    "        temp_list.append((y_grid_long, temp, None, ϵ, 1e-8, 2000, False))\n",
    "    model_args_list.append(temp_list)\n",
    "\n",
    "for i in range(n_model):\n",
    "    print('-----Solving model ' + str(i) + '-----')\n",
    "    temp_res = ode_y_parallel(model_args_list[i])\n",
    "    model_list.append(temp_res)"
   ]
  },
  {
   "cell_type": "code",
   "execution_count": 14,
   "metadata": {},
   "outputs": [],
   "source": [
    "# Prepare ϕ_m\n",
    "ϕ_m = np.zeros((n_model, len(y_grid_short)))\n",
    "e_m = np.zeros((n_model, len(y_grid_short)))\n",
    "for i in range(len(y_grid_tilde)):\n",
    "    for j in range(n_model):\n",
    "        ϕ_m[j, y_bar_lower_loc+i] = model_list[j][i]['v0'][y_bar_lower_loc+i]\n",
    "        e_m[j, y_bar_lower_loc+i] = model_list[j][i]['e_tilde'][y_bar_lower_loc+i]\n",
    "\n",
    "# Prepare v_guess\n",
    "v_guess = np.average(np.array([model_list[0][-1]['v0'][:y_bar_upper_loc+1],\n",
    "                               model_list[-1][-1]['v0'][:y_bar_upper_loc+1]]),\n",
    "                     weights=np.array([0.5, 0.5]), axis=0)"
   ]
  },
  {
   "cell_type": "code",
   "execution_count": 8,
   "metadata": {},
   "outputs": [
    {
     "data": {
      "text/plain": [
       "4.604324101228557"
      ]
     },
     "execution_count": 8,
     "metadata": {},
     "output_type": "execute_result"
    }
   ],
   "source": [
    "np.max(ϕ_m)"
   ]
  },
  {
   "cell_type": "code",
   "execution_count": 16,
   "metadata": {},
   "outputs": [],
   "source": [
    "def ode_y_jump_intensity_approach(y_grid, model_paras=(), v0=None, ϵ=.5, tol=1e-8,\n",
    "                                     max_iter=10_000, print_all=True):\n",
    "    η, δ, θ, πc_o, σ_y, ξ_1m, ξ_2m, ξ_a, γ_1, γ_2, y_bar_lower, y_bar_upper, ϕ_i, πd_o, r0, r1, τ = model_paras\n",
    "    Δ_y = y_grid[1] - y_grid[0]\n",
    "\n",
    "    if v0 is None:\n",
    "        v0 = - η * (y_grid + y_grid**2)\n",
    "\n",
    "    d_Λ = γ_1 + γ_2*y_grid\n",
    "    dd_Λ = γ_2\n",
    "\n",
    "    πd = np.ones((len(πd_o), len(y_grid)))\n",
    "    for i in range(πd.shape[0]):\n",
    "        πd[i] = πd_o[i]\n",
    "    πd_o = πd\n",
    "\n",
    "    πc = np.ones((len(πc_o), len(y_grid)))\n",
    "    θ_reshape = np.ones_like(πc)\n",
    "    for i in range(πc.shape[0]):\n",
    "        πc[i] = πc_o[i]\n",
    "        θ_reshape[i] = θ[i]\n",
    "    πc_o = πc.copy()\n",
    "    θ = θ_reshape\n",
    "\n",
    "    intensity = - r0 * (np.exp(- r1 / 2. * (y_grid-y_bar_lower)**2) - 1.) * (y_grid >= y_bar_lower)\\\n",
    "                + 0 * (y_grid < y_bar_lower)\n",
    "\n",
    "    e_tilde = 0.\n",
    "    \n",
    "    count = 0\n",
    "    error = 1.\n",
    "\n",
    "    while error > tol and count < max_iter:\n",
    "        v_old = v0.copy()\n",
    "        e_tilde_old = e_tilde\n",
    "\n",
    "        v0_dy = compute_derivatives(v0, 1, Δ_y, central_diff=False)\n",
    "        v0_dyy = compute_derivatives(v0, 2, Δ_y)\n",
    "\n",
    "        G = v0_dy + (η-1)/δ*d_Λ\n",
    "\n",
    "        if σ_y == 0:\n",
    "            e_tilde = -η/(G*np.sum(πc*θ, axis=0))\n",
    "        else:\n",
    "            temp = σ_y**2*(v0_dyy+(η-1.)/δ*dd_Λ-G**2/ξ_1m)\n",
    "            root = np.sum(πc*θ, axis=0)**2*G**2 - 4*η*temp\n",
    "            root[root<0] = 0.\n",
    "            e_tilde = (-G*np.sum(πc*θ, axis=0) - np.sqrt(root)) / (2*temp)\n",
    "\n",
    "        e_tilde[e_tilde<=0] = 1e-16\n",
    "        e_tilde = e_tilde *.5 + e_tilde_old*.5\n",
    " \n",
    "        log_πc_ratio = -G*e_tilde*θ/ξ_a\n",
    "        πc_ratio = log_πc_ratio - np.max(log_πc_ratio, axis=0)\n",
    "        πc = np.exp(πc_ratio) * πc_o\n",
    "        πc = πc/np.sum(πc, axis=0)\n",
    "        πc[πc<=0] = 1e-16        \n",
    "        c_entropy = np.sum(πc*(np.log(πc)-np.log(πc_o)), axis=0)\n",
    "\n",
    "#         g = np.exp(1./ξ_2m*(v0-ϕ_i))\n",
    "\n",
    "#         A = np.ones_like(y_grid)*(-δ)\n",
    "#         B = e_tilde * np.sum(πc*θ, axis=0)\n",
    "#         C = .5 * σ_y**2 * e_tilde**2\n",
    "#         D = η*np.log(e_tilde) - C*G**2/ξ_1m + (η-1)/δ*d_Λ*e_tilde*np.sum(πc*θ, axis=0)\\\n",
    "#             + .5*(η-1)/δ*dd_Λ*σ_y**2*e_tilde**2 + ξ_a*c_entropy\\\n",
    "#             - ξ_2m * intensity * (np.sum(πd_o * np.exp(-1./ξ_2m*ϕ_i), axis=0) - np.exp(-1./ξ_2m * v0)) \\\n",
    "#                 / np.exp(-1./ξ_2m * v0)\n",
    "\n",
    "        g = np.exp(1. / ξ_2m * (v0 - ϕ_i))\n",
    "\n",
    "        A = np.ones_like(y_grid)*(-δ) - intensity * np.sum(πd_o * g, axis=0)\n",
    "        B = e_tilde * np.sum(πc*θ, axis=0)\n",
    "        C = .5 * σ_y**2 * e_tilde**2\n",
    "        D = η*np.log(e_tilde) - C*G**2/ξ_1m + (η-1)/δ*d_Λ*e_tilde*np.sum(πc*θ, axis=0)\\\n",
    "            + .5*(η-1)/δ*dd_Λ*σ_y**2*e_tilde**2 + ξ_a*c_entropy\\\n",
    "            + ξ_2m * intensity * np.sum(πd_o * (1 - g + g * np.log(g)), axis=0)\\\n",
    "            + intensity * np.sum(πd_o * g * ϕ_i, axis=0)\n",
    "\n",
    "        v0 = false_transient_one_iteration_python(A, B, C, D, v0, ε, Δ_y, (0, 0), (False, False))\n",
    "\n",
    "        rhs_error = A*v0 + B*v0_dy + C*v0_dyy + D\n",
    "        rhs_error = np.max(abs(rhs_error))\n",
    "        lhs_error = np.max(abs((v0 - v_old)/ϵ))\n",
    "        error = lhs_error\n",
    "        count += 1\n",
    "        if print_all:\n",
    "            print(\"Iteration %s: LHS Error: %s; RHS Error %s\" % (count, lhs_error, rhs_error))\n",
    "\n",
    "    h = -(v0_dy+(η-1)/δ*d_Λ)*e_tilde*σ_y/ξ_1m\n",
    "    πd = g / np.sum(πd_o * g, axis=0) * πd_o\n",
    "    \n",
    "    \n",
    "    print(\"Converged. Total iteration %s: LHS Error: %s; RHS Error %s\" % (count, lhs_error, rhs_error))     \n",
    "    res = {'v0': v0,\n",
    "           'v0_dy': v0_dy,\n",
    "           'v0_dyy': v0_dyy,\n",
    "           'e_tilde': e_tilde,\n",
    "           'y_grid': y_grid,\n",
    "           'intensity': intensity,\n",
    "           'πc': πc,\n",
    "           'πd': πd,\n",
    "           'g': g,\n",
    "           'h': h,\n",
    "           'θ': θ[:, 0],\n",
    "           'σ_y': σ_y}\n",
    "    return res"
   ]
  },
  {
   "cell_type": "code",
   "execution_count": 17,
   "metadata": {},
   "outputs": [
    {
     "name": "stdout",
     "output_type": "stream",
     "text": [
      "Iteration 1: LHS Error: 0.4970707527469629; RHS Error 0.49727862651266436\n",
      "Iteration 2: LHS Error: 0.3609109226203546; RHS Error 0.36220505024688787\n",
      "Iteration 3: LHS Error: 0.2740901056472267; RHS Error 0.27656309936050866\n",
      "Iteration 4: LHS Error: 0.217868684860008; RHS Error 0.22093267052330307\n",
      "Iteration 5: LHS Error: 0.18010133953239404; RHS Error 0.18399708461318431\n",
      "Iteration 6: LHS Error: 0.15406092903582258; RHS Error 0.15777432300844607\n",
      "Iteration 7: LHS Error: 0.13504791718167808; RHS Error 0.13883521898447843\n",
      "Iteration 8: LHS Error: 0.12049782667206332; RHS Error 0.1247999756306126\n",
      "Iteration 9: LHS Error: 0.1094942971875641; RHS Error 0.11384997497199066\n",
      "Iteration 10: LHS Error: 0.10076835183866506; RHS Error 0.10446024461074199\n",
      "Iteration 11: LHS Error: 0.09329492849520538; RHS Error 0.09773167372659504\n",
      "Iteration 12: LHS Error: 0.08743815060591498; RHS Error 0.09136309184794028\n",
      "Iteration 13: LHS Error: 0.08240726936087306; RHS Error 0.08647319638724207\n",
      "Iteration 14: LHS Error: 0.07763376545663969; RHS Error 0.08225244081941835\n",
      "Iteration 15: LHS Error: 0.07442119924402002; RHS Error 0.0781585195730544\n",
      "Iteration 16: LHS Error: 0.07117568693372256; RHS Error 0.07475180702505022\n",
      "Iteration 17: LHS Error: 0.0679703660189579; RHS Error 0.0721592824273829\n",
      "Iteration 18: LHS Error: 0.06560046864010483; RHS Error 0.06958400573136127\n",
      "Iteration 19: LHS Error: 0.0636082587457194; RHS Error 0.06702856343272744\n",
      "Iteration 20: LHS Error: 0.061583560968397455; RHS Error 0.064491620502879\n",
      "Iteration 21: LHS Error: 0.059508394375821005; RHS Error 0.06258786596589073\n",
      "Iteration 22: LHS Error: 0.05764861645998476; RHS Error 0.06106726124889596\n",
      "Iteration 23: LHS Error: 0.05645562419112604; RHS Error 0.05951888123456005\n",
      "Iteration 24: LHS Error: 0.05520298052620043; RHS Error 0.057943330399164994\n",
      "Iteration 25: LHS Error: 0.05388902643981219; RHS Error 0.05633945391766075\n",
      "Iteration 26: LHS Error: 0.05251030598719608; RHS Error 0.05470456832511784\n",
      "Iteration 27: LHS Error: 0.05106156285353336; RHS Error 0.05303422437951318\n",
      "Iteration 28: LHS Error: 0.05027555510458259; RHS Error 0.05168098163161902\n",
      "Iteration 29: LHS Error: 0.049451652447593863; RHS Error 0.05073257693212608\n",
      "Iteration 30: LHS Error: 0.048561748661041904; RHS Error 0.04973744205289795\n",
      "Iteration 31: LHS Error: 0.04760115650642205; RHS Error 0.04869211284280355\n",
      "Iteration 32: LHS Error: 0.046563568483006135; RHS Error 0.047591649347920296\n",
      "Iteration 33: LHS Error: 0.04550659964937864; RHS Error 0.04642941021947093\n",
      "Iteration 34: LHS Error: 0.044904578002282314; RHS Error 0.04519680516416844\n",
      "Iteration 35: LHS Error: 0.04423877133476162; RHS Error 0.04388301760066081\n",
      "Iteration 36: LHS Error: 0.04350357136599392; RHS Error 0.04247471008359463\n",
      "Iteration 37: LHS Error: 0.04269199305405125; RHS Error 0.041504229599031224\n",
      "Iteration 38: LHS Error: 0.04179606931848978; RHS Error 0.04069786157831435\n",
      "Iteration 39: LHS Error: 0.04105284107438534; RHS Error 0.039814393457195764\n",
      "Iteration 40: LHS Error: 0.04049326390669972; RHS Error 0.03884370940440575\n",
      "Iteration 41: LHS Error: 0.03986687336190764; RHS Error 0.03777381613784253\n",
      "Iteration 42: LHS Error: 0.039166653686089736; RHS Error 0.03673419641929513\n",
      "Iteration 43: LHS Error: 0.038384764528979876; RHS Error 0.03608479666712097\n",
      "Iteration 44: LHS Error: 0.037744804634652684; RHS Error 0.035357614077210935\n",
      "Iteration 45: LHS Error: 0.03723036207658237; RHS Error 0.03491114806412375\n",
      "Iteration 46: LHS Error: 0.03665029213902815; RHS Error 0.03442696256954725\n",
      "Iteration 47: LHS Error: 0.03599757896645461; RHS Error 0.03388150310242984\n",
      "Iteration 48: LHS Error: 0.03528168250935915; RHS Error 0.03326750813225585\n",
      "Iteration 49: LHS Error: 0.03483510245234789; RHS Error 0.03272982042603101\n",
      "Iteration 50: LHS Error: 0.034329236389757156; RHS Error 0.032304367220979444\n",
      "Iteration 51: LHS Error: 0.0337575191397288; RHS Error 0.031823246258575424\n",
      "Iteration 52: LHS Error: 0.033112637054790284; RHS Error 0.03127991305382852\n",
      "Iteration 53: LHS Error: 0.032669554360610586; RHS Error 0.03075508824081554\n",
      "Iteration 54: LHS Error: 0.032207911122632105; RHS Error 0.03036454624389498\n",
      "Iteration 55: LHS Error: 0.031685105687335735; RHS Error 0.029922089228049238\n",
      "Iteration 56: LHS Error: 0.031094437583578882; RHS Error 0.029421648997241184\n",
      "Iteration 57: LHS Error: 0.03070196082278076; RHS Error 0.028958221498531996\n",
      "Iteration 58: LHS Error: 0.030264804607256446; RHS Error 0.028586357570499883\n",
      "Iteration 59: LHS Error: 0.02976951097703817; RHS Error 0.02816494096941648\n",
      "Iteration 60: LHS Error: 0.02927510741043582; RHS Error 0.027688221607481155\n",
      "Iteration 61: LHS Error: 0.028898918822735986; RHS Error 0.027309081768174696\n",
      "Iteration 62: LHS Error: 0.02847191234285562; RHS Error 0.026944137749451116\n",
      "Iteration 63: LHS Error: 0.02798857870871907; RHS Error 0.02653091139639761\n",
      "Iteration 64: LHS Error: 0.027606411419204502; RHS Error 0.026103862895480705\n",
      "Iteration 65: LHS Error: 0.02722876393486051; RHS Error 0.025779761573799697\n",
      "Iteration 66: LHS Error: 0.026800910375989417; RHS Error 0.02541263308827097\n",
      "Iteration 67: LHS Error: 0.02639196690155532; RHS Error 0.024997631923258348\n",
      "Iteration 68: LHS Error: 0.026049978199707224; RHS Error 0.024678762866542713\n",
      "Iteration 69: LHS Error: 0.025662176112628776; RHS Error 0.02434530635198878\n",
      "Iteration 70: LHS Error: 0.025251943166682222; RHS Error 0.023968481727797187\n",
      "Iteration 71: LHS Error: 0.02493115268478774; RHS Error 0.02364122418297678\n",
      "Iteration 72: LHS Error: 0.02458146952347251; RHS Error 0.023332015434217798\n",
      "Iteration 73: LHS Error: 0.024188584117872836; RHS Error 0.022983320133828273\n",
      "Iteration 74: LHS Error: 0.023891272653919327; RHS Error 0.02266382556245316\n",
      "Iteration 75: LHS Error: 0.023559218468178766; RHS Error 0.02237267123236681\n",
      "Iteration 76: LHS Error: 0.02318986100970588; RHS Error 0.022044354817252407\n",
      "Iteration 77: LHS Error: 0.022906581308482776; RHS Error 0.021742573363938287\n",
      "Iteration 78: LHS Error: 0.022586156609272434; RHS Error 0.02146389186108833\n",
      "Iteration 79: LHS Error: 0.022246671010173635; RHS Error 0.02114983719029556\n",
      "Iteration 80: LHS Error: 0.021971846491699143; RHS Error 0.020871627229765138\n",
      "Iteration 81: LHS Error: 0.02166163430282997; RHS Error 0.020601026239968255\n",
      "Iteration 82: LHS Error: 0.02135502256816979; RHS Error 0.020296570733874565\n",
      "Iteration 83: LHS Error: 0.021085001282016513; RHS Error 0.020045425480721257\n",
      "Iteration 84: LHS Error: 0.020780879391325335; RHS Error 0.01977948137517866\n",
      "Iteration 85: LHS Error: 0.020508584165429777; RHS Error 0.019493891272071566\n",
      "Iteration 86: LHS Error: 0.020240366163715162; RHS Error 0.01925872852599963\n",
      "Iteration 87: LHS Error: 0.01994088689862128; RHS Error 0.01899456898374099\n",
      "Iteration 88: LHS Error: 0.019701516977434164; RHS Error 0.01874282684543501\n",
      "Iteration 89: LHS Error: 0.01943254650355053; RHS Error 0.018506540629917405\n",
      "Iteration 90: LHS Error: 0.019171115092393887; RHS Error 0.01824169851216486\n",
      "Iteration 91: LHS Error: 0.01892842996834876; RHS Error 0.018023541344495866\n",
      "Iteration 92: LHS Error: 0.018656493254290307; RHS Error 0.017784155545600602\n",
      "Iteration 93: LHS Error: 0.018432153948807706; RHS Error 0.017549916146545802\n",
      "Iteration 94: LHS Error: 0.018184387748825248; RHS Error 0.01733143216529788\n",
      "Iteration 95: LHS Error: 0.01794714431849842; RHS Error 0.017088343611983782\n",
      "Iteration 96: LHS Error: 0.017719202487777252; RHS Error 0.016887122563930317\n",
      "Iteration 97: LHS Error: 0.017475409269135156; RHS Error 0.016662221329348623\n",
      "Iteration 98: LHS Error: 0.017263585991045716; RHS Error 0.016453478345398023\n",
      "Iteration 99: LHS Error: 0.017027303311272224; RHS Error 0.016244664458262947\n",
      "Iteration 100: LHS Error: 0.016819571527218358; RHS Error 0.016031758057161685\n",
      "Iteration 101: LHS Error: 0.01659897043530023; RHS Error 0.015836358047060177\n",
      "Iteration 102: LHS Error: 0.016388328206006886; RHS Error 0.015622676299147556\n",
      "Iteration 103: LHS Error: 0.016180738446956777; RHS Error 0.015438504490793863\n",
      "Iteration 104: LHS Error: 0.01597011543406568; RHS Error 0.015233463478522065\n",
      "Iteration 105: LHS Error: 0.015773402124306557; RHS Error 0.015051718319381568\n",
      "Iteration 106: LHS Error: 0.01556498530635908; RHS Error 0.014857280387714555\n",
      "Iteration 107: LHS Error: 0.01537736753394725; RHS Error 0.014676227840200826\n",
      "Iteration 108: LHS Error: 0.015172750898924114; RHS Error 0.014490682130212325\n",
      "Iteration 109: LHS Error: 0.014992719395749088; RHS Error 0.014311996215966544\n",
      "Iteration 110: LHS Error: 0.014793048298296085; RHS Error 0.014133893586954764\n",
      "Iteration 111: LHS Error: 0.014619306823574707; RHS Error 0.013958802452583338\n",
      "Iteration 112: LHS Error: 0.014426438815036136; RHS Error 0.01378690391172039\n",
      "Iteration 113: LHS Error: 0.014256803218729797; RHS Error 0.013616297383255663\n",
      "Iteration 114: LHS Error: 0.01406983320843036; RHS Error 0.013449532572130683\n",
      "Iteration 115: LHS Error: 0.013904792100538632; RHS Error 0.01328404135469359\n",
      "Iteration 116: LHS Error: 0.013723921199417344; RHS Error 0.013121477108383808\n",
      "Iteration 117: LHS Error: 0.013563022168930239; RHS Error 0.01296154293538744\n",
      "Iteration 118: LHS Error: 0.013389210674090712; RHS Error 0.012802380288584637\n",
      "Iteration 119: LHS Error: 0.013231113557033769; RHS Error 0.012648323388915327\n",
      "Iteration 120: LHS Error: 0.013064387341881645; RHS Error 0.012491871230757984\n",
      "Iteration 121: LHS Error: 0.012908442481435856; RHS Error 0.012343892234753039\n",
      "Iteration 122: LHS Error: 0.01274921755923808; RHS Error 0.012189519623782431\n",
      "Iteration 123: LHS Error: 0.012594748342285023; RHS Error 0.012047789738770305\n",
      "Iteration 124: LHS Error: 0.012442145152646855; RHS Error 0.011897376015059094\n",
      "Iteration 125: LHS Error: 0.012288621537915212; RHS Error 0.011759448702057619\n",
      "Iteration 126: LHS Error: 0.01214303797829519; RHS Error 0.01161592267879187\n",
      "Iteration 127: LHS Error: 0.011990721759828293; RHS Error 0.011478274421581065\n",
      "Iteration 128: LHS Error: 0.011851715486287606; RHS Error 0.011341586450081494\n",
      "Iteration 129: LHS Error: 0.011706435327135; RHS Error 0.01120389521404351\n",
      "Iteration 130: LHS Error: 0.011566879624431259; RHS Error 0.011073823300166472\n",
      "Iteration 131: LHS Error: 0.011428773490063993; RHS Error 0.010938715737370201\n",
      "Iteration 132: LHS Error: 0.01128828953590677; RHS Error 0.010812040199057633\n",
      "Iteration 133: LHS Error: 0.011157161013454875; RHS Error 0.010683636552562784\n",
      "Iteration 134: LHS Error: 0.011021768891555261; RHS Error 0.010555734375378281\n",
      "Iteration 135: LHS Error: 0.010891076506448716; RHS Error 0.010433835095390365\n",
      "Iteration 136: LHS Error: 0.01076258851857581; RHS Error 0.010308653208207619\n",
      "Iteration 137: LHS Error: 0.01063120727814848; RHS Error 0.01018882857705844\n",
      "Iteration 138: LHS Error: 0.010508190873184997; RHS Error 0.01007001367609446\n"
     ]
    },
    {
     "name": "stdout",
     "output_type": "stream",
     "text": [
      "Iteration 139: LHS Error: 0.010383505504387713; RHS Error 0.009948989821472354\n",
      "Iteration 140: LHS Error: 0.010258096872949096; RHS Error 0.009835491178068943\n",
      "Iteration 141: LHS Error: 0.01013986016373325; RHS Error 0.009720599027456062\n",
      "Iteration 142: LHS Error: 0.010019652996630768; RHS Error 0.00960464372413565\n",
      "Iteration 143: LHS Error: 0.009899833406781688; RHS Error 0.00949567075679706\n",
      "Iteration 144: LHS Error: 0.009785787271634483; RHS Error 0.009385175857710294\n",
      "Iteration 145: LHS Error: 0.009670392968459396; RHS Error 0.00927378466616608\n",
      "Iteration 146: LHS Error: 0.009554871430145884; RHS Error 0.009168932598680062\n",
      "Iteration 147: LHS Error: 0.00944536830434961; RHS Error 0.009063065268727667\n",
      "Iteration 148: LHS Error: 0.009334973911661493; RHS Error 0.008956671247611792\n",
      "Iteration 149: LHS Error: 0.009224428458359135; RHS Error 0.008854584513054473\n",
      "Iteration 150: LHS Error: 0.009117665442114564; RHS Error 0.008753388993191329\n",
      "Iteration 151: LHS Error: 0.009012330210754538; RHS Error 0.00865195869079173\n",
      "Iteration 152: LHS Error: 0.008907063978841112; RHS Error 0.00855181948262694\n",
      "Iteration 153: LHS Error: 0.008801897401845782; RHS Error 0.008455265626659311\n",
      "Iteration 154: LHS Error: 0.008701504284436279; RHS Error 0.008358664777901023\n",
      "Iteration 155: LHS Error: 0.008601625963855941; RHS Error 0.008262235474983101\n",
      "Iteration 156: LHS Error: 0.00850068640173296; RHS Error 0.008167705063291952\n",
      "Iteration 157: LHS Error: 0.008401413198577234; RHS Error 0.008075735301459094\n",
      "Iteration 158: LHS Error: 0.008305733007099914; RHS Error 0.007984034809911\n",
      "Iteration 159: LHS Error: 0.008211334739737008; RHS Error 0.007892776750642032\n",
      "Iteration 160: LHS Error: 0.008115419434591153; RHS Error 0.0078021853734375965\n",
      "Iteration 161: LHS Error: 0.008021187274948716; RHS Error 0.007714958156106462\n",
      "Iteration 162: LHS Error: 0.007929187686614547; RHS Error 0.007628194910453384\n",
      "Iteration 163: LHS Error: 0.007838928217798635; RHS Error 0.007542022760795353\n",
      "Iteration 164: LHS Error: 0.007749283391708772; RHS Error 0.007456547470494436\n",
      "Iteration 165: LHS Error: 0.007660356314578731; RHS Error 0.007371856524111445\n",
      "Iteration 166: LHS Error: 0.007572232322629713; RHS Error 0.007289526076711274\n",
      "Iteration 167: LHS Error: 0.007484981097920951; RHS Error 0.007208186285721008\n",
      "Iteration 168: LHS Error: 0.0074002198306128975; RHS Error 0.0071275744676077765\n",
      "Iteration 169: LHS Error: 0.007316263159031333; RHS Error 0.007047751171629264\n",
      "Iteration 170: LHS Error: 0.007233105782836979; RHS Error 0.006968765393286808\n",
      "Iteration 171: LHS Error: 0.0071507955641418874; RHS Error 0.006890656118012345\n",
      "Iteration 172: LHS Error: 0.007069370568944855; RHS Error 0.006813453651664178\n",
      "Iteration 173: LHS Error: 0.006988860369330219; RHS Error 0.006739829282870938\n",
      "Iteration 174: LHS Error: 0.006909287163311184; RHS Error 0.006707209687019877\n",
      "Iteration 175: LHS Error: 0.0068306667738538; RHS Error 0.006671501152244574\n",
      "Iteration 176: LHS Error: 0.00675342289841474; RHS Error 0.0066324929053480225\n",
      "Iteration 177: LHS Error: 0.006677275666024052; RHS Error 0.006589960242589177\n",
      "Iteration 178: LHS Error: 0.0066019833318504695; RHS Error 0.00654366529317478\n",
      "Iteration 179: LHS Error: 0.00652754884917961; RHS Error 0.006493358204615718\n",
      "Iteration 180: LHS Error: 0.006453962484962439; RHS Error 0.006438778820120047\n",
      "Iteration 181: LHS Error: 0.006381175357927482; RHS Error 0.006379658918741524\n",
      "Iteration 182: LHS Error: 0.006309008910970526; RHS Error 0.0063157250865837344\n",
      "Iteration 183: LHS Error: 0.0062338411341169575; RHS Error 0.0062467022808416345\n",
      "Iteration 184: LHS Error: 0.006152994656246413; RHS Error 0.006172318136979341\n",
      "Iteration 185: LHS Error: 0.006066216252261114; RHS Error 0.006092308051748971\n",
      "Iteration 186: LHS Error: 0.005973273078206276; RHS Error 0.006006421050358826\n",
      "Iteration 187: LHS Error: 0.005873960073031981; RHS Error 0.00591442641411663\n",
      "Iteration 188: LHS Error: 0.005768107957364599; RHS Error 0.005816121005149624\n",
      "Iteration 189: LHS Error: 0.0056555916613616475; RHS Error 0.00571133717762054\n",
      "Iteration 190: LHS Error: 0.00553633895483685; RHS Error 0.005599951111366075\n",
      "Iteration 191: LHS Error: 0.005410338993518948; RHS Error 0.005481891346101012\n",
      "Iteration 192: LHS Error: 0.005277650439976078; RHS Error 0.005357147235467971\n",
      "Iteration 193: LHS Error: 0.005138408772062064; RHS Error 0.005225776984751504\n",
      "Iteration 194: LHS Error: 0.00499283236066006; RHS Error 0.005087914889376058\n",
      "Iteration 195: LHS Error: 0.0048412268919468815; RHS Error 0.00494377735982561\n",
      "Iteration 196: LHS Error: 0.004683987724232175; RHS Error 0.004793667308709795\n",
      "Iteration 197: LHS Error: 0.004521599824673039; RHS Error 0.004637976493552576\n",
      "Iteration 198: LHS Error: 0.0043546350110057475; RHS Error 0.004477185458648711\n",
      "Iteration 199: LHS Error: 0.004183746340954642; RHS Error 0.004311860803222073\n",
      "Iteration 200: LHS Error: 0.004009659632946416; RHS Error 0.004142649619394409\n",
      "Iteration 201: LHS Error: 0.0038331622602800763; RHS Error 0.003970271086830221\n",
      "Iteration 202: LHS Error: 0.003655089523502575; RHS Error 0.0037955053718760207\n",
      "Iteration 203: LHS Error: 0.003476309057743876; RHS Error 0.003724772465852448\n",
      "Iteration 204: LHS Error: 0.0032977038560746408; RHS Error 0.0037247182676511045\n",
      "Iteration 205: LHS Error: 0.0031201545515466833; RHS Error 0.0037246541667519326\n",
      "Iteration 206: LHS Error: 0.0029445214261167862; RHS Error 0.003724602425117962\n",
      "Iteration 207: LHS Error: 0.0027716243659838824; RHS Error 0.003724597986388807\n",
      "Iteration 208: LHS Error: 0.0026020373505462047; RHS Error 0.0037244135072086043\n",
      "Iteration 209: LHS Error: 0.002437160389400006; RHS Error 0.003726483900803622\n",
      "Iteration 210: LHS Error: 0.002276915581131078; RHS Error 0.003726723400469839\n",
      "Iteration 211: LHS Error: 0.002122019049739521; RHS Error 0.0037266183668240166\n",
      "Iteration 212: LHS Error: 0.0019729092034355133; RHS Error 0.003726389736014954\n",
      "Iteration 213: LHS Error: 0.0018303762792637457; RHS Error 0.0037297063963002905\n",
      "Iteration 214: LHS Error: 0.0016942692152888128; RHS Error 0.0037303013222375614\n",
      "Iteration 215: LHS Error: 0.0015656811598896425; RHS Error 0.0037318290420100056\n",
      "Iteration 216: LHS Error: 0.0014424302012123746; RHS Error 0.0037278467386606465\n",
      "Iteration 217: LHS Error: 0.0013269515177842806; RHS Error 0.0037288658783113313\n",
      "Iteration 218: LHS Error: 0.0012183757987731525; RHS Error 0.0037299762497624636\n",
      "Iteration 219: LHS Error: 0.0011166401615039234; RHS Error 0.0037311027338700897\n",
      "Iteration 220: LHS Error: 0.0010218374312822576; RHS Error 0.003733341019826364\n",
      "Iteration 221: LHS Error: 0.0009333018887831557; RHS Error 0.003729397780770499\n",
      "Iteration 222: LHS Error: 0.0008510629057996155; RHS Error 0.003726411726999522\n",
      "Iteration 223: LHS Error: 0.0007748682494943537; RHS Error 0.0037244948405645364\n",
      "Iteration 224: LHS Error: 0.0007044508144602446; RHS Error 0.003723664833624761\n",
      "Iteration 225: LHS Error: 0.0006395250681592302; RHS Error 0.003723781684844614\n",
      "Iteration 226: LHS Error: 0.000579793630183012; RHS Error 0.0037246427068255705\n",
      "Iteration 227: LHS Error: 0.0005249557468589572; RHS Error 0.00372602457640437\n",
      "Iteration 228: LHS Error: 0.0004752310044624508; RHS Error 0.0037292237046942997\n",
      "Iteration 229: LHS Error: 0.00042833037269041085; RHS Error 0.0037231428606982475\n",
      "Iteration 230: LHS Error: 0.00038648428750764907; RHS Error 0.0037306833263052175\n",
      "Iteration 231: LHS Error: 0.00034836888781786257; RHS Error 0.0037366928180791945\n",
      "Iteration 232: LHS Error: 0.00031398872881371886; RHS Error 0.003741305095932103\n",
      "Iteration 233: LHS Error: 0.0002819684991877125; RHS Error 0.003738288365310545\n",
      "Iteration 234: LHS Error: 0.00025408328744891406; RHS Error 0.0037420403170544334\n",
      "Iteration 235: LHS Error: 0.00022723536533142408; RHS Error 0.0037333763112073065\n",
      "Iteration 236: LHS Error: 0.00020424270446550707; RHS Error 0.0037366083944758294\n",
      "Iteration 237: LHS Error: 0.00018266548462353427; RHS Error 0.003733302187801227\n",
      "Iteration 238: LHS Error: 0.00016415894242349793; RHS Error 0.0037359125922767564\n",
      "Iteration 239: LHS Error: 0.00014623005551417378; RHS Error 0.003729709198609474\n",
      "Iteration 240: LHS Error: 0.00013081400880832206; RHS Error 0.0037318701595458192\n",
      "Iteration 241: LHS Error: 0.00011684681150114784; RHS Error 0.0037318435395811145\n",
      "Iteration 242: LHS Error: 0.00010429181873128357; RHS Error 0.0037319081597782452\n",
      "Iteration 243: LHS Error: 9.3020938193078e-05; RHS Error 0.003732083410924611\n",
      "Iteration 244: LHS Error: 8.291392153658705e-05; RHS Error 0.0037323332141802404\n",
      "Iteration 245: LHS Error: 7.385960087269439e-05; RHS Error 0.003732615467535748\n",
      "Iteration 246: LHS Error: 6.57559164114474e-05; RHS Error 0.0037328962084155343\n",
      "Iteration 247: LHS Error: 5.850952288444233e-05; RHS Error 0.00373315232525738\n",
      "Iteration 248: LHS Error: 5.2035264796579384e-05; RHS Error 0.0037333705521129384\n",
      "Iteration 249: LHS Error: 4.625561698290426e-05; RHS Error 0.003733545312982707\n",
      "Iteration 250: LHS Error: 4.110012635560878e-05; RHS Error 0.0037336764378682608\n",
      "Iteration 251: LHS Error: 3.6504870161380154e-05; RHS Error 0.003733767175725475\n",
      "Iteration 252: LHS Error: 3.241193785363805e-05; RHS Error 0.0037338226457159923\n",
      "Iteration 253: LHS Error: 2.8768940147472222e-05; RHS Error 0.003733848726854387\n",
      "Iteration 254: LHS Error: 2.5528546840902777e-05; RHS Error 0.003733851322398618\n",
      "Iteration 255: LHS Error: 2.2648053912277533e-05; RHS Error 0.0037338359155352496\n",
      "Iteration 256: LHS Error: 2.008897976235602e-05; RHS Error 0.0037338073356959142\n"
     ]
    },
    {
     "name": "stdout",
     "output_type": "stream",
     "text": [
      "Iteration 257: LHS Error: 1.781668997313801e-05; RHS Error 0.0037337696678800894\n",
      "Iteration 258: LHS Error: 1.580004963752657e-05; RHS Error 0.003733726252749786\n",
      "Iteration 259: LHS Error: 1.4011102165589762e-05; RHS Error 0.0037336797396471666\n",
      "Iteration 260: LHS Error: 1.24247732866678e-05; RHS Error 0.0037336321666638222\n",
      "Iteration 261: LHS Error: 1.1018598859102724e-05; RHS Error 0.0037335850507105167\n",
      "Iteration 262: LHS Error: 9.772475165092942e-06; RHS Error 0.003733539477263806\n",
      "Iteration 263: LHS Error: 8.668430240277303e-06; RHS Error 0.003733496183672906\n",
      "Iteration 264: LHS Error: 7.690414840055837e-06; RHS Error 0.0037334556331329247\n",
      "Iteration 265: LHS Error: 6.824111708603198e-06; RHS Error 0.003733418078101479\n",
      "Iteration 266: LHS Error: 6.056761837847091e-06; RHS Error 0.003733383613315752\n",
      "Iteration 267: LHS Error: 5.377006390361316e-06; RHS Error 0.00373335221901204\n",
      "Iteration 268: LHS Error: 4.774743175062213e-06; RHS Error 0.003733323795460354\n",
      "Iteration 269: LHS Error: 4.240996428706012e-06; RHS Error 0.003733298190012023\n",
      "Iteration 270: LHS Error: 3.767798909315445e-06; RHS Error 0.0037332752177547876\n",
      "Iteration 271: LHS Error: 3.348085245491461e-06; RHS Error 0.0037332546770362657\n",
      "Iteration 272: LHS Error: 2.9755956196808597e-06; RHS Error 0.003733236360710622\n",
      "Iteration 273: LHS Error: 2.6447888430425337e-06; RHS Error 0.003733220064115736\n",
      "Iteration 274: LHS Error: 2.3507641184750128e-06; RHS Error 0.003733205590437702\n",
      "Iteration 275: LHS Error: 2.089190599185997e-06; RHS Error 0.0037331927541275206\n",
      "Iteration 276: LHS Error: 1.8562441326253065e-06; RHS Error 0.003733181382842045\n",
      "Iteration 277: LHS Error: 1.6485505094365749e-06; RHS Error 0.0037331713183268236\n",
      "Iteration 278: LHS Error: 1.463134590373727e-06; RHS Error 0.003733162416566585\n",
      "Iteration 279: LHS Error: 1.29737482001957e-06; RHS Error 0.0037331545474138597\n",
      "Iteration 280: LHS Error: 1.1489625597604913e-06; RHS Error 0.003733147593884094\n",
      "Iteration 281: LHS Error: 1.0158658021452993e-06; RHS Error 0.003733141451287683\n",
      "Iteration 282: LHS Error: 9.553052047195365e-07; RHS Error 0.0037331360262355465\n",
      "Iteration 283: LHS Error: 9.403612404312867e-07; RHS Error 0.0037331312356388285\n",
      "Iteration 284: LHS Error: 9.268271559115249e-07; RHS Error 0.0037331270057048074\n",
      "Iteration 285: LHS Error: 9.131803988537968e-07; RHS Error 0.0037331232709966675\n",
      "Iteration 286: LHS Error: 8.992150659636877e-07; RHS Error 0.0037331199735637505\n",
      "Iteration 287: LHS Error: 8.86745125772137e-07; RHS Error 0.0037331170620803975\n",
      "Iteration 288: LHS Error: 8.737497032562658e-07; RHS Error 0.0037331144911619957\n",
      "Iteration 289: LHS Error: 8.609791719571547e-07; RHS Error 0.00373311222065216\n",
      "Iteration 290: LHS Error: 8.490646501435606e-07; RHS Error 0.003733110215074581\n",
      "Iteration 291: LHS Error: 8.367773145501189e-07; RHS Error 0.003733108443053544\n",
      "Iteration 292: LHS Error: 8.248900345009247e-07; RHS Error 0.0037331068768760856\n",
      "Iteration 293: LHS Error: 8.135889379978778e-07; RHS Error 0.0037331054920598378\n",
      "Iteration 294: LHS Error: 8.02022260160129e-07; RHS Error 0.0037331042669805983\n",
      "Iteration 295: LHS Error: 7.907824870478919e-07; RHS Error 0.0037331031825585392\n",
      "Iteration 296: LHS Error: 7.80112617171369e-07; RHS Error 0.003733102221948552\n",
      "Iteration 297: LHS Error: 7.692532553171816e-07; RHS Error 0.003733101370309376\n",
      "Iteration 298: LHS Error: 7.584806671623312e-07; RHS Error 0.0037331006145537166\n",
      "Iteration 299: LHS Error: 7.48435441622064e-07; RHS Error 0.0037330999431528927\n",
      "Iteration 300: LHS Error: 7.382551285850525e-07; RHS Error 0.0037330993459788672\n",
      "Iteration 301: LHS Error: 7.27996259275443e-07; RHS Error 0.0037330988141156055\n",
      "Iteration 302: LHS Error: 7.183688452983006e-07; RHS Error 0.0037330983397328432\n",
      "Iteration 303: LHS Error: 7.088310671754527e-07; RHS Error 0.0037330979159710537\n",
      "Iteration 304: LHS Error: 6.992424657070728e-07; RHS Error 0.0037330975368042724\n",
      "Iteration 305: LHS Error: 6.897387216930895e-07; RHS Error 0.0037330971969519663\n",
      "Iteration 306: LHS Error: 6.80802842101258e-07; RHS Error 0.0037330968917995005\n",
      "Iteration 307: LHS Error: 6.718355560764167e-07; RHS Error 0.0037330966173098473\n",
      "Iteration 308: LHS Error: 6.628680799813935e-07; RHS Error 0.0037330963699454683\n",
      "Iteration 309: LHS Error: 6.540100798702042e-07; RHS Error 0.0037330961466164186\n",
      "Iteration 310: LHS Error: 6.456159002965478e-07; RHS Error 0.0037330959446231216\n",
      "Iteration 311: LHS Error: 6.372292933320978e-07; RHS Error 0.003733095761591254\n",
      "Iteration 312: LHS Error: 6.288721019487298e-07; RHS Error 0.0037330955954585077\n",
      "Iteration 313: LHS Error: 6.205629086153408e-07; RHS Error 0.003733095444403395\n",
      "Iteration 314: LHS Error: 6.125861142791678e-07; RHS Error 0.003733095306816814\n",
      "Iteration 315: LHS Error: 6.047609222292749e-07; RHS Error 0.0037330951812937357\n",
      "Iteration 316: LHS Error: 5.969814562689635e-07; RHS Error 0.0037330950665820303\n",
      "Iteration 317: LHS Error: 5.892608294644219e-07; RHS Error 0.003733094961570392\n",
      "Iteration 318: LHS Error: 5.81610113403741e-07; RHS Error 0.0037330948652658444\n",
      "Iteration 319: LHS Error: 5.741755879640209e-07; RHS Error 0.00373309477678406\n",
      "Iteration 320: LHS Error: 5.669302711730495e-07; RHS Error 0.003733094695318795\n",
      "Iteration 321: LHS Error: 5.597478192065353e-07; RHS Error 0.003733094620149799\n",
      "Iteration 322: LHS Error: 5.526360560281773e-07; RHS Error 0.0037330945506131447\n",
      "Iteration 323: LHS Error: 5.456014835480971e-07; RHS Error 0.0037330944861096796\n",
      "Iteration 324: LHS Error: 5.386494343895265e-07; RHS Error 0.0037330944260887677\n",
      "Iteration 325: LHS Error: 5.317842228791392e-07; RHS Error 0.003733094370038388\n",
      "Iteration 326: LHS Error: 5.251443431220082e-07; RHS Error 0.0037330943174908107\n",
      "Iteration 327: LHS Error: 5.185882274716391e-07; RHS Error 0.0037330942680226104\n",
      "Iteration 328: LHS Error: 5.121084600823167e-07; RHS Error 0.0037330942212324345\n",
      "Iteration 329: LHS Error: 5.057079466297409e-07; RHS Error 0.0037330941767645884\n",
      "Iteration 330: LHS Error: 4.993889275439756e-07; RHS Error 0.0037330941342766585\n",
      "Iteration 331: LHS Error: 4.931530348528668e-07; RHS Error 0.003733094093463417\n",
      "Iteration 332: LHS Error: 4.870013770030823e-07; RHS Error 0.003733094054054975\n",
      "Iteration 333: LHS Error: 4.809345992562442e-07; RHS Error 0.0037330940157995277\n",
      "Iteration 334: LHS Error: 4.74952933871009e-07; RHS Error 0.0037330939784776945\n",
      "Iteration 335: LHS Error: 4.6905625739057655e-07; RHS Error 0.0037330939418982537\n",
      "Iteration 336: LHS Error: 4.632441297225398e-07; RHS Error 0.0037330939058880658\n",
      "Iteration 337: LHS Error: 4.5751583543918173e-07; RHS Error 0.003733093870309706\n",
      "Iteration 338: LHS Error: 4.518703011768821e-07; RHS Error 0.003733093835039898\n",
      "Iteration 339: LHS Error: 4.46307387491629e-07; RHS Error 0.0037330937999959374\n",
      "Iteration 340: LHS Error: 4.4082932326716673e-07; RHS Error 0.003733093765097395\n",
      "Iteration 341: LHS Error: 4.354228781977554e-07; RHS Error 0.0037330937303123035\n",
      "Iteration 342: LHS Error: 4.3008610894901267e-07; RHS Error 0.0037330936956056077\n",
      "Iteration 343: LHS Error: 4.2481570972086047e-07; RHS Error 0.0037330936609865847\n",
      "Iteration 344: LHS Error: 4.1960625996040335e-07; RHS Error 0.00373309362647041\n",
      "Iteration 345: LHS Error: 4.138219997784631e-07; RHS Error 0.0037330935920919447\n",
      "Iteration 346: LHS Error: 4.0748217333685943e-07; RHS Error 0.0037330935579018773\n",
      "Iteration 347: LHS Error: 4.006107534593184e-07; RHS Error 0.0037330935239591537\n",
      "Iteration 348: LHS Error: 3.9323407907687624e-07; RHS Error 0.003733093490359253\n",
      "Iteration 349: LHS Error: 3.8538063584780957e-07; RHS Error 0.003733093457185671\n",
      "Iteration 350: LHS Error: 3.770808207903542e-07; RHS Error 0.00373309342453991\n",
      "Iteration 351: LHS Error: 3.683667442189176e-07; RHS Error 0.003733093392530598\n",
      "Iteration 352: LHS Error: 3.5927193131612967e-07; RHS Error 0.003733093361278861\n",
      "Iteration 353: LHS Error: 3.498311116345576e-07; RHS Error 0.003733093330889281\n",
      "Iteration 354: LHS Error: 3.400799339914329e-07; RHS Error 0.0037330933014891807\n",
      "Iteration 355: LHS Error: 3.3005471067326653e-07; RHS Error 0.0037330932731958963\n",
      "Iteration 356: LHS Error: 3.197921705222484e-07; RHS Error 0.003733093246127847\n",
      "Iteration 357: LHS Error: 3.093292111344681e-07; RHS Error 0.0037330932203986436\n",
      "Iteration 358: LHS Error: 2.987026341827459e-07; RHS Error 0.003733093196113188\n",
      "Iteration 359: LHS Error: 2.87948932253812e-07; RHS Error 0.0037330931733802197\n",
      "Iteration 360: LHS Error: 2.7710407746184273e-07; RHS Error 0.003733093152290305\n",
      "Iteration 361: LHS Error: 2.6620328963389284e-07; RHS Error 0.003733093132932609\n",
      "Iteration 362: LHS Error: 2.552808604505685e-07; RHS Error 0.0037330931153792962\n",
      "Iteration 363: LHS Error: 2.443699855803061e-07; RHS Error 0.003733093099699311\n",
      "Iteration 364: LHS Error: 2.3350258882004482e-07; RHS Error 0.0037330930859432038\n",
      "Iteration 365: LHS Error: 2.2270918886846403e-07; RHS Error 0.003733093074151643\n",
      "Iteration 366: LHS Error: 2.1201879185639427e-07; RHS Error 0.0037330930643575053\n",
      "Iteration 367: LHS Error: 2.0145876078458969e-07; RHS Error 0.00373309305657326\n",
      "Iteration 368: LHS Error: 1.9105474269309752e-07; RHS Error 0.0037330930508073373\n",
      "Iteration 369: LHS Error: 1.808305976069846e-07; RHS Error 0.003733093047054402\n",
      "Iteration 370: LHS Error: 1.7080833991656164e-07; RHS Error 0.0037330930452989172\n",
      "Iteration 371: LHS Error: 1.610081001857111e-07; RHS Error 0.0037330930455077085\n",
      "Iteration 372: LHS Error: 1.5144812071099523e-07; RHS Error 0.003733093047648975\n",
      "Iteration 373: LHS Error: 1.4214471821816232e-07; RHS Error 0.0037330930516702512\n",
      "Iteration 374: LHS Error: 1.3311231672474833e-07; RHS Error 0.003733093057512668\n",
      "Iteration 375: LHS Error: 1.243634528691473e-07; RHS Error 0.003733093065104262\n",
      "Iteration 376: LHS Error: 1.1590881321410507e-07; RHS Error 0.0037330930743698226\n",
      "Iteration 377: LHS Error: 1.0775727687928338e-07; RHS Error 0.003733093085233917\n",
      "Iteration 378: LHS Error: 9.991595728564562e-08; RHS Error 0.0037330930976045493\n",
      "Iteration 379: LHS Error: 9.23902883087635e-08; RHS Error 0.003733093111383534\n",
      "Iteration 380: LHS Error: 8.518405358870496e-08; RHS Error 0.0037330931264795836\n",
      "Iteration 381: LHS Error: 7.829950110505024e-08; RHS Error 0.003733093142784971\n",
      "Iteration 382: LHS Error: 7.173739202670504e-08; RHS Error 0.0037330931601980075\n",
      "Iteration 383: LHS Error: 6.549710995784608e-08; RHS Error 0.0037330931786104943\n"
     ]
    },
    {
     "name": "stdout",
     "output_type": "stream",
     "text": [
      "Iteration 384: LHS Error: 5.9576743538514165e-08; RHS Error 0.0037330931979059415\n",
      "Iteration 385: LHS Error: 5.397316105160144e-08; RHS Error 0.0037330932179865314\n",
      "Iteration 386: LHS Error: 4.868213032693802e-08; RHS Error 0.003733093238744996\n",
      "Iteration 387: LHS Error: 4.36983889073872e-08; RHS Error 0.0037330932600751\n",
      "Iteration 388: LHS Error: 3.901576040021837e-08; RHS Error 0.003733093281870138\n",
      "Iteration 389: LHS Error: 3.462723441316484e-08; RHS Error 0.0037330933040264982\n",
      "Iteration 390: LHS Error: 3.0525058924979476e-08; RHS Error 0.003733093326444434\n",
      "Iteration 391: LHS Error: 2.670084686684504e-08; RHS Error 0.003733093349032379\n",
      "Iteration 392: LHS Error: 2.314564095939886e-08; RHS Error 0.003733093371696715\n",
      "Iteration 393: LHS Error: 1.9850030064105795e-08; RHS Error 0.0037330933943534247\n",
      "Iteration 394: LHS Error: 1.6804200697606575e-08; RHS Error 0.0037330934169146415\n",
      "Iteration 395: LHS Error: 1.3998040948592916e-08; RHS Error 0.0037330934393102547\n",
      "Iteration 396: LHS Error: 1.1421200873940052e-08; RHS Error 0.003733093461452619\n",
      "Iteration 397: LHS Error: 1.09973372630634e-08; RHS Error 0.0037330934832904075\n",
      "Iteration 398: LHS Error: 1.0795625282611354e-08; RHS Error 0.0037330935047514766\n",
      "Iteration 399: LHS Error: 1.059524201707518e-08; RHS Error 0.003733093525787011\n",
      "Iteration 400: LHS Error: 1.0411493889250778e-08; RHS Error 0.0037330935463394457\n",
      "Iteration 401: LHS Error: 1.022510076609251e-08; RHS Error 0.003733093566370013\n",
      "Iteration 402: LHS Error: 1.0036858899553636e-08; RHS Error 0.0037330935858286007\n",
      "Iteration 403: LHS Error: 9.858375449312007e-09; RHS Error 0.0037330936046883548\n",
      "Converged. Total iteration 403: LHS Error: 9.858375449312007e-09; RHS Error 0.0037330936046883548\n"
     ]
    }
   ],
   "source": [
    "model_paras = (η, δ, θ, πc_o, σ_y, ξ_b, ξ_p, ξ_a, γ_1, γ_2, y_bar_lower, y_bar_upper, ϕ_m, πd_o, r0, r1, τ)\n",
    "model_res = ode_y_jump_intensity_approach(y_grid_short, model_paras=model_paras, v0=v_guess, ϵ=1,\n",
    "                                          tol=1e-8, max_iter=1000, print_all=True)"
   ]
  },
  {
   "cell_type": "markdown",
   "metadata": {},
   "source": [
    "## Simulation"
   ]
  },
  {
   "cell_type": "code",
   "execution_count": 23,
   "metadata": {},
   "outputs": [],
   "source": [
    "e_grid_no_jump = model_res['e_tilde']\n",
    "e_grid_jump_list = []\n",
    "for i in range(n_model):\n",
    "    temp = np.array([model['e_tilde'] for model in model_list[i]])\n",
    "    e_grid_jump_list.append(temp)\n",
    "e_grid_jump = np.array(e_grid_jump_list)"
   ]
  },
  {
   "cell_type": "code",
   "execution_count": null,
   "metadata": {},
   "outputs": [],
   "source": [
    "def simulation_prob(y_grid_short, y_grid_long, y_grid_tilde, e_grid_no_jump, e_grid_jump,\n",
    "                        θ, y0, y_bar_lower, y_bar_upper, r0, r1, τ, damage_prob, γ_2p, n_model, T=100):\n",
    "    \"\"\"\n",
    "    y_grid : (N,) ndarray\n",
    "    e_grid_no_jump : (N,) ndarray\n",
    "    e_grid_jump : (n_model, M, N) ndarray\n",
    "        e.g., e_grid[0, i], e_grid[1, i] and e_grid[2, i] are the emissions conditional\n",
    "            on low, high and extreme damages when jump occurrs at y_grid_tilde[i].\n",
    "    \"\"\"\n",
    "    record_t = []\n",
    "    for i in range(T+1):\n",
    "        e_states = []\n",
    "        y_states = []\n",
    "        y_tilde_states = [] # -1 if no jump occurred\n",
    "        γ_2p_states = [] # -1 if no jump occurred\n",
    "        states_prob = []\n",
    "        \n",
    "        if y0 < y_bar_lower:\n",
    "            e0 = np.interp(y0, y_grid_long, e_grid_no_jump)\n",
    "            y0 = y0 + e0 * θ\n",
    "            e_states.append(e)\n",
    "            y_states.append(y)\n",
    "            y_tilde_states.append(-1)\n",
    "            γ_2p_states.append(-1)\n",
    "            states_prob.append(1)\n",
    "        else:\n",
    "            intensity = - r0 * (np.exp(- r1 / 2. * (y0-y_bar_lower)**2) - 1.)\n",
    "            jump_prob = τ * intensity\n",
    "            \n",
    "        \n",
    "        for j, y0 in enumerate(y0_states):\n",
    "            if γ_2p_states[j] == -1:\n",
    "                \n",
    "                \n",
    "                \n",
    "                \n",
    "            if y0 <= y_bar_lower:\n",
    "                y0 = y0 + et[i] * θ\n",
    "            \n",
    "    \n",
    "    \n",
    "    yt = np.zeros(T+1)\n",
    "    et = np.zeros(T+1)\n",
    "    damage_states_t = np.zeros(T+1)\n",
    "    jump_occurred = False\n",
    "    e_grid_realized = e_grid_no_jump\n",
    "    for i in range(T+1):\n",
    "        if y0 > y_bar_lower and jump_occurred == False:\n",
    "            intensity = - r0 * (np.exp(- r1 / 2. * (y0-y_bar_lower)**2) - 1.)\n",
    "            jump_prob = τ * intensity\n",
    "            realized_jump_state = np.random.multinomial(n=1, pvals=np.array([jump_prob, 1-jump_prob]))\n",
    "            if np.array_equal(realized_jump_state, np.array([1, 0])) or y0 > y_bar_upper:\n",
    "                jump_occurred = True\n",
    "                realized_damage_state = np.random.multinomial(n=1, pvals=damage_prob)\n",
    "                loc = find_nearest_value(y_grid_tilde, y0)\n",
    "                for i in range(n_model):\n",
    "                    temp = np.zeros(n_model)\n",
    "                    temp[i] = 1\n",
    "                    if np.array_equal(realized_damage_state, temp):\n",
    "                        e_grid_realized = e_grid_jump[i, loc]\n",
    "                        damage_states_t[i:] = i + 1\n",
    "        if jump_occurred:\n",
    "            et[i] = np.interp(y0, y_grid_long, e_grid_realized)\n",
    "        else:\n",
    "            et[i] = np.interp(y0, y_grid_short, e_grid_realized)\n",
    "        yt[i] = y0\n",
    "        y0 = y0 + et[i]*θ\n",
    "    return et, yt, damage_states_t"
   ]
  },
  {
   "cell_type": "code",
   "execution_count": 24,
   "metadata": {},
   "outputs": [],
   "source": [
    "@njit\n",
    "def simulation_one_path(y_grid_short, y_grid_long, y_grid_tilde, e_grid_no_jump, e_grid_jump,\n",
    "                        θ, y0, y_bar_lower, y_bar_upper, r0, r1, τ, damage_prob, n_model, T=100):\n",
    "    \"\"\"\n",
    "    y_grid : (N,) ndarray\n",
    "    e_grid_no_jump : (N,) ndarray\n",
    "    e_grid_jump : (n_model, M, N) ndarray\n",
    "        e.g., e_grid[0, i], e_grid[1, i] and e_grid[2, i] are the emissions conditional\n",
    "            on low, high and extreme damages when jump occurrs at y_grid_tilde[i].\n",
    "    \"\"\"\n",
    "    yt = np.zeros(T+1)\n",
    "    et = np.zeros(T+1)\n",
    "    damage_states_t = np.zeros(T+1)\n",
    "    jump_occurred = False\n",
    "    e_grid_realized = e_grid_no_jump\n",
    "    for i in range(T+1):\n",
    "        if y0 > y_bar_lower and jump_occurred == False:\n",
    "            intensity = - r0 * (np.exp(- r1 / 2. * (y0-y_bar_lower)**2) - 1.)\n",
    "            jump_prob = τ * intensity\n",
    "            realized_jump_state = np.random.multinomial(n=1, pvals=np.array([jump_prob, 1-jump_prob]))\n",
    "            if np.array_equal(realized_jump_state, np.array([1, 0])) or y0 > y_bar_upper:\n",
    "                jump_occurred = True\n",
    "                realized_damage_state = np.random.multinomial(n=1, pvals=damage_prob)\n",
    "                loc = find_nearest_value(y_grid_tilde, y0)\n",
    "                for i in range(n_model):\n",
    "                    temp = np.zeros(n_model)\n",
    "                    temp[i] = 1\n",
    "                    if np.array_equal(realized_damage_state, temp):\n",
    "                        e_grid_realized = e_grid_jump[i, loc]\n",
    "                        damage_states_t[i:] = i + 1\n",
    "        if jump_occurred:\n",
    "            et[i] = np.interp(y0, y_grid_long, e_grid_realized)\n",
    "        else:\n",
    "            et[i] = np.interp(y0, y_grid_short, e_grid_realized)\n",
    "        yt[i] = y0\n",
    "        y0 = y0 + et[i]*θ\n",
    "    return et, yt, damage_states_t\n",
    "\n",
    "@njit\n",
    "def simulation_n_path(y_grid_short, y_grid_long, y_grid_tilde, e_grid_no_jump, e_grid_jump,\n",
    "                      θ, y0, y_bar_lower, y_bar_upper, r0, r1, τ, damage_prob, n_model, T=80, N=10_000):\n",
    "    yt_n_path = np.zeros((N, T+1))\n",
    "    et_n_path = np.zeros((N, T+1))\n",
    "    damage_states_t_n_path = np.zeros((N, T+1))\n",
    "    for n in range(N):\n",
    "        et, yt, damage_states_t = simulation_one_path(y_grid_short, y_grid_long, y_grid_tilde, e_grid_no_jump, e_grid_jump,\n",
    "                                     θ, y0, y_bar_lower, y_bar_upper, r0, r1, τ, damage_prob, n_model=n_model, T=T)\n",
    "        yt_n_path[n] = yt\n",
    "        et_n_path[n] = et\n",
    "        damage_states_t_n_path[n] = damage_states_t\n",
    "    return et_n_path, yt_n_path, damage_states_t_n_path"
   ]
  },
  {
   "cell_type": "code",
   "execution_count": 59,
   "metadata": {},
   "outputs": [],
   "source": [
    "et, yt, damage_states_t = simulation_n_path(y_grid_short, y_grid_long, y_grid_tilde, e_grid_no_jump, e_grid_jump,\n",
    "                           np.mean(model_res['θ']), y0=1.1, y_bar_lower=y_bar_lower, y_bar_upper=y_bar_upper, r0=r0,\n",
    "                           r1=r1, τ=τ, damage_prob=damage_setting['πd_o'], n_model=n_model, T=120, N=1_000_000)"
   ]
  },
  {
   "cell_type": "markdown",
   "metadata": {},
   "source": [
    "## No jump plots"
   ]
  },
  {
   "cell_type": "code",
   "execution_count": 47,
   "metadata": {},
   "outputs": [],
   "source": [
    "T = 91\n",
    "et_no_jump, yt_no_jump, _, _ = simulation(model_res['y_grid'], model_res['e_tilde'], model_res['h'], model_res['g'],\n",
    "                            θ=np.mean(model_res['θ']), y_start=1.1, T=T)"
   ]
  },
  {
   "cell_type": "code",
   "execution_count": 48,
   "metadata": {},
   "outputs": [
    {
     "data": {
      "text/plain": [
       "[<matplotlib.lines.Line2D at 0x7fc3f8a42af0>]"
      ]
     },
     "execution_count": 48,
     "metadata": {},
     "output_type": "execute_result"
    },
    {
     "data": {
      "image/png": "[encoded data removed]",
      "text/plain": [
       "<Figure size 432x288 with 1 Axes>"
      ]
     },
     "metadata": {
      "needs_background": "light"
     },
     "output_type": "display_data"
    }
   ],
   "source": [
    "plt.plot(model_res['y_grid'], e_grid_no_jump)"
   ]
  },
  {
   "cell_type": "code",
   "execution_count": 49,
   "metadata": {},
   "outputs": [
    {
     "data": {
      "text/plain": [
       "[<matplotlib.lines.Line2D at 0x7fc3f4f88ca0>]"
      ]
     },
     "execution_count": 49,
     "metadata": {},
     "output_type": "execute_result"
    },
    {
     "data": {
      "image/png": "[encoded data removed]",
      "text/plain": [
       "<Figure size 432x288 with 1 Axes>"
      ]
     },
     "metadata": {
      "needs_background": "light"
     },
     "output_type": "display_data"
    }
   ],
   "source": [
    "plt.plot(model_res['y_grid'], np.average(np.exp(-1./ξ_p*ϕ_m), weights=πd_o, axis=0))"
   ]
  },
  {
   "cell_type": "code",
   "execution_count": 50,
   "metadata": {
    "scrolled": true
   },
   "outputs": [
    {
     "data": {
      "text/plain": [
       "[<matplotlib.lines.Line2D at 0x7fc401703310>]"
      ]
     },
     "execution_count": 50,
     "metadata": {},
     "output_type": "execute_result"
    },
    {
     "data": {
      "image/png": "[encoded data removed]",
      "text/plain": [
       "<Figure size 432x288 with 1 Axes>"
      ]
     },
     "metadata": {
      "needs_background": "light"
     },
     "output_type": "display_data"
    }
   ],
   "source": [
    "# Compute continuation probability\n",
    "dt = 1./1\n",
    "con_prob = np.ones(int(T/dt)+1)\n",
    "time_periods = np.arange(0, T+dt, dt)\n",
    "yt_no_jump_long = np.interp(time_periods, np.array(range(T+1)), yt_no_jump)\n",
    "con_prob_sum = 0\n",
    "for t in range(time_periods.shape[0]):\n",
    "    y = yt_no_jump_long[t]\n",
    "    if y >= y_bar_lower:\n",
    "        intensity = - r0 * (np.exp(- r1 / 2. * (y-y_bar_lower)**2) - 1.)\n",
    "        con_prob_sum += intensity * dt\n",
    "        con_prob[t] = np.exp(-con_prob_sum)\n",
    "\n",
    "# Plot continuation probability\n",
    "plt.plot(time_periods, con_prob)"
   ]
  },
  {
   "cell_type": "code",
   "execution_count": 51,
   "metadata": {},
   "outputs": [],
   "source": [
    "# Compute no jump probability\n",
    "no_jump_prob = np.ones_like(yt_no_jump)\n",
    "for t in range(no_jump_prob.shape[0]):\n",
    "    y = yt_no_jump[t]\n",
    "    if y > y_bar_lower:\n",
    "        intensity = - r0 * (np.exp(- r1 / 2. * (y-y_bar_lower)**2) - 1.)\n",
    "        no_jump_prob[t] = (1 - intensity*τ) * no_jump_prob[t-1]"
   ]
  },
  {
   "cell_type": "code",
   "execution_count": 52,
   "metadata": {},
   "outputs": [],
   "source": [
    "# np.save('yt_03.npy', yt_no_jump)\n",
    "# np.save('prob_03.npy', no_jump_prob)"
   ]
  },
  {
   "cell_type": "code",
   "execution_count": 53,
   "metadata": {
    "scrolled": true
   },
   "outputs": [
    {
     "data": {
      "text/plain": [
       "Text(0.5, 0.98, '$r_0=0.4$')"
      ]
     },
     "execution_count": 53,
     "metadata": {},
     "output_type": "execute_result"
    },
    {
     "data": {
      "image/png": "[encoded data removed]",
      "text/plain": [
       "<Figure size 864x288 with 2 Axes>"
      ]
     },
     "metadata": {
      "needs_background": "light"
     },
     "output_type": "display_data"
    }
   ],
   "source": [
    "fig, (ax1, ax2) = plt.subplots(1, 2, figsize=(12,4))\n",
    "ax1.plot(yt_no_jump, linewidth=2.)\n",
    "ax1.plot(np.ones_like(yt_no_jump)*1.5, linestyle='dashed', color='black', linewidth=2)\n",
    "ax1.set_xlabel('Years', fontsize=13)\n",
    "ax1.set_title(r'Temperature anomaly')\n",
    "ax1.set_ylim(1, 2)\n",
    "\n",
    "ax2.plot(no_jump_prob, linewidth=2.)\n",
    "ax2.set_xlabel('Years', fontsize=13)\n",
    "ax2.set_title(r'No jump probability')\n",
    "ax2.set_ylim(0, 1.05)\n",
    "\n",
    "fig.suptitle(r'$r_0=0.4$', fontsize=13)\n",
    "# fig.savefig('fig.pdf')"
   ]
  },
  {
   "cell_type": "code",
   "execution_count": 84,
   "metadata": {},
   "outputs": [
    {
     "data": {
      "text/plain": [
       "array([1.        , 1.        , 1.        , 1.        , 1.        ,\n",
       "       1.        , 1.        , 1.        , 1.        , 1.        ,\n",
       "       1.        , 1.        , 1.        , 1.        , 1.        ,\n",
       "       1.        , 1.        , 1.        , 1.        , 1.        ,\n",
       "       1.        , 1.        , 1.        , 1.        , 1.        ,\n",
       "       1.        , 1.        , 1.        , 1.        , 1.        ,\n",
       "       1.        , 1.        , 1.        , 1.        , 1.        ,\n",
       "       1.        , 1.        , 1.        , 1.        , 1.        ,\n",
       "       1.        , 1.        , 1.        , 1.        , 1.        ,\n",
       "       1.        , 1.        , 1.        , 1.        , 1.        ,\n",
       "       1.        , 1.        , 1.        , 0.99987484, 0.99932023,\n",
       "       0.99803576, 0.99572853, 0.99210414, 0.98686942, 0.97974031,\n",
       "       0.97042859, 0.95864037, 0.94409812, 0.92653112, 0.90567407,\n",
       "       0.88130128, 0.853215  , 0.82126607, 0.78538771, 0.74557883,\n",
       "       0.70196117, 0.65477559, 0.60441724, 0.55144015, 0.49657217,\n",
       "       0.44070278, 0.38486535, 0.33019079, 0.27784647, 0.22894974,\n",
       "       0.18447462, 0.14516286, 0.11145471, 0.08345273, 0.06093313,\n",
       "       0.04340424, 0.03019229, 0.0205386 , 0.01368847, 0.00895707,\n",
       "       0.00576751, 0.00366285])"
      ]
     },
     "execution_count": 84,
     "metadata": {},
     "output_type": "execute_result"
    }
   ],
   "source": [
    "no_jump_prob"
   ]
  },
  {
   "cell_type": "code",
   "execution_count": 88,
   "metadata": {},
   "outputs": [
    {
     "data": {
      "text/plain": [
       "array([1.1       , 1.10918864, 1.11831081, 1.12736699, 1.13635768,\n",
       "       1.14528336, 1.1541445 , 1.16294158, 1.17167507, 1.18034544,\n",
       "       1.18895313, 1.19749861, 1.20598232, 1.21440471, 1.22276623,\n",
       "       1.2310673 , 1.23930837, 1.24748986, 1.2556122 , 1.2636758 ,\n",
       "       1.27168109, 1.27962847, 1.28751838, 1.29535119, 1.30312732,\n",
       "       1.31084716, 1.31851112, 1.32611959, 1.33367295, 1.34117159,\n",
       "       1.34861589, 1.35600623, 1.363343  , 1.37062655, 1.37785726,\n",
       "       1.38503551, 1.39216165, 1.39923604, 1.40625906, 1.41323102,\n",
       "       1.42015228, 1.42702321, 1.43384408, 1.44061525, 1.44733708,\n",
       "       1.45400981, 1.46063382, 1.46720945, 1.47373699, 1.48021679,\n",
       "       1.48664921, 1.49303456, 1.4993732 , 1.50566547, 1.51192993,\n",
       "       1.51816873, 1.52438197, 1.53062002, 1.53690408, 1.5432345 ,\n",
       "       1.54966284, 1.55624043, 1.56297073, 1.56989694, 1.57707642,\n",
       "       1.58451841, 1.59227914, 1.60040371, 1.60891229, 1.61788532,\n",
       "       1.62734816, 1.63736754, 1.64798838, 1.6592735 , 1.6712738 ,\n",
       "       1.68404991, 1.69765179, 1.71212992, 1.72751868, 1.74384681,\n",
       "       1.76112848, 1.77935703, 1.79849917, 1.81851112, 1.83934476,\n",
       "       1.86091823, 1.88313331, 1.90587801, 1.92902725, 1.9524552 ,\n",
       "       1.97603059, 1.99961572])"
      ]
     },
     "execution_count": 88,
     "metadata": {},
     "output_type": "execute_result"
    }
   ],
   "source": [
    "yt_no_jump"
   ]
  },
  {
   "cell_type": "code",
   "execution_count": 46,
   "metadata": {},
   "outputs": [],
   "source": [
    "def compute_prob(array):\n",
    "    array_unique = np.unique(array)\n",
    "    prob = np.zeros_like(array_unique)\n",
    "    for i, point in enumerate(array_unique):\n",
    "        prob[i] = np.sum(array==point)/len(array)\n",
    "    return array_unique, prob"
   ]
  },
  {
   "cell_type": "markdown",
   "metadata": {},
   "source": [
    "## Histograms"
   ]
  },
  {
   "cell_type": "code",
   "execution_count": 70,
   "metadata": {},
   "outputs": [
    {
     "data": {
      "image/png": "[encoded data removed]",
      "text/plain": [
       "<Figure size 432x288 with 1 Axes>"
      ]
     },
     "metadata": {
      "needs_background": "light"
     },
     "output_type": "display_data"
    }
   ],
   "source": [
    "# Implied distorted probabilities\n",
    "T_plot_new = 90\n",
    "yt_loc = find_nearest_value(model_res['y_grid'], yt_no_jump[90])\n",
    "\n",
    "Gt_m = model_res['g'][:, yt_loc]\n",
    "πd = Gt_m*πd_o / np.sum(Gt_m*πd_o)\n",
    "plt.hist(γ_2p, weights=πd, bins=20)\n",
    "plt.xlabel(r'$\\gamma_3$')\n",
    "plt.title(r'Figure 1: Histogram of $\\gamma_3$, weighted by distorted probabilities (Year 90)')\n",
    "plt.savefig('fig_1.pdf')"
   ]
  },
  {
   "cell_type": "code",
   "execution_count": 62,
   "metadata": {},
   "outputs": [],
   "source": [
    "# Compute probabilities\n",
    "T_plot = 120\n",
    "et_states, et_prob = compute_prob(et[:, T_plot])\n",
    "yt_states, yt_prob = compute_prob(yt[:, T_plot])"
   ]
  },
  {
   "cell_type": "code",
   "execution_count": 110,
   "metadata": {},
   "outputs": [],
   "source": [
    "# Compute probabilities\n",
    "T_plot_new = 90\n",
    "et_states_new, et_prob_new = compute_prob(et[:, T_plot_new])\n",
    "yt_states_new, yt_prob_new = compute_prob(yt[:, T_plot_new])"
   ]
  },
  {
   "cell_type": "code",
   "execution_count": 81,
   "metadata": {
    "scrolled": false
   },
   "outputs": [
    {
     "data": {
      "text/plain": [
       "Text(0.5, 1.0, 'Figure 2: Histogram of emission, Year 90')"
      ]
     },
     "execution_count": 81,
     "metadata": {},
     "output_type": "execute_result"
    },
    {
     "data": {
      "image/png": "[encoded data removed]",
      "text/plain": [
       "<Figure size 432x288 with 1 Axes>"
      ]
     },
     "metadata": {
      "needs_background": "light"
     },
     "output_type": "display_data"
    },
    {
     "data": {
      "image/png": "[encoded data removed]",
      "text/plain": [
       "<Figure size 432x288 with 1 Axes>"
      ]
     },
     "metadata": {
      "needs_background": "light"
     },
     "output_type": "display_data"
    }
   ],
   "source": [
    "plt.figure()\n",
    "plt.hist(et_states, weights=et_prob, bins=20)\n",
    "plt.title('Figure 1: Histogram of emission, Year 120')\n",
    "\n",
    "plt.figure()\n",
    "plt.hist(et_states_new, weights=et_prob_new, bins=20)\n",
    "plt.title('Figure 2: Histogram of emission, Year 90')"
   ]
  },
  {
   "cell_type": "code",
   "execution_count": null,
   "metadata": {},
   "outputs": [],
   "source": [
    "yt_states_new"
   ]
  },
  {
   "cell_type": "code",
   "execution_count": 82,
   "metadata": {},
   "outputs": [
    {
     "data": {
      "text/plain": [
       "Text(0.5, 1.0, 'Figure 2: Histogram of temperature anomaly, Year 90')"
      ]
     },
     "execution_count": 82,
     "metadata": {},
     "output_type": "execute_result"
    },
    {
     "data": {
      "image/png": "[encoded data removed]",
      "text/plain": [
       "<Figure size 432x288 with 1 Axes>"
      ]
     },
     "metadata": {
      "needs_background": "light"
     },
     "output_type": "display_data"
    },
    {
     "data": {
      "image/png": "[encoded data removed]",
      "text/plain": [
       "<Figure size 432x288 with 1 Axes>"
      ]
     },
     "metadata": {
      "needs_background": "light"
     },
     "output_type": "display_data"
    }
   ],
   "source": [
    "plt.figure()\n",
    "plt.hist(yt_states, weights=yt_prob, bins=20)\n",
    "plt.title('Figure 1: Histogram of temperature anomaly, Year 120')\n",
    "\n",
    "plt.figure()\n",
    "plt.hist(yt_states_new, weights=et_prob_new, bins=20)\n",
    "plt.title('Figure 2: Histogram of temperature anomaly, Year 90')"
   ]
  },
  {
   "cell_type": "code",
   "execution_count": 76,
   "metadata": {},
   "outputs": [],
   "source": []
  },
  {
   "cell_type": "code",
   "execution_count": 79,
   "metadata": {},
   "outputs": [
    {
     "data": {
      "text/plain": [
       "Text(0.5, 1.0, 'Figure 2.1: Histogram of emission, Year 90')"
      ]
     },
     "execution_count": 79,
     "metadata": {},
     "output_type": "execute_result"
    },
    {
     "data": {
      "image/png": "[encoded data removed]",
      "text/plain": [
       "<Figure size 432x288 with 1 Axes>"
      ]
     },
     "metadata": {
      "needs_background": "light"
     },
     "output_type": "display_data"
    }
   ],
   "source": []
  }
 ],
 "metadata": {
  "kernelspec": {
   "display_name": "Python 3",
   "language": "python",
   "name": "python3"
  },
  "language_info": {
   "codemirror_mode": {
    "name": "ipython",
    "version": 3
   },
   "file_extension": ".py",
   "mimetype": "text/x-python",
   "name": "python",
   "nbconvert_exporter": "python",
   "pygments_lexer": "ipython3",
   "version": "3.8.5"
  }
 },
 "nbformat": 4,
 "nbformat_minor": 4
}
