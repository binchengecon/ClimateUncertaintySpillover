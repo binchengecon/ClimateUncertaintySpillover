{
 "cells": [
  {
   "cell_type": "code",
   "execution_count": 29,
   "metadata": {},
   "outputs": [],
   "source": [
    "import os, sys\n",
    "sys.path.append(os.path.dirname(os.getcwd()) + '/source')\n",
    "\n",
    "from model import ode_y_damage_ambiguity, uncertainty_decomposition_damage_ambiguity\n",
    "from simulation import simulation\n",
    "from utilities import find_nearest_value\n",
    "from numba import njit\n",
    "import numpy as np\n",
    "import pandas as pd\n",
    "import matplotlib.pyplot as plt\n",
    "import matplotlib as mpl\n",
    "mpl.rcParams['axes.spines.right'] = False\n",
    "mpl.rcParams['axes.spines.top'] = False"
   ]
  },
  {
   "cell_type": "code",
   "execution_count": 33,
   "metadata": {},
   "outputs": [
    {
     "name": "stdout",
     "output_type": "stream",
     "text": [
      "Converged. Total iteration 1489: LHS Error: 9.922130672634921e-09; RHS Error 0.0004074733597089694\n"
     ]
    }
   ],
   "source": [
    "ξ_a = .01\n",
    "# ξ_a = 1000.\n",
    "\n",
    "η = .032\n",
    "δ = .01\n",
    "\n",
    "θ = pd.read_csv('../data/model144.csv', header=None).to_numpy()[:, 0]/1000.\n",
    "πc_o = np.ones_like(θ)/len(θ)\n",
    "σ_y = 1.2*np.mean(θ)\n",
    "\n",
    "y_bar = 2.\n",
    "γ_1 = 1.7675/10000\n",
    "γ_2 = .0022*2\n",
    "# γ_2p = np.array([0, .0197*2, .3853*2])\n",
    "γ_2p = np.array([0, .0197*2])\n",
    "# γ_2p = np.array([0, .0197*2*2, .3853*2])\n",
    "\n",
    "y_step = .02\n",
    "# y_grid = np.arange(0., 2.+y_step, y_step)\n",
    "y_grid = np.arange(0., 4.+y_step, y_step)\n",
    "\n",
    "n_damage = len(γ_2p)\n",
    "n_temp = 16\n",
    "n_carb = 9\n",
    "\n",
    "# Combine θ and γ_2p\n",
    "θ_new = np.zeros((len(γ_2p), len(θ)))\n",
    "γ_2p_new = np.zeros((len(γ_2p), len(θ)))\n",
    "for i in range(len(γ_2p)):\n",
    "    for j in range(len(θ)):\n",
    "        θ_new[i, j] = θ[j]\n",
    "        γ_2p_new[i, j] = γ_2p[i]\n",
    "θ_new = θ_new.reshape(-1)\n",
    "γ_2p_new = γ_2p_new.reshape(-1)\n",
    "πc_o_new = np.ones_like(θ_new)/len(θ_new)\n",
    "\n",
    "model_paras = (η, δ, θ_new, πc_o_new, σ_y, ξ_a, γ_1, γ_2, γ_2p_new, y_bar) \n",
    "model_res = ode_y_damage_ambiguity(y_grid, model_paras, v0=None, ϵ=1.,\n",
    "                  tol=1e-8, max_iter=5_000, print_all=False)"
   ]
  },
  {
   "cell_type": "code",
   "execution_count": 34,
   "metadata": {},
   "outputs": [],
   "source": [
    "# model_res['e_tilde'] = np.ones_like(model_res['e_tilde'])*10\n",
    "# model_res['e_tilde'] = np.load('e_star.npy')\n",
    "np.save('emission_damage_ambiguity', model_res['e_tilde'])"
   ]
  },
  {
   "cell_type": "code",
   "execution_count": 35,
   "metadata": {},
   "outputs": [
    {
     "name": "stdout",
     "output_type": "stream",
     "text": [
      "Converged. Total iteration 1443: LHS Error: 9.961921954015907e-09; RHS Error 0.00029365657173054116\n",
      "Converged. Total iteration 1477: LHS Error: 9.960514191220682e-09; RHS Error 0.0003540801534158561\n",
      "Converged. Total iteration 1449: LHS Error: 9.914193022098061e-09; RHS Error 0.0003148543110500293\n",
      "Converged. Total iteration 1445: LHS Error: 9.960102298478546e-09; RHS Error 0.0003016117209525965\n",
      "Converged. Total iteration 1486: LHS Error: 9.966176550690875e-09; RHS Error 0.0003892692380071186\n",
      "Converged. Total iteration 1481: LHS Error: 9.909224107929049e-09; RHS Error 0.00036723740427852675\n",
      "Converged. Total iteration 1451: LHS Error: 9.910763765219599e-09; RHS Error 0.0003256667411466116\n",
      "Converged. Total iteration 1490: LHS Error: 9.940414269493658e-09; RHS Error 0.0004074733607604894\n"
     ]
    }
   ],
   "source": [
    "n_damage = len(γ_2p)\n",
    "n_temp = 16\n",
    "n_carb = 9\n",
    "\n",
    "θ_reshape = θ.reshape(n_temp, n_carb)\n",
    "θ_all = np.zeros((n_damage, n_temp, n_carb))\n",
    "γ_2p_all = np.zeros((n_damage, n_temp, n_carb))\n",
    "\n",
    "for i in range(n_damage):\n",
    "    for j in range(n_temp):\n",
    "        for n in range(n_carb):\n",
    "            θ_all[i, j, n] = θ_reshape[j, n]\n",
    "            γ_2p_all[i, j, n] = γ_2p[i]\n",
    "\n",
    "θ_damage = θ_all.mean(axis=(1, 2))\n",
    "θ_temp = θ_all.mean(axis=(0, 2))\n",
    "θ_carb = θ_all.mean(axis=(0, 1))\n",
    "γ_2p_damage = γ_2p_all.mean(axis=(1, 2))\n",
    "γ_2p_temp = γ_2p_all.mean(axis=(0, 2))\n",
    "γ_2p_carb = γ_2p_all.mean(axis=(0, 1))\n",
    "πc_o_damage = np.ones_like(θ_damage)/len(θ_damage)\n",
    "πc_o_temp = np.ones_like(θ_temp)/len(θ_temp)\n",
    "πc_o_carb = np.ones_like(θ_carb)/len(θ_carb)\n",
    "\n",
    "θ_damage_temp = θ_all.mean(axis=2).reshape(-1)\n",
    "θ_damage_carb = θ_all.mean(axis=1).reshape(-1)\n",
    "θ_temp_carb = θ_all.mean(axis=0).reshape(-1)\n",
    "γ_2p_damage_temp = γ_2p_all.mean(axis=2).reshape(-1)\n",
    "γ_2p_damage_carb = γ_2p_all.mean(axis=1).reshape(-1)\n",
    "γ_2p_temp_carb = γ_2p_all.mean(axis=0).reshape(-1)\n",
    "πc_o_damage_temp = np.ones_like(θ_damage_temp)/len(θ_damage_temp)\n",
    "πc_o_damage_carb = np.ones_like(θ_damage_carb)/len(θ_damage_carb)\n",
    "πc_o_temp_carb = np.ones_like(θ_temp_carb)/len(θ_temp_carb)\n",
    "\n",
    "θ_baseline = θ_all.mean().reshape(-1)\n",
    "γ_2p_baseline = γ_2p_all.mean().reshape(-1)\n",
    "πc_o_baseline = np.ones_like(θ_baseline)/len(θ_baseline)\n",
    "\n",
    "θ_total = θ_all.reshape(-1)\n",
    "γ_2p_total = γ_2p_all.reshape(-1)\n",
    "πc_o_total = np.ones_like(θ_total)/len(θ_total)\n",
    "\n",
    "# Baseline\n",
    "model_paras_baseline = (η, δ, θ_baseline, πc_o_baseline, σ_y, ξ_a, γ_1, γ_2, γ_2p_baseline, y_bar) \n",
    "model_baseline = uncertainty_decomposition_damage_ambiguity(y_grid, model_res['e_tilde'], model_paras_baseline, v0=None, ϵ=1.,\n",
    "                  tol=1e-8, max_iter=5_000, print_all=False)\n",
    "\n",
    "# Damage uncertainty\n",
    "model_paras_damage = (η, δ, θ_damage, πc_o_damage, σ_y, ξ_a, γ_1, γ_2, γ_2p_damage, y_bar) \n",
    "model_damage = uncertainty_decomposition_damage_ambiguity(y_grid, model_res['e_tilde'], model_paras_damage, v0=None, ϵ=1.,\n",
    "                  tol=1e-8, max_iter=5_000, print_all=False)\n",
    "\n",
    "# Temperature uncertainty\n",
    "model_paras_temp = (η, δ, θ_temp, πc_o_temp, σ_y, ξ_a, γ_1, γ_2, γ_2p_temp, y_bar) \n",
    "model_temp = uncertainty_decomposition_damage_ambiguity(y_grid, model_res['e_tilde'], model_paras_temp, v0=None, ϵ=1.,\n",
    "                  tol=1e-8, max_iter=5_000, print_all=False)\n",
    "\n",
    "# Carbon uncertainty\n",
    "model_paras_carb = (η, δ, θ_carb, πc_o_carb, σ_y, ξ_a, γ_1, γ_2, γ_2p_carb, y_bar) \n",
    "model_carb = uncertainty_decomposition_damage_ambiguity(y_grid, model_res['e_tilde'], model_paras_carb, v0=None, ϵ=1.,\n",
    "                  tol=1e-8, max_iter=5_000, print_all=False)\n",
    "\n",
    "# Damage + Temperature uncertainty\n",
    "model_paras_damage_temp = (η, δ, θ_damage_temp, πc_o_damage_temp, σ_y, ξ_a, γ_1, γ_2, γ_2p_damage_temp, y_bar) \n",
    "model_damage_temp = uncertainty_decomposition_damage_ambiguity(y_grid, model_res['e_tilde'], model_paras_damage_temp, v0=None, ϵ=1.,\n",
    "                  tol=1e-8, max_iter=5_000, print_all=False)\n",
    "\n",
    "# Damage + Carbon uncertainty\n",
    "model_paras_damage_carb = (η, δ, θ_damage_carb, πc_o_damage_carb, σ_y, ξ_a, γ_1, γ_2, γ_2p_damage_carb, y_bar) \n",
    "model_damage_carb = uncertainty_decomposition_damage_ambiguity(y_grid, model_res['e_tilde'], model_paras_damage_carb, v0=None, ϵ=1.,\n",
    "                  tol=1e-8, max_iter=5_000, print_all=False)\n",
    "\n",
    "# Temperature + Carbon uncertainty\n",
    "model_paras_temp_carb = (η, δ, θ_temp_carb, πc_o_temp_carb, σ_y, ξ_a, γ_1, γ_2, γ_2p_temp_carb, y_bar) \n",
    "model_temp_carb = uncertainty_decomposition_damage_ambiguity(y_grid, model_res['e_tilde'], model_paras_temp_carb, v0=None, ϵ=1.,\n",
    "                  tol=1e-8, max_iter=5_000, print_all=False)\n",
    "\n",
    "# Damage + Temperature + Carbon uncertainty\n",
    "model_paras_total = (η, δ, θ_total, πc_o_total, σ_y, ξ_a, γ_1, γ_2, γ_2p_total, y_bar) \n",
    "model_total = uncertainty_decomposition_damage_ambiguity(y_grid, model_res['e_tilde'], model_paras_total, v0=None, ϵ=1.,\n",
    "                  tol=1e-8, max_iter=5_000, print_all=False)"
   ]
  },
  {
   "cell_type": "code",
   "execution_count": 36,
   "metadata": {},
   "outputs": [],
   "source": [
    "np.save('ME_baseline_damage_ambiguity', model_baseline['ME'])\n",
    "np.save('ME_damage_damage_ambiguity', model_damage['ME'])\n",
    "np.save('ME_temp_damage_ambiguity', model_temp['ME'])\n",
    "np.save('ME_carb_damage_ambiguity', model_carb['ME'])\n",
    "np.save('ME_damage_temp_damage_ambiguity', model_damage_temp['ME'])\n",
    "np.save('ME_damage_carb_damage_ambiguity', model_damage_carb['ME'])\n",
    "np.save('ME_temp_carb_damage_ambiguity', model_temp_carb['ME'])\n",
    "np.save('ME_damage_ambiguity', model_total['ME'])"
   ]
  },
  {
   "cell_type": "code",
   "execution_count": 37,
   "metadata": {},
   "outputs": [
    {
     "data": {
      "text/plain": [
       "array([0.  , 0.02, 0.04, 0.06, 0.08, 0.1 , 0.12, 0.14, 0.16, 0.18, 0.2 ,\n",
       "       0.22, 0.24, 0.26, 0.28, 0.3 , 0.32, 0.34, 0.36, 0.38, 0.4 , 0.42,\n",
       "       0.44, 0.46, 0.48, 0.5 , 0.52, 0.54, 0.56, 0.58, 0.6 , 0.62, 0.64,\n",
       "       0.66, 0.68, 0.7 , 0.72, 0.74, 0.76, 0.78, 0.8 , 0.82, 0.84, 0.86,\n",
       "       0.88, 0.9 , 0.92, 0.94, 0.96, 0.98, 1.  , 1.02, 1.04, 1.06, 1.08,\n",
       "       1.1 , 1.12, 1.14, 1.16, 1.18, 1.2 , 1.22, 1.24, 1.26, 1.28, 1.3 ,\n",
       "       1.32, 1.34, 1.36, 1.38, 1.4 , 1.42, 1.44, 1.46, 1.48, 1.5 , 1.52,\n",
       "       1.54, 1.56, 1.58, 1.6 , 1.62, 1.64, 1.66, 1.68, 1.7 , 1.72, 1.74,\n",
       "       1.76, 1.78, 1.8 , 1.82, 1.84, 1.86, 1.88, 1.9 , 1.92, 1.94, 1.96,\n",
       "       1.98, 2.  , 2.02, 2.04, 2.06, 2.08, 2.1 , 2.12, 2.14, 2.16, 2.18,\n",
       "       2.2 , 2.22, 2.24, 2.26, 2.28, 2.3 , 2.32, 2.34, 2.36, 2.38, 2.4 ,\n",
       "       2.42, 2.44, 2.46, 2.48, 2.5 , 2.52, 2.54, 2.56, 2.58, 2.6 , 2.62,\n",
       "       2.64, 2.66, 2.68, 2.7 , 2.72, 2.74, 2.76, 2.78, 2.8 , 2.82, 2.84,\n",
       "       2.86, 2.88, 2.9 , 2.92, 2.94, 2.96, 2.98, 3.  , 3.02, 3.04, 3.06,\n",
       "       3.08, 3.1 , 3.12, 3.14, 3.16, 3.18, 3.2 , 3.22, 3.24, 3.26, 3.28,\n",
       "       3.3 , 3.32, 3.34, 3.36, 3.38, 3.4 , 3.42, 3.44, 3.46, 3.48, 3.5 ,\n",
       "       3.52, 3.54, 3.56, 3.58, 3.6 , 3.62, 3.64, 3.66, 3.68, 3.7 , 3.72,\n",
       "       3.74, 3.76, 3.78, 3.8 , 3.82, 3.84, 3.86, 3.88, 3.9 , 3.92, 3.94,\n",
       "       3.96, 3.98, 4.  ])"
      ]
     },
     "execution_count": 37,
     "metadata": {},
     "output_type": "execute_result"
    }
   ],
   "source": []
  }
 ],
 "metadata": {
  "kernelspec": {
   "display_name": "Python 3",
   "language": "python",
   "name": "python3"
  },
  "language_info": {
   "codemirror_mode": {
    "name": "ipython",
    "version": 3
   },
   "file_extension": ".py",
   "mimetype": "text/x-python",
   "name": "python",
   "nbconvert_exporter": "python",
   "pygments_lexer": "ipython3",
   "version": "3.8.5"
  }
 },
 "nbformat": 4,
 "nbformat_minor": 4
}
