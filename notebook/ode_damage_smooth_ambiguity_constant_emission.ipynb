{
 "cells": [
  {
   "cell_type": "code",
   "execution_count": 1,
   "metadata": {},
   "outputs": [],
   "source": [
    "import os, sys\n",
    "sys.path.append(os.path.dirname(os.getcwd()) + '/source')\n",
    "\n",
    "from model import ode_y_damage_ambiguity, uncertainty_decomposition_damage_ambiguity\n",
    "from simulation import simulation\n",
    "from utilities import find_nearest_value\n",
    "from numba import njit\n",
    "import numpy as np\n",
    "import pandas as pd\n",
    "import matplotlib.pyplot as plt\n",
    "import matplotlib as mpl\n",
    "mpl.rcParams['axes.spines.right'] = False\n",
    "mpl.rcParams['axes.spines.top'] = False"
   ]
  },
  {
   "cell_type": "code",
   "execution_count": 2,
   "metadata": {},
   "outputs": [
    {
     "name": "stdout",
     "output_type": "stream",
     "text": [
      "Converged. Total iteration 1610: LHS Error: 9.954781887699937e-09; RHS Error 0.0018524755055898817\n"
     ]
    }
   ],
   "source": [
    "ξ_a = .01\n",
    "# ξ_a = 1000.\n",
    "\n",
    "η = .032\n",
    "δ = .01\n",
    "\n",
    "θ = pd.read_csv('../data/model144.csv', header=None).to_numpy()[:, 0]/1000.\n",
    "πc_o = np.ones_like(θ)/len(θ)\n",
    "σ_y = 1.2*np.mean(θ)\n",
    "\n",
    "y_bar = 2.\n",
    "γ_1 = 1.7675/10000\n",
    "γ_2 = .0022*2\n",
    "γ_2p = np.array([0, .0197*2, .3853*2])\n",
    "# γ_2p = np.array([0, .0197*2*2, .3853*2])\n",
    "\n",
    "y_step = .02\n",
    "y_grid = np.arange(0., 4., y_step)\n",
    "\n",
    "n_damage = len(γ_2p)\n",
    "n_temp = 16\n",
    "n_carb = 9\n",
    "\n",
    "# Combine θ and γ_2p\n",
    "θ_new = np.zeros((len(γ_2p), len(θ)))\n",
    "γ_2p_new = np.zeros((len(γ_2p), len(θ)))\n",
    "for i in range(len(γ_2p)):\n",
    "    for j in range(len(θ)):\n",
    "        θ_new[i, j] = θ[j]\n",
    "        γ_2p_new[i, j] = γ_2p[i]\n",
    "θ_new = θ_new.reshape(-1)\n",
    "γ_2p_new = γ_2p_new.reshape(-1)\n",
    "πc_o_new = np.ones_like(θ_new)/len(θ_new)\n",
    "\n",
    "model_paras = (η, δ, θ_new, πc_o_new, σ_y, ξ_a, γ_1, γ_2, γ_2p_new, y_bar) \n",
    "model_res = ode_y_damage_ambiguity(y_grid, model_paras, v0=None, ϵ=1.,\n",
    "                  tol=1e-8, max_iter=5_000, print_all=False)"
   ]
  },
  {
   "cell_type": "code",
   "execution_count": 8,
   "metadata": {},
   "outputs": [],
   "source": [
    "model_res['e_tilde'] = np.ones_like(model_res['e_tilde'])*10\n",
    "np.save('emission_damage_ambiguity', model_res['e_tilde'])"
   ]
  },
  {
   "cell_type": "code",
   "execution_count": 18,
   "metadata": {},
   "outputs": [
    {
     "name": "stdout",
     "output_type": "stream",
     "text": [
      "Converged. Total iteration 5000: LHS Error: 0.006213823665689233; RHS Error 0.06177266500507439\n"
     ]
    }
   ],
   "source": [
    "n_damage = len(γ_2p)\n",
    "n_temp = 16\n",
    "n_carb = 9\n",
    "\n",
    "θ_reshape = θ.reshape(n_temp, n_carb)\n",
    "θ_all = np.zeros((n_damage, n_temp, n_carb))\n",
    "γ_2p_all = np.zeros((n_damage, n_temp, n_carb))\n",
    "\n",
    "for i in range(n_damage):\n",
    "    for j in range(n_temp):\n",
    "        for n in range(n_carb):\n",
    "            θ_all[i, j, n] = θ_reshape[j, n]\n",
    "            γ_2p_all[i, j, n] = γ_2p[i]\n",
    "\n",
    "θ_damage = θ_all.mean(axis=(1, 2))\n",
    "θ_temp = θ_all.mean(axis=(0, 2))\n",
    "θ_carb = θ_all.mean(axis=(0, 1))\n",
    "γ_2p_damage = γ_2p_all.mean(axis=(1, 2))\n",
    "γ_2p_temp = γ_2p_all.mean(axis=(0, 2))\n",
    "γ_2p_carb = γ_2p_all.mean(axis=(0, 1))\n",
    "πc_o_damage = np.ones_like(θ_damage)/len(θ_damage)\n",
    "πc_o_temp = np.ones_like(θ_temp)/len(θ_temp)\n",
    "πc_o_carb = np.ones_like(θ_carb)/len(θ_carb)\n",
    "\n",
    "θ_damage_temp = θ_all.mean(axis=2).reshape(-1)\n",
    "θ_damage_carb = θ_all.mean(axis=1).reshape(-1)\n",
    "θ_temp_carb = θ_all.mean(axis=0).reshape(-1)\n",
    "γ_2p_damage_temp = γ_2p_all.mean(axis=2).reshape(-1)\n",
    "γ_2p_damage_carb = γ_2p_all.mean(axis=1).reshape(-1)\n",
    "γ_2p_temp_carb = γ_2p_all.mean(axis=0).reshape(-1)\n",
    "πc_o_damage_temp = np.ones_like(θ_damage_temp)/len(θ_damage_temp)\n",
    "πc_o_damage_carb = np.ones_like(θ_damage_carb)/len(θ_damage_carb)\n",
    "πc_o_temp_carb = np.ones_like(θ_temp_carb)/len(θ_temp_carb)\n",
    "\n",
    "θ_baseline = θ_all.mean().reshape(-1)\n",
    "γ_2p_baseline = γ_2p_all.mean().reshape(-1)\n",
    "πc_o_baseline = np.ones_like(θ_baseline)/len(θ_baseline)\n",
    "\n",
    "θ_total = θ_all.reshape(-1)\n",
    "γ_2p_total = γ_2p_all.reshape(-1)\n",
    "πc_o_total = np.ones_like(θ_total)/len(θ_total)\n",
    "\n",
    "# Baseline\n",
    "model_paras_baseline = (η, δ, θ_baseline, πc_o_baseline, σ_y, ξ_a, γ_1, γ_2, γ_2p_baseline, y_bar) \n",
    "model_baseline = uncertainty_decomposition_damage_ambiguity(y_grid, model_res['e_tilde'], model_paras_baseline, v0=None, ϵ=1.,\n",
    "                  tol=1e-8, max_iter=5_000, print_all=False)\n",
    "\n",
    "# Damage uncertainty\n",
    "model_paras_damage = (η, δ, θ_damage, πc_o_damage, σ_y, ξ_a, γ_1, γ_2, γ_2p_damage, y_bar) \n",
    "model_damage = uncertainty_decomposition_damage_ambiguity(y_grid, model_res['e_tilde'], model_paras_damage, v0=None, ϵ=1.,\n",
    "                  tol=1e-8, max_iter=5_000, print_all=False)\n",
    "\n",
    "# Temperature uncertainty\n",
    "model_paras_temp = (η, δ, θ_temp, πc_o_temp, σ_y, ξ_a, γ_1, γ_2, γ_2p_temp, y_bar) \n",
    "model_temp = uncertainty_decomposition_damage_ambiguity(y_grid, model_res['e_tilde'], model_paras_temp, v0=None, ϵ=1.,\n",
    "                  tol=1e-8, max_iter=5_000, print_all=False)\n",
    "\n",
    "# Carbon uncertainty\n",
    "model_paras_carb = (η, δ, θ_carb, πc_o_carb, σ_y, ξ_a, γ_1, γ_2, γ_2p_carb, y_bar) \n",
    "model_carb = uncertainty_decomposition_damage_ambiguity(y_grid, model_res['e_tilde'], model_paras_carb, v0=None, ϵ=1.,\n",
    "                  tol=1e-8, max_iter=5_000, print_all=False)\n",
    "\n",
    "# Damage + Temperature uncertainty\n",
    "model_paras_damage_temp = (η, δ, θ_damage_temp, πc_o_damage_temp, σ_y, ξ_a, γ_1, γ_2, γ_2p_damage_temp, y_bar) \n",
    "model_damage_temp = uncertainty_decomposition_damage_ambiguity(y_grid, model_res['e_tilde'], model_paras_damage_temp, v0=None, ϵ=1.,\n",
    "                  tol=1e-8, max_iter=5_000, print_all=False)\n",
    "\n",
    "# Damage + Carbon uncertainty\n",
    "model_paras_damage_carb = (η, δ, θ_damage_carb, πc_o_damage_carb, σ_y, ξ_a, γ_1, γ_2, γ_2p_damage_carb, y_bar) \n",
    "model_damage_carb = uncertainty_decomposition_damage_ambiguity(y_grid, model_res['e_tilde'], model_paras_damage_carb, v0=None, ϵ=1.,\n",
    "                  tol=1e-8, max_iter=5_000, print_all=False)\n",
    "\n",
    "# Temperature + Carbon uncertainty\n",
    "model_paras_temp_carb = (η, δ, θ_temp_carb, πc_o_temp_carb, σ_y, ξ_a, γ_1, γ_2, γ_2p_temp_carb, y_bar) \n",
    "model_temp_carb = uncertainty_decomposition_damage_ambiguity(y_grid, model_res['e_tilde'], model_paras_temp_carb, v0=None, ϵ=1.,\n",
    "                  tol=1e-8, max_iter=5_000, print_all=False)\n",
    "\n",
    "# Damage + Temperature + Carbon uncertainty\n",
    "model_paras_total = (η, δ, θ_total, πc_o_total, σ_y, ξ_a, γ_1, γ_2, γ_2p_total, y_bar) \n",
    "model_total = uncertainty_decomposition_damage_ambiguity(y_grid, model_res['e_tilde'], model_paras_total, v0=None, ϵ=1.,\n",
    "                  tol=1e-8, max_iter=5_000, print_all=False)"
   ]
  },
  {
   "cell_type": "code",
   "execution_count": 19,
   "metadata": {},
   "outputs": [],
   "source": [
    "np.save('ME_baseline_damage_ambiguity', model_baseline['ME'])\n",
    "np.save('ME_damage_damage_ambiguity', model_damage['ME'])\n",
    "np.save('ME_temp_damage_ambiguity', model_temp['ME'])\n",
    "np.save('ME_carb_damage_ambiguity', model_carb['ME'])\n",
    "np.save('ME_damage_temp_damage_ambiguity', model_damage_temp['ME'])\n",
    "np.save('ME_damage_carb_damage_ambiguity', model_damage_carb['ME'])\n",
    "np.save('ME_temp_carb_damage_ambiguity', model_temp_carb['ME'])\n",
    "np.save('ME_damage_ambiguity', model_total['ME'])"
   ]
  }
 ],
 "metadata": {
  "kernelspec": {
   "display_name": "Python 3",
   "language": "python",
   "name": "python3"
  },
  "language_info": {
   "codemirror_mode": {
    "name": "ipython",
    "version": 3
   },
   "file_extension": ".py",
   "mimetype": "text/x-python",
   "name": "python",
   "nbconvert_exporter": "python",
   "pygments_lexer": "ipython3",
   "version": "3.8.5"
  }
 },
 "nbformat": 4,
 "nbformat_minor": 4
}
