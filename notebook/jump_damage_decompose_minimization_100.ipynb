{
 "cells": [
  {
   "cell_type": "code",
   "execution_count": 1,
   "id": "injured-medication",
   "metadata": {
    "code_folding": []
   },
   "outputs": [],
   "source": [
    "# packages\n",
    "import numpy as np\n",
    "import pandas as pd\n",
    "import os\n",
    "import sys\n",
    "sys.path.append(os.path.dirname(os.getcwd()) + '/source')\n",
    "import pickle\n",
    "from solver_1d import false_transient_one_iteration_python\n",
    "from supportfunctions import PDESolver_2d, finiteDiff\n",
    "from numba import njit\n",
    "from scipy.sparse import csc_matrix\n",
    "from scipy.sparse.linalg import bicg\n",
    "from derivative import derivatives_2d\n",
    "import SolveLinSys\n",
    "import time\n",
    "from solver_ode import solve_ode, solve_ode_one, derivative_1d\n",
    "from solver_jump import approach_one_100\n",
    "from scipy import interpolate\n",
    "import matplotlib.pyplot as plt\n",
    "import matplotlib as mpl\n",
    "mpl.rcParams['axes.spines.right'] = False\n",
    "mpl.rcParams['axes.spines.top'] = False\n",
    "mpl.rcParams[\"lines.linewidth\"] = 2\n",
    "mpl.rcParams['legend.frameon'] = False"
   ]
  },
  {
   "cell_type": "code",
   "execution_count": 2,
   "id": "headed-court",
   "metadata": {
    "code_folding": []
   },
   "outputs": [],
   "source": [
    "# parameters\n",
    "δ = 0.01\n",
    "η = 0.032\n",
    "θ_list = pd.read_csv(\"../data/model144.csv\", header=None)[0].to_numpy()\n",
    "θ_list = θ_list/1000\n",
    "σy = 1.2*np.mean(θ_list)\n",
    "ς = 0.1\n",
    "# damage function\n",
    "ȳ = 2\n",
    "γ1 = 0.00017675\n",
    "γ2 = 2*0.0022\n",
    "γ3_list = np.array([0, 2*0.0197, 2*0.3853])\n",
    "# y grid\n",
    "numy_bar = 100\n",
    "y_min = 0\n",
    "y_max = 4\n",
    "hy = (ȳ - y_min)/numy_bar\n",
    "y_grid = np.arange(y_min, y_max+hy, hy)"
   ]
  },
  {
   "cell_type": "code",
   "execution_count": 3,
   "id": "typical-montana",
   "metadata": {},
   "outputs": [
    {
     "data": {
      "text/plain": [
       "2.0"
      ]
     },
     "execution_count": 3,
     "metadata": {},
     "output_type": "execute_result"
    }
   ],
   "source": [
    "y_grid[numy_bar]"
   ]
  },
  {
   "cell_type": "code",
   "execution_count": 4,
   "id": "funky-airfare",
   "metadata": {
    "code_folding": [
     0
    ]
   },
   "outputs": [],
   "source": [
    "# capital parameters\n",
    "invkap = 0.09\n",
    "α = 0.115\n",
    "αₖ = - 0.043\n",
    "σₖ = 0.0085\n",
    "κ = 6.667\n",
    "k0 = 80/α"
   ]
  },
  {
   "cell_type": "code",
   "execution_count": 5,
   "id": "coordinate-religious",
   "metadata": {},
   "outputs": [],
   "source": [
    "n_temp = 16\n",
    "n_carb = 9\n",
    "θ_mat = θ_list.reshape(n_temp, n_carb)\n",
    "θtemp_list = np.average(θ_mat, axis=1)\n",
    "θcarb_list = np.mean(θ_mat, axis=0)"
   ]
  },
  {
   "cell_type": "markdown",
   "id": "valid-overhead",
   "metadata": {},
   "source": [
    "# Jump model of damages\n",
    "Intensity function:\n",
    "$$\n",
    "\\mathcal{I}(y) = \\begin{cases}\n",
    "(\\frac{1}{\\sqrt{2\\pi} \\varsigma})\\exp\\left[- \\frac{(y - \\bar y)^2}{2\\varsigma^2}\\right], \\quad y \\leqslant \\bar y\\\\\n",
    "(\\frac{1}{\\sqrt{2\\pi}\\varsigma}), \\quad y > \\bar y\n",
    "\\end{cases}\n",
    "$$\n",
    "\n",
    "HJB\n",
    "$$\n",
    "\\begin{aligned}\n",
    "0 = \\max_{\\tilde e} \\min_{\\pi^d} &- \\delta \\phi(y) + \\eta \\log\\tilde e \\\\\n",
    "    & +  \\frac{d\\phi}{dy} \\theta \\tilde e  + \\frac{1}{2} \\frac{d^2 \\phi}{dy^2}(\\tilde e)^2 |\\sigma_y|^2 + \\frac{1}{2} \\frac{(\\eta - 1)}{\\delta} \\gamma_2 (\\tilde e)^2 |\\sigma_y|^2\\\\\n",
    "& + \\frac{(\\eta -1)}{\\delta}(\\gamma_1 + \\gamma_2 y) \\tilde e \\theta + \\mathcal{I}(y)\\sum_j \\pi^d_j \\left[\\phi_j(y) - \\phi(y) \\right] \\\\\n",
    "&  + \\textbf{relative entropy}\n",
    "\\end{aligned}\n",
    "$$\n",
    "## Approach one:\n",
    "$$\n",
    "\\begin{aligned}\n",
    "0 = \\max_{\\tilde e} \\min_{g_j} &- \\delta \\phi(y) + \\eta \\log\\tilde e + \\frac{1}{2} \\frac{d^2 \\phi}{dy^2}(\\tilde e)^2 |\\sigma_y|^2  + \\frac{\\xi_m}{2} h'h\\\\\n",
    "& + [ \\frac{d\\phi}{dy}    + \\frac{(\\eta -1)}{\\delta}(\\gamma_1 + \\gamma_2 y)]\\cdot \\tilde e \\sigma_y h +\\frac{1}{2} \\frac{(\\eta - 1)}{\\delta} \\gamma_2 (\\tilde e)^2 |\\sigma_y|^2\\\\\n",
    "& + \\sum_i \\pi_i^c \\frac{d\\phi}{dy} \\theta_i \\tilde e  + \\sum_i \\pi_i^c \\frac{(\\eta -1)}{\\delta}(\\gamma_1 + \\gamma_2 y) \\tilde e \\theta_i + \\xi_a \\sum_i \\hat\\pi^c_i(\\log \\pi^c_i - \\log \\hat\\pi^c_i)\\\\\n",
    "&  + \\mathcal{I}(y)\\sum_j\\hat\\pi_j^d g_j\\left[\\phi_j(y) - \\phi(y) \\right]  + \\xi_m \\mathcal{I}(y) \\sum_j \\hat\\pi_j^d [1 - g_j + g_j \\log g_j]\n",
    "\\end{aligned}\n",
    "$$\n",
    "The optimal $g_j$:\n",
    "$$\n",
    "g_j^* = \\exp\\{\\frac{1}{\\xi_m}\\left( \\phi(y) - \\phi_j(y)\\right)\\}\n",
    "$$\n",
    "Plug back in\n",
    "$$\n",
    "\\begin{aligned}\n",
    "0 = \\max_{\\tilde e} \\min_{g_j} &- \\delta \\phi(y) + \\eta \\log\\tilde e + \\frac{1}{2} \\frac{d^2 \\phi}{dy^2}(\\tilde e)^2 |\\sigma_y|^2 + \\frac{1}{2}\\frac{(\\eta -1)}{\\delta}\\gamma_2(\\tilde e)^2 |\\sigma_y|^2\\\\\n",
    "& + \\sum_i \\pi_i^c \\left[\\frac{d\\phi}{dy}  + \\frac{(\\eta -1)}{\\delta}(\\gamma_1 + \\gamma_2 y)\\right] \\tilde e \\theta_i + \\xi_a \\sum_i \\hat\\pi^c_i(\\log \\pi^c_i - \\log \\hat\\pi^c_i) \\\\\n",
    "&  +  \\xi_m \\mathcal{I}(y) \\sum_j \\hat\\pi_j^d [1 - g_j^* ]\n",
    "\\end{aligned}\n",
    "$$\n",
    "Intensity altered to be $\\iota^*(y) \\mathcal{I} (y)$ where:\n",
    "$$\n",
    "\\iota^*(y)  = \\sum_j \\hat\\pi_j g_j^* \n",
    "$$\n",
    "Distorted probability:\n",
    "$$\n",
    "\\pi^*_j  = \\frac{\\exp\\left(-\\frac{1}{\\xi_m} [\\phi_j(y) - \\phi(y)] \\right) \\hat\\pi_j}{\\iota^*(y)}\n",
    "$$\n",
    "### Equivalent to:\n",
    "$$\n",
    "\\begin{aligned}\n",
    "0 = \\max_{\\tilde e} \\min_{g_j} &- \\delta \\phi(y) + \\eta \\log\\tilde e + \\frac{1}{2} \\frac{d^2 \\phi}{dy^2}(\\tilde e)^2 |\\sigma_y|^2 + \\frac{1}{2}\\frac{(\\eta -1)}{\\delta}\\gamma_2(\\tilde e)^2 |\\sigma_y|^2\\\\\n",
    "& + \\sum_i \\pi_i^c \\left[\\frac{d\\phi}{dy}  + \\frac{(\\eta -1)}{\\delta}(\\gamma_1 + \\gamma_2 y)\\right] \\tilde e \\theta_i + \\xi_a \\sum_i \\hat\\pi^c_i(\\log \\pi^c_i - \\log \\hat\\pi^c_i) \\\\\n",
    "\\end{aligned}\n",
    "$$\n",
    "\n",
    "With boundary condititon:\n",
    "\n",
    "$$\n",
    "\\phi(\\bar y) \\approx - \\xi_p \\log \\left( \\sum_i {\\pi^d_j} \\exp ( - \\frac{1}{\\xi_p}\\phi_j(\\bar y) )\\right)\n",
    "$$"
   ]
  },
  {
   "cell_type": "code",
   "execution_count": 6,
   "id": "noted-valuable",
   "metadata": {
    "code_folding": []
   },
   "outputs": [],
   "source": [
    "def simulate_jump(y_grid, ems_star, solu, ME,  θ_list, T=100, dt=1):\n",
    "#     ems = solu[\"ems\"]\n",
    "    ems = ems_star\n",
    "    πᶜ = solu[\"πc\"]\n",
    "    πᵈ = solu[\"πd\"]\n",
    "    ι = solu[\"ι\"]\n",
    "    h = solu[\"h\"]\n",
    "    periods = int(T/dt)\n",
    "    et = np.zeros(periods)\n",
    "    yt = np.zeros(periods)\n",
    "    πᶜt = np.zeros((periods, len(θ_list)))\n",
    "    πᵈt = np.zeros((periods, len(πᵈ)))\n",
    "    ιt = np.zeros(periods)\n",
    "    ht = np.zeros(periods)\n",
    "    if ME is not None:\n",
    "        me_t = np.zeros(periods)\n",
    "    # interpolate\n",
    "    get_πᵈ = interpolate.interp1d(y_grid, πᵈ)\n",
    "    get_πᶜ = interpolate.interp1d(y_grid, πᶜ)\n",
    "#     y = np.mean(θ_list)*290\n",
    "    y = 1\n",
    "    for t in range(periods):\n",
    "        if y > np.max(y_grid):\n",
    "            break\n",
    "        else:\n",
    "            ems_point = np.interp(y, y_grid, ems)\n",
    "            πᵈ_list = get_πᵈ(y)\n",
    "            πᶜ_list = get_πᶜ(y)\n",
    "            ι_point = np.interp(y, y_grid, ι)\n",
    "            h_point = np.interp(y, y_grid, h)\n",
    "            if ME is not None:\n",
    "                me_point = np.interp(y, y_grid, ME)\n",
    "                me_t[t] = me_point\n",
    "            et[t] = ems_point\n",
    "            πᵈt[t] = πᵈ_list\n",
    "            πᶜt[t] = πᶜ_list\n",
    "            ιt[t] = ι_point\n",
    "            ht[t] = h_point\n",
    "            yt[t] = y\n",
    "            dy = ems_point*np.mean(θ_list)*dt\n",
    "            y = dy + y\n",
    "    if ME is not None:\n",
    "        return yt, et, πᵈt, πᶜt, ιt, ht, me_t\n",
    "    else:\n",
    "        return yt, et, πᵈt, πᶜt, ιt, ht"
   ]
  },
  {
   "cell_type": "code",
   "execution_count": 7,
   "id": "willing-oriental",
   "metadata": {
    "code_folding": [
     0
    ]
   },
   "outputs": [],
   "source": [
    "def plot_solu(ht, πᵈt, ϕ_list, solu, args):\n",
    "    ϕ = solu['φ']\n",
    "    ξa, ξw, ξp, numy_bar = args\n",
    "    fig, (ax1, ax2, ax3) = plt.subplots(1,3, figsize=(18,4))\n",
    "    fig.suptitle(r'$\\xi_a = {}, \\quad  \\xi_w =1/{}, \\quad \\xi_p = 1/{} $'.format(ξa, int(1/ξw), int(1/ξp)))\n",
    "    ax1.plot(ht)\n",
    "    ax1.set_ylim(bottom=0, top=0.1)\n",
    "    ax1.set_xlim(left=0)\n",
    "    ax1.set_xlabel('years')\n",
    "    ax1.set_ylabel('h')\n",
    "    ax2.plot(πᵈt[:,1][πᵈt[:,1]>0], label=\"high damage\")\n",
    "    ax2.plot(πᵈt[:,0][πᵈt[:,0]>0], label=\"low damage\")\n",
    "    ax2.plot(πᵈt[:,2], label=\"extreme\")\n",
    "    ax2.set_ylim(bottom=0, top=1)\n",
    "    ax2.set_xlim(left=0)\n",
    "    ax2.legend()\n",
    "    ax2.set_xlabel('years')\n",
    "    ax2.set_ylabel('πᵈ')\n",
    "    ϕ_bound = np.average(np.exp(-1/ξp*ϕ_list), axis=0, weights=dmg_weight)\n",
    "    ϕ_bound = -ξp*np.log(ϕ_bound)\n",
    "    ax3.plot(y_grid[:numy_bar+1], ϕ, label='prior to jump')\n",
    "    ax3.plot(y_grid[numy_bar:], ϕ_list[0][numy_bar:], linestyle=\"--\", color=\"black\", label=\"post jump, low damage\")\n",
    "    ax3.plot(y_grid[numy_bar:], ϕ_bound[numy_bar:], label=\"post jump, certainty equivalent\")\n",
    "    ax3.plot(y_grid[numy_bar:], ϕ_list[1][numy_bar:], linestyle=\"-.\", color=\"black\", label=\"post jump, high damage\")\n",
    "    ax3.plot(y_grid[numy_bar:], ϕ_list[2][numy_bar:], linestyle=\":\", color=\"black\")\n",
    "    ax3.vlines(x=2, ymin=-11, ymax=5, linestyle=\"dashed\", color=\"black\")\n",
    "    # ax3.xlim(0,4)\n",
    "    # ax3.ylim(-0.02, 0.05)\n",
    "    ax3.set_ylabel('$\\phi$')\n",
    "    ax3.set_xlabel('y')\n",
    "    ax3.set_xlim(left=0)\n",
    "    ax3.legend()\n",
    "    # ax3.set_title(r'$\\xi_a = 1,000, \\quad  \\xi_w =1/400, \\quad \\xi_p = 1/400 \\times 5 $')\n",
    "    # plt.savefig(\"phi_x1.pdf\", facecolor=\"w\", edgecolor='w', bbox_inches=\"tight\") "
   ]
  },
  {
   "cell_type": "code",
   "execution_count": 8,
   "id": "isolated-longer",
   "metadata": {
    "code_folding": []
   },
   "outputs": [],
   "source": [
    "# simulate\n",
    "def simulate_logkapital(invkap, αₖ,  σₖ, κ, k0, T, dt):\n",
    "    periods = int(T/dt)\n",
    "    Kt = np.zeros(periods)\n",
    "    i = invkap\n",
    "     # log capital\n",
    "    Kt[0] = np.log(k0)\n",
    "    k = np.log(k0)\n",
    "    for t in range(periods-1):\n",
    "        k +=   (αₖ + i - κ/2*i**2 - .5*σₖ**2)*dt\n",
    "        Kt[t+1] = k\n",
    "    return Kt\n",
    "def simulate_scc(invkap, αₖ,  σₖ, κ, k0, MEt, T=100, dt=1):\n",
    "    Kt = simulate_logkapital(invkap, αₖ, σₖ, κ,  k0, T, dt)\n",
    "    MCt = δ*(1-η)/((α - invkap)*np.exp(Kt))\n",
    "    SCCt = MEt/MCt*1000\n",
    "    return SCCt, MCt"
   ]
  },
  {
   "cell_type": "markdown",
   "id": "deluxe-barcelona",
   "metadata": {},
   "source": [
    "# SCC uncertainty decomposition: pre jump\n",
    "\n",
    "First order condition for $\\tilde e$\n",
    "\n",
    "$$\n",
    "    \\left( \\frac{d^2\\phi(y)}{dy^2} + \\frac{(\\eta-1)}{\\delta}\\cdot\\gamma_2  \\right)|\\sigma_y|^2\\tilde e + \\sum_j \\pi^c_j \\left[\\frac{d\\phi(y)}{dy} + \\frac{(\\eta - 1)}{\\delta}(\\gamma_1 + \\gamma_2 y)\\right]\\theta_j  + \\frac{\\eta}{\\tilde e} = 0 \\tag{$\\ast$}\n",
    "$$\n",
    "\n",
    "Call solution $\\tilde e^* $. Now solve:\n",
    "$$\n",
    "\\begin{aligned}\n",
    "0 =  & - \\delta \\color{red}{\\phi(y)}+ \\eta \\log\\tilde e^* + \\frac{1}{2} \\color{red}{ \\frac{d^2 \\phi}{dy^2}}\\cdot(\\tilde e^*)^2 |\\sigma_y|^2 + \\frac{1}{2}\\frac{(\\eta -1)}{\\delta}\\gamma_2(\\tilde e^*)^2 |\\sigma_y|^2\\\\\n",
    "& + \\left[\\color{red}{\\frac{d\\phi}{dy}}  + \\frac{(\\eta -1)}{\\delta}(\\gamma_1 + \\gamma_2 y)\\right] \\tilde e^* \\sum_i \\pi_i^c \\theta_i\n",
    "\\end{aligned}\n",
    "$$"
   ]
  },
  {
   "cell_type": "code",
   "execution_count": 9,
   "id": "threatened-singer",
   "metadata": {
    "code_folding": [
     0
    ]
   },
   "outputs": [],
   "source": [
    "# solve for decompose\n",
    "def decompose_test(y_grid, numy_bar, ems_star,  solu, ϕ_list, args, ϵ=4, tol=1e-7, max_iter=5_000):\n",
    "    \"\"\"\n",
    "    compute jump model with ambiguity over climate models\n",
    "    \"\"\"\n",
    "    δ, η, θ_list, γ1, γ2, γ3_list, ȳ, dmg_weight, ς, ξp, ξa, ξw, σy = args\n",
    "    πᶜ = solu['πc']\n",
    "    h = solu[\"h\"]\n",
    "    # solve for HJB with jump function\n",
    "    y_grid_cap = y_grid[:numy_bar+1]\n",
    "    dy = y_grid_cap[1] - y_grid_cap[0]\n",
    "    dΛ = γ1 + γ2*y_grid_cap\n",
    "    ddΛ = γ2\n",
    "    πᶜo = np.ones((len(θ_list), len(y_grid_cap)))/len(θ_list)\n",
    "    θ = θ_list@πᶜ \n",
    "    A = -δ*np.ones(y_grid_cap.shape)\n",
    "    B = θ*ems_star + σy*h*ems_star\n",
    "    C = σy**2*ems_star**2/2\n",
    "    D = δ*η*np.log(ems_star) + (η-1)*dΛ*ems_star*(θ + σy*h) + (η-1)*ddΛ*ems_star**2*σy**2/2\\\n",
    "    + ξw/2*h**2 + ξa*np.sum(πᶜ*(np.log(πᶜ) - np.log(πᶜo)), axis=0)\n",
    "    ϕ_bound = np.average(np.exp(-1/ξp*ϕ_list), axis=0, weights=dmg_weight)[:numy_bar+1]\n",
    "    ϕ_bound = -ξp*np.log(ϕ_bound)\n",
    "    ϕ = np.average(ϕ_list, axis=0, weights=dmg_weight)[:numy_bar+1]\n",
    "#     ϕ = ϕ_bound\n",
    "    episode = 0\n",
    "    lhs_error = 1\n",
    "    while lhs_error > tol and episode < max_iter:\n",
    "        ϕ_old = ϕ.copy()\n",
    "        dϕdy = derivative_1d(ϕ, 1, dy, \"up\")\n",
    "        dϕdyy = derivative_1d(ϕ, 2, dy, \"up\")\n",
    "        # solver\n",
    "        ϕ_new = solve_ode(A, B, C, D, y_grid_cap, ϕ, ϵ, (True, ϕ_bound[numy_bar]))\n",
    "        rhs = -δ*ϕ_new + B*dϕdy + C*dϕdyy + D\n",
    "        rhs_error = np.max(abs(rhs))\n",
    "        lhs_error = np.max(abs((ϕ_new - ϕ_old)/ϵ))\n",
    "        ϕ = ϕ_new\n",
    "        episode += 1\n",
    "    print(\"episode: {},\\t ode error: {},\\t ft error: {}\".format(episode, rhs_error, lhs_error))\n",
    "\n",
    "#     dϕdy = derivative_1d(ϕ, 1, dy, \"up\")\n",
    "#     dϕdyy = derivative_1d(ϕ, 2, dy, \"up\")\n",
    "    temp = dϕdy+(η-1)*dΛ\n",
    "#     error = np.max(abs(A*ϕ + B*dϕdy + C*dϕdyy + D))\n",
    "    \n",
    "    ME = -(dϕdy+(η-1)*dΛ)*(θ + σy*h) - (dϕdyy+(η-1)*ddΛ)*σy**2*ems_star# solve for decompose\n",
    "    ratio = ME/(δ*η/ems_star)\n",
    "\n",
    "#     print(\"PDE error: %s\" % (error))  \n",
    "    return ME, ratio, ϕ, ξa*np.sum(πᶜ*(np.log(πᶜ) - np.log(πᶜo)), axis=0)"
   ]
  },
  {
   "cell_type": "code",
   "execution_count": 10,
   "id": "visible-farmer",
   "metadata": {
    "code_folding": [
     0
    ]
   },
   "outputs": [],
   "source": [
    "def solve_baseline(y_grid, numy_bar, ems_star, solu, ϕ_list, args, ϵ=2, tol=1e-7, max_iter=10_000):\n",
    "    \"\"\"\n",
    "    compute jump model with ambiguity over climate models\n",
    "    \"\"\"\n",
    "    δ, η, θ_list, γ1, γ2, γ3_list, ȳ, dmg_weight, ς, ξp, ξa, ξw, σy = args\n",
    "#     ems_star = solu['ems']\n",
    "    # solve for HJB with jump function\n",
    "    y_grid_cap = y_grid[:numy_bar+1]\n",
    "    dy = y_grid_cap[1] - y_grid_cap[0]\n",
    "    dΛ = γ1 + γ2*y_grid_cap\n",
    "    ddΛ = γ2\n",
    "    πᶜo = np.ones((len(θ_list), len(y_grid_cap)))/len(θ_list)\n",
    "    θ = θ_list@πᶜo \n",
    "    A = -δ*np.ones(y_grid_cap.shape)\n",
    "    B = θ*ems_star\n",
    "    C = σy**2*ems_star**2/2\n",
    "    D = η*np.log(ems_star) + (η-1)/δ*dΛ*ems_star*θ + (η-1)/δ*ddΛ*ems_star**2*σy**2/2\n",
    "    ϕ_bound = np.average(ϕ_list, axis=0, weights=dmg_weight)[:numy_bar+1]\n",
    "    ϕ = ϕ_bound\n",
    "    episode = 0\n",
    "    lhs_error = 1\n",
    "    while lhs_error > tol and episode < max_iter:\n",
    "        ϕ_old = ϕ.copy()\n",
    "        dϕdy = derivative_1d(ϕ, 1, dy, \"up\")\n",
    "        dϕdyy = derivative_1d(ϕ, 2, dy, \"up\")\n",
    "        # solver\n",
    "        ϕ_new = solve_ode(A, B, C, D, y_grid_cap, ϕ, ϵ, (True, ϕ_bound[numy_bar]))\n",
    "        rhs = -δ*ϕ_new + B*dϕdy + C*dϕdyy + D\n",
    "        rhs_error = np.max(abs(rhs))\n",
    "        lhs_error = np.max(abs((ϕ_new - ϕ_old)/ϵ))\n",
    "        ϕ = ϕ_new\n",
    "        episode += 1\n",
    "    print(\"episode: {},\\t ode error: {},\\t ft error: {}\".format(episode, rhs_error, lhs_error))\n",
    "\n",
    "#     dϕdy = derivative_1d(ϕ, 1, dy, \"center\")\n",
    "#     dϕdyy = derivative_1d(ϕ, 2, dy, \"center\")\n",
    "    \n",
    "    ME = -(dϕdy+(η-1)/δ*dΛ)*θ - (dϕdyy+(η-1)/δ*ddΛ)*σy**2*ems_star\n",
    "    ratio = ME/(η/ems_star)\n",
    "\n",
    "    return ME, ratio"
   ]
  },
  {
   "cell_type": "markdown",
   "id": "speaking-driver",
   "metadata": {},
   "source": [
    "# SCC uncertainty decomposition: pre jump\n",
    "\n",
    "## With minimization over climate models\n",
    "\n",
    "\n",
    "Call solution $\\tilde e^* $. Now solve:\n",
    "$$\n",
    "\\begin{aligned}\n",
    "0 = \\min_h & - \\delta \\color{red}{\\phi(y)}+ \\frac{\\xi_w}{2}h'h \\\\\n",
    "& + \\eta \\log\\tilde e^* + \\frac{1}{2} \\color{red}{ \\frac{d^2 \\phi}{dy^2}}\\cdot(\\tilde e^*)^2 |\\sigma_y|^2 + \\frac{1}{2}\\frac{(\\eta -1)}{\\delta}\\gamma_2(\\tilde e^*)^2 |\\sigma_y|^2\\\\\n",
    "& + \\left[\\color{red}{\\frac{d\\phi}{dy}}  + \\frac{(\\eta -1)}{\\delta}(\\gamma_1 + \\gamma_2 y)\\right] \\tilde e^* (\\sum_i \\pi_i^c \\theta_i + \\sigma_y h)\n",
    "\\end{aligned}\n",
    "$$\n",
    "\n",
    "$$\n",
    "h^* = - \\frac{\\frac{d\\phi(y)}{dy} + \\frac{(\\eta - 1 )}{\\delta}(\\gamma_1 + \\gamma_2 y)}{\\xi_w}\\tilde e^* \\sigma_y\n",
    "$$\n",
    "\n",
    "Plug back in \n",
    "\n",
    "$$\n",
    "\\begin{aligned}\n",
    "    0 =  & - \\delta \\color{red}{\\phi(y)} - \\frac{1}{2\\xi_w} \\left( \\color{red}{\\frac{d\\phi(y)}{dy} } + \\frac{(\\eta -1)}{\\delta} (\\gamma_1 + \\gamma_2 y) \\right)^2 (\\tilde e^*)^2 |\\sigma_y|^2\\\\\n",
    "& + \\eta \\log\\tilde e^* + \\frac{1}{2} \\color{red}{ \\frac{d^2 \\phi}{dy^2}}\\cdot(\\tilde e^*)^2 |\\sigma_y|^2 + \\frac{1}{2}\\frac{(\\eta -1)}{\\delta}\\gamma_2(\\tilde e^*)^2 |\\sigma_y|^2\\\\\n",
    "& + \\left[\\color{red}{\\frac{d\\phi}{dy}}  + \\frac{(\\eta -1)}{\\delta}(\\gamma_1 + \\gamma_2 y)\\right] \\tilde e^* \\sum_i \\pi_i^c \\theta_i\n",
    "\\end{aligned}\n",
    "$$\n",
    "\n",
    "First order condition for $\\tilde e$\n",
    "\n",
    "$$\n",
    "    \\left(  - \\frac{1}{\\xi_w} \\left( \\color{red}{\\frac{d\\phi(y)}{dy} } + \\frac{(\\eta -1)}{\\delta} (\\gamma_1 + \\gamma_2 y) \\right)^2  + \\frac{d^2\\phi(y)}{dy^2} + \\frac{(\\eta-1)}{\\delta}\\cdot\\gamma_2  \\right)|\\sigma_y|^2 \\tilde e + \\sum_j \\pi^c_j \\left[\\frac{d\\phi(y)}{dy} + \\frac{(\\eta - 1)}{\\delta}(\\gamma_1 + \\gamma_2 y)\\right]\\theta_j  + \\frac{\\eta}{\\tilde e} = 0 \\tag{$\\ast$}\n",
    "$$"
   ]
  },
  {
   "cell_type": "code",
   "execution_count": 11,
   "id": "designing-addition",
   "metadata": {
    "code_folding": [
     0
    ]
   },
   "outputs": [],
   "source": [
    "# solve for decompose\n",
    "def minimize_h(y_grid, numy_bar, ems_star,  solu, ϕ_list, args, ϵ=4, tol=1e-7, max_iter=10_000):\n",
    "    \"\"\"\n",
    "    compute jump model with ambiguity over climate models\n",
    "    \"\"\"\n",
    "    δ, η, θ_list, γ1, γ2, γ3_list, ȳ, dmg_weight, ς, ξp, ξa, ξw, σy = args\n",
    "#     ems_star = solu['ems']\n",
    "    # solve for HJB with jump function\n",
    "    y_grid_cap = y_grid[:numy_bar+1]\n",
    "    dy = y_grid_cap[1] - y_grid_cap[0]\n",
    "    dΛ = γ1 + γ2*y_grid_cap\n",
    "    ddΛ = γ2\n",
    "    πᶜo = np.ones((len(θ_list), len(y_grid_cap)))/len(θ_list)\n",
    "    θ = θ_list@πᶜo \n",
    "    \n",
    "    ϕ_bound = np.average(ϕ_list, axis=0, weights=dmg_weight)[:numy_bar+1]\n",
    "    ϕ = ϕ_bound\n",
    "    episode = 0\n",
    "    lhs_error = 1\n",
    "    while lhs_error > tol and episode < max_iter:\n",
    "        ϕ_old = ϕ.copy()\n",
    "        dϕdy = derivative_1d(ϕ, 1, dy, \"center\")\n",
    "        dϕdyy = derivative_1d(ϕ, 2, dy, \"center\")\n",
    "        # solver\n",
    "        temp = dϕdy + (η-1)/δ*dΛ\n",
    "        A = -δ*np.ones(y_grid_cap.shape)\n",
    "        B = θ*ems_star\n",
    "        C = σy**2*ems_star**2/2\n",
    "        D = η*np.log(ems_star) + (η-1)/δ*dΛ*ems_star*θ \\\n",
    "        + 1/2*(η-1)/δ*ddΛ*ems_star**2*σy**2\\\n",
    "        - 1/(2*ξw)*temp**2*ems_star**2*σy**2\n",
    "        ϕ_new = solve_ode(A, B, C, D, y_grid_cap, ϕ, ϵ, (True, ϕ_bound[numy_bar]))\n",
    "        rhs = -δ*ϕ_new + B*dϕdy + C*dϕdyy + D\n",
    "        rhs_error = np.max(abs(rhs))\n",
    "        lhs_error = np.max(abs((ϕ_new - ϕ_old)/ϵ))\n",
    "        ϕ = ϕ_new\n",
    "        episode += 1\n",
    "    print(\"episode: {},\\t ode error: {},\\t ft error: {}\".format(episode, rhs_error, lhs_error))\n",
    "\n",
    "#     dϕdy = derivative_1d(ϕ, 1, dy, \"center\")\n",
    "#     dϕdyy = derivative_1d(ϕ, 2, dy, \"center\")\n",
    "#     temp = dϕdy + (η-1)*dΛ\n",
    "    \n",
    "    ME = -temp*θ - (- 1/ξw*temp**2 + dϕdyy+(η-1)*ddΛ)*σy**2*ems_star\n",
    "    ratio = ME/(η/ems_star)\n",
    "\n",
    "    return ME, ratio, ϕ"
   ]
  },
  {
   "cell_type": "markdown",
   "id": "academic-being",
   "metadata": {},
   "source": [
    "## Minimize over $\\pi^c$\n",
    "\n",
    "Call solution $\\tilde e^* $. Now solve:\n",
    "$$\n",
    "\\begin{aligned}\n",
    "0 = \\min_{\\hat \\pi^c_i} & - \\delta \\color{red}{\\phi(y)} + \\eta \\log\\tilde e^* \\\\\n",
    "&  + \\frac{1}{2} \\color{red}{ \\frac{d^2 \\phi}{dy^2}}\\cdot(\\tilde e^*)^2 |\\sigma_y|^2 + \\frac{1}{2}\\frac{(\\eta -1)}{\\delta}\\gamma_2(\\tilde e^*)^2 |\\sigma_y|^2\\\\\n",
    "& + \\left[\\color{red}{\\frac{d\\phi}{dy}}  + \\frac{(\\eta -1)}{\\delta}(\\gamma_1 + \\gamma_2 y)\\right] \\tilde e^* \\sum_i \\hat \\pi_i^c \\theta_i \\\\\n",
    "& + \\xi_a \\sum_{i=1}^n \\hat \\pi^c_i (\\log \\hat \\pi^c_i - \\log \\pi^c_i)\n",
    "\\end{aligned}\n",
    "$$"
   ]
  },
  {
   "cell_type": "code",
   "execution_count": 12,
   "id": "cloudy-topic",
   "metadata": {
    "code_folding": [
     1
    ]
   },
   "outputs": [],
   "source": [
    "# solve for decompose\n",
    "def minimize_π(y_grid, numy_bar, ems_star,  solu, ϕ_list, args, with_damage=False, ϵ=2, tol=1e-7, max_iter=10_000):\n",
    "    \"\"\"\n",
    "    compute jump model with ambiguity over climate models\n",
    "    \"\"\"\n",
    "    δ, η, θ_list, γ1, γ2, γ3_list, ȳ, dmg_weight, ς, ξp, ξa, ξw, σy = args\n",
    "#     ems_star = solu['ems']\n",
    "    # solve for HJB with jump function\n",
    "    y_grid_cap = y_grid[:numy_bar+1]\n",
    "    dy = y_grid_cap[1] - y_grid_cap[0]\n",
    "    dΛ = γ1 + γ2*y_grid_cap\n",
    "    ddΛ = γ2\n",
    "    πᶜo = np.ones((len(θ_list), len(y_grid_cap)))/len(θ_list)\n",
    "    if with_damage == False:\n",
    "        ϕ_bound = np.average(ϕ_list, axis=0, weights=dmg_weight)[:numy_bar+1]\n",
    "    if with_damage == True:\n",
    "        ϕ_bound = np.average(np.exp(-1/ξp*ϕ_list), axis=0, weights=dmg_weight)[:numy_bar+1]\n",
    "        ϕ_bound = -ξp*np.log(ϕ_bound)\n",
    "    ϕ = ϕ_bound\n",
    "    episode = 0\n",
    "    lhs_error = 1\n",
    "    while lhs_error > tol and episode < max_iter:\n",
    "        ϕ_old = ϕ.copy()\n",
    "        dϕdy = derivative_1d(ϕ, 1, dy,\"up\")\n",
    "        dϕdyy = derivative_1d(ϕ, 2, dy, \"up\")\n",
    "        # solver\n",
    "        temp = dϕdy + (η-1)/δ*dΛ\n",
    "        # minimize over π\n",
    "        weight = np.array([ - 1/ξa*temp*ems_star*θ for θ in θ_list])\n",
    "        weight = weight - np.max(weight, axis=0)\n",
    "        πᶜ = πᶜo*np.exp(weight)\n",
    "        πᶜ[πᶜ <= 1e-15] = 1e-15\n",
    "        πᶜ = πᶜ/np.sum(πᶜ, axis=0)\n",
    "        A = -δ*np.ones(y_grid_cap.shape)\n",
    "        B = (θ_list@πᶜ)*ems_star\n",
    "        C = σy**2*ems_star**2/2\n",
    "        D = η*np.log(ems_star) + (θ_list@πᶜ)*(η-1)/δ*dΛ*ems_star \\\n",
    "        + ξa*np.sum(πᶜ*(np.log(πᶜ) - np.log(πᶜo)), axis=0)\\\n",
    "        + 1/2*(η-1)/δ*ddΛ*ems_star**2*σy**2\n",
    "        ϕ_new = solve_ode(A, B, C, D, y_grid_cap, ϕ, ϵ, (True, ϕ_bound[numy_bar]))\n",
    "        rhs = -δ*ϕ_new + B*dϕdy + C*dϕdyy + D\n",
    "        rhs_error = np.max(abs(rhs))\n",
    "        lhs_error = np.max(abs((ϕ_new - ϕ_old)/ϵ))\n",
    "        ϕ = ϕ_new\n",
    "        episode += 1\n",
    "    print(\"episode: {},\\t ode error: {},\\t ft error: {}\".format(episode, rhs_error, lhs_error))\n",
    "\n",
    "#     dϕdy = derivative_1d(ϕ, 1, dy, \"center\")\n",
    "#     dϕdyy = derivative_1d(ϕ, 2, dy, \"center\")\n",
    "    ME = -(dϕdy+(η-1)/δ*dΛ)*(θ_list@πᶜ) - (dϕdyy+(η-1)/δ*ddΛ)*σy**2*ems_star\n",
    "    ratio = ME/(η/ems_star)\n",
    "    return ME, ratio"
   ]
  },
  {
   "cell_type": "markdown",
   "id": "local-career",
   "metadata": {},
   "source": [
    "# Minimize over $g_i$\n",
    "\n",
    "$$\n",
    "\\begin{aligned}\n",
    "0 = \\min_h & - \\delta \\color{red}{\\phi(y)} + \\eta \\log\\tilde e^* \\\\\n",
    "&  + \\frac{1}{2} \\color{red}{ \\frac{d^2 \\phi}{dy^2}}\\cdot(\\tilde e^*)^2 |\\sigma_y|^2 + \\frac{1}{2}\\frac{(\\eta -1)}{\\delta}\\gamma_2(\\tilde e^*)^2 |\\sigma_y|^2\\\\\n",
    "& + \\left[\\color{red}{\\frac{d\\phi}{dy}}  + \\frac{(\\eta -1)}{\\delta}(\\gamma_1 + \\gamma_2 y)\\right] \\tilde e^* \\sum_i \\pi_i^c \\theta_i\n",
    "\\end{aligned}\n",
    "$$\n"
   ]
  },
  {
   "cell_type": "code",
   "execution_count": 13,
   "id": "seeing-prime",
   "metadata": {
    "code_folding": []
   },
   "outputs": [],
   "source": [
    "# solve for decompose\n",
    "def minimize_g(y_grid, numy_bar, ems_star, solu, ϕ_list, args, ϵ=3, tol=1e-6, max_iter=10_000):\n",
    "    \"\"\"\n",
    "    compute jump model with ambiguity over climate models\n",
    "    \"\"\"\n",
    "    δ, η, θ_list, γ1, γ2, γ3_list, ȳ, dmg_weight, ς, ξp, ξa, ξw, σy = args\n",
    "#     ems_star = solu['ems']\n",
    "    # solve for HJB with jump function\n",
    "    ϕ_bound = np.average(np.exp(-1/ξp*ϕ_list), axis=0, weights=dmg_weight)\n",
    "    ϕ_bound = -ξp*np.log(ϕ_bound)\n",
    "    y_grid_cap = y_grid[:numy_bar+1]\n",
    "    dy = y_grid_cap[1] - y_grid_cap[0]\n",
    "    dΛ = γ1 + γ2*y_grid_cap\n",
    "    ddΛ = γ2\n",
    "    πᶜo = np.ones((len(θ_list), len(y_grid_cap)))/len(θ_list)\n",
    "    θ = θ_list@πᶜo \n",
    "    \n",
    "    ϕ = np.average(ϕ_list, axis=0, weights=dmg_weight)[:numy_bar+1]\n",
    "    episode = 0\n",
    "    lhs_error = 1\n",
    "    while lhs_error > tol and episode < max_iter:\n",
    "        ϕ_old = ϕ.copy()\n",
    "        dϕdy = derivative_1d(ϕ, 1, dy, \"center\")\n",
    "        dϕdyy = derivative_1d(ϕ, 2, dy, \"center\")\n",
    "        # solver\n",
    "        temp = dϕdy + (η-1)/δ*dΛ\n",
    "        A = -δ*np.ones(y_grid_cap.shape)\n",
    "        B = θ*ems_star\n",
    "        C = σy**2*ems_star**2/2\n",
    "        D = η*np.log(ems_star) + (η-1)/δ*dΛ*ems_star*θ \\\n",
    "        + (η-1)/δ*ddΛ*ems_star**2*σy**2/2\n",
    "        ϕ_new = solve_ode(A, B, C, D, y_grid_cap, ϕ, ϵ, (True, ϕ_bound[numy_bar]))\n",
    "        rhs = -δ*ϕ_new + B*dϕdy + C*dϕdyy + D\n",
    "        rhs_error = np.max(abs(rhs))\n",
    "        lhs_error = np.max(abs((ϕ_new - ϕ_old)/ϵ))\n",
    "        ϕ = ϕ_new\n",
    "        episode += 1\n",
    "    print(\"episode: {},\\t ode error: {},\\t ft error: {}\".format(episode, rhs_error, lhs_error))\n",
    "\n",
    "#     dϕdy = derivative_1d(ϕ, 1, dy, \"up\")\n",
    "#     dϕdyy = derivative_1d(ϕ, 2, dy, \"up\")\n",
    "#     temp = dϕdy + (η-1)*dΛ    \n",
    "    ME = -temp*θ - ( dϕdyy+(η-1)/δ*ddΛ)*σy**2*ems_star\n",
    "    ratio = ME/(η/ems_star)\n",
    "\n",
    "    return ME, ratio, ϕ"
   ]
  },
  {
   "cell_type": "markdown",
   "id": "bacterial-bacteria",
   "metadata": {},
   "source": [
    "# Computation"
   ]
  },
  {
   "cell_type": "code",
   "execution_count": 14,
   "id": "opening-advocacy",
   "metadata": {},
   "outputs": [
    {
     "name": "stdout",
     "output_type": "stream",
     "text": [
      "episode: 1790,\t ode error: 5.868157153882114e-05,\t ft error: 9.029266134774616e-08\n",
      "episode: 5000,\t ode error: 0.0002620329319091355,\t ft error: 5.358039483760457e-06\n",
      "episode: 699,\t ode error: 0.001121881325521404,\t ft error: 9.933812883389237e-08\n",
      "episode: 159,\t ode error: 0.0007931061203366209,\t ft error: 8.201261403328886e-08\n"
     ]
    },
    {
     "data": {
      "image/png": "[encoded data removed]",
      "text/plain": [
       "<Figure size 1296x288 with 3 Axes>"
      ]
     },
     "metadata": {
      "needs_background": "light"
     },
     "output_type": "display_data"
    }
   ],
   "source": [
    "ξa = 1/10_000*100\n",
    "ξw = 1000*100\n",
    "ξp = 1/20*100\n",
    "dmg_weight = np.array([1/3, 1/3, 1/3])\n",
    "args = (δ, η, θ_list, γ1, γ2, γ3_list, ȳ, dmg_weight, ς, ξp, ξa, ξw, σy)\n",
    "solu, ϕ_list = approach_one_100(y_grid, numy_bar, args, max_iter=5000, ϵ=2, tol=1e-7)\n",
    "ems_star = solu[\"ems\"]\n",
    "ME_total = η/solu['ems']\n",
    "yt, et, πᵈt, πᶜt, ιt, ht, MEt = simulate_jump(y_grid[:numy_bar+1], ems_star, solu, ME_total, θ_list, dt=1/4)\n",
    "args_plot = (ξa, ξw, ξp, numy_bar)\n",
    "plot_solu(ht, πᵈt, ϕ_list, solu, args_plot)"
   ]
  },
  {
   "cell_type": "code",
   "execution_count": 29,
   "id": "explicit-character",
   "metadata": {
    "code_folding": []
   },
   "outputs": [
    {
     "name": "stdout",
     "output_type": "stream",
     "text": [
      "episode: 5000,\t ode error: 9.58544409795925e-05,\t ft error: 1.188800786344757e-05\n",
      "episode: 5000,\t ode error: 0.00024155268032240856,\t ft error: 4.924485078398414e-05\n",
      "episode: 469,\t ode error: 0.0010787606043613715,\t ft error: 9.416815179482303e-08\n",
      "episode: 5000,\t ode error: 0.0005687838701597114,\t ft error: 1.811594718444572e-05\n",
      "episode: 160,\t ode error: 0.0003668905654802164,\t ft error: 8.483422719862688e-08\n",
      "episode: 472,\t ode error: 5.8887313419159204e-05,\t ft error: 9.100577906077471e-08\n",
      "episode: 5000,\t ode error: 0.0002590158984481436,\t ft error: 1.0182033975366286e-05\n",
      "episode: 468,\t ode error: 0.001088055766084956,\t ft error: 9.863370860803873e-08\n",
      "episode: 1349,\t ode error: 0.0005657584763794285,\t ft error: 9.758646646318425e-08\n",
      "episode: 155,\t ode error: 0.0003888116410542507,\t ft error: 9.655083177406709e-08\n",
      "episode: 5000,\t ode error: 6.11444525226712e-05,\t ft error: 6.409771728795495e-06\n",
      "episode: 5000,\t ode error: 0.00024312223443250652,\t ft error: 5.469963390887974e-05\n",
      "episode: 468,\t ode error: 0.0010837525233194168,\t ft error: 9.977662962512568e-08\n",
      "episode: 5000,\t ode error: 0.000566343434836282,\t ft error: 1.5277754400836823e-06\n",
      "episode: 156,\t ode error: 0.00042105943673046223,\t ft error: 9.831746483612847e-08\n",
      "episode: 5000,\t ode error: 9.58544409795925e-05,\t ft error: 1.188800786344757e-05\n",
      "episode: 5000,\t ode error: 0.00024155268032240856,\t ft error: 4.924485078398414e-05\n",
      "episode: 469,\t ode error: 0.0010787606043613715,\t ft error: 9.416815179482303e-08\n",
      "episode: 5000,\t ode error: 0.0007988798936532024,\t ft error: 3.5738785447936294e-05\n",
      "episode: 110,\t ode error: 0.0007420187201250712,\t ft error: 8.824992248079866e-07\n"
     ]
    }
   ],
   "source": [
    "# one type partition\n",
    "# baseline\n",
    "ξa = 1000*100\n",
    "ξw = 1000*100\n",
    "ξp = 1000*100\n",
    "dmg_weight = np.array([1/3, 1/3, 1/3])\n",
    "args = (δ, η, θ_list, γ1, γ2, γ3_list, ȳ, dmg_weight, ς, ξp, ξa, ξw, σy)\n",
    "solu, ϕ_list = approach_one_100(y_grid, numy_bar, args, max_iter=5000, ϵ=3, tol=1e-7)\n",
    "ME_base, ratio_base = solve_baseline(y_grid, numy_bar, ems_star, solu, ϕ_list, args)\n",
    "_, _, _, _, _, _, MEt_base = simulate_jump(y_grid[:numy_bar+1], ems_star, solu, ME_base,  θ_list, \n",
    "                                           T=100, dt=1/4)\n",
    "# carbon\n",
    "ξa = 1/10_000*100\n",
    "ξw = 1000*100\n",
    "ξp = 1000*100\n",
    "dmg_weight = np.array([1/3, 1/3, 1/3])\n",
    "args = (δ, η, θcarb_list, γ1, γ2, γ3_list, ȳ, dmg_weight, ς, ξp, ξa, ξw, σy)\n",
    "solu, ϕ_list = approach_one_100(y_grid, numy_bar, args, max_iter=5000, ϵ=3, tol=1e-7)\n",
    "ME_carb, ratiocarb = minimize_π(y_grid, numy_bar, ems_star, solu, ϕ_list, args)\n",
    "_, _, _, _, _, _, MEt_carb = simulate_jump(y_grid[:numy_bar+1], ems_star, solu, ME_carb,  θcarb_list, \n",
    "                                           T=100, dt=1/4)\n",
    "# temperature\n",
    "ξa = 1/10_000*100\n",
    "ξw = 1000*100\n",
    "ξp = 1000*100\n",
    "dmg_weight = np.array([1/3, 1/3, 1/3])\n",
    "args = (δ, η, θtemp_list, γ1, γ2, γ3_list, ȳ, dmg_weight, ς, ξp, ξa, ξw, σy)\n",
    "solu, ϕ_list = approach_one_100(y_grid, numy_bar, args, max_iter=5000, ϵ=3, tol=1e-7)\n",
    "ME_temp, ratiotemp = minimize_π(y_grid, numy_bar, ems_star, solu, ϕ_list, args)\n",
    "_, _, _, _, _, _, MEt_temp = simulate_jump(y_grid[:numy_bar+1], ems_star, solu, ME_temp,  θtemp_list, \n",
    "                                           T=100, dt=1/4)\n",
    "# damage\n",
    "ξa = 1000*100\n",
    "ξw = 1000*100\n",
    "ξp = 1/20*100\n",
    "dmg_weight = np.array([1/3, 1/3, 1/3])\n",
    "args = (δ, η, θ_list, γ1, γ2, γ3_list, ȳ, dmg_weight, ς, ξp, ξa, ξw, σy)\n",
    "solu, ϕ_list = approach_one_100(y_grid, numy_bar, args, max_iter=5000, ϵ=3, tol=1e-7)\n",
    "ME_dmg, ratiodmg, ϕ = minimize_g(y_grid, numy_bar, ems_star, solu, ϕ_list, args)\n",
    "_, _, _, _, _, _, MEt_dmg = simulate_jump(y_grid[:numy_bar+1], ems_star, solu, ME_dmg,  θ_list, \n",
    "                                          T=100, dt=1/4)"
   ]
  },
  {
   "cell_type": "code",
   "execution_count": 30,
   "id": "occupied-gambling",
   "metadata": {
    "code_folding": []
   },
   "outputs": [
    {
     "data": {
      "text/plain": [
       "(0.0, 41.63298577958641)"
      ]
     },
     "execution_count": 30,
     "metadata": {},
     "output_type": "execute_result"
    },
    {
     "data": {
      "image/png": "[encoded data removed]",
      "text/plain": [
       "<Figure size 432x288 with 1 Axes>"
      ]
     },
     "metadata": {
      "needs_background": "light"
     },
     "output_type": "display_data"
    },
    {
     "data": {
      "image/png": "[encoded data removed]",
      "text/plain": [
       "<Figure size 432x288 with 1 Axes>"
      ]
     },
     "metadata": {
      "needs_background": "light"
     },
     "output_type": "display_data"
    }
   ],
   "source": [
    "# plot\n",
    "# a function of y\n",
    "plt.subplots()\n",
    "plt.plot(y_grid[:numy_bar+1],np.log(ME_total/ME_base)*100, label=\"total\", color=\"tab:red\")\n",
    "plt.plot(y_grid[:numy_bar+1],np.log(ME_dmg/ME_base)*100, label=\"damage\", color=\"darkorange\")\n",
    "plt.plot(y_grid[:numy_bar+1],np.log(ME_temp/ME_base)*100, label=\"temperature\", color=\"darkgreen\")\n",
    "plt.plot(y_grid[:numy_bar+1],np.log(ME_carb/ME_base)*100, label=\"carbon\", color=\"navy\")\n",
    "plt.legend()\n",
    "# a function of t\n",
    "plt.subplots()\n",
    "dt =1/4\n",
    "years = np.arange(0, 100, dt)\n",
    "plt.plot(years,np.log(MEt/MEt_base)*100, label=\"total\", color=\"tab:red\")\n",
    "plt.plot(years, np.log(MEt_dmg/MEt_base)*100, label=\"damage\")\n",
    "plt.plot(years, np.log(MEt_temp/MEt_base)*100, label=\"temperature\")\n",
    "plt.plot(years, np.log(MEt_carb/MEt_base)*100, label=\"carbon\")\n",
    "plt.legend()\n",
    "plt.ylim(0)"
   ]
  },
  {
   "cell_type": "code",
   "execution_count": 22,
   "id": "unable-irish",
   "metadata": {
    "code_folding": []
   },
   "outputs": [
    {
     "name": "stdout",
     "output_type": "stream",
     "text": [
      "episode: 5000,\t ode error: 6.877723904283317e-05,\t ft error: 9.325197360965376e-07\n",
      "episode: 5000,\t ode error: 0.00022037774056452714,\t ft error: 1.6559773548197043e-05\n",
      "episode: 357,\t ode error: 0.0010956423575631362,\t ft error: 8.557275432696798e-08\n",
      "episode: 5000,\t ode error: 0.0005687712802558004,\t ft error: 1.4780572820338733e-05\n",
      "episode: 160,\t ode error: 0.00036684781123897184,\t ft error: 8.458870892624759e-08\n",
      "episode: 5000,\t ode error: 6.89209376945471e-05,\t ft error: 1.1592588500253243e-06\n",
      "episode: 323,\t ode error: 0.0002159195043805323,\t ft error: 9.758622870892353e-08\n",
      "episode: 353,\t ode error: 0.001102555313320392,\t ft error: 9.769825393135534e-08\n",
      "episode: 5000,\t ode error: 0.0007966789372689034,\t ft error: 1.0163900354687172e-06\n",
      "episode: 184,\t ode error: 0.0007649929386310261,\t ft error: 9.715167204049635e-08\n",
      "episode: 1380,\t ode error: 6.594517191975402e-05,\t ft error: 9.964620728553086e-08\n",
      "episode: 641,\t ode error: 0.00023774586875191517,\t ft error: 9.88351676056709e-08\n",
      "episode: 699,\t ode error: 0.0010863731011784483,\t ft error: 9.885002238974039e-08\n",
      "episode: 160,\t ode error: 0.0007866885627567446,\t ft error: 9.719733462532076e-08\n",
      "episode: 147,\t ode error: 0.0007752590695015368,\t ft error: 8.842503707029437e-08\n",
      "episode: 1790,\t ode error: 5.868157153882114e-05,\t ft error: 9.029266134774616e-08\n",
      "episode: 5000,\t ode error: 0.0002620329319091355,\t ft error: 5.358039483760457e-06\n",
      "episode: 699,\t ode error: 0.001121881325521404,\t ft error: 9.933812883389237e-08\n",
      "episode: 129,\t ode error: 0.0005636755161776003,\t ft error: 7.222103048931672e-08\n",
      "episode: 152,\t ode error: 0.00044496600327102037,\t ft error: 9.702258330079871e-08\n"
     ]
    }
   ],
   "source": [
    "# two type partition\n",
    "# baseline\n",
    "ξa = 1000*100\n",
    "ξw = 1000*100\n",
    "ξp = 1000*100\n",
    "dmg_weight = np.array([1/3, 1/3, 1/3])\n",
    "args = (δ, η, θ_list, γ1, γ2, γ3_list, ȳ, dmg_weight, ς, ξp, ξa, ξw, σy)\n",
    "solu, ϕ_list = approach_one_100(y_grid, numy_bar, args, max_iter=5000, ϵ=4, tol=1e-7)\n",
    "ME_base, ratio_base = solve_baseline(y_grid, numy_bar, ems_star, solu, ϕ_list, args)\n",
    "_, _, _, _, _, _, MEt_base = simulate_jump(y_grid[:numy_bar+1], ems_star, solu, ME_base,  θ_list, \n",
    "                                           T=100, dt=1/4)\n",
    "# carbon and damage\n",
    "ξa = 1/10_000*100\n",
    "ξw = 1000*100\n",
    "ξp = 1/20*100\n",
    "dmg_weight = np.array([1/3, 1/3, 1/3])\n",
    "args = (δ, η, θcarb_list, γ1, γ2, γ3_list, ȳ, dmg_weight, ς, ξp, ξa, ξw, σy)\n",
    "solu, ϕ_list = approach_one_100(y_grid, numy_bar, args, max_iter=5000, ϵ=4, tol=1e-7)\n",
    "MEcarbdmg, ratiocarbdmg = minimize_π(y_grid, numy_bar, ems_star, solu, ϕ_list, args, True)\n",
    "_, _, _, _, _, _, MEt_carbdmg = simulate_jump(y_grid[:numy_bar+1], ems_star, solu, MEcarbdmg,  θcarb_list, \n",
    "                                              T=100, dt=1/4)\n",
    "# temperature and damage\n",
    "ξa = 1/10_000*100\n",
    "ξw = 1000*100\n",
    "ξp = 1/20*100\n",
    "dmg_weight = np.array([1/3, 1/3, 1/3])\n",
    "args = (δ, η, θtemp_list, γ1, γ2, γ3_list, ȳ, dmg_weight, ς, ξp, ξa, ξw, σy)\n",
    "solu, ϕ_list = approach_one_100(y_grid, numy_bar, args, max_iter=5000, ϵ=2, tol=1e-7)\n",
    "MEtempdmg, ratiotempdmg = minimize_π(y_grid, numy_bar, ems_star, solu, ϕ_list, args, True)\n",
    "_, _, _, _, _, _, MEt_tempdmg = simulate_jump(y_grid[:numy_bar+1], ems_star, solu, MEtempdmg,  θtemp_list, \n",
    "                                              T=100, dt=1/4)\n",
    "# temperature and carbon\n",
    "ξa = 1/10_000*100\n",
    "ξw = 1000*100\n",
    "ξp = 1000*100\n",
    "dmg_weight = np.array([1/3, 1/3, 1/3])\n",
    "args = (δ, η, θ_list, γ1, γ2, γ3_list, ȳ, dmg_weight, ς, ξp, ξa, ξw, σy)\n",
    "solu, ϕ_list = approach_one_100(y_grid, numy_bar, args, max_iter=5000, ϵ=2, tol=1e-7)\n",
    "ME_π, ratio_π = minimize_π(y_grid, numy_bar, ems_star, solu, ϕ_list, args)\n",
    "_, _, _, _, _, _, MEt_π = simulate_jump(y_grid[:numy_bar+1], ems_star, solu, ME_π,  θ_list, \n",
    "                                        T=100, dt=1/4)"
   ]
  },
  {
   "cell_type": "code",
   "execution_count": 23,
   "id": "apparent-screening",
   "metadata": {
    "code_folding": []
   },
   "outputs": [
    {
     "data": {
      "text/plain": [
       "(0.0, 41.19331200925057)"
      ]
     },
     "execution_count": 23,
     "metadata": {},
     "output_type": "execute_result"
    },
    {
     "data": {
      "image/png": "[encoded data removed]",
      "text/plain": [
       "<Figure size 432x288 with 1 Axes>"
      ]
     },
     "metadata": {
      "needs_background": "light"
     },
     "output_type": "display_data"
    },
    {
     "data": {
      "image/png": "[encoded data removed]",
      "text/plain": [
       "<Figure size 432x288 with 1 Axes>"
      ]
     },
     "metadata": {
      "needs_background": "light"
     },
     "output_type": "display_data"
    }
   ],
   "source": [
    "# plot\n",
    "# a function of y\n",
    "plt.subplots()\n",
    "plt.plot(y_grid[:numy_bar+1],np.log(ME_total/ME_base)*100, label=\"total\")\n",
    "plt.plot(y_grid[:numy_bar+1],np.log(MEtempdmg/ME_base)*100, label=\"temperature and damage\")\n",
    "plt.plot(y_grid[:numy_bar+1],np.log(MEcarbdmg/ME_base)*100, label=\"carbon and damage\")\n",
    "plt.plot(y_grid[:numy_bar+1],np.log(ME_π/ME_base)*100, label=\"temperature and carbon\")\n",
    "plt.legend()\n",
    "# a function of t\n",
    "plt.subplots()\n",
    "dt =1/4\n",
    "years = np.arange(0, 100, dt)\n",
    "plt.plot(years,np.log(MEt/MEt_base)*100, label=\"total\")\n",
    "plt.plot(years, np.log(MEt_tempdmg/MEt_base)*100, label=\"temperature and damage\")\n",
    "plt.plot(years, np.log(MEt_carbdmg/MEt_base)*100, label=\"carbon and damage\")\n",
    "plt.plot(years, np.log(MEt_π/MEt_base)*100, label=\"temperature and carbon\")\n",
    "plt.legend()\n",
    "plt.ylim(0)"
   ]
  }
 ],
 "metadata": {
  "kernelspec": {
   "display_name": "ry38",
   "language": "python",
   "name": "ry38"
  },
  "language_info": {
   "codemirror_mode": {
    "name": "ipython",
    "version": 3
   },
   "file_extension": ".py",
   "mimetype": "text/x-python",
   "name": "python",
   "nbconvert_exporter": "python",
   "pygments_lexer": "ipython3",
   "version": "3.8.7"
  }
 },
 "nbformat": 4,
 "nbformat_minor": 5
}
