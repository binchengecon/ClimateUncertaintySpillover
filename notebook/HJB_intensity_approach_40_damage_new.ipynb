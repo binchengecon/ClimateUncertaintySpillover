{
 "cells": [
  {
   "cell_type": "code",
   "execution_count": 34,
   "metadata": {},
   "outputs": [],
   "source": [
    "import os, sys\n",
    "sys.path.append(os.path.dirname(os.getcwd()) + '/source')\n",
    "\n",
    "from model import ode_y, ode_y_parallel\n",
    "from utilities import find_nearest_value, compute_derivatives\n",
    "from solver import false_transient_one_iteration_python\n",
    "from numba import njit\n",
    "import numpy as np\n",
    "import pandas as pd\n",
    "import matplotlib.pyplot as plt\n",
    "import matplotlib as mpl\n",
    "mpl.rcParams['axes.spines.right'] = False\n",
    "mpl.rcParams['axes.spines.top'] = False"
   ]
  },
  {
   "cell_type": "code",
   "execution_count": 37,
   "metadata": {},
   "outputs": [],
   "source": [
    "def simulation(y_grid, e_grid, h_grid, g_grid, θ=1.86/1000.,\n",
    "               y_start=.5394, T=100, dt=1):\n",
    "    Et = np.zeros(int(T/dt)+1)\n",
    "    yt = np.zeros(int(T/dt)+1)\n",
    "    ht = np.zeros(int(T/dt)+1)\n",
    "    gt = np.zeros((len(g_grid), int(T/dt)+1))\n",
    "    for i in range(int(T/dt)+1):\n",
    "        Et[i] = np.interp(y_start, y_grid, e_grid)\n",
    "        ht[i] = np.interp(y_start, y_grid, h_grid)\n",
    "        for n in range(gt.shape[0]):\n",
    "            gt[n, i] = np.interp(y_start, y_grid, g_grid[n])\n",
    "        yt[i] = y_start\n",
    "        y_start = y_start + Et[i]*θ*dt\n",
    "    return Et, yt, ht, gt"
   ]
  },
  {
   "cell_type": "markdown",
   "metadata": {},
   "source": [
    "## Solve HJB"
   ]
  },
  {
   "cell_type": "code",
   "execution_count": 2,
   "metadata": {},
   "outputs": [],
   "source": [
    "# Intensity parameter\n",
    "τ = .25\n",
    "\n",
    "r1 = 19.5001\n",
    "r0 = .4\n",
    "\n",
    "# Robustness parameters\n",
    "ξ_b = 100000.\n",
    "ξ_p = 5.\n",
    "ξ_a = 1./100\n",
    "\n",
    "n_model = 40\n",
    "damage_setting={'γ_2p': np.linspace(0, 1./3, n_model),\n",
    "                'πd_o': np.ones(n_model)/n_model}\n",
    "\n",
    "# Model parameters\n",
    "η = .032\n",
    "δ = .01\n",
    "\n",
    "θ = pd.read_csv('../data/model144.csv', header=None).to_numpy()[:, 0]/1000.\n",
    "πc_o = np.ones_like(θ)/len(θ)\n",
    "σ_y = 1.2*np.mean(θ)\n",
    "\n",
    "γ_1 = 1.7675/10000\n",
    "γ_2 = .0022*2\n",
    "γ_2p = damage_setting['γ_2p']\n",
    "πd_o = damage_setting['πd_o']\n",
    "\n",
    "y_bar_upper = 2.0\n",
    "y_bar_lower = 1.5\n",
    "\n",
    "# Grid setting\n",
    "ϵ = 2.\n",
    "y_step = .02\n",
    "y_grid_long = np.arange(0., y_bar_upper*2+y_step, y_step)\n",
    "y_grid_short = np.arange(0., y_bar_upper+y_step, y_step)\n",
    "y_bar_lower_loc = find_nearest_value(y_grid_short, y_bar_lower)\n",
    "y_bar_upper_loc = find_nearest_value(y_grid_long, y_bar_upper)\n",
    "y_grid_tilde = y_grid_short[y_bar_lower_loc: y_bar_upper_loc+1]"
   ]
  },
  {
   "cell_type": "code",
   "execution_count": 3,
   "metadata": {},
   "outputs": [
    {
     "name": "stdout",
     "output_type": "stream",
     "text": [
      "-----Solving model 0-----\n",
      "-----Solving model 1-----\n",
      "-----Solving model 2-----\n",
      "-----Solving model 3-----\n",
      "-----Solving model 4-----\n",
      "-----Solving model 5-----\n",
      "-----Solving model 6-----\n",
      "-----Solving model 7-----\n",
      "-----Solving model 8-----\n",
      "-----Solving model 9-----\n",
      "-----Solving model 10-----\n",
      "-----Solving model 11-----\n",
      "-----Solving model 12-----\n",
      "-----Solving model 13-----\n",
      "-----Solving model 14-----\n",
      "-----Solving model 15-----\n",
      "-----Solving model 16-----\n",
      "-----Solving model 17-----\n",
      "-----Solving model 18-----\n",
      "-----Solving model 19-----\n",
      "-----Solving model 20-----\n",
      "-----Solving model 21-----\n",
      "-----Solving model 22-----\n",
      "-----Solving model 23-----\n",
      "-----Solving model 24-----\n",
      "-----Solving model 25-----\n",
      "-----Solving model 26-----\n",
      "-----Solving model 27-----\n",
      "-----Solving model 28-----\n",
      "-----Solving model 29-----\n",
      "-----Solving model 30-----\n",
      "-----Solving model 31-----\n",
      "-----Solving model 32-----\n",
      "-----Solving model 33-----\n",
      "-----Solving model 34-----\n",
      "-----Solving model 35-----\n",
      "-----Solving model 36-----\n",
      "-----Solving model 37-----\n",
      "-----Solving model 38-----\n",
      "-----Solving model 39-----\n"
     ]
    }
   ],
   "source": [
    "# Parallelly solve ODE\n",
    "model_args_list = []\n",
    "model_list = []\n",
    "\n",
    "for i in range(n_model):\n",
    "    temp_list = []\n",
    "    for y_jump in y_grid_tilde:\n",
    "        temp = (η, δ, θ, πc_o, σ_y, ξ_b, ξ_a, γ_1, γ_2, γ_2p[i], y_jump)\n",
    "        temp_list.append((y_grid_long, temp, None, ϵ, 1e-8, 2000, False))\n",
    "    model_args_list.append(temp_list)\n",
    "\n",
    "for i in range(n_model):\n",
    "    print('-----Solving model ' + str(i) + '-----')\n",
    "    temp_res = ode_y_parallel(model_args_list[i])\n",
    "    model_list.append(temp_res)"
   ]
  },
  {
   "cell_type": "code",
   "execution_count": 4,
   "metadata": {},
   "outputs": [],
   "source": [
    "# Prepare ϕ_m\n",
    "ϕ_m = np.zeros((n_model, len(y_grid_short)))\n",
    "e_m = np.zeros((n_model, len(y_grid_short)))\n",
    "for i in range(len(y_grid_tilde)):\n",
    "    for j in range(n_model):\n",
    "        ϕ_m[j, y_bar_lower_loc+i] = model_list[j][i]['v0'][y_bar_lower_loc+i]\n",
    "        e_m[j, y_bar_lower_loc+i] = model_list[j][i]['e_tilde'][y_bar_lower_loc+i]\n",
    "\n",
    "# Prepare v_guess\n",
    "v_guess = np.average(np.array([model_list[0][-1]['v0'][:y_bar_upper_loc+1],\n",
    "                               model_list[-1][-1]['v0'][:y_bar_upper_loc+1]]),\n",
    "                     weights=np.array([0.5, 0.5]), axis=0)"
   ]
  },
  {
   "cell_type": "code",
   "execution_count": 109,
   "metadata": {},
   "outputs": [],
   "source": [
    "def ode_y_jump_intensity_approach(y_grid, model_paras=(), v0=None, ϵ=.5, tol=1e-8,\n",
    "                                     max_iter=10_000, print_all=True):\n",
    "    η, δ, θ, πc_o, σ_y, ξ_1m, ξ_2m, ξ_a, γ_1, γ_2, y_bar_lower, y_bar_upper, ϕ_i, πd_o, r0, r1, τ = model_paras\n",
    "    Δ_y = y_grid[1] - y_grid[0]\n",
    "\n",
    "    if v0 is None:\n",
    "        v0 = - η * (y_grid + y_grid**2)\n",
    "\n",
    "    d_Λ = γ_1 + γ_2*y_grid\n",
    "    dd_Λ = γ_2\n",
    "\n",
    "    πd = np.ones((len(πd_o), len(y_grid)))\n",
    "    for i in range(πd.shape[0]):\n",
    "        πd[i] = πd_o[i]\n",
    "    πd_o = πd\n",
    "\n",
    "    πc = np.ones((len(πc_o), len(y_grid)))\n",
    "    θ_reshape = np.ones_like(πc)\n",
    "    for i in range(πc.shape[0]):\n",
    "        πc[i] = πc_o[i]\n",
    "        θ_reshape[i] = θ[i]\n",
    "    πc_o = πc.copy()\n",
    "    θ = θ_reshape\n",
    "\n",
    "#     intensity = - r0 * (np.exp(- r1 / 2. * (y_grid-y_bar_lower)**2) - 1.) * (y_grid >= y_bar_lower)\\\n",
    "#                 + 0 * (y_grid < y_bar_lower)\n",
    "    intensity = 0.75 * (y_grid - 1.5) * (y_grid > 1.5) + 300 * (y_grid - 1.9)**2 * (y_grid > 1.9)\n",
    "\n",
    "    e_tilde = 0.\n",
    "    \n",
    "    count = 0\n",
    "    error = 1.\n",
    "\n",
    "    while error > tol and count < max_iter:\n",
    "        v_old = v0.copy()\n",
    "        e_tilde_old = e_tilde\n",
    "\n",
    "        v0_dy = compute_derivatives(v0, 1, Δ_y, central_diff=False)\n",
    "        v0_dyy = compute_derivatives(v0, 2, Δ_y)\n",
    "\n",
    "        G = v0_dy + (η-1)/δ*d_Λ\n",
    "\n",
    "        if σ_y == 0:\n",
    "            e_tilde = -η/(G*np.sum(πc*θ, axis=0))\n",
    "        else:\n",
    "            temp = σ_y**2*(v0_dyy+(η-1.)/δ*dd_Λ-G**2/ξ_1m)\n",
    "            root = np.sum(πc*θ, axis=0)**2*G**2 - 4*η*temp\n",
    "            root[root<0] = 0.\n",
    "            e_tilde = (-G*np.sum(πc*θ, axis=0) - np.sqrt(root)) / (2*temp)\n",
    "\n",
    "        e_tilde[e_tilde<=0] = 1e-16\n",
    "        e_tilde = e_tilde *.5 + e_tilde_old*.5\n",
    " \n",
    "        log_πc_ratio = -G*e_tilde*θ/ξ_a\n",
    "        πc_ratio = log_πc_ratio - np.max(log_πc_ratio, axis=0)\n",
    "        πc = np.exp(πc_ratio) * πc_o\n",
    "        πc = πc/np.sum(πc, axis=0)\n",
    "        πc[πc<=0] = 1e-16        \n",
    "        c_entropy = np.sum(πc*(np.log(πc)-np.log(πc_o)), axis=0)\n",
    "\n",
    "#         g = np.exp(1. / ξ_2m * (v0 - ϕ_i))\n",
    "\n",
    "#         A = np.ones_like(y_grid)*(-δ)\n",
    "#         B = e_tilde * np.sum(πc*θ, axis=0)\n",
    "#         C = .5 * σ_y**2 * e_tilde**2\n",
    "#         D = η*np.log(e_tilde) - C*G**2/ξ_1m + (η-1)/δ*d_Λ*e_tilde*np.sum(πc*θ, axis=0)\\\n",
    "#             + .5*(η-1)/δ*dd_Λ*σ_y**2*e_tilde**2 + ξ_a*c_entropy\\\n",
    "#             - ξ_2m * intensity * (np.sum(πd_o * np.exp(-1./ξ_2m*ϕ_i), axis=0)- np.exp(-1./ξ_2m * v0)) \\\n",
    "#                 / np.exp(-1./ξ_2m * v0)\n",
    "\n",
    "\n",
    "#         g = np.exp(1. / ξ_2m * (v0 - ϕ_i))\n",
    "\n",
    "#         A = np.ones_like(y_grid)*(-δ)\n",
    "#         B = e_tilde * np.sum(πc*θ, axis=0)\n",
    "#         C = .5 * σ_y**2 * e_tilde**2\n",
    "#         D = η*np.log(e_tilde) - C*G**2/ξ_1m + (η-1)/δ*d_Λ*e_tilde*np.sum(πc*θ, axis=0)\\\n",
    "#             + .5*(η-1)/δ*dd_Λ*σ_y**2*e_tilde**2 + ξ_a*c_entropy\\\n",
    "#             + intensity * np.sum(g * πd_o * (ϕ_m - v0), axis=0)\\\n",
    "#             + ξ_2m * intensity * np.sum(πd_o * (1 - g + g * np.log(g)), axis=0)\n",
    "\n",
    "\n",
    "        g = np.exp(1. / ξ_2m * (v0 - ϕ_i))\n",
    "\n",
    "        A = np.ones_like(y_grid)*(-δ) - intensity * np.sum(πd_o * g, axis=0)\n",
    "        B = e_tilde * np.sum(πc*θ, axis=0)\n",
    "        C = .5 * σ_y**2 * e_tilde**2\n",
    "        D = η*np.log(e_tilde) - C*G**2/ξ_1m + (η-1)/δ*d_Λ*e_tilde*np.sum(πc*θ, axis=0)\\\n",
    "            + .5*(η-1)/δ*dd_Λ*σ_y**2*e_tilde**2 + ξ_a*c_entropy\\\n",
    "            + ξ_2m * intensity * np.sum(πd_o * (1 - g + g * np.log(g)), axis=0)\\\n",
    "            + intensity * np.sum(πd_o * g * ϕ_i, axis=0)\n",
    "\n",
    "        v0 = false_transient_one_iteration_python(A, B, C, D, v0, ε, Δ_y, (0, 0), (False, False))\n",
    "\n",
    "        rhs_error = A*v0 + B*v0_dy + C*v0_dyy + D\n",
    "        rhs_error = np.max(abs(rhs_error))\n",
    "        lhs_error = np.max(abs((v0 - v_old)/ϵ))\n",
    "        error = lhs_error\n",
    "        count += 1\n",
    "        if print_all:\n",
    "            print(\"Iteration %s: LHS Error: %s; RHS Error %s\" % (count, lhs_error, rhs_error))\n",
    "\n",
    "    h = -(v0_dy+(η-1)/δ*d_Λ)*e_tilde*σ_y/ξ_1m\n",
    "    πd = g / np.sum(πd_o * g, axis=0) * πd_o\n",
    "    \n",
    "    \n",
    "    print(\"Converged. Total iteration %s: LHS Error: %s; RHS Error %s\" % (count, lhs_error, rhs_error))     \n",
    "    res = {'v0': v0,\n",
    "           'v0_dy': v0_dy,\n",
    "           'v0_dyy': v0_dyy,\n",
    "           'e_tilde': e_tilde,\n",
    "           'y_grid': y_grid,\n",
    "           'intensity': intensity,\n",
    "           'πc': πc,\n",
    "           'πd': πd,\n",
    "           'g': g,\n",
    "           'h': h,\n",
    "           'θ': θ[:, 0],\n",
    "           'σ_y': σ_y}\n",
    "    return res"
   ]
  },
  {
   "cell_type": "code",
   "execution_count": 110,
   "metadata": {},
   "outputs": [
    {
     "name": "stdout",
     "output_type": "stream",
     "text": [
      "Iteration 1: LHS Error: 1.0702353093910397; RHS Error 1.0647048976394495\n",
      "Iteration 2: LHS Error: 0.4337053668070172; RHS Error 0.4433624486737346\n",
      "Iteration 3: LHS Error: 0.2706047902554922; RHS Error 0.2716394452818629\n",
      "Iteration 4: LHS Error: 0.21755254168126514; RHS Error 0.21944746985940936\n",
      "Iteration 5: LHS Error: 0.18137506298967976; RHS Error 0.18399468799051372\n",
      "Iteration 6: LHS Error: 0.15564544853130813; RHS Error 0.1588760925316645\n",
      "Iteration 7: LHS Error: 0.1369155046665973; RHS Error 0.14078459646665945\n",
      "Iteration 8: LHS Error: 0.12262873489655313; RHS Error 0.12716610158570096\n",
      "Iteration 9: LHS Error: 0.11152005323813996; RHS Error 0.11670752875254767\n",
      "Iteration 10: LHS Error: 0.1023731125012719; RHS Error 0.10821711089718597\n",
      "Iteration 11: LHS Error: 0.09572662327947268; RHS Error 0.10218000581332051\n",
      "Iteration 12: LHS Error: 0.08933750938773222; RHS Error 0.09648482534472759\n",
      "Iteration 13: LHS Error: 0.08509735863595913; RHS Error 0.09287882189289028\n",
      "Iteration 14: LHS Error: 0.08091735346074436; RHS Error 0.08931662850344457\n",
      "Iteration 15: LHS Error: 0.0768040871160598; RHS Error 0.08580546329046453\n",
      "Iteration 16: LHS Error: 0.07424686267247749; RHS Error 0.08234906152059038\n",
      "Iteration 17: LHS Error: 0.07199826715006696; RHS Error 0.07981170547598039\n",
      "Iteration 18: LHS Error: 0.06968470729535681; RHS Error 0.07821245170288357\n",
      "Iteration 19: LHS Error: 0.06733760155219914; RHS Error 0.07657677020196758\n",
      "Iteration 20: LHS Error: 0.06494843510444825; RHS Error 0.074910878770186\n",
      "Iteration 21: LHS Error: 0.06251507786205335; RHS Error 0.07321907671162883\n",
      "Iteration 22: LHS Error: 0.0611977373627155; RHS Error 0.07150422357148421\n",
      "Iteration 23: LHS Error: 0.060146451179766025; RHS Error 0.06976783375746708\n",
      "Iteration 24: LHS Error: 0.05901680655004915; RHS Error 0.06801010493819717\n",
      "Iteration 25: LHS Error: 0.057806855137418456; RHS Error 0.06622987612003489\n",
      "Iteration 26: LHS Error: 0.0565130455740992; RHS Error 0.06442451123618098\n",
      "Iteration 27: LHS Error: 0.0551299979195885; RHS Error 0.06258970329228461\n",
      "Iteration 28: LHS Error: 0.053650329402595176; RHS Error 0.0607191924571221\n",
      "Iteration 29: LHS Error: 0.052325780067679295; RHS Error 0.058804399326056044\n",
      "Iteration 30: LHS Error: 0.05157190422449842; RHS Error 0.056833992456765355\n",
      "Iteration 31: LHS Error: 0.05073975332556535; RHS Error 0.054793391118132966\n",
      "Iteration 32: LHS Error: 0.049823626759287754; RHS Error 0.05266420708714474\n",
      "Iteration 33: LHS Error: 0.04881630394316083; RHS Error 0.05042382049999947\n",
      "Iteration 34: LHS Error: 0.047710660184051124; RHS Error 0.04804591492719481\n",
      "Iteration 35: LHS Error: 0.046525128332342014; RHS Error 0.04550344419654481\n",
      "Iteration 36: LHS Error: 0.04590506612509748; RHS Error 0.04277218272470746\n",
      "Iteration 37: LHS Error: 0.04520870203493699; RHS Error 0.04203011100433878\n",
      "Iteration 38: LHS Error: 0.04443555172510183; RHS Error 0.04140715999740485\n",
      "Iteration 39: LHS Error: 0.0435758437215521; RHS Error 0.04071083808322606\n",
      "Iteration 40: LHS Error: 0.04262195203132113; RHS Error 0.03993321148239702\n",
      "Iteration 41: LHS Error: 0.04187981531276597; RHS Error 0.03906426801130329\n",
      "Iteration 42: LHS Error: 0.04129456404636356; RHS Error 0.03856717521845442\n",
      "Iteration 43: LHS Error: 0.04063794626873585; RHS Error 0.03802730414036204\n",
      "Iteration 44: LHS Error: 0.03989558420338524; RHS Error 0.0374188141055363\n",
      "Iteration 45: LHS Error: 0.03906152626928572; RHS Error 0.03673296946797668\n",
      "Iteration 46: LHS Error: 0.038450600664907464; RHS Error 0.036000148320049837\n",
      "Iteration 47: LHS Error: 0.037908598501384505; RHS Error 0.03555166231436995\n",
      "Iteration 48: LHS Error: 0.03729420086246016; RHS Error 0.03504292610039516\n",
      "Iteration 49: LHS Error: 0.03659846936491795; RHS Error 0.03446637418672532\n",
      "Iteration 50: LHS Error: 0.03591118345883926; RHS Error 0.03381308003742837\n",
      "Iteration 51: LHS Error: 0.03543925447799268; RHS Error 0.03330941133830777\n",
      "Iteration 52: LHS Error: 0.0349020087732248; RHS Error 0.03286074263806378\n",
      "Iteration 53: LHS Error: 0.03429163240504174; RHS Error 0.03235074268260772\n",
      "Iteration 54: LHS Error: 0.03364214536680543; RHS Error 0.03177154894513268\n",
      "Iteration 55: LHS Error: 0.033211567651861396; RHS Error 0.03128141965552067\n",
      "Iteration 56: LHS Error: 0.0327220540426576; RHS Error 0.030867902582080334\n",
      "Iteration 57: LHS Error: 0.03216310510593856; RHS Error 0.03039734628382276\n",
      "Iteration 58: LHS Error: 0.03160073483645842; RHS Error 0.029862503634673326\n",
      "Iteration 59: LHS Error: 0.031191426069365313; RHS Error 0.029436646635413816\n",
      "Iteration 60: LHS Error: 0.030724692265021725; RHS Error 0.02904143161300867\n",
      "Iteration 61: LHS Error: 0.030193866385348933; RHS Error 0.02859183242297433\n",
      "Iteration 62: LHS Error: 0.02974015087603421; RHS Error 0.028085166456719286\n",
      "Iteration 63: LHS Error: 0.029338725991495673; RHS Error 0.027743268279434352\n",
      "Iteration 64: LHS Error: 0.028879835751192573; RHS Error 0.027354166956451396\n",
      "Iteration 65: LHS Error: 0.02838019730733743; RHS Error 0.02691212272479225\n",
      "Iteration 66: LHS Error: 0.028023979854233882; RHS Error 0.02651749930221538\n",
      "Iteration 67: LHS Error: 0.027621466950632723; RHS Error 0.0261719089469836\n",
      "Iteration 68: LHS Error: 0.027160982058942906; RHS Error 0.025779442972970728\n",
      "Iteration 69: LHS Error: 0.026789637865551663; RHS Error 0.02536688507722238\n",
      "Iteration 70: LHS Error: 0.026424186803827743; RHS Error 0.02505286494520094\n",
      "Iteration 71: LHS Error: 0.026009032636266083; RHS Error 0.024696485774929697\n",
      "Iteration 72: LHS Error: 0.025632105182222142; RHS Error 0.024292778419633874\n",
      "Iteration 73: LHS Error: 0.025294478318115488; RHS Error 0.02399749248471899\n",
      "Iteration 74: LHS Error: 0.02491150211259674; RHS Error 0.02366735749244563\n",
      "Iteration 75: LHS Error: 0.02454648671551518; RHS Error 0.02329377915141479\n",
      "Iteration 76: LHS Error: 0.024228816938244746; RHS Error 0.02300273744966033\n",
      "Iteration 77: LHS Error: 0.02386892337736546; RHS Error 0.0226914555550008\n",
      "Iteration 78: LHS Error: 0.023526196077460648; RHS Error 0.022339683701035697\n",
      "Iteration 79: LHS Error: 0.023223091070563306; RHS Error 0.02206385890237457\n",
      "Iteration 80: LHS Error: 0.02287959110463511; RHS Error 0.02176574416875469\n",
      "Iteration 81: LHS Error: 0.02256508415711611; RHS Error 0.02143212472548002\n",
      "Iteration 82: LHS Error: 0.022270388825333942; RHS Error 0.021175597605947182\n",
      "Iteration 83: LHS Error: 0.021937597827829336; RHS Error 0.020886067476140472\n",
      "Iteration 84: LHS Error: 0.02165508210212641; RHS Error 0.020584959804395616\n",
      "Iteration 85: LHS Error: 0.02136552737352604; RHS Error 0.02033229407887142\n",
      "Iteration 86: LHS Error: 0.02104568553670072; RHS Error 0.02004768923315612\n",
      "Iteration 87: LHS Error: 0.02079051327487047; RHS Error 0.01978013259944152\n",
      "Iteration 88: LHS Error: 0.020502892087038926; RHS Error 0.019528591525559934\n",
      "Iteration 89: LHS Error: 0.02022195189434317; RHS Error 0.01924585435546864\n",
      "Iteration 90: LHS Error: 0.0199653411816878; RHS Error 0.019012179061674222\n",
      "Iteration 91: LHS Error: 0.01967698496182413; RHS Error 0.01875938901419909\n",
      "Iteration 92: LHS Error: 0.019434277195902627; RHS Error 0.018504479399632255\n",
      "Iteration 93: LHS Error: 0.019174137023964644; RHS Error 0.018276010138058726\n",
      "Iteration 94: LHS Error: 0.018914493572538493; RHS Error 0.01801987579114473\n",
      "Iteration 95: LHS Error: 0.018677571957158356; RHS Error 0.01780064046514069\n",
      "Iteration 96: LHS Error: 0.018411747827510982; RHS Error 0.017566934982262312\n",
      "Iteration 97: LHS Error: 0.018190732900412065; RHS Error 0.01733633112956176\n",
      "Iteration 98: LHS Error: 0.017946647818626094; RHS Error 0.01712110476915582\n",
      "Iteration 99: LHS Error: 0.01771614188772208; RHS Error 0.01688494642493172\n",
      "Iteration 100: LHS Error: 0.017489765905239985; RHS Error 0.016685014049942666\n",
      "Iteration 101: LHS Error: 0.017255131039747518; RHS Error 0.0164616721140093\n",
      "Iteration 102: LHS Error: 0.017043779526979996; RHS Error 0.01626018108089211\n",
      "Iteration 103: LHS Error: 0.01680864154312456; RHS Error 0.0160512226996121\n",
      "Iteration 104: LHS Error: 0.016609425584300563; RHS Error 0.01584752096930247\n",
      "Iteration 105: LHS Error: 0.016387123938907955; RHS Error 0.015650541169800997\n",
      "Iteration 106: LHS Error: 0.0161874824485575; RHS Error 0.015447340200799214\n",
      "Iteration 107: LHS Error: 0.015977030496209466; RHS Error 0.015260374337175829\n",
      "Iteration 108: LHS Error: 0.01577854199039308; RHS Error 0.015059672820657545\n",
      "Iteration 109: LHS Error: 0.01557762610582758; RHS Error 0.014881115579784616\n",
      "Iteration 110: LHS Error: 0.01538208376824679; RHS Error 0.014684349338431324\n",
      "Iteration 111: LHS Error: 0.015189307228842708; RHS Error 0.014512795033189432\n",
      "Iteration 112: LHS Error: 0.01499784329199505; RHS Error 0.014322307224228358\n",
      "Iteration 113: LHS Error: 0.014811855089595927; RHS Error 0.014155256502500109\n",
      "Iteration 114: LHS Error: 0.014625511248055112; RHS Error 0.01397139456413897\n",
      "Iteration 115: LHS Error: 0.014445106566170374; RHS Error 0.013808204981548368\n",
      "Iteration 116: LHS Error: 0.014264554396572482; RHS Error 0.013629830863265531\n",
      "Iteration 117: LHS Error: 0.014088779340123647; RHS Error 0.013471249607473847\n",
      "Iteration 118: LHS Error: 0.013914470570557835; RHS Error 0.013297921782463279\n",
      "Iteration 119: LHS Error: 0.013742316069350391; RHS Error 0.01314395555793859\n",
      "Iteration 120: LHS Error: 0.013574604519891675; RHS Error 0.012977352631717003\n",
      "Iteration 121: LHS Error: 0.013405338083829488; RHS Error 0.01282581268982936\n",
      "Iteration 122: LHS Error: 0.01324438273805173; RHS Error 0.012666040588638752\n",
      "Iteration 123: LHS Error: 0.013077307053444898; RHS Error 0.012516312706850156\n",
      "Iteration 124: LHS Error: 0.012923201342763146; RHS Error 0.012363399129026599\n",
      "Iteration 125: LHS Error: 0.012759651433671415; RHS Error 0.01221493058744056\n",
      "Iteration 126: LHS Error: 0.012610458624331855; RHS Error 0.01206884867099018\n",
      "Iteration 127: LHS Error: 0.012454515112525932; RHS Error 0.011921137888071358\n",
      "Iteration 128: LHS Error: 0.012305561738813253; RHS Error 0.011781820343314493\n",
      "Iteration 129: LHS Error: 0.012157076449604176; RHS Error 0.01163593072566349\n",
      "Iteration 130: LHS Error: 0.012007930128775879; RHS Error 0.01150175857278319\n",
      "Iteration 131: LHS Error: 0.011866737225187052; RHS Error 0.011362936995966695\n",
      "Iteration 132: LHS Error: 0.011720077343484903; RHS Error 0.011228122589178713\n",
      "Iteration 133: LHS Error: 0.011582919450667362; RHS Error 0.011096182367056832\n",
      "Iteration 134: LHS Error: 0.01144362250477915; RHS Error 0.010960387220652713\n",
      "Iteration 135: LHS Error: 0.011305065207777076; RHS Error 0.01083513809310327\n",
      "Iteration 136: LHS Error: 0.011172901059920637; RHS Error 0.010705885153660555\n",
      "Iteration 137: LHS Error: 0.011037176556968564; RHS Error 0.01057929373929501\n",
      "Iteration 138: LHS Error: 0.010907378213270036; RHS Error 0.010456651103608355\n",
      "Iteration 139: LHS Error: 0.01077861994309659; RHS Error 0.010331294170501722\n",
      "Iteration 140: LHS Error: 0.010647469097158968; RHS Error 0.010211908748646366\n",
      "Iteration 141: LHS Error: 0.010524506518055698; RHS Error 0.010092952872770726\n",
      "Iteration 142: LHS Error: 0.010400051421217693; RHS Error 0.009972193414342842\n",
      "Iteration 143: LHS Error: 0.010274349135978245; RHS Error 0.009858412896139597\n",
      "Iteration 144: LHS Error: 0.010156350183465168; RHS Error 0.009743774907296103\n",
      "Iteration 145: LHS Error: 0.01003669865492629; RHS Error 0.009627977933156\n",
      "Iteration 146: LHS Error: 0.009916063237593864; RHS Error 0.009518497129118217\n",
      "Iteration 147: LHS Error: 0.009802394859467878; RHS Error 0.009408507327640876\n",
      "Iteration 148: LHS Error: 0.009687781401335638; RHS Error 0.00929781421550141\n",
      "Iteration 149: LHS Error: 0.00957259518336695; RHS Error 0.009191551117658153\n",
      "Iteration 150: LHS Error: 0.009461875258812036; RHS Error 0.009086337845650543\n",
      "Iteration 151: LHS Error: 0.009352356140322371; RHS Error 0.008980741555546012\n",
      "Iteration 152: LHS Error: 0.009242551495629137; RHS Error 0.008876784280231788\n",
      "Iteration 153: LHS Error: 0.009133880162603525; RHS Error 0.00877634040112299\n",
      "Iteration 154: LHS Error: 0.009029392501196831; RHS Error 0.008675735975559123\n",
      "Iteration 155: LHS Error: 0.008924816777766242; RHS Error 0.00857526894585877\n",
      "Iteration 156: LHS Error: 0.008820440695389564; RHS Error 0.008477531619692953\n",
      "Iteration 157: LHS Error: 0.008717821701051953; RHS Error 0.0083817502582429\n",
      "Iteration 158: LHS Error: 0.00861826741547711; RHS Error 0.008286203523504697\n",
      "Iteration 159: LHS Error: 0.00851899345233642; RHS Error 0.008191095246113562\n",
      "Iteration 160: LHS Error: 0.00842019762966073; RHS Error 0.008097738727406531\n",
      "Iteration 161: LHS Error: 0.00832204474927778; RHS Error 0.008006862401702793\n",
      "Iteration 162: LHS Error: 0.008227341740328242; RHS Error 0.007916446743075851\n",
      "Iteration 163: LHS Error: 0.008133379854344813; RHS Error 0.00782663290312726\n",
      "Iteration 164: LHS Error: 0.008040044330765994; RHS Error 0.007737538051272787\n",
      "Iteration 165: LHS Error: 0.007947449462712086; RHS Error 0.007650192617882023\n",
      "Iteration 166: LHS Error: 0.00785568947690729; RHS Error 0.007564762246714457\n",
      "Iteration 167: LHS Error: 0.007766110481589816; RHS Error 0.007480009700254059\n",
      "Iteration 168: LHS Error: 0.007677960015477492; RHS Error 0.007396016455607626\n",
      "Iteration 169: LHS Error: 0.007590580872817387; RHS Error 0.007312849176014685\n",
      "Iteration 170: LHS Error: 0.007504038225245591; RHS Error 0.0072305617346448345\n",
      "Iteration 171: LHS Error: 0.007418384690444313; RHS Error 0.0071492401266079475\n",
      "Iteration 172: LHS Error: 0.007333662036509203; RHS Error 0.0070699757907933675\n",
      "Iteration 173: LHS Error: 0.007249902661142116; RHS Error 0.007028714386296472\n",
      "Iteration 174: LHS Error: 0.0071675053200355165; RHS Error 0.006991784818478383\n",
      "Iteration 175: LHS Error: 0.007086582080074955; RHS Error 0.0069514966252605115\n",
      "Iteration 176: LHS Error: 0.0070065268401275915; RHS Error 0.006907610080080048\n",
      "Iteration 177: LHS Error: 0.006927359320773263; RHS Error 0.006859869900304086\n",
      "Iteration 178: LHS Error: 0.006849090095076171; RHS Error 0.006808006260020649\n",
      "Iteration 179: LHS Error: 0.006771712403869756; RHS Error 0.0067517363340881265\n",
      "Iteration 180: LHS Error: 0.0066951743019227905; RHS Error 0.006690766451858746\n",
      "Iteration 181: LHS Error: 0.006619273404783854; RHS Error 0.006624794937029721\n",
      "Iteration 182: LHS Error: 0.0065415432797228945; RHS Error 0.006553515710766705\n",
      "Iteration 183: LHS Error: 0.006457839764824946; RHS Error 0.0064766227332116455\n",
      "Iteration 184: LHS Error: 0.006367871460979835; RHS Error 0.006395270585635285\n",
      "Iteration 185: LHS Error: 0.006271365583058852; RHS Error 0.0063950582887344065\n",
      "Iteration 186: LHS Error: 0.006168075004031159; RHS Error 0.0063948523011843755\n",
      "Iteration 187: LHS Error: 0.006057780131602186; RHS Error 0.006394650633935232\n",
      "Iteration 188: LHS Error: 0.005940387336648811; RHS Error 0.006394375180245215\n",
      "Iteration 189: LHS Error: 0.0058157285699032; RHS Error 0.006394289153585163\n",
      "Iteration 190: LHS Error: 0.005683707635271595; RHS Error 0.006394363304829467\n",
      "Iteration 191: LHS Error: 0.005544540327337089; RHS Error 0.006394261458717021\n",
      "Iteration 192: LHS Error: 0.005398121807647094; RHS Error 0.006394555497267959\n",
      "Iteration 193: LHS Error: 0.005244823451518776; RHS Error 0.0063947317880567595\n",
      "Iteration 194: LHS Error: 0.005084887924524217; RHS Error 0.006395037741986097\n",
      "Iteration 195: LHS Error: 0.004918727900824038; RHS Error 0.0063954172121522615\n",
      "Iteration 196: LHS Error: 0.004746852953640968; RHS Error 0.006395831293875456\n",
      "Iteration 197: LHS Error: 0.004569881189147473; RHS Error 0.006396229392855557\n",
      "Iteration 198: LHS Error: 0.004388522162861008; RHS Error 0.006396586664592037\n",
      "Iteration 199: LHS Error: 0.004203568458995832; RHS Error 0.0063968922929183575\n",
      "Iteration 200: LHS Error: 0.004015885208425551; RHS Error 0.006397140036091591\n",
      "Iteration 201: LHS Error: 0.0038263951174046795; RHS Error 0.006397326816265238\n",
      "Iteration 202: LHS Error: 0.0036360604760847792; RHS Error 0.006397453122655217\n",
      "Iteration 203: LHS Error: 0.003445863471190691; RHS Error 0.006397522742788944\n",
      "Iteration 204: LHS Error: 0.0032567857585243942; RHS Error 0.006397541869041609\n",
      "Iteration 205: LHS Error: 0.003069788122098238; RHS Error 0.006397518149640714\n",
      "Iteration 206: LHS Error: 0.002885791069453525; RHS Error 0.00639745991544656\n",
      "Iteration 207: LHS Error: 0.0027056571833732335; RHS Error 0.006397375578261172\n",
      "Iteration 208: LHS Error: 0.0025301759267124524; RHS Error 0.006397273166350512\n",
      "Iteration 209: LHS Error: 0.0023600514158346186; RHS Error 0.0063971599835777535\n",
      "Iteration 210: LHS Error: 0.0021958934736714397; RHS Error 0.006397042384498987\n",
      "Iteration 211: LHS Error: 0.002038212066324263; RHS Error 0.006396925653098087\n",
      "Iteration 212: LHS Error: 0.0018874150348011653; RHS Error 0.006396813968344017\n",
      "Iteration 213: LHS Error: 0.0017438088698353837; RHS Error 0.006396710437984288\n",
      "Iteration 214: LHS Error: 0.0016076021527942075; RHS Error 0.006396617182219302\n",
      "Iteration 215: LHS Error: 0.0014789112036401875; RHS Error 0.00639653545026482\n",
      "Iteration 216: LHS Error: 0.0013577674370743864; RHS Error 0.006396465754922913\n",
      "Iteration 217: LHS Error: 0.0012441259257238713; RHS Error 0.006396408012914932\n",
      "Iteration 218: LHS Error: 0.0011378746973171872; RHS Error 0.006396361681612027\n",
      "Iteration 219: LHS Error: 0.0010388443428537286; RHS Error 0.006396325885657764\n",
      "Iteration 220: LHS Error: 0.0009468175763966968; RHS Error 0.0063962995294877326\n",
      "Iteration 221: LHS Error: 0.000861538457077593; RHS Error 0.006396281393759813\n",
      "Iteration 222: LHS Error: 0.0007827210538655649; RHS Error 0.006396270215117884\n",
      "Iteration 223: LHS Error: 0.0007100573992122605; RHS Error 0.006396264749631897\n",
      "Iteration 224: LHS Error: 0.0006432246360521532; RHS Error 0.006396263820847757\n",
      "Iteration 225: LHS Error: 0.0005818913118469382; RHS Error 0.00639626635377652\n",
      "Iteration 226: LHS Error: 0.0005257228132036218; RHS Error 0.006396271396446093\n",
      "Iteration 227: LHS Error: 0.0004743859651537008; RHS Error 0.006396278130839976\n",
      "Iteration 228: LHS Error: 0.00042755284133644267; RHS Error 0.006396285875158322\n",
      "Iteration 229: LHS Error: 0.0003849038462844234; RHS Error 0.006396294079336597\n",
      "Iteration 230: LHS Error: 0.00034613013966211525; RHS Error 0.006396302315655841\n",
      "Iteration 231: LHS Error: 0.00031093547649341247; RHS Error 0.006396310266103558\n",
      "Iteration 232: LHS Error: 0.00027903753749303206; RHS Error 0.006396317707907745\n",
      "Iteration 233: LHS Error: 0.00025016882139716756; RHS Error 0.006396324498405784\n",
      "Iteration 234: LHS Error: 0.00022407716678252143; RHS Error 0.006396330560159785\n"
     ]
    },
    {
     "name": "stdout",
     "output_type": "stream",
     "text": [
      "Iteration 235: LHS Error: 0.00020052596550801383; RHS Error 0.006396335866972053\n",
      "Iteration 236: LHS Error: 0.00017929412384365406; RHS Error 0.0063963404312469205\n",
      "Iteration 237: LHS Error: 0.00016017582107075157; RHS Error 0.006396344292952112\n",
      "Iteration 238: LHS Error: 0.00014298010903335268; RHS Error 0.006396347510289904\n",
      "Iteration 239: LHS Error: 0.00012753039039470337; RHS Error 0.006396350152067562\n",
      "Iteration 240: LHS Error: 0.00011366380750121863; RHS Error 0.006396352291672819\n",
      "Iteration 241: LHS Error: 0.00010123056903754701; RHS Error 0.006396354002508868\n",
      "Iteration 242: LHS Error: 9.009323683528692e-05; RHS Error 0.00639635535470396\n",
      "Iteration 243: LHS Error: 8.01259913876251e-05; RHS Error 0.006396356412900317\n",
      "Iteration 244: LHS Error: 7.121389097974884e-05; RHS Error 0.006396357234927735\n",
      "Iteration 245: LHS Error: 6.325213634639226e-05; RHS Error 0.006396357871173722\n",
      "Iteration 246: LHS Error: 5.614535027653744e-05; RHS Error 0.006396358364484489\n",
      "Iteration 247: LHS Error: 4.980687915345783e-05; RHS Error 0.006396358750446619\n",
      "Iteration 248: LHS Error: 4.415812182223533e-05; RHS Error 0.006396359057932635\n",
      "Iteration 249: LHS Error: 3.9127889472467814e-05; RHS Error 0.006396359309790538\n",
      "Iteration 250: LHS Error: 3.465179906037008e-05; RHS Error 0.006396359523628825\n",
      "Iteration 251: LHS Error: 3.0671701656714845e-05; RHS Error 0.006396359712605208\n",
      "Iteration 252: LHS Error: 2.7135146423162837e-05; RHS Error 0.006396359886193519\n",
      "Iteration 253: LHS Error: 2.3994880147704123e-05; RHS Error 0.006396360050894903\n",
      "Iteration 254: LHS Error: 2.1208381780546404e-05; RHS Error 0.0063963602108768405\n",
      "Iteration 255: LHS Error: 1.873743106717285e-05; RHS Error 0.0063963603685281215\n",
      "Iteration 256: LHS Error: 1.6547710036007857e-05; RHS Error 0.006396360524931748\n",
      "Iteration 257: LHS Error: 1.460843589473626e-05; RHS Error 0.006396360680255328\n",
      "Iteration 258: LHS Error: 1.2892023764088378e-05; RHS Error 0.006396360834065695\n",
      "Iteration 259: LHS Error: 1.1373777582868172e-05; RHS Error 0.006396360985576992\n",
      "Iteration 260: LHS Error: 1.0031607478033777e-05; RHS Error 0.0063963611338377704\n",
      "Iteration 261: LHS Error: 8.845771843901673e-06; RHS Error 0.0063963612778689255\n",
      "Iteration 262: LHS Error: 7.798642490008945e-06; RHS Error 0.006396361416760095\n",
      "Iteration 263: LHS Error: 6.874491146113826e-06; RHS Error 0.006396361549731423\n",
      "Iteration 264: LHS Error: 6.059295709626156e-06; RHS Error 0.006396361676168784\n",
      "Iteration 265: LHS Error: 5.340564761091571e-06; RHS Error 0.006396361795639557\n",
      "Iteration 266: LHS Error: 4.707178790752664e-06; RHS Error 0.006396361907891092\n",
      "Iteration 267: LHS Error: 4.1492468030313034e-06; RHS Error 0.006396362012840773\n",
      "Iteration 268: LHS Error: 3.657976969329013e-06; RHS Error 0.0063963621105577115\n",
      "Iteration 269: LHS Error: 3.2255601238873055e-06; RHS Error 0.006396362201239084\n",
      "Iteration 270: LHS Error: 2.845064901890737e-06; RHS Error 0.006396362285186932\n",
      "Iteration 271: LHS Error: 2.5103435552509268e-06; RHS Error 0.006396362362782432\n",
      "Iteration 272: LHS Error: 2.215947345618474e-06; RHS Error 0.0063963624344615805\n",
      "Iteration 273: LHS Error: 1.95705069749863e-06; RHS Error 0.006396362500694114\n",
      "Iteration 274: LHS Error: 1.729383216186875e-06; RHS Error 0.006396362561961903\n",
      "Iteration 275: LHS Error: 1.529168822678173e-06; RHS Error 0.006396362618743365\n",
      "Iteration 276: LHS Error: 1.3530713331988409e-06; RHS Error 0.00639636267149836\n",
      "Iteration 277: LHS Error: 1.1981457506138327e-06; RHS Error 0.006396362720657751\n",
      "Iteration 278: LHS Error: 1.0617947792113114e-06; RHS Error 0.006396362766614365\n",
      "Iteration 279: LHS Error: 9.417299997593886e-07; RHS Error 0.006396362809717365\n",
      "Iteration 280: LHS Error: 8.359371630461965e-07; RHS Error 0.006396362850269517\n",
      "Iteration 281: LHS Error: 7.426452661718486e-07; RHS Error 0.006396362888526151\n",
      "Iteration 282: LHS Error: 6.602989275350524e-07; RHS Error 0.006396362924695677\n",
      "Iteration 283: LHS Error: 5.87533783402705e-07; RHS Error 0.006396362958942331\n",
      "Iteration 284: LHS Error: 5.231545117112546e-07; RHS Error 0.006396362991389577\n",
      "Iteration 285: LHS Error: 4.661152548379732e-07; RHS Error 0.006396363022124575\n",
      "Iteration 286: LHS Error: 4.155021740004372e-07; RHS Error 0.006396363051204605\n",
      "Iteration 287: LHS Error: 3.7051786527797503e-07; RHS Error 0.006396363078660948\n",
      "Iteration 288: LHS Error: 3.3046752356824527e-07; RHS Error 0.006396363104505906\n",
      "Iteration 289: LHS Error: 2.94746555162817e-07; RHS Error 0.006396363128737974\n",
      "Iteration 290: LHS Error: 2.6282959542101025e-07; RHS Error 0.006396363151347187\n",
      "Iteration 291: LHS Error: 2.342606952865367e-07; RHS Error 0.006396363172320341\n",
      "Iteration 292: LHS Error: 2.0864461713898663e-07; RHS Error 0.0063963631916454655\n",
      "Iteration 293: LHS Error: 1.856390694499055e-07; RHS Error 0.00639636320931429\n",
      "Iteration 294: LHS Error: 1.6494785270992907e-07; RHS Error 0.006396363225327439\n",
      "Iteration 295: LHS Error: 1.4631473099768755e-07; RHS Error 0.006396363239694974\n",
      "Iteration 296: LHS Error: 1.2951804873040373e-07; RHS Error 0.00639636325243946\n",
      "Iteration 297: LHS Error: 1.143659593694224e-07; RHS Error 0.006396363263595488\n",
      "Iteration 298: LHS Error: 1.0069221367814407e-07; RHS Error 0.0063963632732110115\n",
      "Iteration 299: LHS Error: 8.835247111704803e-08; RHS Error 0.006396363281347316\n",
      "Iteration 300: LHS Error: 7.722105710428195e-08; RHS Error 0.0063963632880767035\n",
      "Iteration 301: LHS Error: 6.718814749007151e-08; RHS Error 0.006396363293483094\n",
      "Iteration 302: LHS Error: 5.8157318960638804e-08; RHS Error 0.0063963632976603915\n",
      "Iteration 303: LHS Error: 5.004341652181665e-08; RHS Error 0.006396363300709022\n",
      "Iteration 304: LHS Error: 4.2770748720499796e-08; RHS Error 0.006396363302736151\n",
      "Iteration 305: LHS Error: 3.6271521786090943e-08; RHS Error 0.00639636330385205\n",
      "Iteration 306: LHS Error: 3.0484545554543274e-08; RHS Error 0.006396363304169296\n",
      "Iteration 307: LHS Error: 2.5354095711804803e-08; RHS Error 0.006396363303800341\n",
      "Iteration 308: LHS Error: 2.0829023839041838e-08; RHS Error 0.006396363302855312\n",
      "Iteration 309: LHS Error: 1.6861994467376462e-08; RHS Error 0.006396363301440736\n",
      "Iteration 310: LHS Error: 1.3408872234776936e-08; RHS Error 0.006396363299658363\n",
      "Iteration 311: LHS Error: 1.0798373306641906e-08; RHS Error 0.006396363297603236\n",
      "Iteration 312: LHS Error: 1.0552060114576989e-08; RHS Error 0.006396363295362993\n",
      "Iteration 313: LHS Error: 1.0294750829586974e-08; RHS Error 0.0063963632930173625\n",
      "Iteration 314: LHS Error: 1.0043553100302915e-08; RHS Error 0.006396363290637225\n",
      "Iteration 315: LHS Error: 9.819111301823114e-09; RHS Error 0.006396363288284329\n",
      "Converged. Total iteration 315: LHS Error: 9.819111301823114e-09; RHS Error 0.006396363288284329\n"
     ]
    }
   ],
   "source": [
    "model_paras = (η, δ, θ, πc_o, σ_y, ξ_b, ξ_p, ξ_a, γ_1, γ_2, y_bar_lower, y_bar_upper, ϕ_m, πd_o, r0, r1, τ)\n",
    "model_res = ode_y_jump_intensity_approach(y_grid_short, model_paras=model_paras, v0=v_guess, ϵ=1,\n",
    "                                          tol=1e-8, max_iter=1000, print_all=True)"
   ]
  },
  {
   "cell_type": "markdown",
   "metadata": {},
   "source": [
    "## Simulation"
   ]
  },
  {
   "cell_type": "code",
   "execution_count": 111,
   "metadata": {},
   "outputs": [],
   "source": [
    "e_grid_no_jump = model_res['e_tilde']\n",
    "e_grid_jump_list = []\n",
    "for i in range(n_model):\n",
    "    temp = np.array([model['e_tilde'] for model in model_list[i]])\n",
    "    e_grid_jump_list.append(temp)\n",
    "e_grid_jump = np.array(e_grid_jump_list)"
   ]
  },
  {
   "cell_type": "code",
   "execution_count": 208,
   "metadata": {},
   "outputs": [],
   "source": [
    "def simulation_prob(y_grid_short, y_grid_long, y_grid_tilde, e_grid_no_jump, e_grid_jump,\n",
    "                        θ, y0, y_bar_lower, y_bar_upper, r0, r1, τ, damage_prob, γ_2p, n_model, T=100):\n",
    "    \"\"\"\n",
    "    y_grid : (N,) ndarray\n",
    "    e_grid_no_jump : (N,) ndarray\n",
    "    e_grid_jump : (n_model, M, N) ndarray\n",
    "        e.g., e_grid[0, i], e_grid[1, i] and e_grid[2, i] are the emissions conditional\n",
    "            on low, high and extreme damages when jump occurrs at y_grid_tilde[i].\n",
    "    \"\"\"\n",
    "    et_paths = []\n",
    "    yt_paths = []\n",
    "    γ2pt_paths = []\n",
    "    paths_prob = []\n",
    "\n",
    "    yt_pre_jump = np.zeros(int(T/τ)+1)\n",
    "    et_pre_jump = np.zeros(int(T/τ)+1)\n",
    "    γ2pt_pre_jump = np.ones(int(T/τ)+1) * (-1) # -1 if γ_2p is not revealed        \n",
    "    t_count = 0\n",
    "\n",
    "    # path piror to y_bar_lower\n",
    "    while y0 <= y_bar_lower:\n",
    "        et_pre_jump[t_count] = np.interp(y0, y_grid_short, e_grid_no_jump)\n",
    "        yt_pre_jump[t_count] = y0\n",
    "        y0 = y0 + et_pre_jump[t_count] * θ * τ\n",
    "        t_count += 1\n",
    "\n",
    "    # add n_model paths at every time point\n",
    "    no_jump_prob = 1.\n",
    "    for t in range(t_count, int(T/τ)+1):\n",
    "        if y0 < y_bar_upper:\n",
    "            intensity = 0.75 * (y0 - 1.5) * (y0 > 1.5) + 300 * (y0 - 1.9)**2 * (y0 > 1.9)\n",
    "            jump_prob = τ * intensity\n",
    "            for i in range(n_model):\n",
    "                # compute unconditional prob\n",
    "                jump_prob_to_i = damage_prob[i] * jump_prob * no_jump_prob\n",
    "                paths_prob.append(jump_prob_to_i)\n",
    "                # compute path\n",
    "                yt = yt_pre_jump.copy()\n",
    "                et = et_pre_jump.copy()\n",
    "                γ2pt = γ2pt_pre_jump.copy()\n",
    "                for j in range(t_count, t):\n",
    "                    yt[j] = yt[j-1] + et[j-1] * θ * τ\n",
    "                    et[j] = np.interp(yt[j], y_grid_short, e_grid_no_jump)\n",
    "                jump_loc = find_nearest_value(y_grid_tilde, yt[t_count]+et[t_count]*θ*τ)\n",
    "                e_grid_realized = e_grid_jump[i, jump_loc]\n",
    "                for j in range(t, int(T/τ)+1):\n",
    "                    γ2pt[j] = γ_2p[i]\n",
    "                    yt[j] = yt[j-1] + et[j-1] * θ * τ\n",
    "                    et[j] = np.interp(yt[j], y_grid_long, e_grid_realized)\n",
    "                et_paths.append(et)\n",
    "                yt_paths.append(yt)\n",
    "                γ2pt_paths.append(γ2pt)\n",
    "            no_jump_prob *= (1.-jump_prob)\n",
    "        e_no_jump = np.interp(y0, y_grid_short, e_grid_no_jump)\n",
    "        y0 = y0 + e_no_jump * θ * τ\n",
    "\n",
    "    return np.array(et_paths), np.array(yt_paths), np.array(γ2pt_paths), np.array(paths_prob)"
   ]
  },
  {
   "cell_type": "code",
   "execution_count": 211,
   "metadata": {},
   "outputs": [],
   "source": [
    "et_paths, yt_paths, γ2pt_paths, paths_prob = simulation_prob(y_grid_short, y_grid_long, y_grid_tilde, e_grid_no_jump, e_grid_jump,\n",
    "                           np.mean(model_res['θ']), y0=1.1, y_bar_lower=y_bar_lower, y_bar_upper=y_bar_upper, r0=r0,\n",
    "                           r1=r1, τ=τ, damage_prob=damage_setting['πd_o'], γ_2p=damage_setting['γ_2p'], n_model=n_model, T=120)"
   ]
  },
  {
   "cell_type": "code",
   "execution_count": 265,
   "metadata": {},
   "outputs": [],
   "source": [
    "et_paths_1, yt_paths_1, γ2pt_paths_1, paths_prob_1 = simulation_prob(y_grid_short, y_grid_long, y_grid_tilde, e_grid_no_jump, e_grid_jump,\n",
    "                           np.mean(model_res['θ']), y0=1.1, y_bar_lower=y_bar_lower, y_bar_upper=y_bar_upper, r0=r0,\n",
    "                           r1=r1, τ=1., damage_prob=damage_setting['πd_o'], γ_2p=damage_setting['γ_2p'], n_model=n_model, T=120)"
   ]
  },
  {
   "cell_type": "code",
   "execution_count": 249,
   "metadata": {},
   "outputs": [
    {
     "data": {
      "text/plain": [
       "<matplotlib.legend.Legend at 0x7fe08604bee0>"
      ]
     },
     "execution_count": 249,
     "metadata": {},
     "output_type": "execute_result"
    },
    {
     "data": {
      "image/png": "[encoded data removed]",
      "text/plain": [
       "<Figure size 432x288 with 1 Axes>"
      ]
     },
     "metadata": {
      "needs_background": "light"
     },
     "output_type": "display_data"
    }
   ],
   "source": [
    "T = 91\n",
    "time_periods = np.arange(0, T+τ, τ)\n",
    "plt.plot(time_periods, et_paths[0][:int(T_plots/τ)+1], color='darkorange', linewidth='2', label=r'$\\gamma_3 = 0$, jump on y=1.5')\n",
    "plt.plot(time_periods, et_paths[n_model-1][:int(T_plots/τ)+1], color='darkgreen', linewidth='2', label=r'$\\gamma_3 = \\frac{1}{3}$, jump on y=1.5')\n",
    "plt.plot(time_periods, et_no_jump, color='black', linewidth='2', label='no jump trajectory')\n",
    "plt.legend()"
   ]
  },
  {
   "cell_type": "code",
   "execution_count": 250,
   "metadata": {},
   "outputs": [],
   "source": [
    "et_no_jump, yt_no_jump, _, _ = simulation(model_res['y_grid'], model_res['e_tilde'], model_res['h'], model_res['g'],\n",
    "                            θ=np.mean(model_res['θ']), y_start=1.1, T=T, dt=τ)"
   ]
  },
  {
   "cell_type": "code",
   "execution_count": 251,
   "metadata": {},
   "outputs": [
    {
     "data": {
      "text/plain": [
       "[<matplotlib.lines.Line2D at 0x7fe0a25e5130>]"
      ]
     },
     "execution_count": 251,
     "metadata": {},
     "output_type": "execute_result"
    },
    {
     "data": {
      "image/png": "[encoded data removed]",
      "text/plain": [
       "<Figure size 432x288 with 1 Axes>"
      ]
     },
     "metadata": {
      "needs_background": "light"
     },
     "output_type": "display_data"
    }
   ],
   "source": [
    "plt.plot(model_res['y_grid'], e_grid_no_jump)"
   ]
  },
  {
   "cell_type": "code",
   "execution_count": 252,
   "metadata": {},
   "outputs": [
    {
     "data": {
      "text/plain": [
       "[<matplotlib.lines.Line2D at 0x7fe086183e50>]"
      ]
     },
     "execution_count": 252,
     "metadata": {},
     "output_type": "execute_result"
    },
    {
     "data": {
      "image/png": "[encoded data removed]",
      "text/plain": [
       "<Figure size 432x288 with 1 Axes>"
      ]
     },
     "metadata": {
      "needs_background": "light"
     },
     "output_type": "display_data"
    }
   ],
   "source": [
    "plt.plot(model_res['y_grid'], np.average(np.exp(-1./ξ_p*ϕ_m), weights=πd_o, axis=0))"
   ]
  },
  {
   "cell_type": "code",
   "execution_count": 253,
   "metadata": {},
   "outputs": [],
   "source": [
    "# Compute no jump probability\n",
    "no_jump_prob = np.ones_like(yt_no_jump)\n",
    "for t in range(no_jump_prob.shape[0]):\n",
    "    y = yt_no_jump[t]\n",
    "    if y > y_bar_lower:\n",
    "#         intensity = - r0 * (np.exp(- r1 / 2. * (y-y_bar_lower)**2) - 1.)\n",
    "        intensity = 0.75 * (y - 1.5) * (y > 1.5)\\\n",
    "                    + 300 * (y - 1.9)**2 * (y > 1.9)\n",
    "        no_jump_prob[t] = (1 - intensity*τ) * no_jump_prob[t-1]"
   ]
  },
  {
   "cell_type": "code",
   "execution_count": 254,
   "metadata": {
    "scrolled": true
   },
   "outputs": [
    {
     "data": {
      "text/plain": [
       "(0.0, 1.05)"
      ]
     },
     "execution_count": 254,
     "metadata": {},
     "output_type": "execute_result"
    },
    {
     "data": {
      "image/png": "[encoded data removed]",
      "text/plain": [
       "<Figure size 864x288 with 2 Axes>"
      ]
     },
     "metadata": {
      "needs_background": "light"
     },
     "output_type": "display_data"
    }
   ],
   "source": [
    "fig, (ax1, ax2) = plt.subplots(1, 2, figsize=(12,4))\n",
    "ax1.plot(time_periods, yt_no_jump, linewidth=2.)\n",
    "ax1.plot(time_periods, np.ones_like(yt_no_jump)*1.5, linestyle='dashed', color='black', linewidth=2)\n",
    "ax1.set_xlabel('Years', fontsize=13)\n",
    "ax1.set_title(r'Temperature anomaly')\n",
    "ax1.set_ylim(1, 2)\n",
    "\n",
    "ax2.plot(time_periods, no_jump_prob, linewidth=2.)\n",
    "ax2.set_xlabel('Years', fontsize=13)\n",
    "ax2.set_title(r'No jump probability')\n",
    "ax2.set_ylim(0, 1.05)\n",
    "\n",
    "# fig.savefig('fig.pdf')"
   ]
  },
  {
   "cell_type": "code",
   "execution_count": 255,
   "metadata": {},
   "outputs": [
    {
     "data": {
      "text/plain": [
       "Text(0.5, 1.0, 'Figure 1: Histogram of $\\\\gamma_3$, weighted by distorted probabilities (Year 91)')"
      ]
     },
     "execution_count": 255,
     "metadata": {},
     "output_type": "execute_result"
    },
    {
     "data": {
      "image/png": "[encoded data removed]",
      "text/plain": [
       "<Figure size 432x288 with 1 Axes>"
      ]
     },
     "metadata": {
      "needs_background": "light"
     },
     "output_type": "display_data"
    }
   ],
   "source": [
    "# Implied distorted probabilities\n",
    "yt_loc = find_nearest_value(model_res['y_grid'], yt_no_jump[int(T/τ)])\n",
    "\n",
    "Gt_m = model_res['g'][:, yt_loc]\n",
    "πd = Gt_m*πd_o / np.sum(Gt_m*πd_o)\n",
    "plt.hist(γ_2p, weights=πd, bins=20)\n",
    "plt.xlabel(r'$\\gamma_3$')\n",
    "plt.title(r'Figure 1: Histogram of $\\gamma_3$, weighted by distorted probabilities (Year ' + str(T) + ')')\n",
    "# plt.savefig('fig_1.pdf')"
   ]
  },
  {
   "cell_type": "code",
   "execution_count": 263,
   "metadata": {
    "scrolled": false
   },
   "outputs": [
    {
     "data": {
      "text/plain": [
       "Text(0.5, 1.0, 'Figure 1: Histogram of emission, Year 91')"
      ]
     },
     "execution_count": 263,
     "metadata": {},
     "output_type": "execute_result"
    },
    {
     "data": {
      "image/png": "[encoded data removed]",
      "text/plain": [
       "<Figure size 432x288 with 1 Axes>"
      ]
     },
     "metadata": {
      "needs_background": "light"
     },
     "output_type": "display_data"
    }
   ],
   "source": [
    "plt.figure()\n",
    "plt.hist(et_paths[:, int(T/τ)], weights=paths_prob, bins=20)\n",
    "plt.title('Figure 1: Histogram of emission, Year '+str(T))"
   ]
  },
  {
   "cell_type": "code",
   "execution_count": 264,
   "metadata": {},
   "outputs": [
    {
     "data": {
      "text/plain": [
       "Text(0.5, 1.0, 'Figure 2: Histogram of temperature anomaly, Year 91')"
      ]
     },
     "execution_count": 264,
     "metadata": {},
     "output_type": "execute_result"
    },
    {
     "data": {
      "image/png": "[encoded data removed]",
      "text/plain": [
       "<Figure size 432x288 with 1 Axes>"
      ]
     },
     "metadata": {
      "needs_background": "light"
     },
     "output_type": "display_data"
    }
   ],
   "source": [
    "plt.figure()\n",
    "plt.hist(yt_paths[:, int(T/τ)], weights=paths_prob, bins=20)\n",
    "plt.title('Figure 2: Histogram of temperature anomaly, Year '+str(T))"
   ]
  },
  {
   "cell_type": "markdown",
   "metadata": {},
   "source": [
    "## Comparsion of $\\tau$"
   ]
  },
  {
   "cell_type": "code",
   "execution_count": 266,
   "metadata": {},
   "outputs": [
    {
     "data": {
      "text/plain": [
       "Text(0.5, 1.0, 'Figure 1: Histogram of emission, Year 91')"
      ]
     },
     "execution_count": 266,
     "metadata": {},
     "output_type": "execute_result"
    },
    {
     "data": {
      "image/png": "[encoded data removed]",
      "text/plain": [
       "<Figure size 432x288 with 1 Axes>"
      ]
     },
     "metadata": {
      "needs_background": "light"
     },
     "output_type": "display_data"
    }
   ],
   "source": [
    "plt.figure()\n",
    "plt.hist(et_paths_1[:, int(T/1.)], weights=paths_prob_1, bins=20)\n",
    "plt.title('Figure 1: Histogram of emission, Year '+str(T))"
   ]
  },
  {
   "cell_type": "code",
   "execution_count": 267,
   "metadata": {},
   "outputs": [
    {
     "data": {
      "text/plain": [
       "Text(0.5, 1.0, 'Figure 2: Histogram of temperature anomaly, Year 91')"
      ]
     },
     "execution_count": 267,
     "metadata": {},
     "output_type": "execute_result"
    },
    {
     "data": {
      "image/png": "[encoded data removed]",
      "text/plain": [
       "<Figure size 432x288 with 1 Axes>"
      ]
     },
     "metadata": {
      "needs_background": "light"
     },
     "output_type": "display_data"
    }
   ],
   "source": [
    "plt.figure()\n",
    "plt.hist(yt_paths_1[:, int(T/1.)], weights=paths_prob_1, bins=20)\n",
    "plt.title('Figure 2: Histogram of temperature anomaly, Year '+str(T))"
   ]
  }
 ],
 "metadata": {
  "kernelspec": {
   "display_name": "Python 3",
   "language": "python",
   "name": "python3"
  },
  "language_info": {
   "codemirror_mode": {
    "name": "ipython",
    "version": 3
   },
   "file_extension": ".py",
   "mimetype": "text/x-python",
   "name": "python",
   "nbconvert_exporter": "python",
   "pygments_lexer": "ipython3",
   "version": "3.8.5"
  }
 },
 "nbformat": 4,
 "nbformat_minor": 4
}
