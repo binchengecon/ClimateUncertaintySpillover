{
 "cells": [
  {
   "cell_type": "code",
   "execution_count": 4,
   "metadata": {},
   "outputs": [],
   "source": [
    "import pandas as pd\n",
    "import numpy as np\n",
    "from source.model import solve_hjb_y, solve_hjb_y_jump\n",
    "from source.utilities import find_nearest_value"
   ]
  },
  {
   "cell_type": "code",
   "execution_count": 8,
   "metadata": {},
   "outputs": [
    {
     "name": "stdout",
     "output_type": "stream",
     "text": [
      "Converged. Total iteration 5000: LHS Error: 2.693299440625907e-05; RHS Error 8.023424065169149e-05\n",
      "Converged. Total iteration 1507: LHS Error: 9.965680058954263e-09; RHS Error 0.0004700251655244958\n",
      "Converged. Total iteration 1621: LHS Error: 9.95231452805001e-09; RHS Error 0.0022787956387432485\n",
      "Converged. Total iteration 443: LHS Error: 9.76240155381447e-09; RHS Error 0.0008703086250559725\n"
     ]
    }
   ],
   "source": [
    "# Uncertainty parameters\n",
    "ξ_w = 10_000\n",
    "ξ_a = 1/100\n",
    "ξ_p = 5\n",
    "\n",
    "# Preference\n",
    "η = .032\n",
    "δ = .01\n",
    "\n",
    "# Climate sensitivity\n",
    "θ = pd.read_csv('data/model144.csv', header=None).to_numpy()[:, 0]/1000.\n",
    "πc_o = np.ones_like(θ)/len(θ)\n",
    "\n",
    "# Damage function\n",
    "σ_y = 1.2*np.mean(θ)\n",
    "y_bar = 2.\n",
    "γ_1 = 1.7675/10000\n",
    "γ_2 = .0022*2\n",
    "γ_2p = np.array([0, .0197*2, .3853*2])\n",
    "πd_o = np.array([1./3, 1./3, 1./3])\n",
    "\n",
    "y_step = .02\n",
    "y_grid_long = np.arange(0., 4., y_step)\n",
    "y_grid_short = np.arange(0., 2+y_step, y_step)\n",
    "n_bar = find_nearest_value(y_grid_long, y_bar) + 1\n",
    "\n",
    "# Prepare ϕ conditional on low, high, extreme damage\n",
    "model_res_list = []\n",
    "for γ_2p_i in γ_2p:\n",
    "    model_args = (η, δ, σ_y, y_bar, γ_1, γ_2, γ_2p_i, θ, πc_o, ξ_w, ξ_a) \n",
    "    model_res = solve_hjb_y(y_grid_long, model_args, v0=None, ϵ=1.,\n",
    "                            tol=1e-8, max_iter=5_000, print_iteration=False)\n",
    "    model_res_list.append(model_res)\n",
    "\n",
    "ϕ_list = [res['v'] for res in model_res_list]\n",
    "\n",
    "# Change grid from 0-4 to 0-2\n",
    "ϕ_i = np.array([temp[:n_bar] for temp in ϕ_list])\n",
    "\n",
    "# Compute ϕ with jump (impose boundary condition)\n",
    "model_args = (η, δ, σ_y, y_bar, γ_1, γ_2, γ_2p, θ, πc_o, ϕ_i, πd_o, ξ_w, ξ_p, ξ_a)\n",
    "model_res = solve_hjb_y_jump(y_grid_short, model_args, \n",
    "                             v0=np.average(ϕ_i, weights=πd_o, axis=0),\n",
    "                             ϵ=1., tol=1e-8, max_iter=5_000, print_iteration=False)"
   ]
  },
  {
   "cell_type": "code",
   "execution_count": 9,
   "metadata": {},
   "outputs": [
    {
     "data": {
      "text/plain": [
       "[<matplotlib.lines.Line2D at 0x7fe8c3db0e20>]"
      ]
     },
     "execution_count": 9,
     "metadata": {},
     "output_type": "execute_result"
    },
    {
     "data": {
      "image/png": "[encoded data removed]",
      "text/plain": [
       "<Figure size 432x288 with 1 Axes>"
      ]
     },
     "metadata": {
      "needs_background": "light"
     },
     "output_type": "display_data"
    }
   ],
   "source": [
    "import matplotlib.pyplot as plt\n",
    "plt.plot(y_grid_short, model_res['v'])"
   ]
  }
 ],
 "metadata": {
  "kernelspec": {
   "display_name": "Python 3",
   "language": "python",
   "name": "python3"
  },
  "language_info": {
   "codemirror_mode": {
    "name": "ipython",
    "version": 3
   },
   "file_extension": ".py",
   "mimetype": "text/x-python",
   "name": "python",
   "nbconvert_exporter": "python",
   "pygments_lexer": "ipython3",
   "version": "3.8.5"
  }
 },
 "nbformat": 4,
 "nbformat_minor": 4
}
