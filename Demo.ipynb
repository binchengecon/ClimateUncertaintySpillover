{
 "cells": [
  {
   "cell_type": "code",
   "execution_count": 43,
   "metadata": {},
   "outputs": [],
   "source": [
    "%matplotlib inline\n",
    "import pandas as pd\n",
    "import numpy as np\n",
    "from source.model import solve_hjb_y, solve_hjb_y_jump\n",
    "from source.utilities import find_nearest_value\n",
    "from source.simulation import simulate_jump\n",
    "import matplotlib.pyplot as plt\n",
    "import matplotlib as mpl\n",
    "mpl.rcParams['axes.spines.right'] = False\n",
    "mpl.rcParams['axes.spines.top'] = False\n",
    "mpl.rcParams['legend.frameon'] = False"
   ]
  },
  {
   "cell_type": "markdown",
   "metadata": {},
   "source": [
    "# 1 Parameters\n",
    "We use the following values for the parameters listed below throughout:\n",
    "\n",
    "| Parameters | values |\n",
    "| :---:| :---|\n",
    "|$\\delta$ |  0.01 |\n",
    "|$\\eta$ | 0.032 | \n",
    "|$\\bar y$ | 2 |\n",
    "|$\\gamma_1$ | 0.00017675 |\n",
    "|$\\gamma_2$ | 0.0044|\n",
    "|$\\gamma_3^1$| 0.0000|\n",
    "|$\\gamma_3^2$| 0.0394|\n",
    "|$\\gamma_3^3$| 0.7706|\n",
    "|$\\varsigma'$| [0.0022, 0]|\n",
    "\n",
    "\n",
    "\n",
    "\n",
    "\n",
    "# 2. Computation\n",
    "\n",
    "Choose a set of uncertainty parameters $(\\xi_b, \\xi_p, \\xi_a)$ and proceed with the following two step computation. We explore 144 climate models and 3 damage functions, *i.e.* $L=144$ and $M=3$.\n",
    "\n",
    "## 2.1 Step I:\n",
    "Solve the following HJB for $\\gamma_3^m \\in \\{\\gamma_3^1, \\gamma_3^2, \\gamma_3^3\\}$ on $y \\in [0,4]$ to get the corresponding $\\phi_m(y)$ with $m = 1,2,3$:\n",
    "\n",
    "$$\n",
    "\\begin{aligned}\n",
    "0 = \\max_{\\tilde e} \\min_{\\omega^a_\\ell : \\sum_{\\ell=1}^L \\omega^a_\\ell = 1}  &- \\delta \\phi_m(y) +  \\eta \\log\\tilde e \\\\\n",
    "& + \\frac{1}{2} \\left(\\frac{d^2 \\phi_m}{dy^2} + \\frac{ (\\eta - 1)}{\\delta} \\left(\\gamma_2 + \\gamma_3\\mathbb{I}\\{y>\\bar y\\} \\right) \\right)(\\tilde e)^2 |\\varsigma|^2  \\\\\n",
    "& - \\frac{1}{2\\xi_b} \\left[ \\frac{d\\phi_m}{dy}    + \\frac{(\\eta -1)}{\\delta}(\\gamma_1 + \\gamma_2 y + \\gamma_3 (y-\\bar y)\\mathbb{I}\\{y > \\bar y\\})\\right]^2 \\cdot |\\varsigma|^2 (\\tilde e)^2 \\\\\n",
    "\\\\\n",
    "& + \\sum_{\\ell=1}^{L} \\omega_\\ell^a \\left(\\frac{d\\phi_m}{dy}+ \\frac{(\\eta -1)}{\\delta}(\\gamma_1 + \\gamma_2 y + \\gamma_3^m (y - \\bar y)\\mathbb{I}\\{y > \\bar y\\} ) \\right)\\theta_\\ell \\tilde e   \\\\\n",
    "\\\\\n",
    "& + \\xi_a \\sum_i \\omega^a_\\ell(\\log \\omega^a_\\ell - \\log \\pi^a_\\ell)\n",
    "\\end{aligned}\n",
    "$$\n",
    "\n",
    "## 2.2 Step II:\n",
    "Given the above $\\phi_1$, $\\phi_2$ and $\\phi_3$, solve the following HJB for $\\phi(y)$ on $y \\in [0, \\bar y]$:\n",
    "\n",
    "$$\n",
    "\\begin{aligned}\n",
    "0 = \\max_{\\tilde e} \\min_{\\omega^a_\\ell : \\sum_{\\ell=1}^L \\omega^a_\\ell = 1}  &- \\delta \\phi(y) +  \\eta \\log\\tilde e \\\\\n",
    "&+ \\frac{1}{2} \\left(\\frac{d^2 \\phi_m}{dy^2} + \\frac{ (\\eta - 1)}{\\delta} \\left(\\gamma_2 + \\gamma_3\\mathbb{I}\\{y>\\bar y\\} \\right) \\right)(\\tilde e)^2 |\\varsigma|^2 \\\\\n",
    "\\\\\n",
    "& - \\frac{1}{2\\xi_b} \\left[ \\frac{d\\phi}{dy}    + \\frac{(\\eta -1)}{\\delta}(\\gamma_1 + \\gamma_2 y + \\gamma_3 (y-\\bar y)\\mathbb{I}\\{y > \\bar y\\})\\right]^2 \\cdot |\\varsigma|^2 (\\tilde e)^2 \\\\\n",
    "\\\\\n",
    "&  + \\sum_{\\ell=1}^{L} \\omega_\\ell^a \\left(\\frac{d\\phi}{dy}+ \\frac{(\\eta -1)}{\\delta}(\\gamma_1 + \\gamma_2 y + \\gamma_3^m (y - \\bar y)\\mathbb{I}\\{y > \\bar y\\} ) \\right)\\theta_\\ell \\tilde e   \\\\\n",
    "\\\\\n",
    " & + \\xi_a \\sum_{\\ell=1}^L \\omega^a_\\ell(\\log \\omega^a_\\ell - \\log \\pi^a_\\ell)\n",
    "\\end{aligned}\n",
    "$$\n",
    "\n",
    "$$\n",
    "s.t \\quad \\phi(\\bar y) \\approx - \\xi_p \\log \\left( \\sum_{m=1}^M {\\pi^d_m} \\exp ( - \\frac{1}{\\xi_p}\\phi_m(\\bar y) )\\right)\n",
    "$$"
   ]
  },
  {
   "cell_type": "code",
   "execution_count": 11,
   "metadata": {},
   "outputs": [
    {
     "name": "stdout",
     "output_type": "stream",
     "text": [
      "Converged. Total iteration 5000: LHS Error: 2.544698815576396e-05; RHS Error 6.901213676188678e-05\n",
      "Converged. Total iteration 1507: LHS Error: 9.965662961519683e-09; RHS Error 0.00047002516558698054\n",
      "Converged. Total iteration 1621: LHS Error: 9.952296764481616e-09; RHS Error 0.002278795638726125\n",
      "Converged. Total iteration 443: LHS Error: 9.762318953221438e-09; RHS Error 0.0008703085083172288\n"
     ]
    }
   ],
   "source": [
    "# Uncertainty parameters\n",
    "ξ_w = 10_000\n",
    "ξ_a = 1/100\n",
    "ξ_p = 5\n",
    "\n",
    "# Preference\n",
    "η = .032\n",
    "δ = .01\n",
    "\n",
    "# Climate sensitivity\n",
    "θ_list = pd.read_csv('data/model144.csv', header=None).to_numpy()[:, 0]/1000.\n",
    "πc_o = np.ones_like(θ)/len(θ)\n",
    "\n",
    "# Damage function\n",
    "σ_y = 1.2*np.mean(θ)\n",
    "y_bar = 2.\n",
    "γ_1 = 1.7675/10000\n",
    "γ_2 = .0022*2\n",
    "γ_2p = np.array([0, .0197*2, .3853*2])\n",
    "πd_o = np.array([1./3, 1./3, 1./3])\n",
    "\n",
    "y_step = .02\n",
    "y_grid_long = np.arange(0., 4., y_step)\n",
    "y_grid_short = np.arange(0., 2+y_step, y_step)\n",
    "n_bar = find_nearest_value(y_grid_long, y_bar) + 1\n",
    "\n",
    "# Prepare ϕ conditional on low, high, extreme damage\n",
    "model_res_list = []\n",
    "for γ_2p_i in γ_2p:\n",
    "    model_args = (η, δ, σ_y, y_bar, γ_1, γ_2, γ_2p_i, θ, πc_o, ξ_w, ξ_a) \n",
    "    model_res = solve_hjb_y(y_grid_long, model_args, v0=None, ϵ=1.,\n",
    "                            tol=1e-8, max_iter=5_000, print_iteration=False)\n",
    "    model_res_list.append(model_res)\n",
    "\n",
    "ϕ_list = [res['v'] for res in model_res_list]\n",
    "certainty_equivalent = -ξ_p*np.log(np.average(np.exp(-1./ξ_p*np.array(ϕ_list)), axis=0, weights=πd_o))\n",
    "# Change grid from 0-4 to 0-2\n",
    "ϕ_i = np.array([temp[:n_bar] for temp in ϕ_list])\n",
    "\n",
    "# Compute ϕ with jump (impose boundary condition)\n",
    "model_args = (η, δ, σ_y, y_bar, γ_1, γ_2, γ_2p, θ, πc_o, ϕ_i, πd_o, ξ_w, ξ_p, ξ_a)\n",
    "model_res = solve_hjb_y_jump(y_grid_short, model_args, \n",
    "                             v0=np.average(ϕ_i, weights=πd_o, axis=0),\n",
    "                             ϵ=1., tol=1e-8, max_iter=5_000, print_iteration=False)"
   ]
  },
  {
   "cell_type": "code",
   "execution_count": 76,
   "metadata": {
    "scrolled": true
   },
   "outputs": [
    {
     "data": {
      "image/png": "[encoded data removed]",
      "text/plain": [
       "<Figure size 1296x288 with 3 Axes>"
      ]
     },
     "metadata": {
      "needs_background": "light"
     },
     "output_type": "display_data"
    }
   ],
   "source": [
    "fig, (ax1, ax2, ax3) = plt.subplots(1,3, figsize=(18,4))\n",
    "# plot 1: value matching\n",
    "ax1.plot(y_grid_long[n_bar:], ϕ_list[0][n_bar:], label=\"low damage\", color=\"darkgreen\")\n",
    "ax1.plot(y_grid_long[n_bar:], ϕ_list[1][n_bar:], label=\"high damage\", color=\"darkorange\")\n",
    "ax1.plot(y_grid_long[n_bar:], ϕ_list[2][n_bar:], label=\"extreme damage\", color=\"tab:red\")\n",
    "ax1.plot(model_res['y'], model_res['v'], color=\"navy\", label=\"prior to jump\")\n",
    "ax1.plot(y_grid_long[n_bar:], certainty_equivalent[n_bar:], \n",
    "         color=\"navy\", linestyle=\"dashed\", label=\"after jump, certainty equivalent\")\n",
    "y_min = np.min(ϕ_list[2])*1.2\n",
    "y_max = np.max(ϕ_list[0])*1.2\n",
    "ax1.vlines(2., ymin=y_min, ymax=y_max, color='black', linestyle='dashed', linewidth=2.)\n",
    "ax1.set_xlim(0, 3.)\n",
    "ax1.set_ylim(y_min, y_max)\n",
    "ax1.legend()\n",
    "ax1.set_xlabel('y', fontsize=13)\n",
    "ax1.set_ylabel(r'$\\phi(y)$', fontsize=13)\n",
    "# plot 2: trajectories of distorted probability of damage functions\n",
    "colors = [\"darkgreen\", \"darkorange\", \"tab:red\"]\n",
    "lines = ax2.plot(simulation_res[\"πdt\"])\n",
    "ax2.legend([\"low\", \"high\", \"extreme\"])\n",
    "ax2.set_ylim(0,1)\n",
    "for i in range(len(lines)):\n",
    "    lines[i].set_color(colors[i])\n",
    "plt.show()"
   ]
  },
  {
   "cell_type": "code",
   "execution_count": 45,
   "metadata": {},
   "outputs": [],
   "source": [
    "θ_list = pd.read_csv('data/model144.csv', header=None).to_numpy()[:, 0]/1000.\n",
    "simulation_res = simulate_jump(model_res, θ_list)"
   ]
  },
  {
   "cell_type": "code",
   "execution_count": 67,
   "metadata": {},
   "outputs": [
    {
     "data": {
      "image/png": "[encoded data removed]",
      "text/plain": [
       "<Figure size 432x288 with 1 Axes>"
      ]
     },
     "metadata": {
      "needs_background": "light"
     },
     "output_type": "display_data"
    }
   ],
   "source": [
    "colors = [\"darkgreen\", \"darkorange\", \"tab:red\"]\n",
    "lines = plt.plot(simulation_res[\"πdt\"])\n",
    "plt.legend([\"low\", \"high\", \"extreme\"])\n",
    "plt.ylim(0,1)\n",
    "for i in range(len(lines)):\n",
    "    lines[i].set_color(colors[i])"
   ]
  },
  {
   "cell_type": "code",
   "execution_count": 64,
   "metadata": {},
   "outputs": [
    {
     "data": {
      "text/plain": [
       "(0.0, 0.2)"
      ]
     },
     "execution_count": 64,
     "metadata": {},
     "output_type": "execute_result"
    },
    {
     "data": {
      "image/png": "[encoded data removed]",
      "text/plain": [
       "<Figure size 432x288 with 1 Axes>"
      ]
     },
     "metadata": {
      "needs_background": "light"
     },
     "output_type": "display_data"
    }
   ],
   "source": [
    "plt.plot(simulation_res[\"ht\"])\n",
    "plt.ylim(0,0.2)"
   ]
  },
  {
   "cell_type": "code",
   "execution_count": null,
   "metadata": {},
   "outputs": [],
   "source": [
    "def plot_results(y_grid_long, n_bar, ϕ_list, ξ_list, model_list)"
   ]
  },
  {
   "cell_type": "code",
   "execution_count": 13,
   "metadata": {},
   "outputs": [],
   "source": [
    "from ipywidgets import widgets, interact"
   ]
  },
  {
   "cell_type": "code",
   "execution_count": 35,
   "metadata": {},
   "outputs": [],
   "source": [
    "def browse_images(param_list):\n",
    "    n = len(param_list)\n",
    "    def view_image(i):\n",
    "        plt.plot(y_grid_long[n_bar:], ϕ_list[0][n_bar:], label=\"low damage\", color=\"darkgreen\")\n",
    "        plt.plot(y_grid_long[n_bar:], ϕ_list[1][n_bar:], label=\"high damage\", color=\"darkorange\")\n",
    "        plt.plot(y_grid_long[n_bar:], ϕ_list[2][n_bar:], label=\"extreme damage\", color=\"tab:red\")\n",
    "        plt.plot(y_grid_short, model_res['v'], color=\"navy\", label=\"prior to jump\")\n",
    "        plt.plot(y_grid_long[n_bar:], certainty_equivalent[n_bar:], \n",
    "                 color=\"navy\", linestyle=\"dashed\", label=\"after jump, certainty equivalent\")\n",
    "        y_min = np.min(ϕ_list[2])*1.2\n",
    "        y_max = np.max(ϕ_list[0])*1.2\n",
    "        plt.vlines(2., ymin=y_min, ymax=y_max, color='black', linestyle='dashed', linewidth=2.)\n",
    "        plt.xlim(0, 3.)\n",
    "        plt.ylim(y_min, y_max)\n",
    "        plt.legend()\n",
    "        plt.xlabel('y', fontsize=13)\n",
    "        plt.ylabel(r'$\\phi(y)$', fontsize=13)\n",
    "        plt.show()\n",
    "    interact(view_image, i=(0,n-1))"
   ]
  },
  {
   "cell_type": "code",
   "execution_count": 36,
   "metadata": {},
   "outputs": [
    {
     "data": {
      "application/vnd.jupyter.widget-view+json": {
       "model_id": "c9b538b62d0c4b878a87c9d4de47bec9",
       "version_major": 2,
       "version_minor": 0
      },
      "text/plain": [
       "interactive(children=(IntSlider(value=1, description='i', max=2), Output()), _dom_classes=('widget-interact',)…"
      ]
     },
     "metadata": {},
     "output_type": "display_data"
    }
   ],
   "source": [
    "param_list = [1,2,3]\n",
    "browse_images(param_list)"
   ]
  },
  {
   "cell_type": "code",
   "execution_count": 41,
   "metadata": {},
   "outputs": [
    {
     "data": {
      "text/plain": [
       "dict_keys(['v', 'dvdy', 'dvddy', 'e_tilde', 'h', 'πc', 'g', 'πd', 'bc', 'y', 'model_args'])"
      ]
     },
     "execution_count": 41,
     "metadata": {},
     "output_type": "execute_result"
    }
   ],
   "source": [
    "model_res.keys()"
   ]
  },
  {
   "cell_type": "code",
   "execution_count": 42,
   "metadata": {},
   "outputs": [],
   "source": [
    "?solve_hjb_y_jump"
   ]
  }
 ],
 "metadata": {
  "kernelspec": {
   "display_name": "Python 3",
   "language": "python",
   "name": "python3"
  },
  "language_info": {
   "codemirror_mode": {
    "name": "ipython",
    "version": 3
   },
   "file_extension": ".py",
   "mimetype": "text/x-python",
   "name": "python",
   "nbconvert_exporter": "python",
   "pygments_lexer": "ipython3",
   "version": "3.8.7"
  }
 },
 "nbformat": 4,
 "nbformat_minor": 4
}
