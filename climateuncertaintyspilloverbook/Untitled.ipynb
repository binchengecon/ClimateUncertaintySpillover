{
 "cells": [
  {
   "cell_type": "code",
   "execution_count": 19,
   "metadata": {},
   "outputs": [],
   "source": [
    "# packages\n",
    "import numpy as np\n",
    "import pandas as pd\n",
    "import os\n",
    "import sys\n",
    "import pickle\n",
    "# from solver_1d import false_transient_one_iteration_python\n",
    "from src.supportfunctions import PDESolver_2d, finiteDiff\n",
    "from numba import njit\n",
    "from scipy.sparse import csc_matrix\n",
    "from scipy.sparse.linalg import bicg\n",
    "import SolveLinSys\n",
    "import time\n",
    "from src.solver_ode import solve_ode, solve_ode_one, derivative_1d, solve_ode_1\n",
    "from src.solver_jump import approach_one_100, solve_smooth_100, solve_jump_100\n",
    "from scipy import interpolate\n",
    "import matplotlib.pyplot as plt\n",
    "import matplotlib as mpl\n",
    "import time\n",
    "import matplotlib.transforms as transforms\n",
    "mpl.rcParams['axes.spines.right'] = False\n",
    "mpl.rcParams['axes.spines.top'] = False\n",
    "mpl.rcParams['legend.frameon'] = False\n",
    "mpl.rcParams['lines.linewidth'] = 2\n",
    "mpl.rcParams['figure.facecolor'] = 'w'\n",
    "mpl.rcParams['figure.edgecolor'] = 'w'\n",
    "mpl.rcParams['savefig.dpi'] = 300"
   ]
  },
  {
   "cell_type": "code",
   "execution_count": 22,
   "metadata": {},
   "outputs": [],
   "source": [
    "# parameters\n",
    "δ = 0.01\n",
    "η = 0.032\n",
    "μ = 1.86/1000\n",
    "θ_list = pd.read_csv(os.path.dirname(os.path.dirname(os.getcwd())) + '/ClimateUncertaintySpillover/climateuncertaintyspilloverbook/data/model144.csv', header=None)[0].to_numpy()\n",
    "θ_list = θ_list/1000\n",
    "σy = 1.2*np.mean(θ_list)\n",
    "ς = 0.1\n",
    "# damage function\n",
    "# ȳ = 1.9\n",
    "γ1 = 0.00017675\n",
    "γ2 = 2*0.0022\n",
    "# γ3_list = np.linspace(0, 1/3, 40)\n",
    "# γ3_list = np.array([0, 0.0197*2, 0.3853*2])\n",
    "y_jump=2\n",
    "y = 2.5\n",
    "γ3_list = np.linspace(0, 1./3, 20)\n",
    "\n",
    "dmg_weight = np.ones(len(γ3_list))/len(γ3_list)\n",
    "# capital parameters\n",
    "invkap = 0.09\n",
    "α = 0.115\n",
    "αₖ = - 0.043\n",
    "σₖ = 0.0095\n",
    "κ = 6.667\n",
    "k0 = 85/α"
   ]
  },
  {
   "cell_type": "code",
   "execution_count": null,
   "metadata": {},
   "outputs": [],
   "source": []
  }
 ],
 "metadata": {
  "kernelspec": {
   "display_name": "Python 3",
   "language": "python",
   "name": "python3"
  },
  "language_info": {
   "codemirror_mode": {
    "name": "ipython",
    "version": 3
   },
   "file_extension": ".py",
   "mimetype": "text/x-python",
   "name": "python",
   "nbconvert_exporter": "python",
   "pygments_lexer": "ipython3",
   "version": "3.8.8"
  }
 },
 "nbformat": 4,
 "nbformat_minor": 4
}
