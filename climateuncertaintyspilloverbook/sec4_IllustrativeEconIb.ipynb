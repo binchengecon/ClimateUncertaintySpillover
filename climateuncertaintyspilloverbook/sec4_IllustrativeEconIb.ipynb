{
 "cells": [
  {
   "cell_type": "markdown",
   "metadata": {},
   "source": [
    "# 4B Illustrative economy Ib: smooth ambiguity\n",
    "\n",
    "\n",
    "This notebook is to supplement discussion in [Section 4](sec4_IllustrativeEconI.ipynb) by focusing on a different aspect -- the impact of smooth ambiguity.\n",
    "\n",
    "The same with [Section 4](sec4_IllustrativeEconI.ipynb), the penalty paramters are $\\xi_a$ and $\\xi_r$. \n",
    "\n",
    "Without specifically pointed out, $\\xi_r = 1$ in this example. And the smooth ambiguity parameter $\\xi_a$ values we experiment with are $\\{0.02, 0.01, 0.005, 0.0025\\}$.\n",
    "\n",
    "## 4B.1 Post-jump continuation value functions\n",
    "\n",
    "\n",
    "Conditioned on each of the damage functions, $m = 1, 2, \\dots, 20$. Solve for the corresponding $\\phi_m(y)$:\n",
    "\n",
    "\n",
    "$$\n",
    "\\begin{align*}\n",
    "0 = \\max_{\\tilde e}  \\min_h \\min_{\\omega_j, \\sum_{\\ell =1}^L \\omega_\\ell  = 1}\n",
    "& - \\delta \\phi_m(y)    +  \\eta \\log \\tilde e    \\cr\n",
    "& + \\frac {d \\phi_m(y)}{d y} {\\tilde e}  \\varsigma \\cdot h  + {\\frac {(\\eta - 1)} \\delta }\\left[\\gamma_1 +  \\gamma_2 y + \\gamma_3^m (y- {\\overline y} ) \\right] {\\tilde e} \\varsigma \\cdot h + {\\frac {\\xi_r} 2} h'h \\cr \n",
    "& + \\frac {d \\phi_m(y)}{d y}  \\sum_{\\ell=1}^L \\omega_\\ell  \\theta_\\ell {\\tilde e} + {\\frac 1 2} \\frac {d^2 \\phi_m(y)}{(dy)^2} |\\varsigma|^2 \\tilde e^2  \\cr\n",
    "&+ {\\frac {(\\eta - 1)} \\delta}  \\left( \\left[ \\gamma_1 + \\gamma_2 y + \\gamma_3^m (y - \\overline y) \\right]   \\sum_{\\ell=1}^L \\omega_\\ell \\theta_\\ell {\\tilde e} + {\\frac 1 2} (\\gamma_2 + \n",
    "\\gamma_3^m) |\\varsigma|^2 \\tilde e^2 \\right) \\cr\n",
    "&+ \\xi_a \\sum_{\\ell = 1}^L \\omega_\\ell \\left( \\log \\omega_\\ell - \\log \\pi_\\ell \\right).\n",
    "\\end{align*}\n",
    "$$"
   ]
  },
  {
   "cell_type": "code",
   "execution_count": null,
   "metadata": {},
   "outputs": [],
   "source": [
    "import numpy as np\n",
    "import pandas as pd\n",
    "from src.model import solve_hjb_y, solve_hjb_y_jump\n",
    "from src.utilities import find_nearest_value, solve_post_jump\n",
    "from src.simulation import simulate_jump, no_jump_simulation\n",
    "import pickle"
   ]
  },
  {
   "cell_type": "code",
   "execution_count": null,
   "metadata": {},
   "outputs": [],
   "source": [
    "# Preference\n",
    "η = 0.032\n",
    "δ = 0.01\n",
    "\n",
    "# Climate sensitivity\n",
    "θ_list = pd.read_csv('data/model144.csv', header=None).to_numpy()[:, 0] / 1000.\n",
    "πa_o = np.ones_like(θ_list) / len(θ_list)\n",
    "\n",
    "# Damage functions\n",
    "σ_y = 1.2 * np.mean(θ_list)\n",
    "y_underline = 1.5\n",
    "y_bar = 2.\n",
    "γ_1 = 1.7675 / 10000\n",
    "γ_2 = 0.0022 * 2\n",
    "γ_3 = np.linspace(0., 1. / 3, 20)\n",
    "πd_o = np.ones_like(γ_3) / len(γ_3)\n",
    "\n",
    "# capital evolution\n",
    "α = 0.115\n",
    "i_over_k = 0.09\n",
    "K0 = 85 / α\n",
    "\n",
    "# state variable\n",
    "y_step = .01\n",
    "y_grid_long = np.arange(0., 5., y_step)\n",
    "y_grid_short = np.arange(0., 2.1 + y_step, y_step)\n",
    "n_bar = find_nearest_value(y_grid_long, y_bar) "
   ]
  },
  {
   "cell_type": "code",
   "execution_count": null,
   "metadata": {
    "scrolled": true
   },
   "outputs": [],
   "source": [
    "# # Prepare ϕ conditional on low, high, extreme damage\n",
    "# ξ_r = 1.\n",
    "# v_list = {}\n",
    "# e_tilde_list = {}\n",
    "# for ξ_a_i in [0.02, 0.01, 0.005, 0.0025]:\n",
    "#     model_args_list = []\n",
    "#     for γ_3_m in γ_3:\n",
    "#         model_arg = (η, δ, σ_y, y_bar, γ_1, γ_2, γ_3_m, θ_list, πa_o, ξ_r, ξ_a_i)\n",
    "#         model_args_list.append((y_grid_long, model_arg, None, 1., 1e-8, 5_000, False))\n",
    "#     v_list[ξ_a_i], e_tilde_list[ξ_a_i] = solve_post_jump(y_grid_long, γ_3, solve_hjb_y, model_args_list)"
   ]
  },
  {
   "cell_type": "code",
   "execution_count": null,
   "metadata": {},
   "outputs": [],
   "source": [
    "# pickle.dump(v_list, open(\"v_list_sa\", \"wb\"))\n",
    "# pickle.dump(e_tilde_list, open(\"e_tilde_list_sa\", \"wb\"))\n",
    "v_list = pickle.load(open(\"v_list_sa\", \"rb\"))\n",
    "e_tilde_list = pickle.load(open(\"e_tilde_list_sa\", \"rb\"))"
   ]
  },
  {
   "cell_type": "markdown",
   "metadata": {},
   "source": [
    "## 4B Pre-jump value function\n",
    "\n",
    "The pre-jump value function has a similar structure with two exceptions:\n",
    "  -  we include the intensity function discussed earlier and \n",
    "  -  we introduce robustness concerns for both the \n",
    "intensity and distribution over the alternative $\\gamma_3^m$ coefficients.  \n",
    "\n",
    "Given these modifications, we include:\n",
    "\n",
    "\n",
    "$$\n",
    "\\mathcal J (y) \\sum_{m=1}^M g_m \\pi_m \\left[ \\phi_m(\\overline y) - \\phi(y) \\right]\n",
    "+ \\xi_r {\\mathcal J}(y)  \\sum_{m=1}^M \\pi_m \\left( 1 - g_m + g_m \\log g_m \\right)\\pi_m \n",
    "$$\n",
    "\n",
    "in the HJB and solve for pre-jump value function $\\phi(y)$ on $[0, \\overline{y}]$:\n",
    "\n",
    "$$\n",
    "\\begin{align*}\n",
    "0 = \\max_{\\tilde e}  \\min_h \\min_{\\omega_j, \\sum_{\\ell =1}^L \\omega_\\ell  = 1} \\min_{g_m \\geqslant 0}\n",
    "& - \\delta \\phi(y)    +  \\eta \\log \\tilde e    \\cr\n",
    "& + \\frac {d \\phi(y)}{d y} {\\tilde e}  \\varsigma \\cdot h  + {\\frac {(\\eta - 1)} \\delta }\\left[\\gamma_1 +  \\gamma_2 y) \\right] {\\tilde e} \\varsigma \\cdot h + {\\frac {\\xi_r} 2} h'h \\cr \n",
    "& + \\frac {d \\phi(y)}{d y}  \\sum_{\\ell=1}^L \\omega_\\ell  \\theta_\\ell {\\tilde e} + {\\frac 1 2} \\frac {d^2 \\phi(y)}{(dy)^2} |\\varsigma|^2 \\tilde e^2  \\cr\n",
    "&+ {\\frac {(\\eta - 1)} \\delta}  \\left( \\left[ \\gamma_1 + \\gamma_2 y\\right]   \\sum_{\\ell=1}^L \\omega_\\ell \\theta_\\ell {\\tilde e} + {\\frac 1 2} \\gamma_2  |\\varsigma|^2 \\tilde e^2 \\right) \\cr\n",
    "&+ \\xi_a \\sum_{\\ell = 1}^L \\omega_\\ell \\left( \\log \\omega_\\ell - \\log \\pi_\\ell \\right)\\cr\n",
    "&+ \\mathcal J (y) \\sum_{m=1}^M g_m \\pi_m \\left[ \\phi_m(\\overline y) - \\phi(y) \\right]\n",
    "+ \\xi_r {\\mathcal J}(y)  \\sum_{m=1}^M \\pi_m \\left( 1 - g_m + g_m \\log g_m \\right)\\pi_m \n",
    "\\end{align*}\n",
    "$$"
   ]
  },
  {
   "cell_type": "code",
   "execution_count": null,
   "metadata": {},
   "outputs": [],
   "source": [
    "ξ_a_list = [0.02, 0.01, 0.005, 0.0025]"
   ]
  },
  {
   "cell_type": "code",
   "execution_count": null,
   "metadata": {
    "scrolled": true
   },
   "outputs": [],
   "source": [
    "# pre_jump_res = {}\n",
    "# for ξ_a_i in ξ_a_list:\n",
    "#     ϕ_list = v_list[ξ_a_i]\n",
    "#     certainty_equivalent = -ξ_r * np.log(\n",
    "#         np.average(\n",
    "#             np.exp(-1. / ξ_r * np.array(ϕ_list)), axis=0, weights=πd_o))\n",
    "#     # Change grid from 0-4 to 0-2\n",
    "#     ϕ_i = np.array(\n",
    "#         [temp[n_bar] * np.ones_like(y_grid_short) for temp in ϕ_list])\n",
    "\n",
    "#     # Compute ϕ with jump (impose boundary condition)\n",
    "#     model_args = (η, δ, σ_y, y_underline, y_bar, γ_1, γ_2, γ_3, θ_list, πa_o, ϕ_i, πd_o,\n",
    "#                   ξ_r, ξ_r, ξ_a_i)\n",
    "#     model_res = solve_hjb_y_jump(y_grid_short,\n",
    "#                                  model_args,\n",
    "#                                  v0=None,\n",
    "#                                  ϵ=1.,\n",
    "#                                  tol=1e-8,\n",
    "#                                  max_iter=5_000,\n",
    "#                                  print_iteration=False)\n",
    "#     simulation_res = no_jump_simulation(model_res, dt=1/4)\n",
    "#     pre_jump_res[ξ_a_i] = dict(model_res=model_res,\n",
    "#                            simulation_res=simulation_res,\n",
    "#                            certainty_equivalent=certainty_equivalent)"
   ]
  },
  {
   "cell_type": "code",
   "execution_count": null,
   "metadata": {},
   "outputs": [],
   "source": [
    "# pickle.dump(pre_jump_res, open(\"pre_jump_res_sa\", \"wb\"))\n",
    "pre_jump_res = pickle.load(open(\"pre_jump_res_sa\", \"rb\"))"
   ]
  },
  {
   "cell_type": "markdown",
   "metadata": {},
   "source": [
    "## 4B.3 Emission and $\\log SCC$ as a function of temperature anomaly"
   ]
  },
  {
   "cell_type": "code",
   "execution_count": null,
   "metadata": {
    "tags": [
     "hide-input"
    ]
   },
   "outputs": [],
   "source": [
    "from src.plots import plot_ems_app\n",
    "plot_ems_app(pre_jump_res, y_grid_short, ξ_a_list)"
   ]
  },
  {
   "cell_type": "code",
   "execution_count": null,
   "metadata": {
    "scrolled": false,
    "tags": [
     "hide-input"
    ]
   },
   "outputs": [],
   "source": [
    "from src.plots import plot_logscc\n",
    "args_scc = (α, η, i_over_k, K0, γ_1, γ_2)\n",
    "plot_logscc(pre_jump_res, y_grid_short, 1.5, ξ_a_list, args_scc).write_html('plot_logscc.html')\n",
    "IFrame(src ='plot_logscc.html', width=1090, height=500)"
   ]
  },
  {
   "cell_type": "markdown",
   "metadata": {},
   "source": [
    "## 4B.4 Emission and logarithm of social cost of carbon trajectories\n",
    "\n",
    "The figure shows emission and $\\log SCC$ over time before temperature anomaly reaches the upper bound of jump threshold, 2$^o C$.\n"
   ]
  },
  {
   "cell_type": "code",
   "execution_count": null,
   "metadata": {
    "tags": [
     "hide-input"
    ]
   },
   "outputs": [],
   "source": [
    "emission_traj = plot_ems_app(pre_jump_res, y_grid_short, ξ_a_list, dt=1/4, model_res=False)\n",
    "emission_traj.update_yaxes(range=[0,14])"
   ]
  },
  {
   "cell_type": "code",
   "execution_count": null,
   "metadata": {},
   "outputs": [],
   "source": []
  }
 ],
 "metadata": {
  "celltoolbar": "Tags",
  "kernelspec": {
   "display_name": "Python 3",
   "language": "python",
   "name": "python3"
  },
  "language_info": {
   "codemirror_mode": {
    "name": "ipython",
    "version": 3
   },
   "file_extension": ".py",
   "mimetype": "text/x-python",
   "name": "python",
   "nbconvert_exporter": "python",
   "pygments_lexer": "ipython3",
   "version": "3.8.8"
  }
 },
 "nbformat": 4,
 "nbformat_minor": 5
}
