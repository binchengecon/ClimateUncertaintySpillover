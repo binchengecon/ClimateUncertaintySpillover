{
 "cells": [
  {
   "cell_type": "code",
   "execution_count": 1,
   "metadata": {},
   "outputs": [],
   "source": [
    "import numpy as np\n",
    "import matplotlib.pyplot as plt\n",
    "from numba import njit"
   ]
  },
  {
   "cell_type": "markdown",
   "metadata": {},
   "source": [
    "Quarterly approximation:\n",
    "\n",
    "Consumption process:\n",
    "$$\n",
    "\\log C_{t+1} - \\log C_t = \\alpha_c + \\beta_c Z_t + \\sigma_c (W_{t+1}-W_t)\n",
    "$$\n",
    "\n",
    "\n",
    "Z process:\n",
    "$$\n",
    "Z_{t+1} - Z_t = \\alpha_z - \\beta_z Z_t + \\sigma_z (W_{t+1}-W_t)\n",
    "$$\n",
    "\n",
    "where $\\alpha_c = .484, \\beta_c = 1, \\alpha_z=0, \\beta_z=.014$.\n",
    "$\\sigma_c=\\begin{bmatrix}.477 \\\\ 0\\end{bmatrix}, \\sigma_z=\\begin{bmatrix}.011 \\\\ .025\\end{bmatrix}$."
   ]
  },
  {
   "cell_type": "code",
   "execution_count": 2,
   "metadata": {},
   "outputs": [],
   "source": [
    "α_c = .484\n",
    "β_c = 1.\n",
    "σ_c = np.array([.477, 0])\n",
    "α_z = 0.\n",
    "β_z = .014\n",
    "σ_z = np.array([.011, .025])\n",
    "\n",
    "\n",
    "@njit\n",
    "def simulation(ws, N=100_000, T=40, dt=1/4.):\n",
    "    \"\"\"\n",
    "    Simulate N paths of Z_t and C_t from t=1 to T.\n",
    "\n",
    "    \"\"\"\n",
    "    var_z = dt*σ_z@σ_z/(1-(1-β_z*dt)**2)\n",
    "    std_z = np.sqrt(var_z)\n",
    "    \n",
    "    time_periods = int(T/dt)\n",
    "    z_path = np.zeros((N, time_periods+1))\n",
    "    c_path = np.zeros((N, time_periods+1))\n",
    "    for i in range(N):\n",
    "        z0 = np.random.normal(0.,std_z)\n",
    "        c0 = 0.\n",
    "        z_path[i, 0] = z0\n",
    "        c_path[i, 0] = c0\n",
    "        for j in range(1, time_periods+1):\n",
    "            c1 = c0 + (α_c + β_c*z0)*dt + σ_c@ws[i, j]*np.sqrt(dt)\n",
    "            z1 = (1.-β_z*dt)*z0 + σ_z@ws[i, j]*np.sqrt(dt)\n",
    "            c_path[i, j] = c1\n",
    "            z_path[i, j] = z1\n",
    "            c0 = c1\n",
    "            z0 = z1\n",
    "    return z_path, c_path"
   ]
  },
  {
   "cell_type": "code",
   "execution_count": 3,
   "metadata": {},
   "outputs": [],
   "source": [
    "N = 1_000_000\n",
    "T = 40\n",
    "dt = 1./4.\n",
    "np.random.seed(1)\n",
    "\n",
    "ws = np.random.multivariate_normal(np.zeros(2), np.eye(2), (N, int(T/dt)))\n",
    "res_z, res_c = simulation(ws, N, T, dt)"
   ]
  },
  {
   "cell_type": "code",
   "execution_count": 4,
   "metadata": {},
   "outputs": [
    {
     "data": {
      "text/plain": [
       "[<matplotlib.lines.Line2D at 0x7f401f15ecd0>]"
      ]
     },
     "execution_count": 4,
     "metadata": {},
     "output_type": "execute_result"
    },
    {
     "data": {
      "image/png": "[encoded data removed]",
      "text/plain": [
       "<Figure size 432x288 with 1 Axes>"
      ]
     },
     "metadata": {
      "needs_background": "light"
     },
     "output_type": "display_data"
    }
   ],
   "source": [
    "plt.plot(np.percentile(res_z, 10, axis=0))\n",
    "plt.plot(np.percentile(res_z, 90, axis=0))"
   ]
  },
  {
   "cell_type": "code",
   "execution_count": 10,
   "metadata": {},
   "outputs": [
    {
     "data": {
      "image/png": "[encoded data removed]",
      "text/plain": [
       "<Figure size 432x288 with 1 Axes>"
      ]
     },
     "metadata": {
      "needs_background": "light"
     },
     "output_type": "display_data"
    }
   ],
   "source": [
    "plt.plot(np.arange(0, T+dt, dt), np.percentile(res_c, 10, axis=0))\n",
    "# plt.plot(np.arange(0, T+dt, dt), np.percentile(res_c, 90, axis=0))\n",
    "# plt.ylim(-5, 30)\n",
    "# plt.xlim(0, 40)\n",
    "plt.xlabel('quarter')\n",
    "plt.savefig('plot.pdf')"
   ]
  },
  {
   "cell_type": "code",
   "execution_count": 9,
   "metadata": {},
   "outputs": [
    {
     "data": {
      "text/plain": [
       "array([ 0.        , -0.18951912, -0.2042491 , -0.19189071, -0.16557671,\n",
       "       -0.13344689, -0.094875  , -0.05313563, -0.00603528,  0.04022255])"
      ]
     },
     "execution_count": 9,
     "metadata": {},
     "output_type": "execute_result"
    }
   ],
   "source": [
    "np.percentile(res_c, 10, axis=0)[:10]"
   ]
  }
 ],
 "metadata": {
  "kernelspec": {
   "display_name": "Python 3",
   "language": "python",
   "name": "python3"
  },
  "language_info": {
   "codemirror_mode": {
    "name": "ipython",
    "version": 3
   },
   "file_extension": ".py",
   "mimetype": "text/x-python",
   "name": "python",
   "nbconvert_exporter": "python",
   "pygments_lexer": "ipython3",
   "version": "3.8.7"
  }
 },
 "nbformat": 4,
 "nbformat_minor": 4
}
