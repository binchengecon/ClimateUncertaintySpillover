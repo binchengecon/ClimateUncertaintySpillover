{
 "cells": [
  {
   "cell_type": "markdown",
   "id": "unique-arbor",
   "metadata": {},
   "source": [
    "# 0 Enviroment setup\n",
    "\n",
    "This project is separated according to sections in *Climate Change Uncertainty Spillover in the Macroeconomy*\n",
    "by Mike Barnett, William Brock and Lars Peter Hansen:\n",
    "\n",
    "1. [introduction]()\n",
    "2. [Uncertainty aversion](sec5_UncertaintyAversion.ipynb)\n",
    "3. [A climate component of a planner's decision problem](sec6_DecisionProblem.ipynb)\n",
    "4. [Sensitivity](sec7_Sensitivity.ipynb)\n",
    "5. [Uncertainty decomposition](sec8_UncertaintyDecomposition.ipynb)\n",
    "6. [A richer economic setting](sec9_RicherSetting.ipynb)\n",
    "\n",
    "As well as appendices explaining computation methods and details.\n",
    "\n",
    "A1. [Computation methods](appendix.ipynb) <br />"
   ]
  },
  {
   "cell_type": "code",
   "execution_count": 1,
   "id": "downtown-display",
   "metadata": {
    "scrolled": false
   },
   "outputs": [
    {
     "data": {
      "text/markdown": [
       "# Climate Change Uncertainty Spillover in the Macroeconomy\n",
       "This repository contains codes and jupyter notebooks which compute and demonstrate results of \"Climate Change Uncertainty Spillover in the Macroeconomy\" by [Micheal Barnett][id1], [William Brock][id2] and [Lars Peter Hansen][id3]. Latest version could be found [here][id4].\n",
       "\n",
       "[id1]: to\n",
       "[id2]: https://economics.missouri.edu/people/brock\n",
       "[id3]: https://larspeterhansen.org/\n",
       "[id4]: https://larspeterhansen.org/research/papers/\n",
       "\n",
       "## Table of contents\n",
       "- [Prerequisite](#prerequisite)\n",
       "- [Acessing our project](#acessing)\n",
       "- [Quick user's guide](#quick-guide)\n",
       "- [Snapshots of results](#snapshot)\n",
       "\n",
       "## <a name=\"prerequisite\"></a>Prerequisite\n",
       "`Python == 3.8.x`, package manager such as `pip` and `jupyter notebook`. \n",
       "\n",
       "## <a name=\"acessing\"></a>Acessing our project\n",
       "There are two options to access our jupyter notebook. The easiest way is to open a copy in Google Colab by clicking the button below:\n",
       "[![Open In Colab](https://colab.research.google.com/assets/colab-badge.svg)](https://colab.research.google.com/github/lphansen/Beliefs/blob/master/Belief_Notebook.ipynb)\n",
       "\n",
       "Then click <button type = \"button\" name=\"runall\">Run all</button> from <button type=\"runtime\" name=\"runtime\">runtime</button> to see our results. If you are running the notebook the first time, you will need to click the authorization link under the first code cell and copy paste a pop-up string to the input box under the link.\n",
       "\n",
       "An alternative way is to store the notebook as well as codes in your local machine. You can do this by following steps below:\n",
       "1.  Open a Windows command prompt, Mac terminal or Linux terminal and change into the folder you would like to store the files.\n",
       " \t-  You can do this using the command ``cd`` in the command prompt (on Windows) or terminal (on Mac and Linux).\n",
       "\t - For example, running `cd 'C:\\Users\\username\\python'` (don’t forget '' around the path name to use an absolute path) would lead me to my designated folder.\n",
       "    ```\n",
       "    $ cd [folder path name]\n",
       "    ```\n",
       "2.  Clone the github repository for the paper\n",
       "    - If you don’t have github installed, try installing it from this page: https://git-scm.com/download.\n",
       "    - You can do this by running below in the command prompt:\n",
       "    ```\n",
       "    $ git clone https://github.com/lphansen/WrestlingClimate\n",
       "    ```\n",
       "3.\tChange directories into the ‘Wrestling’ folder and install the required packages for the current user or your initiated virtual environment:\n",
       "    ```\n",
       "    $ cd WrestlingClimate\n",
       "    $ pip install -r requirements.txt\n",
       "    ```\n",
       "## <a name=\"quick-guide\"></a>Quick user's guide\n",
       "description of notebooks' contents\n",
       "\n",
       "The notebooks are separated according to section in the paper.\n",
       "- Section 0: Environment setup\n",
       "- Section 1 - 4: Introduction to example economy\n",
       "- Section 5: [Uncertainty aversion](sec5_UncertaintyAversion.ipynb)\n",
       "- Section 6: [Climate components of a planner's decision problem](sec6_DecisionProblem.ipynb)\n",
       "- Section 7: [Sensitivity](sec7_Sensitivity.ipynb)\n",
       "- Section 8: [Uncertainty decomposition](sec8_UncertaintyDecomposition.ipynb)\n",
       "\n",
       "## <a name=\"snapshot\"></a> Snapshots of results\n",
       "selected plots\n"
      ],
      "text/plain": [
       "<IPython.core.display.Markdown object>"
      ]
     },
     "execution_count": 1,
     "metadata": {},
     "output_type": "execute_result"
    }
   ],
   "source": [
    "from IPython.core.display import Markdown\n",
    "Markdown(open('README.md').read())"
   ]
  },
  {
   "cell_type": "markdown",
   "id": "legendary-brain",
   "metadata": {},
   "source": [
    "# Package installation and  check"
   ]
  },
  {
   "cell_type": "code",
   "execution_count": 2,
   "id": "leading-trauma",
   "metadata": {},
   "outputs": [
    {
     "name": "stdout",
     "output_type": "stream",
     "text": [
      "IPython - 7.19.0\n"
     ]
    }
   ],
   "source": [
    "from IPython import __version__ as ipython_version\n",
    "print(\"IPython - %s\" % ipython_version)"
   ]
  },
  {
   "cell_type": "markdown",
   "id": "spectacular-runner",
   "metadata": {},
   "source": [
    "# Next section\n",
    "\n",
    "To the nex section, click here:"
   ]
  }
 ],
 "metadata": {
  "kernelspec": {
   "display_name": "ry38",
   "language": "python",
   "name": "ry38"
  },
  "language_info": {
   "codemirror_mode": {
    "name": "ipython",
    "version": 3
   },
   "file_extension": ".py",
   "mimetype": "text/x-python",
   "name": "python",
   "nbconvert_exporter": "python",
   "pygments_lexer": "ipython3",
   "version": "3.8.7"
  }
 },
 "nbformat": 4,
 "nbformat_minor": 5
}
