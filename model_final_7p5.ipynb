{
 "cells": [
  {
   "cell_type": "code",
   "execution_count": 1,
   "metadata": {},
   "outputs": [],
   "source": [
    "import numpy as np\n",
    "import pandas as pd\n",
    "from scipy.interpolate import interp2d\n",
    "\n",
    "from numba import njit\n",
    "from src.model_tech_dice import hjb_post_damage_post_tech, hjb_post_damage_pre_tech\n",
    "from src.model_tech_dice import hjb_pre_damage_post_tech, hjb_pre_damage_pre_tech\n",
    "from src.utilities import find_nearest_value\n",
    "from src.simulation_2d import EvolutionState, simulation_dice_prob"
   ]
  },
  {
   "cell_type": "code",
   "execution_count": 2,
   "metadata": {},
   "outputs": [],
   "source": [
    "##################\n",
    "ξ_a = 2./100\n",
    "ξ_p = 7.5\n",
    "arrival = 20\n",
    "τ = 2.\n",
    "y_bar_lower = 1.5\n",
    "n_model = 20\n",
    "##################\n",
    "\n",
    "I_g_first = 1./arrival\n",
    "I_g_second = 1./arrival\n",
    "ξ_g_first = ξ_p\n",
    "ξ_g_second = ξ_p\n",
    "ξ_b = ξ_p\n",
    "\n",
    "# Model parameters\n",
    "δ = 0.01\n",
    "α = 0.115\n",
    "κ = 6.667\n",
    "μ_k = -0.043\n",
    "σ_k = np.sqrt(0.0087**2 + 0.0038**2)\n",
    "\n",
    "theta = 3\n",
    "lambda_bar = 0.1206\n",
    "vartheta_bar = 0.0453\n",
    "\n",
    "γ_1 = 1.7675/10000\n",
    "γ_2 = .0022*2\n",
    "\n",
    "γ_3_lower = 0.\n",
    "γ_3_upper = 1./3\n",
    "\n",
    "# Compute γ_3 for the n models\n",
    "def Γ(y, y_bar, γ_1, γ_2, γ_3):\n",
    "    return γ_1 * y + γ_2 / 2 * y ** 2 + γ_3 / 2 * (y > y_bar) * (y - y_bar) ** 2\n",
    "\n",
    "prop_damage_lower = np.exp(-Γ(2.5, 2., γ_1, γ_2, γ_3_upper))\n",
    "prop_damage_upper = np.exp(-Γ(2.5, 2., γ_1, γ_2, γ_3_lower))\n",
    "γ_3 = (-np.log(np.linspace(prop_damage_lower, prop_damage_upper, n_model)) - γ_1 * 2.5 - γ_2 / 2 * 2.5**2) / .5**2 * 2\n",
    "γ_3.sort()\n",
    "γ_3[0] = 0\n",
    "πd_o = np.ones(n_model)/n_model\n",
    "\n",
    "θ = pd.read_csv('data/model144.csv', header=None).to_numpy()[:, 0]/1000.\n",
    "πc_o = np.ones_like(θ)/len(θ)\n",
    "σ_y = 1.2*np.mean(θ)\n",
    "\n",
    "# Grid setting\n",
    "k_step = .1\n",
    "k_grid = np.arange(0, 10+k_step, k_step)\n",
    "\n",
    "y_step = .1\n",
    "y_grid_long = np.arange(0., 5.+y_step, y_step)\n",
    "y_grid_short = np.arange(0., 2.5+y_step, y_step)\n",
    "n_bar = find_nearest_value(y_grid_long, τ) + 1\n",
    "\n",
    "# Tech jump\n",
    "lambda_bar_first = lambda_bar / 2\n",
    "vartheta_bar_first = vartheta_bar / 2\n",
    "lambda_bar_second = 1e-9\n",
    "vartheta_bar_second = 0."
   ]
  },
  {
   "cell_type": "code",
   "execution_count": 3,
   "metadata": {
    "scrolled": true
   },
   "outputs": [
    {
     "name": "stdout",
     "output_type": "stream",
     "text": [
      "Converged. Total iteration 1636: LHS Error: 9.93537241811282e-07; RHS Error 9.61302791147034e-07\n",
      "Converged. Total iteration 5: LHS Error: 9.93164348983555e-07; RHS Error 9.632327593322998e-07\n",
      "Converged. Total iteration 3: LHS Error: 9.85425117505656e-07; RHS Error 9.564560432551161e-07\n",
      "Converged. Total iteration 2: LHS Error: 9.790725243874476e-07; RHS Error 9.513476655342856e-07\n",
      "Converged. Total iteration 1: LHS Error: 9.866284926829394e-07; RHS Error 9.592987728623825e-07\n",
      "Converged. Total iteration 1: LHS Error: 9.768783684194204e-07; RHS Error 9.48565491043496e-07\n",
      "Converged. Total iteration 1: LHS Error: 9.669053042671294e-07; RHS Error 9.388116204434027e-07\n",
      "Converged. Total iteration 1: LHS Error: 9.567093002260663e-07; RHS Error 9.290674958251088e-07\n",
      "Converged. Total iteration 1: LHS Error: 9.462909247304196e-07; RHS Error 9.19122395970362e-07\n",
      "Converged. Total iteration 1: LHS Error: 9.368314977109549e-07; RHS Error 9.089777028847834e-07\n",
      "Converged. Total iteration 1: LHS Error: 9.27371274883626e-07; RHS Error 8.991199154095852e-07\n",
      "Converged. Total iteration 1: LHS Error: 9.176962976198411e-07; RHS Error 8.899146592966645e-07\n",
      "Converged. Total iteration 1: LHS Error: 9.078067932932754e-07; RHS Error 8.805185593985243e-07\n",
      "Converged. Total iteration 1: LHS Error: 8.981802466223598e-07; RHS Error 8.709332748324528e-07\n",
      "Converged. Total iteration 1: LHS Error: 8.891926199794398e-07; RHS Error 8.611608866004872e-07\n",
      "Converged. Total iteration 1: LHS Error: 8.799961506156251e-07; RHS Error 8.523147876360326e-07\n",
      "Converged. Total iteration 1: LHS Error: 8.70591975399293e-07; RHS Error 8.434404126234085e-07\n",
      "Converged. Total iteration 1: LHS Error: 8.60981117511983e-07; RHS Error 8.343869914995139e-07\n",
      "Converged. Total iteration 1: LHS Error: 8.522595180693315e-07; RHS Error 8.251566523398424e-07\n",
      "Converged. Total iteration 1: LHS Error: 8.434977871729643e-07; RHS Error 8.16221230159897e-07\n"
     ]
    }
   ],
   "source": [
    "# Solve post damage, post second tech jump models\n",
    "model_post_damage_post_second_tech = []\n",
    "for i, γ_3_i in enumerate(γ_3):\n",
    "    model_args = (δ, α, κ, μ_k, σ_k, θ, πc_o, σ_y, ξ_a, ξ_b, γ_1, γ_2, γ_3_i, τ, theta, lambda_bar_second, vartheta_bar_second)\n",
    "    if i == 0:\n",
    "        v_guess = None\n",
    "    else:\n",
    "        v_guess = model_res['v']\n",
    "    model_res = hjb_post_damage_post_tech(k_grid, y_grid_long, model_args, v0=v_guess, ϵ=1., fraction=.05,\n",
    "                                          tol=1e-6, max_iter=2000, print_iteration=False)\n",
    "    model_post_damage_post_second_tech.append(model_res)"
   ]
  },
  {
   "cell_type": "code",
   "execution_count": 4,
   "metadata": {},
   "outputs": [
    {
     "name": "stdout",
     "output_type": "stream",
     "text": [
      "Converged. Total iteration 428: LHS Error: 9.913700296237948e-07; RHS Error 0.0010481680422103068\n",
      "Converged. Total iteration 240: LHS Error: 9.804799674384412e-07; RHS Error 0.001636487949731702\n",
      "Converged. Total iteration 226: LHS Error: 9.602532600183622e-07; RHS Error 0.002229345181532949\n",
      "Converged. Total iteration 195: LHS Error: 9.974848147464854e-07; RHS Error 0.0026726994207066923\n",
      "Converged. Total iteration 196: LHS Error: 9.617398788464016e-07; RHS Error 0.0030186137450058936\n",
      "Converged. Total iteration 196: LHS Error: 9.779326717307413e-07; RHS Error 0.0033028126985463757\n",
      "Converged. Total iteration 196: LHS Error: 9.901810642531927e-07; RHS Error 0.003543166736896808\n",
      "Converged. Total iteration 196: LHS Error: 9.996378906862446e-07; RHS Error 0.0037504339432921086\n",
      "Converged. Total iteration 197: LHS Error: 9.500512589966092e-07; RHS Error 0.003928430582661235\n",
      "Converged. Total iteration 197: LHS Error: 9.572099486376828e-07; RHS Error 0.0040784019315047715\n",
      "Converged. Total iteration 197: LHS Error: 9.640053235671076e-07; RHS Error 0.004213327108764986\n",
      "Converged. Total iteration 197: LHS Error: 9.690851925370225e-07; RHS Error 0.004336907500952947\n",
      "Converged. Total iteration 197: LHS Error: 9.734063155519834e-07; RHS Error 0.004483554839804782\n",
      "Converged. Total iteration 197: LHS Error: 9.789744126464939e-07; RHS Error 0.004645037941578778\n",
      "Converged. Total iteration 197: LHS Error: 9.81638606845081e-07; RHS Error 0.004795977029591114\n",
      "Converged. Total iteration 197: LHS Error: 9.839445738180075e-07; RHS Error 0.004941733437711093\n",
      "Converged. Total iteration 197: LHS Error: 9.85937276709592e-07; RHS Error 0.005080912295397866\n",
      "Converged. Total iteration 197: LHS Error: 9.876809485831473e-07; RHS Error 0.005212094109978693\n",
      "Converged. Total iteration 197: LHS Error: 9.89233882364715e-07; RHS Error 0.005336485686274983\n",
      "Converged. Total iteration 197: LHS Error: 9.906354137001472e-07; RHS Error 0.005454061373363572\n"
     ]
    }
   ],
   "source": [
    "# Solve post damage, post first tech jump models\n",
    "model_post_damage_post_first_tech = []\n",
    "for i, γ_3_i in enumerate(γ_3):\n",
    "    model_args = (δ, α, κ, μ_k, σ_k, θ, πc_o, σ_y, ξ_a, ξ_b, ξ_g_second, I_g_second,\n",
    "                  model_post_damage_post_second_tech[i]['v'], γ_1, γ_2,\n",
    "                  γ_3_i, τ, theta, lambda_bar_first, vartheta_bar_first)\n",
    "    if i == 0:\n",
    "        v_guess = model_res['v']\n",
    "    else:\n",
    "        v_guess = model_res['v']\n",
    "    model_res = hjb_post_damage_pre_tech(k_grid, y_grid_long, model_args, v0=v_guess, ϵ=1., fraction=.05,\n",
    "                                         tol=1e-6, max_iter=2000, print_iteration=False)\n",
    "    model_post_damage_post_first_tech.append(model_res)"
   ]
  },
  {
   "cell_type": "code",
   "execution_count": 5,
   "metadata": {},
   "outputs": [
    {
     "name": "stdout",
     "output_type": "stream",
     "text": [
      "Converged. Total iteration 668: LHS Error: 9.760090051713632e-07; RHS Error 0.00221280271869162\n",
      "Converged. Total iteration 301: LHS Error: 9.897211157294805e-07; RHS Error 0.003416536634929912\n",
      "Converged. Total iteration 333: LHS Error: 9.871638440017705e-07; RHS Error 0.004381205852627801\n",
      "Converged. Total iteration 240: LHS Error: 9.86811642178509e-07; RHS Error 0.005123053290660096\n",
      "Converged. Total iteration 240: LHS Error: 9.865384527074639e-07; RHS Error 0.005720087022233145\n",
      "Converged. Total iteration 240: LHS Error: 9.84198777587153e-07; RHS Error 0.006223921674475719\n",
      "Converged. Total iteration 240: LHS Error: 9.916727776726475e-07; RHS Error 0.00666061722818867\n",
      "Converged. Total iteration 240: LHS Error: 9.922656545313657e-07; RHS Error 0.007044124600277257\n",
      "Converged. Total iteration 240: LHS Error: 9.952112804967328e-07; RHS Error 0.0073804857084844855\n",
      "Converged. Total iteration 240: LHS Error: 9.925604445015779e-07; RHS Error 0.007692004233060601\n",
      "Converged. Total iteration 240: LHS Error: 9.977590025300742e-07; RHS Error 0.00797547937667531\n",
      "Converged. Total iteration 240: LHS Error: 9.97784809442237e-07; RHS Error 0.008225944513448269\n",
      "Converged. Total iteration 240: LHS Error: 9.939224128174828e-07; RHS Error 0.008471263306550014\n",
      "Converged. Total iteration 240: LHS Error: 9.942945098373457e-07; RHS Error 0.008682700210254524\n",
      "Converged. Total iteration 241: LHS Error: 9.658349426899804e-07; RHS Error 0.008896584908121952\n",
      "Converged. Total iteration 241: LHS Error: 9.66205107033602e-07; RHS Error 0.009084362417951297\n",
      "Converged. Total iteration 241: LHS Error: 9.663650644142763e-07; RHS Error 0.00926395716397721\n",
      "Converged. Total iteration 241: LHS Error: 9.66486481956963e-07; RHS Error 0.009438218137390209\n",
      "Converged. Total iteration 241: LHS Error: 9.767959454620723e-07; RHS Error 0.009586882484754256\n",
      "Converged. Total iteration 241: LHS Error: 9.709245887279394e-07; RHS Error 0.009746440247617727\n"
     ]
    }
   ],
   "source": [
    "# Solve post damage pre tech jump models\n",
    "model_post_damage_pre_tech = []\n",
    "for i, γ_3_i in enumerate(γ_3):\n",
    "    model_args = (δ, α, κ, μ_k, σ_k, θ, πc_o, σ_y, ξ_a, ξ_b, ξ_g_first, I_g_first,\n",
    "                  model_post_damage_post_first_tech[i]['v'], γ_1, γ_2,\n",
    "                  γ_3_i, τ, theta, lambda_bar, vartheta_bar)\n",
    "    if i == 0:\n",
    "        v_guess = model_res['v']\n",
    "    else:\n",
    "        v_guess = model_res['v']\n",
    "    model_res = hjb_post_damage_pre_tech(k_grid, y_grid_long, model_args, v0=v_guess, ϵ=1., fraction=.05,\n",
    "                                         tol=1e-6, max_iter=2000, print_iteration=False)\n",
    "    model_post_damage_pre_tech.append(model_res)"
   ]
  },
  {
   "cell_type": "code",
   "execution_count": 6,
   "metadata": {},
   "outputs": [
    {
     "name": "stdout",
     "output_type": "stream",
     "text": [
      "Iteration 1: LHS Error: 9.015535624712356e-07; RHS Error 8.740777035498581e-07\n",
      "Converged. Total iteration 1: LHS Error: 9.015535624712356e-07; RHS Error 8.740777035498581e-07\n"
     ]
    }
   ],
   "source": [
    "# Solve pre damage, post second tech models\n",
    "v_i_short = []\n",
    "for model in model_post_damage_post_second_tech:\n",
    "    temp = np.zeros((len(k_grid), len(y_grid_short)))\n",
    "    for i in range(temp.shape[1]):\n",
    "        temp[:, i] = model['v'][:, n_bar-1]\n",
    "    v_i_short.append(temp)\n",
    "v_i_short = np.array(v_i_short)\n",
    "\n",
    "model_args = (δ, α, κ, μ_k, σ_k, θ, πc_o, σ_y, ξ_a, ξ_b, ξ_p, πd_o, v_i_short, γ_1, γ_2, theta, lambda_bar_second, vartheta_bar_second, y_bar_lower)\n",
    "model_pre_damage_post_second_tech = hjb_pre_damage_post_tech(k_grid, y_grid_short, model_args=model_args, v0=np.mean(v_i_short, axis=0),\n",
    "                                                             ϵ=1., fraction=.05, tol=1e-6, max_iter=2_000, print_iteration=True)"
   ]
  },
  {
   "cell_type": "code",
   "execution_count": 7,
   "metadata": {},
   "outputs": [
    {
     "name": "stdout",
     "output_type": "stream",
     "text": [
      "Converged. Total iteration 1667: LHS Error: 0.0; RHS Error 0.003279944132593471\n"
     ]
    }
   ],
   "source": [
    "# Solve pre damage, post first tech models\n",
    "v_i_short = []\n",
    "for model in model_post_damage_post_first_tech:\n",
    "    temp = np.zeros((len(k_grid), len(y_grid_short)))\n",
    "    for i in range(temp.shape[1]):\n",
    "        temp[:, i] = model['v'][:, n_bar-1]\n",
    "    v_i_short.append(temp)\n",
    "v_i_short = np.array(v_i_short)\n",
    "\n",
    "model_args = (δ, α, κ, μ_k, σ_k, θ, πc_o, σ_y, ξ_a, ξ_b, ξ_g_second, ξ_p,\n",
    "              πd_o, v_i_short, I_g_second, model_pre_damage_post_second_tech['v'], γ_1, γ_2,\n",
    "              theta, lambda_bar_first, vartheta_bar_first, y_bar_lower)\n",
    "\n",
    "model_pre_damage_post_first_tech = hjb_pre_damage_pre_tech(k_grid, y_grid_short, model_args=model_args, v0=np.mean(v_i_short, axis=0),\n",
    "                                                           ϵ=.1, fraction=.05, tol=1e-6, max_iter=2_000, print_iteration=False)"
   ]
  },
  {
   "cell_type": "code",
   "execution_count": 8,
   "metadata": {},
   "outputs": [
    {
     "name": "stdout",
     "output_type": "stream",
     "text": [
      "Converged. Total iteration 1823: LHS Error: 0.0; RHS Error 0.010207346131995365\n"
     ]
    }
   ],
   "source": [
    "# Solve pre damage, pre tech models\n",
    "v_i_short = []\n",
    "for model in model_post_damage_pre_tech:\n",
    "    temp = np.zeros((len(k_grid), len(y_grid_short)))\n",
    "    for i in range(temp.shape[1]):\n",
    "        temp[:, i] = model['v'][:, n_bar-1]\n",
    "    v_i_short.append(temp)\n",
    "v_i_short = np.array(v_i_short)\n",
    "\n",
    "model_args = (δ, α, κ, μ_k, σ_k, θ, πc_o, σ_y, ξ_a, ξ_b, ξ_g_first, ξ_p,\n",
    "              πd_o, v_i_short, I_g_first, model_pre_damage_post_first_tech['v'], γ_1, γ_2,\n",
    "              theta, lambda_bar, vartheta_bar, y_bar_lower)\n",
    "\n",
    "model_pre_damage_pre_tech = hjb_pre_damage_pre_tech(k_grid, y_grid_short, model_args=model_args, v0=np.mean(v_i_short, axis=0),\n",
    "                                                    ϵ=.1, fraction=.05, tol=1e-6, max_iter=2_000, print_iteration=False)"
   ]
  },
  {
   "cell_type": "markdown",
   "metadata": {},
   "source": [
    "## Simulation\n"
   ]
  },
  {
   "cell_type": "code",
   "execution_count": 9,
   "metadata": {},
   "outputs": [],
   "source": [
    "# Case 1) : damage jump intensity & probability (no tech jump, no damage jump)\n",
    "T_plots = 50\n",
    "sim_args = (κ, μ_k, σ_k, np.mean(θ))\n",
    "et, kt, yt, _, gt, πct, ht = simulation_dice_prob(sim_args, k_grid, y_grid_short,\n",
    "                                      model_pre_damage_pre_tech['e'],\n",
    "                                      model_pre_damage_pre_tech['i'],\n",
    "                                      model_pre_damage_pre_tech['g'],\n",
    "                                      model_pre_damage_pre_tech['h'],\n",
    "                                      model_pre_damage_pre_tech['πc'],\n",
    "                                      K0=85/0.115, y0=1.1, T=T_plots)\n",
    "\n",
    "def damage_intensity(y, y_bar_lower):\n",
    "    r1 = 1.5\n",
    "    r2 = 2.5\n",
    "    return r1 * (np.exp(r2/2 * (y - y_bar_lower)**2) - 1) * (y >= y_bar_lower)\n",
    "\n",
    "intensity_dmg = damage_intensity(yt, y_bar_lower)\n",
    "intensity_distortion = np.mean(gt, axis=0)\n",
    "distorted_damage_probs = gt / np.mean(gt, axis=0) / n_model"
   ]
  },
  {
   "cell_type": "code",
   "execution_count": 10,
   "metadata": {},
   "outputs": [],
   "source": [
    "np.save('new_intensity_dmg_7p5.npy', intensity_dmg)\n",
    "np.save(f'new_dmg_intensity_distort_{ξ_p}.npy', intensity_distortion)"
   ]
  },
  {
   "cell_type": "code",
   "execution_count": 11,
   "metadata": {},
   "outputs": [],
   "source": [
    "# Case 2) : tech jump intensity & probability (no tech jump, no damage jump)\n",
    "T_plots = 50\n",
    "sim_args = (κ, μ_k, σ_k, np.mean(θ))\n",
    "_, kt, yt, _, gt_tech, _, _ = simulation_dice_prob(sim_args, k_grid, y_grid_short,\n",
    "                                      model_pre_damage_pre_tech['e'],\n",
    "                                      model_pre_damage_pre_tech['i'],\n",
    "                                      [model_pre_damage_pre_tech['g_tech']],\n",
    "                                      model_pre_damage_pre_tech['h'],\n",
    "                                      model_pre_damage_pre_tech['πc'],\n",
    "                                      K0=85/0.115, y0=1.1, T=T_plots)\n",
    "\n",
    "# Case 3) : tech jump intensity (tech jumped once, no damage jump)\n",
    "sim_args = (κ, μ_k, σ_k, np.mean(θ))\n",
    "_, kt_new, yt_new, _, gt_tech_new, _, _ = simulation_dice_prob(sim_args, k_grid, y_grid_short,\n",
    "                                      model_pre_damage_post_first_tech['e'],\n",
    "                                      model_pre_damage_post_first_tech['i'],\n",
    "                                      [model_pre_damage_post_first_tech['g_tech']],\n",
    "                                      model_pre_damage_post_first_tech['h'],\n",
    "                                      model_pre_damage_post_first_tech['πc'],\n",
    "                                      K0=np.exp(kt[arrival]), y0=yt[arrival], T=T_plots)"
   ]
  },
  {
   "cell_type": "code",
   "execution_count": 12,
   "metadata": {},
   "outputs": [],
   "source": [
    "np.save('new_gt_tech_7p5.npy', gt_tech[0])\n",
    "np.save('new_gt_tech_new_7p5.npy', gt_tech_new[0])"
   ]
  }
 ],
 "metadata": {
  "interpreter": {
   "hash": "d0d76abfdbb0076f7950f4feef2921e737fada20a629e84883a54ca9388c8f4e"
  },
  "kernelspec": {
   "display_name": "Python 3",
   "language": "python",
   "name": "python3"
  },
  "language_info": {
   "codemirror_mode": {
    "name": "ipython",
    "version": 3
   },
   "file_extension": ".py",
   "mimetype": "text/x-python",
   "name": "python",
   "nbconvert_exporter": "python",
   "pygments_lexer": "ipython3",
   "version": "3.8.6"
  }
 },
 "nbformat": 4,
 "nbformat_minor": 4
}
