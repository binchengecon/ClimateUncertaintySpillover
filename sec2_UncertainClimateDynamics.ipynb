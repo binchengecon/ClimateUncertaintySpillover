{
 "cells": [
  {
   "cell_type": "markdown",
   "id": "available-spread",
   "metadata": {},
   "source": [
    "# 2 Uncertain climate dynamics\n",
    "\n",
    "## 2.1 Simple approximation to climate dynamics\n",
    "\n",
    "We use exponentially weighted average of each of response functions as coefficients $\\{\\theta_\\ell\\}_{\\ell=1}^L$ in our computations. \n",
    "The discount rate $\\delta=0.01$.\n",
    "\n",
    "The histogram of those coefficients are represented below:"
   ]
  },
  {
   "cell_type": "code",
   "execution_count": 31,
   "id": "alive-parameter",
   "metadata": {},
   "outputs": [
    {
     "data": {
      "image/png": "[encoded data removed]",
      "text/plain": [
       "<Figure size 600x500 with 1 Axes>"
      ]
     },
     "metadata": {
      "needs_background": "light"
     },
     "output_type": "display_data"
    }
   ],
   "source": [
    "# packages\n",
    "import numpy as np\n",
    "import pandas as pd\n",
    "import matplotlib.pyplot as plt\n",
    "import matplotlib as mpl\n",
    "mpl.rcParams['axes.spines.right'] = False\n",
    "mpl.rcParams['axes.spines.top'] = False\n",
    "mpl.rcParams['legend.frameon'] = False\n",
    "# climate sensitivity histogram\n",
    "θ_list = pd.read_csv('data/model144.csv', header=None).to_numpy()[:, 0]/1000. \n",
    "plt.figure(figsize=(6,5), dpi=100)\n",
    "plt.hist(θ_list*1000, bins=np.arange(0.9,3,0.15), density=True, color=\"tab:red\", ec=\"gray\", alpha=0.6)\n",
    "plt.ylim(0,1.5)\n",
    "plt.xlabel(\"Climate sensitivity\")\n",
    "plt.ylabel(\"Density\")\n",
    "plt.show()"
   ]
  },
  {
   "cell_type": "markdown",
   "id": "exterior-porcelain",
   "metadata": {},
   "source": [
    "## 2.2 Stochastic climate pulses\n",
    "\n",
    "To explore uncertainty, we introduce explicit stochasticity as a precursor to the study of uncertainty.  We capture this randomness in part by an exogenous forcing processes that evolves as:\n",
    "\n",
    "$$\n",
    "dZ_t = \\mu_z(Z_t) dt + \\sigma_z(Z_t) dW_t\n",
    "$$\n",
    "\n",
    "where\n",
    "$\\{ W_t : t \\ge 0\\}$  a multivariate standard Brownian motion.  We partition the vector Brownian motion into two subvectors as follows:\n",
    "\n",
    "$$\n",
    "dW_t = \\begin{bmatrix} dW_t^y \\cr dW_t^k \\end{bmatrix}\n",
    "$$\n",
    "\n",
    "where the first component consists of the climate change shocks and the second component contains the technology shocks. \n",
    "Consider an emissions \"pulse\" of the form\n",
    "\n",
    "$$\n",
    "\\left(\\iota_y \\cdot Z_t \\right) {\\mathcal E}_t  \\left( \\theta dt + \\varsigma \\cdot dW_t^y\\right)\n",
    "$$\n",
    "\n",
    "where ${\\mathcal E}_t$ is fossil fuel emissions and $\\iota_y \\cdot Z = \\{ \\iota_y \\cdot Z_t : t\\ge 0\\}$ is a positive process which we normalize to have mean one.\n",
    "The $\\iota_y\\cdot Z$-process captures \"left out\" components of the climate system’s reaction to an emission of ${\\mathcal E}_t$ gigatons into the atmosphere while the $\\varsigma \\cdot dW$ process captures short time scale fluctuations.   \n",
    "We will use a positive Feller square root process for the $\\iota_y\\cdot Z$ process in our analysis.\n",
    "\n",
    "\n",
    "\n",
    "\n",
    "Within this framework, we impose the \"Matthews' approximation\" by making the consequence of the pulse permanent:\n",
    "\n",
    "$$\n",
    " dY_t = \\mu_y(Z_t, {\\mathcal E}_t) dt + \\sigma_y(Z_t, {\\mathcal E}_t) dW_t^y\n",
    "$$\n",
    "\n",
    "where\n",
    "\n",
    "$$\n",
    "\\begin{align*}\n",
    "\\mu_y(z, e) & =  e \\left(\\iota_y \\cdot z \\right) \\theta   \\cr\n",
    "\\sigma_y(z, e) & = e \\left(\\iota_y \\cdot z \\right) \\varsigma'\n",
    "\\end{align*}\n",
    "$$\n",
    "\n",
    "Throughout, we will use uppercase letters to denote random vector or stochastic processes and lower case letters to denote possible realizations.\n",
    "Armed with this \"Matthews' approximation\", we collapse the climate change uncertainty into the cross-model empirical distribution reported in the figure above. We will eventually introduce uncertainty about $\\theta$.\n",
    "\n",
    "\n",
    "\n",
    "\n",
    "> **Remark 1**\n",
    ">\n",
    ">For a more general starting point, let $Y_t$ be a vector used to represent temperature dynamics where the temperature\n",
    "impact on damages is the first component of  $Y_t$.\n",
    "This state vector evolves according to:\n",
    ">$$\n",
    "dY_t = \\Lambda Y_t dt +   {\\mathcal E}_t  \\left(\\iota_y \\cdot Z_t \\right)  \\left(\\Theta dt + \\Sigma dW_t^y \\right)\n",
    "$$\n",
    ">where $\\Lambda$ is a square matrix and $\\Theta$ is a column vector.\n",
    ">Given an initial condition $Y_0$, the solution for $Y_t$ satisfies:\n",
    ">$$\n",
    "Y_t = \\exp \\left( t \\Lambda \\right) Y_0 + \\int_0^t  \\exp\\left[ (t-u) \\Lambda \\right] \\left(\\iota_y \\cdot Z_t \\right) {\\mathcal E}_t \\left(\\Theta dt + \\Sigma dW_t^y \\right)\n",
    "$$\n",
    ">\n",
    ">Thus under this specification, the expected future response of $Y$  to a pulse at date zero is:\n",
    ">$$\n",
    " \\exp \\left( u \\Lambda \\right) \\Theta.\n",
    "$$\n",
    ">\n",
    "> It is the first component of this function that determines the response dynamics.  This generalization allows for multiple exponentials to approximate the pulse responses.  Our introduction of a multiple exponential approximation adapts for example, \\cite{Joosetal:2013} and \\cite{Pierrehumbert:2014}.\\footnote{See equation (5) of \\cite{Joosetal:2013} and  equations (1)-(3) of \\cite{Pierrehumbert:2014}.   \\citeauthor{Pierrehumbert:2014} puts the change in radiative forcing equal to a constant times the logarithm of the ratio of atmospheric $CO_2$ at date $t$ to atmospheric $CO_2$ at baseline date zero. His  Figures 1 and 2 illustrate how an approximation of the Earth System dynamics by three exponentials plus a constant tracks a radiative forcing induced by a pulse into the atmosphere at a baseline date from the atmosphere works quite well with half lives of approximately six, sixty five, and four hundred and fifty years.}\n",
    ">\n",
    ">As an example, we capture the initial rise in the emission responses by the following two-dimensional specification\n",
    ">$$\n",
    "\\begin{align*}\n",
    "dY_t^1& =  Y_t^2 dt \\cr\n",
    "dY_t^2 & = - \\lambda Y_t^2 dt + \\lambda  \\theta {\\mathcal E}_t dt\n",
    "\\end{align*}\n",
    "$$\n",
    ">\n",
    ">which implies the response to a pulse is:\n",
    ">$$\n",
    "\\theta \\left[ 1 - \\exp( - \\lambda t) \\right] {\\mathcal E}_0\n",
    "$$\n",
    "> A high value of $\\lambda$ implies more rapid convergence to the limiting response $\\theta  {\\mathcal E}_0$.  This  approximation is intended as a simple representation of the dynamics where the second state variable can be thought of as an exponentially weighted average of current and past emissions.\\footnote{In independent work, \\cite{DietzVenmans:2019} and \\cite{BarnettBrockHansen:2020} have used such simplified approximations within an explicit economic optimization framework.  The former contribution includes the initial rapid upswing in the impulse response functions.  The latter contribution  abstracts from this.   \\citeauthor{BarnettBrockHansen:2020} instead explore ways to confront uncertainty, broadly-conceived, while using the Matthews approximation.}\n",
    "\n",
    "\n",
    "> **Remark 2**\n",
    ">\n",
    "> The  approximation in \\cite{Geoffroy:2013} includes the logarithm of carbon in the atmosphere as argued for by \\cite{Arrhenius:1896} which is not directly reflected in the linear approximation to the temperature dynamics that we use.  The pulse experiments from \\cite{Joosetal:2013} show a more than proportional change in atmospheric carbon when the pulse size is changed.  It turns out that this is enough to approximately offset the logarithmic \\citeauthor{Arrhenius:1896} adjustment so that the long-term temperature response remains approximately proportional for small pulse sizes.  See also \\cite{Pierrehumbert:2014} who discusses the approximate offsetting impacts of nonlinearity in temperature and climate dynamics."
   ]
  },
  {
   "cell_type": "markdown",
   "id": "collective-single",
   "metadata": {},
   "source": [
    "Next section:\n",
    "\n",
    "[Section 3: Stochastic damage](sec3_StochasticDamage.ipynb)"
   ]
  }
 ],
 "metadata": {
  "kernelspec": {
   "display_name": "ry38",
   "language": "python",
   "name": "ry38"
  },
  "language_info": {
   "codemirror_mode": {
    "name": "ipython",
    "version": 3
   },
   "file_extension": ".py",
   "mimetype": "text/x-python",
   "name": "python",
   "nbconvert_exporter": "python",
   "pygments_lexer": "ipython3",
   "version": "3.8.7"
  }
 },
 "nbformat": 4,
 "nbformat_minor": 5
}
