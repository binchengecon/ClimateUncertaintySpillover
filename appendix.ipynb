{
 "cells": [
  {
   "cell_type": "markdown",
   "id": "solid-pulse",
   "metadata": {},
   "source": [
    "# A.  Complete model\n",
    "\n",
    "\n",
    "\n",
    "\n",
    "\n",
    "#  B. Computation methods\n",
    "\n",
    "We use false transient method to solve the ODEs in this paper.\n",
    "\n",
    "Take a general HJB that takes ambiguity and brownian misspecification\n",
    "\n",
    "Recall that one HJB of interest is:\n",
    "\n",
    "$$\n",
    "\\begin{aligned}\n",
    "0 = \\max_{\\tilde e} \\min_{\\omega^a_\\ell : \\sum_{\\ell=1}^L \\omega^a_\\ell = 1}  &- \\delta \\phi_m(y) +  \\eta \\log\\tilde e \\\\\n",
    "& + \\frac{1}{2} \\left(\\frac{d^2 \\phi_m}{dy^2} + \\frac{ (\\eta - 1)}{\\delta} \\left(\\gamma_2 + \\gamma_3\\mathbb{I}\\{y>\\bar y\\} \\right) \\right)(\\tilde e)^2 |\\varsigma|^2  \\\\\n",
    "& - \\frac{1}{2\\xi_b} \\left[ \\frac{d\\phi_m}{dy}    + \\frac{(\\eta -1)}{\\delta}(\\gamma_1 + \\gamma_2 y + \\gamma_3 (y-\\bar y)\\mathbb{I}\\{y > \\bar y\\})\\right]^2 \\cdot |\\varsigma|^2 (\\tilde e)^2 \\\\\n",
    "\\\\\n",
    "& + \\sum_{\\ell=1}^{L} \\omega_\\ell^a \\left(\\frac{d\\phi_m}{dy}+ \\frac{(\\eta -1)}{\\delta}(\\gamma_1 + \\gamma_2 y + \\gamma_3^m (y - \\bar y)\\mathbb{I}\\{y > \\bar y\\} ) \\right)\\theta_\\ell \\tilde e   \\\\\n",
    "\\\\\n",
    "& + \\xi_a \\sum_i \\omega^a_\\ell(\\log \\omega^a_\\ell - \\log \\pi^a_\\ell)\n",
    "\\end{aligned}\n",
    "$$"
   ]
  }
 ],
 "metadata": {
  "kernelspec": {
   "display_name": "ry38",
   "language": "python",
   "name": "ry38"
  },
  "language_info": {
   "codemirror_mode": {
    "name": "ipython",
    "version": 3
   },
   "file_extension": ".py",
   "mimetype": "text/x-python",
   "name": "python",
   "nbconvert_exporter": "python",
   "pygments_lexer": "ipython3",
   "version": "3.8.7"
  }
 },
 "nbformat": 4,
 "nbformat_minor": 5
}
