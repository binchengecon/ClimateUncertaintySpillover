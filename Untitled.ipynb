{
 "cells": [
  {
   "cell_type": "markdown",
   "metadata": {},
   "source": [
    "$$\n",
    "\\rho V(h,q) = \\max \\frac{(wh(1-s))^{1-\\sigma}}{1-\\sigma} + p(V(h,\\lambda q) - V(h, \\lambda q) ) + \n",
    "$$\n"
   ]
  },
  {
   "cell_type": "code",
   "execution_count": null,
   "metadata": {},
   "outputs": [],
   "source": [
    "# packages\n",
    "import numpy as np\n",
    "import pandas as pd\n",
    "import os\n",
    "import sys\n",
    "sys.path.append(os.path.dirname(os.getcwd()) + '/source')\n",
    "import pickle\n",
    "from src.PDE_Solver import PDESolver_nd\n",
    "from src.solver_2d import false_transient_one_iteration_python\n",
    "from src.derivative import derivatives_2d, derivative_1d\n",
    "\n",
    "from src.supportfunctions import finiteDiff, PDESolver_2d\n",
    "import matplotlib.pyplot as plt\n",
    "import matplotlib as mpl\n",
    "from multiprocessing import Pool\n",
    "mpl.rcParams['axes.spines.right'] = False\n",
    "mpl.rcParams['axes.spines.top'] = False\n",
    "mpl.rcParams[\"figure.edgecolor\"] = \"w\"\n",
    "mpl.rcParams['figure.facecolor'] = \"w\"\n",
    "mpl.rcParams[\"savefig.dpi\"] = 300"
   ]
  }
 ],
 "metadata": {
  "kernelspec": {
   "display_name": "Python 3",
   "language": "python",
   "name": "python3"
  },
  "language_info": {
   "codemirror_mode": {
    "name": "ipython",
    "version": 3
   },
   "file_extension": ".py",
   "mimetype": "text/x-python",
   "name": "python",
   "nbconvert_exporter": "python",
   "pygments_lexer": "ipython3",
   "version": "3.8.5"
  }
 },
 "nbformat": 4,
 "nbformat_minor": 4
}
