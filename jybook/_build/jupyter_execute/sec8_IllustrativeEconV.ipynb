version https://git-lfs.github.com/spec/v1
oid sha256:f24ec9488970e5eef40f249bc0afe44295c52a0d2c96bbeeea24919f12d98089
size 21677
