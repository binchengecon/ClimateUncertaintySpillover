{
 "cells": [
  {
   "cell_type": "markdown",
   "metadata": {},
   "source": [
    "# Wrestling with Uncertainty in Climate Economic Models\n",
    "This repository contains codes and a jupyter notebook which computes and demonstrates results of the example economy section in \"Wrestling with Uncertainty in Climate Economic Models\" by [William Brock][id1] and [Lars Peter Hansen][id2]. Latest version could be found [here][id4].\n",
    "\n",
    "[id1]: https://economics.missouri.edu/people/brock\n",
    "[id2]: https://larspeterhansen.org/\n",
    "[id4]: https://larspeterhansen.org/research/papers/\n",
    "\n",
    "## Acessing our jupyter notebook\n",
    "There are two options to access our jupyter notebook. The easiest way is to open a copy in Google Colab by clicking the button below: \n",
    "[![Open In Colab](https://colab.research.google.com/assets/colab-badge.svg)](https://colab.research.google.com/github/lphansen/Beliefs/blob/master/Belief_Notebook.ipynb)\n",
    "\n",
    "Then click \"Run all\" from \"runtime\" to see our results. If you are running the notebook the first time, you will need to click the authorization link under the first code cell and copy paste a pop-up string to the input box under the link.\n",
    "\n",
    "An alternative way is to store the notebook as well as codes in your local machine. You can do this by following steps below:\n",
    "1.\tOpen a Windows command prompt, Mac terminal or Linux terminal and change into the folder you would like to store the files.\n",
    "    - You can do this using the command ``cd`` in the command prompt (on Windows) or terminal (on Mac and Linux).\n",
    "    - For example, running ```cd 'C:\\Users\\username\\python'``` (don’t forget '' around the path name to use an absolute path) would lead me to my designated folder.\n",
    "```\n",
    "    cd [folder path name]\n",
    "```\n",
    "2.\tClone the github repository for the paper\n",
    "    - If you don’t have github installed, try installing it from this page: https://git-scm.com/download.\n",
    "    - You can do this by running below in the command prompt:\n",
    "```\n",
    "git clone https://github.com/lphansen/Wrestling\n",
    "```\n",
    "3.\tChange directories into the ‘Wrestling’ folder and install the required packages:\n",
    "```\n",
    "cd Wrestling\n",
    "pip install -r requirements.txt\n",
    "```\n",
    "4.  Open jupyter notebook by running below in command prompt:\n",
    "    - If you don’t have anaconda3 and jupyter notebook installed, try installing from this page: https://jupyter.org/install.html\n",
    "    ```\n",
    "    jupyter notebook\n",
    "    ```\n",
    "5.  Open ```Wrestling_with_Uncertainty_in_Climate_Economic_Models.ipynb```\n",
    "6.  Run notebook cell by cell or click <button type = \"button\" name = \"buttton\" class=\"btn\">cell $\\to$ Run All</button>\n"
   ]
  }
 ],
 "metadata": {
  "kernelspec": {
   "display_name": "ry38",
   "language": "python",
   "name": "ry38"
  },
  "language_info": {
   "codemirror_mode": {
    "name": "ipython",
    "version": 3
   },
   "file_extension": ".py",
   "mimetype": "text/x-python",
   "name": "python",
   "nbconvert_exporter": "python",
   "pygments_lexer": "ipython3",
   "version": "3.8.7"
  },
  "toc": {
   "base_numbering": 1,
   "nav_menu": {},
   "number_sections": true,
   "sideBar": true,
   "skip_h1_title": false,
   "title_cell": "Table of Contents",
   "title_sidebar": "Contents",
   "toc_cell": false,
   "toc_position": {},
   "toc_section_display": true,
   "toc_window_display": false
  }
 },
 "nbformat": 4,
 "nbformat_minor": 4
}
