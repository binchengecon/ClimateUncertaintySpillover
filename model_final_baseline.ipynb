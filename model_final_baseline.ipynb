{
 "cells": [
  {
   "cell_type": "code",
   "execution_count": 3,
   "metadata": {},
   "outputs": [],
   "source": [
    "import numpy as np\n",
    "import pandas as pd\n",
    "from scipy.interpolate import interp2d\n",
    "\n",
    "from numba import njit\n",
    "from src.model_tech_dice import hjb_post_damage_post_tech, hjb_post_damage_pre_tech\n",
    "from src.model_tech_dice import hjb_pre_damage_post_tech, hjb_pre_damage_pre_tech\n",
    "from src.utilities import find_nearest_value\n",
    "from src.simulation_2d import EvolutionState, simulation_dice_prob"
   ]
  },
  {
   "cell_type": "code",
   "execution_count": null,
   "metadata": {},
   "outputs": [],
   "source": [
    "##################\n",
    "ξ_a = 2./100\n",
    "ξ_p = 100000.\n",
    "arrival = 20\n",
    "τ = 2.\n",
    "y_bar_lower = 1.5\n",
    "n_model = 20\n",
    "##################\n",
    "\n",
    "I_g_first = 1./arrival\n",
    "I_g_second = 1./arrival\n",
    "ξ_g_first = ξ_p\n",
    "ξ_g_second = ξ_p\n",
    "ξ_b = ξ_p\n",
    "\n",
    "# Model parameters\n",
    "δ = 0.01\n",
    "α = 0.115\n",
    "κ = 6.667\n",
    "μ_k = -0.043\n",
    "σ_k = np.sqrt(0.0087**2 + 0.0038**2)\n",
    "\n",
    "theta = 3\n",
    "lambda_bar = 0.1206\n",
    "vartheta_bar = 0.0453\n",
    "\n",
    "γ_1 = 1.7675/10000\n",
    "γ_2 = .0022*2\n",
    "\n",
    "γ_3_lower = 0.\n",
    "γ_3_upper = 1./3\n",
    "\n",
    "# Compute γ_3 for the n models\n",
    "def Γ(y, y_bar, γ_1, γ_2, γ_3):\n",
    "    return γ_1 * y + γ_2 / 2 * y ** 2 + γ_3 / 2 * (y > y_bar) * (y - y_bar) ** 2\n",
    "\n",
    "prop_damage_lower = np.exp(-Γ(2.5, 2., γ_1, γ_2, γ_3_upper))\n",
    "prop_damage_upper = np.exp(-Γ(2.5, 2., γ_1, γ_2, γ_3_lower))\n",
    "γ_3 = (-np.log(np.linspace(prop_damage_lower, prop_damage_upper, n_model)) - γ_1 * 2.5 - γ_2 / 2 * 2.5**2) / .5**2 * 2\n",
    "γ_3.sort()\n",
    "γ_3[0] = 0\n",
    "πd_o = np.ones(n_model)/n_model\n",
    "\n",
    "θ = pd.read_csv('data/model144.csv', header=None).to_numpy()[:, 0]/1000.\n",
    "πc_o = np.ones_like(θ)/len(θ)\n",
    "σ_y = 1.2*np.mean(θ)\n",
    "\n",
    "# Grid setting\n",
    "k_step = .1\n",
    "k_grid = np.arange(0, 10+k_step, k_step)\n",
    "\n",
    "y_step = .1\n",
    "y_grid_long = np.arange(0., 5.+y_step, y_step)\n",
    "y_grid_short = np.arange(0., 2.5+y_step, y_step)\n",
    "n_bar = find_nearest_value(y_grid_long, τ) + 1\n",
    "\n",
    "# Tech jump\n",
    "lambda_bar_first = lambda_bar / 2\n",
    "vartheta_bar_first = vartheta_bar / 2\n",
    "lambda_bar_second = 1e-9\n",
    "vartheta_bar_second = 0."
   ]
  },
  {
   "cell_type": "code",
   "execution_count": null,
   "metadata": {
    "scrolled": true
   },
   "outputs": [],
   "source": [
    "# Solve post damage, post second tech jump models\n",
    "model_post_damage_post_second_tech = []\n",
    "for i, γ_3_i in enumerate(γ_3):\n",
    "    model_args = (δ, α, κ, μ_k, σ_k, θ, πc_o, σ_y, ξ_a, ξ_b, γ_1, γ_2, γ_3_i, τ, theta, lambda_bar_second, vartheta_bar_second)\n",
    "    if i == 0:\n",
    "        v_guess = None\n",
    "    else:\n",
    "        v_guess = model_res['v']\n",
    "    model_res = hjb_post_damage_post_tech(k_grid, y_grid_long, model_args, v0=v_guess, ϵ=1., fraction=.05,\n",
    "                                          tol=1e-6, max_iter=2000, print_iteration=False)\n",
    "    model_post_damage_post_second_tech.append(model_res)"
   ]
  },
  {
   "cell_type": "code",
   "execution_count": null,
   "metadata": {},
   "outputs": [],
   "source": [
    "# Solve post damage, post first tech jump models\n",
    "model_post_damage_post_first_tech = []\n",
    "for i, γ_3_i in enumerate(γ_3):\n",
    "    model_args = (δ, α, κ, μ_k, σ_k, θ, πc_o, σ_y, ξ_a, ξ_b, ξ_g_second, I_g_second,\n",
    "                  model_post_damage_post_second_tech[i]['v'], γ_1, γ_2,\n",
    "                  γ_3_i, τ, theta, lambda_bar_first, vartheta_bar_first)\n",
    "    if i == 0:\n",
    "        v_guess = model_res['v']\n",
    "    else:\n",
    "        v_guess = model_res['v']\n",
    "    model_res = hjb_post_damage_pre_tech(k_grid, y_grid_long, model_args, v0=v_guess, ϵ=1., fraction=.05,\n",
    "                                         tol=1e-6, max_iter=2000, print_iteration=False)\n",
    "    model_post_damage_post_first_tech.append(model_res)"
   ]
  },
  {
   "cell_type": "code",
   "execution_count": null,
   "metadata": {},
   "outputs": [],
   "source": [
    "# Solve post damage pre tech jump models\n",
    "model_post_damage_pre_tech = []\n",
    "for i, γ_3_i in enumerate(γ_3):\n",
    "    model_args = (δ, α, κ, μ_k, σ_k, θ, πc_o, σ_y, ξ_a, ξ_b, ξ_g_first, I_g_first,\n",
    "                  model_post_damage_post_first_tech[i]['v'], γ_1, γ_2,\n",
    "                  γ_3_i, τ, theta, lambda_bar, vartheta_bar)\n",
    "    if i == 0:\n",
    "        v_guess = model_res['v']\n",
    "    else:\n",
    "        v_guess = model_res['v']\n",
    "    model_res = hjb_post_damage_pre_tech(k_grid, y_grid_long, model_args, v0=v_guess, ϵ=1., fraction=.05,\n",
    "                                         tol=1e-6, max_iter=2000\n",
    "import matplotlib as mpl\n",
    "import matplotlib.pyplot as plt\n",
    "mpl.rcParams['axes.spines.right'] = False\n",
    "mpl.rcParams['axes.spines.top'] = False\n",
    "mpl.rcParams['legend.frameon'] = False\n",
    "mpl.rcParams['lines.linewidth'] = 2\n",
    "mpl.rcParams['figure.facecolor'] = 'w'\n",
    "mpl.rcParams['figure.edgecolor'] = 'w', print_iteration=False)\n",
    "    model_post_damage_pre_tech.append(model_res)"
   ]
  },
  {
   "cell_type": "code",
   "execution_count": null,
   "metadata": {},
   "outputs": [],
   "source": [
    "# Solve pre damage, post second tech models\n",
    "v_i_short = []\n",
    "for model in model_post_damage_post_second_tech:\n",
    "    temp = np.zeros((len(k_grid), len(y_grid_short)))\n",
    "    for i in range(temp.shape[1]):\n",
    "        temp[:, i] = model['v'][:, n_bar-1]\n",
    "import matplotlib as mpl\n",
    "import matplotlib.pyplot as plt\n",
    "mpl.rcParams['axes.spines.right'] = False\n",
    "mpl.rcParams['axes.spines.top'] = False\n",
    "mpl.rcParams['legend.frameon'] = False\n",
    "mpl.rcParams['lines.linewidth'] = 2\n",
    "mpl.rcParams['figure.facecolor'] = 'w'\n",
    "mpl.rcParams['figure.edgecolor'] = 'w'\n",
    "    v_i_short.append(temp)\n",
    "v_i_short = np.array(v_i_short)\n",
    "\n",
    "model_args = (δ, α, κ, μ_k, σ_k, θ, πc_o, σ_y, ξ_a, ξ_b, ξ_p, πd_o, v_i_short, γ_1, γ_2, theta, lambda_bar_second, vartheta_bar_second, y_bar_lower)\n",
    "model_pre_damage_post_second_tech = hjb_pre_damage_post_tech(k_grid, y_grid_short, model_args=model_args, v0=np.mean(v_i_short, axis=0),\n",
    "                                                             ϵ=1., fraction=.05, tol=1e-6, max_iter=2_000, print_iteration=True)"
   ]
  },
  {
   "cell_type": "code",
   "execution_count": null,
   "metadata": {},
   "outputs": [],
   "source": [
    "# Solve pre damage, post first tech models\n",
    "v_i_short = []\n",
    "for model in model_post_damage_post_first_tech:\n",
    "    temp = np.zeros((len(k_grid), len(y_grid_short)))\n",
    "    for i in range(temp.shape[1]):\n",
    "        temp[:, i] = model['v'][:, n_bar-1]\n",
    "    v_i_short.append(temp)\n",
    "v_i_short = np.array(v_i_short)\n",
    "\n",
    "model_args = (δ, α, κ, μ_k, σ_k, θ, πc_o, σ_y, ξ_a, ξ_b, ξ_g_second, ξ_p,\n",
    "              πd_o, v_i_short, I_g_second, model_pre_damage_post_second_tech['v'], γ_1, γ_2,\n",
    "              theta, lambda_bar_first, vartheta_bar_first, y_bar_lower)\n",
    "\n",
    "model_pre_damage_post_first_tech = hjb_pre_damage_pre_tech(k_grid, y_grid_short, model_args=model_args, v0=np.mean(v_i_short, axis=0),\n",
    "                                                           ϵ=.1, fraction=.05, tol=1e-6, max_iter=2_000, print_iteration=False)"
   ]
  },
  {
   "cell_type": "code",
   "execution_count": null,
   "metadata": {},
   "outputs": [],
   "source": [
    "# Solve pre damage, pre tech models\n",
    "v_i_short = []\n",
    "for model in model_post_damage_pre_tech:\n",
    "    temp = np.zeros((len(k_grid), len(y_grid_short)))\n",
    "    for i in range(temp.shape[1]):\n",
    "        temp[:, i] = model['v'][:, n_bar-1]\n",
    "    v_i_short.append(temp)\n",
    "v_i_short = np.array(v_i_short)\n",
    "\n",
    "model_args = (δ, α, κ, μ_k, σ_k, θ, πc_o, σ_y, ξ_a, ξ_b, ξ_g_first, ξ_p,\n",
    "              πd_o, v_i_short, I_g_first, model_pre_damage_post_first_tech['v'], γ_1, γ_2,\n",
    "              theta, lambda_bar, vartheta_bar, y_bar_lower)\n",
    "\n",
    "model_pre_damage_pre_tech = hjb_pre_damage_pre_tech(k_grid, y_grid_short, model_args=model_args, v0=np.mean(v_i_short, axis=0),\n",
    "                                                    ϵ=.1, fraction=.05, tol=1e-6, max_iter=2_000, print_iteration=False)"
   ]
  },
  {
   "cell_type": "markdown",
   "metadata": {},
   "source": [
    "## Distortion"
   ]
  },
  {
   "cell_type": "code",
   "execution_count": null,
   "metadata": {},
   "outputs": [],
   "source": [
    "# Case 1) : damage jump intensity & probability (no tech jump, no damage jump)\n",
    "T_plots = 50\n",
    "sim_args = (κ, μ_k, σ_k, np.mean(θ))\n",
    "et, kt, yt, _, gt, πct, ht = simulation_dice_prob(sim_args, k_grid, y_grid_short,\n",
    "                                      model_pre_damage_pre_tech['e'],\n",
    "                                      model_pre_damage_pre_tech['i'],\n",
    "                                      model_pre_damage_pre_tech['g'],\n",
    "                                      model_pre_damage_pre_tech['h'],\n",
    "                                      model_pre_damage_pre_tech['πc'],\n",
    "                                      K0=85/0.115, y0=1.1, T=T_plots)\n",
    "\n",
    "def damage_intensity(y, y_bar_lower):\n",
    "    r1 = 1.5\n",
    "    r2 = 2.5\n",
    "    return r1 * (np.exp(r2/2 * (y - y_bar_lower)**2) - 1) * (y >= y_bar_lower)\n",
    "\n",
    "intensity_dmg = damage_intensity(yt, y_bar_lower)\n",
    "intensity_distortion = np.mean(gt, axis=0)\n",
    "distorted_damage_probs = gt / np.mean(gt, axis=0) / n_model"
   ]
  },
  {
   "cell_type": "code",
   "execution_count": null,
   "metadata": {},
   "outputs": [],
   "source": [
    "np.save('new_intensity_dmg_baseline.npy', intensity_dmg)\n",
    "np.save(f'new_dmg_intensity_distort_baseline.npy', intensity_distortion)"
   ]
  },
  {
   "cell_type": "code",
   "execution_count": null,
   "metadata": {},
   "outputs": [],
   "source": [
    "# Case 2) : tech jump intensity & probability (no tech jump, no damage jump)\n",
    "T_plots = 50\n",
    "sim_args = (κ, μ_k, σ_k, np.mean(θ))\n",
    "_, kt, yt, _, gt_tech, _, _ = simulation_dice_prob(sim_args, k_grid, y_grid_short,\n",
    "                                      model_pre_damage_pre_tech['e'],\n",
    "                                      model_pre_damage_pre_tech['i'],\n",
    "                                      [model_pre_damage_pre_tech['g_tech']],\n",
    "                                      model_pre_damage_pre_tech['h'],\n",
    "                                      model_pre_damage_pre_tech['πc'],\n",
    "                                      K0=85/0.115, y0=1.1, T=T_plots)\n",
    "\n",
    "# Case 3) : tech jump intensity (tech jumped once, no damage jump)\n",
    "sim_args = (κ, μ_k, σ_k, np.mean(θ))\n",
    "_, kt_new, yt_new, _, gt_tech_new, _, _ = simulation_dice_prob(sim_args, k_grid, y_grid_short,\n",
    "                                      model_pre_damage_post_first_tech['e'],\n",
    "                                      model_pre_damage_post_first_tech['i'],\n",
    "                                      [model_pre_damage_post_first_tech['g_tech']],\n",
    "                                      model_pre_damage_post_first_tech['h'],\n",
    "                                      model_pre_damage_post_first_tech['πc'],\n",
    "                                      K0=np.exp(kt[arrival]), y0=yt[arrival], T=T_plots)"
   ]
  },
  {
   "cell_type": "code",
   "execution_count": null,
   "metadata": {},
   "outputs": [],
   "source": [
    "# Collect results\n",
    "np.save('new_gt_tech_baseline.npy', gt_tech[0])\n",
    "np.save('new_gt_tech_new_baseline.npy', gt_tech_new[0])"
   ]
  }
 ],
 "metadata": {
  "kernelspec": {
   "display_name": "Python 3",
   "language": "python",
   "name": "python3"
  },
  "language_info": {
   "codemirror_mode": {
    "name": "ipython",
    "version": 3
   },
   "file_extension": ".py",
   "mimetype": "text/x-python",
   "name": "python",
   "nbconvert_exporter": "python",
   "pygments_lexer": "ipython3",
   "version": "3.8.6"
  }
 },
 "nbformat": 4,
 "nbformat_minor": 4
}
