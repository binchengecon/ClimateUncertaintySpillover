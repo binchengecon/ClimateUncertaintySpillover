{
 "cells": [
  {
   "cell_type": "code",
   "execution_count": 1,
   "metadata": {},
   "outputs": [],
   "source": [
    "def PDESolver_nd(stateSpace, A, B, C, D, v0, ε = 1, tol = -10, smartguess = False, solverType = 'False Transient'):\n",
    "\n",
    "    if solverType == 'False Transient':\n",
    "        A = A.reshape(-1,1  , order = 'F')\n",
    "        B = B.reshape(-1,1  , order = 'F')\n",
    "        C = C.reshape(-1,1  , order = 'F')\n",
    "        D = D.reshape(-1,1  , order = 'F')\n",
    "        v0 = v0.reshape(-1,1,order = 'F')\n",
    "        out = SolveLinSys.solveFT(stateSpace, A, B, C, D, v0, ε, tol)\n",
    "\n",
    "        return out\n",
    "\n",
    "    elif solverType == 'Feyman Kac':\n",
    "\n",
    "        if smartguess:\n",
    "            iters = 1\n",
    "        else:\n",
    "            iters = 400000\n",
    "\n",
    "        A = A.reshape(-1, 1, order='F')\n",
    "        B = np.hstack([B_r.reshape(-1, 1, order='F'), B_f.reshape(-1, 1, order='F')])\n",
    "        C = np.hstack([C_rr.reshape(-1, 1, order='F'), C_ff.reshape(-1, 1, order='F')])\n",
    "        D = D.reshape(-1, 1, order='F')\n",
    "        v0 = v0.reshape(-1, 1, order='F')\n",
    "        out = SolveLinSys.solveFK(stateSpace, A, B, C, D, v0, iters)\n",
    "        return out"
   ]
  },
  {
   "cell_type": "code",
   "execution_count": null,
   "metadata": {},
   "outputs": [],
   "source": []
  }
 ],
 "metadata": {
  "kernelspec": {
   "display_name": "Python 3",
   "language": "python",
   "name": "python3"
  },
  "language_info": {
   "codemirror_mode": {
    "name": "ipython",
    "version": 3
   },
   "file_extension": ".py",
   "mimetype": "text/x-python",
   "name": "python",
   "nbconvert_exporter": "python",
   "pygments_lexer": "ipython3",
   "version": "3.8.5"
  }
 },
 "nbformat": 4,
 "nbformat_minor": 4
}
